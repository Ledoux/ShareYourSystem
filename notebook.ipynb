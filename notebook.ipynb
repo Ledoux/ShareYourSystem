{
 "metadata": {
  "name": "",
  "signature": "sha256:863e606b193d50daaeb7f81d51b06a1169ba4fed38ba1cf9fbbcd72cc35f5429"
 },
 "nbformat": 3,
 "nbformat_minor": 0,
 "worksheets": [
  {
   "cells": [
    {
     "cell_type": "code",
     "collapsed": false,
     "input": [
      "import numpy as np\n",
      "\n",
      "\n",
      "mpld3.enable_notebook()"
     ],
     "language": "python",
     "metadata": {},
     "outputs": [],
     "prompt_number": 12
    },
    {
     "cell_type": "code",
     "collapsed": false,
     "input": [
      "np.random.seed(0)\n",
      "plt.plot(np.random.rand(10));"
     ],
     "language": "python",
     "metadata": {},
     "outputs": [
      {
       "html": [
        "\n",
        "\n",
        "<style>\n",
        "\n",
        "</style>\n",
        "\n",
        "<div id=\"fig_el54344102169126240533505\"></div>\n",
        "<script>\n",
        "function mpld3_load_lib(url, callback){\n",
        "  var s = document.createElement('script');\n",
        "  s.src = url;\n",
        "  s.async = true;\n",
        "  s.onreadystatechange = s.onload = callback;\n",
        "  s.onerror = function(){console.warn(\"failed to load library \" + url);};\n",
        "  document.getElementsByTagName(\"head\")[0].appendChild(s);\n",
        "}\n",
        "\n",
        "if(typeof(mpld3) !== \"undefined\" && mpld3._mpld3IsLoaded){\n",
        "   // already loaded: just create the figure\n",
        "   !function(mpld3){\n",
        "       \n",
        "       mpld3.draw_figure(\"fig_el54344102169126240533505\", {\"axes\": [{\"xlim\": [0.0, 9.0], \"yscale\": \"linear\", \"axesbg\": \"#FFFFFF\", \"texts\": [], \"zoomable\": true, \"images\": [], \"xdomain\": [0.0, 9.0], \"ylim\": [0.30000000000000004, 1.0], \"paths\": [], \"sharey\": [], \"sharex\": [], \"axesbgalpha\": null, \"axes\": [{\"scale\": \"linear\", \"tickformat\": null, \"grid\": {\"gridOn\": false}, \"fontsize\": 10.0, \"position\": \"bottom\", \"nticks\": 10, \"tickvalues\": null}, {\"scale\": \"linear\", \"tickformat\": null, \"grid\": {\"gridOn\": false}, \"fontsize\": 10.0, \"position\": \"left\", \"nticks\": 8, \"tickvalues\": null}], \"lines\": [{\"color\": \"#0000FF\", \"yindex\": 1, \"coordinates\": \"data\", \"dasharray\": \"10,0\", \"zorder\": 2, \"alpha\": 1, \"xindex\": 0, \"linewidth\": 1.0, \"data\": \"data01\", \"id\": \"el5434410846928\"}], \"markers\": [], \"id\": \"el5434410218512\", \"ydomain\": [0.30000000000000004, 1.0], \"collections\": [], \"xscale\": \"linear\", \"bbox\": [0.125, 0.125, 0.77500000000000002, 0.77500000000000002]}], \"height\": 320.0, \"width\": 480.0, \"plugins\": [{\"type\": \"reset\"}, {\"enabled\": false, \"button\": true, \"type\": \"zoom\"}, {\"enabled\": false, \"button\": true, \"type\": \"boxzoom\"}], \"data\": {\"data01\": [[0.0, 0.5488135039273248], [1.0, 0.7151893663724195], [2.0, 0.6027633760716439], [3.0, 0.5448831829968969], [4.0, 0.4236547993389047], [5.0, 0.6458941130666561], [6.0, 0.4375872112626925], [7.0, 0.8917730007820798], [8.0, 0.9636627605010293], [9.0, 0.3834415188257777]]}, \"id\": \"el5434410216912\"});\n",
        "   }(mpld3);\n",
        "}else if(typeof define === \"function\" && define.amd){\n",
        "   // require.js is available: use it to load d3/mpld3\n",
        "   require.config({paths: {d3: \"https://mpld3.github.io/js/d3.v3.min\"}});\n",
        "   require([\"d3\"], function(d3){\n",
        "      window.d3 = d3;\n",
        "      mpld3_load_lib(\"https://mpld3.github.io/js/mpld3.v0.2.js\", function(){\n",
        "         \n",
        "         mpld3.draw_figure(\"fig_el54344102169126240533505\", {\"axes\": [{\"xlim\": [0.0, 9.0], \"yscale\": \"linear\", \"axesbg\": \"#FFFFFF\", \"texts\": [], \"zoomable\": true, \"images\": [], \"xdomain\": [0.0, 9.0], \"ylim\": [0.30000000000000004, 1.0], \"paths\": [], \"sharey\": [], \"sharex\": [], \"axesbgalpha\": null, \"axes\": [{\"scale\": \"linear\", \"tickformat\": null, \"grid\": {\"gridOn\": false}, \"fontsize\": 10.0, \"position\": \"bottom\", \"nticks\": 10, \"tickvalues\": null}, {\"scale\": \"linear\", \"tickformat\": null, \"grid\": {\"gridOn\": false}, \"fontsize\": 10.0, \"position\": \"left\", \"nticks\": 8, \"tickvalues\": null}], \"lines\": [{\"color\": \"#0000FF\", \"yindex\": 1, \"coordinates\": \"data\", \"dasharray\": \"10,0\", \"zorder\": 2, \"alpha\": 1, \"xindex\": 0, \"linewidth\": 1.0, \"data\": \"data01\", \"id\": \"el5434410846928\"}], \"markers\": [], \"id\": \"el5434410218512\", \"ydomain\": [0.30000000000000004, 1.0], \"collections\": [], \"xscale\": \"linear\", \"bbox\": [0.125, 0.125, 0.77500000000000002, 0.77500000000000002]}], \"height\": 320.0, \"width\": 480.0, \"plugins\": [{\"type\": \"reset\"}, {\"enabled\": false, \"button\": true, \"type\": \"zoom\"}, {\"enabled\": false, \"button\": true, \"type\": \"boxzoom\"}], \"data\": {\"data01\": [[0.0, 0.5488135039273248], [1.0, 0.7151893663724195], [2.0, 0.6027633760716439], [3.0, 0.5448831829968969], [4.0, 0.4236547993389047], [5.0, 0.6458941130666561], [6.0, 0.4375872112626925], [7.0, 0.8917730007820798], [8.0, 0.9636627605010293], [9.0, 0.3834415188257777]]}, \"id\": \"el5434410216912\"});\n",
        "      });\n",
        "    });\n",
        "}else{\n",
        "    // require.js not available: dynamically load d3 & mpld3\n",
        "    mpld3_load_lib(\"https://mpld3.github.io/js/d3.v3.min.js\", function(){\n",
        "         mpld3_load_lib(\"https://mpld3.github.io/js/mpld3.v0.2.js\", function(){\n",
        "                 \n",
        "                 mpld3.draw_figure(\"fig_el54344102169126240533505\", {\"axes\": [{\"xlim\": [0.0, 9.0], \"yscale\": \"linear\", \"axesbg\": \"#FFFFFF\", \"texts\": [], \"zoomable\": true, \"images\": [], \"xdomain\": [0.0, 9.0], \"ylim\": [0.30000000000000004, 1.0], \"paths\": [], \"sharey\": [], \"sharex\": [], \"axesbgalpha\": null, \"axes\": [{\"scale\": \"linear\", \"tickformat\": null, \"grid\": {\"gridOn\": false}, \"fontsize\": 10.0, \"position\": \"bottom\", \"nticks\": 10, \"tickvalues\": null}, {\"scale\": \"linear\", \"tickformat\": null, \"grid\": {\"gridOn\": false}, \"fontsize\": 10.0, \"position\": \"left\", \"nticks\": 8, \"tickvalues\": null}], \"lines\": [{\"color\": \"#0000FF\", \"yindex\": 1, \"coordinates\": \"data\", \"dasharray\": \"10,0\", \"zorder\": 2, \"alpha\": 1, \"xindex\": 0, \"linewidth\": 1.0, \"data\": \"data01\", \"id\": \"el5434410846928\"}], \"markers\": [], \"id\": \"el5434410218512\", \"ydomain\": [0.30000000000000004, 1.0], \"collections\": [], \"xscale\": \"linear\", \"bbox\": [0.125, 0.125, 0.77500000000000002, 0.77500000000000002]}], \"height\": 320.0, \"width\": 480.0, \"plugins\": [{\"type\": \"reset\"}, {\"enabled\": false, \"button\": true, \"type\": \"zoom\"}, {\"enabled\": false, \"button\": true, \"type\": \"boxzoom\"}], \"data\": {\"data01\": [[0.0, 0.5488135039273248], [1.0, 0.7151893663724195], [2.0, 0.6027633760716439], [3.0, 0.5448831829968969], [4.0, 0.4236547993389047], [5.0, 0.6458941130666561], [6.0, 0.4375872112626925], [7.0, 0.8917730007820798], [8.0, 0.9636627605010293], [9.0, 0.3834415188257777]]}, \"id\": \"el5434410216912\"});\n",
        "            })\n",
        "         });\n",
        "}\n",
        "</script>"
       ],
       "metadata": {},
       "output_type": "display_data",
       "png": "[encoded data removed]",
       "text": [
        "<matplotlib.figure.Figure at 0x106de91d0>"
       ]
      }
     ],
     "prompt_number": 3
    },
    {
     "cell_type": "code",
     "collapsed": false,
     "input": [
      "import mpld3\n",
      "from mpld3 import plugins\n",
      "import matplotlib.pyplot as plt\n",
      "#%matplotlib inline\n",
      "#mpld3.enable_notebook()\n",
      "class HelloWorld(plugins.PluginBase):  # inherit from PluginBase\n",
      "    \"\"\"Hello World plugin\"\"\"\n",
      "    \n",
      "    JAVASCRIPT = \"\"\"\n",
      "    mpld3.register_plugin(\"helloworld\", HelloWorld);\n",
      "    HelloWorld.prototype = Object.create(mpld3.Plugin.prototype);\n",
      "    HelloWorld.prototype.constructor = HelloWorld;\n",
      "    function HelloWorld(fig, props){\n",
      "        mpld3.Plugin.call(this, fig, props);\n",
      "    };\n",
      "    \n",
      "    HelloWorld.prototype.draw = function(){\n",
      "        this.fig.canvas.append(\"text\")\n",
      "            .text(\"hello world\")\n",
      "            .style(\"font-size\", 72)\n",
      "            .style(\"opacity\", 0.3)\n",
      "            .style(\"text-anchor\", \"middle\")\n",
      "            .attr(\"x\", this.fig.width / 2)\n",
      "            .attr(\"y\", this.fig.height / 2)\n",
      "    }\n",
      "    \"\"\"\n",
      "    def __init__(self):\n",
      "        self.dict_ = {\"type\": \"helloworld\"}\n",
      "        \n",
      "fig, ax = plt.subplots();\n",
      "plugins.connect(fig, HelloWorld())"
     ],
     "language": "python",
     "metadata": {},
     "outputs": [],
     "prompt_number": 1
    },
    {
     "cell_type": "code",
     "collapsed": false,
     "input": [
      "from IPython.display import HTML\n",
      "MyHTML=mpld3.fig_to_html(fig, template_type=\"simple\")\n",
      "print(MyHTML)"
     ],
     "language": "python",
     "metadata": {},
     "outputs": [
      {
       "output_type": "stream",
       "stream": "stdout",
       "text": [
        "\n",
        "<script type=\"text/javascript\" src=\"https://mpld3.github.io/js/d3.v3.min.js\"></script>\n",
        "<script type=\"text/javascript\" src=\"https://mpld3.github.io/js/mpld3.v0.2.js\"></script>\n",
        "\n",
        "<style>\n",
        "\n",
        "</style>\n",
        "\n",
        "<div id=\"fig_el66145413226407790496189\"></div>\n",
        "<script type=\"text/javascript\">\n",
        "\n",
        "  !function(mpld3){\n",
        "       \n",
        "    mpld3.register_plugin(\"helloworld\", HelloWorld);\n",
        "    HelloWorld.prototype = Object.create(mpld3.Plugin.prototype);\n",
        "    HelloWorld.prototype.constructor = HelloWorld;\n",
        "    function HelloWorld(fig, props){\n",
        "        mpld3.Plugin.call(this, fig, props);\n",
        "    };\n",
        "    \n",
        "    HelloWorld.prototype.draw = function(){\n",
        "        this.fig.canvas.append(\"text\")\n",
        "            .text(\"hello world\")\n",
        "            .style(\"font-size\", 72)\n",
        "            .style(\"opacity\", 0.3)\n",
        "            .style(\"text-anchor\", \"middle\")\n",
        "            .attr(\"x\", this.fig.width / 2)\n",
        "            .attr(\"y\", this.fig.height / 2)\n",
        "    }\n",
        "    \n",
        "       mpld3.draw_figure(\"fig_el66145413226407790496189\", {\"axes\": [{\"xlim\": [0.0, 1.0], \"yscale\": \"linear\", \"axesbg\": \"#FFFFFF\", \"texts\": [], \"zoomable\": true, \"images\": [], \"xdomain\": [0.0, 1.0], \"ylim\": [0.0, 1.0], \"paths\": [], \"sharey\": [], \"sharex\": [], \"axesbgalpha\": null, \"axes\": [{\"scale\": \"linear\", \"tickformat\": null, \"grid\": {\"gridOn\": false}, \"fontsize\": 12.0, \"position\": \"bottom\", \"nticks\": 6, \"tickvalues\": null}, {\"scale\": \"linear\", \"tickformat\": null, \"grid\": {\"gridOn\": false}, \"fontsize\": 12.0, \"position\": \"left\", \"nticks\": 6, \"tickvalues\": null}], \"lines\": [], \"markers\": [], \"id\": \"el6614541324112\", \"ydomain\": [0.0, 1.0], \"collections\": [], \"xscale\": \"linear\", \"bbox\": [0.125, 0.099999999999999978, 0.77500000000000002, 0.80000000000000004]}], \"height\": 480.0, \"width\": 640.0, \"plugins\": [{\"type\": \"reset\"}, {\"enabled\": false, \"button\": true, \"type\": \"zoom\"}, {\"enabled\": false, \"button\": true, \"type\": \"boxzoom\"}, {\"type\": \"helloworld\"}], \"data\": {}, \"id\": \"el6614541322640\"});\n",
        "  }(mpld3);\n",
        "\n",
        "\n",
        "</script>\n"
       ]
      }
     ],
     "prompt_number": 3
    },
    {
     "cell_type": "code",
     "collapsed": false,
     "input": [],
     "language": "python",
     "metadata": {},
     "outputs": []
    }
   ],
   "metadata": {}
  }
 ]
}