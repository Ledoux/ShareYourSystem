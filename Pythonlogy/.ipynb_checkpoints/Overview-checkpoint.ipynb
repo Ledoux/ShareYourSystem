{
 "metadata": {
  "name": "",
  "signature": "sha256:52d80e4aae306c473768507225b63a225f65c334867ed280e435d71f0140d400"
 },
 "nbformat": 3,
 "nbformat_minor": 0,
 "worksheets": [
  {
   "cells": [
    {
     "cell_type": "code",
     "collapsed": false,
     "input": [
      "#/###################/#\n",
      "# Global config\n",
      "#\n",
      "\n",
      "#ImportModules\n",
      "import ShareYourSystem as SYS\n",
      "import os\n",
      "print(SYS.__file__)\n",
      "\n",
      "\"\"\"\n",
      "#style\n",
      "from IPython import utils\n",
      "from IPython.core.display import HTML,display\n",
      "base = utils.path.get_ipython_dir()\n",
      "styles = \"<style>\\n%s\\n</style>\" % (open('/Users/ledoux/Documents/Predinetwork/custom.css','r').read())\n",
      "display(HTML(styles))\n",
      "\n",
      "#SYS config\n",
      "SYS.DebugPrintBool=False\n",
      "\n",
      "#Backend plot config\n",
      "%pylab inline\n",
      "\"\"\""
     ],
     "language": "python",
     "metadata": {},
     "outputs": [
      {
       "output_type": "stream",
       "stream": "stdout",
       "text": [
        "ShareYourSystem/__init__.py\n"
       ]
      },
      {
       "metadata": {},
       "output_type": "pyout",
       "prompt_number": 3,
       "text": [
        "'\\n#style\\nfrom IPython import utils\\nfrom IPython.core.display import HTML,display\\nbase = utils.path.get_ipython_dir()\\nstyles = \"<style>\\n%s\\n</style>\" % (open(\\'/Users/ledoux/Documents/Predinetwork/custom.css\\',\\'r\\').read())\\ndisplay(HTML(styles))\\n\\n#SYS config\\nSYS.DebugPrintBool=False\\n\\n#Backend plot config\\n%pylab inline\\n'"
       ]
      }
     ],
     "prompt_number": 3
    },
    {
     "cell_type": "markdown",
     "metadata": {},
     "source": [
      "SYS proposes an API that builds architectures of objects like a JSON interface."
     ]
    },
    {
     "cell_type": "code",
     "collapsed": false,
     "input": [
      "#/###################/#\n",
      "# Import modules\n",
      "#\n",
      "\n",
      "#ImportModules\n",
      "import ShareYourSystem as SYS\n",
      "\n",
      "#/###################/#\n",
      "# Build a neural network model\n",
      "#\n",
      "\n",
      "#Define\n",
      "MyLeaker=SYS.LeakerClass(\n",
      "    ).mapSet(\n",
      "        {\n",
      "            '-Populations':{\n",
      "                '|E':{\n",
      "                    'LeakingUnitsInt':10,\n",
      "                    'LeakingSymbolPrefixStr':'V',\n",
      "                    '-Inputs':{\n",
      "                        '|Rest':{\n",
      "                            'LeakingWeigthVariable':'#scalar:-60*mV'\n",
      "                        },\n",
      "                        '|External':{\n",
      "                            'LeakingWeigthVariable':'#scalar:11*mV'\n",
      "                        }\n",
      "                    },\n",
      "                    'LeakingNoiseStdVariable':0.1,\n",
      "                    'LeakingThresholdVariable':'#scalar:V>-50*mV',\n",
      "                    'LeakingResetVariable':-70.,\n",
      "                    '-Interactions':{\n",
      "                        '|/':{\n",
      "                            'BrianingDebugVariable':100,\n",
      "                            'LeakingWeigthVariable':\"#array\",\n",
      "                            'LeakingInteractionStr':\"Spike\"\n",
      "                        }\n",
      "                    },\n",
      "                    'RecordingLabelVariable':[0,1]\n",
      "                    #'BrianingDebugVariable':100\n",
      "                }\n",
      "            }\n",
      "        }\n",
      "    ).leak(\n",
      "    )"
     ],
     "language": "python",
     "metadata": {},
     "outputs": [
      {
       "output_type": "stream",
       "stream": "stdout",
       "text": [
        "                                                                                                        \n",
        "                                                                                                        xxxxxxxxxxxxxxxxxxxxxxxxxxxxxxxxxxxxxxxxxxxxxxxxxxxxxxxxxxxxxxxxxxxxxxxxxxxxxxxxxxxxxxxxxxxx\n",
        "                                                                                                        ////////////////////////////////\n",
        "                                                                                                        Leaker/__init__.py brianSample\n",
        "                                                                                                        From Leaker/__init__.py brianSample | Brianer/__init__.py do_brian | Setter/__init__.py setAttrOrCall | Commander/__init__.py do_command | Commander/__init__.py do_command | Commander/__init__.py do_command | Commander/__init__.py do_command | Commander/__init__.py do_command | Commander/__init__.py do_command | Structurer/__init__.py do_structure | Leaker/__init__.py do_leak | <ipython-input-1-da07795dc750> <module> | core/interactiveshell.py run_code | core/interactiveshell.py run_ast_nodes | core/interactiveshell.py run_cell | zmq/ipkernel.py execute_request | zmq/ipkernel.py dispatch_shell | zmq/ipkernel.py dispatcher | minitornado/stack_context.py wrapped | eventloop/zmqstream.py _run_callback | eventloop/zmqstream.py _handle_recv | eventloop/zmqstream.py _handle_events | tornado/stack_context.py null_wrapper | tornado/ioloop.py start | eventloop/ioloop.py start | zmq/kernelapp.py start | zmq/kernelapp.py main\n",
        "                                                                                                        ////////////////////////////////\n",
        "                                                                                                        \n",
        "                                                                                                        l.3924 : \n",
        "                                                                                                        *****\n",
        "                                                                                                        I am with [('ManagementTagStr', 'Default'), ('ParentTagStr', '_Top_Populations_E_Traces_*V_Samples_Default'), ('StructureTagStr', 'Top_Populations_E_Traces_*V_Samples_Default'), ('ParentTeamTagStr', 'Samples'), ('ParentGrandManagementTagStr', '*V')], 4520747664 \n",
        "                                                                                                        *****\n",
        "                                                                                                        We brian sample leak here\n",
        "                                                                                                        self.ParentTagStr is _Top_Populations_E_Traces_*V_Samples_Default\n",
        "                                                                                                        \n",
        "                                                                                                        self.LeakedParentPopulationDeriveLeakerVariable.LeakedInputKeyStrsList is \n",
        "                                                                                                        []\n",
        "                                                                                                        xxxxxxxxxxxxxxxxxxxxxxxxxxxxxxxxxxxxxxxxxxxxxxxxxxxxxxxxxxxxxxxxxxxxxxxxxxxxxxxxxxxxxxxxxxxx\n",
        "                                                                                                                                                                                                                \n"
       ]
      }
     ],
     "prompt_number": 1
    },
    {
     "cell_type": "code",
     "collapsed": false,
     "input": [],
     "language": "python",
     "metadata": {},
     "outputs": []
    }
   ],
   "metadata": {}
  }
 ]
}