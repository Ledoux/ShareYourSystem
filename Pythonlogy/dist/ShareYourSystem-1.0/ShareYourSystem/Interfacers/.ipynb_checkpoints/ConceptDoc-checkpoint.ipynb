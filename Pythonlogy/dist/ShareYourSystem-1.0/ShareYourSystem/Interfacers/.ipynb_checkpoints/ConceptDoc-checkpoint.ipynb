{
  "nbformat": 3, 
  "worksheets": [
    {
      "cells": [
        {
          "source": "\n<!--\nFrozenIsBool False\n-->\n\n#Capturer\n\n----------------------- ------------------------------------\n\n\n\n@Date : Fri Nov 14 13:20:38 2014 \n\n@Author : Erwan Ledoux \n\n\n\nThe Installer directs a readme call in a ShareYourSystem directory. \n\n\n\n----------------------------------------------------------------\n\n\nView the Capturer sources on [Github](https://github.com/Ledoux/ShareYourSystem/tree/master/ShareYourSystem.Guiders.Informer)\n\n", 
          "cell_type": "markdown", 
          "prompt_number": 0, 
          "metadata": {
            "slideshow": {
              "slide_type": "slide"
            }
          }
        }, 
        {
          "source": "\n<!---\nFrozenIsBool True\n-->\n\n##Example\n\nLet's create an empty class, which will automatically receive\nspecial attributes from the decorating ClassorClass,\nspecially the NameStr, that should be the ClassStr\nwithout the TypeStr in the end.", 
          "cell_type": "markdown", 
          "prompt_number": 1, 
          "metadata": {
            "slideshow": {
              "slide_type": "subslide"
            }
          }
        }, 
        {
          "cell_type": "code", 
          "language": "python", 
          "outputs": [
            {
              "output_type": "stream", 
              "stream": "stdout", 
              "text": [
                "Y a quelqu un?\n", 
                "\n", 
                "\n", 
                "*****Start of the Attest *****\n", 
                "\n", 
                "MyCapturer is < (CapturerClass), 4370318992>\n", 
                "   /{ \n", 
                "   /  '<New><Instance>IdStr' : 4370318992\n", 
                "   /  '<New><Instance>_CapturingStopBool' : True\n", 
                "   /  '<Spe><Class>CapturingStopBool' : True\n", 
                "   /  '<Spe><Instance>CapturedPrintStrsList' : ['Hello !', 'Bonjour !']\n", 
                "   /  '<Spe><Instance>CapturedStdoutVariable' : <cStringIO.StringO object at 0x1047d5650>\n", 
                "   /}\n", 
                "\n", 
                "*****End of the Attest *****\n", 
                "\n", 
                "\n"
              ]
            }
          ], 
          "collapsed": false, 
          "prompt_number": 2, 
          "input": [
            "#ImportModules\n", 
            "import ShareYourSystem as SYS\n", 
            "from ShareYourSystem.Interfacers import Capturer\n", 
            "\n", 
            "#Definition a Capturer\n", 
            "MyCapturer=Capturer.CapturerClass().capture()\n", 
            "print('Hello !')\n", 
            "print('Bonjour !')\n", 
            "MyCapturer.CapturingStopBool=True\n", 
            "print('Y a quelqu un?')\n", 
            "\n", 
            "#Definition the AttestedStr\n", 
            "SYS._attest(\n", 
            "\t[\n", 
            "\t\t'MyCapturer is '+SYS._str(\n", 
            "\t\tMyCapturer,\n", 
            "\t\t**{\n", 
            "\t\t\t'RepresentingBaseKeyStrsListBool':False\n", 
            "\t\t}\n", 
            "\t\t)\n", 
            "\t]\n", 
            ")  \n", 
            "\n", 
            "#Print\n", 
            "\n", 
            "\n", 
            "\n", 
            "\n"
          ], 
          "metadata": {
            "slideshow": {
              "slide_type": "-"
            }
          }
        }, 
        {
          "source": "\n<!--\nFrozenIsBool False\n-->\n\n#Closer\n\n----------------------- ------------------------------------\n\n\n\n@Date : Fri Nov 14 13:20:38 2014 \n\n@Author : Erwan Ledoux \n\n\n\nThe Installer directs a readme call in a ShareYourSystem directory. \n\n\n\n----------------------------------------------------------------\n\n\nView the Closer sources on [Github](https://github.com/Ledoux/ShareYourSystem/tree/master/ShareYourSystem.Guiders.Informer)\n\n", 
          "cell_type": "markdown", 
          "prompt_number": 0, 
          "metadata": {
            "slideshow": {
              "slide_type": "slide"
            }
          }
        }, 
        {
          "source": "\n<!---\nFrozenIsBool True\n-->\n\n##Example\n\nLet's create an empty class, which will automatically receive\nspecial attributes from the decorating ClassorClass,\nspecially the NameStr, that should be the ClassStr\nwithout the TypeStr in the end.", 
          "cell_type": "markdown", 
          "prompt_number": 1, 
          "metadata": {
            "slideshow": {
              "slide_type": "subslide"
            }
          }
        }, 
        {
          "cell_type": "code", 
          "language": "python", 
          "outputs": [
            {
              "output_type": "stream", 
              "stream": "stdout", 
              "text": [
                "\n", 
                "\n", 
                "*****Start of the Attest *****\n", 
                "\n", 
                "MyCloser is < (CloserClass), 4370320464>\n", 
                "   /{ \n", 
                "   /  '<New><Instance>IdStr' : 4370320464\n", 
                "   /}\n", 
                "\n", 
                "*****End of the Attest *****\n", 
                "\n", 
                "\n"
              ]
            }
          ], 
          "collapsed": false, 
          "prompt_number": 2, 
          "input": [
            "#ImportModules\n", 
            "import ShareYourSystem as SYS\n", 
            "from ShareYourSystem.Interfacers import Closer\n", 
            "\n", 
            "#Definition of an instance Closer and make it find the current dir\n", 
            "MyCloser=Closer.CloserClass().file('MyFile.txt','w').close()\n", 
            "\t\n", 
            "#Definition the AttestedStr\n", 
            "SYS._attest(\n", 
            "\t[\n", 
            "\t\t'MyCloser is '+SYS._str(\n", 
            "\t\t\tMyCloser,\n", 
            "\t\t\t**{\n", 
            "\t\t\t\t'RepresentingAlineaIsBool':False\n", 
            "\t\t\t}\n", 
            "\t\t)\n", 
            "\t]\n", 
            ") \n", 
            "\n", 
            "#Print\n", 
            "\n", 
            "\n"
          ], 
          "metadata": {
            "slideshow": {
              "slide_type": "-"
            }
          }
        }, 
        {
          "source": "\n<!--\nFrozenIsBool False\n-->\n\n#Deployer\n\n----------------------- ------------------------------------\n\n\n\n@Date : Fri Nov 14 13:20:38 2014 \n\n@Author : Erwan Ledoux \n\n\n\nThe Installer directs a readme call in a ShareYourSystem directory. \n\n\n\n----------------------------------------------------------------\n\n\nView the Deployer sources on [Github](https://github.com/Ledoux/ShareYourSystem/tree/master/ShareYourSystem.Guiders.Informer)\n\n", 
          "cell_type": "markdown", 
          "prompt_number": 0, 
          "metadata": {
            "slideshow": {
              "slide_type": "slide"
            }
          }
        }, 
        {
          "cell_type": "code", 
          "language": "python", 
          "outputs": [
            {
              "output_type": "stream", 
              "stream": "stdout", 
              "text": [
                "Doer l.132 : DoerStr is Deployer\n", 
                "DoStr is Deploy\n", 
                "DoMethodStr is deploy\n", 
                "DoingStr is Deploying\n", 
                "DoneStr is Deployed\n", 
                "\n", 
                "\n", 
                "\n", 
                "*****Start of the Attest *****\n", 
                "\n", 
                "MyDeployer is < (DeployerClass), 4370318800>\n", 
                "   /{ \n", 
                "   /  '<New><Instance>IdStr' : 4370318800\n", 
                "   /  '<Spe><Class>DeployingFolderPathStr' : /httpdocs/reveal/\n", 
                "   /  '<Spe><Class>DeployingLoginStr' : shareyoursystemyl\n", 
                "   /  '<Spe><Class>DeployingPwdStr' : share\n", 
                "   /  '<Spe><Class>DeployingUrlStr' : ftp.ouvaton.coop\n", 
                "   /  '<Spe><Instance>DeployedDirKeyStrsList' : ['/httpdocs/reveal/Test2.html', '/httpdocs/reveal/plugin', '/httpdocs/reveal/Test copy.html', '/httpdocs/reveal/test', '/httpdocs/reveal/lib', '/httpdocs/reveal/_index.html', '/httpdocs/reveal/Test.html', '/httpdocs/reveal/README.md', '/httpdocs/reveal/package.json', '/httpdocs/reveal/css', '/httpdocs/reveal/js', '/httpdocs/reveal/Gruntfile.js']\n", 
                "   /  '<Spe><Instance>DeployedFtplibVariable' : <ftplib.FTP instance at 0x1047d47a0>\n", 
                "   /  '<Spe><Instance>DeployingClientFilePathStrsList' : ['/Users/ledoux/Documents/ShareYourSystem/reveal/_index.html', '/Users/ledoux/Documents/ShareYourSystem/reveal/Test copy.html', '/Users/ledoux/Documents/ShareYourSystem/reveal/Test.html', '/Users/ledoux/Documents/ShareYourSystem/reveal/Test2.html']\n", 
                "   /}\n", 
                "\n", 
                "*****End of the Attest *****\n", 
                "\n", 
                "\n"
              ]
            }
          ], 
          "collapsed": false, 
          "prompt_number": 1, 
          "input": [
            "#ImportModules\n", 
            "import ShareYourSystem as SYS\n", 
            "from ShareYourSystem.Tools import Tool\n", 
            "from ShareYourSystem.Interfacers import Folderer,Deployer\n", 
            "\n", 
            "#Definition a Deployer\n", 
            "MyDeployer=Deployer.DeployerClass().deploy(\n", 
            "\t_ClientFilePathStrsList=map(\n", 
            "\t\tlambda __DirKeyStr:\n", 
            "\t\tSYS.ShareYourSystemLocalFolderPathStr+'/reveal/'+__DirKeyStr,\n", 
            "\t\tSYS._filter(\n", 
            "\t\t\tlambda __DirKeyStr:\n", 
            "\t\t\t__DirKeyStr.endswith('.html'),\n", 
            "\t\t\tFolderer.FoldererClass().folder(\n", 
            "\t\t\t\tSYS.ShareYourSystemLocalFolderPathStr+'/reveal/'\n", 
            "\t\t\t).FolderedDirKeyStrsList\n", 
            "\t\t)\n", 
            "\t)\n", 
            ")\n", 
            "\n", 
            "#Definition the AttestedStr\n", 
            "SYS._attest(\n", 
            "\t[\n", 
            "\t\t'MyDeployer is '+SYS._str(\n", 
            "\t\tMyDeployer,\n", 
            "\t\t**{\n", 
            "\t\t\t'RepresentingBaseKeyStrsListBool':False,\n", 
            "\t\t\t'RepresentingAlineaIsBool':False\n", 
            "\t\t}\n", 
            "\t\t)\n", 
            "\t]\n", 
            ")  \n", 
            "\n", 
            "#Print\n", 
            "\n", 
            "\n", 
            "\n", 
            "\n"
          ], 
          "metadata": {
            "slideshow": {
              "slide_type": "subslide"
            }
          }
        }, 
        {
          "source": "\n<!--\nFrozenIsBool False\n-->\n\n#Directer\n\n----------------------- ------------------------------------\n\n\n\n@Date : Fri Nov 14 13:20:38 2014 \n\n@Author : Erwan Ledoux \n\n\n\nThe Installer directs a readme call in a ShareYourSystem directory. \n\n\n\n----------------------------------------------------------------\n\n\nView the Directer sources on [Github](https://github.com/Ledoux/ShareYourSystem/tree/master/ShareYourSystem.Guiders.Informer)\n\n", 
          "cell_type": "markdown", 
          "prompt_number": 0, 
          "metadata": {
            "slideshow": {
              "slide_type": "slide"
            }
          }
        }, 
        {
          "source": "\n<!---\nFrozenIsBool True\n-->\n\n##Example\n\nLet's create an empty class, which will automatically receive\nspecial attributes from the decorating ClassorClass,\nspecially the NameStr, that should be the ClassStr\nwithout the TypeStr in the end.", 
          "cell_type": "markdown", 
          "prompt_number": 1, 
          "metadata": {
            "slideshow": {
              "slide_type": "subslide"
            }
          }
        }, 
        {
          "cell_type": "code", 
          "language": "python", 
          "outputs": [
            {
              "output_type": "stream", 
              "stream": "stdout", 
              "text": [
                "\n", 
                "\n", 
                "*****Start of the Attest *****\n", 
                "\n", 
                "MyDirecter is < (DirecterClass), 4370522960>\n", 
                "   /{ \n", 
                "   /  '<New><Instance>IdStr' : 4370522960\n", 
                "   /  '<Spe><Class>DirectingFilterFunctionPointer' : None\n", 
                "   /  '<Spe><Instance>DirectingCallbackFunction' : <function delete at 0x1048132a8>\n", 
                "   /  '<Spe><Instance>DirectingLiargVariablesList' : []\n", 
                "   /}\n", 
                "\n", 
                "*****End of the Attest *****\n", 
                "\n", 
                "\n"
              ]
            }
          ], 
          "collapsed": false, 
          "prompt_number": 2, 
          "input": [
            "\n", 
            "#ImportModules\n", 
            "import ShareYourSystem as SYS\n", 
            "from ShareYourSystem.Interfacers import Directer\n", 
            "import os\n", 
            "\n", 
            "#Definition an instance \n", 
            "MyDirecter=Directer.DirecterClass()\n", 
            "\n", 
            "#Direct for displaying folders\n", 
            "'''\n", 
            "MyDirecter.direct(\n", 
            "\t\t\tlambda _LiargVariablesList,_FolderPathStr,_FileKeyStrsList:\n", 
            "\t\t\tRepresenter._print(_LiargVariablesList[0]+_FolderPathStr),\n", 
            "\t\t\t[\"_FolderPathStr is \"],\n", 
            "\t\t\t**{'FolderingPathStr':'/'.join(SYS.__file__.split('/')[:-1])}\n", 
            "\t\t)\n", 
            "'''\t\n", 
            "\n", 
            "#Delete things\t\n", 
            "def delete(_LiargVariablesList,_FolderPathStr,_FileKeyStrsList):\n", 
            "\t#os.popen('rm -r '+_FolderPathStr+'/Attests/')\n", 
            "\tos.popen('rm '+_FolderPathStr+'/02_ClassCell.md')\n", 
            "\tos.popen('rm '+_FolderPathStr+'/03_ClassCell.py')\n", 
            "\tos.popen('rm '+_FolderPathStr+'/04_InstanceCell.md')\n", 
            "\tos.popen('rm '+_FolderPathStr+'/05_InstanceCell.py')\n", 
            "def move(_LiargVariablesList,_FolderPathStr,_FileKeyStrsList):\n", 
            "\tos.popen('mv '+_FolderPathStr+'/00_ExampleCell.md '+_FolderPathStr+'/00_ExampleDoc.md')\n", 
            "\tos.popen('mv '+_FolderPathStr+'/01_ExampleCell.py '+_FolderPathStr+'/01_ExampleDoc.py')\n", 
            "\n", 
            "MyDirecter=Directer.DirecterClass().direct(\n", 
            "\t\t\tdelete,\n", 
            "\t\t\t[],\n", 
            "\t\t\t**{\n", 
            "\t\t\t\t'FolderingPathStr':\n", 
            "\t\t\t\tSYS.ShareYourSystemLocalFolderPathStr+'/ShareYourSystem/Guiders/'\n", 
            "\t\t\t}\n", 
            "\t\t)\n", 
            "\n", 
            "#Definition the AttestedStr\n", 
            "SYS._attest(\n", 
            "\t[\n", 
            "\t\t'MyDirecter is '+SYS._str(\n", 
            "\t\t\t\tMyDirecter,\n", 
            "\t\t\t\t**{\n", 
            "\t\t\t\t'RepresentingBaseKeyStrsListBool':False\n", 
            "\t\t\t\t}\n", 
            "\t\t\t)\n", 
            "\t]\n", 
            ") \n", 
            "\n", 
            "#Print\n", 
            "\n", 
            "\n"
          ], 
          "metadata": {
            "slideshow": {
              "slide_type": "-"
            }
          }
        }, 
        {
          "source": "\n<!--\nFrozenIsBool False\n-->\n\n#Filer\n\n----------------------- ------------------------------------\n\n\n\n@Date : Fri Nov 14 13:20:38 2014 \n\n@Author : Erwan Ledoux \n\n\n\nThe Installer directs a readme call in a ShareYourSystem directory. \n\n\n\n----------------------------------------------------------------\n\n\nView the Filer sources on [Github](https://github.com/Ledoux/ShareYourSystem/tree/master/ShareYourSystem.Guiders.Informer)\n\n", 
          "cell_type": "markdown", 
          "prompt_number": 0, 
          "metadata": {
            "slideshow": {
              "slide_type": "slide"
            }
          }
        }, 
        {
          "source": "\n<!---\nFrozenIsBool True\n-->\n\n##Example\n\nLet's create an empty class, which will automatically receive\nspecial attributes from the decorating ClassorClass,\nspecially the NameStr, that should be the ClassStr\nwithout the TypeStr in the end.", 
          "cell_type": "markdown", 
          "prompt_number": 1, 
          "metadata": {
            "slideshow": {
              "slide_type": "subslide"
            }
          }
        }, 
        {
          "cell_type": "code", 
          "language": "python", 
          "outputs": [
            {
              "output_type": "stream", 
              "stream": "stdout", 
              "text": [
                "\n", 
                "\n", 
                "*****Start of the Attest *****\n", 
                "\n", 
                "MyFiler is < (FilerClass), 4370523664>\n", 
                "   /{ \n", 
                "   /  '<New><Instance>IdStr' : 4370523664\n", 
                "   /  '<Spe><Instance>FiledFileVariable' : <closed file '/Users/ledoux/Documents/ShareYourSystem/ShareYourSystem/Guiders/Informer/MyFile.txt', mode 'w' at 0x1047b9150>\n", 
                "   /  '<Spe><Instance>FiledPathStr' : /Users/ledoux/Documents/ShareYourSystem/ShareYourSystem/Guiders/Informer/MyFile.txt\n", 
                "   /  '<Spe><Instance>FilingKeyStr' : MyFile.txt\n", 
                "   /  '<Spe><Instance>FilingModeStr' : w\n", 
                "   /}\n", 
                "\n", 
                "*****End of the Attest *****\n", 
                "\n", 
                "\n"
              ]
            }
          ], 
          "collapsed": false, 
          "prompt_number": 2, 
          "input": [
            "#ImportModules\n", 
            "import ShareYourSystem as SYS\n", 
            "from ShareYourSystem.Interfacers import Filer\n", 
            "\n", 
            "#Definition of an instance Filer and make it find the current dir\n", 
            "MyFiler=Filer.FilerClass().file('MyFile.txt','w')\n", 
            "MyFiler.FiledFileVariable.close()\n", 
            "\t\n", 
            "#Definition the AttestedStr\n", 
            "SYS._attest(\n", 
            "\t[\n", 
            "\t\t'MyFiler is '+SYS._str(MyFiler,\n", 
            "\t\t**{'RepresentingAlineaIsBool':False})\n", 
            "\t]\n", 
            ") \n", 
            "\n", 
            "#Print\n", 
            "\n", 
            "\n"
          ], 
          "metadata": {
            "slideshow": {
              "slide_type": "-"
            }
          }
        }, 
        {
          "source": "\n<!--\nFrozenIsBool False\n-->\n\n#Folderer\n\n----------------------- ------------------------------------\n\n\n\n@Date : Fri Nov 14 13:20:38 2014 \n\n@Author : Erwan Ledoux \n\n\n\nThe Installer directs a readme call in a ShareYourSystem directory. \n\n\n\n----------------------------------------------------------------\n\n\nView the Folderer sources on [Github](https://github.com/Ledoux/ShareYourSystem/tree/master/ShareYourSystem.Guiders.Informer)\n\n", 
          "cell_type": "markdown", 
          "prompt_number": 0, 
          "metadata": {
            "slideshow": {
              "slide_type": "slide"
            }
          }
        }, 
        {
          "source": "\n<!---\nFrozenIsBool True\n-->\n\n##Example\n\nLet's create an empty class, which will automatically receive\nspecial attributes from the decorating ClassorClass,\nspecially the NameStr, that should be the ClassStr\nwithout the TypeStr in the end.", 
          "cell_type": "markdown", 
          "prompt_number": 1, 
          "metadata": {
            "slideshow": {
              "slide_type": "subslide"
            }
          }
        }, 
        {
          "cell_type": "code", 
          "language": "python", 
          "outputs": [
            {
              "output_type": "stream", 
              "stream": "stdout", 
              "text": [
                "\n", 
                "\n", 
                "*****Start of the Attest *****\n", 
                "\n", 
                "MyFolderer is < (FoldererClass), 4370525392>\n", 
                "   /{ \n", 
                "   /  '<New><Instance>IdStr' : 4370525392\n", 
                "   /  '<Spe><Class>FolderedModuleStr' : \n", 
                "   /  '<Spe><Class>FolderedNameStr' : \n", 
                "   /  '<Spe><Class>FolderedParentModuleStr' : \n", 
                "   /  '<Spe><Class>FolderingMkdirBool' : False\n", 
                "   /  '<Spe><Instance>FolderedDirKeyStrsList' : []\n", 
                "   /  '<Spe><Instance>FolderingPathStr' : /Users/ledoux/Documents/ShareYourSystem/ShareYourSystem/Guiders/Informer//TestFolder1/TestFolder2/\n", 
                "   /}\n", 
                "\n", 
                "*****End of the Attest *****\n", 
                "\n", 
                "\n"
              ]
            }
          ], 
          "collapsed": false, 
          "prompt_number": 2, 
          "input": [
            "#ImportModules\n", 
            "import ShareYourSystem as SYS\n", 
            "from ShareYourSystem.Interfacers import Folderer\n", 
            "\n", 
            "#Definition of an instance Folderer and make it find the current dir\n", 
            "MyFolderer=Folderer.FoldererClass().folder()\n", 
            "\t\n", 
            "#If you don't have these folder, MyFolderer is going to create them for you\n", 
            "MyFolderer=Folderer.FoldererClass().folder(MyFolderer.FolderingPathStr+'/TestFolder1/TestFolder2/')\t\n", 
            "\n", 
            "#Definition the AttestedStr\n", 
            "SYS._attest(\n", 
            "\t[\n", 
            "\t\t'MyFolderer is '+SYS._str(MyFolderer,\n", 
            "\t\t**{'RepresentingAlineaIsBool':False})\n", 
            "\t]\n", 
            ") \n", 
            "\n", 
            "#Print\n", 
            "\n", 
            "\n"
          ], 
          "metadata": {
            "slideshow": {
              "slide_type": "-"
            }
          }
        }, 
        {
          "source": "\n<!--\nFrozenIsBool False\n-->\n\n#Hdformater\n\n----------------------- ------------------------------------\n\n\n\n@Date : Fri Nov 14 13:20:38 2014 \n\n@Author : Erwan Ledoux \n\n\n\nThe Installer directs a readme call in a ShareYourSystem directory. \n\n\n\n----------------------------------------------------------------\n\n\nView the Hdformater sources on [Github](https://github.com/Ledoux/ShareYourSystem/tree/master/ShareYourSystem.Guiders.Informer)\n\n", 
          "cell_type": "markdown", 
          "prompt_number": 0, 
          "metadata": {
            "slideshow": {
              "slide_type": "slide"
            }
          }
        }, 
        {
          "source": "\n<!---\nFrozenIsBool True\n-->\n\n##Example\n\nLet's create an empty class, which will automatically receive\nspecial attributes from the decorating ClassorClass,\nspecially the NameStr, that should be the ClassStr\nwithout the TypeStr in the end.", 
          "cell_type": "markdown", 
          "prompt_number": 1, 
          "metadata": {
            "slideshow": {
              "slide_type": "subslide"
            }
          }
        }, 
        {
          "cell_type": "code", 
          "language": "python", 
          "outputs": [
            {
              "output_type": "stream", 
              "stream": "stdout", 
              "text": [
                "\n", 
                "\n", 
                "*****Start of the Attest *****\n", 
                "\n", 
                "MyHdformater.HdformatedStr is /                        Group\n", 
                "\n", 
                "\n", 
                "*****End of the Attest *****\n", 
                "\n", 
                "\n"
              ]
            }
          ], 
          "collapsed": false, 
          "prompt_number": 2, 
          "input": [
            "\n", 
            "#ImportModules\n", 
            "import ShareYourSystem as SYS\n", 
            "from ShareYourSystem.Interfacers import Hdformater\n", 
            "\n", 
            "#Definition a Hdformater that writes an empty hdf file\n", 
            "MyHdformater=Hdformater.HdformaterClass().hdformat(_FileKeyStr='Hdformats.hdf5').hdfview().hdfclose()\n", 
            "\n", 
            "#Definition the AttestedStr\n", 
            "SYS._attest(\n", 
            "\t[\n", 
            "\t\t'MyHdformater.HdformatedStr is '+str(\n", 
            "\t\t\tMyHdformater.HdformatedStr)\n", 
            "\t]\n", 
            ") \n", 
            "\n", 
            "#Print\n", 
            "\n", 
            "\n", 
            "\n", 
            "\n"
          ], 
          "metadata": {
            "slideshow": {
              "slide_type": "-"
            }
          }
        }, 
        {
          "source": "\n<!--\nFrozenIsBool False\n-->\n\n#Interfacer\n\n----------------------- ------------------------------------\n\n\n\n@Date : Fri Nov 14 13:20:38 2014 \n\n@Author : Erwan Ledoux \n\n\n\nThe Installer directs a readme call in a ShareYourSystem directory. \n\n\n\n----------------------------------------------------------------\n\n\nView the Interfacer sources on [Github](https://github.com/Ledoux/ShareYourSystem/tree/master/ShareYourSystem.Guiders.Informer)\n\n", 
          "cell_type": "markdown", 
          "prompt_number": 0, 
          "metadata": {
            "slideshow": {
              "slide_type": "slide"
            }
          }
        }, 
        {
          "source": "\n<!---\nFrozenIsBool True\n-->\n\n##Example\n\nLet's create an empty class, which will automatically receive\nspecial attributes from the decorating ClassorClass,\nspecially the NameStr, that should be the ClassStr\nwithout the TypeStr in the end.", 
          "cell_type": "markdown", 
          "prompt_number": 1, 
          "metadata": {
            "slideshow": {
              "slide_type": "subslide"
            }
          }
        }, 
        {
          "cell_type": "code", 
          "language": "python", 
          "outputs": [
            {
              "output_type": "stream", 
              "stream": "stdout", 
              "text": [
                "\n", 
                "\n", 
                "*****Start of the Attest *****\n", 
                "\n", 
                "MyInterfacer is < (InterfacerClass), 4380499408>\n", 
                "   /{ \n", 
                "   /  '<New><Instance>IdStr' : 4380499408\n", 
                "   /}\n", 
                "\n", 
                "*****End of the Attest *****\n", 
                "\n", 
                "\n"
              ]
            }
          ], 
          "collapsed": false, 
          "prompt_number": 2, 
          "input": [
            "#ImportModules\n", 
            "import ShareYourSystem as SYS\n", 
            "from ShareYourSystem.Interfacers import Interfacer\n", 
            "\n", 
            "#Definition \n", 
            "MyInterfacer=Interfacer.InterfacerClass()\n", 
            "\t\n", 
            "#Definition the AttestedStr\n", 
            "SYS._attest(\n", 
            "\t[\n", 
            "\t\t'MyInterfacer is '+SYS._str(\n", 
            "\t\t\tMyInterfacer,\n", 
            "\t\t\t**{\n", 
            "\t\t\t'RepresentingAlineaIsBool':False\n", 
            "\t\t\t})\n", 
            "\t]\n", 
            ") \n", 
            "\n", 
            "#Print\n", 
            "\n", 
            "\n"
          ], 
          "metadata": {
            "slideshow": {
              "slide_type": "-"
            }
          }
        }, 
        {
          "source": "\n<!--\nFrozenIsBool False\n-->\n\n#Killer\n\n----------------------- ------------------------------------\n\n\n\n@Date : Fri Nov 14 13:20:38 2014 \n\n@Author : Erwan Ledoux \n\n\n\nThe Installer directs a readme call in a ShareYourSystem directory. \n\n\n\n----------------------------------------------------------------\n\n\nView the Killer sources on [Github](https://github.com/Ledoux/ShareYourSystem/tree/master/ShareYourSystem.Guiders.Informer)\n\n", 
          "cell_type": "markdown", 
          "prompt_number": 0, 
          "metadata": {
            "slideshow": {
              "slide_type": "slide"
            }
          }
        }, 
        {
          "cell_type": "code", 
          "language": "python", 
          "outputs": [
            {
              "output_type": "stream", 
              "stream": "stdout", 
              "text": [
                "\n", 
                "\n", 
                "*****Start of the Attest *****\n", 
                "\n", 
                "MyKiller is < (KillerClass), 4382740752>\n", 
                "   /{ \n", 
                "   /  '<New><Instance>IdStr' : 4382740752\n", 
                "   /}\n", 
                "\n", 
                "*****End of the Attest *****\n", 
                "\n", 
                "\n"
              ]
            }
          ], 
          "collapsed": false, 
          "prompt_number": 1, 
          "input": [
            "#ImportModules\n", 
            "import ShareYourSystem as SYS\n", 
            "from ShareYourSystem.Interfacers import Killer\n", 
            "\n", 
            "#Definition a Killer\n", 
            "MyKiller=Killer.KillerClass().kill(**{'StatusingProcessStr':\"Python\"})\n", 
            "\n", 
            "#Definition the AttestedStr\n", 
            "SYS._attest(\n", 
            "\t[\n", 
            "\t\t'MyKiller is '+SYS._str(\n", 
            "\t\tMyKiller,\n", 
            "\t\t**{\n", 
            "\t\t\t'RepresentingBaseKeyStrsListBool':False,\n", 
            "\t\t\t'RepresentingAlineaIsBool':False\n", 
            "\t\t}\n", 
            "\t\t)\n", 
            "\t]\n", 
            ")  \n", 
            "\n", 
            "#Print\n", 
            "\n", 
            "\n", 
            "\n", 
            "\n"
          ], 
          "metadata": {
            "slideshow": {
              "slide_type": "subslide"
            }
          }
        }, 
        {
          "source": "\n<!--\nFrozenIsBool False\n-->\n\n#Loader\n\n----------------------- ------------------------------------\n\n\n\n@Date : Fri Nov 14 13:20:38 2014 \n\n@Author : Erwan Ledoux \n\n\n\nThe Installer directs a readme call in a ShareYourSystem directory. \n\n\n\n----------------------------------------------------------------\n\n\nView the Loader sources on [Github](https://github.com/Ledoux/ShareYourSystem/tree/master/ShareYourSystem.Guiders.Informer)\n\n", 
          "cell_type": "markdown", 
          "prompt_number": 0, 
          "metadata": {
            "slideshow": {
              "slide_type": "slide"
            }
          }
        }, 
        {
          "source": "\n<!---\nFrozenIsBool True\n-->\n\n##Example\n\nLet's create an empty class, which will automatically receive\nspecial attributes from the decorating ClassorClass,\nspecially the NameStr, that should be the ClassStr\nwithout the TypeStr in the end.", 
          "cell_type": "markdown", 
          "prompt_number": 1, 
          "metadata": {
            "slideshow": {
              "slide_type": "subslide"
            }
          }
        }, 
        {
          "cell_type": "code", 
          "language": "python", 
          "outputs": [
            {
              "output_type": "stream", 
              "stream": "stdout", 
              "text": [
                "\n", 
                "\n", 
                "*****Start of the Attest *****\n", 
                "\n", 
                "MyLoader is < (LoaderClass), 4382741584>\n", 
                "   /{ \n", 
                "   /  '<New><Instance>IdStr' : 4382741584\n", 
                "   /  '<Spe><Class>LoadingFormatStr' : txt\n", 
                "   /  '<Spe><Instance>LoadedReadVariable' : hello\n", 
                "   /}\n", 
                "\n", 
                "*****End of the Attest *****\n", 
                "\n", 
                "\n"
              ]
            }
          ], 
          "collapsed": false, 
          "prompt_number": 2, 
          "input": [
            "#ImportModules\n", 
            "import ShareYourSystem as SYS\n", 
            "from ShareYourSystem.Interfacers import Loader\n", 
            "\n", 
            "#Definition of an instance Loader and make it find the current dir\n", 
            "MyLoader=Loader.LoaderClass().file('MyFile.txt','w')\n", 
            "MyLoader.FiledFileVariable.write('hello')\n", 
            "MyLoader.FiledFileVariable.close()\n", 
            "MyLoader.load()\n", 
            "\t\n", 
            "#Definition the AttestedStr\n", 
            "SYS._attest(\n", 
            "\t[\n", 
            "\t\t'MyLoader is '+SYS._str(MyLoader,\n", 
            "\t\t\t**{'RepresentingAlineaIsBool':False}\n", 
            "\t\t)\n", 
            "\t]\n", 
            ") \n", 
            "\n", 
            "#Print\n", 
            "\n", 
            "\n"
          ], 
          "metadata": {
            "slideshow": {
              "slide_type": "-"
            }
          }
        }, 
        {
          "source": "\n<!--\nFrozenIsBool False\n-->\n\n#Processer\n\n----------------------- ------------------------------------\n\n\n\n@Date : Fri Nov 14 13:20:38 2014 \n\n@Author : Erwan Ledoux \n\n\n\nThe Installer directs a readme call in a ShareYourSystem directory. \n\n\n\n----------------------------------------------------------------\n\n\nView the Processer sources on [Github](https://github.com/Ledoux/ShareYourSystem/tree/master/ShareYourSystem.Guiders.Informer)\n\n", 
          "cell_type": "markdown", 
          "prompt_number": 0, 
          "metadata": {
            "slideshow": {
              "slide_type": "slide"
            }
          }
        }, 
        {
          "source": "\n<!---\nFrozenIsBool True\n-->\n\n##Example\n\nLet's create an empty class, which will automatically receive\nspecial attributes from the decorating ClassorClass,\nspecially the NameStr, that should be the ClassStr\nwithout the TypeStr in the end.", 
          "cell_type": "markdown", 
          "prompt_number": 1, 
          "metadata": {
            "slideshow": {
              "slide_type": "subslide"
            }
          }
        }, 
        {
          "cell_type": "code", 
          "language": "python", 
          "outputs": [
            {
              "output_type": "stream", 
              "stream": "stdout", 
              "text": [
                "\n", 
                "\n", 
                "*****Start of the Attest *****\n", 
                "\n", 
                "MyProcesser is < (ProcesserClass), 4382741392>\n", 
                "   /{ \n", 
                "   /  '<New><Instance>IdStr' : 4382741392\n", 
                "   /  '<Spe><Instance>ProcessedBashStr' : /usr/bin/python\n", 
                "\n", 
                "   /  '<Spe><Instance>ProcessingBashStr' : which python \n", 
                "   /}\n", 
                "\n", 
                "*****End of the Attest *****\n", 
                "\n", 
                "\n"
              ]
            }
          ], 
          "collapsed": false, 
          "prompt_number": 2, 
          "input": [
            "#ImportModules\n", 
            "import ShareYourSystem as SYS\n", 
            "from ShareYourSystem.Interfacers import Processer\n", 
            "\n", 
            "#Definition of an instance Processer and make it print hello\n", 
            "MyProcesser=Processer.ProcesserClass().process('which python ')\n", 
            "\t\t\n", 
            "#Definition the AttestedStr\n", 
            "SYS._attest(\n", 
            "\t[\n", 
            "\t\t'MyProcesser is '+SYS._str(MyProcesser)\n", 
            "\t]\n", 
            ") \n", 
            "\n", 
            "#Print\n", 
            "\n", 
            "\n"
          ], 
          "metadata": {
            "slideshow": {
              "slide_type": "-"
            }
          }
        }, 
        {
          "source": "\n<!--\nFrozenIsBool False\n-->\n\n#Statuser\n\n----------------------- ------------------------------------\n\n\n\n@Date : Fri Nov 14 13:20:38 2014 \n\n@Author : Erwan Ledoux \n\n\n\nThe Installer directs a readme call in a ShareYourSystem directory. \n\n\n\n----------------------------------------------------------------\n\n\nView the Statuser sources on [Github](https://github.com/Ledoux/ShareYourSystem/tree/master/ShareYourSystem.Guiders.Informer)\n\n", 
          "cell_type": "markdown", 
          "prompt_number": 0, 
          "metadata": {
            "slideshow": {
              "slide_type": "slide"
            }
          }
        }, 
        {
          "cell_type": "code", 
          "language": "python", 
          "outputs": [
            {
              "output_type": "stream", 
              "stream": "stdout", 
              "text": [
                "\n", 
                "\n", 
                "*****Start of the Attest *****\n", 
                "\n", 
                "MyStatuser is < (StatuserClass), 4380498704>\n", 
                "   /{ \n", 
                "   /  '<New><Instance>IdStr' : 4380498704\n", 
                "   /  '<Spe><Instance>StatusedIdStrsList' : ['697']\n", 
                "   /  '<Spe><Instance>StatusedLineStrsList' : ['  501   697   198   0 10:04PM ??         0:00.53 /usr/local/Cellar/python/2.7.9/Frameworks/Python.framework/Versions/2.7/Resources/Python.app/Contents/MacOS/Python /Users/ledoux/Documents/ShareYourSystem/ShareYourSystem/Guiders/Informer/01_ExampleDoc.py']\n", 
                "   /  '<Spe><Instance>StatusedSnapshotStr' :   501   697   198   0 10:04PM ??         0:00.53 /usr/local/Cellar/python/2.7.9/Frameworks/Python.framework/Versions/2.7/Resources/Python.app/Contents/MacOS/Python /Users/ledoux/Documents/ShareYourSystem/ShareYourSystem/Guiders/Informer/01_ExampleDoc.py\n", 
                "  501   827   825   0 10:04PM ??         0:00.00 grep Python\n", 
                "\n", 
                "   /  '<Spe><Instance>StatusingProcessStr' : Python\n", 
                "   /}\n", 
                "\n", 
                "*****End of the Attest *****\n", 
                "\n", 
                "\n"
              ]
            }
          ], 
          "collapsed": false, 
          "prompt_number": 1, 
          "input": [
            "#ImportModules\n", 
            "import ShareYourSystem as SYS\n", 
            "from ShareYourSystem.Interfacers import Statuser\n", 
            "import os\n", 
            "\n", 
            "#Definition a Statuser\n", 
            "MyStatuser=Statuser.StatuserClass().status('Python')\n", 
            "\n", 
            "#Definition the AttestedStr\n", 
            "SYS._attest(\n", 
            "\t[\n", 
            "\t\t'MyStatuser is '+SYS._str(\n", 
            "\t\tMyStatuser,\n", 
            "\t\t**{\n", 
            "\t\t\t'RepresentingBaseKeyStrsListBool':False\n", 
            "\t\t}\n", 
            "\t\t)\n", 
            "\t]\n", 
            ")  \n", 
            "\n", 
            "#Print\n", 
            "\n", 
            "\n", 
            "\n"
          ], 
          "metadata": {
            "slideshow": {
              "slide_type": "subslide"
            }
          }
        }, 
        {
          "source": "\n<!--\nFrozenIsBool False\n-->\n\n#Writer\n\n----------------------- ------------------------------------\n\n\n\n@Date : Fri Nov 14 13:20:38 2014 \n\n@Author : Erwan Ledoux \n\n\n\nThe Installer directs a readme call in a ShareYourSystem directory. \n\n\n\n----------------------------------------------------------------\n\n\nView the Writer sources on [Github](https://github.com/Ledoux/ShareYourSystem/tree/master/ShareYourSystem.Guiders.Informer)\n\n", 
          "cell_type": "markdown", 
          "prompt_number": 0, 
          "metadata": {
            "slideshow": {
              "slide_type": "slide"
            }
          }
        }, 
        {
          "source": "\n<!---\nFrozenIsBool True\n-->\n\n##Example\n\nLet's create an empty class, which will automatically receive\nspecial attributes from the decorating ClassorClass,\nspecially the NameStr, that should be the ClassStr\nwithout the TypeStr in the end.", 
          "cell_type": "markdown", 
          "prompt_number": 1, 
          "metadata": {
            "slideshow": {
              "slide_type": "subslide"
            }
          }
        }, 
        {
          "cell_type": "code", 
          "language": "python", 
          "outputs": [
            {
              "output_type": "stream", 
              "stream": "stdout", 
              "text": [
                "\n", 
                "\n", 
                "*****Start of the Attest *****\n", 
                "\n", 
                "MyWriter is < (WriterClass), 4382744208>\n", 
                "   /{ \n", 
                "   /  '<New><Instance>IdStr' : 4382744208\n", 
                "   /  '<Spe><Class>WritingLoadBool' : False\n", 
                "   /  '<Spe><Instance>WritingStoreVariable' : hello\n", 
                "   /}\n", 
                "\n", 
                "*****End of the Attest *****\n", 
                "\n", 
                "\n"
              ]
            }
          ], 
          "collapsed": false, 
          "prompt_number": 2, 
          "input": [
            "#ImportModules\n", 
            "import ShareYourSystem as SYS\n", 
            "from ShareYourSystem.Interfacers import Writer\n", 
            "\n", 
            "#Definition of an instance Writer and make it find the current dir\n", 
            "MyWriter=Writer.WriterClass().write(\"hello\",**{\n", 
            "\t'FilingKeyStr':'MyFile.txt',\n", 
            "\t'FilingModeStr':'w'\n", 
            "}\n", 
            ")\n", 
            "\t\n", 
            "#Definition the AttestedStr\n", 
            "SYS._attest(\n", 
            "\t[\n", 
            "\t\t'MyWriter is '+SYS._str(MyWriter)\n", 
            "\t]\n", 
            ") \n", 
            "\n", 
            "#Print\n", 
            "\n", 
            "\n"
          ], 
          "metadata": {
            "slideshow": {
              "slide_type": "-"
            }
          }
        }
      ]
    }
  ], 
  "metadata": {
    "name": "", 
    "signature": ""
  }, 
  "nbformat_minor": 0
}