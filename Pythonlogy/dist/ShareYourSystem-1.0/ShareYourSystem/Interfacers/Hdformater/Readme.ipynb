{
  "nbformat": 3, 
  "worksheets": [
    {
      "cells": [
        {
          "source": "\n<!--\nFrozenIsBool False\n-->\n\n#Hdformater\n\n##Doc\n----\n\n\n> \n> An Hdformater instance maps an apply and so \"grinds\" a MappingArgDictsList \n> to a method.\n> \n> \n\n----\n\n<small>\nView the Hdformater notebook on [NbViewer](http://nbviewer.ipython.org/url/shareyoursystem.ouvaton.org/Hdformater.ipynb)\n</small>\n\n", 
          "cell_type": "markdown", 
          "prompt_number": 0, 
          "metadata": {
            "slideshow": {
              "slide_type": "slide"
            }
          }
        }, 
        {
          "source": "\n<!--\nFrozenIsBool False\n-->\n\n##Code\n\n----\n\n<ClassDocStr>\n\n----\n\n```python\n# -*- coding: utf-8 -*-\n\"\"\"\n\n\n<DefineSource>\n@Date : Fri Nov 14 13:20:38 2014 \\n\n@Author : Erwan Ledoux \\n\\n\n</DefineSource>\n\n\nAn Hdformater instance maps an apply and so \"grinds\" a MappingArgDictsList \nto a method.\n\n\"\"\"\n\n#<DefineAugmentation>\nimport ShareYourSystem as SYS\nBaseModuleStr=\"ShareYourSystem.Interfacers.Writer\"\nDecorationModuleStr=\"ShareYourSystem.Classors.Classer\"\nSYS.setSubModule(globals())\n#</DefineAugmentation>\n\n#<ImportSpecificModules>\nimport collections\nimport importlib\nimport os\nimport sys\n#from ShareYourSystem.Functers import Alerter\n#</ImportSpecificModules>\n\n#<DefineClass>\n@DecorationClass(**{'SwitchingUnboundMethodStr':'hdformat'})\nclass HdformaterClass(BaseClass):\n\t\n\t#Definition\n\tRepresentingKeyStrsList=[\n\t\t\t\t\t\t\t\t\t'HdformatingModuleStr',\n\t\t\t\t\t\t\t\t\t'HdformatingFileKeyStr',\n\t\t\t\t\t\t\t\t\t'HdformatedFileVariable',\n\t\t\t\t\t\t\t\t\t'HdformatedStr'\n\t\t\t\t\t\t\t\t]\n\n\t#@Hooker.HookerClass(**{'HookingAfterVariablesList':[{'CallingVariable':BaseClass.__init__}]})\n\tdef default_init(self,\n\t\t\t_HdformatingModuleStr=\"tables\",\n\t\t\t_HdformatingFileKeyStr=\"\", \t\t\t\n\t\t\t_HdformatedFileVariable=None, \n\t\t\t_HdformatedFilePathStr=\"\",\t\t\n\t\t\t_HdformatedStr=\"\", \t\t\t\n\t\t\t**_KwargVariablesDict\n\t\t):\n\n\t\t#Call the parent __init__ method\n\t\tBaseClass.__init__(self,**_KwargVariablesDict)\n\n\t#@Alerter.AlerterClass()\t\t\n\t#@Switcher.SwitcherClass()\n\tdef do_hdformat(self):\n\n\t\t#debug\n\t\t'''\n\t\tself.debug(('self.',self,[\n\t\t\t\t\t\t\t\t\t'HdformatingFileKeyStr'\n\t\t\t\t\t\t\t\t]))\n\t\t'''\n\t\t\n\t\t#Check\n\t\tif self.HdformatedFileVariable==None:\n\n\t\t\t#folder first\n\t\t\tself.folder()\n\n\t\t\t#set\n\t\t\tself.HdformatedFilePathStr=self.FolderingPathStr+self.HdformatingFileKeyStr\n\t\t\t\n\t\t\t#Maybe we have to import\n\t\t\tif self.HdformatingModuleStr not in sys.modules:\n\n\t\t\t\t#debug\n\t\t\t\t'''\n\t\t\t\tself.debug('We import first the hdf module')\n\t\t\t\t'''\n\n\t\t\t\t#Import\n\t\t\t\timportlib.import_module(self.HdformatingModuleStr)\n\n\t\t\t#Check\n\t\t\tif self.HdformatingFileKeyStr!=\"\":\n\n\t\t\t\t#Check for first write\n\t\t\t\tif os.path.isfile(self.HdformatedFilePathStr)==False:\n\n\t\t\t\t\t#debug\n\t\t\t\t\t'''\n\t\t\t\t\tself.debug('We create the file first')\n\t\t\t\t\t'''\n\n\t\t\t\t\t#Create the file \n\t\t\t\t\tself.HdformatedFileVariable=sys.modules[self.HdformatingModuleStr].File(\n\t\t\t\t\t\t\t\t\t\tself.HdformatedFilePathStr,'w')\n\t\t\t\t\t\t\n\t\t\t\t\t#Close it\n\t\t\t\t\tself.HdformatedFileVariable.close()\n\n\t\t\t\tif self.HdformatedFileVariable==None or ( \n\t\t\t\t\t(self.HdformatingModuleStr=='tables' and self.HdformatedFileVariable.isopen==0\n\t\t\t\t\t\t) or (self.HdformatingModuleStr=='h5py' and self.HdformatedFileVariable.mode=='c') ):\n\n\t\t\t\t\t#debug\n\t\t\t\t\t'''\n\t\t\t\t\tself.debug('We open the file')\n\t\t\t\t\t'''\n\n\t\t\t\t\t#Open the HdformatedFileVariable\n\t\t\t\t\tself.HdformatedFileVariable=sys.modules[self.HdformatingModuleStr].File(\n\t\t\t\t\t\tself.HdformatedFilePathStr,'r+')\n\n\t\t#Return self\n\t\t#return self\n\n\tdef hdfview(self):\n\n\t\t#debug\n\t\t'''\n\t\tself.debug(('self.',self,['HdformatingFilePathStr']))\n\t\t'''\n\n\t\tif self.HdformatedFilePathStr!=\"\":\n\t\t\n\t\t\t#set the HdformatedStr\n\t\t\tself.HdformatedStr=os.popen(\n\t\t\t\t\t\t\t\t\t\tSYS.h5lsPathStr+' -dlr '+self.HdformatedFilePathStr\n\t\t\t\t\t\t\t\t).read()\n\t\t\n\t\t#Return self\n\t\treturn self\n\n\tdef hdfclose(self):\n\n\t\t#Close the HdformatedFileVariable\n\t\tif self.HdformatedFileVariable!=None:\n\t\t\tself.HdformatedFileVariable.close()\n\n\t\t#Return self\n\t\treturn self\n\n#</DefineClass>\n\n\n```\n\n<small>\nView the Hdformater sources on [Github](https://github.com/Ledoux/ShareYourSystem/tree/master/Pythonlogy/ShareYourSystem/Interfacers/Hdformater)\n</small>\n\n", 
          "cell_type": "markdown", 
          "prompt_number": 1, 
          "metadata": {
            "slideshow": {
              "slide_type": "subslide"
            }
          }
        }, 
        {
          "source": "\n<!---\nFrozenIsBool True\n-->\n\n##Example\n\nLet's create an empty class, which will automatically receive\nspecial attributes from the decorating ClassorClass,\nspecially the NameStr, that should be the ClassStr\nwithout the TypeStr in the end.", 
          "cell_type": "markdown", 
          "prompt_number": 2, 
          "metadata": {
            "slideshow": {
              "slide_type": "subslide"
            }
          }
        }, 
        {
          "source": "```python\n\n#ImportModules\nimport ShareYourSystem as SYS\nfrom ShareYourSystem.Interfacers import Hdformater\n\n#Definition a Hdformater that writes an empty hdf file\nMyHdformater=Hdformater.HdformaterClass().hdformat(\n    _FileKeyStr='Hdformats.hdf5',\n    **{\n    'FolderingPathStr':Hdformater.LocalFolderPathStr\n}\n).hdfview().hdfclose()\n\n#Definition the AttestedStr\nSYS._attest(\n    [\n        'MyHdformater.HdformatedStr is '+str(\n            MyHdformater.HdformatedStr)\n    ]\n) \n\n#Print\n\n\n\n\n\n```\n", 
          "cell_type": "markdown", 
          "metadata": {}
        }, 
        {
          "source": "```console\n>>>\n\n\n*****Start of the Attest *****\n\nMyHdformater.HdformatedStr is /                        Group\n\n\n*****End of the Attest *****\n\n\n\n```\n", 
          "cell_type": "markdown", 
          "metadata": {}
        }
      ]
    }
  ], 
  "metadata": {
    "name": "", 
    "signature": ""
  }, 
  "nbformat_minor": 0
}