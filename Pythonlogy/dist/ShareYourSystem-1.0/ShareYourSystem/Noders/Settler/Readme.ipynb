{
  "nbformat": 3, 
  "worksheets": [
    {
      "cells": [
        {
          "source": [
            "#Settler\n", 
            " @Date : Fri Nov 14 13:20:38 2014 \n\n@Author : Erwan Ledoux \n\n\n\nA Settler \n\n\n"
          ], 
          "cell_type": "markdown", 
          "metadata": {}
        }, 
        {
          "source": "\n<!--\nFrozenIsBool False\n-->\n\nView the Settler sources on [Github](https://github.com/Ledoux/ShareYourSystem/tree/master/ShareYourSystem/Noders/Installer)\n\n", 
          "cell_type": "markdown", 
          "prompt_number": 0, 
          "metadata": {}
        }, 
        {
          "source": "\n<!---\nFrozenIsBool True\n-->\n\n##Example\n\nLet's create an empty class, which will automatically receive\nspecial attributes from the decorating ClassorClass,\nspecially the NameStr, that should be the ClassStr\nwithout the TypeStr in the end.", 
          "cell_type": "markdown", 
          "prompt_number": 1, 
          "metadata": {}
        }, 
        {
          "source": "```python\n#ImportModules\nimport ShareYourSystem as SYS\nfrom ShareYourSystem.Noders import Settler\n\n#Short expression and set in the appended manner\nMySettler=Settler.SettlerClass().__setitem__(\n    '<Settlome>ChildSettler',\n    Settler.SettlerClass()\n).update(\n    [\n        (\n            '<Settlome>GrandFirstChildSettler',\n            Settler.SettlerClass()\n        ),\n        (\n            '<Settlome>GrandSecondChildSettler',\n            Settler.SettlerClass(**{\n                'SettlingParentBool':True,\n                'SettlingLinkBool':True\n                }\n                ).__setitem__(\n                'LinkingPointListsList',\n                [\n        ('/NodePointDeriveNoder/<Settlome>GrandFirstChildSettler','GrandFirstChildSettler')\n                ]\n            )\n        )\n    ]\n)\n\n\n\n#Definition the AttestedStr\nSYS._attest(\n    [\n        'MySettler is '+SYS._str(\n        MySettler,\n        **{\n            'RepresentingBaseKeyStrsListBool':False,\n            'RepresentingAlineaIsBool':False\n        }\n        )\n    ]\n) \n#Print\n\n\n\n```\n", 
          "cell_type": "markdown", 
          "metadata": {}
        }, 
        {
          "source": "```console\n>>>\nDoer l.132 : DoerStr is Linker\nDoStr is Link\nDoMethodStr is link\nDoingStr is Linking\nDoneStr is Linked\n\nDoer l.132 : DoerStr is Settler\nDoStr is Settle\nDoMethodStr is settle\nDoingStr is Settling\nDoneStr is Settled\n\nl 35\nIn the switch function \n_KwargVariablesDict is \n{'BindObserveWrapMethodStr': 'watch_superDo_settle', 'WatchDoBoolKeyStr': 'WatchSettleWithSettlerBool', 'BindDoClassStr': 'SettlerClass'}\n\nl 35\nIn the switch function \n_KwargVariablesDict is \n{'BindObserveWrapMethodStr': 'watch_superDo_settle', 'WatchDoBoolKeyStr': 'WatchSettleWithSettlerBool', 'BindDoClassStr': 'SettlerClass'}\n\nl 35\nIn the switch function \n_KwargVariablesDict is \n{'BindObserveWrapMethodStr': 'watch_superDo_settle', 'WatchDoBoolKeyStr': 'WatchSettleWithSettlerBool', 'BindDoClassStr': 'SettlerClass'}\n\nl 35\nIn the switch function \n_KwargVariablesDict is \n{'BindObserveWrapMethodStr': 'watch_superDo_settle', 'WatchDoBoolKeyStr': 'WatchSettleWithSettlerBool', 'BindDoClassStr': 'SettlerClass'}\n\nl 35\nIn the switch function \n_KwargVariablesDict is \n{'BindObserveWrapMethodStr': 'watch_superDo_settle', 'WatchDoBoolKeyStr': 'WatchSettleWithSettlerBool', 'BindDoClassStr': 'SettlerClass'}\n\nl 35\nIn the switch function \n_KwargVariablesDict is \n{'BindObserveWrapMethodStr': 'watch_superDo_parent', 'WatchDoBoolKeyStr': 'WatchParentWithParenterBool', 'BindDoClassStr': 'ParenterClass'}\n\nl 35\nIn the switch function \n_KwargVariablesDict is \n{'BindObserveWrapMethodStr': 'watch_superDo_parent', 'WatchDoBoolKeyStr': 'WatchParentWithParenterBool', 'BindDoClassStr': 'ParenterClass'}\n\n\n\n*****Start of the Attest *****\n\nMySettler is < (SettlerClass), 4570209680>\n   /{ \n   /  '<New><Instance>ApplyingIsBool' : True\n   /  '<New><Instance>IdStr' : 4570209680\n   /  '<New><Instance>NodeCollectionStr' : Global\n   /  '<New><Instance>NodeIndexInt' : -1\n   /  '<New><Instance>NodeKeyStr' : \n   /  '<New><Instance>NodePointDeriveNoder' : None\n   /  '<New><Instance>NodePointOrderedDict' : None\n   /  '<New><Instance>SettlomeCollectionOrderedDict' : \n   /   /{ \n   /   /  'ChildSettler' : < (SettlerClass), 4570209232>\n   /   /   /{ \n   /   /   /  '<New><Instance>IdStr' : 4570209232\n   /   /   /  '<New><Instance>NodeCollectionStr' : Settlome\n   /   /   /  '<New><Instance>NodeIndexInt' : 0\n   /   /   /  '<New><Instance>NodeKeyStr' : ChildSettler\n   /   /   /  '<New><Instance>NodePointDeriveNoder' : {...}< (SettlerClass), 4570209680>\n   /   /   /  '<New><Instance>NodePointOrderedDict' : {...}< (OrderedDict), 4570225632>\n   /   /   /  '<Spe><Class>SettlingLinkBool' : False\n   /   /   /  '<Spe><Class>SettlingParentBool' : False\n   /   /   /}\n   /   /  'GrandFirstChildSettler' : < (SettlerClass), 4567895056>\n   /   /   /{ \n   /   /   /  '<New><Instance>IdStr' : 4567895056\n   /   /   /  '<New><Instance>NodeCollectionStr' : Settlome\n   /   /   /  '<New><Instance>NodeIndexInt' : 1\n   /   /   /  '<New><Instance>NodeKeyStr' : GrandFirstChildSettler\n   /   /   /  '<New><Instance>NodePointDeriveNoder' : {...}< (SettlerClass), 4570209680>\n   /   /   /  '<New><Instance>NodePointOrderedDict' : {...}< (OrderedDict), 4570225632>\n   /   /   /  '<Spe><Class>SettlingLinkBool' : False\n   /   /   /  '<Spe><Class>SettlingParentBool' : False\n   /   /   /}\n   /   /  'GrandSecondChildSettler' : < (SettlerClass), 4570208016>\n   /   /   /{ \n   /   /   /  '<New><Instance>ApplyingIsBool' : True\n   /   /   /  '<New><Instance>GrandFirstChildSettler' : {...}< (SettlerClass), 4567895056>\n   /   /   /  '<New><Instance>IdStr' : 4570208016\n   /   /   /  '<New><Instance>NodeCollectionStr' : Settlome\n   /   /   /  '<New><Instance>NodeIndexInt' : 2\n   /   /   /  '<New><Instance>NodeKeyStr' : GrandSecondChildSettler\n   /   /   /  '<New><Instance>NodePointDeriveNoder' : {...}< (SettlerClass), 4570209680>\n   /   /   /  '<New><Instance>NodePointOrderedDict' : {...}< (OrderedDict), 4570225632>\n   /   /   /  '<Spe><Instance>SettlingLinkBool' : True\n   /   /   /  '<Spe><Instance>SettlingParentBool' : True\n   /   /   /}\n   /   /}\n   /  '<Spe><Class>SettlingLinkBool' : False\n   /  '<Spe><Class>SettlingParentBool' : False\n   /}\n\n*****End of the Attest *****\n\n\n\n```\n", 
          "cell_type": "markdown", 
          "metadata": {}
        }
      ]
    }
  ], 
  "metadata": {
    "name": "", 
    "signature": ""
  }, 
  "nbformat_minor": 0
}