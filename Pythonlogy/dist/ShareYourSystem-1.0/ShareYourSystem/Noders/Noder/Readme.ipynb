{
  "nbformat": 3, 
  "worksheets": [
    {
      "cells": [
        {
          "source": [
            "#Noder\n", 
            " @Date : Fri Nov 14 13:20:38 2014 \n\n@Author : Erwan Ledoux \n\n\n\nA Noder defines Child ordered dicts with <DoStr> as KeyStr. The items inside are automatically setted with Noded<DoStr><TypeStr> and have a Pointer to the parent InstanceVariable. This is the beginning for buiding high arborescent and (possibly circular) structures of objects.\n\n\n"
          ], 
          "cell_type": "markdown", 
          "metadata": {}
        }, 
        {
          "source": "\n<!--\nFrozenIsBool False\n-->\n\nView the Noder sources on [Github](https://github.com/Ledoux/ShareYourSystem/tree/master/ShareYourSystem/Noders/Installer)\n\n", 
          "cell_type": "markdown", 
          "prompt_number": 0, 
          "metadata": {}
        }, 
        {
          "source": "\n<!---\nFrozenIsBool True\n-->\n\n##Example\n\nLet's create an empty class, which will automatically receive\nspecial attributes from the decorating ClassorClass,\nspecially the NameStr, that should be the ClassStr\nwithout the TypeStr in the end.", 
          "cell_type": "markdown", 
          "prompt_number": 1, 
          "metadata": {}
        }, 
        {
          "source": "```python\n\n#ImportModules\nimport ShareYourSystem as SYS\nfrom ShareYourSystem.Noders import Noder\n        \n#Definition of a Noder instance\nMyNoder=Noder.NoderClass()\n\n#Short expression for setting in the appended manner a structured object\nMyNoder['<Nodome>FirstChildNoder']=Noder.NoderClass()\n\n#Short expression for setting in the appended manner a structured object\nMyNoder['<Nodome>SecondChildNoder']=Noder.NoderClass()\n\n#Definition the AttestedStr\nSYS._attest(\n    [\n        'MyNoder is '+SYS._str(\n                MyNoder,\n                **{\n                'RepresentingBaseKeyStrsListBool':False,\n                'RepresentingAlineaIsBool':False\n                }\n            )\n    ]\n) \n\n#Print\n\n\n\n```\n", 
          "cell_type": "markdown", 
          "metadata": {}
        }, 
        {
          "source": "```console\n>>>\n\n\n*****Start of the Attest *****\n\nMyNoder is < (NoderClass), 4567892624>\n   /{ \n   /  '<New><Instance>IdStr' : 4567892624\n   /  '<New><Instance>NodeCollectionStr' : Global\n   /  '<New><Instance>NodeIndexInt' : -1\n   /  '<New><Instance>NodeKeyStr' : \n   /  '<New><Instance>NodePointDeriveNoder' : None\n   /  '<New><Instance>NodePointOrderedDict' : None\n   /  '<New><Instance>NodomeCollectionOrderedDict' : \n   /   /{ \n   /   /  'FirstChildNoder' : < (NoderClass), 4567894672>\n   /   /   /{ \n   /   /   /  '<New><Instance>IdStr' : 4567894672\n   /   /   /  '<New><Instance>NodeCollectionStr' : Nodome\n   /   /   /  '<New><Instance>NodeIndexInt' : 0\n   /   /   /  '<New><Instance>NodeKeyStr' : FirstChildNoder\n   /   /   /  '<New><Instance>NodePointDeriveNoder' : {...}< (NoderClass), 4567892624>\n   /   /   /  '<New><Instance>NodePointOrderedDict' : {...}< (OrderedDict), 4570170608>\n   /   /   /  '<Spe><Class>NodedCollectionIndexInt' : -1\n   /   /   /  '<Spe><Class>NodedCollectionOrderedDict' : None\n   /   /   /  '<Spe><Class>NodedCollectionStr' : \n   /   /   /  '<Spe><Class>NodedKeyStr' : \n   /   /   /  '<Spe><Class>NodingCollectionStr' : \n   /   /   /}\n   /   /  'SecondChildNoder' : < (NoderClass), 4567895504>\n   /   /   /{ \n   /   /   /  '<New><Instance>IdStr' : 4567895504\n   /   /   /  '<New><Instance>NodeCollectionStr' : Nodome\n   /   /   /  '<New><Instance>NodeIndexInt' : 1\n   /   /   /  '<New><Instance>NodeKeyStr' : SecondChildNoder\n   /   /   /  '<New><Instance>NodePointDeriveNoder' : {...}< (NoderClass), 4567892624>\n   /   /   /  '<New><Instance>NodePointOrderedDict' : {...}< (OrderedDict), 4570170608>\n   /   /   /  '<Spe><Class>NodedCollectionIndexInt' : -1\n   /   /   /  '<Spe><Class>NodedCollectionOrderedDict' : None\n   /   /   /  '<Spe><Class>NodedCollectionStr' : \n   /   /   /  '<Spe><Class>NodedKeyStr' : \n   /   /   /  '<Spe><Class>NodingCollectionStr' : \n   /   /   /}\n   /   /}\n   /  '<Spe><Class>NodedCollectionIndexInt' : -1\n   /  '<Spe><Class>NodedCollectionStr' : \n   /  '<Spe><Class>NodedKeyStr' : \n   /  '<Spe><Instance>NodedCollectionOrderedDict' : {...}< (OrderedDict), 4570170608>\n   /  '<Spe><Instance>NodingCollectionStr' : Nodome\n   /}\n\n*****End of the Attest *****\n\n\n\n```\n", 
          "cell_type": "markdown", 
          "metadata": {}
        }
      ]
    }
  ], 
  "metadata": {
    "name": "", 
    "signature": ""
  }, 
  "nbformat_minor": 0
}