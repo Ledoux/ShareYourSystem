{
  "nbformat": 3, 
  "worksheets": [
    {
      "cells": [
        {
          "source": [
            "#Parenter\n", 
            " @Date : Fri Nov 14 13:20:38 2014 \n\n@Author : Erwan Ledoux \n\n\n\nA Parenter completes the list of grand-parent nodes that a child node could have. It acts only at one level.\n\n\n"
          ], 
          "cell_type": "markdown", 
          "metadata": {}
        }, 
        {
          "source": "\n<!--\nFrozenIsBool False\n-->\n\nView the Parenter sources on [Github](https://github.com/Ledoux/ShareYourSystem/tree/master/ShareYourSystem/Noders/Installer)\n\n", 
          "cell_type": "markdown", 
          "prompt_number": 0, 
          "metadata": {}
        }, 
        {
          "source": "\n<!---\nFrozenIsBool True\n-->\n\n##Example\n\nLet's create an empty class, which will automatically receive\nspecial attributes from the decorating ClassorClass,\nspecially the NameStr, that should be the ClassStr\nwithout the TypeStr in the end.", 
          "cell_type": "markdown", 
          "prompt_number": 1, 
          "metadata": {}
        }, 
        {
          "source": "```python\n#ImportModules\nimport ShareYourSystem as SYS\nfrom ShareYourSystem.Noders import Parenter\n\n#Short expression and set in the appended manner\nMyParenter=Parenter.ParenterClass().__setitem__(\n    '<Tree>ChildParenter',\n    Parenter.ParenterClass().__setitem__(\n        '<Tree>GrandChildParenter',\n        Parenter.ParenterClass()\n    )\n)\n\n#Parent for the children\n#MyParenter['<Tree>ChildParenter'].parent('Tree')\nMyParenter['<Tree>ChildParenter']['<Tree>GrandChildParenter'].parent()\n\n#Definition the AttestedStr\nSYS._attest(\n    [\n        'MyParenter is '+SYS._str(\n        MyParenter,\n        **{\n            'RepresentingBaseKeyStrsListBool':False,\n            'RepresentingAlineaIsBool':False\n        }\n        )\n    ]\n) \n\n#Print\n\n\n\n```\n", 
          "cell_type": "markdown", 
          "metadata": {}
        }, 
        {
          "source": "```console\n>>>\nl 35\nIn the switch function \n_KwargVariablesDict is \n{'BindObserveWrapMethodStr': 'watch_superDo_parent', 'WatchDoBoolKeyStr': 'WatchParentWithParenterBool', 'BindDoClassStr': 'ParenterClass'}\n\nl 35\nIn the switch function \n_KwargVariablesDict is \n{'BindObserveWrapMethodStr': 'watch_superDo_parent', 'WatchDoBoolKeyStr': 'WatchParentWithParenterBool', 'BindDoClassStr': 'ParenterClass'}\n\nl 35\nIn the switch function \n_KwargVariablesDict is \n{'BindObserveWrapMethodStr': 'watch_superDo_parent', 'WatchDoBoolKeyStr': 'WatchParentWithParenterBool', 'BindDoClassStr': 'ParenterClass'}\n\n\n\n*****Start of the Attest *****\n\nMyParenter is < (ParenterClass), 4570207184>\n   /{ \n   /  '<New><Instance>IdStr' : 4570207184\n   /  '<New><Instance>NodeCollectionStr' : Global\n   /  '<New><Instance>NodeIndexInt' : -1\n   /  '<New><Instance>NodeKeyStr' : \n   /  '<New><Instance>NodePointDeriveNoder' : None\n   /  '<New><Instance>NodePointOrderedDict' : None\n   /  '<New><Instance>TreeCollectionOrderedDict' : \n   /   /{ \n   /   /  'ChildParenter' : < (ParenterClass), 4567892688>\n   /   /   /{ \n   /   /   /  '<New><Instance>IdStr' : 4567892688\n   /   /   /  '<New><Instance>NodeCollectionStr' : Tree\n   /   /   /  '<New><Instance>NodeIndexInt' : 0\n   /   /   /  '<New><Instance>NodeKeyStr' : ChildParenter\n   /   /   /  '<New><Instance>NodePointDeriveNoder' : {...}< (ParenterClass), 4570207184>\n   /   /   /  '<New><Instance>NodePointOrderedDict' : {...}< (OrderedDict), 4570171200>\n   /   /   /  '<New><Instance>TreeCollectionOrderedDict' : \n   /   /   /   /{ \n   /   /   /   /  'GrandChildParenter' : < (ParenterClass), 4570208784>\n   /   /   /   /   /{ \n   /   /   /   /   /  '<New><Instance>IdStr' : 4570208784\n   /   /   /   /   /  '<New><Instance>NodeCollectionStr' : Tree\n   /   /   /   /   /  '<New><Instance>NodeIndexInt' : 0\n   /   /   /   /   /  '<New><Instance>NodeKeyStr' : GrandChildParenter\n   /   /   /   /   /  '<New><Instance>NodePointDeriveNoder' : {...}< (ParenterClass), 4567892688>\n   /   /   /   /   /  '<New><Instance>NodePointOrderedDict' : {...}< (OrderedDict), 4570170904>\n   /   /   /   /   /  '<Spe><Class>ParentingWalkBool' : True\n   /   /   /   /   /  '<Spe><Instance>ParentedDeriveParentersList' : \n   /   /   /   /   /   /[\n   /   /   /   /   /   /  0 : {...}< (ParenterClass), 4567892688>\n   /   /   /   /   /   /  1 : {...}< (ParenterClass), 4570207184>\n   /   /   /   /   /   /]\n   /   /   /   /   /  '<Spe><Instance>ParentedNodeCollectionStrsList' : ['', '']\n   /   /   /   /   /  '<Spe><Instance>ParentedPathStr' : /ChildParenter\n   /   /   /   /   /}\n   /   /   /   /}\n   /   /   /  '<Spe><Class>ParentingWalkBool' : True\n   /   /   /  '<Spe><Instance>ParentedDeriveParentersList' : \n   /   /   /   /[\n   /   /   /   /  0 : {...}< (ParenterClass), 4570207184>\n   /   /   /   /]\n   /   /   /  '<Spe><Instance>ParentedNodeCollectionStrsList' : ['']\n   /   /   /  '<Spe><Instance>ParentedPathStr' : \n   /   /   /}\n   /   /}\n   /  '<Spe><Class>ParentedPathStr' : \n   /  '<Spe><Class>ParentingWalkBool' : True\n   /  '<Spe><Instance>ParentedDeriveParentersList' : []\n   /  '<Spe><Instance>ParentedNodeCollectionStrsList' : []\n   /}\n\n*****End of the Attest *****\n\n\n\n```\n", 
          "cell_type": "markdown", 
          "metadata": {}
        }
      ]
    }
  ], 
  "metadata": {
    "name": "", 
    "signature": ""
  }, 
  "nbformat_minor": 0
}