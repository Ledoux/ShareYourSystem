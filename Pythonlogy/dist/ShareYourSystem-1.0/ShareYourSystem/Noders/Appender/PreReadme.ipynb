{
  "nbformat": 3, 
  "worksheets": [
    {
      "cells": [
        {
          "source": "\n<!--\nFrozenIsBool False\n-->\n\n#Appender\n\n##Doc\n----\n\n\n> \n> An Appender append by doing a set in a NodedOrderedDict thanks to the <AppendedNodeCollectionStr><AppendedNodeKeyStr>\n> \n> \n\n----\n\n<small>\nView the Appender notebook on [NbViewer](http://nbviewer.ipython.org/url/shareyoursystem.ouvaton.org/Appender.ipynb)\n</small>\n\n", 
          "cell_type": "markdown", 
          "prompt_number": 0, 
          "metadata": {
            "slideshow": {
              "slide_type": "slide"
            }
          }
        }, 
        {
          "source": "\n<!--\nFrozenIsBool False\n-->\n\n##Code\n\n----\n\n<ClassDocStr>\n\n----\n\n```python\n# -*- coding: utf-8 -*-\n\"\"\"\n\n\n<DefineSource>\n@Date : Fri Nov 14 13:20:38 2014 \\n\n@Author : Erwan Ledoux \\n\\n\n</DefineSource>\n\n\nAn Appender append by doing a set in a NodedOrderedDict thanks to the <AppendedNodeCollectionStr><AppendedNodeKeyStr>\n\n\"\"\"\n\n\n#<DefineAugmentation>\nimport ShareYourSystem as SYS\nBaseModuleStr=\"ShareYourSystem.Noders.Noder\"\nDecorationModuleStr=\"ShareYourSystem.Classors.Classer\"\nSYS.setSubModule(globals())\n#</DefineAugmentation>\n\n#<ImportSpecificModules>\nimport collections\n\nfrom ShareYourSystem.Applyiers import Updater\nNoder=BaseModule\n#</ImportSpecificModules>\n\n#<DefineClass>\n@DecorationClass()\nclass AppenderClass(BaseClass):\n\t\n\t#Definition\n\tRepresentingKeyStrsList=[\n\t\t\t\t\t\t\t\t\t'AppendingCollectionVariable',\n\t\t\t\t\t\t\t\t\t'AppendedNodeCollectionStr', \n\t\t\t\t\t\t\t\t\t'AppendedNodeKeyStr'\n\t\t\t\t\t\t\t\t]\n\n\tdef default_init(self,\n\t\t\t\t\t\t_AppendingCollectionVariable=None, \t\t\t\t\n\t\t\t\t\t\t_AppendedNodeCollectionStr=\"\",\t\t\t\t\t\t\t\t\n\t\t\t\t\t\t_AppendedNodeKeyStr=\"\",\t\n\t\t\t\t\t\t**_KwargVariablesDict\n\t\t\t\t\t):\n\t\n\t\t#Call the parent __init__ method\n\t\tBaseClass.__init__(self,**_KwargVariablesDict)\n\n\tdef do_append(self):\n\t\t\"\"\" \"\"\"\n\t\t\n\t\t#debug\n\t\t'''\n\t\tself.debug('self.AppendingCollectionVariable is '+str(self.AppendingCollectionVariable))\n\t\t'''\n\n\t\t#TuplesList Case\n\t\tif SYS.getIsTuplesListBool(self.AppendingCollectionVariable):\n\n\t\t\t#debug\n\t\t\t'''\n\t\t\tself.debug('This is a tuples list')\n\t\t\t'''\n\n\t\t\t#Definition the KeyStrsList\n\t\t\tAppendedKeyStrsList=SYS.unzip(self.AppendingCollectionVariable,[0])\n\n\t\t\t#Look for an AppendingNodeCollectionStr\n\t\t\ttry:\n\t\t\t\tNodeCollectionStrIndexInt=AppendedKeyStrsList.index(\n\t\t\t\t\t\"NodeCollectionStr\"\n\t\t\t\t)\n\t\t\t\tself.AppendedNodeCollectionStr=self.AppendingCollectionVariable[\n\t\t\t\t\tNodeCollectionStrIndexInt\n\t\t\t\t][1]\n\t\t\t\t\n\t\t\t\t'''\n\t\t\t\t#self.AppendedKeyStrKeyStr='Noded'+self.AppendedNodeCollectionStr+'KeyStr'\n\t\t\t\ttry:\n\t\t\t\t\tAppendedKeyStrIndexInt=AppendedKeyStrsList.index(\n\t\t\t\t\t\tself.AppendedKeyStrKeyStr\n\t\t\t\t\t)\n\t\t\t\t\tself.AppendedKeyStr=self.AppendingCollectionVariable[KeyStrIndexInt][1]\n\t\t\t\texcept:\n\t\t\t\t\tpass\n\t\t\t\t'''\n\t\t\t\tNodeKeyStrIndexInt=AppendedKeyStrsList.index(\n\t\t\t\t\t\"NodeKeyStr\"\n\t\t\t\t)\n\t\t\t\tself.AppendedNodeKeyStr=self.AppendingCollectionVariable[\n\t\t\t\t\tNodeKeyStrIndexInt\n\t\t\t\t][1]\n\n\t\t\texcept:\n\t\t\t\tpass\n\n\t\telse:\n\n\t\t\t#Objects Case\n\t\t\tif \"AppenderClass\" in map(\n\t\t\t\t\t\t\tlambda __Class:\n\t\t\t\t\t\t\t__Class.__name__,\n\t\t\t\t\t\t\ttype(self.AppendingCollectionVariable).__mro__\n\t\t\t\t\t\t\t):\n\n\t\t\t\t#debug\n\t\t\t\t'''\n\t\t\t\tself.debug('This is a derived object from an Appender')\n\t\t\t\t'''\n\n\t\t\t\t#set\n\t\t\t\tAppendedDict=self.AppendingCollectionVariable.__dict__\n\n\t\t\t#dict Case\n\t\t\telif type(self.AppendingCollectionVariable) in [dict,collections.OrderedDict]:\n\t\t\t\tAppendedDict=self.AppendingCollectionVariable\n\n\t\t\ttry:\n\n\t\t\t\t#set\n\t\t\t\tself.AppendedNodeCollectionStr=AppendedDict[\"NodeCollectionStr\"]\n\t\t\t\tself.AppendedNodeKeyStr=AppendedDict[\n\t\t\t\t\t\t'NodeKeyStr'\n\t\t\t\t]\n\t\t\t\n\t\t\texcept:\n\t\t\t\tpass\n\n\t\t#Init the SettingVariable and Add the NodifyingStr\n\t\tAppendedSettingKeyVariable=Noder.NodingPrefixGetStr+self.AppendedNodeCollectionStr+Noder.NodingSuffixGetStr+self.AppendedNodeKeyStr\n\n\t\t#debug\n\t\tself.debug([\n\t\t\t\t\t\t('self.',self,[\n\t\t\t\t\t\t\t\t\t\t\t'AppendedNodeCollectionStr',\n\t\t\t\t\t\t\t\t\t\t\t'AppendedNodeKeyStr'\n\t\t\t\t\t\t\t\t\t\t])\n\t\t\t\t\t]\n\t\t\t\t)\n\n\t\t#Then set\n\t\tif AppendedSettingKeyVariable!=Noder.NodingPrefixGetStr+Noder.NodingSuffixGetStr:\n\t\t\tself.__setitem__(\n\t\t\t\t\t\t\t\tAppendedSettingKeyVariable,\n\t\t\t\t\t\t\t\tself.AppendingCollectionVariable\n\t\t\t\t\t\t\t)\n\n\t\t#Return self\n\t\t#return self\n\n#</DefineClass>\n\n```\n\n<small>\nView the Appender sources on <a href=\"https://github.com/Ledoux/ShareYourSystem/tree/master/Pythonlogy/ShareYourSystem/Noders/Appender\" target=\"_blank\">Github</a>\n</small>\n\n", 
          "cell_type": "markdown", 
          "prompt_number": 1, 
          "metadata": {
            "slideshow": {
              "slide_type": "subslide"
            }
          }
        }, 
        {
          "source": "\n<!---\nFrozenIsBool True\n-->\n\n##Example\n\nLet's create an empty class, which will automatically receive\nspecial attributes from the decorating ClassorClass,\nspecially the NameStr, that should be the ClassStr\nwithout the TypeStr in the end.", 
          "cell_type": "markdown", 
          "prompt_number": 2, 
          "metadata": {
            "slideshow": {
              "slide_type": "subslide"
            }
          }
        }, 
        {
          "cell_type": "code", 
          "prompt_number": 3, 
          "language": "python", 
          "input": [
            "#ImportModules\n", 
            "import ShareYourSystem as SYS\n", 
            "from ShareYourSystem.Noders import Appender\n", 
            "\n", 
            "#Append with a TuplesList\n", 
            "MyAppender=Appender.AppenderClass().append([\n", 
            "                                    ('NodeCollectionStr','Tree'),\n", 
            "                                    ('NodeKeyStr','MyTuplesList'),\n", 
            "                                    ('MyStr','Hello')\n", 
            "                                ]\n", 
            "                            )\n", 
            "\n", 
            "#Append with a dict\n", 
            "MyAppender.append({\n", 
            "                    'NodeCollectionStr':'Tree',\n", 
            "                    'NodeKeyStr':'MyDict',\n", 
            "                    'MyOtherStr':'Bonjour'\n", 
            "                    }\n", 
            "                )\n", 
            "\n", 
            "#Append with an instance\n", 
            "MyAppender.append(\n", 
            "                    Appender.AppenderClass().update(\n", 
            "                        [\n", 
            "                            ('NodeCollectionStr','Tree'),\n", 
            "                            ('NodeKeyStr','MyAppender')\n", 
            "                        ]\n", 
            "                    )\n", 
            "                )\n", 
            "\n", 
            "#Definition the AttestedStr\n", 
            "SYS._attest(\n", 
            "    [\n", 
            "        'MyAppender is '+SYS._str(\n", 
            "        MyAppender,\n", 
            "        **{\n", 
            "            'RepresentingBaseKeyStrsListBool':False,\n", 
            "            'RepresentingAlineaIsBool':False\n", 
            "        }\n", 
            "        )\n", 
            "    ]\n", 
            ")  \n", 
            "\n", 
            "#Print\n", 
            "\n", 
            "\n"
          ], 
          "outputs": [
            {
              "output_type": "stream", 
              "stream": "stdout", 
              "text": [
                "                    \n", 
                "                    xxxxxxxxxxxxxxxxxxxxxxxxxxxxxxxxxxxxxxxxxxxxxxxxxxxxxxxxxxxxxxxxxxxxxxxxxxxxxxxxxxxxxxxxxxxx\n", 
                "                    ////////////////////////////////\n", 
                "                    Appender/__init__.py do_append\n", 
                "                    From Appender/__init__.py do_append | site-packages/six.py exec_ | Celler/__init__.py do_cell | Notebooker/__init__.py do_notebook | Informer/__init__.py do_inform | inform.py <module>\n", 
                "                    ////////////////////////////////\n", 
                "                    \n", 
                "                    l.138 : \n", 
                "                    *****\n", 
                "                    I am with [('NodeKeyStr', 'TopAppender')]\n", 
                "                    *****\n", 
                "                    self.AppendedNodeCollectionStr is Tree\n", 
                "                    self.AppendedNodeKeyStr is MyTuplesList\n", 
                "                    \n", 
                "                    xxxxxxxxxxxxxxxxxxxxxxxxxxxxxxxxxxxxxxxxxxxxxxxxxxxxxxxxxxxxxxxxxxxxxxxxxxxxxxxxxxxxxxxxxxxx\n", 
                "                                        \n", 
                "                    \n", 
                "                    xxxxxxxxxxxxxxxxxxxxxxxxxxxxxxxxxxxxxxxxxxxxxxxxxxxxxxxxxxxxxxxxxxxxxxxxxxxxxxxxxxxxxxxxxxxx\n", 
                "                    ////////////////////////////////\n", 
                "                    Appender/__init__.py do_append\n", 
                "                    From Appender/__init__.py do_append | site-packages/six.py exec_ | Celler/__init__.py do_cell | Notebooker/__init__.py do_notebook | Informer/__init__.py do_inform | inform.py <module>\n", 
                "                    ////////////////////////////////\n", 
                "                    \n", 
                "                    l.138 : \n", 
                "                    *****\n", 
                "                    I am with [('NodeKeyStr', 'TopAppender')]\n", 
                "                    *****\n", 
                "                    self.AppendedNodeCollectionStr is Tree\n", 
                "                    self.AppendedNodeKeyStr is MyDict\n", 
                "                    \n", 
                "                    xxxxxxxxxxxxxxxxxxxxxxxxxxxxxxxxxxxxxxxxxxxxxxxxxxxxxxxxxxxxxxxxxxxxxxxxxxxxxxxxxxxxxxxxxxxx\n", 
                "                                        \n", 
                "                    \n", 
                "                    xxxxxxxxxxxxxxxxxxxxxxxxxxxxxxxxxxxxxxxxxxxxxxxxxxxxxxxxxxxxxxxxxxxxxxxxxxxxxxxxxxxxxxxxxxxx\n", 
                "                    ////////////////////////////////\n", 
                "                    Appender/__init__.py do_append\n", 
                "                    From Appender/__init__.py do_append | site-packages/six.py exec_ | Celler/__init__.py do_cell | Notebooker/__init__.py do_notebook | Informer/__init__.py do_inform | inform.py <module>\n", 
                "                    ////////////////////////////////\n", 
                "                    \n", 
                "                    l.138 : \n", 
                "                    *****\n", 
                "                    I am with [('NodeKeyStr', 'TopAppender')]\n", 
                "                    *****\n", 
                "                    self.AppendedNodeCollectionStr is Tree\n", 
                "                    self.AppendedNodeKeyStr is MyAppender\n", 
                "                    \n", 
                "                    xxxxxxxxxxxxxxxxxxxxxxxxxxxxxxxxxxxxxxxxxxxxxxxxxxxxxxxxxxxxxxxxxxxxxxxxxxxxxxxxxxxxxxxxxxxx\n", 
                "                                        \n", 
                "\n", 
                "\n", 
                "*****Start of the Attest *****\n", 
                "\n", 
                "MyAppender is < (AppenderClass), 4556357392>\n", 
                "   /{ \n", 
                "   /  '<New><Instance>IdInt' : 4556357392\n", 
                "   /  '<New><Instance>NodeCollectionStr' : Globals\n", 
                "   /  '<New><Instance>NodeIndexInt' : -1\n", 
                "   /  '<New><Instance>NodeKeyStr' : TopAppender\n", 
                "   /  '<New><Instance>NodePointDeriveNoder' : None\n", 
                "   /  '<New><Instance>NodePointOrderedDict' : None\n", 
                "   /  '<New><Instance>TreeCollectionOrderedDict' : \n", 
                "   /   /{ \n", 
                "   /   /  'MyTuplesList' : \n", 
                "   /   /   /[\n", 
                "   /   /   /  0 : ('NodeCollectionStr', 'Tree')\n", 
                "   /   /   /  1 : ('NodeKeyStr', 'MyTuplesList')\n", 
                "   /   /   /  2 : ('MyStr', 'Hello')\n", 
                "   /   /   /]\n", 
                "   /   /  'MyDict' : \n", 
                "   /   /   /{ \n", 
                "   /   /   /  'MyOtherStr' : Bonjour\n", 
                "   /   /   /  'NodeCollectionStr' : Tree\n", 
                "   /   /   /  'NodeKeyStr' : MyDict\n", 
                "   /   /   /}\n", 
                "   /   /  'MyAppender' : < (AppenderClass), 4556355536>\n", 
                "   /   /   /{ \n", 
                "   /   /   /  '<New><Instance>IdInt' : 4556355536\n", 
                "   /   /   /  '<New><Instance>NodeCollectionStr' : Tree\n", 
                "   /   /   /  '<New><Instance>NodeIndexInt' : 2\n", 
                "   /   /   /  '<New><Instance>NodeKeyStr' : MyAppender\n", 
                "   /   /   /  '<New><Instance>NodePointDeriveNoder' : {...}< (AppenderClass), 4556357392>\n", 
                "   /   /   /  '<New><Instance>NodePointOrderedDict' : {...}< (OrderedDict), 4556379080>\n", 
                "   /   /   /  '<Spe><Class>AppendedNodeCollectionStr' : \n", 
                "   /   /   /  '<Spe><Class>AppendedNodeKeyStr' : \n", 
                "   /   /   /  '<Spe><Class>AppendingCollectionVariable' : None\n", 
                "   /   /   /}\n", 
                "   /   /}\n", 
                "   /  '<Spe><Instance>AppendedNodeCollectionStr' : Tree\n", 
                "   /  '<Spe><Instance>AppendedNodeKeyStr' : MyAppender\n", 
                "   /  '<Spe><Instance>AppendingCollectionVariable' : {...}< (AppenderClass), 4556355536>\n", 
                "   /}\n", 
                "\n", 
                "*****End of the Attest *****\n", 
                "\n", 
                "\n"
              ]
            }
          ], 
          "collapsed": false, 
          "metadata": {
            "slideshow": {
              "slide_type": "-"
            }
          }
        }
      ]
    }
  ], 
  "metadata": {
    "name": "", 
    "signature": ""
  }, 
  "nbformat_minor": 0
}