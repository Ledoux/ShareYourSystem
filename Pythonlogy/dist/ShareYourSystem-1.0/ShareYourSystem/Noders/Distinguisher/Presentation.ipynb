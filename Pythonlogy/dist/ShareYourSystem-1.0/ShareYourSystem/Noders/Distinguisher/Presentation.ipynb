{
  "nbformat": 3, 
  "worksheets": [
    {
      "cells": [
        {
          "source": "\n<!--\nFrozenIsBool False\n-->\n\n#Distinguisher\n\n##Doc\n----\n\n\n> \n> A Distinguisher is a bit the opposite of a Commander, it updates\n> for every child nodes with a distinguished tuples list.\n> \n> \n\n----\n\n<small>\nView the Distinguisher notebook on [NbViewer](http://nbviewer.ipython.org/url/shareyoursystem.ouvaton.org/Distinguisher.ipynb)\n</small>\n\n", 
          "cell_type": "markdown", 
          "prompt_number": 0, 
          "metadata": {
            "slideshow": {
              "slide_type": "slide"
            }
          }
        }, 
        {
          "source": "\n<!--\nFrozenIsBool False\n-->\n\n##Code\n\n----\n\n<ClassDocStr>\n\n----\n\n```python\n# -*- coding: utf-8 -*-\n\"\"\"\n\n\n<DefineSource>\n@Date : Fri Nov 14 13:20:38 2014 \\n\n@Author : Erwan Ledoux \\n\\n\n</DefineSource>\n\n\nA Distinguisher is a bit the opposite of a Commander, it updates\nfor every child nodes with a distinguished tuples list.\n\n\"\"\"\n\n#<DefineAugmentation>\nimport ShareYourSystem as SYS\nBaseModuleStr=\"ShareYourSystem.Noders.Adder\"\nDecorationModuleStr=\"ShareYourSystem.Classors.Classer\"\nSYS.setSubModule(globals())\n#</DefineAugmentation>\n\n#<ImportSpecificModules>\nfrom ShareYourSystem.Noders import Noder\n#</ImportSpecificModules>\n\n#<DefineLocals>\nDistinguishingPrefixStr=\"Dis_\"\n#</DefineLocals\n\n#<DefineClass>\n@DecorationClass()\nclass DistinguisherClass(BaseClass):\n\n\t#Definition \n\tRepresentingKeyStrsList=[\n\t\t\t\t\t\t\t\t'DistinguishingNodeStr',\n\t\t\t\t\t\t\t\t'DistinguishingUpdatesList',\n\t\t\t\t\t\t\t\t'DistinguishedCollectionOrderedDict'\n\t\t\t\t\t\t\t]\n\n\tdef default_init(self,\n\t\t\t\t_DistinguishingNodeStr=\"\",\n\t\t\t\t_DistinguishingUpdatesList=None,\t\n\t\t\t\t_DistinguishedCollectionOrderedDict=None,\t\t\t\t\t\t\n\t\t\t\t**_KwargVariablesDict\n\t\t\t\t):\n\n\t\t#Call the parent __init__ method\n\t\tBaseClass.__init__(self,**_KwargVariablesDict)\n\n\tdef mimic_set(self):\n\t\t\"\"\" \"\"\"\n\n\t\t#debug\n\t\t'''\n\t\tself.debug(('self.',self,['SettingKeyVariable','SettingValueVariable']))\n\t\t'''\n\n\t\t#Definition\n\t\tOutputDict={'HookingIsBool':True}\n\n\t\t#Deep set\n\t\tif self.SettingKeyVariable.startswith(DistinguishingPrefixStr):\n\n\t\t\t#debug\n\t\t\t'''\n\t\t\tself.debug('We are going to distinguish')\n\t\t\t'''\n\n\t\t\t\n\t\t\t#set arguments\n\t\t\tself.DistinguishingNodeStr=Noder.NodingSuffixGetStr.join(\n\t\t\t\t\t(\n\t\t\t\t\t\tNoder.NodingPrefixGetStr.join(\n\t\t\t\t\t\t\tself.SettingKeyVariable.split(\n\t\t\t\t\t\t\t\tNoder.NodingPrefixGetStr\n\t\t\t\t\t\t\t)[1:]\n\t\t\t\t\t\t)\n\t\t\t\t\t).split(Noder.NodingSuffixGetStr)[:-1]\n\t\t\t\t)\n\n\t\t\tself.DistinguishingUpdatesList=self.SettingValueVariable\n\n\t\t\t#debug\n\t\t\t'''\n\t\t\tself.debug(('self.',self,[\n\t\t\t\t\t'DistinguishingNodeStr',\n\t\t\t\t\t'DistinguishingUpdatesList'\n\t\t\t\t\t]))\n\t\t\t'''\n\t\t\t\n\t\t\t#distinguish\n\t\t\tself.distinguish()\n\n\t\t\t#Stop the setting\n\t\t\tOutputDict[\"HookingIsBool\"]=False\n\t\t\t#<Hook>return OutputDict\n\n\t\t#Call the parent get method\n\t\tif OutputDict['HookingIsBool']:\n\t\t\tBaseClass.set(self)\n\n\tdef do_distinguish(self):\n\t\t\"\"\" \"\"\"\n\n\t\t#Check\n\t\tif self.DistinguishingNodeStr!=\"\":\n\n\t\t\t#debug\n\t\t\t'''\n\t\t\tself.debug(('self.',self,['DistinguishingNodeStr']))\n\t\t\t'''\n\n\t\t\t#get\n\t\t\tself.DistinguishedCollectionOrderedDict=getattr(\n\t\t\t\tself,\n\t\t\t\tself.DistinguishingNodeStr+'CollectionOrderedDict'\n\t\t\t)\n\n\t\t\t#Map the distinguished updates\n\t\t\tmap(\n\t\t\t\tlambda __NodeVariable,__UpdateTuplesList:\n\t\t\t\t__NodeVariable.update(__UpdateTuplesList),\n\t\t\t\tself.DistinguishedCollectionOrderedDict.values(),\n\t\t\t\tself.DistinguishingUpdatesList\n\t\t\t)\n\n#</DefineClass>\n\n```\n\n<small>\nView the Distinguisher sources on <a href=\"https://github.com/Ledoux/ShareYourSystem/tree/master/Pythonlogy/ShareYourSystem/Noders/Distinguisher\" target=\"_blank\">Github</a>\n</small>\n\n", 
          "cell_type": "markdown", 
          "prompt_number": 1, 
          "metadata": {
            "slideshow": {
              "slide_type": "subslide"
            }
          }
        }, 
        {
          "source": "\n<!---\nFrozenIsBool True\n-->\n\n##Example\n\nLet's create an empty class, which will automatically receive\nspecial attributes from the decorating ClassorClass,\nspecially the NameStr, that should be the ClassStr\nwithout the TypeStr in the end.", 
          "cell_type": "markdown", 
          "prompt_number": 2, 
          "metadata": {
            "slideshow": {
              "slide_type": "subslide"
            }
          }
        }, 
        {
          "cell_type": "code", 
          "prompt_number": 3, 
          "language": "python", 
          "input": [
            "\n", 
            "#ImportModules\n", 
            "import ShareYourSystem as SYS\n", 
            "from ShareYourSystem.Noders import Distinguisher\n", 
            "import copy\n", 
            "\n", 
            "#Definition a tree of Distinguishers.\n", 
            "MyDistinguisher=Distinguisher.DistinguisherClass().__add__(\n", 
            "    [\n", 
            "        Distinguisher.DistinguisherClass().update(\n", 
            "            [\n", 
            "                ('NodeCollectionStr','Tree'),\n", 
            "                ('NodeKeyStr',str(Int1))\n", 
            "            ]\n", 
            "        ) for Int1 in xrange(2)\n", 
            "    ]\n", 
            ")\n", 
            "\n", 
            "#distinguish\n", 
            "MyDistinguisher.distinguish(\"Tree\",[\n", 
            "                                        [('MyStr',\"hello\")],\n", 
            "                                        [('MyInt',0)]\n", 
            "                                    ])\n", 
            "\n", 
            "#distinguish through setting\n", 
            "MyDistinguisher.__setitem__(\n", 
            "    \"Dis_<Tree>\",\n", 
            "    [\n", 
            "        [('MyOtherStr',\"bonjour\")],\n", 
            "        [('MyOtherInt',1)]\n", 
            "    ]\n", 
            ")\n", 
            "\n", 
            "#Definition the AttestedStr\n", 
            "SYS._attest(\n", 
            "    [\n", 
            "        'MyDistinguisher is '+SYS._str(\n", 
            "        MyDistinguisher,\n", 
            "        **{\n", 
            "            'RepresentingBaseKeyStrsListBool':False,\n", 
            "            'RepresentingAlineaIsBool':False\n", 
            "        }\n", 
            "        )\n", 
            "    ]\n", 
            ")  \n", 
            "\n", 
            "#Print\n", 
            "\n", 
            "\n"
          ], 
          "outputs": [
            {
              "output_type": "stream", 
              "stream": "stdout", 
              "text": [
                "                                            \n", 
                "                                            xxxxxxxxxxxxxxxxxxxxxxxxxxxxxxxxxxxxxxxxxxxxxxxxxxxxxxxxxxxxxxxxxxxxxxxxxxxxxxxxxxxxxxxxxxxx\n", 
                "                                            ////////////////////////////////\n", 
                "                                            Appender/__init__.py do_append\n", 
                "                                            From Appender/__init__.py do_append | Instancer/__init__.py mimic_append | Mimicker/__init__.py mimic | Applyier/__init__.py do_apply | Mapper/__init__.py do_map | Adder/__init__.py do_add | Adder/__init__.py __add__ | site-packages/six.py exec_ | Celler/__init__.py do_cell | Notebooker/__init__.py do_notebook | Informer/__init__.py do_inform | inform.py <module>\n", 
                "                                            ////////////////////////////////\n", 
                "                                            \n", 
                "                                            l.138 : \n", 
                "                                            *****\n", 
                "                                            I am with [('NodeKeyStr', 'TopDistinguisher')]\n", 
                "                                            *****\n", 
                "                                            self.AppendedNodeCollectionStr is Tree\n", 
                "                                            self.AppendedNodeKeyStr is 0\n", 
                "                                            \n", 
                "                                            xxxxxxxxxxxxxxxxxxxxxxxxxxxxxxxxxxxxxxxxxxxxxxxxxxxxxxxxxxxxxxxxxxxxxxxxxxxxxxxxxxxxxxxxxxxx\n", 
                "                                                                                        \n", 
                "                                            \n", 
                "                                            xxxxxxxxxxxxxxxxxxxxxxxxxxxxxxxxxxxxxxxxxxxxxxxxxxxxxxxxxxxxxxxxxxxxxxxxxxxxxxxxxxxxxxxxxxxx\n", 
                "                                            ////////////////////////////////\n", 
                "                                            Appender/__init__.py do_append\n", 
                "                                            From Appender/__init__.py do_append | Instancer/__init__.py mimic_append | Mimicker/__init__.py mimic | Applyier/__init__.py do_apply | Mapper/__init__.py do_map | Adder/__init__.py do_add | Adder/__init__.py __add__ | site-packages/six.py exec_ | Celler/__init__.py do_cell | Notebooker/__init__.py do_notebook | Informer/__init__.py do_inform | inform.py <module>\n", 
                "                                            ////////////////////////////////\n", 
                "                                            \n", 
                "                                            l.138 : \n", 
                "                                            *****\n", 
                "                                            I am with [('NodeKeyStr', 'TopDistinguisher')]\n", 
                "                                            *****\n", 
                "                                            self.AppendedNodeCollectionStr is Tree\n", 
                "                                            self.AppendedNodeKeyStr is 1\n", 
                "                                            \n", 
                "                                            xxxxxxxxxxxxxxxxxxxxxxxxxxxxxxxxxxxxxxxxxxxxxxxxxxxxxxxxxxxxxxxxxxxxxxxxxxxxxxxxxxxxxxxxxxxx\n", 
                "                                                                                        \n", 
                "\n", 
                "\n", 
                "*****Start of the Attest *****\n", 
                "\n", 
                "MyDistinguisher is < (DistinguisherClass), 4557734416>\n", 
                "   /{ \n", 
                "   /  '<New><Instance>IdInt' : 4557734416\n", 
                "   /  '<New><Instance>NodeCollectionStr' : Globals\n", 
                "   /  '<New><Instance>NodeIndexInt' : -1\n", 
                "   /  '<New><Instance>NodeKeyStr' : TopDistinguisher\n", 
                "   /  '<New><Instance>NodePointDeriveNoder' : None\n", 
                "   /  '<New><Instance>NodePointOrderedDict' : None\n", 
                "   /  '<New><Instance>TreeCollectionOrderedDict' : \n", 
                "   /   /{ \n", 
                "   /   /  '0' : < (DistinguisherClass), 4557736784>\n", 
                "   /   /   /{ \n", 
                "   /   /   /  '<New><Instance>IdInt' : 4557736784\n", 
                "   /   /   /  '<New><Instance>MyOtherStr' : bonjour\n", 
                "   /   /   /  '<New><Instance>MyStr' : hello\n", 
                "   /   /   /  '<New><Instance>NodeCollectionStr' : Tree\n", 
                "   /   /   /  '<New><Instance>NodeIndexInt' : 0\n", 
                "   /   /   /  '<New><Instance>NodeKeyStr' : 0\n", 
                "   /   /   /  '<New><Instance>NodePointDeriveNoder' : {...}< (DistinguisherClass), 4557734416>\n", 
                "   /   /   /  '<New><Instance>NodePointOrderedDict' : {...}< (OrderedDict), 4557626632>\n", 
                "   /   /   /  '<Spe><Class>DistinguishedCollectionOrderedDict' : None\n", 
                "   /   /   /  '<Spe><Class>DistinguishingNodeStr' : \n", 
                "   /   /   /  '<Spe><Class>DistinguishingUpdatesList' : None\n", 
                "   /   /   /}\n", 
                "   /   /  '1' : < (DistinguisherClass), 4557737104>\n", 
                "   /   /   /{ \n", 
                "   /   /   /  '<New><Instance>IdInt' : 4557737104\n", 
                "   /   /   /  '<New><Instance>MyInt' : 0\n", 
                "   /   /   /  '<New><Instance>MyOtherInt' : 1\n", 
                "   /   /   /  '<New><Instance>NodeCollectionStr' : Tree\n", 
                "   /   /   /  '<New><Instance>NodeIndexInt' : 1\n", 
                "   /   /   /  '<New><Instance>NodeKeyStr' : 1\n", 
                "   /   /   /  '<New><Instance>NodePointDeriveNoder' : {...}< (DistinguisherClass), 4557734416>\n", 
                "   /   /   /  '<New><Instance>NodePointOrderedDict' : {...}< (OrderedDict), 4557626632>\n", 
                "   /   /   /  '<Spe><Class>DistinguishedCollectionOrderedDict' : None\n", 
                "   /   /   /  '<Spe><Class>DistinguishingNodeStr' : \n", 
                "   /   /   /  '<Spe><Class>DistinguishingUpdatesList' : None\n", 
                "   /   /   /}\n", 
                "   /   /}\n", 
                "   /  '<Spe><Instance>DistinguishedCollectionOrderedDict' : {...}< (OrderedDict), 4557626632>\n", 
                "   /  '<Spe><Instance>DistinguishingNodeStr' : Tree\n", 
                "   /  '<Spe><Instance>DistinguishingUpdatesList' : \n", 
                "   /   /[\n", 
                "   /   /  0 : \n", 
                "   /   /   /[\n", 
                "   /   /   /  0 : ('MyOtherStr', 'bonjour')\n", 
                "   /   /   /]\n", 
                "   /   /  1 : \n", 
                "   /   /   /[\n", 
                "   /   /   /  0 : ('MyOtherInt', 1)\n", 
                "   /   /   /]\n", 
                "   /   /]\n", 
                "   /}\n", 
                "\n", 
                "*****End of the Attest *****\n", 
                "\n", 
                "\n"
              ]
            }
          ], 
          "collapsed": false, 
          "metadata": {
            "slideshow": {
              "slide_type": "-"
            }
          }
        }
      ]
    }
  ], 
  "metadata": {
    "name": "", 
    "signature": ""
  }, 
  "nbformat_minor": 0
}