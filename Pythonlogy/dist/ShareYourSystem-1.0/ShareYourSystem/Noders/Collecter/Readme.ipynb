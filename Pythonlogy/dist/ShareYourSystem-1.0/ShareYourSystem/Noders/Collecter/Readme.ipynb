{
  "nbformat": 3, 
  "worksheets": [
    {
      "cells": [
        {
          "source": [
            "#Storer\n", 
            " @Date : Fri Nov 14 13:20:38 2014 \n\n@Author : Erwan Ledoux \n\n\n\nStorer instances\n\n\n"
          ], 
          "cell_type": "markdown", 
          "metadata": {}
        }, 
        {
          "source": "\n<!--\nFrozenIsBool False\n-->\n\nView the Storer sources on [Github](https://github.com/Ledoux/ShareYourSystem/tree/master/ShareYourSystem/Noders/Installer)\n\n", 
          "cell_type": "markdown", 
          "prompt_number": 0, 
          "metadata": {}
        }, 
        {
          "source": "```python\n\n#ImportModules\nimport ShareYourSystem as SYS\nfrom ShareYourSystem.Tools import Tool\nfrom ShareYourSystem.Noders import Noder,Storer\n\n#Definition of an instance\nMyStorer=Storer.StorerClass().collect(\n    'Nodome',\n    'First',\n    Noder.NoderClass()\n).collect(\n    'Nodome',\n    'Second',\n    Noder.NoderClass()\n)\n\n#Definition the AttestedStr\nSYS._attest(\n    [\n        'MyStorer is '+SYS._str(\n        MyStorer,\n        **{\n            'RepresentingBaseKeyStrsListBool':False,\n            'RepresentingAlineaIsBool':False\n        }\n        )\n    ]\n) \n\n#Print\n\n\n\n```\n", 
          "cell_type": "markdown", 
          "metadata": {}
        }, 
        {
          "source": "```console\n>>>\n\n\n*****Start of the Attest *****\n\nMyStorer is < (StorerClass), 4567894352>\n   /{ \n   /  '<New><Instance>IdStr' : 4567894352\n   /  '<New><Instance>NodeCollectionStr' : Global\n   /  '<New><Instance>NodeIndexInt' : -1\n   /  '<New><Instance>NodeKeyStr' : \n   /  '<New><Instance>NodePointDeriveNoder' : None\n   /  '<New><Instance>NodePointOrderedDict' : None\n   /  '<New><Instance>NodomeCollectionOrderedDict' : \n   /   /{ \n   /   /  'FirstNoder' : < (NoderClass), 4567707792>\n   /   /   /{ \n   /   /   /  '<New><Instance>IdStr' : 4567707792\n   /   /   /  '<New><Instance>NodeCollectionStr' : Nodome\n   /   /   /  '<New><Instance>NodeIndexInt' : 0\n   /   /   /  '<New><Instance>NodeKeyStr' : FirstNoder\n   /   /   /  '<New><Instance>NodePointDeriveNoder' : {...}< (StorerClass), 4567894352>\n   /   /   /  '<New><Instance>NodePointOrderedDict' : {...}< (OrderedDict), 4570225928>\n   /   /   /  '<Spe><Class>NodedCollectionIndexInt' : -1\n   /   /   /  '<Spe><Class>NodedCollectionOrderedDict' : None\n   /   /   /  '<Spe><Class>NodedCollectionStr' : \n   /   /   /  '<Spe><Class>NodedKeyStr' : \n   /   /   /  '<Spe><Class>NodingCollectionStr' : \n   /   /   /}\n   /   /  'SecondNoder' : < (NoderClass), 4570220240>\n   /   /   /{ \n   /   /   /  '<New><Instance>IdStr' : 4570220240\n   /   /   /  '<New><Instance>NodeCollectionStr' : Nodome\n   /   /   /  '<New><Instance>NodeIndexInt' : 1\n   /   /   /  '<New><Instance>NodeKeyStr' : SecondNoder\n   /   /   /  '<New><Instance>NodePointDeriveNoder' : {...}< (StorerClass), 4567894352>\n   /   /   /  '<New><Instance>NodePointOrderedDict' : {...}< (OrderedDict), 4570225928>\n   /   /   /  '<Spe><Class>NodedCollectionIndexInt' : -1\n   /   /   /  '<Spe><Class>NodedCollectionOrderedDict' : None\n   /   /   /  '<Spe><Class>NodedCollectionStr' : \n   /   /   /  '<Spe><Class>NodedKeyStr' : \n   /   /   /  '<Spe><Class>NodingCollectionStr' : \n   /   /   /}\n   /   /}\n   /  '<Spe><Instance>StoredGetStr' : <Nodome>\n   /  '<Spe><Instance>StoredSuffixStr' : Noder\n   /  '<Spe><Instance>CollectingCollectionStr' : Nodome\n   /  '<Spe><Instance>CollectingNodeKeyStr' : Second\n   /  '<Spe><Instance>CollectingNodeVariable' : {...}< (NoderClass), 4570220240>\n   /}\n\n*****End of the Attest *****\n\n\n\n```\n", 
          "cell_type": "markdown", 
          "metadata": {}
        }
      ]
    }
  ], 
  "metadata": {
    "name": "", 
    "signature": ""
  }, 
  "nbformat_minor": 0
}