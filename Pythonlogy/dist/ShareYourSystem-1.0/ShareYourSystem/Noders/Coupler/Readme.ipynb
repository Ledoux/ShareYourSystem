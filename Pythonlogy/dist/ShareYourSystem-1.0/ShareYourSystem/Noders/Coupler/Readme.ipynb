{
  "nbformat": 3, 
  "worksheets": [
    {
      "cells": [
        {
          "source": "\n<!--\nFrozenIsBool False\n-->\n\n#Coupler\n\n##Doc\n----\n\n\n> \n> A Coupler \n> \n> \n\n----\n\n<small>\nView the Coupler notebook on [NbViewer](http://nbviewer.ipython.org/url/shareyoursystem.ouvaton.org/Coupler.ipynb)\n</small>\n\n", 
          "cell_type": "markdown", 
          "prompt_number": 0, 
          "metadata": {
            "slideshow": {
              "slide_type": "slide"
            }
          }
        }, 
        {
          "source": "\n<!--\nFrozenIsBool False\n-->\n\n##Code\n\n----\n\n<ClassDocStr>\n\n----\n\n```python\n# -*- coding: utf-8 -*-\n\"\"\"\n\n\n<DefineSource>\n@Date : Fri Nov 14 13:20:38 2014 \\n\n@Author : Erwan Ledoux \\n\\n\n</DefineSource>\n\n\nA Coupler \n\n\"\"\"\n\n\n#<DefineAugmentation>\nimport ShareYourSystem as SYS\nBaseModuleStr=\"ShareYourSystem.Noders.Attentioner\"\nDecorationModuleStr=\"ShareYourSystem.Classors.Classer\"\nSYS.setSubModule(globals())\n#</DefineAugmentation>\n\n#<ImportSpecificModules>\n\nfrom ShareYourSystem.Itemizers import Pather\nfrom ShareYourSystem.Noders import Noder\n#</ImportSpecificModules>\n\n#<DefineClass>\n@DecorationClass()\nclass CouplerClass(BaseClass):\n\t\n\t#Definition\n\tRepresentingKeyStrsList=[\n\t\t\t\t\t\t\t\t'CouplingNodeStr',\n\t\t\t\t\t\t\t\t'CouplingGetStr',\n\t\t\t\t\t\t\t\t'CoupledGetStr'\n\t\t\t\t\t\t\t]\n\n\tdef default_init(self,\n\t\t\t\t\t\t_CouplingNodeStr=\"\",\n\t\t\t\t\t\t_CouplingGetStr=\"\",\t\n\t\t\t\t\t\t_CoupledGetStr=\"\",\n\t\t\t\t\t\t**_KwargVariablesDict\n\t\t\t\t\t):\n\t\n\t\t#Call the parent __init__ method\n\t\tBaseClass.__init__(self,**_KwargVariablesDict)\n\n\tdef do_couple(self):\n\n\t\t#debug\n\t\t'''\n\t\tself.debug(('self.',self,[\n\t\t\t\t\t\t\t\t\t'CouplingNodeStr',\n\t\t\t\t\t\t\t\t\t'CouplingGetStr',\n\t\t\t\t\t\t\t\t\t'PointingBackBool'\n\t\t\t\t\t\t\t\t]))\n\t\t'''\n\t\t\n\t\t#set\n\t\tself.CoupledGetStr=Noder.NodingPrefixGetStr+self.CouplingNodeStr+Noder.NodingSuffixGetStr\n\t\tself.PointingSetPathStr=self.CoupledGetStr+self.CouplingGetStr.split(\n\t\t\t\t\t\tNoder.NodingSuffixGetStr\n\t\t\t\t\t)[-1]\n\n\t\t#debug\n\t\t'''\n\t\tself.debug(('self.',self,['CoupledGetStr','PointingSetPathStr']))\n\t\t'''\n\n\t\t#point\n\t\tself.point(\n\t\t\t\t\tself.CouplingGetStr,\n\t\t\t\t\tself.PointingSetPathStr\n\t\t\t\t)\n\n\t\t#Return self\n\t\t#return self\n\n#</DefineClass>\n\n```\n\n<small>\nView the Coupler sources on <a href=\"https://github.com/Ledoux/ShareYourSystem/tree/master/Pythonlogy/ShareYourSystem/Noders/Coupler\" target=\"_blank\">Github</a>\n</small>\n\n", 
          "cell_type": "markdown", 
          "prompt_number": 1, 
          "metadata": {
            "slideshow": {
              "slide_type": "subslide"
            }
          }
        }, 
        {
          "source": "```python\n\n#ImportModules\nimport ShareYourSystem as SYS\nfrom ShareYourSystem.Noders import Coupler\n\n#store\nMyCoupler=Coupler.CouplerClass().collect(\n        'Couplome',\n        'FirstChild',\n        Coupler.CouplerClass()\n).collect(\n        'Couplome',\n        'SecondChild',\n        Coupler.CouplerClass()\n)\n\n#couple\nMyCoupler['<Couplome>SecondChildCoupler'].couple(\n            'Relatome',\n            '/NodePointDeriveNoder/<Couplome>FirstChildCoupler'\n    )\n\n#Return\nSYS._attest(\n    [\n    'MyCoupler is '+SYS._str(\n            MyCoupler,\n            **{\n                'RepresentingBaseKeyStrsListBool':False,\n                'RepresentingAlineaIsBool':False\n            }\n        )\n    ]\n)\n\n#Print\n\n\n\n```\n", 
          "cell_type": "markdown", 
          "metadata": {}
        }, 
        {
          "source": "```console\n>>>\n\n\n*****Start of the Attest *****\n\nMyCoupler is < (CouplerClass), 4555634704>\n   /{ \n   /  '<New><Instance>CouplomeCollectionOrderedDict' : \n   /   /{ \n   /   /  'FirstChildCoupler' : < (CouplerClass), 4555634256>\n   /   /   /{ \n   /   /   /  '<New><Instance>IdInt' : 4555634256\n   /   /   /  '<New><Instance>NodeCollectionStr' : Relatome\n   /   /   /  '<New><Instance>NodeIndexInt' : 0\n   /   /   /  '<New><Instance>NodeKeyStr' : FirstChildCoupler\n   /   /   /  '<New><Instance>NodePointDeriveNoder' : < (CouplerClass), 4555535248>\n   /   /   /   /{ \n   /   /   /   /  '<New><Instance>IdInt' : 4555535248\n   /   /   /   /  '<New><Instance>NodeCollectionStr' : Couplome\n   /   /   /   /  '<New><Instance>NodeIndexInt' : 1\n   /   /   /   /  '<New><Instance>NodeKeyStr' : SecondChildCoupler\n   /   /   /   /  '<New><Instance>NodePointDeriveNoder' : {...}< (CouplerClass), 4555634704>\n   /   /   /   /  '<New><Instance>NodePointOrderedDict' : {...}< (OrderedDict), 4555707336>\n   /   /   /   /  '<New><Instance>RelatomeCollectionOrderedDict' : \n   /   /   /   /   /{ \n   /   /   /   /   /  'FirstChildCoupler' : {...}< (CouplerClass), 4555634256>\n   /   /   /   /   /}\n   /   /   /   /  '<Spe><Instance>CoupledGetStr' : <Relatome>\n   /   /   /   /  '<Spe><Instance>CouplingGetStr' : /NodePointDeriveNoder/<Couplome>FirstChildCoupler\n   /   /   /   /  '<Spe><Instance>CouplingNodeStr' : Relatome\n   /   /   /   /}\n   /   /   /  '<New><Instance>NodePointOrderedDict' : {...}< (OrderedDict), 4555707632>\n   /   /   /  '<Spe><Class>CoupledGetStr' : \n   /   /   /  '<Spe><Class>CouplingGetStr' : \n   /   /   /  '<Spe><Class>CouplingNodeStr' : \n   /   /   /}\n   /   /  'SecondChildCoupler' : {...}< (CouplerClass), 4555535248>\n   /   /}\n   /  '<New><Instance>IdInt' : 4555634704\n   /  '<New><Instance>NodeCollectionStr' : Globals\n   /  '<New><Instance>NodeIndexInt' : -1\n   /  '<New><Instance>NodeKeyStr' : TopCoupler\n   /  '<New><Instance>NodePointDeriveNoder' : None\n   /  '<New><Instance>NodePointOrderedDict' : None\n   /  '<Spe><Class>CoupledGetStr' : \n   /  '<Spe><Class>CouplingGetStr' : \n   /  '<Spe><Class>CouplingNodeStr' : \n   /}\n\n*****End of the Attest *****\n\n\n\n```\n", 
          "cell_type": "markdown", 
          "metadata": {}
        }
      ]
    }
  ], 
  "metadata": {
    "name": "", 
    "signature": ""
  }, 
  "nbformat_minor": 0
}