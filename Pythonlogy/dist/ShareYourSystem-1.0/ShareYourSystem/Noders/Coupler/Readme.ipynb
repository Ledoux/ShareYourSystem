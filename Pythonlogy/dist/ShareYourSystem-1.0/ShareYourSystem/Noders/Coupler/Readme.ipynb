{
  "nbformat": 3, 
  "worksheets": [
    {
      "cells": [
        {
          "source": [
            "#Coupler\n", 
            " @Date : Fri Nov 14 13:20:38 2014 \n\n@Author : Erwan Ledoux \n\n\n\nA Coupler \n\n\n"
          ], 
          "cell_type": "markdown", 
          "metadata": {}
        }, 
        {
          "source": "\n<!--\nFrozenIsBool False\n-->\n\nView the Coupler sources on [Github](https://github.com/Ledoux/ShareYourSystem/tree/master/ShareYourSystem/Noders/Installer)\n\n", 
          "cell_type": "markdown", 
          "prompt_number": 0, 
          "metadata": {}
        }, 
        {
          "source": "```python\n\n#ImportModules\nimport ShareYourSystem as SYS\nfrom ShareYourSystem.Noders import Coupler\n\n#store\nMyCoupler=Coupler.CouplerClass().collect(\n        'Couplome',\n        'FirstChild',\n        Coupler.CouplerClass()\n).collect(\n        'Couplome',\n        'SecondChild',\n        Coupler.CouplerClass()\n)\n\n#couple\nMyCoupler['<Couplome>SecondChildCoupler'].couple(\n            'Relatome',\n            '/NodePointDeriveNoder/<Couplome>FirstChildCoupler'\n    )\n\n#Return\nSYS._attest(\n    [\n    'MyCoupler is '+SYS._str(\n            MyCoupler,\n            **{\n                'RepresentingBaseKeyStrsListBool':False,\n                'RepresentingAlineaIsBool':False\n            }\n        )\n    ]\n)\n\n#Print\n\n\n\n```\n", 
          "cell_type": "markdown", 
          "metadata": {}
        }, 
        {
          "source": "```console\n>>>\nDoer l.132 : DoerStr is Coupler\nDoStr is Couple\nDoMethodStr is couple\nDoingStr is Coupling\nDoneStr is Coupled\n\n\n\n*****Start of the Attest *****\n\nMyCoupler is < (CouplerClass), 4557283024>\n   /{ \n   /  '<New><Instance>CouplomeCollectionOrderedDict' : \n   /   /{ \n   /   /  'FirstChildCoupler' : < (CouplerClass), 4557281872>\n   /   /   /{ \n   /   /   /  '<New><Instance>IdStr' : 4557281872\n   /   /   /  '<New><Instance>NodeCollectionStr' : Relatome\n   /   /   /  '<New><Instance>NodeIndexInt' : 0\n   /   /   /  '<New><Instance>NodeKeyStr' : FirstChildCoupler\n   /   /   /  '<New><Instance>NodePointDeriveNoder' : < (CouplerClass), 4557281488>\n   /   /   /   /{ \n   /   /   /   /  '<New><Instance>IdStr' : 4557281488\n   /   /   /   /  '<New><Instance>NodeCollectionStr' : Couplome\n   /   /   /   /  '<New><Instance>NodeIndexInt' : 1\n   /   /   /   /  '<New><Instance>NodeKeyStr' : SecondChildCoupler\n   /   /   /   /  '<New><Instance>NodePointDeriveNoder' : {...}< (CouplerClass), 4557283024>\n   /   /   /   /  '<New><Instance>NodePointOrderedDict' : {...}< (OrderedDict), 4557306552>\n   /   /   /   /  '<New><Instance>RelatomeCollectionOrderedDict' : \n   /   /   /   /   /{ \n   /   /   /   /   /  'FirstChildCoupler' : {...}< (CouplerClass), 4557281872>\n   /   /   /   /   /}\n   /   /   /   /  '<Spe><Instance>CoupledGetStr' : <Relatome>\n   /   /   /   /  '<Spe><Instance>CouplingGetStr' : /NodePointDeriveNoder/<Couplome>FirstChildCoupler\n   /   /   /   /  '<Spe><Instance>CouplingNodeStr' : Relatome\n   /   /   /   /}\n   /   /   /  '<New><Instance>NodePointOrderedDict' : {...}< (OrderedDict), 4557306848>\n   /   /   /  '<Spe><Class>CoupledGetStr' : \n   /   /   /  '<Spe><Class>CouplingGetStr' : \n   /   /   /  '<Spe><Class>CouplingNodeStr' : \n   /   /   /}\n   /   /  'SecondChildCoupler' : {...}< (CouplerClass), 4557281488>\n   /   /}\n   /  '<New><Instance>IdStr' : 4557283024\n   /  '<New><Instance>NodeCollectionStr' : Global\n   /  '<New><Instance>NodeIndexInt' : -1\n   /  '<New><Instance>NodeKeyStr' : \n   /  '<New><Instance>NodePointDeriveNoder' : None\n   /  '<New><Instance>NodePointOrderedDict' : None\n   /  '<Spe><Class>CoupledGetStr' : \n   /  '<Spe><Class>CouplingGetStr' : \n   /  '<Spe><Class>CouplingNodeStr' : \n   /}\n\n*****End of the Attest *****\n\n\n\n```\n", 
          "cell_type": "markdown", 
          "metadata": {}
        }
      ]
    }
  ], 
  "metadata": {
    "name": "", 
    "signature": ""
  }, 
  "nbformat_minor": 0
}