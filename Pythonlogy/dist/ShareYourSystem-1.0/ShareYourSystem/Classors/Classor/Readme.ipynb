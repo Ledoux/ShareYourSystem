{
  "nbformat": 3, 
  "worksheets": [
    {
      "cells": [
        {
          "source": [
            "#Classor\n", 
            "\n\n@Date : Fri Nov 14 13:20:38 2014 \n\n@Author : Erwan Ledoux \n\n\n\nIn the ShareYourSystem convention, building a module provide a ModuleStr like \"ShareYourSystem.Objects.Installer\" and we call NameStr the end of this Str, \"Installer\" here for the cell. In most of the module definitions provided in this framework, one Module definition is asssociated with one Class definition taking the \\_\\_name\\_\\_ as the \\<NameStr\\>\\<ClassTypeStr\\> (InstallerClass in that cell). The Classor Module defines the ClassorClass class, which is the deepest parent class in the framework for decorating another class. For each decorated class, it just sets up the NameStr in it and also a KeyStrsList for accumulating the new KeyStrs from other attributes that can be provided by other decorating Classes.\n\n\n"
          ], 
          "cell_type": "markdown", 
          "metadata": {}
        }, 
        {
          "source": "\n<!---\nFrozenIsBool True\n-->\n\n##Example\n\nLet's create an empty class, which will automatically receive special attributes from the decorating ClassorClass specially the NameStr, that should be the ClassStr without the TypeStr in the end.", 
          "cell_type": "markdown", 
          "prompt_number": 0, 
          "metadata": {}
        }, 
        {
          "source": "```python\n#ImportModules\nfrom ShareYourSystem.Classors import Attester\nfrom ShareYourSystem.Classors import Classor\n\n#Definition a FooClass decorated by the ClassorClass\n@Classor.ClassorClass()\nclass FooClass():\n\tpass\n\n#Definition the AttestedStr\nSYS._attest(\n\t[\n\t\t'FooClass.KeyStrsList is '+str(FooClass.KeyStrsList),\n\t\t'FooClass.NameStr is '+FooClass.NameStr,\n\t\t'FooClass.ClassorPointer is '+str(FooClass.ClassorPointer)\n\t]\n) \n\n#Print\nprint(AttestedStr)\n\n```\n", 
          "cell_type": "markdown", 
          "metadata": {}
        }, 
        {
          "source": "```console\n>>>\n\n\n*****Start of the Attest *****\n\nFooClass.KeyStrsList is ['NameStr', 'ClassorPointer']\n\n------\n\nFooClass.NameStr is Foo\n\n------\n\nFooClass.ClassorPointer is <ShareYourSystem.Classors.Classor.ClassorClass object at 0x1073c2810>\n\n*****End of the Attest *****\n\n\n\n\n```\n", 
          "cell_type": "markdown", 
          "metadata": {}
        }, 
        {
          "source": "\n<!--\nFrozenIsBool False\n-->\n\n##More Descriptions at the level of the class\n\nSpecial attributes of the ClassorClass are :\n", 
          "cell_type": "markdown", 
          "prompt_number": 2, 
          "metadata": {}
        }, 
        {
          "source": "```python\n\n\n#ImportModules\nfrom ShareYourSystem.Classors import Attester\nfrom ShareYourSystem.Classors import Classor\n\n#Definition the AttestedStr\nSYS._attest(\n\t[\n\t\t'Classor sets its own NameStr : '+Classor.ClassorClass.NameStr\n\t]\n) \n\n#Print\nprint(AttestedStr)\n\n\n```\n", 
          "cell_type": "markdown", 
          "metadata": {}
        }, 
        {
          "source": "```console\n>>>\n\n\n*****Start of the Attest *****\n\nClassor sets its own NameStr : Classor\n\n*****End of the Attest *****\n\n\n\n\n```\n", 
          "cell_type": "markdown", 
          "metadata": {}
        }, 
        {
          "source": "\n<!--\nFrozenIsBool False\n-->\n\n##More Descriptions at the level of the instances\n\nA default call of an instance gives :\n", 
          "cell_type": "markdown", 
          "prompt_number": 4, 
          "metadata": {}
        }, 
        {
          "source": "```python\n\n\n#ImportModules\nfrom ShareYourSystem.Classors import Attester\nfrom ShareYourSystem.Classors import Classor\n\t\t\n#Definition the AttestedStr\nSYS._attest(\n\t[\n\t\tClassor.ClassorClass()\n\t]\n) \n\n#Print\nprint(AttestedStr)\n\n\n\n```\n", 
          "cell_type": "markdown", 
          "metadata": {}
        }, 
        {
          "source": "```console\n>>>\n\n\n*****Start of the Attest *****\n\n<ShareYourSystem.Classors.Classor.ClassorClass object at 0x10bdd3750>\n\n*****End of the Attest *****\n\n\n\n\n```\n", 
          "cell_type": "markdown", 
          "metadata": {}
        }
      ]
    }
  ], 
  "metadata": {
    "name": "", 
    "signature": ""
  }, 
  "nbformat_minor": 0
}