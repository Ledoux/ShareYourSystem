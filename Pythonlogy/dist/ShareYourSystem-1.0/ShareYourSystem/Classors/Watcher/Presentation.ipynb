{
  "nbformat": 3, 
  "worksheets": [
    {
      "cells": [
        {
          "source": "\n<!--\nFrozenIsBool False\n-->\n\n#Watcher\n\n##Doc\n----\n\n\n> \n> The Watcher \n> \n> \n\n----\n\n<small>\nView the Watcher notebook on [NbViewer](http://nbviewer.ipython.org/url/shareyoursystem.ouvaton.org/Watcher.ipynb)\n</small>\n\n", 
          "cell_type": "markdown", 
          "prompt_number": 0, 
          "metadata": {
            "slideshow": {
              "slide_type": "slide"
            }
          }
        }, 
        {
          "source": "\n<!---\nFrozenIsBool True\n-->\n\n##Example\n\nLet's create an empty class, which will automatically receive special attributes from the decorating ClassorClass specially the NameStr, that should be the ClassStr without the TypeStr in the end.", 
          "cell_type": "markdown", 
          "prompt_number": 1, 
          "metadata": {
            "slideshow": {
              "slide_type": "subslide"
            }
          }
        }, 
        {
          "cell_type": "code", 
          "prompt_number": 2, 
          "language": "python", 
          "input": [
            "#ImportModules\n", 
            "import ShareYourSystem as SYS\n", 
            "from ShareYourSystem.Classors import Watcher\n", 
            "from ShareYourSystem.Objects import Initiator\n", 
            "\n", 
            "#Definition a MakerClass with decorated make by a Watcher\n", 
            "@Watcher.WatcherClass(**{\n", 
            "    'WatchingIsBool':True,\n", 
            "    #'ObservingWrapMethodStr':'do_make'\n", 
            "    #'ObservingWrapMethodStr':'superDo_make'\n", 
            "    'ObservingWrapMethodStr':'make'\n", 
            "    })\n", 
            "class MakerClass(Initiator.InitiatorClass):\n", 
            "\n", 
            "    #Definition\n", 
            "    RepresentingKeyStrsList=[\n", 
            "                                'MakingMyFloat',\n", 
            "                                'MadeMyInt'\n", 
            "                            ]\n", 
            "\n", 
            "    def default_init(self,\n", 
            "                _MakingMyFloat=1.,\n", 
            "                _MadeMyInt=0\n", 
            "                ):\n", 
            "        Initiator.InitiatorClass.__init__(self)\n", 
            "\n", 
            "    def do_make(self):\n", 
            "\n", 
            "        #print\n", 
            "        print('self.MakingMyFloat is '+str(self.MakingMyFloat))\n", 
            "        print('self.MadeMyInt is '+str(self.MadeMyInt))\n", 
            "        print('')\n", 
            "\n", 
            "        #Cast\n", 
            "        self.MadeMyInt=int(self.MakingMyFloat)\n", 
            "\n", 
            "#Definition a MakerClass with decorated make by a Watcher\n", 
            "@Watcher.WatcherClass(**{\n", 
            "    'WatchingIsBool':True,\n", 
            "    #'ObservingWrapMethodStr':'do_make'\n", 
            "    #'ObservingWrapMethodStr':'superDo_make'\n", 
            "    'ObservingWrapMethodStr':'make'\n", 
            "    })\n", 
            "class BuilderClass(MakerClass):\n", 
            "\n", 
            "    #Definition\n", 
            "    RepresentingKeyStrsList=[\n", 
            "                            ]\n", 
            "\n", 
            "    def default_init(self,\n", 
            "                ):\n", 
            "        MakerClass.__init__(self)\n", 
            "\n", 
            "    def do_buid(self):\n", 
            "        pass\n", 
            "\n", 
            "#Definition an instance\n", 
            "MyBuilder=MakerClass()\n", 
            "\n", 
            "#Print\n", 
            "print('Before make, MyBuilder is ')\n", 
            "SYS._print(MyBuilder)\n", 
            "\n", 
            "#make once\n", 
            "MyBuilder.make(3.)\n", 
            "\n", 
            "#Print\n", 
            "print('After the first make, MyBuilder is ')\n", 
            "SYS._print(MyBuilder)\n", 
            "\n", 
            "#Definition the AttestedStr\n", 
            "SYS._attest(\n", 
            "    [\n", 
            "        'BuilderClass.make is '+str(BuilderClass.make),\n", 
            "        'MyBuilder is '+SYS._str(\n", 
            "            MyBuilder,**{'RepresentingAlineaIsBool':False}\n", 
            "        )\n", 
            "    ]\n", 
            ") \n", 
            "\n", 
            "#Print\n", 
            "\n"
          ], 
          "outputs": [
            {
              "output_type": "stream", 
              "stream": "stdout", 
              "text": [
                "Before make, MyBuilder is \n", 
                "< (MakerClass), 4348873808>\n", 
                "   /{ \n", 
                "   /  '<New><Instance>IdInt' : 4348873808\n", 
                "   /  '<Spe><Class>MadeMyInt' : 0\n", 
                "   /  '<Spe><Class>MakingMyFloat' : 1.0\n", 
                "   /}\n", 
                "self.MakingMyFloat is 3.0\n", 
                "self.MadeMyInt is 0\n", 
                "\n", 
                "After the first make, MyBuilder is \n", 
                "< (MakerClass), 4348873808>\n", 
                "   /{ \n", 
                "   /  '<New><Instance>IdInt' : 4348873808\n", 
                "   /  '<Spe><Instance>MadeMyInt' : 3\n", 
                "   /  '<Spe><Instance>MakingMyFloat' : 3.0\n", 
                "   /}\n", 
                "\n", 
                "\n", 
                "*****Start of the Attest *****\n", 
                "\n", 
                "BuilderClass.make is <unbound method BuilderClass.watch_superDo_make>\n", 
                "\n", 
                "------\n", 
                "\n", 
                "MyBuilder is < (MakerClass), 4348873808>\n", 
                "   /{ \n", 
                "   /  '<New><Instance>IdInt' : 4348873808\n", 
                "   /  '<Spe><Instance>MadeMyInt' : 3\n", 
                "   /  '<Spe><Instance>MakingMyFloat' : 3.0\n", 
                "   /}\n", 
                "\n", 
                "*****End of the Attest *****\n", 
                "\n", 
                "\n"
              ]
            }
          ], 
          "collapsed": false, 
          "metadata": {
            "slideshow": {
              "slide_type": "-"
            }
          }
        }
      ]
    }
  ], 
  "metadata": {
    "name": "", 
    "signature": ""
  }, 
  "nbformat_minor": 0
}