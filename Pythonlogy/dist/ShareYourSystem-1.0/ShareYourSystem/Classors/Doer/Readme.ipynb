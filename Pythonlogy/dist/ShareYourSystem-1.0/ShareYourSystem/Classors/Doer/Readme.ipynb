{
  "nbformat": 3, 
  "worksheets": [
    {
      "cells": [
        {
          "source": [
            "#Doer\n", 
            "\n\n@Date : Fri Nov 14 13:20:38 2014 \n\n@Author : Erwan Ledoux \n\n\n\nThe Doer defines a huge family of classes in this framework, that are going to be decorated by the DoerClass. Staying on the idea, that one module should associate one class, now a decorated class by a Doer should have a NameStr that is a DoStr and express also method a method with the name <DoStr>[0].lower()+<DoStr>[1:] All the attributes that are controlling this method process are <DoingStr><MiddleStr><TypeStr> and all the ones resetted during the method are <DoneStr><MiddleStr><TypeStr>. This helps a lot for defining a fisrt level of objects that are acting like input-output controllers.\n\n\n"
          ], 
          "cell_type": "markdown", 
          "metadata": {}
        }, 
        {
          "source": "\n<!---\nFrozenIsBool True\n-->\n\n##Example\n\nWe define here a FooClass with some attributes. Here is the difference for a default instance\nDefaultFoo that takes its values from the FooClass.__dict__ and a special one that sets in its __dict__", 
          "cell_type": "markdown", 
          "prompt_number": 0, 
          "metadata": {}
        }, 
        {
          "source": "```python\n#ImportModules\nfrom ShareYourSystem.Classors import Attester\nfrom ShareYourSystem.Objects import Initiator\nfrom ShareYourSystem.Classors import Doer\n\n#Definition a MakerClass decorated by the DefaultorClass\n@Doer.DoerClass()\nclass MakerClass(Initiator.InitiatorClass):\n\n    def default_init(self,\n                _MakingMyFloat=1.,\n                _MakingMyList=[],\n                _MakingMyInt={'DefaultingSetType':int},\n                _MadeMyInt=0):\n        \n        #Definition an attribute\n        self.MakeStr=\"I am a Maker with \"+str(self.MakingMyFloat)\n\n    def make():\n        self.MadeInt=int(self.MakingMyFloat)\n\n#Definition a default instance \nDefaultMaker=MakerClass()\n\n#Definition a special instance\nSpecialMaker=MakerClass(_MakingMyList=['hello'],**{'MakingMyInt':3})\n\n#Definition the AttestedStr\nAttestingStrsList=[\n    'MakerClass has some special attributes',\n    'MakerClass.DoingAttributeVariablesOrderedDict is '+str(MakerClass.DoingAttributeVariablesOrderedDict),\n    'MakerClass.DoneAttributeVariablesOrderedDict is '+str(MakerClass.DoneAttributeVariablesOrderedDict),\n    'MakerClass.MakingMyFloat is '+str(MakerClass.MakingMyFloat),\n    'MakerClass.MakingMyList is '+str(MakerClass.MakingMyList),\n    'MakerClass.MadeMyInt is '+str(MakerClass.MadeMyInt),\n    'What are you saying DefaultMaker ?',\n    'DefaultMaker.__dict__ is '+str(DefaultMaker.__dict__),\n    'DefaultMaker.MakingMyFloat is '+str(DefaultMaker.MakingMyFloat),\n    'DefaultMaker.MakingMyList is '+str(DefaultMaker.MakingMyList),\n    'DefaultMaker.MakingMyInt is '+str(DefaultMaker.MakingMyInt),\n    'What are you saying SpecialMaker ?',\n    'SpecialMaker.__dict__ is '+str(SpecialMaker.__dict__),\n    'SpecialMaker.MakingMyFloat is '+str(SpecialMaker.MakingMyFloat),\n    'SpecialMaker.MakingMyList is '+str(SpecialMaker.MakingMyList),\n    'DefaultMaker.MakingMyInt is '+str(SpecialMaker.MakingMyInt)\n]\n\n#Change a classed attribute\nMakerClass.MakingMyFloat=5\n\n#Add\nAttestingStrsList+=[\n        'After reset at the level of the class',\n        'DefaultMaker.MakingMyFloat is '+str(DefaultMaker.MakingMyFloat),\n        'SpecialMaker.MakingMyFloat is '+str(SpecialMaker.MakingMyFloat),\n    ]\n\n#Definition\nSYS._attest(AttestingStrsList)\n\n#Print\nprint(AttestedStr)\n\n```\n", 
          "cell_type": "markdown", 
          "metadata": {}
        }, 
        {
          "source": "```console\n>>>\n\n\n```\n", 
          "cell_type": "markdown", 
          "metadata": {}
        }, 
        {
          "source": "\n<!--\nFrozenIsBool False\n-->\n\n##More Descriptions at the level of the class\n\nSpecial attributes of the DoerClass are :\n", 
          "cell_type": "markdown", 
          "prompt_number": 2, 
          "metadata": {}
        }, 
        {
          "source": "\n<!---\nFrozenIsBool True\n-->\n\n##Example\n\nWe define here a FooClass with some attributes. Here is the difference for a default instance\nDefaultFoo that takes its values from the FooClass.__dict__ and a special one that sets in its __dict__", 
          "cell_type": "markdown", 
          "prompt_number": 3, 
          "metadata": {}
        }, 
        {
          "source": "```python\n\n\n\n#ImportModules\nimport ShareYourSystem as SYS\nfrom ShareYourSystem.Classors import Defaultor\n        \n#Definition the AttestedStr\nSYS._attest(\n    [\n        'Nothing Special'\n    ]\n) \n\n#Print\nprint(AttestedStr)\n\n\n```\n", 
          "cell_type": "markdown", 
          "metadata": {}
        }, 
        {
          "source": "```console\n>>>\n\n\n*****Start of the Attest *****\n\nNothing Special\n\n*****End of the Attest *****\n\n\n\n\n```\n", 
          "cell_type": "markdown", 
          "metadata": {}
        }, 
        {
          "source": "```python\n\n\n\n#ImportModules\nfrom ShareYourSystem.Classors import Attester\nfrom ShareYourSystem.Classors import Defaultor\n        \n#Definition the AttestedStr\nSYS._attest(\n    [\n        Defaultor.DefaultorClass()\n    ]\n) \n\n#Print\nprint(AttestedStr)\n\n\n\n```\n", 
          "cell_type": "markdown", 
          "metadata": {}
        }, 
        {
          "source": "```console\n>>>\n\n\n*****Start of the Attest *****\n\n<ShareYourSystem.Classors.Defaultor.DefaultorClass object at 0x1088d3750>\n\n*****End of the Attest *****\n\n\n\n\n```\n", 
          "cell_type": "markdown", 
          "metadata": {}
        }, 
        {
          "source": "\n<!--\nFrozenIsBool False\n-->\n\n##More Descriptions at the level of the instances\n\nA default call of an instance gives :\n", 
          "cell_type": "markdown", 
          "prompt_number": 6, 
          "metadata": {}
        }
      ]
    }
  ], 
  "metadata": {
    "name": "", 
    "signature": ""
  }, 
  "nbformat_minor": 0
}