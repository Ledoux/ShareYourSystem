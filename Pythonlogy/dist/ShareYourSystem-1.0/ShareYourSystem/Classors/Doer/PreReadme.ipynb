{
  "nbformat": 3, 
  "worksheets": [
    {
      "cells": [
        {
          "source": "\n<!--\nFrozenIsBool False\n-->\n\n#Doer\n\n##Doc\n----\n\n\n> \n> The Doer defines instances that are going to decorate a big family of classes in this framework. \n> Staying on the idea, that one module should associate\n> one class, now a decorated class by a Doer should have a NameStr that is \n> a DoStr and express also method a method with the name <DoStr>[0].lower()+<DoStr>[1:]\n> All the attributes that are controlling this method process are <DoingStr><MiddleStr><TypeStr>\n> and all the ones resetted during the method are <DoneStr><MiddleStr><TypeStr>.\n> This helps a lot for defining a fisrt level of objects that are acting like input-output controllers.\n> \n> \n\n----\n\n<small>\nView the Doer notebook on [NbViewer](http://nbviewer.ipython.org/url/shareyoursystem.ouvaton.org/Doer.ipynb)\n</small>\n\n", 
          "cell_type": "markdown", 
          "prompt_number": 0, 
          "metadata": {
            "slideshow": {
              "slide_type": "slide"
            }
          }
        }, 
        {
          "source": "\n<!---\nFrozenIsBool True\n-->\n\n##Example\n\nIt is possible to re set the Doing or Done attributes", 
          "cell_type": "markdown", 
          "prompt_number": 1, 
          "metadata": {
            "slideshow": {
              "slide_type": "subslide"
            }
          }
        }, 
        {
          "cell_type": "code", 
          "prompt_number": 2, 
          "language": "python", 
          "input": [
            "#ImportModules\n", 
            "import ShareYourSystem as SYS\n", 
            "from ShareYourSystem.Classors import Doer,Attester \n", 
            "from ShareYourSystem.Objects import Initiator\n", 
            "\n", 
            "#Definition a MakerClass decorated by the DefaultorClass\n", 
            "@Doer.DoerClass()\n", 
            "class MakerClass(Initiator.InitiatorClass):\n", 
            "\n", 
            "    def default_init(self,\n", 
            "                _MakingMyFloat=1.,\n", 
            "                _MakingMyList=None,\n", 
            "                _MakingFirstInt={'DefaultingSetType':int},\n", 
            "                _MakingSecondInt=0,\n", 
            "                _MadeMyInt=0,\n", 
            "                _MadeMyList=None,\n", 
            "                ):\n", 
            "        pass\n", 
            "\n", 
            "    def do_make(self):\n", 
            "\n", 
            "        #print\n", 
            "        print('Maker : I am going to make')\n", 
            "        print('self.MakingMyFloat is ',self.MakingMyFloat)\n", 
            "        print('')\n", 
            "\n", 
            "        #set\n", 
            "        self.MadeMyInt=int(self.MakingMyFloat)\n", 
            "\n", 
            "        #Return self\n", 
            "        #return self\n", 
            "\n", 
            "#Definition of an instance and make\n", 
            "MyMaker=MakerClass(\n", 
            "    _MakingMyList=['hello'],\n", 
            "    **{'MakingFirstInt':3}\n", 
            "    ).superDo_make(\n", 
            "        3.,['bonjour'],\n", 
            "        _SecondInt=5\n", 
            "    )\n", 
            "\n", 
            "print('MyMaker is ')\n", 
            "SYS._print(MyMaker)\n", 
            "\n", 
            "print('we reset doing')\n", 
            "MyMaker.setDoing(MakerClass)\n", 
            "\n", 
            "print('MyMaker after set doing is ')\n", 
            "SYS._print(MyMaker)\n", 
            "\n", 
            "#Add\n", 
            "AttestingStrsList=[\n", 
            "        'MyMaker.__dict__ is '+SYS._str(MyMaker.__dict__,\n", 
            "            **{'RepresentingAlineaIsBool':False})\n", 
            "    ]\n", 
            "\n", 
            "#Definition\n", 
            "SYS._attest(AttestingStrsList)\n", 
            "\n", 
            "#Print\n", 
            "\n"
          ], 
          "outputs": [
            {
              "output_type": "stream", 
              "stream": "stdout", 
              "text": [
                "Maker : I am going to make\n", 
                "('self.MakingMyFloat is ', 3.0)\n", 
                "\n", 
                "MyMaker is \n", 
                "<MakerClass object at 0x10430b990>\n", 
                "we reset doing\n", 
                "MyMaker after set doing is \n", 
                "<MakerClass object at 0x10430b990>\n", 
                "\n", 
                "\n", 
                "*****Start of the Attest *****\n", 
                "\n", 
                "MyMaker.__dict__ is \n", 
                "   /{ \n", 
                "   /  'IdInt' : 4365269392\n", 
                "   /  'MadeMyInt' : 3\n", 
                "   /  'MadeMyList' : []\n", 
                "   /  'MakingFirstInt' : 0\n", 
                "   /  'MakingMyFloat' : 1.0\n", 
                "   /  'MakingMyList' : []\n", 
                "   /  'MakingSecondInt' : 0\n", 
                "   /}\n", 
                "\n", 
                "*****End of the Attest *****\n", 
                "\n", 
                "\n"
              ]
            }
          ], 
          "collapsed": false, 
          "metadata": {
            "slideshow": {
              "slide_type": "-"
            }
          }
        }
      ]
    }
  ], 
  "metadata": {
    "name": "", 
    "signature": ""
  }, 
  "nbformat_minor": 0
}