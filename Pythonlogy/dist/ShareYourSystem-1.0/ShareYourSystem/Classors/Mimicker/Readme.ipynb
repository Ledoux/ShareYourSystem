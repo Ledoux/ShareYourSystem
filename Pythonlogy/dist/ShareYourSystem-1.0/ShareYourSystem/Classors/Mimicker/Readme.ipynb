{
  "nbformat": 3, 
  "worksheets": [
    {
      "cells": [
        {
          "source": "\n<!---\nFrozenIsBool True\n-->\n\n##Example\n\nIt is possible to cumulate mimick and switch properties...\nNote that only the do_make is a switched method as the \nmimic_make continue to work after the first call of make.", 
          "cell_type": "markdown", 
          "prompt_number": 0, 
          "metadata": {
            "slideshow": {
              "slide_type": "slide"
            }
          }
        }, 
        {
          "source": "```python\n#ImportModules\nimport ShareYourSystem as SYS\nfrom ShareYourSystem.Classors import Switcher,Mimicker\nfrom ShareYourSystem.Objects import Initiator\n\n#Definition a MakerClass with decorated make by a Switcher\n@Switcher.SwitcherClass(**{\n    'SwitchingIsBool':True,\n    'SwitchingWrapMethodStr':'make'\n})\nclass MakerClass(Initiator.InitiatorClass):\n\n    #Definition\n    RepresentingKeyStrsList=[\n                                'MakingMyFloat',\n                                'MadeMyInt'\n                            ]\n\n    def default_init(self,\n                _MakingMyFloat=1.,\n                _MadeMyInt=0\n                ):\n        Initiator.InitiatorClass.__init__(self)\n\n    def do_make(self):\n\n        #print\n        print('self.MakingMyFloat is '+str(self.MakingMyFloat))\n        print('self.MadeMyInt is '+str(self.MadeMyInt))\n        print('')\n\n        #Cast\n        self.MadeMyInt=int(self.MakingMyFloat)\n\n#Definition\n@Mimicker.MimickerClass(**{\n    'MimickingDoMethodStr':\"make\"\n})\nclass BuilderClass(MakerClass):\n\n    #Definition\n    RepresentingKeyStrsList=[\n                            ]\n\n    def default_init(self,\n                    **_KwarVariablesDict\n                ):\n        MakerClass.__init__(self,**_KwarVariablesDict)\n\n    def mimic_make(self):\n    \n        #print\n        print('I am in the mimic_make of the Builder')\n\n        #call the parent method\n        MakerClass.make(self)\n\n        #cast\n        self.MadeMyInt+=10\n\n    def do_build(self):\n        pass\n\n\n#Definition an instance\nMyBuilder=BuilderClass()\n\n#Print\nprint('Before make, MyBuilder is ')\nSYS._print(MyBuilder,**{\n    'RepresentingKeyStrsList':[\n    'MakingMyFloat',\n    'MadeMyInt']\n})\n\n#make once\nMyBuilder.make(3.)\n\n#Print\nprint('After the first make, MyBuilder is ')\nSYS._print(MyBuilder,**{\n    'RepresentingKeyStrsList':[\n    'MakingMyFloat',\n    'MadeMyInt',\n    ]\n})\n\n#make again\nMyBuilder.make(5.)\n\n#Print\nprint('After the second make, MyBuilder is ')\nSYS._print(MyBuilder,**{\n    'RepresentingKeyStrsList':[\n    'MakingMyFloat',\n    'MadeMyInt',\n    ]\n})\n\n#make again\nprint('Now we switch')\nMyBuilder.setSwitch('Maker',['Make'])\n\n#Print\nprint('After the switch MyBuilder is ')\nSYS._print(MyBuilder,**{\n    'RepresentingKeyStrsList':[\n    'MakingMyFloat',\n    'MadeMyInt'\n    ]\n})\n\n#make again\nMyBuilder.make(7.)\n\n#Print\nprint('After the third make, MyBuilder is ')\nSYS._print(MyBuilder,**{\n    'RepresentingKeyStrsList':[\n    'MakingMyFloat',\n    'MadeMyInt',\n    'WatchMakeWithMakerBool']\n})\n\n#Definition the AttestedStr\nSYS._attest(\n    [\n        'BuilderClass.WatchMakeWithMakerBool is '+str(BuilderClass.WatchMakeWithMakerBool),\n        'BuilderClass.make is '+str(BuilderClass.make),\n        'MyBuilder is '+SYS._str(\n            MyBuilder,**{\n            'RepresentingAlineaIsBool':False,\n            'RepresentingKeyStrsList':[\n            'MakingMyFloat',\n            'MadeMyInt'\n            ]\n        }\n        ),\n    ]\n) \n\n#Print\n\n\n```\n", 
          "cell_type": "markdown", 
          "metadata": {}
        }, 
        {
          "source": "```console\n>>>\nBefore make, MyBuilder is \n< (BuilderClass), 4348662928>\n   /{ \n   /  '<Base><Class>MadeMyInt' : 0\n   /  '<Base><Class>MakingMyFloat' : 1.0\n   /  '<New><Instance>IdInt' : 4348662928\n   /}\nI am in the mimic_make of the Builder\nself.MakingMyFloat is 3.0\nself.MadeMyInt is 0\n\nAfter the first make, MyBuilder is \n< (BuilderClass), 4348662928>\n   /{ \n   /  '<New><Instance>IdInt' : 4348662928\n   /  '<Spe><Instance>MadeMyInt' : 13\n   /  '<Spe><Instance>MakingMyFloat' : 3.0\n   /}\nI am in the mimic_make of the Builder\nAfter the second make, MyBuilder is \n< (BuilderClass), 4348662928>\n   /{ \n   /  '<New><Instance>IdInt' : 4348662928\n   /  '<Spe><Instance>MadeMyInt' : 23\n   /  '<Spe><Instance>MakingMyFloat' : 5.0\n   /}\nNow we switch\nAfter the switch MyBuilder is \n< (BuilderClass), 4348662928>\n   /{ \n   /  '<New><Instance>IdInt' : 4348662928\n   /  '<Spe><Instance>MadeMyInt' : 23\n   /  '<Spe><Instance>MakingMyFloat' : 5.0\n   /}\nI am in the mimic_make of the Builder\nself.MakingMyFloat is 7.0\nself.MadeMyInt is 23\n\nAfter the third make, MyBuilder is \n< (BuilderClass), 4348662928>\n   /{ \n   /  '<New><Instance>IdInt' : 4348662928\n   /  '<Spe><Instance>MadeMyInt' : 17\n   /  '<Spe><Instance>MakingMyFloat' : 7.0\n   /  '<Spe><Instance>WatchMakeWithMakerBool' : True\n   /}\n\n\n*****Start of the Attest *****\n\nBuilderClass.WatchMakeWithMakerBool is False\n\n------\n\nBuilderClass.make is <unbound method BuilderClass.superMimic_switch_watch_superDo_make>\n\n------\n\nMyBuilder is < (BuilderClass), 4348662928>\n   /{ \n   /  '<New><Instance>IdInt' : 4348662928\n   /  '<Spe><Instance>MadeMyInt' : 17\n   /  '<Spe><Instance>MakingMyFloat' : 7.0\n   /}\n\n*****End of the Attest *****\n\n\n\n```\n", 
          "cell_type": "markdown", 
          "metadata": {}
        }
      ]
    }
  ], 
  "metadata": {
    "name": "", 
    "signature": ""
  }, 
  "nbformat_minor": 0
}