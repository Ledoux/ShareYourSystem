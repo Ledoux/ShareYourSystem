{
  "nbformat": 3, 
  "worksheets": [
    {
      "cells": [
        {
          "source": "\n<!--\nFrozenIsBool False\n-->\n\n#Binder\n\n##Doc\n----\n\n\n> \n> Binder helps for setting a method in a Class,\n> taking inspiration (like a decoration) from another one.\n> \n> \n> \n\n----\n\n<small>\nView the Binder notebook on [NbViewer](http://nbviewer.ipython.org/url/shareyoursystem.ouvaton.org/Binder.ipynb)\n</small>\n\n", 
          "cell_type": "markdown", 
          "prompt_number": 0, 
          "metadata": {
            "slideshow": {
              "slide_type": "slide"
            }
          }
        }, 
        {
          "source": "\n<!--\nFrozenIsBool False\n-->\n\n##Code\n\n----\n\n<ClassDocStr>\n\n----\n\n```python\n# -*- coding: utf-8 -*-\n\"\"\"\n\n\n<DefineSource>\n@Date : Fri Nov 14 13:20:38 2014 \\n\n@Author : Erwan Ledoux \\n\\n\n</DefineSource>\n\n\nBinder helps for setting a method in a Class,\ntaking inspiration (like a decoration) from another one.\n\n\n\"\"\"\n\n#<DefineAugmentation>\nimport ShareYourSystem as SYS\nBaseModuleStr=\"ShareYourSystem.Classors.Observer\"\nDecorationModuleStr=\"ShareYourSystem.Classors.Tester\"\nSYS.setSubModule(globals())\n#</DefineAugmentation>\n\n#<ImportSpecificModules>\nObserver=BaseModule\nimport six\n#</ImportSpecificModules>\n\n#<DefineLocals>\nBindingDecorationPrefixStr=\"\"\nBindingDecorationSuffixStr=\"_\"\n#</DefineLocals>\n\n#<DefineClass>\n@DecorationClass()\nclass BinderClass(BaseClass):\n\t\n\t#Definition \n\tRepresentingKeyStrsList=[\n\t\t\t\t\t\t\t'BindingIsBool',\n\t\t\t\t\t\t\t'BindingDecorationUnboundMethod',\n\t\t\t\t\t\t\t'BindingDecorationMethodStr',\n\t\t\t\t\t\t\t'BindingDecorationTagStr',\n\t\t\t\t\t\t\t'BindingItemTuplesList',\n\t\t\t\t\t\t\t'BindedDecorationMethodStr',\n\t\t\t\t\t\t\t'BindedDecorationUnboundMethod'\n\t\t\t\t\t\t]\n\n\tdef default_init(self,\n\t\t\t\t\t_BindingIsBool=False,\n\t\t\t\t\t_BindingDecorationUnboundMethod=None,\n\t\t\t\t\t_BindingDecorationMethodStr='',\n\t\t\t\t\t_BindingDecorationTagStr=\"\",\n\t\t\t\t\t_BindingItemTuplesList=None,\n\t\t\t\t\t_BindedDecorationMethodStr=\"\",\t\n\t\t\t\t\t_BindedDecorationUnboundMethod=None,\t\t\t\t   \t\t\t\n\t\t\t\t\t**_KwargVariablesDict\n\t\t\t\t):\n\n\t\t#Call the init parent method\n\t\tBaseClass.__init__(self,**_KwargVariablesDict)\n\n\tdef __call__(self,_Class):\n\n\t\t#Call the parent method\n\t\tObserver.ObserverClass.__bases__[0].__call__(self,_Class)\n\n\t\t#bind\n\t\tself.bind()\n\n\t\t#Return\n\t\treturn _Class\n\n\tdef do_bind(self):\n\n\t\t#Check\n\t\tif self.BindingIsBool:\n\n\t\t\t#Debug\n\t\t\t'''\n\t\t\tprint('l 77 Binder')\n\t\t\tprint('self.BindingDecorationUnboundMethod is ',self.BindingDecorationUnboundMethod)\n\t\t\tprint('self.BindingDecorationMethodStr is ',self.BindingDecorationMethodStr)\n\t\t\tprint('')\n\t\t\t'''\n\t\t\t\n\t\t\t#Check\n\t\t\tif self.BindingDecorationUnboundMethod!=None or self.BindingDecorationMethodStr!=\"\":\n\n\t\t\t\t#Debug\n\t\t\t\t'''\n\t\t\t\tprint('l 73 Binder')\n\t\t\t\tprint('we observe first')\n\t\t\t\tprint('')\n\t\t\t\t'''\n\t\t\t\t\n\t\t\t\t#observe without linking\n\t\t\t\tself.observe(True)\n\n\t\t\t\t#Debug\n\t\t\t\t'''\n\t\t\t\tprint('l 81 Binder')\n\t\t\t\tprint('self.ObservingWrapMethodStr is ',self.ObservingWrapMethodStr)\n\t\t\t\tprint('self.ObservedWrapMethodStr is ',self.ObservedWrapMethodStr)\n\t\t\t\tprint('')\n\t\t\t\t'''\n\n\t\t\t\t#Check\n\t\t\t\tif self.BindingDecorationUnboundMethod==None:\n\n\t\t\t\t\t#Get\n\t\t\t\t\tself.BindingDecorationUnboundMethod=getattr(\n\t\t\t\t\t\tself.DoClass,\n\t\t\t\t\t\tself.BindingDecorationMethodStr\n\t\t\t\t\t)\n\n\t\t\t\telse:\n\n\t\t\t\t\t#set\n\t\t\t\t\tself.BindingDecorationMethodStr=self.BindingDecorationUnboundMethod.__name__\n\n\t\t\t\t#Debug\n\t\t\t\t'''\n\t\t\t\tprint('Binder l.119')\n\t\t\t\tprint('self.BindingDecorationUnboundMethod is')\n\t\t\t\tprint(self.BindingDecorationUnboundMethod)\n\t\t\t\tprint('')\n\t\t\t\t'''\n\n\t\t\t\t#Check\n\t\t\t\tif self.BindingDecorationTagStr==\"\":\n\t\t\t\t\tself.BindingDecorationTagStr=self.BindingDecorationMethodStr\n\n\t\t\t\t#set the new\n\t\t\t\tself.BindedDecorationMethodStr=BindingDecorationPrefixStr+self.BindingDecorationTagStr+BindingDecorationSuffixStr\n\t\t\t\tself.BindedDecorationMethodStr+=self.ObservingWrapMethodStr\n\t\t\t\t\n\t\t\t\t#Debug\n\t\t\t\t'''\n\t\t\t\tprint('Binder l.102')\n\t\t\t\tprint('self.BindedDecorationMethodStr is')\n\t\t\t\tprint(self.BindedDecorationMethodStr)\n\t\t\t\tprint('')\n\t\t\t\t'''\n\n\t\t\t\t#set to the class the BindingDecorationMethod\n\t\t\t\tsetattr(\n\t\t\t\t\t\tself.DoClass,\n\t\t\t\t\t\tself.BindingDecorationMethodStr,\n\t\t\t\t\t\tself.BindingDecorationUnboundMethod\n\t\t\t\t\t)\n\n\t\t\t\t#Define\n\t\t\t\tBindedExecStr='def '+self.BindedDecorationMethodStr+'(_InstanceVariable,*_LiargVariablesList'\n\t\t\t\tBindedExecStr+=',**_KwargVariablesDict):'\n\t\t\t\tBindedExecStr+='\\n\\treturn _InstanceVariable.__class__.'+self.BindingDecorationMethodStr\n\t\t\t\tBindedExecStr+='(_InstanceVariable,*_LiargVariablesList'\n\n\t\t\t\t#Debug\n\t\t\t\t'''\n\t\t\t\tprint('Binder l 159')\n\t\t\t\tprint('self.BindingItemTuplesList is ')\n\t\t\t\tprint(self.BindingItemTuplesList)\n\t\t\t\tprint('')\n\t\t\t\t'''\n\t\t\t\t\n\t\t\t\t#Add\n\t\t\t\tself.BindingItemTuplesList+=[\n\t\t\t\t\t('BindObserveWrapMethodStr',self.ObservingWrapMethodStr),\n\t\t\t\t\t('BindDoClassStr',self.DoClass.__name__),\n\t\t\t\t]\n\t\t\t\tself.BindedItemTuplesList=','.join(\n\t\t\t\t\tmap(\n\t\t\t\t\t\tlambda __BindingItemTuple:\n\t\t\t\t\t\t\"'\"+__BindingItemTuple[0]+\"':'\"+str(__BindingItemTuple[1])+\"'\",\n\t\t\t\t\t\tself.BindingItemTuplesList\n\t\t\t\t\t)\n\t\t\t\t)\n\t\t\t\tBindedExecStr+=',**dict({'\n\t\t\t\tBindedExecStr+=self.BindedItemTuplesList\n\t\t\t\tBindedExecStr+='},**_KwargVariablesDict))\\n' \n\t\t\t\t\t\n\t\t\t\t#Debug\n\t\t\t\t'''\n\t\t\t\tprint('Binder l 176')\n\t\t\t\tprint('BindedExecStr is ')\n\t\t\t\tprint(BindedExecStr)\n\t\t\t\tprint('')\n\t\t\t\t'''\n\n\t\t\t\t#exec\n\t\t\t\tsix.exec_(BindedExecStr)\n\n\t\t\t\t#set\n\t\t\t\tself.BindedDecorationUnboundMethod=locals()[self.BindedDecorationMethodStr]\n\n\t\t\t\t#set to the class the BindingDecorationMethod\n\t\t\t\tsetattr(\n\t\t\t\t\t\tself.DoClass,\n\t\t\t\t\t\tself.BindedDecorationMethodStr,\n\t\t\t\t\t\tself.BindedDecorationUnboundMethod\n\t\t\t\t\t)\n\n\t\t\t\t#Debug\n\t\t\t\t'''\n\t\t\t\tprint('l 175 Binder')\n\t\t\t\tprint('self.BindedDecorationMethodStr is ')\n\t\t\t\tprint(self.BindedDecorationMethodStr)\n\t\t\t\tprint('self.BindedDecorationUnboundMethod is ')\n\t\t\t\tprint(self.BindedDecorationUnboundMethod)\n\t\t\t\tprint('')\n\t\t\t\t'''\n\n\t\t\t\t#Return self\n\t\t\t\t#return self\n\n#</DefineClass>\n\n\n```\n\n<small>\nView the Binder sources on <a href=\"https://github.com/Ledoux/ShareYourSystem/tree/master/Pythonlogy/ShareYourSystem/Classors/Binder\" target=\"_blank\">Github</a>\n</small>\n\n", 
          "cell_type": "markdown", 
          "prompt_number": 1, 
          "metadata": {
            "slideshow": {
              "slide_type": "subslide"
            }
          }
        }, 
        {
          "source": "\n<!---\nFrozenIsBool True\n-->\n\n##Example\n\nHere this is to check that the class checks that \nthis is useless to watch a watch method, therefore it\njust lets it as the first version. ", 
          "cell_type": "markdown", 
          "prompt_number": 2, 
          "metadata": {
            "slideshow": {
              "slide_type": "subslide"
            }
          }
        }, 
        {
          "source": "```python\n#ImportModules\nimport ShareYourSystem as SYS\nfrom ShareYourSystem.Classors import Binder\nfrom ShareYourSystem.Objects import Initiator\nimport operator\n\n#Define a Unbound method like function\ndef foo(_InstanceVariable,*_LiargVariablesList,**_KwargVariablesDict):\n\n    #print\n    print('In the foo function ')\n    print('_KwargVariablesDict is ')\n    print(_KwargVariablesDict)\n    print('')\n\n    #get the wrapped method\n    WrapUnboundMethod=getattr(\n        getattr(\n            SYS,\n            _KwargVariablesDict['BindDoClassStr']\n        ),\n        _KwargVariablesDict['BindObserveWrapMethodStr']\n    )\n\n    #call\n    WrapUnboundMethod(_InstanceVariable,10.*_InstanceVariable.MakingMyFloat)\n\n\n#Definition a MakerClass decorated by the BinderClass\n@Binder.BinderClass(**{\n    'ObservingWrapMethodStr':'make',\n    'BindingIsBool':True,\n    'BindingDecorationUnboundMethod':foo,\n    'BindingItemTuplesList':[('MyFooInt',1)]\n})\nclass MakerClass(Initiator.InitiatorClass):\n\n    #Definition\n    RepresentingKeyStrsList=[\n                                'MakingMyFloat',\n                                'MadeMyInt'\n                            ]\n\n    def default_init(self,\n                    _MakingMyFloat=0.,\n                    _MadeMyInt=0,\n                    **_KwarVariablesDict\n                ):\n        pass\n\n    def do_make(self):\n    \n        #Print\n        print('I make')\n    \n        #cast\n        self.MadeMyInt=int(self.MakingMyFloat)\n\n#Definition and do a first make\nMyMaker=MakerClass().make(3.)\n\n#Use the other binded method that is completely fooooo\nMyMaker.foo_make()\n\n#Definition the AttestedStr\nSYS._attest(\n    [\n        'MakerClass.foo is '+str(MakerClass.foo),\n        'MakerClass.foo_make is '+str(MakerClass.foo_make),\n        'MyMaker is '+SYS._str(\n        MyMaker,\n        **{\n            'RepresentingBaseKeyStrsListBool':False,\n            'RepresentingAlineaIsBool':False\n        }\n        )\n    ]\n) \n\n#Print\n\n\n\n\n\n\n\n\n\n\n```\n", 
          "cell_type": "markdown", 
          "metadata": {}
        }, 
        {
          "source": "```console\n>>>\nI make\nIn the foo function \n_KwargVariablesDict is \n{'MyFooInt': '1', 'BindDoClassStr': 'MakerClass', 'BindObserveWrapMethodStr': 'make'}\n\nI make\n\n\n*****Start of the Attest *****\n\nMakerClass.foo is <unbound method MakerClass.foo>\n\n------\n\nMakerClass.foo_make is <unbound method MakerClass.foo_make>\n\n------\n\nMyMaker is < (MakerClass), 4539083472>\n   /{ \n   /  '<New><Instance>IdInt' : 4539083472\n   /  '<Spe><Instance>MadeMyInt' : 30\n   /  '<Spe><Instance>MakingMyFloat' : 30.0\n   /}\n\n*****End of the Attest *****\n\n\n\n```\n", 
          "cell_type": "markdown", 
          "metadata": {}
        }
      ]
    }
  ], 
  "metadata": {
    "name": "", 
    "signature": ""
  }, 
  "nbformat_minor": 0
}