{
  "nbformat": 3, 
  "worksheets": [
    {
      "cells": [
        {
          "source": "\n<!--\nFrozenIsBool False\n-->\n\n#Binder\n\n##Doc\n----\n\n\n> \n> Binder...\n> \n> \n\n----\n\n<small>\nView the Binder notebook on [NbViewer](http://nbviewer.ipython.org/url/shareyoursystem.ouvaton.org/Binder.ipynb)\n</small>\n\n", 
          "cell_type": "markdown", 
          "prompt_number": 0, 
          "metadata": {
            "slideshow": {
              "slide_type": "slide"
            }
          }
        }, 
        {
          "source": "\n<!---\nFrozenIsBool True\n-->\n\n##Example\n\nHere this is to check that the class checks that \nthis is useless to watch a watch method, therefore it\njust lets it as the first version. ", 
          "cell_type": "markdown", 
          "prompt_number": 1, 
          "metadata": {
            "slideshow": {
              "slide_type": "subslide"
            }
          }
        }, 
        {
          "cell_type": "code", 
          "prompt_number": 2, 
          "language": "python", 
          "input": [
            "#ImportModules\n", 
            "import ShareYourSystem as SYS\n", 
            "from ShareYourSystem.Classors import Binder\n", 
            "from ShareYourSystem.Objects import Initiator\n", 
            "import operator\n", 
            "\n", 
            "#Define a Unbound method like function\n", 
            "def foo(_InstanceVariable,*_LiargVariablesList,**_KwargVariablesDict):\n", 
            "\n", 
            "    #print\n", 
            "    print('In the foo function ')\n", 
            "    print('_KwargVariablesDict is ')\n", 
            "    print(_KwargVariablesDict)\n", 
            "    print('')\n", 
            "\n", 
            "    #get the wrapped method\n", 
            "    WrapUnboundMethod=getattr(\n", 
            "        getattr(\n", 
            "            SYS,\n", 
            "            _KwargVariablesDict['BindDoClassStr']\n", 
            "        ),\n", 
            "        _KwargVariablesDict['BindObserveWrapMethodStr']\n", 
            "    )\n", 
            "\n", 
            "    #call\n", 
            "    WrapUnboundMethod(_InstanceVariable,10.*_InstanceVariable.MakingMyFloat)\n", 
            "\n", 
            "\n", 
            "#Definition a MakerClass decorated by the BinderClass\n", 
            "@Binder.BinderClass(**{\n", 
            "    'ObservingWrapMethodStr':'make',\n", 
            "    'BindingIsBool':True,\n", 
            "    'BindingDecorationUnboundMethod':foo,\n", 
            "    'BindingItemTuplesList':[('MyFooInt',1)]\n", 
            "})\n", 
            "class MakerClass(Initiator.InitiatorClass):\n", 
            "\n", 
            "    #Definition\n", 
            "    RepresentingKeyStrsList=[\n", 
            "                                'MakingMyFloat',\n", 
            "                                'MadeMyInt'\n", 
            "                            ]\n", 
            "\n", 
            "    def default_init(self,\n", 
            "                    _MakingMyFloat=0.,\n", 
            "                    _MadeMyInt=0,\n", 
            "                    **_KwarVariablesDict\n", 
            "                ):\n", 
            "        pass\n", 
            "\n", 
            "    def do_make(self):\n", 
            "    \n", 
            "        #Print\n", 
            "        print('I make')\n", 
            "    \n", 
            "        #cast\n", 
            "        self.MadeMyInt=int(self.MakingMyFloat)\n", 
            "\n", 
            "#Definition and do a first make\n", 
            "MyMaker=MakerClass().make(3.)\n", 
            "\n", 
            "#Use the other binded method that is completely fooooo\n", 
            "MyMaker.foo_make()\n", 
            "\n", 
            "#Definition the AttestedStr\n", 
            "SYS._attest(\n", 
            "    [\n", 
            "        'MakerClass.foo is '+str(MakerClass.foo),\n", 
            "        'MakerClass.foo_make is '+str(MakerClass.foo_make),\n", 
            "        'MyMaker is '+SYS._str(\n", 
            "        MyMaker,\n", 
            "        **{\n", 
            "            'RepresentingBaseKeyStrsListBool':False,\n", 
            "            'RepresentingAlineaIsBool':False\n", 
            "        }\n", 
            "        )\n", 
            "    ]\n", 
            ") \n", 
            "\n", 
            "#Print\n", 
            "\n", 
            "\n", 
            "\n", 
            "\n", 
            "\n", 
            "\n", 
            "\n", 
            "\n", 
            "\n"
          ], 
          "outputs": [
            {
              "output_type": "stream", 
              "stream": "stdout", 
              "text": [
                "I make\n", 
                "In the foo function \n", 
                "_KwargVariablesDict is \n", 
                "{'MyFooInt': '1', 'BindDoClassStr': 'MakerClass', 'BindObserveWrapMethodStr': 'make'}\n", 
                "\n", 
                "I make\n", 
                "\n", 
                "\n", 
                "*****Start of the Attest *****\n", 
                "\n", 
                "MakerClass.foo is <unbound method MakerClass.foo>\n", 
                "\n", 
                "------\n", 
                "\n", 
                "MakerClass.foo_make is <unbound method MakerClass.foo_make>\n", 
                "\n", 
                "------\n", 
                "\n", 
                "MyMaker is < (MakerClass), 4348872080>\n", 
                "   /{ \n", 
                "   /  '<New><Instance>IdInt' : 4348872080\n", 
                "   /  '<Spe><Instance>MadeMyInt' : 30\n", 
                "   /  '<Spe><Instance>MakingMyFloat' : 30.0\n", 
                "   /}\n", 
                "\n", 
                "*****End of the Attest *****\n", 
                "\n", 
                "\n"
              ]
            }
          ], 
          "collapsed": false, 
          "metadata": {
            "slideshow": {
              "slide_type": "-"
            }
          }
        }
      ]
    }
  ], 
  "metadata": {
    "name": "", 
    "signature": ""
  }, 
  "nbformat_minor": 0
}