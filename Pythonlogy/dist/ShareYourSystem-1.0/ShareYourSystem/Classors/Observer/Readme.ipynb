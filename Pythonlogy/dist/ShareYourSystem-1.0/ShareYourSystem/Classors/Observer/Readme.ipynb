{
  "nbformat": 3, 
  "worksheets": [
    {
      "cells": [
        {
          "source": "\n<!--\nFrozenIsBool False\n-->\n\n#Observer\n\n##Doc\n----\n\n\n> \n> Observer...\n> \n> \n\n----\n\n<small>\nView the Observer notebook on [NbViewer](http://nbviewer.ipython.org/url/shareyoursystem.ouvaton.org/Observer.ipynb)\n</small>\n\n", 
          "cell_type": "markdown", 
          "prompt_number": 0, 
          "metadata": {
            "slideshow": {
              "slide_type": "slide"
            }
          }
        }, 
        {
          "source": "\n<!---\nFrozenIsBool True\n-->\n\n##Example\n\nFor this non directly very useful Module we just define a decorated FooClass\nfor which the Functer decoration by default call the decorated method...", 
          "cell_type": "markdown", 
          "prompt_number": 1, 
          "metadata": {
            "slideshow": {
              "slide_type": "subslide"
            }
          }
        }, 
        {
          "source": "```python\n#ImportModules\nimport ShareYourSystem as SYS\nfrom ShareYourSystem.Classors import Observer\nfrom ShareYourSystem.Objects import Initiator\nimport operator\n\n#Definition a MakerClass decorated by the ObserverClass\n@Observer.ObserverClass(**{\n    'ObservingIsBool':True,\n    'ObservingWrapMethodStr':'make'\n})\nclass MakerClass(Initiator.InitiatorClass):\n\n    #Definition\n    RepresentingKeyStrsList=[\n                                'MakingMyFloat',\n                                'MadeMyInt'\n                            ]\n\n    def default_init(self,\n                    _MakingMyFloat=0.,\n                    _MadeMyInt=0,\n                    **_KwarVariablesDict\n                ):\n        self.__class__.__bases__[0].__init__(self,**_KwarVariablesDict)\n\n    def do_make(self):\n    \n        #cast\n        self.MadeMyInt=int(self.MakingMyFloat)\n\n#Definition the AttestedStr\nSYS._attest(\n    [\n        'MakerClass.make is '+str(MakerClass.make),\n        'MakerClass.DeriveClassor.ObservingWrapMethodStr is '+str(\n            MakerClass.DeriveClassor.ObservingWrapMethodStr),\n        'MakerClass.DeriveClassor.ObservedWrapMethodStr is '+str(\n            MakerClass.DeriveClassor.ObservedWrapMethodStr),\n    ]\n) \n\n#Print\n\n\n\n\n\n```\n", 
          "cell_type": "markdown", 
          "metadata": {}
        }, 
        {
          "source": "```console\n>>>\n\n\n*****Start of the Attest *****\n\nMakerClass.make is <unbound method MakerClass.superDo_make>\n\n------\n\nMakerClass.DeriveClassor.ObservingWrapMethodStr is make\n\n------\n\nMakerClass.DeriveClassor.ObservedWrapMethodStr is superDo_make\n\n*****End of the Attest *****\n\n\n\n```\n", 
          "cell_type": "markdown", 
          "metadata": {}
        }
      ]
    }
  ], 
  "metadata": {
    "name": "", 
    "signature": ""
  }, 
  "nbformat_minor": 0
}