{
  "nbformat": 3, 
  "worksheets": [
    {
      "cells": [
        {
          "source": "\n<!---\nFrozenIsBool True\n-->\n\n##Example\n\nFor this non directly very useful Module we just define a decorated FooClass\nfor which the Functer decoration by default call the decorated method...", 
          "cell_type": "markdown", 
          "prompt_number": 0, 
          "metadata": {
            "slideshow": {
              "slide_type": "slide"
            }
          }
        }, 
        {
          "source": "```python\n#ImportModules\nimport ShareYourSystem as SYS\nfrom ShareYourSystem.Classors import Switcher,Attester\nfrom ShareYourSystem.Objects import Initiator\n\n#Definition a MakerClass with decorated make by a Switcher\n@Switcher.SwitcherClass(**{\n    'SwitchingIsBool':True,\n    #'ObservingWrapMethodStr':'do_make'\n    #'ObservingWrapMethodStr':'superDo_make'\n    'SwitchingWrapMethodStr':'make'\n})\nclass MakerClass(Initiator.InitiatorClass):\n\n    #Definition\n    RepresentingKeyStrsList=[\n                                'MakingMyFloat',\n                                'MadeMyInt'\n                            ]\n\n    def default_init(self,\n                _MakingMyFloat=1.,\n                _MadeMyInt=0\n                ):\n        Initiator.InitiatorClass.__init__(self)\n\n    def do_make(self):\n\n        #print\n        print('self.MakingMyFloat is '+str(self.MakingMyFloat))\n        print('self.MadeMyInt is '+str(self.MadeMyInt))\n        print('')\n\n        #Cast\n        self.MadeMyInt=int(self.MakingMyFloat)\n\n#Definition an instance\nMyMaker=MakerClass()\n\n#Print\nprint('Before make, MyMaker is ')\nSYS._print(MyMaker)\n\n#make once\nMyMaker.make(3.)\n\n#Print\nprint('After the first make, MyMaker is ')\nSYS._print(MyMaker)\n\n#make again\nMyMaker.make(5.)\n\n#Print\nprint('After the second make, MyMaker is ')\nSYS._print(MyMaker)\n\n#make again\nprint('Now we switch')\nMyMaker.setSwitch()\n\n#Print\nprint('After the switch MyMaker is ')\nSYS._print(MyMaker)\n\n#make again\nMyMaker.make(7.)\n\n#Print\nprint('After the third make, MyMaker is ')\nSYS._print(MyMaker)\n\n#Definition the AttestedStr\nSYS._attest(\n    [\n        'MakerClass.make is '+str(MakerClass.make),\n        'MyMaker is '+SYS._str(\n            MyMaker,**{'RepresentingAlineaIsBool':False}\n        ),\n    ]\n) \n\n#Print\n\n\n\n```\n", 
          "cell_type": "markdown", 
          "metadata": {}
        }, 
        {
          "source": "```console\n>>>\nBefore make, MyMaker is \n< (MakerClass), 4348604688>\n   /{ \n   /  '<New><Instance>IdInt' : 4348604688\n   /  '<Spe><Class>MadeMyInt' : 0\n   /  '<Spe><Class>MakingMyFloat' : 1.0\n   /}\nself.MakingMyFloat is 3.0\nself.MadeMyInt is 0\n\nAfter the first make, MyMaker is \n< (MakerClass), 4348604688>\n   /{ \n   /  '<New><Instance>IdInt' : 4348604688\n   /  '<Spe><Instance>MadeMyInt' : 3\n   /  '<Spe><Instance>MakingMyFloat' : 3.0\n   /}\nAfter the second make, MyMaker is \n< (MakerClass), 4348604688>\n   /{ \n   /  '<New><Instance>IdInt' : 4348604688\n   /  '<Spe><Instance>MadeMyInt' : 3\n   /  '<Spe><Instance>MakingMyFloat' : 3.0\n   /}\nNow we switch\nAfter the switch MyMaker is \n< (MakerClass), 4348604688>\n   /{ \n   /  '<New><Instance>IdInt' : 4348604688\n   /  '<Spe><Instance>MadeMyInt' : 3\n   /  '<Spe><Instance>MakingMyFloat' : 3.0\n   /}\nself.MakingMyFloat is 7.0\nself.MadeMyInt is 3\n\nAfter the third make, MyMaker is \n< (MakerClass), 4348604688>\n   /{ \n   /  '<New><Instance>IdInt' : 4348604688\n   /  '<Spe><Instance>MadeMyInt' : 7\n   /  '<Spe><Instance>MakingMyFloat' : 7.0\n   /}\n\n\n*****Start of the Attest *****\n\nMakerClass.make is <unbound method MakerClass.switch_watch_superDo_make>\n\n------\n\nMyMaker is < (MakerClass), 4348604688>\n   /{ \n   /  '<New><Instance>IdInt' : 4348604688\n   /  '<Spe><Instance>MadeMyInt' : 7\n   /  '<Spe><Instance>MakingMyFloat' : 7.0\n   /}\n\n*****End of the Attest *****\n\n\n\n```\n", 
          "cell_type": "markdown", 
          "metadata": {}
        }
      ]
    }
  ], 
  "metadata": {
    "name": "", 
    "signature": ""
  }, 
  "nbformat_minor": 0
}