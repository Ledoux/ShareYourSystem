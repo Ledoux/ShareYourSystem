{
  "nbformat": 3, 
  "worksheets": [
    {
      "cells": [
        {
          "source": "\n<!---\nFrozenIsBool True\n-->\n\n##Example\n\nLet's create an empty class, which will automatically receive\nspecial attributes from the decorating ClassorClass,\nspecially the NameStr, that should be the ClassStr\nwithout the TypeStr in the end.", 
          "cell_type": "markdown", 
          "prompt_number": 0, 
          "metadata": {}
        }, 
        {
          "cell_type": "code", 
          "prompt_number": 1, 
          "language": "python", 
          "input": [
            "\n", 
            "#ImportModules\n", 
            "import ShareYourSystem as SYS\n", 
            "from ShareYourSystem.Objects import Notebooker\n", 
            "\n", 
            "#Definition a Notebooker\n", 
            "MyNotebooker=Notebooker.NotebookerClass().notebook()\n", 
            "\t\t\n", 
            "#Definition the AttestedStr\n", 
            "SYS._attest(\n", 
            "\t[\n", 
            "\t\t'MyNotebooker is '+SYS._str(\n", 
            "\t\tMyNotebooker,\n", 
            "\t\t**{\n", 
            "\t\t\t'RepresentingBaseKeyStrsListBool':False\n", 
            "\t\t}\n", 
            "\t\t)\n", 
            "\t]\n", 
            ")  \n", 
            "\n", 
            "#Print\n", 
            "print(AttestedStr)\n", 
            "\n", 
            "\n"
          ], 
          "outputs": [
            {
              "output_type": "stream", 
              "stream": "stdout", 
              "text": [
                "        \n", 
                "        xxxxxxxxxxxxxxxxxxxxxxxxxxxxxxxxxxxxxxxxxxxxxxxxxxxxxxxxxxxxxxxxxxxxxxxxxxxxxxxxxxxxxxxxxxxx\n", 
                "        ////////////////////////////////\n", 
                "        Celler/__init__.py cell\n", 
                "        From Notebooker/__init__.py notebook | <Str> <module>\n", 
                "        ////////////////////////////////\n", 
                "        \n", 
                "        l.284 : \n", 
                "        *****\n", 
                "        I am with []\n", 
                "        *****\n", 
                "        self.CelledModuleStr is ShareYourSystem.Objects.Notebooker\n", 
                "        self.CelledParentModuleStr is ShareYourSystem.Objects\n", 
                "        \n", 
                "        xxxxxxxxxxxxxxxxxxxxxxxxxxxxxxxxxxxxxxxxxxxxxxxxxxxxxxxxxxxxxxxxxxxxxxxxxxxxxxxxxxxxxxxxxxxx\n", 
                "                \n", 
                "\n", 
                "\n", 
                "*****Start of the Attest *****\n", 
                "\n", 
                "MyNotebooker is         < (NotebookerClass), 4467769616>\n", 
                "           /{ \n", 
                "           /  '<New><Instance>CelledDict' : \n", 
                "           /   /{ \n", 
                "           /   /  'ClassCell.md' : 02_ClassCell.md\n", 
                "           /   /  'ClassCell.py' : 03_ClassCell.py\n", 
                "           /   /  'ExampleReadmeCell.md' : 00_ExampleReadmeCell.md\n", 
                "           /   /  'ExampleReadmeCell.py' : 01_ExampleReadmeCell.py\n", 
                "           /   /  'InstanceCell.md' : 04_InstanceCell.md\n", 
                "           /   /  'InstanceCell.py' : 05_InstanceCell.py\n", 
                "           /   /}\n", 
                "           /  '<New><Instance>CelledFileKeyStrsList' : ['00_ExampleReadmeCell.md', '01_ExampleReadmeCell.py', '02_ClassCell.md', '03_ClassCell.py', '04_InstanceCell.md', '05_InstanceCell.py']\n", 
                "           /  '<New><Instance>CelledModuleStr' : ShareYourSystem.Objects.Notebooker\n", 
                "           /  '<New><Instance>CelledNameStr' : Notebooker\n", 
                "           /}\n", 
                "\n", 
                "*****End of the Attest *****\n", 
                "\n", 
                "\n", 
                "\n"
              ]
            }
          ], 
          "collapsed": false, 
          "metadata": {}
        }, 
        {
          "source": "\n<!--\nFrozenIsBool False\n-->\n\n##More Descriptions at the level of the class\n\nSpecial attributes of the NotebookerClass are :\n", 
          "cell_type": "markdown", 
          "prompt_number": 2, 
          "metadata": {}
        }, 
        {
          "cell_type": "code", 
          "prompt_number": 3, 
          "language": "python", 
          "input": [
            "\n", 
            "\n", 
            "\n", 
            "#ImportModules\n", 
            "import ShareYourSystem as SYS\n", 
            "from ShareYourSystem.Objects import Notebooker\n", 
            "\t\t\n", 
            "#Definition the AttestedStr\n", 
            "SYS._attest(\n", 
            "\t[\n", 
            "\t\t'DefaultAttributeItemTuplesList is '+SYS._str(\n", 
            "\t\t\tNotebooker.NotebookerClass.DefaultAttributeItemTuplesList,\n", 
            "\t\t\t**{'RepresentingAlineaIsBool':False}\n", 
            "\t\t)\n", 
            "\t]\n", 
            ") \n", 
            "\n", 
            "#Print\n", 
            "print(AttestedStr)\n", 
            "\n"
          ], 
          "outputs": [
            {
              "output_type": "stream", 
              "stream": "stdout", 
              "text": [
                "\n", 
                "\n", 
                "*****Start of the Attest *****\n", 
                "\n", 
                "DefaultAttributeItemTuplesList is \n", 
                "   /[\n", 
                "   /  0 : ('NotebookingKeyStr', '')\n", 
                "   /  1 : \n", 
                "   /   /(\n", 
                "   /   /  0 : NotebookingWriteBool\n", 
                "   /   /  1 : True\n", 
                "   /   /)\n", 
                "   /  2 : ('NotebookedLoaderPointer', None)\n", 
                "   /  3 : \n", 
                "   /   /(\n", 
                "   /   /  0 : NotebookedFileKeyStrsList\n", 
                "   /   /  1 : []\n", 
                "   /   /)\n", 
                "   /  4 : \n", 
                "   /   /(\n", 
                "   /   /  0 : NotebookedCellFileKeyStrsList\n", 
                "   /   /  1 : []\n", 
                "   /   /)\n", 
                "   /  5 : \n", 
                "   /   /(\n", 
                "   /   /  0 : NotebookedCodeDict\n", 
                "   /   /  1 : \n", 
                "   /   /   /{ \n", 
                "   /   /   /}\n", 
                "   /   /)\n", 
                "   /]\n", 
                "\n", 
                "*****End of the Attest *****\n", 
                "\n", 
                "\n", 
                "\n"
              ]
            }
          ], 
          "collapsed": false, 
          "metadata": {}
        }, 
        {
          "source": "\n<!--\nFrozenIsBool False\n-->\n\n##More Descriptions at the level of the instances\n\nA default call of an instance gives :\n", 
          "cell_type": "markdown", 
          "prompt_number": 4, 
          "metadata": {}
        }, 
        {
          "cell_type": "code", 
          "prompt_number": 5, 
          "language": "python", 
          "input": [
            "\n", 
            "\n", 
            "\n", 
            "#ImportModules\n", 
            "from ShareYourSystem.Classors import Attester\n", 
            "from ShareYourSystem.Objects import Notebooker\n", 
            "\t\t\n", 
            "#Definition the AttestedStr\n", 
            "SYS._attest(\n", 
            "\t[\n", 
            "\t\tNotebooker.NotebookerClass()\n", 
            "\t]\n", 
            ") \n", 
            "\n", 
            "#Print\n", 
            "print(AttestedStr)\n", 
            "\n", 
            "\n"
          ], 
          "outputs": [
            {
              "output_type": "stream", 
              "stream": "stdout", 
              "text": [
                "\n", 
                "\n", 
                "*****Start of the Attest *****\n", 
                "\n", 
                "< (NotebookerClass), 4456145232>\n", 
                "   /{ \n", 
                "   /}\n", 
                "\n", 
                "*****End of the Attest *****\n", 
                "\n", 
                "\n", 
                "\n"
              ]
            }
          ], 
          "collapsed": false, 
          "metadata": {}
        }
      ]
    }
  ], 
  "metadata": {
    "name": "", 
    "signature": ""
  }, 
  "nbformat_minor": 0
}