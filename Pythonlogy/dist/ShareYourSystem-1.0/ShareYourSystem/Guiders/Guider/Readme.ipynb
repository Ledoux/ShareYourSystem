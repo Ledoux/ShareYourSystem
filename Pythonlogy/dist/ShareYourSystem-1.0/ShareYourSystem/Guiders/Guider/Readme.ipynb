{
  "nbformat": 3, 
  "worksheets": [
    {
      "cells": [
        {
          "source": "\n<!--\nFrozenIsBool False\n-->\n\n#Guider\n\n----------------------- ------------------------------------\n\n\n\n@Date : Fri Nov 14 13:20:38 2014 \n\n@Author : Erwan Ledoux \n\n\n\nThe Installer directs a readme call in a ShareYourSystem directory. \n\n\n\n----------------------------------------------------------------\n\n\nView the Guider sources on [Github](https://github.com/Ledoux/ShareYourSystem/tree/master/ShareYourSystem.Guiders.Informer)\n\n", 
          "cell_type": "markdown", 
          "prompt_number": 0, 
          "metadata": {
            "slideshow": {
              "slide_type": "slide"
            }
          }
        }, 
        {
          "source": "\n<!---\nFrozenIsBool True\n-->\n\n##Example\n\nLet's create an empty class, which will automatically receive\nspecial attributes from the decorating ClassorClass,\nspecially the NameStr, that should be the ClassStr\nwithout the TypeStr in the end.", 
          "cell_type": "markdown", 
          "prompt_number": 1, 
          "metadata": {
            "slideshow": {
              "slide_type": "subslide"
            }
          }
        }, 
        {
          "source": "```python\n\n#ImportModules\nimport ShareYourSystem as SYS\nfrom ShareYourSystem.Guiders import Guider\nfrom ShareYourSystem.Objects import Concluder\n\n#Definition an instance\nMyGuider=Guider.GuiderClass().guide(\n    '001','Github','Doc','Markdown'\n)\n        \n#Definition the AttestedStr\nSYS._attest(\n    [\n        'MyGuider is '+str(\n            SYS._str(\n                MyGuider,\n                **{\n                'RepresentingBaseKeyStrsListBool':False\n                }\n            )\n        )\n    ]\n) \n\n```\n", 
          "cell_type": "markdown", 
          "metadata": {}
        }, 
        {
          "source": "```console\n>>>\n\n\n*****Start of the Attest *****\n\nMyGuider is < (GuiderClass), 4466183440>\n   /{ \n   /  '<New><Instance>IdStr' : 4466183440\n   /  '<Spe><Class>GuidedIndexStr' : \n   /  '<Spe><Instance>GuidingBookStr' : Doc\n   /  '<Spe><Instance>GuidingIndexStr' : 001\n   /  '<Spe><Instance>GuidingPageStr' : Github\n   /  '<Spe><Instance>GuidingScriptStr' : Markdown\n   /}\n\n*****End of the Attest *****\n\n\n\n```\n", 
          "cell_type": "markdown", 
          "metadata": {}
        }
      ]
    }
  ], 
  "metadata": {
    "name": "", 
    "signature": ""
  }, 
  "nbformat_minor": 0
}