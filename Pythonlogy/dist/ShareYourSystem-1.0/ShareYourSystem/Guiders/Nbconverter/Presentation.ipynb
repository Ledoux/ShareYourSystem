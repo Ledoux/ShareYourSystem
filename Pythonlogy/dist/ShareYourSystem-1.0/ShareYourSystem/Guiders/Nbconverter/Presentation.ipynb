{
  "nbformat": 3, 
  "worksheets": [
    {
      "cells": [
        {
          "source": "\n<!--\nFrozenIsBool False\n-->\n\n#Nbconverter\n\n##Doc\n----\n\n\n> \n> The Nbconverter\n> \n> \n\n----\n\n<small>\nView the Nbconverter notebook on [NbViewer](http://nbviewer.ipython.org/url/shareyoursystem.ouvaton.org/Nbconverter.ipynb)\n</small>\n\n", 
          "cell_type": "markdown", 
          "prompt_number": 0, 
          "metadata": {
            "slideshow": {
              "slide_type": "slide"
            }
          }
        }, 
        {
          "source": "\n<!--\nFrozenIsBool False\n-->\n\n##Code\n\n----\n\n<ClassDocStr>\n\n----\n\n```python\n# -*- coding: utf-8 -*-\n\"\"\"\n\n\n<DefineSource>\n@Date : Fri Nov 14 13:20:38 2014 \\n\n@Author : Erwan Ledoux \\n\\n\n</DefineSource>\n\n\nThe Nbconverter\n\n\"\"\"\n\n#<DefineAugmentation>\nimport ShareYourSystem as SYS\nBaseModuleStr=\"ShareYourSystem.Guiders.Notebooker\"\nDecorationModuleStr=\"ShareYourSystem.Classors.Classer\"\nSYS.setSubModule(globals())\n#</DefineAugmentation>\n\n#<ImportSpecificModules>\nimport collections\nimport copy\nimport json\nimport os\nimport sys\nFiler=BaseModule\n#</ImportSpecificModules>\n\n#<DefineFunctions>\ndef getNbconvertedMarkdownCellDictsListWithCodeCellDict(_CellDict):\n\treturn [\n\t\t\t\t{\n\t\t\t\t\t'source': \"```python\\n\"+\"\".join(\n\t\t\t\t\t\tmap(\n\t\t\t\t\t\t\t\tlambda __LineStr:\n\t\t\t\t\t\t\t\t__LineStr.replace('\\t','    '),\n\t\t\t\t\t\t\t\t_CellDict['input']\n\t\t\t\t\t\t\t)\n\t\t\t\t\t)+\"\\n```\\n\", \n\t\t\t\t\t'cell_type': 'markdown', \n\t\t\t\t\t'metadata': {}\n\t\t\t\t}\n\t\t\t]+[\n\t\t\t\t\t{\n\t\t\t\t\t\t'source': \"```console\\n>>>\\n\"+\"\".join(\n\t\t\t\t\t\t\t_CellDict['outputs'][0]['text'])+\"\\n```\\n\", \n\t\t\t\t\t\t'cell_type': 'markdown', \n\t\t\t\t\t\t'metadata': {}\n\t\t\t\t\t} \n\t\t\t] if len(_CellDict['outputs'])>0 else []\n\n#</DefineFunctions>\n\n#<DefineLocals>\nNbconvertingFilePrefixStr=\"\"\n#</DefineLocals>\n\n#<DefineClass>\n@DecorationClass()\nclass NbconverterClass(BaseClass):\n\t\n\t#Definition\n\tRepresentingKeyStrsList=[\n\t\t\t\t\t\t\t\t'NbconvertingFileKeyStr'\n\t\t\t\t\t\t\t]\n\n\tdef default_init(self,\n\t\t\t\t\t\t_NbconvertingFileKeyStr=\"\",\n\t\t\t\t\t\t_NbconvertingFormatStr=\"Markdown\",\n\t\t\t\t\t\t**_KwargVariablesDict\n\t\t\t\t\t):\n\n\t\t#Call the parent __init__ method\n\t\tBaseClass.__init__(self,**_KwargVariablesDict)\n\n\tdef do_nbconvert(self):\n\n\t\t#debug\n\t\t'''\n\t\tself.debug(('self.',self,['FiledFileVariable']))\n\t\t'''\n\n\t\t#Check\n\t\tif self.NbconvertingFormatStr==\"Markdown\":\n\n\t\t\t#debug\n\t\t\t'''\n\t\t\tself.debug(\n\t\t\t\t\t\t'worksheets are before the markdown '+Representer.represent(\n\t\t\t\t\t\t\tself.NbconvertedNotebookDict['worksheets'][0],**{'RepresentingAlineaIsBool':False})\n\t\t\t\t\t)\n\t\t\t'''\n\n\t\t\t#Transform the code cells into Nbconverted cells\n\t\t\tNbconvertedWorksheetsList=SYS.flat(\n\t\t\t\tmap(\n\t\t\t\t\tlambda __CellDict:\n\t\t\t\t\tgetNbconvertedMarkdownCellDictsListWithCodeCellDict(\n\t\t\t\t\t\t__CellDict\n\t\t\t\t\t) \n\t\t\t\t\tif __CellDict['cell_type']=='code'\n\t\t\t\t\telse __CellDict,\n\t\t\t\t\tself.NotebookedCodeDict['worksheets'][0]['cells']\n\t\t\t\t\t)\n\t\t\t)\n\n\t\t\t#debug\n\t\t\t'''\n\t\t\tself.debug(\n\t\t\t\t\t\t'NbconvertedWorksheetsList is '+SYS._str(\n\t\t\t\t\t\t\tNbconvertedWorksheetsList,**{'RepresentingAlineaIsBool':False})\n\t\t\t\t\t\t)\n\t\t\t'''\n\n\t\t\t#set the dict\n\t\t\tself.NotebookedCodeDict['worksheets'][0]['cells']=NbconvertedWorksheetsList\n\n\t\t\t#debug\n\t\t\t'''\n\t\t\tself.debug(('self.',self,['FilingKeyStr']))\n\t\t\t'''\n\n\t\t\t#Write\n\t\t\tself.file(\n\t\t\t\t\t\tself.NbconvertingFileKeyStr.replace('.md','.ipynb'),\n\t\t\t\t\t\t'w'\n\t\t\t).write(\n\t\t\t\tself.NotebookedCodeDict,**{\n\t\t\t\t\t'LoadingFormatStr':'json'\n\t\t\t\t}\n\t\t\t).FiledFileVariable.close()\n\n\t\t\t#debug\n\t\t\t'''\n\t\t\tself.debug(('self.',self,[\n\t\t\t\t\t\t\t\t\t\t'FilingKeyStr',\n\t\t\t\t\t\t\t\t\t\t'FilingModeStr',\n\t\t\t\t\t\t\t\t\t\t'FiledPathStr'\n\t\t\t\t\t\t\t\t\t]))\n\t\t\t'''\n\n\t\t\t#Definition the NbconvertedCommandStr\n\t\t\tNbconvertedCommandStr=SYS.IPythonPathStr+\" nbconvert --to markdown --output \"+self.FiledPathStr.replace('.ipynb','')+\" \"+self.FiledPathStr\n\n\t\telif self.NbconvertingFormatStr=='Slide':\n\n\t\t\t#Definition the NbconvertedCommandStr\n\t\t\tNbconvertedCommandStr=SYS.IPythonPathStr+\" nbconvert --to slides --output \"+self.FiledPathStr.replace('.ipynb','')+\" \"+self.FiledPathStr\n\n\t\t\t#debug\n\t\t\t'''\n\t\t\tself.debug(\n\t\t\t\t\t\t'NbconvertedCommandStr is '+NbconvertedCommandStr,\n\t\t\t\t\t\t('self.',self,['FiledPathStr'])\n\t\t\t\t\t)\n\t\t\t'''\n\n\t\t#debug\n\t\t'''\n\t\tself.debug('NbconvertedCommandStr is '+NbconvertedCommandStr)\n\t\t'''\n\n\t\t#Convert\n\t\tos.popen(NbconvertedCommandStr)\n\n\t\t#set the name\n\t\tif self.NbconvertingFormatStr=='Slide':\n\n\t\t\t#popen\n\t\t\tos.popen(\n\t\t\t\t\t'mv '+self.FiledPathStr.replace(\n\t\t\t\t\t'.ipynb','.slides.html'\n\t\t\t\t\t)+' '+self.FiledPathStr.replace(\n\t\t\t\t\t'.ipynb','.html'\n\t\t\t\t)\n\t\t\t)\n\n\t\t\t#change the reveal.js directory\n\t\t\tself.load(**{\n\t\t\t\t\t'FilingKeyStr':self.FiledPathStr.split('/')[-1].replace(\n\t\t\t\t\t\t'.ipynb',\n\t\t\t\t\t\t'.html'\n\t\t\t\t\t),\n\t\t\t\t\t'LoadingFormatStr':'txt'\n\t\t\t\t})\n\n\t\t\tself.LoadedReadVariable=self.LoadedReadVariable.replace(\n\t\t\t\t'reveal.js/','reveal/'\n\t\t\t).replace(\n\t\t\t\t\"Reveal.initialize({\",\n\t\t\t\t#\"Reveal.initialize({\"\n\t\t\t\t\"Reveal.initialize({width: 1000,height: 400,margin: 0.,minScale: 0.5,maxScale: 1.0,\"\n\t\t\t)\t\n\n\n\t\t\t#chunk\n\t\t\tDocumentedOldChunkStrsList=SYS.chunk(\n\t\t\t\t\t\t['<code class=\"language-python\">','</code>'],\n\t\t\t\t\t\tself.LoadedReadVariable,\n\t\t\t\t\t\t**{'ChunksInt':\"All\"}\n\t\t\t\t\t)\n\t\t\t\n\t\t\t#debug\n\t\t\t'''\n\t\t\tself.debug(\n\t\t\t\t\t\t[\n\t\t\t\t\t\t\t'self.DocumentedOldChunkStrsList is ',\n\t\t\t\t\t\t\tstr(DocumentedOldChunkStrsList)\n\t\t\t\t\t\t]\n\t\t\t\t\t)\n\t\t\t'''\n\t\t\t\n\t\t\t#map\n\t\t\tDocumentedNewChunkStrsList=copy.deepcopy(DocumentedOldChunkStrsList)\n\t\t\tmap(\n\t\t\t\t\tlambda __ChunkStr,__ChunkIndexInt:\n\t\t\t\t\tmap(\n\t\t\t\t\t\t\tlambda __RemoveStr:\n\t\t\t\t\t\t\t DocumentedNewChunkStrsList.__setitem__(\n\t\t\t\t\t\t\t \t__ChunkIndexInt,\n\t\t\t\t\t\t\t \tDocumentedNewChunkStrsList[__ChunkIndexInt].replace(\n\t\t\t\t\t\t\t\t\t__RemoveStr,\n\t\t\t\t\t\t\t\t\t''\n\t\t\t\t\t\t\t\t)\n\t\t\t\t\t\t\t),\n\t\t\t\t\t\t\tmap(\n\t\t\t\t\t\t\t\t\tlambda __KeyStr:\n\t\t\t\t\t\t\t\t\t'<span class=\"'+__KeyStr+'\">',\n\t\t\t\t\t\t\t\t\t[\n\t\t\t\t\t\t\t\t\t\t\"built_in\",\n\t\t\t\t\t\t\t\t\t\t\"comment\",\n\t\t\t\t\t\t\t\t\t\t\"keyword\",\n\t\t\t\t\t\t\t\t\t\t\"params\",\n\t\t\t\t\t\t\t\t\t\t\"string\",\n\t\t\t\t\t\t\t\t\t\t\"number\",\n\t\t\t\t\t\t\t\t\t\t\"title\",\n\t\t\t\t\t\t\t\t\t\t\"function\",\n\t\t\t\t\t\t\t\t\t\t\"decorator\",\n\t\t\t\t\t\t\t\t\t\t\"class\",\n\t\t\t\t\t\t\t\t\t\t#\"highlight\",\n\t\t\t\t\t\t\t\t\t\t#\"kn\",\n\t\t\t\t\t\t\t\t\t\t#\"c\",\n\t\t\t\t\t\t\t\t\t\t#\"n\",\n\t\t\t\t\t\t\t\t\t\t#\"p\",\n\t\t\t\t\t\t\t\t\t\t#\"o\"\n\t\t\t\t\t\t\t\t\t]\n\t\t\t\t\t\t\t)+['</span>']\n\t\t\t\t\t),\n\t\t\t\t\tDocumentedOldChunkStrsList,\n\t\t\t\t\txrange(len(DocumentedOldChunkStrsList))\n\t\t\t\t)\n\n\t\t\t#debug\n\t\t\t'''\n\t\t\tself.debug(\n\t\t\t\t\t\t[\n\t\t\t\t\t\t\t'self.DocumentedNewChunkStrsList is ',\n\t\t\t\t\t\t\tstr(DocumentedNewChunkStrsList)\n\t\t\t\t\t\t]\n\t\t\t\t\t)\n\t\t\t'''\n\n\t\t\t#replace\n\t\t\tmap(\n\t\t\t\t\tlambda __DocumentedOldChunkStr,__DocumentedNewChunkStr:\n\t\t\t\t\tself.__setattr__(\n\t\t\t\t\t\t\t'LoadedReadVariable',\n\t\t\t\t\t\t\tself.LoadedReadVariable.replace(__DocumentedOldChunkStr,__DocumentedNewChunkStr)\n\t\t\t\t\t\t),\n\t\t\t\t\tDocumentedOldChunkStrsList,\n\t\t\t\t\tDocumentedNewChunkStrsList\n\t\t\t\t)\n\n\t\t\t#write\n\t\t\tself.write(self.LoadedReadVariable).close()\n\n\t\t#Return self\n\t\t#return self\t\n\n#</DefineClass>\n\n\n```\n\n<small>\nView the Nbconverter sources on <a href=\"https://github.com/Ledoux/ShareYourSystem/tree/master/Pythonlogy/ShareYourSystem/Guiders/Nbconverter\" target=\"_blank\">Github</a>\n</small>\n\n", 
          "cell_type": "markdown", 
          "prompt_number": 1, 
          "metadata": {
            "slideshow": {
              "slide_type": "subslide"
            }
          }
        }, 
        {
          "source": "\n<!---\nFrozenIsBool True\n-->\n\n##Example\n\nLet's create a Slide Presentation like file", 
          "cell_type": "markdown", 
          "prompt_number": 2, 
          "metadata": {
            "slideshow": {
              "slide_type": "subslide"
            }
          }
        }, 
        {
          "cell_type": "code", 
          "prompt_number": 3, 
          "language": "python", 
          "input": [
            "#ImportModules\n", 
            "import ShareYourSystem as SYS\n", 
            "from ShareYourSystem.Guiders import Nbconverter\n", 
            "\n", 
            "#Definition a Nbconverter\n", 
            "MyNbconverter=Nbconverter.NbconverterClass().package(\n", 
            "        'ShareYourSystem.Objects.Concluder'\n", 
            "    ).scriptbook(\n", 
            "        **{\n", 
            "            'GuidingBookStr':'Doc'\n", 
            "        }\n", 
            "    ).notebook(\n", 
            "        'Presentation.ipynb'\n", 
            "    ).nbconvert(\n", 
            "        'Readme.md',\n", 
            "        'Slide'\n", 
            ")\n", 
            "    \n", 
            "#Definition the AttestedStr\n", 
            "SYS._attest(\n", 
            "    [\n", 
            "        'MyNbconverter is '+SYS._str(\n", 
            "        MyNbconverter,\n", 
            "        **{\n", 
            "            'RepresentingBaseKeyStrsListBool':False,\n", 
            "            'RepresentingAlineaIsBool':False\n", 
            "            }\n", 
            "        )\n", 
            "    ]\n", 
            ")  \n", 
            "\n", 
            "#Print\n", 
            "\n", 
            "\n", 
            "\n"
          ], 
          "outputs": [
            {
              "output_type": "stream", 
              "stream": "stdout", 
              "text": [
                "\n", 
                "\n", 
                "*****Start of the Attest *****\n", 
                "\n", 
                "MyNbconverter is < (NbconverterClass), 4540813520>\n", 
                "   /{ \n", 
                "   /  '<New><Instance>IdInt' : 4540813520\n", 
                "   /  '<New><Instance>NotebookedScriptStrsList' : ['Markdown', 'Markdown', 'Markdown', 'Python']\n", 
                "   /  '<New><Instance>ScriptbookedSortDict' : \n", 
                "   /   /{ \n", 
                "   /   /  'DocumentDoc.md' : 001_DocumentDoc.md\n", 
                "   /   /  'ExampleDoc.md' : 00_ExampleDoc.md\n", 
                "   /   /  'ExampleDoc.py' : 01_ExampleDoc.py\n", 
                "   /   /  'GithubDoc.md' : 002_GithubDoc.md\n", 
                "   /   /}\n", 
                "   /  '<New><Instance>_CapturingStopBool' : True\n", 
                "   /  '<Spe><Instance>NbconvertingFileKeyStr' : Readme.md\n", 
                "   /}\n", 
                "\n", 
                "*****End of the Attest *****\n", 
                "\n", 
                "\n"
              ]
            }
          ], 
          "collapsed": false, 
          "metadata": {
            "slideshow": {
              "slide_type": "-"
            }
          }
        }
      ]
    }
  ], 
  "metadata": {
    "name": "", 
    "signature": ""
  }, 
  "nbformat_minor": 0
}