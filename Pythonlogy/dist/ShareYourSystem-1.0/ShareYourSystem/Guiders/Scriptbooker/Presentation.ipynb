{
  "nbformat": 3, 
  "worksheets": [
    {
      "cells": [
        {
          "source": "\n<!--\nFrozenIsBool False\n-->\n\n#Scriptbooker\n\n----------------------- ------------------------------------\n\n\n\n@Date : Fri Nov 14 13:20:38 2014 \n\n@Author : Erwan Ledoux \n\n\n\nThe Installer directs a readme call in a ShareYourSystem directory. \n\n\n\n----------------------------------------------------------------\n\n\nView the Scriptbooker sources on [Github](https://github.com/Ledoux/ShareYourSystem/tree/master/ShareYourSystem.Guiders.Informer)\n\n", 
          "cell_type": "markdown", 
          "prompt_number": 0, 
          "metadata": {
            "slideshow": {
              "slide_type": "slide"
            }
          }
        }, 
        {
          "source": "\n<!---\nFrozenIsBool True\n-->\n\n##Example\n\nLet's create an empty class, which will automatically receive\nspecial attributes from the decorating ClassorClass,\nspecially the NameStr, that should be the ClassStr\nwithout the TypeStr in the end.", 
          "cell_type": "markdown", 
          "prompt_number": 1, 
          "metadata": {
            "slideshow": {
              "slide_type": "subslide"
            }
          }
        }, 
        {
          "cell_type": "code", 
          "prompt_number": 2, 
          "language": "python", 
          "input": [
            "\n", 
            "#ImportModules\n", 
            "import ShareYourSystem as SYS\n", 
            "from ShareYourSystem.Guiders import Scriptbooker\n", 
            "\n", 
            "#Definition of a Scriptbooker\n", 
            "MyScriptbooker=Scriptbooker.ScriptbookerClass().scriptbook(\n", 
            "\t\t**{\n", 
            "\t\t\t'FolderingPathStr':\n", 
            "\t\t\tSYS.ShareYourSystemLocalFolderPathStr+'/ShareYourSystem/Objects/Object',\n", 
            "\t\t\t'GuidingBookStr':'Doc'\n", 
            "\t\t}\n", 
            ").scriptbook(**{\n", 
            "\t\t\t'FolderingPathStr':\n", 
            "\t\t\tSYS.ShareYourSystemLocalFolderPathStr+'/ShareYourSystem/Interfacers/Filer',\n", 
            "\t\t}\n", 
            ")\n", 
            "\t\t\n", 
            "#Definition the AttestedStr\n", 
            "SYS._attest(\n", 
            "\t[\n", 
            "\t\t'MyScriptbooker is '+SYS._str(\n", 
            "\t\t\t\tMyScriptbooker,\n", 
            "\t\t\t\t**{\n", 
            "\t\t\t\t'RepresentingBaseKeyStrsListBool':False,\n", 
            "\t\t\t\t'RepresentingAlineaIsBool':False\n", 
            "\t\t\t\t}\n", 
            "\t\t)\n", 
            "\t]\n", 
            ") \n", 
            "\n", 
            "#Print\n", 
            "\n", 
            "\n"
          ], 
          "outputs": [
            {
              "output_type": "stream", 
              "stream": "stdout", 
              "text": [
                "\n", 
                "\n", 
                "*****Start of the Attest *****\n", 
                "\n", 
                "MyScriptbooker is < (ScriptbookerClass), 4466232912>\n", 
                "   /{ \n", 
                "   /  '<New><Instance>IdStr' : 4466232912\n", 
                "   /  '<New><Instance>ScriptbookedSortDict' : \n", 
                "   /   /{ \n", 
                "   /   /  'ExampleDoc.md' : 00_ExampleDoc.md\n", 
                "   /   /  'ExampleDoc.py' : 01_ExampleDoc.py\n", 
                "   /   /  'GithubDoc.md' : 001_GithubDoc.md\n", 
                "   /   /}\n", 
                "   /  '<Spe><Class>ScriptbookingGuideTuplesList' : \n", 
                "   /   /[\n", 
                "   /   /  0 : ('001', 'Github', 'Markdown')\n", 
                "   /   /]\n", 
                "   /  '<Spe><Instance>ScriptbookedFileKeyStrsList' : ['001_GithubDoc.md', '00_ExampleDoc.md', '01_ExampleDoc.py']\n", 
                "   /  '<Spe><Instance>ScriptbookedNewGuideTuplesList' : []\n", 
                "   /  '<Spe><Instance>ScriptbookedOldGuideTuplesList' : \n", 
                "   /   /[\n", 
                "   /   /  0 : ['001', 'Github', 'Markdown', 'GithubDoc.md']\n", 
                "   /   /]\n", 
                "   /}\n", 
                "\n", 
                "*****End of the Attest *****\n", 
                "\n", 
                "\n"
              ]
            }
          ], 
          "collapsed": false, 
          "metadata": {
            "slideshow": {
              "slide_type": "-"
            }
          }
        }
      ]
    }
  ], 
  "metadata": {
    "name": "", 
    "signature": ""
  }, 
  "nbformat_minor": 0
}