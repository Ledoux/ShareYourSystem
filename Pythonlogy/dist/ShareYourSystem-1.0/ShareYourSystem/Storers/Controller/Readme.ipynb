{
  "nbformat": 3, 
  "worksheets": [
    {
      "cells": [
        {
          "source": [
            "#Parenter\n", 
            " @Date : Fri Nov 14 13:20:38 2014 \n\n@Author : Erwan Ledoux \n\n\n\nA Parenter completes the list of grand-parent nodes that a child node could have. It acts only at one level.\n\n\n"
          ], 
          "cell_type": "markdown", 
          "metadata": {}
        }, 
        {
          "source": "\n<!---\nFrozenIsBool True\n-->\n\n##Example\n\nLet's create an empty class, which will automatically receive\nspecial attributes from the decorating ClassorClass,\nspecially the NameStr, that should be the ClassStr\nwithout the TypeStr in the end.", 
          "cell_type": "markdown", 
          "prompt_number": 0, 
          "metadata": {}
        }, 
        {
          "source": "```python\n#ImportModules\nimport ShareYourSystem as SYS\nfrom ShareYourSystem.Objects import Parenter\n\n#Short expression and set in the appended manner\nMyParenter=Parenter.ParenterClass().__setitem__(\n    '<Group>ChildNode',\n    Parenter.ParenterClass().__setitem__(\n        '<Group>GrandChildNode',\n        Parenter.ParenterClass()\n    )\n)\n\n#Parent for the children\nMyParenter['<Group>ChildNode'].parent('Group')\nMyParenter['<Group>ChildNode']['<Group>GrandChildNode'].parent('Group')\n\n#Definition the AttestedStr\nSYS._attest(\n    [\n        'MyParenter is '+SYS._str(\n        MyParenter,\n        **{\n            'RepresentingBaseKeyStrsListBool':False\n        }\n        )\n    ]\n) \n\n#Print\nprint(AttestedStr)\n\n\n```\n", 
          "cell_type": "markdown", 
          "metadata": {}
        }, 
        {
          "source": "```console\n>>>\n\n\n*****Start of the Attest *****\n\nMyParenter is < (ParenterClass), 4381805648>\n   /{ \n   /  '<New><Instance>NodedGroupGrandParentPointersList' : []\n   /  '<New><Instance>NodedGroupInt' : -1\n   /  '<New><Instance>NodedGroupKeyStr' : \n   /  '<New><Instance>NodedGroupOrderedDict' : \n   /   /{ \n   /   /  'ChildNode' : < (ParenterClass), 4382860560>\n   /   /   /{ \n   /   /   /  '<New><Instance>NodedGroupGrandParentKeyStrsList' : ['']\n   /   /   /  '<New><Instance>NodedGroupGrandParentPointersList' : ['< (ParenterClass), 4381805648>']\n   /   /   /  '<New><Instance>NodedGroupInt' : 0\n   /   /   /  '<New><Instance>NodedGroupKeyStr' : ChildNode\n   /   /   /  '<New><Instance>NodedGroupOrderedDict' : \n   /   /   /   /{ \n   /   /   /   /  'GrandChildNode' : < (ParenterClass), 4382860752>\n   /   /   /   /   /{ \n   /   /   /   /   /  '<New><Instance>NodedGroupGrandParentKeyStrsList' : ['ChildNode', '']\n   /   /   /   /   /  '<New><Instance>NodedGroupGrandParentPointersList' : ['< (ParenterClass), 4382860560>', '< (ParenterClass), 4381805648>']\n   /   /   /   /   /  '<New><Instance>NodedGroupInt' : 0\n   /   /   /   /   /  '<New><Instance>NodedGroupKeyStr' : GrandChildNode\n   /   /   /   /   /  '<New><Instance>NodedGroupOrderedDict' : \n   /   /   /   /   /   /{ \n   /   /   /   /   /   /}\n   /   /   /   /   /  '<New><Instance>NodedGroupParentPointer' : < (ParenterClass), 4382860560>\n   /   /   /   /   /  '<New><Instance>NodedGroupPathStr' : /ChildNode/GrandChildNode\n   /   /   /   /   /  '<New><Instance>NodedGroupPathStrsList' : ['', 'ChildNode', 'GrandChildNode']\n   /   /   /   /   /}\n   /   /   /   /}\n   /   /   /  '<New><Instance>NodedGroupParentPointer' : < (ParenterClass), 4381805648>\n   /   /   /  '<New><Instance>NodedGroupPathStr' : /ChildNode\n   /   /   /  '<New><Instance>NodedGroupPathStrsList' : ['', 'ChildNode']\n   /   /   /}\n   /   /}\n   /  '<New><Instance>NodedGroupParentPointer' : < (NoneType), 4357211448>\n   /}\n\n*****End of the Attest *****\n\n\n\n\n```\n", 
          "cell_type": "markdown", 
          "metadata": {}
        }, 
        {
          "source": "\n<!--\nFrozenIsBool False\n-->\n\n##More Descriptions at the level of the class\n\nSpecial attributes of the ParenterClass are :\n", 
          "cell_type": "markdown", 
          "prompt_number": 2, 
          "metadata": {}
        }, 
        {
          "source": "```python\n\n\n\n#ImportModules\nimport ShareYourSystem as SYS\nfrom ShareYourSystem.Objects import Parenter\n        \n#Definition the AttestedStr\nSYS._attest(\n    [\n        'DefaultAttributeItemTuplesList is '+SYS._str(\n            Parenter.ParenterClass.DefaultAttributeItemTuplesList,\n            **{'RepresentingAlineaIsBool':False}\n        )\n    ]\n) \n\n#Print\nprint(AttestedStr)\n\n\n```\n", 
          "cell_type": "markdown", 
          "metadata": {}
        }, 
        {
          "source": "```console\n>>>\n\n\n*****Start of the Attest *****\n\nDefaultAttributeItemTuplesList is \n   /[\n   /  0 : ('ParentingNodeStr', '')\n   /  1 : \n   /   /(\n   /   /  0 : ParentedDeriveNodersList\n   /   /  1 : []\n   /   /)\n   /  2 : ('ParentedPathStr', '')\n   /]\n\n*****End of the Attest *****\n\n\n\n\n```\n", 
          "cell_type": "markdown", 
          "metadata": {}
        }, 
        {
          "source": "\n<!--\nFrozenIsBool False\n-->\n\n##More Descriptions at the level of the instances\n\nA default call of an instance gives :\n", 
          "cell_type": "markdown", 
          "prompt_number": 4, 
          "metadata": {}
        }, 
        {
          "source": "```python\n\n\n\n#ImportModules\nfrom ShareYourSystem.Classors import Attester\nfrom ShareYourSystem.Objects import Parenter\n        \n#Definition the AttestedStr\nSYS._attest(\n    [\n        Parenter.ParenterClass()\n    ]\n) \n\n#Print\nprint(AttestedStr)\n\n\n\n```\n", 
          "cell_type": "markdown", 
          "metadata": {}
        }, 
        {
          "source": "```console\n>>>\n\n\n*****Start of the Attest *****\n\n< (ParenterClass), 4527459344>\n   /{ \n   /}\n\n*****End of the Attest *****\n\n\n\n\n```\n", 
          "cell_type": "markdown", 
          "metadata": {}
        }
      ]
    }
  ], 
  "metadata": {
    "name": "", 
    "signature": ""
  }, 
  "nbformat_minor": 0
}