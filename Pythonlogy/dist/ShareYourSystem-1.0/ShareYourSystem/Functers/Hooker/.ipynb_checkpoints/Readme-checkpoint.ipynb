{
 "metadata": {
  "name": "",
  "signature": "sha256:b18f3d29a0dbf0d9958e90d517d105d65b6978e76de7543b99df75853a2bfd57"
 },
 "nbformat": 3,
 "nbformat_minor": 0,
 "worksheets": [
  {
   "cells": [
    {
     "cell_type": "markdown",
     "metadata": {},
     "source": [
      "#Hooker"
     ]
    },
    {
     "cell_type": "code",
     "collapsed": false,
     "input": [
      "#import Modules\n",
      "from ShareYourSystem.Classors.Representer import _print\n",
      "from ShareYourSystem.Functers import Hooker\n",
      "\n",
      "#Definition a first Class\n",
      "class FirstClass(object):\n",
      "\n",
      "\tdef printSomething(self,**_KwargVariablesDict):\n",
      "\t\t_print('First')\n",
      "\n",
      "#Definition a derived second Class\n",
      "class SecondClass(FirstClass):\n",
      "\n",
      "\t@Hooker.HookerClass(**{'HookingAfterVariablesList':[{'CallingVariable':FirstClass.printSomething}]})\n",
      "\tdef printSomething(self,**_KwargVariablesDict):\n",
      "\t\t_print('Second')\n",
      "        \n",
      "#Call the hooked printSomething method of the SecondClass\n",
      "SecondClass().printSomething();"
     ],
     "language": "python",
     "metadata": {},
     "outputs": [
      {
       "output_type": "stream",
       "stream": "stdout",
       "text": [
        "First\n",
        "Second\n"
       ]
      }
     ],
     "prompt_number": 7
    },
    {
     "cell_type": "code",
     "collapsed": false,
     "input": [],
     "language": "python",
     "metadata": {},
     "outputs": []
    }
   ],
   "metadata": {}
  }
 ]
}