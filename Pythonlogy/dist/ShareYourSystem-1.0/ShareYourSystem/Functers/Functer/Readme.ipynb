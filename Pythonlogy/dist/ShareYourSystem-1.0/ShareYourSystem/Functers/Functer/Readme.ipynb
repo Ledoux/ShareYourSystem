{
  "nbformat": 3, 
  "worksheets": [
    {
      "cells": [
        {
          "source": [
            "#Functer\n", 
            "\n\n@Date : Fri Nov 14 13:20:38 2014 \n\n@Author : Erwan Ledoux \n\n\n\nThe Functer is the first Module for beginnning to decorate methods inside of the classes of the framework. So here, FuncterClass instances decorate methods, but just for setting the essential attributes of this augmentation at the level of the decorating class, and also give to the new decorated method a __repr__ and attributes to keep having access to the nested method attributes.\n\n\n"
          ], 
          "cell_type": "markdown", 
          "metadata": {}
        }, 
        {
          "source": "\n<!---\nFrozenIsBool True\n-->\n\n##Example\n\nFor this non directly very useful Module we just define a decorated FooClass\nfor which the Functer decoration by default call the decorated method...", 
          "cell_type": "markdown", 
          "prompt_number": 0, 
          "metadata": {}
        }, 
        {
          "source": "```python\n#ImportModules\nfrom ShareYourSystem.Classors import Attester\nfrom ShareYourSystem.Functers import Functer\n\n#Definition a derived second Class\nclass FooClass():\n\n    @Functer.FuncterClass()\n    def printSomething(self,**_KwargVariablesDict):\n        print('Something !')\n\n    #Functers can be cumulated\n    @Functer.FuncterClass()\n    @Functer.FuncterClass()\n    def printOtherthing(self,**_KwargVariablesDict):\n        print('An Other Thing ?')\n\n#Definition an instance\nMyFoo=FooClass()\n\n#Do just a test of the basic FirstClass method printSomething\nMyFoo.printSomething()\n\n#Do just a test of the basic FirstClass method printSomething\nMyFoo.printOtherthing()\n\n\n```\n", 
          "cell_type": "markdown", 
          "metadata": {}
        }, 
        {
          "source": "```console\n>>>\nSomething !\nAn Other Thing ?\n\n\n```\n", 
          "cell_type": "markdown", 
          "metadata": {}
        }, 
        {
          "source": "\n<!--\nFrozenIsBool False\n-->\n\n##More Descriptions at the level of the class\n\nSpecial attributes of the FuncterClass are :\n", 
          "cell_type": "markdown", 
          "prompt_number": 2, 
          "metadata": {}
        }, 
        {
          "source": "```python\n\n\n\n#ImportModules\nimport ShareYourSystem as SYS\nfrom ShareYourSystem.Functers import Functer\n        \n#Definition the AttestedStr\nSYS._attest(\n    [\n        'DefaultAttributeItemTuplesList is '+SYS._str(\n            Functer.FuncterClass.DefaultAttributeItemTuplesList,\n            **{'RepresentingAlineaIsBool':False}\n        )\n    ]\n) \n\n#Print\nprint(AttestedStr)\n\n\n```\n", 
          "cell_type": "markdown", 
          "metadata": {}
        }, 
        {
          "source": "```console\n>>>\n\n\n*****Start of the Attest *****\n\nDefaultAttributeItemTuplesList is \n   /[\n   /  0 : ('FunctingFunction', None)\n   /  1 : ('FunctedModuleStr', '')\n   /  2 : ('FunctedFunction', None)\n   /  3 : ('FunctedClass', None)\n   /  4 : \n   /   /(\n   /   /  0 : FunctedIsBool\n   /   /  1 : False\n   /   /)\n   /]\n\n*****End of the Attest *****\n\n\n\n\n```\n", 
          "cell_type": "markdown", 
          "metadata": {}
        }, 
        {
          "source": "\n<!--\nFrozenIsBool False\n-->\n\n##More Descriptions at the level of the instances\n\nA default call of an instance gives :\n", 
          "cell_type": "markdown", 
          "prompt_number": 4, 
          "metadata": {}
        }, 
        {
          "source": "```python\n\n\n\n#ImportModules\nfrom ShareYourSystem.Classors import Attester\nfrom ShareYourSystem.Functers import Functer\n        \n#Definition the AttestedStr\nSYS._attest(\n    [\n        Functer.FuncterClass()\n    ]\n) \n\n#Print\nprint(AttestedStr)\n\n\n\n```\n", 
          "cell_type": "markdown", 
          "metadata": {}
        }, 
        {
          "source": "```console\n>>>\n\n\n*****Start of the Attest *****\n\n< (FuncterClass), 4334812624>\n   /{ \n   /  '<Base><Class>PrintingVariable' : None\n   /}\n\n*****End of the Attest *****\n\n\n\n\n```\n", 
          "cell_type": "markdown", 
          "metadata": {}
        }
      ]
    }
  ], 
  "metadata": {
    "name": "", 
    "signature": ""
  }, 
  "nbformat_minor": 0
}