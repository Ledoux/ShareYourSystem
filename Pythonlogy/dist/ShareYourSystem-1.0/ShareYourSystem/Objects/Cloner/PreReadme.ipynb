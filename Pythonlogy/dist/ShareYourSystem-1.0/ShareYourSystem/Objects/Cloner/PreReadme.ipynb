{
  "nbformat": 3, 
  "worksheets": [
    {
      "cells": [
        {
          "source": "\n<!--\nFrozenIsBool False\n-->\n\n#Cloner\n\n##Doc\n----\n\n\n> \n> The Cloner\n> \n> \n\n----\n\n<small>\nView the Cloner notebook on [NbViewer](http://nbviewer.ipython.org/url/shareyoursystem.ouvaton.org/Cloner.ipynb)\n</small>\n\n", 
          "cell_type": "markdown", 
          "prompt_number": 0, 
          "metadata": {
            "slideshow": {
              "slide_type": "slide"
            }
          }
        }, 
        {
          "source": "\n<!--\nFrozenIsBool False\n-->\n\n##Code\n\n----\n\n<ClassDocStr>\n\n----\n\n```python\n# -*- coding: utf-8 -*-\n\"\"\"\n\n\n<DefineSource>\n@Date : Fri Nov 14 13:20:38 2014 \\n\n@Author : Erwan Ledoux \\n\\n\n</DefineSource>\n\n\nThe Cloner\n\n\"\"\"\n\n#<DefineAugmentation>\nimport ShareYourSystem as SYS\nBaseModuleStr=\"ShareYourSystem.Objects.Caller\"\nDecorationModuleStr=\"ShareYourSystem.Classors.Classer\"\nSYS.setSubModule(globals())\n#</DefineAugmentation>\n\n#<ImportSpecificModules>\nimport collections\nimport copy\n\n#</ImportSpecificModules>\n\n#<DefineDoStrsList>\nDoStrsList=[\"Cloner\",\"Clone\",\"Cloning\",\"Cloned\"]\n#<DefineDoStrsList>\n\n#<DefineLocals>\nCloningIdStringsList=[]\n#</DefineLocals>\n\ndef getCopiedMutableVariableWithMutableVariable(_MutableVariable,**_KwargVariablesDict):\n\n\tif 'CloningIdsDict' not in _KwargVariablesDict:\n\t\t_KwargVariablesDict['CloningIdsDict']={}\n\tif 'CloningNotCopyKeyStringsList' not in _KwargVariablesDict:\n\t\t_KwargVariablesDict['CloningNotCopyKeyStringsList']=[]\n\n\t#get the type\n\tType=type(_MutableVariable)\n\n\t#Debug\n\tprint('_MutableVariable is ',_MutableVariable)\n\tprint('')\n\n\t#itemized variable case\n\tif Type in [dict,collections.OrderedDict]:\n\t\treturn Type(\n\t\t\t\t\tmap(\n\t\t\t\t\t\tlambda __ItemTuple:\n\t\t\t\t\t\t(\n\t\t\t\t\t\t\t__ItemTuple[0],\n\t\t\t\t\t\t\t__ItemTuple[1].clone(\n\t\t\t\t\t\t\t\t_KwargVariablesDict['CloningIdsDict'],\n\t\t\t\t\t\t\t\t_KwargVariablesDict['CloningNotCopyKeyStringsList']\n\t\t\t\t\t\t\t)\n\t\t\t\t\t\t\tif hasattr(__ItemTuple[1],'clone')\n\t\t\t\t\t\t\telse getCopiedMutableVariableWithMutableVariable(\n\t\t\t\t\t\t\t\t__ItemTuple[1],\n\t\t\t\t\t\t\t\t**_KwargVariablesDict\n\t\t\t\t\t\t\t)\n\t\t\t\t\t\t\tif type(__ItemTuple[1]) in [list,tuple,set,dict,collections.OrderedDict]\n\t\t\t\t\t\t\telse __ItemTuple[1]\n\t\t\t\t\t\t),\n\t\t\t\t\t\t_MutableVariable.items()\n\t\t\t\t\t)\n\t\t\t\t)\n\n\t#listed variable case\n\telif Type in [list,tuple,set]:\n\n\t\treturn Type(\n\t\t\tmap(\n\t\t\t\tlambda __ListedVariable:\n\t\t\t\t__ListedVariable.clone(\n\t\t\t\t\t\t\t\t_KwargVariablesDict['CloningIdsDict'],\n\t\t\t\t\t\t\t\t_KwargVariablesDict['CloningNotCopyKeyStringsList']\n\t\t\t\t\t\t\t)\n\t\t\t\tif hasattr(__ListedVariable,'clone')\n\t\t\t\telse getCopiedMutableVariableWithMutableVariable(\n\t\t\t\t\t__ListedVariable,\n\t\t\t\t\t**_KwargVariablesDict\n\t\t\t\t)\n\t\t\t\tif type(__ListedVariable) in [list,tuple,set,dict,collections.OrderedDict]\n\t\t\t\telse __ListedVariable,\n\t\t\t\t_MutableVariable\n\t\t\t)\n\t\t)\n\n\t#other\n\telse:\n\n\t\treturn _MutableVariable\n\t\t\n#<DefineClass>\n@DecorationClass(**{'DoingGetBool':True})\nclass ClonerClass(BaseClass):\n\t\n\t#Definition\n\tRepresentingKeyStrsList=[\n\t\t\t\t\t\t\t\t'CloningIdsDict',\n\t\t\t\t\t\t\t\t'CloningNotCopyKeyStringsList',\n\t\t\t\t\t\t\t\t'CloningResetBool',\n\t\t\t\t\t\t\t\t'ClonedItemTuplesList',\n\t\t\t\t\t\t\t\t'ClonedCopyVariable'\n\t\t\t\t\t\t\t]\n\n\n\tdef default_init(self,\n\t\t\t\t\t\t_CloningIdsDict=None,\n\t\t\t\t\t\t_CloningNotCopyKeyStringsList=None,\n\t\t\t\t\t\t_CloningResetBool=False,\n\t\t\t\t\t\t_ClonedItemTuplesList=None,\n\t\t\t\t\t\t_ClonedCopyVariable=None,\n\t\t\t\t\t\t**_KwargVariablesDict\n\t\t\t\t\t):\n\n\t\t#Call the parent __init__ method\n\t\tBaseClass.__init__(self,**_KwargVariablesDict)\n\n\t#@Argumenter.ArgumenterClass()\n\tdef do_clone(self):\n\n\t\t#filter\n\t\tself.ClonedItemTuplesList=SYS._filter(\n\t\t\t\tlambda __ItemTuple:\n\t\t\t\t__ItemTuple[0] not in self.CloningNotCopyKeyStringsList,\n\t\t\t\tself.__dict__.items()\n\t\t\t)\n\n\t\t\"\"\"\n\t\t#global\n\t\tglobal CloningIdStringsList\n\n\t\t#check\n\t\tif self.CloningResetBool:\n\t\t\tCloningIdStringsList=[]\n\t\t\tself.CloningIdsDict={}\n\n\t\t#if self.IdString in CloningIdStringsList:\n\n\t\t#return \n\n\t\t#append\n\t\t#CloningIdStringsList.append(id(self))\n\n\t\t\n\t\t\n\t\t#debug\n\t\t'''\n\t\tself.debug(\n\t\t\t('self.',self,['ClonedItemTuplesList'])\n\t\t)\n\t\t'''\n\n\t\t#debug\n\t\tself.ClonedValueTuplesList=[]\n\t\tfor __ClonedItemTuple in self.ClonedItemTuplesList:\n\n\t\t\tprint('__ClonedItemTuple[0] is ',__ClonedItemTuple[0])\n\t\t\tprint('__ClonedItemTuple[1] is ',__ClonedItemTuple[1])\n\t\t\tprint('')\n\n\t\t\tClonedIdString=id(__ClonedItemTuple[1])\n\t\t\tif hasattr(\n\t\t\t\t\t\t__ClonedItemTuple[1],\n\t\t\t\t\t\t'clone'\n\t\t\t\t\t):\n\n\t\t\t\tprint('IdString in CloningIdStringsList is ',ClonedIdString in CloningIdStringsList)\n\t\t\t\tprint('')\n\n\t\t\t\t#Check\n\t\t\t\tif ClonedIdString in CloningIdStringsList:\n\t\n\t\t\t\t\t#\n\t\t\t\t\tself.ClonedValueTuplesList.append(self.CloningIdsDict[ClonedIdString])\n\n\t\t\t\telse:\n\n\t\t\t\t\t#append\n\t\t\t\t\tCloningIdStringsList.append(ClonedIdString)\n\n\t\t\t\t\t#set\n\t\t\t\t\tself.CloningIdsDict[ClonedIdString]=__ClonedItemTuple[1]\n\n\t\t\t\t\t#append\n\t\t\t\t\tself.ClonedValueTuplesList.append(\n\t\t\t\t\t\t__ClonedItemTuple[1].clone(\n\t\t\t\t\t\t\tself.CloningIdsDict,\n\t\t\t\t\t\t\tself.CloningNotCopyKeyStringsList\n\t\t\t\t\t\t)\n\t\t\t\t\t)\n\n\t\t\telse:\n\n\t\t\t\tself.ClonedValueTuplesList.append(\n\t\t\t\t\tgetCopiedMutableVariableWithMutableVariable(__ClonedItemTuple[1],\n\t\t\t\t\t\t**{\n\t\t\t\t\t\t\t'CloningIdsDict':self.CloningIdsDict,\n\t\t\t\t\t\t\t'CloningNotCopyKeyStringsList':self.CloningNotCopyKeyStringsList\n\t\t\t\t\t\t})\n\t\t\t\t)\n\n\t\t'''\n\t\t#copy or clone\n\t\tself.ClonedValueTuplesList=map(\n\t\t\tlambda __ClonedValueTuple:\n\t\t\t__ClonedValueTuple.clone() if hasattr(\n\t\t\t\t\t__ClonedValueTuple,\n\t\t\t\t\t'clone'\n\t\t\t\t)\n\t\t\telse getCopiedMutableVariableWithMutableVariable(__ClonedValueTuple),\n\t\t\tSYS.unzip(self.ClonedItemTuplesList,[1])\n\t\t)\n\t\t'''\n\t\t\t\n\t\t#update\n\t\tself.CloningIdsDict[self.IdString]=self.ClonedCopyVariable\n\t\t\n\n\t\t#instance\n\t\tself.ClonedCopyVariable=self.__class__(\n\t\t\t\t**dict(\t\n\t\t\t\tcopy.deepcopy(\n\t\t\t\t\t\tself.ClonedItemTuplesList\n\t\t\t\t\t\t#zip(\n\t\t\t\t\t\t#\tSYS.unzip(self.ClonedItemTuplesList,[0]),\n\t\t\t\t\t\t#\tself.ClonedValueTuplesList\n\t\t\t\t\t\t#\t)\n\t\t\t\t)\n\t\t\t)\n\t\t)\n\t\t\"\"\"\t\n\t\t\n\t\tfor __ClonedItemTuple in self.ClonedItemTuplesList:\n\t\t\tprint(__ClonedItemTuple)\n\t\t\tcopy.deepcopy(__ClonedItemTuple)\n\n\t\t#copy\n\t\tself.ClonedCopyVariable=copy.deepcopy(self)\n\n\n\t\t#return\n\t\treturn self.ClonedCopyVariable\n\n\t\t#Return self\n\t\t#return self\n\t\n#</DefineClass>\n\n\n```\n\n<small>\nView the Cloner sources on <a href=\"https://github.com/Ledoux/ShareYourSystem/tree/master/Pythonlogy/ShareYourSystem/Objects/Cloner\" target=\"_blank\">Github</a>\n</small>\n\n", 
          "cell_type": "markdown", 
          "prompt_number": 1, 
          "metadata": {
            "slideshow": {
              "slide_type": "subslide"
            }
          }
        }, 
        {
          "source": "\n<!---\nFrozenIsBool True\n-->\n\n##Example\n\nLet's create an empty class, which will automatically receive\nspecial attributes from the decorating ClassorClass,\nspecially the NameStr, that should be the ClassStr\nwithout the TypeStr in the end.", 
          "cell_type": "markdown", 
          "prompt_number": 2, 
          "metadata": {
            "slideshow": {
              "slide_type": "subslide"
            }
          }
        }, 
        {
          "cell_type": "code", 
          "prompt_number": 3, 
          "language": "python", 
          "input": [
            "#ImportModules\n", 
            "import ShareYourSystem as SYS\n", 
            "from ShareYourSystem.Objects import Cloner\n", 
            "\n", 
            "#Definition of an instance Cloner \n", 
            "MyCloner=Cloner.ClonerClass()\n", 
            "MyCloner.MyInt=1\n", 
            "\n", 
            "#clone\n", 
            "MyFirstCloner=MyCloner.clone()\n", 
            "MyFirstCloner.MyInt=2\n", 
            "\n", 
            "#Definition the AttestedStr\n", 
            "SYS._attest(\n", 
            "                    [\n", 
            "                        'MyCloner is '+SYS._str(MyCloner),\n", 
            "                        'MyFirstCloner is '+SYS._str(MyFirstCloner)\n", 
            "                    ]\n", 
            "                ) \n", 
            "\n", 
            "#Print\n", 
            "\n", 
            "\n"
          ], 
          "outputs": [
            {
              "output_type": "stream", 
              "stream": "stdout", 
              "text": [
                "('CloningNotCopyKeyStringsList', [])\n", 
                "('MyInt', 1)\n", 
                "('ClonedItemTuplesList', [])\n", 
                "('CloningIdsDict', {})\n", 
                "('IdInt', 4537117328)\n", 
                "\n", 
                "\n", 
                "*****Start of the Attest *****\n", 
                "\n", 
                "MyCloner is < (ClonerClass), 4537117328>\n", 
                "   /{ \n", 
                "   /  '<New><Instance>IdInt' : 4537117328\n", 
                "   /  '<New><Instance>MyInt' : 1\n", 
                "   /  '<Spe><Class>CloningResetBool' : False\n", 
                "   /  '<Spe><Instance>ClonedCopyVariable' : < (ClonerClass), 4537117520>\n", 
                "   /   /{ \n", 
                "   /   /  '<New><Instance>IdInt' : 4537117328\n", 
                "   /   /  '<New><Instance>MyInt' : 2\n", 
                "   /   /  '<Spe><Class>ClonedCopyVariable' : None\n", 
                "   /   /  '<Spe><Class>CloningResetBool' : False\n", 
                "   /   /  '<Spe><Instance>ClonedItemTuplesList' : \n", 
                "   /   /   /[\n", 
                "   /   /   /  0 : \n", 
                "   /   /   /   /(\n", 
                "   /   /   /   /  0 : CloningNotCopyKeyStringsList\n", 
                "   /   /   /   /  1 : []\n", 
                "   /   /   /   /)\n", 
                "   /   /   /  1 : ('MyInt', 1)\n", 
                "   /   /   /  2 : \n", 
                "   /   /   /   /(\n", 
                "   /   /   /   /  0 : ClonedItemTuplesList\n", 
                "   /   /   /   /  1 : []\n", 
                "   /   /   /   /)\n", 
                "   /   /   /  3 : \n", 
                "   /   /   /   /(\n", 
                "   /   /   /   /  0 : CloningIdsDict\n", 
                "   /   /   /   /  1 : \n", 
                "   /   /   /   /   /{ \n", 
                "   /   /   /   /   /}\n", 
                "   /   /   /   /)\n", 
                "   /   /   /  4 : ('IdInt', 4537117328)\n", 
                "   /   /   /]\n", 
                "   /   /  '<Spe><Instance>CloningIdsDict' : {...}< (dict), 4537108752>\n", 
                "   /   /  '<Spe><Instance>CloningNotCopyKeyStringsList' : {...}< (list), 4537089200>\n", 
                "   /   /}\n", 
                "   /  '<Spe><Instance>ClonedItemTuplesList' : \n", 
                "   /   /[\n", 
                "   /   /  0 : \n", 
                "   /   /   /(\n", 
                "   /   /   /  0 : CloningNotCopyKeyStringsList\n", 
                "   /   /   /  1 : []\n", 
                "   /   /   /)\n", 
                "   /   /  1 : {...}< (tuple), 4536798816>\n", 
                "   /   /  2 : \n", 
                "   /   /   /(\n", 
                "   /   /   /  0 : ClonedItemTuplesList\n", 
                "   /   /   /  1 : []\n", 
                "   /   /   /)\n", 
                "   /   /  3 : \n", 
                "   /   /   /(\n", 
                "   /   /   /  0 : CloningIdsDict\n", 
                "   /   /   /  1 : \n", 
                "   /   /   /   /{ \n", 
                "   /   /   /   /}\n", 
                "   /   /   /)\n", 
                "   /   /  4 : {...}< (tuple), 4536619304>\n", 
                "   /   /]\n", 
                "   /  '<Spe><Instance>CloningIdsDict' : {...}< (dict), 4537090408>\n", 
                "   /  '<Spe><Instance>CloningNotCopyKeyStringsList' : {...}< (list), 4537089272>\n", 
                "   /}\n", 
                "\n", 
                "------\n", 
                "\n", 
                "MyFirstCloner is < (ClonerClass), 4537117520>\n", 
                "   /{ \n", 
                "   /  '<New><Instance>IdInt' : 4537117328\n", 
                "   /  '<New><Instance>MyInt' : 2\n", 
                "   /  '<Spe><Class>ClonedCopyVariable' : None\n", 
                "   /  '<Spe><Class>CloningResetBool' : False\n", 
                "   /  '<Spe><Instance>ClonedItemTuplesList' : \n", 
                "   /   /[\n", 
                "   /   /  0 : \n", 
                "   /   /   /(\n", 
                "   /   /   /  0 : CloningNotCopyKeyStringsList\n", 
                "   /   /   /  1 : []\n", 
                "   /   /   /)\n", 
                "   /   /  1 : ('MyInt', 1)\n", 
                "   /   /  2 : \n", 
                "   /   /   /(\n", 
                "   /   /   /  0 : ClonedItemTuplesList\n", 
                "   /   /   /  1 : []\n", 
                "   /   /   /)\n", 
                "   /   /  3 : \n", 
                "   /   /   /(\n", 
                "   /   /   /  0 : CloningIdsDict\n", 
                "   /   /   /  1 : \n", 
                "   /   /   /   /{ \n", 
                "   /   /   /   /}\n", 
                "   /   /   /)\n", 
                "   /   /  4 : ('IdInt', 4537117328)\n", 
                "   /   /]\n", 
                "   /  '<Spe><Instance>CloningIdsDict' : {...}< (dict), 4537108752>\n", 
                "   /  '<Spe><Instance>CloningNotCopyKeyStringsList' : {...}< (list), 4537089200>\n", 
                "   /}\n", 
                "\n", 
                "*****End of the Attest *****\n", 
                "\n", 
                "\n"
              ]
            }
          ], 
          "collapsed": false, 
          "metadata": {
            "slideshow": {
              "slide_type": "-"
            }
          }
        }
      ]
    }
  ], 
  "metadata": {
    "name": "", 
    "signature": ""
  }, 
  "nbformat_minor": 0
}