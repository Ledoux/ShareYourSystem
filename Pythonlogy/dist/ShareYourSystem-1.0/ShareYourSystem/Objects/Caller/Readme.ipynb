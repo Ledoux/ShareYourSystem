{
  "nbformat": 3, 
  "worksheets": [
    {
      "cells": [
        {
          "source": [
            "#Caller\n", 
            "\n\n@Date : Fri Nov 14 13:20:38 2014 \n\n@Author : Erwan Ledoux \n\n\n\nThe Caller is an Object that helps to get an make call a function/method.\n\n\n"
          ], 
          "cell_type": "markdown", 
          "metadata": {}
        }, 
        {
          "source": "\n<!--\nFrozenIsBool False\n-->\n\nView the Caller sources on [Github](https://github.com/Ledoux/ShareYourSystem/tree/master/ShareYourSystem/Objects/Installer)\n\n", 
          "cell_type": "markdown", 
          "prompt_number": 0, 
          "metadata": {}
        }, 
        {
          "source": "\n<!---\nFrozenIsBool True\n-->\n\n##Example\n\nLet's create an empty class, which will automatically receive\nspecial attributes from the decorating ClassorClass,\nspecially the NameStr, that should be the ClassStr\nwithout the TypeStr in the end.", 
          "cell_type": "markdown", 
          "prompt_number": 1, 
          "metadata": {}
        }, 
        {
          "source": "```python\n#ImportModules\nimport ShareYourSystem as SYS\nfrom ShareYourSystem.Objects import Caller\n\n#Definition of a Caller instance\nMyCaller=Caller.CallerClass()\n    \n#Call the _print from the Rep\nMyCaller.call(\n    _FunctionStr='represent',\n    **{\n        'PackagingModuleVariableStr':'ShareYourSystem.Classors.Representer',    \n    }\n)\n\n#Definition the AttestedStr\nSYS._attest(\n    [\n        'MyCaller is '+SYS._str(\n        MyCaller,\n        **{\n            'RepresentingBaseKeyStrsListBool':False\n        }\n        )\n    ]\n) \n\n#Print\n\n\n\n```\n", 
          "cell_type": "markdown", 
          "metadata": {}
        }, 
        {
          "source": "```console\n>>>\nDoer l.132 : DoerStr is Caller\nDoStr is Call\nDoMethodStr is call\nDoingStr is Calling\nDoneStr is Called\n\n\n\n*****Start of the Attest *****\n\nMyCaller is < (CallerClass), 4556059536>\n   /{ \n   /  '<New><Instance>IdString' : 4556059536\n   /  '<Spe><Class>CallingClass' : None\n   /  '<Spe><Class>CallingClassStr' : \n   /  '<Spe><Class>CallingInstanceVariable' : None\n   /  '<Spe><Class>CallingMethod' : None\n   /  '<Spe><Class>CallingMethodStr' : \n   /  '<Spe><Instance>CallingFunctionStr' : represent\n   /  '<Spe><Instance>CallingVariable' : <function Watcher@represent at 0x10f75dd70>\n   /}\n\n*****End of the Attest *****\n\n\n\n```\n", 
          "cell_type": "markdown", 
          "metadata": {}
        }
      ]
    }
  ], 
  "metadata": {
    "name": "", 
    "signature": ""
  }, 
  "nbformat_minor": 0
}