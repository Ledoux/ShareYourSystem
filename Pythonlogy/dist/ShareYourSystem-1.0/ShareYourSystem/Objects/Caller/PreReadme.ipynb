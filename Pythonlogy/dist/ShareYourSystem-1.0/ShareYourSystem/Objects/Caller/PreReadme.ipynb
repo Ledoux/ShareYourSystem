{
  "nbformat": 3, 
  "worksheets": [
    {
      "cells": [
        {
          "source": "\n<!--\nFrozenIsBool False\n-->\n\n#Caller\n\n##Doc\n----\n\n\n> \n> The Caller is an Object that helps to get an make call a function/method.\n> \n> \n\n----\n\n<small>\nView the Caller notebook on [NbViewer](http://nbviewer.ipython.org/url/shareyoursystem.ouvaton.org/Caller.ipynb)\n</small>\n\n", 
          "cell_type": "markdown", 
          "prompt_number": 0, 
          "metadata": {
            "slideshow": {
              "slide_type": "slide"
            }
          }
        }, 
        {
          "source": "\n<!--\nFrozenIsBool False\n-->\n\n##Code\n\n----\n\n<ClassDocStr>\n\n----\n\n```python\n# -*- coding: utf-8 -*-\n\"\"\"\n\n\n<DefineSource>\n@Date : Fri Nov 14 13:20:38 2014 \\n\n@Author : Erwan Ledoux \\n\\n\n</DefineSource>\n\n\nThe Caller is an Object that helps to get an make call a function/method.\n\n\"\"\"\n\n#<DefineAugmentation>\nimport ShareYourSystem as SYS\nBaseModuleStr=\"ShareYourSystem.Objects.Packager\"\nDecorationModuleStr=\"ShareYourSystem.Classors.Tester\"\nSYS.setSubModule(globals())\n#</DefineAugmentation>\n\n#<ImportSpecificModules>\nimport sys\n#</ImportSpecificModules>\n\n#<DefineClass>\n@DecorationClass()\nclass CallerClass(BaseClass):\n\t\n\t#Definition\n\tRepresentingKeyStrsList=[\n\t\t\t\t\t\t\t\t'CallingVariable',\n\t\t\t\t\t\t\t\t'CallingFunctionStr',\n\t\t\t\t\t\t\t\t'CallingMethod',\n\t\t\t\t\t\t\t\t'CallingMethodStr',\n\t\t\t\t\t\t\t\t'CallingInstanceVariable',\n\t\t\t\t\t\t\t\t'CallingClass',\n\t\t\t\t\t\t\t\t'CallingClassStr',\n\t\t\t\t\t\t\t]\n\n\tdef default_init(self,\n\t\t\t\t\t\t_CallingVariable=None,\n\t\t\t\t\t\t_CallingFunctionStr=\"\",\n\t\t\t\t\t\t_CallingMethod=None,\n\t\t\t\t\t\t_CallingMethodStr=\"\",\n\t\t\t\t\t\t_CallingInstanceVariable=None,\n\t\t\t\t\t\t_CallingClass=None,\n\t\t\t\t\t\t_CallingClassStr=\"\",\n\t\t\t\t\t\t**_KwargVariablesDict\n\t\t\t\t\t):\n\t\t\n\t\t#Call the parent init method\n\t\tBaseClass.__init__(self,**_KwargVariablesDict)\n\t\n\t#<DefineDoMethod>\t\n\tdef do_call(self):\n\n\t\t#Module first to know where we are\n\t\tself.package()\n\n\t\t#debug\n\t\t'''\n\t\tprint(\"self.CallingVariable is \",self.CallingVariable)\n\t\tprint('')\n\t\t'''\n\n\t\t#If it was not yet setted or changed\n\t\tif self.CallingVariable==None or self.CallingVariable.__name__!=self.CallingFunctionStr:\n\n\t\t\t#debug\n\t\t\t'''\n\t\t\tprint('Get in the module')\n\t\t\tprint('self.PackagingModuleVariable is '+str(self.PackagingModuleVariable))\n\t\t\tprint('')\n\t\t\t'''\n\n\t\t\t#Get maybe the one in the module\n\t\t\tif self.CallingFunctionStr!=\"\":\n\n\t\t\t\t#debug\n\t\t\t\t'''\n\t\t\t\tprint('Get in the module with the function Str')\n\t\t\t\tprint('self.CallingFunctionStr is ',self.CallingFunctionStr)\n\t\t\t\tprint('')\n\t\t\t\t'''\n\n\t\t\t\t#Get and return\n\t\t\t\tself.CallingVariable=getattr(self.PackagedModuleVariable,self.CallingFunctionStr)\n\t\t\t\treturn self\n\n\t\t#Get the function \n\t\tif self.CallingVariable==None or self.CallingVariable.__name__!=self.CallingMethodStr:\n\n\t\t\t#debug\n\t\t\t'''\n\t\t\tprint('Get in a class')\n\t\t\tprint('self.PackagingModuleVariable is '+str(self.PackagingModuleVariable))\n\t\t\tprint('self.CallingVariable is ',self.CallingVariable)\n\t\t\tprint('self.CallingMethodStr is ',self.CallingMethodStr)\n\t\t\tprint('self.CallingClass is ',self.CallingClass)\n\t\t\tprint('self.CallingClassStr is ',self.CallingClassStr)\n\t\t\tprint('self.CallingInstanceVariable is ',self.CallingInstanceVariable)\n\t\t\tprint('')\n\t\t\t'''\n\t\t\t\n\t\t\t#Get with the CallingInstanceVariable class maybe\n\t\t\tif self.CallingClass==None and self.CallingInstanceVariable!=None:\n\t\t\t\tself.CallingClass=self.CallingInstanceVariable.__class__\n\n\t\t\t#Import the module if not already\n\t\t\tif self.CallingClass==None:\n\t\t\t\tif self.CallingClassStr!=\"\":\n\t\t\t\t\tself.CallingClass=getattr(self.PackagedModuleVariable,self.CallingClassStr)\n\t\t\t\telse:\n\t\t\t\t\tself.CallingClass=getattr(\n\t\t\t\t\t\t\t\t\tself.PackagedModuleVariable,\n\t\t\t\t\t\t\t\t\tSYS.getClassStrWithNameStr(\n\t\t\t\t\t\t\t\t\t\tSYS.getNameStrWithModuleStr(self.PackagedModuleVariable.__name__)\n\t\t\t\t\t\t\t\t\t\t)\n\t\t\t\t\t\t\t\t\t)\n\t\t\t\n\n\t\t\t#debug\n\t\t\t'''\n\t\t\tprint('Now get the unbounded method function')\n\t\t\tprint('self.CallingClass is '+str(self.CallingClass))\n\t\t\tprint('')\n\t\t\t'''\n\n\t\t\t#Check\n\t\t\tif self.CallingMethodStr!=\"\":\n\t\n\t\t\t\t#debug\n\t\t\t\t'''\n\t\t\t\tprint('self.CallingMethodStr is ',self.CallingMethodStr)\n\t\t\t\tprint('')\n\t\t\t\t'''\n\n\t\t\t\t#Return \n\t\t\t\tself.CallingVariable=getattr(self.CallingClass,self.CallingMethodStr)\n\n\t\t#Return\n\t\t#return self\n\n#</DefineClass>\n\n\n```\n\n<small>\nView the Caller sources on <a href=\"https://github.com/Ledoux/ShareYourSystem/tree/master/Pythonlogy/ShareYourSystem/Objects/Caller\" target=\"_blank\">Github</a>\n</small>\n\n", 
          "cell_type": "markdown", 
          "prompt_number": 1, 
          "metadata": {
            "slideshow": {
              "slide_type": "subslide"
            }
          }
        }, 
        {
          "source": "\n<!---\nFrozenIsBool True\n-->\n\n##Example\n\nLet's create an empty class, which will automatically receive\nspecial attributes from the decorating ClassorClass,\nspecially the NameStr, that should be the ClassStr\nwithout the TypeStr in the end.", 
          "cell_type": "markdown", 
          "prompt_number": 2, 
          "metadata": {
            "slideshow": {
              "slide_type": "subslide"
            }
          }
        }, 
        {
          "cell_type": "code", 
          "prompt_number": 3, 
          "language": "python", 
          "input": [
            "#ImportModules\n", 
            "import ShareYourSystem as SYS\n", 
            "from ShareYourSystem.Objects import Caller\n", 
            "\n", 
            "#Definition of a Caller instance\n", 
            "MyCaller=Caller.CallerClass()\n", 
            "\n", 
            "#Call the _print from the Rep\n", 
            "MyCaller.call(\n", 
            "    _FunctionStr='represent',\n", 
            "    **{\n", 
            "        'PackagingModuleVariable':'ShareYourSystem.Classors.Representer',\n", 
            "    }\n", 
            ")\n", 
            "\n", 
            "#Definition the AttestedStr\n", 
            "SYS._attest(\n", 
            "    [\n", 
            "        'MyCaller is '+SYS._str(\n", 
            "        MyCaller,\n", 
            "        **{\n", 
            "            'RepresentingBaseKeyStrsListBool':False\n", 
            "        }\n", 
            "        )\n", 
            "    ]\n", 
            ") \n", 
            "\n", 
            "#Print\n", 
            "\n", 
            "\n"
          ], 
          "outputs": [
            {
              "output_type": "stream", 
              "stream": "stdout", 
              "text": [
                "\n", 
                "\n", 
                "*****Start of the Attest *****\n", 
                "\n", 
                "MyCaller is < (CallerClass), 4537034384>\n", 
                "   /{ \n", 
                "   /  '<New><Instance>IdInt' : 4537034384\n", 
                "   /  '<Spe><Class>CallingClass' : None\n", 
                "   /  '<Spe><Class>CallingClassStr' : \n", 
                "   /  '<Spe><Class>CallingInstanceVariable' : None\n", 
                "   /  '<Spe><Class>CallingMethod' : None\n", 
                "   /  '<Spe><Class>CallingMethodStr' : \n", 
                "   /  '<Spe><Instance>CallingFunctionStr' : represent\n", 
                "   /  '<Spe><Instance>CallingVariable' : <function Watcher@represent at 0x10e4cf1b8>\n", 
                "   /}\n", 
                "\n", 
                "*****End of the Attest *****\n", 
                "\n", 
                "\n"
              ]
            }
          ], 
          "collapsed": false, 
          "metadata": {
            "slideshow": {
              "slide_type": "-"
            }
          }
        }
      ]
    }
  ], 
  "metadata": {
    "name": "", 
    "signature": ""
  }, 
  "nbformat_minor": 0
}