{
  "nbformat": 3, 
  "worksheets": [
    {
      "cells": [
        {
          "source": "\n<!--\nFrozenIsBool False\n-->\n\n#Packager\n\n##Doc\n----\n\n\n> \n> The Packager is an Object that helps to get a module in the SYS framework\n> \n> \n\n----\n\n<small>\nView the Packager notebook on [NbViewer](http://nbviewer.ipython.org/url/shareyoursystem.ouvaton.org/Packager.ipynb)\n</small>\n\n", 
          "cell_type": "markdown", 
          "prompt_number": 0, 
          "metadata": {
            "slideshow": {
              "slide_type": "slide"
            }
          }
        }, 
        {
          "source": "\n<!--\nFrozenIsBool False\n-->\n\n##Code\n\n----\n\n<ClassDocStr>\n\n----\n\n```python\n# -*- coding: utf-8 -*-\n\"\"\"\n\n\n<DefineSource>\n@Date : Fri Nov 14 13:20:38 2014 \\n\n@Author : Erwan Ledoux \\n\\n\n</DefineSource>\n\n\nThe Packager is an Object that helps to get a module in the SYS framework\n\n\"\"\"\n\n#<DefineAugmentation>\nimport ShareYourSystem as SYS\nBaseModuleStr=\"ShareYourSystem.Interfacers.Folderer\"\nDecorationModuleStr=\"ShareYourSystem.Classors.Tester\"\nSYS.setSubModule(globals())\n#</DefineAugmentation>\n\n#<ImportSpecificModules>\nimport sys\nimport importlib\n#</ImportSpecificModules>\n\n#<DefineClass>\n@DecorationClass()\nclass PackagerClass(BaseClass):\n\t\n\t#Definition\n\tRepresentingKeyStrsList=[\n\t\t\t\t\t\t\t\t'PackagingModuleVariable',\n\t\t\t\t\t\t\t\t'PackagedModuleStr',\n\t\t\t\t\t\t\t\t'PackagedModuleVariable',\n\t\t\t\t\t\t\t\t'PackagedInstallFolderPathStr',\n\t\t\t\t\t\t\t\t'PackagedLocalFolderPathStr'\n\t\t\t\t\t\t\t]\n\n\tdef default_init(self,\n\t\t\t\t\t\t_PackagingModuleVariable=None,\n\t\t\t\t\t\t_PackagedModuleStr=\"\",\n\t\t\t\t\t\t_PackagedModuleVariable=None,\n\t\t\t\t\t\t_PackagedInstallFolderPathStr=\"\",\n\t\t\t\t\t\t_PackagedLocalFolderPathStr=\"\",\n\t\t\t\t\t\t**_KwargVariablesDict\n\t\t\t\t\t):\n\n\t\t#Call the parent init method\n\t\tBaseClass.__init__(self,**_KwargVariablesDict)\n\t\t\n\tdef do_package(self):\n\n\t\t#debug\n\t\t'''\n\t\tself.debug(('self.',self,\n\t\t\t\t\t\t[\n\t\t\t\t\t\t\t'PackagingModuleVariable'\n\t\t\t\t\t\t]))\n\t\t'''\n\n\t\t#Check\n\t\tif type(self.PackagingModuleVariable) in SYS.StrTypesList:\n\t\t\tself.PackagedModuleStr=self.PackagingModuleVariable\n\t\telse:\n\t\t\tself.PackagedModuleVariable=self.PackagingModuleVariable\n\t\t\tself.PackagedModuleStr=self.PackagingModuleVariable.__name__\n\n\t\t#Check for a module\n\t\tif self.PackagedModuleVariable==None or self.PackagedModuleStr!=self.PackagedModuleVariable.__name__:\n\n\t\t\t#Check\n\t\t\tif self.PackagedModuleStr!=\"\":\n\n\t\t\t\t#Import the module if not already\n\t\t\t\tif self.PackagedModuleStr not in sys.modules:\n\t\t\t\t\timportlib.import_module(self.PackagedModuleStr)\n\n\t\t\t\t#set with sys\n\t\t\t\tself.PackagedModuleVariable=sys.modules[self.PackagedModuleStr]\n\n\t\t#set\n\t\tif self.PackagedModuleVariable!=None:\n\n\t\t\t#set\n\t\t\tself.PackagedInstallFolderPathStr='/'.join(\n\t\t\t\tself.PackagedModuleVariable.__file__.split('/')[:-1]\n\t\t\t)+'/'\n\n\t\t\t#set\n\t\t\tself.PackagedLocalFolderPathStr=SYS.PythonlogyLocalFolderPathStr+self.PackagedModuleVariable.__name__.replace(\n\t\t\t\t'.','/')+'/'\n\n\t\t\t#debug\n\t\t\t'''\n\t\t\tself.debug(('self.',self,[\n\t\t\t\t'PackagedInstallFolderPathStr',\n\t\t\t\t'PackagedLocalFolderPathStr'\n\t\t\t\t]))\n\t\t\t'''\n\t\t\t\n\t\t\t#Hook\n\t\t\tself.folder(self.PackagedLocalFolderPathStr)\n\n\t\t#Return\n\t\t#return self\n\n#</DefineClass>\n\n\n```\n\n<small>\nView the Packager sources on [Github](https://github.com/Ledoux/ShareYourSystem/tree/master/ShareYourSystem/Objects/Packager)\n</small>\n\n", 
          "cell_type": "markdown", 
          "prompt_number": 1, 
          "metadata": {
            "slideshow": {
              "slide_type": "subslide"
            }
          }
        }, 
        {
          "source": "\n<!---\nFrozenIsBool True\n-->\n\n##Example\n\nLet's create an empty class, which will automatically receive\nspecial attributes from the decorating ClassorClass,\nspecially the NameStr, that should be the ClassStr\nwithout the TypeStr in the end.", 
          "cell_type": "markdown", 
          "prompt_number": 2, 
          "metadata": {
            "slideshow": {
              "slide_type": "subslide"
            }
          }
        }, 
        {
          "source": "```python\n#ImportModules\nimport ShareYourSystem as SYS\nfrom ShareYourSystem.Objects import Packager\n\n#Definition of a Packager instance and module\nMyPackager=Packager.PackagerClass().package(\n    'ShareYourSystem.Objects.Printer'\n)\n\n#Definition the AttestedStr\nSYS._attest(\n    [\n        'MyPackager'+SYS._str(MyPackager)\n    ]\n) \n\n#Print\n\n\n\n```\n", 
          "cell_type": "markdown", 
          "metadata": {}
        }, 
        {
          "source": "```console\n>>>\n\n\n*****Start of the Attest *****\n\nMyPackager< (PackagerClass), 4457658896>\n   /{ \n   /  '<New><Instance>IdInt' : 4457658896\n   /  '<Spe><Instance>PackagedInstallFolderPathStr' : /usr/local/lib/python2.7/site-packages/ShareYourSystem/Objects/Printer/\n   /  '<Spe><Instance>PackagedLocalFolderPathStr' : /Users/ledoux/Documents/ShareYourSystem/Pythonlogy/ShareYourSystem/Objects/Printer/\n   /  '<Spe><Instance>PackagedModuleStr' : ShareYourSystem.Objects.Printer\n   /  '<Spe><Instance>PackagedModuleVariable' : <module 'ShareYourSystem.Objects.Printer' from '/usr/local/lib/python2.7/site-packages/ShareYourSystem/Objects/Printer/__init__.pyc'>\n   /  '<Spe><Instance>PackagingModuleVariable' : ShareYourSystem.Objects.Printer\n   /}\n\n*****End of the Attest *****\n\n\n\n```\n", 
          "cell_type": "markdown", 
          "metadata": {}
        }
      ]
    }
  ], 
  "metadata": {
    "name": "", 
    "signature": ""
  }, 
  "nbformat_minor": 0
}