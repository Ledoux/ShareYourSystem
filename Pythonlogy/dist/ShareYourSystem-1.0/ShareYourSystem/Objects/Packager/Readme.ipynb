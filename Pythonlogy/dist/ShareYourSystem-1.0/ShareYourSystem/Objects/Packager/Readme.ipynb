{
  "nbformat": 3, 
  "worksheets": [
    {
      "cells": [
        {
          "source": [
            "#Moduler\n", 
            "\n\n@Date : Fri Nov 14 13:20:38 2014 \n\n@Author : Erwan Ledoux \n\n\n\nThe Moduler is an Object that helps to get a module in the SYS framework\n\n\n"
          ], 
          "cell_type": "markdown", 
          "metadata": {}
        }, 
        {
          "source": "\n<!--\nFrozenIsBool False\n-->\n\nView the Moduler sources on [Github](https://github.com/Ledoux/ShareYourSystem/tree/master/ShareYourSystem/Objects/Installer)\n\n", 
          "cell_type": "markdown", 
          "prompt_number": 0, 
          "metadata": {}
        }, 
        {
          "source": "\n<!---\nFrozenIsBool True\n-->\n\n##Example\n\nLet's create an empty class, which will automatically receive\nspecial attributes from the decorating ClassorClass,\nspecially the NameStr, that should be the ClassStr\nwithout the TypeStr in the end.", 
          "cell_type": "markdown", 
          "prompt_number": 1, 
          "metadata": {}
        }, 
        {
          "source": "```python\n#ImportModules\nimport ShareYourSystem as SYS\nfrom ShareYourSystem.Objects import Moduler\n\n#Definition of a Moduler instance and module\nMyModuler=Moduler.ModulerClass().module('ShareYourSystem.Objects.Printer')\n\n#Definition the AttestedStr\nSYS._attest(\n    [\n        'MyModuler'+SYS._str(MyModuler)\n    ]\n) \n\n#Print\n\n\n\n```\n", 
          "cell_type": "markdown", 
          "metadata": {}
        }, 
        {
          "source": "```console\n>>>\n\n\n*****Start of the Attest *****\n\nMyModuler< (ModulerClass), 4556059280>\n   /{ \n   /  '<New><Instance>IdString' : 4556059280\n   /  '<Spe><Instance>PackagingModuleVariable' : <module 'ShareYourSystem.Objects.Printer' from '/Users/ledoux/Documents/ShareYourSystem/ShareYourSystem/Objects/Printer/__init__.pyc'>\n   /  '<Spe><Instance>PackagingModuleVariableStr' : ShareYourSystem.Objects.Printer\n   /}\n\n*****End of the Attest *****\n\n\n\n```\n", 
          "cell_type": "markdown", 
          "metadata": {}
        }
      ]
    }
  ], 
  "metadata": {
    "name": "", 
    "signature": ""
  }, 
  "nbformat_minor": 0
}