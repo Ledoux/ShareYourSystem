{
  "nbformat": 3, 
  "worksheets": [
    {
      "cells": [
        {
          "source": "\n<!--\nFrozenIsBool False\n-->\n\n#Concluder\n\n----\n\n\n> \n> @Date : Fri Nov 14 13:20:38 2014 \n> \n> @Author : Erwan Ledoux \n> \n> \n> \n> The Nbconverter\n> \n> \n\n----\n\n\nView the Concluder sources on [Github](https://github.com/Ledoux/ShareYourSystem/tree/master/ShareYourSystem.Guiders.Nbconverter)\n\n", 
          "cell_type": "markdown", 
          "prompt_number": 0, 
          "metadata": {
            "slideshow": {
              "slide_type": "slide"
            }
          }
        }, 
        {
          "source": "\n<!---\nFrozenIsBool True\n-->\n\n##Example\n\nLet's do a simple conclude call", 
          "cell_type": "markdown", 
          "prompt_number": 1, 
          "metadata": {
            "slideshow": {
              "slide_type": "subslide"
            }
          }
        }, 
        {
          "cell_type": "code", 
          "prompt_number": 2, 
          "language": "python", 
          "input": [
            "\n", 
            "#ImportModules\n", 
            "import ShareYourSystem as SYS\n", 
            "from ShareYourSystem.Objects import Concluder\n", 
            "import operator\n", 
            "\n", 
            "#Definition of an instance Concluder and make it print hello\n", 
            "MyConcluder=Concluder.ConcluderClass().conclude(\n", 
            "\t{'MyColorStr':'Black','MySuperInt':6},\n", 
            "\t[\n", 
            "\t\t('MyColorStr',operator.eq,\"Black\"),\n", 
            "\t\t('MySuperInt',operator.gt,3),\n", 
            "\t\t(1,operator.eq,1)\n", 
            "\t]\n", 
            ")\n", 
            "\t\t\n", 
            "#Definition the AttestedStr\n", 
            "SYS._attest(\n", 
            "\t[\n", 
            "\t\t'MyConcluder is '+SYS._str(\n", 
            "\t\tMyConcluder,\n", 
            "\t\t**{\n", 
            "\t\t\t'RepresentingBaseKeyStrsListBool':False,\n", 
            "\t\t\t'RepresentingAlineaIsBool':False\n", 
            "\t\t\t}\n", 
            "\t\t),\n", 
            "\t]\n", 
            ") \n", 
            "\n", 
            "#Print\n", 
            "\n", 
            "\n", 
            "\t\n", 
            "\n", 
            "\n"
          ], 
          "outputs": [
            {
              "output_type": "stream", 
              "stream": "stdout", 
              "text": [
                "\n", 
                "\n", 
                "*****Start of the Attest *****\n", 
                "\n", 
                "MyConcluder is < (ConcluderClass), 4570347216>\n", 
                "   /{ \n", 
                "   /  '<New><Instance>IdStr' : 4570347216\n", 
                "   /  '<Spe><Instance>ConcludedConditionIsBoolsList' : \n", 
                "   /   /[\n", 
                "   /   /  0 : True\n", 
                "   /   /  1 : True\n", 
                "   /   /  2 : True\n", 
                "   /   /]\n", 
                "   /  '<Spe><Instance>ConcludedIsBool' : True\n", 
                "   /  '<Spe><Instance>ConcludingConditionTuplesList' : \n", 
                "   /   /[\n", 
                "   /   /  0 : \n", 
                "   /   /   /(\n", 
                "   /   /   /  0 : MyColorStr\n", 
                "   /   /   /  1 : <built-in function eq>\n", 
                "   /   /   /  2 : Black\n", 
                "   /   /   /)\n", 
                "   /   /  1 : \n", 
                "   /   /   /(\n", 
                "   /   /   /  0 : MySuperInt\n", 
                "   /   /   /  1 : <built-in function gt>\n", 
                "   /   /   /  2 : 3\n", 
                "   /   /   /)\n", 
                "   /   /  2 : \n", 
                "   /   /   /(\n", 
                "   /   /   /  0 : 1\n", 
                "   /   /   /  1 : {...}< (builtin_function_or_method), 4556741088>\n", 
                "   /   /   /  2 : 1\n", 
                "   /   /   /)\n", 
                "   /   /]\n", 
                "   /  '<Spe><Instance>ConcludingTestVariable' : \n", 
                "   /   /{ \n", 
                "   /   /  'MyColorStr' : Black\n", 
                "   /   /  'MySuperInt' : 6\n", 
                "   /   /}\n", 
                "   /}\n", 
                "\n", 
                "*****End of the Attest *****\n", 
                "\n", 
                "\n"
              ]
            }
          ], 
          "collapsed": false, 
          "metadata": {
            "slideshow": {
              "slide_type": "-"
            }
          }
        }
      ]
    }
  ], 
  "metadata": {
    "name": "", 
    "signature": ""
  }, 
  "nbformat_minor": 0
}