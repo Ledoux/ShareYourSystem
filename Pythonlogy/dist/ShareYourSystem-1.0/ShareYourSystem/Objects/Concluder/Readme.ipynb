{
  "nbformat": 3, 
  "worksheets": [
    {
      "cells": [
        {
          "source": "\n<!--\nFrozenIsBool False\n-->\n\n#Concluder\n\n##Doc\n----\n\n\n> \n> A Concluder\n> \n> \n\n----\n\n<small>\nView the Concluder notebook on [NbViewer](http://nbviewer.ipython.org/url/shareyoursystem.ouvaton.org/Concluder.ipynb)\n</small>\n\n", 
          "cell_type": "markdown", 
          "prompt_number": 0, 
          "metadata": {
            "slideshow": {
              "slide_type": "slide"
            }
          }
        }, 
        {
          "source": "\n<!--\nFrozenIsBool False\n-->\n\n##Code\n\n----\n\n<ClassDocStr>\n\n----\n\n```python\n# -*- coding: utf-8 -*-\n\"\"\"\n\n\n<DefineSource>\n@Date : Fri Nov 14 13:20:38 2014 \\n\n@Author : Erwan Ledoux \\n\\n\n</DefineSource>\n\n\nA Concluder\n\n\"\"\"\n\n#<DefineAugmentation>\nimport ShareYourSystem as SYS\nBaseModuleStr=\"ShareYourSystem.Objects.Conditioner\"\nDecorationModuleStr=\"ShareYourSystem.Classors.Tester\"\nSYS.setSubModule(globals())\n#</DefineAugmentation>\n\n#<ImportSpecificModules>\n#</ImportSpecificModules>\n\n#<DefineClass>\n@DecorationClass()\nclass ConcluderClass(BaseClass):\n\t\n\t#Definition\n\tRepresentingKeyStrsList=[\n\t\t\t\t\t\t\t\t\t'ConcludingTestVariable',\n\t\t\t\t\t\t\t\t\t'ConcludingConditionTuplesList',\n\t\t\t\t\t\t\t\t\t'ConcludedConditionIsBoolsList',\n\t\t\t\t\t\t\t\t\t'ConcludedIsBool'\n\t\t\t\t\t\t\t\t]\n\n\tdef default_init(self,\n\t\t\t\t_ConcludingTestVariable=None,\n\t\t\t\t_ConcludingConditionTuplesList=None,\n\t\t\t\t_ConcludedConditionIsBoolsList=None,\n\t\t\t\t_ConcludedIsBool=True,\n\t\t\t\t**_KwargVariablesDict\n\t\t\t\t):\n\n\t\t#Call the parent init method\n\t\tBaseClass.__init__(self,**_KwargVariablesDict)\n\n\tdef do_conclude(self):\n\t\t\"\"\" \"\"\"\n\n\t\t#debug\n\t\t'''\n\t\tself.debug(('self.',self,['ConcludingConditionTuplesList']))\n\t\t'''\n\t\t\n\t\t#Apply __getitem__\n\t\tself.ConcludedConditionIsBoolsList=map(\n\t\t\t\tlambda __ConcludingConditionTuple:\n\t\t\t\tself.condition(\n\t\t\t\t\t\tself.ConcludingTestVariable[\n\t\t\t\t\t\t\t__ConcludingConditionTuple[0]\n\t\t\t\t\t\t] if type(\n\t\t\t\t\t\t\t__ConcludingConditionTuple[0])\n\t\t\t\t\t\tin SYS.StrTypesList else __ConcludingConditionTuple[0],\n\t\t\t\t\t\t__ConcludingConditionTuple[1],\n\t\t\t\t\t\t__ConcludingConditionTuple[2]\n\t\t\t\t\t).ConditionedIsBool,\n\t\t\t\tself.ConcludingConditionTuplesList\n\t\t\t)\n\n\t\t#all\n\t\tself.ConcludedIsBool=all(self.ConcludedConditionIsBoolsList)\n\n\t\t#Return self\n\t\t#return self\n#</DefineClass>\n\n```\n\n<small>\nView the Concluder sources on <a href=\"https://github.com/Ledoux/ShareYourSystem/tree/master/Pythonlogy/ShareYourSystem/Objects/Concluder\" target=\"_blank\">Github</a>\n</small>\n\n", 
          "cell_type": "markdown", 
          "prompt_number": 1, 
          "metadata": {
            "slideshow": {
              "slide_type": "subslide"
            }
          }
        }, 
        {
          "source": "\n<!---\nFrozenIsBool True\n-->\n\n##Example\n\nLet's do a simple conclude call", 
          "cell_type": "markdown", 
          "prompt_number": 2, 
          "metadata": {
            "slideshow": {
              "slide_type": "subslide"
            }
          }
        }, 
        {
          "source": "```python\n\n#ImportModules\nimport ShareYourSystem as SYS\nfrom ShareYourSystem.Objects import Concluder\nimport operator\n\n#Definition of an instance Concluder and make it print hello\nMyConcluder=Concluder.ConcluderClass().conclude(\n    {'MyColorStr':'Black','MySuperInt':6},\n    [\n        ('MyColorStr',operator.eq,\"Black\"),\n        ('MySuperInt',operator.gt,3),\n        (1,operator.eq,1)\n    ]\n)\n    \n#Definition the AttestedStr\nSYS._attest(\n    [\n        'MyConcluder is '+SYS._str(\n        MyConcluder,\n        **{\n            'RepresentingBaseKeyStrsListBool':False,\n            'RepresentingAlineaIsBool':False\n            }\n        ),\n    ]\n) \n\n#Print\n\n\n\n\n\n\n```\n", 
          "cell_type": "markdown", 
          "metadata": {}
        }, 
        {
          "source": "```console\n>>>\n\n\n*****Start of the Attest *****\n\nMyConcluder is < (ConcluderClass), 4537034448>\n   /{ \n   /  '<New><Instance>IdInt' : 4537034448\n   /  '<Spe><Instance>ConcludedConditionIsBoolsList' : \n   /   /[\n   /   /  0 : True\n   /   /  1 : True\n   /   /  2 : True\n   /   /]\n   /  '<Spe><Instance>ConcludedIsBool' : True\n   /  '<Spe><Instance>ConcludingConditionTuplesList' : \n   /   /[\n   /   /  0 : \n   /   /   /(\n   /   /   /  0 : MyColorStr\n   /   /   /  1 : <built-in function eq>\n   /   /   /  2 : Black\n   /   /   /)\n   /   /  1 : \n   /   /   /(\n   /   /   /  0 : MySuperInt\n   /   /   /  1 : <built-in function gt>\n   /   /   /  2 : 3\n   /   /   /)\n   /   /  2 : \n   /   /   /(\n   /   /   /  0 : 1\n   /   /   /  1 : {...}< (builtin_function_or_method), 4522748384>\n   /   /   /  2 : 1\n   /   /   /)\n   /   /]\n   /  '<Spe><Instance>ConcludingTestVariable' : \n   /   /{ \n   /   /  'MyColorStr' : Black\n   /   /  'MySuperInt' : 6\n   /   /}\n   /}\n\n*****End of the Attest *****\n\n\n\n```\n", 
          "cell_type": "markdown", 
          "metadata": {}
        }
      ]
    }
  ], 
  "metadata": {
    "name": "", 
    "signature": ""
  }, 
  "nbformat_minor": 0
}