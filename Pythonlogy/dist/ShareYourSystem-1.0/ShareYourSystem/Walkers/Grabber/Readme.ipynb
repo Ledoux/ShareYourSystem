{
  "nbformat": 3, 
  "worksheets": [
    {
      "cells": [
        {
          "source": [
            "#Grabber\n", 
            " @Date : Fri Nov 14 13:20:38 2014 \n\n@Author : Erwan Ledoux \n\n\n\nA Grabber\n\n\n"
          ], 
          "cell_type": "markdown", 
          "metadata": {}
        }, 
        {
          "source": "```python\n\n#ImportModules\nimport ShareYourSystem as SYS\nfrom ShareYourSystem.Tools import Tool\nfrom ShareYourSystem.Walkers import Grabber\n\n#Definition a Grabber instance that has Tree nodes\nMyGrabber=Grabber.GrabberClass().update(\n        [\n            (\n                '<Tree>FirstChildGrabber',\n                Grabber.GrabberClass().update(\n                    [\n                        (\n                            '<Tree>GrandChildGrabber',\n                            Grabber.GrabberClass()\n                        )\n                    ]\n                )\n            ),\n            (\n                '<Tree>SecondChildGrabber',\n                Grabber.GrabberClass()\n            )\n        ]    \n    )\n\n#Grab\nMyGrabber.grab(\"Tree\",['NodedTreeInt','NodedTreeKeyStr'])\n\n#Definition the AttestedStr\nSYS._attest(\n    [\n        'MyGrabber is '+SYS._str(\n        MyGrabber,\n        **{\n            'RepresentingBaseKeyStrsListBool':False,\n            'RepresentingAlineaIsBool':False\n        }\n        )\n    ]\n) \n\n#Print\n\n \n\n```\n", 
          "cell_type": "markdown", 
          "metadata": {}
        }, 
        {
          "source": "```console\n>>>\nDoer l.132 : DoerStr is Visiter\nDoStr is Visit\nDoMethodStr is visit\nDoingStr is Visiting\nDoneStr is Visited\n\nDoer l.132 : DoerStr is Recruiter\nDoStr is Recruit\nDoMethodStr is recruit\nDoingStr is Recruiting\nDoneStr is Recruit\n\nDoer l.132 : DoerStr is Mobilizer\nDoStr is Mobilize\nDoMethodStr is mobilize\nDoingStr is Mobilizing\nDoneStr is Mobilized\n\nDoer l.132 : DoerStr is Router\nDoStr is Route\nDoMethodStr is route\nDoingStr is Routing\nDoneStr is Routed\n\nDoer l.132 : DoerStr is Grabber\nDoStr is Grab\nDoMethodStr is grab\nDoingStr is Grabbing\nDoneStr is Grabbed\n\n\n\n*****Start of the Attest *****\n\nMyGrabber is < (GrabberClass), 4559025168>\n   /{ \n   /  '<New><Instance>ApplyingIsBool' : True\n   /  '<New><Instance>IdString' : 4559025168\n   /  '<New><Instance>NodeCollectionStr' : Global\n   /  '<New><Instance>NodeIndexInt' : -1\n   /  '<New><Instance>NodeKeyStr' : \n   /  '<New><Instance>NodePointDeriveNoder' : None\n   /  '<New><Instance>NodePointOrderedDict' : None\n   /  '<New><Instance>TreeCollectionOrderedDict' : \n   /   /{ \n   /   /  'FirstChildGrabber' : < (GrabberClass), 4559027088>\n   /   /   /{ \n   /   /   /  '<New><Instance>ApplyingIsBool' : True\n   /   /   /  '<New><Instance>IdString' : 4559027088\n   /   /   /  '<New><Instance>NodeCollectionStr' : Tree\n   /   /   /  '<New><Instance>NodeIndexInt' : 0\n   /   /   /  '<New><Instance>NodeKeyStr' : FirstChildGrabber\n   /   /   /  '<New><Instance>NodePointDeriveNoder' : {...}< (GrabberClass), 4559025168>\n   /   /   /  '<New><Instance>NodePointOrderedDict' : {...}< (OrderedDict), 4559125176>\n   /   /   /  '<New><Instance>TreeCollectionOrderedDict' : \n   /   /   /   /{ \n   /   /   /   /  'GrandChildGrabber' : < (GrabberClass), 4559028048>\n   /   /   /   /   /{ \n   /   /   /   /   /  '<New><Instance>ApplyingIsBool' : True\n   /   /   /   /   /  '<New><Instance>IdString' : 4559028048\n   /   /   /   /   /  '<New><Instance>NodeCollectionStr' : Tree\n   /   /   /   /   /  '<New><Instance>NodeIndexInt' : 0\n   /   /   /   /   /  '<New><Instance>NodeKeyStr' : GrandChildGrabber\n   /   /   /   /   /  '<New><Instance>NodePointDeriveNoder' : {...}< (GrabberClass), 4559027088>\n   /   /   /   /   /  '<New><Instance>NodePointOrderedDict' : {...}< (OrderedDict), 4559124880>\n   /   /   /   /   /  '<New><Instance>TreeCollectionOrderedDict' : \n   /   /   /   /   /   /{ \n   /   /   /   /   /   /}\n   /   /   /   /   /  '<Spe><Class>GrabbedVariablesOrderedDict' : None\n   /   /   /   /   /  '<Spe><Class>GrabbingNodeStr' : None\n   /   /   /   /   /  '<Spe><Class>GrabbingPickVariablesList' : None\n   /   /   /   /   /}\n   /   /   /   /}\n   /   /   /  '<Spe><Class>GrabbedVariablesOrderedDict' : None\n   /   /   /  '<Spe><Class>GrabbingNodeStr' : None\n   /   /   /  '<Spe><Class>GrabbingPickVariablesList' : None\n   /   /   /}\n   /   /  'SecondChildGrabber' : < (GrabberClass), 4559075088>\n   /   /   /{ \n   /   /   /  '<New><Instance>ApplyingIsBool' : True\n   /   /   /  '<New><Instance>IdString' : 4559075088\n   /   /   /  '<New><Instance>NodeCollectionStr' : Tree\n   /   /   /  '<New><Instance>NodeIndexInt' : 1\n   /   /   /  '<New><Instance>NodeKeyStr' : SecondChildGrabber\n   /   /   /  '<New><Instance>NodePointDeriveNoder' : {...}< (GrabberClass), 4559025168>\n   /   /   /  '<New><Instance>NodePointOrderedDict' : {...}< (OrderedDict), 4559125176>\n   /   /   /  '<New><Instance>TreeCollectionOrderedDict' : \n   /   /   /   /{ \n   /   /   /   /}\n   /   /   /  '<Spe><Class>GrabbedVariablesOrderedDict' : None\n   /   /   /  '<Spe><Class>GrabbingNodeStr' : None\n   /   /   /  '<Spe><Class>GrabbingPickVariablesList' : None\n   /   /   /}\n   /   /}\n   /  '<Spe><Instance>GrabbedVariablesOrderedDict' : \n   /   /{ \n   /   /  'NodedTreeInt' : None\n   /   /  'NodedTreeKeyStr' : None\n   /   /  '0' : \n   /   /   /{ \n   /   /   /  'NodedTreeInt' : None\n   /   /   /  'NodedTreeKeyStr' : None\n   /   /   /  '1' : \n   /   /   /   /{ \n   /   /   /   /  'NodedTreeInt' : None\n   /   /   /   /  'NodedTreeKeyStr' : None\n   /   /   /   /}\n   /   /   /}\n   /   /  '2' : \n   /   /   /{ \n   /   /   /  'NodedTreeInt' : None\n   /   /   /  'NodedTreeKeyStr' : None\n   /   /   /}\n   /   /}\n   /  '<Spe><Instance>GrabbingNodeStr' : Tree\n   /  '<Spe><Instance>GrabbingPickVariablesList' : ['NodedTreeInt', 'NodedTreeKeyStr']\n   /}\n\n*****End of the Attest *****\n\n\n\n```\n", 
          "cell_type": "markdown", 
          "metadata": {}
        }
      ]
    }
  ], 
  "metadata": {
    "name": "", 
    "signature": ""
  }, 
  "nbformat_minor": 0
}