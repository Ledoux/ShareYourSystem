{
  "nbformat": 3, 
  "worksheets": [
    {
      "cells": [
        {
          "source": "\n<!--\nFrozenIsBool False\n-->\n\n#Grabber\n\n##Doc\n----\n\n\n> \n> A Grabber\n> \n> \n\n----\n\n<small>\nView the Grabber notebook on [NbViewer](http://nbviewer.ipython.org/url/shareyoursystem.ouvaton.org/Grabber.ipynb)\n</small>\n\n", 
          "cell_type": "markdown", 
          "prompt_number": 0, 
          "metadata": {
            "slideshow": {
              "slide_type": "slide"
            }
          }
        }, 
        {
          "source": "\n<!--\nFrozenIsBool False\n-->\n\n##Code\n\n----\n\n<ClassDocStr>\n\n----\n\n```python\n# -*- coding: utf-8 -*-\n\"\"\"\n\n\n<DefineSource>\n@Date : Fri Nov 14 13:20:38 2014 \\n\n@Author : Erwan Ledoux \\n\\n\n</DefineSource>\n\n\nA Grabber\n\n\"\"\"\n\n#<DefineAugmentation>\nimport ShareYourSystem as SYS\nBaseModuleStr=\"ShareYourSystem.Walkers.Router\"\nDecorationModuleStr=\"ShareYourSystem.Classors.Classer\"\nSYS.setSubModule(globals())\n#</DefineAugmentation>\n\n#<ImportSpecificModules>\nimport copy\nimport collections\nfrom ShareYourSystem.Functers import Argumenter\nfrom ShareYourSystem.Noders import Noder\n#</ImportSpecificModules>\n\n#<DefineLocals>\n#</DefineLocals>\n\n#<DefineClass>\n@DecorationClass()\nclass GrabberClass(BaseClass):\n\t\n\t#Definition\n\tRepresentingKeyStrsList=[\n\t\t\t\t\t\t\t\t\t'GrabbingNodeStr',\n\t\t\t\t\t\t\t\t\t'GrabbingPickVariablesList',\n\t\t\t\t\t\t\t\t\t'GrabbedVariablesOrderedDict'\n\t\t\t\t\t\t\t\t]\n\n\tdef default_init(self,\n\t\t\t\t_GrabbingNodeStr=None,\n\t\t\t\t_GrabbingPickVariablesList=None,\n\t\t\t\t_GrabbedVariablesOrderedDict=None,\n\t\t\t\t**_KwargVariablesDict):\n\n\t\t#Call the parent __init__ method\n\t\tBaseClass.__init__(self,**_KwargVariablesDict)\n\n\t#@Argumenter.ArgumenterClass()\n\tdef do_grab(self):\n\t\t\t\n\t\t#Init\n\t\tif self.GrabbedVariablesOrderedDict==None:\n\t\t\tself.GrabbedVariablesOrderedDict=collections.OrderedDict()\n\n\t\t#debug\n\t\t'''\n\t\tself.debug(('self.',self,['GrabbingNodeStr','GrabbingPickVariablesList']))\n\t\t'''\n\t\t\n\t\t#Walk inside the Tree in order to parent\n\t\tself.walk(\n\t\t\t\t\t{\n\t\t\t\t\t\t'BeforeUpdateList':\n\t\t\t\t\t\t[\n\t\t\t\t\t\t\t('route',{'LiargVariablesList':[\n\t\t\t\t\t\t\t\t\t\t\t\t\t\t\t\tself.GrabbingPickVariablesList\n\t\t\t\t\t\t\t\t\t\t\t\t\t\t\t]\n\t\t\t\t\t\t\t\t\t\t})\n\t\t\t\t\t\t],\n\t\t\t\t\t\t'GatherVariablesList':[\n\t\t\t\t\t\tNoder.NodingPrefixGetStr+self.GrabbingNodeStr+Noder.NodingSuffixGetStr]\n\t\t\t\t\t}\n\t\t\t\t)\n\n\t\t#Link\n\t\tself.GrabbedVariablesOrderedDict=self.RoutedVariablesOrderedDict\n\t\t\n\n#</DefineClass>\n\n```\n\n<small>\nView the Grabber sources on <a href=\"https://github.com/Ledoux/ShareYourSystem/tree/master/Pythonlogy/ShareYourSystem/Walkers/Grabber\" target=\"_blank\">Github</a>\n</small>\n\n", 
          "cell_type": "markdown", 
          "prompt_number": 1, 
          "metadata": {
            "slideshow": {
              "slide_type": "subslide"
            }
          }
        }, 
        {
          "cell_type": "code", 
          "prompt_number": 2, 
          "language": "python", 
          "input": [
            "\n", 
            "#ImportModules\n", 
            "import ShareYourSystem as SYS\n", 
            "\n", 
            "from ShareYourSystem.Walkers import Grabber\n", 
            "\n", 
            "#Definition a Grabber instance that has Tree nodes\n", 
            "MyGrabber=Grabber.GrabberClass().update(\n", 
            "        [\n", 
            "            (\n", 
            "                '<Tree>FirstChildGrabber',\n", 
            "                Grabber.GrabberClass().update(\n", 
            "                    [\n", 
            "                        (\n", 
            "                            '<Tree>GrandChildGrabber',\n", 
            "                            Grabber.GrabberClass()\n", 
            "                        )\n", 
            "                    ]\n", 
            "                )\n", 
            "            ),\n", 
            "            (\n", 
            "                '<Tree>SecondChildGrabber',\n", 
            "                Grabber.GrabberClass()\n", 
            "            )\n", 
            "        ]\n", 
            "    )\n", 
            "\n", 
            "#Grab\n", 
            "MyGrabber.grab(\"Tree\",['NodedTreeInt','NodedTreeKeyStr'])\n", 
            "\n", 
            "#Definition the AttestedStr\n", 
            "SYS._attest(\n", 
            "    [\n", 
            "        'MyGrabber is '+SYS._str(\n", 
            "        MyGrabber,\n", 
            "        **{\n", 
            "            'RepresentingBaseKeyStrsListBool':False,\n", 
            "            'RepresentingAlineaIsBool':False\n", 
            "        }\n", 
            "        )\n", 
            "    ]\n", 
            ") \n", 
            "\n", 
            "#Print\n", 
            "\n", 
            " \n"
          ], 
          "outputs": [
            {
              "output_type": "stream", 
              "stream": "stdout", 
              "text": [
                "\n", 
                "\n", 
                "*****Start of the Attest *****\n", 
                "\n", 
                "MyGrabber is < (GrabberClass), 4559654352>\n", 
                "   /{ \n", 
                "   /  '<New><Instance>IdInt' : 4559654352\n", 
                "   /  '<New><Instance>NodeCollectionStr' : Globals\n", 
                "   /  '<New><Instance>NodeIndexInt' : -1\n", 
                "   /  '<New><Instance>NodeKeyStr' : TopGrabber\n", 
                "   /  '<New><Instance>NodePointDeriveNoder' : None\n", 
                "   /  '<New><Instance>NodePointOrderedDict' : None\n", 
                "   /  '<New><Instance>TreeCollectionOrderedDict' : \n", 
                "   /   /{ \n", 
                "   /   /  'FirstChildGrabber' : < (GrabberClass), 4559653264>\n", 
                "   /   /   /{ \n", 
                "   /   /   /  '<New><Instance>IdInt' : 4559653264\n", 
                "   /   /   /  '<New><Instance>NodeCollectionStr' : Tree\n", 
                "   /   /   /  '<New><Instance>NodeIndexInt' : 0\n", 
                "   /   /   /  '<New><Instance>NodeKeyStr' : FirstChildGrabber\n", 
                "   /   /   /  '<New><Instance>NodePointDeriveNoder' : {...}< (GrabberClass), 4559654352>\n", 
                "   /   /   /  '<New><Instance>NodePointOrderedDict' : {...}< (OrderedDict), 4559710904>\n", 
                "   /   /   /  '<New><Instance>TreeCollectionOrderedDict' : \n", 
                "   /   /   /   /{ \n", 
                "   /   /   /   /  'GrandChildGrabber' : < (GrabberClass), 4559706256>\n", 
                "   /   /   /   /   /{ \n", 
                "   /   /   /   /   /  '<New><Instance>IdInt' : 4559706256\n", 
                "   /   /   /   /   /  '<New><Instance>NodeCollectionStr' : Tree\n", 
                "   /   /   /   /   /  '<New><Instance>NodeIndexInt' : 0\n", 
                "   /   /   /   /   /  '<New><Instance>NodeKeyStr' : GrandChildGrabber\n", 
                "   /   /   /   /   /  '<New><Instance>NodePointDeriveNoder' : {...}< (GrabberClass), 4559653264>\n", 
                "   /   /   /   /   /  '<New><Instance>NodePointOrderedDict' : {...}< (OrderedDict), 4559710312>\n", 
                "   /   /   /   /   /  '<New><Instance>TreeCollectionOrderedDict' : \n", 
                "   /   /   /   /   /   /{ \n", 
                "   /   /   /   /   /   /}\n", 
                "   /   /   /   /   /  '<Spe><Class>GrabbedVariablesOrderedDict' : None\n", 
                "   /   /   /   /   /  '<Spe><Class>GrabbingNodeStr' : None\n", 
                "   /   /   /   /   /  '<Spe><Class>GrabbingPickVariablesList' : None\n", 
                "   /   /   /   /   /}\n", 
                "   /   /   /   /}\n", 
                "   /   /   /  '<Spe><Class>GrabbedVariablesOrderedDict' : None\n", 
                "   /   /   /  '<Spe><Class>GrabbingNodeStr' : None\n", 
                "   /   /   /  '<Spe><Class>GrabbingPickVariablesList' : None\n", 
                "   /   /   /}\n", 
                "   /   /  'SecondChildGrabber' : < (GrabberClass), 4559706576>\n", 
                "   /   /   /{ \n", 
                "   /   /   /  '<New><Instance>IdInt' : 4559706576\n", 
                "   /   /   /  '<New><Instance>NodeCollectionStr' : Tree\n", 
                "   /   /   /  '<New><Instance>NodeIndexInt' : 1\n", 
                "   /   /   /  '<New><Instance>NodeKeyStr' : SecondChildGrabber\n", 
                "   /   /   /  '<New><Instance>NodePointDeriveNoder' : {...}< (GrabberClass), 4559654352>\n", 
                "   /   /   /  '<New><Instance>NodePointOrderedDict' : {...}< (OrderedDict), 4559710904>\n", 
                "   /   /   /  '<New><Instance>TreeCollectionOrderedDict' : \n", 
                "   /   /   /   /{ \n", 
                "   /   /   /   /}\n", 
                "   /   /   /  '<Spe><Class>GrabbedVariablesOrderedDict' : None\n", 
                "   /   /   /  '<Spe><Class>GrabbingNodeStr' : None\n", 
                "   /   /   /  '<Spe><Class>GrabbingPickVariablesList' : None\n", 
                "   /   /   /}\n", 
                "   /   /}\n", 
                "   /  '<Spe><Instance>GrabbedVariablesOrderedDict' : \n", 
                "   /   /{ \n", 
                "   /   /  'NodedTreeInt' : None\n", 
                "   /   /  'NodedTreeKeyStr' : None\n", 
                "   /   /  '0' : \n", 
                "   /   /   /{ \n", 
                "   /   /   /  'NodedTreeInt' : None\n", 
                "   /   /   /  'NodedTreeKeyStr' : None\n", 
                "   /   /   /  '1' : \n", 
                "   /   /   /   /{ \n", 
                "   /   /   /   /  'NodedTreeInt' : None\n", 
                "   /   /   /   /  'NodedTreeKeyStr' : None\n", 
                "   /   /   /   /}\n", 
                "   /   /   /}\n", 
                "   /   /  '2' : \n", 
                "   /   /   /{ \n", 
                "   /   /   /  'NodedTreeInt' : None\n", 
                "   /   /   /  'NodedTreeKeyStr' : None\n", 
                "   /   /   /}\n", 
                "   /   /}\n", 
                "   /  '<Spe><Instance>GrabbingNodeStr' : Tree\n", 
                "   /  '<Spe><Instance>GrabbingPickVariablesList' : ['NodedTreeInt', 'NodedTreeKeyStr']\n", 
                "   /}\n", 
                "\n", 
                "*****End of the Attest *****\n", 
                "\n", 
                "\n"
              ]
            }
          ], 
          "collapsed": false, 
          "metadata": {
            "slideshow": {
              "slide_type": "subslide"
            }
          }
        }
      ]
    }
  ], 
  "metadata": {
    "name": "", 
    "signature": ""
  }, 
  "nbformat_minor": 0
}