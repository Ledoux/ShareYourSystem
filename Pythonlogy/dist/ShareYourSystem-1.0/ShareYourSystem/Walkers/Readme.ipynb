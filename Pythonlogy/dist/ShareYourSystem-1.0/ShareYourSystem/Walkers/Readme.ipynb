{
  "nbformat": 3, 
  "worksheets": [
    {
      "cells": [
        {
          "source": "\n<!--\nFrozenIsBool False\n-->\n\n#Walkers\n\n##Doc\n----\n\n\n> \n> The Walkers are augmented Noders that are able to walk through \n> hierarchized collections and execute commands, grab, recruit variables\n> depending on concluding conditions.\n> \n> \n\n----\n\n<small>\nView the Walkers notebook on [NbViewer](http://nbviewer.ipython.org/url/shareyoursystem.ouvaton.org/Walkers.ipynb)\n</small>\n\n", 
          "cell_type": "markdown", 
          "prompt_number": 0, 
          "metadata": {
            "slideshow": {
              "slide_type": "slide"
            }
          }
        }, 
        {
          "source": "\n<!--\nFrozenIsBool False\n-->\n\n##Concept and SubModules family\n\n<script type=\"text/javascript\">\n\n\tvar HrefStr=window.location.href;\n\t//alert(window.location.href)\n\n\tif(HrefStr == \"http://shareyoursystem.ouvaton.org/site/LibraryReference/Walkers/\"){\n\n\t    //alert('Ouvaton')\n\t    document.write(\"from \")\n\t    document.write(\"http://shareyoursystem.ouvaton.org/slides/ \")\n\t    document.write(\"<iframe width=\\\"725\\\" height=\\\"300\\\" src=\\\"\")\n\t    document.write(\"http://shareyoursystem.ouvaton.org\")\n\t    document.write(\"/slides/Walkers.php\\\"></iframe>\")\n\t}\n\telse if(HrefStr == \"http://127.0.0.1:8000/LibraryReference/Walkers/\"){\n\n        //alert('Localhost')\n        document.write(\"from \")\n        document.write(\"localhost mkdocs but direct to ouvaton\")\n        document.write(\"<iframe width=\\\"725\\\" height=\\\"300\\\" src=\\\"\")\n        document.write(\"http://shareyoursystem.ouvaton.org\")\n        document.write(\"/slides/Walkers.php\\\"></iframe>\")\n    }\n    else\n    {\n\n        //alert('Local')\n\t    document.write(\"from \")\n\t    document.write(\"/Users/ledoux/Documents/ShareYourSystem/Ouvaton/ \")\n\t    document.write(\"<iframe width=\\\"725\\\" height=\\\"300\\\" src=\\\"\")\n\t    document.write(\"/Users/ledoux/Documents/ShareYourSystem/Ouvaton/\")\n\t    document.write(\"Walkers.html\\\"></iframe>\")\n\n    }\n\n</script>\n\n<small>\nView the Walkers concept on <a href=\"http://shareyoursystem.ouvaton.org/slides/Walkers.php\" target=\"_blank\">Ouvaton</a>\n</small>\n\n", 
          "cell_type": "markdown", 
          "prompt_number": 1, 
          "metadata": {
            "slideshow": {
              "slide_type": "subslide"
            }
          }
        }, 
        {
          "source": "\n<!--\nFrozenIsBool False\n-->\n\n##Code\n\n----\n\n<ClassDocStr>\n\n----\n\n```python\n# -*- coding: utf-8 -*-\n\"\"\"\n\n\n<DefineSource>\n@Date : Fri Nov 14 13:20:38 2014 \\n\n@Author : Erwan Ledoux \\n\\n\n</DefineSource>\n\n\nThe Walkers are augmented Noders that are able to walk through \nhierarchized collections and execute commands, grab, recruit variables\ndepending on concluding conditions.\n\n\"\"\"\n\n#<DefineConcept>\nimport ShareYourSystem as SYS\nSYS.setConceptModule(globals())\n#</DefineConcept>\n\n```\n\n<small>\nView the Walkers sources on <a href=\"https://github.com/Ledoux/ShareYourSystem/tree/master/Pythonlogy/ShareYourSystem/Walkers\" target=\"_blank\">Github</a>\n</small>\n\n", 
          "cell_type": "markdown", 
          "prompt_number": 2, 
          "metadata": {
            "slideshow": {
              "slide_type": "subslide"
            }
          }
        }
      ]
    }
  ], 
  "metadata": {
    "name": "", 
    "signature": ""
  }, 
  "nbformat_minor": 0
}