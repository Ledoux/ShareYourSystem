{
  "nbformat": 3, 
  "worksheets": [
    {
      "cells": [
        {
          "source": [
            "#Router\n", 
            " @Date : Fri Nov 14 13:20:38 2014 \n\n@Author : Erwan Ledoux \n\n\n\nA Router\n\n\n"
          ], 
          "cell_type": "markdown", 
          "metadata": {}
        }, 
        {
          "source": "```python\n\n#ImportModules\nimport ShareYourSystem as SYS\nfrom ShareYourSystem.Tools import Tool\nfrom ShareYourSystem.Walkers import Router\n\n#Definition a Router instance that has Tree nodes\nMyRouter=Router.RouterClass().update(\n    [\n        (\n            '<Tree>FirstChildRouter',\n            Router.RouterClass().update(\n                [\n                    (\n                        '<Tree>GrandChildRouter',\n                        Router.RouterClass()\n                    )\n                ]\n            )\n        ),\n        (\n            '<Tree>SecondChildRouter',\n            Router.RouterClass()\n        )\n    ]    \n)\n\n#Walk inside the Tree in order to parent\nMyRouter.walk(\n    {\n        'BeforeUpdateList':\n        [\n            ('route',{'LiargVariablesList':[\n                                                ['NodedTreeInt','NodedTreeKeyStr']\n                                                #['/']\n                                            ]\n                    })\n        ],\n        'GatherVariablesList':['<Tree>']\n    }\n)\n\n#Definition the AttestedStr\nSYS._attest(\n    [\n        'MyRouter is '+SYS._str(\n        MyRouter,\n        **{\n            'RepresentingBaseKeyStrsListBool':False,\n            'RepresentingAlineaIsBool':False\n        }\n        )\n    ]\n) \n\n#Print\n\n \n\n```\n", 
          "cell_type": "markdown", 
          "metadata": {}
        }, 
        {
          "source": "```console\n>>>\n\n\n*****Start of the Attest *****\n\nMyRouter is < (RouterClass), 4558963472>\n   /{ \n   /  '<New><Instance>ApplyingIsBool' : True\n   /  '<New><Instance>IdString' : 4558963472\n   /  '<New><Instance>NodeCollectionStr' : Global\n   /  '<New><Instance>NodeIndexInt' : -1\n   /  '<New><Instance>NodeKeyStr' : \n   /  '<New><Instance>NodePointDeriveNoder' : None\n   /  '<New><Instance>NodePointOrderedDict' : None\n   /  '<New><Instance>TreeCollectionOrderedDict' : \n   /   /{ \n   /   /  'FirstChildRouter' : < (RouterClass), 4559176592>\n   /   /   /{ \n   /   /   /  '<New><Instance>ApplyingIsBool' : True\n   /   /   /  '<New><Instance>IdString' : 4559176592\n   /   /   /  '<New><Instance>NodeCollectionStr' : Tree\n   /   /   /  '<New><Instance>NodeIndexInt' : 0\n   /   /   /  '<New><Instance>NodeKeyStr' : FirstChildRouter\n   /   /   /  '<New><Instance>NodePointDeriveNoder' : {...}< (RouterClass), 4558963472>\n   /   /   /  '<New><Instance>NodePointOrderedDict' : {...}< (OrderedDict), 4558904288>\n   /   /   /  '<New><Instance>TreeCollectionOrderedDict' : \n   /   /   /   /{ \n   /   /   /   /  'GrandChildRouter' : < (RouterClass), 4558964240>\n   /   /   /   /   /{ \n   /   /   /   /   /  '<New><Instance>ApplyingIsBool' : True\n   /   /   /   /   /  '<New><Instance>IdString' : 4558964240\n   /   /   /   /   /  '<New><Instance>NodeCollectionStr' : Tree\n   /   /   /   /   /  '<New><Instance>NodeIndexInt' : 0\n   /   /   /   /   /  '<New><Instance>NodeKeyStr' : GrandChildRouter\n   /   /   /   /   /  '<New><Instance>NodePointDeriveNoder' : {...}< (RouterClass), 4559176592>\n   /   /   /   /   /  '<New><Instance>NodePointOrderedDict' : {...}< (OrderedDict), 4559020704>\n   /   /   /   /   /  '<New><Instance>TreeCollectionOrderedDict' : \n   /   /   /   /   /   /{ \n   /   /   /   /   /   /}\n   /   /   /   /   /  '<Spe><Instance>RoutedVariablesOrderedDict' : \n   /   /   /   /   /   /{ \n   /   /   /   /   /   /}\n   /   /   /   /   /  '<Spe><Instance>RoutingPickKeyVariablesList' : ['NodedTreeInt', 'NodedTreeKeyStr']\n   /   /   /   /   /}\n   /   /   /   /}\n   /   /   /  '<Spe><Instance>RoutedVariablesOrderedDict' : \n   /   /   /   /{ \n   /   /   /   /}\n   /   /   /  '<Spe><Instance>RoutingPickKeyVariablesList' : {...}< (list), 4559144864>\n   /   /   /}\n   /   /  'SecondChildRouter' : < (RouterClass), 4559076432>\n   /   /   /{ \n   /   /   /  '<New><Instance>ApplyingIsBool' : True\n   /   /   /  '<New><Instance>IdString' : 4559076432\n   /   /   /  '<New><Instance>NodeCollectionStr' : Tree\n   /   /   /  '<New><Instance>NodeIndexInt' : 1\n   /   /   /  '<New><Instance>NodeKeyStr' : SecondChildRouter\n   /   /   /  '<New><Instance>NodePointDeriveNoder' : {...}< (RouterClass), 4558963472>\n   /   /   /  '<New><Instance>NodePointOrderedDict' : {...}< (OrderedDict), 4558904288>\n   /   /   /  '<New><Instance>TreeCollectionOrderedDict' : \n   /   /   /   /{ \n   /   /   /   /}\n   /   /   /  '<Spe><Instance>RoutedVariablesOrderedDict' : \n   /   /   /   /{ \n   /   /   /   /}\n   /   /   /  '<Spe><Instance>RoutingPickKeyVariablesList' : {...}< (list), 4559144864>\n   /   /   /}\n   /   /}\n   /  '<Spe><Instance>RoutedVariablesOrderedDict' : \n   /   /{ \n   /   /  'NodedTreeInt' : None\n   /   /  'NodedTreeKeyStr' : None\n   /   /  '0' : \n   /   /   /{ \n   /   /   /  'NodedTreeInt' : None\n   /   /   /  'NodedTreeKeyStr' : None\n   /   /   /  '1' : \n   /   /   /   /{ \n   /   /   /   /  'NodedTreeInt' : None\n   /   /   /   /  'NodedTreeKeyStr' : None\n   /   /   /   /}\n   /   /   /}\n   /   /  '2' : \n   /   /   /{ \n   /   /   /  'NodedTreeInt' : None\n   /   /   /  'NodedTreeKeyStr' : None\n   /   /   /}\n   /   /}\n   /  '<Spe><Instance>RoutingPickKeyVariablesList' : {...}< (list), 4559144864>\n   /}\n\n*****End of the Attest *****\n\n\n\n```\n", 
          "cell_type": "markdown", 
          "metadata": {}
        }
      ]
    }
  ], 
  "metadata": {
    "name": "", 
    "signature": ""
  }, 
  "nbformat_minor": 0
}