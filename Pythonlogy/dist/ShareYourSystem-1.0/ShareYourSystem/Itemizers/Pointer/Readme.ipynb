{
  "nbformat": 3, 
  "worksheets": [
    {
      "cells": [
        {
          "source": [
            "#Pointer\n", 
            " @Date : Fri Nov 14 13:20:38 2014 \n\n@Author : Erwan Ledoux \n\n\n\nA Pointer \n\n\n"
          ], 
          "cell_type": "markdown", 
          "metadata": {}
        }, 
        {
          "source": "\n<!--\nFrozenIsBool False\n-->\n\nView the Pointer sources on [Github](https://github.com/Ledoux/ShareYourSystem/tree/master/ShareYourSystem/Itemizers/Installer)\n\n", 
          "cell_type": "markdown", 
          "prompt_number": 0, 
          "metadata": {}
        }, 
        {
          "source": "\n<!---\nFrozenIsBool True\n-->\n\n##Example\n\nLet's create an empty class, which will automatically receive\nspecial attributes from the decorating ClassorClass,\nspecially the NameStr, that should be the ClassStr\nwithout the TypeStr in the end.", 
          "cell_type": "markdown", 
          "prompt_number": 1, 
          "metadata": {}
        }, 
        {
          "source": "```python\n\n#ImportModules\nimport ShareYourSystem as SYS\nfrom ShareYourSystem.Itemizers import Pather,Pointer\n\n#Explicit expression\nMyPointer=Pointer.PointerClass().__setitem__(\n        'ChildPather',\n        Pather.PatherClass().__setitem__(\n            'GrandChildPather',\n            Pather.PatherClass()\n        )\n    ).point(\n            '/',\n            '/ChildPather/GrandChildPather/GrandParentPointer'\n    )\n\n#Return\nSYS._attest(\n    [\n    'MyPointer is '+SYS._str(\n            MyPointer,\n            **{\n                'RepresentingBaseKeyStrsListBool':False,\n                'RepresentingAlineaIsBool':False\n            }\n        )\n    ]\n)\n\n#Print\n\n\n\n```\n", 
          "cell_type": "markdown", 
          "metadata": {}
        }, 
        {
          "source": "```console\n>>>\nDoer l.132 : DoerStr is Pointer\nDoStr is Point\nDoMethodStr is point\nDoingStr is Pointing\nDoneStr is Pointed\n\n\n\n*****Start of the Attest *****\n\nMyPointer is < (PointerClass), 4465425168>\n   /{ \n   /  '<New><Instance>ChildPather' : < (PatherClass), 4465287632>\n   /   /{ \n   /   /  '<New><Instance>GrandChildPather' : < (PatherClass), 4465476176>\n   /   /   /{ \n   /   /   /  '<New><Instance>IdString' : 4465476176\n   /   /   /  '<Spe><Class>PathedChildKeyStr' : \n   /   /   /  '<Spe><Class>PathedGetKeyStr' : \n   /   /   /  '<Spe><Class>PathedKeyStrsList' : None\n   /   /   /  '<Spe><Class>PathingKeyStr' : \n   /   /   /}\n   /   /  '<New><Instance>GrandChildPather/GrandParentPointer' : {...}< (PointerClass), 4465425168>\n   /   /  '<New><Instance>IdString' : 4465287632\n   /   /  '<Spe><Class>PathedChildKeyStr' : \n   /   /  '<Spe><Class>PathedGetKeyStr' : \n   /   /  '<Spe><Class>PathedKeyStrsList' : None\n   /   /  '<Spe><Class>PathingKeyStr' : \n   /   /}\n   /  '<New><Instance>IdString' : 4465425168\n   /  '<Spe><Class>PointedBackSetStr' : \n   /  '<Spe><Class>PointedPathBackVariable' : \n   /  '<Spe><Class>PointingBackSetStr' : \n   /  '<Spe><Instance>PointedGetVariable' : {...}< (PointerClass), 4465425168>\n   /  '<Spe><Instance>PointedLocalSetStr' : GrandParentPointer\n   /  '<Spe><Instance>PointingGetVariable' : /\n   /  '<Spe><Instance>PointingSetPathStr' : /ChildPather/GrandChildPather/GrandParentPointer\n   /}\n\n*****End of the Attest *****\n\n\n\n```\n", 
          "cell_type": "markdown", 
          "metadata": {}
        }
      ]
    }
  ], 
  "metadata": {
    "name": "", 
    "signature": ""
  }, 
  "nbformat_minor": 0
}