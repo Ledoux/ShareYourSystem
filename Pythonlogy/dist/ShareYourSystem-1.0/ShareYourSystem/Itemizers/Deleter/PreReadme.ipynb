{
  "nbformat": 3, 
  "worksheets": [
    {
      "cells": [
        {
          "source": "\n<!--\nFrozenIsBool False\n-->\n\n#Deleter\n\n##Doc\n----\n\n\n> \n> A Deleter has a __delitem__ method for deleting things in the <InstanceVariable>.__dict__\n> \n> \n\n----\n\n<small>\nView the Deleter notebook on [NbViewer](http://nbviewer.ipython.org/url/shareyoursystem.ouvaton.org/Deleter.ipynb)\n</small>\n\n", 
          "cell_type": "markdown", 
          "prompt_number": 0, 
          "metadata": {
            "slideshow": {
              "slide_type": "slide"
            }
          }
        }, 
        {
          "source": "\n<!--\nFrozenIsBool False\n-->\n\n##Code\n\n----\n\n<ClassDocStr>\n\n----\n\n```python\n# -*- coding: utf-8 -*-\n\"\"\"\n\n\n<DefineSource>\n@Date : Fri Nov 14 13:20:38 2014 \\n\n@Author : Erwan Ledoux \\n\\n\n</DefineSource>\n\n\nA Deleter has a __delitem__ method for deleting things in the <InstanceVariable>.__dict__\n\n\"\"\"\n\n#<DefineAugmentation>\nimport ShareYourSystem as SYS\nBaseModuleStr=\"ShareYourSystem.Itemizers.Setter\"\nDecorationModuleStr=\"ShareYourSystem.Classors.Classer\"\nSYS.setSubModule(globals())\n#</DefineAugmentation>\n\n#<ImportSpecificModules>\n#</ImportSpecificModules>\n\n#<DefineClass>\n@DecorationClass()\nclass DeleterClass(BaseClass):\n\t\t\n\tdef default_init(self,\n\t\t\t\t\t\t_DeletingKeyVariable=None,\n\t\t\t\t\t\t**_KwargVariablesDict\n\t\t\t\t\t):\n\t\t\"\"\" \"\"\"\t\t\n\n\t\t#Call the parent init method\n\t\tBaseClass.__init__(self,**_KwargVariablesDict)\n\n\t#@Argumenter.ArgumenterClass(**{'ArgumentingDoStr':\"Delete\"})\n\tdef __delitem__(self,_KeyVariable,**_KwargVariablesDict):\n\t\t\"\"\" \"\"\"\n\n\t\t#debug\n\t\t'''\n\t\tself.debug(('self.',self,['DeletingKeyVariable']))\n\t\t'''\n\n\t\t#Delete\n\t\tself.delete(_KeyVariable)\n\n\t\t#set\n\t\treturn self\n\n\tdef do_delete(self):\n\t\t\"\"\" \"\"\"\n\n\t\t#Do the minimal delitem\n\t\tif type(self.DeletingKeyVariable) in [str,unicode]:\n\n\t\t\t#Del Safely the Value\n\t\t\tif self.DeletingKeyVariable in self.__dict__:\n\t\t\t\tdel self.__dict__[self.DeletingKeyVariable]\n\n#</DefineClass>\n\n\n\n```\n\n<small>\nView the Deleter sources on <a href=\"https://github.com/Ledoux/ShareYourSystem/tree/master/Pythonlogy/ShareYourSystem/Itemizers/Deleter\" target=\"_blank\">Github</a>\n</small>\n\n", 
          "cell_type": "markdown", 
          "prompt_number": 1, 
          "metadata": {
            "slideshow": {
              "slide_type": "subslide"
            }
          }
        }, 
        {
          "source": "\n<!---\nFrozenIsBool True\n-->\n\n##Example\n\nLet's create an empty class, which will automatically receive\nspecial attributes from the decorating ClassorClass,\nspecially the NameStr, that should be the ClassStr\nwithout the TypeStr in the end.", 
          "cell_type": "markdown", 
          "prompt_number": 2, 
          "metadata": {
            "slideshow": {
              "slide_type": "subslide"
            }
          }
        }, 
        {
          "cell_type": "code", 
          "prompt_number": 3, 
          "language": "python", 
          "input": [
            "\n", 
            "#ImportModules\n", 
            "import ShareYourSystem as SYS\n", 
            "from ShareYourSystem.Itemizers import Deleter\n", 
            "\n", 
            "#Definition a Deleter\n", 
            "MyDeleter=Deleter.DeleterClass().__setitem__('MyInt',0).__delitem__('MyInt')\n", 
            "    \n", 
            "#Definition the AttestedStr\n", 
            "SYS._attest(\n", 
            "    [\n", 
            "    'MyDeleter is '+SYS._str(\n", 
            "            MyDeleter,\n", 
            "            **{\n", 
            "            'RepresentingBaseKeyStrsListBool':False,\n", 
            "            'RepresentingAlineaIsBool':False\n", 
            "            }\n", 
            "        )\n", 
            "    ]\n", 
            ") \n", 
            "\n", 
            "#Print\n", 
            "\n", 
            "\n"
          ], 
          "outputs": [
            {
              "output_type": "stream", 
              "stream": "stdout", 
              "text": [
                "\n", 
                "\n", 
                "*****Start of the Attest *****\n", 
                "\n", 
                "MyDeleter is < (DeleterClass), 4540871120>\n", 
                "   /{ \n", 
                "   /  '<New><Instance>IdInt' : 4540871120\n", 
                "   /}\n", 
                "\n", 
                "*****End of the Attest *****\n", 
                "\n", 
                "\n"
              ]
            }
          ], 
          "collapsed": false, 
          "metadata": {
            "slideshow": {
              "slide_type": "-"
            }
          }
        }
      ]
    }
  ], 
  "metadata": {
    "name": "", 
    "signature": ""
  }, 
  "nbformat_minor": 0
}