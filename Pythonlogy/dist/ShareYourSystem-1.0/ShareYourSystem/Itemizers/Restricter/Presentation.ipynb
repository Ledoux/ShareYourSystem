{
  "nbformat": 3, 
  "worksheets": [
    {
      "cells": [
        {
          "source": "\n<!--\nFrozenIsBool False\n-->\n\n#Restricter\n\n##Doc\n----\n\n\n> \n> A Restricter object sets only in the __dict__ only if hasattr(self,self.SettingKeyVariable)\n> returns True before.\n> \n> \n\n----\n\n<small>\nView the Restricter notebook on [NbViewer](http://nbviewer.ipython.org/url/shareyoursystem.ouvaton.org/Restricter.ipynb)\n</small>\n\n", 
          "cell_type": "markdown", 
          "prompt_number": 0, 
          "metadata": {
            "slideshow": {
              "slide_type": "slide"
            }
          }
        }, 
        {
          "source": "\n<!--\nFrozenIsBool False\n-->\n\nView the Restricter sources on [Github](https://github.com/Ledoux/ShareYourSystem/tree/master/ShareYourSystem/Itemizers/Installer)\n\n", 
          "cell_type": "markdown", 
          "prompt_number": 1, 
          "metadata": {
            "slideshow": {
              "slide_type": "subslide"
            }
          }
        }, 
        {
          "source": "\n<!---\nFrozenIsBool True\n-->\n\n##Example\n\nLet's create an empty class, which will automatically receive\nspecial attributes from the decorating ClassorClass,\nspecially the NameStr, that should be the ClassStr\nwithout the TypeStr in the end.", 
          "cell_type": "markdown", 
          "prompt_number": 2, 
          "metadata": {
            "slideshow": {
              "slide_type": "subslide"
            }
          }
        }, 
        {
          "cell_type": "code", 
          "prompt_number": 3, 
          "language": "python", 
          "input": [
            "\n", 
            "#ImportModules\n", 
            "import ShareYourSystem as SYS\n", 
            "from ShareYourSystem.Itemizers import Restricter\n", 
            "\n", 
            "#Explicit expression\n", 
            "MyRestricter=Restricter.RestricterClass(**{'RestrictingIsBool':True})\n", 
            "MyRestricter.ResettedStr=\"Hello\"\n", 
            "MyRestricter.__setitem__('ResettedStr',\"Bonjour\")\n", 
            "MyRestricter.__setitem__('NotsettedFloat',1.)\n", 
            "\n", 
            "#Return\n", 
            "SYS._attest(\n", 
            "    [\n", 
            "    'MyRestricter is '+SYS._str(\n", 
            "            MyRestricter,\n", 
            "            **{\n", 
            "            'RepresentingBaseKeyStrsListBool':False,\n", 
            "            'RepresentingAlineaIsBool':False\n", 
            "            }\n", 
            "        )\n", 
            "    ]\n", 
            ")\n", 
            "\n", 
            "#Print\n", 
            "\n", 
            "\n"
          ], 
          "outputs": [
            {
              "output_type": "stream", 
              "stream": "stdout", 
              "text": [
                "\n", 
                "\n", 
                "*****Start of the Attest *****\n", 
                "\n", 
                "MyRestricter is < (RestricterClass), 4348483088>\n", 
                "   /{ \n", 
                "   /  '<New><Instance>IdInt' : 4348483088\n", 
                "   /  '<New><Instance>ResettedStr' : Bonjour\n", 
                "   /  '<Spe><Instance>RestrictedSetIsBool' : True\n", 
                "   /  '<Spe><Instance>RestrictingIsBool' : True\n", 
                "   /  '<Spe><Instance>RestrictingKeyStr' : NotsettedFloat\n", 
                "   /}\n", 
                "\n", 
                "*****End of the Attest *****\n", 
                "\n", 
                "\n"
              ]
            }
          ], 
          "collapsed": false, 
          "metadata": {
            "slideshow": {
              "slide_type": "-"
            }
          }
        }
      ]
    }
  ], 
  "metadata": {
    "name": "", 
    "signature": ""
  }, 
  "nbformat_minor": 0
}