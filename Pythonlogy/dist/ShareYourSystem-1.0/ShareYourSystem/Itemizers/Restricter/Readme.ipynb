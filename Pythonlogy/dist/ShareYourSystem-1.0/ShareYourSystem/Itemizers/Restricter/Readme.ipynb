{
  "nbformat": 3, 
  "worksheets": [
    {
      "cells": [
        {
          "source": "\n<!--\nFrozenIsBool False\n-->\n\nView the Restricter sources on [Github](https://github.com/Ledoux/ShareYourSystem/tree/master/ShareYourSystem/Itemizers/Installer)\n\n", 
          "cell_type": "markdown", 
          "prompt_number": 0, 
          "metadata": {
            "slideshow": {
              "slide_type": "slide"
            }
          }
        }, 
        {
          "source": "\n<!---\nFrozenIsBool True\n-->\n\n##Example\n\nLet's create an empty class, which will automatically receive\nspecial attributes from the decorating ClassorClass,\nspecially the NameStr, that should be the ClassStr\nwithout the TypeStr in the end.", 
          "cell_type": "markdown", 
          "prompt_number": 1, 
          "metadata": {
            "slideshow": {
              "slide_type": "subslide"
            }
          }
        }, 
        {
          "source": "```python\n\n#ImportModules\nimport ShareYourSystem as SYS\nfrom ShareYourSystem.Itemizers import Restricter\n\n#Explicit expression\nMyRestricter=Restricter.RestricterClass(**{'RestrictingIsBool':True})\nMyRestricter.ResettedStr=\"Hello\"\nMyRestricter.__setitem__('ResettedStr',\"Bonjour\")\nMyRestricter.__setitem__('NotsettedFloat',1.)\n\n#Return\nSYS._attest(\n    [\n    'MyRestricter is '+SYS._str(\n            MyRestricter,\n            **{\n            'RepresentingBaseKeyStrsListBool':False,\n            'RepresentingAlineaIsBool':False\n            }\n        )\n    ]\n)\n\n#Print\n\n\n\n```\n", 
          "cell_type": "markdown", 
          "metadata": {}
        }, 
        {
          "source": "```console\n>>>\n\n\n*****Start of the Attest *****\n\nMyRestricter is < (RestricterClass), 4347887312>\n   /{ \n   /  '<New><Instance>IdInt' : 4347887312\n   /  '<New><Instance>ResettedStr' : Bonjour\n   /  '<Spe><Instance>RestrictedSetIsBool' : True\n   /  '<Spe><Instance>RestrictingIsBool' : True\n   /  '<Spe><Instance>RestrictingKeyStr' : NotsettedFloat\n   /}\n\n*****End of the Attest *****\n\n\n\n```\n", 
          "cell_type": "markdown", 
          "metadata": {}
        }
      ]
    }
  ], 
  "metadata": {
    "name": "", 
    "signature": ""
  }, 
  "nbformat_minor": 0
}