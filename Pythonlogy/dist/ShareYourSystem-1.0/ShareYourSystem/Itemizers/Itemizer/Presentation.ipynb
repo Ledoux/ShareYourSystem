{
  "nbformat": 3, 
  "worksheets": [
    {
      "cells": [
        {
          "source": "\n<!--\nFrozenIsBool False\n-->\n\n#Itemizer\n\n##Doc\n----\n\n\n> \n> An Itemizer...\n> \n> \n\n----\n\n<small>\nView the Itemizer notebook on [NbViewer](http://nbviewer.ipython.org/url/shareyoursystem.ouvaton.org/Itemizer.ipynb)\n</small>\n\n", 
          "cell_type": "markdown", 
          "prompt_number": 0, 
          "metadata": {
            "slideshow": {
              "slide_type": "slide"
            }
          }
        }, 
        {
          "source": "\n<!--\nFrozenIsBool False\n-->\n\nView the Itemizer sources on [Github](https://github.com/Ledoux/ShareYourSystem/tree/master/ShareYourSystem/Itemizers/Installer)\n\n", 
          "cell_type": "markdown", 
          "prompt_number": 1, 
          "metadata": {
            "slideshow": {
              "slide_type": "subslide"
            }
          }
        }, 
        {
          "source": "\n<!---\nFrozenIsBool True\n-->\n\n##Example\n\nLet's create an empty class, which will automatically receive\nspecial attributes from the decorating ClassorClass,\nspecially the NameStr, that should be the ClassStr\nwithout the TypeStr in the end.", 
          "cell_type": "markdown", 
          "prompt_number": 2, 
          "metadata": {
            "slideshow": {
              "slide_type": "subslide"
            }
          }
        }, 
        {
          "cell_type": "code", 
          "prompt_number": 3, 
          "language": "python", 
          "input": [
            "\n", 
            "#ImportModules\n", 
            "import ShareYourSystem as SYS\n", 
            "from ShareYourSystem.Itemizers import Itemizer\n", 
            "\n", 
            "class MakerClass(Itemizer.ItemizerClass):\n", 
            "\n", 
            "    def __getitem__(self,_KeyVariable):\n", 
            "\n", 
            "        #Debug\n", 
            "        print('_KeyVariable is ',_KeyVariable)\n", 
            "        print('')\n", 
            "\n", 
            "        #return \n", 
            "        return object.__getattribute__(self,\n", 
            "                        'My'+str(_KeyVariable)+'Int'\n", 
            "                    )\n", 
            "\n", 
            "#Definition of a derive maker itemizer class\n", 
            "MyMaker=MakerClass()\n", 
            "MyMaker.My1Int=1\n", 
            "    \n", 
            "#Definition the AttestedStr\n", 
            "SYS._attest(\n", 
            "    [\n", 
            "        'MyMaker is'+SYS._str(\n", 
            "            MyMaker,\n", 
            "            **{\n", 
            "                'RepresentingAlineaIsBool':False,\n", 
            "            }\n", 
            "        ),\n", 
            "        'MyMaker[1] is '+str(MyMaker[1]),\n", 
            "        #'MyMaker.Item_1 is '+str(MyMaker.Item_1),\n", 
            "    ]\n", 
            ") \n", 
            "\n", 
            "#Print\n", 
            "\n", 
            "\n"
          ], 
          "outputs": [
            {
              "output_type": "stream", 
              "stream": "stdout", 
              "text": [
                "('_KeyVariable is ', 1)\n", 
                "\n", 
                "\n", 
                "\n", 
                "*****Start of the Attest *****\n", 
                "\n", 
                "MyMaker is< (MakerClass), 4348482192>\n", 
                "   /{ \n", 
                "   /  '<New><Instance>IdInt' : 4348482192\n", 
                "   /  '<New><Instance>My1Int' : 1\n", 
                "   /}\n", 
                "\n", 
                "------\n", 
                "\n", 
                "MyMaker[1] is 1\n", 
                "\n", 
                "*****End of the Attest *****\n", 
                "\n", 
                "\n"
              ]
            }
          ], 
          "collapsed": false, 
          "metadata": {
            "slideshow": {
              "slide_type": "-"
            }
          }
        }
      ]
    }
  ], 
  "metadata": {
    "name": "", 
    "signature": ""
  }, 
  "nbformat_minor": 0
}