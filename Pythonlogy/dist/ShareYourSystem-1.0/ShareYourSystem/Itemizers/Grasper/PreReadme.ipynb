{
  "nbformat": 3, 
  "worksheets": [
    {
      "cells": [
        {
          "source": "\n<!---\nFrozenIsBool True\n-->\n\n##Example\n\nLet's create an empty class, which will automatically receive\nspecial attributes from the decorating ClassorClass,\nspecially the NameStr, that should be the ClassStr\nwithout the TypeStr in the end.", 
          "cell_type": "markdown", 
          "prompt_number": 0, 
          "metadata": {
            "slideshow": {
              "slide_type": "slide"
            }
          }
        }, 
        {
          "cell_type": "code", 
          "prompt_number": 1, 
          "language": "python", 
          "input": [
            "\n", 
            "#ImportModules\n", 
            "import ShareYourSystem as SYS\n", 
            "from ShareYourSystem.Itemizers import Grasper\n", 
            "\n", 
            "#Explicit expression\n", 
            "MyGrasper=Grasper.GrasperClass().__setitem__(\n", 
            "    'ChildGrasper',\n", 
            "    Grasper.GrasperClass().__setitem__('MyStr',\"hello\")\n", 
            ")\n", 
            "\n", 
            "#Return\n", 
            "SYS._attest(\n", 
            "    [\n", 
            "        \"MyGrasper.grasp('/ChildGrasper/MyStr').GraspedAnswerVariable is \"+\n", 
            "        str(\n", 
            "            MyGrasper.grasp('/ChildGrasper/MyStr').GraspedAnswerVariable\n", 
            "            ),\n", 
            "        \"MyGrasper.grasp(MyGrasper.ChildGrasper).GraspedAnswerVariable is \"+\n", 
            "        str(\n", 
            "            MyGrasper.grasp(MyGrasper.ChildGrasper).GraspedAnswerVariable\n", 
            "            ),\n", 
            "        \"MyGrasper.grasp(SYS.GraspDictClass(**{'HintVariable':'/ChildGrasper/MyStr'})).GraspedAnswerVariable is \"+\n", 
            "        str(\n", 
            "            MyGrasper.grasp(SYS.GraspDictClass(**{'HintVariable':'/ChildGrasper/MyStr'})\n", 
            "            ).GraspedAnswerVariable),\n", 
            "    ]\n", 
            ")\n", 
            "\n", 
            "#Print\n", 
            "\n", 
            "\n"
          ], 
          "outputs": [
            {
              "output_type": "stream", 
              "stream": "stdout", 
              "text": [
                "\n", 
                "\n", 
                "*****Start of the Attest *****\n", 
                "\n", 
                "MyGrasper.grasp('/ChildGrasper/MyStr').GraspedAnswerVariable is hello\n", 
                "\n", 
                "------\n", 
                "\n", 
                "MyGrasper.grasp(MyGrasper.ChildGrasper).GraspedAnswerVariable is < (GrasperClass), 4348193680>\n", 
                "   /{ \n", 
                "   /  '<New><Instance>IdInt' : 4348193680\n", 
                "   /  '<New><Instance>MyStr' : hello\n", 
                "   /  '<Spe><Class>GraspedAnswerVariable' : None\n", 
                "   /  '<Spe><Class>GraspedClueVariableType' : None\n", 
                "   /  '<Spe><Class>GraspingClueVariable' : None\n", 
                "   /}\n", 
                "\n", 
                "------\n", 
                "\n", 
                "MyGrasper.grasp(SYS.GraspDictClass(**{'HintVariable':'/ChildGrasper/MyStr'})).GraspedAnswerVariable is hello\n", 
                "\n", 
                "*****End of the Attest *****\n", 
                "\n", 
                "\n"
              ]
            }
          ], 
          "collapsed": false, 
          "metadata": {
            "slideshow": {
              "slide_type": "-"
            }
          }
        }
      ]
    }
  ], 
  "metadata": {
    "name": "", 
    "signature": ""
  }, 
  "nbformat_minor": 0
}