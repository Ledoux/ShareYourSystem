{
  "nbformat": 3, 
  "worksheets": [
    {
      "cells": [
        {
          "source": [
            "#Databaser\n", 
            " @Date : Fri Nov 14 13:20:38 2014 \n\n@Author : Erwan Ledoux \n\n\n\nA Databaser rises to the DatabaserClass. This latter is the deepest class for instancing Variables able to store values in hierarchic tables. Here, as a first step, the database method helps to set the <DatabasingKeyStr> in the __dict__\n\n\n"
          ], 
          "cell_type": "markdown", 
          "metadata": {}
        }, 
        {
          "source": "\n<!---\nFrozenIsBool True\n-->\n\n##Example\n\nLet's create an empty class, which will automatically receive\nspecial attributes from the decorating ClassorClass,\nspecially the NameStr, that should be the ClassStr\nwithout the TypeStr in the end.", 
          "cell_type": "markdown", 
          "prompt_number": 0, 
          "metadata": {}
        }, 
        {
          "source": "```python\n\n#ImportModules\nimport ShareYourSystem as SYS\nfrom ShareYourSystem.Objects import Databaser\n\n#Definition a Getter\nMyDatabaser=Databaser.DatabaserClass().database('Parameters')\n        \n#Definition the AttestedStr\nSYS._attest(\n    [\n        'MyDatabaser is '+SYS._str(\n        MyDatabaser,\n        **{\n            'RepresentingBaseKeyStrsListBool':False\n        }\n        )\n    ]\n)\n\n#Print\nprint(AttestedStr)\n\n\n```\n", 
          "cell_type": "markdown", 
          "metadata": {}
        }, 
        {
          "source": "```console\n>>>\n\n\n*****Start of the Attest *****\n\nMyDatabaser is < (DatabaserClass), 4333452176>\n   /{ \n   /  '<New><Class>SwitchedClassDatabaseBool' : True\n   /  '<New><Class>SwitchingDatabaseBool' : False\n   /  '<New><Instance>SwitchingDatabaseBool' : True\n   /  '<Spe><Instance>DatabasedSuffixStr' : ParametersModel\n   /  '<Spe><Instance>DatabasingKeyStr' : Parameters\n   /}\n\n*****End of the Attest *****\n\n\n\n\n```\n", 
          "cell_type": "markdown", 
          "metadata": {}
        }, 
        {
          "source": "\n<!--\nFrozenIsBool False\n-->\n\n##More Descriptions at the level of the class\n\nSpecial attributes of the DatabaserClass are :\n", 
          "cell_type": "markdown", 
          "prompt_number": 2, 
          "metadata": {}
        }, 
        {
          "source": "```python\n\n\n\n#ImportModules\nimport ShareYourSystem as SYS\nfrom ShareYourSystem.Objects import Databaser\n        \n#Definition the AttestedStr\nSYS._attest(\n    [\n        'DefaultAttributeItemTuplesList is '+SYS._str(\n            Databaser.DatabaserClass.DefaultAttributeItemTuplesList,\n            **{'RepresentingAlineaIsBool':False}\n        )\n    ]\n) \n\n#Print\nprint(AttestedStr)\n\n\n```\n", 
          "cell_type": "markdown", 
          "metadata": {}
        }, 
        {
          "source": "```console\n>>>\n\n\n*****Start of the Attest *****\n\nDefaultAttributeItemTuplesList is \n   /[\n   /  0 : ('DatabasingKeyStr', '')\n   /  1 : ('DatabasedSuffixStr', '')\n   /]\n\n*****End of the Attest *****\n\n\n\n\n```\n", 
          "cell_type": "markdown", 
          "metadata": {}
        }, 
        {
          "source": "\n<!--\nFrozenIsBool False\n-->\n\n##More Descriptions at the level of the instances\n\nA default call of an instance gives :\n", 
          "cell_type": "markdown", 
          "prompt_number": 4, 
          "metadata": {}
        }, 
        {
          "source": "```python\n\n\n\n#ImportModules\nfrom ShareYourSystem.Classors import Attester\nfrom ShareYourSystem.Objects import Databaser\n        \n#Definition the AttestedStr\nSYS._attest(\n    [\n        Databaser.DatabaserClass()\n    ]\n) \n\n#Print\nprint(AttestedStr)\n\n\n\n```\n", 
          "cell_type": "markdown", 
          "metadata": {}
        }, 
        {
          "source": "```console\n>>>\n\n\n*****Start of the Attest *****\n\n< (DatabaserClass), 4575017936>\n   /{ \n   /  '<Spe><Class>DatabasedSuffixStr' : \n   /  '<Spe><Class>DatabasingKeyStr' : \n   /}\n\n*****End of the Attest *****\n\n\n\n\n```\n", 
          "cell_type": "markdown", 
          "metadata": {}
        }
      ]
    }
  ], 
  "metadata": {
    "name": "", 
    "signature": ""
  }, 
  "nbformat_minor": 0
}