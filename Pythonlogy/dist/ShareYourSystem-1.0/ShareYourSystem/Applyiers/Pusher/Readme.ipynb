{
  "nbformat": 3, 
  "worksheets": [
    {
      "cells": [
        {
          "source": "\n<!--\nFrozenIsBool False\n-->\n\n#Pusher\n\n##Doc\n----\n\n\n> \n> Pusher instances\n> \n> \n\n----\n\n<small>\nView the Pusher notebook on [NbViewer](http://nbviewer.ipython.org/url/shareyoursystem.ouvaton.org/Pusher.ipynb)\n</small>\n\n", 
          "cell_type": "markdown", 
          "prompt_number": 0, 
          "metadata": {
            "slideshow": {
              "slide_type": "slide"
            }
          }
        }, 
        {
          "source": "\n<!--\nFrozenIsBool False\n-->\n\n##Code\n\n----\n\n<ClassDocStr>\n\n----\n\n```python\n# -*- coding: utf-8 -*-\n\"\"\"\n\n\n<DefineSource>\n@Date : Fri Nov 14 13:20:38 2014 \\n\n@Author : Erwan Ledoux \\n\\n\n</DefineSource>\n\n\nPusher instances\n\n\"\"\"\n\n#<DefineAugmentation>\nimport ShareYourSystem as SYS\nBaseModuleStr=\"ShareYourSystem.Noders.Collecter\"\nDecorationModuleStr=\"ShareYourSystem.Classors.Classer\"\nSYS.setSubModule(globals())\n#</DefineAugmentation>\n\n#<ImportSpecificModules>\n#</ImportSpecificModules>\n\n#<DefineClass>\n@DecorationClass()\nclass PusherClass(BaseClass):\n\t\n\t#Definition\n\tRepresentingKeyStrsList=[\t\n\t\t\t\t\t\t\t\t\t'PushingStoreListsList'\n\t\t\t\t\t\t\t\t]\n\n\t#@Hooker.HookerClass(**{'HookingAfterVariablesList':[{'CallingVariable':BaseClass.__init__}]})\n\tdef default_init(self,\n\t\t\t\t\t\t_PushingStoreListsList=None,\n\t\t\t\t\t\t**_KwargVariablesDict\n\t\t\t\t\t):\n\n\t\t#Call the parent init method\n\t\tBaseClass.__init__(self,**_KwargVariablesDict)\n\n\tdef do_push(self):\n\t\t\n\t\t#debug\n\t\t'''\n\t\tself.debug(('self.',self,['PushingStoreListsList']))\n\t\t'''\n\t\t\n\t\t#Apply __getitem__\n\t\tself.map('collect',map(\n\t\t\t\t\t\t\t\t\tlambda __PushingStoreList:\n\t\t\t\t\t\t\t\t\t{\n\t\t\t\t\t\t\t\t\t\t'LiargVariablesList':[],\n\t\t\t\t\t\t\t\t\t\t'KwargVariablesDict':\n\t\t\t\t\t\t\t\t\t\t{\n\t\t\t\t\t\t\t\t\t\t\t'CollectingNodeKeyStr':__PushingStoreList[0],\n\t\t\t\t\t\t\t\t\t\t\t'CollectingNodeVariable':__PushingStoreList[1],\n\t\t\t\t\t\t\t\t\t\t}\n\t\t\t\t\t\t\t\t\t},\n\t\t\t\t\t\t\t\t\tself.PushingStoreListsList\n\t\t\t\t\t\t\t\t)\n\t\t\t\t\t)\n#</DefineClass>\n\n\n```\n\n<small>\nView the Pusher sources on <a href=\"https://github.com/Ledoux/ShareYourSystem/tree/master/Pythonlogy/ShareYourSystem/Applyiers/Pusher\" target=\"_blank\">Github</a>\n</small>\n\n", 
          "cell_type": "markdown", 
          "prompt_number": 1, 
          "metadata": {
            "slideshow": {
              "slide_type": "subslide"
            }
          }
        }, 
        {
          "source": "```python\n\n#ImportModules\nimport ShareYourSystem as SYS\nfrom ShareYourSystem.Applyiers import Pusher\n\n#push\nMyPusher=Pusher.PusherClass().push(\n    [\n        [\n            'FirstChild',\n            Pusher.PusherClass().__setitem__('MyInt',0)\n        ],\n        [\n            'SecondChild',\n            Pusher.PusherClass()\n        ]\n    ],\n    **{'CollectingCollectionStr':'Pushome'}\n)\n\n#Definition the AttestedStr\nSYS._attest(\n    [\n        'MyPusher is '+SYS._str(\n        MyPusher,\n        **{\n            'RepresentingBaseKeyStrsListBool':False,\n            'RepresentingAlineaIsBool':False\n        }\n        )\n    ]\n) \n\n\n\n```\n", 
          "cell_type": "markdown", 
          "metadata": {}
        }, 
        {
          "source": "```console\n>>>\n\n\n*****Start of the Attest *****\n\nMyPusher is < (PusherClass), 4555340112>\n   /{ \n   /  '<New><Instance>IdInt' : 4555340112\n   /  '<New><Instance>NodeCollectionStr' : Globals\n   /  '<New><Instance>NodeIndexInt' : -1\n   /  '<New><Instance>NodeKeyStr' : TopPusher\n   /  '<New><Instance>NodePointDeriveNoder' : None\n   /  '<New><Instance>NodePointOrderedDict' : None\n   /  '<New><Instance>PushomeCollectionOrderedDict' : \n   /   /{ \n   /   /  'FirstChildPusher' : < (PusherClass), 4555018576>\n   /   /   /{ \n   /   /   /  '<New><Instance>IdInt' : 4555018576\n   /   /   /  '<New><Instance>MyInt' : 0\n   /   /   /  '<New><Instance>NodeCollectionStr' : Pushome\n   /   /   /  '<New><Instance>NodeIndexInt' : 0\n   /   /   /  '<New><Instance>NodeKeyStr' : FirstChildPusher\n   /   /   /  '<New><Instance>NodePointDeriveNoder' : {...}< (PusherClass), 4555340112>\n   /   /   /  '<New><Instance>NodePointOrderedDict' : {...}< (OrderedDict), 4554959840>\n   /   /   /  '<Spe><Class>PushingStoreListsList' : None\n   /   /   /}\n   /   /  'SecondChildPusher' : < (PusherClass), 4555018704>\n   /   /   /{ \n   /   /   /  '<New><Instance>IdInt' : 4555018704\n   /   /   /  '<New><Instance>NodeCollectionStr' : Pushome\n   /   /   /  '<New><Instance>NodeIndexInt' : 1\n   /   /   /  '<New><Instance>NodeKeyStr' : SecondChildPusher\n   /   /   /  '<New><Instance>NodePointDeriveNoder' : {...}< (PusherClass), 4555340112>\n   /   /   /  '<New><Instance>NodePointOrderedDict' : {...}< (OrderedDict), 4554959840>\n   /   /   /  '<Spe><Class>PushingStoreListsList' : None\n   /   /   /}\n   /   /}\n   /  '<Spe><Instance>PushingStoreListsList' : \n   /   /[\n   /   /  0 : \n   /   /   /[\n   /   /   /  0 : FirstChild\n   /   /   /  1 : {...}< (PusherClass), 4555018576>\n   /   /   /]\n   /   /  1 : \n   /   /   /[\n   /   /   /  0 : SecondChild\n   /   /   /  1 : {...}< (PusherClass), 4555018704>\n   /   /   /]\n   /   /]\n   /}\n\n*****End of the Attest *****\n\n\n\n```\n", 
          "cell_type": "markdown", 
          "metadata": {}
        }
      ]
    }
  ], 
  "metadata": {
    "name": "", 
    "signature": ""
  }, 
  "nbformat_minor": 0
}