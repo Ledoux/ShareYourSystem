{
  "nbformat": 3, 
  "worksheets": [
    {
      "cells": [
        {
          "source": [
            "#Gatherer\n", 
            " @Date : Fri Nov 14 13:20:38 2014 \n\n@Author : Erwan Ledoux \n\n\n\nA Gatherer is able to pick several times and flat all the results in a one dimension of ItemTuplesList\n\n\n"
          ], 
          "cell_type": "markdown", 
          "metadata": {}
        }, 
        {
          "source": "\n<!--\nFrozenIsBool False\n-->\n\nView the Gatherer sources on [Github](https://github.com/Ledoux/ShareYourSystem/tree/master/ShareYourSystem/Applyiers/Installer)\n\n", 
          "cell_type": "markdown", 
          "prompt_number": 0, 
          "metadata": {}
        }, 
        {
          "source": "\n<!---\nFrozenIsBool True\n-->\n\n##Example\n\nLet's create an empty class, which will automatically receive\nspecial attributes from the decorating ClassorClass,\nspecially the NameStr, that should be the ClassStr\nwithout the TypeStr in the end.", 
          "cell_type": "markdown", 
          "prompt_number": 1, 
          "metadata": {}
        }, 
        {
          "source": "```python\n#ImportModules\nimport ShareYourSystem as SYS\nfrom ShareYourSystem.Applyiers import Gatherer\n\n#Definition a Gatherer\nMyGatherer=Gatherer.GathererClass().map('__setitem__',map(\n        lambda __ItemTuple:\n        {'LiargVariablesList':__ItemTuple},\n        [\n            ('MyInt',0),\n            ('FirstChildGatherer',Gatherer.GathererClass().__setitem__(\n                    'MyStr',\n                    \"bonjour\"\n                    )\n            ),\n            ('SecondChildGatherer',Gatherer.GathererClass().__setitem__(\n                    'MyStr',\n                    \"hello\"\n                    )\n            )\n        ]\n    )\n)\n\n#Map some gets\nGatheredVariablesList=MyGatherer.gather(\n                            [\n                                ['MyInt'],\n                                ['/FirstChildGatherer/MyStr','/SecondChildGatherer/MyStr']\n                            ]\n                        )\n        \n#Definition the AttestedStr\nSYS._attest(\n    [\n        'GatheredVariablesList is '+SYS._str(\n            GatheredVariablesList\n            ,**{\n                    'RepresentingBaseKeyStrsListBool':False,\n                    'RepresentingAlineaIsBool':False\n            }\n        )\n    ]\n) \n\n#Print\n\n\n\n```\n", 
          "cell_type": "markdown", 
          "metadata": {}
        }, 
        {
          "source": "```console\n>>>\n\n\n*****Start of the Attest *****\n\nGatheredVariablesList is \n   /[\n   /  0 : ('MyInt', 0)\n   /  1 : ('/FirstChildGatherer/MyStr', 'bonjour')\n   /  2 : ('/SecondChildGatherer/MyStr', 'hello')\n   /]\n\n*****End of the Attest *****\n\n\n\n```\n", 
          "cell_type": "markdown", 
          "metadata": {}
        }
      ]
    }
  ], 
  "metadata": {
    "name": "", 
    "signature": ""
  }, 
  "nbformat_minor": 0
}