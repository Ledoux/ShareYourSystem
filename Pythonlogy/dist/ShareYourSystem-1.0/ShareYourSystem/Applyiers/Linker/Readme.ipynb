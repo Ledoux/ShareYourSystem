{
  "nbformat": 3, 
  "worksheets": [
    {
      "cells": [
        {
          "source": [
            "#Linker\n", 
            " @Date : Fri Nov 14 13:20:38 2014 \n\n@Author : Erwan Ledoux \n\n\n\nAn Linker maps a point\n\n\n"
          ], 
          "cell_type": "markdown", 
          "metadata": {}
        }, 
        {
          "source": "\n<!--\nFrozenIsBool False\n-->\n\nView the Linker sources on [Github](https://github.com/Ledoux/ShareYourSystem/tree/master/ShareYourSystem/Applyiers/Installer)\n\n", 
          "cell_type": "markdown", 
          "prompt_number": 0, 
          "metadata": {}
        }, 
        {
          "source": "\n<!---\nFrozenIsBool True\n-->\n\n##Example\n\nLet's create an empty class, which will automatically receive\nspecial attributes from the decorating ClassorClass,\nspecially the NameStr, that should be the ClassStr\nwithout the TypeStr in the end.", 
          "cell_type": "markdown", 
          "prompt_number": 1, 
          "metadata": {}
        }, 
        {
          "source": "```python\n#ImportModules\nimport ShareYourSystem as SYS\nfrom ShareYourSystem.Itemizers import Pather\nfrom ShareYourSystem.Applyiers import Linker\n\n#Update several things\nMyLinker=Linker.LinkerClass().update(\n    map(\n            lambda __Int:\n            (str(__Int)+'Pather',Pather.PatherClass()),\n            xrange(3)\n        )\n)\n\n#link\nMyLinker.link(\n        map(\n                lambda __Int:\n                (str(__Int)+'Pather','/'+str(__Int-1)+'Pather/'+str(__Int)+'Pather') \n                if __Int>0\n                else\n                (str(0)+'Pather','/2Pather/0Pather'),\n                xrange(3)\n            )\n        )\n\n#Definition the AttestedStr\nSYS._attest(\n    [\n        'MyLinker is '+SYS._str(\n        MyLinker,\n        **{\n            'RepresentingBaseKeyStrsListBool':False,\n            'RepresentingAlineaIsBool':False\n        }\n        )\n    ]\n)  \n\n#Print\n\n\n\n```\n", 
          "cell_type": "markdown", 
          "metadata": {}
        }, 
        {
          "source": "```console\n>>>\nDoer l.132 : DoerStr is Linker\nDoStr is Link\nDoMethodStr is link\nDoingStr is Linking\nDoneStr is Linked\n\n\n\n*****Start of the Attest *****\n\nMyLinker is < (LinkerClass), 4365180176>\n   /{ \n   /  '<New><Instance>0Pather' : < (PatherClass), 4365180048>\n   /   /{ \n   /   /  '<New><Instance>1Pather' : < (PatherClass), 4365179664>\n   /   /   /{ \n   /   /   /  '<New><Instance>2Pather' : < (PatherClass), 4365180688>\n   /   /   /   /{ \n   /   /   /   /  '<New><Instance>0Pather' : {...}< (PatherClass), 4365180048>\n   /   /   /   /  '<New><Instance>IdString' : 4365180688\n   /   /   /   /  '<Spe><Class>PathedChildKeyStr' : \n   /   /   /   /  '<Spe><Class>PathedGetKeyStr' : \n   /   /   /   /  '<Spe><Class>PathedKeyStrsList' : None\n   /   /   /   /  '<Spe><Class>PathingKeyStr' : \n   /   /   /   /}\n   /   /   /  '<New><Instance>IdString' : 4365179664\n   /   /   /  '<Spe><Class>PathedChildKeyStr' : \n   /   /   /  '<Spe><Class>PathedGetKeyStr' : \n   /   /   /  '<Spe><Class>PathedKeyStrsList' : None\n   /   /   /  '<Spe><Class>PathingKeyStr' : \n   /   /   /}\n   /   /  '<New><Instance>IdString' : 4365180048\n   /   /  '<Spe><Class>PathedChildKeyStr' : \n   /   /  '<Spe><Class>PathedGetKeyStr' : \n   /   /  '<Spe><Class>PathedKeyStrsList' : None\n   /   /  '<Spe><Class>PathingKeyStr' : \n   /   /}\n   /  '<New><Instance>1Pather' : {...}< (PatherClass), 4365179664>\n   /  '<New><Instance>2Pather' : {...}< (PatherClass), 4365180688>\n   /  '<New><Instance>ApplyingIsBool' : True\n   /  '<New><Instance>IdString' : 4365180176\n   /  '<Spe><Instance>LinkingPointListsList' : \n   /   /[\n   /   /  0 : ('0Pather', '/2Pather/0Pather')\n   /   /  1 : ('1Pather', '/0Pather/1Pather')\n   /   /  2 : ('2Pather', '/1Pather/2Pather')\n   /   /]\n   /}\n\n*****End of the Attest *****\n\n\n\n```\n", 
          "cell_type": "markdown", 
          "metadata": {}
        }
      ]
    }
  ], 
  "metadata": {
    "name": "", 
    "signature": ""
  }, 
  "nbformat_minor": 0
}