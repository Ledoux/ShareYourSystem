{
  "nbformat": 3, 
  "worksheets": [
    {
      "cells": [
        {
          "source": [
            "#Poker\n", 
            " @Date : Fri Nov 14 13:20:38 2014 \n\n@Author : Erwan Ledoux \n\n\n\nPoker instances\n\n\n"
          ], 
          "cell_type": "markdown", 
          "metadata": {}
        }, 
        {
          "source": "\n<!--\nFrozenIsBool False\n-->\n\nView the Poker sources on [Github](https://github.com/Ledoux/ShareYourSystem/tree/master/ShareYourSystem/Applyiers/Installer)\n\n", 
          "cell_type": "markdown", 
          "prompt_number": 0, 
          "metadata": {}
        }, 
        {
          "source": "```python\n\n#ImportModules\nimport ShareYourSystem as SYS\nfrom ShareYourSystem.Applyiers import Poker\n\n#push\nMyPoker=Poker.PokerClass().push(\n    [\n        [\n            'FirstChild',\n            Poker.PokerClass()\n        ],\n        [\n            'SecondChild',\n            Poker.PokerClass()\n        ],\n        [\n            'ThirdChild',\n            Poker.PokerClass()\n        ]\n    ],\n    **{'CollectingCollectionStr':\"Pokome\"}\n)\n\n\nMyPoker['<Pokome>ThirdChildPoker'].poke(\n        'Relatome',\n        [\n            '/NodePointDeriveNoder/<Pokome>FirstChildPoker',\n            '/NodePointDeriveNoder/<Pokome>SecondChildPoker'\n        ]\n    )\n\n#Definition the AttestedStr\nSYS._attest(\n    [\n        'MyPoker is '+SYS._str(\n        MyPoker,\n        **{\n            'RepresentingBaseKeyStrsListBool':False,\n            'RepresentingAlineaIsBool':False\n        }\n        )\n    ]\n) \n\n#Print\n\n\n\n```\n", 
          "cell_type": "markdown", 
          "metadata": {}
        }, 
        {
          "source": "```console\n>>>\nDoer l.132 : DoerStr is Walker\nDoStr is Walk\nDoMethodStr is walk\nDoingStr is Walking\nDoneStr is Walked\n\nDoer l.132 : DoerStr is Cumulater\nDoStr is Cumulate\nDoMethodStr is cumulate\nDoingStr is Cumulating\nDoneStr is Cumulated\n\nDoer l.132 : DoerStr is Visiter\nDoStr is Visit\nDoMethodStr is visit\nDoingStr is Visiting\nDoneStr is Visited\n\nDoer l.132 : DoerStr is Recruiter\nDoStr is Recruit\nDoMethodStr is recruit\nDoingStr is Recruiting\nDoneStr is Recruit\n\nDoer l.132 : DoerStr is Mobilizer\nDoStr is Mobilize\nDoMethodStr is mobilize\nDoingStr is Mobilizing\nDoneStr is Mobilized\n\nDoer l.132 : DoerStr is Router\nDoStr is Route\nDoMethodStr is route\nDoingStr is Routing\nDoneStr is Routed\n\nDoer l.132 : DoerStr is Grabber\nDoStr is Grab\nDoMethodStr is grab\nDoingStr is Grabbing\nDoneStr is Grabbed\n\nDoer l.132 : DoerStr is Poker\nDoStr is Poke\nDoMethodStr is poke\nDoingStr is Poking\nDoneStr is Poked\n\n\n\n*****Start of the Attest *****\n\nMyPoker is < (PokerClass), 4365222032>\n   /{ \n   /  '<New><Instance>ApplyingIsBool' : True\n   /  '<New><Instance>IdString' : 4365222032\n   /  '<New><Instance>NodeCollectionStr' : Global\n   /  '<New><Instance>NodeIndexInt' : -1\n   /  '<New><Instance>NodeKeyStr' : \n   /  '<New><Instance>NodePointDeriveNoder' : None\n   /  '<New><Instance>NodePointOrderedDict' : None\n   /  '<New><Instance>PokomeCollectionOrderedDict' : \n   /   /{ \n   /   /  'FirstChildPoker' : < (PokerClass), 4365385040>\n   /   /   /{ \n   /   /   /  '<New><Instance>IdString' : 4365385040\n   /   /   /  '<New><Instance>NodeCollectionStr' : Pokome\n   /   /   /  '<New><Instance>NodeIndexInt' : 0\n   /   /   /  '<New><Instance>NodeKeyStr' : FirstChildPoker\n   /   /   /  '<New><Instance>NodePointDeriveNoder' : {...}< (PokerClass), 4365222032>\n   /   /   /  '<New><Instance>NodePointOrderedDict' : {...}< (OrderedDict), 4365456920>\n   /   /   /  '<Spe><Class>PokingGetStrsList' : None\n   /   /   /  '<Spe><Class>PokingNodeStr' : \n   /   /   /}\n   /   /  'SecondChildPoker' : < (PokerClass), 4365385360>\n   /   /   /{ \n   /   /   /  '<New><Instance>IdString' : 4365385360\n   /   /   /  '<New><Instance>NodeCollectionStr' : Pokome\n   /   /   /  '<New><Instance>NodeIndexInt' : 1\n   /   /   /  '<New><Instance>NodeKeyStr' : SecondChildPoker\n   /   /   /  '<New><Instance>NodePointDeriveNoder' : {...}< (PokerClass), 4365222032>\n   /   /   /  '<New><Instance>NodePointOrderedDict' : {...}< (OrderedDict), 4365456920>\n   /   /   /  '<Spe><Class>PokingGetStrsList' : None\n   /   /   /  '<Spe><Class>PokingNodeStr' : \n   /   /   /}\n   /   /  'ThirdChildPoker' : < (PokerClass), 4365484816>\n   /   /   /{ \n   /   /   /  '<New><Instance>IdString' : 4365484816\n   /   /   /  '<New><Instance>NodeCollectionStr' : Pokome\n   /   /   /  '<New><Instance>NodeIndexInt' : 2\n   /   /   /  '<New><Instance>NodeKeyStr' : ThirdChildPoker\n   /   /   /  '<New><Instance>NodePointDeriveNoder' : {...}< (PokerClass), 4365222032>\n   /   /   /  '<New><Instance>NodePointOrderedDict' : {...}< (OrderedDict), 4365456920>\n   /   /   /  '<Spe><Instance>PokingGetStrsList' : ['/NodePointDeriveNoder/<Pokome>FirstChildPoker', '/NodePointDeriveNoder/<Pokome>SecondChildPoker']\n   /   /   /  '<Spe><Instance>PokingNodeStr' : Relatome\n   /   /   /}\n   /   /}\n   /  '<Spe><Class>PokingGetStrsList' : None\n   /  '<Spe><Class>PokingNodeStr' : \n   /}\n\n*****End of the Attest *****\n\n\n\n```\n", 
          "cell_type": "markdown", 
          "metadata": {}
        }
      ]
    }
  ], 
  "metadata": {
    "name": "", 
    "signature": ""
  }, 
  "nbformat_minor": 0
}