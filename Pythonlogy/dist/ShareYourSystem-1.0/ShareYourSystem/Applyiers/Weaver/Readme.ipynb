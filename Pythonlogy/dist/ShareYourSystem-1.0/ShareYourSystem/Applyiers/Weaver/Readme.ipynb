{
  "nbformat": 3, 
  "worksheets": [
    {
      "cells": [
        {
          "source": "\n<!--\nFrozenIsBool False\n-->\n\n#Weaver\n\n##Doc\n----\n\n\n> \n> A Weaver\n> \n> \n\n----\n\n<small>\nView the Weaver notebook on [NbViewer](http://nbviewer.ipython.org/url/shareyoursystem.ouvaton.org/Weaver.ipynb)\n</small>\n\n", 
          "cell_type": "markdown", 
          "prompt_number": 0, 
          "metadata": {
            "slideshow": {
              "slide_type": "slide"
            }
          }
        }, 
        {
          "source": "\n<!--\nFrozenIsBool False\n-->\n\n##Code\n\n----\n\n<ClassDocStr>\n\n----\n\n```python\n# -*- coding: utf-8 -*-\n\"\"\"\n\n\n<DefineSource>\n@Date : Fri Nov 14 13:20:38 2014 \\n\n@Author : Erwan Ledoux \\n\\n\n</DefineSource>\n\n\nA Weaver\n\n\"\"\"\n\n#<DefineAugmentation>\nimport ShareYourSystem as SYS\nBaseModuleStr=\"ShareYourSystem.Applyiers.Linker\"\nDecorationModuleStr=\"ShareYourSystem.Classors.Classer\"\nSYS.setSubModule(globals())\n#</DefineAugmentation>\n\n#<ImportSpecificModules>\n#</ImportSpecificModules>\n\n#<DefineClass>\n@DecorationClass()\nclass WeaverClass(BaseClass):\n\t\n\t#Definition\n\tRepresentingKeyStrsList=[\n\t\t\t\t\t\t\t\t\t'WeavingInteractTuplesList'\n\t\t\t\t\t\t\t\t]\n\n\tdef default_init(self,\n\t\t\t\t_WeavingInteractTuplesList=None,\n\t\t\t\t**_KwargVariablesDict):\n\n\t\t#Call the parent __init__ method\n\t\tBaseClass.__init__(self,**_KwargVariablesDict)\n\n\tdef do_weave(self):\n\t\t\"\"\" \"\"\"\n\n\t\t#debug\n\t\t'''\n\t\tself.debug(\"self.UpdatingItemVariable is \"+Representer.represent(\n\t\t\tself.UpdatingItemVariable,**{'RepresentingAlineaIsBool':False}))\n\t\t'''\n\n\t\t#Apply\n\t\tself.map('interact',map(\n\t\t\t\t\t\t\t\t\tlambda __WeavingInteractTuple:\n\t\t\t\t\t\t\t\t\t{'LiargVariablesList':__WeavingInteractTuple},\n\t\t\t\t\t\t\t\t\tself.WeavingInteractTuplesList\n\t\t\t\t\t\t\t\t)\n\t\t)\n\n\t\t#Return\n\t\t#return self\n#</DefineClass>\n\n\n```\n\n<small>\nView the Weaver sources on <a href=\"https://github.com/Ledoux/ShareYourSystem/tree/master/Pythonlogy/ShareYourSystem/Applyiers/Weaver\" target=\"_blank\">Github</a>\n</small>\n\n", 
          "cell_type": "markdown", 
          "prompt_number": 1, 
          "metadata": {
            "slideshow": {
              "slide_type": "subslide"
            }
          }
        }, 
        {
          "source": "\n<!---\nFrozenIsBool True\n-->\n\n##Example\n\nLet's create an empty class, which will automatically receive\nspecial attributes from the decorating ClassorClass,\nspecially the NameStr, that should be the ClassStr\nwithout the TypeStr in the end.", 
          "cell_type": "markdown", 
          "prompt_number": 2, 
          "metadata": {
            "slideshow": {
              "slide_type": "subslide"
            }
          }
        }, 
        {
          "source": "```python\n#ImportModules\nimport ShareYourSystem as SYS\nfrom ShareYourSystem.Itemizers import Pointer\nfrom ShareYourSystem.Applyiers import Weaver\n\n#Update several things\nMyWeaver=Weaver.WeaverClass().update(\n    map(\n            lambda __Int:\n            (\n                str(__Int)+'Pointer',\n                Pointer.PointerClass()\n            ),\n            xrange(3)\n        )\n).weave(\n        map(\n                lambda __Int:\n                (\n                    [\n                        str(__Int)+'Pointer',\n                        str(__Int-1)+'Pointer',\n                    ],\n                    str(__Int)+'-'+str(__Int-1)+'Pointer',\n                    Pointer.PointerClass()\n                )\n                if __Int>0\n                else\n                (\n                    [\n                        str(0)+'Pointer',\n                        str(2)+'Pointer',\n                    ],\n                    str(0)+'-'+str(2)+'Pointer',\n                    Pointer.PointerClass()\n                ),\n                xrange(3)\n            )\n        )\n    \n#Definition the AttestedStr\nSYS._attest(\n    [\n        'MyWeaver is '+SYS._str(\n        MyWeaver,\n        **{\n            'RepresentingBaseKeyStrsListBool':False,\n            'RepresentingAlineaIsBool':False\n        }\n        )\n    ]\n)  \n\n#Print\n\n\n\n```\n", 
          "cell_type": "markdown", 
          "metadata": {}
        }, 
        {
          "source": "```console\n>>>\n\n\n*****Start of the Attest *****\n\nMyWeaver is < (WeaverClass), 4554324496>\n   /{ \n   /  '<New><Instance>0Pointer' : < (PointerClass), 4554325712>\n   /   /{ \n   /   /  '<New><Instance>IdInt' : 4554325712\n   /   /  '<Spe><Class>PointedBackSetStr' : \n   /   /  '<Spe><Class>PointedGetVariable' : None\n   /   /  '<Spe><Class>PointedLocalSetStr' : \n   /   /  '<Spe><Class>PointedPathBackVariable' : \n   /   /  '<Spe><Class>PointingBackSetStr' : \n   /   /  '<Spe><Class>PointingGetVariable' : None\n   /   /  '<Spe><Class>PointingSetPathStr' : \n   /   /}\n   /  '<New><Instance>1Pointer' : < (PointerClass), 4554325776>\n   /   /{ \n   /   /  '<New><Instance>IdInt' : 4554325776\n   /   /  '<Spe><Class>PointedBackSetStr' : \n   /   /  '<Spe><Class>PointedGetVariable' : None\n   /   /  '<Spe><Class>PointedLocalSetStr' : \n   /   /  '<Spe><Class>PointedPathBackVariable' : \n   /   /  '<Spe><Class>PointingBackSetStr' : \n   /   /  '<Spe><Class>PointingGetVariable' : None\n   /   /  '<Spe><Class>PointingSetPathStr' : \n   /   /}\n   /  '<New><Instance>2Pointer' : < (PointerClass), 4554325840>\n   /   /{ \n   /   /  '<New><Instance>IdInt' : 4554325840\n   /   /  '<Spe><Class>PointedBackSetStr' : \n   /   /  '<Spe><Class>PointedGetVariable' : None\n   /   /  '<Spe><Class>PointedLocalSetStr' : \n   /   /  '<Spe><Class>PointedPathBackVariable' : \n   /   /  '<Spe><Class>PointingBackSetStr' : \n   /   /  '<Spe><Class>PointingGetVariable' : None\n   /   /  '<Spe><Class>PointingSetPathStr' : \n   /   /}\n   /  '<New><Instance>IdInt' : 4554324496\n   /  '<Spe><Instance>WeavingInteractTuplesList' : \n   /   /[\n   /   /  0 : \n   /   /   /(\n   /   /   /  0 : ['0Pointer', '2Pointer']\n   /   /   /  1 : 0-2Pointer\n   /   /   /  2 : < (PointerClass), 4554325904>\n   /   /   /   /{ \n   /   /   /   /  '<New><Instance>IdInt' : 4554325904\n   /   /   /   /  '<Spe><Class>PointedBackSetStr' : \n   /   /   /   /  '<Spe><Class>PointedGetVariable' : None\n   /   /   /   /  '<Spe><Class>PointedLocalSetStr' : \n   /   /   /   /  '<Spe><Class>PointedPathBackVariable' : \n   /   /   /   /  '<Spe><Class>PointingBackSetStr' : \n   /   /   /   /  '<Spe><Class>PointingGetVariable' : None\n   /   /   /   /  '<Spe><Class>PointingSetPathStr' : \n   /   /   /   /}\n   /   /   /)\n   /   /  1 : \n   /   /   /(\n   /   /   /  0 : ['1Pointer', '0Pointer']\n   /   /   /  1 : 1-0Pointer\n   /   /   /  2 : < (PointerClass), 4554325968>\n   /   /   /   /{ \n   /   /   /   /  '<New><Instance>IdInt' : 4554325968\n   /   /   /   /  '<Spe><Class>PointedBackSetStr' : \n   /   /   /   /  '<Spe><Class>PointedGetVariable' : None\n   /   /   /   /  '<Spe><Class>PointedLocalSetStr' : \n   /   /   /   /  '<Spe><Class>PointedPathBackVariable' : \n   /   /   /   /  '<Spe><Class>PointingBackSetStr' : \n   /   /   /   /  '<Spe><Class>PointingGetVariable' : None\n   /   /   /   /  '<Spe><Class>PointingSetPathStr' : \n   /   /   /   /}\n   /   /   /)\n   /   /  2 : \n   /   /   /(\n   /   /   /  0 : ['2Pointer', '1Pointer']\n   /   /   /  1 : 2-1Pointer\n   /   /   /  2 : < (PointerClass), 4555337808>\n   /   /   /   /{ \n   /   /   /   /  '<New><Instance>IdInt' : 4555337808\n   /   /   /   /  '<Spe><Class>PointedBackSetStr' : \n   /   /   /   /  '<Spe><Class>PointedGetVariable' : None\n   /   /   /   /  '<Spe><Class>PointedLocalSetStr' : \n   /   /   /   /  '<Spe><Class>PointedPathBackVariable' : \n   /   /   /   /  '<Spe><Class>PointingBackSetStr' : \n   /   /   /   /  '<Spe><Class>PointingGetVariable' : None\n   /   /   /   /  '<Spe><Class>PointingSetPathStr' : \n   /   /   /   /}\n   /   /   /)\n   /   /]\n   /}\n\n*****End of the Attest *****\n\n\n\n```\n", 
          "cell_type": "markdown", 
          "metadata": {}
        }
      ]
    }
  ], 
  "metadata": {
    "name": "", 
    "signature": ""
  }, 
  "nbformat_minor": 0
}