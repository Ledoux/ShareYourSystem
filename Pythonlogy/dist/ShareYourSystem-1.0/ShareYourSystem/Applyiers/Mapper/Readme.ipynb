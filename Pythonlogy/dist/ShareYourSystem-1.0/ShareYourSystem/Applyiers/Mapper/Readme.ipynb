{
  "nbformat": 3, 
  "worksheets": [
    {
      "cells": [
        {
          "source": [
            "#Mapper\n", 
            " @Date : Fri Nov 14 13:20:38 2014 \n\n@Author : Erwan Ledoux \n\n\n\nA Mapper instance maps an apply and so \"grinds\" a MappingArgDictsList to a method.\n\n\n"
          ], 
          "cell_type": "markdown", 
          "metadata": {}
        }, 
        {
          "source": "\n<!--\nFrozenIsBool False\n-->\n\nView the Mapper sources on [Github](https://github.com/Ledoux/ShareYourSystem/tree/master/ShareYourSystem/Applyiers/Installer)\n\n", 
          "cell_type": "markdown", 
          "prompt_number": 0, 
          "metadata": {}
        }, 
        {
          "source": "\n<!---\nFrozenIsBool True\n-->\n\n##Example\n\nLet's create an empty class, which will automatically receive\nspecial attributes from the decorating ClassorClass,\nspecially the NameStr, that should be the ClassStr\nwithout the TypeStr in the end.", 
          "cell_type": "markdown", 
          "prompt_number": 1, 
          "metadata": {}
        }, 
        {
          "source": "```python\n\n#ImportModules\nimport ShareYourSystem as SYS\nfrom ShareYourSystem.Applyiers import Mapper\n\n#Definition a Getter\nMyMapper=Mapper.MapperClass().map(\n    '__setitem__',\n    [\n        {'LiargVariablesList':['MyStr',\"Hello\"]},\n        {'LiargVariablesList':['MyThirdStr',\"GutenTag\"]},\n        {'LiargVariablesList':['map',\n                                        {\n                                            'LiargVariablesList':\n                                            [\n                                                '__setitem__',\n                                                [\n                                                    {\n                                                        'LiargVariablesList':\n                                                        ['MyInt',0]\n                                                    },\n                                                    {\n                                                        'LiargVariablesList':\n                                                        ['MyFloat',0.1]\n                                                    }\n                                                ]\n                                            ]\n                                        }\n                                    \n                            ]},\n        {'LiargVariablesList':['MyNotLostStr',\"ben he\"]},\n    ]\n)\n        \n#Definition the AttestedStr\nSYS._attest(\n    [\n        'MyMapper is '+SYS._str(\n        MyMapper,\n        **{\n            'RepresentingBaseKeyStrsListBool':False\n        }\n        )\n    ]\n)  \n\n#Print\n\n\n\n```\n", 
          "cell_type": "markdown", 
          "metadata": {}
        }, 
        {
          "source": "```console\n>>>\n\n\n*****Start of the Attest *****\n\nMyMapper is < (MapperClass), 4365116752>\n   /{ \n   /  '<New><Instance>ApplyingIsBool' : True\n   /  '<New><Instance>IdString' : 4365116752\n   /  '<New><Instance>MyFloat' : 0.1\n   /  '<New><Instance>MyInt' : 0\n   /  '<New><Instance>MyNotLostStr' : ben he\n   /  '<New><Instance>MyStr' : Hello\n   /  '<New><Instance>MyThirdStr' : GutenTag\n   /  '<Spe><Instance>MappedVariablesList' : \n   /   /[\n   /   /  0 : {...}< (MapperClass), 4365116752>\n   /   /  1 : {...}< (MapperClass), 4365116752>\n   /   /  2 : {...}< (MapperClass), 4365116752>\n   /   /  3 : {...}< (MapperClass), 4365116752>\n   /   /]\n   /  '<Spe><Instance>MappingApplyMethodStr' : __setitem__\n   /  '<Spe><Instance>MappingArgDictsList' : \n   /   /[\n   /   /  0 : \n   /   /   /{ \n   /   /   /  'LiargVariablesList' : ['MyInt', 0]\n   /   /   /}\n   /   /  1 : \n   /   /   /{ \n   /   /   /  'LiargVariablesList' : ['MyFloat', 0.1]\n   /   /   /}\n   /   /]\n   /}\n\n*****End of the Attest *****\n\n\n\n```\n", 
          "cell_type": "markdown", 
          "metadata": {}
        }
      ]
    }
  ], 
  "metadata": {
    "name": "", 
    "signature": ""
  }, 
  "nbformat_minor": 0
}