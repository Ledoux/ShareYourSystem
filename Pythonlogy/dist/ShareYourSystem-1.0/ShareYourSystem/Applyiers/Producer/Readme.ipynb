{
  "nbformat": 3, 
  "worksheets": [
    {
      "cells": [
        {
          "source": [
            "#Producer\n", 
            " @Date : Fri Nov 14 13:20:38 2014 \n\n@Author : Erwan Ledoux \n\n\n\nProducer instances\n\n\n"
          ], 
          "cell_type": "markdown", 
          "metadata": {}
        }, 
        {
          "source": "\n<!--\nFrozenIsBool False\n-->\n\nView the Producer sources on [Github](https://github.com/Ledoux/ShareYourSystem/tree/master/ShareYourSystem/Applyiers/Installer)\n\n", 
          "cell_type": "markdown", 
          "prompt_number": 0, 
          "metadata": {}
        }, 
        {
          "source": "```python\n\n#ImportModules\nimport ShareYourSystem as SYS\nfrom ShareYourSystem.Noders import Storer\nfrom ShareYourSystem.Applyiers import Producer\n\n#produce\nMyProducer=Producer.ProducerClass().produce(\n        ['First','Second'],\n        Storer.StorerClass,\n        {'MyInt':0},\n        **{'CollectingCollectionStr':'Nodome'}\n    )\n\n#Definition the AttestedStr\nSYS._attest(\n    [\n        'MyProducer is '+SYS._str(\n        MyProducer,\n        **{\n            'RepresentingBaseKeyStrsListBool':False,\n            'RepresentingAlineaIsBool':False\n        }\n        )\n    ]\n) \n\n#Print\n\n\n\n```\n", 
          "cell_type": "markdown", 
          "metadata": {}
        }, 
        {
          "source": "```console\n>>>\n\n\n*****Start of the Attest *****\n\nMyProducer is < (ProducerClass), 4365385552>\n   /{ \n   /  '<New><Instance>ApplyingIsBool' : True\n   /  '<New><Instance>IdString' : 4365385552\n   /  '<New><Instance>NodeCollectionStr' : Global\n   /  '<New><Instance>NodeIndexInt' : -1\n   /  '<New><Instance>NodeKeyStr' : \n   /  '<New><Instance>NodePointDeriveNoder' : None\n   /  '<New><Instance>NodePointOrderedDict' : None\n   /  '<New><Instance>NodomeCollectionOrderedDict' : \n   /   /{ \n   /   /  'FirstStorer' : < (StorerClass), 4364535504>\n   /   /   /{ \n   /   /   /  '<New><Instance>ApplyingIsBool' : True\n   /   /   /  '<New><Instance>IdString' : 4364535504\n   /   /   /  '<New><Instance>MyInt' : 0\n   /   /   /  '<New><Instance>NodeCollectionStr' : Nodome\n   /   /   /  '<New><Instance>NodeIndexInt' : 0\n   /   /   /  '<New><Instance>NodeKeyStr' : FirstStorer\n   /   /   /  '<New><Instance>NodePointDeriveNoder' : {...}< (ProducerClass), 4365385552>\n   /   /   /  '<New><Instance>NodePointOrderedDict' : {...}< (OrderedDict), 4365152336>\n   /   /   /  '<Spe><Class>StoredGetStr' : \n   /   /   /  '<Spe><Class>StoredSuffixStr' : \n   /   /   /  '<Spe><Class>CollectingCollectionStr' : \n   /   /   /  '<Spe><Class>CollectingNodeKeyStr' : \n   /   /   /  '<Spe><Class>CollectingNodeVariable' : None\n   /   /   /}\n   /   /  'SecondStorer' : < (StorerClass), 4364535440>\n   /   /   /{ \n   /   /   /  '<New><Instance>ApplyingIsBool' : True\n   /   /   /  '<New><Instance>IdString' : 4364535440\n   /   /   /  '<New><Instance>MyInt' : 0\n   /   /   /  '<New><Instance>NodeCollectionStr' : Nodome\n   /   /   /  '<New><Instance>NodeIndexInt' : 1\n   /   /   /  '<New><Instance>NodeKeyStr' : SecondStorer\n   /   /   /  '<New><Instance>NodePointDeriveNoder' : {...}< (ProducerClass), 4365385552>\n   /   /   /  '<New><Instance>NodePointOrderedDict' : {...}< (OrderedDict), 4365152336>\n   /   /   /  '<Spe><Class>StoredGetStr' : \n   /   /   /  '<Spe><Class>StoredSuffixStr' : \n   /   /   /  '<Spe><Class>CollectingCollectionStr' : \n   /   /   /  '<Spe><Class>CollectingNodeKeyStr' : \n   /   /   /  '<Spe><Class>CollectingNodeVariable' : None\n   /   /   /}\n   /   /}\n   /  '<Spe><Instance>ProducedPushList' : \n   /   /[\n   /   /  0 : \n   /   /   /[\n   /   /   /  0 : First\n   /   /   /  1 : {...}< (StorerClass), 4364535504>\n   /   /   /]\n   /   /  1 : \n   /   /   /[\n   /   /   /  0 : Second\n   /   /   /  1 : {...}< (StorerClass), 4364535440>\n   /   /   /]\n   /   /]\n   /  '<Spe><Instance>ProducingCollectionKeyStrsList' : ['First', 'Second']\n   /  '<Spe><Instance>ProducingInitiateDict' : \n   /   /{ \n   /   /  'MyInt' : 0\n   /   /}\n   /  '<Spe><Instance>ProducingPushClass' : <class 'ShareYourSystem.Noders.Storer.StorerClass'>\n   /}\n\n*****End of the Attest *****\n\n\n\n```\n", 
          "cell_type": "markdown", 
          "metadata": {}
        }
      ]
    }
  ], 
  "metadata": {
    "name": "", 
    "signature": ""
  }, 
  "nbformat_minor": 0
}