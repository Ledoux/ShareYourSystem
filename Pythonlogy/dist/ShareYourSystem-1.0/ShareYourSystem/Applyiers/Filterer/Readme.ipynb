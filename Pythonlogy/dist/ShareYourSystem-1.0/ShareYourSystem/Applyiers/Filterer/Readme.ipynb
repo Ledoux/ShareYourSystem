{
  "nbformat": 3, 
  "worksheets": [
    {
      "cells": [
        {
          "source": "\n<!--\nFrozenIsBool False\n-->\n\nView the Filterer sources on [Github](https://github.com/Ledoux/ShareYourSystem/tree/master/ShareYourSystem/Applyiers/Installer)\n\n", 
          "cell_type": "markdown", 
          "prompt_number": 0, 
          "metadata": {
            "slideshow": {
              "slide_type": "slide"
            }
          }
        }, 
        {
          "source": "```python\n\n#ImportModules\nimport ShareYourSystem as SYS\nfrom ShareYourSystem.Applyiers import Filterer\nimport operator\n\n#Definition a Filter instance that is grouped\nMyFilterer=Filterer.FiltererClass().update(\n    [\n        ('NodeIndexInt',1),\n        ('NodeKeyStr','MyFilterer'),\n        (\n            'ConcludingConditionTuplesList',[\n                        (\n                            'NodeIndexInt',\n                            lambda _TestInt,_AttestInt:\n                                operator.lt(_TestInt,_AttestInt)\n                                if _TestInt!=None else False,\n                            2\n                        )\n                    ]\n                ),\n        (\n            'PickingGetKeyVariablesList',['NodeKeyStr']\n        )\n    ]\n).filter('/')\n\n    \n#Definition the AttestedStr\nSYS._attest(\n    [\n        'MyFilterer is '+SYS._str(\n        MyFilterer,\n        **{\n            'RepresentingBaseKeyStrsListBool':False,\n            'RepresentingAlineaIsBool':False\n        }\n        )\n    ]\n) \n\n\n\n```\n", 
          "cell_type": "markdown", 
          "metadata": {}
        }, 
        {
          "source": "```console\n>>>\n\n\n*****Start of the Attest *****\n\nMyFilterer is < (FiltererClass), 4549920656>\n   /{ \n   /  '<New><Instance>IdInt' : 4549920656\n   /  '<New><Instance>NodeIndexInt' : 1\n   /  '<New><Instance>NodeKeyStr' : MyFilterer\n   /  '<Spe><Instance>FilteredGetVariable' : {...}< (FiltererClass), 4549920656>\n   /  '<Spe><Instance>FilteredVariablesList' : ['MyFilterer']\n   /  '<Spe><Instance>FilteringGetVariable' : /\n   /}\n\n*****End of the Attest *****\n\n\n\n```\n", 
          "cell_type": "markdown", 
          "metadata": {}
        }
      ]
    }
  ], 
  "metadata": {
    "name": "", 
    "signature": ""
  }, 
  "nbformat_minor": 0
}