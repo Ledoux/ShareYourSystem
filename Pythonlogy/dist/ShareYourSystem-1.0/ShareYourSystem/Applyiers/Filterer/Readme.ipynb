{
  "nbformat": 3, 
  "worksheets": [
    {
      "cells": [
        {
          "source": [
            "#Filterer\n", 
            " @Date : Fri Nov 14 13:20:38 2014 \n\n@Author : Erwan Ledoux \n\n\n\nA Filterer pick and \n\n\n"
          ], 
          "cell_type": "markdown", 
          "metadata": {}
        }, 
        {
          "source": "\n<!--\nFrozenIsBool False\n-->\n\nView the Filterer sources on [Github](https://github.com/Ledoux/ShareYourSystem/tree/master/ShareYourSystem/Applyiers/Installer)\n\n", 
          "cell_type": "markdown", 
          "prompt_number": 0, 
          "metadata": {}
        }, 
        {
          "source": "```python\n\n#ImportModules\nimport ShareYourSystem as SYS\nfrom ShareYourSystem.Applyiers import Filterer\nimport operator\n\n#Definition a Filter instance that is grouped\nMyFilterer=Filterer.FiltererClass().update(\n    [    \n        ('NodeIndexInt',1),\n        ('NodeKeyStr','MyFilterer'),\n        (\n            'ConcludingConditionTuplesList',[\n                        (\n                            'NodeIndexInt',\n                            lambda _TestInt,_AttestInt:\n                                operator.lt(_TestInt,_AttestInt)\n                                if _TestInt!=None else False,\n                            2\n                        )\n                    ]\n                ),\n        (\n            'PickingGetKeyVariablesList',['NodeKeyStr']\n        )\n    ]\n).filter('/')\n\n        \n#Definition the AttestedStr\nSYS._attest(\n    [\n        'MyFilterer is '+SYS._str(\n        MyFilterer,\n        **{\n            'RepresentingBaseKeyStrsListBool':False,\n            'RepresentingAlineaIsBool':False\n        }\n        )\n    ]\n) \n\n\n\n```\n", 
          "cell_type": "markdown", 
          "metadata": {}
        }, 
        {
          "source": "```console\n>>>\n\n\n*****Start of the Attest *****\n\nMyFilterer is < (FiltererClass), 4364535504>\n   /{ \n   /  '<New><Instance>ApplyingIsBool' : True\n   /  '<New><Instance>IdString' : 4364535504\n   /  '<New><Instance>NodeIndexInt' : 1\n   /  '<New><Instance>NodeKeyStr' : MyFilterer\n   /  '<Spe><Instance>FilteredGetVariable' : {...}< (FiltererClass), 4364535504>\n   /  '<Spe><Instance>FilteredVariablesList' : ['MyFilterer']\n   /  '<Spe><Instance>FilteringGetVariable' : /\n   /}\n\n*****End of the Attest *****\n\n\n\n```\n", 
          "cell_type": "markdown", 
          "metadata": {}
        }
      ]
    }
  ], 
  "metadata": {
    "name": "", 
    "signature": ""
  }, 
  "nbformat_minor": 0
}