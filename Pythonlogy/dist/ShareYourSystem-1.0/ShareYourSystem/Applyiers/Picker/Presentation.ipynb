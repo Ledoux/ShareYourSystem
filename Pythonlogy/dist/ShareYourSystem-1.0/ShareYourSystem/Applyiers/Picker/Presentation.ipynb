{
  "nbformat": 3, 
  "worksheets": [
    {
      "cells": [
        {
          "source": "\n<!--\nFrozenIsBool False\n-->\n\n#Picker\n\n##Doc\n----\n\n\n> \n> A Picker maps a __getitem__\n> \n> \n\n----\n\n<small>\nView the Picker notebook on [NbViewer](http://nbviewer.ipython.org/url/shareyoursystem.ouvaton.org/Picker.ipynb)\n</small>\n\n", 
          "cell_type": "markdown", 
          "prompt_number": 0, 
          "metadata": {
            "slideshow": {
              "slide_type": "slide"
            }
          }
        }, 
        {
          "source": "\n<!--\nFrozenIsBool False\n-->\n\nView the Picker sources on [Github](https://github.com/Ledoux/ShareYourSystem/tree/master/ShareYourSystem/Applyiers/Installer)\n\n", 
          "cell_type": "markdown", 
          "prompt_number": 1, 
          "metadata": {
            "slideshow": {
              "slide_type": "subslide"
            }
          }
        }, 
        {
          "source": "\n<!---\nFrozenIsBool True\n-->\n\n##Example\n\nLet's create an empty class, which will automatically receive\nspecial attributes from the decorating ClassorClass,\nspecially the NameStr, that should be the ClassStr\nwithout the TypeStr in the end.", 
          "cell_type": "markdown", 
          "prompt_number": 2, 
          "metadata": {
            "slideshow": {
              "slide_type": "subslide"
            }
          }
        }, 
        {
          "cell_type": "code", 
          "prompt_number": 3, 
          "language": "python", 
          "input": [
            "\n", 
            "#ImportModules\n", 
            "import ShareYourSystem as SYS\n", 
            "from ShareYourSystem.Applyiers import Picker\n", 
            "\n", 
            "#Definition an Picker\n", 
            "MyPicker=Picker.PickerClass()\n", 
            "\n", 
            "#set some items\n", 
            "map(\n", 
            "        lambda __ItemTuple:\n", 
            "        MyPicker.__setitem__(__ItemTuple[0],__ItemTuple[1]),\n", 
            "        [\n", 
            "            ('MyInt',0),\n", 
            "            ('MyPicker',Picker.PickerClass().__setitem__('MyStr',\"hello\")),\n", 
            "        ]\n", 
            "    )\n", 
            "\n", 
            "#Map some gets\n", 
            "PickedVariablesList=MyPicker.pick(\n", 
            "    [\n", 
            "        #Get directly in the __dict__\n", 
            "        'MyInt',\n", 
            "        'MyPicker',\n", 
            "        #Get with a DeepShortStr\n", 
            "        '/MyPicker/MyStr'\n", 
            "    ]\n", 
            ")\n", 
            "\n", 
            "#Definition the AttestedStr\n", 
            "SYS._attest(\n", 
            "    [\n", 
            "        'PickedVariablesList is '+SYS._str(\n", 
            "            PickedVariablesList\n", 
            "            ,**{\n", 
            "                'RepresentingBaseKeyStrsListBool':False,\n", 
            "                'RepresentingAlineaIsBool':False\n", 
            "            }\n", 
            "        )\n", 
            "    ]\n", 
            ") \n", 
            "\n", 
            "#Print\n", 
            "\n", 
            "\n"
          ], 
          "outputs": [
            {
              "output_type": "stream", 
              "stream": "stdout", 
              "text": [
                "\n", 
                "\n", 
                "*****Start of the Attest *****\n", 
                "\n", 
                "PickedVariablesList is \n", 
                "   /[\n", 
                "   /  0 : 0\n", 
                "   /  1 : < (PickerClass), 4550544528>\n", 
                "   /   /{ \n", 
                "   /   /  '<New><Instance>IdInt' : 4550544528\n", 
                "   /   /  '<New><Instance>MyStr' : hello\n", 
                "   /   /}\n", 
                "   /  2 : hello\n", 
                "   /]\n", 
                "\n", 
                "*****End of the Attest *****\n", 
                "\n", 
                "\n"
              ]
            }
          ], 
          "collapsed": false, 
          "metadata": {
            "slideshow": {
              "slide_type": "-"
            }
          }
        }
      ]
    }
  ], 
  "metadata": {
    "name": "", 
    "signature": ""
  }, 
  "nbformat_minor": 0
}