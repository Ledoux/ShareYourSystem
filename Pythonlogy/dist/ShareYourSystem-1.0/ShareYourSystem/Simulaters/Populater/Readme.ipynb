{
  "nbformat": 3, 
  "worksheets": [
    {
      "cells": [
        {
          "source": "\n<!--\nFrozenIsBool False\n-->\n\n#Populater\n\n##Doc\n----\n\n\n> \n> A Populater\n> \n> \n\n----\n\n<small>\nView the Populater notebook on [NbViewer](http://nbviewer.ipython.org/url/shareyoursystem.ouvaton.org/Populater.ipynb)\n</small>\n\n", 
          "cell_type": "markdown", 
          "prompt_number": 0, 
          "metadata": {
            "slideshow": {
              "slide_type": "slide"
            }
          }
        }, 
        {
          "source": "\n<!--\nFrozenIsBool False\n-->\n\n##Code\n\n----\n\n<ClassDocStr>\n\n----\n\n```python\n# -*- coding: utf-8 -*-\n\"\"\"\n\n\n<DefineSource>\n@Date : Fri Nov 14 13:20:38 2014 \\n\n@Author : Erwan Ledoux \\n\\n\n</DefineSource>\n\n\nA Populater\n\n\"\"\"\n\n#<DefineAugmentation>\nimport ShareYourSystem as SYS\nBaseModuleStr=\"ShareYourSystem.Simulaters.Moniter\"\nDecorationModuleStr=\"ShareYourSystem.Classors.Classer\"\nSYS.setSubModule(globals())\n#</DefineAugmentation>\n\n#<DefineClass>\n@DecorationClass()\nclass PopulaterClass(BaseClass):\n\t\n\t#Definition\n\tRepresentingKeyStrsList=[\n\t\t\t\t\t\t\t\t'PopulatingUnitsInt',\n\t\t\t\t\t\t\t\t'PopulatingEquationStr',\n\t\t\t\t\t\t\t\t'PopulatingThresholdStr',\n\t\t\t\t\t\t\t\t'PopulatingResetStr',\n\t\t\t\t\t\t\t\t'PopulatingCommunicationDictsList'\n\t\t\t\t\t\t\t]\n\n\tdef default_init(self,\n\t\t\t\t\t\t_PopulatingUnitsInt=0,\n\t\t\t\t\t\t_PopulatingEquationStr='''\n\t\t\t\t\t\t\tdv/dt = (ge+gi-(v+49*mV))/(20*ms) : volt\n\t\t\t\t\t\t\tdge/dt = -ge/(5*ms) : volt\n\t\t\t\t\t\t\tdgi/dt = -gi/(10*ms) : volt\n\t\t\t\t\t\t''',\n\t\t\t\t\t\t_PopulatingThresholdStr='v>-50*mV',\n\t\t\t\t\t\t_PopulatingResetStr='v=-60*mV',\n\t\t\t\t\t\t_PopulatingCommunicationDictsList=None,\n\t\t\t\t\t\t**_KwargVariablesDict\n\t\t\t\t\t):\n\n\t\t#Call the parent __init__ method\n\t\tBaseClass.__init__(self,**_KwargVariablesDict)\n\n\tdef do_populate(self):\t\n\n\t\t#debug\n\t\t'''\n\t\tself.debug(('self.',self,[\n\n\t\t\t\t\t]))\n\t\t'''\n\n\t\t#monit first\n\t\tself.monit()\n\n\n\t\t#Return self\n\t\t#return self\n\n#</DefineClass>\n\n```\n\n<small>\nView the Populater sources on <a href=\"https://github.com/Ledoux/ShareYourSystem/tree/master/Pythonlogy/ShareYourSystem/Simulaters/Populater\" target=\"_blank\">Github</a>\n</small>\n\n", 
          "cell_type": "markdown", 
          "prompt_number": 1, 
          "metadata": {
            "slideshow": {
              "slide_type": "subslide"
            }
          }
        }
      ]
    }
  ], 
  "metadata": {
    "name": "", 
    "signature": ""
  }, 
  "nbformat_minor": 0
}