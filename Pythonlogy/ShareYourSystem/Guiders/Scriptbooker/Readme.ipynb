{
  "nbformat": 3, 
  "worksheets": [
    {
      "cells": [
        {
          "source": "\n<!--\nFrozenIsBool False\n-->\n\n#Scriptbooker\n\n----------------------- ------------------------------------\n\n\n\n@Date : Fri Nov 14 13:20:38 2014 \n\n@Author : Erwan Ledoux \n\n\n\nThe Installer directs a readme call in a ShareYourSystem directory. \n\n\n\n----------------------------------------------------------------\n\n\nView the Scriptbooker sources on [Github](https://github.com/Ledoux/ShareYourSystem/tree/master/ShareYourSystem.Guiders.Informer)\n\n", 
          "cell_type": "markdown", 
          "prompt_number": 0, 
          "metadata": {
            "slideshow": {
              "slide_type": "slide"
            }
          }
        }, 
        {
          "source": "\n<!---\nFrozenIsBool True\n-->\n\n##Example\n\nLet's create an empty class, which will automatically receive\nspecial attributes from the decorating ClassorClass,\nspecially the NameStr, that should be the ClassStr\nwithout the TypeStr in the end.", 
          "cell_type": "markdown", 
          "prompt_number": 1, 
          "metadata": {
            "slideshow": {
              "slide_type": "subslide"
            }
          }
        }, 
        {
          "source": "```python\n\n#ImportModules\nimport ShareYourSystem as SYS\nfrom ShareYourSystem.Guiders import Scriptbooker\n\n#Definition of a Scriptbooker\nMyScriptbooker=Scriptbooker.ScriptbookerClass().scriptbook(\n        **{\n            'FolderingPathStr':\n            SYS.ShareYourSystemLocalFolderPathStr+'/ShareYourSystem/Objects/Object',\n            'GuidingBookStr':'Doc'\n        }\n).scriptbook(**{\n            'FolderingPathStr':\n            SYS.ShareYourSystemLocalFolderPathStr+'/ShareYourSystem/Interfacers/Filer',\n        }\n)\n        \n#Definition the AttestedStr\nSYS._attest(\n    [\n        'MyScriptbooker is '+SYS._str(\n                MyScriptbooker,\n                **{\n                'RepresentingBaseKeyStrsListBool':False,\n                'RepresentingAlineaIsBool':False\n                }\n        )\n    ]\n) \n\n#Print\n\n\n\n```\n", 
          "cell_type": "markdown", 
          "metadata": {}
        }, 
        {
          "source": "```console\n>>>\n\n\n*****Start of the Attest *****\n\nMyScriptbooker is < (ScriptbookerClass), 4466232912>\n   /{ \n   /  '<New><Instance>IdStr' : 4466232912\n   /  '<New><Instance>ScriptbookedSortDict' : \n   /   /{ \n   /   /  'ExampleDoc.md' : 00_ExampleDoc.md\n   /   /  'ExampleDoc.py' : 01_ExampleDoc.py\n   /   /  'GithubDoc.md' : 001_GithubDoc.md\n   /   /}\n   /  '<Spe><Class>ScriptbookingGuideTuplesList' : \n   /   /[\n   /   /  0 : ('001', 'Github', 'Markdown')\n   /   /]\n   /  '<Spe><Instance>ScriptbookedFileKeyStrsList' : ['001_GithubDoc.md', '00_ExampleDoc.md', '01_ExampleDoc.py']\n   /  '<Spe><Instance>ScriptbookedNewGuideTuplesList' : []\n   /  '<Spe><Instance>ScriptbookedOldGuideTuplesList' : \n   /   /[\n   /   /  0 : ['001', 'Github', 'Markdown', 'GithubDoc.md']\n   /   /]\n   /}\n\n*****End of the Attest *****\n\n\n\n```\n", 
          "cell_type": "markdown", 
          "metadata": {}
        }
      ]
    }
  ], 
  "metadata": {
    "name": "", 
    "signature": ""
  }, 
  "nbformat_minor": 0
}