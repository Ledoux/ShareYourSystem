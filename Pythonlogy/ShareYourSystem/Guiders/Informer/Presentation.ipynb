{
  "nbformat": 3, 
  "worksheets": [
    {
      "cells": [
        {
          "source": "\n<!--\nFrozenIsBool False\n-->\n\n#Informer\n\n----------------------- ------------------------------------\n\n\n\n@Date : Fri Nov 14 13:20:38 2014 \n\n@Author : Erwan Ledoux \n\n\n\nThe Installer directs a readme call in a ShareYourSystem directory. \n\n\n\n----------------------------------------------------------------\n\n\nView the Informer sources on [Github](https://github.com/Ledoux/ShareYourSystem/tree/master/ShareYourSystem.Guiders.Informer)\n\n", 
          "cell_type": "markdown", 
          "prompt_number": 0, 
          "metadata": {
            "slideshow": {
              "slide_type": "slide"
            }
          }
        }, 
        {
          "source": "\n<!---\nFrozenIsBool True\n-->\n\n##Example\n\nLet's create an empty class, which will automatically receive\nspecial attributes from the decorating ClassorClass,\nspecially the NameStr, that should be the ClassStr\nwithout the TypeStr in the end.", 
          "cell_type": "markdown", 
          "prompt_number": 1, 
          "metadata": {
            "slideshow": {
              "slide_type": "subslide"
            }
          }
        }, 
        {
          "cell_type": "code", 
          "prompt_number": 2, 
          "language": "python", 
          "input": [
            "#ImportModules\n", 
            "import ShareYourSystem as SYS\n", 
            "from ShareYourSystem.Guiders import Informer\n", 
            "\n", 
            "#Definition an Informer instance\n", 
            "MyInformer=Informer.InformerClass()\n", 
            "\n", 
            "#Definition the AttestedStr\n", 
            "SYS._attest(\n", 
            "\t[\n", 
            "\t\t'MyInformer is '+SYS._str(\n", 
            "\t\tMyInformer,\n", 
            "\t\t**{\n", 
            "\t\t\t'RepresentingBaseKeyStrsListBool':False,\n", 
            "\t\t\t'RepresentingAlineaIsBool':False\n", 
            "\t\t}\n", 
            "\t\t)\n", 
            "\t]\n", 
            ") \n", 
            "\n", 
            "\n"
          ], 
          "outputs": [
            {
              "output_type": "stream", 
              "stream": "stdout", 
              "text": [
                "\n", 
                "\n", 
                "*****Start of the Attest *****\n", 
                "\n", 
                "MyInformer is < (InformerClass), 4466183888>\n", 
                "   /{ \n", 
                "   /  '<New><Instance>IdStr' : 4466183888\n", 
                "   /  '<Spe><Class>InformedConceptModule' : None\n", 
                "   /  '<Spe><Class>InformedModulePathStrsList' : None\n", 
                "   /  '<Spe><Class>InformedModulesList' : None\n", 
                "   /  '<Spe><Class>InformedNameStrsList' : None\n", 
                "   /  '<Spe><Class>InformingConceptFolderPathStr' : \n", 
                "   /  '<Spe><Class>InformingConceptIsBool' : True\n", 
                "   /  '<Spe><Class>InformingReadmeIsBool' : True\n", 
                "   /}\n", 
                "\n", 
                "*****End of the Attest *****\n", 
                "\n", 
                "\n"
              ]
            }
          ], 
          "collapsed": false, 
          "metadata": {
            "slideshow": {
              "slide_type": "-"
            }
          }
        }
      ]
    }
  ], 
  "metadata": {
    "name": "", 
    "signature": ""
  }, 
  "nbformat_minor": 0
}