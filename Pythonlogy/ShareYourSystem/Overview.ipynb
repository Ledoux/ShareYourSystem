{
 "metadata": {
  "name": "",
  "signature": "sha256:094266fe386cca99982506ac3dea1b4f8183f1e388ebde91a4fc9d760c9a03e7"
 },
 "nbformat": 3,
 "nbformat_minor": 0,
 "worksheets": [
  {
   "cells": [
    {
     "cell_type": "markdown",
     "metadata": {},
     "source": [
      "#Overview of the SYS framework"
     ]
    },
    {
     "cell_type": "code",
     "collapsed": false,
     "input": [
      "#/###################/#\n",
      "# Global config\n",
      "#\n",
      "\n",
      "#ImportModules\n",
      "import ShareYourSystem as SYS\n",
      "\n",
      "#style for the notebook\n",
      "SYS.setStyle()\n",
      "\n",
      "#SYS config\n",
      "SYS.DebugPrintBool=False\n",
      "\n",
      "#Backend plot config\n",
      "%pylab inline"
     ],
     "language": "python",
     "metadata": {},
     "outputs": [
      {
       "html": [
        "<style>\n",
        "@import url('http://fonts.googleapis.com/css?family=Crimson+Text');\n",
        "@import url('http://fonts.googleapis.com/css?family=Kameron');\n",
        "@import url('http://fonts.googleapis.com/css?family=Lato:200');\n",
        "@import url('http://fonts.googleapis.com/css?family=Lato:300');\n",
        "@import url('http://fonts.googleapis.com/css?family=Lato:400');\n",
        "@import url('http://fonts.googleapis.com/css?family=Source+Code+Pro');\n",
        "\n",
        "/* Change code font */\n",
        ".CodeMirror pre {\n",
        "    font-family: 'Source Code Pro', Consolas, monocco, monospace;\n",
        "}\n",
        "\n",
        "div.input_area {\n",
        "    border-color: rgba(0,0,0,0.10);\n",
        "    background: rbga(0,0,0,0.5);\n",
        "}\n",
        "\n",
        "div.text_cell {\n",
        "    max-width: 180ex; /* instead of 100%, */\n",
        "}\n",
        "\n",
        "div.text_cell_render {\n",
        "    font-family: \"Crimson Text\";\n",
        "    font-size: 16pt;\n",
        "    line-height: 130%; /* added for some line spacing of text. */\n",
        "}\n",
        "\n",
        "div.text_cell_render h1,\n",
        "div.text_cell_render h2,\n",
        "div.text_cell_render h3,\n",
        "div.text_cell_render h4,\n",
        "div.text_cell_render h5,\n",
        "div.text_cell_render h6 {\n",
        "    font-family: 'Kameron';\n",
        "    font-weight: 300;\n",
        "    color : #3399CC ;\n",
        "}\n",
        "\n",
        "div.text_cell_render h1 {\n",
        "    font-size: 50pt;\n",
        "    font-weight: bold;\n",
        "    color : #3399CC ;\n",
        "    text-align: center;\n",
        "}\n",
        "\n",
        "div.text_cell_render h2 {\n",
        "    font-size: 25pt;\n",
        "    font-weight: bold;\n",
        "    color : #3399CC ;\n",
        "    text-decoration: underline;\n",
        "}\n",
        "\n",
        "div.text_cell_render h3 {\n",
        "    font-size: 20pt;\n",
        "    color : #3399CC ;\n",
        "\n",
        "}\n",
        "\n",
        ".rendered_html pre,\n",
        ".rendered_html code {\n",
        "    font-size: medium;\n",
        "}\n",
        "\n",
        ".rendered_html ol {\n",
        "    list-style:decimal;\n",
        "    margin: 1em 2em;\n",
        "}\n",
        "\n",
        ".prompt.input_prompt {\n",
        "    color: rgba(0,0,0,0.5);\n",
        "}\n",
        "\n",
        ".cell.command_mode.selected {\n",
        "    border-color: rgba(0,0,0,0.1);\n",
        "}\n",
        "\n",
        ".cell.edit_mode.selected {\n",
        "    border-color: rgba(0,0,0,0.15);\n",
        "    box-shadow: 0px 0px 5px #f0f0f0;\n",
        "    -webkit-box-shadow: 0px 0px 5px #f0f0f0;\n",
        "}\n",
        "\n",
        "div.output_scroll {\n",
        "    -webkit-box-shadow: inset 0 2px 8px rgba(0,0,0,0.1);\n",
        "    box-shadow: inset 0 2px 8px rgba(0,0,0,0.1);\n",
        "    border-radious: 2px;\n",
        "}\n",
        "\n",
        "#menubar .navbar-inner {\n",
        "    background: #fff;\n",
        "    -webkit-box-shadow: none;\n",
        "    box-shadow: none;\n",
        "    border-radius: 0;\n",
        "    border: none;\n",
        "    font-family: lato;\n",
        "    font-weight: 400;\n",
        "}\n",
        "\n",
        ".navbar-fixed-top .navbar-inner,\n",
        ".navbar-static-top .navbar-inner {\n",
        "    box-shadow: none;\n",
        "    -webkit-box-shadow: none;\n",
        "    border: none;\n",
        "}\n",
        "\n",
        "div#notebook_panel {\n",
        "    box-shadow: none;\n",
        "    -webkit-box-shadow: none;\n",
        "    border-top: none;\n",
        "}\n",
        "\n",
        "div#notebook {\n",
        "    border-top: 1px solid rgba(0,0,0,0.15);\n",
        "}\n",
        "\n",
        "#menubar .navbar .navbar-inner,\n",
        ".toolbar-inner {\n",
        "    padding-left: 0;\n",
        "    padding-right: 0;\n",
        "}\n",
        "\n",
        "#checkpoint_status,\n",
        "#autosave_status {\n",
        "    color: rgba(0,0,0,0.5);\n",
        "}\n",
        "\n",
        "#header {\n",
        "    font-family: lato;\n",
        "}\n",
        "\n",
        "#notebook_name {\n",
        "    font-weight: 200;\n",
        "}\n",
        "\n",
        "/* \n",
        "    This is a lazy fix, we *should* fix the \n",
        "    background for each Bootstrap button type\n",
        "*/\n",
        "#site * .btn {\n",
        "    background: #fafafa;\n",
        "    -webkit-box-shadow: none;\n",
        "    box-shadow: none;\n",
        "}\n",
        "\n",
        "</style>"
       ],
       "metadata": {},
       "output_type": "display_data",
       "text": [
        "<IPython.core.display.HTML at 0x105c623d0>"
       ]
      },
      {
       "output_type": "stream",
       "stream": "stdout",
       "text": [
        "Populating the interactive namespace from numpy and matplotlib\n"
       ]
      }
     ],
     "prompt_number": 1
    },
    {
     "cell_type": "markdown",
     "metadata": {},
     "source": [
      "###1. Design scientific structure of objects"
     ]
    },
    {
     "cell_type": "markdown",
     "metadata": {},
     "source": [
      "####A. Thinking like a JSON data structure for building objects"
     ]
    },
    {
     "cell_type": "markdown",
     "metadata": {},
     "source": [
      "SYS proposes an API that builds architectures of objects like a JSON interface."
     ]
    },
    {
     "cell_type": "code",
     "collapsed": false,
     "input": [
      "#/###################/#\n",
      "# Import modules\n",
      "#\n",
      "\n",
      "#ImportModules\n",
      "import ShareYourSystem as SYS\n",
      "\n",
      "#/###################/#\n",
      "# Build a neural network model\n",
      "#\n",
      "\n",
      "#Define\n",
      "MyLeaker=SYS.LeakerClass(\n",
      "    ).mapSet(\n",
      "        {\n",
      "            '-Populations':{\n",
      "                'ManagingShareVariable':{\n",
      "                    'LeakingSymbolPrefixStr':'V',\n",
      "                    'LeakingNoiseStdVariable':0.1,\n",
      "                    'LeakingThresholdVariable':'#scalar:V>-50*mV',\n",
      "                    'LeakingResetVariable':-70.,\n",
      "                },\n",
      "                '|I':{\n",
      "                    'LeakingUnitsInt':100,\n",
      "                    '-Interactions':{\n",
      "                        '|/':{\n",
      "                            'LeakingWeigthVariable':\"#array\",\n",
      "                            'LeakingDaleStr':\"I\",\n",
      "                            'LeakingInteractionStr':\"Spike\"\n",
      "                        }\n",
      "                    },\n",
      "                    'RecordingLabelVariable':[0,1]\n",
      "                },\n",
      "                '|I':{\n",
      "                    'LeakingUnitsInt':20,\n",
      "                    '-Inputs':{\n",
      "                        '|Rest':{\n",
      "                            'LeakingWeigthVariable':'#scalar:-60*mV'\n",
      "                        },\n",
      "                        '|External':{\n",
      "                            'LeakingWeigthVariable':'#scalar:11*mV'\n",
      "                        }\n",
      "                    },\n",
      "                    '-Interactions':{\n",
      "                        '|toE':{\n",
      "                            'LeakingWeigthVariable':\"#array\",\n",
      "                            'LeakingInteractionStr':\"Rate\"\n",
      "                        }\n",
      "                    },\n",
      "                    'RecordingLabelVariable':[0,1]\n",
      "                }\n",
      "            }\n",
      "        }\n",
      "    )"
     ],
     "language": "python",
     "metadata": {},
     "outputs": [],
     "prompt_number": 2
    },
    {
     "cell_type": "code",
     "collapsed": false,
     "input": [
      "\n",
      "#print\n",
      "print('MyLeaker is ')\n",
      "SYS._print(MyLeaker)"
     ],
     "language": "python",
     "metadata": {},
     "outputs": []
    },
    {
     "cell_type": "markdown",
     "metadata": {},
     "source": [
      "####B. Using an ontology of classes for defining derived methods setting the whole structure"
     ]
    },
    {
     "cell_type": "markdown",
     "metadata": {},
     "source": [
      "In the example here, now we have established the vertical and horizontal relationships between objects.\n",
      "We can call top methods that will parse the structure to instanciate new objects at particular nodes, helpful next to ensure a scientific computation.\n",
      "\n",
      "Here we show the example of two structuring successive methods :\n",
      "\n",
      "* leak, that establishes a differential equation framework suggested by the structure, setting essentially LeakedModelStr in the Population and Interaction Managersn that can be then used by scientific modules interpreting expression strs like brian.\n",
      "\n",
      "* brian, that instanciates Network, NeuronGroup, Synapses, State or Spike Monitor at the good levels.\n",
      "\n"
     ]
    },
    {
     "cell_type": "code",
     "collapsed": false,
     "input": [
      "\n",
      "#leak and brian\n",
      "MyLeaker.leak(\n",
      "    ).brian(\n",
      "    )\n"
     ],
     "language": "python",
     "metadata": {},
     "outputs": []
    },
    {
     "cell_type": "code",
     "collapsed": false,
     "input": [
      "#print\n",
      "print('MyLeaker is ')\n",
      "SYS._print(MyLeaker)"
     ],
     "language": "python",
     "metadata": {},
     "outputs": []
    },
    {
     "cell_type": "code",
     "collapsed": false,
     "input": [
      "We can simulate"
     ],
     "language": "python",
     "metadata": {},
     "outputs": []
    },
    {
     "cell_type": "code",
     "collapsed": false,
     "input": [
      "\n",
      "#simulate\n",
      "MyLeaker.siimulate(\n",
      "    )\n",
      "\n",
      "\n",
      "MyLeaker['-Populations/|I/-Traces/|*V/-Samples/|Default/BrianedSpikeMonitorVariable']\n"
     ],
     "language": "python",
     "metadata": {},
     "outputs": []
    },
    {
     "cell_type": "code",
     "collapsed": false,
     "input": [
      "####C. Design views"
     ],
     "language": "python",
     "metadata": {},
     "outputs": []
    },
    {
     "cell_type": "markdown",
     "metadata": {},
     "source": [
      "We can set a view and call pyplot for proposing a view"
     ]
    },
    {
     "cell_type": "code",
     "collapsed": false,
     "input": [
      "#leak and brian\n",
      "MyLeaker.mapSet(\n",
      "        '-Panels':\n",
      "            '|Run':{\n",
      "                '-Charts':{\n",
      "    \n",
      "                }\n",
      "            }\n",
      "    ).view(\n",
      "    ).pyplot(\n",
      "    )"
     ],
     "language": "python",
     "metadata": {},
     "outputs": []
    },
    {
     "cell_type": "code",
     "collapsed": false,
     "input": [
      "####D. Design models"
     ],
     "language": "python",
     "metadata": {},
     "outputs": []
    },
    {
     "cell_type": "markdown",
     "metadata": {},
     "source": [
      "Store in mongo"
     ]
    },
    {
     "cell_type": "code",
     "collapsed": false,
     "input": [
      "MyLeaker.mapSet(\n",
      "        '-Panels':\n",
      "            '|Run':{\n",
      "                '-Charts':{\n",
      "    \n",
      "                }\n",
      "            }\n",
      "    ).model(\n",
      "    )"
     ],
     "language": "python",
     "metadata": {},
     "outputs": []
    },
    {
     "cell_type": "markdown",
     "metadata": {},
     "source": [
      "We can then do a parameter grid search"
     ]
    },
    {
     "cell_type": "code",
     "collapsed": false,
     "input": [],
     "language": "python",
     "metadata": {},
     "outputs": []
    },
    {
     "cell_type": "markdown",
     "metadata": {},
     "source": [
      "###2. Share on the fly your pythonic scientific structures with the SYS-Meteor GUI"
     ]
    },
    {
     "cell_type": "code",
     "collapsed": false,
     "input": [],
     "language": "python",
     "metadata": {},
     "outputs": []
    },
    {
     "cell_type": "markdown",
     "metadata": {},
     "source": [
      "###3. Build your own documentation towards Read the Docs"
     ]
    },
    {
     "cell_type": "code",
     "collapsed": false,
     "input": [],
     "language": "python",
     "metadata": {},
     "outputs": []
    }
   ],
   "metadata": {}
  }
 ]
}