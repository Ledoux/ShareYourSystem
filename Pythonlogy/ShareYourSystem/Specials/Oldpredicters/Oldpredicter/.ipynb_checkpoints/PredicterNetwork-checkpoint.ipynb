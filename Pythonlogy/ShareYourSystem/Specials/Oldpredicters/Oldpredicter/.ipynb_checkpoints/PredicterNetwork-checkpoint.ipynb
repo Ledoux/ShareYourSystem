{
 "metadata": {
  "name": "",
  "signature": "sha256:0eb431196942f68e22d477e01f3138d356ec2efc62f6147c376f4d21a66b1676"
 },
 "nbformat": 3,
 "nbformat_minor": 0,
 "worksheets": [
  {
   "cells": [
    {
     "cell_type": "markdown",
     "metadata": {},
     "source": [
      "#Rater like model\n",
      "Let's build a simple leak differential system"
     ]
    },
    {
     "cell_type": "code",
     "collapsed": false,
     "input": [
      "#/###################/#\n",
      "# Config\n",
      "#\n",
      "\n",
      "#ImportModules\n",
      "import ShareYourSystem as SYS\n",
      "\n",
      "#Debug Mode is True ?\n",
      "SYS.DebugPrintBool=False\n",
      "\n",
      "#/###################/#\n",
      "# Build the model\n",
      "#\n",
      "\n",
      "#Define\n",
      "MyLeaker=SYS.LeakerClass(\n",
      "    ).mapSet(\n",
      "        {\n",
      "        '-Populations':{\n",
      "            '|Default':{\n",
      "                'LeakingUnitsInt':2,\n",
      "                'LeakingMonitorIntsList':[0,1],\n",
      "                    '-Inputs':{\n",
      "                        '|Default':{\n",
      "                            'LeakingWeigthVariable':'#custom:#clock:200*ms:5.*mV*int(t==200*ms)',\n",
      "                        }\n",
      "                    },\n",
      "                '-Interactions':{\n",
      "                        '|/':{\n",
      "                            'LeakingWeigthVariable':-1.,\n",
      "                        }\n",
      "                    },\n",
      "                }\n",
      "            }\n",
      "        }\n",
      "    ).leak(\n",
      "    )\n",
      "\n",
      "#/###################/#\n",
      "# Represent the model\n",
      "#\n",
      "\n",
      "#print\n",
      "print('MyLeaker is ')\n",
      "SYS._print(MyLeaker) \n",
      "\n"
     ],
     "language": "python",
     "metadata": {},
     "outputs": []
    },
    {
     "cell_type": "code",
     "collapsed": false,
     "input": [
      "#/###################/#\n",
      "# Simulate\n",
      "#\n",
      "\n",
      "MyLeaker.simulate(\n",
      "    #SimulatingStopTimeFloat (ms here)\n",
      "    500.\n",
      ")\n",
      "\n",
      "#/###################/#\n",
      "# View\n",
      "#\n",
      "\n",
      "MyLeaker['/-Populations/|Default'].view(\n",
      "    ).pyplot();\n",
      "SYS.matplotlib.pyplot.show()"
     ],
     "language": "python",
     "metadata": {},
     "outputs": [
      {
       "metadata": {},
       "output_type": "display_data",
       "png": "[encoded data removed]",
       "text": [
        "<matplotlib.figure.Figure at 0x10d7a4290>"
       ]
      }
     ],
     "prompt_number": 6
    },
    {
     "cell_type": "markdown",
     "metadata": {},
     "source": [
      "#Predicter like model\n",
      "The predicter class automatically build some inside structures, like a Sensor population with a Command Input. "
     ]
    },
    {
     "cell_type": "code",
     "collapsed": false,
     "input": [
      "#/###################/#\n",
      "# Config\n",
      "#\n",
      "\n",
      "#ImportModules\n",
      "import ShareYourSystem as SYS\n",
      "\n",
      "#Debug Mode is True ?\n",
      "SYS.DebugPrintBool=False\n",
      "\n",
      "#/###################/#\n",
      "# Build the model\n",
      "#\n",
      "\n",
      "#Define\n",
      "MyPredicter=SYS.PredicterClass(\n",
      "\t).predict(\n",
      "    )\n",
      "\n",
      "#/###################/#\n",
      "# Represent the model\n",
      "#\n",
      "\n",
      "#print\n",
      "print('MyLeaker is ')\n",
      "SYS._print(MyLeaker) "
     ],
     "language": "python",
     "metadata": {},
     "outputs": [
      {
       "ename": "AttributeError",
       "evalue": "'PredicterClass' object has no attribute 'U'",
       "output_type": "pyerr",
       "traceback": [
        "\u001b[0;31m---------------------------------------------------------------------------\u001b[0m\n\u001b[0;31mAttributeError\u001b[0m                            Traceback (most recent call last)",
        "\u001b[0;32m<ipython-input-1-6a499d2d0e04>\u001b[0m in \u001b[0;36m<module>\u001b[0;34m()\u001b[0m\n\u001b[1;32m     14\u001b[0m \u001b[0;34m\u001b[0m\u001b[0m\n\u001b[1;32m     15\u001b[0m \u001b[0;31m#Define\u001b[0m\u001b[0;34m\u001b[0m\u001b[0;34m\u001b[0m\u001b[0m\n\u001b[0;32m---> 16\u001b[0;31m MyPredicter=SYS.PredicterClass(\n\u001b[0m\u001b[1;32m     17\u001b[0m         \u001b[0;34m)\u001b[0m\u001b[0;34m.\u001b[0m\u001b[0mpredict\u001b[0m\u001b[0;34m(\u001b[0m\u001b[0;34m\u001b[0m\u001b[0m\n\u001b[1;32m     18\u001b[0m     )\n",
        "\u001b[0;32m/usr/local/lib/python2.7/site-packages/ShareYourSystem/Standards/Classors/Doer/__init__.pyc\u001b[0m in \u001b[0;36msuperDo_predict\u001b[0;34m(_InstanceVariable, _JacobianFloatsArray, *_LiargVariablesList, **_KwargVariablesDict)\u001b[0m\n",
        "\u001b[0;32m/usr/local/lib/python2.7/site-packages/ShareYourSystem/Standards/Classors/Doer/__init__.pyc\u001b[0m in \u001b[0;36mdo\u001b[0;34m(_InstanceVariable, *_LiargVariablesList, **_KwargVariablesDict)\u001b[0m\n\u001b[1;32m    321\u001b[0m \t\treturn DoWrapUnboundMethod(\n\u001b[1;32m    322\u001b[0m                         \u001b[0m_InstanceVariable\u001b[0m\u001b[0;34m,\u001b[0m\u001b[0;34m\u001b[0m\u001b[0m\n\u001b[0;32m--> 323\u001b[0;31m                         \u001b[0;34m*\u001b[0m\u001b[0m_LiargVariablesList\u001b[0m\u001b[0;34m\u001b[0m\u001b[0m\n\u001b[0m\u001b[1;32m    324\u001b[0m \t\t)\n\u001b[1;32m    325\u001b[0m \u001b[0;31m#</DefineFunctions>\u001b[0m\u001b[0;34m\u001b[0m\u001b[0;34m\u001b[0m\u001b[0m\n",
        "\u001b[0;32m/usr/local/lib/python2.7/site-packages/ShareYourSystem/Specials/Predicters/Predicter/__init__.pyc\u001b[0m in \u001b[0;36mdo_predict\u001b[0;34m(self)\u001b[0m\n\u001b[1;32m    253\u001b[0m \u001b[0;34m\u001b[0m\u001b[0m\n\u001b[1;32m    254\u001b[0m                 \u001b[0;31m#leak\u001b[0m\u001b[0;34m\u001b[0m\u001b[0;34m\u001b[0m\u001b[0m\n\u001b[0;32m--> 255\u001b[0;31m                 \u001b[0mself\u001b[0m\u001b[0;34m.\u001b[0m\u001b[0mleak\u001b[0m\u001b[0;34m(\u001b[0m\u001b[0;34m)\u001b[0m\u001b[0;34m\u001b[0m\u001b[0m\n\u001b[0m\u001b[1;32m    256\u001b[0m \u001b[0;34m\u001b[0m\u001b[0m\n\u001b[1;32m    257\u001b[0m         \u001b[0;32mdef\u001b[0m \u001b[0mleakNetwork\u001b[0m\u001b[0;34m(\u001b[0m\u001b[0mself\u001b[0m\u001b[0;34m)\u001b[0m\u001b[0;34m:\u001b[0m\u001b[0;34m\u001b[0m\u001b[0m\n",
        "\u001b[0;32m/usr/local/lib/python2.7/site-packages/ShareYourSystem/Standards/Classors/Binder/__init__.pyc\u001b[0m in \u001b[0;36mswitch_watch_superDo_leak\u001b[0;34m(_InstanceVariable, *_LiargVariablesList, **_KwargVariablesDict)\u001b[0m\n",
        "\u001b[0;32m/usr/local/lib/python2.7/site-packages/ShareYourSystem/Standards/Classors/Switcher/__init__.pyc\u001b[0m in \u001b[0;36mswitch\u001b[0;34m(_InstanceVariable, *_LiargVariablesList, **_KwargVariablesDict)\u001b[0m\n\u001b[1;32m    269\u001b[0m                 \u001b[0m_InstanceVariable\u001b[0m\u001b[0;34m,\u001b[0m\u001b[0;34m\u001b[0m\u001b[0m\n\u001b[1;32m    270\u001b[0m                 \u001b[0;34m*\u001b[0m\u001b[0m_LiargVariablesList\u001b[0m\u001b[0;34m,\u001b[0m\u001b[0;34m\u001b[0m\u001b[0m\n\u001b[0;32m--> 271\u001b[0;31m                 \u001b[0;34m**\u001b[0m\u001b[0m_KwargVariablesDict\u001b[0m\u001b[0;34m\u001b[0m\u001b[0m\n\u001b[0m\u001b[1;32m    272\u001b[0m \t)\n\u001b[1;32m    273\u001b[0m \u001b[0;34m\u001b[0m\u001b[0m\n",
        "\u001b[0;32m/usr/local/lib/python2.7/site-packages/ShareYourSystem/Standards/Classors/Binder/__init__.pyc\u001b[0m in \u001b[0;36mwatch_superDo_leak\u001b[0;34m(_InstanceVariable, *_LiargVariablesList, **_KwargVariablesDict)\u001b[0m\n",
        "\u001b[0;32m/usr/local/lib/python2.7/site-packages/ShareYourSystem/Standards/Classors/Watcher/__init__.pyc\u001b[0m in \u001b[0;36mwatch\u001b[0;34m(_InstanceVariable, *_LiargVariablesList, **_KwargVariablesDict)\u001b[0m\n\u001b[1;32m    105\u001b[0m                 \u001b[0m_InstanceVariable\u001b[0m\u001b[0;34m,\u001b[0m\u001b[0;34m\u001b[0m\u001b[0m\n\u001b[1;32m    106\u001b[0m                 \u001b[0;34m*\u001b[0m\u001b[0m_LiargVariablesList\u001b[0m\u001b[0;34m,\u001b[0m\u001b[0;34m\u001b[0m\u001b[0m\n\u001b[0;32m--> 107\u001b[0;31m                 \u001b[0;34m**\u001b[0m\u001b[0m_KwargVariablesDict\u001b[0m\u001b[0;34m\u001b[0m\u001b[0m\n\u001b[0m\u001b[1;32m    108\u001b[0m \t)\n\u001b[1;32m    109\u001b[0m \u001b[0;34m\u001b[0m\u001b[0m\n",
        "\u001b[0;32m/usr/local/lib/python2.7/site-packages/ShareYourSystem/Standards/Classors/Doer/__init__.pyc\u001b[0m in \u001b[0;36msuperDo_leak\u001b[0;34m(_InstanceVariable, _UnitsInt, _TimeVariable, _WeigthVariable, _QuantityStr, _MonitorIndexIntsList, _SymbolPrefixStr, _InteractionStr, _TransferVariable, *_LiargVariablesList, **_KwargVariablesDict)\u001b[0m\n",
        "\u001b[0;32m/usr/local/lib/python2.7/site-packages/ShareYourSystem/Standards/Classors/Doer/__init__.pyc\u001b[0m in \u001b[0;36mdo\u001b[0;34m(_InstanceVariable, *_LiargVariablesList, **_KwargVariablesDict)\u001b[0m\n\u001b[1;32m    321\u001b[0m \t\treturn DoWrapUnboundMethod(\n\u001b[1;32m    322\u001b[0m                         \u001b[0m_InstanceVariable\u001b[0m\u001b[0;34m,\u001b[0m\u001b[0;34m\u001b[0m\u001b[0m\n\u001b[0;32m--> 323\u001b[0;31m                         \u001b[0;34m*\u001b[0m\u001b[0m_LiargVariablesList\u001b[0m\u001b[0;34m\u001b[0m\u001b[0m\n\u001b[0m\u001b[1;32m    324\u001b[0m \t\t)\n\u001b[1;32m    325\u001b[0m \u001b[0;31m#</DefineFunctions>\u001b[0m\u001b[0;34m\u001b[0m\u001b[0;34m\u001b[0m\u001b[0m\n",
        "\u001b[0;32m/usr/local/lib/python2.7/site-packages/ShareYourSystem/Standards/Recorders/Leaker/__init__.pyc\u001b[0m in \u001b[0;36mdo_leak\u001b[0;34m(self)\u001b[0m\n\u001b[1;32m    276\u001b[0m \t\t\t\t],\n\u001b[1;32m    277\u001b[0m                                 \u001b[0;34m'#all'\u001b[0m\u001b[0;34m,\u001b[0m\u001b[0;34m\u001b[0m\u001b[0m\n\u001b[0;32m--> 278\u001b[0;31m                                 \u001b[0m_ManagerCommandSetList\u001b[0m\u001b[0;34m=\u001b[0m\u001b[0;34m[\u001b[0m\u001b[0;34m'leak'\u001b[0m\u001b[0;34m,\u001b[0m\u001b[0;34m'brian'\u001b[0m\u001b[0;34m]\u001b[0m\u001b[0;34m\u001b[0m\u001b[0m\n\u001b[0m\u001b[1;32m    279\u001b[0m \t\t\t)\n\u001b[1;32m    280\u001b[0m \u001b[0;34m\u001b[0m\u001b[0m\n",
        "\u001b[0;32m/usr/local/lib/python2.7/site-packages/ShareYourSystem/Standards/Classors/Doer/__init__.pyc\u001b[0m in \u001b[0;36msuperDo_structure\u001b[0;34m(_InstanceVariable, _TeamerCommandKeyVariable, _ManagerCommandKeyVariable, _BeforeCommandSetList, _TeamerCommandSetList, _ManagerCommandSetList, _SingPluralVariable, _TagStr, _ClassBool, _FlatBool, *_LiargVariablesList, **_KwargVariablesDict)\u001b[0m\n",
        "\u001b[0;32m/usr/local/lib/python2.7/site-packages/ShareYourSystem/Standards/Classors/Doer/__init__.pyc\u001b[0m in \u001b[0;36mdo\u001b[0;34m(_InstanceVariable, *_LiargVariablesList, **_KwargVariablesDict)\u001b[0m\n\u001b[1;32m    321\u001b[0m \t\treturn DoWrapUnboundMethod(\n\u001b[1;32m    322\u001b[0m                         \u001b[0m_InstanceVariable\u001b[0m\u001b[0;34m,\u001b[0m\u001b[0;34m\u001b[0m\u001b[0m\n\u001b[0;32m--> 323\u001b[0;31m                         \u001b[0;34m*\u001b[0m\u001b[0m_LiargVariablesList\u001b[0m\u001b[0;34m\u001b[0m\u001b[0m\n\u001b[0m\u001b[1;32m    324\u001b[0m \t\t)\n\u001b[1;32m    325\u001b[0m \u001b[0;31m#</DefineFunctions>\u001b[0m\u001b[0;34m\u001b[0m\u001b[0;34m\u001b[0m\u001b[0m\n",
        "\u001b[0;32m/usr/local/lib/python2.7/site-packages/ShareYourSystem/Standards/Itemizers/Structurer/__init__.pyc\u001b[0m in \u001b[0;36mdo_structure\u001b[0;34m(self)\u001b[0m\n\u001b[1;32m    259\u001b[0m \u001b[0;34m\u001b[0m\u001b[0m\n\u001b[1;32m    260\u001b[0m                 \u001b[0;31m#command\u001b[0m\u001b[0;34m\u001b[0m\u001b[0;34m\u001b[0m\u001b[0m\n\u001b[0;32m--> 261\u001b[0;31m                 \u001b[0mself\u001b[0m\u001b[0;34m.\u001b[0m\u001b[0mcommand\u001b[0m\u001b[0;34m(\u001b[0m\u001b[0;34m)\u001b[0m\u001b[0;34m\u001b[0m\u001b[0m\n\u001b[0m\u001b[1;32m    262\u001b[0m \u001b[0;34m\u001b[0m\u001b[0m\n\u001b[1;32m    263\u001b[0m                 \u001b[0;31m#debug\u001b[0m\u001b[0;34m\u001b[0m\u001b[0;34m\u001b[0m\u001b[0m\n",
        "\u001b[0;32m/usr/local/lib/python2.7/site-packages/ShareYourSystem/Standards/Classors/Doer/__init__.pyc\u001b[0m in \u001b[0;36msuperDo_command\u001b[0;34m(_InstanceVariable, _KeyVariable, _SetVariable, _OrderStr, _BeforeWalkRigidBool, _AfterWalkRigidBool, _BeforeSelfRigidBool, _AfterSelfRigidBool, _GetRigidBool, _SetRigidBool, _SetAttrOrCallRigidBool, *_LiargVariablesList, **_KwargVariablesDict)\u001b[0m\n",
        "\u001b[0;32m/usr/local/lib/python2.7/site-packages/ShareYourSystem/Standards/Classors/Doer/__init__.pyc\u001b[0m in \u001b[0;36mdo\u001b[0;34m(_InstanceVariable, *_LiargVariablesList, **_KwargVariablesDict)\u001b[0m\n\u001b[1;32m    321\u001b[0m \t\treturn DoWrapUnboundMethod(\n\u001b[1;32m    322\u001b[0m                         \u001b[0m_InstanceVariable\u001b[0m\u001b[0;34m,\u001b[0m\u001b[0;34m\u001b[0m\u001b[0m\n\u001b[0;32m--> 323\u001b[0;31m                         \u001b[0;34m*\u001b[0m\u001b[0m_LiargVariablesList\u001b[0m\u001b[0;34m\u001b[0m\u001b[0m\n\u001b[0m\u001b[1;32m    324\u001b[0m \t\t)\n\u001b[1;32m    325\u001b[0m \u001b[0;31m#</DefineFunctions>\u001b[0m\u001b[0;34m\u001b[0m\u001b[0;34m\u001b[0m\u001b[0m\n",
        "\u001b[0;32m/usr/local/lib/python2.7/site-packages/ShareYourSystem/Standards/Itemizers/Commander/__init__.pyc\u001b[0m in \u001b[0;36mdo_command\u001b[0;34m(self)\u001b[0m\n\u001b[1;32m    521\u001b[0m \t\t\t\t\t)\n\u001b[1;32m    522\u001b[0m                                         \u001b[0;32melse\u001b[0m \u001b[0mNone\u001b[0m\u001b[0;34m,\u001b[0m\u001b[0;34m\u001b[0m\u001b[0m\n\u001b[0;32m--> 523\u001b[0;31m                                         \u001b[0mself\u001b[0m\u001b[0;34m.\u001b[0m\u001b[0mCommandedValueVariablesList\u001b[0m\u001b[0;34m\u001b[0m\u001b[0m\n\u001b[0m\u001b[1;32m    524\u001b[0m \t\t\t\t)\n\u001b[1;32m    525\u001b[0m \u001b[0;34m\u001b[0m\u001b[0m\n",
        "\u001b[0;32m/usr/local/lib/python2.7/site-packages/ShareYourSystem/Standards/Itemizers/Commander/__init__.pyc\u001b[0m in \u001b[0;36m<lambda>\u001b[0;34m(_CommanderClass__CommandedValueVariable)\u001b[0m\n\u001b[1;32m    518\u001b[0m \t\t\t\t\tif hasattr(\n\u001b[1;32m    519\u001b[0m                                                 \u001b[0m__CommandedValueVariable\u001b[0m\u001b[0;34m,\u001b[0m\u001b[0;34m\u001b[0m\u001b[0m\n\u001b[0;32m--> 520\u001b[0;31m                                                 \u001b[0;34m'command'\u001b[0m\u001b[0;34m\u001b[0m\u001b[0m\n\u001b[0m\u001b[1;32m    521\u001b[0m \t\t\t\t\t)\n\u001b[1;32m    522\u001b[0m                                         \u001b[0;32melse\u001b[0m \u001b[0mNone\u001b[0m\u001b[0;34m,\u001b[0m\u001b[0;34m\u001b[0m\u001b[0m\n",
        "\u001b[0;32m/usr/local/lib/python2.7/site-packages/ShareYourSystem/Standards/Classors/Doer/__init__.pyc\u001b[0m in \u001b[0;36msuperDo_command\u001b[0;34m(_InstanceVariable, _KeyVariable, _SetVariable, _OrderStr, _BeforeWalkRigidBool, _AfterWalkRigidBool, _BeforeSelfRigidBool, _AfterSelfRigidBool, _GetRigidBool, _SetRigidBool, _SetAttrOrCallRigidBool, *_LiargVariablesList, **_KwargVariablesDict)\u001b[0m\n",
        "\u001b[0;32m/usr/local/lib/python2.7/site-packages/ShareYourSystem/Standards/Classors/Doer/__init__.pyc\u001b[0m in \u001b[0;36mdo\u001b[0;34m(_InstanceVariable, *_LiargVariablesList, **_KwargVariablesDict)\u001b[0m\n\u001b[1;32m    321\u001b[0m \t\treturn DoWrapUnboundMethod(\n\u001b[1;32m    322\u001b[0m                         \u001b[0m_InstanceVariable\u001b[0m\u001b[0;34m,\u001b[0m\u001b[0;34m\u001b[0m\u001b[0m\n\u001b[0;32m--> 323\u001b[0;31m                         \u001b[0;34m*\u001b[0m\u001b[0m_LiargVariablesList\u001b[0m\u001b[0;34m\u001b[0m\u001b[0m\n\u001b[0m\u001b[1;32m    324\u001b[0m \t\t)\n\u001b[1;32m    325\u001b[0m \u001b[0;31m#</DefineFunctions>\u001b[0m\u001b[0;34m\u001b[0m\u001b[0;34m\u001b[0m\u001b[0m\n",
        "\u001b[0;32m/usr/local/lib/python2.7/site-packages/ShareYourSystem/Standards/Itemizers/Commander/__init__.pyc\u001b[0m in \u001b[0;36mdo_command\u001b[0;34m(self)\u001b[0m\n\u001b[1;32m    521\u001b[0m \t\t\t\t\t)\n\u001b[1;32m    522\u001b[0m                                         \u001b[0;32melse\u001b[0m \u001b[0mNone\u001b[0m\u001b[0;34m,\u001b[0m\u001b[0;34m\u001b[0m\u001b[0m\n\u001b[0;32m--> 523\u001b[0;31m                                         \u001b[0mself\u001b[0m\u001b[0;34m.\u001b[0m\u001b[0mCommandedValueVariablesList\u001b[0m\u001b[0;34m\u001b[0m\u001b[0m\n\u001b[0m\u001b[1;32m    524\u001b[0m \t\t\t\t)\n\u001b[1;32m    525\u001b[0m \u001b[0;34m\u001b[0m\u001b[0m\n",
        "\u001b[0;32m/usr/local/lib/python2.7/site-packages/ShareYourSystem/Standards/Itemizers/Commander/__init__.pyc\u001b[0m in \u001b[0;36m<lambda>\u001b[0;34m(_CommanderClass__CommandedValueVariable)\u001b[0m\n\u001b[1;32m    518\u001b[0m \t\t\t\t\tif hasattr(\n\u001b[1;32m    519\u001b[0m                                                 \u001b[0m__CommandedValueVariable\u001b[0m\u001b[0;34m,\u001b[0m\u001b[0;34m\u001b[0m\u001b[0m\n\u001b[0;32m--> 520\u001b[0;31m                                                 \u001b[0;34m'command'\u001b[0m\u001b[0;34m\u001b[0m\u001b[0m\n\u001b[0m\u001b[1;32m    521\u001b[0m \t\t\t\t\t)\n\u001b[1;32m    522\u001b[0m                                         \u001b[0;32melse\u001b[0m \u001b[0mNone\u001b[0m\u001b[0;34m,\u001b[0m\u001b[0;34m\u001b[0m\u001b[0m\n",
        "\u001b[0;32m/usr/local/lib/python2.7/site-packages/ShareYourSystem/Standards/Classors/Doer/__init__.pyc\u001b[0m in \u001b[0;36msuperDo_command\u001b[0;34m(_InstanceVariable, _KeyVariable, _SetVariable, _OrderStr, _BeforeWalkRigidBool, _AfterWalkRigidBool, _BeforeSelfRigidBool, _AfterSelfRigidBool, _GetRigidBool, _SetRigidBool, _SetAttrOrCallRigidBool, *_LiargVariablesList, **_KwargVariablesDict)\u001b[0m\n",
        "\u001b[0;32m/usr/local/lib/python2.7/site-packages/ShareYourSystem/Standards/Classors/Doer/__init__.pyc\u001b[0m in \u001b[0;36mdo\u001b[0;34m(_InstanceVariable, *_LiargVariablesList, **_KwargVariablesDict)\u001b[0m\n\u001b[1;32m    321\u001b[0m \t\treturn DoWrapUnboundMethod(\n\u001b[1;32m    322\u001b[0m                         \u001b[0m_InstanceVariable\u001b[0m\u001b[0;34m,\u001b[0m\u001b[0;34m\u001b[0m\u001b[0m\n\u001b[0;32m--> 323\u001b[0;31m                         \u001b[0;34m*\u001b[0m\u001b[0m_LiargVariablesList\u001b[0m\u001b[0;34m\u001b[0m\u001b[0m\n\u001b[0m\u001b[1;32m    324\u001b[0m \t\t)\n\u001b[1;32m    325\u001b[0m \u001b[0;31m#</DefineFunctions>\u001b[0m\u001b[0;34m\u001b[0m\u001b[0;34m\u001b[0m\u001b[0m\n",
        "\u001b[0;32m/usr/local/lib/python2.7/site-packages/ShareYourSystem/Standards/Itemizers/Commander/__init__.pyc\u001b[0m in \u001b[0;36mdo_command\u001b[0;34m(self)\u001b[0m\n\u001b[1;32m    521\u001b[0m \t\t\t\t\t)\n\u001b[1;32m    522\u001b[0m                                         \u001b[0;32melse\u001b[0m \u001b[0mNone\u001b[0m\u001b[0;34m,\u001b[0m\u001b[0;34m\u001b[0m\u001b[0m\n\u001b[0;32m--> 523\u001b[0;31m                                         \u001b[0mself\u001b[0m\u001b[0;34m.\u001b[0m\u001b[0mCommandedValueVariablesList\u001b[0m\u001b[0;34m\u001b[0m\u001b[0m\n\u001b[0m\u001b[1;32m    524\u001b[0m \t\t\t\t)\n\u001b[1;32m    525\u001b[0m \u001b[0;34m\u001b[0m\u001b[0m\n",
        "\u001b[0;32m/usr/local/lib/python2.7/site-packages/ShareYourSystem/Standards/Itemizers/Commander/__init__.pyc\u001b[0m in \u001b[0;36m<lambda>\u001b[0;34m(_CommanderClass__CommandedValueVariable)\u001b[0m\n\u001b[1;32m    518\u001b[0m \t\t\t\t\tif hasattr(\n\u001b[1;32m    519\u001b[0m                                                 \u001b[0m__CommandedValueVariable\u001b[0m\u001b[0;34m,\u001b[0m\u001b[0;34m\u001b[0m\u001b[0m\n\u001b[0;32m--> 520\u001b[0;31m                                                 \u001b[0;34m'command'\u001b[0m\u001b[0;34m\u001b[0m\u001b[0m\n\u001b[0m\u001b[1;32m    521\u001b[0m \t\t\t\t\t)\n\u001b[1;32m    522\u001b[0m                                         \u001b[0;32melse\u001b[0m \u001b[0mNone\u001b[0m\u001b[0;34m,\u001b[0m\u001b[0;34m\u001b[0m\u001b[0m\n",
        "\u001b[0;32m/usr/local/lib/python2.7/site-packages/ShareYourSystem/Standards/Classors/Doer/__init__.pyc\u001b[0m in \u001b[0;36msuperDo_command\u001b[0;34m(_InstanceVariable, _KeyVariable, _SetVariable, _OrderStr, _BeforeWalkRigidBool, _AfterWalkRigidBool, _BeforeSelfRigidBool, _AfterSelfRigidBool, _GetRigidBool, _SetRigidBool, _SetAttrOrCallRigidBool, *_LiargVariablesList, **_KwargVariablesDict)\u001b[0m\n",
        "\u001b[0;32m/usr/local/lib/python2.7/site-packages/ShareYourSystem/Standards/Classors/Doer/__init__.pyc\u001b[0m in \u001b[0;36mdo\u001b[0;34m(_InstanceVariable, *_LiargVariablesList, **_KwargVariablesDict)\u001b[0m\n\u001b[1;32m    321\u001b[0m \t\treturn DoWrapUnboundMethod(\n\u001b[1;32m    322\u001b[0m                         \u001b[0m_InstanceVariable\u001b[0m\u001b[0;34m,\u001b[0m\u001b[0;34m\u001b[0m\u001b[0m\n\u001b[0;32m--> 323\u001b[0;31m                         \u001b[0;34m*\u001b[0m\u001b[0m_LiargVariablesList\u001b[0m\u001b[0;34m\u001b[0m\u001b[0m\n\u001b[0m\u001b[1;32m    324\u001b[0m \t\t)\n\u001b[1;32m    325\u001b[0m \u001b[0;31m#</DefineFunctions>\u001b[0m\u001b[0;34m\u001b[0m\u001b[0;34m\u001b[0m\u001b[0m\n",
        "\u001b[0;32m/usr/local/lib/python2.7/site-packages/ShareYourSystem/Standards/Itemizers/Commander/__init__.pyc\u001b[0m in \u001b[0;36mdo_command\u001b[0;34m(self)\u001b[0m\n\u001b[1;32m    346\u001b[0m                                                         \u001b[0mself\u001b[0m\u001b[0;34m.\u001b[0m\u001b[0mCommandedSetVariablesList\u001b[0m\u001b[0;34m\u001b[0m\u001b[0m\n\u001b[1;32m    347\u001b[0m \t\t\t\t\t\t),\n\u001b[0;32m--> 348\u001b[0;31m                                                 \u001b[0mself\u001b[0m\u001b[0;34m.\u001b[0m\u001b[0mCommandedValueVariablesList\u001b[0m\u001b[0;34m\u001b[0m\u001b[0m\n\u001b[0m\u001b[1;32m    349\u001b[0m \t\t\t\t\t)\n\u001b[1;32m    350\u001b[0m \u001b[0;34m\u001b[0m\u001b[0m\n",
        "\u001b[0;32m/usr/local/lib/python2.7/site-packages/ShareYourSystem/Standards/Itemizers/Commander/__init__.pyc\u001b[0m in \u001b[0;36m<lambda>\u001b[0;34m(_CommanderClass__CommandedValueVariable)\u001b[0m\n\u001b[1;32m    344\u001b[0m                                                                 \u001b[0m__CommandedSetVariable\u001b[0m\u001b[0;34m\u001b[0m\u001b[0m\n\u001b[1;32m    345\u001b[0m \t\t\t\t\t\t\t),\n\u001b[0;32m--> 346\u001b[0;31m                                                         \u001b[0mself\u001b[0m\u001b[0;34m.\u001b[0m\u001b[0mCommandedSetVariablesList\u001b[0m\u001b[0;34m\u001b[0m\u001b[0m\n\u001b[0m\u001b[1;32m    347\u001b[0m \t\t\t\t\t\t),\n\u001b[1;32m    348\u001b[0m                                                 \u001b[0mself\u001b[0m\u001b[0;34m.\u001b[0m\u001b[0mCommandedValueVariablesList\u001b[0m\u001b[0;34m\u001b[0m\u001b[0m\n",
        "\u001b[0;32m/usr/local/lib/python2.7/site-packages/ShareYourSystem/Standards/Itemizers/Commander/__init__.pyc\u001b[0m in \u001b[0;36m<lambda>\u001b[0;34m(_CommanderClass__CommandedSetVariable)\u001b[0m\n\u001b[1;32m    342\u001b[0m                                                         \u001b[0;32mlambda\u001b[0m \u001b[0m__CommandedSetVariable\u001b[0m\u001b[0;34m:\u001b[0m\u001b[0;34m\u001b[0m\u001b[0m\n\u001b[1;32m    343\u001b[0m \t\t\t\t\t\t\t__CommandedValueVariable.setAttrOrCall(\n\u001b[0;32m--> 344\u001b[0;31m                                                                 \u001b[0m__CommandedSetVariable\u001b[0m\u001b[0;34m\u001b[0m\u001b[0m\n\u001b[0m\u001b[1;32m    345\u001b[0m \t\t\t\t\t\t\t),\n\u001b[1;32m    346\u001b[0m                                                         \u001b[0mself\u001b[0m\u001b[0;34m.\u001b[0m\u001b[0mCommandedSetVariablesList\u001b[0m\u001b[0;34m\u001b[0m\u001b[0m\n",
        "\u001b[0;32m/usr/local/lib/python2.7/site-packages/ShareYourSystem/Standards/Itemizers/Setter/__init__.pyc\u001b[0m in \u001b[0;36msetAttrOrCall\u001b[0;34m(self, _ItemVariable)\u001b[0m\n\u001b[1;32m   1710\u001b[0m \u001b[0;34m\u001b[0m\u001b[0m\n\u001b[1;32m   1711\u001b[0m                         \u001b[0;31m#getattr\u001b[0m\u001b[0;34m\u001b[0m\u001b[0;34m\u001b[0m\u001b[0m\n\u001b[0;32m-> 1712\u001b[0;31m                         \u001b[0mgetattr\u001b[0m\u001b[0;34m(\u001b[0m\u001b[0mself\u001b[0m\u001b[0;34m,\u001b[0m\u001b[0m_ItemVariable\u001b[0m\u001b[0;34m)\u001b[0m\u001b[0;34m(\u001b[0m\u001b[0;34m)\u001b[0m\u001b[0;34m\u001b[0m\u001b[0m\n\u001b[0m\u001b[1;32m   1713\u001b[0m \u001b[0;34m\u001b[0m\u001b[0m\n\u001b[1;32m   1714\u001b[0m \u001b[0;34m\u001b[0m\u001b[0m\n",
        "\u001b[0;32m/usr/local/lib/python2.7/site-packages/ShareYourSystem/Standards/Classors/Binder/__init__.pyc\u001b[0m in \u001b[0;36mswitch_watch_superDo_brian\u001b[0;34m(_InstanceVariable, *_LiargVariablesList, **_KwargVariablesDict)\u001b[0m\n",
        "\u001b[0;32m/usr/local/lib/python2.7/site-packages/ShareYourSystem/Standards/Classors/Switcher/__init__.pyc\u001b[0m in \u001b[0;36mswitch\u001b[0;34m(_InstanceVariable, *_LiargVariablesList, **_KwargVariablesDict)\u001b[0m\n\u001b[1;32m    269\u001b[0m                 \u001b[0m_InstanceVariable\u001b[0m\u001b[0;34m,\u001b[0m\u001b[0;34m\u001b[0m\u001b[0m\n\u001b[1;32m    270\u001b[0m                 \u001b[0;34m*\u001b[0m\u001b[0m_LiargVariablesList\u001b[0m\u001b[0;34m,\u001b[0m\u001b[0;34m\u001b[0m\u001b[0m\n\u001b[0;32m--> 271\u001b[0;31m                 \u001b[0;34m**\u001b[0m\u001b[0m_KwargVariablesDict\u001b[0m\u001b[0;34m\u001b[0m\u001b[0m\n\u001b[0m\u001b[1;32m    272\u001b[0m \t)\n\u001b[1;32m    273\u001b[0m \u001b[0;34m\u001b[0m\u001b[0m\n",
        "\u001b[0;32m/usr/local/lib/python2.7/site-packages/ShareYourSystem/Standards/Classors/Binder/__init__.pyc\u001b[0m in \u001b[0;36mwatch_superDo_brian\u001b[0;34m(_InstanceVariable, *_LiargVariablesList, **_KwargVariablesDict)\u001b[0m\n",
        "\u001b[0;32m/usr/local/lib/python2.7/site-packages/ShareYourSystem/Standards/Classors/Watcher/__init__.pyc\u001b[0m in \u001b[0;36mwatch\u001b[0;34m(_InstanceVariable, *_LiargVariablesList, **_KwargVariablesDict)\u001b[0m\n\u001b[1;32m    105\u001b[0m                 \u001b[0m_InstanceVariable\u001b[0m\u001b[0;34m,\u001b[0m\u001b[0;34m\u001b[0m\u001b[0m\n\u001b[1;32m    106\u001b[0m                 \u001b[0;34m*\u001b[0m\u001b[0m_LiargVariablesList\u001b[0m\u001b[0;34m,\u001b[0m\u001b[0;34m\u001b[0m\u001b[0m\n\u001b[0;32m--> 107\u001b[0;31m                 \u001b[0;34m**\u001b[0m\u001b[0m_KwargVariablesDict\u001b[0m\u001b[0;34m\u001b[0m\u001b[0m\n\u001b[0m\u001b[1;32m    108\u001b[0m \t)\n\u001b[1;32m    109\u001b[0m \u001b[0;34m\u001b[0m\u001b[0m\n",
        "\u001b[0;32m/usr/local/lib/python2.7/site-packages/ShareYourSystem/Standards/Classors/Doer/__init__.pyc\u001b[0m in \u001b[0;36msuperDo_brian\u001b[0;34m(_InstanceVariable, _NeurongroupDict, _SynapsesDict, _ConnectVariable, _TraceDict, _MoniterTuple, _SpikesDict, _PyplotDict, _TimeQuantityStr, _PyplotBool, _StepTimeFloat, _DebugInt, _RecordBool, *_LiargVariablesList, **_KwargVariablesDict)\u001b[0m\n",
        "\u001b[0;32m/usr/local/lib/python2.7/site-packages/ShareYourSystem/Standards/Classors/Doer/__init__.pyc\u001b[0m in \u001b[0;36mdo\u001b[0;34m(_InstanceVariable, *_LiargVariablesList, **_KwargVariablesDict)\u001b[0m\n\u001b[1;32m    321\u001b[0m \t\treturn DoWrapUnboundMethod(\n\u001b[1;32m    322\u001b[0m                         \u001b[0m_InstanceVariable\u001b[0m\u001b[0;34m,\u001b[0m\u001b[0;34m\u001b[0m\u001b[0m\n\u001b[0;32m--> 323\u001b[0;31m                         \u001b[0;34m*\u001b[0m\u001b[0m_LiargVariablesList\u001b[0m\u001b[0;34m\u001b[0m\u001b[0m\n\u001b[0m\u001b[1;32m    324\u001b[0m \t\t)\n\u001b[1;32m    325\u001b[0m \u001b[0;31m#</DefineFunctions>\u001b[0m\u001b[0;34m\u001b[0m\u001b[0;34m\u001b[0m\u001b[0m\n",
        "\u001b[0;32m/usr/local/lib/python2.7/site-packages/ShareYourSystem/Standards/Recorders/Brianer/__init__.pyc\u001b[0m in \u001b[0;36mdo_brian\u001b[0;34m(self)\u001b[0m\n\u001b[1;32m    253\u001b[0m \t\t\t\tgetattr(\n\u001b[1;32m    254\u001b[0m                                         \u001b[0mself\u001b[0m\u001b[0;34m,\u001b[0m\u001b[0;34m\u001b[0m\u001b[0m\n\u001b[0;32m--> 255\u001b[0;31m                                         \u001b[0mBrianedMethodKeyStr\u001b[0m\u001b[0;34m\u001b[0m\u001b[0m\n\u001b[0m\u001b[1;32m    256\u001b[0m \t\t\t\t)()\n\u001b[1;32m    257\u001b[0m \u001b[0;34m\u001b[0m\u001b[0m\n",
        "\u001b[0;32m/usr/local/lib/python2.7/site-packages/ShareYourSystem/Standards/Recorders/Leaker/__init__.pyc\u001b[0m in \u001b[0;36mbrianTrace\u001b[0;34m(self)\u001b[0m\n\u001b[1;32m   1363\u001b[0m \u001b[0;34m\u001b[0m\u001b[0m\n\u001b[1;32m   1364\u001b[0m                 \u001b[0;31m#call the base method\u001b[0m\u001b[0;34m\u001b[0m\u001b[0;34m\u001b[0m\u001b[0m\n\u001b[0;32m-> 1365\u001b[0;31m                 \u001b[0mBaseClass\u001b[0m\u001b[0;34m.\u001b[0m\u001b[0mbrianTrace\u001b[0m\u001b[0;34m(\u001b[0m\u001b[0mself\u001b[0m\u001b[0;34m)\u001b[0m\u001b[0;34m\u001b[0m\u001b[0m\n\u001b[0m\u001b[1;32m   1366\u001b[0m \u001b[0;34m\u001b[0m\u001b[0m\n\u001b[1;32m   1367\u001b[0m         \u001b[0;32mdef\u001b[0m \u001b[0mbrianInput\u001b[0m\u001b[0;34m(\u001b[0m\u001b[0mself\u001b[0m\u001b[0;34m)\u001b[0m\u001b[0;34m:\u001b[0m\u001b[0;34m\u001b[0m\u001b[0m\n",
        "\u001b[0;32m/usr/local/lib/python2.7/site-packages/ShareYourSystem/Standards/Recorders/Brianer/__init__.pyc\u001b[0m in \u001b[0;36mbrianTrace\u001b[0;34m(self)\u001b[0m\n\u001b[1;32m    870\u001b[0m \u001b[0;34m\u001b[0m\u001b[0m\n\u001b[1;32m    871\u001b[0m                         \u001b[0;31m#record\u001b[0m\u001b[0;34m\u001b[0m\u001b[0;34m\u001b[0m\u001b[0m\n\u001b[0;32m--> 872\u001b[0;31m                         \u001b[0mself\u001b[0m\u001b[0;34m.\u001b[0m\u001b[0mrecord\u001b[0m\u001b[0;34m(\u001b[0m\u001b[0;34m)\u001b[0m\u001b[0;34m\u001b[0m\u001b[0m\n\u001b[0m\u001b[1;32m    873\u001b[0m \u001b[0;34m\u001b[0m\u001b[0m\n\u001b[1;32m    874\u001b[0m                 \u001b[0;31m#/####################/#\u001b[0m\u001b[0;34m\u001b[0m\u001b[0;34m\u001b[0m\u001b[0m\n",
        "\u001b[0;32m/usr/local/lib/python2.7/site-packages/ShareYourSystem/Standards/Classors/Mimicker/__init__.pyc\u001b[0m in \u001b[0;36msuperMimic_superDo_record\u001b[0;34m(_InstanceVariable, _KeyVariable, *_LiargVariablesList, **_KwargVariablesDict)\u001b[0m\n",
        "\u001b[0;32m/usr/local/lib/python2.7/site-packages/ShareYourSystem/Standards/Classors/Mimicker/__init__.pyc\u001b[0m in \u001b[0;36mmimic\u001b[0;34m(_InstanceVariable, *_LiargVariablesList, **_KwargVariablesDict)\u001b[0m\n\u001b[1;32m    115\u001b[0m \t\tMimicOutputVariable=MimicUnBoundMethod(\n\u001b[1;32m    116\u001b[0m                                 \u001b[0m_InstanceVariable\u001b[0m\u001b[0;34m,\u001b[0m\u001b[0;34m\u001b[0m\u001b[0m\n\u001b[0;32m--> 117\u001b[0;31m                                 \u001b[0;34m*\u001b[0m\u001b[0m_LiargVariablesList\u001b[0m\u001b[0;34m\u001b[0m\u001b[0m\n\u001b[0m\u001b[1;32m    118\u001b[0m \t\t\t)\n\u001b[1;32m    119\u001b[0m \u001b[0;34m\u001b[0m\u001b[0m\n",
        "\u001b[0;32m/usr/local/lib/python2.7/site-packages/ShareYourSystem/Standards/Recorders/Brianer/__init__.pyc\u001b[0m in \u001b[0;36mmimic_record\u001b[0;34m(self)\u001b[0m\n\u001b[1;32m   1641\u001b[0m \u001b[0;34m\u001b[0m\u001b[0m\n\u001b[1;32m   1642\u001b[0m                 \u001b[0;31m#base method\u001b[0m\u001b[0;34m\u001b[0m\u001b[0;34m\u001b[0m\u001b[0m\n\u001b[0;32m-> 1643\u001b[0;31m                 \u001b[0mBaseClass\u001b[0m\u001b[0;34m.\u001b[0m\u001b[0mrecord\u001b[0m\u001b[0;34m(\u001b[0m\u001b[0mself\u001b[0m\u001b[0;34m)\u001b[0m\u001b[0;34m\u001b[0m\u001b[0m\n\u001b[0m\u001b[1;32m   1644\u001b[0m \u001b[0;34m\u001b[0m\u001b[0m\n\u001b[1;32m   1645\u001b[0m                 \u001b[0;31m#debug\u001b[0m\u001b[0;34m\u001b[0m\u001b[0;34m\u001b[0m\u001b[0m\n",
        "\u001b[0;32m/usr/local/lib/python2.7/site-packages/ShareYourSystem/Standards/Classors/Doer/__init__.pyc\u001b[0m in \u001b[0;36msuperDo_record\u001b[0;34m(_InstanceVariable, _KeyVariable, *_LiargVariablesList, **_KwargVariablesDict)\u001b[0m\n",
        "\u001b[0;32m/usr/local/lib/python2.7/site-packages/ShareYourSystem/Standards/Classors/Doer/__init__.pyc\u001b[0m in \u001b[0;36mdo\u001b[0;34m(_InstanceVariable, *_LiargVariablesList, **_KwargVariablesDict)\u001b[0m\n\u001b[1;32m    321\u001b[0m \t\treturn DoWrapUnboundMethod(\n\u001b[1;32m    322\u001b[0m                         \u001b[0m_InstanceVariable\u001b[0m\u001b[0;34m,\u001b[0m\u001b[0;34m\u001b[0m\u001b[0m\n\u001b[0;32m--> 323\u001b[0;31m                         \u001b[0;34m*\u001b[0m\u001b[0m_LiargVariablesList\u001b[0m\u001b[0;34m\u001b[0m\u001b[0m\n\u001b[0m\u001b[1;32m    324\u001b[0m \t\t)\n\u001b[1;32m    325\u001b[0m \u001b[0;31m#</DefineFunctions>\u001b[0m\u001b[0;34m\u001b[0m\u001b[0;34m\u001b[0m\u001b[0m\n",
        "\u001b[0;32m/usr/local/lib/python2.7/site-packages/ShareYourSystem/Standards/Recorders/Recorder/__init__.pyc\u001b[0m in \u001b[0;36mdo_record\u001b[0;34m(self)\u001b[0m\n\u001b[1;32m    180\u001b[0m \t\t\t\t\t\tSYS.deprefix(\n\u001b[1;32m    181\u001b[0m                                                         \u001b[0mself\u001b[0m\u001b[0;34m.\u001b[0m\u001b[0mManagementTagStr\u001b[0m\u001b[0;34m,\u001b[0m\u001b[0;34m\u001b[0m\u001b[0m\n\u001b[0;32m--> 182\u001b[0;31m                                                         \u001b[0mRecordPrefixStr\u001b[0m\u001b[0;34m\u001b[0m\u001b[0m\n\u001b[0m\u001b[1;32m    183\u001b[0m \t\t\t\t\t\t)\n\u001b[1;32m    184\u001b[0m \t\t\t\t\t)\n",
        "\u001b[0;31mAttributeError\u001b[0m: 'PredicterClass' object has no attribute 'U'"
       ]
      }
     ],
     "prompt_number": 1
    },
    {
     "cell_type": "code",
     "collapsed": false,
     "input": [
      "#/###################/#\n",
      "# Simulate\n",
      "#\n",
      "\n",
      "MyPredicter.simulate(\n",
      "    #SimulatingStopTimeFloat (ms here)\n",
      "    500.\n",
      ")\n",
      "\n",
      "#/###################/#\n",
      "# View\n",
      "#\n",
      "\n",
      "MyPredicter['/-Populations/|Sensor'].pyplot();\n",
      "SYS.matplotlib.pyplot.show()"
     ],
     "language": "python",
     "metadata": {},
     "outputs": []
    }
   ],
   "metadata": {}
  }
 ]
}