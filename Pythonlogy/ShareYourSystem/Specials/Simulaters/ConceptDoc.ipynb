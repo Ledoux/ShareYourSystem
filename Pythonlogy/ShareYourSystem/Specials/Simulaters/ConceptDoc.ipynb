{
  "nbformat": 3, 
  "worksheets": [
    {
      "cells": [
        {
          "source": "\n<!--\nFrozenIsBool False\n-->\n\n#Simulater\n\n##Doc\n----\n\n\n> \n> A Simulater\n> \n> \n\n----\n\n<small>\nView the Simulater notebook on [NbViewer](http://nbviewer.ipython.org/url/shareyoursystem.ouvaton.org/Simulater.ipynb)\n</small>\n\n", 
          "cell_type": "markdown", 
          "prompt_number": 0, 
          "metadata": {
            "slideshow": {
              "slide_type": "slide"
            }
          }
        }, 
        {
          "source": "\n<!--\nFrozenIsBool False\n-->\n\n##Code\n\n----\n\n<ClassDocStr>\n\n----\n\n```python\n# -*- coding: utf-8 -*-\n\"\"\"\n\n\n<DefineSource>\n@Date : Fri Nov 14 13:20:38 2014 \\n\n@Author : Erwan Ledoux \\n\\n\n</DefineSource>\n\n\nA Simulater\n\n\"\"\"\n\n#<DefineAugmentation>\nimport ShareYourSystem as SYS\nBaseModuleStr=\"ShareYourSystem.Storers.Controller\"\nDecorationModuleStr=\"ShareYourSystem.Standards.Classors.Classer\"\nSYS.setSubModule(globals())\n#</DefineAugmentation>\n\n#<ImportSpecificModules>\n#</ImportSpecificModules>\n\n#<DefineClass>\n@DecorationClass()\nclass SimulaterClass(BaseClass):\n\t\n\t#Definition\n\tRepresentingKeyStrsList=[\n\t\t'SimulatingStopTimeFloat',\n\t\t'SimulatingStepTimeFloat'\n\t]\n\n\t#@Hooker.HookerClass(**{'HookingAfterVariablesList':[{'CallingVariable':BaseClass.__init__}]})\n\tdef default_init(self,\n\t\t\t\t\t\t_SimulatingStopTimeFloat=100.,\n\t\t\t\t\t\t_SimulatingStepTimeFloat=0.1,\n\t\t\t\t\t\t**_KwargVariablesDict\n\t\t\t\t\t):\n\n\t\t#Call the parent __init__ method\n\t\tBaseClass.__init__(self,**_KwargVariablesDict)\n\n\t#@Hooker.HookerClass(**{'HookingAfterVariablesList':[{'CallingMethodStr':'hdformat'}]})\n\t#@Argumenter.ArgumenterClass()\n\tdef do_simulate(\n\t\t\t\tself,\n\t\t\t\t**_KwargVariablesDict\n\t\t\t):\t\n\n\t\t#debug\n\t\t'''\n\t\tself.debug(('self.',self,[\n\n\t\t\t\t\t]))\n\t\t'''\n\t\t#Return self\n\t\t#return self\n\n#</DefineClass>\n\n```\n\n<small>\nView the Simulater sources on <a href=\"https://github.com/Ledoux/ShareYourSystem/tree/master/Pythonlogy/ShareYourSystem/Simulaters/Simulater\" target=\"_blank\">Github</a>\n</small>\n\n", 
          "cell_type": "markdown", 
          "prompt_number": 1, 
          "metadata": {
            "slideshow": {
              "slide_type": "subslide"
            }
          }
        }, 
        {
          "source": "\n<!--\nFrozenIsBool False\n-->\n\n#Runner\n\n##Doc\n----\n\n\n> \n> A Runner\n> \n> \n\n----\n\n<small>\nView the Runner notebook on [NbViewer](http://nbviewer.ipython.org/url/shareyoursystem.ouvaton.org/Runner.ipynb)\n</small>\n\n", 
          "cell_type": "markdown", 
          "prompt_number": 2, 
          "metadata": {
            "slideshow": {
              "slide_type": "slide"
            }
          }
        }, 
        {
          "source": "\n<!--\nFrozenIsBool False\n-->\n\n##Code\n\n----\n\n<ClassDocStr>\n\n----\n\n```python\n# -*- coding: utf-8 -*-\n\"\"\"\n\n\n<DefineSource>\n@Date : Fri Nov 14 13:20:38 2014 \\n\n@Author : Erwan Ledoux \\n\\n\n</DefineSource>\n\n\nA Runner\n\n\"\"\"\n\n#<DefineAugmentation>\nimport ShareYourSystem as SYS\nBaseModuleStr=\"ShareYourSystem.Specials.Simulaters.Simulater\"\nDecorationModuleStr=\"ShareYourSystem.Standards.Classors.Classer\"\nSYS.setSubModule(globals())\n#</DefineAugmentation>\n\n#<ImportSpecificModules>\n#</ImportSpecificModules>\n\n#<DefineClass>\n@DecorationClass()\nclass RunnerClass(BaseClass):\n\t\n\t#Definition\n\tRepresentingKeyStrsList=[\n\t\t\t\t\t\t\t\t\t'RunningTimeFloat'\n\t\t\t\t\t\t\t\t]\n\n\tdef default_init(self,\n\t\t\t\t\t\t_RunningTimeFloat=0.,\n\t\t\t\t\t\t**_KwargVariablesDict\n\t\t\t\t\t):\n\n\t\t#Call the parent __init__ method\n\t\tBaseClass.__init__(self,**_KwargVariablesDict)\n\n\tdef do_run(\n\t\t\t\tself\n\t\t\t):\t\n\n\t\tpass\n\n\t\t#Return self\n\t\t#return self\n\n#</DefineClass>\n\n```\n\n<small>\nView the Runner sources on <a href=\"https://github.com/Ledoux/ShareYourSystem/tree/master/Pythonlogy/ShareYourSystem/Simulaters/Runner\" target=\"_blank\">Github</a>\n</small>\n\n", 
          "cell_type": "markdown", 
          "prompt_number": 3, 
          "metadata": {
            "slideshow": {
              "slide_type": "subslide"
            }
          }
        }, 
        {
          "source": "\n<!--\nFrozenIsBool False\n-->\n\n#Moniter\n\n##Doc\n----\n\n\n> \n> A Moniter\n> \n> \n\n----\n\n<small>\nView the Moniter notebook on [NbViewer](http://nbviewer.ipython.org/url/shareyoursystem.ouvaton.org/Moniter.ipynb)\n</small>\n\n", 
          "cell_type": "markdown", 
          "prompt_number": 4, 
          "metadata": {
            "slideshow": {
              "slide_type": "slide"
            }
          }
        }, 
        {
          "source": "\n<!--\nFrozenIsBool False\n-->\n\n##Code\n\n----\n\n<ClassDocStr>\n\n----\n\n```python\n# -*- coding: utf-8 -*-\n\"\"\"\n\n\n<DefineSource>\n@Date : Fri Nov 14 13:20:38 2014 \\n\n@Author : Erwan Ledoux \\n\\n\n</DefineSource>\n\n\nA Moniter\n\n\"\"\"\n\n\n#<DefineAugmentation>\nimport ShareYourSystem as SYS\nBaseModuleStr=\"ShareYourSystem.Specials.Simulaters.Runner\"\nDecorationModuleStr=\"ShareYourSystem.Standards.Classors.Representer\"\nSYS.setSubModule(globals())\n#</DefineAugmentation>\n\n#<ImportSpecificModules>\n#</ImportSpecificModules>\n\n#<DefineDoStrsList>\nDoStrsList=[\"Moniter\",\"Monit\",\"Monitering\",\"Monitered\"]\n#<DefineDoStrsList>\n\n#<DefineClass>\n@DecorationClass()\nclass MoniterClass(BaseClass):\n\n\t#Definition\n\tRepresentingKeyStrsList=[\n\t\t\t\t\t\t\t\t\t'MonitoringTrackTuplesList'\n\t\t\t\t\t\t\t\t]\n\t\n\tdef default_init(self,\n\t\t\t\t\t\t_MoniteringTrackTuplesList=None,\n\t\t\t\t\t\t**_KwargVariablesDict\n\t\t\t\t\t):\n\t\t\n\t\t#Call the parent init method\n\t\tBaseClass.__init__(self,**_KwargVariablesDict)\n\t\n\t#<DefineDoMethod>\t\n\tdef do_monit(self):\n\n\t\tpass\n\n#</DefineClass>\n\n\n```\n\n<small>\nView the Moniter sources on <a href=\"https://github.com/Ledoux/ShareYourSystem/tree/master/Pythonlogy/ShareYourSystem/Simulaters/Moniter\" target=\"_blank\">Github</a>\n</small>\n\n", 
          "cell_type": "markdown", 
          "prompt_number": 5, 
          "metadata": {
            "slideshow": {
              "slide_type": "subslide"
            }
          }
        }, 
        {
          "source": "\n<!--\nFrozenIsBool False\n-->\n\n#Populater\n\n##Doc\n----\n\n\n> \n> A Populater\n> \n> \n\n----\n\n<small>\nView the Populater notebook on [NbViewer](http://nbviewer.ipython.org/url/shareyoursystem.ouvaton.org/Populater.ipynb)\n</small>\n\n", 
          "cell_type": "markdown", 
          "prompt_number": 6, 
          "metadata": {
            "slideshow": {
              "slide_type": "slide"
            }
          }
        }, 
        {
          "source": "\n<!--\nFrozenIsBool False\n-->\n\n##Code\n\n----\n\n<ClassDocStr>\n\n----\n\n```python\n# -*- coding: utf-8 -*-\n\"\"\"\n\n\n<DefineSource>\n@Date : Fri Nov 14 13:20:38 2014 \\n\n@Author : Erwan Ledoux \\n\\n\n</DefineSource>\n\n\nA Populater\n\n\"\"\"\n\n#<DefineAugmentation>\nimport ShareYourSystem as SYS\nBaseModuleStr=\"ShareYourSystem.Specials.Simulaters.Moniter\"\nDecorationModuleStr=\"ShareYourSystem.Standards.Classors.Classer\"\nSYS.setSubModule(globals())\n#</DefineAugmentation>\n\n#<DefineClass>\n@DecorationClass()\nclass PopulaterClass(BaseClass):\n\t\n\t#Definition\n\tRepresentingKeyStrsList=[\n\t\t\t\t\t\t\t\t'PopulatingUnitsInt',\n\t\t\t\t\t\t\t\t'PopulatingEquationStr',\n\t\t\t\t\t\t\t\t'PopulatingThresholdStr',\n\t\t\t\t\t\t\t\t'PopulatingResetStr',\n\t\t\t\t\t\t\t\t'PopulatingCommunicationDictsList'\n\t\t\t\t\t\t\t]\n\n\tdef default_init(self,\n\t\t\t\t\t\t_PopulatingUnitsInt=0,\n\t\t\t\t\t\t_PopulatingEquationStr='''\n\t\t\t\t\t\t\tdv/dt = (ge+gi-(v+49*mV))/(20*ms) : volt\n\t\t\t\t\t\t\tdge/dt = -ge/(5*ms) : volt\n\t\t\t\t\t\t\tdgi/dt = -gi/(10*ms) : volt\n\t\t\t\t\t\t''',\n\t\t\t\t\t\t_PopulatingThresholdStr='v>-50*mV',\n\t\t\t\t\t\t_PopulatingResetStr='v=-60*mV',\n\t\t\t\t\t\t_PopulatingCommunicationDictsList=None,\n\t\t\t\t\t\t**_KwargVariablesDict\n\t\t\t\t\t):\n\n\t\t#Call the parent __init__ method\n\t\tBaseClass.__init__(self,**_KwargVariablesDict)\n\n\tdef do_populate(self):\t\n\n\t\t#debug\n\t\t'''\n\t\tself.debug(('self.',self,[\n\n\t\t\t\t\t]))\n\t\t'''\n\n\t\t#monit first\n\t\tself.monit()\n\n\n\t\t#Return self\n\t\t#return self\n\n#</DefineClass>\n\n```\n\n<small>\nView the Populater sources on <a href=\"https://github.com/Ledoux/ShareYourSystem/tree/master/Pythonlogy/ShareYourSystem/Simulaters/Populater\" target=\"_blank\">Github</a>\n</small>\n\n", 
          "cell_type": "markdown", 
          "prompt_number": 7, 
          "metadata": {
            "slideshow": {
              "slide_type": "subslide"
            }
          }
        }, 
        {
          "source": "\n<!--\nFrozenIsBool False\n-->\n\n#Dynamizer\n\n##Doc\n----\n\n\n> \n> A Dynamizer\n> \n> \n\n----\n\n<small>\nView the Dynamizer notebook on [NbViewer](http://nbviewer.ipython.org/url/shareyoursystem.ouvaton.org/Dynamizer.ipynb)\n</small>\n\n", 
          "cell_type": "markdown", 
          "prompt_number": 8, 
          "metadata": {
            "slideshow": {
              "slide_type": "slide"
            }
          }
        }, 
        {
          "source": "\n<!--\nFrozenIsBool False\n-->\n\n##Code\n\n----\n\n<ClassDocStr>\n\n----\n\n```python\n# -*- coding: utf-8 -*-\n\"\"\"\n\n\n<DefineSource>\n@Date : Fri Nov 14 13:20:38 2014 \\n\n@Author : Erwan Ledoux \\n\\n\n</DefineSource>\n\n\nA Dynamizer\n\n\"\"\"\n\n#<DefineAugmentation>\nimport ShareYourSystem as SYS\nBaseModuleStr=\"ShareYourSystem.Specials.Simulaters.Populater\"\nDecorationModuleStr=\"ShareYourSystem.Standards.Classors.Classer\"\nSYS.setSubModule(globals())\n#</DefineAugmentation>\n\n#<ImportSpecificModules>\n#</ImportSpecificModules>\n\n#<DefineClass>\n@DecorationClass()\nclass DynamizerClass(BaseClass):\n\t\n\t#Definition\n\tRepresentingKeyStrsList=[\n\t\t\t\t\t\t\t\t'DynamizingTraceStr',\n\t\t\t\t\t\t\t\t'DynamizingExternalCurrentStr',\n\t\t\t\t\t\t\t\t'DynamizingTraceDimensionStr',\n\t\t\t\t\t\t\t\t'DynamizedParamStr',\n\t\t\t\t\t\t\t\t'DynamizedParamStr',\n\t\t\t\t\t\t\t\t'DynamizedPreStr',\n\t\t\t\t\t\t\t\t'DynamizedPostStr'\n\t\t\t\t\t\t\t]\n\n\tdef default_init(self,\n\t\t\t\t\t\t_DynamizingTraceStr=\"v\",\n\t\t\t\t\t\t_DynamizingExternalCurrentStr='mu',\n\t\t\t\t\t\t_DynamizingTraceDimensionStr='mV',\n\t\t\t\t\t\t_DynamizingTimeDimensionStr='ms',\n\t\t\t\t\t\t_DynamizingThresholdFunction=None,\n\t\t\t\t\t\t_DynamizedParamStr=\"\",\n\t\t\t\t\t\t_DynamizedPreStr=\"\",\n\t\t\t\t\t\t_DynamizedPostStr=\"\",\n\t\t\t\t\t\t**_KwargVariablesDict\n\t\t\t\t\t):\n\n\t\t#Call the parent __init__ method\n\t\tBaseClass.__init__(self,**_KwargVariablesDict)\n\n\tdef do_dynamize(\n\t\t\t\tself,\n\t\t\t):\t\n\n\t\t#debug\n\t\t'''\n\t\tself.debug(('self.',self,[\n\n\t\t\t\t\t]))\n\t\t'''\n\n\t\t#set\n\t\tself.DynamizedPostStr='d'+self.DynamizingTraceStr+'/dt='\n\n\t\t#init\n\t\tself.DynamizedPreStr='('\n\n\t\t#Check\n\t\tif self.DynamizingExternalCurrentStr!=\"\":\n\n\t\t\t#Add in params declaration\n\t\t\tself.DynamizedParamStr+=self.DynamizingExternalCurrentStr+' : '+self.DynamizingTraceDimensionStr+'\\n'\n\n\t\t\t#Add in DynamizedPostStr\n\t\t\tself.DynamizedPreStr+=self.DynamizingExternalCurrentStr\n\n\tdef mimic_populate(self):\n\n\t\t#dynamize first\n\t\tself.dynamize()\n\n\t\t#set\n\t\tself.PopulatingEquationStr='\\n'.join(\n\t\t\t[\n\t\t\t\tself.DynamizedParamStr,\n\t\t\t\tself.DynamizedPostStr+self.DynamizedPreStr+' : '+self.DynamizingTraceDimensionStr\n\t\t\t]\n\t\t)\n\n\t\t#parent\n\t\tBaseClass.populate(self)\n\n#</DefineClass>\n\n```\n\n<small>\nView the Dynamizer sources on <a href=\"https://github.com/Ledoux/ShareYourSystem/tree/master/Pythonlogy/ShareYourSystem/Simulaters/Dynamizer\" target=\"_blank\">Github</a>\n</small>\n\n", 
          "cell_type": "markdown", 
          "prompt_number": 9, 
          "metadata": {
            "slideshow": {
              "slide_type": "subslide"
            }
          }
        }, 
        {
          "source": "\n<!--\nFrozenIsBool False\n-->\n\n#Lifer\n\n##Doc\n----\n\n\n> \n> A Lifer\n> \n> \n\n----\n\n<small>\nView the Lifer notebook on [NbViewer](http://nbviewer.ipython.org/url/shareyoursystem.ouvaton.org/Lifer.ipynb)\n</small>\n\n", 
          "cell_type": "markdown", 
          "prompt_number": 10, 
          "metadata": {
            "slideshow": {
              "slide_type": "slide"
            }
          }
        }, 
        {
          "source": "\n<!--\nFrozenIsBool False\n-->\n\n##Code\n\n----\n\n<ClassDocStr>\n\n----\n\n```python\n# -*- coding: utf-8 -*-\n\"\"\"\n\n\n<DefineSource>\n@Date : Fri Nov 14 13:20:38 2014 \\n\n@Author : Erwan Ledoux \\n\\n\n</DefineSource>\n\n\nA Lifer\n\n\"\"\"\n\n#<DefineAugmentation>\nimport ShareYourSystem as SYS\nBaseModuleStr=\"ShareYourSystem.Specials.Simulaters.Dynamizer\"\nDecorationModuleStr=\"ShareYourSystem.Standards.Classors.Classer\"\nSYS.setSubModule(globals())\n#</DefineAugmentation>\n\n#<DefineClass>\n@DecorationClass()\nclass LiferClass(BaseClass):\n\t\n\t#Definition\n\tRepresentingKeyStrsList=[\n\t\t\t\t\t\t\t\t'RatingMatrixStr',\n\t\t\t\t\t\t\t\t'RatedPreStr'\n\t\t\t\t\t\t\t]\n\n\tdef default_init(self,\n\t\t\t\t\t\t_LifingVoltage='J',\n\t\t\t\t\t\t_RatingConstantTimeFloat='tau',\n\t\t\t\t\t\t_RatedPreStr=\"\",\n\t\t\t\t\t\t**_KwargVariablesDict\n\t\t\t\t\t):\n\n\t\t#Call the parent __init__ method\n\t\tBaseClass.__init__(self,**_KwargVariablesDict)\n\n\tdef do_rate(\n\t\t\t\tself,\n\t\t\t):\t\n\n\t\n\t\t#debug\n\t\t'''\n\t\tself.debug(('self.',self,[\n\n\t\t\t\t\t]))\n\t\t'''\n\n\t\t#add the connection variable\t\t\n\t\tself.RatedPreStr+=self.RatingMatrixStr+self.DynamizingTraceStr\n\n\t\t#add the constant time\n\t\t#self.RatedPreStr+=')/('+self.RatingConstantTimeStr+'*'+self.DynamizingTimeDimensionStr+')'\n\t\tself.RatedPreStr+=')/('+self.RatingConstantTimeStr+')'\n\t\t\n\tdef mimic_dynamize(self):\n\n\t\t#parent method\n\t\tBaseClass.dynamize(self)\n\n\t\t#rate first\n\t\tself.rate()\n\n\t\t#add in the DynamizedPreStr \n\t\tif self.DynamizedPreStr!='(':\n\t\t\tself.DynamizedPreStr+=' + '\n\t\tself.DynamizedPreStr+=self.RatedPreStr \n\n\t\t#Check\n\t\tif self.RatingMatrixStr!=\"\":\n\t\t\tself.DynamizedParamStr+=self.RatingMatrixStr+self.DynamizingTraceStr+' : '+self.DynamizingTraceDimensionStr+'\\n'\n\n\t\t#Check\n\t\tif self.RatingConstantTimeStr!=\"\":\n\t\t\tself.DynamizedParamStr+=self.RatingConstantTimeStr+' : '+self.DynamizingTimeDimensionStr+'\\n'\n\n\t\t#set\n\t\tself.DynamizingRateThresholdFunction=lambda _VariableFloat :(_VariableFloat<=0.)\n\t\t\n#</DefineClass>\n\n```\n\n<small>\nView the Lifer sources on <a href=\"https://github.com/Ledoux/ShareYourSystem/tree/master/Pythonlogy/ShareYourSystem/Simulaters/Lifer\" target=\"_blank\">Github</a>\n</small>\n\n", 
          "cell_type": "markdown", 
          "prompt_number": 11, 
          "metadata": {
            "slideshow": {
              "slide_type": "subslide"
            }
          }
        }, 
        {
          "source": "\n<!--\nFrozenIsBool False\n-->\n\n#Rater\n\n##Doc\n----\n\n\n> \n> A Rater\n> \n> \n\n----\n\n<small>\nView the Rater notebook on [NbViewer](http://nbviewer.ipython.org/url/shareyoursystem.ouvaton.org/Rater.ipynb)\n</small>\n\n", 
          "cell_type": "markdown", 
          "prompt_number": 12, 
          "metadata": {
            "slideshow": {
              "slide_type": "slide"
            }
          }
        }, 
        {
          "source": "\n<!--\nFrozenIsBool False\n-->\n\n##Code\n\n----\n\n<ClassDocStr>\n\n----\n\n```python\n# -*- coding: utf-8 -*-\n\"\"\"\n\n\n<DefineSource>\n@Date : Fri Nov 14 13:20:38 2014 \\n\n@Author : Erwan Ledoux \\n\\n\n</DefineSource>\n\n\nA Rater\n\n\"\"\"\n\n#<DefineAugmentation>\nimport ShareYourSystem as SYS\nBaseModuleStr=\"ShareYourSystem.Specials.Simulaters.Dynamizer\"\nDecorationModuleStr=\"ShareYourSystem.Standards.Classors.Classer\"\nSYS.setSubModule(globals())\n#</DefineAugmentation>\n\n#<DefineClass>\n@DecorationClass()\nclass RaterClass(BaseClass):\n\t\n\t#Definition\n\tRepresentingKeyStrsList=[\n\t\t\t\t\t\t\t\t\t'RatingMatrixStr',\n\t\t\t\t\t\t\t\t\t'RatedPreStr'\n\t\t\t\t\t\t\t\t]\n\n\tdef default_init(self,\n\t\t\t\t\t\t_RatingMatrixStr='J',\n\t\t\t\t\t\t_RatingConstantTimeFloat='tau',\n\t\t\t\t\t\t_RatedPreStr=\"\",\n\t\t\t\t\t\t**_KwargVariablesDict\n\t\t\t\t\t):\n\n\t\t#Call the parent __init__ method\n\t\tBaseClass.__init__(self,**_KwargVariablesDict)\n\n\tdef do_rate(\n\t\t\t\tself,\n\t\t\t):\t\n\n\t\n\t\t#debug\n\t\t'''\n\t\tself.debug(('self.',self,[\n\n\t\t\t\t\t]))\n\t\t'''\n\n\t\t#add the connection variable\t\t\n\t\tself.RatedPreStr+=self.RatingMatrixStr+self.DynamizingTraceStr\n\n\t\t#add the constant time\n\t\t#self.RatedPreStr+=')/('+self.RatingConstantTimeStr+'*'+self.DynamizingTimeDimensionStr+')'\n\t\tself.RatedPreStr+=')/('+self.RatingConstantTimeStr+')'\n\t\t\n\tdef mimic_dynamize(self):\n\n\t\t#parent method\n\t\tBaseClass.dynamize(self)\n\n\t\t#rate first\n\t\tself.rate()\n\n\t\t#add in the DynamizedPreStr \n\t\tif self.DynamizedPreStr!='(':\n\t\t\tself.DynamizedPreStr+=' + '\n\t\tself.DynamizedPreStr+=self.RatedPreStr \n\n\t\t#Check\n\t\tif self.RatingMatrixStr!=\"\":\n\t\t\tself.DynamizedParamStr+=self.RatingMatrixStr+self.DynamizingTraceStr+' : '+self.DynamizingTraceDimensionStr+'\\n'\n\n\t\t#Check\n\t\tif self.RatingConstantTimeStr!=\"\":\n\t\t\tself.DynamizedParamStr+=self.RatingConstantTimeStr+' : '+self.DynamizingTimeDimensionStr+'\\n'\n\n\t\t#set\n\t\tself.DynamizingRateThresholdFunction=lambda _VariableFloat :(_VariableFloat<=0.)\n\t\t\n#</DefineClass>\n\n```\n\n<small>\nView the Rater sources on <a href=\"https://github.com/Ledoux/ShareYourSystem/tree/master/Pythonlogy/ShareYourSystem/Simulaters/Rater\" target=\"_blank\">Github</a>\n</small>\n\n", 
          "cell_type": "markdown", 
          "prompt_number": 13, 
          "metadata": {
            "slideshow": {
              "slide_type": "subslide"
            }
          }
        }, 
        {
          "source": "\n<!--\nFrozenIsBool False\n-->\n\n#Brianer\n\n##Doc\n----\n\n\n> \n> A Brianer\n> \n> \n\n----\n\n<small>\nView the Brianer notebook on [NbViewer](http://nbviewer.ipython.org/url/shareyoursystem.ouvaton.org/Brianer.ipynb)\n</small>\n\n", 
          "cell_type": "markdown", 
          "prompt_number": 14, 
          "metadata": {
            "slideshow": {
              "slide_type": "slide"
            }
          }
        }, 
        {
          "source": "\n<!--\nFrozenIsBool False\n-->\n\n##Code\n\n----\n\n<ClassDocStr>\n\n----\n\n```python\n# -*- coding: utf-8 -*-\n\"\"\"\n\n\n<DefineSource>\n@Date : Fri Nov 14 13:20:38 2014 \\n\n@Author : Erwan Ledoux \\n\\n\n</DefineSource>\n\n\nA Brianer\n\n\"\"\"\n\n#<DefineAugmentation>\nimport ShareYourSystem as SYS\nBaseModuleStr=\"ShareYourSystem.Specials.Simulaters.Runner\"\nDecorationModuleStr=\"ShareYourSystem.Standards.Classors.Classer\"\nSYS.setSubModule(globals())\n#</DefineAugmentation>\n\n#<ImportSpecificModules>\nfrom ShareYourSystem.Standards.Noders import Noder\nfrom ShareYourSystem.Specials.Simulaters import Populater\nimport operator\n#</ImportSpecificModules>\n\n#<DefineClass>\n@DecorationClass(**{\n\t'ClassingSwitchMethodStrsList':['brian']\n})\nclass BrianerClass(BaseClass):\n\t\n\t#Definition\n\tRepresentingKeyStrsList=[\n\t\t\t\t\t\t\t'BrianedNetworkVariable',\n\t\t\t\t\t\t\t'BrianedClocksList',\n\t\t\t\t\t\t\t'BrianedNeuronGroupsList',\n\t\t\t\t\t\t\t'BrianedConnectionsList'\n\t\t\t\t\t\t]\n\n\tdef default_init(self,\n\t\t\t\t\t\t_BrianingTimeDimensionVariable=None,\n\t\t\t\t\t\t_BrianingPrintRunIsBool=True,\n\t\t\t\t\t\t_BrianedNetworkVariable=None,\n\t\t\t\t\t\t_BrianedClocksList=None,\n\t\t\t\t\t\t_BrianedSimulationClock=None,\n\t\t\t\t\t\t_BrianedNeuronGroupsList=None,\n\t\t\t\t\t\t_BrianedConnectionsList=None,\n\t\t\t\t\t\t**_KwargVariablesDict\n\t\t\t\t\t):\n\n\t\t#Call the parent __init__ method\n\t\tBaseClass.__init__(self,**_KwargVariablesDict)\n\n\tdef mimic_run(self):\n\n\t\t#brian first\n\t\tself.brian()\n\n\t\t#parent method\n\t\tBaseClass.run(self)\n\n\t\t#debug\n\t\tself.debug('We start running in brian')\n\n\t\t#run with the brian method\n\t\tself.BrianedNetworkVariable.run(\n\t\t\tself.RunningTimeFloat*self.BrianingTimeDimensionVariable\n\t\t)\n\n\t\t#debug\n\t\tself.debug('We stop running in brian')\n\n\tdef do_brian(self):\t\n\n\t\t#network first\n\t\tself.network(\n\t\t\t**{\n\t\t\t\t'RecruitingConcludeConditionVariable':[\n\t\t\t\t\t(\n\t\t\t\t\t\t'__class__.__mro__',\n\t\t\t\t\t\toperator.contains,Populater.PopulaterClass\n\t\t\t\t\t)\n\t\t\t\t]\n\t\t\t}\n\t\t)\n\n\t\t\"\"\"\n\t\t#populate\n\t\tmap(\n\t\t\t\tlambda __NetworkedDeriveConnecter:\n\t\t\t\t__NetworkedDeriveConnecter.populate(),\n\t\t\t\tself.NetworkedDeriveConnectersList\n\t\t\t)\n\t\t\n\t\t\n\t\t#import \n\t\timport brian\n\n\t\t#Check\n\t\tif self.BrianingTimeDimensionVariable==None:\n\t\t\tself.BrianingTimeDimensionVariable=brian.ms\n\n\t\t#init\n\t\tself.BrianedNetworkVariable=brian.MagicNetwork()\n\n\t\t#populate\n\t\tmap(\n\t\t\t\tlambda __NetworkedDeriveConnecter:\n\t\t\t\t__NetworkedDeriveConnecter.populate(),\n\t\t\t\tself.NetworkedDeriveConnectersList\n\t\t\t)\n\n\t\t#set the different times\n\t\tself.BrianedStepTimeFloatsList=list(\n\t\t\tset(\n\t\t\t\tSYS.flat(\n\t\t\t\t\tmap(\n\t\t\t\t\t\tlambda __BrianingDerivePopulater:\n\t\t\t\t\t\tSYS.unzip(\n\t\t\t\t\t\t\t__BrianingDerivePopulater.MoniteringTrackTuplesList,\n\t\t\t\t\t\t\t[3]\n\t\t\t\t\t\t) if len(\n\t\t\t\t\t\t\t__BrianingDerivePopulater.MoniteringTrackTuplesList\n\t\t\t\t\t\t)>0 else [],\n\t\t\t\t\t\tself.NetworkedDeriveConnectersList\n\t\t\t\t\t)\n\t\t\t\t)\n\t\t\t)\n\t\t)\n\n\t\t#debug\n\t\t'''\n\t\tself.debug(('self.',self,['BrianedStepTimeFloatsList']))\n\t\t'''\n\n\t\t#set the clocks\n\t\tself.BrianedSimulationClock=brian.Clock(\n\t\t\t\t\t\t\t\tdt=self.SimulatingStepTimeFloat*self.BrianingTimeDimensionVariable\n\t\t\t\t\t\t\t)\n\t\tself.BrianedClocksDict=dict(\n\t\t\tmap(\n\t\t\t\tlambda __BrianedStepTimeFloat:\n\t\t\t\t(\n\t\t\t\t\tstr(__BrianedStepTimeFloat),\n\t\t\t\t\tbrian.Clock(\n\t\t\t\t\t\t\tdt=__BrianedStepTimeFloat*self.BrianingTimeDimensionVariable\n\t\t\t\t\t\t)\n\t\t\t\t),\n\t\t\t\tself.BrianedStepTimeFloatsList\n\t\t\t)\n\t\t\t,**{\n\t\t\t\t\tstr(\n\t\t\t\t\t\tself.SimulatingStepTimeFloat\n\t\t\t\t\t\t):self.BrianedSimulationClock\n\t\t\t\t}\n\t\t)\n\n\t\t#debug\n\t\t'''\n\t\tself.debug(('self.',self,['BrianedClocksDict']))\n\t\t'''\n\n\t\t#set clock to the neuron groups\n\t\tself.BrianedNeuronGroupsList=map(\n\t\t\t\tlambda __BrianingDerivePopulater:\n\t\t\t\t__BrianingDerivePopulater.__setitem__(\n\t\t\t\t\t'NeuronGroup',\n\t\t\t\t\tbrian.NeuronGroup(\n\t\t\t\t\t\t__BrianingDerivePopulater.PopulatingUnitsInt,\n\t\t\t\t\t\t__BrianingDerivePopulater.PopulatingEquationStr,\n\t\t\t\t\t\tclock=self.BrianedClocksDict[str(self.SimulatingStepTimeFloat)]\n\t\t\t\t\t)\n\t\t\t\t).NeuronGroup,\n\t\t\t\tself.NetworkedDeriveConnectersList\n\t\t\t)\n\n\t\t#set the clocks and monitors\n\t\tself.BrianedMonitorsList=SYS.flat(\n\t\t\tmap(\n\t\t\t\tlambda __BrianingDerivePopulater:\n\t\t\t\t\tmap(\n\t\t\t\t\t\t\tlambda __MoniteringTrackTuple:\n\t\t\t\t\t\t\t__BrianingDerivePopulater.__setitem__(\n\t\t\t\t\t\t\t\tstr(__MoniteringTrackTuple)+'Monitor',\n\t\t\t\t\t\t\t\tgetattr(\n\t\t\t\t\t\t\t\t\tbrian,\n\t\t\t\t\t\t\t\t\t__MoniteringTrackTuple[0]+'Monitor'\n\t\t\t\t\t\t\t\t)(\n\t\t\t\t\t\t\t\t\t__BrianingDerivePopulater.NeuronGroup,\n\t\t\t\t\t\t\t\t\t__MoniteringTrackTuple[1],\n\t\t\t\t\t\t\t\t\trecord=__MoniteringTrackTuple[2],\n\t\t\t\t\t\t\t\t\tclock=self.BrianedClocksDict[str(__MoniteringTrackTuple[3])]\n\t\t\t\t\t\t\t\t)\n\t\t\t\t\t\t\t).SettingValueVariable,\n\t\t\t\t\t\t\t__BrianingDerivePopulater.MoniteringTrackTuplesList\n\t\t\t\t\t),\n\t\t\t\t\tself.NetworkedDeriveConnectersList\n\t\t\t\t)\n\t\t\t)\n\n\t\t#debug\n\t\t'''\n\t\tself.debug(('self.',self,['NetworkedConnectionTuplesList']))\n\t\t'''\n\n\t\t#set connections\n\t\tself.BrianedConnectionsList=map(\n\t\t\t\tlambda __ConnectionTuple:\n\t\t\t\tmap(\n\t\t\t\t\t\tlambda __ListedVariable:\n\t\t\t\t\t\t__ConnectionTuple[0].__setitem__(\n\t\t\t\t\t\t\tstr(\n\t\t\t\t\t\t\t\t(\n\t\t\t\t\t\t\t\t\t__ConnectionTuple[0].NodeKeyStr,\n\t\t\t\t\t\t\t\t\t__ListedVariable.NodeKeyStr\n\t\t\t\t\t\t\t\t)\n\t\t\t\t\t\t\t)+'Connection',\n\t\t\t\t\t\t\tbrian.Connection(\n\t\t\t\t\t\t\t\t__ConnectionTuple[0].NeuronGroup,\n\t\t\t\t\t\t\t\t__ListedVariable.NeuronGroup\n\t\t\t\t\t\t\t)\n\t\t\t\t\t\t).SettingValueVariable,\n\t\t\t\t\t\t__ConnectionTuple[1][0]\n\t\t\t\t\t)+map(\n\t\t\t\t\t\tlambda __ListedVariable:\n\t\t\t\t\t\t__ListedVariable.__setitem__(\n\t\t\t\t\t\t\tstr(\n\t\t\t\t\t\t\t\t(\n\t\t\t\t\t\t\t\t\t__ListedVariable.NodeKeyStr,\n\t\t\t\t\t\t\t\t\t__ConnectionTuple[0].NodeKeyStr\n\t\t\t\t\t\t\t\t)\n\t\t\t\t\t\t\t)+'Connection',\n\t\t\t\t\t\t\tbrian.Connection(\n\t\t\t\t\t\t\t\t__ListedVariable.NeuronGroup,\n\t\t\t\t\t\t\t\t__ConnectionTuple[0].NeuronGroup\n\t\t\t\t\t\t\t)\n\t\t\t\t\t\t).SettingValueVariable,\n\t\t\t\t\t\t__ConnectionTuple[1][1]\n\t\t\t\t\t),\n\t\t\t\tself.NetworkedConnectionTuplesList\t\n\t\t\t)\n\n\t\t#debug\n\t\t'''\n\t\tself.debug(('self.',self,['BrianedNeuronGroupsList']))\n\t\t'''\n\n\t\t#alias\n\t\tBrianedNetworkVariable=self.BrianedNetworkVariable\n\n\t\t#add\n\t\tmap(\n\t\t\t\tlambda __BrianedVariable:\n\t\t\t\tBrianedNetworkVariable.add(__BrianedVariable),\n\t\t\t\tself.BrianedNeuronGroupsList+self.BrianedConnectionsList+self.BrianedMonitorsList\n\t\t\t)\n\n\t\t#Check\n\t\tif self.BrianingPrintRunIsBool:\n\n\t\t\t#debug\n\t\t\tself.debug(('self.',self,[\n\t\t\t\t\t\t\t\t'BrianedSimulationClock'\n\t\t\t\t\t\t\t\t]))\n\n\n\t\t\t#define\n\t\t\t@brian.network_operation(\n\t\t\t\tself.BrianedSimulationClock\n\t\t\t)\n\t\t\tdef printControl():\n\n\t\t\t\t#Print Time\n\t\t\t\tprint(\n\t\t\t\t\t\"time is \"+str(\n\t\t\t\t\t\tself.BrianedSimulationClock.t*self.BrianingTimeDimensionVariable\n\t\t\t\t\t)\n\t\t\t\t)\n\n\t\t\t\t'''\n\t\t\t\t#Print NeuronGroup\n\t\t\t\tprint(\n\t\t\t\t\t\"variables are\"+str(\n\t\t\t\t\tself.BrianedNeuronGroupsList[0]\n\t\t\t\t\t)\n\t\t\t\t)\n\t\t\t\t'''\n\t\t\t\t\n\t\t\tself.BrianedNetworkVariable.add(printControl);\n\t\t\"\"\"\n#</DefineClass>\n\n```\n\n<small>\nView the Brianer sources on <a href=\"https://github.com/Ledoux/ShareYourSystem/tree/master/Pythonlogy/ShareYourSystem/Simulaters/Brianer\" target=\"_blank\">Github</a>\n</small>\n\n", 
          "cell_type": "markdown", 
          "prompt_number": 15, 
          "metadata": {
            "slideshow": {
              "slide_type": "subslide"
            }
          }
        }
      ]
    }
  ], 
  "metadata": {
    "name": "", 
    "signature": ""
  }, 
  "nbformat_minor": 0
}