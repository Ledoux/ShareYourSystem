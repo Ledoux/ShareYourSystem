{
  "nbformat": 3, 
  "worksheets": [
    {
      "cells": [
        {
          "source": "\n<!--\nFrozenIsBool False\n-->\n\n#Modeler\n\n##Doc\n----\n\n\n> \n> The Modeler defines the model to be stored in a database like Django or PyTable.\n> Here are defined the relations between attributes of an instance and their corresponding\n> types in the databased structures.\n> \n> \n\n----\n\n<small>\nView the Modeler notebook on [NbViewer](http://nbviewer.ipython.org/url/shareyoursystem.ouvaton.org/Modeler.ipynb)\n</small>\n\n", 
          "cell_type": "markdown", 
          "prompt_number": 0, 
          "metadata": {
            "slideshow": {
              "slide_type": "slide"
            }
          }
        }, 
        {
          "source": "\n<!--\nFrozenIsBool False\n-->\n\n##Code\n\n----\n\n<ClassDocStr>\n\n----\n\n```python\n# -*- coding: utf-8 -*-\n\"\"\"\n\n\n<DefineSource>\n@Date : Fri Nov 14 13:20:38 2014 \\n\n@Author : Erwan Ledoux \\n\\n\n</DefineSource>\n\n\nThe Modeler defines the model to be stored in a database like Django or PyTable.\nHere are defined the relations between attributes of an instance and their corresponding\ntypes in the databased structures.\n\n\"\"\"\n\n#<DefineAugmentation>\nimport ShareYourSystem as SYS\nBaseModuleStr=\"ShareYourSystem.Modelers.Databaser\"\nDecorationModuleStr=\"ShareYourSystem.Classors.Classer\"\nSYS.setSubModule(globals())\n#</DefineAugmentation>\n\n#<ImportSpecificModules>\nimport collections\nimport copy\nimport tables\nfrom ShareYourSystem.Classors import Doer\n#</ImportSpecificModules>\n\n#<DefineLocals>\nAnalyzingColStrsList=[\n\t\t\t\t\t\t\t'Int',\n\t\t\t\t\t\t\t'Float',\n\t\t\t\t\t\t\t'Str'\n\t\t\t\t\t]\nDatabasingJoinStr='__'\nDatabasingLinkStr='_'\n#</DefineLocals>\n\n#<DefineFunctions>\ndef getDatabasedColWithGetKeyStr(_GetKeyStr):\n\n\t#Definition\n\tglobal AnalyzingColStrsList\n\n\t#Definition\n\tDatabasedColStr=SYS._filter(\n\t\tlambda __AnalyzingColStr:\n\t\t_GetKeyStr.endswith(__AnalyzingColStr),\n\t\tAnalyzingColStrsList\n\t\t)[0]\n\n\t#Get the Col Class\n\tDatabasedColClass=getattr(tables,DatabasedColStr+'Col')\n\n\t#Return\n\tif _GetKeyStr=='Str':\n\t\treturn DatabasedColClass(length=100)\n\telse:\n\t\treturn DatabasedColClass() \n\ndef getDatabasingColumnTupleWithGetKeyStr(_GetKeyStr):\n\treturn (_GetKeyStr,_GetKeyStr,getDatabasedColWithGetKeyStr(_GetKeyStr))\n\n#</DefineFunctions>\n\n#<DefineClass>\n@DecorationClass(**{\n\t'ClassingSwitchMethodStrsList':[\"model\"]\n})\nclass ModelerClass(BaseClass):\n\t\n\t#Definition\n\tRepresentingKeyStrsList=[\n\t\t\t\t\t\t\t\t\t'DatabasingSealTuplesList', \t\t\t\t\t\t\t\t\t\n\t\t\t\t\t\t\t\t\t'DatabasedModelClassesOrderedDict',\t\t\t\t\t\t\t\t\t\t\t\t\t\t\t\t\n\t\t\t\t\t\t\t\t\t'DatabasedModelClass', \t\t\t\t\t\t\t\t\t\t\t\t\t\n\t\t\t\t\t\t\t\t\t'DatabasedKeyStr'\n\t\t\t\t\t\t\t\t]\n\n\tdef default_init(\n\t\t\t\t\tself,\n\t\t\t\t\t_DatabasingSealTuplesList={\n\t\t\t\t\t\t\t\t'DefaultingSetType':property,\n\t\t\t\t\t\t\t\t'PropertizingInitVariable':[],\n\t\t\t\t\t\t\t\t'PropertizingDocStr':''\n\t\t\t\t\t\t}, \t\t\t\t\t\t\t\t\n\t\t\t\t\t_DatabasedModelClassesOrderedDict=None,\t\t\t\t\t\t\t\t\t\t\t\t\t\t\t\t\n\t\t\t\t\t_DatabasedModelClass=None, \t\t\t\t\t\t\t\t\t\t\t\t\t\n\t\t\t\t\t_DatabasedKeyStr=\"\",\n\t\t\t\t\t**_KwargVariablesDict\n\t\t\t\t):\n\n\t\t#Call the parent __init__ method\n\t\tBaseClass.__init__(self,**_KwargVariablesDict)\n\n\tdef do_model(self):\n\t\t\"\"\" \"\"\"\n\n\t\t#debug\n\t\t'''\n\t\tself.debug(('self.',self,['DatabasingSealTuplesList']))\n\t\t'''\n\t\t\n\t\t#<NotHook>\n\t\t#database first\n\t\tself.database()\n\t\t#</NotHook>\n\n\t\t#set a name if it was not already\n\t\tif self.DatabasedKeyStr==\"\":\n\n\t\t\t#debug\n\t\t\t'''\n\t\t\tself.debug(('self.',self,['DatabasingKeyStr','ModeledSuffixStr']))\n\t\t\t'''\n\n\t\t\t#Link set\n\t\t\tself.DatabasedKeyStr=self.ModeledSuffixStr\n\n\t\t#Definition the ModelClass\n\t\tclass DatabasedModelClass(tables.IsDescription):\n\n\t\t\t#Add a tabulared Int (just like a unique KEY in mysql...) \n\t\t\tRowInt=tables.Int64Col()\n\n\t\t#debug\n\t\t'''\n\t\tself.debug(('self.',self,['DatabasedGetStrToColumnStrOrderedDict']))\n\t\t'''\n\t\t\n\t\t#set the cols in the ModelClass\n\t\tmap(\n\t\t\t\tlambda __DatabasingColumnTuple:\n\t\t\t\tDatabasedModelClass.columns.__setitem__(\n\t\t\t\t\t__DatabasingColumnTuple[1],\n\t\t\t\t\t__DatabasingColumnTuple[2]\n\t\t\t\t\t),\n\t\t\t\tself.DatabasingSealTuplesList\n\t\t\t)\n\n\t\t#Give a name\n\t\tDatabasedModelClass.__name__=SYS.getClassStrWithNameStr(self.DatabasedKeyStr)\n\n\t\t#set the ModelClass\n\t\tif self.DatabasedModelClassesOrderedDict==None:\n\t\t\tself.DatabasedModelClassesOrderedDict=collections.OrderedDict()\n\t\tself.DatabasedModelClassesOrderedDict[self.DatabasedKeyStr]=DatabasedModelClass\n\n\t\t#set the DatabasedModelClass\n\t\tself.DatabasedModelClass=DatabasedModelClass\n\n#</DefineClass>\n\n```\n\n<small>\nView the Modeler sources on <a href=\"https://github.com/Ledoux/ShareYourSystem/tree/master/Pythonlogy/ShareYourSystem/Databasers/Modeler\" target=\"_blank\">Github</a>\n</small>\n\n", 
          "cell_type": "markdown", 
          "prompt_number": 1, 
          "metadata": {
            "slideshow": {
              "slide_type": "subslide"
            }
          }
        }, 
        {
          "source": "\n<!---\nFrozenIsBool True\n-->\n\n##Example\n\nLet's create an empty class, which will automatically receive\nspecial attributes from the decorating ClassorClass,\nspecially the NameStr, that should be the ClassStr\nwithout the TypeStr in the end.", 
          "cell_type": "markdown", 
          "prompt_number": 2, 
          "metadata": {
            "slideshow": {
              "slide_type": "subslide"
            }
          }
        }, 
        {
          "cell_type": "code", 
          "prompt_number": 3, 
          "language": "python", 
          "input": [
            "\n", 
            "#ImportModules\n", 
            "import tables\n", 
            "import ShareYourSystem as SYS\n", 
            "from ShareYourSystem.Noders import Collecter\n", 
            "from ShareYourSystem.Modelers import Modeler\n", 
            "\n", 
            "#Definition of a Collecter instance with a noded datar\n", 
            "MyCollecter=Collecter.CollecterClass().collect(\n", 
            "    \"Datome\",\n", 
            "    \"Things\",\n", 
            "    Modeler.ModelerClass()\n", 
            ")\n", 
            "\n", 
            "#Definition a Modeler instance\n", 
            "MyCollecter['<Datome>ThingsModeler'].model([\n", 
            "                                        #GetStr #ColumnStr #Col\n", 
            "                                        ('MyInt','MyInt',tables.Int64Col()),\n", 
            "                                        ('MyStr','MyStr',tables.StringCol(10)),\n", 
            "                                        ('MyIntsList','MyIntsList',tables.Int64Col(shape=3))\n", 
            "                                ])\n", 
            "                        \n", 
            "    \n", 
            "#Definition the AttestedStr\n", 
            "SYS._attest(\n", 
            "    [\n", 
            "        'MyCollecter is '+SYS._str(\n", 
            "        MyCollecter,\n", 
            "        **{\n", 
            "            'RepresentingBaseKeyStrsListBool':False,\n", 
            "            'RepresentingAlineaIsBool':False\n", 
            "        }\n", 
            "        ),\n", 
            "        'MyCollecter[\"<Datome>ThingsModeler\"].DatabasedModelClass.__dict__ is '+SYS._str(\n", 
            "        dict(MyCollecter['<Datome>ThingsModeler'].DatabasedModelClass.__dict__.items()\n", 
            "            ) if MyCollecter['<Datome>ThingsModeler'\n", 
            "        ].DatabasedModelClass!=None else {},**{'RepresentingAlineaIsBool':False}\n", 
            "        )\n", 
            "    ]\n", 
            ") \n", 
            "\n", 
            "#Print\n", 
            "\n", 
            "\n"
          ], 
          "outputs": [
            {
              "output_type": "stream", 
              "stream": "stdout", 
              "text": [
                "\n", 
                "\n", 
                "*****Start of the Attest *****\n", 
                "\n", 
                "MyCollecter is < (CollecterClass), 4565029840>\n", 
                "   /{ \n", 
                "   /  '<New><Instance>DatomeCollectionOrderedDict' : \n", 
                "   /   /{ \n", 
                "   /   /  'ThingsModeler' : < (ModelerClass), 4565029008>\n", 
                "   /   /   /{ \n", 
                "   /   /   /  '<New><Instance>IdInt' : 4565029008\n", 
                "   /   /   /  '<New><Instance>NewtorkAttentionStr' : \n", 
                "   /   /   /  '<New><Instance>NewtorkCatchStr' : \n", 
                "   /   /   /  '<New><Instance>NewtorkCollectionStr' : \n", 
                "   /   /   /  '<New><Instance>NodeCollectionStr' : Datome\n", 
                "   /   /   /  '<New><Instance>NodeIndexInt' : 0\n", 
                "   /   /   /  '<New><Instance>NodeKeyStr' : ThingsModeler\n", 
                "   /   /   /  '<New><Instance>NodePointDeriveNoder' : {...}< (CollecterClass), 4565029840>\n", 
                "   /   /   /  '<New><Instance>NodePointOrderedDict' : {...}< (OrderedDict), 4565725560>\n", 
                "   /   /   /  '<New><Instance>_DatabasingSealTuplesList' : \n", 
                "   /   /   /   /[\n", 
                "   /   /   /   /  0 : \n", 
                "   /   /   /   /   /(\n", 
                "   /   /   /   /   /  0 : MyInt\n", 
                "   /   /   /   /   /  1 : MyInt\n", 
                "   /   /   /   /   /  2 : Int64Col(shape=(), dflt=0, pos=None)\n", 
                "   /   /   /   /   /)\n", 
                "   /   /   /   /  1 : \n", 
                "   /   /   /   /   /(\n", 
                "   /   /   /   /   /  0 : MyStr\n", 
                "   /   /   /   /   /  1 : MyStr\n", 
                "   /   /   /   /   /  2 : StringCol(itemsize=10, shape=(), dflt='', pos=None)\n", 
                "   /   /   /   /   /)\n", 
                "   /   /   /   /  2 : \n", 
                "   /   /   /   /   /(\n", 
                "   /   /   /   /   /  0 : MyIntsList\n", 
                "   /   /   /   /   /  1 : MyIntsList\n", 
                "   /   /   /   /   /  2 : Int64Col(shape=(3,), dflt=0, pos=None)\n", 
                "   /   /   /   /   /)\n", 
                "   /   /   /   /]\n", 
                "   /   /   /  '<Spe><Class>DatabasingSealTuplesList' : {...}< (list), 4559840176>\n", 
                "   /   /   /  '<Spe><Instance>DatabasedModelClass' : <class 'tables.description.ThingsModelerModelClass'>\n", 
                "   /   /   /  '<Spe><Instance>DatabasedModelClassesOrderedDict' : \n", 
                "   /   /   /   /{ \n", 
                "   /   /   /   /  'ThingsModelerModel' : {...}< (MetaIsDescription), 140476487361216>\n", 
                "   /   /   /   /}\n", 
                "   /   /   /  '<Spe><Instance>DatabasedKeyStr' : ThingsModelerModel\n", 
                "   /   /   /}\n", 
                "   /   /}\n", 
                "   /  '<New><Instance>IdInt' : 4565029840\n", 
                "   /  '<New><Instance>NodeCollectionStr' : Globals\n", 
                "   /  '<New><Instance>NodeIndexInt' : -1\n", 
                "   /  '<New><Instance>NodeKeyStr' : TopCollecter\n", 
                "   /  '<New><Instance>NodePointDeriveNoder' : None\n", 
                "   /  '<New><Instance>NodePointOrderedDict' : None\n", 
                "   /  '<Spe><Instance>CollectedGetStr' : <Datome>\n", 
                "   /  '<Spe><Instance>CollectedSetKeyStr' : <Datome>ThingsModeler\n", 
                "   /  '<Spe><Instance>CollectedSuffixStr' : Modeler\n", 
                "   /  '<Spe><Instance>CollectingCollectionStr' : Datome\n", 
                "   /  '<Spe><Instance>CollectingNodeKeyStr' : Things\n", 
                "   /  '<Spe><Instance>CollectingNodeVariable' : {...}< (ModelerClass), 4565029008>\n", 
                "   /}\n", 
                "\n", 
                "------\n", 
                "\n", 
                "MyCollecter[\"<Datome>ThingsModeler\"].DatabasedModelClass.__dict__ is \n", 
                "   /{ \n", 
                "   /  '__doc__' : None\n", 
                "   /  '__module__' : tables.description\n", 
                "   /  'columns' : \n", 
                "   /   /{ \n", 
                "   /   /  'RowInt' : Int64Col(shape=(), dflt=0, pos=None)\n", 
                "   /   /  'MyInt' : Int64Col(shape=(), dflt=0, pos=None)\n", 
                "   /   /  'MyIntsList' : Int64Col(shape=(3,), dflt=0, pos=None)\n", 
                "   /   /  'MyStr' : StringCol(itemsize=10, shape=(), dflt='', pos=None)\n", 
                "   /   /}\n", 
                "   /}\n", 
                "\n", 
                "*****End of the Attest *****\n", 
                "\n", 
                "\n"
              ]
            }
          ], 
          "collapsed": false, 
          "metadata": {
            "slideshow": {
              "slide_type": "-"
            }
          }
        }
      ]
    }
  ], 
  "metadata": {
    "name": "", 
    "signature": ""
  }, 
  "nbformat_minor": 0
}