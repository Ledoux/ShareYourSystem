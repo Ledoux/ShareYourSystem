{
  "nbformat": 3, 
  "worksheets": [
    {
      "cells": [
        {
          "source": "\n<!--\nFrozenIsBool False\n-->\n\nView the Linker sources on [Github](https://github.com/Ledoux/ShareYourSystem/tree/master/ShareYourSystem/Applyiers/Installer)\n\n", 
          "cell_type": "markdown", 
          "prompt_number": 0, 
          "metadata": {
            "slideshow": {
              "slide_type": "slide"
            }
          }
        }, 
        {
          "source": "\n<!---\nFrozenIsBool True\n-->\n\n##Example\n\nLet's create an empty class, which will automatically receive\nspecial attributes from the decorating ClassorClass,\nspecially the NameStr, that should be the ClassStr\nwithout the TypeStr in the end.", 
          "cell_type": "markdown", 
          "prompt_number": 1, 
          "metadata": {
            "slideshow": {
              "slide_type": "subslide"
            }
          }
        }, 
        {
          "cell_type": "code", 
          "prompt_number": 2, 
          "language": "python", 
          "input": [
            "#ImportModules\n", 
            "import ShareYourSystem as SYS\n", 
            "from ShareYourSystem.Itemizers import Pather\n", 
            "from ShareYourSystem.Applyiers import Linker\n", 
            "\n", 
            "#Update several things\n", 
            "MyLinker=Linker.LinkerClass().update(\n", 
            "    map(\n", 
            "            lambda __Int:\n", 
            "            (str(__Int)+'Pather',Pather.PatherClass()),\n", 
            "            xrange(3)\n", 
            "        )\n", 
            ")\n", 
            "\n", 
            "#link\n", 
            "MyLinker.link(\n", 
            "        map(\n", 
            "                lambda __Int:\n", 
            "                (str(__Int)+'Pather','/'+str(__Int-1)+'Pather/'+str(__Int)+'Pather') \n", 
            "                if __Int>0\n", 
            "                else\n", 
            "                (str(0)+'Pather','/2Pather/0Pather'),\n", 
            "                xrange(3)\n", 
            "            )\n", 
            "        )\n", 
            "\n", 
            "#Definition the AttestedStr\n", 
            "SYS._attest(\n", 
            "    [\n", 
            "        'MyLinker is '+SYS._str(\n", 
            "        MyLinker,\n", 
            "        **{\n", 
            "            'RepresentingBaseKeyStrsListBool':False,\n", 
            "            'RepresentingAlineaIsBool':False\n", 
            "        }\n", 
            "        )\n", 
            "    ]\n", 
            ")  \n", 
            "\n", 
            "#Print\n", 
            "\n", 
            "\n"
          ], 
          "outputs": [
            {
              "output_type": "stream", 
              "stream": "stdout", 
              "text": [
                "\n", 
                "\n", 
                "*****Start of the Attest *****\n", 
                "\n", 
                "MyLinker is < (LinkerClass), 4549829456>\n", 
                "   /{ \n", 
                "   /  '<New><Instance>0Pather' : < (PatherClass), 4549831248>\n", 
                "   /   /{ \n", 
                "   /   /  '<New><Instance>IdInt' : 4549831248\n", 
                "   /   /  '<Spe><Class>PathedChildKeyStr' : \n", 
                "   /   /  '<Spe><Class>PathedGetKeyStr' : \n", 
                "   /   /  '<Spe><Class>PathedKeyStrsList' : None\n", 
                "   /   /  '<Spe><Class>PathingKeyStr' : \n", 
                "   /   /}\n", 
                "   /  '<New><Instance>1Pather' : < (PatherClass), 4549831312>\n", 
                "   /   /{ \n", 
                "   /   /  '<New><Instance>IdInt' : 4549831312\n", 
                "   /   /  '<Spe><Class>PathedChildKeyStr' : \n", 
                "   /   /  '<Spe><Class>PathedGetKeyStr' : \n", 
                "   /   /  '<Spe><Class>PathedKeyStrsList' : None\n", 
                "   /   /  '<Spe><Class>PathingKeyStr' : \n", 
                "   /   /}\n", 
                "   /  '<New><Instance>2Pather' : < (PatherClass), 4549831376>\n", 
                "   /   /{ \n", 
                "   /   /  '<New><Instance>IdInt' : 4549831376\n", 
                "   /   /  '<Spe><Class>PathedChildKeyStr' : \n", 
                "   /   /  '<Spe><Class>PathedGetKeyStr' : \n", 
                "   /   /  '<Spe><Class>PathedKeyStrsList' : None\n", 
                "   /   /  '<Spe><Class>PathingKeyStr' : \n", 
                "   /   /}\n", 
                "   /  '<New><Instance>IdInt' : 4549829456\n", 
                "   /  '<Spe><Instance>LinkingPointListsList' : \n", 
                "   /   /[\n", 
                "   /   /  0 : ('0Pather', '/2Pather/0Pather')\n", 
                "   /   /  1 : ('1Pather', '/0Pather/1Pather')\n", 
                "   /   /  2 : ('2Pather', '/1Pather/2Pather')\n", 
                "   /   /]\n", 
                "   /}\n", 
                "\n", 
                "*****End of the Attest *****\n", 
                "\n", 
                "\n"
              ]
            }
          ], 
          "collapsed": false, 
          "metadata": {
            "slideshow": {
              "slide_type": "-"
            }
          }
        }
      ]
    }
  ], 
  "metadata": {
    "name": "", 
    "signature": ""
  }, 
  "nbformat_minor": 0
}