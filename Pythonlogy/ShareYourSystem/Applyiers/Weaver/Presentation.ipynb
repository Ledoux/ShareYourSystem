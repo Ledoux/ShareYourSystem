{
  "nbformat": 3, 
  "worksheets": [
    {
      "cells": [
        {
          "source": "\n<!--\nFrozenIsBool False\n-->\n\n#Weaver\n\n##Doc\n----\n\n\n> \n> A Weaver\n> \n> \n\n----\n\n<small>\nView the Weaver notebook on [NbViewer](http://nbviewer.ipython.org/url/shareyoursystem.ouvaton.org/Weaver.ipynb)\n</small>\n\n", 
          "cell_type": "markdown", 
          "prompt_number": 0, 
          "metadata": {
            "slideshow": {
              "slide_type": "slide"
            }
          }
        }, 
        {
          "source": "\n<!--\nFrozenIsBool False\n-->\n\nView the Weaver sources on [Github](https://github.com/Ledoux/ShareYourSystem/tree/master/ShareYourSystem/Applyiers/Installer)\n\n", 
          "cell_type": "markdown", 
          "prompt_number": 1, 
          "metadata": {
            "slideshow": {
              "slide_type": "subslide"
            }
          }
        }, 
        {
          "source": "\n<!---\nFrozenIsBool True\n-->\n\n##Example\n\nLet's create an empty class, which will automatically receive\nspecial attributes from the decorating ClassorClass,\nspecially the NameStr, that should be the ClassStr\nwithout the TypeStr in the end.", 
          "cell_type": "markdown", 
          "prompt_number": 2, 
          "metadata": {
            "slideshow": {
              "slide_type": "subslide"
            }
          }
        }, 
        {
          "cell_type": "code", 
          "prompt_number": 3, 
          "language": "python", 
          "input": [
            "#ImportModules\n", 
            "import ShareYourSystem as SYS\n", 
            "from ShareYourSystem.Itemizers import Pointer\n", 
            "from ShareYourSystem.Applyiers import Weaver\n", 
            "\n", 
            "#Update several things\n", 
            "MyWeaver=Weaver.WeaverClass().update(\n", 
            "    map(\n", 
            "            lambda __Int:\n", 
            "            (\n", 
            "                str(__Int)+'Pointer',\n", 
            "                Pointer.PointerClass()\n", 
            "            ),\n", 
            "            xrange(3)\n", 
            "        )\n", 
            ").weave(\n", 
            "        map(\n", 
            "                lambda __Int:\n", 
            "                (\n", 
            "                    [\n", 
            "                        str(__Int)+'Pointer',\n", 
            "                        str(__Int-1)+'Pointer',\n", 
            "                    ],\n", 
            "                    str(__Int)+'-'+str(__Int-1)+'Pointer',\n", 
            "                    Pointer.PointerClass()\n", 
            "                )\n", 
            "                if __Int>0\n", 
            "                else\n", 
            "                (\n", 
            "                    [\n", 
            "                        str(0)+'Pointer',\n", 
            "                        str(2)+'Pointer',\n", 
            "                    ],\n", 
            "                    str(0)+'-'+str(2)+'Pointer',\n", 
            "                    Pointer.PointerClass()\n", 
            "                ),\n", 
            "                xrange(3)\n", 
            "            )\n", 
            "        )\n", 
            "    \n", 
            "#Definition the AttestedStr\n", 
            "SYS._attest(\n", 
            "    [\n", 
            "        'MyWeaver is '+SYS._str(\n", 
            "        MyWeaver,\n", 
            "        **{\n", 
            "            'RepresentingBaseKeyStrsListBool':False,\n", 
            "            'RepresentingAlineaIsBool':False\n", 
            "        }\n", 
            "        )\n", 
            "    ]\n", 
            ")  \n", 
            "\n", 
            "#Print\n", 
            "\n", 
            "\n"
          ], 
          "outputs": [
            {
              "output_type": "stream", 
              "stream": "stdout", 
              "text": [
                "\n", 
                "\n", 
                "*****Start of the Attest *****\n", 
                "\n", 
                "MyWeaver is < (WeaverClass), 4550545360>\n", 
                "   /{ \n", 
                "   /  '<New><Instance>0Pointer' : < (PointerClass), 4550544976>\n", 
                "   /   /{ \n", 
                "   /   /  '<New><Instance>IdInt' : 4550544976\n", 
                "   /   /  '<Spe><Class>PointedBackSetStr' : \n", 
                "   /   /  '<Spe><Class>PointedGetVariable' : None\n", 
                "   /   /  '<Spe><Class>PointedLocalSetStr' : \n", 
                "   /   /  '<Spe><Class>PointedPathBackVariable' : \n", 
                "   /   /  '<Spe><Class>PointingBackSetStr' : \n", 
                "   /   /  '<Spe><Class>PointingGetVariable' : None\n", 
                "   /   /  '<Spe><Class>PointingSetPathStr' : \n", 
                "   /   /}\n", 
                "   /  '<New><Instance>1Pointer' : < (PointerClass), 4550544912>\n", 
                "   /   /{ \n", 
                "   /   /  '<New><Instance>IdInt' : 4550544912\n", 
                "   /   /  '<Spe><Class>PointedBackSetStr' : \n", 
                "   /   /  '<Spe><Class>PointedGetVariable' : None\n", 
                "   /   /  '<Spe><Class>PointedLocalSetStr' : \n", 
                "   /   /  '<Spe><Class>PointedPathBackVariable' : \n", 
                "   /   /  '<Spe><Class>PointingBackSetStr' : \n", 
                "   /   /  '<Spe><Class>PointingGetVariable' : None\n", 
                "   /   /  '<Spe><Class>PointingSetPathStr' : \n", 
                "   /   /}\n", 
                "   /  '<New><Instance>2Pointer' : < (PointerClass), 4550542224>\n", 
                "   /   /{ \n", 
                "   /   /  '<New><Instance>IdInt' : 4550542224\n", 
                "   /   /  '<Spe><Class>PointedBackSetStr' : \n", 
                "   /   /  '<Spe><Class>PointedGetVariable' : None\n", 
                "   /   /  '<Spe><Class>PointedLocalSetStr' : \n", 
                "   /   /  '<Spe><Class>PointedPathBackVariable' : \n", 
                "   /   /  '<Spe><Class>PointingBackSetStr' : \n", 
                "   /   /  '<Spe><Class>PointingGetVariable' : None\n", 
                "   /   /  '<Spe><Class>PointingSetPathStr' : \n", 
                "   /   /}\n", 
                "   /  '<New><Instance>IdInt' : 4550545360\n", 
                "   /  '<Spe><Instance>WeavingInteractTuplesList' : \n", 
                "   /   /[\n", 
                "   /   /  0 : \n", 
                "   /   /   /(\n", 
                "   /   /   /  0 : ['0Pointer', '2Pointer']\n", 
                "   /   /   /  1 : 0-2Pointer\n", 
                "   /   /   /  2 : < (PointerClass), 4550545296>\n", 
                "   /   /   /   /{ \n", 
                "   /   /   /   /  '<New><Instance>IdInt' : 4550545296\n", 
                "   /   /   /   /  '<Spe><Class>PointedBackSetStr' : \n", 
                "   /   /   /   /  '<Spe><Class>PointedGetVariable' : None\n", 
                "   /   /   /   /  '<Spe><Class>PointedLocalSetStr' : \n", 
                "   /   /   /   /  '<Spe><Class>PointedPathBackVariable' : \n", 
                "   /   /   /   /  '<Spe><Class>PointingBackSetStr' : \n", 
                "   /   /   /   /  '<Spe><Class>PointingGetVariable' : None\n", 
                "   /   /   /   /  '<Spe><Class>PointingSetPathStr' : \n", 
                "   /   /   /   /}\n", 
                "   /   /   /)\n", 
                "   /   /  1 : \n", 
                "   /   /   /(\n", 
                "   /   /   /  0 : ['1Pointer', '0Pointer']\n", 
                "   /   /   /  1 : 1-0Pointer\n", 
                "   /   /   /  2 : < (PointerClass), 4550543184>\n", 
                "   /   /   /   /{ \n", 
                "   /   /   /   /  '<New><Instance>IdInt' : 4550543184\n", 
                "   /   /   /   /  '<Spe><Class>PointedBackSetStr' : \n", 
                "   /   /   /   /  '<Spe><Class>PointedGetVariable' : None\n", 
                "   /   /   /   /  '<Spe><Class>PointedLocalSetStr' : \n", 
                "   /   /   /   /  '<Spe><Class>PointedPathBackVariable' : \n", 
                "   /   /   /   /  '<Spe><Class>PointingBackSetStr' : \n", 
                "   /   /   /   /  '<Spe><Class>PointingGetVariable' : None\n", 
                "   /   /   /   /  '<Spe><Class>PointingSetPathStr' : \n", 
                "   /   /   /   /}\n", 
                "   /   /   /)\n", 
                "   /   /  2 : \n", 
                "   /   /   /(\n", 
                "   /   /   /  0 : ['2Pointer', '1Pointer']\n", 
                "   /   /   /  1 : 2-1Pointer\n", 
                "   /   /   /  2 : < (PointerClass), 4550545232>\n", 
                "   /   /   /   /{ \n", 
                "   /   /   /   /  '<New><Instance>IdInt' : 4550545232\n", 
                "   /   /   /   /  '<Spe><Class>PointedBackSetStr' : \n", 
                "   /   /   /   /  '<Spe><Class>PointedGetVariable' : None\n", 
                "   /   /   /   /  '<Spe><Class>PointedLocalSetStr' : \n", 
                "   /   /   /   /  '<Spe><Class>PointedPathBackVariable' : \n", 
                "   /   /   /   /  '<Spe><Class>PointingBackSetStr' : \n", 
                "   /   /   /   /  '<Spe><Class>PointingGetVariable' : None\n", 
                "   /   /   /   /  '<Spe><Class>PointingSetPathStr' : \n", 
                "   /   /   /   /}\n", 
                "   /   /   /)\n", 
                "   /   /]\n", 
                "   /}\n", 
                "\n", 
                "*****End of the Attest *****\n", 
                "\n", 
                "\n"
              ]
            }
          ], 
          "collapsed": false, 
          "metadata": {
            "slideshow": {
              "slide_type": "-"
            }
          }
        }
      ]
    }
  ], 
  "metadata": {
    "name": "", 
    "signature": ""
  }, 
  "nbformat_minor": 0
}