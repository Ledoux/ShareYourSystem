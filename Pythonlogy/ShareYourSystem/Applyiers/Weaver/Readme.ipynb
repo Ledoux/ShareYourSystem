{
  "nbformat": 3, 
  "worksheets": [
    {
      "cells": [
        {
          "source": [
            "#Weaver\n", 
            " @Date : Fri Nov 14 13:20:38 2014 \n\n@Author : Erwan Ledoux \n\n\n\nA Weaver\n\n\n"
          ], 
          "cell_type": "markdown", 
          "metadata": {}
        }, 
        {
          "source": "\n<!--\nFrozenIsBool False\n-->\n\nView the Weaver sources on [Github](https://github.com/Ledoux/ShareYourSystem/tree/master/ShareYourSystem/Applyiers/Installer)\n\n", 
          "cell_type": "markdown", 
          "prompt_number": 0, 
          "metadata": {}
        }, 
        {
          "source": "\n<!---\nFrozenIsBool True\n-->\n\n##Example\n\nLet's create an empty class, which will automatically receive\nspecial attributes from the decorating ClassorClass,\nspecially the NameStr, that should be the ClassStr\nwithout the TypeStr in the end.", 
          "cell_type": "markdown", 
          "prompt_number": 1, 
          "metadata": {}
        }, 
        {
          "source": "```python\n#ImportModules\nimport ShareYourSystem as SYS\nfrom ShareYourSystem.Itemizers import Pointer\nfrom ShareYourSystem.Applyiers import Weaver\n\n#Update several things\nMyWeaver=Weaver.WeaverClass().update(\n    map(\n            lambda __Int:\n            (\n                str(__Int)+'Pointer',\n                Pointer.PointerClass()\n            ),\n            xrange(3)\n        )\n).weave(\n        map(\n                lambda __Int:\n                (\n                    [\n                        str(__Int)+'Pointer',\n                        str(__Int-1)+'Pointer',\n                    ],\n                    str(__Int)+'-'+str(__Int-1)+'Pointer',\n                    Pointer.PointerClass()\n                )\n                if __Int>0\n                else\n                (\n                    [\n                        str(0)+'Pointer',\n                        str(2)+'Pointer',\n                    ],\n                    str(0)+'-'+str(2)+'Pointer',\n                    Pointer.PointerClass()\n                ),\n                xrange(3)\n            )\n        )\n        \n#Definition the AttestedStr\nSYS._attest(\n    [\n        'MyWeaver is '+SYS._str(\n        MyWeaver,\n        **{\n            'RepresentingBaseKeyStrsListBool':False,\n            'RepresentingAlineaIsBool':False\n        }\n        )\n    ]\n)  \n\n#Print\n\n\n\n```\n", 
          "cell_type": "markdown", 
          "metadata": {}
        }, 
        {
          "source": "```console\n>>>\nDoer l.132 : DoerStr is Weaver\nDoStr is Weave\nDoMethodStr is weave\nDoingStr is Weaving\nDoneStr is Weaved\n\n\n\n*****Start of the Attest *****\n\nMyWeaver is < (WeaverClass), 4365118928>\n   /{ \n   /  '<New><Instance>0Pointer' : < (PointerClass), 4365085328>\n   /   /{ \n   /   /  '<New><Instance>IdString' : 4365085328\n   /   /  '<Spe><Class>PointedBackSetStr' : \n   /   /  '<Spe><Class>PointedGetVariable' : None\n   /   /  '<Spe><Class>PointedLocalSetStr' : \n   /   /  '<Spe><Class>PointedPathBackVariable' : \n   /   /  '<Spe><Class>PointingBackSetKeyStr' : \n   /   /  '<Spe><Class>PointingGetVariable' : None\n   /   /  '<Spe><Class>PointingSetPathStr' : \n   /   /}\n   /  '<New><Instance>1Pointer' : < (PointerClass), 4365485648>\n   /   /{ \n   /   /  '<New><Instance>IdString' : 4365485648\n   /   /  '<Spe><Class>PointedBackSetStr' : \n   /   /  '<Spe><Class>PointedGetVariable' : None\n   /   /  '<Spe><Class>PointedLocalSetStr' : \n   /   /  '<Spe><Class>PointedPathBackVariable' : \n   /   /  '<Spe><Class>PointingBackSetKeyStr' : \n   /   /  '<Spe><Class>PointingGetVariable' : None\n   /   /  '<Spe><Class>PointingSetPathStr' : \n   /   /}\n   /  '<New><Instance>2Pointer' : < (PointerClass), 4365488016>\n   /   /{ \n   /   /  '<New><Instance>IdString' : 4365488016\n   /   /  '<Spe><Class>PointedBackSetStr' : \n   /   /  '<Spe><Class>PointedGetVariable' : None\n   /   /  '<Spe><Class>PointedLocalSetStr' : \n   /   /  '<Spe><Class>PointedPathBackVariable' : \n   /   /  '<Spe><Class>PointingBackSetKeyStr' : \n   /   /  '<Spe><Class>PointingGetVariable' : None\n   /   /  '<Spe><Class>PointingSetPathStr' : \n   /   /}\n   /  '<New><Instance>ApplyingIsBool' : True\n   /  '<New><Instance>IdString' : 4365118928\n   /  '<Spe><Instance>WeavingInteractTuplesList' : \n   /   /[\n   /   /  0 : \n   /   /   /(\n   /   /   /  0 : ['0Pointer', '2Pointer']\n   /   /   /  1 : 0-2Pointer\n   /   /   /  2 : < (PointerClass), 4364535632>\n   /   /   /   /{ \n   /   /   /   /  '<New><Instance>IdString' : 4364535632\n   /   /   /   /  '<Spe><Class>PointedBackSetStr' : \n   /   /   /   /  '<Spe><Class>PointedGetVariable' : None\n   /   /   /   /  '<Spe><Class>PointedLocalSetStr' : \n   /   /   /   /  '<Spe><Class>PointedPathBackVariable' : \n   /   /   /   /  '<Spe><Class>PointingBackSetKeyStr' : \n   /   /   /   /  '<Spe><Class>PointingGetVariable' : None\n   /   /   /   /  '<Spe><Class>PointingSetPathStr' : \n   /   /   /   /}\n   /   /   /)\n   /   /  1 : \n   /   /   /(\n   /   /   /  0 : ['1Pointer', '0Pointer']\n   /   /   /  1 : 1-0Pointer\n   /   /   /  2 : < (PointerClass), 4365115472>\n   /   /   /   /{ \n   /   /   /   /  '<New><Instance>IdString' : 4365115472\n   /   /   /   /  '<Spe><Class>PointedBackSetStr' : \n   /   /   /   /  '<Spe><Class>PointedGetVariable' : None\n   /   /   /   /  '<Spe><Class>PointedLocalSetStr' : \n   /   /   /   /  '<Spe><Class>PointedPathBackVariable' : \n   /   /   /   /  '<Spe><Class>PointingBackSetKeyStr' : \n   /   /   /   /  '<Spe><Class>PointingGetVariable' : None\n   /   /   /   /  '<Spe><Class>PointingSetPathStr' : \n   /   /   /   /}\n   /   /   /)\n   /   /  2 : \n   /   /   /(\n   /   /   /  0 : ['2Pointer', '1Pointer']\n   /   /   /  1 : 2-1Pointer\n   /   /   /  2 : < (PointerClass), 4365492880>\n   /   /   /   /{ \n   /   /   /   /  '<New><Instance>IdString' : 4365492880\n   /   /   /   /  '<Spe><Class>PointedBackSetStr' : \n   /   /   /   /  '<Spe><Class>PointedGetVariable' : None\n   /   /   /   /  '<Spe><Class>PointedLocalSetStr' : \n   /   /   /   /  '<Spe><Class>PointedPathBackVariable' : \n   /   /   /   /  '<Spe><Class>PointingBackSetKeyStr' : \n   /   /   /   /  '<Spe><Class>PointingGetVariable' : None\n   /   /   /   /  '<Spe><Class>PointingSetPathStr' : \n   /   /   /   /}\n   /   /   /)\n   /   /]\n   /}\n\n*****End of the Attest *****\n\n\n\n```\n", 
          "cell_type": "markdown", 
          "metadata": {}
        }
      ]
    }
  ], 
  "metadata": {
    "name": "", 
    "signature": ""
  }, 
  "nbformat_minor": 0
}