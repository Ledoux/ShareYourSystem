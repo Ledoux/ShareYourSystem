{
  "nbformat": 3, 
  "worksheets": [
    {
      "cells": [
        {
          "source": "\n<!--\nFrozenIsBool False\n-->\n\n#Applyier\n\n##Doc\n----\n\n\n> \n> An Applyier apply a function thanks to a ApplyingMethodStr and an ApplyingArgDict.\n> This property is going to be useful to begin to establish mappping methods and \n> commanding calls in deep structures.\n> \n> \n\n----\n\n<small>\nView the Applyier notebook on [NbViewer](http://nbviewer.ipython.org/url/shareyoursystem.ouvaton.org/Applyier.ipynb)\n</small>\n\n", 
          "cell_type": "markdown", 
          "prompt_number": 0, 
          "metadata": {
            "slideshow": {
              "slide_type": "slide"
            }
          }
        }, 
        {
          "source": "\n<!--\nFrozenIsBool False\n-->\n\nView the Applyier sources on [Github](https://github.com/Ledoux/ShareYourSystem/tree/master/ShareYourSystem/Applyiers/Installer)\n\n", 
          "cell_type": "markdown", 
          "prompt_number": 1, 
          "metadata": {
            "slideshow": {
              "slide_type": "subslide"
            }
          }
        }, 
        {
          "source": "\n<!---\nFrozenIsBool True\n-->\n\n##Example\n\nLet's create an empty class, which will automatically receive\nspecial attributes from the decorating ClassorClass,\nspecially the NameStr, that should be the ClassStr\nwithout the TypeStr in the end.", 
          "cell_type": "markdown", 
          "prompt_number": 2, 
          "metadata": {
            "slideshow": {
              "slide_type": "subslide"
            }
          }
        }, 
        {
          "cell_type": "code", 
          "prompt_number": 3, 
          "language": "python", 
          "input": [
            "\n", 
            "#ImportModules\n", 
            "import ShareYourSystem as SYS\n", 
            "from ShareYourSystem.Applyiers import Applyier\n", 
            "\n", 
            "#Definition an applyier instance\n", 
            "MyApplyier=Applyier.ApplyierClass()\n", 
            "\n", 
            "#Apply just a set... (even if we can do shorter !)\n", 
            "MyApplyier.apply(\n", 
            "    '__setitem__',\n", 
            "    {'LiargVariablesList':['MyStr','Hello']}\n", 
            ")\n", 
            "\n", 
            "#Apply an apply is possible\n", 
            "MyApplyier.apply(\n", 
            "    '__setitem__',\n", 
            "    {'LiargVariablesList':[\n", 
            "            '__setitem__',\n", 
            "            {\n", 
            "                'LiargVariablesList':\n", 
            "                ['MyNotLostStr','ben he']\n", 
            "            }\n", 
            "        ]\n", 
            "    }\n", 
            ")\n", 
            "    \n", 
            "#Definition the AttestedStr\n", 
            "SYS._attest(\n", 
            "    [\n", 
            "    'MyApplyier is '+SYS._str(\n", 
            "            MyApplyier,\n", 
            "            **{\n", 
            "            'RepresentingBaseKeyStrsListBool':False,\n", 
            "            'RepresentingAlineaIsBool':False\n", 
            "            }\n", 
            "        )\n", 
            "    ]\n", 
            ") \n", 
            "\n", 
            "#Print\n", 
            "\n", 
            "\n"
          ], 
          "outputs": [
            {
              "output_type": "stream", 
              "stream": "stdout", 
              "text": [
                "\n", 
                "\n", 
                "*****Start of the Attest *****\n", 
                "\n", 
                "MyApplyier is < (ApplyierClass), 4550543888>\n", 
                "   /{ \n", 
                "   /  '<New><Instance>IdInt' : 4550543888\n", 
                "   /  '<New><Instance>MyNotLostStr' : ben he\n", 
                "   /  '<New><Instance>MyStr' : Hello\n", 
                "   /}\n", 
                "\n", 
                "*****End of the Attest *****\n", 
                "\n", 
                "\n"
              ]
            }
          ], 
          "collapsed": false, 
          "metadata": {
            "slideshow": {
              "slide_type": "-"
            }
          }
        }, 
        {
          "source": "\n<!--\nFrozenIsBool False\n-->\n\n#Mapper\n\n##Doc\n----\n\n\n> A Mapper instance maps an apply and so \"grinds\" a MappingArgDictsList \n> to a method.\n> \n> \n\n----\n\n<small>\nView the Mapper notebook on [NbViewer](http://nbviewer.ipython.org/url/shareyoursystem.ouvaton.org/Mapper.ipynb)\n</small>\n\n", 
          "cell_type": "markdown", 
          "prompt_number": 4, 
          "metadata": {
            "slideshow": {
              "slide_type": "slide"
            }
          }
        }, 
        {
          "source": "\n<!--\nFrozenIsBool False\n-->\n\nView the Mapper sources on [Github](https://github.com/Ledoux/ShareYourSystem/tree/master/ShareYourSystem/Applyiers/Installer)\n\n", 
          "cell_type": "markdown", 
          "prompt_number": 5, 
          "metadata": {
            "slideshow": {
              "slide_type": "subslide"
            }
          }
        }, 
        {
          "source": "\n<!---\nFrozenIsBool True\n-->\n\n##Example\n\nLet's create an empty class, which will automatically receive\nspecial attributes from the decorating ClassorClass,\nspecially the NameStr, that should be the ClassStr\nwithout the TypeStr in the end.", 
          "cell_type": "markdown", 
          "prompt_number": 6, 
          "metadata": {
            "slideshow": {
              "slide_type": "subslide"
            }
          }
        }, 
        {
          "cell_type": "code", 
          "prompt_number": 7, 
          "language": "python", 
          "input": [
            "\n", 
            "#ImportModules\n", 
            "import ShareYourSystem as SYS\n", 
            "from ShareYourSystem.Applyiers import Mapper\n", 
            "\n", 
            "#Definition a Getter\n", 
            "MyMapper=Mapper.MapperClass().map(\n", 
            "    '__setitem__',\n", 
            "    [\n", 
            "        {'LiargVariablesList':['MyStr',\"Hello\"]},\n", 
            "        {'LiargVariablesList':['MyThirdStr',\"GutenTag\"]},\n", 
            "        {'LiargVariablesList':['map',\n", 
            "                                        {\n", 
            "                                            'LiargVariablesList':\n", 
            "                                            [\n", 
            "                                                '__setitem__',\n", 
            "                                                [\n", 
            "                                                    {\n", 
            "                                                        'LiargVariablesList':\n", 
            "                                                        ['MyInt',0]\n", 
            "                                                    },\n", 
            "                                                    {\n", 
            "                                                        'LiargVariablesList':\n", 
            "                                                        ['MyFloat',0.1]\n", 
            "                                                    }\n", 
            "                                                ]\n", 
            "                                            ]\n", 
            "                                        }\n", 
            "                                \n", 
            "                            ]},\n", 
            "        {'LiargVariablesList':['MyNotLostStr',\"ben he\"]},\n", 
            "    ]\n", 
            ")\n", 
            "    \n", 
            "#Definition the AttestedStr\n", 
            "SYS._attest(\n", 
            "    [\n", 
            "        'MyMapper is '+SYS._str(\n", 
            "        MyMapper,\n", 
            "        **{\n", 
            "            'RepresentingBaseKeyStrsListBool':False\n", 
            "        }\n", 
            "        )\n", 
            "    ]\n", 
            ")  \n", 
            "\n", 
            "#Print\n", 
            "\n", 
            "\n"
          ], 
          "outputs": [
            {
              "output_type": "stream", 
              "stream": "stdout", 
              "text": [
                "\n", 
                "\n", 
                "*****Start of the Attest *****\n", 
                "\n", 
                "MyMapper is < (MapperClass), 4550544272>\n", 
                "   /{ \n", 
                "   /  '<New><Instance>IdInt' : 4550544272\n", 
                "   /  '<New><Instance>MyFloat' : 0.1\n", 
                "   /  '<New><Instance>MyInt' : 0\n", 
                "   /  '<New><Instance>MyNotLostStr' : ben he\n", 
                "   /  '<New><Instance>MyStr' : Hello\n", 
                "   /  '<New><Instance>MyThirdStr' : GutenTag\n", 
                "   /  '<Spe><Instance>MappedVariablesList' : \n", 
                "   /   /[\n", 
                "   /   /  0 : {...}< (MapperClass), 4550544272>\n", 
                "   /   /  1 : {...}< (MapperClass), 4550544272>\n", 
                "   /   /  2 : {...}< (MapperClass), 4550544272>\n", 
                "   /   /  3 : {...}< (MapperClass), 4550544272>\n", 
                "   /   /]\n", 
                "   /  '<Spe><Instance>MappingApplyMethodStr' : __setitem__\n", 
                "   /  '<Spe><Instance>MappingArgDictsList' : \n", 
                "   /   /[\n", 
                "   /   /  0 : \n", 
                "   /   /   /{ \n", 
                "   /   /   /  'LiargVariablesList' : ['MyInt', 0]\n", 
                "   /   /   /}\n", 
                "   /   /  1 : \n", 
                "   /   /   /{ \n", 
                "   /   /   /  'LiargVariablesList' : ['MyFloat', 0.1]\n", 
                "   /   /   /}\n", 
                "   /   /]\n", 
                "   /}\n", 
                "\n", 
                "*****End of the Attest *****\n", 
                "\n", 
                "\n"
              ]
            }
          ], 
          "collapsed": false, 
          "metadata": {
            "slideshow": {
              "slide_type": "-"
            }
          }
        }, 
        {
          "source": "\n<!--\nFrozenIsBool False\n-->\n\n#Picker\n\n##Doc\n----\n\n\n> \n> A Picker maps a __getitem__\n> \n> \n\n----\n\n<small>\nView the Picker notebook on [NbViewer](http://nbviewer.ipython.org/url/shareyoursystem.ouvaton.org/Picker.ipynb)\n</small>\n\n", 
          "cell_type": "markdown", 
          "prompt_number": 8, 
          "metadata": {
            "slideshow": {
              "slide_type": "slide"
            }
          }
        }, 
        {
          "source": "\n<!--\nFrozenIsBool False\n-->\n\nView the Picker sources on [Github](https://github.com/Ledoux/ShareYourSystem/tree/master/ShareYourSystem/Applyiers/Installer)\n\n", 
          "cell_type": "markdown", 
          "prompt_number": 9, 
          "metadata": {
            "slideshow": {
              "slide_type": "subslide"
            }
          }
        }, 
        {
          "source": "\n<!---\nFrozenIsBool True\n-->\n\n##Example\n\nLet's create an empty class, which will automatically receive\nspecial attributes from the decorating ClassorClass,\nspecially the NameStr, that should be the ClassStr\nwithout the TypeStr in the end.", 
          "cell_type": "markdown", 
          "prompt_number": 10, 
          "metadata": {
            "slideshow": {
              "slide_type": "subslide"
            }
          }
        }, 
        {
          "cell_type": "code", 
          "prompt_number": 11, 
          "language": "python", 
          "input": [
            "\n", 
            "#ImportModules\n", 
            "import ShareYourSystem as SYS\n", 
            "from ShareYourSystem.Applyiers import Picker\n", 
            "\n", 
            "#Definition an Picker\n", 
            "MyPicker=Picker.PickerClass()\n", 
            "\n", 
            "#set some items\n", 
            "map(\n", 
            "        lambda __ItemTuple:\n", 
            "        MyPicker.__setitem__(__ItemTuple[0],__ItemTuple[1]),\n", 
            "        [\n", 
            "            ('MyInt',0),\n", 
            "            ('MyPicker',Picker.PickerClass().__setitem__('MyStr',\"hello\")),\n", 
            "        ]\n", 
            "    )\n", 
            "\n", 
            "#Map some gets\n", 
            "PickedVariablesList=MyPicker.pick(\n", 
            "    [\n", 
            "        #Get directly in the __dict__\n", 
            "        'MyInt',\n", 
            "        'MyPicker',\n", 
            "        #Get with a DeepShortStr\n", 
            "        '/MyPicker/MyStr'\n", 
            "    ]\n", 
            ")\n", 
            "\n", 
            "#Definition the AttestedStr\n", 
            "SYS._attest(\n", 
            "    [\n", 
            "        'PickedVariablesList is '+SYS._str(\n", 
            "            PickedVariablesList\n", 
            "            ,**{\n", 
            "                'RepresentingBaseKeyStrsListBool':False,\n", 
            "                'RepresentingAlineaIsBool':False\n", 
            "            }\n", 
            "        )\n", 
            "    ]\n", 
            ") \n", 
            "\n", 
            "#Print\n", 
            "\n", 
            "\n"
          ], 
          "outputs": [
            {
              "output_type": "stream", 
              "stream": "stdout", 
              "text": [
                "\n", 
                "\n", 
                "*****Start of the Attest *****\n", 
                "\n", 
                "PickedVariablesList is \n", 
                "   /[\n", 
                "   /  0 : 0\n", 
                "   /  1 : < (PickerClass), 4550544528>\n", 
                "   /   /{ \n", 
                "   /   /  '<New><Instance>IdInt' : 4550544528\n", 
                "   /   /  '<New><Instance>MyStr' : hello\n", 
                "   /   /}\n", 
                "   /  2 : hello\n", 
                "   /]\n", 
                "\n", 
                "*****End of the Attest *****\n", 
                "\n", 
                "\n"
              ]
            }
          ], 
          "collapsed": false, 
          "metadata": {
            "slideshow": {
              "slide_type": "-"
            }
          }
        }, 
        {
          "source": "\n<!--\nFrozenIsBool False\n-->\n\n#Gatherer\n\n##Doc\n----\n\n\n> \n> A Gatherer is able to pick several times and flat all the results in a one dimension of ItemTuplesList\n> \n> \n\n----\n\n<small>\nView the Gatherer notebook on [NbViewer](http://nbviewer.ipython.org/url/shareyoursystem.ouvaton.org/Gatherer.ipynb)\n</small>\n\n", 
          "cell_type": "markdown", 
          "prompt_number": 12, 
          "metadata": {
            "slideshow": {
              "slide_type": "slide"
            }
          }
        }, 
        {
          "source": "\n<!--\nFrozenIsBool False\n-->\n\nView the Gatherer sources on [Github](https://github.com/Ledoux/ShareYourSystem/tree/master/ShareYourSystem/Applyiers/Installer)\n\n", 
          "cell_type": "markdown", 
          "prompt_number": 13, 
          "metadata": {
            "slideshow": {
              "slide_type": "subslide"
            }
          }
        }, 
        {
          "source": "\n<!---\nFrozenIsBool True\n-->\n\n##Example\n\nLet's create an empty class, which will automatically receive\nspecial attributes from the decorating ClassorClass,\nspecially the NameStr, that should be the ClassStr\nwithout the TypeStr in the end.", 
          "cell_type": "markdown", 
          "prompt_number": 14, 
          "metadata": {
            "slideshow": {
              "slide_type": "subslide"
            }
          }
        }, 
        {
          "cell_type": "code", 
          "prompt_number": 15, 
          "language": "python", 
          "input": [
            "#ImportModules\n", 
            "import ShareYourSystem as SYS\n", 
            "from ShareYourSystem.Applyiers import Gatherer\n", 
            "\n", 
            "#Definition a Gatherer\n", 
            "MyGatherer=Gatherer.GathererClass().map('__setitem__',map(\n", 
            "        lambda __ItemTuple:\n", 
            "        {'LiargVariablesList':__ItemTuple},\n", 
            "        [\n", 
            "            ('MyInt',0),\n", 
            "            ('FirstChildGatherer',Gatherer.GathererClass().__setitem__(\n", 
            "                    'MyStr',\n", 
            "                    \"bonjour\"\n", 
            "                    )\n", 
            "            ),\n", 
            "            ('SecondChildGatherer',Gatherer.GathererClass().__setitem__(\n", 
            "                    'MyStr',\n", 
            "                    \"hello\"\n", 
            "                    )\n", 
            "            )\n", 
            "        ]\n", 
            "    )\n", 
            ")\n", 
            "\n", 
            "#Map some gets\n", 
            "GatheredVariablesList=MyGatherer.gather(\n", 
            "                            [\n", 
            "                                ['MyInt'],\n", 
            "                                ['/FirstChildGatherer/MyStr','/SecondChildGatherer/MyStr']\n", 
            "                            ]\n", 
            "                        )\n", 
            "    \n", 
            "#Definition the AttestedStr\n", 
            "SYS._attest(\n", 
            "    [\n", 
            "        'GatheredVariablesList is '+SYS._str(\n", 
            "            GatheredVariablesList\n", 
            "            ,**{\n", 
            "                    'RepresentingBaseKeyStrsListBool':False,\n", 
            "                    'RepresentingAlineaIsBool':False\n", 
            "            }\n", 
            "        )\n", 
            "    ]\n", 
            ") \n", 
            "\n", 
            "#Print\n", 
            "\n", 
            "\n"
          ], 
          "outputs": [
            {
              "output_type": "stream", 
              "stream": "stdout", 
              "text": [
                "\n", 
                "\n", 
                "*****Start of the Attest *****\n", 
                "\n", 
                "GatheredVariablesList is \n", 
                "   /[\n", 
                "   /  0 : ('MyInt', 0)\n", 
                "   /  1 : ('/FirstChildGatherer/MyStr', 'bonjour')\n", 
                "   /  2 : ('/SecondChildGatherer/MyStr', 'hello')\n", 
                "   /]\n", 
                "\n", 
                "*****End of the Attest *****\n", 
                "\n", 
                "\n"
              ]
            }
          ], 
          "collapsed": false, 
          "metadata": {
            "slideshow": {
              "slide_type": "-"
            }
          }
        }, 
        {
          "source": "\n<!--\nFrozenIsBool False\n-->\n\n#Updater\n\n##Doc\n----\n\n\n> \n> An Updater maps a __setitem__\n> \n> \n\n----\n\n<small>\nView the Updater notebook on [NbViewer](http://nbviewer.ipython.org/url/shareyoursystem.ouvaton.org/Updater.ipynb)\n</small>\n\n", 
          "cell_type": "markdown", 
          "prompt_number": 16, 
          "metadata": {
            "slideshow": {
              "slide_type": "slide"
            }
          }
        }, 
        {
          "source": "\n<!--\nFrozenIsBool False\n-->\n\nView the Updater sources on [Github](https://github.com/Ledoux/ShareYourSystem/tree/master/ShareYourSystem/Applyiers/Installer)\n\n", 
          "cell_type": "markdown", 
          "prompt_number": 17, 
          "metadata": {
            "slideshow": {
              "slide_type": "subslide"
            }
          }
        }, 
        {
          "source": "\n<!---\nFrozenIsBool True\n-->\n\n##Example\n\nUpdate is possible with a TuplesList or a Dict (and OrderedDict)", 
          "cell_type": "markdown", 
          "prompt_number": 18, 
          "metadata": {
            "slideshow": {
              "slide_type": "subslide"
            }
          }
        }, 
        {
          "cell_type": "code", 
          "prompt_number": 19, 
          "language": "python", 
          "input": [
            "#ImportModules\n", 
            "import ShareYourSystem as SYS\n", 
            "from ShareYourSystem.Applyiers import Updater\n", 
            "\n", 
            "#Update several things\n", 
            "MyUpdater=Updater.UpdaterClass(\n", 
            "    ).update(\n", 
            "        [\n", 
            "            ('MyInt',0),\n", 
            "            ('MyFloat',0.2)\n", 
            "        ]\n", 
            "    ).update(\n", 
            "        {\n", 
            "            'MyStr':\"hello\"\n", 
            "        }\n", 
            "    )\n", 
            "    \n", 
            "#Definition the AttestedStr\n", 
            "SYS._attest(\n", 
            "    [\n", 
            "        'MyUpdater is '+SYS._str(\n", 
            "        MyUpdater,\n", 
            "        **{\n", 
            "            'RepresentingBaseKeyStrsListBool':False,\n", 
            "            'RepresentingAlineaIsBool':False\n", 
            "        }\n", 
            "        )\n", 
            "    ]\n", 
            ")  \n", 
            "\n", 
            "#Print\n", 
            "\n", 
            "\n"
          ], 
          "outputs": [
            {
              "output_type": "stream", 
              "stream": "stdout", 
              "text": [
                "\n", 
                "\n", 
                "*****Start of the Attest *****\n", 
                "\n", 
                "MyUpdater is < (UpdaterClass), 4550544592>\n", 
                "   /{ \n", 
                "   /  '<New><Instance>IdInt' : 4550544592\n", 
                "   /  '<New><Instance>MyFloat' : 0.2\n", 
                "   /  '<New><Instance>MyInt' : 0\n", 
                "   /  '<New><Instance>MyStr' : hello\n", 
                "   /  '<Spe><Instance>UpdatingItemVariable' : \n", 
                "   /   /{ \n", 
                "   /   /  'MyStr' : hello\n", 
                "   /   /}\n", 
                "   /}\n", 
                "\n", 
                "*****End of the Attest *****\n", 
                "\n", 
                "\n"
              ]
            }
          ], 
          "collapsed": false, 
          "metadata": {
            "slideshow": {
              "slide_type": "-"
            }
          }
        }, 
        {
          "source": "\n<!--\nFrozenIsBool False\n-->\n\n#Linker\n\n##Doc\n----\n\n\n> \n> An Linker maps a point\n> \n> \n\n----\n\n<small>\nView the Linker notebook on [NbViewer](http://nbviewer.ipython.org/url/shareyoursystem.ouvaton.org/Linker.ipynb)\n</small>\n\n", 
          "cell_type": "markdown", 
          "prompt_number": 20, 
          "metadata": {
            "slideshow": {
              "slide_type": "slide"
            }
          }
        }, 
        {
          "source": "\n<!--\nFrozenIsBool False\n-->\n\nView the Linker sources on [Github](https://github.com/Ledoux/ShareYourSystem/tree/master/ShareYourSystem/Applyiers/Installer)\n\n", 
          "cell_type": "markdown", 
          "prompt_number": 21, 
          "metadata": {
            "slideshow": {
              "slide_type": "subslide"
            }
          }
        }, 
        {
          "source": "\n<!---\nFrozenIsBool True\n-->\n\n##Example\n\nLet's create an empty class, which will automatically receive\nspecial attributes from the decorating ClassorClass,\nspecially the NameStr, that should be the ClassStr\nwithout the TypeStr in the end.", 
          "cell_type": "markdown", 
          "prompt_number": 22, 
          "metadata": {
            "slideshow": {
              "slide_type": "subslide"
            }
          }
        }, 
        {
          "cell_type": "code", 
          "prompt_number": 23, 
          "language": "python", 
          "input": [
            "#ImportModules\n", 
            "import ShareYourSystem as SYS\n", 
            "from ShareYourSystem.Itemizers import Pather\n", 
            "from ShareYourSystem.Applyiers import Linker\n", 
            "\n", 
            "#Update several things\n", 
            "MyLinker=Linker.LinkerClass().update(\n", 
            "    map(\n", 
            "            lambda __Int:\n", 
            "            (str(__Int)+'Pather',Pather.PatherClass()),\n", 
            "            xrange(3)\n", 
            "        )\n", 
            ")\n", 
            "\n", 
            "#link\n", 
            "MyLinker.link(\n", 
            "        map(\n", 
            "                lambda __Int:\n", 
            "                (str(__Int)+'Pather','/'+str(__Int-1)+'Pather/'+str(__Int)+'Pather') \n", 
            "                if __Int>0\n", 
            "                else\n", 
            "                (str(0)+'Pather','/2Pather/0Pather'),\n", 
            "                xrange(3)\n", 
            "            )\n", 
            "        )\n", 
            "\n", 
            "#Definition the AttestedStr\n", 
            "SYS._attest(\n", 
            "    [\n", 
            "        'MyLinker is '+SYS._str(\n", 
            "        MyLinker,\n", 
            "        **{\n", 
            "            'RepresentingBaseKeyStrsListBool':False,\n", 
            "            'RepresentingAlineaIsBool':False\n", 
            "        }\n", 
            "        )\n", 
            "    ]\n", 
            ")  \n", 
            "\n", 
            "#Print\n", 
            "\n", 
            "\n"
          ], 
          "outputs": [
            {
              "output_type": "stream", 
              "stream": "stdout", 
              "text": [
                "\n", 
                "\n", 
                "*****Start of the Attest *****\n", 
                "\n", 
                "MyLinker is < (LinkerClass), 4550544272>\n", 
                "   /{ \n", 
                "   /  '<New><Instance>0Pather' : < (PatherClass), 4550545040>\n", 
                "   /   /{ \n", 
                "   /   /  '<New><Instance>IdInt' : 4550545040\n", 
                "   /   /  '<Spe><Class>PathedChildKeyStr' : \n", 
                "   /   /  '<Spe><Class>PathedGetKeyStr' : \n", 
                "   /   /  '<Spe><Class>PathedKeyStrsList' : None\n", 
                "   /   /  '<Spe><Class>PathingKeyStr' : \n", 
                "   /   /}\n", 
                "   /  '<New><Instance>1Pather' : < (PatherClass), 4550544848>\n", 
                "   /   /{ \n", 
                "   /   /  '<New><Instance>IdInt' : 4550544848\n", 
                "   /   /  '<Spe><Class>PathedChildKeyStr' : \n", 
                "   /   /  '<Spe><Class>PathedGetKeyStr' : \n", 
                "   /   /  '<Spe><Class>PathedKeyStrsList' : None\n", 
                "   /   /  '<Spe><Class>PathingKeyStr' : \n", 
                "   /   /}\n", 
                "   /  '<New><Instance>2Pather' : < (PatherClass), 4550542800>\n", 
                "   /   /{ \n", 
                "   /   /  '<New><Instance>IdInt' : 4550542800\n", 
                "   /   /  '<Spe><Class>PathedChildKeyStr' : \n", 
                "   /   /  '<Spe><Class>PathedGetKeyStr' : \n", 
                "   /   /  '<Spe><Class>PathedKeyStrsList' : None\n", 
                "   /   /  '<Spe><Class>PathingKeyStr' : \n", 
                "   /   /}\n", 
                "   /  '<New><Instance>IdInt' : 4550544272\n", 
                "   /  '<Spe><Instance>LinkingPointListsList' : \n", 
                "   /   /[\n", 
                "   /   /  0 : ('0Pather', '/2Pather/0Pather')\n", 
                "   /   /  1 : ('1Pather', '/0Pather/1Pather')\n", 
                "   /   /  2 : ('2Pather', '/1Pather/2Pather')\n", 
                "   /   /]\n", 
                "   /}\n", 
                "\n", 
                "*****End of the Attest *****\n", 
                "\n", 
                "\n"
              ]
            }
          ], 
          "collapsed": false, 
          "metadata": {
            "slideshow": {
              "slide_type": "-"
            }
          }
        }, 
        {
          "source": "\n<!--\nFrozenIsBool False\n-->\n\n#Weaver\n\n##Doc\n----\n\n\n> \n> A Weaver\n> \n> \n\n----\n\n<small>\nView the Weaver notebook on [NbViewer](http://nbviewer.ipython.org/url/shareyoursystem.ouvaton.org/Weaver.ipynb)\n</small>\n\n", 
          "cell_type": "markdown", 
          "prompt_number": 24, 
          "metadata": {
            "slideshow": {
              "slide_type": "slide"
            }
          }
        }, 
        {
          "source": "\n<!--\nFrozenIsBool False\n-->\n\nView the Weaver sources on [Github](https://github.com/Ledoux/ShareYourSystem/tree/master/ShareYourSystem/Applyiers/Installer)\n\n", 
          "cell_type": "markdown", 
          "prompt_number": 25, 
          "metadata": {
            "slideshow": {
              "slide_type": "subslide"
            }
          }
        }, 
        {
          "source": "\n<!---\nFrozenIsBool True\n-->\n\n##Example\n\nLet's create an empty class, which will automatically receive\nspecial attributes from the decorating ClassorClass,\nspecially the NameStr, that should be the ClassStr\nwithout the TypeStr in the end.", 
          "cell_type": "markdown", 
          "prompt_number": 26, 
          "metadata": {
            "slideshow": {
              "slide_type": "subslide"
            }
          }
        }, 
        {
          "cell_type": "code", 
          "prompt_number": 27, 
          "language": "python", 
          "input": [
            "#ImportModules\n", 
            "import ShareYourSystem as SYS\n", 
            "from ShareYourSystem.Itemizers import Pointer\n", 
            "from ShareYourSystem.Applyiers import Weaver\n", 
            "\n", 
            "#Update several things\n", 
            "MyWeaver=Weaver.WeaverClass().update(\n", 
            "    map(\n", 
            "            lambda __Int:\n", 
            "            (\n", 
            "                str(__Int)+'Pointer',\n", 
            "                Pointer.PointerClass()\n", 
            "            ),\n", 
            "            xrange(3)\n", 
            "        )\n", 
            ").weave(\n", 
            "        map(\n", 
            "                lambda __Int:\n", 
            "                (\n", 
            "                    [\n", 
            "                        str(__Int)+'Pointer',\n", 
            "                        str(__Int-1)+'Pointer',\n", 
            "                    ],\n", 
            "                    str(__Int)+'-'+str(__Int-1)+'Pointer',\n", 
            "                    Pointer.PointerClass()\n", 
            "                )\n", 
            "                if __Int>0\n", 
            "                else\n", 
            "                (\n", 
            "                    [\n", 
            "                        str(0)+'Pointer',\n", 
            "                        str(2)+'Pointer',\n", 
            "                    ],\n", 
            "                    str(0)+'-'+str(2)+'Pointer',\n", 
            "                    Pointer.PointerClass()\n", 
            "                ),\n", 
            "                xrange(3)\n", 
            "            )\n", 
            "        )\n", 
            "    \n", 
            "#Definition the AttestedStr\n", 
            "SYS._attest(\n", 
            "    [\n", 
            "        'MyWeaver is '+SYS._str(\n", 
            "        MyWeaver,\n", 
            "        **{\n", 
            "            'RepresentingBaseKeyStrsListBool':False,\n", 
            "            'RepresentingAlineaIsBool':False\n", 
            "        }\n", 
            "        )\n", 
            "    ]\n", 
            ")  \n", 
            "\n", 
            "#Print\n", 
            "\n", 
            "\n"
          ], 
          "outputs": [
            {
              "output_type": "stream", 
              "stream": "stdout", 
              "text": [
                "\n", 
                "\n", 
                "*****Start of the Attest *****\n", 
                "\n", 
                "MyWeaver is < (WeaverClass), 4550545360>\n", 
                "   /{ \n", 
                "   /  '<New><Instance>0Pointer' : < (PointerClass), 4550544976>\n", 
                "   /   /{ \n", 
                "   /   /  '<New><Instance>IdInt' : 4550544976\n", 
                "   /   /  '<Spe><Class>PointedBackSetStr' : \n", 
                "   /   /  '<Spe><Class>PointedGetVariable' : None\n", 
                "   /   /  '<Spe><Class>PointedLocalSetStr' : \n", 
                "   /   /  '<Spe><Class>PointedPathBackVariable' : \n", 
                "   /   /  '<Spe><Class>PointingBackSetStr' : \n", 
                "   /   /  '<Spe><Class>PointingGetVariable' : None\n", 
                "   /   /  '<Spe><Class>PointingSetPathStr' : \n", 
                "   /   /}\n", 
                "   /  '<New><Instance>1Pointer' : < (PointerClass), 4550544912>\n", 
                "   /   /{ \n", 
                "   /   /  '<New><Instance>IdInt' : 4550544912\n", 
                "   /   /  '<Spe><Class>PointedBackSetStr' : \n", 
                "   /   /  '<Spe><Class>PointedGetVariable' : None\n", 
                "   /   /  '<Spe><Class>PointedLocalSetStr' : \n", 
                "   /   /  '<Spe><Class>PointedPathBackVariable' : \n", 
                "   /   /  '<Spe><Class>PointingBackSetStr' : \n", 
                "   /   /  '<Spe><Class>PointingGetVariable' : None\n", 
                "   /   /  '<Spe><Class>PointingSetPathStr' : \n", 
                "   /   /}\n", 
                "   /  '<New><Instance>2Pointer' : < (PointerClass), 4550542224>\n", 
                "   /   /{ \n", 
                "   /   /  '<New><Instance>IdInt' : 4550542224\n", 
                "   /   /  '<Spe><Class>PointedBackSetStr' : \n", 
                "   /   /  '<Spe><Class>PointedGetVariable' : None\n", 
                "   /   /  '<Spe><Class>PointedLocalSetStr' : \n", 
                "   /   /  '<Spe><Class>PointedPathBackVariable' : \n", 
                "   /   /  '<Spe><Class>PointingBackSetStr' : \n", 
                "   /   /  '<Spe><Class>PointingGetVariable' : None\n", 
                "   /   /  '<Spe><Class>PointingSetPathStr' : \n", 
                "   /   /}\n", 
                "   /  '<New><Instance>IdInt' : 4550545360\n", 
                "   /  '<Spe><Instance>WeavingInteractTuplesList' : \n", 
                "   /   /[\n", 
                "   /   /  0 : \n", 
                "   /   /   /(\n", 
                "   /   /   /  0 : ['0Pointer', '2Pointer']\n", 
                "   /   /   /  1 : 0-2Pointer\n", 
                "   /   /   /  2 : < (PointerClass), 4550545296>\n", 
                "   /   /   /   /{ \n", 
                "   /   /   /   /  '<New><Instance>IdInt' : 4550545296\n", 
                "   /   /   /   /  '<Spe><Class>PointedBackSetStr' : \n", 
                "   /   /   /   /  '<Spe><Class>PointedGetVariable' : None\n", 
                "   /   /   /   /  '<Spe><Class>PointedLocalSetStr' : \n", 
                "   /   /   /   /  '<Spe><Class>PointedPathBackVariable' : \n", 
                "   /   /   /   /  '<Spe><Class>PointingBackSetStr' : \n", 
                "   /   /   /   /  '<Spe><Class>PointingGetVariable' : None\n", 
                "   /   /   /   /  '<Spe><Class>PointingSetPathStr' : \n", 
                "   /   /   /   /}\n", 
                "   /   /   /)\n", 
                "   /   /  1 : \n", 
                "   /   /   /(\n", 
                "   /   /   /  0 : ['1Pointer', '0Pointer']\n", 
                "   /   /   /  1 : 1-0Pointer\n", 
                "   /   /   /  2 : < (PointerClass), 4550543184>\n", 
                "   /   /   /   /{ \n", 
                "   /   /   /   /  '<New><Instance>IdInt' : 4550543184\n", 
                "   /   /   /   /  '<Spe><Class>PointedBackSetStr' : \n", 
                "   /   /   /   /  '<Spe><Class>PointedGetVariable' : None\n", 
                "   /   /   /   /  '<Spe><Class>PointedLocalSetStr' : \n", 
                "   /   /   /   /  '<Spe><Class>PointedPathBackVariable' : \n", 
                "   /   /   /   /  '<Spe><Class>PointingBackSetStr' : \n", 
                "   /   /   /   /  '<Spe><Class>PointingGetVariable' : None\n", 
                "   /   /   /   /  '<Spe><Class>PointingSetPathStr' : \n", 
                "   /   /   /   /}\n", 
                "   /   /   /)\n", 
                "   /   /  2 : \n", 
                "   /   /   /(\n", 
                "   /   /   /  0 : ['2Pointer', '1Pointer']\n", 
                "   /   /   /  1 : 2-1Pointer\n", 
                "   /   /   /  2 : < (PointerClass), 4550545232>\n", 
                "   /   /   /   /{ \n", 
                "   /   /   /   /  '<New><Instance>IdInt' : 4550545232\n", 
                "   /   /   /   /  '<Spe><Class>PointedBackSetStr' : \n", 
                "   /   /   /   /  '<Spe><Class>PointedGetVariable' : None\n", 
                "   /   /   /   /  '<Spe><Class>PointedLocalSetStr' : \n", 
                "   /   /   /   /  '<Spe><Class>PointedPathBackVariable' : \n", 
                "   /   /   /   /  '<Spe><Class>PointingBackSetStr' : \n", 
                "   /   /   /   /  '<Spe><Class>PointingGetVariable' : None\n", 
                "   /   /   /   /  '<Spe><Class>PointingSetPathStr' : \n", 
                "   /   /   /   /}\n", 
                "   /   /   /)\n", 
                "   /   /]\n", 
                "   /}\n", 
                "\n", 
                "*****End of the Attest *****\n", 
                "\n", 
                "\n"
              ]
            }
          ], 
          "collapsed": false, 
          "metadata": {
            "slideshow": {
              "slide_type": "-"
            }
          }
        }, 
        {
          "source": "\n<!--\nFrozenIsBool False\n-->\n\n#Filterer\n\n##Doc\n----\n\n\n> \n> A Filterer pick and \n> \n> \n\n----\n\n<small>\nView the Filterer notebook on [NbViewer](http://nbviewer.ipython.org/url/shareyoursystem.ouvaton.org/Filterer.ipynb)\n</small>\n\n", 
          "cell_type": "markdown", 
          "prompt_number": 28, 
          "metadata": {
            "slideshow": {
              "slide_type": "slide"
            }
          }
        }, 
        {
          "source": "\n<!--\nFrozenIsBool False\n-->\n\nView the Filterer sources on [Github](https://github.com/Ledoux/ShareYourSystem/tree/master/ShareYourSystem/Applyiers/Installer)\n\n", 
          "cell_type": "markdown", 
          "prompt_number": 29, 
          "metadata": {
            "slideshow": {
              "slide_type": "subslide"
            }
          }
        }, 
        {
          "cell_type": "code", 
          "prompt_number": 30, 
          "language": "python", 
          "input": [
            "\n", 
            "#ImportModules\n", 
            "import ShareYourSystem as SYS\n", 
            "from ShareYourSystem.Applyiers import Filterer\n", 
            "import operator\n", 
            "\n", 
            "#Definition a Filter instance that is grouped\n", 
            "MyFilterer=Filterer.FiltererClass().update(\n", 
            "    [\n", 
            "        ('NodeIndexInt',1),\n", 
            "        ('NodeKeyStr','MyFilterer'),\n", 
            "        (\n", 
            "            'ConcludingConditionTuplesList',[\n", 
            "                        (\n", 
            "                            'NodeIndexInt',\n", 
            "                            lambda _TestInt,_AttestInt:\n", 
            "                                operator.lt(_TestInt,_AttestInt)\n", 
            "                                if _TestInt!=None else False,\n", 
            "                            2\n", 
            "                        )\n", 
            "                    ]\n", 
            "                ),\n", 
            "        (\n", 
            "            'PickingGetKeyVariablesList',['NodeKeyStr']\n", 
            "        )\n", 
            "    ]\n", 
            ").filter('/')\n", 
            "\n", 
            "    \n", 
            "#Definition the AttestedStr\n", 
            "SYS._attest(\n", 
            "    [\n", 
            "        'MyFilterer is '+SYS._str(\n", 
            "        MyFilterer,\n", 
            "        **{\n", 
            "            'RepresentingBaseKeyStrsListBool':False,\n", 
            "            'RepresentingAlineaIsBool':False\n", 
            "        }\n", 
            "        )\n", 
            "    ]\n", 
            ") \n", 
            "\n", 
            "\n"
          ], 
          "outputs": [
            {
              "output_type": "stream", 
              "stream": "stdout", 
              "text": [
                "\n", 
                "\n", 
                "*****Start of the Attest *****\n", 
                "\n", 
                "MyFilterer is < (FiltererClass), 4550544464>\n", 
                "   /{ \n", 
                "   /  '<New><Instance>IdInt' : 4550544464\n", 
                "   /  '<New><Instance>NodeIndexInt' : 1\n", 
                "   /  '<New><Instance>NodeKeyStr' : MyFilterer\n", 
                "   /  '<Spe><Instance>FilteredGetVariable' : {...}< (FiltererClass), 4550544464>\n", 
                "   /  '<Spe><Instance>FilteredVariablesList' : ['MyFilterer']\n", 
                "   /  '<Spe><Instance>FilteringGetVariable' : /\n", 
                "   /}\n", 
                "\n", 
                "*****End of the Attest *****\n", 
                "\n", 
                "\n"
              ]
            }
          ], 
          "collapsed": false, 
          "metadata": {
            "slideshow": {
              "slide_type": "subslide"
            }
          }
        }, 
        {
          "source": "\n<!--\nFrozenIsBool False\n-->\n\n#Pusher\n\n##Doc\n----\n\n\n> \n> Pusher instances\n> \n> \n\n----\n\n<small>\nView the Pusher notebook on [NbViewer](http://nbviewer.ipython.org/url/shareyoursystem.ouvaton.org/Pusher.ipynb)\n</small>\n\n", 
          "cell_type": "markdown", 
          "prompt_number": 31, 
          "metadata": {
            "slideshow": {
              "slide_type": "slide"
            }
          }
        }, 
        {
          "source": "\n<!--\nFrozenIsBool False\n-->\n\nView the Pusher sources on [Github](https://github.com/Ledoux/ShareYourSystem/tree/master/ShareYourSystem/Applyiers/Installer)\n\n", 
          "cell_type": "markdown", 
          "prompt_number": 32, 
          "metadata": {
            "slideshow": {
              "slide_type": "subslide"
            }
          }
        }, 
        {
          "cell_type": "code", 
          "prompt_number": 33, 
          "language": "python", 
          "input": [
            "\n", 
            "#ImportModules\n", 
            "import ShareYourSystem as SYS\n", 
            "from ShareYourSystem.Applyiers import Pusher\n", 
            "\n", 
            "#push\n", 
            "MyPusher=Pusher.PusherClass().push(\n", 
            "    [\n", 
            "        [\n", 
            "            'FirstChild',\n", 
            "            Pusher.PusherClass().__setitem__('MyInt',0)\n", 
            "        ],\n", 
            "        [\n", 
            "            'SecondChild',\n", 
            "            Pusher.PusherClass()\n", 
            "        ]\n", 
            "    ],\n", 
            "    **{'CollectingCollectionStr':'Pushome'}\n", 
            ")\n", 
            "\n", 
            "#Definition the AttestedStr\n", 
            "SYS._attest(\n", 
            "    [\n", 
            "        'MyPusher is '+SYS._str(\n", 
            "        MyPusher,\n", 
            "        **{\n", 
            "            'RepresentingBaseKeyStrsListBool':False,\n", 
            "            'RepresentingAlineaIsBool':False\n", 
            "        }\n", 
            "        )\n", 
            "    ]\n", 
            ") \n", 
            "\n", 
            "\n"
          ], 
          "outputs": [
            {
              "output_type": "stream", 
              "stream": "stdout", 
              "text": [
                "\n", 
                "\n", 
                "*****Start of the Attest *****\n", 
                "\n", 
                "MyPusher is < (PusherClass), 4550544720>\n", 
                "   /{ \n", 
                "   /  '<New><Instance>IdInt' : 4550544720\n", 
                "   /  '<New><Instance>NodeCollectionStr' : Globals\n", 
                "   /  '<New><Instance>NodeIndexInt' : -1\n", 
                "   /  '<New><Instance>NodeKeyStr' : TopPusher\n", 
                "   /  '<New><Instance>NodePointDeriveNoder' : None\n", 
                "   /  '<New><Instance>NodePointOrderedDict' : None\n", 
                "   /  '<New><Instance>PushomeCollectionOrderedDict' : \n", 
                "   /   /{ \n", 
                "   /   /  'FirstChildPusher' : < (PusherClass), 4550543760>\n", 
                "   /   /   /{ \n", 
                "   /   /   /  '<New><Instance>IdInt' : 4550543760\n", 
                "   /   /   /  '<New><Instance>MyInt' : 0\n", 
                "   /   /   /  '<New><Instance>NodeCollectionStr' : Pushome\n", 
                "   /   /   /  '<New><Instance>NodeIndexInt' : 0\n", 
                "   /   /   /  '<New><Instance>NodeKeyStr' : FirstChildPusher\n", 
                "   /   /   /  '<New><Instance>NodePointDeriveNoder' : {...}< (PusherClass), 4550544720>\n", 
                "   /   /   /  '<New><Instance>NodePointOrderedDict' : {...}< (OrderedDict), 4550549584>\n", 
                "   /   /   /  '<Spe><Class>PushingStoreListsList' : None\n", 
                "   /   /   /}\n", 
                "   /   /  'SecondChildPusher' : < (PusherClass), 4550565968>\n", 
                "   /   /   /{ \n", 
                "   /   /   /  '<New><Instance>IdInt' : 4550565968\n", 
                "   /   /   /  '<New><Instance>NodeCollectionStr' : Pushome\n", 
                "   /   /   /  '<New><Instance>NodeIndexInt' : 1\n", 
                "   /   /   /  '<New><Instance>NodeKeyStr' : SecondChildPusher\n", 
                "   /   /   /  '<New><Instance>NodePointDeriveNoder' : {...}< (PusherClass), 4550544720>\n", 
                "   /   /   /  '<New><Instance>NodePointOrderedDict' : {...}< (OrderedDict), 4550549584>\n", 
                "   /   /   /  '<Spe><Class>PushingStoreListsList' : None\n", 
                "   /   /   /}\n", 
                "   /   /}\n", 
                "   /  '<Spe><Instance>PushingStoreListsList' : \n", 
                "   /   /[\n", 
                "   /   /  0 : \n", 
                "   /   /   /[\n", 
                "   /   /   /  0 : FirstChild\n", 
                "   /   /   /  1 : {...}< (PusherClass), 4550543760>\n", 
                "   /   /   /]\n", 
                "   /   /  1 : \n", 
                "   /   /   /[\n", 
                "   /   /   /  0 : SecondChild\n", 
                "   /   /   /  1 : {...}< (PusherClass), 4550565968>\n", 
                "   /   /   /]\n", 
                "   /   /]\n", 
                "   /}\n", 
                "\n", 
                "*****End of the Attest *****\n", 
                "\n", 
                "\n"
              ]
            }
          ], 
          "collapsed": false, 
          "metadata": {
            "slideshow": {
              "slide_type": "subslide"
            }
          }
        }, 
        {
          "source": "\n<!--\nFrozenIsBool False\n-->\n\n#Producer\n\n##Doc\n----\n\n\n> \n> Producer instances\n> \n> \n\n----\n\n<small>\nView the Producer notebook on [NbViewer](http://nbviewer.ipython.org/url/shareyoursystem.ouvaton.org/Producer.ipynb)\n</small>\n\n", 
          "cell_type": "markdown", 
          "prompt_number": 34, 
          "metadata": {
            "slideshow": {
              "slide_type": "slide"
            }
          }
        }, 
        {
          "source": "\n<!--\nFrozenIsBool False\n-->\n\nView the Producer sources on [Github](https://github.com/Ledoux/ShareYourSystem/tree/master/ShareYourSystem/Applyiers/Installer)\n\n", 
          "cell_type": "markdown", 
          "prompt_number": 35, 
          "metadata": {
            "slideshow": {
              "slide_type": "subslide"
            }
          }
        }, 
        {
          "cell_type": "code", 
          "prompt_number": 36, 
          "language": "python", 
          "input": [
            "\n", 
            "#ImportModules\n", 
            "import ShareYourSystem as SYS\n", 
            "from ShareYourSystem.Noders import Noder\n", 
            "from ShareYourSystem.Applyiers import Producer\n", 
            "\n", 
            "#produce\n", 
            "MyProducer=Producer.ProducerClass().produce(\n", 
            "        ['First','Second'],\n", 
            "        Noder.NoderClass,\n", 
            "        {'MyInt':0},\n", 
            "        **{'CollectingCollectionStr':'Nodome'}\n", 
            "    )\n", 
            "\n", 
            "#Definition the AttestedStr\n", 
            "SYS._attest(\n", 
            "    [\n", 
            "        'MyProducer is '+SYS._str(\n", 
            "        MyProducer,\n", 
            "        **{\n", 
            "            'RepresentingBaseKeyStrsListBool':False,\n", 
            "            'RepresentingAlineaIsBool':False\n", 
            "        }\n", 
            "        )\n", 
            "    ]\n", 
            ") \n", 
            "\n", 
            "#Print\n", 
            "\n", 
            "\n"
          ], 
          "outputs": [
            {
              "output_type": "stream", 
              "stream": "stdout", 
              "text": [
                "\n", 
                "\n", 
                "*****Start of the Attest *****\n", 
                "\n", 
                "MyProducer is < (ProducerClass), 4550566288>\n", 
                "   /{ \n", 
                "   /  '<New><Instance>IdInt' : 4550566288\n", 
                "   /  '<New><Instance>NodeCollectionStr' : Globals\n", 
                "   /  '<New><Instance>NodeIndexInt' : -1\n", 
                "   /  '<New><Instance>NodeKeyStr' : TopProducer\n", 
                "   /  '<New><Instance>NodePointDeriveNoder' : None\n", 
                "   /  '<New><Instance>NodePointOrderedDict' : None\n", 
                "   /  '<New><Instance>NodomeCollectionOrderedDict' : \n", 
                "   /   /{ \n", 
                "   /   /  'FirstNoder' : < (NoderClass), 4550566032>\n", 
                "   /   /   /{ \n", 
                "   /   /   /  '<New><Instance>IdInt' : 4550566032\n", 
                "   /   /   /  '<New><Instance>MyInt' : 0\n", 
                "   /   /   /  '<New><Instance>NodeCollectionStr' : Nodome\n", 
                "   /   /   /  '<New><Instance>NodeIndexInt' : 0\n", 
                "   /   /   /  '<New><Instance>NodeKeyStr' : FirstNoder\n", 
                "   /   /   /  '<New><Instance>NodePointDeriveNoder' : {...}< (ProducerClass), 4550566288>\n", 
                "   /   /   /  '<New><Instance>NodePointOrderedDict' : {...}< (OrderedDict), 4550549880>\n", 
                "   /   /   /  '<Spe><Class>NodedCollectionIndexInt' : -1\n", 
                "   /   /   /  '<Spe><Class>NodedCollectionOrderedDict' : None\n", 
                "   /   /   /  '<Spe><Class>NodedCollectionStr' : \n", 
                "   /   /   /  '<Spe><Class>NodedKeyStr' : \n", 
                "   /   /   /  '<Spe><Class>NodingCollectionStr' : \n", 
                "   /   /   /}\n", 
                "   /   /  'SecondNoder' : < (NoderClass), 4550567376>\n", 
                "   /   /   /{ \n", 
                "   /   /   /  '<New><Instance>IdInt' : 4550567376\n", 
                "   /   /   /  '<New><Instance>MyInt' : 0\n", 
                "   /   /   /  '<New><Instance>NodeCollectionStr' : Nodome\n", 
                "   /   /   /  '<New><Instance>NodeIndexInt' : 1\n", 
                "   /   /   /  '<New><Instance>NodeKeyStr' : SecondNoder\n", 
                "   /   /   /  '<New><Instance>NodePointDeriveNoder' : {...}< (ProducerClass), 4550566288>\n", 
                "   /   /   /  '<New><Instance>NodePointOrderedDict' : {...}< (OrderedDict), 4550549880>\n", 
                "   /   /   /  '<Spe><Class>NodedCollectionIndexInt' : -1\n", 
                "   /   /   /  '<Spe><Class>NodedCollectionOrderedDict' : None\n", 
                "   /   /   /  '<Spe><Class>NodedCollectionStr' : \n", 
                "   /   /   /  '<Spe><Class>NodedKeyStr' : \n", 
                "   /   /   /  '<Spe><Class>NodingCollectionStr' : \n", 
                "   /   /   /}\n", 
                "   /   /}\n", 
                "   /  '<Spe><Instance>ProducedPushList' : \n", 
                "   /   /[\n", 
                "   /   /  0 : \n", 
                "   /   /   /[\n", 
                "   /   /   /  0 : First\n", 
                "   /   /   /  1 : {...}< (NoderClass), 4550566032>\n", 
                "   /   /   /]\n", 
                "   /   /  1 : \n", 
                "   /   /   /[\n", 
                "   /   /   /  0 : Second\n", 
                "   /   /   /  1 : {...}< (NoderClass), 4550567376>\n", 
                "   /   /   /]\n", 
                "   /   /]\n", 
                "   /  '<Spe><Instance>ProducingCollectionKeyStrsList' : ['First', 'Second']\n", 
                "   /  '<Spe><Instance>ProducingPushClass' : <class 'ShareYourSystem.Noders.Noder.NoderClass'>\n", 
                "   /  '<Spe><Instance>ProducingUpdateVariable' : \n", 
                "   /   /{ \n", 
                "   /   /  'MyInt' : 0\n", 
                "   /   /}\n", 
                "   /}\n", 
                "\n", 
                "*****End of the Attest *****\n", 
                "\n", 
                "\n"
              ]
            }
          ], 
          "collapsed": false, 
          "metadata": {
            "slideshow": {
              "slide_type": "subslide"
            }
          }
        }, 
        {
          "source": "\n<!--\nFrozenIsBool False\n-->\n\n#Commander\n\n##Doc\n----\n\n\n> \n> A Commander gather Variables to set them with an UpdateList.\n> The command process can be AllSetsForEach (ie a map of the update succesively for each)\n> or a EachSetForAll (ie each set is a map of each).\n> \n> \n\n----\n\n<small>\nView the Commander notebook on [NbViewer](http://nbviewer.ipython.org/url/shareyoursystem.ouvaton.org/Commander.ipynb)\n</small>\n\n", 
          "cell_type": "markdown", 
          "prompt_number": 37, 
          "metadata": {
            "slideshow": {
              "slide_type": "slide"
            }
          }
        }, 
        {
          "source": "\n<!--\nFrozenIsBool False\n-->\n\nView the Commander sources on [Github](https://github.com/Ledoux/ShareYourSystem/tree/master/ShareYourSystem/Applyiers/Installer)\n\n", 
          "cell_type": "markdown", 
          "prompt_number": 38, 
          "metadata": {
            "slideshow": {
              "slide_type": "subslide"
            }
          }
        }, 
        {
          "source": "\n<!---\nFrozenIsBool True\n-->\n\n##Example\n\nLet's create an empty class, which will automatically receive\nspecial attributes from the decorating ClassorClass,\nspecially the NameStr, that should be the ClassStr\nwithout the TypeStr in the end.", 
          "cell_type": "markdown", 
          "prompt_number": 39, 
          "metadata": {
            "slideshow": {
              "slide_type": "subslide"
            }
          }
        }, 
        {
          "cell_type": "code", 
          "prompt_number": 40, 
          "language": "python", 
          "input": [
            "\n", 
            "#ImportModules\n", 
            "import ShareYourSystem as SYS\n", 
            "from ShareYourSystem.Applyiers import Commander\n", 
            "import copy\n", 
            "\n", 
            "#Definition a structure of Commanders.\n", 
            "MyFirstCommander=Commander.CommanderClass().__add__(\n", 
            "    [\n", 
            "        Commander.CommanderClass().update(\n", 
            "            [\n", 
            "                ('NodeCollectionStr','Commandome'),\n", 
            "                ('NodeKeyStr',str(Int1))\n", 
            "            ]) for Int1 in xrange(2)\n", 
            "    ]\n", 
            ")\n", 
            "\n", 
            "#Definition a structure of Commanders.\n", 
            "MySecondCommander=Commander.CommanderClass().__add__(\n", 
            "    [\n", 
            "        Commander.CommanderClass().update(\n", 
            "            [\n", 
            "                ('NodeCollectionStr','Commandome'),\n", 
            "                ('NodeKeyStr',str(Int1))\n", 
            "            ]) for Int1 in xrange(2)\n", 
            "    ]\n", 
            ")\n", 
            "\n", 
            "\n", 
            "#Definition an CommandingUpdateList to be commanded\n", 
            "CommandingUpdateList=[\n", 
            "    (\n", 
            "        'MyCountingInt',\n", 
            "        ';'.join([\n", 
            "                    'Exec_self.SettingValueVariable=self.__class__.MyCountingInt',\n", 
            "                    'self.__class__.MyCountingInt+=1'\n", 
            "                ])\n", 
            "    ),\n", 
            "    (\n", 
            "        'MyCountingInt',\n", 
            "        ';'.join([\n", 
            "                    'Exec_self.SettingValueVariable=self.__class__.MyCountingInt',\n", 
            "                    'self.__class__.MyCountingInt+=1'\n", 
            "                ])\n", 
            "    )\n", 
            "]\n", 
            "\n", 
            "#Definition GatheringVariablesList\n", 
            "GatheringVariablesList=[\n", 
            "        ['/'],\n", 
            "        '<Commandome>'\n", 
            "]\n", 
            "\n", 
            "#Now command with a AllSetsForEach protocol\n", 
            "MyFirstCommander.execute('self.__class__.MyCountingInt=0').command(\n", 
            "        _UpdateList=CommandingUpdateList,\n", 
            "        **{\n", 
            "            'GatheringVariablesList': GatheringVariablesList\n", 
            "            }\n", 
            "        )\n", 
            "\n", 
            "#Command with a EachSetForAll protocol\n", 
            "MySecondCommander.execute('self.__class__.MyCountingInt=0').command(\n", 
            "        CommandingUpdateList,\n", 
            "        _OrderStr='EachSetForAll',\n", 
            "        **{\n", 
            "            'GatheringVariablesList': GatheringVariablesList\n", 
            "        }\n", 
            ")\n", 
            "    \n", 
            "#Definition the AttestedStr\n", 
            "SYS._attest(\n", 
            "    [\n", 
            "        'MyFirstCommander is '+SYS._str(\n", 
            "        MyFirstCommander,\n", 
            "        **{\n", 
            "            'RepresentingBaseKeyStrsListBool':False,\n", 
            "            'RepresentingAlineaIsBool':False\n", 
            "        }\n", 
            "        ),\n", 
            "        'MySecondCommander is '+SYS._str(\n", 
            "        MySecondCommander,\n", 
            "        **{\n", 
            "            'RepresentingBaseKeyStrsListBool':False,\n", 
            "            'RepresentingAlineaIsBool':False\n", 
            "        }\n", 
            "        )\n", 
            "    ]\n", 
            ")  \n", 
            "\n", 
            "\n"
          ], 
          "outputs": [
            {
              "output_type": "stream", 
              "stream": "stdout", 
              "text": [
                "                                            \n", 
                "                                            xxxxxxxxxxxxxxxxxxxxxxxxxxxxxxxxxxxxxxxxxxxxxxxxxxxxxxxxxxxxxxxxxxxxxxxxxxxxxxxxxxxxxxxxxxxx\n", 
                "                                            ////////////////////////////////\n", 
                "                                            Appender/__init__.py do_append\n", 
                "                                            From Appender/__init__.py do_append | Instancer/__init__.py mimic_append | Mimicker/__init__.py mimic | Applyier/__init__.py do_apply | Mapper/__init__.py do_map | Adder/__init__.py do_add | Adder/__init__.py __add__ | site-packages/six.py exec_ | Celler/__init__.py do_cell | Notebooker/__init__.py do_notebook | Informer/__init__.py do_inform | inform.py <module>\n", 
                "                                            ////////////////////////////////\n", 
                "                                            \n", 
                "                                            l.138 : \n", 
                "                                            *****\n", 
                "                                            I am with [('NodeKeyStr', 'TopCommander')]\n", 
                "                                            *****\n", 
                "                                            self.AppendedNodeCollectionStr is Commandome\n", 
                "                                            self.AppendedNodeKeyStr is 0\n", 
                "                                            \n", 
                "                                            xxxxxxxxxxxxxxxxxxxxxxxxxxxxxxxxxxxxxxxxxxxxxxxxxxxxxxxxxxxxxxxxxxxxxxxxxxxxxxxxxxxxxxxxxxxx\n", 
                "                                                                                        \n", 
                "                                            \n", 
                "                                            xxxxxxxxxxxxxxxxxxxxxxxxxxxxxxxxxxxxxxxxxxxxxxxxxxxxxxxxxxxxxxxxxxxxxxxxxxxxxxxxxxxxxxxxxxxx\n", 
                "                                            ////////////////////////////////\n", 
                "                                            Appender/__init__.py do_append\n", 
                "                                            From Appender/__init__.py do_append | Instancer/__init__.py mimic_append | Mimicker/__init__.py mimic | Applyier/__init__.py do_apply | Mapper/__init__.py do_map | Adder/__init__.py do_add | Adder/__init__.py __add__ | site-packages/six.py exec_ | Celler/__init__.py do_cell | Notebooker/__init__.py do_notebook | Informer/__init__.py do_inform | inform.py <module>\n", 
                "                                            ////////////////////////////////\n", 
                "                                            \n", 
                "                                            l.138 : \n", 
                "                                            *****\n", 
                "                                            I am with [('NodeKeyStr', 'TopCommander')]\n", 
                "                                            *****\n", 
                "                                            self.AppendedNodeCollectionStr is Commandome\n", 
                "                                            self.AppendedNodeKeyStr is 1\n", 
                "                                            \n", 
                "                                            xxxxxxxxxxxxxxxxxxxxxxxxxxxxxxxxxxxxxxxxxxxxxxxxxxxxxxxxxxxxxxxxxxxxxxxxxxxxxxxxxxxxxxxxxxxx\n", 
                "                                                                                        \n", 
                "                                            \n", 
                "                                            xxxxxxxxxxxxxxxxxxxxxxxxxxxxxxxxxxxxxxxxxxxxxxxxxxxxxxxxxxxxxxxxxxxxxxxxxxxxxxxxxxxxxxxxxxxx\n", 
                "                                            ////////////////////////////////\n", 
                "                                            Appender/__init__.py do_append\n", 
                "                                            From Appender/__init__.py do_append | Instancer/__init__.py mimic_append | Mimicker/__init__.py mimic | Applyier/__init__.py do_apply | Mapper/__init__.py do_map | Adder/__init__.py do_add | Adder/__init__.py __add__ | site-packages/six.py exec_ | Celler/__init__.py do_cell | Notebooker/__init__.py do_notebook | Informer/__init__.py do_inform | inform.py <module>\n", 
                "                                            ////////////////////////////////\n", 
                "                                            \n", 
                "                                            l.138 : \n", 
                "                                            *****\n", 
                "                                            I am with [('NodeKeyStr', 'TopCommander')]\n", 
                "                                            *****\n", 
                "                                            self.AppendedNodeCollectionStr is Commandome\n", 
                "                                            self.AppendedNodeKeyStr is 0\n", 
                "                                            \n", 
                "                                            xxxxxxxxxxxxxxxxxxxxxxxxxxxxxxxxxxxxxxxxxxxxxxxxxxxxxxxxxxxxxxxxxxxxxxxxxxxxxxxxxxxxxxxxxxxx\n", 
                "                                                                                        \n", 
                "                                            \n", 
                "                                            xxxxxxxxxxxxxxxxxxxxxxxxxxxxxxxxxxxxxxxxxxxxxxxxxxxxxxxxxxxxxxxxxxxxxxxxxxxxxxxxxxxxxxxxxxxx\n", 
                "                                            ////////////////////////////////\n", 
                "                                            Appender/__init__.py do_append\n", 
                "                                            From Appender/__init__.py do_append | Instancer/__init__.py mimic_append | Mimicker/__init__.py mimic | Applyier/__init__.py do_apply | Mapper/__init__.py do_map | Adder/__init__.py do_add | Adder/__init__.py __add__ | site-packages/six.py exec_ | Celler/__init__.py do_cell | Notebooker/__init__.py do_notebook | Informer/__init__.py do_inform | inform.py <module>\n", 
                "                                            ////////////////////////////////\n", 
                "                                            \n", 
                "                                            l.138 : \n", 
                "                                            *****\n", 
                "                                            I am with [('NodeKeyStr', 'TopCommander')]\n", 
                "                                            *****\n", 
                "                                            self.AppendedNodeCollectionStr is Commandome\n", 
                "                                            self.AppendedNodeKeyStr is 1\n", 
                "                                            \n", 
                "                                            xxxxxxxxxxxxxxxxxxxxxxxxxxxxxxxxxxxxxxxxxxxxxxxxxxxxxxxxxxxxxxxxxxxxxxxxxxxxxxxxxxxxxxxxxxxx\n", 
                "                                                                                        \n", 
                "\n", 
                "\n", 
                "*****Start of the Attest *****\n", 
                "\n", 
                "MyFirstCommander is < (CommanderClass), 4550544016>\n", 
                "   /{ \n", 
                "   /  '<New><Instance>CommandomeCollectionOrderedDict' : \n", 
                "   /   /{ \n", 
                "   /   /  '0' : < (CommanderClass), 4550566800>\n", 
                "   /   /   /{ \n", 
                "   /   /   /  '<New><Instance>IdInt' : 4550566800\n", 
                "   /   /   /  '<New><Instance>MyCountingInt' : 3\n", 
                "   /   /   /  '<New><Instance>NodeCollectionStr' : Commandome\n", 
                "   /   /   /  '<New><Instance>NodeIndexInt' : 0\n", 
                "   /   /   /  '<New><Instance>NodeKeyStr' : 0\n", 
                "   /   /   /  '<New><Instance>NodePointDeriveNoder' : {...}< (CommanderClass), 4550544016>\n", 
                "   /   /   /  '<New><Instance>NodePointOrderedDict' : {...}< (OrderedDict), 4550550176>\n", 
                "   /   /   /  '<Spe><Class>CommandingGatherIsBool' : True\n", 
                "   /   /   /  '<Spe><Class>CommandingOrderStr' : AllSetsForEach\n", 
                "   /   /   /}\n", 
                "   /   /  '1' : < (CommanderClass), 4550568656>\n", 
                "   /   /   /{ \n", 
                "   /   /   /  '<New><Instance>IdInt' : 4550568656\n", 
                "   /   /   /  '<New><Instance>MyCountingInt' : 5\n", 
                "   /   /   /  '<New><Instance>NodeCollectionStr' : Commandome\n", 
                "   /   /   /  '<New><Instance>NodeIndexInt' : 1\n", 
                "   /   /   /  '<New><Instance>NodeKeyStr' : 1\n", 
                "   /   /   /  '<New><Instance>NodePointDeriveNoder' : {...}< (CommanderClass), 4550544016>\n", 
                "   /   /   /  '<New><Instance>NodePointOrderedDict' : {...}< (OrderedDict), 4550550176>\n", 
                "   /   /   /  '<Spe><Class>CommandingGatherIsBool' : True\n", 
                "   /   /   /  '<Spe><Class>CommandingOrderStr' : AllSetsForEach\n", 
                "   /   /   /}\n", 
                "   /   /}\n", 
                "   /  '<New><Instance>IdInt' : 4550544016\n", 
                "   /  '<New><Instance>MyCountingInt' : 1\n", 
                "   /  '<New><Instance>NodeCollectionStr' : Globals\n", 
                "   /  '<New><Instance>NodeIndexInt' : -1\n", 
                "   /  '<New><Instance>NodeKeyStr' : TopCommander\n", 
                "   /  '<New><Instance>NodePointDeriveNoder' : None\n", 
                "   /  '<New><Instance>NodePointOrderedDict' : None\n", 
                "   /  '<Spe><Class>CommandingGatherIsBool' : True\n", 
                "   /  '<Spe><Class>CommandingOrderStr' : AllSetsForEach\n", 
                "   /}\n", 
                "\n", 
                "------\n", 
                "\n", 
                "MySecondCommander is < (CommanderClass), 4550569296>\n", 
                "   /{ \n", 
                "   /  '<New><Instance>CommandomeCollectionOrderedDict' : \n", 
                "   /   /{ \n", 
                "   /   /  '0' : < (CommanderClass), 4550568464>\n", 
                "   /   /   /{ \n", 
                "   /   /   /  '<New><Instance>IdInt' : 4550568464\n", 
                "   /   /   /  '<New><Instance>MyCountingInt' : 4\n", 
                "   /   /   /  '<New><Instance>NodeCollectionStr' : Commandome\n", 
                "   /   /   /  '<New><Instance>NodeIndexInt' : 0\n", 
                "   /   /   /  '<New><Instance>NodeKeyStr' : 0\n", 
                "   /   /   /  '<New><Instance>NodePointDeriveNoder' : {...}< (CommanderClass), 4550569296>\n", 
                "   /   /   /  '<New><Instance>NodePointOrderedDict' : {...}< (OrderedDict), 4550550472>\n", 
                "   /   /   /  '<Spe><Class>CommandingGatherIsBool' : True\n", 
                "   /   /   /  '<Spe><Class>CommandingOrderStr' : AllSetsForEach\n", 
                "   /   /   /}\n", 
                "   /   /  '1' : < (CommanderClass), 4551405648>\n", 
                "   /   /   /{ \n", 
                "   /   /   /  '<New><Instance>IdInt' : 4551405648\n", 
                "   /   /   /  '<New><Instance>MyCountingInt' : 5\n", 
                "   /   /   /  '<New><Instance>NodeCollectionStr' : Commandome\n", 
                "   /   /   /  '<New><Instance>NodeIndexInt' : 1\n", 
                "   /   /   /  '<New><Instance>NodeKeyStr' : 1\n", 
                "   /   /   /  '<New><Instance>NodePointDeriveNoder' : {...}< (CommanderClass), 4550569296>\n", 
                "   /   /   /  '<New><Instance>NodePointOrderedDict' : {...}< (OrderedDict), 4550550472>\n", 
                "   /   /   /  '<Spe><Class>CommandingGatherIsBool' : True\n", 
                "   /   /   /  '<Spe><Class>CommandingOrderStr' : AllSetsForEach\n", 
                "   /   /   /}\n", 
                "   /   /}\n", 
                "   /  '<New><Instance>IdInt' : 4550569296\n", 
                "   /  '<New><Instance>MyCountingInt' : 3\n", 
                "   /  '<New><Instance>NodeCollectionStr' : Globals\n", 
                "   /  '<New><Instance>NodeIndexInt' : -1\n", 
                "   /  '<New><Instance>NodeKeyStr' : TopCommander\n", 
                "   /  '<New><Instance>NodePointDeriveNoder' : None\n", 
                "   /  '<New><Instance>NodePointOrderedDict' : None\n", 
                "   /  '<Spe><Class>CommandingGatherIsBool' : True\n", 
                "   /  '<Spe><Instance>CommandingOrderStr' : EachSetForAll\n", 
                "   /}\n", 
                "\n", 
                "*****End of the Attest *****\n", 
                "\n", 
                "\n"
              ]
            }
          ], 
          "collapsed": false, 
          "metadata": {
            "slideshow": {
              "slide_type": "-"
            }
          }
        }, 
        {
          "source": "\n<!--\nFrozenIsBool False\n-->\n\n#Poker\n\n##Doc\n----\n\n\n> \n> Poker instances\n> \n> \n\n----\n\n<small>\nView the Poker notebook on [NbViewer](http://nbviewer.ipython.org/url/shareyoursystem.ouvaton.org/Poker.ipynb)\n</small>\n\n", 
          "cell_type": "markdown", 
          "prompt_number": 41, 
          "metadata": {
            "slideshow": {
              "slide_type": "slide"
            }
          }
        }, 
        {
          "source": "\n<!--\nFrozenIsBool False\n-->\n\nView the Poker sources on [Github](https://github.com/Ledoux/ShareYourSystem/tree/master/ShareYourSystem/Applyiers/Installer)\n\n", 
          "cell_type": "markdown", 
          "prompt_number": 42, 
          "metadata": {
            "slideshow": {
              "slide_type": "subslide"
            }
          }
        }, 
        {
          "cell_type": "code", 
          "prompt_number": 43, 
          "language": "python", 
          "input": [
            "\n", 
            "#ImportModules\n", 
            "import ShareYourSystem as SYS\n", 
            "from ShareYourSystem.Applyiers import Poker\n", 
            "\n", 
            "#push\n", 
            "MyPoker=Poker.PokerClass().push(\n", 
            "    [\n", 
            "        [\n", 
            "            'FirstChild',\n", 
            "            Poker.PokerClass()\n", 
            "        ],\n", 
            "        [\n", 
            "            'SecondChild',\n", 
            "            Poker.PokerClass()\n", 
            "        ],\n", 
            "        [\n", 
            "            'ThirdChild',\n", 
            "            Poker.PokerClass()\n", 
            "        ]\n", 
            "    ],\n", 
            "    **{'CollectingCollectionStr':\"Pokome\"}\n", 
            ")\n", 
            "\n", 
            "\n", 
            "MyPoker['<Pokome>ThirdChildPoker'].poke(\n", 
            "        'Relatome',\n", 
            "        [\n", 
            "            '/NodePointDeriveNoder/<Pokome>FirstChildPoker',\n", 
            "            '/NodePointDeriveNoder/<Pokome>SecondChildPoker'\n", 
            "        ]\n", 
            "    )\n", 
            "\n", 
            "#Definition the AttestedStr\n", 
            "SYS._attest(\n", 
            "    [\n", 
            "        'MyPoker is '+SYS._str(\n", 
            "        MyPoker,\n", 
            "        **{\n", 
            "            'RepresentingBaseKeyStrsListBool':False,\n", 
            "            'RepresentingAlineaIsBool':False\n", 
            "        }\n", 
            "        )\n", 
            "    ]\n", 
            ") \n", 
            "\n", 
            "#Print\n", 
            "\n", 
            "\n"
          ], 
          "outputs": [
            {
              "output_type": "stream", 
              "stream": "stdout", 
              "text": [
                "\n", 
                "\n", 
                "*****Start of the Attest *****\n", 
                "\n", 
                "MyPoker is < (PokerClass), 4550567952>\n", 
                "   /{ \n", 
                "   /  '<New><Instance>IdInt' : 4550567952\n", 
                "   /  '<New><Instance>NodeCollectionStr' : Globals\n", 
                "   /  '<New><Instance>NodeIndexInt' : -1\n", 
                "   /  '<New><Instance>NodeKeyStr' : TopPoker\n", 
                "   /  '<New><Instance>NodePointDeriveNoder' : None\n", 
                "   /  '<New><Instance>NodePointOrderedDict' : None\n", 
                "   /  '<New><Instance>PokomeCollectionOrderedDict' : \n", 
                "   /   /{ \n", 
                "   /   /  'FirstChildPoker' : < (PokerClass), 4550568784>\n", 
                "   /   /   /{ \n", 
                "   /   /   /  '<New><Instance>IdInt' : 4550568784\n", 
                "   /   /   /  '<New><Instance>NodeCollectionStr' : Pokome\n", 
                "   /   /   /  '<New><Instance>NodeIndexInt' : 0\n", 
                "   /   /   /  '<New><Instance>NodeKeyStr' : FirstChildPoker\n", 
                "   /   /   /  '<New><Instance>NodePointDeriveNoder' : {...}< (PokerClass), 4550567952>\n", 
                "   /   /   /  '<New><Instance>NodePointOrderedDict' : {...}< (OrderedDict), 4550550472>\n", 
                "   /   /   /  '<Spe><Class>PokingGetStrsList' : None\n", 
                "   /   /   /  '<Spe><Class>PokingNodeStr' : \n", 
                "   /   /   /}\n", 
                "   /   /  'SecondChildPoker' : < (PokerClass), 4550568464>\n", 
                "   /   /   /{ \n", 
                "   /   /   /  '<New><Instance>IdInt' : 4550568464\n", 
                "   /   /   /  '<New><Instance>NodeCollectionStr' : Pokome\n", 
                "   /   /   /  '<New><Instance>NodeIndexInt' : 1\n", 
                "   /   /   /  '<New><Instance>NodeKeyStr' : SecondChildPoker\n", 
                "   /   /   /  '<New><Instance>NodePointDeriveNoder' : {...}< (PokerClass), 4550567952>\n", 
                "   /   /   /  '<New><Instance>NodePointOrderedDict' : {...}< (OrderedDict), 4550550472>\n", 
                "   /   /   /  '<Spe><Class>PokingGetStrsList' : None\n", 
                "   /   /   /  '<Spe><Class>PokingNodeStr' : \n", 
                "   /   /   /}\n", 
                "   /   /  'ThirdChildPoker' : < (PokerClass), 4550568656>\n", 
                "   /   /   /{ \n", 
                "   /   /   /  '<New><Instance>IdInt' : 4550568656\n", 
                "   /   /   /  '<New><Instance>NodeCollectionStr' : Pokome\n", 
                "   /   /   /  '<New><Instance>NodeIndexInt' : 2\n", 
                "   /   /   /  '<New><Instance>NodeKeyStr' : ThirdChildPoker\n", 
                "   /   /   /  '<New><Instance>NodePointDeriveNoder' : {...}< (PokerClass), 4550567952>\n", 
                "   /   /   /  '<New><Instance>NodePointOrderedDict' : {...}< (OrderedDict), 4550550472>\n", 
                "   /   /   /  '<Spe><Instance>PokingGetStrsList' : ['/NodePointDeriveNoder/<Pokome>FirstChildPoker', '/NodePointDeriveNoder/<Pokome>SecondChildPoker']\n", 
                "   /   /   /  '<Spe><Instance>PokingNodeStr' : Relatome\n", 
                "   /   /   /}\n", 
                "   /   /}\n", 
                "   /  '<Spe><Class>PokingGetStrsList' : None\n", 
                "   /  '<Spe><Class>PokingNodeStr' : \n", 
                "   /}\n", 
                "\n", 
                "*****End of the Attest *****\n", 
                "\n", 
                "\n"
              ]
            }
          ], 
          "collapsed": false, 
          "metadata": {
            "slideshow": {
              "slide_type": "subslide"
            }
          }
        }
      ]
    }
  ], 
  "metadata": {
    "name": "", 
    "signature": ""
  }, 
  "nbformat_minor": 0
}