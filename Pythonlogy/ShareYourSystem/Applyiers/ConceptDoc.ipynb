{
  "nbformat": 3, 
  "worksheets": [
    {
      "cells": [
        {
          "source": "\n<!--\nFrozenIsBool False\n-->\n\n#Applyier\n\n##Doc\n----\n\n\n> \n> An Applyier apply a function thanks to a ApplyingMethodStr and an ApplyingArgDict.\n> This property is going to be useful to begin to establish mappping methods and \n> commanding calls in deep structures.\n> \n> \n\n----\n\n<small>\nView the Applyier notebook on [NbViewer](http://nbviewer.ipython.org/url/shareyoursystem.ouvaton.org/Applyier.ipynb)\n</small>\n\n", 
          "cell_type": "markdown", 
          "prompt_number": 0, 
          "metadata": {
            "slideshow": {
              "slide_type": "slide"
            }
          }
        }, 
        {
          "source": "\n<!--\nFrozenIsBool False\n-->\n\n##Code\n\n----\n\n<ClassDocStr>\n\n----\n\n```python\n# -*- coding: utf-8 -*-\n\"\"\"\n\n<DefineSource>\n@Date : Fri Nov 14 13:20:38 2014 \\n\n@Author : Erwan Ledoux \\n\\n\n</DefineSource>\n\n\nAn Applyier apply a function thanks to a ApplyingMethodStr and an ApplyingArgDict.\nThis property is going to be useful to begin to establish mappping methods and \ncommanding calls in deep structures.\n\n\"\"\"\n\n#<DefineAugmentation>\nimport ShareYourSystem as SYS\nBaseModuleStr=\"ShareYourSystem.Itemizers.Executer\"\nDecorationModuleStr=\"ShareYourSystem.Classors.Classer\"\nSYS.setSubModule(globals())\n#</DefineAugmentation>\n\n#<ImportSpecificModules>\nimport copy\n#</ImportSpecificModules>\n\n#<DefineClass>\n@DecorationClass()\nclass ApplyierClass(BaseClass):\n\t\t\n\t#Definition\n\tRepresentingKeyStrsList=[\n\t\t\t\t\t\t\t\t\t#'ApplyingMethodStr',\n\t\t\t\t\t\t\t\t\t#'ApplyingArgDict',\n\t\t\t\t\t\t\t\t\t#'ApplyingIsBool',\n\t\t\t\t\t\t\t\t\t#'AppliedMethod',\n\t\t\t\t\t\t\t\t\t#'AppliedOutputVariable'\n\t\t\t\t\t\t\t\t]\n\n\tdef default_init(self,\n\t\t\t\t_ApplyingMethodStr=\"\",\n\t\t\t\t_ApplyingArgDict=None,\n\t\t\t\t_ApplyingIsBool=False,\n\t\t\t\t_AppliedMethod=None,\n\t\t\t\t_AppliedOutputVariable=None,\n\t\t\t\t**_KwargVariablesDict\n\t\t\t):\n\n\t\t#Call the parent __init__ method\n\t\tBaseClass.__init__(self,**_KwargVariablesDict)\n\n\tdef do_apply(self):\n\t\t\"\"\" \"\"\"\n\n\t\t#debug\n\t\t'''\n\t\tself.debug(\n\t\t\t\t\t('self.',self,[\n\t\t\t\t\t\t\t\t\t'ApplyingMethodStr',\n\t\t\t\t\t\t\t\t\t'ApplyingArgDict'\n\t\t\t\t\t\t\t\t])\n\t\t)\n\t\t'''\n\t\t\n\t\t#set\n\t\tself.AppliedMethod=getattr(self,self.ApplyingMethodStr)\n\n\t\t#debug\n\t\t''''\n\t\tself.debug(\n\t\t\t\t\t('self.',self,[\n\t\t\t\t\t\t\t\t\t'AppliedMethod'\n\t\t\t\t\t\t\t\t])\n\t\t\t)\n\t\t'''\n\n\t\t#Check\n\t\tif self.AppliedMethod!=None:\n\n\t\t\t#debug\n\t\t\t'''\n\t\t\tself.debug(\n\t\t\t\t\t\t[\n\t\t\t\t\t\t\t'AppliedMethod is good, We are going to apply',\n\t\t\t\t\t\t\t('self.',self,['AppliedMethod','ApplyingArgDict'])\n\t\t\t\t\t\t]\n\t\t\t\t\t)\n\t\t\t'''\n\t\t\t\n\t\t\tif 'KwargVariablesDict' in self.ApplyingArgDict:\n\n\t\t\t\t#debug\n\t\t\t\t'''\n\t\t\t\tself.debug('We apply with a KwargVariablesDict')\n\t\t\t\t'''\n\n\t\t\t\t#Call the AppliedMethod\n\t\t\t\tself.AppliedOutputVariable=self.AppliedMethod(\n\t\t\t\t\t\t\t\t*self.ApplyingArgDict['LiargVariablesList'],\n\t\t\t\t\t\t\t\t**self.ApplyingArgDict['KwargVariablesDict']\n\t\t\t\t\t\t\t\t) \n\t\t\telse:\n\n\t\t\t\t#debug\n\t\t\t\t'''\n\t\t\t\tself.debug('We apply without a KwargVariablesDict')\n\t\t\t\t'''\n\n\n\n\t\t\t\t#Call\n\t\t\t\tself.AppliedOutputVariable=self.AppliedMethod(\n\t\t\t\t\t*self.ApplyingArgDict['LiargVariablesList']\n\t\t\t\t\t)\n\n\t\t#Return self\n\t\t#return self\n\n\tdef mimic_set(self):\n\n\t\t#debug\n\t\t'''\n\t\tself.debug(('self.',self,['SettingKeyVariable','SettingValueVariable']))\n\t\t'''\n\t\t\n\t\t#Definition\n\t\tOutputDict={'HookingIsBool':True}\n\n\t\t#Check\n\t\tif self.SettingKeyVariable!=\"\":\n\n\t\t\t#Call for a hook\n\t\t\tif (self.SettingKeyVariable[0].isalpha() or self.SettingKeyVariable[:2]==\"__\"\n\t\t\t\t) and self.SettingKeyVariable[0].lower()==self.SettingKeyVariable[0]:\n\n\t\t\t\t#debug\n\t\t\t\t'''\n\t\t\t\tself.debug(\n\t\t\t\t\t\t\t[\n\t\t\t\t\t\t\t\t('This is a set that calls a method so this is an apply...'),\n\t\t\t\t\t\t\t\t('self.',self,[\n\t\t\t\t\t\t\t\t\t\t\t\t'SettingKeyVariable',\n\t\t\t\t\t\t\t\t\t\t\t\t'SettingValueVariable'\n\t\t\t\t\t\t\t\t\t\t\t\t]\n\t\t\t\t\t\t\t\t)\n\t\t\t\t\t\t\t]\n\t\t\t\t\t\t)\n\t\t\t\t'''\n\t\t\t\t\n\t\t\t\t#Apply\n\t\t\t\tself.ApplyingIsBool=False\n\t\t\t\tself.apply(\n\t\t\t\t\t\t\t\tself.SettingKeyVariable,\n\t\t\t\t\t\t\t\tself.SettingValueVariable\n\t\t\t\t\t\t\t)\n\n\t\t\t\t#Return\n\t\t\t\tOutputDict['HookingIsBool']=False\n\t\t\t\t#<Hook>return OutputDict\n\n\t\tif OutputDict['HookingIsBool']:\n\t\t\tBaseClass.set(self)\n\n#</DefineClass>\n\n\n```\n\n<small>\nView the Applyier sources on <a href=\"https://github.com/Ledoux/ShareYourSystem/tree/master/Pythonlogy/ShareYourSystem/Applyiers/Applyier\" target=\"_blank\">Github</a>\n</small>\n\n", 
          "cell_type": "markdown", 
          "prompt_number": 1, 
          "metadata": {
            "slideshow": {
              "slide_type": "subslide"
            }
          }
        }, 
        {
          "source": "\n<!---\nFrozenIsBool True\n-->\n\n##Example\n\nLet's create an empty class, which will automatically receive\nspecial attributes from the decorating ClassorClass,\nspecially the NameStr, that should be the ClassStr\nwithout the TypeStr in the end.", 
          "cell_type": "markdown", 
          "prompt_number": 2, 
          "metadata": {
            "slideshow": {
              "slide_type": "subslide"
            }
          }
        }, 
        {
          "cell_type": "code", 
          "prompt_number": 3, 
          "language": "python", 
          "input": [
            "\n", 
            "#ImportModules\n", 
            "import ShareYourSystem as SYS\n", 
            "from ShareYourSystem.Applyiers import Applyier\n", 
            "\n", 
            "#Definition an applyier instance\n", 
            "MyApplyier=Applyier.ApplyierClass()\n", 
            "\n", 
            "#Apply just a set... (even if we can do shorter !)\n", 
            "MyApplyier.apply(\n", 
            "    '__setitem__',\n", 
            "    {'LiargVariablesList':['MyStr','Hello']}\n", 
            ")\n", 
            "\n", 
            "#Apply an apply is possible\n", 
            "MyApplyier.apply(\n", 
            "    '__setitem__',\n", 
            "    {'LiargVariablesList':[\n", 
            "            '__setitem__',\n", 
            "            {\n", 
            "                'LiargVariablesList':\n", 
            "                ['MyNotLostStr','ben he']\n", 
            "            }\n", 
            "        ]\n", 
            "    }\n", 
            ")\n", 
            "    \n", 
            "#Definition the AttestedStr\n", 
            "SYS._attest(\n", 
            "    [\n", 
            "    'MyApplyier is '+SYS._str(\n", 
            "            MyApplyier,\n", 
            "            **{\n", 
            "            'RepresentingBaseKeyStrsListBool':False,\n", 
            "            'RepresentingAlineaIsBool':False\n", 
            "            }\n", 
            "        )\n", 
            "    ]\n", 
            ") \n", 
            "\n", 
            "#Print\n", 
            "\n", 
            "\n"
          ], 
          "outputs": [
            {
              "output_type": "stream", 
              "stream": "stdout", 
              "text": [
                "\n", 
                "\n", 
                "*****Start of the Attest *****\n", 
                "\n", 
                "MyApplyier is < (ApplyierClass), 4556354128>\n", 
                "   /{ \n", 
                "   /  '<New><Instance>IdInt' : 4556354128\n", 
                "   /  '<New><Instance>MyNotLostStr' : ben he\n", 
                "   /  '<New><Instance>MyStr' : Hello\n", 
                "   /}\n", 
                "\n", 
                "*****End of the Attest *****\n", 
                "\n", 
                "\n"
              ]
            }
          ], 
          "collapsed": false, 
          "metadata": {
            "slideshow": {
              "slide_type": "-"
            }
          }
        }, 
        {
          "source": "\n<!--\nFrozenIsBool False\n-->\n\n#Mapper\n\n##Doc\n----\n\n\n> A Mapper instance maps an apply and so \"grinds\" a MappingArgDictsList \n> to a method.\n> \n> \n\n----\n\n<small>\nView the Mapper notebook on [NbViewer](http://nbviewer.ipython.org/url/shareyoursystem.ouvaton.org/Mapper.ipynb)\n</small>\n\n", 
          "cell_type": "markdown", 
          "prompt_number": 4, 
          "metadata": {
            "slideshow": {
              "slide_type": "slide"
            }
          }
        }, 
        {
          "source": "\n<!--\nFrozenIsBool False\n-->\n\n##Code\n\n----\n\n<ClassDocStr>\n\n----\n\n```python\n# -*- coding: utf-8 -*-\n\"\"\"\n\n\n<DefineSource>\n@Date : Fri Nov 14 13:20:38 2014 \\n\n@Author : Erwan Ledoux \\n\\n\n</DefineSource>\n\nA Mapper instance maps an apply and so \"grinds\" a MappingArgDictsList \nto a method.\n\n\"\"\"\n\n#<DefineAugmentation>\nimport ShareYourSystem as SYS\nBaseModuleStr=\"ShareYourSystem.Applyiers.Applyier\"\nDecorationModuleStr=\"ShareYourSystem.Classors.Classer\"\nSYS.setSubModule(globals())\n#</DefineAugmentation>\n\n#<ImportSpecificModules>\nimport copy\nfrom ShareYourSystem.Functers import Argumenter\n#</ImportSpecificModules>\n\n#<DefineClass>\n@DecorationClass()\nclass MapperClass(BaseClass):\n\t\t\n\t#Definition\n\tRepresentingKeyStrsList=[\n\t\t\t\t\t\t\t\t\t'MappingApplyMethodStr',\n\t\t\t\t\t\t\t\t\t'MappingArgDictsList',\n\t\t\t\t\t\t\t\t\t'MappedVariablesList'\n\t\t\t\t\t\t\t\t]\n\n\tdef default_init(self,\n\t\t\t\t_MappingApplyMethodStr=\"\", \t\t\n\t\t\t\t_MappingArgDictsList=None, \t\t\n\t\t\t\t_MappedVariablesList=None, \t\t\n\t\t\t\t**_KwargVariablesDict\n\t\t\t\t):\n\n\t\t#Call the parent __init__ method\n\t\tBaseClass.__init__(self,**_KwargVariablesDict)\n\n\t#<DefineDoMethods>\n\tdef do_map(self):\n\t\t\"\"\" \"\"\"\n\n\t\t#debug\n\t\t'''\n\t\tself.debug(\n\t\t\t\t\t('self.',self,[\n\t\t\t\t\t\t\t\t\t'MappingMethodStr',\n\t\t\t\t\t\t\t\t\t'MappingArgDictsList'\n\t\t\t\t\t\t\t\t])\n\t\t\t)\n\t\t'''\n\n\t\t#Link to the apply features\n\t\tif hasattr(self,self.MappingApplyMethodStr):\n\n\t\t\t#set the AppliedMethod\n\t\t\tself.AppliedMethod=getattr(self,self.MappingApplyMethodStr)\n\n\t\t\t#set that it is ok\n\t\t\tself.ApplyingIsBool=True\n\n\t\t\t#debug\n\t\t\t'''\n\t\t\tself.debug(\n\t\t\t\t\t\t('self.',self,[\n\t\t\t\t\t\t\t\t\t\t'AppliedMethod'\n\t\t\t\t\t\t\t\t\t])\n\t\t\t\t)\n\t\t\t'''\n\n\t\t\t#Map the apply\n\t\t\tself.MappedVariablesList=map(\n\t\t\t\t\tlambda __MappingArgDict:\n\t\t\t\t\tself.apply(\n\t\t\t\t\t\t\t\tself.MappingApplyMethodStr,\n\t\t\t\t\t\t\t\t__MappingArgDict\n\t\t\t\t\t\t\t).AppliedOutputVariable,\n\t\t\t\t\tself.MappingArgDictsList\n\t\t\t\t)\n\n\t\t#Return self\n\t\t#return self\n\n#</DefineClass>\n\n```\n\n<small>\nView the Mapper sources on <a href=\"https://github.com/Ledoux/ShareYourSystem/tree/master/Pythonlogy/ShareYourSystem/Applyiers/Mapper\" target=\"_blank\">Github</a>\n</small>\n\n", 
          "cell_type": "markdown", 
          "prompt_number": 5, 
          "metadata": {
            "slideshow": {
              "slide_type": "subslide"
            }
          }
        }, 
        {
          "source": "\n<!---\nFrozenIsBool True\n-->\n\n##Example\n\nLet's create an empty class, which will automatically receive\nspecial attributes from the decorating ClassorClass,\nspecially the NameStr, that should be the ClassStr\nwithout the TypeStr in the end.", 
          "cell_type": "markdown", 
          "prompt_number": 6, 
          "metadata": {
            "slideshow": {
              "slide_type": "subslide"
            }
          }
        }, 
        {
          "cell_type": "code", 
          "prompt_number": 7, 
          "language": "python", 
          "input": [
            "\n", 
            "#ImportModules\n", 
            "import ShareYourSystem as SYS\n", 
            "from ShareYourSystem.Applyiers import Mapper\n", 
            "\n", 
            "#Definition a Getter\n", 
            "MyMapper=Mapper.MapperClass().map(\n", 
            "    '__setitem__',\n", 
            "    [\n", 
            "        {'LiargVariablesList':['MyStr',\"Hello\"]},\n", 
            "        {'LiargVariablesList':['MyThirdStr',\"GutenTag\"]},\n", 
            "        {'LiargVariablesList':['map',\n", 
            "                                        {\n", 
            "                                            'LiargVariablesList':\n", 
            "                                            [\n", 
            "                                                '__setitem__',\n", 
            "                                                [\n", 
            "                                                    {\n", 
            "                                                        'LiargVariablesList':\n", 
            "                                                        ['MyInt',0]\n", 
            "                                                    },\n", 
            "                                                    {\n", 
            "                                                        'LiargVariablesList':\n", 
            "                                                        ['MyFloat',0.1]\n", 
            "                                                    }\n", 
            "                                                ]\n", 
            "                                            ]\n", 
            "                                        }\n", 
            "                                \n", 
            "                            ]},\n", 
            "        {'LiargVariablesList':['MyNotLostStr',\"ben he\"]},\n", 
            "    ]\n", 
            ")\n", 
            "    \n", 
            "#Definition the AttestedStr\n", 
            "SYS._attest(\n", 
            "    [\n", 
            "        'MyMapper is '+SYS._str(\n", 
            "        MyMapper,\n", 
            "        **{\n", 
            "            'RepresentingBaseKeyStrsListBool':False\n", 
            "        }\n", 
            "        )\n", 
            "    ]\n", 
            ")  \n", 
            "\n", 
            "#Print\n", 
            "\n", 
            "\n"
          ], 
          "outputs": [
            {
              "output_type": "stream", 
              "stream": "stdout", 
              "text": [
                "\n", 
                "\n", 
                "*****Start of the Attest *****\n", 
                "\n", 
                "MyMapper is < (MapperClass), 4556355152>\n", 
                "   /{ \n", 
                "   /  '<New><Instance>IdInt' : 4556355152\n", 
                "   /  '<New><Instance>MyFloat' : 0.1\n", 
                "   /  '<New><Instance>MyInt' : 0\n", 
                "   /  '<New><Instance>MyNotLostStr' : ben he\n", 
                "   /  '<New><Instance>MyStr' : Hello\n", 
                "   /  '<New><Instance>MyThirdStr' : GutenTag\n", 
                "   /  '<Spe><Instance>MappedVariablesList' : \n", 
                "   /   /[\n", 
                "   /   /  0 : {...}< (MapperClass), 4556355152>\n", 
                "   /   /  1 : {...}< (MapperClass), 4556355152>\n", 
                "   /   /  2 : {...}< (MapperClass), 4556355152>\n", 
                "   /   /  3 : {...}< (MapperClass), 4556355152>\n", 
                "   /   /]\n", 
                "   /  '<Spe><Instance>MappingApplyMethodStr' : __setitem__\n", 
                "   /  '<Spe><Instance>MappingArgDictsList' : \n", 
                "   /   /[\n", 
                "   /   /  0 : \n", 
                "   /   /   /{ \n", 
                "   /   /   /  'LiargVariablesList' : ['MyInt', 0]\n", 
                "   /   /   /}\n", 
                "   /   /  1 : \n", 
                "   /   /   /{ \n", 
                "   /   /   /  'LiargVariablesList' : ['MyFloat', 0.1]\n", 
                "   /   /   /}\n", 
                "   /   /]\n", 
                "   /}\n", 
                "\n", 
                "*****End of the Attest *****\n", 
                "\n", 
                "\n"
              ]
            }
          ], 
          "collapsed": false, 
          "metadata": {
            "slideshow": {
              "slide_type": "-"
            }
          }
        }, 
        {
          "source": "\n<!--\nFrozenIsBool False\n-->\n\n#Picker\n\n##Doc\n----\n\n\n> \n> A Picker maps a __getitem__\n> \n> \n\n----\n\n<small>\nView the Picker notebook on [NbViewer](http://nbviewer.ipython.org/url/shareyoursystem.ouvaton.org/Picker.ipynb)\n</small>\n\n", 
          "cell_type": "markdown", 
          "prompt_number": 8, 
          "metadata": {
            "slideshow": {
              "slide_type": "slide"
            }
          }
        }, 
        {
          "source": "\n<!--\nFrozenIsBool False\n-->\n\n##Code\n\n----\n\n<ClassDocStr>\n\n----\n\n```python\n# -*- coding: utf-8 -*-\n\"\"\"\n\n\n<DefineSource>\n@Date : Fri Nov 14 13:20:38 2014 \\n\n@Author : Erwan Ledoux \\n\\n\n</DefineSource>\n\n\nA Picker maps a __getitem__\n\n\"\"\"\n\n#<DefineAugmentation>\nimport ShareYourSystem as SYS\nBaseModuleStr=\"ShareYourSystem.Applyiers.Mapper\"\nDecorationModuleStr=\"ShareYourSystem.Classors.Classer\"\nSYS.setSubModule(globals())\n#</DefineAugmentation>\n\n#<ImportSpecificModules>\n#</ImportSpecificModules>\n\n#<DefineClass>\n@DecorationClass(**{'DoingGetBool':True})\nclass PickerClass(BaseClass):\n\t\n\tdef default_init(self,\n\t\t\t\t_PickingGetKeyVariablesList=None,\n\t\t\t\t_PickedGetValueVariablesList=None,\n\t\t\t\t**_KwargVariablesDict\n\t\t\t\t):\n\n\t\t#Call the parent init method\n\t\tBaseClass.__init__(self,**_KwargVariablesDict)\n\n\tdef do_pick(self):\n\t\t\"\"\"Map the __getitem__ to the <_GettingVariablesList>\"\"\"\n\n\t\t#debug\n\t\t'''\n\t\tself.debug(('self.',self,['PickingGetKeyVariablesList']))\n\t\t'''\n\n\t\t#Apply __getitem__\n\t\tself.map('__getitem__',map(\n\t\t\t\t\t\t\t\t\tlambda __PickingKeyVariable:\n\t\t\t\t\t\t\t\t\t{'LiargVariablesList':[__PickingKeyVariable]},\n\t\t\t\t\t\t\t\t\tself.PickingGetKeyVariablesList\n\t\t\t\t\t\t\t\t)\n\t\t\t\t\t)\n\n\t\t#link with AppliedMappedVariablesList\n\t\tself.PickedGetValueVariablesList=self.MappedVariablesList\n\n\t\t#debug\n\t\t'''\n\t\tself.debug(('self.',self,['PickedGetValueVariablesList']))\n\t\t'''\n\t\t\n\t\t#Return AppliedVariablesList\n\t\treturn self.PickedGetValueVariablesList\n#</DefineClass>\n\n```\n\n<small>\nView the Picker sources on <a href=\"https://github.com/Ledoux/ShareYourSystem/tree/master/Pythonlogy/ShareYourSystem/Applyiers/Picker\" target=\"_blank\">Github</a>\n</small>\n\n", 
          "cell_type": "markdown", 
          "prompt_number": 9, 
          "metadata": {
            "slideshow": {
              "slide_type": "subslide"
            }
          }
        }, 
        {
          "source": "\n<!---\nFrozenIsBool True\n-->\n\n##Example\n\nLet's create an empty class, which will automatically receive\nspecial attributes from the decorating ClassorClass,\nspecially the NameStr, that should be the ClassStr\nwithout the TypeStr in the end.", 
          "cell_type": "markdown", 
          "prompt_number": 10, 
          "metadata": {
            "slideshow": {
              "slide_type": "subslide"
            }
          }
        }, 
        {
          "cell_type": "code", 
          "prompt_number": 11, 
          "language": "python", 
          "input": [
            "\n", 
            "#ImportModules\n", 
            "import ShareYourSystem as SYS\n", 
            "from ShareYourSystem.Applyiers import Picker\n", 
            "\n", 
            "#Definition an Picker\n", 
            "MyPicker=Picker.PickerClass()\n", 
            "\n", 
            "#set some items\n", 
            "map(\n", 
            "        lambda __ItemTuple:\n", 
            "        MyPicker.__setitem__(__ItemTuple[0],__ItemTuple[1]),\n", 
            "        [\n", 
            "            ('MyInt',0),\n", 
            "            ('MyPicker',Picker.PickerClass().__setitem__('MyStr',\"hello\")),\n", 
            "        ]\n", 
            "    )\n", 
            "\n", 
            "#Map some gets\n", 
            "PickedVariablesList=MyPicker.pick(\n", 
            "    [\n", 
            "        #Get directly in the __dict__\n", 
            "        'MyInt',\n", 
            "        'MyPicker',\n", 
            "        #Get with a DeepShortStr\n", 
            "        '/MyPicker/MyStr'\n", 
            "    ]\n", 
            ")\n", 
            "\n", 
            "#Definition the AttestedStr\n", 
            "SYS._attest(\n", 
            "    [\n", 
            "        'PickedVariablesList is '+SYS._str(\n", 
            "            PickedVariablesList\n", 
            "            ,**{\n", 
            "                'RepresentingBaseKeyStrsListBool':False,\n", 
            "                'RepresentingAlineaIsBool':False\n", 
            "            }\n", 
            "        )\n", 
            "    ]\n", 
            ") \n", 
            "\n", 
            "#Print\n", 
            "\n", 
            "\n"
          ], 
          "outputs": [
            {
              "output_type": "stream", 
              "stream": "stdout", 
              "text": [
                "\n", 
                "\n", 
                "*****Start of the Attest *****\n", 
                "\n", 
                "PickedVariablesList is \n", 
                "   /[\n", 
                "   /  0 : 0\n", 
                "   /  1 : < (PickerClass), 4556355472>\n", 
                "   /   /{ \n", 
                "   /   /  '<New><Instance>IdInt' : 4556355472\n", 
                "   /   /  '<New><Instance>MyStr' : hello\n", 
                "   /   /}\n", 
                "   /  2 : hello\n", 
                "   /]\n", 
                "\n", 
                "*****End of the Attest *****\n", 
                "\n", 
                "\n"
              ]
            }
          ], 
          "collapsed": false, 
          "metadata": {
            "slideshow": {
              "slide_type": "-"
            }
          }
        }, 
        {
          "source": "\n<!--\nFrozenIsBool False\n-->\n\n#Gatherer\n\n##Doc\n----\n\n\n> \n> A Gatherer is able to pick several times and flat all the results in a one dimension of ItemTuplesList\n> \n> \n\n----\n\n<small>\nView the Gatherer notebook on [NbViewer](http://nbviewer.ipython.org/url/shareyoursystem.ouvaton.org/Gatherer.ipynb)\n</small>\n\n", 
          "cell_type": "markdown", 
          "prompt_number": 12, 
          "metadata": {
            "slideshow": {
              "slide_type": "slide"
            }
          }
        }, 
        {
          "source": "\n<!--\nFrozenIsBool False\n-->\n\n##Code\n\n----\n\n<ClassDocStr>\n\n----\n\n```python\n# -*- coding: utf-8 -*-\n\"\"\"\n\n\n<DefineSource>\n@Date : Fri Nov 14 13:20:38 2014 \\n\n@Author : Erwan Ledoux \\n\\n\n</DefineSource>\n\n\nA Gatherer is able to pick several times and flat all the results in a one dimension of ItemTuplesList\n\n\"\"\"\n\n#<DefineAugmentation>\nimport ShareYourSystem as SYS\nBaseModuleStr=\"ShareYourSystem.Applyiers.Picker\"\nDecorationModuleStr=\"ShareYourSystem.Classors.Classer\"\nSYS.setSubModule(globals())\n#</DefineAugmentation>\n\n#<ImportSpecificModules>\nimport operator\n#</ImportSpecificModules>\n\n#<DefineClass>\n@DecorationClass(**{'DoingGetBool':True})\nclass GathererClass(BaseClass):\n\t\n\tdef default_init(self,\n\t\t\t\t_GatheringVariablesList=None,\n\t\t\t\t_GatheredVariablesList=None,\n\t\t\t\t**_KwargVariablesDict\n\t\t\t):\n\n\t\t#Call the parent __init__ method\n\t\tBaseClass.__init__(self,**_KwargVariablesDict)\n\n\tdef do_gather(self):\n\t\t\"\"\"Reduce a map of pick for GatheringVariable being a List or __getitem__ for GatheringVariable being a GettingVariable\"\"\"\n\n\t\t#debug\n\t\t'''\n\t\tself.debug(\"self.GatheringVariablesList is \"+str(self.GatheringVariablesList))\n\t\t'''\n\t\t\n\t\t#Debug\n\t\t'''\n\t\tfor __GatheringVariable in self.GatheringVariablesList:\n\n\t\t\tif type(__GatheringVariable)==list:\n\n\t\t\t\t#Debug \n\t\t\t\tprint('This is a list')\n\t\t\t\tprint('')\n\n\t\t\t\tVariable=zip(\n\t\t\t\t\t\t\t__GatheringVariable,\n\t\t\t\t\t\t\tself.pick(__GatheringVariable)\n\t\t\t\t\t\t)\n\t\t\t\n\n\t\t\telse:\n\n\t\t\t\t#Debug \n\t\t\t\tprint('This is not a list')\n\t\t\t\tprint('')\n\n\t\t\t\tVariable=[\n\t\t\t\t\t(\n\t\t\t\t\t\t__GatheringVariable,\n\t\t\t\t\t\tself[__GatheringVariable]\n\t\t\t\t\t)\n\t\t\t\t]\n\n\t\t\t#Debug\n\t\t\tprint('l.63 Gatherer')\n\t\t\tprint('Variable is ',Variable)\n\t\t\tprint('')\n\t\t'''\n\n\n\t\t#Definition the PickedOrGettedVariablesList\n\t\tPickedOrGettedVariablesList=map(\n\t\t\t\t\t\tlambda __GatheringVariable:\n\t\t\t\t\t\tzip(\n\t\t\t\t\t\t\t__GatheringVariable,\n\t\t\t\t\t\t\tself.pick(__GatheringVariable)\n\t\t\t\t\t\t)\n\t\t\t\t\t\tif type(__GatheringVariable)==list\n\t\t\t\t\t\telse [\n\t\t\t\t\t\t\t\t(\n\t\t\t\t\t\t\t\t\t__GatheringVariable,\n\t\t\t\t\t\t\t\t\tself[__GatheringVariable]\n\t\t\t\t\t\t\t\t)\n\t\t\t\t\t\t\t],\n\t\t\t\t\t\tself.GatheringVariablesList\n\t\t)\n\n\t\t#debug\n\t\t'''\n\t\tself.debug(('vars ',vars(),['PickedOrGettedVariablesList']))\n\t\t'''\n\n\t\t#Reduce\n\t\tif len(PickedOrGettedVariablesList)>0:\n\t\t\tself.GatheredVariablesList=reduce(\n\t\t\t\t\t\toperator.__add__,\n\t\t\t\t\t\tPickedOrGettedVariablesList\n\t\t\t\t\t)\n\t\telse:\n\t\t\tself.GatheredVariablesList=[]\n\n\t\t#debug\n\t\t'''\n\t\tself.debug('End of the method')\n\t\t'''\n\n\t\t#Return the reduce\n\t\treturn self.GatheredVariablesList\n#</DefineClass>\n\n```\n\n<small>\nView the Gatherer sources on <a href=\"https://github.com/Ledoux/ShareYourSystem/tree/master/Pythonlogy/ShareYourSystem/Applyiers/Gatherer\" target=\"_blank\">Github</a>\n</small>\n\n", 
          "cell_type": "markdown", 
          "prompt_number": 13, 
          "metadata": {
            "slideshow": {
              "slide_type": "subslide"
            }
          }
        }, 
        {
          "source": "\n<!---\nFrozenIsBool True\n-->\n\n##Example\n\nLet's create an empty class, which will automatically receive\nspecial attributes from the decorating ClassorClass,\nspecially the NameStr, that should be the ClassStr\nwithout the TypeStr in the end.", 
          "cell_type": "markdown", 
          "prompt_number": 14, 
          "metadata": {
            "slideshow": {
              "slide_type": "subslide"
            }
          }
        }, 
        {
          "cell_type": "code", 
          "prompt_number": 15, 
          "language": "python", 
          "input": [
            "#ImportModules\n", 
            "import ShareYourSystem as SYS\n", 
            "from ShareYourSystem.Applyiers import Gatherer\n", 
            "\n", 
            "#Definition a Gatherer\n", 
            "MyGatherer=Gatherer.GathererClass().map('__setitem__',map(\n", 
            "        lambda __ItemTuple:\n", 
            "        {'LiargVariablesList':__ItemTuple},\n", 
            "        [\n", 
            "            ('MyInt',0),\n", 
            "            ('FirstChildGatherer',Gatherer.GathererClass().__setitem__(\n", 
            "                    'MyStr',\n", 
            "                    \"bonjour\"\n", 
            "                    )\n", 
            "            ),\n", 
            "            ('SecondChildGatherer',Gatherer.GathererClass().__setitem__(\n", 
            "                    'MyStr',\n", 
            "                    \"hello\"\n", 
            "                    )\n", 
            "            )\n", 
            "        ]\n", 
            "    )\n", 
            ")\n", 
            "\n", 
            "#Map some gets\n", 
            "GatheredVariablesList=MyGatherer.gather(\n", 
            "                            [\n", 
            "                                ['MyInt'],\n", 
            "                                ['/FirstChildGatherer/MyStr','/SecondChildGatherer/MyStr']\n", 
            "                            ]\n", 
            "                        )\n", 
            "    \n", 
            "#Definition the AttestedStr\n", 
            "SYS._attest(\n", 
            "    [\n", 
            "        'GatheredVariablesList is '+SYS._str(\n", 
            "            GatheredVariablesList\n", 
            "            ,**{\n", 
            "                    'RepresentingBaseKeyStrsListBool':False,\n", 
            "                    'RepresentingAlineaIsBool':False\n", 
            "            }\n", 
            "        )\n", 
            "    ]\n", 
            ") \n", 
            "\n", 
            "#Print\n", 
            "\n", 
            "\n"
          ], 
          "outputs": [
            {
              "output_type": "stream", 
              "stream": "stdout", 
              "text": [
                "\n", 
                "\n", 
                "*****Start of the Attest *****\n", 
                "\n", 
                "GatheredVariablesList is \n", 
                "   /[\n", 
                "   /  0 : ('MyInt', 0)\n", 
                "   /  1 : ('/FirstChildGatherer/MyStr', 'bonjour')\n", 
                "   /  2 : ('/SecondChildGatherer/MyStr', 'hello')\n", 
                "   /]\n", 
                "\n", 
                "*****End of the Attest *****\n", 
                "\n", 
                "\n"
              ]
            }
          ], 
          "collapsed": false, 
          "metadata": {
            "slideshow": {
              "slide_type": "-"
            }
          }
        }, 
        {
          "source": "\n<!--\nFrozenIsBool False\n-->\n\n#Updater\n\n##Doc\n----\n\n\n> \n> An Updater maps a __setitem__\n> \n> \n\n----\n\n<small>\nView the Updater notebook on [NbViewer](http://nbviewer.ipython.org/url/shareyoursystem.ouvaton.org/Updater.ipynb)\n</small>\n\n", 
          "cell_type": "markdown", 
          "prompt_number": 16, 
          "metadata": {
            "slideshow": {
              "slide_type": "slide"
            }
          }
        }, 
        {
          "source": "\n<!--\nFrozenIsBool False\n-->\n\n##Code\n\n----\n\n<ClassDocStr>\n\n----\n\n```python\n# -*- coding: utf-8 -*-\n\"\"\"\n\n<DefineSource>\n@Date : Fri Nov 14 13:20:38 2014 \\n\n@Author : Erwan Ledoux \\n\\n\n</DefineSource>\n\n\nAn Updater maps a __setitem__\n\n\"\"\"\n\n#<DefineAugmentation>\nimport ShareYourSystem as SYS\nBaseModuleStr=\"ShareYourSystem.Applyiers.Gatherer\"\nDecorationModuleStr=\"ShareYourSystem.Classors.Classer\"\nSYS.setSubModule(globals())\n#</DefineAugmentation>\n\n#<ImportSpecificModules>\n#</ImportSpecificModules>\n\n#<DefineClass>\n@DecorationClass()\nclass UpdaterClass(BaseClass):\n\t\n\t#Definition\n\tRepresentingKeyStrsList=[\n\t\t\t\t\t\t\t\t'UpdatingItemVariable'\n\t\t\t\t\t\t\t]\n\n\tdef default_init(self,\n\t\t\t\t_UpdatingItemVariable=None,\n\t\t\t\t**_KwargVariablesDict):\n\n\t\t#Call the parent __init__ method\n\t\tBaseClass.__init__(self,**_KwargVariablesDict)\n\t\t\n\tdef do_update(self):\n\t\t\"\"\" \"\"\"\n\n\t\t#debug\n\t\t'''\n\t\tself.debug(\"self.UpdatingItemVariable is \"+Representer.represent(\n\t\t\tself.UpdatingItemVariable,**{'RepresentingAlineaIsBool':False}))\n\t\t'''\n\t\t\n\t\t#Apply\n\t\tself.map('__setitem__',map(\n\t\t\t\t\t\t\t\t\tlambda __UpdatingItemTuple:\n\t\t\t\t\t\t\t\t\t{'LiargVariablesList':__UpdatingItemTuple},\n\t\t\t\t\t\t\t\t\tself.UpdatingItemVariable.items()\n\t\t\t\t\t\t\t\t\tif hasattr(self.UpdatingItemVariable,'items')\n\t\t\t\t\t\t\t\t\telse (self.UpdatingItemVariable \n\t\t\t\t\t\t\t\t\t\tif self.UpdatingItemVariable !=None\n\t\t\t\t\t\t\t\t\t\telse []\n\t\t\t\t\t\t\t\t\t)\n\t\t\t\t\t\t\t\t)\n\t\t)\n\n\t\t#Return\n\t\t#return self\n#</DefineClass>\n\n```\n\n<small>\nView the Updater sources on <a href=\"https://github.com/Ledoux/ShareYourSystem/tree/master/Pythonlogy/ShareYourSystem/Applyiers/Updater\" target=\"_blank\">Github</a>\n</small>\n\n", 
          "cell_type": "markdown", 
          "prompt_number": 17, 
          "metadata": {
            "slideshow": {
              "slide_type": "subslide"
            }
          }
        }, 
        {
          "source": "\n<!---\nFrozenIsBool True\n-->\n\n##Example\n\nUpdate is possible with a TuplesList or a Dict (and OrderedDict)", 
          "cell_type": "markdown", 
          "prompt_number": 18, 
          "metadata": {
            "slideshow": {
              "slide_type": "subslide"
            }
          }
        }, 
        {
          "cell_type": "code", 
          "prompt_number": 19, 
          "language": "python", 
          "input": [
            "#ImportModules\n", 
            "import ShareYourSystem as SYS\n", 
            "from ShareYourSystem.Applyiers import Updater\n", 
            "\n", 
            "#Update several things\n", 
            "MyUpdater=Updater.UpdaterClass(\n", 
            "    ).update(\n", 
            "        [\n", 
            "            ('MyInt',0),\n", 
            "            ('MyFloat',0.2)\n", 
            "        ]\n", 
            "    ).update(\n", 
            "        {\n", 
            "            'MyStr':\"hello\"\n", 
            "        }\n", 
            "    )\n", 
            "    \n", 
            "#Definition the AttestedStr\n", 
            "SYS._attest(\n", 
            "    [\n", 
            "        'MyUpdater is '+SYS._str(\n", 
            "        MyUpdater,\n", 
            "        **{\n", 
            "            'RepresentingBaseKeyStrsListBool':False,\n", 
            "            'RepresentingAlineaIsBool':False\n", 
            "        }\n", 
            "        )\n", 
            "    ]\n", 
            ")  \n", 
            "\n", 
            "#Print\n", 
            "\n", 
            "\n"
          ], 
          "outputs": [
            {
              "output_type": "stream", 
              "stream": "stdout", 
              "text": [
                "\n", 
                "\n", 
                "*****Start of the Attest *****\n", 
                "\n", 
                "MyUpdater is < (UpdaterClass), 4556354768>\n", 
                "   /{ \n", 
                "   /  '<New><Instance>IdInt' : 4556354768\n", 
                "   /  '<New><Instance>MyFloat' : 0.2\n", 
                "   /  '<New><Instance>MyInt' : 0\n", 
                "   /  '<New><Instance>MyStr' : hello\n", 
                "   /  '<Spe><Instance>UpdatingItemVariable' : \n", 
                "   /   /{ \n", 
                "   /   /  'MyStr' : hello\n", 
                "   /   /}\n", 
                "   /}\n", 
                "\n", 
                "*****End of the Attest *****\n", 
                "\n", 
                "\n"
              ]
            }
          ], 
          "collapsed": false, 
          "metadata": {
            "slideshow": {
              "slide_type": "-"
            }
          }
        }, 
        {
          "source": "\n<!--\nFrozenIsBool False\n-->\n\n#Linker\n\n##Doc\n----\n\n\n> \n> An Linker maps a point\n> \n> \n\n----\n\n<small>\nView the Linker notebook on [NbViewer](http://nbviewer.ipython.org/url/shareyoursystem.ouvaton.org/Linker.ipynb)\n</small>\n\n", 
          "cell_type": "markdown", 
          "prompt_number": 20, 
          "metadata": {
            "slideshow": {
              "slide_type": "slide"
            }
          }
        }, 
        {
          "source": "\n<!--\nFrozenIsBool False\n-->\n\n##Code\n\n----\n\n<ClassDocStr>\n\n----\n\n```python\n# -*- coding: utf-8 -*-\n\"\"\"\n\n\n<DefineSource>\n@Date : Fri Nov 14 13:20:38 2014 \\n\n@Author : Erwan Ledoux \\n\\n\n</DefineSource>\n\n\nAn Linker maps a point\n\n\"\"\"\n\n#<DefineAugmentation>\nimport ShareYourSystem as SYS\nBaseModuleStr=\"ShareYourSystem.Applyiers.Updater\"\nDecorationModuleStr=\"ShareYourSystem.Classors.Classer\"\nSYS.setSubModule(globals())\n#</DefineAugmentation>\n\n#<ImportSpecificModules>\n#</ImportSpecificModules>\n\n#<DefineClass>\n@DecorationClass()\nclass LinkerClass(BaseClass):\n\t\n\t#Definition\n\tRepresentingKeyStrsList=[\n\t\t\t\t\t\t\t\t'LinkingPointListsList'\n\t\t\t\t\t\t\t]\n\n\tdef default_init(self,\n\t\t\t\t_LinkingPointListsList=None,\n\t\t\t\t**_KwargVariablesDict):\n\n\t\t#Call the parent __init__ method\n\t\tBaseClass.__init__(self,**_KwargVariablesDict)\n\n\tdef do_link(self):\n\t\t\"\"\" \"\"\"\n\n\t\t#debug\n\t\t'''\n\t\tself.debug(('self.',self,['LinkingPointListsList']))\n\t\t'''\n\n\t\t#Apply\n\t\tself.map('point',map(\n\t\t\t\t\t\t\t\tlambda __LinkingPointList:\n\t\t\t\t\t\t\t\t{'LiargVariablesList':__LinkingPointList},\n\t\t\t\t\t\t\t\tself.LinkingPointListsList\n\t\t\t\t\t\t\t)\n\t\t)\n\n\t\t#Return\n\t\t#return self\n\n#</DefineClass>\n\n\n\n```\n\n<small>\nView the Linker sources on <a href=\"https://github.com/Ledoux/ShareYourSystem/tree/master/Pythonlogy/ShareYourSystem/Applyiers/Linker\" target=\"_blank\">Github</a>\n</small>\n\n", 
          "cell_type": "markdown", 
          "prompt_number": 21, 
          "metadata": {
            "slideshow": {
              "slide_type": "subslide"
            }
          }
        }, 
        {
          "source": "\n<!---\nFrozenIsBool True\n-->\n\n##Example\n\nLet's create an empty class, which will automatically receive\nspecial attributes from the decorating ClassorClass,\nspecially the NameStr, that should be the ClassStr\nwithout the TypeStr in the end.", 
          "cell_type": "markdown", 
          "prompt_number": 22, 
          "metadata": {
            "slideshow": {
              "slide_type": "subslide"
            }
          }
        }, 
        {
          "cell_type": "code", 
          "prompt_number": 23, 
          "language": "python", 
          "input": [
            "#ImportModules\n", 
            "import ShareYourSystem as SYS\n", 
            "from ShareYourSystem.Itemizers import Pather\n", 
            "from ShareYourSystem.Applyiers import Linker\n", 
            "\n", 
            "#Update several things\n", 
            "MyLinker=Linker.LinkerClass().update(\n", 
            "    map(\n", 
            "            lambda __Int:\n", 
            "            (str(__Int)+'Pather',Pather.PatherClass()),\n", 
            "            xrange(3)\n", 
            "        )\n", 
            ")\n", 
            "\n", 
            "#link\n", 
            "MyLinker.link(\n", 
            "        map(\n", 
            "                lambda __Int:\n", 
            "                (str(__Int)+'Pather','/'+str(__Int-1)+'Pather/'+str(__Int)+'Pather') \n", 
            "                if __Int>0\n", 
            "                else\n", 
            "                (str(0)+'Pather','/2Pather/0Pather'),\n", 
            "                xrange(3)\n", 
            "            )\n", 
            "        )\n", 
            "\n", 
            "#Definition the AttestedStr\n", 
            "SYS._attest(\n", 
            "    [\n", 
            "        'MyLinker is '+SYS._str(\n", 
            "        MyLinker,\n", 
            "        **{\n", 
            "            'RepresentingBaseKeyStrsListBool':False,\n", 
            "            'RepresentingAlineaIsBool':False\n", 
            "        }\n", 
            "        )\n", 
            "    ]\n", 
            ")  \n", 
            "\n", 
            "#Print\n", 
            "\n", 
            "\n"
          ], 
          "outputs": [
            {
              "output_type": "stream", 
              "stream": "stdout", 
              "text": [
                "\n", 
                "\n", 
                "*****Start of the Attest *****\n", 
                "\n", 
                "MyLinker is < (LinkerClass), 4556354896>\n", 
                "   /{ \n", 
                "   /  '<New><Instance>0Pather' : < (PatherClass), 4556355216>\n", 
                "   /   /{ \n", 
                "   /   /  '<New><Instance>IdInt' : 4556355216\n", 
                "   /   /  '<Spe><Class>PathedChildKeyStr' : \n", 
                "   /   /  '<Spe><Class>PathedGetKeyStr' : \n", 
                "   /   /  '<Spe><Class>PathedKeyStrsList' : None\n", 
                "   /   /  '<Spe><Class>PathingKeyStr' : \n", 
                "   /   /}\n", 
                "   /  '<New><Instance>1Pather' : < (PatherClass), 4556355408>\n", 
                "   /   /{ \n", 
                "   /   /  '<New><Instance>IdInt' : 4556355408\n", 
                "   /   /  '<Spe><Class>PathedChildKeyStr' : \n", 
                "   /   /  '<Spe><Class>PathedGetKeyStr' : \n", 
                "   /   /  '<Spe><Class>PathedKeyStrsList' : None\n", 
                "   /   /  '<Spe><Class>PathingKeyStr' : \n", 
                "   /   /}\n", 
                "   /  '<New><Instance>2Pather' : < (PatherClass), 4556356048>\n", 
                "   /   /{ \n", 
                "   /   /  '<New><Instance>IdInt' : 4556356048\n", 
                "   /   /  '<Spe><Class>PathedChildKeyStr' : \n", 
                "   /   /  '<Spe><Class>PathedGetKeyStr' : \n", 
                "   /   /  '<Spe><Class>PathedKeyStrsList' : None\n", 
                "   /   /  '<Spe><Class>PathingKeyStr' : \n", 
                "   /   /}\n", 
                "   /  '<New><Instance>IdInt' : 4556354896\n", 
                "   /  '<Spe><Instance>LinkingPointListsList' : \n", 
                "   /   /[\n", 
                "   /   /  0 : ('0Pather', '/2Pather/0Pather')\n", 
                "   /   /  1 : ('1Pather', '/0Pather/1Pather')\n", 
                "   /   /  2 : ('2Pather', '/1Pather/2Pather')\n", 
                "   /   /]\n", 
                "   /}\n", 
                "\n", 
                "*****End of the Attest *****\n", 
                "\n", 
                "\n"
              ]
            }
          ], 
          "collapsed": false, 
          "metadata": {
            "slideshow": {
              "slide_type": "-"
            }
          }
        }, 
        {
          "source": "\n<!--\nFrozenIsBool False\n-->\n\n#Weaver\n\n##Doc\n----\n\n\n> \n> A Weaver\n> \n> \n\n----\n\n<small>\nView the Weaver notebook on [NbViewer](http://nbviewer.ipython.org/url/shareyoursystem.ouvaton.org/Weaver.ipynb)\n</small>\n\n", 
          "cell_type": "markdown", 
          "prompt_number": 24, 
          "metadata": {
            "slideshow": {
              "slide_type": "slide"
            }
          }
        }, 
        {
          "source": "\n<!--\nFrozenIsBool False\n-->\n\n##Code\n\n----\n\n<ClassDocStr>\n\n----\n\n```python\n# -*- coding: utf-8 -*-\n\"\"\"\n\n\n<DefineSource>\n@Date : Fri Nov 14 13:20:38 2014 \\n\n@Author : Erwan Ledoux \\n\\n\n</DefineSource>\n\n\nA Weaver\n\n\"\"\"\n\n#<DefineAugmentation>\nimport ShareYourSystem as SYS\nBaseModuleStr=\"ShareYourSystem.Applyiers.Linker\"\nDecorationModuleStr=\"ShareYourSystem.Classors.Classer\"\nSYS.setSubModule(globals())\n#</DefineAugmentation>\n\n#<ImportSpecificModules>\n#</ImportSpecificModules>\n\n#<DefineClass>\n@DecorationClass()\nclass WeaverClass(BaseClass):\n\t\n\t#Definition\n\tRepresentingKeyStrsList=[\n\t\t\t\t\t\t\t\t\t'WeavingInteractTuplesList'\n\t\t\t\t\t\t\t\t]\n\n\tdef default_init(self,\n\t\t\t\t_WeavingInteractTuplesList=None,\n\t\t\t\t**_KwargVariablesDict):\n\n\t\t#Call the parent __init__ method\n\t\tBaseClass.__init__(self,**_KwargVariablesDict)\n\n\tdef do_weave(self):\n\t\t\"\"\" \"\"\"\n\n\t\t#debug\n\t\t'''\n\t\tself.debug(\"self.UpdatingItemVariable is \"+Representer.represent(\n\t\t\tself.UpdatingItemVariable,**{'RepresentingAlineaIsBool':False}))\n\t\t'''\n\n\t\t#Apply\n\t\tself.map('interact',map(\n\t\t\t\t\t\t\t\t\tlambda __WeavingInteractTuple:\n\t\t\t\t\t\t\t\t\t{'LiargVariablesList':__WeavingInteractTuple},\n\t\t\t\t\t\t\t\t\tself.WeavingInteractTuplesList\n\t\t\t\t\t\t\t\t)\n\t\t)\n\n\t\t#Return\n\t\t#return self\n#</DefineClass>\n\n\n```\n\n<small>\nView the Weaver sources on <a href=\"https://github.com/Ledoux/ShareYourSystem/tree/master/Pythonlogy/ShareYourSystem/Applyiers/Weaver\" target=\"_blank\">Github</a>\n</small>\n\n", 
          "cell_type": "markdown", 
          "prompt_number": 25, 
          "metadata": {
            "slideshow": {
              "slide_type": "subslide"
            }
          }
        }, 
        {
          "source": "\n<!---\nFrozenIsBool True\n-->\n\n##Example\n\nLet's create an empty class, which will automatically receive\nspecial attributes from the decorating ClassorClass,\nspecially the NameStr, that should be the ClassStr\nwithout the TypeStr in the end.", 
          "cell_type": "markdown", 
          "prompt_number": 26, 
          "metadata": {
            "slideshow": {
              "slide_type": "subslide"
            }
          }
        }, 
        {
          "cell_type": "code", 
          "prompt_number": 27, 
          "language": "python", 
          "input": [
            "#ImportModules\n", 
            "import ShareYourSystem as SYS\n", 
            "from ShareYourSystem.Itemizers import Pointer\n", 
            "from ShareYourSystem.Applyiers import Weaver\n", 
            "\n", 
            "#Update several things\n", 
            "MyWeaver=Weaver.WeaverClass().update(\n", 
            "    map(\n", 
            "            lambda __Int:\n", 
            "            (\n", 
            "                str(__Int)+'Pointer',\n", 
            "                Pointer.PointerClass()\n", 
            "            ),\n", 
            "            xrange(3)\n", 
            "        )\n", 
            ").weave(\n", 
            "        map(\n", 
            "                lambda __Int:\n", 
            "                (\n", 
            "                    [\n", 
            "                        str(__Int)+'Pointer',\n", 
            "                        str(__Int-1)+'Pointer',\n", 
            "                    ],\n", 
            "                    str(__Int)+'-'+str(__Int-1)+'Pointer',\n", 
            "                    Pointer.PointerClass()\n", 
            "                )\n", 
            "                if __Int>0\n", 
            "                else\n", 
            "                (\n", 
            "                    [\n", 
            "                        str(0)+'Pointer',\n", 
            "                        str(2)+'Pointer',\n", 
            "                    ],\n", 
            "                    str(0)+'-'+str(2)+'Pointer',\n", 
            "                    Pointer.PointerClass()\n", 
            "                ),\n", 
            "                xrange(3)\n", 
            "            )\n", 
            "        )\n", 
            "    \n", 
            "#Definition the AttestedStr\n", 
            "SYS._attest(\n", 
            "    [\n", 
            "        'MyWeaver is '+SYS._str(\n", 
            "        MyWeaver,\n", 
            "        **{\n", 
            "            'RepresentingBaseKeyStrsListBool':False,\n", 
            "            'RepresentingAlineaIsBool':False\n", 
            "        }\n", 
            "        )\n", 
            "    ]\n", 
            ")  \n", 
            "\n", 
            "#Print\n", 
            "\n", 
            "\n"
          ], 
          "outputs": [
            {
              "output_type": "stream", 
              "stream": "stdout", 
              "text": [
                "\n", 
                "\n", 
                "*****Start of the Attest *****\n", 
                "\n", 
                "MyWeaver is < (WeaverClass), 4556355920>\n", 
                "   /{ \n", 
                "   /  '<New><Instance>0Pointer' : < (PointerClass), 4556365264>\n", 
                "   /   /{ \n", 
                "   /   /  '<New><Instance>IdInt' : 4556365264\n", 
                "   /   /  '<Spe><Class>PointedBackSetStr' : \n", 
                "   /   /  '<Spe><Class>PointedGetVariable' : None\n", 
                "   /   /  '<Spe><Class>PointedLocalSetStr' : \n", 
                "   /   /  '<Spe><Class>PointedPathBackVariable' : \n", 
                "   /   /  '<Spe><Class>PointingBackSetStr' : \n", 
                "   /   /  '<Spe><Class>PointingGetVariable' : None\n", 
                "   /   /  '<Spe><Class>PointingSetPathStr' : \n", 
                "   /   /}\n", 
                "   /  '<New><Instance>1Pointer' : < (PointerClass), 4555019024>\n", 
                "   /   /{ \n", 
                "   /   /  '<New><Instance>IdInt' : 4555019024\n", 
                "   /   /  '<Spe><Class>PointedBackSetStr' : \n", 
                "   /   /  '<Spe><Class>PointedGetVariable' : None\n", 
                "   /   /  '<Spe><Class>PointedLocalSetStr' : \n", 
                "   /   /  '<Spe><Class>PointedPathBackVariable' : \n", 
                "   /   /  '<Spe><Class>PointingBackSetStr' : \n", 
                "   /   /  '<Spe><Class>PointingGetVariable' : None\n", 
                "   /   /  '<Spe><Class>PointingSetPathStr' : \n", 
                "   /   /}\n", 
                "   /  '<New><Instance>2Pointer' : < (PointerClass), 4555019536>\n", 
                "   /   /{ \n", 
                "   /   /  '<New><Instance>IdInt' : 4555019536\n", 
                "   /   /  '<Spe><Class>PointedBackSetStr' : \n", 
                "   /   /  '<Spe><Class>PointedGetVariable' : None\n", 
                "   /   /  '<Spe><Class>PointedLocalSetStr' : \n", 
                "   /   /  '<Spe><Class>PointedPathBackVariable' : \n", 
                "   /   /  '<Spe><Class>PointingBackSetStr' : \n", 
                "   /   /  '<Spe><Class>PointingGetVariable' : None\n", 
                "   /   /  '<Spe><Class>PointingSetPathStr' : \n", 
                "   /   /}\n", 
                "   /  '<New><Instance>IdInt' : 4556355920\n", 
                "   /  '<Spe><Instance>WeavingInteractTuplesList' : \n", 
                "   /   /[\n", 
                "   /   /  0 : \n", 
                "   /   /   /(\n", 
                "   /   /   /  0 : ['0Pointer', '2Pointer']\n", 
                "   /   /   /  1 : 0-2Pointer\n", 
                "   /   /   /  2 : < (PointerClass), 4556222416>\n", 
                "   /   /   /   /{ \n", 
                "   /   /   /   /  '<New><Instance>IdInt' : 4556222416\n", 
                "   /   /   /   /  '<Spe><Class>PointedBackSetStr' : \n", 
                "   /   /   /   /  '<Spe><Class>PointedGetVariable' : None\n", 
                "   /   /   /   /  '<Spe><Class>PointedLocalSetStr' : \n", 
                "   /   /   /   /  '<Spe><Class>PointedPathBackVariable' : \n", 
                "   /   /   /   /  '<Spe><Class>PointingBackSetStr' : \n", 
                "   /   /   /   /  '<Spe><Class>PointingGetVariable' : None\n", 
                "   /   /   /   /  '<Spe><Class>PointingSetPathStr' : \n", 
                "   /   /   /   /}\n", 
                "   /   /   /)\n", 
                "   /   /  1 : \n", 
                "   /   /   /(\n", 
                "   /   /   /  0 : ['1Pointer', '0Pointer']\n", 
                "   /   /   /  1 : 1-0Pointer\n", 
                "   /   /   /  2 : < (PointerClass), 4556221648>\n", 
                "   /   /   /   /{ \n", 
                "   /   /   /   /  '<New><Instance>IdInt' : 4556221648\n", 
                "   /   /   /   /  '<Spe><Class>PointedBackSetStr' : \n", 
                "   /   /   /   /  '<Spe><Class>PointedGetVariable' : None\n", 
                "   /   /   /   /  '<Spe><Class>PointedLocalSetStr' : \n", 
                "   /   /   /   /  '<Spe><Class>PointedPathBackVariable' : \n", 
                "   /   /   /   /  '<Spe><Class>PointingBackSetStr' : \n", 
                "   /   /   /   /  '<Spe><Class>PointingGetVariable' : None\n", 
                "   /   /   /   /  '<Spe><Class>PointingSetPathStr' : \n", 
                "   /   /   /   /}\n", 
                "   /   /   /)\n", 
                "   /   /  2 : \n", 
                "   /   /   /(\n", 
                "   /   /   /  0 : ['2Pointer', '1Pointer']\n", 
                "   /   /   /  1 : 2-1Pointer\n", 
                "   /   /   /  2 : < (PointerClass), 4556355024>\n", 
                "   /   /   /   /{ \n", 
                "   /   /   /   /  '<New><Instance>IdInt' : 4556355024\n", 
                "   /   /   /   /  '<Spe><Class>PointedBackSetStr' : \n", 
                "   /   /   /   /  '<Spe><Class>PointedGetVariable' : None\n", 
                "   /   /   /   /  '<Spe><Class>PointedLocalSetStr' : \n", 
                "   /   /   /   /  '<Spe><Class>PointedPathBackVariable' : \n", 
                "   /   /   /   /  '<Spe><Class>PointingBackSetStr' : \n", 
                "   /   /   /   /  '<Spe><Class>PointingGetVariable' : None\n", 
                "   /   /   /   /  '<Spe><Class>PointingSetPathStr' : \n", 
                "   /   /   /   /}\n", 
                "   /   /   /)\n", 
                "   /   /]\n", 
                "   /}\n", 
                "\n", 
                "*****End of the Attest *****\n", 
                "\n", 
                "\n"
              ]
            }
          ], 
          "collapsed": false, 
          "metadata": {
            "slideshow": {
              "slide_type": "-"
            }
          }
        }, 
        {
          "source": "\n<!--\nFrozenIsBool False\n-->\n\n#Filterer\n\n##Doc\n----\n\n\n> \n> A Filterer pick and \n> \n> \n\n----\n\n<small>\nView the Filterer notebook on [NbViewer](http://nbviewer.ipython.org/url/shareyoursystem.ouvaton.org/Filterer.ipynb)\n</small>\n\n", 
          "cell_type": "markdown", 
          "prompt_number": 28, 
          "metadata": {
            "slideshow": {
              "slide_type": "slide"
            }
          }
        }, 
        {
          "source": "\n<!--\nFrozenIsBool False\n-->\n\n##Code\n\n----\n\n<ClassDocStr>\n\n----\n\n```python\n# -*- coding: utf-8 -*-\n\"\"\"\n\n\n<DefineSource>\n@Date : Fri Nov 14 13:20:38 2014 \\n\n@Author : Erwan Ledoux \\n\\n\n</DefineSource>\n\n\nA Filterer pick and \n\n\"\"\"\n\n#<DefineAugmentation>\nimport ShareYourSystem as SYS\nBaseModuleStr=\"ShareYourSystem.Itemizers.Pointer\"\nDecorationModuleStr=\"ShareYourSystem.Classors.Classer\"\nSYS.setSubModule(globals())\n#</DefineAugmentation>\n\n#<ImportSpecificModules>\nimport copy\nimport collections\n#</ImportSpecificModules>\n\n#<DefineClass>\n@DecorationClass()\nclass FiltererClass(BaseClass):\n\t\n\t#Definition\n\tRepresentingKeyStrsList=[\n\t\t\t\t\t\t\t\t\t'FilteringGetVariable',\n\t\t\t\t\t\t\t\t\t'FilteredGetVariable',\n\t\t\t\t\t\t\t\t\t'FilteredVariablesList'\n\t\t\t\t\t\t\t\t]\n\n\tdef default_init(self,\n\t\t\t\t_FilteringGetVariable=None,\n\t\t\t\t_FilteredGetVariable=None,\n\t\t\t\t_FilteredVariablesList=None,\n\t\t\t\t**_KwargVariablesDict):\n\n\t\t#Call the parent __init__ method\n\t\tBaseClass.__init__(self,**_KwargVariablesDict)\n\n\tdef do_filter(self):\n\t\t\t\n\t\t#debug\n\t\t'''\n\t\tself.debug(('self.',self,[\n\t\t\t\t\t\t\t\t\t'PickingGetKeyVariablesList',\n\t\t\t\t\t\t\t\t\t'ConcludingConditionTuplesList',\n\t\t\t\t\t\t\t\t\t'FilteringGetVariable'\n\t\t\t\t\t\t\t\t])\n\t\t\t\t)\n\t\t'''\n\t\t\n\t\t#Get\n\t\tif type(self.FilteringGetVariable) in SYS.StrTypesList:\n\t\t\tself.FilteredGetVariable=self[self.FilteringGetVariable]\n\t\telse:\n\t\t\tself.FilteredGetVariable=self.FilteringGetVariable\n\n\t\t#Check\n\t\tif self.conclude(self.FilteredGetVariable).ConcludedIsBool:\n\n\t\t\t#debug\n\t\t\t'''\n\t\t\tself.debug(\n\t\t\t\t\t(\n\t\t\t\t\t\t'self.',self,[\n\t\t\t\t\t\t\t\t\t\t'PickingGetKeyVariablesList',\n\t\t\t\t\t\t\t\t\t\t'ConcludedConditionIsBoolsList',\n\t\t\t\t\t\t\t\t\t]+SYS.unzip(\n\t\t\t\t\t\t\t\t\t\tself.ConcludingConditionTuplesList,[0]\n\t\t\t\t\t\t\t\t\t)\n\t\t\t\t\t)\n\t\t\t\t)\n\t\t\t'''\n\n\t\t\t#Pick\n\t\t\tself.FilteredVariablesList=self.pick()\n\n\n#</DefineClass>\n\n```\n\n<small>\nView the Filterer sources on <a href=\"https://github.com/Ledoux/ShareYourSystem/tree/master/Pythonlogy/ShareYourSystem/Applyiers/Filterer\" target=\"_blank\">Github</a>\n</small>\n\n", 
          "cell_type": "markdown", 
          "prompt_number": 29, 
          "metadata": {
            "slideshow": {
              "slide_type": "subslide"
            }
          }
        }, 
        {
          "cell_type": "code", 
          "prompt_number": 30, 
          "language": "python", 
          "input": [
            "\n", 
            "#ImportModules\n", 
            "import ShareYourSystem as SYS\n", 
            "from ShareYourSystem.Applyiers import Filterer\n", 
            "import operator\n", 
            "\n", 
            "#Definition a Filter instance that is grouped\n", 
            "MyFilterer=Filterer.FiltererClass().update(\n", 
            "    [\n", 
            "        ('NodeIndexInt',1),\n", 
            "        ('NodeKeyStr','MyFilterer'),\n", 
            "        (\n", 
            "            'ConcludingConditionTuplesList',[\n", 
            "                        (\n", 
            "                            'NodeIndexInt',\n", 
            "                            lambda _TestInt,_AttestInt:\n", 
            "                                operator.lt(_TestInt,_AttestInt)\n", 
            "                                if _TestInt!=None else False,\n", 
            "                            2\n", 
            "                        )\n", 
            "                    ]\n", 
            "                ),\n", 
            "        (\n", 
            "            'PickingGetKeyVariablesList',['NodeKeyStr']\n", 
            "        )\n", 
            "    ]\n", 
            ").filter('/')\n", 
            "\n", 
            "    \n", 
            "#Definition the AttestedStr\n", 
            "SYS._attest(\n", 
            "    [\n", 
            "        'MyFilterer is '+SYS._str(\n", 
            "        MyFilterer,\n", 
            "        **{\n", 
            "            'RepresentingBaseKeyStrsListBool':False,\n", 
            "            'RepresentingAlineaIsBool':False\n", 
            "        }\n", 
            "        )\n", 
            "    ]\n", 
            ") \n", 
            "\n", 
            "\n"
          ], 
          "outputs": [
            {
              "output_type": "stream", 
              "stream": "stdout", 
              "text": [
                "\n", 
                "\n", 
                "*****Start of the Attest *****\n", 
                "\n", 
                "MyFilterer is < (FiltererClass), 4556354960>\n", 
                "   /{ \n", 
                "   /  '<New><Instance>IdInt' : 4556354960\n", 
                "   /  '<New><Instance>NodeIndexInt' : 1\n", 
                "   /  '<New><Instance>NodeKeyStr' : MyFilterer\n", 
                "   /  '<Spe><Instance>FilteredGetVariable' : {...}< (FiltererClass), 4556354960>\n", 
                "   /  '<Spe><Instance>FilteredVariablesList' : ['MyFilterer']\n", 
                "   /  '<Spe><Instance>FilteringGetVariable' : /\n", 
                "   /}\n", 
                "\n", 
                "*****End of the Attest *****\n", 
                "\n", 
                "\n"
              ]
            }
          ], 
          "collapsed": false, 
          "metadata": {
            "slideshow": {
              "slide_type": "subslide"
            }
          }
        }, 
        {
          "source": "\n<!--\nFrozenIsBool False\n-->\n\n#Pusher\n\n##Doc\n----\n\n\n> \n> Pusher instances\n> \n> \n\n----\n\n<small>\nView the Pusher notebook on [NbViewer](http://nbviewer.ipython.org/url/shareyoursystem.ouvaton.org/Pusher.ipynb)\n</small>\n\n", 
          "cell_type": "markdown", 
          "prompt_number": 31, 
          "metadata": {
            "slideshow": {
              "slide_type": "slide"
            }
          }
        }, 
        {
          "source": "\n<!--\nFrozenIsBool False\n-->\n\n##Code\n\n----\n\n<ClassDocStr>\n\n----\n\n```python\n# -*- coding: utf-8 -*-\n\"\"\"\n\n\n<DefineSource>\n@Date : Fri Nov 14 13:20:38 2014 \\n\n@Author : Erwan Ledoux \\n\\n\n</DefineSource>\n\n\nPusher instances\n\n\"\"\"\n\n#<DefineAugmentation>\nimport ShareYourSystem as SYS\nBaseModuleStr=\"ShareYourSystem.Noders.Collecter\"\nDecorationModuleStr=\"ShareYourSystem.Classors.Classer\"\nSYS.setSubModule(globals())\n#</DefineAugmentation>\n\n#<ImportSpecificModules>\n#</ImportSpecificModules>\n\n#<DefineClass>\n@DecorationClass()\nclass PusherClass(BaseClass):\n\t\n\t#Definition\n\tRepresentingKeyStrsList=[\t\n\t\t\t\t\t\t\t\t\t'PushingStoreListsList'\n\t\t\t\t\t\t\t\t]\n\n\t#@Hooker.HookerClass(**{'HookingAfterVariablesList':[{'CallingVariable':BaseClass.__init__}]})\n\tdef default_init(self,\n\t\t\t\t\t\t_PushingStoreListsList=None,\n\t\t\t\t\t\t**_KwargVariablesDict\n\t\t\t\t\t):\n\n\t\t#Call the parent init method\n\t\tBaseClass.__init__(self,**_KwargVariablesDict)\n\n\tdef do_push(self):\n\t\t\n\t\t#debug\n\t\t'''\n\t\tself.debug(('self.',self,['PushingStoreListsList']))\n\t\t'''\n\t\t\n\t\t#Apply __getitem__\n\t\tself.map('collect',map(\n\t\t\t\t\t\t\t\t\tlambda __PushingStoreList:\n\t\t\t\t\t\t\t\t\t{\n\t\t\t\t\t\t\t\t\t\t'LiargVariablesList':[],\n\t\t\t\t\t\t\t\t\t\t'KwargVariablesDict':\n\t\t\t\t\t\t\t\t\t\t{\n\t\t\t\t\t\t\t\t\t\t\t'CollectingNodeKeyStr':__PushingStoreList[0],\n\t\t\t\t\t\t\t\t\t\t\t'CollectingNodeVariable':__PushingStoreList[1],\n\t\t\t\t\t\t\t\t\t\t}\n\t\t\t\t\t\t\t\t\t},\n\t\t\t\t\t\t\t\t\tself.PushingStoreListsList\n\t\t\t\t\t\t\t\t)\n\t\t\t\t\t)\n#</DefineClass>\n\n\n```\n\n<small>\nView the Pusher sources on <a href=\"https://github.com/Ledoux/ShareYourSystem/tree/master/Pythonlogy/ShareYourSystem/Applyiers/Pusher\" target=\"_blank\">Github</a>\n</small>\n\n", 
          "cell_type": "markdown", 
          "prompt_number": 32, 
          "metadata": {
            "slideshow": {
              "slide_type": "subslide"
            }
          }
        }, 
        {
          "cell_type": "code", 
          "prompt_number": 33, 
          "language": "python", 
          "input": [
            "\n", 
            "#ImportModules\n", 
            "import ShareYourSystem as SYS\n", 
            "from ShareYourSystem.Applyiers import Pusher\n", 
            "\n", 
            "#push\n", 
            "MyPusher=Pusher.PusherClass().push(\n", 
            "    [\n", 
            "        [\n", 
            "            'FirstChild',\n", 
            "            Pusher.PusherClass().__setitem__('MyInt',0)\n", 
            "        ],\n", 
            "        [\n", 
            "            'SecondChild',\n", 
            "            Pusher.PusherClass()\n", 
            "        ]\n", 
            "    ],\n", 
            "    **{'CollectingCollectionStr':'Pushome'}\n", 
            ")\n", 
            "\n", 
            "#Definition the AttestedStr\n", 
            "SYS._attest(\n", 
            "    [\n", 
            "        'MyPusher is '+SYS._str(\n", 
            "        MyPusher,\n", 
            "        **{\n", 
            "            'RepresentingBaseKeyStrsListBool':False,\n", 
            "            'RepresentingAlineaIsBool':False\n", 
            "        }\n", 
            "        )\n", 
            "    ]\n", 
            ") \n", 
            "\n", 
            "\n"
          ], 
          "outputs": [
            {
              "output_type": "stream", 
              "stream": "stdout", 
              "text": [
                "\n", 
                "\n", 
                "*****Start of the Attest *****\n", 
                "\n", 
                "MyPusher is < (PusherClass), 4556355856>\n", 
                "   /{ \n", 
                "   /  '<New><Instance>IdInt' : 4556355856\n", 
                "   /  '<New><Instance>NodeCollectionStr' : Globals\n", 
                "   /  '<New><Instance>NodeIndexInt' : -1\n", 
                "   /  '<New><Instance>NodeKeyStr' : TopPusher\n", 
                "   /  '<New><Instance>NodePointDeriveNoder' : None\n", 
                "   /  '<New><Instance>NodePointOrderedDict' : None\n", 
                "   /  '<New><Instance>PushomeCollectionOrderedDict' : \n", 
                "   /   /{ \n", 
                "   /   /  'FirstChildPusher' : < (PusherClass), 4556354896>\n", 
                "   /   /   /{ \n", 
                "   /   /   /  '<New><Instance>IdInt' : 4556354896\n", 
                "   /   /   /  '<New><Instance>MyInt' : 0\n", 
                "   /   /   /  '<New><Instance>NodeCollectionStr' : Pushome\n", 
                "   /   /   /  '<New><Instance>NodeIndexInt' : 0\n", 
                "   /   /   /  '<New><Instance>NodeKeyStr' : FirstChildPusher\n", 
                "   /   /   /  '<New><Instance>NodePointDeriveNoder' : {...}< (PusherClass), 4556355856>\n", 
                "   /   /   /  '<New><Instance>NodePointOrderedDict' : {...}< (OrderedDict), 4556378488>\n", 
                "   /   /   /  '<Spe><Class>PushingStoreListsList' : None\n", 
                "   /   /   /}\n", 
                "   /   /  'SecondChildPusher' : < (PusherClass), 4556355472>\n", 
                "   /   /   /{ \n", 
                "   /   /   /  '<New><Instance>IdInt' : 4556355472\n", 
                "   /   /   /  '<New><Instance>NodeCollectionStr' : Pushome\n", 
                "   /   /   /  '<New><Instance>NodeIndexInt' : 1\n", 
                "   /   /   /  '<New><Instance>NodeKeyStr' : SecondChildPusher\n", 
                "   /   /   /  '<New><Instance>NodePointDeriveNoder' : {...}< (PusherClass), 4556355856>\n", 
                "   /   /   /  '<New><Instance>NodePointOrderedDict' : {...}< (OrderedDict), 4556378488>\n", 
                "   /   /   /  '<Spe><Class>PushingStoreListsList' : None\n", 
                "   /   /   /}\n", 
                "   /   /}\n", 
                "   /  '<Spe><Instance>PushingStoreListsList' : \n", 
                "   /   /[\n", 
                "   /   /  0 : \n", 
                "   /   /   /[\n", 
                "   /   /   /  0 : FirstChild\n", 
                "   /   /   /  1 : {...}< (PusherClass), 4556354896>\n", 
                "   /   /   /]\n", 
                "   /   /  1 : \n", 
                "   /   /   /[\n", 
                "   /   /   /  0 : SecondChild\n", 
                "   /   /   /  1 : {...}< (PusherClass), 4556355472>\n", 
                "   /   /   /]\n", 
                "   /   /]\n", 
                "   /}\n", 
                "\n", 
                "*****End of the Attest *****\n", 
                "\n", 
                "\n"
              ]
            }
          ], 
          "collapsed": false, 
          "metadata": {
            "slideshow": {
              "slide_type": "subslide"
            }
          }
        }, 
        {
          "source": "\n<!--\nFrozenIsBool False\n-->\n\n#Producer\n\n##Doc\n----\n\n\n> \n> Producer instances\n> \n> \n\n----\n\n<small>\nView the Producer notebook on [NbViewer](http://nbviewer.ipython.org/url/shareyoursystem.ouvaton.org/Producer.ipynb)\n</small>\n\n", 
          "cell_type": "markdown", 
          "prompt_number": 34, 
          "metadata": {
            "slideshow": {
              "slide_type": "slide"
            }
          }
        }, 
        {
          "source": "\n<!--\nFrozenIsBool False\n-->\n\n##Code\n\n----\n\n<ClassDocStr>\n\n----\n\n```python\n# -*- coding: utf-8 -*-\n\"\"\"\n\n<DefineSource>\n@Date : Fri Nov 14 13:20:38 2014 \\n\n@Author : Erwan Ledoux \\n\\n\n</DefineSource>\n\n\nProducer instances\n\n\"\"\"\n\n#<DefineAugmentation>\nimport ShareYourSystem as SYS\nBaseModuleStr=\"ShareYourSystem.Applyiers.Pusher\"\nDecorationModuleStr=\"ShareYourSystem.Classors.Classer\"\nSYS.setSubModule(globals())\n#</DefineAugmentation>\n\n#<ImportSpecificModules>\nfrom ShareYourSystem.Noders import Noder\n#</ImportSpecificModules>\n\n#<DefineClass>\n@DecorationClass()\nclass ProducerClass(BaseClass):\n\t\n\t#Definition\n\tRepresentingKeyStrsList=[\t\n\t\t\t\t\t\t\t\t\t'ProducingCollectionKeyStrsList',\n\t\t\t\t\t\t\t\t\t'ProducingPushClass',\n\t\t\t\t\t\t\t\t\t'ProducingUpdateVariable',\n\t\t\t\t\t\t\t\t\t'ProducedPushList'\n\t\t\t\t\t\t\t\t]\n\n\tdef default_init(self,\n\t\t\t\t\t\t_ProducingCollectionKeyStrsList=None,\n\t\t\t\t\t\t_ProducingPushClass=Noder.NoderClass,\n\t\t\t\t\t\t_ProducingUpdateVariable=None,\n\t\t\t\t\t\t_ProducedPushList=None,\n\t\t\t\t\t\t**_KwargVariablesDict\n\t\t\t\t\t):\n\n\t\t#Call the parent init method\n\t\tBaseClass.__init__(self,**_KwargVariablesDict)\n\n\tdef do_produce(self):\n\t\t\n\t\t#set\n\t\tself.ProducedPushList=map(\n\t\t\t\t\t\t\t\t\tlambda __ProducingCollectionKeyStr:\n\t\t\t\t\t\t\t\t\t[\n\t\t\t\t\t\t\t\t\t\t__ProducingCollectionKeyStr,\n\t\t\t\t\t\t\t\t\t\tself.ProducingPushClass().update(\n\t\t\t\t\t\t\t\t\t\t\tself.ProducingUpdateVariable\n\t\t\t\t\t\t\t\t\t\t)\n\t\t\t\t\t\t\t\t\t],\n\t\t\t\t\t\t\t\t\tself.ProducingCollectionKeyStrsList\n\t\t\t\t\t\t\t\t)\n\n\t\t#debug\n\t\t'''\n\t\tself.debug(('self.',self,['ProducedPushList']))\n\t\t'''\n\t\t\n\t\t#push\n\t\tself.push(\n\t\t\t\t\t_StoreListsList=self.ProducedPushList\n\t\t\t\t)\n\n\t\t#Return self\n\t\t#return self\n\n#</DefineClass>\n\n\n```\n\n<small>\nView the Producer sources on <a href=\"https://github.com/Ledoux/ShareYourSystem/tree/master/Pythonlogy/ShareYourSystem/Applyiers/Producer\" target=\"_blank\">Github</a>\n</small>\n\n", 
          "cell_type": "markdown", 
          "prompt_number": 35, 
          "metadata": {
            "slideshow": {
              "slide_type": "subslide"
            }
          }
        }, 
        {
          "cell_type": "code", 
          "prompt_number": 36, 
          "language": "python", 
          "input": [
            "\n", 
            "#ImportModules\n", 
            "import ShareYourSystem as SYS\n", 
            "from ShareYourSystem.Noders import Noder\n", 
            "from ShareYourSystem.Applyiers import Producer\n", 
            "\n", 
            "#produce\n", 
            "MyProducer=Producer.ProducerClass().produce(\n", 
            "        ['First','Second'],\n", 
            "        Noder.NoderClass,\n", 
            "        {'MyInt':0},\n", 
            "        **{'CollectingCollectionStr':'Nodome'}\n", 
            "    )\n", 
            "\n", 
            "#Definition the AttestedStr\n", 
            "SYS._attest(\n", 
            "    [\n", 
            "        'MyProducer is '+SYS._str(\n", 
            "        MyProducer,\n", 
            "        **{\n", 
            "            'RepresentingBaseKeyStrsListBool':False,\n", 
            "            'RepresentingAlineaIsBool':False\n", 
            "        }\n", 
            "        )\n", 
            "    ]\n", 
            ") \n", 
            "\n", 
            "#Print\n", 
            "\n", 
            "\n"
          ], 
          "outputs": [
            {
              "output_type": "stream", 
              "stream": "stdout", 
              "text": [
                "\n", 
                "\n", 
                "*****Start of the Attest *****\n", 
                "\n", 
                "MyProducer is < (ProducerClass), 4556356944>\n", 
                "   /{ \n", 
                "   /  '<New><Instance>IdInt' : 4556356944\n", 
                "   /  '<New><Instance>NodeCollectionStr' : Globals\n", 
                "   /  '<New><Instance>NodeIndexInt' : -1\n", 
                "   /  '<New><Instance>NodeKeyStr' : TopProducer\n", 
                "   /  '<New><Instance>NodePointDeriveNoder' : None\n", 
                "   /  '<New><Instance>NodePointOrderedDict' : None\n", 
                "   /  '<New><Instance>NodomeCollectionOrderedDict' : \n", 
                "   /   /{ \n", 
                "   /   /  'FirstNoder' : < (NoderClass), 4556355664>\n", 
                "   /   /   /{ \n", 
                "   /   /   /  '<New><Instance>IdInt' : 4556355664\n", 
                "   /   /   /  '<New><Instance>MyInt' : 0\n", 
                "   /   /   /  '<New><Instance>NodeCollectionStr' : Nodome\n", 
                "   /   /   /  '<New><Instance>NodeIndexInt' : 0\n", 
                "   /   /   /  '<New><Instance>NodeKeyStr' : FirstNoder\n", 
                "   /   /   /  '<New><Instance>NodePointDeriveNoder' : {...}< (ProducerClass), 4556356944>\n", 
                "   /   /   /  '<New><Instance>NodePointOrderedDict' : {...}< (OrderedDict), 4556378784>\n", 
                "   /   /   /  '<Spe><Class>NodedCollectionIndexInt' : -1\n", 
                "   /   /   /  '<Spe><Class>NodedCollectionOrderedDict' : None\n", 
                "   /   /   /  '<Spe><Class>NodedCollectionStr' : \n", 
                "   /   /   /  '<Spe><Class>NodedKeyStr' : \n", 
                "   /   /   /  '<Spe><Class>NodingCollectionStr' : \n", 
                "   /   /   /}\n", 
                "   /   /  'SecondNoder' : < (NoderClass), 4556356880>\n", 
                "   /   /   /{ \n", 
                "   /   /   /  '<New><Instance>IdInt' : 4556356880\n", 
                "   /   /   /  '<New><Instance>MyInt' : 0\n", 
                "   /   /   /  '<New><Instance>NodeCollectionStr' : Nodome\n", 
                "   /   /   /  '<New><Instance>NodeIndexInt' : 1\n", 
                "   /   /   /  '<New><Instance>NodeKeyStr' : SecondNoder\n", 
                "   /   /   /  '<New><Instance>NodePointDeriveNoder' : {...}< (ProducerClass), 4556356944>\n", 
                "   /   /   /  '<New><Instance>NodePointOrderedDict' : {...}< (OrderedDict), 4556378784>\n", 
                "   /   /   /  '<Spe><Class>NodedCollectionIndexInt' : -1\n", 
                "   /   /   /  '<Spe><Class>NodedCollectionOrderedDict' : None\n", 
                "   /   /   /  '<Spe><Class>NodedCollectionStr' : \n", 
                "   /   /   /  '<Spe><Class>NodedKeyStr' : \n", 
                "   /   /   /  '<Spe><Class>NodingCollectionStr' : \n", 
                "   /   /   /}\n", 
                "   /   /}\n", 
                "   /  '<Spe><Instance>ProducedPushList' : \n", 
                "   /   /[\n", 
                "   /   /  0 : \n", 
                "   /   /   /[\n", 
                "   /   /   /  0 : First\n", 
                "   /   /   /  1 : {...}< (NoderClass), 4556355664>\n", 
                "   /   /   /]\n", 
                "   /   /  1 : \n", 
                "   /   /   /[\n", 
                "   /   /   /  0 : Second\n", 
                "   /   /   /  1 : {...}< (NoderClass), 4556356880>\n", 
                "   /   /   /]\n", 
                "   /   /]\n", 
                "   /  '<Spe><Instance>ProducingCollectionKeyStrsList' : ['First', 'Second']\n", 
                "   /  '<Spe><Instance>ProducingPushClass' : <class 'ShareYourSystem.Noders.Noder.NoderClass'>\n", 
                "   /  '<Spe><Instance>ProducingUpdateVariable' : \n", 
                "   /   /{ \n", 
                "   /   /  'MyInt' : 0\n", 
                "   /   /}\n", 
                "   /}\n", 
                "\n", 
                "*****End of the Attest *****\n", 
                "\n", 
                "\n"
              ]
            }
          ], 
          "collapsed": false, 
          "metadata": {
            "slideshow": {
              "slide_type": "subslide"
            }
          }
        }, 
        {
          "source": "\n<!--\nFrozenIsBool False\n-->\n\n#Commander\n\n##Doc\n----\n\n\n> \n> A Commander gather Variables to set them with an UpdateList.\n> The command process can be AllSetsForEach (ie a map of the update succesively for each)\n> or a EachSetForAll (ie each set is a map of each).\n> \n> \n\n----\n\n<small>\nView the Commander notebook on [NbViewer](http://nbviewer.ipython.org/url/shareyoursystem.ouvaton.org/Commander.ipynb)\n</small>\n\n", 
          "cell_type": "markdown", 
          "prompt_number": 37, 
          "metadata": {
            "slideshow": {
              "slide_type": "slide"
            }
          }
        }, 
        {
          "source": "\n<!--\nFrozenIsBool False\n-->\n\n##Code\n\n----\n\n<ClassDocStr>\n\n----\n\n```python\n# -*- coding: utf-8 -*-\n\"\"\"\n\n\n<DefineSource>\n@Date : Fri Nov 14 13:20:38 2014 \\n\n@Author : Erwan Ledoux \\n\\n\n</DefineSource>\n\n\nA Commander gather Variables to set them with an UpdateList.\nThe command process can be AllSetsForEach (ie a map of the update succesively for each)\nor a EachSetForAll (ie each set is a map of each).\n\n\"\"\"\n\n#<DefineAugmentation>\nimport ShareYourSystem as SYS\nBaseModuleStr=\"ShareYourSystem.Noders.Attentioner\"\nDecorationModuleStr=\"ShareYourSystem.Classors.Classer\"\nSYS.setSubModule(globals())\n#</DefineAugmentation>\n\n#<ImportSpecificModules>\n#</ImportSpecificModules>\n\n#<DefineClass>\n@DecorationClass()\nclass CommanderClass(BaseClass):\n\n\t#Definition \n\tRepresentingKeyStrsList=[\n\t\t\t\t\t\t\t#'CommandingUpdateList',\n\t\t\t\t\t\t\t#'CommandingVariablesList',\n\t\t\t\t\t\t\t'CommandingOrderStr',\n\t\t\t\t\t\t\t'CommandingGatherIsBool'\n\t\t\t\t\t\t]\n\n\tdef default_init(self,\n\t\t\t\t_CommandingUpdateList=None,\t\n\t\t\t\t_CommandingVariablesList=None, \n\t\t\t\t_CommandingOrderStr=\"AllSetsForEach\",\t\t\t\t\n\t\t\t\t_CommandingGatherIsBool=True,\n\t\t\t\t**_KwargVariablesDict\n\t\t\t\t):\n\n\t\t#Call the parent __init__ method\n\t\tBaseClass.__init__(self,**_KwargVariablesDict)\n\n\tdef do_command(self):\n\t\t\"\"\"Collect with _GatheringKeyVariablesList and do a all sets for each with _UpdatingItemVariable\"\"\"\n\n\t\t#Check\n\t\tif self.CommandingGatherIsBool:\n\n\t\t\t#Get the GatheredVariablesList\n\t\t\tself.gather()\n\n\t\t\t#debug\n\t\t\t'''\n\t\t\tself.debug(\n\t\t\t\t\t\t\t('self.',self,[\n\t\t\t\t\t\t\t\t\t'CommandingUpdateList',\n\t\t\t\t\t\t\t\t\t'GatheringVariablesList',\n\t\t\t\t\t\t\t\t\t'GatheredVariablesList'\n\t\t\t\t\t\t\t\t\t]\n\t\t\t\t\t\t\t)\n\t\t\t\t\t\t)\n\t\t\t'''\n\n\t\t\t#Check\n\t\t\tif len(self.GatheredVariablesList)>0:\n\n\t\t\t\t#Just keep the values\n\t\t\t\tself.CommandingVariablesList=SYS.flat(SYS.unzip(self.GatheredVariablesList,[1]))\n\n\t\t#debug\n\t\t'''\n\t\tself.debug((\"self.\",self,['CommandingVariablesList']))\n\t\t'''\n\n\t\t#Check for the order\n\t\tif self.CommandingOrderStr==\"AllSetsForEach\":\n\n\t\t\t#For each __GatheredVariable it is updating with _UpdatingItemVariable\n\t\t\tmap(\n\t\t\t\t\tlambda __CommandedVariable:\n\t\t\t\t\t__CommandedVariable.update(self.CommandingUpdateList),\n\t\t\t\t\tself.CommandingVariablesList\n\t\t\t\t)\n\n\t\telif self.CommandingOrderStr==\"EachSetForAll\":\n\n\t\t\t#For each SettingTuple it is setted in _GatheredVariablesList\n\t\t\tmap(\n\t\t\t\t\tlambda __SettingVariableTuple:\n\t\t\t\t\tmap(\n\t\t\t\t\t\tlambda __CommandedVariable:\n\t\t\t\t\t\t__CommandedVariable.__setitem__(*__SettingVariableTuple),\n\t\t\t\t\t\tself.CommandingVariablesList\n\t\t\t\t\t\t),\n\t\t\t\t\tself.CommandingUpdateList.items() \n\t\t\t\t\tif hasattr(self.CommandingUpdateList,'items')\n\t\t\t\t\telse self.CommandingUpdateList\n\t\t\t\t)\n\n\t\t#Return self\n\t\t#return self \n#</DefineClass>\n\n```\n\n<small>\nView the Commander sources on <a href=\"https://github.com/Ledoux/ShareYourSystem/tree/master/Pythonlogy/ShareYourSystem/Applyiers/Commander\" target=\"_blank\">Github</a>\n</small>\n\n", 
          "cell_type": "markdown", 
          "prompt_number": 38, 
          "metadata": {
            "slideshow": {
              "slide_type": "subslide"
            }
          }
        }, 
        {
          "source": "\n<!---\nFrozenIsBool True\n-->\n\n##Example\n\nLet's create an empty class, which will automatically receive\nspecial attributes from the decorating ClassorClass,\nspecially the NameStr, that should be the ClassStr\nwithout the TypeStr in the end.", 
          "cell_type": "markdown", 
          "prompt_number": 39, 
          "metadata": {
            "slideshow": {
              "slide_type": "subslide"
            }
          }
        }, 
        {
          "cell_type": "code", 
          "prompt_number": 40, 
          "language": "python", 
          "input": [
            "\n", 
            "#ImportModules\n", 
            "import ShareYourSystem as SYS\n", 
            "from ShareYourSystem.Applyiers import Commander\n", 
            "import copy\n", 
            "\n", 
            "#Definition a structure of Commanders.\n", 
            "MyFirstCommander=Commander.CommanderClass().__add__(\n", 
            "    [\n", 
            "        Commander.CommanderClass().update(\n", 
            "            [\n", 
            "                ('NodeCollectionStr','Commandome'),\n", 
            "                ('NodeKeyStr',str(Int1))\n", 
            "            ]) for Int1 in xrange(2)\n", 
            "    ]\n", 
            ")\n", 
            "\n", 
            "#Definition a structure of Commanders.\n", 
            "MySecondCommander=Commander.CommanderClass().__add__(\n", 
            "    [\n", 
            "        Commander.CommanderClass().update(\n", 
            "            [\n", 
            "                ('NodeCollectionStr','Commandome'),\n", 
            "                ('NodeKeyStr',str(Int1))\n", 
            "            ]) for Int1 in xrange(2)\n", 
            "    ]\n", 
            ")\n", 
            "\n", 
            "\n", 
            "#Definition an CommandingUpdateList to be commanded\n", 
            "CommandingUpdateList=[\n", 
            "    (\n", 
            "        'MyCountingInt',\n", 
            "        ';'.join([\n", 
            "                    'Exec_self.SettingValueVariable=self.__class__.MyCountingInt',\n", 
            "                    'self.__class__.MyCountingInt+=1'\n", 
            "                ])\n", 
            "    ),\n", 
            "    (\n", 
            "        'MyCountingInt',\n", 
            "        ';'.join([\n", 
            "                    'Exec_self.SettingValueVariable=self.__class__.MyCountingInt',\n", 
            "                    'self.__class__.MyCountingInt+=1'\n", 
            "                ])\n", 
            "    )\n", 
            "]\n", 
            "\n", 
            "#Definition GatheringVariablesList\n", 
            "GatheringVariablesList=[\n", 
            "        ['/'],\n", 
            "        '<Commandome>'\n", 
            "]\n", 
            "\n", 
            "#Now command with a AllSetsForEach protocol\n", 
            "MyFirstCommander.execute('self.__class__.MyCountingInt=0').command(\n", 
            "        _UpdateList=CommandingUpdateList,\n", 
            "        **{\n", 
            "            'GatheringVariablesList': GatheringVariablesList\n", 
            "            }\n", 
            "        )\n", 
            "\n", 
            "#Command with a EachSetForAll protocol\n", 
            "MySecondCommander.execute('self.__class__.MyCountingInt=0').command(\n", 
            "        CommandingUpdateList,\n", 
            "        _OrderStr='EachSetForAll',\n", 
            "        **{\n", 
            "            'GatheringVariablesList': GatheringVariablesList\n", 
            "        }\n", 
            ")\n", 
            "    \n", 
            "#Definition the AttestedStr\n", 
            "SYS._attest(\n", 
            "    [\n", 
            "        'MyFirstCommander is '+SYS._str(\n", 
            "        MyFirstCommander,\n", 
            "        **{\n", 
            "            'RepresentingBaseKeyStrsListBool':False,\n", 
            "            'RepresentingAlineaIsBool':False\n", 
            "        }\n", 
            "        ),\n", 
            "        'MySecondCommander is '+SYS._str(\n", 
            "        MySecondCommander,\n", 
            "        **{\n", 
            "            'RepresentingBaseKeyStrsListBool':False,\n", 
            "            'RepresentingAlineaIsBool':False\n", 
            "        }\n", 
            "        )\n", 
            "    ]\n", 
            ")  \n", 
            "\n", 
            "\n"
          ], 
          "outputs": [
            {
              "output_type": "stream", 
              "stream": "stdout", 
              "text": [
                "                                            \n", 
                "                                            xxxxxxxxxxxxxxxxxxxxxxxxxxxxxxxxxxxxxxxxxxxxxxxxxxxxxxxxxxxxxxxxxxxxxxxxxxxxxxxxxxxxxxxxxxxx\n", 
                "                                            ////////////////////////////////\n", 
                "                                            Appender/__init__.py do_append\n", 
                "                                            From Appender/__init__.py do_append | Instancer/__init__.py mimic_append | Mimicker/__init__.py mimic | Applyier/__init__.py do_apply | Mapper/__init__.py do_map | Adder/__init__.py do_add | Adder/__init__.py __add__ | site-packages/six.py exec_ | Celler/__init__.py do_cell | Notebooker/__init__.py do_notebook | Informer/__init__.py do_inform | inform.py <module>\n", 
                "                                            ////////////////////////////////\n", 
                "                                            \n", 
                "                                            l.138 : \n", 
                "                                            *****\n", 
                "                                            I am with [('NodeKeyStr', 'TopCommander')]\n", 
                "                                            *****\n", 
                "                                            self.AppendedNodeCollectionStr is Commandome\n", 
                "                                            self.AppendedNodeKeyStr is 0\n", 
                "                                            \n", 
                "                                            xxxxxxxxxxxxxxxxxxxxxxxxxxxxxxxxxxxxxxxxxxxxxxxxxxxxxxxxxxxxxxxxxxxxxxxxxxxxxxxxxxxxxxxxxxxx\n", 
                "                                                                                        \n", 
                "                                            \n", 
                "                                            xxxxxxxxxxxxxxxxxxxxxxxxxxxxxxxxxxxxxxxxxxxxxxxxxxxxxxxxxxxxxxxxxxxxxxxxxxxxxxxxxxxxxxxxxxxx\n", 
                "                                            ////////////////////////////////\n", 
                "                                            Appender/__init__.py do_append\n", 
                "                                            From Appender/__init__.py do_append | Instancer/__init__.py mimic_append | Mimicker/__init__.py mimic | Applyier/__init__.py do_apply | Mapper/__init__.py do_map | Adder/__init__.py do_add | Adder/__init__.py __add__ | site-packages/six.py exec_ | Celler/__init__.py do_cell | Notebooker/__init__.py do_notebook | Informer/__init__.py do_inform | inform.py <module>\n", 
                "                                            ////////////////////////////////\n", 
                "                                            \n", 
                "                                            l.138 : \n", 
                "                                            *****\n", 
                "                                            I am with [('NodeKeyStr', 'TopCommander')]\n", 
                "                                            *****\n", 
                "                                            self.AppendedNodeCollectionStr is Commandome\n", 
                "                                            self.AppendedNodeKeyStr is 1\n", 
                "                                            \n", 
                "                                            xxxxxxxxxxxxxxxxxxxxxxxxxxxxxxxxxxxxxxxxxxxxxxxxxxxxxxxxxxxxxxxxxxxxxxxxxxxxxxxxxxxxxxxxxxxx\n", 
                "                                                                                        \n", 
                "                                            \n", 
                "                                            xxxxxxxxxxxxxxxxxxxxxxxxxxxxxxxxxxxxxxxxxxxxxxxxxxxxxxxxxxxxxxxxxxxxxxxxxxxxxxxxxxxxxxxxxxxx\n", 
                "                                            ////////////////////////////////\n", 
                "                                            Appender/__init__.py do_append\n", 
                "                                            From Appender/__init__.py do_append | Instancer/__init__.py mimic_append | Mimicker/__init__.py mimic | Applyier/__init__.py do_apply | Mapper/__init__.py do_map | Adder/__init__.py do_add | Adder/__init__.py __add__ | site-packages/six.py exec_ | Celler/__init__.py do_cell | Notebooker/__init__.py do_notebook | Informer/__init__.py do_inform | inform.py <module>\n", 
                "                                            ////////////////////////////////\n", 
                "                                            \n", 
                "                                            l.138 : \n", 
                "                                            *****\n", 
                "                                            I am with [('NodeKeyStr', 'TopCommander')]\n", 
                "                                            *****\n", 
                "                                            self.AppendedNodeCollectionStr is Commandome\n", 
                "                                            self.AppendedNodeKeyStr is 0\n", 
                "                                            \n", 
                "                                            xxxxxxxxxxxxxxxxxxxxxxxxxxxxxxxxxxxxxxxxxxxxxxxxxxxxxxxxxxxxxxxxxxxxxxxxxxxxxxxxxxxxxxxxxxxx\n", 
                "                                                                                        \n", 
                "                                            \n", 
                "                                            xxxxxxxxxxxxxxxxxxxxxxxxxxxxxxxxxxxxxxxxxxxxxxxxxxxxxxxxxxxxxxxxxxxxxxxxxxxxxxxxxxxxxxxxxxxx\n", 
                "                                            ////////////////////////////////\n", 
                "                                            Appender/__init__.py do_append\n", 
                "                                            From Appender/__init__.py do_append | Instancer/__init__.py mimic_append | Mimicker/__init__.py mimic | Applyier/__init__.py do_apply | Mapper/__init__.py do_map | Adder/__init__.py do_add | Adder/__init__.py __add__ | site-packages/six.py exec_ | Celler/__init__.py do_cell | Notebooker/__init__.py do_notebook | Informer/__init__.py do_inform | inform.py <module>\n", 
                "                                            ////////////////////////////////\n", 
                "                                            \n", 
                "                                            l.138 : \n", 
                "                                            *****\n", 
                "                                            I am with [('NodeKeyStr', 'TopCommander')]\n", 
                "                                            *****\n", 
                "                                            self.AppendedNodeCollectionStr is Commandome\n", 
                "                                            self.AppendedNodeKeyStr is 1\n", 
                "                                            \n", 
                "                                            xxxxxxxxxxxxxxxxxxxxxxxxxxxxxxxxxxxxxxxxxxxxxxxxxxxxxxxxxxxxxxxxxxxxxxxxxxxxxxxxxxxxxxxxxxxx\n", 
                "                                                                                        \n", 
                "\n", 
                "\n", 
                "*****Start of the Attest *****\n", 
                "\n", 
                "MyFirstCommander is < (CommanderClass), 4556355984>\n", 
                "   /{ \n", 
                "   /  '<New><Instance>CommandomeCollectionOrderedDict' : \n", 
                "   /   /{ \n", 
                "   /   /  '0' : < (CommanderClass), 4556355088>\n", 
                "   /   /   /{ \n", 
                "   /   /   /  '<New><Instance>IdInt' : 4556355088\n", 
                "   /   /   /  '<New><Instance>MyCountingInt' : 3\n", 
                "   /   /   /  '<New><Instance>NodeCollectionStr' : Commandome\n", 
                "   /   /   /  '<New><Instance>NodeIndexInt' : 0\n", 
                "   /   /   /  '<New><Instance>NodeKeyStr' : 0\n", 
                "   /   /   /  '<New><Instance>NodePointDeriveNoder' : {...}< (CommanderClass), 4556355984>\n", 
                "   /   /   /  '<New><Instance>NodePointOrderedDict' : {...}< (OrderedDict), 4556379080>\n", 
                "   /   /   /  '<Spe><Class>CommandingGatherIsBool' : True\n", 
                "   /   /   /  '<Spe><Class>CommandingOrderStr' : AllSetsForEach\n", 
                "   /   /   /}\n", 
                "   /   /  '1' : < (CommanderClass), 4555534736>\n", 
                "   /   /   /{ \n", 
                "   /   /   /  '<New><Instance>IdInt' : 4555534736\n", 
                "   /   /   /  '<New><Instance>MyCountingInt' : 5\n", 
                "   /   /   /  '<New><Instance>NodeCollectionStr' : Commandome\n", 
                "   /   /   /  '<New><Instance>NodeIndexInt' : 1\n", 
                "   /   /   /  '<New><Instance>NodeKeyStr' : 1\n", 
                "   /   /   /  '<New><Instance>NodePointDeriveNoder' : {...}< (CommanderClass), 4556355984>\n", 
                "   /   /   /  '<New><Instance>NodePointOrderedDict' : {...}< (OrderedDict), 4556379080>\n", 
                "   /   /   /  '<Spe><Class>CommandingGatherIsBool' : True\n", 
                "   /   /   /  '<Spe><Class>CommandingOrderStr' : AllSetsForEach\n", 
                "   /   /   /}\n", 
                "   /   /}\n", 
                "   /  '<New><Instance>IdInt' : 4556355984\n", 
                "   /  '<New><Instance>MyCountingInt' : 1\n", 
                "   /  '<New><Instance>NodeCollectionStr' : Globals\n", 
                "   /  '<New><Instance>NodeIndexInt' : -1\n", 
                "   /  '<New><Instance>NodeKeyStr' : TopCommander\n", 
                "   /  '<New><Instance>NodePointDeriveNoder' : None\n", 
                "   /  '<New><Instance>NodePointOrderedDict' : None\n", 
                "   /  '<Spe><Class>CommandingGatherIsBool' : True\n", 
                "   /  '<Spe><Class>CommandingOrderStr' : AllSetsForEach\n", 
                "   /}\n", 
                "\n", 
                "------\n", 
                "\n", 
                "MySecondCommander is < (CommanderClass), 4555535056>\n", 
                "   /{ \n", 
                "   /  '<New><Instance>CommandomeCollectionOrderedDict' : \n", 
                "   /   /{ \n", 
                "   /   /  '0' : < (CommanderClass), 4555535824>\n", 
                "   /   /   /{ \n", 
                "   /   /   /  '<New><Instance>IdInt' : 4555535824\n", 
                "   /   /   /  '<New><Instance>MyCountingInt' : 4\n", 
                "   /   /   /  '<New><Instance>NodeCollectionStr' : Commandome\n", 
                "   /   /   /  '<New><Instance>NodeIndexInt' : 0\n", 
                "   /   /   /  '<New><Instance>NodeKeyStr' : 0\n", 
                "   /   /   /  '<New><Instance>NodePointDeriveNoder' : {...}< (CommanderClass), 4555535056>\n", 
                "   /   /   /  '<New><Instance>NodePointOrderedDict' : {...}< (OrderedDict), 4556379376>\n", 
                "   /   /   /  '<Spe><Class>CommandingGatherIsBool' : True\n", 
                "   /   /   /  '<Spe><Class>CommandingOrderStr' : AllSetsForEach\n", 
                "   /   /   /}\n", 
                "   /   /  '1' : < (CommanderClass), 4555535568>\n", 
                "   /   /   /{ \n", 
                "   /   /   /  '<New><Instance>IdInt' : 4555535568\n", 
                "   /   /   /  '<New><Instance>MyCountingInt' : 5\n", 
                "   /   /   /  '<New><Instance>NodeCollectionStr' : Commandome\n", 
                "   /   /   /  '<New><Instance>NodeIndexInt' : 1\n", 
                "   /   /   /  '<New><Instance>NodeKeyStr' : 1\n", 
                "   /   /   /  '<New><Instance>NodePointDeriveNoder' : {...}< (CommanderClass), 4555535056>\n", 
                "   /   /   /  '<New><Instance>NodePointOrderedDict' : {...}< (OrderedDict), 4556379376>\n", 
                "   /   /   /  '<Spe><Class>CommandingGatherIsBool' : True\n", 
                "   /   /   /  '<Spe><Class>CommandingOrderStr' : AllSetsForEach\n", 
                "   /   /   /}\n", 
                "   /   /}\n", 
                "   /  '<New><Instance>IdInt' : 4555535056\n", 
                "   /  '<New><Instance>MyCountingInt' : 3\n", 
                "   /  '<New><Instance>NodeCollectionStr' : Globals\n", 
                "   /  '<New><Instance>NodeIndexInt' : -1\n", 
                "   /  '<New><Instance>NodeKeyStr' : TopCommander\n", 
                "   /  '<New><Instance>NodePointDeriveNoder' : None\n", 
                "   /  '<New><Instance>NodePointOrderedDict' : None\n", 
                "   /  '<Spe><Class>CommandingGatherIsBool' : True\n", 
                "   /  '<Spe><Instance>CommandingOrderStr' : EachSetForAll\n", 
                "   /}\n", 
                "\n", 
                "*****End of the Attest *****\n", 
                "\n", 
                "\n"
              ]
            }
          ], 
          "collapsed": false, 
          "metadata": {
            "slideshow": {
              "slide_type": "-"
            }
          }
        }, 
        {
          "source": "\n<!--\nFrozenIsBool False\n-->\n\n#Poker\n\n##Doc\n----\n\n\n> \n> Poker instances\n> \n> \n\n----\n\n<small>\nView the Poker notebook on [NbViewer](http://nbviewer.ipython.org/url/shareyoursystem.ouvaton.org/Poker.ipynb)\n</small>\n\n", 
          "cell_type": "markdown", 
          "prompt_number": 41, 
          "metadata": {
            "slideshow": {
              "slide_type": "slide"
            }
          }
        }, 
        {
          "source": "\n<!--\nFrozenIsBool False\n-->\n\n##Code\n\n----\n\n<ClassDocStr>\n\n----\n\n```python\n# -*- coding: utf-8 -*-\n\"\"\"\n\n<DefineSource>\n@Date : Fri Nov 14 13:20:38 2014 \\n\n@Author : Erwan Ledoux \\n\\n\n</DefineSource>\n\n\nPoker instances\n\n\"\"\"\n\n#<DefineAugmentation>\nimport ShareYourSystem as SYS\nBaseModuleStr=\"ShareYourSystem.Walkers.Grabber\"\nDecorationModuleStr=\"ShareYourSystem.Classors.Classer\"\nSYS.setSubModule(globals())\n#</DefineAugmentation>\n\n#<ImportSpecificModules>\n#</ImportSpecificModules>\n\n#<DefineClass>\n@DecorationClass()\nclass PokerClass(BaseClass):\n\t\n\t#Definition\n\tRepresentingKeyStrsList=[\t\n\t\t\t\t\t\t\t\t\t'PokingNodeStr',\n\t\t\t\t\t\t\t\t\t'PokingGetStrsList'\n\t\t\t\t\t\t\t\t]\n\n\t#@Hooker.HookerClass(**{'HookingAfterVariablesList':[{'CallingVariable':BaseClass.__init__}]})\n\tdef default_init(self,\n\t\t\t\t\t\t_PokingNodeStr=\"\",\n\t\t\t\t\t\t_PokingGetStrsList=None,\n\t\t\t\t\t\t**_KwargVariablesDict\n\t\t\t\t\t):\n\n\t\t#Call the parent init method\n\t\tBaseClass.__init__(self,**_KwargVariablesDict)\n\n\t#@Hooker.HookerClass(**{'HookingAfterVariablesList':[{'CallingVariable':Joiner.JoinerClass.model}]})\n\t#@Argumenter.ArgumenterClass()\n\tdef do_poke(self):\n\t\t\n\t\t#debug\n\t\t'''\n\t\tself.debug(('self.',self,['PokingNodeStr','PokingGetStrsList']))\n\t\t'''\n\t\t\n\t\t#Apply __getitem__\n\t\tself.map('couple',map(\n\t\t\t\t\t\t\t\t\tlambda __PokingGetStr:\n\t\t\t\t\t\t\t\t\t{\n\t\t\t\t\t\t\t\t\t\t'LiargVariablesList':\n\t\t\t\t\t\t\t\t\t\t[\n\t\t\t\t\t\t\t\t\t\t\tself.PokingNodeStr,\n\t\t\t\t\t\t\t\t\t\t\t__PokingGetStr\n\t\t\t\t\t\t\t\t\t\t]\n\t\t\t\t\t\t\t\t\t},\n\t\t\t\t\t\t\t\t\tself.PokingGetStrsList\n\t\t\t\t\t\t\t\t)\n\t\t\t\t\t)\n\n\t\t#Return self\n\t\t#return self\n\n#</DefineClass>\n\n\n```\n\n<small>\nView the Poker sources on <a href=\"https://github.com/Ledoux/ShareYourSystem/tree/master/Pythonlogy/ShareYourSystem/Applyiers/Poker\" target=\"_blank\">Github</a>\n</small>\n\n", 
          "cell_type": "markdown", 
          "prompt_number": 42, 
          "metadata": {
            "slideshow": {
              "slide_type": "subslide"
            }
          }
        }, 
        {
          "cell_type": "code", 
          "prompt_number": 43, 
          "language": "python", 
          "input": [
            "\n", 
            "#ImportModules\n", 
            "import ShareYourSystem as SYS\n", 
            "from ShareYourSystem.Applyiers import Poker\n", 
            "\n", 
            "#push\n", 
            "MyPoker=Poker.PokerClass().push(\n", 
            "    [\n", 
            "        [\n", 
            "            'FirstChild',\n", 
            "            Poker.PokerClass()\n", 
            "        ],\n", 
            "        [\n", 
            "            'SecondChild',\n", 
            "            Poker.PokerClass()\n", 
            "        ],\n", 
            "        [\n", 
            "            'ThirdChild',\n", 
            "            Poker.PokerClass()\n", 
            "        ]\n", 
            "    ],\n", 
            "    **{'CollectingCollectionStr':\"Pokome\"}\n", 
            ")\n", 
            "\n", 
            "\n", 
            "MyPoker['<Pokome>ThirdChildPoker'].poke(\n", 
            "        'Relatome',\n", 
            "        [\n", 
            "            '/NodePointDeriveNoder/<Pokome>FirstChildPoker',\n", 
            "            '/NodePointDeriveNoder/<Pokome>SecondChildPoker'\n", 
            "        ]\n", 
            "    )\n", 
            "\n", 
            "#Definition the AttestedStr\n", 
            "SYS._attest(\n", 
            "    [\n", 
            "        'MyPoker is '+SYS._str(\n", 
            "        MyPoker,\n", 
            "        **{\n", 
            "            'RepresentingBaseKeyStrsListBool':False,\n", 
            "            'RepresentingAlineaIsBool':False\n", 
            "        }\n", 
            "        )\n", 
            "    ]\n", 
            ") \n", 
            "\n", 
            "#Print\n", 
            "\n", 
            "\n"
          ], 
          "outputs": [
            {
              "output_type": "stream", 
              "stream": "stdout", 
              "text": [
                "\n", 
                "\n", 
                "*****Start of the Attest *****\n", 
                "\n", 
                "MyPoker is < (PokerClass), 4555537552>\n", 
                "   /{ \n", 
                "   /  '<New><Instance>IdInt' : 4555537552\n", 
                "   /  '<New><Instance>NodeCollectionStr' : Globals\n", 
                "   /  '<New><Instance>NodeIndexInt' : -1\n", 
                "   /  '<New><Instance>NodeKeyStr' : TopPoker\n", 
                "   /  '<New><Instance>NodePointDeriveNoder' : None\n", 
                "   /  '<New><Instance>NodePointOrderedDict' : None\n", 
                "   /  '<New><Instance>PokomeCollectionOrderedDict' : \n", 
                "   /   /{ \n", 
                "   /   /  'FirstChildPoker' : < (PokerClass), 4555536528>\n", 
                "   /   /   /{ \n", 
                "   /   /   /  '<New><Instance>IdInt' : 4555536528\n", 
                "   /   /   /  '<New><Instance>NodeCollectionStr' : Pokome\n", 
                "   /   /   /  '<New><Instance>NodeIndexInt' : 0\n", 
                "   /   /   /  '<New><Instance>NodeKeyStr' : FirstChildPoker\n", 
                "   /   /   /  '<New><Instance>NodePointDeriveNoder' : {...}< (PokerClass), 4555537552>\n", 
                "   /   /   /  '<New><Instance>NodePointOrderedDict' : {...}< (OrderedDict), 4556379672>\n", 
                "   /   /   /  '<Spe><Class>PokingGetStrsList' : None\n", 
                "   /   /   /  '<Spe><Class>PokingNodeStr' : \n", 
                "   /   /   /}\n", 
                "   /   /  'SecondChildPoker' : < (PokerClass), 4555534608>\n", 
                "   /   /   /{ \n", 
                "   /   /   /  '<New><Instance>IdInt' : 4555534608\n", 
                "   /   /   /  '<New><Instance>NodeCollectionStr' : Pokome\n", 
                "   /   /   /  '<New><Instance>NodeIndexInt' : 1\n", 
                "   /   /   /  '<New><Instance>NodeKeyStr' : SecondChildPoker\n", 
                "   /   /   /  '<New><Instance>NodePointDeriveNoder' : {...}< (PokerClass), 4555537552>\n", 
                "   /   /   /  '<New><Instance>NodePointOrderedDict' : {...}< (OrderedDict), 4556379672>\n", 
                "   /   /   /  '<Spe><Class>PokingGetStrsList' : None\n", 
                "   /   /   /  '<Spe><Class>PokingNodeStr' : \n", 
                "   /   /   /}\n", 
                "   /   /  'ThirdChildPoker' : < (PokerClass), 4555536400>\n", 
                "   /   /   /{ \n", 
                "   /   /   /  '<New><Instance>IdInt' : 4555536400\n", 
                "   /   /   /  '<New><Instance>NodeCollectionStr' : Pokome\n", 
                "   /   /   /  '<New><Instance>NodeIndexInt' : 2\n", 
                "   /   /   /  '<New><Instance>NodeKeyStr' : ThirdChildPoker\n", 
                "   /   /   /  '<New><Instance>NodePointDeriveNoder' : {...}< (PokerClass), 4555537552>\n", 
                "   /   /   /  '<New><Instance>NodePointOrderedDict' : {...}< (OrderedDict), 4556379672>\n", 
                "   /   /   /  '<Spe><Instance>PokingGetStrsList' : ['/NodePointDeriveNoder/<Pokome>FirstChildPoker', '/NodePointDeriveNoder/<Pokome>SecondChildPoker']\n", 
                "   /   /   /  '<Spe><Instance>PokingNodeStr' : Relatome\n", 
                "   /   /   /}\n", 
                "   /   /}\n", 
                "   /  '<Spe><Class>PokingGetStrsList' : None\n", 
                "   /  '<Spe><Class>PokingNodeStr' : \n", 
                "   /}\n", 
                "\n", 
                "*****End of the Attest *****\n", 
                "\n", 
                "\n"
              ]
            }
          ], 
          "collapsed": false, 
          "metadata": {
            "slideshow": {
              "slide_type": "subslide"
            }
          }
        }
      ]
    }
  ], 
  "metadata": {
    "name": "", 
    "signature": ""
  }, 
  "nbformat_minor": 0
}