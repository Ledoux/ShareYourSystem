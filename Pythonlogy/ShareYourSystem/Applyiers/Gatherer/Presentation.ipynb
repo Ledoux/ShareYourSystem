{
  "nbformat": 3, 
  "worksheets": [
    {
      "cells": [
        {
          "source": "\n<!--\nFrozenIsBool False\n-->\n\n#Gatherer\n\n##Doc\n----\n\n\n> \n> A Gatherer is able to pick several times and flat all the results in a one dimension of ItemTuplesList\n> \n> \n\n----\n\n<small>\nView the Gatherer notebook on [NbViewer](http://nbviewer.ipython.org/url/shareyoursystem.ouvaton.org/Gatherer.ipynb)\n</small>\n\n", 
          "cell_type": "markdown", 
          "prompt_number": 0, 
          "metadata": {
            "slideshow": {
              "slide_type": "slide"
            }
          }
        }, 
        {
          "source": "\n<!--\nFrozenIsBool False\n-->\n\nView the Gatherer sources on [Github](https://github.com/Ledoux/ShareYourSystem/tree/master/ShareYourSystem/Applyiers/Installer)\n\n", 
          "cell_type": "markdown", 
          "prompt_number": 1, 
          "metadata": {
            "slideshow": {
              "slide_type": "subslide"
            }
          }
        }, 
        {
          "source": "\n<!---\nFrozenIsBool True\n-->\n\n##Example\n\nLet's create an empty class, which will automatically receive\nspecial attributes from the decorating ClassorClass,\nspecially the NameStr, that should be the ClassStr\nwithout the TypeStr in the end.", 
          "cell_type": "markdown", 
          "prompt_number": 2, 
          "metadata": {
            "slideshow": {
              "slide_type": "subslide"
            }
          }
        }, 
        {
          "cell_type": "code", 
          "prompt_number": 3, 
          "language": "python", 
          "input": [
            "#ImportModules\n", 
            "import ShareYourSystem as SYS\n", 
            "from ShareYourSystem.Applyiers import Gatherer\n", 
            "\n", 
            "#Definition a Gatherer\n", 
            "MyGatherer=Gatherer.GathererClass().map('__setitem__',map(\n", 
            "        lambda __ItemTuple:\n", 
            "        {'LiargVariablesList':__ItemTuple},\n", 
            "        [\n", 
            "            ('MyInt',0),\n", 
            "            ('FirstChildGatherer',Gatherer.GathererClass().__setitem__(\n", 
            "                    'MyStr',\n", 
            "                    \"bonjour\"\n", 
            "                    )\n", 
            "            ),\n", 
            "            ('SecondChildGatherer',Gatherer.GathererClass().__setitem__(\n", 
            "                    'MyStr',\n", 
            "                    \"hello\"\n", 
            "                    )\n", 
            "            )\n", 
            "        ]\n", 
            "    )\n", 
            ")\n", 
            "\n", 
            "#Map some gets\n", 
            "GatheredVariablesList=MyGatherer.gather(\n", 
            "                            [\n", 
            "                                ['MyInt'],\n", 
            "                                ['/FirstChildGatherer/MyStr','/SecondChildGatherer/MyStr']\n", 
            "                            ]\n", 
            "                        )\n", 
            "    \n", 
            "#Definition the AttestedStr\n", 
            "SYS._attest(\n", 
            "    [\n", 
            "        'GatheredVariablesList is '+SYS._str(\n", 
            "            GatheredVariablesList\n", 
            "            ,**{\n", 
            "                    'RepresentingBaseKeyStrsListBool':False,\n", 
            "                    'RepresentingAlineaIsBool':False\n", 
            "            }\n", 
            "        )\n", 
            "    ]\n", 
            ") \n", 
            "\n", 
            "#Print\n", 
            "\n", 
            "\n"
          ], 
          "outputs": [
            {
              "output_type": "stream", 
              "stream": "stdout", 
              "text": [
                "\n", 
                "\n", 
                "*****Start of the Attest *****\n", 
                "\n", 
                "GatheredVariablesList is \n", 
                "   /[\n", 
                "   /  0 : ('MyInt', 0)\n", 
                "   /  1 : ('/FirstChildGatherer/MyStr', 'bonjour')\n", 
                "   /  2 : ('/SecondChildGatherer/MyStr', 'hello')\n", 
                "   /]\n", 
                "\n", 
                "*****End of the Attest *****\n", 
                "\n", 
                "\n"
              ]
            }
          ], 
          "collapsed": false, 
          "metadata": {
            "slideshow": {
              "slide_type": "-"
            }
          }
        }
      ]
    }
  ], 
  "metadata": {
    "name": "", 
    "signature": ""
  }, 
  "nbformat_minor": 0
}