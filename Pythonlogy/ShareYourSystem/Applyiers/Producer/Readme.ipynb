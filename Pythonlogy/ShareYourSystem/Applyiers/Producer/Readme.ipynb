{
  "nbformat": 3, 
  "worksheets": [
    {
      "cells": [
        {
          "source": "\n<!--\nFrozenIsBool False\n-->\n\nView the Producer sources on [Github](https://github.com/Ledoux/ShareYourSystem/tree/master/ShareYourSystem/Applyiers/Installer)\n\n", 
          "cell_type": "markdown", 
          "prompt_number": 0, 
          "metadata": {
            "slideshow": {
              "slide_type": "slide"
            }
          }
        }, 
        {
          "source": "```python\n\n#ImportModules\nimport ShareYourSystem as SYS\nfrom ShareYourSystem.Noders import Noder\nfrom ShareYourSystem.Applyiers import Producer\n\n#produce\nMyProducer=Producer.ProducerClass().produce(\n        ['First','Second'],\n        Noder.NoderClass,\n        {'MyInt':0},\n        **{'CollectingCollectionStr':'Nodome'}\n    )\n\n#Definition the AttestedStr\nSYS._attest(\n    [\n        'MyProducer is '+SYS._str(\n        MyProducer,\n        **{\n            'RepresentingBaseKeyStrsListBool':False,\n            'RepresentingAlineaIsBool':False\n        }\n        )\n    ]\n) \n\n#Print\n\n\n\n```\n", 
          "cell_type": "markdown", 
          "metadata": {}
        }, 
        {
          "source": "```console\n>>>\n\n\n*****Start of the Attest *****\n\nMyProducer is < (ProducerClass), 4550184336>\n   /{ \n   /  '<New><Instance>IdInt' : 4550184336\n   /  '<New><Instance>NodeCollectionStr' : Globals\n   /  '<New><Instance>NodeIndexInt' : -1\n   /  '<New><Instance>NodeKeyStr' : TopProducer\n   /  '<New><Instance>NodePointDeriveNoder' : None\n   /  '<New><Instance>NodePointOrderedDict' : None\n   /  '<New><Instance>NodomeCollectionOrderedDict' : \n   /   /{ \n   /   /  'FirstNoder' : < (NoderClass), 4550226448>\n   /   /   /{ \n   /   /   /  '<New><Instance>IdInt' : 4550226448\n   /   /   /  '<New><Instance>MyInt' : 0\n   /   /   /  '<New><Instance>NodeCollectionStr' : Nodome\n   /   /   /  '<New><Instance>NodeIndexInt' : 0\n   /   /   /  '<New><Instance>NodeKeyStr' : FirstNoder\n   /   /   /  '<New><Instance>NodePointDeriveNoder' : {...}< (ProducerClass), 4550184336>\n   /   /   /  '<New><Instance>NodePointOrderedDict' : {...}< (OrderedDict), 4550019472>\n   /   /   /  '<Spe><Class>NodedCollectionIndexInt' : -1\n   /   /   /  '<Spe><Class>NodedCollectionOrderedDict' : None\n   /   /   /  '<Spe><Class>NodedCollectionStr' : \n   /   /   /  '<Spe><Class>NodedKeyStr' : \n   /   /   /  '<Spe><Class>NodingCollectionStr' : \n   /   /   /}\n   /   /  'SecondNoder' : < (NoderClass), 4550226640>\n   /   /   /{ \n   /   /   /  '<New><Instance>IdInt' : 4550226640\n   /   /   /  '<New><Instance>MyInt' : 0\n   /   /   /  '<New><Instance>NodeCollectionStr' : Nodome\n   /   /   /  '<New><Instance>NodeIndexInt' : 1\n   /   /   /  '<New><Instance>NodeKeyStr' : SecondNoder\n   /   /   /  '<New><Instance>NodePointDeriveNoder' : {...}< (ProducerClass), 4550184336>\n   /   /   /  '<New><Instance>NodePointOrderedDict' : {...}< (OrderedDict), 4550019472>\n   /   /   /  '<Spe><Class>NodedCollectionIndexInt' : -1\n   /   /   /  '<Spe><Class>NodedCollectionOrderedDict' : None\n   /   /   /  '<Spe><Class>NodedCollectionStr' : \n   /   /   /  '<Spe><Class>NodedKeyStr' : \n   /   /   /  '<Spe><Class>NodingCollectionStr' : \n   /   /   /}\n   /   /}\n   /  '<Spe><Instance>ProducedPushList' : \n   /   /[\n   /   /  0 : \n   /   /   /[\n   /   /   /  0 : First\n   /   /   /  1 : {...}< (NoderClass), 4550226448>\n   /   /   /]\n   /   /  1 : \n   /   /   /[\n   /   /   /  0 : Second\n   /   /   /  1 : {...}< (NoderClass), 4550226640>\n   /   /   /]\n   /   /]\n   /  '<Spe><Instance>ProducingCollectionKeyStrsList' : ['First', 'Second']\n   /  '<Spe><Instance>ProducingPushClass' : <class 'ShareYourSystem.Noders.Noder.NoderClass'>\n   /  '<Spe><Instance>ProducingUpdateVariable' : \n   /   /{ \n   /   /  'MyInt' : 0\n   /   /}\n   /}\n\n*****End of the Attest *****\n\n\n\n```\n", 
          "cell_type": "markdown", 
          "metadata": {}
        }
      ]
    }
  ], 
  "metadata": {
    "name": "", 
    "signature": ""
  }, 
  "nbformat_minor": 0
}