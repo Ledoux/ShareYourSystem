{
  "nbformat": 3, 
  "worksheets": [
    {
      "cells": [
        {
          "source": "\n<!--\nFrozenIsBool False\n-->\n\nView the Pusher sources on [Github](https://github.com/Ledoux/ShareYourSystem/tree/master/ShareYourSystem/Applyiers/Installer)\n\n", 
          "cell_type": "markdown", 
          "prompt_number": 0, 
          "metadata": {
            "slideshow": {
              "slide_type": "slide"
            }
          }
        }, 
        {
          "source": "```python\n\n#ImportModules\nimport ShareYourSystem as SYS\nfrom ShareYourSystem.Applyiers import Pusher\n\n#push\nMyPusher=Pusher.PusherClass().push(\n    [\n        [\n            'FirstChild',\n            Pusher.PusherClass().__setitem__('MyInt',0)\n        ],\n        [\n            'SecondChild',\n            Pusher.PusherClass()\n        ]\n    ],\n    **{'CollectingCollectionStr':'Pushome'}\n)\n\n#Definition the AttestedStr\nSYS._attest(\n    [\n        'MyPusher is '+SYS._str(\n        MyPusher,\n        **{\n            'RepresentingBaseKeyStrsListBool':False,\n            'RepresentingAlineaIsBool':False\n        }\n        )\n    ]\n) \n\n\n\n```\n", 
          "cell_type": "markdown", 
          "metadata": {}
        }, 
        {
          "source": "```console\n>>>\n\n\n*****Start of the Attest *****\n\nMyPusher is < (PusherClass), 4549922128>\n   /{ \n   /  '<New><Instance>IdInt' : 4549922128\n   /  '<New><Instance>NodeCollectionStr' : Globals\n   /  '<New><Instance>NodeIndexInt' : -1\n   /  '<New><Instance>NodeKeyStr' : TopPusher\n   /  '<New><Instance>NodePointDeriveNoder' : None\n   /  '<New><Instance>NodePointOrderedDict' : None\n   /  '<New><Instance>PushomeCollectionOrderedDict' : \n   /   /{ \n   /   /  'FirstChildPusher' : < (PusherClass), 4550182608>\n   /   /   /{ \n   /   /   /  '<New><Instance>IdInt' : 4550182608\n   /   /   /  '<New><Instance>MyInt' : 0\n   /   /   /  '<New><Instance>NodeCollectionStr' : Pushome\n   /   /   /  '<New><Instance>NodeIndexInt' : 0\n   /   /   /  '<New><Instance>NodeKeyStr' : FirstChildPusher\n   /   /   /  '<New><Instance>NodePointDeriveNoder' : {...}< (PusherClass), 4549922128>\n   /   /   /  '<New><Instance>NodePointOrderedDict' : {...}< (OrderedDict), 4550146744>\n   /   /   /  '<Spe><Class>PushingStoreListsList' : None\n   /   /   /}\n   /   /  'SecondChildPusher' : < (PusherClass), 4550182736>\n   /   /   /{ \n   /   /   /  '<New><Instance>IdInt' : 4550182736\n   /   /   /  '<New><Instance>NodeCollectionStr' : Pushome\n   /   /   /  '<New><Instance>NodeIndexInt' : 1\n   /   /   /  '<New><Instance>NodeKeyStr' : SecondChildPusher\n   /   /   /  '<New><Instance>NodePointDeriveNoder' : {...}< (PusherClass), 4549922128>\n   /   /   /  '<New><Instance>NodePointOrderedDict' : {...}< (OrderedDict), 4550146744>\n   /   /   /  '<Spe><Class>PushingStoreListsList' : None\n   /   /   /}\n   /   /}\n   /  '<Spe><Instance>PushingStoreListsList' : \n   /   /[\n   /   /  0 : \n   /   /   /[\n   /   /   /  0 : FirstChild\n   /   /   /  1 : {...}< (PusherClass), 4550182608>\n   /   /   /]\n   /   /  1 : \n   /   /   /[\n   /   /   /  0 : SecondChild\n   /   /   /  1 : {...}< (PusherClass), 4550182736>\n   /   /   /]\n   /   /]\n   /}\n\n*****End of the Attest *****\n\n\n\n```\n", 
          "cell_type": "markdown", 
          "metadata": {}
        }
      ]
    }
  ], 
  "metadata": {
    "name": "", 
    "signature": ""
  }, 
  "nbformat_minor": 0
}