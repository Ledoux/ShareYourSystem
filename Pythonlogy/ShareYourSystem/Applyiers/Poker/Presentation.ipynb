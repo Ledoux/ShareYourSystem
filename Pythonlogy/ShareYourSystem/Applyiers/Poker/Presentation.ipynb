{
  "nbformat": 3, 
  "worksheets": [
    {
      "cells": [
        {
          "source": "\n<!--\nFrozenIsBool False\n-->\n\n#Poker\n\n##Doc\n----\n\n\n> \n> Poker instances\n> \n> \n\n----\n\n<small>\nView the Poker notebook on [NbViewer](http://nbviewer.ipython.org/url/shareyoursystem.ouvaton.org/Poker.ipynb)\n</small>\n\n", 
          "cell_type": "markdown", 
          "prompt_number": 0, 
          "metadata": {
            "slideshow": {
              "slide_type": "slide"
            }
          }
        }, 
        {
          "source": "\n<!--\nFrozenIsBool False\n-->\n\nView the Poker sources on [Github](https://github.com/Ledoux/ShareYourSystem/tree/master/ShareYourSystem/Applyiers/Installer)\n\n", 
          "cell_type": "markdown", 
          "prompt_number": 1, 
          "metadata": {
            "slideshow": {
              "slide_type": "subslide"
            }
          }
        }, 
        {
          "cell_type": "code", 
          "prompt_number": 2, 
          "language": "python", 
          "input": [
            "\n", 
            "#ImportModules\n", 
            "import ShareYourSystem as SYS\n", 
            "from ShareYourSystem.Applyiers import Poker\n", 
            "\n", 
            "#push\n", 
            "MyPoker=Poker.PokerClass().push(\n", 
            "    [\n", 
            "        [\n", 
            "            'FirstChild',\n", 
            "            Poker.PokerClass()\n", 
            "        ],\n", 
            "        [\n", 
            "            'SecondChild',\n", 
            "            Poker.PokerClass()\n", 
            "        ],\n", 
            "        [\n", 
            "            'ThirdChild',\n", 
            "            Poker.PokerClass()\n", 
            "        ]\n", 
            "    ],\n", 
            "    **{'CollectingCollectionStr':\"Pokome\"}\n", 
            ")\n", 
            "\n", 
            "\n", 
            "MyPoker['<Pokome>ThirdChildPoker'].poke(\n", 
            "        'Relatome',\n", 
            "        [\n", 
            "            '/NodePointDeriveNoder/<Pokome>FirstChildPoker',\n", 
            "            '/NodePointDeriveNoder/<Pokome>SecondChildPoker'\n", 
            "        ]\n", 
            "    )\n", 
            "\n", 
            "#Definition the AttestedStr\n", 
            "SYS._attest(\n", 
            "    [\n", 
            "        'MyPoker is '+SYS._str(\n", 
            "        MyPoker,\n", 
            "        **{\n", 
            "            'RepresentingBaseKeyStrsListBool':False,\n", 
            "            'RepresentingAlineaIsBool':False\n", 
            "        }\n", 
            "        )\n", 
            "    ]\n", 
            ") \n", 
            "\n", 
            "#Print\n", 
            "\n", 
            "\n"
          ], 
          "outputs": [
            {
              "output_type": "stream", 
              "stream": "stdout", 
              "text": [
                "\n", 
                "\n", 
                "*****Start of the Attest *****\n", 
                "\n", 
                "MyPoker is < (PokerClass), 4550567952>\n", 
                "   /{ \n", 
                "   /  '<New><Instance>IdInt' : 4550567952\n", 
                "   /  '<New><Instance>NodeCollectionStr' : Globals\n", 
                "   /  '<New><Instance>NodeIndexInt' : -1\n", 
                "   /  '<New><Instance>NodeKeyStr' : TopPoker\n", 
                "   /  '<New><Instance>NodePointDeriveNoder' : None\n", 
                "   /  '<New><Instance>NodePointOrderedDict' : None\n", 
                "   /  '<New><Instance>PokomeCollectionOrderedDict' : \n", 
                "   /   /{ \n", 
                "   /   /  'FirstChildPoker' : < (PokerClass), 4550568784>\n", 
                "   /   /   /{ \n", 
                "   /   /   /  '<New><Instance>IdInt' : 4550568784\n", 
                "   /   /   /  '<New><Instance>NodeCollectionStr' : Pokome\n", 
                "   /   /   /  '<New><Instance>NodeIndexInt' : 0\n", 
                "   /   /   /  '<New><Instance>NodeKeyStr' : FirstChildPoker\n", 
                "   /   /   /  '<New><Instance>NodePointDeriveNoder' : {...}< (PokerClass), 4550567952>\n", 
                "   /   /   /  '<New><Instance>NodePointOrderedDict' : {...}< (OrderedDict), 4550550472>\n", 
                "   /   /   /  '<Spe><Class>PokingGetStrsList' : None\n", 
                "   /   /   /  '<Spe><Class>PokingNodeStr' : \n", 
                "   /   /   /}\n", 
                "   /   /  'SecondChildPoker' : < (PokerClass), 4550568464>\n", 
                "   /   /   /{ \n", 
                "   /   /   /  '<New><Instance>IdInt' : 4550568464\n", 
                "   /   /   /  '<New><Instance>NodeCollectionStr' : Pokome\n", 
                "   /   /   /  '<New><Instance>NodeIndexInt' : 1\n", 
                "   /   /   /  '<New><Instance>NodeKeyStr' : SecondChildPoker\n", 
                "   /   /   /  '<New><Instance>NodePointDeriveNoder' : {...}< (PokerClass), 4550567952>\n", 
                "   /   /   /  '<New><Instance>NodePointOrderedDict' : {...}< (OrderedDict), 4550550472>\n", 
                "   /   /   /  '<Spe><Class>PokingGetStrsList' : None\n", 
                "   /   /   /  '<Spe><Class>PokingNodeStr' : \n", 
                "   /   /   /}\n", 
                "   /   /  'ThirdChildPoker' : < (PokerClass), 4550568656>\n", 
                "   /   /   /{ \n", 
                "   /   /   /  '<New><Instance>IdInt' : 4550568656\n", 
                "   /   /   /  '<New><Instance>NodeCollectionStr' : Pokome\n", 
                "   /   /   /  '<New><Instance>NodeIndexInt' : 2\n", 
                "   /   /   /  '<New><Instance>NodeKeyStr' : ThirdChildPoker\n", 
                "   /   /   /  '<New><Instance>NodePointDeriveNoder' : {...}< (PokerClass), 4550567952>\n", 
                "   /   /   /  '<New><Instance>NodePointOrderedDict' : {...}< (OrderedDict), 4550550472>\n", 
                "   /   /   /  '<Spe><Instance>PokingGetStrsList' : ['/NodePointDeriveNoder/<Pokome>FirstChildPoker', '/NodePointDeriveNoder/<Pokome>SecondChildPoker']\n", 
                "   /   /   /  '<Spe><Instance>PokingNodeStr' : Relatome\n", 
                "   /   /   /}\n", 
                "   /   /}\n", 
                "   /  '<Spe><Class>PokingGetStrsList' : None\n", 
                "   /  '<Spe><Class>PokingNodeStr' : \n", 
                "   /}\n", 
                "\n", 
                "*****End of the Attest *****\n", 
                "\n", 
                "\n"
              ]
            }
          ], 
          "collapsed": false, 
          "metadata": {
            "slideshow": {
              "slide_type": "subslide"
            }
          }
        }
      ]
    }
  ], 
  "metadata": {
    "name": "", 
    "signature": ""
  }, 
  "nbformat_minor": 0
}