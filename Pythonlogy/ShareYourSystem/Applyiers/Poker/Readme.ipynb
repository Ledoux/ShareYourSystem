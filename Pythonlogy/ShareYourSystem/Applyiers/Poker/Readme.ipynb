{
  "nbformat": 3, 
  "worksheets": [
    {
      "cells": [
        {
          "source": "\n<!--\nFrozenIsBool False\n-->\n\nView the Poker sources on [Github](https://github.com/Ledoux/ShareYourSystem/tree/master/ShareYourSystem/Applyiers/Installer)\n\n", 
          "cell_type": "markdown", 
          "prompt_number": 0, 
          "metadata": {
            "slideshow": {
              "slide_type": "slide"
            }
          }
        }, 
        {
          "source": "```python\n\n#ImportModules\nimport ShareYourSystem as SYS\nfrom ShareYourSystem.Applyiers import Poker\n\n#push\nMyPoker=Poker.PokerClass().push(\n    [\n        [\n            'FirstChild',\n            Poker.PokerClass()\n        ],\n        [\n            'SecondChild',\n            Poker.PokerClass()\n        ],\n        [\n            'ThirdChild',\n            Poker.PokerClass()\n        ]\n    ],\n    **{'CollectingCollectionStr':\"Pokome\"}\n)\n\n\nMyPoker['<Pokome>ThirdChildPoker'].poke(\n        'Relatome',\n        [\n            '/NodePointDeriveNoder/<Pokome>FirstChildPoker',\n            '/NodePointDeriveNoder/<Pokome>SecondChildPoker'\n        ]\n    )\n\n#Definition the AttestedStr\nSYS._attest(\n    [\n        'MyPoker is '+SYS._str(\n        MyPoker,\n        **{\n            'RepresentingBaseKeyStrsListBool':False,\n            'RepresentingAlineaIsBool':False\n        }\n        )\n    ]\n) \n\n#Print\n\n\n\n```\n", 
          "cell_type": "markdown", 
          "metadata": {}
        }, 
        {
          "source": "```console\n>>>\n\n\n*****Start of the Attest *****\n\nMyPoker is < (PokerClass), 4550333776>\n   /{ \n   /  '<New><Instance>IdInt' : 4550333776\n   /  '<New><Instance>NodeCollectionStr' : Globals\n   /  '<New><Instance>NodeIndexInt' : -1\n   /  '<New><Instance>NodeKeyStr' : TopPoker\n   /  '<New><Instance>NodePointDeriveNoder' : None\n   /  '<New><Instance>NodePointOrderedDict' : None\n   /  '<New><Instance>PokomeCollectionOrderedDict' : \n   /   /{ \n   /   /  'FirstChildPoker' : < (PokerClass), 4550542032>\n   /   /   /{ \n   /   /   /  '<New><Instance>IdInt' : 4550542032\n   /   /   /  '<New><Instance>NodeCollectionStr' : Pokome\n   /   /   /  '<New><Instance>NodeIndexInt' : 0\n   /   /   /  '<New><Instance>NodeKeyStr' : FirstChildPoker\n   /   /   /  '<New><Instance>NodePointDeriveNoder' : {...}< (PokerClass), 4550333776>\n   /   /   /  '<New><Instance>NodePointOrderedDict' : {...}< (OrderedDict), 4550487600>\n   /   /   /  '<Spe><Class>PokingGetStrsList' : None\n   /   /   /  '<Spe><Class>PokingNodeStr' : \n   /   /   /}\n   /   /  'SecondChildPoker' : < (PokerClass), 4550542160>\n   /   /   /{ \n   /   /   /  '<New><Instance>IdInt' : 4550542160\n   /   /   /  '<New><Instance>NodeCollectionStr' : Pokome\n   /   /   /  '<New><Instance>NodeIndexInt' : 1\n   /   /   /  '<New><Instance>NodeKeyStr' : SecondChildPoker\n   /   /   /  '<New><Instance>NodePointDeriveNoder' : {...}< (PokerClass), 4550333776>\n   /   /   /  '<New><Instance>NodePointOrderedDict' : {...}< (OrderedDict), 4550487600>\n   /   /   /  '<Spe><Class>PokingGetStrsList' : None\n   /   /   /  '<Spe><Class>PokingNodeStr' : \n   /   /   /}\n   /   /  'ThirdChildPoker' : < (PokerClass), 4550542480>\n   /   /   /{ \n   /   /   /  '<New><Instance>IdInt' : 4550542480\n   /   /   /  '<New><Instance>NodeCollectionStr' : Pokome\n   /   /   /  '<New><Instance>NodeIndexInt' : 2\n   /   /   /  '<New><Instance>NodeKeyStr' : ThirdChildPoker\n   /   /   /  '<New><Instance>NodePointDeriveNoder' : {...}< (PokerClass), 4550333776>\n   /   /   /  '<New><Instance>NodePointOrderedDict' : {...}< (OrderedDict), 4550487600>\n   /   /   /  '<Spe><Instance>PokingGetStrsList' : ['/NodePointDeriveNoder/<Pokome>FirstChildPoker', '/NodePointDeriveNoder/<Pokome>SecondChildPoker']\n   /   /   /  '<Spe><Instance>PokingNodeStr' : Relatome\n   /   /   /}\n   /   /}\n   /  '<Spe><Class>PokingGetStrsList' : None\n   /  '<Spe><Class>PokingNodeStr' : \n   /}\n\n*****End of the Attest *****\n\n\n\n```\n", 
          "cell_type": "markdown", 
          "metadata": {}
        }
      ]
    }
  ], 
  "metadata": {
    "name": "", 
    "signature": ""
  }, 
  "nbformat_minor": 0
}