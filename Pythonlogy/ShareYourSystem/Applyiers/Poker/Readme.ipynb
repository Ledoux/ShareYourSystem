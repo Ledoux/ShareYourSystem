{
  "nbformat": 3, 
  "worksheets": [
    {
      "cells": [
        {
          "source": "\n<!--\nFrozenIsBool False\n-->\n\n#Poker\n\n##Doc\n----\n\n\n> \n> Poker instances\n> \n> \n\n----\n\n<small>\nView the Poker notebook on [NbViewer](http://nbviewer.ipython.org/url/shareyoursystem.ouvaton.org/Poker.ipynb)\n</small>\n\n", 
          "cell_type": "markdown", 
          "prompt_number": 0, 
          "metadata": {
            "slideshow": {
              "slide_type": "slide"
            }
          }
        }, 
        {
          "source": "\n<!--\nFrozenIsBool False\n-->\n\n##Code\n\n----\n\n<ClassDocStr>\n\n----\n\n```python\n# -*- coding: utf-8 -*-\n\"\"\"\n\n<DefineSource>\n@Date : Fri Nov 14 13:20:38 2014 \\n\n@Author : Erwan Ledoux \\n\\n\n</DefineSource>\n\n\nPoker instances\n\n\"\"\"\n\n#<DefineAugmentation>\nimport ShareYourSystem as SYS\nBaseModuleStr=\"ShareYourSystem.Walkers.Grabber\"\nDecorationModuleStr=\"ShareYourSystem.Classors.Classer\"\nSYS.setSubModule(globals())\n#</DefineAugmentation>\n\n#<ImportSpecificModules>\n#</ImportSpecificModules>\n\n#<DefineClass>\n@DecorationClass()\nclass PokerClass(BaseClass):\n\t\n\t#Definition\n\tRepresentingKeyStrsList=[\t\n\t\t\t\t\t\t\t\t\t'PokingNodeStr',\n\t\t\t\t\t\t\t\t\t'PokingGetStrsList'\n\t\t\t\t\t\t\t\t]\n\n\t#@Hooker.HookerClass(**{'HookingAfterVariablesList':[{'CallingVariable':BaseClass.__init__}]})\n\tdef default_init(self,\n\t\t\t\t\t\t_PokingNodeStr=\"\",\n\t\t\t\t\t\t_PokingGetStrsList=None,\n\t\t\t\t\t\t**_KwargVariablesDict\n\t\t\t\t\t):\n\n\t\t#Call the parent init method\n\t\tBaseClass.__init__(self,**_KwargVariablesDict)\n\n\t#@Hooker.HookerClass(**{'HookingAfterVariablesList':[{'CallingVariable':Joiner.JoinerClass.model}]})\n\t#@Argumenter.ArgumenterClass()\n\tdef do_poke(self):\n\t\t\n\t\t#debug\n\t\t'''\n\t\tself.debug(('self.',self,['PokingNodeStr','PokingGetStrsList']))\n\t\t'''\n\t\t\n\t\t#Apply __getitem__\n\t\tself.map('couple',map(\n\t\t\t\t\t\t\t\t\tlambda __PokingGetStr:\n\t\t\t\t\t\t\t\t\t{\n\t\t\t\t\t\t\t\t\t\t'LiargVariablesList':\n\t\t\t\t\t\t\t\t\t\t[\n\t\t\t\t\t\t\t\t\t\t\tself.PokingNodeStr,\n\t\t\t\t\t\t\t\t\t\t\t__PokingGetStr\n\t\t\t\t\t\t\t\t\t\t]\n\t\t\t\t\t\t\t\t\t},\n\t\t\t\t\t\t\t\t\tself.PokingGetStrsList\n\t\t\t\t\t\t\t\t)\n\t\t\t\t\t)\n\n\t\t#Return self\n\t\t#return self\n\n#</DefineClass>\n\n\n```\n\n<small>\nView the Poker sources on <a href=\"https://github.com/Ledoux/ShareYourSystem/tree/master/Pythonlogy/ShareYourSystem/Applyiers/Poker\" target=\"_blank\">Github</a>\n</small>\n\n", 
          "cell_type": "markdown", 
          "prompt_number": 1, 
          "metadata": {
            "slideshow": {
              "slide_type": "subslide"
            }
          }
        }, 
        {
          "source": "```python\n\n#ImportModules\nimport ShareYourSystem as SYS\nfrom ShareYourSystem.Applyiers import Poker\n\n#push\nMyPoker=Poker.PokerClass().push(\n    [\n        [\n            'FirstChild',\n            Poker.PokerClass()\n        ],\n        [\n            'SecondChild',\n            Poker.PokerClass()\n        ],\n        [\n            'ThirdChild',\n            Poker.PokerClass()\n        ]\n    ],\n    **{'CollectingCollectionStr':\"Pokome\"}\n)\n\n\nMyPoker['<Pokome>ThirdChildPoker'].poke(\n        'Relatome',\n        [\n            '/NodePointDeriveNoder/<Pokome>FirstChildPoker',\n            '/NodePointDeriveNoder/<Pokome>SecondChildPoker'\n        ]\n    )\n\n#Definition the AttestedStr\nSYS._attest(\n    [\n        'MyPoker is '+SYS._str(\n        MyPoker,\n        **{\n            'RepresentingBaseKeyStrsListBool':False,\n            'RepresentingAlineaIsBool':False\n        }\n        )\n    ]\n) \n\n#Print\n\n\n\n```\n", 
          "cell_type": "markdown", 
          "metadata": {}
        }, 
        {
          "source": "```console\n>>>\n\n\n*****Start of the Attest *****\n\nMyPoker is < (PokerClass), 4555039632>\n   /{ \n   /  '<New><Instance>IdInt' : 4555039632\n   /  '<New><Instance>NodeCollectionStr' : Globals\n   /  '<New><Instance>NodeIndexInt' : -1\n   /  '<New><Instance>NodeKeyStr' : TopPoker\n   /  '<New><Instance>NodePointDeriveNoder' : None\n   /  '<New><Instance>NodePointOrderedDict' : None\n   /  '<New><Instance>PokomeCollectionOrderedDict' : \n   /   /{ \n   /   /  'FirstChildPoker' : < (PokerClass), 4556365072>\n   /   /   /{ \n   /   /   /  '<New><Instance>IdInt' : 4556365072\n   /   /   /  '<New><Instance>NodeCollectionStr' : Pokome\n   /   /   /  '<New><Instance>NodeIndexInt' : 0\n   /   /   /  '<New><Instance>NodeKeyStr' : FirstChildPoker\n   /   /   /  '<New><Instance>NodePointDeriveNoder' : {...}< (PokerClass), 4555039632>\n   /   /   /  '<New><Instance>NodePointOrderedDict' : {...}< (OrderedDict), 4556378192>\n   /   /   /  '<Spe><Class>PokingGetStrsList' : None\n   /   /   /  '<Spe><Class>PokingNodeStr' : \n   /   /   /}\n   /   /  'SecondChildPoker' : < (PokerClass), 4556365200>\n   /   /   /{ \n   /   /   /  '<New><Instance>IdInt' : 4556365200\n   /   /   /  '<New><Instance>NodeCollectionStr' : Pokome\n   /   /   /  '<New><Instance>NodeIndexInt' : 1\n   /   /   /  '<New><Instance>NodeKeyStr' : SecondChildPoker\n   /   /   /  '<New><Instance>NodePointDeriveNoder' : {...}< (PokerClass), 4555039632>\n   /   /   /  '<New><Instance>NodePointOrderedDict' : {...}< (OrderedDict), 4556378192>\n   /   /   /  '<Spe><Class>PokingGetStrsList' : None\n   /   /   /  '<Spe><Class>PokingNodeStr' : \n   /   /   /}\n   /   /  'ThirdChildPoker' : < (PokerClass), 4556365520>\n   /   /   /{ \n   /   /   /  '<New><Instance>IdInt' : 4556365520\n   /   /   /  '<New><Instance>NodeCollectionStr' : Pokome\n   /   /   /  '<New><Instance>NodeIndexInt' : 2\n   /   /   /  '<New><Instance>NodeKeyStr' : ThirdChildPoker\n   /   /   /  '<New><Instance>NodePointDeriveNoder' : {...}< (PokerClass), 4555039632>\n   /   /   /  '<New><Instance>NodePointOrderedDict' : {...}< (OrderedDict), 4556378192>\n   /   /   /  '<Spe><Instance>PokingGetStrsList' : ['/NodePointDeriveNoder/<Pokome>FirstChildPoker', '/NodePointDeriveNoder/<Pokome>SecondChildPoker']\n   /   /   /  '<Spe><Instance>PokingNodeStr' : Relatome\n   /   /   /}\n   /   /}\n   /  '<Spe><Class>PokingGetStrsList' : None\n   /  '<Spe><Class>PokingNodeStr' : \n   /}\n\n*****End of the Attest *****\n\n\n\n```\n", 
          "cell_type": "markdown", 
          "metadata": {}
        }
      ]
    }
  ], 
  "metadata": {
    "name": "", 
    "signature": ""
  }, 
  "nbformat_minor": 0
}