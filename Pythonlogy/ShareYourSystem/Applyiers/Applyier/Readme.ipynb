{
  "nbformat": 3, 
  "worksheets": [
    {
      "cells": [
        {
          "source": [
            "#Applyier\n", 
            " @Date : Fri Nov 14 13:20:38 2014 \n\n@Author : Erwan Ledoux \n\n\n\nAn Applyier apply a function thanks to a ApplyingMethodStr and an ApplyingArgDict. This property is going to be useful to begin to establish mappping methods and commanding calls in deep structures.\n\n\n"
          ], 
          "cell_type": "markdown", 
          "metadata": {}
        }, 
        {
          "source": "\n<!--\nFrozenIsBool False\n-->\n\nView the Applyier sources on [Github](https://github.com/Ledoux/ShareYourSystem/tree/master/ShareYourSystem/Applyiers/Installer)\n\n", 
          "cell_type": "markdown", 
          "prompt_number": 0, 
          "metadata": {}
        }, 
        {
          "source": "\n<!---\nFrozenIsBool True\n-->\n\n##Example\n\nLet's create an empty class, which will automatically receive\nspecial attributes from the decorating ClassorClass,\nspecially the NameStr, that should be the ClassStr\nwithout the TypeStr in the end.", 
          "cell_type": "markdown", 
          "prompt_number": 1, 
          "metadata": {}
        }, 
        {
          "source": "```python\n\n#ImportModules\nimport ShareYourSystem as SYS\nfrom ShareYourSystem.Applyiers import Applyier\n\n#Definition an applyier instance\nMyApplyier=Applyier.ApplyierClass()\n\n#Apply just a set... (even if we can do shorter !)\nMyApplyier.apply(\n    '__setitem__',\n    {'LiargVariablesList':['MyStr','Hello']}\n)\n\n#Apply an apply is possible\nMyApplyier.apply(\n    '__setitem__',\n    {'LiargVariablesList':[\n            '__setitem__',\n            {\n                'LiargVariablesList':\n                ['MyNotLostStr','ben he']\n            }\n        ]\n    }\n)\n        \n#Definition the AttestedStr\nSYS._attest(\n    [\n    'MyApplyier is '+SYS._str(\n            MyApplyier,\n            **{\n            'RepresentingBaseKeyStrsListBool':False,\n            'RepresentingAlineaIsBool':False\n            }\n        )\n    ]\n) \n\n#Print\n\n\n\n```\n", 
          "cell_type": "markdown", 
          "metadata": {}
        }, 
        {
          "source": "```console\n>>>\nDoer l.132 : DoerStr is Itemizer\nDoStr is Itemize\nDoMethodStr is itemize\nDoingStr is Itemizing\nDoneStr is Itemized\n\nDoer l.132 : DoerStr is Getter\nDoStr is Get\nDoMethodStr is get\nDoingStr is Getting\nDoneStr is Getted\n\nDoer l.132 : DoerStr is Setter\nDoStr is Set\nDoMethodStr is set\nDoingStr is Setting\nDoneStr is Setted\n\nDoer l.132 : DoerStr is Deleter\nDoStr is Delete\nDoMethodStr is delete\nDoingStr is Deleting\nDoneStr is Deleted\n\nDoer l.132 : DoerStr is Attributer\nDoStr is Attribute\nDoMethodStr is attribute\nDoingStr is Attributing\nDoneStr is Attributed\n\nDoer l.132 : DoerStr is Restricter\nDoStr is Restrict\nDoMethodStr is restrict\nDoingStr is Restricting\nDoneStr is Restricted\n\nDoer l.132 : DoerStr is Pather\nDoStr is Path\nDoMethodStr is path\nDoingStr is Pathing\nDoneStr is Pathed\n\nDoer l.132 : DoerStr is Sharer\nDoStr is Share\nDoMethodStr is share\nDoingStr is Sharing\nDoneStr is Shared\n\nDoer l.132 : DoerStr is Executer\nDoStr is Execute\nDoMethodStr is execute\nDoingStr is Executing\nDoneStr is Executed\n\nDoer l.132 : DoerStr is Pointer\nDoStr is Point\nDoMethodStr is point\nDoingStr is Pointing\nDoneStr is Pointed\n\nDoer l.132 : DoerStr is Applyier\nDoStr is Apply\nDoMethodStr is apply\nDoingStr is Applying\nDoneStr is Applied\n\n\n\n*****Start of the Attest *****\n\nMyApplyier is < (ApplyierClass), 4364297872>\n   /{ \n   /  '<New><Instance>ApplyingIsBool' : False\n   /  '<New><Instance>IdString' : 4364297872\n   /  '<New><Instance>MyNotLostStr' : ben he\n   /  '<New><Instance>MyStr' : Hello\n   /}\n\n*****End of the Attest *****\n\n\n\n```\n", 
          "cell_type": "markdown", 
          "metadata": {}
        }
      ]
    }
  ], 
  "metadata": {
    "name": "", 
    "signature": ""
  }, 
  "nbformat_minor": 0
}