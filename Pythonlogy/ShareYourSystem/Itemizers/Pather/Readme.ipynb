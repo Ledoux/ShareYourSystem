{
  "nbformat": 3, 
  "worksheets": [
    {
      "cells": [
        {
          "source": [
            "#Pather\n", 
            " @Date : Fri Nov 14 13:20:38 2014 \n\n@Author : Erwan Ledoux \n\n\n\nA Pather use its __setitem__ method for setting attributes in deeper levels thanks to the PathingPrefixStr \n\n\n"
          ], 
          "cell_type": "markdown", 
          "metadata": {}
        }, 
        {
          "source": "\n<!--\nFrozenIsBool False\n-->\n\nView the Pather sources on [Github](https://github.com/Ledoux/ShareYourSystem/tree/master/ShareYourSystem/Itemizers/Installer)\n\n", 
          "cell_type": "markdown", 
          "prompt_number": 0, 
          "metadata": {}
        }, 
        {
          "source": "\n<!---\nFrozenIsBool True\n-->\n\n##Example\n\nLet's create an empty class, which will automatically receive\nspecial attributes from the decorating ClassorClass,\nspecially the NameStr, that should be the ClassStr\nwithout the TypeStr in the end.", 
          "cell_type": "markdown", 
          "prompt_number": 1, 
          "metadata": {}
        }, 
        {
          "source": "```python\n\n#ImportModules\nimport ShareYourSystem as SYS\nfrom ShareYourSystem.Itemizers import Pather\n\n#Explicit expression\nMyPather=Pather.PatherClass().__setitem__('MyStr','I am the parent')\nMyPather.__setitem__('ChildPather',Pather.PatherClass())\n\n#set with a deep short Str\nMyPather.__setitem__(\n    '/ChildPather/MyStr',\n    'I am the child'\n)\n\n#set with a deep deep short Str\nMyPather.__setitem__(\n    '/ChildPather/GrandChildPather',\n    Pather.PatherClass()\n)\n\n#set with a deep short Str\nMyPather.__setitem__(\n    '/OtherChildPather',\n    Pather.PatherClass().__setitem__('MyInt',3)\n)\n\n#set with a deep short Str\nMyPather.__setitem__(\n    '/OtherChildPather',\n    Pather.PatherClass().__setitem__('MyInt',4)\n)\n\n#'/' gets the self\nMyPather.__setitem__(\n    '/SelfPather',\n    MyPather['/']\n)\n\n\n#Definition the AttestedStr\nSYS._attest(\n[\n    'MyPather is '+SYS._str(\n            MyPather,\n            **{\n            'RepresentingBaseKeyStrsListBool':False,\n            'RepresentingAlineaIsBool':False\n            }\n        ),\n    'MyPather[\\'/ChildPather\\'] is '+SYS._str(\n            MyPather['/ChildPather'],\n            **{\n            'RepresentingBaseKeyStrsListBool':False,\n            'RepresentingAlineaIsBool':False\n            }\n        ),\n    'MyPather[\\'/ChildPather/GrandChildPather\\'] is '+SYS._str(\n            MyPather['/ChildPather/GrandChildPather'],\n            **{\n            'RepresentingBaseKeyStrsListBool':False,\n            'RepresentingAlineaIsBool':False\n            }\n        )\n    ]\n) \n    \n#Print\n\n\n\n```\n", 
          "cell_type": "markdown", 
          "metadata": {}
        }, 
        {
          "source": "```console\n>>>\n\n\n*****Start of the Attest *****\n\nMyPather is < (PatherClass), 4465426320>\n   /{ \n   /  '<New><Instance>ChildPather' : < (PatherClass), 4465425872>\n   /   /{ \n   /   /  '<New><Instance>GrandChildPather' : < (PatherClass), 4465424784>\n   /   /   /{ \n   /   /   /  '<New><Instance>IdString' : 4465424784\n   /   /   /  '<Spe><Class>PathedChildKeyStr' : \n   /   /   /  '<Spe><Class>PathedGetKeyStr' : \n   /   /   /  '<Spe><Class>PathedKeyStrsList' : None\n   /   /   /  '<Spe><Class>PathingKeyStr' : \n   /   /   /}\n   /   /  '<New><Instance>IdString' : 4465425872\n   /   /  '<New><Instance>MyStr' : I am the child\n   /   /  '<Spe><Class>PathedChildKeyStr' : \n   /   /  '<Spe><Class>PathedGetKeyStr' : \n   /   /  '<Spe><Class>PathedKeyStrsList' : None\n   /   /  '<Spe><Class>PathingKeyStr' : \n   /   /}\n   /  '<New><Instance>IdString' : 4465426320\n   /  '<New><Instance>MyStr' : I am the parent\n   /  '<New><Instance>OtherChildPather' : < (PatherClass), 4465425936>\n   /   /{ \n   /   /  '<New><Instance>IdString' : 4465425936\n   /   /  '<New><Instance>MyInt' : 4\n   /   /  '<Spe><Class>PathedChildKeyStr' : \n   /   /  '<Spe><Class>PathedGetKeyStr' : \n   /   /  '<Spe><Class>PathedKeyStrsList' : None\n   /   /  '<Spe><Class>PathingKeyStr' : \n   /   /}\n   /  '<New><Instance>SelfPather' : {...}< (PatherClass), 4465426320>\n   /  '<Spe><Instance>PathedChildKeyStr' : /GrandChildPather\n   /  '<Spe><Instance>PathedGetKeyStr' : SelfPather\n   /  '<Spe><Instance>PathedKeyStrsList' : ['', 'SelfPather']\n   /  '<Spe><Instance>PathingKeyStr' : /SelfPather\n   /}\n\n------\n\nMyPather['/ChildPather'] is < (PatherClass), 4465425872>\n   /{ \n   /  '<New><Instance>GrandChildPather' : < (PatherClass), 4465424784>\n   /   /{ \n   /   /  '<New><Instance>IdString' : 4465424784\n   /   /  '<Spe><Class>PathedChildKeyStr' : \n   /   /  '<Spe><Class>PathedGetKeyStr' : \n   /   /  '<Spe><Class>PathedKeyStrsList' : None\n   /   /  '<Spe><Class>PathingKeyStr' : \n   /   /}\n   /  '<New><Instance>IdString' : 4465425872\n   /  '<New><Instance>MyStr' : I am the child\n   /  '<Spe><Class>PathedChildKeyStr' : \n   /  '<Spe><Class>PathedGetKeyStr' : \n   /  '<Spe><Class>PathedKeyStrsList' : None\n   /  '<Spe><Class>PathingKeyStr' : \n   /}\n\n------\n\nMyPather['/ChildPather/GrandChildPather'] is < (PatherClass), 4465424784>\n   /{ \n   /  '<New><Instance>IdString' : 4465424784\n   /  '<Spe><Class>PathedChildKeyStr' : \n   /  '<Spe><Class>PathedGetKeyStr' : \n   /  '<Spe><Class>PathedKeyStrsList' : None\n   /  '<Spe><Class>PathingKeyStr' : \n   /}\n\n*****End of the Attest *****\n\n\n\n```\n", 
          "cell_type": "markdown", 
          "metadata": {}
        }
      ]
    }
  ], 
  "metadata": {
    "name": "", 
    "signature": ""
  }, 
  "nbformat_minor": 0
}