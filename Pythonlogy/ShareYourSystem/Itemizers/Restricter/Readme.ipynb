{
  "nbformat": 3, 
  "worksheets": [
    {
      "cells": [
        {
          "source": [
            "#Restricter\n", 
            " @Date : Fri Nov 14 13:20:38 2014 \n\n@Author : Erwan Ledoux \n\n\n\nA Restricter object sets only in the __dict__ only if hasattr(self,self.SettingKeyVariable) returns True before.\n\n\n"
          ], 
          "cell_type": "markdown", 
          "metadata": {}
        }, 
        {
          "source": "\n<!--\nFrozenIsBool False\n-->\n\nView the Restricter sources on [Github](https://github.com/Ledoux/ShareYourSystem/tree/master/ShareYourSystem/Itemizers/Installer)\n\n", 
          "cell_type": "markdown", 
          "prompt_number": 0, 
          "metadata": {}
        }, 
        {
          "source": "\n<!---\nFrozenIsBool True\n-->\n\n##Example\n\nLet's create an empty class, which will automatically receive\nspecial attributes from the decorating ClassorClass,\nspecially the NameStr, that should be the ClassStr\nwithout the TypeStr in the end.", 
          "cell_type": "markdown", 
          "prompt_number": 1, 
          "metadata": {}
        }, 
        {
          "source": "```python\n\n#ImportModules\nimport ShareYourSystem as SYS\nfrom ShareYourSystem.Itemizers import Restricter\n\n#Explicit expression\nMyRestricter=Restricter.RestricterClass(**{'RestrictingIsBool':True})\nMyRestricter.ResettedStr=\"Hello\"\nMyRestricter.__setitem__('ResettedStr',\"Bonjour\")\nMyRestricter.__setitem__('NotsettedFloat',1.)\n\n#Return\nSYS._attest(\n    [\n    'MyRestricter is '+SYS._str(\n            MyRestricter,\n            **{\n            'RepresentingBaseKeyStrsListBool':False,\n            'RepresentingAlineaIsBool':False\n            }\n        )\n    ]\n)\n\n#Print\n\n\n\n```\n", 
          "cell_type": "markdown", 
          "metadata": {}
        }, 
        {
          "source": "```console\n>>>\n\n\n*****Start of the Attest *****\n\nMyRestricter is < (RestricterClass), 4465426128>\n   /{ \n   /  '<New><Instance>IdString' : 4465426128\n   /  '<New><Instance>ResettedStr' : Bonjour\n   /  '<Spe><Instance>RestrictedSetIsBool' : True\n   /  '<Spe><Instance>RestrictingIsBool' : True\n   /  '<Spe><Instance>RestrictingKeyStr' : NotsettedFloat\n   /}\n\n*****End of the Attest *****\n\n\n\n```\n", 
          "cell_type": "markdown", 
          "metadata": {}
        }
      ]
    }
  ], 
  "metadata": {
    "name": "", 
    "signature": ""
  }, 
  "nbformat_minor": 0
}