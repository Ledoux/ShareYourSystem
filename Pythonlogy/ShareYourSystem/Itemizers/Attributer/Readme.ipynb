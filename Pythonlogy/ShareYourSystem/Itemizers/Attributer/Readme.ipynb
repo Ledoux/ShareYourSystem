{
  "nbformat": 3, 
  "worksheets": [
    {
      "cells": [
        {
          "source": [
            "#Attributer\n", 
            " @Date : Fri Nov 14 13:20:38 2014 \n\n@Author : Erwan Ledoux \n\n\n\nAn Attributer instance has a __setitem__ method for setting things in the <InstanceVariable>.__dict__ This is helpful for setting mutable variables in the instance different from the one setted at the level of the class\n\n\n"
          ], 
          "cell_type": "markdown", 
          "metadata": {}
        }, 
        {
          "source": "\n<!--\nFrozenIsBool False\n-->\n\nView the Attributer sources on [Github](https://github.com/Ledoux/ShareYourSystem/tree/master/ShareYourSystem/Itemizers/Installer)\n\n", 
          "cell_type": "markdown", 
          "prompt_number": 0, 
          "metadata": {}
        }, 
        {
          "source": "```python\n\n#ImportModules\nimport ShareYourSystem as SYS\nfrom ShareYourSystem.Itemizers import Attributer\n\n#Definition a Attributer and set with the __setitem__\nMyAttributer=Attributer.AttributerClass().__setitem__('Attr_MyInt',0)\n        \n#Definition the AttestedStr\nSYS._attest(\n    [\n    'MyAttributer is '+SYS._str(\n            MyAttributer,\n            **{\n            'RepresentingBaseKeyStrsListBool':False,\n            'RepresentingAlineaIsBool':False\n            }\n        )\n        \n    ]\n) \n\n#Print\n\n\n\n```\n", 
          "cell_type": "markdown", 
          "metadata": {}
        }, 
        {
          "source": "```console\n>>>\nDoer l.132 : DoerStr is Itemizer\nDoStr is Itemize\nDoMethodStr is itemize\nDoingStr is Itemizing\nDoneStr is Itemized\n\nDoer l.132 : DoerStr is Getter\nDoStr is Get\nDoMethodStr is get\nDoingStr is Getting\nDoneStr is Getted\n\nDoer l.132 : DoerStr is Setter\nDoStr is Set\nDoMethodStr is set\nDoingStr is Setting\nDoneStr is Setted\n\nDoer l.132 : DoerStr is Deleter\nDoStr is Delete\nDoMethodStr is delete\nDoingStr is Deleting\nDoneStr is Deleted\n\nDoer l.132 : DoerStr is Attributer\nDoStr is Attribute\nDoMethodStr is attribute\nDoingStr is Attributing\nDoneStr is Attributed\n\n\n\n*****Start of the Attest *****\n\nMyAttributer is < (AttributerClass), 4465141392>\n   /{ \n   /  '<New><Instance>IdString' : 4465141392\n   /  '<New><Instance>MyInt' : 0\n   /  '<Spe><Instance>AttributedSetKeyStr' : MyInt\n   /  '<Spe><Instance>AttributingKeyStr' : Attr_MyInt\n   /  '<Spe><Instance>AttributingValueVariable' : 0\n   /}\n\n*****End of the Attest *****\n\n\n\n```\n", 
          "cell_type": "markdown", 
          "metadata": {}
        }
      ]
    }
  ], 
  "metadata": {
    "name": "", 
    "signature": ""
  }, 
  "nbformat_minor": 0
}