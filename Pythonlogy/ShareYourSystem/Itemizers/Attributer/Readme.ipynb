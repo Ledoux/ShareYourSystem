{
  "nbformat": 3, 
  "worksheets": [
    {
      "cells": [
        {
          "source": "\n<!--\nFrozenIsBool False\n-->\n\nView the Attributer sources on [Github](https://github.com/Ledoux/ShareYourSystem/tree/master/ShareYourSystem/Itemizers/Installer)\n\n", 
          "cell_type": "markdown", 
          "prompt_number": 0, 
          "metadata": {
            "slideshow": {
              "slide_type": "slide"
            }
          }
        }, 
        {
          "source": "```python\n\n#ImportModules\nimport ShareYourSystem as SYS\nfrom ShareYourSystem.Itemizers import Attributer\n\n#Definition a Attributer and set with the __setitem__\nMyAttributer=Attributer.AttributerClass().__setitem__('Attr_MyInt',0)\n    \n#Definition the AttestedStr\nSYS._attest(\n    [\n    'MyAttributer is '+SYS._str(\n            MyAttributer,\n            **{\n            'RepresentingBaseKeyStrsListBool':False,\n            'RepresentingAlineaIsBool':False\n            }\n        )\n    \n    ]\n) \n\n#Print\n\n\n\n```\n", 
          "cell_type": "markdown", 
          "metadata": {}
        }, 
        {
          "source": "```console\n>>>\n\n\n*****Start of the Attest *****\n\nMyAttributer is < (AttributerClass), 4348011856>\n   /{ \n   /  '<New><Instance>IdInt' : 4348011856\n   /  '<New><Instance>MyInt' : 0\n   /  '<Spe><Instance>AttributedSetKeyStr' : MyInt\n   /  '<Spe><Instance>AttributingKeyStr' : Attr_MyInt\n   /  '<Spe><Instance>AttributingValueVariable' : 0\n   /}\n\n*****End of the Attest *****\n\n\n\n```\n", 
          "cell_type": "markdown", 
          "metadata": {}
        }
      ]
    }
  ], 
  "metadata": {
    "name": "", 
    "signature": ""
  }, 
  "nbformat_minor": 0
}