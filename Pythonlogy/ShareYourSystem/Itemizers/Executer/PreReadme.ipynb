{
  "nbformat": 3, 
  "worksheets": [
    {
      "cells": [
        {
          "source": "\n<!--\nFrozenIsBool False\n-->\n\n#Executer\n\n##Doc\n----\n\n\n> \n> An Executer can exec commands with the six.exec_ function\n> \n\n----\n\n<small>\nView the Executer notebook on [NbViewer](http://nbviewer.ipython.org/url/shareyoursystem.ouvaton.org/Executer.ipynb)\n</small>\n\n", 
          "cell_type": "markdown", 
          "prompt_number": 0, 
          "metadata": {
            "slideshow": {
              "slide_type": "slide"
            }
          }
        }, 
        {
          "source": "\n<!--\nFrozenIsBool False\n-->\n\n##Code\n\n----\n\n<ClassDocStr>\n\n----\n\n```python\n# -*- coding: utf-8 -*-\n\"\"\"\n\n\n<DefineSource>\n@Date : Fri Nov 14 13:20:38 2014 \\n\n@Author : Erwan Ledoux \\n\\n\n</DefineSource>\n\n\nAn Executer can exec commands with the six.exec_ function\n\"\"\"\n\n#<DefineAugmentation>\nimport ShareYourSystem as SYS\nBaseModuleStr=\"ShareYourSystem.Itemizers.Sharer\"\nDecorationModuleStr=\"ShareYourSystem.Classors.Classer\"\nSYS.setSubModule(globals())\n#</DefineAugmentation>\n\n#<ImportSpecificModules>\nimport six\n#</ImportSpecificModules>\n\n#<DefineLocals>\nExecutingPrefixStr=\"Exec_\"\n#</DefineLocals>\n\n#<DefineClass>\n@DecorationClass()\nclass ExecuterClass(BaseClass):\n\t\n\t#Definition\n\tRepresentingKeyStrsList=[\n\t\t\t\t\t\t\t\t\t'ExecutingPrefixStr'\n\t\t\t\t\t\t\t\t]\n\n\tdef default_init(self,\n\t\t\t\t_ExecutingPrefixStr=\"\" ,\n\t\t\t\t**_KwargVariablesDict):\n\n\t\t#Call the parent __init__ method\n\t\tBaseClass.__init__(self,**_KwargVariablesDict)\n\n\t#<Hook>@Hooker.HookerClass(**{'HookingBeforeCallingDictsList':[BaseClass.get]})\n\t#@Imitater.ImitaterClass()\n\tdef mimic_get(self):\n\n\t\t#Check\n\t\tif self.GettingKeyVariable.startswith(ExecutingPrefixStr):\n\n\t\t\t#Definition the ExecStr\n\t\t\tself.ExecutingPrefixStr=ExecutingPrefixStr.join(\n\t\t\t\tself.GettingKeyVariable.split(ExecutingPrefixStr)[1:])\n\n\t\t\t#debug\n\t\t\t'''\n\t\t\tself.debug(('self.',self,['ExecutingPrefixStr']))\n\t\t\t'''\n\n\t\t\t#Put the output in a local Local Variable\n\t\t\tself.execute()\n\n\t\t#debug\n\t\t'''\n\t\tself.debug('BaseClass.get is '+str(BaseClass.get))\n\t\t'''\n\n\t\t#Call the parent get method\n\t\treturn BaseClass.get(self)\n\n\t#<Hook>@Hooker.HookerClass(**{'HookingBeforeCallingDictsList':[BaseClass.set]})\n\t#@Imitater.ImitaterClass()\n\tdef mimic_set(self):\n\n\t\t#Check\n\t\tif type(self.SettingValueVariable\n\t\t\t) in SYS.StrTypesList and self.SettingValueVariable.startswith(\n\t\t\tExecutingPrefixStr):\n\n\t\t\t#Definition the ExecStr\n\t\t\tself.ExecutingPrefixStr=ExecutingPrefixStr.join(\n\t\t\t\tself.SettingValueVariable.split(ExecutingPrefixStr)[1:])\n\n\t\t\t#debug\n\t\t\t'''\n\t\t\tself.debug(('self.',self,['ExecutingPrefixStr',\"SettingValueVariable\"]))\n\t\t\t'''\n\n\t\t\t#Put the output in a local Local Variable\n\t\t\tself.execute()\n\n\t\t\t#debug\n\t\t\t'''\n\t\t\tself.debug(('self.',self,['ExecutingPrefixStr',\"SettingValueVariable\"]))\n\t\t\t'''\n\n\t\t#Call the parent get method\n\t\tBaseClass.set(self)\n\n\n\tdef do_execute(self):\n\n\t\t#Execute\n\t\tsix.exec_(self.ExecutingPrefixStr,locals())\n\n\t\t#Return self\n\t\t#return self\n\n#</DefineClass>\n\n```\n\n<small>\nView the Executer sources on <a href=\"https://github.com/Ledoux/ShareYourSystem/tree/master/Pythonlogy/ShareYourSystem/Itemizers/Executer\" target=\"_blank\">Github</a>\n</small>\n\n", 
          "cell_type": "markdown", 
          "prompt_number": 1, 
          "metadata": {
            "slideshow": {
              "slide_type": "subslide"
            }
          }
        }, 
        {
          "source": "\n<!---\nFrozenIsBool True\n-->\n\n##Example\n\nLet's create an empty class, which will automatically receive\nspecial attributes from the decorating ClassorClass,\nspecially the NameStr, that should be the ClassStr\nwithout the TypeStr in the end.", 
          "cell_type": "markdown", 
          "prompt_number": 2, 
          "metadata": {
            "slideshow": {
              "slide_type": "subslide"
            }
          }
        }, 
        {
          "cell_type": "code", 
          "prompt_number": 3, 
          "language": "python", 
          "input": [
            "\n", 
            "#ImportModules\n", 
            "import ShareYourSystem as SYS\n", 
            "from ShareYourSystem.Classors import Attester\n", 
            "from ShareYourSystem.Itemizers import Executer\n", 
            "\n", 
            "#Definition and update with an exec Str\n", 
            "MyExecuter=Executer.ExecuterClass()\n", 
            "\n", 
            "MySecondInt=MyExecuter.__setitem__(\n", 
            "    'MySecondInt',\n", 
            "    'Exec_self.SettingValueVariable=1+1'\n", 
            ").MySecondInt\n", 
            "\n", 
            "#Exec is also possible in a getting\n", 
            "GettedValueVariable=MyExecuter['Exec_self.GettedValueVariable=self.MySecondInt-1']\n", 
            "    \n", 
            "#Definition the AttestedStr\n", 
            "SYS._attest(\n", 
            "    [\n", 
            "        'MySecondInt is  '+str(MySecondInt),\n", 
            "        'GettedValueVariable is '+str(GettedValueVariable)\n", 
            "    ]\n", 
            ") \n", 
            "\n", 
            "#Print\n", 
            "\n", 
            "\n"
          ], 
          "outputs": [
            {
              "output_type": "stream", 
              "stream": "stdout", 
              "text": [
                "\n", 
                "\n", 
                "*****Start of the Attest *****\n", 
                "\n", 
                "MySecondInt is  2\n", 
                "\n", 
                "------\n", 
                "\n", 
                "GettedValueVariable is None\n", 
                "\n", 
                "*****End of the Attest *****\n", 
                "\n", 
                "\n"
              ]
            }
          ], 
          "collapsed": false, 
          "metadata": {
            "slideshow": {
              "slide_type": "-"
            }
          }
        }
      ]
    }
  ], 
  "metadata": {
    "name": "", 
    "signature": ""
  }, 
  "nbformat_minor": 0
}