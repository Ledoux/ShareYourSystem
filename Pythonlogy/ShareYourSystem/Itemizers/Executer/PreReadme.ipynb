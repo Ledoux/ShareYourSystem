{
  "nbformat": 3, 
  "worksheets": [
    {
      "cells": [
        {
          "source": "\n<!--\nFrozenIsBool False\n-->\n\nView the Executer sources on [Github](https://github.com/Ledoux/ShareYourSystem/tree/master/ShareYourSystem/Itemizers/Installer)\n\n", 
          "cell_type": "markdown", 
          "prompt_number": 0, 
          "metadata": {
            "slideshow": {
              "slide_type": "slide"
            }
          }
        }, 
        {
          "source": "\n<!---\nFrozenIsBool True\n-->\n\n##Example\n\nLet's create an empty class, which will automatically receive\nspecial attributes from the decorating ClassorClass,\nspecially the NameStr, that should be the ClassStr\nwithout the TypeStr in the end.", 
          "cell_type": "markdown", 
          "prompt_number": 1, 
          "metadata": {
            "slideshow": {
              "slide_type": "subslide"
            }
          }
        }, 
        {
          "cell_type": "code", 
          "prompt_number": 2, 
          "language": "python", 
          "input": [
            "\n", 
            "#ImportModules\n", 
            "import ShareYourSystem as SYS\n", 
            "from ShareYourSystem.Classors import Attester\n", 
            "from ShareYourSystem.Itemizers import Executer\n", 
            "\n", 
            "#Definition and update with an exec Str\n", 
            "MyExecuter=Executer.ExecuterClass()\n", 
            "\n", 
            "MySecondInt=MyExecuter.__setitem__(\n", 
            "    'MySecondInt',\n", 
            "    'Exec_self.SettingValueVariable=1+1'\n", 
            ").MySecondInt\n", 
            "\n", 
            "#Exec is also possible in a getting\n", 
            "GettedValueVariable=MyExecuter['Exec_self.GettedValueVariable=self.MySecondInt-1']\n", 
            "    \n", 
            "#Definition the AttestedStr\n", 
            "SYS._attest(\n", 
            "    [\n", 
            "        'MySecondInt is  '+str(MySecondInt),\n", 
            "        'GettedValueVariable is '+str(GettedValueVariable)\n", 
            "    ]\n", 
            ") \n", 
            "\n", 
            "#Print\n", 
            "\n", 
            "\n"
          ], 
          "outputs": [
            {
              "output_type": "stream", 
              "stream": "stdout", 
              "text": [
                "\n", 
                "\n", 
                "*****Start of the Attest *****\n", 
                "\n", 
                "MySecondInt is  2\n", 
                "\n", 
                "------\n", 
                "\n", 
                "GettedValueVariable is None\n", 
                "\n", 
                "*****End of the Attest *****\n", 
                "\n", 
                "\n"
              ]
            }
          ], 
          "collapsed": false, 
          "metadata": {
            "slideshow": {
              "slide_type": "-"
            }
          }
        }
      ]
    }
  ], 
  "metadata": {
    "name": "", 
    "signature": ""
  }, 
  "nbformat_minor": 0
}