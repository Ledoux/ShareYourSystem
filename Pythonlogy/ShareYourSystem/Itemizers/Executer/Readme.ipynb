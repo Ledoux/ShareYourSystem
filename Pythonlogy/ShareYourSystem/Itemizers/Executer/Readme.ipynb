{
  "nbformat": 3, 
  "worksheets": [
    {
      "cells": [
        {
          "source": [
            "#Executer\n", 
            " @Date : Fri Nov 14 13:20:38 2014 \n\n@Author : Erwan Ledoux \n\n\n\nAn Executer can exec commands with the six.exec_ function \n"
          ], 
          "cell_type": "markdown", 
          "metadata": {}
        }, 
        {
          "source": "\n<!--\nFrozenIsBool False\n-->\n\nView the Executer sources on [Github](https://github.com/Ledoux/ShareYourSystem/tree/master/ShareYourSystem/Itemizers/Installer)\n\n", 
          "cell_type": "markdown", 
          "prompt_number": 0, 
          "metadata": {}
        }, 
        {
          "source": "\n<!---\nFrozenIsBool True\n-->\n\n##Example\n\nLet's create an empty class, which will automatically receive\nspecial attributes from the decorating ClassorClass,\nspecially the NameStr, that should be the ClassStr\nwithout the TypeStr in the end.", 
          "cell_type": "markdown", 
          "prompt_number": 1, 
          "metadata": {}
        }, 
        {
          "source": "```python\n\n#ImportModules\nimport ShareYourSystem as SYS\nfrom ShareYourSystem.Classors import Attester\nfrom ShareYourSystem.Itemizers import Executer\n\n#Definition and update with an exec Str\nMyExecuter=Executer.ExecuterClass()\n\nMySecondInt=MyExecuter.__setitem__(\n    'MySecondInt',\n    'Exec_self.SettingValueVariable=1+1'\n).MySecondInt\n\n#Exec is also possible in a getting\nGettedValueVariable=MyExecuter['Exec_self.GettedValueVariable=self.MySecondInt-1']\n        \n#Definition the AttestedStr\nSYS._attest(\n    [\n        'MySecondInt is  '+str(MySecondInt),\n        'GettedValueVariable is '+str(GettedValueVariable)\n    ]\n) \n\n#Print\n\n\n\n```\n", 
          "cell_type": "markdown", 
          "metadata": {}
        }, 
        {
          "source": "```console\n>>>\nDoer l.132 : DoerStr is Restricter\nDoStr is Restrict\nDoMethodStr is restrict\nDoingStr is Restricting\nDoneStr is Restricted\n\nDoer l.132 : DoerStr is Pather\nDoStr is Path\nDoMethodStr is path\nDoingStr is Pathing\nDoneStr is Pathed\n\nDoer l.132 : DoerStr is Sharer\nDoStr is Share\nDoMethodStr is share\nDoingStr is Sharing\nDoneStr is Shared\n\nDoer l.132 : DoerStr is Executer\nDoStr is Execute\nDoMethodStr is execute\nDoingStr is Executing\nDoneStr is Executed\n\n\n\n*****Start of the Attest *****\n\nMySecondInt is  2\n\n------\n\nGettedValueVariable is None\n\n*****End of the Attest *****\n\n\n\n```\n", 
          "cell_type": "markdown", 
          "metadata": {}
        }
      ]
    }
  ], 
  "metadata": {
    "name": "", 
    "signature": ""
  }, 
  "nbformat_minor": 0
}