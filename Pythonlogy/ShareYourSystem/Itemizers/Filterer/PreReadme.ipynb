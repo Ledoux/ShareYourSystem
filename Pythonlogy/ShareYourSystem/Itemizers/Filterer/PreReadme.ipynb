{
  "nbformat": 3, 
  "worksheets": [
    {
      "cells": [
        {
          "source": "\n<!--\nFrozenIsBool False\n-->\n\n#Filterer\n\n##Doc\n----\n\n\n> \n> A Filterer pick and \n> \n> \n\n----\n\n<small>\nView the Filterer notebook on [NbViewer](http://nbviewer.ipython.org/url/shareyoursystem.ouvaton.org/Filterer.ipynb)\n</small>\n\n", 
          "cell_type": "markdown", 
          "prompt_number": 0, 
          "metadata": {
            "slideshow": {
              "slide_type": "slide"
            }
          }
        }, 
        {
          "source": "\n<!--\nFrozenIsBool False\n-->\n\n##Code\n\n----\n\n<ClassDocStr>\n\n----\n\n```python\n# -*- coding: utf-8 -*-\n\"\"\"\n\n\n<DefineSource>\n@Date : Fri Nov 14 13:20:38 2014 \\n\n@Author : Erwan Ledoux \\n\\n\n</DefineSource>\n\n\nA Filterer pick and \n\n\"\"\"\n\n#<DefineAugmentation>\nimport ShareYourSystem as SYS\nBaseModuleStr=\"ShareYourSystem.Itemizers.Pointer\"\nDecorationModuleStr=\"ShareYourSystem.Classors.Classer\"\nSYS.setSubModule(globals())\n#</DefineAugmentation>\n\n#<ImportSpecificModules>\nimport copy\nimport collections\n#</ImportSpecificModules>\n\n#<DefineClass>\n@DecorationClass()\nclass FiltererClass(BaseClass):\n\t\n\t#Definition\n\tRepresentingKeyStrsList=[\n\t\t\t\t\t\t\t\t\t'FilteringGetVariable',\n\t\t\t\t\t\t\t\t\t'FilteredGetVariable',\n\t\t\t\t\t\t\t\t\t'FilteredVariablesList'\n\t\t\t\t\t\t\t\t]\n\n\tdef default_init(self,\n\t\t\t\t_FilteringGetVariable=None,\n\t\t\t\t_FilteredGetVariable=None,\n\t\t\t\t_FilteredVariablesList=None,\n\t\t\t\t**_KwargVariablesDict):\n\n\t\t#Call the parent __init__ method\n\t\tBaseClass.__init__(self,**_KwargVariablesDict)\n\n\tdef do_filter(self):\n\t\t\t\n\t\t#debug\n\t\t'''\n\t\tself.debug(('self.',self,[\n\t\t\t\t\t\t\t\t\t'PickingGetKeyVariablesList',\n\t\t\t\t\t\t\t\t\t'ConcludingConditionTuplesList',\n\t\t\t\t\t\t\t\t\t'FilteringGetVariable'\n\t\t\t\t\t\t\t\t])\n\t\t\t\t)\n\t\t'''\n\t\t\n\t\t#Get\n\t\tif type(self.FilteringGetVariable) in SYS.StrTypesList:\n\t\t\tself.FilteredGetVariable=self[self.FilteringGetVariable]\n\t\telse:\n\t\t\tself.FilteredGetVariable=self.FilteringGetVariable\n\n\t\t#Check\n\t\tif self.conclude(self.FilteredGetVariable).ConcludedIsBool:\n\n\t\t\t#debug\n\t\t\t'''\n\t\t\tself.debug(\n\t\t\t\t\t(\n\t\t\t\t\t\t'self.',self,[\n\t\t\t\t\t\t\t\t\t\t'PickingGetKeyVariablesList',\n\t\t\t\t\t\t\t\t\t\t'ConcludedConditionIsBoolsList',\n\t\t\t\t\t\t\t\t\t]+SYS.unzip(\n\t\t\t\t\t\t\t\t\t\tself.ConcludingConditionTuplesList,[0]\n\t\t\t\t\t\t\t\t\t)\n\t\t\t\t\t)\n\t\t\t\t)\n\t\t\t'''\n\n\t\t\t#Pick\n\t\t\tself.FilteredVariablesList=self.pick()\n\n\n#</DefineClass>\n\n```\n\n<small>\nView the Filterer sources on <a href=\"https://github.com/Ledoux/ShareYourSystem/tree/master/Pythonlogy/ShareYourSystem/Applyiers/Filterer\" target=\"_blank\">Github</a>\n</small>\n\n", 
          "cell_type": "markdown", 
          "prompt_number": 1, 
          "metadata": {
            "slideshow": {
              "slide_type": "subslide"
            }
          }
        }, 
        {
          "cell_type": "code", 
          "prompt_number": 2, 
          "language": "python", 
          "input": [
            "\n", 
            "#ImportModules\n", 
            "import ShareYourSystem as SYS\n", 
            "from ShareYourSystem.Applyiers import Filterer\n", 
            "import operator\n", 
            "\n", 
            "#Definition a Filter instance that is grouped\n", 
            "MyFilterer=Filterer.FiltererClass().update(\n", 
            "    [\n", 
            "        ('NodeIndexInt',1),\n", 
            "        ('NodeKeyStr','MyFilterer'),\n", 
            "        (\n", 
            "            'ConcludingConditionTuplesList',[\n", 
            "                        (\n", 
            "                            'NodeIndexInt',\n", 
            "                            lambda _TestInt,_AttestInt:\n", 
            "                                operator.lt(_TestInt,_AttestInt)\n", 
            "                                if _TestInt!=None else False,\n", 
            "                            2\n", 
            "                        )\n", 
            "                    ]\n", 
            "                ),\n", 
            "        (\n", 
            "            'PickingGetKeyVariablesList',['NodeKeyStr']\n", 
            "        )\n", 
            "    ]\n", 
            ").filter('/')\n", 
            "\n", 
            "    \n", 
            "#Definition the AttestedStr\n", 
            "SYS._attest(\n", 
            "    [\n", 
            "        'MyFilterer is '+SYS._str(\n", 
            "        MyFilterer,\n", 
            "        **{\n", 
            "            'RepresentingBaseKeyStrsListBool':False,\n", 
            "            'RepresentingAlineaIsBool':False\n", 
            "        }\n", 
            "        )\n", 
            "    ]\n", 
            ") \n", 
            "\n", 
            "\n"
          ], 
          "outputs": [
            {
              "output_type": "stream", 
              "stream": "stdout", 
              "text": [
                "\n", 
                "\n", 
                "*****Start of the Attest *****\n", 
                "\n", 
                "MyFilterer is < (FiltererClass), 4555338640>\n", 
                "   /{ \n", 
                "   /  '<New><Instance>IdInt' : 4555338640\n", 
                "   /  '<New><Instance>NodeIndexInt' : 1\n", 
                "   /  '<New><Instance>NodeKeyStr' : MyFilterer\n", 
                "   /  '<Spe><Instance>FilteredGetVariable' : {...}< (FiltererClass), 4555338640>\n", 
                "   /  '<Spe><Instance>FilteredVariablesList' : ['MyFilterer']\n", 
                "   /  '<Spe><Instance>FilteringGetVariable' : /\n", 
                "   /}\n", 
                "\n", 
                "*****End of the Attest *****\n", 
                "\n", 
                "\n"
              ]
            }
          ], 
          "collapsed": false, 
          "metadata": {
            "slideshow": {
              "slide_type": "subslide"
            }
          }
        }
      ]
    }
  ], 
  "metadata": {
    "name": "", 
    "signature": ""
  }, 
  "nbformat_minor": 0
}