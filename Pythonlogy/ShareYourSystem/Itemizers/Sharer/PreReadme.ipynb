{
  "nbformat": 3, 
  "worksheets": [
    {
      "cells": [
        {
          "source": "\n<!--\nFrozenIsBool False\n-->\n\nView the Sharer sources on [Github](https://github.com/Ledoux/ShareYourSystem/tree/master/ShareYourSystem/Itemizers/Installer)\n\n", 
          "cell_type": "markdown", 
          "prompt_number": 0, 
          "metadata": {
            "slideshow": {
              "slide_type": "slide"
            }
          }
        }, 
        {
          "source": "\n<!---\nFrozenIsBool True\n-->\n\n##Example\n\nLet's create an empty class, which will automatically receive\nspecial attributes from the decorating ClassorClass,\nspecially the NameStr, that should be the ClassStr\nwithout the TypeStr in the end.", 
          "cell_type": "markdown", 
          "prompt_number": 1, 
          "metadata": {
            "slideshow": {
              "slide_type": "subslide"
            }
          }
        }, 
        {
          "cell_type": "code", 
          "prompt_number": 2, 
          "language": "python", 
          "input": [
            "\n", 
            "#ImportModules\n", 
            "import ShareYourSystem as SYS\n", 
            "from ShareYourSystem.Itemizers import Sharer\n", 
            "\n", 
            "#Explicit expression\n", 
            "MySharer=Sharer.SharerClass().__setitem__(\n", 
            "    '__class__.MyStr',\n", 
            "    'I am setted at the level of the class'\n", 
            ")\n", 
            "\n", 
            "#Return\n", 
            "SYS._attest(\n", 
            "    [\n", 
            "\n", 
            "        'MySharer is '+SYS._str(\n", 
            "                MySharer,\n", 
            "                **{\n", 
            "                'RepresentingBaseKeyStrsListBool':False\n", 
            "                }\n", 
            "            ),\n", 
            "        'MySharer.__class__.MyStr is '+MySharer.__class__.MyStr,\n", 
            "        'MySharer[\"__class__.MyStr\"] is '+MySharer['__class__.MyStr'],\n", 
            "    ]\n", 
            ")\n", 
            "\n", 
            "#Print\n", 
            "\n", 
            "\n"
          ], 
          "outputs": [
            {
              "output_type": "stream", 
              "stream": "stdout", 
              "text": [
                "\n", 
                "\n", 
                "*****Start of the Attest *****\n", 
                "\n", 
                "MySharer is < (SharerClass), 4348193744>\n", 
                "   /{ \n", 
                "   /  '<New><Class>MyStr' : I am setted at the level of the class\n", 
                "   /  '<New><Instance>IdInt' : 4348193744\n", 
                "   /  '<Spe><Instance>SharedClassDict' : \n", 
                "   /   /{ \n", 
                "   /   /}\n", 
                "   /  '<Spe><Instance>SharedSetKeyStr' : MyStr\n", 
                "   /  '<Spe><Instance>SharingKeyStr' : __class__.MyStr\n", 
                "   /  '<Spe><Instance>SharingValueVariable' : I am setted at the level of the class\n", 
                "   /}\n", 
                "\n", 
                "------\n", 
                "\n", 
                "MySharer.__class__.MyStr is I am setted at the level of the class\n", 
                "\n", 
                "------\n", 
                "\n", 
                "MySharer[\"__class__.MyStr\"] is I am setted at the level of the class\n", 
                "\n", 
                "*****End of the Attest *****\n", 
                "\n", 
                "\n"
              ]
            }
          ], 
          "collapsed": false, 
          "metadata": {
            "slideshow": {
              "slide_type": "-"
            }
          }
        }
      ]
    }
  ], 
  "metadata": {
    "name": "", 
    "signature": ""
  }, 
  "nbformat_minor": 0
}