{
  "nbformat": 3, 
  "worksheets": [
    {
      "cells": [
        {
          "source": [
            "#Sharer\n", 
            " @Date : Fri Nov 14 13:20:38 2014 \n\n@Author : Erwan Ledoux \n\n\n\nA Sharer can set attributes at the level of the class\n\n\n"
          ], 
          "cell_type": "markdown", 
          "metadata": {}
        }, 
        {
          "source": "\n<!--\nFrozenIsBool False\n-->\n\nView the Sharer sources on [Github](https://github.com/Ledoux/ShareYourSystem/tree/master/ShareYourSystem/Itemizers/Installer)\n\n", 
          "cell_type": "markdown", 
          "prompt_number": 0, 
          "metadata": {}
        }, 
        {
          "source": "\n<!---\nFrozenIsBool True\n-->\n\n##Example\n\nLet's create an empty class, which will automatically receive\nspecial attributes from the decorating ClassorClass,\nspecially the NameStr, that should be the ClassStr\nwithout the TypeStr in the end.", 
          "cell_type": "markdown", 
          "prompt_number": 1, 
          "metadata": {}
        }, 
        {
          "source": "```python\n\n#ImportModules\nimport ShareYourSystem as SYS\nfrom ShareYourSystem.Itemizers import Sharer\n\n#Explicit expression\nMySharer=Sharer.SharerClass().__setitem__(\n    '__class__.MyStr',\n    'I am setted at the level of the class'\n)\n\n#Return\nSYS._attest(\n    [\n\n        'MySharer is '+SYS._str(\n                MySharer,\n                **{\n                'RepresentingBaseKeyStrsListBool':False\n                }\n            ),\n        'MySharer.__class__.MyStr is '+MySharer.__class__.MyStr,\n        'MySharer[\"__class__.MyStr\"] is '+MySharer['__class__.MyStr'],\n    ]\n)\n\n#Print\n\n\n\n```\n", 
          "cell_type": "markdown", 
          "metadata": {}
        }, 
        {
          "source": "```console\n>>>\n\n\n*****Start of the Attest *****\n\nMySharer is < (SharerClass), 4465477264>\n   /{ \n   /  '<New><Class>MyStr' : I am setted at the level of the class\n   /  '<New><Instance>IdString' : 4465477264\n   /  '<Spe><Instance>SharedClassDict' : \n   /   /{ \n   /   /}\n   /  '<Spe><Instance>SharedSetKeyStr' : MyStr\n   /  '<Spe><Instance>SharingKeyStr' : __class__.MyStr\n   /  '<Spe><Instance>SharingValueVariable' : I am setted at the level of the class\n   /}\n\n------\n\nMySharer.__class__.MyStr is I am setted at the level of the class\n\n------\n\nMySharer[\"__class__.MyStr\"] is I am setted at the level of the class\n\n*****End of the Attest *****\n\n\n\n```\n", 
          "cell_type": "markdown", 
          "metadata": {}
        }
      ]
    }
  ], 
  "metadata": {
    "name": "", 
    "signature": ""
  }, 
  "nbformat_minor": 0
}