{
  "nbformat": 3, 
  "worksheets": [
    {
      "cells": [
        {
          "source": "\n<!--\nFrozenIsBool False\n-->\n\n#Itemizer\n\n##Doc\n----\n\n\n> \n> An Itemizer...\n> \n> \n\n----\n\n<small>\nView the Itemizer notebook on [NbViewer](http://nbviewer.ipython.org/url/shareyoursystem.ouvaton.org/Itemizer.ipynb)\n</small>\n\n", 
          "cell_type": "markdown", 
          "prompt_number": 0, 
          "metadata": {
            "slideshow": {
              "slide_type": "slide"
            }
          }
        }, 
        {
          "source": "\n<!--\nFrozenIsBool False\n-->\n\n##Code\n\n----\n\n<ClassDocStr>\n\n----\n\n```python\n# -*- coding: utf-8 -*-\n\"\"\"\n\n\n<DefineSource>\n@Date : Fri Nov 14 13:20:38 2014 \\n\n@Author : Erwan Ledoux \\n\\n\n</DefineSource>\n\n\nAn Itemizer...\n\n\"\"\"\n\n#<DefineAugmentation>\nimport ShareYourSystem as SYS\nBaseModuleStr=\"ShareYourSystem.Interfacers.Hdformater\"\nDecorationModuleStr=\"ShareYourSystem.Classors.Classer\"\nSYS.setSubModule(globals())\n#</DefineAugmentation>\n\n#<ImportSpecificModules>\n#</ImportSpecificModules>\n\n#<DefineLocals>\nItemizingPrefixStr=\"Item_\"\n#</DefineLocals>\n\n#<DefineClass>\n@DecorationClass()\nclass ItemizerClass(BaseClass):\n\t\n\tpass\n\t\n\t\"\"\"\n\t#Definition\n\tRepresentingKeyStrsList=[\n\t\t\t\t\t\t\t\t\t'ItemizingKeyVariable',\n\t\t\t\t\t\t\t\t\t'ItemizedKeyVariable'\n\t\t\t\t\t\t\t\t]\n\n\t#@SYS.HookerClass(**{'HookingAfterVariablesList':[{'CallingVariable':BaseClass.init}]})\n\tdef default_init(self,\n\t\t\t\t\t\t_ItemizingKeyVariable=None,\n\t\t\t\t\t\t_ItemizedKeyVariable=None,\n\t\t\t\t\t\t**_KwargVariablesDict\n\t\t\t\t\t):\n\t\t\"\"\" \"\"\"\t\t\n\n\t\t#Call the parent init method\n\t\tBaseClass.__init__(self,**_KwargVariablesDict)\n\n\tdef do_itemize(self):\n\n\t\t#Check\n\t\tif self.ItemizingKeyVariable.startswith(ItemizingPrefixStr):\n\n\t\t\t#split\n\t\t\tself.ItemizedKeyVariable=ItemizingPrefixStr.join(\n\t\t\t\tself.ItemizingKeyVariable.split(\n\t\t\t\tItemizingPrefixStr)[1:]\n\t\t\t)\n\n\t\t\t#debug\n\t\t\tself.debug(\n\t\t\t\t\t\t[\n\t\t\t\t\t\t\t'go to a getitem get',\n\t\t\t\t\t\t\t('self.',self,['ItemizingKeyVariable','ItemizedKeyVariable'])\n\t\t\t\t\t\t]\n\t\t\t\t\t)\n\n\t\t\t#return\t__getitem__\n\t\t\treturn self.__getitem__(self.ItemizedKeyVariable)\n\n\t\telse:\n\n\t\t\t#debug\n\t\t\tself.debug(\n\t\t\t\t\t\t[\n\t\t\t\t\t\t\t'classic object getattr...',\n\t\t\t\t\t\t\t('self.',self,['ItemizingKeyVariable'])\n\t\t\t\t\t\t]\n\t\t\t\t\t)\n\n\t\t\t#Return default getattr\n\t\t\treturn object.__getattribute__(self,self.ItemizingKeyVariable)\n\n\tdef __getattribute__(self,_KeyVariable):\n\n\t\t#Itemize\n\t\treturn self.itemize(_KeyVariable)\n\t\"\"\"\n\n#</DefineClass>\n\n\n\n```\n\n<small>\nView the Itemizer sources on <a href=\"https://github.com/Ledoux/ShareYourSystem/tree/master/Pythonlogy/ShareYourSystem/Itemizers/Itemizer\" target=\"_blank\">Github</a>\n</small>\n\n", 
          "cell_type": "markdown", 
          "prompt_number": 1, 
          "metadata": {
            "slideshow": {
              "slide_type": "subslide"
            }
          }
        }, 
        {
          "source": "\n<!---\nFrozenIsBool True\n-->\n\n##Example\n\nLet's create an empty class, which will automatically receive\nspecial attributes from the decorating ClassorClass,\nspecially the NameStr, that should be the ClassStr\nwithout the TypeStr in the end.", 
          "cell_type": "markdown", 
          "prompt_number": 2, 
          "metadata": {
            "slideshow": {
              "slide_type": "subslide"
            }
          }
        }, 
        {
          "cell_type": "code", 
          "prompt_number": 3, 
          "language": "python", 
          "input": [
            "\n", 
            "#ImportModules\n", 
            "import ShareYourSystem as SYS\n", 
            "from ShareYourSystem.Itemizers import Itemizer\n", 
            "\n", 
            "class MakerClass(Itemizer.ItemizerClass):\n", 
            "\n", 
            "    def __getitem__(self,_KeyVariable):\n", 
            "\n", 
            "        #Debug\n", 
            "        print('_KeyVariable is ',_KeyVariable)\n", 
            "        print('')\n", 
            "\n", 
            "        #return \n", 
            "        return object.__getattribute__(self,\n", 
            "                        'My'+str(_KeyVariable)+'Int'\n", 
            "                    )\n", 
            "\n", 
            "#Definition of a derive maker itemizer class\n", 
            "MyMaker=MakerClass()\n", 
            "MyMaker.My1Int=1\n", 
            "    \n", 
            "#Definition the AttestedStr\n", 
            "SYS._attest(\n", 
            "    [\n", 
            "        'MyMaker is'+SYS._str(\n", 
            "            MyMaker,\n", 
            "            **{\n", 
            "                'RepresentingAlineaIsBool':False,\n", 
            "            }\n", 
            "        ),\n", 
            "        'MyMaker[1] is '+str(MyMaker[1]),\n", 
            "        #'MyMaker.Item_1 is '+str(MyMaker.Item_1),\n", 
            "    ]\n", 
            ") \n", 
            "\n", 
            "#Print\n", 
            "\n", 
            "\n"
          ], 
          "outputs": [
            {
              "output_type": "stream", 
              "stream": "stdout", 
              "text": [
                "('_KeyVariable is ', 1)\n", 
                "\n", 
                "\n", 
                "\n", 
                "*****Start of the Attest *****\n", 
                "\n", 
                "MyMaker is< (MakerClass), 4555206928>\n", 
                "   /{ \n", 
                "   /  '<New><Instance>IdInt' : 4555206928\n", 
                "   /  '<New><Instance>My1Int' : 1\n", 
                "   /}\n", 
                "\n", 
                "------\n", 
                "\n", 
                "MyMaker[1] is 1\n", 
                "\n", 
                "*****End of the Attest *****\n", 
                "\n", 
                "\n"
              ]
            }
          ], 
          "collapsed": false, 
          "metadata": {
            "slideshow": {
              "slide_type": "-"
            }
          }
        }, 
        {
          "source": "\n<!--\nFrozenIsBool False\n-->\n\n#Getter\n\n##Doc\n----\n\n\n> \n> A Getter helps for getting attributes safely in \n> an instance. Through the __getitem__ method, It looks first in the \\_\\_dict\\_\\_ to \n> check if there is the corresponding GettingKeyStr.\n> \n> \n\n----\n\n<small>\nView the Getter notebook on [NbViewer](http://nbviewer.ipython.org/url/shareyoursystem.ouvaton.org/Getter.ipynb)\n</small>\n\n", 
          "cell_type": "markdown", 
          "prompt_number": 4, 
          "metadata": {
            "slideshow": {
              "slide_type": "slide"
            }
          }
        }, 
        {
          "source": "\n<!--\nFrozenIsBool False\n-->\n\n##Code\n\n----\n\n<ClassDocStr>\n\n----\n\n```python\n# -*- coding: utf-8 -*-\n\"\"\"\n\n\n<DefineSource>\n@Date : Fri Nov 14 13:20:38 2014 \\n\n@Author : Erwan Ledoux \\n\\n\n</DefineSource>\n\n\nA Getter helps for getting attributes safely in \nan instance. Through the __getitem__ method, It looks first in the \\_\\_dict\\_\\_ to \ncheck if there is the corresponding GettingKeyStr.\n\n\"\"\"\n\n#<DefineAugmentation>\nimport ShareYourSystem as SYS\nBaseModuleStr=\"ShareYourSystem.Itemizers.Itemizer\"\nDecorationModuleStr=\"ShareYourSystem.Classors.Classer\"\nSYS.setSubModule(globals())\n#</DefineAugmentation>\n\n#<ImportSpecificModules>\nfrom ShareYourSystem.Functers import Argumenter\n#</ImportSpecificModules>\n\n#<DefineClass>\n@DecorationClass(**{'DoingGetBool':True})\nclass GetterClass(BaseClass):\n\t\n\t#Definition\n\tRepresentingKeyStrsList=[\n\t\t\t\t\t\t\t\t\t'GettingKeyVariable',\n\t\t\t\t\t\t\t\t\t'GettedValueVariable'\n\t\t\t\t\t\t\t\t]\n\n\t#@SYS.HookerClass(**{'HookingAfterVariablesList':[{'CallingVariable':BaseClass.init}]})\n\tdef default_init(self,\n\t\t\t\t\t\t_GettingKeyVariable=None,\n\t\t\t\t\t\t_GettedValueVariable=None,\n\t\t\t\t\t\t**_KwargVariablesDict\n\t\t\t\t\t):\n\t\t\"\"\" \"\"\"\t\t\n\n\t\t#Call the parent init method\n\t\tBaseClass.__init__(self,**_KwargVariablesDict)\n\n\t#@Argumenter.ArgumenterClass(**{'ArgumentingDoStr':'Get'})\n\tdef __getitem__(self,_KeyVariable):\n\t\t\"\"\" \"\"\"\n\n\t\t#Debug\n\t\t'''\n\t\tprint('l.53 __getitem__ Getter')\n\t\tprint('self.get is ',self.get.im_func)\n\t\tprint('_KeyVariables is ',_KeyVariable)\n\t\tprint('')\n\t\t'''\n\n\t\t#get\n\t\tself.get(_KeyVariable)\n\t\t\n\t\t#Debug\n\t\t'''\n\t\tself.debug(('self.',self,['GettedValueVariable']))\n\t\t'''\n\t\t\n\t\t#return\n\t\treturn self.GettedValueVariable\n\t\t\n\tdef do_get(self):\n\t\t\"\"\" \"\"\"\n\n\t\t#debug\n\t\t'''\n\t\tself.debug((\"self.\",self,['GettingKeyVariable']))\n\t\t'''\n\t\t\n\t\t#Check\n\t\tif type(self.GettingKeyVariable) in [str,unicode]:\n\n\t\t\t#Get safely the Value\n\t\t\tif self.GettingKeyVariable in self.__dict__:\n\n\t\t\t\t#__getitem__ in the __dict__\n\t\t\t\tself.GettedValueVariable=self.__dict__[self.GettingKeyVariable]\n\n\t\t\t\t#debug\n\t\t\t\t'''\n\t\t\t\tself.debug(\n\t\t\t\t\t\t\t[\n\t\t\t\t\t\t\t\t'This is a Spe in Instance',\n\t\t\t\t\t\t\t\t('self.',self,['GettedValueVariable'])\n\t\t\t\t\t\t\t]\n\t\t\t\t\t\t)\n\t\t\t\t'''\n\t\t\t\t\n\t\t\t\t#Stop the getting\n\t\t\t\treturn {\"HookingIsBool\":False}\n\n\t\t\telif self.GettingKeyVariable in self.__class__.__dict__:\n\n\t\t\t\t#__getitem__ in the __class__\n\t\t\t\tself.GettedValueVariable=self.__class__.__dict__[self.GettingKeyVariable]\n\n\t\t\t\t#debug\n\t\t\t\t'''\n\t\t\t\tself.debug(\n\t\t\t\t\t\t\t[\n\t\t\t\t\t\t\t\t'This is in the __class__',\n\t\t\t\t\t\t\t\t('self.',self,['GettedValueVariable'])\n\t\t\t\t\t\t\t]\n\t\t\t\t\t\t)\n\t\t\t\t'''\n\n\t\t\t\t#Stop the getting\n\t\t\t\treturn {\"HookingIsBool\":False}\n\t\t\t\t\n\t\t#set\n\t\tself.GettedValueVariable=None\n\n\t\t#debug\n\t\t'''\n\t\tself.debug(\n\t\t\t\t\t[\n\t\t\t\t\t\t'Not found here so set it to None',\n\t\t\t\t\t\t('self.',self,['GettedValueVariable'])\n\t\t\t\t\t]\n\t\t\t\t)\n\t\t'''\n\t\t#Return an output dict\n\t\treturn {\"HookingIsBool\":True}\n\n#</DefineClass>\n\n\n\n```\n\n<small>\nView the Getter sources on <a href=\"https://github.com/Ledoux/ShareYourSystem/tree/master/Pythonlogy/ShareYourSystem/Itemizers/Getter\" target=\"_blank\">Github</a>\n</small>\n\n", 
          "cell_type": "markdown", 
          "prompt_number": 5, 
          "metadata": {
            "slideshow": {
              "slide_type": "subslide"
            }
          }
        }, 
        {
          "source": "\n<!---\nFrozenIsBool True\n-->\n\n##Example\n\nLet's create an empty class, which will automatically receive\nspecial attributes from the decorating ClassorClass,\nspecially the NameStr, that should be the ClassStr\nwithout the TypeStr in the end.", 
          "cell_type": "markdown", 
          "prompt_number": 6, 
          "metadata": {
            "slideshow": {
              "slide_type": "subslide"
            }
          }
        }, 
        {
          "cell_type": "code", 
          "prompt_number": 7, 
          "language": "python", 
          "input": [
            "\n", 
            "#ImportModules\n", 
            "import ShareYourSystem as SYS\n", 
            "from ShareYourSystem.Itemizers import Getter\n", 
            "\n", 
            "#Definition a Getter\n", 
            "MyGetter=Getter.GetterClass()\n", 
            "MyGetter.MyInt=1\n", 
            "    \n", 
            "#Definition the AttestedStr\n", 
            "SYS._attest(\n", 
            "    [\n", 
            "        'Get the MyInt returns '+str(MyGetter['MyInt']),\n", 
            "        'Get the MyStr returns '+str(MyGetter['MyStr'])\n", 
            "    ]\n", 
            ") \n", 
            "\n", 
            "#Print\n", 
            "\n", 
            "\n"
          ], 
          "outputs": [
            {
              "output_type": "stream", 
              "stream": "stdout", 
              "text": [
                "\n", 
                "\n", 
                "*****Start of the Attest *****\n", 
                "\n", 
                "Get the MyInt returns 1\n", 
                "\n", 
                "------\n", 
                "\n", 
                "Get the MyStr returns None\n", 
                "\n", 
                "*****End of the Attest *****\n", 
                "\n", 
                "\n"
              ]
            }
          ], 
          "collapsed": false, 
          "metadata": {
            "slideshow": {
              "slide_type": "-"
            }
          }
        }, 
        {
          "source": "\n<!--\nFrozenIsBool False\n-->\n\n#Setter\n\n##Doc\n----\n\n\n> \n> A Setter has a __setitem__ method for setting things in the <InstanceVariable>.__dict__\n> \n> \n\n----\n\n<small>\nView the Setter notebook on [NbViewer](http://nbviewer.ipython.org/url/shareyoursystem.ouvaton.org/Setter.ipynb)\n</small>\n\n", 
          "cell_type": "markdown", 
          "prompt_number": 8, 
          "metadata": {
            "slideshow": {
              "slide_type": "slide"
            }
          }
        }, 
        {
          "source": "\n<!--\nFrozenIsBool False\n-->\n\n##Code\n\n----\n\n<ClassDocStr>\n\n----\n\n```python\n# -*- coding: utf-8 -*-\n\"\"\"\n\n\n<DefineSource>\n@Date : Fri Nov 14 13:20:38 2014 \\n\n@Author : Erwan Ledoux \\n\\n\n</DefineSource>\n\n\nA Setter has a __setitem__ method for setting things in the <InstanceVariable>.__dict__\n\n\"\"\"\n\n#<DefineAugmentation>\nimport ShareYourSystem as SYS\nBaseModuleStr=\"ShareYourSystem.Itemizers.Getter\"\nDecorationModuleStr=\"ShareYourSystem.Classors.Classer\"\nSYS.setSubModule(globals())\n#</DefineAugmentation>\n\n#<ImportSpecificModules>\n#</ImportSpecificModules>\n\n#<DefineClass>\n@DecorationClass(**{'DoingGetBool':True})\nclass SetterClass(BaseClass):\n\n\t#Definition\n\tRepresentingKeyStrsList=[\n\t\t\t\t\t\t\t\t\t'SettingKeyVariable',\n\t\t\t\t\t\t\t\t\t'SettingValueVariable'\n\t\t\t\t\t\t\t\t]\n\n\tdef default_init(self,\n\t\t\t\t\t\t_SettingKeyVariable=None, \n\t\t\t\t\t\t_SettingValueVariable=None,  \t\t\t\n\t\t\t\t\t\t**_KwargVariablesDict\n\t\t\t\t\t):\n\t\t\"\"\" \"\"\"\t\t\n\n\t\t#Call the parent init method\n\t\tBaseClass.__init__(self,**_KwargVariablesDict)\n\n\t#@Argumenter.ArgumenterClass(**{'ArgumentingDoStr':'Set'})\n\tdef __setitem__(self,_KeyVariable,_ValueVariable):\n\t\t\"\"\" \"\"\"\n\n\t\t#debug\n\t\t'''\n\t\tself.debug(\n\t\t\t\t\t[\n\t\t\t\t\t\t('locals()[\\'',locals(),[\n\t\t\t\t\t\t\t\t\t\t'_KeyVariable',\n\t\t\t\t\t\t\t\t\t\t'_ValueVariable']\n\t\t\t\t\t\t\t\t\t\t,'\\']'),\n\t\t\t\t\t\t('self.',self,[\n\t\t\t\t\t\t\t\t\t'SettingKeyVariable',\n\t\t\t\t\t\t\t\t\t#'SettingValueVariable'\n\t\t\t\t\t\t\t\t\t])\n\t\t\t\t\t])\n\t\t'''\n\t\t\n\t\t#set (and set before argument to facilitate switch triggers (see later...)\n\t\tself.SettingKeyVariable=_KeyVariable\n\t\tself.SettingValueVariable=_ValueVariable\n\t\tself.set()\t\t\n\n\t\t#set\n\t\treturn self\n\n\tdef do_set(self):\n\t\t\"\"\" \"\"\"\n\n\t\t#debug\n\t\t'''\n\t\tself.debug((\"self.\",self,['SettingKeyVariable','SettingValueVariable']))\n\t\t'''\n\t\t\n\t\t#__setitem__ in the __dict__, this is an utility set\n\t\tself.__dict__[self.SettingKeyVariable]=self.SettingValueVariable\n\n\t\t#Return\n\t\treturn {'HookingIsBool':False}\n\n#</DefineClass>\n\n```\n\n<small>\nView the Setter sources on <a href=\"https://github.com/Ledoux/ShareYourSystem/tree/master/Pythonlogy/ShareYourSystem/Itemizers/Setter\" target=\"_blank\">Github</a>\n</small>\n\n", 
          "cell_type": "markdown", 
          "prompt_number": 9, 
          "metadata": {
            "slideshow": {
              "slide_type": "subslide"
            }
          }
        }, 
        {
          "source": "\n<!---\nFrozenIsBool True\n-->\n\n##Example\n\nLet's create an empty class, which will automatically receive\nspecial attributes from the decorating ClassorClass,\nspecially the NameStr, that should be the ClassStr\nwithout the TypeStr in the end.", 
          "cell_type": "markdown", 
          "prompt_number": 10, 
          "metadata": {
            "slideshow": {
              "slide_type": "subslide"
            }
          }
        }, 
        {
          "cell_type": "code", 
          "prompt_number": 11, 
          "language": "python", 
          "input": [
            "\n", 
            "#ImportModules\n", 
            "import ShareYourSystem as SYS\n", 
            "from ShareYourSystem.Itemizers import Setter\n", 
            "\n", 
            "#Definition a Setter and set with the __setitem__\n", 
            "MySetter=Setter.SetterClass().__setitem__('MyInt',0)\n", 
            "    \n", 
            "#Definition the AttestedStr\n", 
            "SYS._attest(\n", 
            "    [\n", 
            "    'MySetter is '+SYS._str(\n", 
            "            MySetter,\n", 
            "            **{\n", 
            "            'RepresentingBaseKeyStrsListBool':False,\n", 
            "            'RepresentingAlineaIsBool':False\n", 
            "            }\n", 
            "        )\n", 
            "    ]\n", 
            ") \n", 
            "\n", 
            "#Print\n", 
            "\n", 
            "\n"
          ], 
          "outputs": [
            {
              "output_type": "stream", 
              "stream": "stdout", 
              "text": [
                "\n", 
                "\n", 
                "*****Start of the Attest *****\n", 
                "\n", 
                "MySetter is < (SetterClass), 4555207312>\n", 
                "   /{ \n", 
                "   /  '<New><Instance>IdInt' : 4555207312\n", 
                "   /  '<New><Instance>MyInt' : 0\n", 
                "   /  '<Spe><Instance>SettingKeyVariable' : MyInt\n", 
                "   /  '<Spe><Instance>SettingValueVariable' : 0\n", 
                "   /}\n", 
                "\n", 
                "*****End of the Attest *****\n", 
                "\n", 
                "\n"
              ]
            }
          ], 
          "collapsed": false, 
          "metadata": {
            "slideshow": {
              "slide_type": "-"
            }
          }
        }, 
        {
          "source": "\n<!--\nFrozenIsBool False\n-->\n\n#Deleter\n\n##Doc\n----\n\n\n> \n> A Deleter has a __delitem__ method for deleting things in the <InstanceVariable>.__dict__\n> \n> \n\n----\n\n<small>\nView the Deleter notebook on [NbViewer](http://nbviewer.ipython.org/url/shareyoursystem.ouvaton.org/Deleter.ipynb)\n</small>\n\n", 
          "cell_type": "markdown", 
          "prompt_number": 12, 
          "metadata": {
            "slideshow": {
              "slide_type": "slide"
            }
          }
        }, 
        {
          "source": "\n<!--\nFrozenIsBool False\n-->\n\n##Code\n\n----\n\n<ClassDocStr>\n\n----\n\n```python\n# -*- coding: utf-8 -*-\n\"\"\"\n\n\n<DefineSource>\n@Date : Fri Nov 14 13:20:38 2014 \\n\n@Author : Erwan Ledoux \\n\\n\n</DefineSource>\n\n\nA Deleter has a __delitem__ method for deleting things in the <InstanceVariable>.__dict__\n\n\"\"\"\n\n#<DefineAugmentation>\nimport ShareYourSystem as SYS\nBaseModuleStr=\"ShareYourSystem.Itemizers.Setter\"\nDecorationModuleStr=\"ShareYourSystem.Classors.Classer\"\nSYS.setSubModule(globals())\n#</DefineAugmentation>\n\n#<ImportSpecificModules>\n#</ImportSpecificModules>\n\n#<DefineClass>\n@DecorationClass()\nclass DeleterClass(BaseClass):\n\t\t\n\tdef default_init(self,\n\t\t\t\t\t\t_DeletingKeyVariable=None,\n\t\t\t\t\t\t**_KwargVariablesDict\n\t\t\t\t\t):\n\t\t\"\"\" \"\"\"\t\t\n\n\t\t#Call the parent init method\n\t\tBaseClass.__init__(self,**_KwargVariablesDict)\n\n\t#@Argumenter.ArgumenterClass(**{'ArgumentingDoStr':\"Delete\"})\n\tdef __delitem__(self,_KeyVariable,**_KwargVariablesDict):\n\t\t\"\"\" \"\"\"\n\n\t\t#debug\n\t\t'''\n\t\tself.debug(('self.',self,['DeletingKeyVariable']))\n\t\t'''\n\n\t\t#Delete\n\t\tself.delete(_KeyVariable)\n\n\t\t#set\n\t\treturn self\n\n\tdef do_delete(self):\n\t\t\"\"\" \"\"\"\n\n\t\t#Do the minimal delitem\n\t\tif type(self.DeletingKeyVariable) in [str,unicode]:\n\n\t\t\t#Del Safely the Value\n\t\t\tif self.DeletingKeyVariable in self.__dict__:\n\t\t\t\tdel self.__dict__[self.DeletingKeyVariable]\n\n#</DefineClass>\n\n\n\n```\n\n<small>\nView the Deleter sources on <a href=\"https://github.com/Ledoux/ShareYourSystem/tree/master/Pythonlogy/ShareYourSystem/Itemizers/Deleter\" target=\"_blank\">Github</a>\n</small>\n\n", 
          "cell_type": "markdown", 
          "prompt_number": 13, 
          "metadata": {
            "slideshow": {
              "slide_type": "subslide"
            }
          }
        }, 
        {
          "source": "\n<!---\nFrozenIsBool True\n-->\n\n##Example\n\nLet's create an empty class, which will automatically receive\nspecial attributes from the decorating ClassorClass,\nspecially the NameStr, that should be the ClassStr\nwithout the TypeStr in the end.", 
          "cell_type": "markdown", 
          "prompt_number": 14, 
          "metadata": {
            "slideshow": {
              "slide_type": "subslide"
            }
          }
        }, 
        {
          "cell_type": "code", 
          "prompt_number": 15, 
          "language": "python", 
          "input": [
            "\n", 
            "#ImportModules\n", 
            "import ShareYourSystem as SYS\n", 
            "from ShareYourSystem.Itemizers import Deleter\n", 
            "\n", 
            "#Definition a Deleter\n", 
            "MyDeleter=Deleter.DeleterClass().__setitem__('MyInt',0).__delitem__('MyInt')\n", 
            "    \n", 
            "#Definition the AttestedStr\n", 
            "SYS._attest(\n", 
            "    [\n", 
            "    'MyDeleter is '+SYS._str(\n", 
            "            MyDeleter,\n", 
            "            **{\n", 
            "            'RepresentingBaseKeyStrsListBool':False,\n", 
            "            'RepresentingAlineaIsBool':False\n", 
            "            }\n", 
            "        )\n", 
            "    ]\n", 
            ") \n", 
            "\n", 
            "#Print\n", 
            "\n", 
            "\n"
          ], 
          "outputs": [
            {
              "output_type": "stream", 
              "stream": "stdout", 
              "text": [
                "\n", 
                "\n", 
                "*****Start of the Attest *****\n", 
                "\n", 
                "MyDeleter is < (DeleterClass), 4555206736>\n", 
                "   /{ \n", 
                "   /  '<New><Instance>IdInt' : 4555206736\n", 
                "   /}\n", 
                "\n", 
                "*****End of the Attest *****\n", 
                "\n", 
                "\n"
              ]
            }
          ], 
          "collapsed": false, 
          "metadata": {
            "slideshow": {
              "slide_type": "-"
            }
          }
        }, 
        {
          "source": "\n<!--\nFrozenIsBool False\n-->\n\n#Attributer\n\n##Doc\n----\n\n\n> An Attributer instance has a __setitem__ method for setting things in the <InstanceVariable>.__dict__\n> This is helpful for setting Propertized mutable variables in the instance different \n> from the propertized value setted at the level of the class\n> \n> \n\n----\n\n<small>\nView the Attributer notebook on [NbViewer](http://nbviewer.ipython.org/url/shareyoursystem.ouvaton.org/Attributer.ipynb)\n</small>\n\n", 
          "cell_type": "markdown", 
          "prompt_number": 16, 
          "metadata": {
            "slideshow": {
              "slide_type": "slide"
            }
          }
        }, 
        {
          "source": "\n<!--\nFrozenIsBool False\n-->\n\n##Code\n\n----\n\n<ClassDocStr>\n\n----\n\n```python\n# -*- coding: utf-8 -*-\n\"\"\"\n\n\n<DefineSource>\n@Date : Fri Nov 14 13:20:38 2014 \\n\n@Author : Erwan Ledoux \\n\\n\n</DefineSource>\n\nAn Attributer instance has a __setitem__ method for setting things in the <InstanceVariable>.__dict__\nThis is helpful for setting Propertized mutable variables in the instance different \nfrom the propertized value setted at the level of the class\n\n\"\"\"\n\n#<DefineAugmentation>\nimport ShareYourSystem as SYS\nBaseModuleStr=\"ShareYourSystem.Itemizers.Deleter\"\nDecorationModuleStr=\"ShareYourSystem.Classors.Classer\"\nSYS.setSubModule(globals())\n#</DefineAugmentation>\n\n#<ImportSpecificModules>\n#</ImportSpecificModules>\n\n#<DefineLocals>\nAttributingStartStr='Attr_'\n#</DefineLocals>\n\n#<DefineClass>\n@DecorationClass()\nclass AttributerClass(BaseClass):\n\n\t#Definition\n\tRepresentingKeyStrsList=[\n\t\t\t\t\t\t\t\t\t'AttributingKeyStr',\n\t\t\t\t\t\t\t\t\t'AttributingValueVariable',\n\t\t\t\t\t\t\t\t\t'AttributedSetKeyStr'\n\t\t\t\t\t\t\t\t]\n\n\tdef default_init(self,  \n\t\t\t\t\t\t_AttributingKeyStr=\"\",\n\t\t\t\t\t\t_AttributingValueVariable=None,\t\n\t\t\t\t\t\t_AttributedSetKeyStr=\"\",\t\t\n\t\t\t\t\t\t**_KwargVariablesDict\n\t\t\t\t\t):\n\t\t\"\"\" \"\"\"\t\t\n\n\t\t#Call the parent init method\n\t\tBaseClass.__init__(self,**_KwargVariablesDict)\n\n\n\tdef do_attribute(self):\n\n\t\t#set\n\t\tself.AttributedSetKeyStr=AttributingStartStr.join(\n\t\t\tself.AttributingKeyStr.split(AttributingStartStr)[1:])\n\n\t\t#Call the __setattr__ method\n\t\tself.__setattr__(self.AttributedSetKeyStr,self.AttributingValueVariable)\n\n\t#@Imitater.ImitaterClass()\n\tdef mimic_set(self):\n\t\t\"\"\" \"\"\"\n\n\t\t#debug\n\t\t'''\n\t\tself.debug(('self.',self,['SettingKeyVariable','SettingValueVariable']))\n\t\t'''\n\n\t\t#Definition\n\t\tOutputDict={'HookingIsBool':True}\n\n\t\t#Deep set\n\t\tif self.SettingKeyVariable.startswith(AttributingStartStr):\n\n\t\t\t#debug\n\t\t\t'''\n\t\t\tself.debug('We are going to share')\n\t\t\t'''\n\n\t\t\t#Path\n\t\t\tself.attribute(self.SettingKeyVariable,self.SettingValueVariable)\n\n\t\t\t#debug\n\t\t\t'''\n\t\t\tself.debug(('self.',self,[\n\t\t\t\t\t\t\t\t\t\t\"SharedKeyStr\",\n\t\t\t\t\t\t\t\t\t\t\"SharedChildKeyStr\",\n\t\t\t\t\t\t\t\t\t\t\"SharedValueVariable\"\n\t\t\t\t\t\t\t\t\t]\n\t\t\t\t\t\t\t\t))\n\t\t\t'''\n\n\t\t\t#Stop the setting\n\t\t\tOutputDict[\"HookingIsBool\"]=False\n\t\t\t#<Hook>return OutputDict\n\n\t\t#Call the parent get method\n\t\tif OutputDict['HookingIsBool']:\n\n\t\t\t#debug\n\t\t\t'''\n\t\t\tself.debug(\n\t\t\t\t\t\t[\n\t\t\t\t\t\t\t'BaseClass is '+str(BaseClass),\n\t\t\t\t\t\t\t'BaseClass.set is '+str(BaseClass.set)\n\t\t\t\t\t\t]\n\t\t\t\t)\n\t\t\t'''\n\t\t\t\n\t\t\t#Set and return \n\t\t\treturn BaseClass.set(self)\n\t\t\t\n\t\telse:\n\n\t\t\t#return\n\t\t\treturn OutputDict\n\n#</DefineClass>\n\n```\n\n<small>\nView the Attributer sources on <a href=\"https://github.com/Ledoux/ShareYourSystem/tree/master/Pythonlogy/ShareYourSystem/Itemizers/Attributer\" target=\"_blank\">Github</a>\n</small>\n\n", 
          "cell_type": "markdown", 
          "prompt_number": 17, 
          "metadata": {
            "slideshow": {
              "slide_type": "subslide"
            }
          }
        }, 
        {
          "cell_type": "code", 
          "prompt_number": 18, 
          "language": "python", 
          "input": [
            "\n", 
            "#ImportModules\n", 
            "import ShareYourSystem as SYS\n", 
            "from ShareYourSystem.Itemizers import Attributer\n", 
            "\n", 
            "#Definition a Attributer and set with the __setitem__\n", 
            "MyAttributer=Attributer.AttributerClass().__setitem__('Attr_MyInt',0)\n", 
            "    \n", 
            "#Definition the AttestedStr\n", 
            "SYS._attest(\n", 
            "    [\n", 
            "    'MyAttributer is '+SYS._str(\n", 
            "            MyAttributer,\n", 
            "            **{\n", 
            "            'RepresentingBaseKeyStrsListBool':False,\n", 
            "            'RepresentingAlineaIsBool':False\n", 
            "            }\n", 
            "        )\n", 
            "    \n", 
            "    ]\n", 
            ") \n", 
            "\n", 
            "#Print\n", 
            "\n", 
            "\n"
          ], 
          "outputs": [
            {
              "output_type": "stream", 
              "stream": "stdout", 
              "text": [
                "\n", 
                "\n", 
                "*****Start of the Attest *****\n", 
                "\n", 
                "MyAttributer is < (AttributerClass), 4555207120>\n", 
                "   /{ \n", 
                "   /  '<New><Instance>IdInt' : 4555207120\n", 
                "   /  '<New><Instance>MyInt' : 0\n", 
                "   /  '<Spe><Instance>AttributedSetKeyStr' : MyInt\n", 
                "   /  '<Spe><Instance>AttributingKeyStr' : Attr_MyInt\n", 
                "   /  '<Spe><Instance>AttributingValueVariable' : 0\n", 
                "   /}\n", 
                "\n", 
                "*****End of the Attest *****\n", 
                "\n", 
                "\n"
              ]
            }
          ], 
          "collapsed": false, 
          "metadata": {
            "slideshow": {
              "slide_type": "subslide"
            }
          }
        }, 
        {
          "source": "\n<!--\nFrozenIsBool False\n-->\n\n#Restricter\n\n##Doc\n----\n\n\n> \n> A Restricter object sets only in the __dict__ only if hasattr(self,self.SettingKeyVariable)\n> returns True before.\n> \n> \n\n----\n\n<small>\nView the Restricter notebook on [NbViewer](http://nbviewer.ipython.org/url/shareyoursystem.ouvaton.org/Restricter.ipynb)\n</small>\n\n", 
          "cell_type": "markdown", 
          "prompt_number": 19, 
          "metadata": {
            "slideshow": {
              "slide_type": "slide"
            }
          }
        }, 
        {
          "source": "\n<!--\nFrozenIsBool False\n-->\n\n##Code\n\n----\n\n<ClassDocStr>\n\n----\n\n```python\n# -*- coding: utf-8 -*-\n\"\"\"\n\n\n<DefineSource>\n@Date : Fri Nov 14 13:20:38 2014 \\n\n@Author : Erwan Ledoux \\n\\n\n</DefineSource>\n\n\nA Restricter object sets only in the __dict__ only if hasattr(self,self.SettingKeyVariable)\nreturns True before.\n\n\"\"\"\n\n#<DefineAugmentation>\nimport ShareYourSystem as SYS\nBaseModuleStr=\"ShareYourSystem.Itemizers.Attributer\"\nDecorationModuleStr=\"ShareYourSystem.Classors.Classer\"\nSYS.setSubModule(globals())\n#</DefineAugmentation>\n\n#<ImportSpecificModules>\n#</ImportSpecificModules>\n\n#<DefineClass>\n@DecorationClass()\nclass RestricterClass(BaseClass):\n\n\t#Definition\n\tRepresentingKeyStrsList=[\n\t\t\t\t\t\t\t\t'RestrictingIsBool',\n\t\t\t\t\t\t\t\t'RestrictingKeyStr',\n\t\t\t\t\t\t\t\t'RestrictedSetIsBool'\n\t\t\t\t\t\t\t]\n\n\tdef default_init(self,\n\t\t\t\t_RestrictingIsBool=False, \n\t\t\t\t_RestrictingKeyStr=None,\t\t\t\t\t\n\t\t\t\t_RestrictedSetIsBool=True,\t\t\t\n\t\t\t\t**_KwargVariablesDict\n\t\t\t\t):\n\n\t\t#Call the parent init method\n\t\tBaseClass.__init__(self,**_KwargVariablesDict)\n\n\tdef do_restrict(self):\n\n\t\t#Init\n\t\tself.RestrictedSetIsBool=True\n\n\t\t#debug\n\t\t'''\n\t\tself.debug(('self.',self,['RestrictingIsBool','RestrictingKeyStr']))\n\t\t'''\n\n\t\t#Check\n\t\tif self.RestrictingIsBool:\n\n\t\t\t#Check\n\t\t\tif hasattr(self,self.RestrictingKeyStr):\n\t\t\t\tself.RestrictedSetIsBool=False\n\n\t\telse:\n\n\t\t\t#set to False\n\t\t\tself.RestrictedSetIsBool=False\n\n\t#<Hook>@Hooker.HookerClass(**{'HookingAfterVariablesList':[BaseClass.set]})\n\t#@Imitater.ImitaterClass()\n\tdef mimic_set(self):\n\t\t\"\"\" \"\"\"\n\n\t\t#debug\n\t\t'''\n\t\tself.debug(('self.',self,['SettingKeyVariable','SettingValueVariable']))\n\t\t'''\n\n\t\t#Definition\n\t\tOutputDict={'HookingIsBool':True}\n\n\t\t#debug\n\t\t'''\n\t\tself.debug('We are going to restrict')\n\t\t'''\n\n\t\t#restrict\n\t\tself.restrict(_KeyStr=self.SettingKeyVariable)\n\n\t\t#<Hook>\n\t\t#Stop the setting\n\t\tif self.RestrictedSetIsBool:\n\t\t\tOutputDict[\"HookingIsBool\"]=False\n\t\t\treturn OutputDict\n\t\t#</Hook>\n\n\t\t#Debug\n\t\t'''\n\t\tself.debug(\n\t\t\t\t\t[\n\t\t\t\t\t\t'BaseClass is '+str(BaseClass),\n\t\t\t\t\t\t'BaseClass.set is '+str(BaseClass.set),\n\t\t\t\t\t]\n\t\t\t\t)\n\t\t'''\n\t\t\n\t\t#Call the parent set method\n\t\treturn BaseClass.set(self)\n\n#</DefineClass>\n\n\n```\n\n<small>\nView the Restricter sources on <a href=\"https://github.com/Ledoux/ShareYourSystem/tree/master/Pythonlogy/ShareYourSystem/Itemizers/Restricter\" target=\"_blank\">Github</a>\n</small>\n\n", 
          "cell_type": "markdown", 
          "prompt_number": 20, 
          "metadata": {
            "slideshow": {
              "slide_type": "subslide"
            }
          }
        }, 
        {
          "source": "\n<!---\nFrozenIsBool True\n-->\n\n##Example\n\nLet's create an empty class, which will automatically receive\nspecial attributes from the decorating ClassorClass,\nspecially the NameStr, that should be the ClassStr\nwithout the TypeStr in the end.", 
          "cell_type": "markdown", 
          "prompt_number": 21, 
          "metadata": {
            "slideshow": {
              "slide_type": "subslide"
            }
          }
        }, 
        {
          "cell_type": "code", 
          "prompt_number": 22, 
          "language": "python", 
          "input": [
            "\n", 
            "#ImportModules\n", 
            "import ShareYourSystem as SYS\n", 
            "from ShareYourSystem.Itemizers import Restricter\n", 
            "\n", 
            "#Explicit expression\n", 
            "MyRestricter=Restricter.RestricterClass(**{'RestrictingIsBool':True})\n", 
            "MyRestricter.ResettedStr=\"Hello\"\n", 
            "MyRestricter.__setitem__('ResettedStr',\"Bonjour\")\n", 
            "MyRestricter.__setitem__('NotsettedFloat',1.)\n", 
            "\n", 
            "#Return\n", 
            "SYS._attest(\n", 
            "    [\n", 
            "    'MyRestricter is '+SYS._str(\n", 
            "            MyRestricter,\n", 
            "            **{\n", 
            "            'RepresentingBaseKeyStrsListBool':False,\n", 
            "            'RepresentingAlineaIsBool':False\n", 
            "            }\n", 
            "        )\n", 
            "    ]\n", 
            ")\n", 
            "\n", 
            "#Print\n", 
            "\n", 
            "\n"
          ], 
          "outputs": [
            {
              "output_type": "stream", 
              "stream": "stdout", 
              "text": [
                "\n", 
                "\n", 
                "*****Start of the Attest *****\n", 
                "\n", 
                "MyRestricter is < (RestricterClass), 4555208144>\n", 
                "   /{ \n", 
                "   /  '<New><Instance>IdInt' : 4555208144\n", 
                "   /  '<New><Instance>ResettedStr' : Bonjour\n", 
                "   /  '<Spe><Instance>RestrictedSetIsBool' : True\n", 
                "   /  '<Spe><Instance>RestrictingIsBool' : True\n", 
                "   /  '<Spe><Instance>RestrictingKeyStr' : NotsettedFloat\n", 
                "   /}\n", 
                "\n", 
                "*****End of the Attest *****\n", 
                "\n", 
                "\n"
              ]
            }
          ], 
          "collapsed": false, 
          "metadata": {
            "slideshow": {
              "slide_type": "-"
            }
          }
        }, 
        {
          "source": "\n<!--\nFrozenIsBool False\n-->\n\n#Pather\n\n##Doc\n----\n\n\n> \n> A Pather use its __setitem__ method for setting attributes in deeper levels thanks to \n> the PathingPrefixStr \n> \n> \n\n----\n\n<small>\nView the Pather notebook on [NbViewer](http://nbviewer.ipython.org/url/shareyoursystem.ouvaton.org/Pather.ipynb)\n</small>\n\n", 
          "cell_type": "markdown", 
          "prompt_number": 23, 
          "metadata": {
            "slideshow": {
              "slide_type": "slide"
            }
          }
        }, 
        {
          "source": "\n<!--\nFrozenIsBool False\n-->\n\n##Code\n\n----\n\n<ClassDocStr>\n\n----\n\n```python\n# -*- coding: utf-8 -*-\n\"\"\"\n\n\n<DefineSource>\n@Date : Fri Nov 14 13:20:38 2014 \\n\n@Author : Erwan Ledoux \\n\\n\n</DefineSource>\n\n\nA Pather use its __setitem__ method for setting attributes in deeper levels thanks to \nthe PathingPrefixStr \n\n\"\"\"\n\n#<DefineAugmentation>\nimport ShareYourSystem as SYS\nBaseModuleStr=\"ShareYourSystem.Itemizers.Restricter\"\nDecorationModuleStr=\"ShareYourSystem.Classors.Classer\"\nSYS.setSubModule(globals())\n#</DefineAugmentation>\n\n#<ImportSpecificModules>\nimport collections\n#</ImportSpecificModules>\n\n#<DefineLocals>\nPathingPrefixStr=\"/\"\n#</DefineLocals>\n\n#<DefineFunctions>\ndef getVariableWithPathVariableAndKeyList(_DictatedVariable,_KeyList):\n\t''''''\n\tif type(_KeyList)==list:\n\n\t\t#Empty list case : return the Objects\n\t\tif len(_KeyList)==0:\n\t\t\treturn _DictatedVariable;\n\t\telif len(_KeyList)==1:\n\n\t\t\t#One Variable List case : return the associated Value at the Int\n\t\t\tif type(_DictatedVariable) in [list,tuple]:\n\t\t\t\tif type(_KeyList[0])==int:\n\t\t\t\t\tif _KeyList[0]<len(_DictatedVariable):\n\t\t\t\t\t\treturn _DictatedVariable[_KeyList[0]]\n\n\t\t\telif _KeyList[0] in _DictatedVariable:\n\n\t\t\t\t#One Variable Dict case : return the associated Value at the KeyStr\n\t\t\t\treturn _DictatedVariable[_KeyList[0]]\n\t\telse:\n\t\t\t\n\t\t\t#Multi Variables case : recursive call with the reduced list\n\t\t\tif _KeyList[0] in _DictatedVariable:\n\t\t\t\treturn getVariableWithPathVariableAndKeyList(_DictatedVariable[_KeyList[0]],_KeyList[1:])\n\n\t#Return by default \"NotFound\"\n\treturn \"NotFound\"\n\ndef getVariableWithDictatedVariableAndKeyVariable(_DictatedVariable,_KeyVariable):\n\tif type(_KeyVariable)==list:\n\t\treturn getVariableWithPathVariableAndKeyList(_DictatedVariable,_KeyVariable)\n\telif type(_KeyVariable) in SYS.StrTypesList:\n\t\treturn _DictatedVariable[_KeyVariable] if _KeyVariable in _DictatedVariable else None\n\ndef getPathedBackGetStrWithGetStr(_GetStr):\n\n\t#Check\n\tif PathingPrefixStr in _GetStr:\n\n\t\t#Get the path just before\n\t\treturn PathingPrefixStr.join(\n\t\t\t_GetStr.split(PathingPrefixStr)[:-1]\n\t\t\t)\n\n\telse:\n\n\t\treturn \"\"\n\ndef getPathedBackVariableWithVariableAndGetStr(_Variable,_GetStr):\n\n\t#get\n\tPathedBackGetStr=getPathedBackGetStrWithGetStr(_GetStr)\n\n\t#Check\n\tif PathedBackGetStr!=\"\":\n\n\t\t#Get the path just before\n\t\tPointedBackVariable=_Variable[PathedBackGetStr]\n\n\telse:\n\n\t\t#Return the variable directly\n\t\tPointedBackVariable=_Variable\n\n\t#Return \n\treturn PointedBackVariable\n\n#</DefineFunctions>\n\n#<DefineClass>\n@DecorationClass()\nclass PatherClass(BaseClass):\n\n\t#Definition\n\tRepresentingKeyStrsList=[\n\t\t\t\t\t\t\t\t\t'PathingKeyStr',\n\t\t\t\t\t\t\t\t\t'PathedKeyStrsList',\n\t\t\t\t\t\t\t\t\t'PathedGetKeyStr',\n\t\t\t\t\t\t\t\t\t'PathedChildKeyStr',\n\t\t\t\t\t\t\t\t\t#'PathedGetValueVariable'\n\t\t\t\t\t\t\t\t]\n\n\tdef default_init(self,\n\t\t\t\t_PathingKeyStr=\"\", \t\t\t\t\n\t\t\t\t_PathedKeyStrsList=None, \t\t\n\t\t\t\t_PathedGetKeyStr=\"\", \t\t\t\t\t\t\n\t\t\t\t_PathedGetValueVariable=None,  \n\t\t\t\t_PathedChildKeyStr=\"\",\t\t\t\n\t\t\t\t**_KwargVariablesDict\n\t\t\t\t):\n\n\t\t#Call the parent init method\n\t\tBaseClass.__init__(self,**_KwargVariablesDict)\n\n\tdef do_path(self):\n\n\t\t#debug\n\t\t'''\n\t\tself.debug(('self.',self,['PathingKeyStr']))\n\t\t'''\n\t\t\n\t\t#Split\n\t\tself.PathedKeyStrsList=self.PathingKeyStr.split(PathingPrefixStr)\n\n\t\t#set\n\t\t#self.PathedGetKeyStr=PathingPrefixStr.join(self.PathedKeyStrsList[1:])\n\t\tself.PathedGetKeyStr=self.PathedKeyStrsList[1]\n\n\t\t#debug\n\t\t'''\n\t\tself.debug(\n\t\t\t\t\t('self.',self,[\n\t\t\t\t\t\t\t\t\t'PathingKeyStr',\n\t\t\t\t\t\t\t\t\t'PathedKeyStrsList',\n\t\t\t\t\t\t\t\t\t'PathedGetKeyStr',\n\t\t\t\t\t\t\t\t])\n\t\t\t\t)\n\t\t'''\n\n\t\t#set the PathedGetValueVariable\n\t\tif self.PathedGetKeyStr==\"\":\n\n\t\t\t#debug\n\t\t\t'''\n\t\t\tself.debug('self.PathedGetKeyStr is \"\"')\n\t\t\t'''\n\n\t\t\t#set\n\t\t\tself.PathedGetValueVariable=self\n\n\t\telse:\n\n\t\t\t#debug\n\t\t\t'''\n\t\t\tself.debug('This is recursive path set so get the pathedvalue')\n\t\t\t'''\n\n\t\t\t#Set\n\t\t\tif len(self.PathedKeyStrsList)>2:\n\t\t\t\tself.PathedChildKeyStr=PathingPrefixStr+PathingPrefixStr.join(\n\t\t\t\t\tself.PathedKeyStrsList[2:])\n\n\t\t\t#getitem\n\t\t\tself.PathedGetValueVariable=self[self.PathedGetKeyStr]\n\n\t\t#debug\n\t\t'''\n\t\tself.debug(\n\t\t\t\t\t('self.',self,[\n\t\t\t\t\t\t\t\t\t'PathedGetValueVariable'\n\t\t\t\t\t\t\t\t])\n\t\t\t\t)\n\t\t'''\n\n\t#<Hook>@Hooker.HookerClass(**{'HookingAfterVariablesList':[BaseClass.get]})\n\t#@Imitater.ImitaterClass()\n\tdef mimic_get(self):\n\n\t\t#debug\n\t\t'''\n\t\tself.debug((\"self.\",self,['GettingKeyVariable']))\n\t\t'''\n\n\t\t#Definition\n\t\tOutputDict={'HookingIsBool':True}\n\n\t\t#Check\n\t\tif self.GettingKeyVariable.startswith(PathingPrefixStr):\n\n\t\t\t#debug\n\t\t\t'''\n\t\t\tself.debug('We path here')\n\t\t\t'''\n\n\t\t\t#Path\n\t\t\tself.path(self.GettingKeyVariable)\n\n\t\t\t#debug\n\t\t\t'''\n\t\t\tself.debug(('self.',self,[\n\t\t\t\t\t\t\t\t\t\t\"PathedKeyStrsList\",\n\t\t\t\t\t\t\t\t\t\t\"PathedGetKeyStr\",\n\t\t\t\t\t\t\t\t\t\t\"PathedGetValueVariable\"\n\t\t\t\t\t\t\t\t\t]\n\t\t\t\t\t\t\t\t))\n\t\t\t'''\n\n\t\t\t#Check\n\t\t\tif self.PathedGetKeyStr==\"\":\n\n\t\t\t\t#debug\n\t\t\t\t'''\n\t\t\t\tself.debug('This is a local already self get ')\n\t\t\t\t'''\n\n\t\t\t\t#Direct get\n\t\t\t\tself.GettedValueVariable=self.PathedGetValueVariable\n\n\t\t\telif self.PathedGetKeyStr!=\"\" and len(self.PathedKeyStrsList)==2:\n\n\t\t\t\t#debug\n\t\t\t\t'''\n\t\t\t\tself.debug('This is a local already get ')\n\t\t\t\t'''\n\n\t\t\t\t#Return the first level\n\t\t\t\tself.GettedValueVariable=self.PathedGetValueVariable\n\n\t\t\telse:\n\n\t\t\t\t#debug\n\t\t\t\t'''\n\t\t\t\tself.debug(\n\t\t\t\t\t\t\t[\n\t\t\t\t\t\t\t\t'This is recursive get with ',\n\t\t\t\t\t\t\t\t('self.',self,[\n\t\t\t\t\t\t\t\t\t\t\t\t'PathedGetValueVariable',\n\t\t\t\t\t\t\t\t\t\t\t\t'PathedChildKeyStr'\n\t\t\t\t\t\t\t\t\t\t\t]\n\t\t\t\t\t\t\t\t)\n\t\t\t\t\t\t\t]\n\t\t\t\t\t\t)\n\t\t\t\t'''\n\n\t\t\t\t#Get with the PathedChildKeyStr\n\t\t\t\tself.GettedValueVariable=self.PathedGetValueVariable[self.PathedChildKeyStr]\n\n\t\t\t#Stop the getting\n\t\t\tOutputDict['HookingIsBool']=False\n\t\t\t#<Hook>return OutputDict\n\n\t\t\t#Return\n\t\t\treturn OutputDict\n\n\t\t#Call the parent get method\n\t\tif OutputDict['HookingIsBool']:\n\n\t\t\t#debug\n\t\t\t'''\n\t\t\tself.debug(\n\t\t\t\t\t\t[\n\t\t\t\t\t\t\t'BaseClass.get is '+str(BaseClass.get),\n\t\t\t\t\t\t\t('self.',self,['GettingKeyVariable'])\n\t\t\t\t\t\t]\n\t\t\t\t\t)\n\t\t\t'''\n\t\t\t\n\t\t\t#Call\n\t\t\treturn BaseClass.get(self)\n\n\t\telse:\n\n\t\t\t#return \n\t\t\treturn OutputDict\n\n\t#<Hook>@Hooker.HookerClass(**{'HookingAfterVariablesList':[BaseClass.set]})\n\t#@Imitater.ImitaterClass()\n\tdef mimic_set(self):\n\t\t\"\"\" \"\"\"\n\n\t\t#debug\n\t\t'''\n\t\tself.debug(('self.',self,['SettingKeyVariable','SettingValueVariable']))\n\t\t'''\n\n\t\t#Definition\n\t\tOutputDict={'HookingIsBool':True}\n\n\t\t#Deep set\n\t\tif self.SettingKeyVariable.startswith(PathingPrefixStr):\n\n\t\t\t#debug\n\t\t\t'''\n\t\t\tself.debug('We are going to path')\n\t\t\t'''\n\n\t\t\t#Path\n\t\t\tself.path(self.SettingKeyVariable)\n\n\t\t\t#debug\n\t\t\t'''\n\t\t\tself.debug(('self.',self,[\n\t\t\t\t\t\t\t\t\t\t\"PathedGetKeyStr\",\n\t\t\t\t\t\t\t\t\t\t\"PathedChildKeyStr\",\n\t\t\t\t\t\t\t\t\t\t\"PathedGetValueVariable\"\n\t\t\t\t\t\t\t\t\t]\n\t\t\t\t\t\t\t\t))\n\t\t\t'''\n\t\t\t\n\t\t\t#set\n\t\t\t#Direct update in the Child or go deeper with the ChildPathStr\n\t\t\tif self.SettingKeyVariable[-1]==PathingPrefixStr: \n\t\t\t\t\n\t\t\t\t#debug\n\t\t\t\t'''\n\t\t\t\tself.debug('this is a special set inside the pathed variable')\n\t\t\t\t'''\n\n\t\t\t\t#Check\n\t\t\t\tif self.PathedGetValueVariable!=None:\n\n\t\t\t\t\t#Case where it is an object to set inside\n\t\t\t\t\tif 'PatherClass' in map(\n\t\t\t\t\t\t\t\t\t\tlambda __Class:\n\t\t\t\t\t\t\t\t\t\t__Class.__name__,\n\t\t\t\t\t\t\t\t\t\ttype(self.PathedGetValueVariable).__mro__\n\t\t\t\t\t\t\t\t\t\t):\n\n\t\t\t\t\t\t#debug\n\t\t\t\t\t\t'''\n\t\t\t\t\t\tself.debug(('self.',self,[\n\t\t\t\t\t\t\t\t\t\t\t\t\t'PathedGetKeyStr',\n\t\t\t\t\t\t\t\t\t\t\t\t\t'SettingKeyVariable',\n\t\t\t\t\t\t\t\t\t\t\t\t\t'SettingValueVariable',\n\t\t\t\t\t\t\t\t\t\t\t\t\t'PathedGetValueVariable'\n\t\t\t\t\t\t\t\t\t\t\t\t]))\n\t\t\t\t\t\t'''\n\n\t\t\t\t\t\t#Modify directly the PathedGetValueVariable with self.SettingValueVariable\n\t\t\t\t\t\tself.PathedGetValueVariable.__setitem__(\n\t\t\t\t\t\t\t\t\t\t\t\t\t\t\t\tself.SettingValueVariable[0],\n\t\t\t\t\t\t\t\t\t\t\t\t\t\t\t\tself.SettingValueVariable[1]\n\t\t\t\t\t\t\t\t\t\t\t\t\t\t\t)\n\n\n\t\t\t\t\t#Case where it is a set at the level of self of an already setted thing\n\t\t\t\t\telse:\n\n\t\t\t\t\t\t#set to the corresponding point\n\t\t\t\t\t\tself[self.PathedGetKeyStr]=self.SettingValueVariable\n\n\t\t\t\telse:\n\n\t\t\t\t\t#debug\n\t\t\t\t\t'''\n\t\t\t\t\tself.debug(\n\t\t\t\t\t\t\t[\n\t\t\t\t\t\t\t\t'set with setWithPathVariableAndKeyVariable',\n\t\t\t\t\t\t\t\t(\"self.\",self,[\n\t\t\t\t\t\t\t\t\t\t\t\t'SettingValueVariable',\n\t\t\t\t\t\t\t\t\t\t\t\t'PathedChildKeyStr'])\n\t\t\t\t\t\t\t]\n\t\t\t\t\t)\n\t\t\t\t\t'''\n\n\t\t\t\t\t#Call the setWithPathVariableAndKeyVariable\n\t\t\t\t\tsetWithPathVariableAndKeyVariable(\n\t\t\t\t\t\tself.PathedGetValueVariable,\n\t\t\t\t\t\tself.PathedChildKeyStr,\n\t\t\t\t\t\tself.SettingValueVariable\n\t\t\t\t\t)\n\n\t\t\t#Case where it is a set at the level of self of new setted thing\n\t\t\telse:\n\n\t\t\t\t#debug\n\t\t\t\t'''\n\t\t\t\tself.debug('we setitem here')\n\t\t\t\t'''\n\n\t\t\t\t#Check\n\t\t\t\tif self.PathedGetKeyStr!=\"\" and len(self.PathedKeyStrsList)==2:\n\n\t\t\t\t\t#debug\n\t\t\t\t\t'''\n\t\t\t\t\tself.debug('we setitem at this level')\n\t\t\t\t\t'''\n\n\t\t\t\t\t#set\n\t\t\t\t\tself[self.PathedGetKeyStr]=self.SettingValueVariable\n\t\t\t\telse:\n\n\t\t\t\t\t#debug\n\t\t\t\t\t'''\n\t\t\t\t\tself.debug('we setitem further')\n\t\t\t\t\t'''\n\t\t\t\t\t\n\t\t\t\t\t#set\n\t\t\t\t\tself.PathedGetValueVariable[\n\t\t\t\t\t\tPathingPrefixStr.join(self.PathedKeyStrsList[2:])\n\t\t\t\t\t]=self.SettingValueVariable\n\n\t\t\t#Stop the setting\n\t\t\tOutputDict[\"HookingIsBool\"]=False\n\t\t\t#<Hook>return OutputDict\n\n\t\t#Call the parent get method\n\t\tif OutputDict['HookingIsBool']:\n\t\t\treturn BaseClass.set(self)\n\t\telse:\n\t\t\treturn OutputDict\n\n#</DefineClass>\n\n#<DefineFunctions>\ndef setWithPathVariableAndKeyVariable(_DictatedVariable,_KeyVariable,_ValueVariable,**_KwargsDict):\n\t'''\t'''\n\n\t#Get the type\n\tType=type(_DictatedVariable)\n\n\t#debug\n\t'''\n\tprint('Pather l.286 ')\n\tprint('Type is ',Type)\n\tprint('_KeyVariable is ',_KeyVariable)\n\tprint('')\n\t'''\n\n\t#Special dict case for also handling SluggerNamesList Key\n\tif Type in [dict,collections.OrderedDict] or PatherClass in Type.__mro__:\n\n\t\t#debug\n\t\t'''\n\t\tprint('_DictatedVariable has items')\n\t\tprint('')\n\t\t'''\n\n\t\t#set with a list\n\t\tif type(_KeyVariable)==list:\n\t\t\tif len(_KeyVariable)>0:\n\t\t\t\tif _KeyVariable[0]==PathingPrefixStr:\n\t\t\t\t\tif len(_KeyVariable)==1:\n\n\t\t\t\t\t\t#debug\n\t\t\t\t\t\t'''\n\t\t\t\t\t\tprint('_KeyVariable==[PathingPrefixStr]')\n\t\t\t\t\t\tprint('So just update')\n\t\t\t\t\t\tprint('')\n\t\t\t\t\t\t'''\n\n\t\t\t\t\t\t#Update\n\t\t\t\t\t\t_DictatedVariable.update(_ValueVariable)\n\t\t\t\t\t\treturn\n\n\t\t\t\t\telse:\n\t\t\t\t\t\t_KeyVariable=_KeyVariable[1:]\n\n\t\t\t\t#debug\n\t\t\t\t'''\n\t\t\t\tprint('_KeyVariable is a list')\n\t\t\t\tprint('_KeyVariable is '+str(_KeyVariable))\n\t\t\t\tprint('')\n\t\t\t\t'''\n\n\t\t\t\t#Get the next \"path\"\n\t\t\t\tGettedVariable=getVariableWithDictatedVariableAndKeyVariable(_DictatedVariable,_KeyVariable[:-1])\n\n\t\t\t\t#debug\n\t\t\t\t'''\n\t\t\t\tprint('GettedVariable is '+str(GettedVariable))\n\t\t\t\tprint('')\n\t\t\t\t'''\n\n\t\t\t\t#set\n\t\t\t\tsetWithPathVariableAndKeyVariable(GettedVariable,_KeyVariable[-1],_ValueVariable)\n\n\t\t\t\t#Return \n\t\t\t\treturn\n\t\telse:\n\n\t\t\t#debug\n\t\t\t'''\n\t\t\tprint('_KeyVariable is not a list')\n\t\t\tprint('_KeyVariable is '+str(_KeyVariable))\n\t\t\tprint('')\n\t\t\t'''\n\n\t\t\t#Escape\n\t\t\tif len(_KeyVariable)==0:\n\t\t\t\t\n\t\t\t\t#debug\n\t\t\t\t'''\n\t\t\t\tprint('Pather l.330')\n\t\t\t\tprint('This is an empty _KeyVariable here')\n\t\t\t\tprint('_ValueVariable is '+str(_ValueVariable))\n\t\t\t\tprint('')\n\t\t\t\t'''\n\n\t\t\t\tpass\n\n\t\t\t#Call a method of the dict\n\t\t\telif  (_KeyVariable[0].isalpha() or _KeyVariable[0:2]==\"__\") and  _KeyVariable[0].lower()==_KeyVariable[0]:\n\t\t\t\t\n\t\t\t\t#debug\n\t\t\t\t'''\n\t\t\t\tprint('Pather l.342')\n\t\t\t\tprint('_DictatedVariable is ',_DictatedVariable)\n\t\t\t\tprint('_KeyVariable is ',_KeyVariable)\n\t\t\t\tprint('_ValueVariable is ',_ValueVariable)\n\t\t\t\tprint('')\n\t\t\t\t'''\n\n\t\t\t\t#Get\n\t\t\t\tFunction=getattr(_DictatedVariable,_KeyVariable)\n\n\t\t\t\t#Call\n\t\t\t\ttry:\n\t\t\t\t\tFunction(\n\t\t\t\t\t\t\t\t*_ValueVariable['LiargVariablesList'],\n\t\t\t\t\t\t\t\t**_ValueVariable['KwargVariablesDict']\n\t\t\t\t\t\t\t)\n\t\t\t\texcept:\n\t\t\t\t\tFunction(*_ValueVariable['LiargVariablesList'])\n\t\t\t\t\n\t\t\t\t#Return \n\t\t\t\treturn\n\n\t\t\t#set deeply in the dict\n\t\t\telif _KeyVariable.startswith(PathingPrefixStr):\n\n\t\t\t\t#Case of the dict or OrderedDict we have to convert in list to make the key been understood\n\t\t\t\tif Type in [dict,collections.OrderedDict]:\n\n\t\t\t\t\t#Split\n\t\t\t\t\t_KeyVariable=_KeyVariable.split(PathingPrefixStr)[1:]\n\n\t\t\t\t\t#debug\n\t\t\t\t\t'''\n\t\t\t\t\tprint('_KeyVariable has PathingPrefixStrs so convert the _KeyVariable into a list')\n\t\t\t\t\tprint(_KeyVariable)\n\t\t\t\t\tprint('')\n\t\t\t\t\t'''\n\n\t\t\t\t\t#set in the dict\n\t\t\t\t\tsetWithPathVariableAndKeyVariable(\n\t\t\t\t\t\t\t_DictatedVariable,\n\t\t\t\t\t\t\t_KeyVariable,\n\t\t\t\t\t\t\t_ValueVariable\n\t\t\t\t\t\t)\n\n\t\t\t\t\t#Return \n\t\t\t\t\treturn\n\n\t\t\t\telse:\n\n\t\t\t\t\t#debug\n\t\t\t\t\t'''\n\t\t\t\t\tprint('_KeyVariable has PathingPrefixStrs bu the _DictatedVariable knows how to deal with that')\n\t\t\t\t\t'''\n\n\t\t\t\t\t#This is an object that understandsa already how to do\n\t\t\t\t\t_DictatedVariable[_KeyVariable]=_ValueVariable\n\n\t\t\t\t\t#Return \n\t\t\t\t\treturn\n\n\t\t\telse:\n\n\t\t\t\t#debug\n\t\t\t\t'''\n\t\t\t\tprint('_KeyVariable has no PathingPrefixStr so set direclty')\n\t\t\t\tprint(_KeyVariable)\n\t\t\t\tprint('')\n\t\t\t\t'''\n\n\t\t\t\t#set \n\t\t\t\t_DictatedVariable[_KeyVariable]=_ValueVariable\n\n\t\t\t\t#Return \n\t\t\t\treturn\n\n\t#List Case\n\tif type(_DictatedVariable)==list:\n\t\tif type(_KeyVariable)==list():\n\t\t\tNextSlugger=getVariableWithDictatedVariableAndKeyVariable(_DictatedVariable,_KeyVariable[0])\n\t\t\tsetWithPathVariableAndKeyVariable(NextSlugger,_KeyVariable[1:],_ValueVariable)\n\t\t\treturn\n\t\telse:\n\t\t\t_DictatedVariable[_KeyVariable]=_ValueVariable\n\t\t\treturn\t\n#</DefineFunctions>\n\n```\n\n<small>\nView the Pather sources on <a href=\"https://github.com/Ledoux/ShareYourSystem/tree/master/Pythonlogy/ShareYourSystem/Itemizers/Pather\" target=\"_blank\">Github</a>\n</small>\n\n", 
          "cell_type": "markdown", 
          "prompt_number": 24, 
          "metadata": {
            "slideshow": {
              "slide_type": "subslide"
            }
          }
        }, 
        {
          "source": "\n<!---\nFrozenIsBool True\n-->\n\n##Example\n\nLet's create an empty class, which will automatically receive\nspecial attributes from the decorating ClassorClass,\nspecially the NameStr, that should be the ClassStr\nwithout the TypeStr in the end.", 
          "cell_type": "markdown", 
          "prompt_number": 25, 
          "metadata": {
            "slideshow": {
              "slide_type": "subslide"
            }
          }
        }, 
        {
          "cell_type": "code", 
          "prompt_number": 26, 
          "language": "python", 
          "input": [
            "\n", 
            "#ImportModules\n", 
            "import ShareYourSystem as SYS\n", 
            "from ShareYourSystem.Itemizers import Pather\n", 
            "\n", 
            "#Explicit expression\n", 
            "MyPather=Pather.PatherClass().__setitem__('MyStr','I am the parent')\n", 
            "MyPather.__setitem__('ChildPather',Pather.PatherClass())\n", 
            "\n", 
            "#set with a deep short Str\n", 
            "MyPather.__setitem__(\n", 
            "    '/ChildPather/MyStr',\n", 
            "    'I am the child'\n", 
            ")\n", 
            "\n", 
            "#set with a deep deep short Str\n", 
            "MyPather.__setitem__(\n", 
            "    '/ChildPather/GrandChildPather',\n", 
            "    Pather.PatherClass()\n", 
            ")\n", 
            "\n", 
            "#set with a deep short Str\n", 
            "MyPather.__setitem__(\n", 
            "    '/OtherChildPather',\n", 
            "    Pather.PatherClass().__setitem__('MyInt',3)\n", 
            ")\n", 
            "\n", 
            "#set with a deep short Str\n", 
            "MyPather.__setitem__(\n", 
            "    '/OtherChildPather',\n", 
            "    Pather.PatherClass().__setitem__('MyInt',4)\n", 
            ")\n", 
            "\n", 
            "#'/' gets the self\n", 
            "MyPather.__setitem__(\n", 
            "    '/SelfPather',\n", 
            "    MyPather['/']\n", 
            ")\n", 
            "\n", 
            "\n", 
            "#Definition the AttestedStr\n", 
            "SYS._attest(\n", 
            "[\n", 
            "    'MyPather is '+SYS._str(\n", 
            "            MyPather,\n", 
            "            **{\n", 
            "            'RepresentingBaseKeyStrsListBool':False,\n", 
            "            'RepresentingAlineaIsBool':False\n", 
            "            }\n", 
            "        ),\n", 
            "    'MyPather[\\'/ChildPather\\'] is '+SYS._str(\n", 
            "            MyPather['/ChildPather'],\n", 
            "            **{\n", 
            "            'RepresentingBaseKeyStrsListBool':False,\n", 
            "            'RepresentingAlineaIsBool':False\n", 
            "            }\n", 
            "        ),\n", 
            "    'MyPather[\\'/ChildPather/GrandChildPather\\'] is '+SYS._str(\n", 
            "            MyPather['/ChildPather/GrandChildPather'],\n", 
            "            **{\n", 
            "            'RepresentingBaseKeyStrsListBool':False,\n", 
            "            'RepresentingAlineaIsBool':False\n", 
            "            }\n", 
            "        )\n", 
            "    ]\n", 
            ") \n", 
            "\n", 
            "#Print\n", 
            "\n", 
            "\n"
          ], 
          "outputs": [
            {
              "output_type": "stream", 
              "stream": "stdout", 
              "text": [
                "\n", 
                "\n", 
                "*****Start of the Attest *****\n", 
                "\n", 
                "MyPather is < (PatherClass), 4555208080>\n", 
                "   /{ \n", 
                "   /  '<New><Instance>ChildPather' : < (PatherClass), 4555207376>\n", 
                "   /   /{ \n", 
                "   /   /  '<New><Instance>GrandChildPather' : < (PatherClass), 4555208208>\n", 
                "   /   /   /{ \n", 
                "   /   /   /  '<New><Instance>IdInt' : 4555208208\n", 
                "   /   /   /  '<Spe><Class>PathedChildKeyStr' : \n", 
                "   /   /   /  '<Spe><Class>PathedGetKeyStr' : \n", 
                "   /   /   /  '<Spe><Class>PathedKeyStrsList' : None\n", 
                "   /   /   /  '<Spe><Class>PathingKeyStr' : \n", 
                "   /   /   /}\n", 
                "   /   /  '<New><Instance>IdInt' : 4555207376\n", 
                "   /   /  '<New><Instance>MyStr' : I am the child\n", 
                "   /   /  '<Spe><Class>PathedChildKeyStr' : \n", 
                "   /   /  '<Spe><Class>PathedGetKeyStr' : \n", 
                "   /   /  '<Spe><Class>PathedKeyStrsList' : None\n", 
                "   /   /  '<Spe><Class>PathingKeyStr' : \n", 
                "   /   /}\n", 
                "   /  '<New><Instance>IdInt' : 4555208080\n", 
                "   /  '<New><Instance>MyStr' : I am the parent\n", 
                "   /  '<New><Instance>OtherChildPather' : < (PatherClass), 4555206800>\n", 
                "   /   /{ \n", 
                "   /   /  '<New><Instance>IdInt' : 4555206800\n", 
                "   /   /  '<New><Instance>MyInt' : 4\n", 
                "   /   /  '<Spe><Class>PathedChildKeyStr' : \n", 
                "   /   /  '<Spe><Class>PathedGetKeyStr' : \n", 
                "   /   /  '<Spe><Class>PathedKeyStrsList' : None\n", 
                "   /   /  '<Spe><Class>PathingKeyStr' : \n", 
                "   /   /}\n", 
                "   /  '<New><Instance>SelfPather' : {...}< (PatherClass), 4555208080>\n", 
                "   /  '<Spe><Instance>PathedChildKeyStr' : /GrandChildPather\n", 
                "   /  '<Spe><Instance>PathedGetKeyStr' : SelfPather\n", 
                "   /  '<Spe><Instance>PathedKeyStrsList' : ['', 'SelfPather']\n", 
                "   /  '<Spe><Instance>PathingKeyStr' : /SelfPather\n", 
                "   /}\n", 
                "\n", 
                "------\n", 
                "\n", 
                "MyPather['/ChildPather'] is < (PatherClass), 4555207376>\n", 
                "   /{ \n", 
                "   /  '<New><Instance>GrandChildPather' : < (PatherClass), 4555208208>\n", 
                "   /   /{ \n", 
                "   /   /  '<New><Instance>IdInt' : 4555208208\n", 
                "   /   /  '<Spe><Class>PathedChildKeyStr' : \n", 
                "   /   /  '<Spe><Class>PathedGetKeyStr' : \n", 
                "   /   /  '<Spe><Class>PathedKeyStrsList' : None\n", 
                "   /   /  '<Spe><Class>PathingKeyStr' : \n", 
                "   /   /}\n", 
                "   /  '<New><Instance>IdInt' : 4555207376\n", 
                "   /  '<New><Instance>MyStr' : I am the child\n", 
                "   /  '<Spe><Class>PathedChildKeyStr' : \n", 
                "   /  '<Spe><Class>PathedGetKeyStr' : \n", 
                "   /  '<Spe><Class>PathedKeyStrsList' : None\n", 
                "   /  '<Spe><Class>PathingKeyStr' : \n", 
                "   /}\n", 
                "\n", 
                "------\n", 
                "\n", 
                "MyPather['/ChildPather/GrandChildPather'] is < (PatherClass), 4555208208>\n", 
                "   /{ \n", 
                "   /  '<New><Instance>IdInt' : 4555208208\n", 
                "   /  '<Spe><Class>PathedChildKeyStr' : \n", 
                "   /  '<Spe><Class>PathedGetKeyStr' : \n", 
                "   /  '<Spe><Class>PathedKeyStrsList' : None\n", 
                "   /  '<Spe><Class>PathingKeyStr' : \n", 
                "   /}\n", 
                "\n", 
                "*****End of the Attest *****\n", 
                "\n", 
                "\n"
              ]
            }
          ], 
          "collapsed": false, 
          "metadata": {
            "slideshow": {
              "slide_type": "-"
            }
          }
        }, 
        {
          "source": "\n<!--\nFrozenIsBool False\n-->\n\n#Grasper\n\n##Doc\n----\n\n\n> \n> A Grasper can get a GraspedGetVariable depending if the GraspingGetVariable\n> is a PathStr, a GraspDict or directly the Variable itself.\n> \n> \n\n----\n\n<small>\nView the Grasper notebook on [NbViewer](http://nbviewer.ipython.org/url/shareyoursystem.ouvaton.org/Grasper.ipynb)\n</small>\n\n", 
          "cell_type": "markdown", 
          "prompt_number": 27, 
          "metadata": {
            "slideshow": {
              "slide_type": "slide"
            }
          }
        }, 
        {
          "source": "\n<!--\nFrozenIsBool False\n-->\n\n##Code\n\n----\n\n<ClassDocStr>\n\n----\n\n```python\n# -*- coding: utf-8 -*-\n\"\"\"\n\n\n<DefineSource>\n@Date : Fri Nov 14 13:20:38 2014 \\n\n@Author : Erwan Ledoux \\n\\n\n</DefineSource>\n\n\nA Grasper can get a GraspedGetVariable depending if the GraspingGetVariable\nis a PathStr, a GraspDict or directly the Variable itself.\n\n\"\"\"\n\n#<DefineAugmentation>\nimport ShareYourSystem as SYS\nBaseModuleStr=\"ShareYourSystem.Itemizers.Pather\"\nDecorationModuleStr=\"ShareYourSystem.Classors.Classer\"\nSYS.setSubModule(globals())\n#</DefineAugmentation>\n\n#<ImportSpecificModules>\nimport collections\n#</ImportSpecificModules>\n\n#<DefineLocals>\nclass GraspDictClass(collections.OrderedDict):pass\nSYS.GraspDictClass=GraspDictClass\n#</DefineLocals>\n\n#<DefineClass>\n@DecorationClass()\nclass GrasperClass(BaseClass):\n\n\t#Definition\n\tRepresentingKeyStrsList=[\n\t\t\t\t\t\t\t\t'GraspingClueVariable',\n\t\t\t\t\t\t\t\t'GraspedAnswerVariable',\t\n\t\t\t\t\t\t\t\t'GraspedClueVariableType'\n\t\t\t\t\t\t\t]\n\n\tdef default_init(self,\t\n\t\t\t\t_GraspingClueVariable=None,\n\t\t\t\t_GraspedAnswerVariable=None,\t\n\t\t\t\t_GraspedClueVariableType=None,\t\n\t\t\t\t**_KwargVariablesDict\n\t\t\t\t):\n\n\t\t#Call the parent init method\n\t\tBaseClass.__init__(self,**_KwargVariablesDict)\n\n\tdef do_grasp(self):\n\n\t\t#type\n\t\tself.GraspedClueVariableType=type(self.GraspingClueVariable)\n\n\t\t#debug\n\t\t'''\n\t\tself.debug(\n\t\t\t\t\t[\n\t\t\t\t\t\t('self.',self,[\n\t\t\t\t\t\t\t\t\t\t'GraspedClueVariableType',\n\t\t\t\t\t\t\t\t\t\t'GraspingClueVariable'\n\t\t\t\t\t\t\t\t\t])\n\t\t\t\t\t]\n\t\t\t\t)\n\t\t'''\n\t\t\n\t\t#Check\n\t\tif self.GraspedClueVariableType in SYS.StrTypesList:\n\n\t\t\t#debug\n\t\t\t'''\n\t\t\tself.debug('We get with a pathstr')\n\t\t\t'''\n\n\t\t\t#It is a get through a PathStr\n\t\t\tself.GraspedAnswerVariable=self[self.GraspingClueVariable]\n\n\t\telif self.GraspedClueVariableType==GraspDictClass:\n\n\t\t\t#debug\n\t\t\t'''\n\t\t\tself.debug('We get with a GraspDict')\n\t\t\t'''\n\n\t\t\t#Check\n\t\t\tif type(self.GraspingClueVariable['HintVariable']) in SYS.StrTypesList:\n\n\t\t\t\t#debug\n\t\t\t\t'''\n\t\t\t\tself.debug(\n\t\t\t\t\t\t\t[\n\t\t\t\t\t\t\t\t'We get with a pathstr in the GraspDict',\n\t\t\t\t\t\t\t\t\"self.GraspingClueVariable['HintVariable'] is \"+self.GraspingClueVariable['HintVariable']\n\t\t\t\t\t\t\t]\n\t\t\t\t\t\t)\n\t\t\t\t'''\n\t\t\t\t\n\t\t\t\t#The GraspDict has maybe a path str to get the thing\n\t\t\t\tself.GraspedAnswerVariable=self[self.GraspingClueVariable['HintVariable']]\n\n\t\t\telse:\n\n\t\t\t\t#debug\n\t\t\t\t'''\n\t\t\t\tself.debug('We get direct in the GraspDict')\n\t\t\t\t'''\n\n\t\t\t\t#The GraspDict has maybe a path str to get the thing\n\t\t\t\tself.GraspedAnswerVariable=self.GraspingClueVariable['HintVariable']\n\n\t\telse:\n\n\t\t\t#It is already getted\n\t\t\tself.GraspedAnswerVariable=self.GraspingClueVariable\n\n\n#</DefineClass>\n\n\n```\n\n<small>\nView the Grasper sources on <a href=\"https://github.com/Ledoux/ShareYourSystem/tree/master/Pythonlogy/ShareYourSystem/Itemizers/Grasper\" target=\"_blank\">Github</a>\n</small>\n\n", 
          "cell_type": "markdown", 
          "prompt_number": 28, 
          "metadata": {
            "slideshow": {
              "slide_type": "subslide"
            }
          }
        }, 
        {
          "source": "\n<!---\nFrozenIsBool True\n-->\n\n##Example\n\nLet's create an empty class, which will automatically receive\nspecial attributes from the decorating ClassorClass,\nspecially the NameStr, that should be the ClassStr\nwithout the TypeStr in the end.", 
          "cell_type": "markdown", 
          "prompt_number": 29, 
          "metadata": {
            "slideshow": {
              "slide_type": "subslide"
            }
          }
        }, 
        {
          "cell_type": "code", 
          "prompt_number": 30, 
          "language": "python", 
          "input": [
            "\n", 
            "#ImportModules\n", 
            "import ShareYourSystem as SYS\n", 
            "from ShareYourSystem.Itemizers import Grasper\n", 
            "\n", 
            "#Explicit expression\n", 
            "MyGrasper=Grasper.GrasperClass().__setitem__(\n", 
            "    'ChildGrasper',\n", 
            "    Grasper.GrasperClass().__setitem__('MyStr',\"hello\")\n", 
            ")\n", 
            "\n", 
            "#Return\n", 
            "SYS._attest(\n", 
            "    [\n", 
            "        \"MyGrasper.grasp('/ChildGrasper/MyStr').GraspedAnswerVariable is \"+\n", 
            "        str(\n", 
            "            MyGrasper.grasp('/ChildGrasper/MyStr').GraspedAnswerVariable\n", 
            "            ),\n", 
            "        \"MyGrasper.grasp(MyGrasper.ChildGrasper).GraspedAnswerVariable is \"+\n", 
            "        str(\n", 
            "            MyGrasper.grasp(MyGrasper.ChildGrasper).GraspedAnswerVariable\n", 
            "            ),\n", 
            "        \"MyGrasper.grasp(SYS.GraspDictClass(**{'HintVariable':'/ChildGrasper/MyStr'})).GraspedAnswerVariable is \"+\n", 
            "        str(\n", 
            "            MyGrasper.grasp(SYS.GraspDictClass(**{'HintVariable':'/ChildGrasper/MyStr'})\n", 
            "            ).GraspedAnswerVariable),\n", 
            "    ]\n", 
            ")\n", 
            "\n", 
            "#Print\n", 
            "\n", 
            "\n"
          ], 
          "outputs": [
            {
              "output_type": "stream", 
              "stream": "stdout", 
              "text": [
                "\n", 
                "\n", 
                "*****Start of the Attest *****\n", 
                "\n", 
                "MyGrasper.grasp('/ChildGrasper/MyStr').GraspedAnswerVariable is hello\n", 
                "\n", 
                "------\n", 
                "\n", 
                "MyGrasper.grasp(MyGrasper.ChildGrasper).GraspedAnswerVariable is < (GrasperClass), 4555208400>\n", 
                "   /{ \n", 
                "   /  '<New><Instance>IdInt' : 4555208400\n", 
                "   /  '<New><Instance>MyStr' : hello\n", 
                "   /  '<Spe><Class>GraspedAnswerVariable' : None\n", 
                "   /  '<Spe><Class>GraspedClueVariableType' : None\n", 
                "   /  '<Spe><Class>GraspingClueVariable' : None\n", 
                "   /}\n", 
                "\n", 
                "------\n", 
                "\n", 
                "MyGrasper.grasp(SYS.GraspDictClass(**{'HintVariable':'/ChildGrasper/MyStr'})).GraspedAnswerVariable is hello\n", 
                "\n", 
                "*****End of the Attest *****\n", 
                "\n", 
                "\n"
              ]
            }
          ], 
          "collapsed": false, 
          "metadata": {
            "slideshow": {
              "slide_type": "-"
            }
          }
        }, 
        {
          "source": "\n<!--\nFrozenIsBool False\n-->\n\n#Sharer\n\n##Doc\n----\n\n\n> \n> A Sharer can set attributes at the level of the class\n> \n> \n\n----\n\n<small>\nView the Sharer notebook on [NbViewer](http://nbviewer.ipython.org/url/shareyoursystem.ouvaton.org/Sharer.ipynb)\n</small>\n\n", 
          "cell_type": "markdown", 
          "prompt_number": 31, 
          "metadata": {
            "slideshow": {
              "slide_type": "slide"
            }
          }
        }, 
        {
          "source": "\n<!--\nFrozenIsBool False\n-->\n\n##Code\n\n----\n\n<ClassDocStr>\n\n----\n\n```python\n# -*- coding: utf-8 -*-\n\"\"\"\n\n\n<DefineSource>\n@Date : Fri Nov 14 13:20:38 2014 \\n\n@Author : Erwan Ledoux \\n\\n\n</DefineSource>\n\n\nA Sharer can set attributes at the level of the class\n\n\"\"\"\n\n#<DefineAugmentation>\nimport ShareYourSystem as SYS\nBaseModuleStr=\"ShareYourSystem.Itemizers.Grasper\"\nDecorationModuleStr=\"ShareYourSystem.Classors.Classer\"\nSYS.setSubModule(globals())\n#</DefineAugmentation>\n\n#<ImportSpecificModules>\nfrom ShareYourSystem.Itemizers import Pather\n#</ImportSpecificModules>\n\n#<DefineLocals>\nSharingStartStr=\"__class__.\"\n#</DefineLocals>\n\n#<DefineClass>\n@DecorationClass()\nclass SharerClass(BaseClass):\n\n\t#Definition\n\tRepresentingKeyStrsList=[\n\t\t\t\t\t\t\t\t\t'SharingKeyStr',\n\t\t\t\t\t\t\t\t\t'SharingValueVariable',\n\t\t\t\t\t\t\t\t\t'SharedSetKeyStr',\n\t\t\t\t\t\t\t\t\t'SharedClassDict'\n\t\t\t\t\t\t\t\t]\n\n\tdef default_init(self,\n\t\t\t\t_SharingKeyStr=\"\", \t\t\t\t\t\n\t\t\t\t_SharingValueVariable=None, \t\t\t\t\n\t\t\t\t_SharedSetKeyStr=\"\" ,\n\t\t\t\t_SharedClassDict=None,\t\t\t\t\n\t\t\t\t**_KwargVariablesDict\n\t\t\t\t):\n\n\t\t#Call the parent init method\n\t\tBaseClass.__init__(self,**_KwargVariablesDict)\n\n\tdef do_share(self):\n\n\t\t#set\n\t\tself.SharedSetKeyStr=SharingStartStr.join(self.SharingKeyStr.split(SharingStartStr)[1:])\n\n\t\t#set at the level of the class\n\t\tsetattr(self.__class__,self.SharedSetKeyStr,self.SharingValueVariable)\n\n\t\t#debug\n\t\t'''\n\t\tself.debug(\n\t\t\t\t\t('self.',self,[\n\t\t\t\t\t\t\t\t\t'SharedSetKeyStr',\n\t\t\t\t\t\t\t\t])\n\t\t\t\t)\n\t\t'''\n\n\t#<Hook>@Hooker.HookerClass(**{'HookingAfterVariablesList':[BaseClass.get]})\n\t#@Imitater.ImitaterClass()\n\tdef mimic_get(self):\n\n\t\t#debug\n\t\t'''\n\t\tself.debug(('self.',self,['GettingKeyVariable']))\n\t\t'''\n\n\t\t#Deep get\n\t\tif self.GettingKeyVariable=='__class__':\n\n\t\t\t#set\n\t\t\tself.GettedValueVariable=self.__class__\n\n\t\t\t#Return\n\t\t\treturn {'HookingIsBool':False}\n\n\t\telif self.GettingKeyVariable.startswith(SharingStartStr):\n\n\t\t\t#Define\n\t\t\tSharedGetString=SharingStartStr.join(\n\t\t\t\t\tself.GettingKeyVariable.split(SharingStartStr)[1:]\n\t\t\t\t)\n\n\t\t\t#debug\n\t\t\t'''\n\t\t\tself.debug('SharedGetString is '+SharedGetString)\n\t\t\t'''\n\t\t\t\n\t\t\t#Define\n\t\t\tself.SharedClassDict=dict(\n\t\t\t\t\tmap(\n\t\t\t\t\t\tlambda __KeyString:\n\t\t\t\t\t\t(\n\t\t\t\t\t\t\t__KeyString,\n\t\t\t\t\t\t\tgetattr(\n\t\t\t\t\t\t\t\tself.__class__,\n\t\t\t\t\t\t\t\t__KeyString\n\t\t\t\t\t\t\t)\n\t\t\t\t\t\t),\n\t\t\t\t\t\tdir(self.__class__)\n\t\t\t\t\t)+[('__mro__',self.__class__.__mro__)]\n\t\t\t\t)\n\n\t\t\t#debug\n\t\t\t'''\n\t\t\tself.debug(('self.',self,['SharedClassDict']))\n\t\t\t'''\n\n\t\t\t#get in the __class__\n\t\t\tself.GettedValueVariable=Pather.getVariableWithDictatedVariableAndKeyVariable(\n\t\t\t\tself.SharedClassDict,\n\t\t\t\tSharedGetString\n\t\t\t)\n\n\t\t\t#Return\n\t\t\treturn {'HookingIsBool':False}\n\t\t\n\n\t\telse:\n\t\t\t\n\t\t\t#debug\n\t\t\t'''\n\t\t\tself.debug('BaseClass.get is '+str(BaseClass.get))\n\t\t\t'''\n\n\t\t\t#Get before with the parent method\n\t\t\tOutputDict=BaseClass.get(self)\n\n\t\t\t#Check that we have still to hook\n\t\t\tif OutputDict==None or OutputDict[\"HookingIsBool\"]:\n\n\t\t\t\t#Check\n\t\t\t\tif self.GettingKeyVariable in self.__class__.__dict__:\n\n\t\t\t\t\t#Get from the class\n\t\t\t\t\tself.GettedValueVariable=self.__class__.__dict__[self.GettingKeyVariable]\n\n\t\t\t\t\t#Return\n\t\t\t\t\treturn {'HookingIsBool':False}\n\n\t\t\t#Return\n\t\t\treturn {'HookingIsBool':True}\n\n\t#<Hook>@Hooker.HookerClass(**{'HookingAfterVariablesList':[BaseClass.set]})\n\t#@Imitater.ImitaterClass()\n\tdef mimic_set(self):\n\t\t\"\"\" \"\"\"\n\n\t\t#debug\n\t\t'''\n\t\tself.debug(('self.',self,['SettingKeyVariable','SettingValueVariable']))\n\t\t'''\n\n\t\t#Definition\n\t\tOutputDict={'HookingIsBool':True}\n\n\t\t#Deep set\n\t\tif self.SettingKeyVariable.startswith(SharingStartStr):\n\n\t\t\t#debug\n\t\t\t'''\n\t\t\tself.debug('We are going to share')\n\t\t\t'''\n\n\t\t\t#Path\n\t\t\tself.share(self.SettingKeyVariable,self.SettingValueVariable)\n\n\t\t\t#debug\n\t\t\t'''\n\t\t\tself.debug(('self.',self,[\n\t\t\t\t\t\t\t\t\t\t\"SharedKeyStr\",\n\t\t\t\t\t\t\t\t\t\t\"SharedChildKeyStr\",\n\t\t\t\t\t\t\t\t\t\t\"SharedValueVariable\"\n\t\t\t\t\t\t\t\t\t]\n\t\t\t\t\t\t\t\t))\n\t\t\t'''\n\n\t\t\t#Stop the setting\n\t\t\tOutputDict[\"HookingIsBool\"]=False\n\t\t\t#<Hook>return OutputDict\n\n\t\t#Call the parent get method\n\t\tif OutputDict['HookingIsBool']:\n\t\t\tBaseClass.set(self)\n\n\n#</DefineClass>\n\n\n```\n\n<small>\nView the Sharer sources on <a href=\"https://github.com/Ledoux/ShareYourSystem/tree/master/Pythonlogy/ShareYourSystem/Itemizers/Sharer\" target=\"_blank\">Github</a>\n</small>\n\n", 
          "cell_type": "markdown", 
          "prompt_number": 32, 
          "metadata": {
            "slideshow": {
              "slide_type": "subslide"
            }
          }
        }, 
        {
          "source": "\n<!---\nFrozenIsBool True\n-->\n\n##Example\n\nLet's create an empty class, which will automatically receive\nspecial attributes from the decorating ClassorClass,\nspecially the NameStr, that should be the ClassStr\nwithout the TypeStr in the end.", 
          "cell_type": "markdown", 
          "prompt_number": 33, 
          "metadata": {
            "slideshow": {
              "slide_type": "subslide"
            }
          }
        }, 
        {
          "cell_type": "code", 
          "prompt_number": 34, 
          "language": "python", 
          "input": [
            "\n", 
            "#ImportModules\n", 
            "import ShareYourSystem as SYS\n", 
            "from ShareYourSystem.Itemizers import Sharer\n", 
            "\n", 
            "#Explicit expression\n", 
            "MySharer=Sharer.SharerClass().__setitem__(\n", 
            "    '__class__.MyStr',\n", 
            "    'I am setted at the level of the class'\n", 
            ")\n", 
            "\n", 
            "#Return\n", 
            "SYS._attest(\n", 
            "    [\n", 
            "\n", 
            "        'MySharer is '+SYS._str(\n", 
            "                MySharer,\n", 
            "                **{\n", 
            "                'RepresentingBaseKeyStrsListBool':False\n", 
            "                }\n", 
            "            ),\n", 
            "        'MySharer.__class__.MyStr is '+MySharer.__class__.MyStr,\n", 
            "        'MySharer[\"__class__.MyStr\"] is '+MySharer['__class__.MyStr'],\n", 
            "    ]\n", 
            ")\n", 
            "\n", 
            "#Print\n", 
            "\n", 
            "\n"
          ], 
          "outputs": [
            {
              "output_type": "stream", 
              "stream": "stdout", 
              "text": [
                "\n", 
                "\n", 
                "*****Start of the Attest *****\n", 
                "\n", 
                "MySharer is < (SharerClass), 4555208912>\n", 
                "   /{ \n", 
                "   /  '<New><Class>MyStr' : I am setted at the level of the class\n", 
                "   /  '<New><Instance>IdInt' : 4555208912\n", 
                "   /  '<Spe><Instance>SharedClassDict' : \n", 
                "   /   /{ \n", 
                "   /   /}\n", 
                "   /  '<Spe><Instance>SharedSetKeyStr' : MyStr\n", 
                "   /  '<Spe><Instance>SharingKeyStr' : __class__.MyStr\n", 
                "   /  '<Spe><Instance>SharingValueVariable' : I am setted at the level of the class\n", 
                "   /}\n", 
                "\n", 
                "------\n", 
                "\n", 
                "MySharer.__class__.MyStr is I am setted at the level of the class\n", 
                "\n", 
                "------\n", 
                "\n", 
                "MySharer[\"__class__.MyStr\"] is I am setted at the level of the class\n", 
                "\n", 
                "*****End of the Attest *****\n", 
                "\n", 
                "\n"
              ]
            }
          ], 
          "collapsed": false, 
          "metadata": {
            "slideshow": {
              "slide_type": "-"
            }
          }
        }, 
        {
          "source": "\n<!--\nFrozenIsBool False\n-->\n\n#Executer\n\n##Doc\n----\n\n\n> \n> An Executer can exec commands with the six.exec_ function\n> \n\n----\n\n<small>\nView the Executer notebook on [NbViewer](http://nbviewer.ipython.org/url/shareyoursystem.ouvaton.org/Executer.ipynb)\n</small>\n\n", 
          "cell_type": "markdown", 
          "prompt_number": 35, 
          "metadata": {
            "slideshow": {
              "slide_type": "slide"
            }
          }
        }, 
        {
          "source": "\n<!--\nFrozenIsBool False\n-->\n\n##Code\n\n----\n\n<ClassDocStr>\n\n----\n\n```python\n# -*- coding: utf-8 -*-\n\"\"\"\n\n\n<DefineSource>\n@Date : Fri Nov 14 13:20:38 2014 \\n\n@Author : Erwan Ledoux \\n\\n\n</DefineSource>\n\n\nAn Executer can exec commands with the six.exec_ function\n\"\"\"\n\n#<DefineAugmentation>\nimport ShareYourSystem as SYS\nBaseModuleStr=\"ShareYourSystem.Itemizers.Sharer\"\nDecorationModuleStr=\"ShareYourSystem.Classors.Classer\"\nSYS.setSubModule(globals())\n#</DefineAugmentation>\n\n#<ImportSpecificModules>\nimport six\n#</ImportSpecificModules>\n\n#<DefineLocals>\nExecutingPrefixStr=\"Exec_\"\n#</DefineLocals>\n\n#<DefineClass>\n@DecorationClass()\nclass ExecuterClass(BaseClass):\n\t\n\t#Definition\n\tRepresentingKeyStrsList=[\n\t\t\t\t\t\t\t\t\t'ExecutingPrefixStr'\n\t\t\t\t\t\t\t\t]\n\n\tdef default_init(self,\n\t\t\t\t_ExecutingPrefixStr=\"\" ,\n\t\t\t\t**_KwargVariablesDict):\n\n\t\t#Call the parent __init__ method\n\t\tBaseClass.__init__(self,**_KwargVariablesDict)\n\n\t#<Hook>@Hooker.HookerClass(**{'HookingBeforeCallingDictsList':[BaseClass.get]})\n\t#@Imitater.ImitaterClass()\n\tdef mimic_get(self):\n\n\t\t#Check\n\t\tif self.GettingKeyVariable.startswith(ExecutingPrefixStr):\n\n\t\t\t#Definition the ExecStr\n\t\t\tself.ExecutingPrefixStr=ExecutingPrefixStr.join(\n\t\t\t\tself.GettingKeyVariable.split(ExecutingPrefixStr)[1:])\n\n\t\t\t#debug\n\t\t\t'''\n\t\t\tself.debug(('self.',self,['ExecutingPrefixStr']))\n\t\t\t'''\n\n\t\t\t#Put the output in a local Local Variable\n\t\t\tself.execute()\n\n\t\t#debug\n\t\t'''\n\t\tself.debug('BaseClass.get is '+str(BaseClass.get))\n\t\t'''\n\n\t\t#Call the parent get method\n\t\treturn BaseClass.get(self)\n\n\t#<Hook>@Hooker.HookerClass(**{'HookingBeforeCallingDictsList':[BaseClass.set]})\n\t#@Imitater.ImitaterClass()\n\tdef mimic_set(self):\n\n\t\t#Check\n\t\tif type(self.SettingValueVariable\n\t\t\t) in SYS.StrTypesList and self.SettingValueVariable.startswith(\n\t\t\tExecutingPrefixStr):\n\n\t\t\t#Definition the ExecStr\n\t\t\tself.ExecutingPrefixStr=ExecutingPrefixStr.join(\n\t\t\t\tself.SettingValueVariable.split(ExecutingPrefixStr)[1:])\n\n\t\t\t#debug\n\t\t\t'''\n\t\t\tself.debug(('self.',self,['ExecutingPrefixStr',\"SettingValueVariable\"]))\n\t\t\t'''\n\n\t\t\t#Put the output in a local Local Variable\n\t\t\tself.execute()\n\n\t\t\t#debug\n\t\t\t'''\n\t\t\tself.debug(('self.',self,['ExecutingPrefixStr',\"SettingValueVariable\"]))\n\t\t\t'''\n\n\t\t#Call the parent get method\n\t\tBaseClass.set(self)\n\n\n\tdef do_execute(self):\n\n\t\t#Execute\n\t\tsix.exec_(self.ExecutingPrefixStr,locals())\n\n\t\t#Return self\n\t\t#return self\n\n#</DefineClass>\n\n```\n\n<small>\nView the Executer sources on <a href=\"https://github.com/Ledoux/ShareYourSystem/tree/master/Pythonlogy/ShareYourSystem/Itemizers/Executer\" target=\"_blank\">Github</a>\n</small>\n\n", 
          "cell_type": "markdown", 
          "prompt_number": 36, 
          "metadata": {
            "slideshow": {
              "slide_type": "subslide"
            }
          }
        }, 
        {
          "source": "\n<!---\nFrozenIsBool True\n-->\n\n##Example\n\nLet's create an empty class, which will automatically receive\nspecial attributes from the decorating ClassorClass,\nspecially the NameStr, that should be the ClassStr\nwithout the TypeStr in the end.", 
          "cell_type": "markdown", 
          "prompt_number": 37, 
          "metadata": {
            "slideshow": {
              "slide_type": "subslide"
            }
          }
        }, 
        {
          "cell_type": "code", 
          "prompt_number": 38, 
          "language": "python", 
          "input": [
            "\n", 
            "#ImportModules\n", 
            "import ShareYourSystem as SYS\n", 
            "from ShareYourSystem.Classors import Attester\n", 
            "from ShareYourSystem.Itemizers import Executer\n", 
            "\n", 
            "#Definition and update with an exec Str\n", 
            "MyExecuter=Executer.ExecuterClass()\n", 
            "\n", 
            "MySecondInt=MyExecuter.__setitem__(\n", 
            "    'MySecondInt',\n", 
            "    'Exec_self.SettingValueVariable=1+1'\n", 
            ").MySecondInt\n", 
            "\n", 
            "#Exec is also possible in a getting\n", 
            "GettedValueVariable=MyExecuter['Exec_self.GettedValueVariable=self.MySecondInt-1']\n", 
            "    \n", 
            "#Definition the AttestedStr\n", 
            "SYS._attest(\n", 
            "    [\n", 
            "        'MySecondInt is  '+str(MySecondInt),\n", 
            "        'GettedValueVariable is '+str(GettedValueVariable)\n", 
            "    ]\n", 
            ") \n", 
            "\n", 
            "#Print\n", 
            "\n", 
            "\n"
          ], 
          "outputs": [
            {
              "output_type": "stream", 
              "stream": "stdout", 
              "text": [
                "\n", 
                "\n", 
                "*****Start of the Attest *****\n", 
                "\n", 
                "MySecondInt is  2\n", 
                "\n", 
                "------\n", 
                "\n", 
                "GettedValueVariable is None\n", 
                "\n", 
                "*****End of the Attest *****\n", 
                "\n", 
                "\n"
              ]
            }
          ], 
          "collapsed": false, 
          "metadata": {
            "slideshow": {
              "slide_type": "-"
            }
          }
        }, 
        {
          "source": "\n<!--\nFrozenIsBool False\n-->\n\n#Pointer\n\n##Doc\n----\n\n\n> \n> A Pointer \n> \n> \n\n----\n\n<small>\nView the Pointer notebook on [NbViewer](http://nbviewer.ipython.org/url/shareyoursystem.ouvaton.org/Pointer.ipynb)\n</small>\n\n", 
          "cell_type": "markdown", 
          "prompt_number": 39, 
          "metadata": {
            "slideshow": {
              "slide_type": "slide"
            }
          }
        }, 
        {
          "source": "\n<!--\nFrozenIsBool False\n-->\n\n##Code\n\n----\n\n<ClassDocStr>\n\n----\n\n```python\n# -*- coding: utf-8 -*-\n\"\"\"\n\n\n<DefineSource>\n@Date : Fri Nov 14 13:20:38 2014 \\n\n@Author : Erwan Ledoux \\n\\n\n</DefineSource>\n\n\nA Pointer \n\n\"\"\"\n\n#<DefineAugmentation>\nimport ShareYourSystem as SYS\nBaseModuleStr=\"ShareYourSystem.Applyiers.Updater\"\nDecorationModuleStr=\"ShareYourSystem.Classors.Classer\"\nSYS.setSubModule(globals())\n#</DefineAugmentation>\n\n#<ImportSpecificModules>\nfrom ShareYourSystem.Itemizers import Pather\n#</ImportSpecificModules>\n\n#<DefineLocals>\nPointingPrefixStr=\"\"\nPointingSuffixStr=\"\"\nPointingBackStr=\"Back\"\n#</DefineLocals>\n\n#<DefineClass>\n@DecorationClass()\nclass PointerClass(BaseClass):\n\n\t#Definition\n\tRepresentingKeyStrsList=[\n\t\t\t\t\t\t\t\t'PointingGetVariable',\n\t\t\t\t\t\t\t\t'PointingSetPathStr',\n\t\t\t\t\t\t\t\t'PointingBackSetStr',\n\t\t\t\t\t\t\t\t'PointedGetVariable',\n\t\t\t\t\t\t\t\t'PointedPathBackVariable',\n\t\t\t\t\t\t\t\t'PointedLocalSetStr',\n\t\t\t\t\t\t\t\t'PointedBackSetStr'\n\t\t\t\t\t\t\t]\n\n\tdef default_init(\n\t\t\t\t\tself,\t\t\n\t\t\t\t\t_PointingGetVariable=None,\n\t\t\t\t\t_PointingSetPathStr=\"\",\n\t\t\t\t\t_PointingBackSetStr=\"\",\n\t\t\t\t\t_PointedGetVariable=None,\n\t\t\t\t\t_PointedPathBackVariable=\"\",\n\t\t\t\t\t_PointedPathBackStr=\"\",\n\t\t\t\t\t_PointedLocalSetStr=\"\",\n\t\t\t\t\t_PointedBackSetStr=\"\",\n\t\t\t\t\t**_KwargVariablesDict\n\t\t\t\t):\n\n\t\t#Call the parent init method\n\t\tBaseClass.__init__(self,**_KwargVariablesDict)\n\n\tdef do_point(self):\n\n\t\t#debug\n\t\t'''\n\t\tself.debug(('self.',self,[\n\t\t\t\t\t\t\t\t\t'PointingGetVariable',\n\t\t\t\t\t\t\t\t\t'PointingSetPathStr'\n\t\t\t\t\t\t\t\t]))\n\t\t'''\n\n\t\t#get\n\t\tif type(self.PointingGetVariable) in SYS.StrTypesList:\n\t\t\tself.PointedGetVariable=self[self.PointingGetVariable]\n\t\telse:\n\t\t\tself.PointedGetVariable=self.PointingGetVariable\n\n\t\t#debug\n\t\t'''\n\t\tself.debug(\n\t\t\t\t\t[\n\t\t\t\t\t\t'After getting',\n\t\t\t\t\t\t('self.',self,[\n\t\t\t\t\t\t\t\t\t\t'PointingGetVariable',\n\t\t\t\t\t\t\t\t\t\t'PointedGetVariable'\n\t\t\t\t\t\t\t\t\t\t]\n\t\t\t\t\t\t\t\t\t)\n\t\t\t\t\t]\n\t\t\t\t)\n\t\t'''\n\n\t\t#set\n\t\tself.PointedPathBackStr=Pather.getPathedBackGetStrWithGetStr(self.PointingSetPathStr)\n\t\t\n\t\t#set\n\t\tself.PointedLocalSetStr=self.PointingSetPathStr.split(\n\t\t\tself.PointedPathBackStr+Pather.PathingPrefixStr)[-1]\n\n\t\t#debug\n\t\t'''\n\t\tself.debug(('self.',self,[\n\t\t\t\t\t\t\t\t\t'PointingSetPathStr',\n\t\t\t\t\t\t\t\t\t'PointedPathBackStr',\n\t\t\t\t\t\t\t\t\t'PointedLocalSetStr'\n\t\t\t\t\t\t\t\t]))\n\t\t'''\n\t\t\n\t\t#set\n\t\tself.SettingKeyVariable=self.PointedPathBackStr+Pather.PathingPrefixStr+PointingPrefixStr+self.PointedLocalSetStr+PointingSuffixStr\n\n\t\t#debug\n\t\t'''\n\t\tself.debug(('self.',self,['SettingKeyVariable']))\n\t\t'''\n\t\t\n\t\t#set the point variable\n\t\tself[\n\t\t\t\tself.SettingKeyVariable\n\t\t\t]=self.PointedGetVariable\n\n\t\t#set a back pointer\n\t\tif self.PointingBackSetStr!=\"\":\n\n\t\t\t#debug\n\t\t\t'''\n\t\t\tself.debug(\n\t\t\t\t\t\t[\n\t\t\t\t\t\t\t'We point back here',\n\t\t\t\t\t\t\t('self.',self,[\n\t\t\t\t\t\t\t\t\t\t\t\t'PointingSetPathStr',\n\t\t\t\t\t\t\t\t\t\t\t\t'PointingBackSetStr'\n\t\t\t\t\t\t\t\t\t\t])\n\t\t\t\t\t\t]\n\t\t\t\t\t)\n\t\t\t'''\n\t\t\t\n\t\t\t#Get\n\t\t\tself.PointedPathBackVariable=Pather.getPathedBackVariableWithVariableAndGetStr(\n\t\t\t\tself,\n\t\t\t\tself.PointingSetPathStr\n\t\t\t)\n\n\t\t\t#debug\n\t\t\t'''\n\t\t\tself.debug(('self.',self,[\n\t\t\t\t\t\t\t\t\t\t'PointedGetVariable',\n\t\t\t\t\t\t\t\t\t\t'PointedPathBackVariable',\n\t\t\t\t\t\t\t\t\t\t'PointingBackSetStr'\n\t\t\t\t\t\t\t\t\t]))\n\t\t\t'''\n\n\t\t\t#link\n\t\t\tself.PointedGetVariable[\n\t\t\t\tself.PointingBackSetStr\n\t\t\t]=self.PointedPathBackVariable\n\n\n#</DefineClass>\n\n\n```\n\n<small>\nView the Pointer sources on <a href=\"https://github.com/Ledoux/ShareYourSystem/tree/master/Pythonlogy/ShareYourSystem/Itemizers/Pointer\" target=\"_blank\">Github</a>\n</small>\n\n", 
          "cell_type": "markdown", 
          "prompt_number": 40, 
          "metadata": {
            "slideshow": {
              "slide_type": "subslide"
            }
          }
        }, 
        {
          "source": "\n<!---\nFrozenIsBool True\n-->\n\n##Example\n\nLet's create an empty class, which will automatically receive\nspecial attributes from the decorating ClassorClass,\nspecially the NameStr, that should be the ClassStr\nwithout the TypeStr in the end.", 
          "cell_type": "markdown", 
          "prompt_number": 41, 
          "metadata": {
            "slideshow": {
              "slide_type": "subslide"
            }
          }
        }, 
        {
          "cell_type": "code", 
          "prompt_number": 42, 
          "language": "python", 
          "input": [
            "\n", 
            "#ImportModules\n", 
            "import ShareYourSystem as SYS\n", 
            "from ShareYourSystem.Itemizers import Pather,Pointer\n", 
            "\n", 
            "#Explicit expression\n", 
            "MyPointer=Pointer.PointerClass().__setitem__(\n", 
            "        'ChildPather',\n", 
            "        Pather.PatherClass().__setitem__(\n", 
            "            'GrandChildPather',\n", 
            "            Pather.PatherClass()\n", 
            "        )\n", 
            "    ).point(\n", 
            "            '/',\n", 
            "            '/ChildPather/GrandChildPather/GrandParentPointer'\n", 
            "    )\n", 
            "\n", 
            "#Return\n", 
            "SYS._attest(\n", 
            "    [\n", 
            "    'MyPointer is '+SYS._str(\n", 
            "            MyPointer,\n", 
            "            **{\n", 
            "                'RepresentingBaseKeyStrsListBool':False,\n", 
            "                'RepresentingAlineaIsBool':False\n", 
            "            }\n", 
            "        )\n", 
            "    ]\n", 
            ")\n", 
            "\n", 
            "#Print\n", 
            "\n", 
            "\n"
          ], 
          "outputs": [
            {
              "output_type": "stream", 
              "stream": "stdout", 
              "text": [
                "\n", 
                "\n", 
                "*****Start of the Attest *****\n", 
                "\n", 
                "MyPointer is < (PointerClass), 4555209360>\n", 
                "   /{ \n", 
                "   /  '<New><Instance>ChildPather' : < (PatherClass), 4554627024>\n", 
                "   /   /{ \n", 
                "   /   /  '<New><Instance>GrandChildPather' : < (PatherClass), 4554690832>\n", 
                "   /   /   /{ \n", 
                "   /   /   /  '<New><Instance>IdInt' : 4554690832\n", 
                "   /   /   /  '<Spe><Class>PathedChildKeyStr' : \n", 
                "   /   /   /  '<Spe><Class>PathedGetKeyStr' : \n", 
                "   /   /   /  '<Spe><Class>PathedKeyStrsList' : None\n", 
                "   /   /   /  '<Spe><Class>PathingKeyStr' : \n", 
                "   /   /   /}\n", 
                "   /   /  '<New><Instance>GrandChildPather/GrandParentPointer' : {...}< (PointerClass), 4555209360>\n", 
                "   /   /  '<New><Instance>IdInt' : 4554627024\n", 
                "   /   /  '<Spe><Class>PathedChildKeyStr' : \n", 
                "   /   /  '<Spe><Class>PathedGetKeyStr' : \n", 
                "   /   /  '<Spe><Class>PathedKeyStrsList' : None\n", 
                "   /   /  '<Spe><Class>PathingKeyStr' : \n", 
                "   /   /}\n", 
                "   /  '<New><Instance>IdInt' : 4555209360\n", 
                "   /  '<Spe><Class>PointedBackSetStr' : \n", 
                "   /  '<Spe><Class>PointedPathBackVariable' : \n", 
                "   /  '<Spe><Class>PointingBackSetStr' : \n", 
                "   /  '<Spe><Instance>PointedGetVariable' : {...}< (PointerClass), 4555209360>\n", 
                "   /  '<Spe><Instance>PointedLocalSetStr' : GrandParentPointer\n", 
                "   /  '<Spe><Instance>PointingGetVariable' : /\n", 
                "   /  '<Spe><Instance>PointingSetPathStr' : /ChildPather/GrandChildPather/GrandParentPointer\n", 
                "   /}\n", 
                "\n", 
                "*****End of the Attest *****\n", 
                "\n", 
                "\n"
              ]
            }
          ], 
          "collapsed": false, 
          "metadata": {
            "slideshow": {
              "slide_type": "-"
            }
          }
        }
      ]
    }
  ], 
  "metadata": {
    "name": "", 
    "signature": ""
  }, 
  "nbformat_minor": 0
}