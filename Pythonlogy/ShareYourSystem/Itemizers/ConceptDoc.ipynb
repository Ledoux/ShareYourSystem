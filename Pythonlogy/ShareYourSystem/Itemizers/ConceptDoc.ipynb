{
  "nbformat": 3, 
  "worksheets": [
    {
      "cells": [
        {
          "source": "\n<!--\nFrozenIsBool False\n-->\n\n#Itemizer\n\n##Doc\n----\n\n\n> \n> An Itemizer...\n> \n> \n\n----\n\n<small>\nView the Itemizer notebook on [NbViewer](http://nbviewer.ipython.org/url/shareyoursystem.ouvaton.org/Itemizer.ipynb)\n</small>\n\n", 
          "cell_type": "markdown", 
          "prompt_number": 0, 
          "metadata": {
            "slideshow": {
              "slide_type": "slide"
            }
          }
        }, 
        {
          "source": "\n<!--\nFrozenIsBool False\n-->\n\nView the Itemizer sources on [Github](https://github.com/Ledoux/ShareYourSystem/tree/master/ShareYourSystem/Itemizers/Installer)\n\n", 
          "cell_type": "markdown", 
          "prompt_number": 1, 
          "metadata": {
            "slideshow": {
              "slide_type": "subslide"
            }
          }
        }, 
        {
          "source": "\n<!---\nFrozenIsBool True\n-->\n\n##Example\n\nLet's create an empty class, which will automatically receive\nspecial attributes from the decorating ClassorClass,\nspecially the NameStr, that should be the ClassStr\nwithout the TypeStr in the end.", 
          "cell_type": "markdown", 
          "prompt_number": 2, 
          "metadata": {
            "slideshow": {
              "slide_type": "subslide"
            }
          }
        }, 
        {
          "cell_type": "code", 
          "prompt_number": 3, 
          "language": "python", 
          "input": [
            "\n", 
            "#ImportModules\n", 
            "import ShareYourSystem as SYS\n", 
            "from ShareYourSystem.Itemizers import Itemizer\n", 
            "\n", 
            "class MakerClass(Itemizer.ItemizerClass):\n", 
            "\n", 
            "    def __getitem__(self,_KeyVariable):\n", 
            "\n", 
            "        #Debug\n", 
            "        print('_KeyVariable is ',_KeyVariable)\n", 
            "        print('')\n", 
            "\n", 
            "        #return \n", 
            "        return object.__getattribute__(self,\n", 
            "                        'My'+str(_KeyVariable)+'Int'\n", 
            "                    )\n", 
            "\n", 
            "#Definition of a derive maker itemizer class\n", 
            "MyMaker=MakerClass()\n", 
            "MyMaker.My1Int=1\n", 
            "    \n", 
            "#Definition the AttestedStr\n", 
            "SYS._attest(\n", 
            "    [\n", 
            "        'MyMaker is'+SYS._str(\n", 
            "            MyMaker,\n", 
            "            **{\n", 
            "                'RepresentingAlineaIsBool':False,\n", 
            "            }\n", 
            "        ),\n", 
            "        'MyMaker[1] is '+str(MyMaker[1]),\n", 
            "        #'MyMaker.Item_1 is '+str(MyMaker.Item_1),\n", 
            "    ]\n", 
            ") \n", 
            "\n", 
            "#Print\n", 
            "\n", 
            "\n"
          ], 
          "outputs": [
            {
              "output_type": "stream", 
              "stream": "stdout", 
              "text": [
                "('_KeyVariable is ', 1)\n", 
                "\n", 
                "\n", 
                "\n", 
                "*****Start of the Attest *****\n", 
                "\n", 
                "MyMaker is< (MakerClass), 4348482192>\n", 
                "   /{ \n", 
                "   /  '<New><Instance>IdInt' : 4348482192\n", 
                "   /  '<New><Instance>My1Int' : 1\n", 
                "   /}\n", 
                "\n", 
                "------\n", 
                "\n", 
                "MyMaker[1] is 1\n", 
                "\n", 
                "*****End of the Attest *****\n", 
                "\n", 
                "\n"
              ]
            }
          ], 
          "collapsed": false, 
          "metadata": {
            "slideshow": {
              "slide_type": "-"
            }
          }
        }, 
        {
          "source": "\n<!--\nFrozenIsBool False\n-->\n\n#Getter\n\n##Doc\n----\n\n\n> \n> A Getter helps for getting attributes safely in \n> an instance. Through the __getitem__ method, It looks first in the \\_\\_dict\\_\\_ to \n> check if there is the corresponding GettingKeyStr.\n> \n> \n\n----\n\n<small>\nView the Getter notebook on [NbViewer](http://nbviewer.ipython.org/url/shareyoursystem.ouvaton.org/Getter.ipynb)\n</small>\n\n", 
          "cell_type": "markdown", 
          "prompt_number": 4, 
          "metadata": {
            "slideshow": {
              "slide_type": "slide"
            }
          }
        }, 
        {
          "source": "\n<!--\nFrozenIsBool False\n-->\n\nView the Getter sources on [Github](https://github.com/Ledoux/ShareYourSystem/tree/master/ShareYourSystem/Itemizers/Installer)\n\n", 
          "cell_type": "markdown", 
          "prompt_number": 5, 
          "metadata": {
            "slideshow": {
              "slide_type": "subslide"
            }
          }
        }, 
        {
          "source": "\n<!---\nFrozenIsBool True\n-->\n\n##Example\n\nLet's create an empty class, which will automatically receive\nspecial attributes from the decorating ClassorClass,\nspecially the NameStr, that should be the ClassStr\nwithout the TypeStr in the end.", 
          "cell_type": "markdown", 
          "prompt_number": 6, 
          "metadata": {
            "slideshow": {
              "slide_type": "subslide"
            }
          }
        }, 
        {
          "cell_type": "code", 
          "prompt_number": 7, 
          "language": "python", 
          "input": [
            "\n", 
            "#ImportModules\n", 
            "import ShareYourSystem as SYS\n", 
            "from ShareYourSystem.Itemizers import Getter\n", 
            "\n", 
            "#Definition a Getter\n", 
            "MyGetter=Getter.GetterClass()\n", 
            "MyGetter.MyInt=1\n", 
            "    \n", 
            "#Definition the AttestedStr\n", 
            "SYS._attest(\n", 
            "    [\n", 
            "        'Get the MyInt returns '+str(MyGetter['MyInt']),\n", 
            "        'Get the MyStr returns '+str(MyGetter['MyStr'])\n", 
            "    ]\n", 
            ") \n", 
            "\n", 
            "#Print\n", 
            "\n", 
            "\n"
          ], 
          "outputs": [
            {
              "output_type": "stream", 
              "stream": "stdout", 
              "text": [
                "\n", 
                "\n", 
                "*****Start of the Attest *****\n", 
                "\n", 
                "Get the MyInt returns 1\n", 
                "\n", 
                "------\n", 
                "\n", 
                "Get the MyStr returns None\n", 
                "\n", 
                "*****End of the Attest *****\n", 
                "\n", 
                "\n"
              ]
            }
          ], 
          "collapsed": false, 
          "metadata": {
            "slideshow": {
              "slide_type": "-"
            }
          }
        }, 
        {
          "source": "\n<!--\nFrozenIsBool False\n-->\n\n#Setter\n\n##Doc\n----\n\n\n> \n> A Setter has a __setitem__ method for setting things in the <InstanceVariable>.__dict__\n> \n> \n\n----\n\n<small>\nView the Setter notebook on [NbViewer](http://nbviewer.ipython.org/url/shareyoursystem.ouvaton.org/Setter.ipynb)\n</small>\n\n", 
          "cell_type": "markdown", 
          "prompt_number": 8, 
          "metadata": {
            "slideshow": {
              "slide_type": "slide"
            }
          }
        }, 
        {
          "source": "\n<!--\nFrozenIsBool False\n-->\n\nView the Setter sources on [Github](https://github.com/Ledoux/ShareYourSystem/tree/master/ShareYourSystem/Itemizers/Installer)\n\n", 
          "cell_type": "markdown", 
          "prompt_number": 9, 
          "metadata": {
            "slideshow": {
              "slide_type": "subslide"
            }
          }
        }, 
        {
          "source": "\n<!---\nFrozenIsBool True\n-->\n\n##Example\n\nLet's create an empty class, which will automatically receive\nspecial attributes from the decorating ClassorClass,\nspecially the NameStr, that should be the ClassStr\nwithout the TypeStr in the end.", 
          "cell_type": "markdown", 
          "prompt_number": 10, 
          "metadata": {
            "slideshow": {
              "slide_type": "subslide"
            }
          }
        }, 
        {
          "cell_type": "code", 
          "prompt_number": 11, 
          "language": "python", 
          "input": [
            "\n", 
            "#ImportModules\n", 
            "import ShareYourSystem as SYS\n", 
            "from ShareYourSystem.Itemizers import Setter\n", 
            "\n", 
            "#Definition a Setter and set with the __setitem__\n", 
            "MySetter=Setter.SetterClass().__setitem__('MyInt',0)\n", 
            "    \n", 
            "#Definition the AttestedStr\n", 
            "SYS._attest(\n", 
            "    [\n", 
            "    'MySetter is '+SYS._str(\n", 
            "            MySetter,\n", 
            "            **{\n", 
            "            'RepresentingBaseKeyStrsListBool':False,\n", 
            "            'RepresentingAlineaIsBool':False\n", 
            "            }\n", 
            "        )\n", 
            "    ]\n", 
            ") \n", 
            "\n", 
            "#Print\n", 
            "\n", 
            "\n"
          ], 
          "outputs": [
            {
              "output_type": "stream", 
              "stream": "stdout", 
              "text": [
                "\n", 
                "\n", 
                "*****Start of the Attest *****\n", 
                "\n", 
                "MySetter is < (SetterClass), 4348482576>\n", 
                "   /{ \n", 
                "   /  '<New><Instance>IdInt' : 4348482576\n", 
                "   /  '<New><Instance>MyInt' : 0\n", 
                "   /  '<Spe><Instance>SettingKeyVariable' : MyInt\n", 
                "   /  '<Spe><Instance>SettingValueVariable' : 0\n", 
                "   /}\n", 
                "\n", 
                "*****End of the Attest *****\n", 
                "\n", 
                "\n"
              ]
            }
          ], 
          "collapsed": false, 
          "metadata": {
            "slideshow": {
              "slide_type": "-"
            }
          }
        }, 
        {
          "source": "\n<!--\nFrozenIsBool False\n-->\n\n#Deleter\n\n##Doc\n----\n\n\n> \n> A Deleter has a __delitem__ method for deleting things in the <InstanceVariable>.__dict__\n> \n> \n\n----\n\n<small>\nView the Deleter notebook on [NbViewer](http://nbviewer.ipython.org/url/shareyoursystem.ouvaton.org/Deleter.ipynb)\n</small>\n\n", 
          "cell_type": "markdown", 
          "prompt_number": 12, 
          "metadata": {
            "slideshow": {
              "slide_type": "slide"
            }
          }
        }, 
        {
          "source": "\n<!--\nFrozenIsBool False\n-->\n\nView the Deleter sources on [Github](https://github.com/Ledoux/ShareYourSystem/tree/master/ShareYourSystem/Itemizers/Installer)\n\n", 
          "cell_type": "markdown", 
          "prompt_number": 13, 
          "metadata": {
            "slideshow": {
              "slide_type": "subslide"
            }
          }
        }, 
        {
          "source": "\n<!---\nFrozenIsBool True\n-->\n\n##Example\n\nLet's create an empty class, which will automatically receive\nspecial attributes from the decorating ClassorClass,\nspecially the NameStr, that should be the ClassStr\nwithout the TypeStr in the end.", 
          "cell_type": "markdown", 
          "prompt_number": 14, 
          "metadata": {
            "slideshow": {
              "slide_type": "subslide"
            }
          }
        }, 
        {
          "cell_type": "code", 
          "prompt_number": 15, 
          "language": "python", 
          "input": [
            "\n", 
            "#ImportModules\n", 
            "import ShareYourSystem as SYS\n", 
            "from ShareYourSystem.Itemizers import Deleter\n", 
            "\n", 
            "#Definition a Deleter\n", 
            "MyDeleter=Deleter.DeleterClass().__setitem__('MyInt',0).__delitem__('MyInt')\n", 
            "    \n", 
            "#Definition the AttestedStr\n", 
            "SYS._attest(\n", 
            "    [\n", 
            "    'MyDeleter is '+SYS._str(\n", 
            "            MyDeleter,\n", 
            "            **{\n", 
            "            'RepresentingBaseKeyStrsListBool':False,\n", 
            "            'RepresentingAlineaIsBool':False\n", 
            "            }\n", 
            "        )\n", 
            "    ]\n", 
            ") \n", 
            "\n", 
            "#Print\n", 
            "\n", 
            "\n"
          ], 
          "outputs": [
            {
              "output_type": "stream", 
              "stream": "stdout", 
              "text": [
                "\n", 
                "\n", 
                "*****Start of the Attest *****\n", 
                "\n", 
                "MyDeleter is < (DeleterClass), 4348482896>\n", 
                "   /{ \n", 
                "   /  '<New><Instance>IdInt' : 4348482896\n", 
                "   /}\n", 
                "\n", 
                "*****End of the Attest *****\n", 
                "\n", 
                "\n"
              ]
            }
          ], 
          "collapsed": false, 
          "metadata": {
            "slideshow": {
              "slide_type": "-"
            }
          }
        }, 
        {
          "source": "\n<!--\nFrozenIsBool False\n-->\n\n#Attributer\n\n##Doc\n----\n\n\n> An Attributer instance has a __setitem__ method for setting things in the <InstanceVariable>.__dict__\n> This is helpful for setting Propertized mutable variables in the instance different \n> from the propertized value setted at the level of the class\n> \n> \n\n----\n\n<small>\nView the Attributer notebook on [NbViewer](http://nbviewer.ipython.org/url/shareyoursystem.ouvaton.org/Attributer.ipynb)\n</small>\n\n", 
          "cell_type": "markdown", 
          "prompt_number": 16, 
          "metadata": {
            "slideshow": {
              "slide_type": "slide"
            }
          }
        }, 
        {
          "source": "\n<!--\nFrozenIsBool False\n-->\n\nView the Attributer sources on [Github](https://github.com/Ledoux/ShareYourSystem/tree/master/ShareYourSystem/Itemizers/Installer)\n\n", 
          "cell_type": "markdown", 
          "prompt_number": 17, 
          "metadata": {
            "slideshow": {
              "slide_type": "subslide"
            }
          }
        }, 
        {
          "cell_type": "code", 
          "prompt_number": 18, 
          "language": "python", 
          "input": [
            "\n", 
            "#ImportModules\n", 
            "import ShareYourSystem as SYS\n", 
            "from ShareYourSystem.Itemizers import Attributer\n", 
            "\n", 
            "#Definition a Attributer and set with the __setitem__\n", 
            "MyAttributer=Attributer.AttributerClass().__setitem__('Attr_MyInt',0)\n", 
            "    \n", 
            "#Definition the AttestedStr\n", 
            "SYS._attest(\n", 
            "    [\n", 
            "    'MyAttributer is '+SYS._str(\n", 
            "            MyAttributer,\n", 
            "            **{\n", 
            "            'RepresentingBaseKeyStrsListBool':False,\n", 
            "            'RepresentingAlineaIsBool':False\n", 
            "            }\n", 
            "        )\n", 
            "    \n", 
            "    ]\n", 
            ") \n", 
            "\n", 
            "#Print\n", 
            "\n", 
            "\n"
          ], 
          "outputs": [
            {
              "output_type": "stream", 
              "stream": "stdout", 
              "text": [
                "\n", 
                "\n", 
                "*****Start of the Attest *****\n", 
                "\n", 
                "MyAttributer is < (AttributerClass), 4348483408>\n", 
                "   /{ \n", 
                "   /  '<New><Instance>IdInt' : 4348483408\n", 
                "   /  '<New><Instance>MyInt' : 0\n", 
                "   /  '<Spe><Instance>AttributedSetKeyStr' : MyInt\n", 
                "   /  '<Spe><Instance>AttributingKeyStr' : Attr_MyInt\n", 
                "   /  '<Spe><Instance>AttributingValueVariable' : 0\n", 
                "   /}\n", 
                "\n", 
                "*****End of the Attest *****\n", 
                "\n", 
                "\n"
              ]
            }
          ], 
          "collapsed": false, 
          "metadata": {
            "slideshow": {
              "slide_type": "subslide"
            }
          }
        }, 
        {
          "source": "\n<!--\nFrozenIsBool False\n-->\n\n#Restricter\n\n##Doc\n----\n\n\n> \n> A Restricter object sets only in the __dict__ only if hasattr(self,self.SettingKeyVariable)\n> returns True before.\n> \n> \n\n----\n\n<small>\nView the Restricter notebook on [NbViewer](http://nbviewer.ipython.org/url/shareyoursystem.ouvaton.org/Restricter.ipynb)\n</small>\n\n", 
          "cell_type": "markdown", 
          "prompt_number": 19, 
          "metadata": {
            "slideshow": {
              "slide_type": "slide"
            }
          }
        }, 
        {
          "source": "\n<!--\nFrozenIsBool False\n-->\n\nView the Restricter sources on [Github](https://github.com/Ledoux/ShareYourSystem/tree/master/ShareYourSystem/Itemizers/Installer)\n\n", 
          "cell_type": "markdown", 
          "prompt_number": 20, 
          "metadata": {
            "slideshow": {
              "slide_type": "subslide"
            }
          }
        }, 
        {
          "source": "\n<!---\nFrozenIsBool True\n-->\n\n##Example\n\nLet's create an empty class, which will automatically receive\nspecial attributes from the decorating ClassorClass,\nspecially the NameStr, that should be the ClassStr\nwithout the TypeStr in the end.", 
          "cell_type": "markdown", 
          "prompt_number": 21, 
          "metadata": {
            "slideshow": {
              "slide_type": "subslide"
            }
          }
        }, 
        {
          "cell_type": "code", 
          "prompt_number": 22, 
          "language": "python", 
          "input": [
            "\n", 
            "#ImportModules\n", 
            "import ShareYourSystem as SYS\n", 
            "from ShareYourSystem.Itemizers import Restricter\n", 
            "\n", 
            "#Explicit expression\n", 
            "MyRestricter=Restricter.RestricterClass(**{'RestrictingIsBool':True})\n", 
            "MyRestricter.ResettedStr=\"Hello\"\n", 
            "MyRestricter.__setitem__('ResettedStr',\"Bonjour\")\n", 
            "MyRestricter.__setitem__('NotsettedFloat',1.)\n", 
            "\n", 
            "#Return\n", 
            "SYS._attest(\n", 
            "    [\n", 
            "    'MyRestricter is '+SYS._str(\n", 
            "            MyRestricter,\n", 
            "            **{\n", 
            "            'RepresentingBaseKeyStrsListBool':False,\n", 
            "            'RepresentingAlineaIsBool':False\n", 
            "            }\n", 
            "        )\n", 
            "    ]\n", 
            ")\n", 
            "\n", 
            "#Print\n", 
            "\n", 
            "\n"
          ], 
          "outputs": [
            {
              "output_type": "stream", 
              "stream": "stdout", 
              "text": [
                "\n", 
                "\n", 
                "*****Start of the Attest *****\n", 
                "\n", 
                "MyRestricter is < (RestricterClass), 4348483088>\n", 
                "   /{ \n", 
                "   /  '<New><Instance>IdInt' : 4348483088\n", 
                "   /  '<New><Instance>ResettedStr' : Bonjour\n", 
                "   /  '<Spe><Instance>RestrictedSetIsBool' : True\n", 
                "   /  '<Spe><Instance>RestrictingIsBool' : True\n", 
                "   /  '<Spe><Instance>RestrictingKeyStr' : NotsettedFloat\n", 
                "   /}\n", 
                "\n", 
                "*****End of the Attest *****\n", 
                "\n", 
                "\n"
              ]
            }
          ], 
          "collapsed": false, 
          "metadata": {
            "slideshow": {
              "slide_type": "-"
            }
          }
        }, 
        {
          "source": "\n<!--\nFrozenIsBool False\n-->\n\n#Pather\n\n##Doc\n----\n\n\n> \n> A Pather use its __setitem__ method for setting attributes in deeper levels thanks to \n> the PathingPrefixStr \n> \n> \n\n----\n\n<small>\nView the Pather notebook on [NbViewer](http://nbviewer.ipython.org/url/shareyoursystem.ouvaton.org/Pather.ipynb)\n</small>\n\n", 
          "cell_type": "markdown", 
          "prompt_number": 23, 
          "metadata": {
            "slideshow": {
              "slide_type": "slide"
            }
          }
        }, 
        {
          "source": "\n<!--\nFrozenIsBool False\n-->\n\nView the Pather sources on [Github](https://github.com/Ledoux/ShareYourSystem/tree/master/ShareYourSystem/Itemizers/Installer)\n\n", 
          "cell_type": "markdown", 
          "prompt_number": 24, 
          "metadata": {
            "slideshow": {
              "slide_type": "subslide"
            }
          }
        }, 
        {
          "source": "\n<!---\nFrozenIsBool True\n-->\n\n##Example\n\nLet's create an empty class, which will automatically receive\nspecial attributes from the decorating ClassorClass,\nspecially the NameStr, that should be the ClassStr\nwithout the TypeStr in the end.", 
          "cell_type": "markdown", 
          "prompt_number": 25, 
          "metadata": {
            "slideshow": {
              "slide_type": "subslide"
            }
          }
        }, 
        {
          "cell_type": "code", 
          "prompt_number": 26, 
          "language": "python", 
          "input": [
            "\n", 
            "#ImportModules\n", 
            "import ShareYourSystem as SYS\n", 
            "from ShareYourSystem.Itemizers import Pather\n", 
            "\n", 
            "#Explicit expression\n", 
            "MyPather=Pather.PatherClass().__setitem__('MyStr','I am the parent')\n", 
            "MyPather.__setitem__('ChildPather',Pather.PatherClass())\n", 
            "\n", 
            "#set with a deep short Str\n", 
            "MyPather.__setitem__(\n", 
            "    '/ChildPather/MyStr',\n", 
            "    'I am the child'\n", 
            ")\n", 
            "\n", 
            "#set with a deep deep short Str\n", 
            "MyPather.__setitem__(\n", 
            "    '/ChildPather/GrandChildPather',\n", 
            "    Pather.PatherClass()\n", 
            ")\n", 
            "\n", 
            "#set with a deep short Str\n", 
            "MyPather.__setitem__(\n", 
            "    '/OtherChildPather',\n", 
            "    Pather.PatherClass().__setitem__('MyInt',3)\n", 
            ")\n", 
            "\n", 
            "#set with a deep short Str\n", 
            "MyPather.__setitem__(\n", 
            "    '/OtherChildPather',\n", 
            "    Pather.PatherClass().__setitem__('MyInt',4)\n", 
            ")\n", 
            "\n", 
            "#'/' gets the self\n", 
            "MyPather.__setitem__(\n", 
            "    '/SelfPather',\n", 
            "    MyPather['/']\n", 
            ")\n", 
            "\n", 
            "\n", 
            "#Definition the AttestedStr\n", 
            "SYS._attest(\n", 
            "[\n", 
            "    'MyPather is '+SYS._str(\n", 
            "            MyPather,\n", 
            "            **{\n", 
            "            'RepresentingBaseKeyStrsListBool':False,\n", 
            "            'RepresentingAlineaIsBool':False\n", 
            "            }\n", 
            "        ),\n", 
            "    'MyPather[\\'/ChildPather\\'] is '+SYS._str(\n", 
            "            MyPather['/ChildPather'],\n", 
            "            **{\n", 
            "            'RepresentingBaseKeyStrsListBool':False,\n", 
            "            'RepresentingAlineaIsBool':False\n", 
            "            }\n", 
            "        ),\n", 
            "    'MyPather[\\'/ChildPather/GrandChildPather\\'] is '+SYS._str(\n", 
            "            MyPather['/ChildPather/GrandChildPather'],\n", 
            "            **{\n", 
            "            'RepresentingBaseKeyStrsListBool':False,\n", 
            "            'RepresentingAlineaIsBool':False\n", 
            "            }\n", 
            "        )\n", 
            "    ]\n", 
            ") \n", 
            "\n", 
            "#Print\n", 
            "\n", 
            "\n"
          ], 
          "outputs": [
            {
              "output_type": "stream", 
              "stream": "stdout", 
              "text": [
                "\n", 
                "\n", 
                "*****Start of the Attest *****\n", 
                "\n", 
                "MyPather is < (PatherClass), 4348482000>\n", 
                "   /{ \n", 
                "   /  '<New><Instance>ChildPather' : < (PatherClass), 4348482640>\n", 
                "   /   /{ \n", 
                "   /   /  '<New><Instance>GrandChildPather' : < (PatherClass), 4348482448>\n", 
                "   /   /   /{ \n", 
                "   /   /   /  '<New><Instance>IdInt' : 4348482448\n", 
                "   /   /   /  '<Spe><Class>PathedChildKeyStr' : \n", 
                "   /   /   /  '<Spe><Class>PathedGetKeyStr' : \n", 
                "   /   /   /  '<Spe><Class>PathedKeyStrsList' : None\n", 
                "   /   /   /  '<Spe><Class>PathingKeyStr' : \n", 
                "   /   /   /}\n", 
                "   /   /  '<New><Instance>IdInt' : 4348482640\n", 
                "   /   /  '<New><Instance>MyStr' : I am the child\n", 
                "   /   /  '<Spe><Class>PathedChildKeyStr' : \n", 
                "   /   /  '<Spe><Class>PathedGetKeyStr' : \n", 
                "   /   /  '<Spe><Class>PathedKeyStrsList' : None\n", 
                "   /   /  '<Spe><Class>PathingKeyStr' : \n", 
                "   /   /}\n", 
                "   /  '<New><Instance>IdInt' : 4348482000\n", 
                "   /  '<New><Instance>MyStr' : I am the parent\n", 
                "   /  '<New><Instance>OtherChildPather' : < (PatherClass), 4348483408>\n", 
                "   /   /{ \n", 
                "   /   /  '<New><Instance>IdInt' : 4348483408\n", 
                "   /   /  '<New><Instance>MyInt' : 4\n", 
                "   /   /  '<Spe><Class>PathedChildKeyStr' : \n", 
                "   /   /  '<Spe><Class>PathedGetKeyStr' : \n", 
                "   /   /  '<Spe><Class>PathedKeyStrsList' : None\n", 
                "   /   /  '<Spe><Class>PathingKeyStr' : \n", 
                "   /   /}\n", 
                "   /  '<New><Instance>SelfPather' : {...}< (PatherClass), 4348482000>\n", 
                "   /  '<Spe><Instance>PathedChildKeyStr' : /GrandChildPather\n", 
                "   /  '<Spe><Instance>PathedGetKeyStr' : SelfPather\n", 
                "   /  '<Spe><Instance>PathedKeyStrsList' : ['', 'SelfPather']\n", 
                "   /  '<Spe><Instance>PathingKeyStr' : /SelfPather\n", 
                "   /}\n", 
                "\n", 
                "------\n", 
                "\n", 
                "MyPather['/ChildPather'] is < (PatherClass), 4348482640>\n", 
                "   /{ \n", 
                "   /  '<New><Instance>GrandChildPather' : < (PatherClass), 4348482448>\n", 
                "   /   /{ \n", 
                "   /   /  '<New><Instance>IdInt' : 4348482448\n", 
                "   /   /  '<Spe><Class>PathedChildKeyStr' : \n", 
                "   /   /  '<Spe><Class>PathedGetKeyStr' : \n", 
                "   /   /  '<Spe><Class>PathedKeyStrsList' : None\n", 
                "   /   /  '<Spe><Class>PathingKeyStr' : \n", 
                "   /   /}\n", 
                "   /  '<New><Instance>IdInt' : 4348482640\n", 
                "   /  '<New><Instance>MyStr' : I am the child\n", 
                "   /  '<Spe><Class>PathedChildKeyStr' : \n", 
                "   /  '<Spe><Class>PathedGetKeyStr' : \n", 
                "   /  '<Spe><Class>PathedKeyStrsList' : None\n", 
                "   /  '<Spe><Class>PathingKeyStr' : \n", 
                "   /}\n", 
                "\n", 
                "------\n", 
                "\n", 
                "MyPather['/ChildPather/GrandChildPather'] is < (PatherClass), 4348482448>\n", 
                "   /{ \n", 
                "   /  '<New><Instance>IdInt' : 4348482448\n", 
                "   /  '<Spe><Class>PathedChildKeyStr' : \n", 
                "   /  '<Spe><Class>PathedGetKeyStr' : \n", 
                "   /  '<Spe><Class>PathedKeyStrsList' : None\n", 
                "   /  '<Spe><Class>PathingKeyStr' : \n", 
                "   /}\n", 
                "\n", 
                "*****End of the Attest *****\n", 
                "\n", 
                "\n"
              ]
            }
          ], 
          "collapsed": false, 
          "metadata": {
            "slideshow": {
              "slide_type": "-"
            }
          }
        }, 
        {
          "source": "\n<!--\nFrozenIsBool False\n-->\n\n#Grasper\n\n##Doc\n----\n\n\n> \n> A Grasper can get a GraspedGetVariable depending if the GraspingGetVariable\n> is a PathStr, a GraspDict or directly the Variable itself.\n> \n> \n\n----\n\n<small>\nView the Grasper notebook on [NbViewer](http://nbviewer.ipython.org/url/shareyoursystem.ouvaton.org/Grasper.ipynb)\n</small>\n\n", 
          "cell_type": "markdown", 
          "prompt_number": 27, 
          "metadata": {
            "slideshow": {
              "slide_type": "slide"
            }
          }
        }, 
        {
          "source": "\n<!---\nFrozenIsBool True\n-->\n\n##Example\n\nLet's create an empty class, which will automatically receive\nspecial attributes from the decorating ClassorClass,\nspecially the NameStr, that should be the ClassStr\nwithout the TypeStr in the end.", 
          "cell_type": "markdown", 
          "prompt_number": 28, 
          "metadata": {
            "slideshow": {
              "slide_type": "subslide"
            }
          }
        }, 
        {
          "cell_type": "code", 
          "prompt_number": 29, 
          "language": "python", 
          "input": [
            "\n", 
            "#ImportModules\n", 
            "import ShareYourSystem as SYS\n", 
            "from ShareYourSystem.Itemizers import Grasper\n", 
            "\n", 
            "#Explicit expression\n", 
            "MyGrasper=Grasper.GrasperClass().__setitem__(\n", 
            "    'ChildGrasper',\n", 
            "    Grasper.GrasperClass().__setitem__('MyStr',\"hello\")\n", 
            ")\n", 
            "\n", 
            "#Return\n", 
            "SYS._attest(\n", 
            "    [\n", 
            "        \"MyGrasper.grasp('/ChildGrasper/MyStr').GraspedAnswerVariable is \"+\n", 
            "        str(\n", 
            "            MyGrasper.grasp('/ChildGrasper/MyStr').GraspedAnswerVariable\n", 
            "            ),\n", 
            "        \"MyGrasper.grasp(MyGrasper.ChildGrasper).GraspedAnswerVariable is \"+\n", 
            "        str(\n", 
            "            MyGrasper.grasp(MyGrasper.ChildGrasper).GraspedAnswerVariable\n", 
            "            ),\n", 
            "        \"MyGrasper.grasp(SYS.GraspDictClass(**{'HintVariable':'/ChildGrasper/MyStr'})).GraspedAnswerVariable is \"+\n", 
            "        str(\n", 
            "            MyGrasper.grasp(SYS.GraspDictClass(**{'HintVariable':'/ChildGrasper/MyStr'})\n", 
            "            ).GraspedAnswerVariable),\n", 
            "    ]\n", 
            ")\n", 
            "\n", 
            "#Print\n", 
            "\n", 
            "\n"
          ], 
          "outputs": [
            {
              "output_type": "stream", 
              "stream": "stdout", 
              "text": [
                "\n", 
                "\n", 
                "*****Start of the Attest *****\n", 
                "\n", 
                "MyGrasper.grasp('/ChildGrasper/MyStr').GraspedAnswerVariable is hello\n", 
                "\n", 
                "------\n", 
                "\n", 
                "MyGrasper.grasp(MyGrasper.ChildGrasper).GraspedAnswerVariable is < (GrasperClass), 4348483856>\n", 
                "   /{ \n", 
                "   /  '<New><Instance>IdInt' : 4348483856\n", 
                "   /  '<New><Instance>MyStr' : hello\n", 
                "   /  '<Spe><Class>GraspedAnswerVariable' : None\n", 
                "   /  '<Spe><Class>GraspedClueVariableType' : None\n", 
                "   /  '<Spe><Class>GraspingClueVariable' : None\n", 
                "   /}\n", 
                "\n", 
                "------\n", 
                "\n", 
                "MyGrasper.grasp(SYS.GraspDictClass(**{'HintVariable':'/ChildGrasper/MyStr'})).GraspedAnswerVariable is hello\n", 
                "\n", 
                "*****End of the Attest *****\n", 
                "\n", 
                "\n"
              ]
            }
          ], 
          "collapsed": false, 
          "metadata": {
            "slideshow": {
              "slide_type": "-"
            }
          }
        }, 
        {
          "source": "\n<!--\nFrozenIsBool False\n-->\n\n#Sharer\n\n##Doc\n----\n\n\n> \n> A Sharer can set attributes at the level of the class\n> \n> \n\n----\n\n<small>\nView the Sharer notebook on [NbViewer](http://nbviewer.ipython.org/url/shareyoursystem.ouvaton.org/Sharer.ipynb)\n</small>\n\n", 
          "cell_type": "markdown", 
          "prompt_number": 30, 
          "metadata": {
            "slideshow": {
              "slide_type": "slide"
            }
          }
        }, 
        {
          "source": "\n<!--\nFrozenIsBool False\n-->\n\nView the Sharer sources on [Github](https://github.com/Ledoux/ShareYourSystem/tree/master/ShareYourSystem/Itemizers/Installer)\n\n", 
          "cell_type": "markdown", 
          "prompt_number": 31, 
          "metadata": {
            "slideshow": {
              "slide_type": "subslide"
            }
          }
        }, 
        {
          "source": "\n<!---\nFrozenIsBool True\n-->\n\n##Example\n\nLet's create an empty class, which will automatically receive\nspecial attributes from the decorating ClassorClass,\nspecially the NameStr, that should be the ClassStr\nwithout the TypeStr in the end.", 
          "cell_type": "markdown", 
          "prompt_number": 32, 
          "metadata": {
            "slideshow": {
              "slide_type": "subslide"
            }
          }
        }, 
        {
          "cell_type": "code", 
          "prompt_number": 33, 
          "language": "python", 
          "input": [
            "\n", 
            "#ImportModules\n", 
            "import ShareYourSystem as SYS\n", 
            "from ShareYourSystem.Itemizers import Sharer\n", 
            "\n", 
            "#Explicit expression\n", 
            "MySharer=Sharer.SharerClass().__setitem__(\n", 
            "    '__class__.MyStr',\n", 
            "    'I am setted at the level of the class'\n", 
            ")\n", 
            "\n", 
            "#Return\n", 
            "SYS._attest(\n", 
            "    [\n", 
            "\n", 
            "        'MySharer is '+SYS._str(\n", 
            "                MySharer,\n", 
            "                **{\n", 
            "                'RepresentingBaseKeyStrsListBool':False\n", 
            "                }\n", 
            "            ),\n", 
            "        'MySharer.__class__.MyStr is '+MySharer.__class__.MyStr,\n", 
            "        'MySharer[\"__class__.MyStr\"] is '+MySharer['__class__.MyStr'],\n", 
            "    ]\n", 
            ")\n", 
            "\n", 
            "#Print\n", 
            "\n", 
            "\n"
          ], 
          "outputs": [
            {
              "output_type": "stream", 
              "stream": "stdout", 
              "text": [
                "\n", 
                "\n", 
                "*****Start of the Attest *****\n", 
                "\n", 
                "MySharer is < (SharerClass), 4348484112>\n", 
                "   /{ \n", 
                "   /  '<New><Class>MyStr' : I am setted at the level of the class\n", 
                "   /  '<New><Instance>IdInt' : 4348484112\n", 
                "   /  '<Spe><Instance>SharedClassDict' : \n", 
                "   /   /{ \n", 
                "   /   /}\n", 
                "   /  '<Spe><Instance>SharedSetKeyStr' : MyStr\n", 
                "   /  '<Spe><Instance>SharingKeyStr' : __class__.MyStr\n", 
                "   /  '<Spe><Instance>SharingValueVariable' : I am setted at the level of the class\n", 
                "   /}\n", 
                "\n", 
                "------\n", 
                "\n", 
                "MySharer.__class__.MyStr is I am setted at the level of the class\n", 
                "\n", 
                "------\n", 
                "\n", 
                "MySharer[\"__class__.MyStr\"] is I am setted at the level of the class\n", 
                "\n", 
                "*****End of the Attest *****\n", 
                "\n", 
                "\n"
              ]
            }
          ], 
          "collapsed": false, 
          "metadata": {
            "slideshow": {
              "slide_type": "-"
            }
          }
        }, 
        {
          "source": "\n<!--\nFrozenIsBool False\n-->\n\n#Executer\n\n##Doc\n----\n\n\n> \n> An Executer can exec commands with the six.exec_ function\n> \n\n----\n\n<small>\nView the Executer notebook on [NbViewer](http://nbviewer.ipython.org/url/shareyoursystem.ouvaton.org/Executer.ipynb)\n</small>\n\n", 
          "cell_type": "markdown", 
          "prompt_number": 34, 
          "metadata": {
            "slideshow": {
              "slide_type": "slide"
            }
          }
        }, 
        {
          "source": "\n<!--\nFrozenIsBool False\n-->\n\nView the Executer sources on [Github](https://github.com/Ledoux/ShareYourSystem/tree/master/ShareYourSystem/Itemizers/Installer)\n\n", 
          "cell_type": "markdown", 
          "prompt_number": 35, 
          "metadata": {
            "slideshow": {
              "slide_type": "subslide"
            }
          }
        }, 
        {
          "source": "\n<!---\nFrozenIsBool True\n-->\n\n##Example\n\nLet's create an empty class, which will automatically receive\nspecial attributes from the decorating ClassorClass,\nspecially the NameStr, that should be the ClassStr\nwithout the TypeStr in the end.", 
          "cell_type": "markdown", 
          "prompt_number": 36, 
          "metadata": {
            "slideshow": {
              "slide_type": "subslide"
            }
          }
        }, 
        {
          "cell_type": "code", 
          "prompt_number": 37, 
          "language": "python", 
          "input": [
            "\n", 
            "#ImportModules\n", 
            "import ShareYourSystem as SYS\n", 
            "from ShareYourSystem.Classors import Attester\n", 
            "from ShareYourSystem.Itemizers import Executer\n", 
            "\n", 
            "#Definition and update with an exec Str\n", 
            "MyExecuter=Executer.ExecuterClass()\n", 
            "\n", 
            "MySecondInt=MyExecuter.__setitem__(\n", 
            "    'MySecondInt',\n", 
            "    'Exec_self.SettingValueVariable=1+1'\n", 
            ").MySecondInt\n", 
            "\n", 
            "#Exec is also possible in a getting\n", 
            "GettedValueVariable=MyExecuter['Exec_self.GettedValueVariable=self.MySecondInt-1']\n", 
            "    \n", 
            "#Definition the AttestedStr\n", 
            "SYS._attest(\n", 
            "    [\n", 
            "        'MySecondInt is  '+str(MySecondInt),\n", 
            "        'GettedValueVariable is '+str(GettedValueVariable)\n", 
            "    ]\n", 
            ") \n", 
            "\n", 
            "#Print\n", 
            "\n", 
            "\n"
          ], 
          "outputs": [
            {
              "output_type": "stream", 
              "stream": "stdout", 
              "text": [
                "\n", 
                "\n", 
                "*****Start of the Attest *****\n", 
                "\n", 
                "MySecondInt is  2\n", 
                "\n", 
                "------\n", 
                "\n", 
                "GettedValueVariable is None\n", 
                "\n", 
                "*****End of the Attest *****\n", 
                "\n", 
                "\n"
              ]
            }
          ], 
          "collapsed": false, 
          "metadata": {
            "slideshow": {
              "slide_type": "-"
            }
          }
        }, 
        {
          "source": "\n<!--\nFrozenIsBool False\n-->\n\n#Pointer\n\n##Doc\n----\n\n\n> \n> A Pointer \n> \n> \n\n----\n\n<small>\nView the Pointer notebook on [NbViewer](http://nbviewer.ipython.org/url/shareyoursystem.ouvaton.org/Pointer.ipynb)\n</small>\n\n", 
          "cell_type": "markdown", 
          "prompt_number": 38, 
          "metadata": {
            "slideshow": {
              "slide_type": "slide"
            }
          }
        }, 
        {
          "source": "\n<!--\nFrozenIsBool False\n-->\n\nView the Pointer sources on [Github](https://github.com/Ledoux/ShareYourSystem/tree/master/ShareYourSystem/Itemizers/Installer)\n\n", 
          "cell_type": "markdown", 
          "prompt_number": 39, 
          "metadata": {
            "slideshow": {
              "slide_type": "subslide"
            }
          }
        }, 
        {
          "source": "\n<!---\nFrozenIsBool True\n-->\n\n##Example\n\nLet's create an empty class, which will automatically receive\nspecial attributes from the decorating ClassorClass,\nspecially the NameStr, that should be the ClassStr\nwithout the TypeStr in the end.", 
          "cell_type": "markdown", 
          "prompt_number": 40, 
          "metadata": {
            "slideshow": {
              "slide_type": "subslide"
            }
          }
        }, 
        {
          "cell_type": "code", 
          "prompt_number": 41, 
          "language": "python", 
          "input": [
            "\n", 
            "#ImportModules\n", 
            "import ShareYourSystem as SYS\n", 
            "from ShareYourSystem.Itemizers import Pather,Pointer\n", 
            "\n", 
            "#Explicit expression\n", 
            "MyPointer=Pointer.PointerClass().__setitem__(\n", 
            "        'ChildPather',\n", 
            "        Pather.PatherClass().__setitem__(\n", 
            "            'GrandChildPather',\n", 
            "            Pather.PatherClass()\n", 
            "        )\n", 
            "    ).point(\n", 
            "            '/',\n", 
            "            '/ChildPather/GrandChildPather/GrandParentPointer'\n", 
            "    )\n", 
            "\n", 
            "#Return\n", 
            "SYS._attest(\n", 
            "    [\n", 
            "    'MyPointer is '+SYS._str(\n", 
            "            MyPointer,\n", 
            "            **{\n", 
            "                'RepresentingBaseKeyStrsListBool':False,\n", 
            "                'RepresentingAlineaIsBool':False\n", 
            "            }\n", 
            "        )\n", 
            "    ]\n", 
            ")\n", 
            "\n", 
            "#Print\n", 
            "\n", 
            "\n"
          ], 
          "outputs": [
            {
              "output_type": "stream", 
              "stream": "stdout", 
              "text": [
                "\n", 
                "\n", 
                "*****Start of the Attest *****\n", 
                "\n", 
                "MyPointer is < (PointerClass), 4348484496>\n", 
                "   /{ \n", 
                "   /  '<New><Instance>ChildPather' : < (PatherClass), 4348233936>\n", 
                "   /   /{ \n", 
                "   /   /  '<New><Instance>GrandChildPather' : < (PatherClass), 4348306064>\n", 
                "   /   /   /{ \n", 
                "   /   /   /  '<New><Instance>IdInt' : 4348306064\n", 
                "   /   /   /  '<Spe><Class>PathedChildKeyStr' : \n", 
                "   /   /   /  '<Spe><Class>PathedGetKeyStr' : \n", 
                "   /   /   /  '<Spe><Class>PathedKeyStrsList' : None\n", 
                "   /   /   /  '<Spe><Class>PathingKeyStr' : \n", 
                "   /   /   /}\n", 
                "   /   /  '<New><Instance>GrandChildPather/GrandParentPointer' : {...}< (PointerClass), 4348484496>\n", 
                "   /   /  '<New><Instance>IdInt' : 4348233936\n", 
                "   /   /  '<Spe><Class>PathedChildKeyStr' : \n", 
                "   /   /  '<Spe><Class>PathedGetKeyStr' : \n", 
                "   /   /  '<Spe><Class>PathedKeyStrsList' : None\n", 
                "   /   /  '<Spe><Class>PathingKeyStr' : \n", 
                "   /   /}\n", 
                "   /  '<New><Instance>IdInt' : 4348484496\n", 
                "   /  '<Spe><Class>PointedBackSetStr' : \n", 
                "   /  '<Spe><Class>PointedPathBackVariable' : \n", 
                "   /  '<Spe><Class>PointingBackSetStr' : \n", 
                "   /  '<Spe><Instance>PointedGetVariable' : {...}< (PointerClass), 4348484496>\n", 
                "   /  '<Spe><Instance>PointedLocalSetStr' : GrandParentPointer\n", 
                "   /  '<Spe><Instance>PointingGetVariable' : /\n", 
                "   /  '<Spe><Instance>PointingSetPathStr' : /ChildPather/GrandChildPather/GrandParentPointer\n", 
                "   /}\n", 
                "\n", 
                "*****End of the Attest *****\n", 
                "\n", 
                "\n"
              ]
            }
          ], 
          "collapsed": false, 
          "metadata": {
            "slideshow": {
              "slide_type": "-"
            }
          }
        }
      ]
    }
  ], 
  "metadata": {
    "name": "", 
    "signature": ""
  }, 
  "nbformat_minor": 0
}