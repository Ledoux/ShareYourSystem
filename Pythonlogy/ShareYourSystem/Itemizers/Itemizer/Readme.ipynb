{
  "nbformat": 3, 
  "worksheets": [
    {
      "cells": [
        {
          "source": "\n<!--\nFrozenIsBool False\n-->\n\nView the Itemizer sources on [Github](https://github.com/Ledoux/ShareYourSystem/tree/master/ShareYourSystem/Itemizers/Installer)\n\n", 
          "cell_type": "markdown", 
          "prompt_number": 0, 
          "metadata": {
            "slideshow": {
              "slide_type": "slide"
            }
          }
        }, 
        {
          "source": "\n<!---\nFrozenIsBool True\n-->\n\n##Example\n\nLet's create an empty class, which will automatically receive\nspecial attributes from the decorating ClassorClass,\nspecially the NameStr, that should be the ClassStr\nwithout the TypeStr in the end.", 
          "cell_type": "markdown", 
          "prompt_number": 1, 
          "metadata": {
            "slideshow": {
              "slide_type": "subslide"
            }
          }
        }, 
        {
          "source": "```python\n\n#ImportModules\nimport ShareYourSystem as SYS\nfrom ShareYourSystem.Itemizers import Itemizer\n\nclass MakerClass(Itemizer.ItemizerClass):\n\n    def __getitem__(self,_KeyVariable):\n\n        #Debug\n        print('_KeyVariable is ',_KeyVariable)\n        print('')\n\n        #return \n        return object.__getattribute__(self,\n                        'My'+str(_KeyVariable)+'Int'\n                    )\n\n#Definition of a derive maker itemizer class\nMyMaker=MakerClass()\nMyMaker.My1Int=1\n    \n#Definition the AttestedStr\nSYS._attest(\n    [\n        'MyMaker is'+SYS._str(\n            MyMaker,\n            **{\n                'RepresentingAlineaIsBool':False,\n            }\n        ),\n        'MyMaker[1] is '+str(MyMaker[1]),\n        #'MyMaker.Item_1 is '+str(MyMaker.Item_1),\n    ]\n) \n\n#Print\n\n\n\n```\n", 
          "cell_type": "markdown", 
          "metadata": {}
        }, 
        {
          "source": "```console\n>>>\n('_KeyVariable is ', 1)\n\n\n\n*****Start of the Attest *****\n\nMyMaker is< (MakerClass), 4347769552>\n   /{ \n   /  '<New><Instance>IdInt' : 4347769552\n   /  '<New><Instance>My1Int' : 1\n   /}\n\n------\n\nMyMaker[1] is 1\n\n*****End of the Attest *****\n\n\n\n```\n", 
          "cell_type": "markdown", 
          "metadata": {}
        }
      ]
    }
  ], 
  "metadata": {
    "name": "", 
    "signature": ""
  }, 
  "nbformat_minor": 0
}