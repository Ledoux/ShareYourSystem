{
  "nbformat": 3, 
  "worksheets": [
    {
      "cells": [
        {
          "source": "\n<!--\nFrozenIsBool False\n-->\n\n#Itemizer\n\n##Doc\n----\n\n\n> \n> An Itemizer...\n> \n> \n\n----\n\n<small>\nView the Itemizer notebook on [NbViewer](http://nbviewer.ipython.org/url/shareyoursystem.ouvaton.org/Itemizer.ipynb)\n</small>\n\n", 
          "cell_type": "markdown", 
          "prompt_number": 0, 
          "metadata": {
            "slideshow": {
              "slide_type": "slide"
            }
          }
        }, 
        {
          "source": "\n<!--\nFrozenIsBool False\n-->\n\n##Code\n\n----\n\n<ClassDocStr>\n\n----\n\n```python\n# -*- coding: utf-8 -*-\n\"\"\"\n\n\n<DefineSource>\n@Date : Fri Nov 14 13:20:38 2014 \\n\n@Author : Erwan Ledoux \\n\\n\n</DefineSource>\n\n\nAn Itemizer...\n\n\"\"\"\n\n#<DefineAugmentation>\nimport ShareYourSystem as SYS\nBaseModuleStr=\"ShareYourSystem.Interfacers.Hdformater\"\nDecorationModuleStr=\"ShareYourSystem.Classors.Classer\"\nSYS.setSubModule(globals())\n#</DefineAugmentation>\n\n#<ImportSpecificModules>\n#</ImportSpecificModules>\n\n#<DefineLocals>\nItemizingPrefixStr=\"Item_\"\n#</DefineLocals>\n\n#<DefineClass>\n@DecorationClass()\nclass ItemizerClass(BaseClass):\n\t\n\tpass\n\t\n\t\"\"\"\n\t#Definition\n\tRepresentingKeyStrsList=[\n\t\t\t\t\t\t\t\t\t'ItemizingKeyVariable',\n\t\t\t\t\t\t\t\t\t'ItemizedKeyVariable'\n\t\t\t\t\t\t\t\t]\n\n\t#@SYS.HookerClass(**{'HookingAfterVariablesList':[{'CallingVariable':BaseClass.init}]})\n\tdef default_init(self,\n\t\t\t\t\t\t_ItemizingKeyVariable=None,\n\t\t\t\t\t\t_ItemizedKeyVariable=None,\n\t\t\t\t\t\t**_KwargVariablesDict\n\t\t\t\t\t):\n\t\t\"\"\" \"\"\"\t\t\n\n\t\t#Call the parent init method\n\t\tBaseClass.__init__(self,**_KwargVariablesDict)\n\n\tdef do_itemize(self):\n\n\t\t#Check\n\t\tif self.ItemizingKeyVariable.startswith(ItemizingPrefixStr):\n\n\t\t\t#split\n\t\t\tself.ItemizedKeyVariable=ItemizingPrefixStr.join(\n\t\t\t\tself.ItemizingKeyVariable.split(\n\t\t\t\tItemizingPrefixStr)[1:]\n\t\t\t)\n\n\t\t\t#debug\n\t\t\tself.debug(\n\t\t\t\t\t\t[\n\t\t\t\t\t\t\t'go to a getitem get',\n\t\t\t\t\t\t\t('self.',self,['ItemizingKeyVariable','ItemizedKeyVariable'])\n\t\t\t\t\t\t]\n\t\t\t\t\t)\n\n\t\t\t#return\t__getitem__\n\t\t\treturn self.__getitem__(self.ItemizedKeyVariable)\n\n\t\telse:\n\n\t\t\t#debug\n\t\t\tself.debug(\n\t\t\t\t\t\t[\n\t\t\t\t\t\t\t'classic object getattr...',\n\t\t\t\t\t\t\t('self.',self,['ItemizingKeyVariable'])\n\t\t\t\t\t\t]\n\t\t\t\t\t)\n\n\t\t\t#Return default getattr\n\t\t\treturn object.__getattribute__(self,self.ItemizingKeyVariable)\n\n\tdef __getattribute__(self,_KeyVariable):\n\n\t\t#Itemize\n\t\treturn self.itemize(_KeyVariable)\n\t\"\"\"\n\n#</DefineClass>\n\n\n\n```\n\n<small>\nView the Itemizer sources on <a href=\"https://github.com/Ledoux/ShareYourSystem/tree/master/Pythonlogy/ShareYourSystem/Itemizers/Itemizer\" target=\"_blank\">Github</a>\n</small>\n\n", 
          "cell_type": "markdown", 
          "prompt_number": 1, 
          "metadata": {
            "slideshow": {
              "slide_type": "subslide"
            }
          }
        }, 
        {
          "source": "\n<!---\nFrozenIsBool True\n-->\n\n##Example\n\nLet's create an empty class, which will automatically receive\nspecial attributes from the decorating ClassorClass,\nspecially the NameStr, that should be the ClassStr\nwithout the TypeStr in the end.", 
          "cell_type": "markdown", 
          "prompt_number": 2, 
          "metadata": {
            "slideshow": {
              "slide_type": "subslide"
            }
          }
        }, 
        {
          "cell_type": "code", 
          "prompt_number": 3, 
          "language": "python", 
          "input": [
            "\n", 
            "#ImportModules\n", 
            "import ShareYourSystem as SYS\n", 
            "from ShareYourSystem.Itemizers import Itemizer\n", 
            "\n", 
            "class MakerClass(Itemizer.ItemizerClass):\n", 
            "\n", 
            "    def __getitem__(self,_KeyVariable):\n", 
            "\n", 
            "        #Debug\n", 
            "        print('_KeyVariable is ',_KeyVariable)\n", 
            "        print('')\n", 
            "\n", 
            "        #return \n", 
            "        return object.__getattribute__(self,\n", 
            "                        'My'+str(_KeyVariable)+'Int'\n", 
            "                    )\n", 
            "\n", 
            "#Definition of a derive maker itemizer class\n", 
            "MyMaker=MakerClass()\n", 
            "MyMaker.My1Int=1\n", 
            "    \n", 
            "#Definition the AttestedStr\n", 
            "SYS._attest(\n", 
            "    [\n", 
            "        'MyMaker is'+SYS._str(\n", 
            "            MyMaker,\n", 
            "            **{\n", 
            "                'RepresentingAlineaIsBool':False,\n", 
            "            }\n", 
            "        ),\n", 
            "        'MyMaker[1] is '+str(MyMaker[1]),\n", 
            "        #'MyMaker.Item_1 is '+str(MyMaker.Item_1),\n", 
            "    ]\n", 
            ") \n", 
            "\n", 
            "#Print\n", 
            "\n", 
            "\n"
          ], 
          "outputs": [
            {
              "output_type": "stream", 
              "stream": "stdout", 
              "text": [
                "('_KeyVariable is ', 1)\n", 
                "\n", 
                "\n", 
                "\n", 
                "*****Start of the Attest *****\n", 
                "\n", 
                "MyMaker is< (MakerClass), 4555206928>\n", 
                "   /{ \n", 
                "   /  '<New><Instance>IdInt' : 4555206928\n", 
                "   /  '<New><Instance>My1Int' : 1\n", 
                "   /}\n", 
                "\n", 
                "------\n", 
                "\n", 
                "MyMaker[1] is 1\n", 
                "\n", 
                "*****End of the Attest *****\n", 
                "\n", 
                "\n"
              ]
            }
          ], 
          "collapsed": false, 
          "metadata": {
            "slideshow": {
              "slide_type": "-"
            }
          }
        }
      ]
    }
  ], 
  "metadata": {
    "name": "", 
    "signature": ""
  }, 
  "nbformat_minor": 0
}