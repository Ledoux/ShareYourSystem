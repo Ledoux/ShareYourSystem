{
  "nbformat": 3, 
  "worksheets": [
    {
      "cells": [
        {
          "source": "\n<!--\nFrozenIsBool False\n-->\n\n#Getter\n\n##Doc\n----\n\n\n> \n> A Getter helps for getting attributes safely in \n> an instance. Through the __getitem__ method, It looks first in the \\_\\_dict\\_\\_ to \n> check if there is the corresponding GettingKeyStr.\n> \n> \n\n----\n\n<small>\nView the Getter notebook on [NbViewer](http://nbviewer.ipython.org/url/shareyoursystem.ouvaton.org/Getter.ipynb)\n</small>\n\n", 
          "cell_type": "markdown", 
          "prompt_number": 0, 
          "metadata": {
            "slideshow": {
              "slide_type": "slide"
            }
          }
        }, 
        {
          "source": "\n<!--\nFrozenIsBool False\n-->\n\n##Code\n\n----\n\n<ClassDocStr>\n\n----\n\n```python\n# -*- coding: utf-8 -*-\n\"\"\"\n\n\n<DefineSource>\n@Date : Fri Nov 14 13:20:38 2014 \\n\n@Author : Erwan Ledoux \\n\\n\n</DefineSource>\n\n\nA Getter helps for getting attributes safely in \nan instance. Through the __getitem__ method, It looks first in the \\_\\_dict\\_\\_ to \ncheck if there is the corresponding GettingKeyStr.\n\n\"\"\"\n\n#<DefineAugmentation>\nimport ShareYourSystem as SYS\nBaseModuleStr=\"ShareYourSystem.Itemizers.Itemizer\"\nDecorationModuleStr=\"ShareYourSystem.Classors.Classer\"\nSYS.setSubModule(globals())\n#</DefineAugmentation>\n\n#<ImportSpecificModules>\nfrom ShareYourSystem.Functers import Argumenter\n#</ImportSpecificModules>\n\n#<DefineClass>\n@DecorationClass(**{'DoingGetBool':True})\nclass GetterClass(BaseClass):\n\t\n\t#Definition\n\tRepresentingKeyStrsList=[\n\t\t\t\t\t\t\t\t\t'GettingKeyVariable',\n\t\t\t\t\t\t\t\t\t'GettedValueVariable'\n\t\t\t\t\t\t\t\t]\n\n\t#@SYS.HookerClass(**{'HookingAfterVariablesList':[{'CallingVariable':BaseClass.init}]})\n\tdef default_init(self,\n\t\t\t\t\t\t_GettingKeyVariable=None,\n\t\t\t\t\t\t_GettedValueVariable=None,\n\t\t\t\t\t\t**_KwargVariablesDict\n\t\t\t\t\t):\n\t\t\"\"\" \"\"\"\t\t\n\n\t\t#Call the parent init method\n\t\tBaseClass.__init__(self,**_KwargVariablesDict)\n\n\t#@Argumenter.ArgumenterClass(**{'ArgumentingDoStr':'Get'})\n\tdef __getitem__(self,_KeyVariable):\n\t\t\"\"\" \"\"\"\n\n\t\t#Debug\n\t\t'''\n\t\tprint('l.53 __getitem__ Getter')\n\t\tprint('self.get is ',self.get.im_func)\n\t\tprint('_KeyVariables is ',_KeyVariable)\n\t\tprint('')\n\t\t'''\n\n\t\t#get\n\t\tself.get(_KeyVariable)\n\t\t\n\t\t#Debug\n\t\t'''\n\t\tself.debug(('self.',self,['GettedValueVariable']))\n\t\t'''\n\t\t\n\t\t#return\n\t\treturn self.GettedValueVariable\n\t\t\n\tdef do_get(self):\n\t\t\"\"\" \"\"\"\n\n\t\t#debug\n\t\t'''\n\t\tself.debug((\"self.\",self,['GettingKeyVariable']))\n\t\t'''\n\t\t\n\t\t#Check\n\t\tif type(self.GettingKeyVariable) in [str,unicode]:\n\n\t\t\t#Get safely the Value\n\t\t\tif self.GettingKeyVariable in self.__dict__:\n\n\t\t\t\t#__getitem__ in the __dict__\n\t\t\t\tself.GettedValueVariable=self.__dict__[self.GettingKeyVariable]\n\n\t\t\t\t#debug\n\t\t\t\t'''\n\t\t\t\tself.debug(\n\t\t\t\t\t\t\t[\n\t\t\t\t\t\t\t\t'This is a Spe in Instance',\n\t\t\t\t\t\t\t\t('self.',self,['GettedValueVariable'])\n\t\t\t\t\t\t\t]\n\t\t\t\t\t\t)\n\t\t\t\t'''\n\t\t\t\t\n\t\t\t\t#Stop the getting\n\t\t\t\treturn {\"HookingIsBool\":False}\n\n\t\t\telif self.GettingKeyVariable in self.__class__.__dict__:\n\n\t\t\t\t#__getitem__ in the __class__\n\t\t\t\tself.GettedValueVariable=self.__class__.__dict__[self.GettingKeyVariable]\n\n\t\t\t\t#debug\n\t\t\t\t'''\n\t\t\t\tself.debug(\n\t\t\t\t\t\t\t[\n\t\t\t\t\t\t\t\t'This is in the __class__',\n\t\t\t\t\t\t\t\t('self.',self,['GettedValueVariable'])\n\t\t\t\t\t\t\t]\n\t\t\t\t\t\t)\n\t\t\t\t'''\n\n\t\t\t\t#Stop the getting\n\t\t\t\treturn {\"HookingIsBool\":False}\n\t\t\t\t\n\t\t#set\n\t\tself.GettedValueVariable=None\n\n\t\t#debug\n\t\t'''\n\t\tself.debug(\n\t\t\t\t\t[\n\t\t\t\t\t\t'Not found here so set it to None',\n\t\t\t\t\t\t('self.',self,['GettedValueVariable'])\n\t\t\t\t\t]\n\t\t\t\t)\n\t\t'''\n\t\t#Return an output dict\n\t\treturn {\"HookingIsBool\":True}\n\n#</DefineClass>\n\n\n\n```\n\n<small>\nView the Getter sources on <a href=\"https://github.com/Ledoux/ShareYourSystem/tree/master/Pythonlogy/ShareYourSystem/Itemizers/Getter\" target=\"_blank\">Github</a>\n</small>\n\n", 
          "cell_type": "markdown", 
          "prompt_number": 1, 
          "metadata": {
            "slideshow": {
              "slide_type": "subslide"
            }
          }
        }, 
        {
          "source": "\n<!---\nFrozenIsBool True\n-->\n\n##Example\n\nLet's create an empty class, which will automatically receive\nspecial attributes from the decorating ClassorClass,\nspecially the NameStr, that should be the ClassStr\nwithout the TypeStr in the end.", 
          "cell_type": "markdown", 
          "prompt_number": 2, 
          "metadata": {
            "slideshow": {
              "slide_type": "subslide"
            }
          }
        }, 
        {
          "cell_type": "code", 
          "prompt_number": 3, 
          "language": "python", 
          "input": [
            "\n", 
            "#ImportModules\n", 
            "import ShareYourSystem as SYS\n", 
            "from ShareYourSystem.Itemizers import Getter\n", 
            "\n", 
            "#Definition a Getter\n", 
            "MyGetter=Getter.GetterClass()\n", 
            "MyGetter.MyInt=1\n", 
            "    \n", 
            "#Definition the AttestedStr\n", 
            "SYS._attest(\n", 
            "    [\n", 
            "        'Get the MyInt returns '+str(MyGetter['MyInt']),\n", 
            "        'Get the MyStr returns '+str(MyGetter['MyStr'])\n", 
            "    ]\n", 
            ") \n", 
            "\n", 
            "#Print\n", 
            "\n", 
            "\n"
          ], 
          "outputs": [
            {
              "output_type": "stream", 
              "stream": "stdout", 
              "text": [
                "\n", 
                "\n", 
                "*****Start of the Attest *****\n", 
                "\n", 
                "Get the MyInt returns 1\n", 
                "\n", 
                "------\n", 
                "\n", 
                "Get the MyStr returns None\n", 
                "\n", 
                "*****End of the Attest *****\n", 
                "\n", 
                "\n"
              ]
            }
          ], 
          "collapsed": false, 
          "metadata": {
            "slideshow": {
              "slide_type": "-"
            }
          }
        }
      ]
    }
  ], 
  "metadata": {
    "name": "", 
    "signature": ""
  }, 
  "nbformat_minor": 0
}