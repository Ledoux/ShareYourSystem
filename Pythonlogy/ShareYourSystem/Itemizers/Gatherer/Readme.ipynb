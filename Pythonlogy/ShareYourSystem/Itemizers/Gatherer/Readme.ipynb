{
  "nbformat": 3, 
  "worksheets": [
    {
      "cells": [
        {
          "source": "\n<!--\nFrozenIsBool False\n-->\n\n#Gatherer\n\n##Doc\n----\n\n\n> \n> A Gatherer is able to pick several times and flat all the results in a one dimension of ItemTuplesList\n> \n> \n\n----\n\n<small>\nView the Gatherer notebook on [NbViewer](http://nbviewer.ipython.org/url/shareyoursystem.ouvaton.org/Gatherer.ipynb)\n</small>\n\n", 
          "cell_type": "markdown", 
          "prompt_number": 0, 
          "metadata": {
            "slideshow": {
              "slide_type": "slide"
            }
          }
        }, 
        {
          "source": "\n<!--\nFrozenIsBool False\n-->\n\n##Code\n\n----\n\n<ClassDocStr>\n\n----\n\n```python\n# -*- coding: utf-8 -*-\n\"\"\"\n\n\n<DefineSource>\n@Date : Fri Nov 14 13:20:38 2014 \\n\n@Author : Erwan Ledoux \\n\\n\n</DefineSource>\n\n\nA Gatherer is able to pick several times and flat all the results in a one dimension of ItemTuplesList\n\n\"\"\"\n\n#<DefineAugmentation>\nimport ShareYourSystem as SYS\nBaseModuleStr=\"ShareYourSystem.Applyiers.Picker\"\nDecorationModuleStr=\"ShareYourSystem.Classors.Classer\"\nSYS.setSubModule(globals())\n#</DefineAugmentation>\n\n#<ImportSpecificModules>\nimport operator\n#</ImportSpecificModules>\n\n#<DefineClass>\n@DecorationClass(**{'DoingGetBool':True})\nclass GathererClass(BaseClass):\n\t\n\tdef default_init(self,\n\t\t\t\t_GatheringVariablesList=None,\n\t\t\t\t_GatheredVariablesList=None,\n\t\t\t\t**_KwargVariablesDict\n\t\t\t):\n\n\t\t#Call the parent __init__ method\n\t\tBaseClass.__init__(self,**_KwargVariablesDict)\n\n\tdef do_gather(self):\n\t\t\"\"\"Reduce a map of pick for GatheringVariable being a List or __getitem__ for GatheringVariable being a GettingVariable\"\"\"\n\n\t\t#debug\n\t\t'''\n\t\tself.debug(\"self.GatheringVariablesList is \"+str(self.GatheringVariablesList))\n\t\t'''\n\t\t\n\t\t#Debug\n\t\t'''\n\t\tfor __GatheringVariable in self.GatheringVariablesList:\n\n\t\t\tif type(__GatheringVariable)==list:\n\n\t\t\t\t#Debug \n\t\t\t\tprint('This is a list')\n\t\t\t\tprint('')\n\n\t\t\t\tVariable=zip(\n\t\t\t\t\t\t\t__GatheringVariable,\n\t\t\t\t\t\t\tself.pick(__GatheringVariable)\n\t\t\t\t\t\t)\n\t\t\t\n\n\t\t\telse:\n\n\t\t\t\t#Debug \n\t\t\t\tprint('This is not a list')\n\t\t\t\tprint('')\n\n\t\t\t\tVariable=[\n\t\t\t\t\t(\n\t\t\t\t\t\t__GatheringVariable,\n\t\t\t\t\t\tself[__GatheringVariable]\n\t\t\t\t\t)\n\t\t\t\t]\n\n\t\t\t#Debug\n\t\t\tprint('l.63 Gatherer')\n\t\t\tprint('Variable is ',Variable)\n\t\t\tprint('')\n\t\t'''\n\n\n\t\t#Definition the PickedOrGettedVariablesList\n\t\tPickedOrGettedVariablesList=map(\n\t\t\t\t\t\tlambda __GatheringVariable:\n\t\t\t\t\t\tzip(\n\t\t\t\t\t\t\t__GatheringVariable,\n\t\t\t\t\t\t\tself.pick(__GatheringVariable)\n\t\t\t\t\t\t)\n\t\t\t\t\t\tif type(__GatheringVariable)==list\n\t\t\t\t\t\telse [\n\t\t\t\t\t\t\t\t(\n\t\t\t\t\t\t\t\t\t__GatheringVariable,\n\t\t\t\t\t\t\t\t\tself[__GatheringVariable]\n\t\t\t\t\t\t\t\t)\n\t\t\t\t\t\t\t],\n\t\t\t\t\t\tself.GatheringVariablesList\n\t\t)\n\n\t\t#debug\n\t\t'''\n\t\tself.debug(('vars ',vars(),['PickedOrGettedVariablesList']))\n\t\t'''\n\n\t\t#Reduce\n\t\tif len(PickedOrGettedVariablesList)>0:\n\t\t\tself.GatheredVariablesList=reduce(\n\t\t\t\t\t\toperator.__add__,\n\t\t\t\t\t\tPickedOrGettedVariablesList\n\t\t\t\t\t)\n\t\telse:\n\t\t\tself.GatheredVariablesList=[]\n\n\t\t#debug\n\t\t'''\n\t\tself.debug('End of the method')\n\t\t'''\n\n\t\t#Return the reduce\n\t\treturn self.GatheredVariablesList\n#</DefineClass>\n\n```\n\n<small>\nView the Gatherer sources on <a href=\"https://github.com/Ledoux/ShareYourSystem/tree/master/Pythonlogy/ShareYourSystem/Applyiers/Gatherer\" target=\"_blank\">Github</a>\n</small>\n\n", 
          "cell_type": "markdown", 
          "prompt_number": 1, 
          "metadata": {
            "slideshow": {
              "slide_type": "subslide"
            }
          }
        }, 
        {
          "source": "\n<!---\nFrozenIsBool True\n-->\n\n##Example\n\nLet's create an empty class, which will automatically receive\nspecial attributes from the decorating ClassorClass,\nspecially the NameStr, that should be the ClassStr\nwithout the TypeStr in the end.", 
          "cell_type": "markdown", 
          "prompt_number": 2, 
          "metadata": {
            "slideshow": {
              "slide_type": "subslide"
            }
          }
        }, 
        {
          "source": "```python\n#ImportModules\nimport ShareYourSystem as SYS\nfrom ShareYourSystem.Applyiers import Gatherer\n\n#Definition a Gatherer\nMyGatherer=Gatherer.GathererClass().map('__setitem__',map(\n        lambda __ItemTuple:\n        {'LiargVariablesList':__ItemTuple},\n        [\n            ('MyInt',0),\n            ('FirstChildGatherer',Gatherer.GathererClass().__setitem__(\n                    'MyStr',\n                    \"bonjour\"\n                    )\n            ),\n            ('SecondChildGatherer',Gatherer.GathererClass().__setitem__(\n                    'MyStr',\n                    \"hello\"\n                    )\n            )\n        ]\n    )\n)\n\n#Map some gets\nGatheredVariablesList=MyGatherer.gather(\n                            [\n                                ['MyInt'],\n                                ['/FirstChildGatherer/MyStr','/SecondChildGatherer/MyStr']\n                            ]\n                        )\n    \n#Definition the AttestedStr\nSYS._attest(\n    [\n        'GatheredVariablesList is '+SYS._str(\n            GatheredVariablesList\n            ,**{\n                    'RepresentingBaseKeyStrsListBool':False,\n                    'RepresentingAlineaIsBool':False\n            }\n        )\n    ]\n) \n\n#Print\n\n\n\n```\n", 
          "cell_type": "markdown", 
          "metadata": {}
        }, 
        {
          "source": "```console\n>>>\n\n\n*****Start of the Attest *****\n\nGatheredVariablesList is \n   /[\n   /  0 : ('MyInt', 0)\n   /  1 : ('/FirstChildGatherer/MyStr', 'bonjour')\n   /  2 : ('/SecondChildGatherer/MyStr', 'hello')\n   /]\n\n*****End of the Attest *****\n\n\n\n```\n", 
          "cell_type": "markdown", 
          "metadata": {}
        }
      ]
    }
  ], 
  "metadata": {
    "name": "", 
    "signature": ""
  }, 
  "nbformat_minor": 0
}