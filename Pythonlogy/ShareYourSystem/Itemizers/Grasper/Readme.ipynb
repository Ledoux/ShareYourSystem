{
  "nbformat": 3, 
  "worksheets": [
    {
      "cells": [
        {
          "source": "\n<!---\nFrozenIsBool True\n-->\n\n##Example\n\nLet's create an empty class, which will automatically receive\nspecial attributes from the decorating ClassorClass,\nspecially the NameStr, that should be the ClassStr\nwithout the TypeStr in the end.", 
          "cell_type": "markdown", 
          "prompt_number": 0, 
          "metadata": {
            "slideshow": {
              "slide_type": "slide"
            }
          }
        }, 
        {
          "source": "```python\n\n#ImportModules\nimport ShareYourSystem as SYS\nfrom ShareYourSystem.Itemizers import Grasper\n\n#Explicit expression\nMyGrasper=Grasper.GrasperClass().__setitem__(\n    'ChildGrasper',\n    Grasper.GrasperClass().__setitem__('MyStr',\"hello\")\n)\n\n#Return\nSYS._attest(\n    [\n        \"MyGrasper.grasp('/ChildGrasper/MyStr').GraspedAnswerVariable is \"+\n        str(\n            MyGrasper.grasp('/ChildGrasper/MyStr').GraspedAnswerVariable\n            ),\n        \"MyGrasper.grasp(MyGrasper.ChildGrasper).GraspedAnswerVariable is \"+\n        str(\n            MyGrasper.grasp(MyGrasper.ChildGrasper).GraspedAnswerVariable\n            ),\n        \"MyGrasper.grasp(SYS.GraspDictClass(**{'HintVariable':'/ChildGrasper/MyStr'})).GraspedAnswerVariable is \"+\n        str(\n            MyGrasper.grasp(SYS.GraspDictClass(**{'HintVariable':'/ChildGrasper/MyStr'})\n            ).GraspedAnswerVariable),\n    ]\n)\n\n#Print\n\n\n\n```\n", 
          "cell_type": "markdown", 
          "metadata": {}
        }, 
        {
          "source": "```console\n>>>\n\n\n*****Start of the Attest *****\n\nMyGrasper.grasp('/ChildGrasper/MyStr').GraspedAnswerVariable is hello\n\n------\n\nMyGrasper.grasp(MyGrasper.ChildGrasper).GraspedAnswerVariable is < (GrasperClass), 4348193680>\n   /{ \n   /  '<New><Instance>IdInt' : 4348193680\n   /  '<New><Instance>MyStr' : hello\n   /  '<Spe><Class>GraspedAnswerVariable' : None\n   /  '<Spe><Class>GraspedClueVariableType' : None\n   /  '<Spe><Class>GraspingClueVariable' : None\n   /}\n\n------\n\nMyGrasper.grasp(SYS.GraspDictClass(**{'HintVariable':'/ChildGrasper/MyStr'})).GraspedAnswerVariable is hello\n\n*****End of the Attest *****\n\n\n\n```\n", 
          "cell_type": "markdown", 
          "metadata": {}
        }
      ]
    }
  ], 
  "metadata": {
    "name": "", 
    "signature": ""
  }, 
  "nbformat_minor": 0
}