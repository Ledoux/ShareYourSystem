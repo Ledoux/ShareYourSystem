{
  "nbformat": 3, 
  "worksheets": [
    {
      "cells": [
        {
          "source": "\n<!--\nFrozenIsBool False\n-->\n\n#Applyier\n\n##Doc\n----\n\n\n> \n> An Applyier apply a function thanks to a ApplyingMethodStr and an ApplyingArgDict.\n> This property is going to be useful to begin to establish mappping methods and \n> commanding calls in deep structures.\n> \n> \n\n----\n\n<small>\nView the Applyier notebook on [NbViewer](http://nbviewer.ipython.org/url/shareyoursystem.ouvaton.org/Applyier.ipynb)\n</small>\n\n", 
          "cell_type": "markdown", 
          "prompt_number": 0, 
          "metadata": {
            "slideshow": {
              "slide_type": "slide"
            }
          }
        }, 
        {
          "source": "\n<!--\nFrozenIsBool False\n-->\n\n##Code\n\n----\n\n<ClassDocStr>\n\n----\n\n```python\n# -*- coding: utf-8 -*-\n\"\"\"\n\n<DefineSource>\n@Date : Fri Nov 14 13:20:38 2014 \\n\n@Author : Erwan Ledoux \\n\\n\n</DefineSource>\n\n\nAn Applyier apply a function thanks to a ApplyingMethodStr and an ApplyingArgDict.\nThis property is going to be useful to begin to establish mappping methods and \ncommanding calls in deep structures.\n\n\"\"\"\n\n#<DefineAugmentation>\nimport ShareYourSystem as SYS\nBaseModuleStr=\"ShareYourSystem.Itemizers.Executer\"\nDecorationModuleStr=\"ShareYourSystem.Classors.Classer\"\nSYS.setSubModule(globals())\n#</DefineAugmentation>\n\n#<ImportSpecificModules>\nimport copy\n#</ImportSpecificModules>\n\n#<DefineClass>\n@DecorationClass()\nclass ApplyierClass(BaseClass):\n\t\t\n\t#Definition\n\tRepresentingKeyStrsList=[\n\t\t\t\t\t\t\t\t\t#'ApplyingMethodStr',\n\t\t\t\t\t\t\t\t\t#'ApplyingArgDict',\n\t\t\t\t\t\t\t\t\t#'ApplyingIsBool',\n\t\t\t\t\t\t\t\t\t#'AppliedMethod',\n\t\t\t\t\t\t\t\t\t#'AppliedOutputVariable'\n\t\t\t\t\t\t\t\t]\n\n\tdef default_init(self,\n\t\t\t\t_ApplyingMethodStr=\"\",\n\t\t\t\t_ApplyingArgDict=None,\n\t\t\t\t_ApplyingIsBool=False,\n\t\t\t\t_AppliedMethod=None,\n\t\t\t\t_AppliedOutputVariable=None,\n\t\t\t\t**_KwargVariablesDict\n\t\t\t):\n\n\t\t#Call the parent __init__ method\n\t\tBaseClass.__init__(self,**_KwargVariablesDict)\n\n\tdef do_apply(self):\n\t\t\"\"\" \"\"\"\n\n\t\t#debug\n\t\t'''\n\t\tself.debug(\n\t\t\t\t\t('self.',self,[\n\t\t\t\t\t\t\t\t\t'ApplyingMethodStr',\n\t\t\t\t\t\t\t\t\t'ApplyingArgDict'\n\t\t\t\t\t\t\t\t])\n\t\t)\n\t\t'''\n\t\t\n\t\t#set\n\t\tself.AppliedMethod=getattr(self,self.ApplyingMethodStr)\n\n\t\t#debug\n\t\t''''\n\t\tself.debug(\n\t\t\t\t\t('self.',self,[\n\t\t\t\t\t\t\t\t\t'AppliedMethod'\n\t\t\t\t\t\t\t\t])\n\t\t\t)\n\t\t'''\n\n\t\t#Check\n\t\tif self.AppliedMethod!=None:\n\n\t\t\t#debug\n\t\t\t'''\n\t\t\tself.debug(\n\t\t\t\t\t\t[\n\t\t\t\t\t\t\t'AppliedMethod is good, We are going to apply',\n\t\t\t\t\t\t\t('self.',self,['AppliedMethod','ApplyingArgDict'])\n\t\t\t\t\t\t]\n\t\t\t\t\t)\n\t\t\t'''\n\t\t\t\n\t\t\tif 'KwargVariablesDict' in self.ApplyingArgDict:\n\n\t\t\t\t#debug\n\t\t\t\t'''\n\t\t\t\tself.debug('We apply with a KwargVariablesDict')\n\t\t\t\t'''\n\n\t\t\t\t#Call the AppliedMethod\n\t\t\t\tself.AppliedOutputVariable=self.AppliedMethod(\n\t\t\t\t\t\t\t\t*self.ApplyingArgDict['LiargVariablesList'],\n\t\t\t\t\t\t\t\t**self.ApplyingArgDict['KwargVariablesDict']\n\t\t\t\t\t\t\t\t) \n\t\t\telse:\n\n\t\t\t\t#debug\n\t\t\t\t'''\n\t\t\t\tself.debug('We apply without a KwargVariablesDict')\n\t\t\t\t'''\n\n\n\n\t\t\t\t#Call\n\t\t\t\tself.AppliedOutputVariable=self.AppliedMethod(\n\t\t\t\t\t*self.ApplyingArgDict['LiargVariablesList']\n\t\t\t\t\t)\n\n\t\t#Return self\n\t\t#return self\n\n\tdef mimic_set(self):\n\n\t\t#debug\n\t\t'''\n\t\tself.debug(('self.',self,['SettingKeyVariable','SettingValueVariable']))\n\t\t'''\n\t\t\n\t\t#Definition\n\t\tOutputDict={'HookingIsBool':True}\n\n\t\t#Check\n\t\tif self.SettingKeyVariable!=\"\":\n\n\t\t\t#Call for a hook\n\t\t\tif (self.SettingKeyVariable[0].isalpha() or self.SettingKeyVariable[:2]==\"__\"\n\t\t\t\t) and self.SettingKeyVariable[0].lower()==self.SettingKeyVariable[0]:\n\n\t\t\t\t#debug\n\t\t\t\t'''\n\t\t\t\tself.debug(\n\t\t\t\t\t\t\t[\n\t\t\t\t\t\t\t\t('This is a set that calls a method so this is an apply...'),\n\t\t\t\t\t\t\t\t('self.',self,[\n\t\t\t\t\t\t\t\t\t\t\t\t'SettingKeyVariable',\n\t\t\t\t\t\t\t\t\t\t\t\t'SettingValueVariable'\n\t\t\t\t\t\t\t\t\t\t\t\t]\n\t\t\t\t\t\t\t\t)\n\t\t\t\t\t\t\t]\n\t\t\t\t\t\t)\n\t\t\t\t'''\n\t\t\t\t\n\t\t\t\t#Apply\n\t\t\t\tself.ApplyingIsBool=False\n\t\t\t\tself.apply(\n\t\t\t\t\t\t\t\tself.SettingKeyVariable,\n\t\t\t\t\t\t\t\tself.SettingValueVariable\n\t\t\t\t\t\t\t)\n\n\t\t\t\t#Return\n\t\t\t\tOutputDict['HookingIsBool']=False\n\t\t\t\t#<Hook>return OutputDict\n\n\t\tif OutputDict['HookingIsBool']:\n\t\t\tBaseClass.set(self)\n\n#</DefineClass>\n\n\n```\n\n<small>\nView the Applyier sources on <a href=\"https://github.com/Ledoux/ShareYourSystem/tree/master/Pythonlogy/ShareYourSystem/Applyiers/Applyier\" target=\"_blank\">Github</a>\n</small>\n\n", 
          "cell_type": "markdown", 
          "prompt_number": 1, 
          "metadata": {
            "slideshow": {
              "slide_type": "subslide"
            }
          }
        }, 
        {
          "source": "\n<!---\nFrozenIsBool True\n-->\n\n##Example\n\nLet's create an empty class, which will automatically receive\nspecial attributes from the decorating ClassorClass,\nspecially the NameStr, that should be the ClassStr\nwithout the TypeStr in the end.", 
          "cell_type": "markdown", 
          "prompt_number": 2, 
          "metadata": {
            "slideshow": {
              "slide_type": "subslide"
            }
          }
        }, 
        {
          "cell_type": "code", 
          "prompt_number": 3, 
          "language": "python", 
          "input": [
            "\n", 
            "#ImportModules\n", 
            "import ShareYourSystem as SYS\n", 
            "from ShareYourSystem.Applyiers import Applyier\n", 
            "\n", 
            "#Definition an applyier instance\n", 
            "MyApplyier=Applyier.ApplyierClass()\n", 
            "\n", 
            "#Apply just a set... (even if we can do shorter !)\n", 
            "MyApplyier.apply(\n", 
            "    '__setitem__',\n", 
            "    {'LiargVariablesList':['MyStr','Hello']}\n", 
            ")\n", 
            "\n", 
            "#Apply an apply is possible\n", 
            "MyApplyier.apply(\n", 
            "    '__setitem__',\n", 
            "    {'LiargVariablesList':[\n", 
            "            '__setitem__',\n", 
            "            {\n", 
            "                'LiargVariablesList':\n", 
            "                ['MyNotLostStr','ben he']\n", 
            "            }\n", 
            "        ]\n", 
            "    }\n", 
            ")\n", 
            "    \n", 
            "#Definition the AttestedStr\n", 
            "SYS._attest(\n", 
            "    [\n", 
            "    'MyApplyier is '+SYS._str(\n", 
            "            MyApplyier,\n", 
            "            **{\n", 
            "            'RepresentingBaseKeyStrsListBool':False,\n", 
            "            'RepresentingAlineaIsBool':False\n", 
            "            }\n", 
            "        )\n", 
            "    ]\n", 
            ") \n", 
            "\n", 
            "#Print\n", 
            "\n", 
            "\n"
          ], 
          "outputs": [
            {
              "output_type": "stream", 
              "stream": "stdout", 
              "text": [
                "\n", 
                "\n", 
                "*****Start of the Attest *****\n", 
                "\n", 
                "MyApplyier is < (ApplyierClass), 4554251216>\n", 
                "   /{ \n", 
                "   /  '<New><Instance>IdInt' : 4554251216\n", 
                "   /  '<New><Instance>MyNotLostStr' : ben he\n", 
                "   /  '<New><Instance>MyStr' : Hello\n", 
                "   /}\n", 
                "\n", 
                "*****End of the Attest *****\n", 
                "\n", 
                "\n"
              ]
            }
          ], 
          "collapsed": false, 
          "metadata": {
            "slideshow": {
              "slide_type": "-"
            }
          }
        }
      ]
    }
  ], 
  "metadata": {
    "name": "", 
    "signature": ""
  }, 
  "nbformat_minor": 0
}