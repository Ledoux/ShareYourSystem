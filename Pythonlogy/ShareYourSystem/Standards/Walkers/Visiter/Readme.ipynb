{
  "nbformat": 3, 
  "worksheets": [
    {
      "cells": [
        {
          "source": "\n<!--\nFrozenIsBool False\n-->\n\n#Visiter\n\n##Doc\n----\n\n\n> \n> A Visiter\n> \n> \n\n----\n\n<small>\nView the Visiter notebook on [NbViewer](http://nbviewer.ipython.org/url/shareyoursystem.ouvaton.org/Visiter.ipynb)\n</small>\n\n", 
          "cell_type": "markdown", 
          "prompt_number": 0, 
          "metadata": {
            "slideshow": {
              "slide_type": "slide"
            }
          }
        }, 
        {
          "source": "\n<!--\nFrozenIsBool False\n-->\n\n##Code\n\n----\n\n<ClassDocStr>\n\n----\n\n```python\n# -*- coding: utf-8 -*-\n\"\"\"\n\n\n<DefineSource>\n@Date : Fri Nov 14 13:20:38 2014 \\n\n@Author : Erwan Ledoux \\n\\n\n</DefineSource>\n\n\nA Visiter\n\n\"\"\"\n\n#<DefineAugmentation>\nimport ShareYourSystem as SYS\nBaseModuleStr=\"ShareYourSystem.Standards.Walkers.Cumulater\"\nDecorationModuleStr=\"ShareYourSystem.Standards.Classors.Classer\"\nSYS.setSubModule(globals())\n#</DefineAugmentation>\n\n#<ImportSpecificModules>\n\nfrom ShareYourSystem.Standards.Noders import Noder\n#</ImportSpecificModules>\n\n#<DefineClass>\n@DecorationClass()\nclass VisiterClass(BaseClass):\n\t\n\t#Definition\n\tRepresentingKeyStrsList=[\n\t\t\t\t\t\t\t\t\t'VisitingCollectionStrsList',\n\t\t\t\t\t\t\t\t\t'VisitingBeforeUpdateList',\n\t\t\t\t\t\t\t\t\t'VisitingAfterUpdateList'\n\t\t\t\t\t\t\t\t]\n\n\tdef default_init(self,\n\t\t\t\t_VisitingCollectionStrsList=None,\n\t\t\t\t_VisitingBeforeUpdateList=None,\n\t\t\t\t_VisitingAfterUpdateList=None,\n\t\t\t\t**_KwargVariablesDict\n\t\t\t):\n\n\t\t#Call the parent __init__ method\n\t\tBaseClass.__init__(self,**_KwargVariablesDict)\n\n\tdef do_visit(self):\n\t\t\t\n\t\t#Walk inside the group in order to parent\n\t\tself.walk(\n\t\t\t\t\t{\n\t\t\t\t\t\t'BeforeUpdateList':self.VisitingBeforeUpdateList,\n\t\t\t\t\t\t'AfterUpdateList':self.VisitingAfterUpdateList,\n\t\t\t\t\t\t'GatherVariablesList':map(\n\t\t\t\t\t\t\t\tlambda __NodeCollectionStr:\n\t\t\t\t\t\t\t\tNoder.NodingPrefixGetStr+__NodeCollectionStr+Noder.NodingSuffixGetStr,\n\t\t\t\t\t\t\t\tself.VisitingCollectionStrsList\n\t\t\t\t\t\t\t)\n\t\t\t\t\t}\n\t\t\t\t)\n\t\t\n\n#</DefineClass>\n\n```\n\n<small>\nView the Visiter sources on <a href=\"https://github.com/Ledoux/ShareYourSystem/tree/master/Pythonlogy/ShareYourSystem/Walkers/Visiter\" target=\"_blank\">Github</a>\n</small>\n\n", 
          "cell_type": "markdown", 
          "prompt_number": 1, 
          "metadata": {
            "slideshow": {
              "slide_type": "subslide"
            }
          }
        }, 
        {
          "source": "```python\n\n#ImportModules\nimport ShareYourSystem as SYS\nfrom ShareYourSystem.Standards.Walkers import Cumulater,Visiter\n\n#Definition a Visiter instance that is grouped\nMyVisiter=Visiter.VisiterClass().update(\n    [\n        (\n            '<Visitome>FirstChildVisiter',\n            Visiter.VisiterClass().update(\n                [\n                    (\n                        '<Collectome>GrandChildCumulater',\n                        Cumulater.CumulaterClass()\n                    )\n                ]\n            )\n        ),\n        (\n            '<Visitome>SecondChildVisiter',\n            Visiter.VisiterClass()\n        )\n    ]\n)\n\n#Walk inside the group in order to parent\nMyVisiter.visit(['Visitome','Collectome'],[('TagStr','Je suis passe par la')])\n    \n#Definition the AttestedStr\nSYS._attest(\n    [\n        'MyVisiter is '+SYS._str(\n        MyVisiter,\n        **{\n            'RepresentingBaseKeyStrsListBool':False,\n            'RepresentingAlineaIsBool':False\n        }\n        )\n    ]\n) \n\n#Print\n\n \n\n```\n", 
          "cell_type": "markdown", 
          "metadata": {}
        }, 
        {
          "source": "```console\n>>>\n\n\n*****Start of the Attest *****\n\nMyVisiter is < (VisiterClass), 4556651600>\n   /{ \n   /  '<New><Instance>CollectomeCollectionOrderedDict' : \n   /   /{ \n   /   /}\n   /  '<New><Instance>IdInt' : 4556651600\n   /  '<New><Instance>NodeCollectionStr' : Globals\n   /  '<New><Instance>NodeIndexInt' : -1\n   /  '<New><Instance>NodeKeyStr' : TopVisiter\n   /  '<New><Instance>NodePointDeriveNoder' : None\n   /  '<New><Instance>NodePointOrderedDict' : None\n   /  '<New><Instance>TagStr' : Je suis passe par la\n   /  '<New><Instance>VisitomeCollectionOrderedDict' : \n   /   /{ \n   /   /  'FirstChildVisiter' : < (VisiterClass), 4555499408>\n   /   /   /{ \n   /   /   /  '<New><Instance>CollectomeCollectionOrderedDict' : \n   /   /   /   /{ \n   /   /   /   /  'GrandChildCumulater' : < (CumulaterClass), 4555499216>\n   /   /   /   /   /{ \n   /   /   /   /   /  '<New><Instance>CollectomeCollectionOrderedDict' : \n   /   /   /   /   /   /{ \n   /   /   /   /   /   /}\n   /   /   /   /   /  '<New><Instance>IdInt' : 4555499216\n   /   /   /   /   /  '<New><Instance>NodeCollectionStr' : Collectome\n   /   /   /   /   /  '<New><Instance>NodeIndexInt' : 0\n   /   /   /   /   /  '<New><Instance>NodeKeyStr' : GrandChildCumulater\n   /   /   /   /   /  '<New><Instance>NodePointDeriveNoder' : {...}< (VisiterClass), 4555499408>\n   /   /   /   /   /  '<New><Instance>NodePointOrderedDict' : {...}< (OrderedDict), 4537423976>\n   /   /   /   /   /  '<New><Instance>TagStr' : Je suis passe par la\n   /   /   /   /   /  '<New><Instance>VisitomeCollectionOrderedDict' : \n   /   /   /   /   /   /{ \n   /   /   /   /   /   /}\n   /   /   /   /   /  '<Spe><Class>CumulatedVariablesList' : None\n   /   /   /   /   /}\n   /   /   /   /}\n   /   /   /  '<New><Instance>IdInt' : 4555499408\n   /   /   /  '<New><Instance>NodeCollectionStr' : Visitome\n   /   /   /  '<New><Instance>NodeIndexInt' : 0\n   /   /   /  '<New><Instance>NodeKeyStr' : FirstChildVisiter\n   /   /   /  '<New><Instance>NodePointDeriveNoder' : {...}< (VisiterClass), 4556651600>\n   /   /   /  '<New><Instance>NodePointOrderedDict' : {...}< (OrderedDict), 4537424568>\n   /   /   /  '<New><Instance>TagStr' : Je suis passe par la\n   /   /   /  '<New><Instance>VisitomeCollectionOrderedDict' : \n   /   /   /   /{ \n   /   /   /   /}\n   /   /   /  '<Spe><Class>VisitingAfterUpdateList' : None\n   /   /   /  '<Spe><Class>VisitingBeforeUpdateList' : None\n   /   /   /  '<Spe><Class>VisitingCollectionStrsList' : None\n   /   /   /}\n   /   /  'SecondChildVisiter' : < (VisiterClass), 4555499664>\n   /   /   /{ \n   /   /   /  '<New><Instance>CollectomeCollectionOrderedDict' : \n   /   /   /   /{ \n   /   /   /   /}\n   /   /   /  '<New><Instance>IdInt' : 4555499664\n   /   /   /  '<New><Instance>NodeCollectionStr' : Visitome\n   /   /   /  '<New><Instance>NodeIndexInt' : 1\n   /   /   /  '<New><Instance>NodeKeyStr' : SecondChildVisiter\n   /   /   /  '<New><Instance>NodePointDeriveNoder' : {...}< (VisiterClass), 4556651600>\n   /   /   /  '<New><Instance>NodePointOrderedDict' : {...}< (OrderedDict), 4537424568>\n   /   /   /  '<New><Instance>TagStr' : Je suis passe par la\n   /   /   /  '<New><Instance>VisitomeCollectionOrderedDict' : \n   /   /   /   /{ \n   /   /   /   /}\n   /   /   /  '<Spe><Class>VisitingAfterUpdateList' : None\n   /   /   /  '<Spe><Class>VisitingBeforeUpdateList' : None\n   /   /   /  '<Spe><Class>VisitingCollectionStrsList' : None\n   /   /   /}\n   /   /}\n   /  '<Spe><Instance>VisitingAfterUpdateList' : []\n   /  '<Spe><Instance>VisitingBeforeUpdateList' : \n   /   /[\n   /   /  0 : ('TagStr', 'Je suis passe par la')\n   /   /]\n   /  '<Spe><Instance>VisitingCollectionStrsList' : ['Visitome', 'Collectome']\n   /}\n\n*****End of the Attest *****\n\n\n\n```\n", 
          "cell_type": "markdown", 
          "metadata": {}
        }
      ]
    }
  ], 
  "metadata": {
    "name": "", 
    "signature": ""
  }, 
  "nbformat_minor": 0
}