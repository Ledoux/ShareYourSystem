{
  "nbformat": 3, 
  "worksheets": [
    {
      "cells": [
        {
          "source": "\n<!--\nFrozenIsBool False\n-->\n\n#Inspecter\n\n##Doc\n----\n\n\n> \n> An Inspecter decorates a class by giving it an InspectedArgumentDict that is \n> an inspection of all defined methods.\n> \n\n----\n\n<small>\nView the Inspecter notebook on [NbViewer](http://nbviewer.ipython.org/url/shareyoursystem.ouvaton.org/Inspecter.ipynb)\n</small>\n\n", 
          "cell_type": "markdown", 
          "prompt_number": 0, 
          "metadata": {
            "slideshow": {
              "slide_type": "slide"
            }
          }
        }, 
        {
          "source": "\n<!--\nFrozenIsBool False\n-->\n\n##Code\n\n----\n\n<ClassDocStr>\n\n----\n\n```python\n# -*- coding: utf-8 -*-\n\"\"\"\n\n\n<DefineSource>\n@Date : Fri Nov 14 13:20:38 2014 \\n\n@Author : Erwan Ledoux \\n\\n\n</DefineSource>\n\n\nAn Inspecter decorates a class by giving it an InspectedArgumentDict that is \nan inspection of all defined methods.\n\"\"\"\n\n#<DefineAugmentation>\nimport ShareYourSystem as SYS\nBaseModuleStr=\"ShareYourSystem.Standards.Classors.Propertiser\"\nDecorationModuleStr=BaseModuleStr\nSYS.setSubModule(globals())\n#</DefineAugmentation>\n\n#<ImportSpecificModules>\nimport collections\nimport inspect\n#</ImportSpecificModules>\n\n#<DefineFunction>\ndef getInspectedUnboundMethodsListWithClass(_Class):\n\treturn SYS._filter(\n\t\t\tlambda __AttributeVariable:\n\t\t\ttype(__AttributeVariable).__name__==\"function\",\n\t\t\t_Class.__dict__.values()\n\t\t\t)\n#<DefineFunction>\n\n#<DefineClass>\n@DecorationClass()\nclass InspecterClass(BaseClass):\n\n\tdef default_init(self,**_KwargVariablesDict):\n\n\t\t#Call the parent init method\n\t\tBaseClass.__init__(self,**_KwargVariablesDict)\n\n\tdef __call__(self,_Class):\n\n\t\t#Call the parent init method\n\t\tBaseClass.__call__(self,_Class)\n\n\t\t#Inspect\n\t\tself.inspect()\n\n\t\t#Return _Class\n\t\treturn _Class\n\n\tdef do_inspect(self):\n\n\t\t#Alias\n\t\tInspectedClass=self.DoClass\n\n\t\t#Debug\n\t\t'''\n\t\tprint('InspectedClass is ',InspectedClass)\n\t\tprint('')\n\t\t'''\n\t\t\n\t\t#Get the Args\n\t\tInspectedClass.InspectedArgumentDict=dict(\n\t\t\t\t\t\t\t\tmap(\t\n\t\t\t\t\t\t\t\t\tlambda __Function:\n\t\t\t\t\t\t\t\t\t(\n\t\t\t\t\t\t\t\t\t\t__Function.__name__,\n\t\t\t\t\t\t\t\t\t\tSYS.getArgumentDictWithFunction(__Function)\n\t\t\t\t\t\t\t\t\t),\n\t\t\t\t\t\t\t\t\tgetInspectedUnboundMethodsListWithClass(InspectedClass)\n\t\t\t\t\t\t\t\t)\n\t\t\t\t\t\t\t)\n\n\t\t#Add to the KeyStrsList\n\t\tInspectedClass.KeyStrsList+=[\n\t\t\t\t\t\t\t\t\t'InspectedArgumentDict',\n\t\t\t\t\t\t\t\t]\n\n#</Define_Class>\n\n\n```\n\n<small>\nView the Inspecter sources on <a href=\"https://github.com/Ledoux/ShareYourSystem/tree/master/Pythonlogy/ShareYourSystem/Classors/Inspecter\" target=\"_blank\">Github</a>\n</small>\n\n", 
          "cell_type": "markdown", 
          "prompt_number": 1, 
          "metadata": {
            "slideshow": {
              "slide_type": "subslide"
            }
          }
        }, 
        {
          "source": "\n<!---\nFrozenIsBool True\n-->\n\n##Example\n\nLet's create an empty class, which will automatically receive special attributes from the decorating ClassorClass specially the NameStr, that should be the ClassStr without the TypeStr in the end.", 
          "cell_type": "markdown", 
          "prompt_number": 2, 
          "metadata": {
            "slideshow": {
              "slide_type": "subslide"
            }
          }
        }, 
        {
          "cell_type": "code", 
          "prompt_number": 3, 
          "language": "python", 
          "input": [
            "#ImportModules\n", 
            "import ShareYourSystem as SYS\n", 
            "from ShareYourSystem.Standards.Classors import Inspecter,Attester \n", 
            "from ShareYourSystem.Standards.Objects import Initiator\n", 
            "\n", 
            "#Definition a FooClass decorated by the ClassorClass\n", 
            "@Inspecter.InspecterClass()\n", 
            "class MakerClass(Initiator.InitiatorClass):\n", 
            "    def make(self,\n", 
            "            _MakingStr,\n", 
            "            _MakingInt=0,\n", 
            "            **_KwargVariablesDict\n", 
            "        ):\n", 
            "        self.__class__.__bases__[0].__init__(self,**_KwargVariablesDict)\n", 
            "\n", 
            "#Definition the AttestedStr\n", 
            "SYS._attest(\n", 
            "    [\n", 
            "        'MakerClass.InspectedArgumentDict is '+SYS._str(MakerClass.InspectedArgumentDict)\n", 
            "    ]\n", 
            ") \n", 
            "\n", 
            "#Print\n", 
            "\n", 
            "\n"
          ], 
          "outputs": [
            {
              "output_type": "stream", 
              "stream": "stdout", 
              "text": [
                "\n", 
                "\n", 
                "*****Start of the Attest *****\n", 
                "\n", 
                "MakerClass.InspectedArgumentDict is \n", 
                "   /{ \n", 
                "   /  'callAllMro' : \n", 
                "   /   /{ \n", 
                "   /   /  'DefaultIndexInt' : 2\n", 
                "   /   /  'DefaultOrderedDict' : \n", 
                "   /   /   /{ \n", 
                "   /   /   /}\n", 
                "   /   /  'InputKeyStrsList' : ['_InstanceVariable', '_MethodStr']\n", 
                "   /   /  'KwargVariablesDictKeyStr' : _KwargVariablesDict\n", 
                "   /   /  'LiargVariablesListKeyStr' : _LiargVariablesList\n", 
                "   /   /}\n", 
                "   /  'callDo' : \n", 
                "   /   /{ \n", 
                "   /   /  'DefaultIndexInt' : 1\n", 
                "   /   /  'DefaultOrderedDict' : \n", 
                "   /   /   /{ \n", 
                "   /   /   /}\n", 
                "   /   /  'InputKeyStrsList' : ['_InstanceVariable']\n", 
                "   /   /  'KwargVariablesDictKeyStr' : \n", 
                "   /   /  'LiargVariablesListKeyStr' : \n", 
                "   /   /}\n", 
                "   /  'getClass' : \n", 
                "   /   /{ \n", 
                "   /   /  'DefaultIndexInt' : 1\n", 
                "   /   /  'DefaultOrderedDict' : \n", 
                "   /   /   /{ \n", 
                "   /   /   /  '_ClassVariable' : None\n", 
                "   /   /   /}\n", 
                "   /   /  'InputKeyStrsList' : ['_InstanceVariable', '_ClassVariable']\n", 
                "   /   /  'KwargVariablesDictKeyStr' : \n", 
                "   /   /  'LiargVariablesListKeyStr' : \n", 
                "   /   /}\n", 
                "   /  'setDefault' : \n", 
                "   /   /{ \n", 
                "   /   /  'DefaultIndexInt' : 2\n", 
                "   /   /  'DefaultOrderedDict' : \n", 
                "   /   /   /{ \n", 
                "   /   /   /  '_AttributeKeyStrsList' : None\n", 
                "   /   /   /}\n", 
                "   /   /  'InputKeyStrsList' : ['_InstanceVariable', '_ClassVariable', '_AttributeKeyStrsList']\n", 
                "   /   /  'KwargVariablesDictKeyStr' : _KwargVariablesDict\n", 
                "   /   /  'LiargVariablesListKeyStr' : \n", 
                "   /   /}\n", 
                "   /  'setDefaultMutable' : \n", 
                "   /   /{ \n", 
                "   /   /  'DefaultIndexInt' : 2\n", 
                "   /   /  'DefaultOrderedDict' : \n", 
                "   /   /   /{ \n", 
                "   /   /   /  '_AttributeKeyStrsList' : None\n", 
                "   /   /   /}\n", 
                "   /   /  'InputKeyStrsList' : ['_InstanceVariable', '_ClassVariable', '_AttributeKeyStrsList']\n", 
                "   /   /  'KwargVariablesDictKeyStr' : _KwargVariablesDict\n", 
                "   /   /  'LiargVariablesListKeyStr' : \n", 
                "   /   /}\n", 
                "   /  'setDo' : \n", 
                "   /   /{ \n", 
                "   /   /  'DefaultIndexInt' : 1\n", 
                "   /   /  'DefaultOrderedDict' : \n", 
                "   /   /   /{ \n", 
                "   /   /   /  '_DoClassVariable' : None\n", 
                "   /   /   /}\n", 
                "   /   /  'InputKeyStrsList' : ['_InstanceVariable', '_DoClassVariable']\n", 
                "   /   /  'KwargVariablesDictKeyStr' : _KwargVariablesDict\n", 
                "   /   /  'LiargVariablesListKeyStr' : \n", 
                "   /   /}\n", 
                "   /  'setDoing' : \n", 
                "   /   /{ \n", 
                "   /   /  'DefaultIndexInt' : 1\n", 
                "   /   /  'DefaultOrderedDict' : \n", 
                "   /   /   /{ \n", 
                "   /   /   /  '_DoClassVariable' : None\n", 
                "   /   /   /}\n", 
                "   /   /  'InputKeyStrsList' : ['_InstanceVariable', '_DoClassVariable']\n", 
                "   /   /  'KwargVariablesDictKeyStr' : _KwargVariablesDict\n", 
                "   /   /  'LiargVariablesListKeyStr' : \n", 
                "   /   /}\n", 
                "   /  'setDone' : \n", 
                "   /   /{ \n", 
                "   /   /  'DefaultIndexInt' : 1\n", 
                "   /   /  'DefaultOrderedDict' : \n", 
                "   /   /   /{ \n", 
                "   /   /   /  '_DoClassVariable' : None\n", 
                "   /   /   /}\n", 
                "   /   /  'InputKeyStrsList' : ['_InstanceVariable', '_DoClassVariable']\n", 
                "   /   /  'KwargVariablesDictKeyStr' : _KwargVariablesDict\n", 
                "   /   /  'LiargVariablesListKeyStr' : \n", 
                "   /   /}\n", 
                "   /  'superDefault_init' : \n", 
                "   /   /{ \n", 
                "   /   /  'DefaultIndexInt' : 1\n", 
                "   /   /  'DefaultOrderedDict' : \n", 
                "   /   /   /{ \n", 
                "   /   /   /}\n", 
                "   /   /  'InputKeyStrsList' : ['_InstanceVariable']\n", 
                "   /   /  'KwargVariablesDictKeyStr' : _KwargVariablesDict\n", 
                "   /   /  'LiargVariablesListKeyStr' : _LiargVariablesList\n", 
                "   /   /}\n", 
                "   /  'superDo_make' : \n", 
                "   /   /{ \n", 
                "   /   /  'DefaultIndexInt' : 1\n", 
                "   /   /  'DefaultOrderedDict' : \n", 
                "   /   /   /{ \n", 
                "   /   /   /}\n", 
                "   /   /  'InputKeyStrsList' : ['_InstanceVariable']\n", 
                "   /   /  'KwargVariablesDictKeyStr' : _KwargVariablesDict\n", 
                "   /   /  'LiargVariablesListKeyStr' : _LiargVariablesList\n", 
                "   /   /}\n", 
                "   /}\n", 
                "\n", 
                "*****End of the Attest *****\n", 
                "\n", 
                "\n"
              ]
            }
          ], 
          "collapsed": false, 
          "metadata": {
            "slideshow": {
              "slide_type": "-"
            }
          }
        }
      ]
    }
  ], 
  "metadata": {
    "name": "", 
    "signature": ""
  }, 
  "nbformat_minor": 0
}