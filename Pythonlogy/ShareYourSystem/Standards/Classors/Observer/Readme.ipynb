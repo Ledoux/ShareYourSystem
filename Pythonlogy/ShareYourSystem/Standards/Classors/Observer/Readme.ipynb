{
  "nbformat": 3, 
  "worksheets": [
    {
      "cells": [
        {
          "source": "\n<!--\nFrozenIsBool False\n-->\n\n#Observer\n\n##Doc\n----\n\n\n> \n> Observer...\n> \n> \n\n----\n\n<small>\nView the Observer notebook on [NbViewer](http://nbviewer.ipython.org/url/shareyoursystem.ouvaton.org/Observer.ipynb)\n</small>\n\n", 
          "cell_type": "markdown", 
          "prompt_number": 0, 
          "metadata": {
            "slideshow": {
              "slide_type": "slide"
            }
          }
        }, 
        {
          "source": "\n<!---\nFrozenIsBool True\n-->\n\n##Example\n\nFor this non directly very useful Module we just define a decorated FooClass\nfor which the Functer decoration by default call the decorated method...", 
          "cell_type": "markdown", 
          "prompt_number": 1, 
          "metadata": {
            "slideshow": {
              "slide_type": "subslide"
            }
          }
        }, 
        {
          "source": "```python\n#ImportModules\nimport ShareYourSystem as SYS\nimport operator\n\n#Definition a MakerClass decorated by the ObserverClass\n@SYS.ObserverClass(**{\n    'ObservingIsBool':True,\n    'ObservingWrapMethodStr':'make'\n})\nclass MakerClass(object):\n\n    def default_init(self,\n                    _MakingMyFloat=0.,\n                    _MadeMyInt=0,\n                    **_KwarVariablesDict\n                ):\n        object.__init__(self,**_KwarVariablesDict)\n\n    def do_make(self):\n    \n        #cast\n        self.MadeMyInt=int(self.MakingMyFloat)\n\n#Definition the AttestedStr\nSYS._attest(\n    [\n        'MakerClass.make is '+str(MakerClass.make),\n        'MakerClass.DeriveClassor.ObservingWrapMethodStr is '+str(\n            MakerClass.DeriveClassor.ObservingWrapMethodStr),\n        'MakerClass.DeriveClassor.ObservedWrapMethodStr is '+str(\n            MakerClass.DeriveClassor.ObservedWrapMethodStr),\n    ]\n) \n\n#Print\n\n\n\n\n\n```\n", 
          "cell_type": "markdown", 
          "metadata": {}
        }, 
        {
          "source": "```console\n>>>\n\n\n*****Start of the Attest *****\n\n        MakerClass.make is <unbound method MakerClass.superDo_make>\n\n------\n\n        MakerClass.DeriveClassor.ObservingWrapMethodStr is make\n\n------\n\n        MakerClass.DeriveClassor.ObservedWrapMethodStr is superDo_make\n\n*****End of the Attest *****\n\n\n\n```\n", 
          "cell_type": "markdown", 
          "metadata": {}
        }, 
        {
          "source": "\n<!--\nFrozenIsBool False\n-->\n\n##Code\n\n----\n\n<ClassDocStr>\n\n<small>\nView the Observer sources on <a href=\"https://github.com/Ledoux/ShareYourSystem/tree/master/Pythonlogy/ShareYourSystem/Standards/Classors/Observer\" target=\"_blank\">Github</a>\n</small>\n\n----\n\n```python\n# -*- coding: utf-8 -*-\n\"\"\"\n\n\n<DefineSource>\n@Date : Fri Nov 14 13:20:38 2014 \\n\n@Author : Erwan Ledoux \\n\\n\n</DefineSource>\n\n\nObserver...\n\n\"\"\"\n\n#<DefineAugmentation>\nimport ShareYourSystem as SYS\nBaseModuleStr=\"ShareYourSystem.Standards.Classors.Tester\"\nDecorationModuleStr=\"ShareYourSystem.Standards.Classors.Tester\"\nSYS.setSubModule(globals())\n#</DefineAugmentation>\n\n#<ImportSpecificModules>\nimport collections\nimport copy\nimport inspect\n#</ImportSpecificModules>\n\n#<DefineFunctions>\ndef observe(_InstanceVariable,**_KwargVariablesDict):\n\treturn _InstanceVariable\n#</DefineFunctions>\n\n#<DefineClass>\n@DecorationClass()\nclass ObserverClass(BaseClass):\n\t\n\tdef default_init(self,\n\t\t\t\t\t_ObservingIsBool=False,\n\t\t\t\t\t_ObservingWrapMethodStr=\"\",\t\n\t\t\t\t\t_ObservedWrapUnboundMethod=None,\t\t\n\t\t\t\t\t_ObservedWrapMethodStr=\"\",\t   \t\t\t\n\t\t\t\t\t**_KwargVariablesDict\n\t\t\t\t):\n\n\t\t#Call the init parent method\n\t\tBaseClass.__init__(self,**_KwargVariablesDict)\n\n\tdef __call__(self,_Class):\n\n\t\t#debug\n\t\t'''\n\t\tprint('Observer l.54 __call__ method')\n\t\tprint('_Class is ',_Class)\n\t\tprint('')\n\t\t'''\n\t\t\n\t\t#Call the parent init method\n\t\tBaseClass.__call__(self,_Class)\n\n\t\t#observe\n\t\tself.observe()\n\n\t\t#Return\n\t\treturn _Class\n\n\tdef do_observe(self):\n\n\t\t#Check\n\t\tif self.ObservingIsBool:\n\n\t\t\t#Debug\n\t\t\t'''\n\t\t\tprint('Observer l.75')\n\t\t\tprint('self.ObservingWrapMethodStr is')\n\t\t\tprint(self.ObservingWrapMethodStr)\n\t\t\tprint('')\n\t\t\t'''\n\n\t\t\t#Get\n\t\t\tself.ObservedWrapUnboundMethod=getattr(\n\t\t\t\tself.DoClass,\n\t\t\t\tself.ObservingWrapMethodStr\n\t\t\t) if self.ObservingWrapMethodStr!=\"\" else observe\n\n\t\t\t#Debug\n\t\t\t'''\n\t\t\tprint('Observer l 86')\n\t\t\tprint('self.ObservedWrapUnboundMethod is ',self.ObservedWrapUnboundMethod)\n\t\t\tprint('')\n\t\t\t'''\n\t\t\t\n\t\t\t#Define Check for not pointing a circular function...\n\t\t\tif self.ObservingWrapMethodStr!=self.ObservedWrapUnboundMethod.__name__:\n\t\t\t\tself.ObservedWrapMethodStr=self.ObservedWrapUnboundMethod.__name__\n\t\t\telse:\n\t\t\t\tself.ObservedWrapMethodStr=self.ObservingWrapMethodStr\n\t\t\t\n\t\t\t#Debug\n\t\t\t'''\n\t\t\tprint('Observer l.85')\n\t\t\tprint('self.ObservingWrapMethodStr is')\n\t\t\tprint(self.ObservingWrapMethodStr)\n\t\t\tprint('')\n\t\t\t'''\n\n\t\t\t#Return self\n\t\t\t#return self\n\n#</DefineClass>\n\n\n```\n\n", 
          "cell_type": "markdown", 
          "prompt_number": 3, 
          "metadata": {
            "slideshow": {
              "slide_type": "subslide"
            }
          }
        }
      ]
    }
  ], 
  "metadata": {
    "name": "", 
    "signature": ""
  }, 
  "nbformat_minor": 0
}