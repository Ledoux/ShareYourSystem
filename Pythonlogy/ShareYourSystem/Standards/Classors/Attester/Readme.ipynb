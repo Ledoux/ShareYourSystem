{
  "nbformat": 3, 
  "worksheets": [
    {
      "cells": [
        {
          "source": "\n<!--\nFrozenIsBool False\n-->\n\n#Attester\n\n##Doc\n----\n\n\n> \n> The Attester helps for outputing and writing\n> AttestingPrefixStrs that are a succession of well-shaped\n> prints in the console from an defined attesting function.\n> This environment helps for displaying nicer exampling \n> python codes in Readme and also contributing to unittests\n> of the modules.\n> \n> \n\n----\n\n<small>\nView the Attester notebook on [NbViewer](http://nbviewer.ipython.org/url/shareyoursystem.ouvaton.org/Attester.ipynb)\n</small>\n\n", 
          "cell_type": "markdown", 
          "prompt_number": 0, 
          "metadata": {
            "slideshow": {
              "slide_type": "slide"
            }
          }
        }, 
        {
          "source": "\n<!--\nFrozenIsBool False\n-->\n\n##Code\n\n----\n\n<ClassDocStr>\n\n----\n\n```python\n# -*- coding: utf-8 -*-\n\"\"\"\n\n\n<DefineSource>\n@Date : Fri Nov 14 13:20:38 2014 \\n\n@Author : Erwan Ledoux \\n\\n\n</DefineSource>\n\n\nThe Attester helps for outputing and writing\nAttestingPrefixStrs that are a succession of well-shaped\nprints in the console from an defined attesting function.\nThis environment helps for displaying nicer exampling \npython codes in Readme and also contributing to unittests\nof the modules.\n\n\"\"\"\n\n#<DefineAugmentation>\nimport ShareYourSystem as SYS\nBaseModuleStr=\"ShareYourSystem.Standards.Classors.Representer\"\nDecorationModuleStr=BaseModuleStr\nSYS.setSubModule(globals())\n#</DefineAugmentation>\n\n#<ImportSpecificModules>\nimport os\nimport sys\nRepresenter=DecorationModule\n#</ImportSpecificModules>\n\n#<DefineLocals>\nAttestingPrefixStr='attest_'\nAttestingBeginStr='\\n\\n*****Start of the Attest *****\\n\\n'\nAttestingJumpStr='\\n\\n------\\n\\n'\nAttestingEndStr='\\n\\n*****End of the Attest *****\\n\\n'\n#</DefineLocals>\n\n#<DefineFunctions>\ndef writeAttestedStrWithFolderPathStrAndMethodStrAndAttestVariable(\n\t_FolderPathStr,_MethodStr,_AttestVariable):\n\n\t#Bind with TestedStr setting\n\tRepresenter.RepresentingIdBool=False\n\tAttestedStr=Representer.getRepresentedStrWithVariable(_AttestVariable)\n\tRepresenter.RepresentingIdBool=True\n\n\t#Debug\n\t'''\n\tprint('l 52 Attester')\n\tprint('_FolderPathStr is ',_FolderPathStr)\n\tprint('')\n\t'''\n\n\t#Check that there is a Folder Tests\n\tif os.path.isdir(_FolderPathStr)==False:\n\t\tos.popen('mkdir '+_FolderPathStr)\n\telif os.popen(\"ls \"+_FolderPathStr).read()!=\"\":\n\t\tos.popen(\"cd \"+_FolderPathStr+\";rm *\")\n\n\t#Write the TestedStr\n\tFile=open(_FolderPathStr+_MethodStr+'.txt','w')\n\tFile.write(AttestedStr)\n\tFile.close()\n\ndef getAttestedStrWithStrsList(_StrsList):\n\n\t#Definition globals\n\tglobal AttestingBeginStr,AttestingJumpStr,AttestingEndStr\n\n\t#Reinit the alinea\n\tRepresenter.RepresentedAlineaStr=\"\"\n\tRepresenter.RepresentedAlreadyVariablesList=[]\n\n\t#Init AttestedStr\n\tAttestedStr=AttestingBeginStr\n\n\t#Add attested Strs\n\tAttestedStr+=AttestingJumpStr.join(\n\t\tmap(\n\t\t\tlambda __Str:\n\t\t\tRepresenter.represent(__Str,**{'RepresentingAlineaIsBool':False}),\n\t\t\t_StrsList\n\t\t)\n\t)\n\n\t#End the AttestedStr\n\tAttestedStr+=AttestingEndStr\n\t\n\t#Return\n\treturn AttestedStr\n\n#Definition an attest function for the classing class\ndef setAttest(_InstanceVariable,_AttestFolderPathStr=\"\",**_KwargVariablesDict):\n\n\t#Set\n\tif _AttestFolderPathStr==\"\": \t\n\t\t_AttestFolderPathStr=_InstanceVariable.__class__.DeriveClassor.AttestingFolderPathStr\n\t_InstanceVariable.__class__.DeriveClassor.AttestingFolderPathStr=_AttestFolderPathStr\n\n\t#Debug\n\t'''\n\tprint('l 92 Attester')\n\tprint('AttestedFolderPathStr is ',AttestedFolderPathStr)\n\tprint('')\n\t'''\n\n\t#Write the TestedStr made by each function and append an equivalent test method into the test ordered dict\n\tmap(\n\t\t\tlambda __AttestedUnboundMethod:\n\t\t\twriteAttestedStrWithFolderPathStrAndMethodStrAndAttestVariable(\n\t\t\t\t_AttestFolderPathStr,\n\t\t\t\t__AttestedUnboundMethod.__name__,\n\t\t\t\t__AttestedUnboundMethod(_InstanceVariable)\n\t\t\t),\n\t\t\t_InstanceVariable.__class__.DeriveClassor.AttestedUnboundMethodsList\n\t\t)\n#</DefineFunctions>\n\n#<DefineClass>\n@DecorationClass()\nclass AttesterClass(BaseClass):\n\n\t#Definition\n\tRepresentingKeyStrsList=[\n\t\t\t\t\t\t\t'AttestingFolderPathStr',\n\t\t\t\t\t\t\t'AttestedMethodStrsList'\n\t\t\t\t\t\t]\n\n\tdef default_init(self,\n\t\t\t\t\t\t_AttestingFolderPathStr=\"\",\n\t\t\t\t\t\t_AttestedMethodStrsList=None,\n\t\t\t\t\t\t**_KwargVariablesDict\n\t\t\t\t\t):\n\n\t\t#Call the parent init method\n\t\tBaseClass.__init__(self,**_KwargVariablesDict)\n\n\tdef __call__(self,_Class):\n\n\t\t#Call the parent init method\n\t\tBaseClass.__call__(self,_Class)\n\n\t\t#Represent\n\t\tself.attest()\n\n\t\t#Return\n\t\treturn _Class\n\n\tdef do_attest(self):\n\n\t\t#set the TestedFolderPathStr\n\t\tif self.AttestingFolderPathStr==\"\":\n\n\t\t\t#In the gl\n\t\t\tself.AttestingFolderPathStr=SYS.ShareYourSystemLocalFolderPathStr+self.DoClass.__module__.replace(\n\t\t\t\t'.','/')+'/Attests/'\n\n\t\t#debug\n\t\t'''\n\t\tprint('self.ClassedModule is ',self.ClassedModule)\n\t\tprint('')\n\t\t'''\n\n\t\t#set the AttestedMethodStrsList\n\t\tself.AttestedMethodStrsList=SYS._filter(\n\t\t\t\tlambda __AttributeKeyStr:\n\t\t\t\t__AttributeKeyStr.startswith(AttestingPrefixStr),\n\t\t\t\tdir(self.DoClass)\n\t\t\t)\n\n\t\t#set\n\t\tself.AttestedUnboundMethodsList=map(\n\t\t\tlambda __AttestedMethodStr:\n\t\t\tgetattr(self.DoClass,__AttestedMethodStr),\n\t\t\tself.AttestedMethodStrsList\n\t\t)\n\n\t\t#debug\n\t\t'''\n\t\tprint('self.AttestedMethodStrsList is '+str(self.AttestedMethodStrsList))\n\t\tprint('')\n\t\t'''\n\n\t\t#set\n\t\tif hasattr(self.DoClass,'setAttest')==False:\n\t\t\tsetattr(\n\t\t\t\tself.DoClass,\n\t\t\t\tsetAttest.__name__,\n\t\t\t\tsetAttest\n\t\t\t)\n\n\t\t#Return self\n\t\t#return self\n\t\t\n#</DefineClass>\n\n#link\nSYS._attest=lambda _StrsList:SYS._print(getAttestedStrWithStrsList(_StrsList))\n\n#Set\nAttesterClass.DeriveClassor.AttestingFolderPathStr=SYS.PythonlogyLocalFolderPathStr+AttesterClass.__module__.replace(\n'.','/')+'/Attests/'\n\n\n```\n\n<small>\nView the Attester sources on <a href=\"https://github.com/Ledoux/ShareYourSystem/tree/master/Pythonlogy/ShareYourSystem/Classors/Attester\" target=\"_blank\">Github</a>\n</small>\n\n", 
          "cell_type": "markdown", 
          "prompt_number": 1, 
          "metadata": {
            "slideshow": {
              "slide_type": "subslide"
            }
          }
        }, 
        {
          "source": "\n<!---\nFrozenIsBool True\n-->\n\n##Example\n\nHere we just decorate an IncrementerClass with an Attester and define an attest_increment\nfunction in the module that for which an AttestingStr will be written in a local Folder \nAttests/", 
          "cell_type": "markdown", 
          "prompt_number": 2, 
          "metadata": {
            "slideshow": {
              "slide_type": "subslide"
            }
          }
        }, 
        {
          "source": "```python\n#ImportModules\nimport ShareYourSystem as SYS\nfrom ShareYourSystem.Standards.Classors import Attester\nfrom ShareYourSystem.Tutorials import Incrementer\n\n#Attest the module\nIncrementer.IncrementerClass().setAttest(\n    Attester.AttesterClass.DeriveClassor.AttestingFolderPathStr\n)\n\n#Definition the AttestedStr\nSYS._attest(\n    [\n'Attests file is written and is '+open(\n    Attester.AttesterClass.DeriveClassor.AttestingFolderPathStr+'attest_increment.txt'\n).read()\n    ]\n) \n\n#Print\n\n\n```\n", 
          "cell_type": "markdown", 
          "metadata": {}
        }, 
        {
          "source": "```console\n>>>\n\n\n*****Start of the Attest *****\n\nAttests file is written and is 1\n\n*****End of the Attest *****\n\n\n\n```\n", 
          "cell_type": "markdown", 
          "metadata": {}
        }
      ]
    }
  ], 
  "metadata": {
    "name": "", 
    "signature": ""
  }, 
  "nbformat_minor": 0
}