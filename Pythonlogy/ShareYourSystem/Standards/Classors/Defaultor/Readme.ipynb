{
  "nbformat": 3, 
  "worksheets": [
    {
      "cells": [
        {
          "source": "\n<!---\nFrozenIsBool True\n-->\n\n##Example\n\nWe define here a MakerClass with some making and made attributes. Here is the difference for a default instance\nDefaultMaker that takes its values from the MakerClass.__dict__ and a special one that sets in its __dict__", 
          "cell_type": "markdown", 
          "prompt_number": 0, 
          "metadata": {
            "slideshow": {
              "slide_type": "slide"
            }
          }
        }, 
        {
          "source": "```python\n#ImportModules\nimport ShareYourSystem as SYS\n\n#Definition a FooClass decorated by the DefaultorClass\n@SYS.DefaultorClass()\nclass FooClass(object):\n\n    def default_init(self,\n                        Int,\n                        _MyFloat=1.,\n                        _MyInt={\n                                    'DefaultValueType':int\n                                }\n                ):\n        #call the base method\n        object.__init__(self)\n    \n        #Definition an attribute\n        self.MyStr='I am a Foo with MyFloat equal to '+str(self.MyFloat)+' and Int equal to '+str(Int)\n\n\n#print\nprint(\"\\n\".join(\n        [\n        'FooClass.__init__ is '+str(FooClass.__init__),\n        'FooClass has some special attributes',\n        #'FooClass.InitInspectDict is '+SYS._str(FooClass.InitInspectDict),\n        'FooClass.DefaultAttributeVariablesOrderedDict is '+SYS.indent(\n            FooClass.DefaultAttributeVariablesOrderedDict),\n        'FooClass.MyFloat is '+str(FooClass.MyFloat),\n        'FooClass.MyInt is '+str(FooClass.MyInt),\n        ]\n    )\n)\n\n#Definition a default instance that will take its values from the default classed attributes\nDefaultFoo=FooClass(3)\n\n#print\nprint(\"\\n\"+\"\\n\".join(\n    [\n        'What are you saying DefaultFoo ?',\n        'DefaultFoo.__dict__ is '+str(DefaultFoo.__dict__),\n        'DefaultFoo.MyFloat is '+str(DefaultFoo.MyFloat),\n        'DefaultFoo.MyInt is '+str(DefaultFoo.MyInt)\n    ]\n))\n\n#Definition a special instance that sets in its __dict__\nSpecialFoo=FooClass(\n            3,\n            **{'MyInt':5}\n        )\n\n#print\nprint(\"\\n\"+\"\\n\".join(\n    [\n        'What are you saying SpecialFoo ?',\n        'SpecialFoo.__dict__ is '+str(SpecialFoo.__dict__),\n        'SpecialFoo.MyFloat is '+str(SpecialFoo.MyFloat),\n        'SpecialFoo.MyInt is '+str(SpecialFoo.MyInt)\n    ]\n    )\n)\n\n#Change a classed attribute\nFooClass.MyFloat=7.\n\n#Add\nprint(\"\\n\"+\"\\n\".join(\n        [\n        'After reset at the level of the class',\n        'DefaultFoo.MyFloat is '+str(DefaultFoo.MyFloat),\n        'SpecialFoo.MyFloat is '+str(SpecialFoo.MyFloat),\n        ]\n    )\n)\n\n\n\n\n```\n", 
          "cell_type": "markdown", 
          "metadata": {}
        }, 
        {
          "source": "```console\n>>>\nFooClass.__init__ is <unbound method FooClass.superDefault_init>\nFooClass has some special attributes\nFooClass.DefaultAttributeVariablesOrderedDict is {\n  \"MyInt\": \"0\", \n  \"MyFloat\": \"1.0\"\n}\nFooClass.MyFloat is 1.0\nFooClass.MyInt is 0\n\nWhat are you saying DefaultFoo ?\nDefaultFoo.__dict__ is {'MyStr': 'I am a Foo with MyFloat equal to 1.0 and Int equal to 3', 'DefaultInitBool': True}\nDefaultFoo.MyFloat is 1.0\nDefaultFoo.MyInt is 0\n\nWhat are you saying SpecialFoo ?\nSpecialFoo.__dict__ is {'MyStr': 'I am a Foo with MyFloat equal to 1.0 and Int equal to 3', 'MyInt': 5, 'DefaultInitBool': True}\nSpecialFoo.MyFloat is 1.0\nSpecialFoo.MyInt is 5\n\nAfter reset at the level of the class\nDefaultFoo.MyFloat is 7.0\nSpecialFoo.MyFloat is 7.0\n\n```\n", 
          "cell_type": "markdown", 
          "metadata": {}
        }, 
        {
          "source": "\n<!---\nFrozenIsBool True\n-->\n\n##Example\n\nParticular case of the definition of mutable variables in the init method.\nIf you decide to initialize a mutable variable like a list with a \ndefault empty value, this is rather to make it shared to all the instances.\nOn the other hand, if you want to declare a list that has to be unique for each instance,\nthen set it to the default value None.", 
          "cell_type": "markdown", 
          "prompt_number": 2, 
          "metadata": {
            "slideshow": {
              "slide_type": null
            }
          }
        }, 
        {
          "source": "```python\n#ImportModules\nimport ShareYourSystem as SYS\nimport numpy as np\n\n#Definition a FooClass decorated by the DefaultorClass\n@SYS.DefaultorClass()\nclass FooClass(object):\n\n    def default_init(self,\n                        _MyFirstList=[],\n                        _MyArray=None,\n                        _MySecondList=None,\n                ):\n        object.__init__(self)\n\n#print\nprint(\"\\n\".join([\n        'FooClass has some special attributes',\n        #'FooClass.InitInspectDict is '+SYS._str(FooClass.InitInspectDict),\n        'FooClass.DefaultAttributeVariablesOrderedDict is '+str(\n            FooClass.DefaultAttributeVariablesOrderedDict),\n        'FooClass.MyFirstList is '+str(FooClass.MyFirstList),\n        'FooClass.MySecondList is '+str(FooClass.MySecondList),\n        ]\n    )\n)\n\n#Definition a default instance that will take its values from the default classed attributes\nDefaultFoo=FooClass()\n\n#But it can touch at the mutable values defined in the class\nDefaultFoo.MyFirstList.append('hello')\n\n#Note: if you write DefaultFoo.MyFirstList=['hello'], \n#then it will set it as a new list in the __dict__ of the DefaultFoo.\n\n#print\nprint(\"\\n\"+\"\\n\".join([\n        'What are you saying DefaultFoo ?',\n        'DefaultFoo.__dict__ is '+str(DefaultFoo.__dict__),\n        'DefaultFoo.MyFirstList is '+str(DefaultFoo.MyFirstList),\n        'DefaultFoo.MySecondList is '+str(DefaultFoo.MySecondList),\n    ]\n    )\n)\n\n#Definition a special instance that sets in its __dict__\nSpecialFoo=FooClass(\n            _MyArray=np.array([4]),\n            _MySecondList=['bonjour'],\n            **{'MyInt':3}\n            )\n\n#print\nprint(\"\\n\"+\"\\n\".join([    \n        'What are you saying SpecialFoo ?',\n        'SpecialFoo.__dict__ is '+str(SpecialFoo.__dict__),\n        'SpecialFoo.MyFirstList is '+str(SpecialFoo.MyFirstList),\n        'SpecialFoo.MySecondList is '+str(SpecialFoo.MySecondList),\n        ]\n    )\n)\n\n\n\n\n```\n", 
          "cell_type": "markdown", 
          "metadata": {}
        }, 
        {
          "source": "```console\n>>>\nFooClass has some special attributes\nFooClass.DefaultAttributeVariablesOrderedDict is OrderedDict([('MyFirstList', []), ('MyArray', None), ('MySecondList', None)])\nFooClass.MyFirstList is []\nFooClass.MySecondList is None\n\nWhat are you saying DefaultFoo ?\nDefaultFoo.__dict__ is {'DefaultInitBool': True}\nDefaultFoo.MyFirstList is ['hello']\nDefaultFoo.MySecondList is None\n\nWhat are you saying SpecialFoo ?\nSpecialFoo.__dict__ is {'MySecondList': ['bonjour'], 'DefaultInitBool': True, 'MyArray': array([4])}\nSpecialFoo.MyFirstList is ['hello']\nSpecialFoo.MySecondList is ['bonjour']\n\n```\n", 
          "cell_type": "markdown", 
          "metadata": {}
        }, 
        {
          "source": "\n<!---\nFrozenIsBool True\n-->\n\n##Example\n\nDefaultor can thus also share Objects if they are initiated at the level of the class.", 
          "cell_type": "markdown", 
          "prompt_number": 4, 
          "metadata": {
            "slideshow": {
              "slide_type": null
            }
          }
        }, 
        {
          "source": "```python\n#ImportModules\nimport ShareYourSystem as SYS\n\n#Definition a FooClass decorated by the DefaultorClass\n@SYS.DefaultorClass()\nclass FooClass(object):\n\n    def default_init(self,\n                        _ShareClassor=SYS.ClassorClass(),\n                        _SpecificClassor=None\n                ):\n        object.__init__(self)\n\n#Definition \nFooClass.ShareClassor.MyInt=2\nMyFirstFoo=FooClass()\nMySecondFoo=FooClass()\n\n#Definition the AttestedStr\nprint(\"\\n\".join(\n    [\n        'MyFirstFoo.ShareClassor.__dict__ is ',SYS.indent(\n            MyFirstFoo.ShareClassor.__dict__),\n        'MyFirstFoo.__dict__ is '+SYS.indent(MyFirstFoo.__dict__),\n        'MyFirstFoo.SpecificClassor is '+str(MyFirstFoo.SpecificClassor)\n    ]\n    )\n)\n\n\n\n\n```\n", 
          "cell_type": "markdown", 
          "metadata": {}
        }, 
        {
          "source": "```console\n>>>\nMyFirstFoo.ShareClassor.__dict__ is \n{\n  \"MyInt\": \"2\"\n}\nMyFirstFoo.__dict__ is {\n  \"DefaultInitBool\": \"True\"\n}\nMyFirstFoo.SpecificClassor is None\n\n```\n", 
          "cell_type": "markdown", 
          "metadata": {}
        }, 
        {
          "source": "\n<!---\nFrozenIsBool True\n-->\n\n##Example\n\nIt is possible to 'reset' an instance with the default value\ndefined at the level of the class.\nNote that the mutable variables that are initiated at the level of the class keeps\ntheir ongoing value (as MyShareList). Also note that there is a setDefaultMutable that \ninit all the mutables variables in the instance, if wanted.\n", 
          "cell_type": "markdown", 
          "prompt_number": 6, 
          "metadata": {
            "slideshow": {
              "slide_type": null
            }
          }
        }, 
        {
          "source": "```python\n#ImportModules\nimport ShareYourSystem as SYS\n\n#Definition a FooClass decorated by the DefaultorClass\n@SYS.DefaultorClass()\nclass FooClass(object):\n\n    def default_init(self,\n                        _MyFloat=1.,\n                        _MyShareList=[],\n                        _MyFirstSpecificList=None,\n                        _MySecondSpecificList=None,\n                        _MyInt={\n                                    'DefaultValueType':int\n                                }\n                ):\n        object.__init__(self)\n\n#Definition \nMyFoo=FooClass(**{'MyFloat':5.,'MyInt':9})\nMyFoo.MyShareList.append(7)\nMyFoo.MyFirstSpecificList=['hello']\n\n#Before default\nprint('Before setDefault MyFoo.__dict__ is')\nprint(SYS.indent(MyFoo.__dict__))\n\n#default\nMyFoo.setDefault(\n    #ClassVariable\n    #it can be a Class, ClassKeyStr or [Class]\n    FooClass,\n    #AttributeKeyStrsList \n    #it can be just a KeyStr a [<KeyStr>] and if None it is all the KeyStr from all the Classes\n    ['MyFloat','MyFirstSpecificList']\n)\n\n#After default\nprint('\\nAfter setDefault MyFoo.__dict__ is')\nprint(SYS.indent(MyFoo.__dict__))\n\n#default\nMyFoo.setDefaultMutable(\n    #ClassVariable\n    #it can be a Class, ClassKeyStr or [Class]\n    FooClass,\n    #AttributeKeyStrsList \n    #it can be just a KeyStr a [<KeyStr>] and if None it is all the KeyStr from all the Classes\n    ['MyFirstSpecificList']\n)\n\n#After default\nprint('\\nAfter setDefaultMutable MyFoo.__dict__ is')\nprint(SYS.indent(MyFoo.__dict__))\n\n#append to the share list\nMyFoo.MyShareList.append(8)\n\n#After default\nprint('\\nAfter setDefault MyFoo.__dict__ is')\nprint(SYS.indent(MyFoo.__dict__))\n\n#define\nprint('\\nFooClass.DefaultAttributeVariablesOrderedDict is '+SYS.indent(\n            FooClass.DefaultAttributeVariablesOrderedDict)\n)\n\n#print\nprint('\\nMyFoo.__dict__ is ')\nprint(SYS.indent(MyFoo.__dict__))\n\n\n\n\n\n```\n", 
          "cell_type": "markdown", 
          "metadata": {}
        }, 
        {
          "source": "```console\n>>>\nBefore setDefault MyFoo.__dict__ is\n{\n  \"DefaultInitBool\": \"True\", \n  \"MyFirstSpecificList\": \"['hello']\", \n  \"MyInt\": \"9\", \n  \"MyFloat\": \"5.0\"\n}\n\nAfter setDefault MyFoo.__dict__ is\n{\n  \"DefaultInitBool\": \"True\", \n  \"MyFirstSpecificList\": \"None\", \n  \"MyInt\": \"9\", \n  \"MyFloat\": \"1.0\"\n}\n\nAfter setDefaultMutable MyFoo.__dict__ is\n{\n  \"DefaultInitBool\": \"True\", \n  \"MyFirstSpecificList\": \"[]\", \n  \"MyInt\": \"9\", \n  \"MyFloat\": \"1.0\"\n}\n\nAfter setDefault MyFoo.__dict__ is\n{\n  \"DefaultInitBool\": \"True\", \n  \"MyFirstSpecificList\": \"[]\", \n  \"MyInt\": \"9\", \n  \"MyFloat\": \"1.0\"\n}\n\nFooClass.DefaultAttributeVariablesOrderedDict is {\n  \"MyInt\": \"0\", \n  \"MySecondSpecificList\": \"None\", \n  \"MyFirstSpecificList\": \"None\", \n  \"MyShareList\": \"[7, 8]\", \n  \"MyFloat\": \"1.0\"\n}\n\nMyFoo.__dict__ is \n{\n  \"DefaultInitBool\": \"True\", \n  \"MyFirstSpecificList\": \"[]\", \n  \"MyInt\": \"9\", \n  \"MyFloat\": \"1.0\"\n}\n\n```\n", 
          "cell_type": "markdown", 
          "metadata": {}
        }, 
        {
          "source": "\n<!---\nFrozenIsBool True\n-->\n\n##Example\n\nAnd we can reset at the same time several Mro attributes.\nAlso here we show that there is the option DefaultMutableBool to directly init the mutables variables.\n", 
          "cell_type": "markdown", 
          "prompt_number": 8, 
          "metadata": {
            "slideshow": {
              "slide_type": null
            }
          }
        }, 
        {
          "source": "```python\n#ImportModules\nimport ShareYourSystem as SYS\n\n#Definition a FooClass decorated by the DefaultorClass\n@SYS.DefaultorClass()\nclass FooClass(object):\n\n    def default_init(self,\n                        _MyFloat=1.,\n                        _MyShareList=[],\n                        _MyFirstSpecificList=None,\n                        _MySecondSpecificList=None,\n                        _MyInt={\n                                    'DefaultValueType':int\n                                }\n                ):\n        object.__init__(self)\n\n#Definition a FeeClass decorated by the DefaultorClass\n@SYS.DefaultorClass()\nclass FeeClass(FooClass):\n\n    def default_init(self,\n                        _MyBool=True,\n                ):\n        FooClass.__init__(self)\n\n#put in the SYS scope\nSYS.FeeClass=FeeClass\n\n#Definition \nMyFee=FeeClass(**{\n    'MyFloat':5.,\n    'MyInt':9,\n    'MyBool':False\n})\n\n#Before default\nprint('Before setDefault MyFee.__dict__ is')\nprint(SYS.indent(MyFee.__dict__))\n\n#default and also init the mutable variables\nMyFee.setDefault(\n    #ClassVariable,\n    [FooClass,'FeeClass'],\n    **{'DefaultMutableBool':True}\n)\n\n#print\nprint('\\nMyFee.__dict__ is ')\nprint(SYS.indent(MyFee.__dict__))\n\n\n\n\n\n```\n", 
          "cell_type": "markdown", 
          "metadata": {}
        }, 
        {
          "source": "```console\n>>>\nBefore setDefault MyFee.__dict__ is\n{\n  \"DefaultInitBool\": \"True\"\n}\n\nMyFee.__dict__ is \n{\n  \"MyBool\": \"True\", \n  \"MySecondSpecificList\": \"[]\", \n  \"MyFloat\": \"1.0\", \n  \"MyFirstSpecificList\": \"[]\", \n  \"MyShareList\": \"[]\", \n  \"MyInt\": \"0\", \n  \"DefaultInitBool\": \"True\"\n}\n\n```\n", 
          "cell_type": "markdown", 
          "metadata": {}
        }
      ]
    }
  ], 
  "metadata": {
    "name": "", 
    "signature": ""
  }, 
  "nbformat_minor": 0
}