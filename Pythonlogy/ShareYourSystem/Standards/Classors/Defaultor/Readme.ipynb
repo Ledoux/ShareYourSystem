{
  "nbformat": 3, 
  "worksheets": [
    {
      "cells": [
        {
          "source": [
            "#Defaultor\n", 
            "\n\n@Date : Fri Nov 14 13:20:38 2014 \n\n@Author : Erwan Ledoux \n\n\n\nThe Defaultor is a crucial module for understanding how we can manage high-computer-performance of many instanciations without making the memory crashes. For an Instance that is setted by default, this latter will find its attributes in the class __dict__. Once the instance has setted in its __dict__ a special value it will stop to look at the class level. There is for now no distinction of get,set for mutable or non mutable variable.\n\n\n"
          ], 
          "cell_type": "markdown", 
          "metadata": {}
        }, 
        {
          "source": "\n<!---\nFrozenIsBool True\n-->\n\n##Example\n\nWe define here a FooClass with some attributes. Here is the difference for a default instance\nDefaultFoo that takes its values from the FooClass.__dict__ and a special one that sets in its __dict__", 
          "cell_type": "markdown", 
          "prompt_number": 0, 
          "metadata": {}
        }, 
        {
          "source": "```python\n#ImportModules\nfrom ShareYourSystem.Standards.Classors import Attester\nfrom ShareYourSystem.Standards.Objects import Initiator\nfrom ShareYourSystem.Standards.Classors import Defaultor\n\n#Definition a FooClass decorated by the DefaultorClass\n@Defaultor.DefaultorClass()\nclass FooClass(Initiator.InitiatorClass):\n\n\tdef default_init(self,\n\t\t\t\t\t\tInt,\n\t\t\t\t\t\t_MyFloat=1.,\n\t\t\t\t\t\t_MyList=[],\n\t\t\t\t\t\t_MyInt={\n\t\t\t\t\t\t\t\t\t'DefaultValueType':int\n\t\t\t\t\t\t\t\t}\n\t\t\t\t):\n\t\t\n\t\t#Definition an attribute\n\t\tself.MyStr='I am a Foo with MyFloat equal to '+str(self.MyFloat)+' and Int equal to '+str(Int)\n\n#Definition a default instance that will take its values from the default classed attributes\nDefaultFoo=FooClass(3)\n\n#Definition a special instance that sets in its __dict__\nSpecialFoo=FooClass(3,_MyList=['hello'],**{'MyInt':3})\n\n#Definition the AttestedStr\nAttestingStrsList=[\n\t\t'What are you saying DefaultFoo ?',\n\t\t'DefaultFoo.__dict__ is '+str(DefaultFoo.__dict__),\n\t\t'DefaultFoo.MyFloat is '+str(DefaultFoo.MyFloat),\n\t\t'DefaultFoo.MyList is '+str(DefaultFoo.MyList),\n\t\t'DefaultFoo.MyInt is '+str(DefaultFoo.MyInt),\n\t\t'What are you saying SpecialFoo ?',\n\t\t'SpecialFoo.__dict__ is '+str(SpecialFoo.__dict__),\n\t\t'SpecialFoo.MyFloat is '+str(SpecialFoo.MyFloat),\n\t\t'SpecialFoo.MyList is '+str(SpecialFoo.MyList),\n\t\t'DefaultFoo.MyInt is '+str(SpecialFoo.MyInt)\n\t]\n\n#Change a classed attribute\nFooClass.MyFloat=5\n\n#Add\nAttestingStrsList+=[\n\t\t'After reset at the level of the class',\n\t\t'DefaultFoo.MyFloat is '+str(DefaultFoo.MyFloat),\n\t\t'SpecialFoo.MyFloat is '+str(SpecialFoo.MyFloat),\n\t]\n\n#Definition\nSYS._attest(AttestingStrsList)\n\n#Print\nprint(AttestedStr)\n\n```\n", 
          "cell_type": "markdown", 
          "metadata": {}
        }, 
        {
          "source": "```console\n>>>\n\n\n*****Start of the Attest *****\n\nWhat are you saying DefaultFoo ?\n\n------\n\nDefaultFoo.__dict__ is {'MyStr': 'I am a Foo with MyFloat equal to 1.0 and Int equal to 3'}\n\n------\n\nDefaultFoo.MyFloat is 1.0\n\n------\n\nDefaultFoo.MyList is []\n\n------\n\nDefaultFoo.MyInt is 0\n\n------\n\nWhat are you saying SpecialFoo ?\n\n------\n\nSpecialFoo.__dict__ is {'MyList': ['hello'], 'MyInt': 3, 'MyStr': 'I am a Foo with MyFloat equal to 1.0 and Int equal to 3'}\n\n------\n\nSpecialFoo.MyFloat is 1.0\n\n------\n\nSpecialFoo.MyList is ['hello']\n\n------\n\nDefaultFoo.MyInt is 3\n\n------\n\nAfter reset at the level of the class\n\n------\n\nDefaultFoo.MyFloat is 5\n\n------\n\nSpecialFoo.MyFloat is 5\n\n*****End of the Attest *****\n\n\n\n\n```\n", 
          "cell_type": "markdown", 
          "metadata": {}
        }, 
        {
          "source": "\n<!--\nFrozenIsBool False\n-->\n\n##More Descriptions at the level of the class\n\nSpecial attributes of the DefaultorClass are :\n", 
          "cell_type": "markdown", 
          "prompt_number": 2, 
          "metadata": {}
        }, 
        {
          "source": "\n<!---\nFrozenIsBool True\n-->\n\n##Example\n\nWe define here a FooClass with some attributes. Here is the difference for a default instance\nDefaultFoo that takes its values from the FooClass.__dict__ and a special one that sets in its __dict__", 
          "cell_type": "markdown", 
          "prompt_number": 3, 
          "metadata": {}
        }, 
        {
          "source": "```python\n\n\n\n#ImportModules\nimport ShareYourSystem as SYS\nfrom ShareYourSystem.Standards.Classors import Defaultor\n\t\t\n#Definition the AttestedStr\nSYS._attest(\n\t[\n\t\t'Nothing Special'\n\t]\n) \n\n#Print\nprint(AttestedStr)\n\n\n```\n", 
          "cell_type": "markdown", 
          "metadata": {}
        }, 
        {
          "source": "```console\n>>>\n\n\n*****Start of the Attest *****\n\nNothing Special\n\n*****End of the Attest *****\n\n\n\n\n```\n", 
          "cell_type": "markdown", 
          "metadata": {}
        }, 
        {
          "source": "```python\n\n\n\n#ImportModules\nfrom ShareYourSystem.Standards.Classors import Attester\nfrom ShareYourSystem.Standards.Classors import Defaultor\n\t\t\n#Definition the AttestedStr\nSYS._attest(\n\t[\n\t\tDefaultor.DefaultorClass()\n\t]\n) \n\n#Print\nprint(AttestedStr)\n\n\n\n```\n", 
          "cell_type": "markdown", 
          "metadata": {}
        }, 
        {
          "source": "```console\n>>>\n\n\n*****Start of the Attest *****\n\n<ShareYourSystem.Standards.Classors.Defaultor.DefaultorClass object at 0x108d0e750>\n\n*****End of the Attest *****\n\n\n\n\n```\n", 
          "cell_type": "markdown", 
          "metadata": {}
        }, 
        {
          "source": "\n<!--\nFrozenIsBool False\n-->\n\n##More Descriptions at the level of the instances\n\nA default call of an instance gives :\n", 
          "cell_type": "markdown", 
          "prompt_number": 6, 
          "metadata": {}
        }
      ]
    }
  ], 
  "metadata": {
    "name": "", 
    "signature": ""
  }, 
  "nbformat_minor": 0
}