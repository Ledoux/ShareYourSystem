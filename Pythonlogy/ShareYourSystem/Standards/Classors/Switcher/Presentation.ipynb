{
  "nbformat": 3, 
  "worksheets": [
    {
      "cells": [
        {
          "source": "\n<!--\nFrozenIsBool False\n-->\n\n#Switcher\n\n##Doc\n----\n\n\n> \n> The Switcher\n> \n> \n\n----\n\n<small>\nView the Switcher notebook on [NbViewer](http://nbviewer.ipython.org/url/shareyoursystem.ouvaton.org/Switcher.ipynb)\n</small>\n\n", 
          "cell_type": "markdown", 
          "prompt_number": 0, 
          "metadata": {
            "slideshow": {
              "slide_type": "slide"
            }
          }
        }, 
        {
          "source": "\n<!---\nFrozenIsBool True\n-->\n\n##Example\n\nNote that the swith can be specific to a Name and an Do", 
          "cell_type": "markdown", 
          "prompt_number": 1, 
          "metadata": {
            "slideshow": {
              "slide_type": "subslide"
            }
          }
        }, 
        {
          "cell_type": "code", 
          "prompt_number": 2, 
          "language": "python", 
          "input": [
            "#ImportModules\n", 
            "import ShareYourSystem as SYS\n", 
            "\n", 
            "#Definition a MakerClass with decorated make by a Switcher\n", 
            "@SYS.SwitcherClass(**{\n", 
            "    'SwitchingIsBool':True,\n", 
            "    'SwitchingWrapMethodStr':'make'\n", 
            "})\n", 
            "class MakerClass(object):\n", 
            "\n", 
            "    def default_init(self,\n", 
            "                _MakingMyFloat=1.,\n", 
            "                _MadeMyInt=0\n", 
            "                ):\n", 
            "        object.__init__(self)\n", 
            "\n", 
            "    def do_make(self):\n", 
            "\n", 
            "        #Cast\n", 
            "        self.MadeMyInt=int(self.MakingMyFloat)\n", 
            "\n", 
            "        #print\n", 
            "        print('self.MadeMyInt is ')\n", 
            "        print(self.MadeMyInt)\n", 
            "\n", 
            "#Definition a MakerClass with decorated make by a Switcher\n", 
            "@SYS.SwitcherClass()\n", 
            "class BuilderClass(MakerClass):\n", 
            "\n", 
            "    def default_init(self,\n", 
            "                ):\n", 
            "        MakerClass.__init__(self)\n", 
            "\n", 
            "\n", 
            "#print \n", 
            "print('BuilderClass.SwitchMethodDict is ')\n", 
            "print(SYS.indent(BuilderClass.SwitchMethodDict))\n", 
            "\n", 
            "#Definition an instance\n", 
            "MyBuilder=BuilderClass()\n", 
            "\n", 
            "#Print\n", 
            "print('Before make, MyBuilder.__dict__ is ')\n", 
            "SYS._print(MyBuilder.__dict__)\n", 
            "\n", 
            "#print\n", 
            "print('MyBuilder.getSwitch()')\n", 
            "print(SYS.indent(MyBuilder.getSwitch()))\n", 
            "\n", 
            "#make once\n", 
            "print('We make')\n", 
            "print(MyBuilder.make)\n", 
            "MyBuilder.make(3.)\n", 
            "\n", 
            "#print\n", 
            "print('MyBuilder.getSwitch()')\n", 
            "print(SYS.indent(MyBuilder.getSwitch()))\n", 
            "\n", 
            "#Print\n", 
            "print('After the make, MyBuilder.__dict__ is ')\n", 
            "SYS._print(MyBuilder.__dict__)\n", 
            "\n", 
            "#make again\n", 
            "print('Now we switch')\n", 
            "MyBuilder.setSwitch()\n", 
            "\n", 
            "#Switch by default it is just the last Name and the the last do in the mro\n", 
            "print('Now we switch')\n", 
            "MyBuilder.setSwitch('make')\n", 
            "\n", 
            "#Print\n", 
            "print('After the switch MyBuilder.__dict__ is ')\n", 
            "SYS._print(MyBuilder.__dict__)\n", 
            "\n", 
            "\n", 
            "\n"
          ], 
          "outputs": [
            {
              "output_type": "stream", 
              "stream": "stdout", 
              "text": [
                "BuilderClass.SwitchMethodDict is \n", 
                "{\n", 
                "  \"make\": \"[<class 'MakerClass'>]\"\n", 
                "}\n", 
                "Before make, MyBuilder.__dict__ is \n", 
                "\n", 
                "   /{ \n", 
                "   /  'DefaultInitBool' : True\n", 
                "   /}\n", 
                "MyBuilder.getSwitch()\n", 
                "{\n", 
                "  \"WatchBeforeMakeWithMakerBool\": \"None\", \n", 
                "  \"WatchAfterMakeWithMakerBool\": \"None\"\n", 
                "}\n", 
                "We make\n", 
                "<bound method BuilderClass.switch_watch_superDo_make of <BuilderClass object at 0x1072026d0>>\n", 
                "self.MadeMyInt is \n", 
                "3\n", 
                "MyBuilder.getSwitch()\n", 
                "{\n", 
                "  \"WatchBeforeMakeWithMakerBool\": \"True\", \n", 
                "  \"WatchAfterMakeWithMakerBool\": \"True\"\n", 
                "}\n", 
                "After the make, MyBuilder.__dict__ is \n", 
                "\n", 
                "   /{ \n", 
                "   /  'DefaultInitBool' : True\n", 
                "   /  'MadeMyInt' : 3\n", 
                "   /  'MakingMyFloat' : 3.0\n", 
                "   /  '_WatchAfterMakeWithMakerBool' : True\n", 
                "   /  '_WatchBeforeMakeWithMakerBool' : True\n", 
                "   /}\n", 
                "Now we switch\n", 
                "Now we switch\n", 
                "After the switch MyBuilder.__dict__ is \n", 
                "\n", 
                "   /{ \n", 
                "   /  'DefaultInitBool' : True\n", 
                "   /  'MadeMyInt' : 3\n", 
                "   /  'MakingMyFloat' : 3.0\n", 
                "   /  '_WatchAfterMakeWithMakerBool' : False\n", 
                "   /  '_WatchBeforeMakeWithMakerBool' : False\n", 
                "   /}\n"
              ]
            }
          ], 
          "collapsed": false, 
          "metadata": {
            "slideshow": {
              "slide_type": "-"
            }
          }
        }, 
        {
          "source": "\n<!--\nFrozenIsBool False\n-->\n\n##Code\n\n----\n\n<ClassDocStr>\n\n<small>\nView the Switcher sources on <a href=\"https://github.com/Ledoux/ShareYourSystem/tree/master/Pythonlogy/ShareYourSystem/Standards/Classors/Switcher\" target=\"_blank\">Github</a>\n</small>\n\n----\n\n```python\n# -*- coding: utf-8 -*-\n\"\"\"\n\n\n<DefineSource>\n@Date : Fri Nov 14 13:20:38 2014 \\n\n@Author : Erwan Ledoux \\n\\n\n</DefineSource>\n\n\nThe Switcher\n\n\"\"\"\n\n#<DefineAugmentation>\nimport ShareYourSystem as SYS\nBaseModuleStr=\"ShareYourSystem.Standards.Classors.Watcher\"\nDecorationModuleStr=\"ShareYourSystem.Standards.Classors.Tester\"\nSYS.setSubModule(globals())\n#</DefineAugmentation>\n\n#<ImportSpecificModules>\nimport operator\nimport copy\nfrom ShareYourSystem.Standards.Classors import Doer,Observer\n#</ImportSpecificModules>\n\n#<DefineFunctions>\ndef setSwitch(\n\t\t\t_InstanceVariable,\n\t\t\t_DoMethodVariable=None,\n\t\t\t_DoerClassVariable=None,\n\t\t\t_HookVariable=None\n\t\t):\n\n\t#Debug\n\t'''\n\tprint('l 31 setSwitch')\n\tprint('_DoerVariable is ',_DoerVariable)\n\tprint('_DoVariable is ',_DoVariable)\n\tprint('_HookVariable is ',_HookVariable)\n\t#print('_InstanceVariable.__class__.NameStr is ',_InstanceVariable.__class__.NameStr)\n\tprint('')\n\t'''\n\t\n\t#/#################/#\n\t# Adapt the shape of the do method str to switch\n\t#\n\n\t#Check\n\tif type(_DoMethodVariable)!=list:\n\n\t\t#Check\n\t\tif _DoMethodVariable==None:\n\n\t\t\t#/#################/#\n\t\t\t# Give all the do method str\n\t\t\t#\n\n\t\t\t#alias\n\t\t\t#DoMethodStrsList=_InstanceVariable.DoMethodStrsList\n\n\t\t\t#/#################/#\n\t\t\t# Give just the last DoMethodStr\n\t\t\t#\n\n\t\t\t#Check\n\t\t\tif _InstanceVariable.__class__.DoMethodStr in _InstanceVariable.__class__.SwitchMethodDict:\n\t\t\t\n\t\t\t\t#listify\n\t\t\t\tDoMethodStrsList=[_InstanceVariable.__class__.DoMethodStr]\n\n\t\t\telse:\n\n\t\t\t\t#listify\n\t\t\t\tDoMethodStrsList=[]\n\n\t\telse:\n\t\t\n\t\t\t#listify\n\t\t\tDoMethodStrsList=[_DoMethodVariable]\n\n\n\telse:\n\n\t\t#just alias\n\t\tDoMethodStrsList=_DoMethodVariable\n\n\t#/#################/#\n\t# Adapt the shape of the mro doer to switch\n\t#\n\n\t#get\n\tDoerClassesList=SYS.GetList(_DoerClassVariable)\n\n\t#Debug\n\t'''\n\tprint('l 94 Switcher')\n\tprint('_DoerClassVariable is')\n\tprint(_DoerClassVariable)\n\tprint('DoerClassesList is')\n\tprint(DoerClassesList)\n\tprint('')\n\t'''\n\n\t#Check\n\tif _DoerClassVariable==None:\n\n\t\t#/#################/#\n\t\t# by default this is all the mro doer that have all the switch do method\n\t\t# so do the intersection\n\n\t\t#Check\n\t\tif len(DoMethodStrsList)>0:\n\n\t\t\t#intersection\n\t\t\tDoerClassesList=list(\n\t\t\t\tset.intersection(*\n\t\t\t\t\tmap(\n\t\t\t\t\t\tlambda __DoMethodStr:\n\t\t\t\t\t\tset(_InstanceVariable.__class__.SwitchMethodDict[__DoMethodStr]),\n\t\t\t\t\t\tDoMethodStrsList\n\t\t\t\t\t)\n\t\t\t\t)\n\t\t\t)\n\n\t\telse:\n\n\t\t\t#init\n\t\t\tDoerClassesList=[]\n\n\t#/#################/#\n\t# Adapt the shape of the hook strs\n\t#\n\n\t#Check\n\tif type(_HookVariable)!=list:\n\t\tif _HookVariable==None:\n\t\t\tHookStrsList=['Before','After']\n\t\telse:\n\t\t\tHookStrsList=[_HookVariable]\n\telse:\n\t\tHookStrsList=_HookVariable\n\n\n\t#/#################/#\n\t# Now map the switch\n\t#\n\n\t#Debug\n\t'''\n\tprint('l 139 Switcher')\n\t#print('_InstanceVariable is ')\n\t#print(_InstanceVariable)\n\tprint('DoMethodStrsList is')\n\tprint(DoMethodStrsList)\n\tprint('DoerClassesList is ')\n\tprint(DoerClassesList)\n\tprint('HookStrsList is ')\n\tprint(HookStrsList)\n\tprint('')\n\t'''\n\n\t#map\n\tmap(\n\t\tlambda __HookStr:\n\t\tmap(\n\t\t\tlambda __DoerClass:\n\t\t\tmap(\n\t\t\t\t\tlambda __DoMethodStr:\n\t\t\t\t\t_InstanceVariable.__setattr__(\n\t\t\t\t\t\t'Watch'+__HookStr+__DoMethodStr[0].upper(\n\t\t\t\t\t\t\t)+__DoMethodStr[1:]+'With'+__DoerClass.NameStr+'Bool',\n\t\t\t\t\t\tFalse\n\t\t\t\t\t),\n\t\t\t\t\tDoMethodStrsList,\n\t\t\t\t),\n\t\t\tDoerClassesList\n\t\t\t),\n\t\tHookStrsList\n\t\t)\n\n\t#Debug\n\t'''\n\tprint('l 170 Switcher')\n\tprint('End of setSwitch')\n\tprint('')\n\t'''\n\n\t#return \n\treturn _InstanceVariable\n\t\ndef switch(_InstanceVariable,*_LiargVariablesList,**_KwargVariablesDict):\n\n\t#Debug\n\t'''\n\tprint('l 196 Switcher')\n\tprint('In the switch function ')\n\tprint('_KwargVariablesDict is ')\n\tprint(_KwargVariablesDict)\n\tprint('')\n\t'''\n\t\n\t\"\"\"\n\t#alias\n\tFuncDict=switch.__dict__\n\n\t#Debug\n\t'''\n\tprint('l 52')\n\tprint('In the switch function ')\n\tprint('FuncDict is ')\n\tprint(FuncDict)\n\tprint('')\n\t'''\n\t\"\"\"\n\n\t#Check\n\tif hasattr(_InstanceVariable,_KwargVariablesDict['WatchBeforeDoBoolKeyStr']):\n\n\t\t#Debug\n\t\t'''\n\t\tprint('Switcher l 201')\n\t\tprint('Check for a WatchBeforeDoBoolKeyStr')\n\t\tprint(\"_KwargVariablesDict['WatchBeforeDoBoolKeyStr'] is \")\n\t\tprint(_KwargVariablesDict['WatchBeforeDoBoolKeyStr'])\n\t\tprint('')\n\t\t'''\n\t\t\n\t\t#get\n\t\tWatchDoBool=getattr(\n\t\t\t\t_InstanceVariable,\n\t\t\t\t_KwargVariablesDict['WatchBeforeDoBoolKeyStr']\n\t\t\t)\n\n\t\t#Debug\n\t\t'''\n\t\tprint('Switcher l 236')\n\t\tprint('WatchDoBool is')\n\t\tprint(WatchDoBool)\n\t\t'''\n\n\t\t#Switch\n\t\tif WatchDoBool:\n\t\t\treturn _InstanceVariable\n\t\n\t#get the wrapped method\n\tWrapUnboundMethod=getattr(\n\t\tgetattr(\n\t\t\tSYS,\n\t\t\t_KwargVariablesDict['BindDoClassStr']\n\t\t),\n\t\t_KwargVariablesDict['BindObserveWrapMethodStr']\n\t)\n\n\t#del\n\tmap(\n\t\t\tlambda __KeyStr:\n\t\t\t_KwargVariablesDict.__delitem__(__KeyStr),\n\t\t\t[\n\t\t\t\t'BindObserveWrapMethodStr',\n\t\t\t\t'BindDoClassStr',\n\t\t\t\t'WatchBeforeDoBoolKeyStr'\n\t\t\t]\n\t\t)\n\n\t#Call\n\treturn WrapUnboundMethod(\n\t\t_InstanceVariable,\n\t\t*_LiargVariablesList,\n\t\t**_KwargVariablesDict\n\t)\n\ndef getSwitch(_InstanceVariable,_MethodVariable=None):\n\n\t#Check\n\tif _MethodVariable==None:\n\t\tSwitchItemTuplesList=_InstanceVariable.SwitchMethodDict.items()\n\telif type(_MethodVariable) in [list,tuple]:\n\t\tSwitchItemTuplesList=map(\n\t\t\tlambda __MethodStr:\n\t\t\t(\n\t\t\t\t__MethodStr,\n\t\t\t\t_InstanceVariable.SwitchMethodDict[__MethodStr]\n\t\t\t),\n\t\t\t_MethodVariable\n\t\t)\n\telse:\n\t\tSwitchItemTuplesList=[\n\t\t\t(\n\t\t\t\t_MethodVariable,\n\t\t\t\t_InstanceVariable.SwitchMethodDict[_MethodVariable]\n\t\t\t)\n\t\t]\n\t\t\n\n\t#Debug\n\t'''\n\tprint('getSwitch l 266')\n\tprint('_MethodVariable is ')\n\tprint(_MethodVariable)\n\tprint('SwitchItemTuplesList is ')\n\tprint(SwitchItemTuplesList)\n\tprint('')\n\t'''\n\n\t#return \n\tWatchKeyStrsList=SYS.flat(\n\t\tSYS.flat(\n\t\t\tmap(\n\t\t\t\tlambda __SwitchItemTuple:\n\t\t\t\tmap(\n\t\t\t\t\tlambda __ClassStr:\n\t\t\t\t\tmap(\n\t\t\t\t\t\tlambda __HookStr:\n\t\t\t\t\t\t'Watch'+__HookStr+SYS.getUpperWordStr(\n\t\t\t\t\t\t\t__SwitchItemTuple[0]\n\t\t\t\t\t\t\t)+'With'+SYS.getNameStrWithClassStr(\n\t\t\t\t\t\t\t__ClassStr\n\t\t\t\t\t\t)+'Bool',\n\t\t\t\t\t\t['Before','After']\n\t\t\t\t\t),\n\t\t\t\t\tmap(lambda __Class:__Class.__name__,__SwitchItemTuple[1])\n\t\t\t\t),\n\t\t\t\tSwitchItemTuplesList\n\t\t\t)\n\t\t)\n\t)\n\n\t#Debug\n\t'''\n\tprint('getSwitch l 300')\n\tprint('WatchKeyStrsList is ')\n\tprint(WatchKeyStrsList)\n\tprint('WatchKeyStrsList is ')\n\tprint(WatchKeyStrsList)\n\tprint('')\n\t'''\n\n\t#return\n\treturn dict(\n\t\t\t\tzip(\n\t\t\t\t\tWatchKeyStrsList,\n\t\t\t\t\tmap(\n\t\t\t\t\t\tlambda __WatchKeyStr:\n\t\t\t\t\t\tgetattr(_InstanceVariable,__WatchKeyStr),\n\t\t\t\t\t\tWatchKeyStrsList\n\t\t\t\t\t)\n\t\t\t\t)\n\t\t\t)\n\n\n#</DefineFunctions>\n\n#<DefineClass>\n@DecorationClass()\nclass SwitcherClass(BaseClass):\n\n\t#Definition \n\tRepresentingKeyStrsList=[ \n\t\t'SwitchingIsBool',\n\t\t'SwitchingWrapMethodStr'\t\t\t\t\n\t]\n\n\tdef default_init(self,\n\t\t\t\t\t\t_SwitchingIsBool=False,\n\t\t\t\t\t\t_SwitchingWrapMethodStr=\"\",\t\t\t\t\n\t\t\t\t\t\t**_KwargVariablesDict\n\t\t\t\t):\n\t\t\n\t\t#Call the parent init method\n\t\tBaseClass.__init__(self,**_KwargVariablesDict)\n\n\tdef __call__(self,_Class):\n\n\t\t#Call the parent method\n\t\tObserver.ObserverClass.__bases__[0].__call__(self,_Class)\n\n\t\t#reset\n\t\tself.switch()\n\n\t\t#Return\n\t\treturn _Class\n\n\tdef do_switch(self):\n\n\t\t#Check\n\t\tif self.SwitchingIsBool:\n\n\t\t\t#alias\n\t\t\tSwitchedClass=self.DoClass\n\n\t\t\t#Debug\n\t\t\t'''\n\t\t\tprint('l 195 Switcher')\n\t\t\tprint('self.SwitchingWrapMethodStr is '+self.SwitchingWrapMethodStr)\n\t\t\tprint('')\n\t\t\t'''\n\n\t\t\t#watch first\n\t\t\tself.watch(\n\t\t\t\t\t\tTrue,\n\t\t\t\t\t\t**{'ObservingWrapMethodStr':self.SwitchingWrapMethodStr}\n\t\t\t\t\t)\n\n\t\t\t#Debug\n\t\t\t'''\n\t\t\tprint('l 204 Switcher')\n\t\t\tprint('self.WatchedDecorationMethodStr is ',self.WatchedDecorationMethodStr)\n\t\t\tprint('')\n\t\t\t'''\n\t\t\t\n\t\t\t#first bind\n\t\t\tself.bind(\n\t\t\t\t\t\tTrue,\n\t\t\t\t\t\tswitch,\n\t\t\t\t\t\t\"\",\n\t\t\t\t\t\tswitch.__name__,\n\t\t\t\t\t\t[('WatchBeforeDoBoolKeyStr',self.WatchedBeforeDoBoolKeyStr)],\n\t\t\t\t\t\t**{'ObservingWrapMethodStr':self.WatchedDecorationMethodStr}\n\t\t\t\t\t)\n\n\t\t\t#Define\n\t\t\tSwitchedDecorationUnboundMethod=getattr(\n\t\t\t\t\t\tSwitchedClass,\n\t\t\t\t\t\tself.BindedDecorationMethodStr\n\t\t\t\t\t)\n\n\t\t\t#Now make the amalgam\n\t\t\tsetattr(\n\t\t\t\t\tSwitchedClass,\n\t\t\t\t\tself.SwitchingWrapMethodStr,\n\t\t\t\t\tSwitchedDecorationUnboundMethod\n\t\t\t\t)\n\n\t\t\t#/##################/#\n\t\t\t# Set maybe for the first time\n\t\t\t# the setSwitch and the getSwitch\n\t\t\t\n\t\t\t#Check\n\t\t\tif hasattr(SwitchedClass,'setSwitch')==False:\n\n\t\t\t\t#set\n\t\t\t\tsetattr(\n\t\t\t\t\t\tSwitchedClass,\n\t\t\t\t\t\tsetSwitch.__name__,\n\t\t\t\t\t\tsetSwitch\n\t\t\t\t\t)\n\n\t\t\t\t#get the unbound\n\t\t\t\tsetSwitchUnboundMethod=getattr(\n\t\t\t\t\tSwitchedClass,\n\t\t\t\t\tsetSwitch.__name__\n\t\t\t\t)\n\n\t\t\t\t#add in the inspect\n\t\t\t\tSwitchedClass.InspectMethodDict[setSwitch.__name__]=setSwitchUnboundMethod\n\t\t\t\tSwitchedClass.InspectInspectDict[setSwitch.__name__]=SYS.InspectDict(\n\t\t\t\t\tsetSwitchUnboundMethod\n\t\t\t\t)\n\n\t\t\t\t#set\n\t\t\t\tself.setMethod(\n\t\t\t\t\tgetSwitch.__name__,\n\t\t\t\t\tgetSwitch\n\t\t\t\t)\n\n\t\t\t#/##################/#\n\t\t\t# Init the SwitchMethodDict\n\t\t\t#\n\n\t\t\t#Check\n\t\t\tif hasattr(SwitchedClass,'SwitchMethodDict')==False:\n\n\t\t\t\t#Debug\n\t\t\t\t'''\n\t\t\t\tprint('Switcher l 345')\n\t\t\t\tprint('SwitchedClass is ')\n\t\t\t\tprint(SwitchedClass)\n\t\t\t\tprint('we init a SwitchMethodDict')\n\t\t\t\tprint('')\n\t\t\t\t'''\n\n\t\t\t\t#Check\n\t\t\t\tif hasattr(SwitchedClass.__bases__[0],'SwitchMethodDict'):\n\n\t\t\t\t\t#Debug\n\t\t\t\t\tprint('Switcher l 488')\n\t\t\t\t\tprint('SwitchedClass is ')\n\t\t\t\t\tprint(SwitchedClass)\n\t\t\t\t\tprint('SwitchedClass.__bases__[0] is ')\n\t\t\t\t\tprint(SwitchedClass.__bases__[0])\n\t\t\t\t\tprint('')\n\n\t\t\t\t\t#copy\n\t\t\t\t\tSwitchedClass.SwitchMethodDict=copy.copy(\n\t\t\t\t\t\tSwitchedClass.__bases__[0].SwitchMethodDict\n\t\t\t\t\t)\n\n\t\t\t\telse:\n\n\t\t\t\t\t#init\n\t\t\t\t\tSwitchedClass.SwitchMethodDict={\n\t\t\t\t\t\tself.SwitchingWrapMethodStr:[SwitchedClass]\n\t\t\t\t\t}\n\t\t\t\t\n\t\t\telse:\n\n\t\t\t\t#/##################/#\n\t\t\t\t# add\n\t\t\t\t#\n\t\n\t\t\t\t#Debug\n\t\t\t\t'''\n\t\t\t\tprint('Switcher l 514')\n\t\t\t\tprint('SwitchedClass is ')\n\t\t\t\tprint(SwitchedClass)\n\t\t\t\tprint('there is already a SwitchMethodDict')\n\t\t\t\tprint('self.SwitchingWrapMethodStr  is ')\n\t\t\t\tprint(self.SwitchingWrapMethodStr)\n\t\t\t\tprint('SwitchedClass.SwitchMethodDict is ')\n\t\t\t\tprint(SwitchedClass.SwitchMethodDict)\n\t\t\t\tprint('')\n\t\t\t\t'''\n\t\t\t\t\n\t\t\t\t#copy\n\t\t\t\tSwitchedClass.SwitchMethodDict=copy.copy(\n\t\t\t\t\tSwitchedClass.SwitchMethodDict\n\t\t\t\t)\n\n\t\t\t\t#update\n\t\t\t\tif self.SwitchingWrapMethodStr in self.DoClass.SwitchMethodDict:\n\t\t\t\t\tSwitchedClass.SwitchMethodDict[\n\t\t\t\t\t\tself.SwitchingWrapMethodStr\n\t\t\t\t\t].append(SwitchedClass)\n\t\t\t\telse:\n\t\t\t\t\tSwitchedClass.SwitchMethodDict[\n\t\t\t\t\t\tself.SwitchingWrapMethodStr\n\t\t\t\t\t]=[SwitchedClass]\n\n\t\t\t#Add to the KeyStrsList\n\t\t\tSwitchedClass.KeyStrsList+=[\n\t\t\t\t\t\t\t\t\t'SwitchMethodDict'\n\t\t\t\t\t\t\t\t]\n\n\n\n#</DefineClass>\n\n\n```\n\n", 
          "cell_type": "markdown", 
          "prompt_number": 3, 
          "metadata": {
            "slideshow": {
              "slide_type": "subslide"
            }
          }
        }
      ]
    }
  ], 
  "metadata": {
    "name": "", 
    "signature": ""
  }, 
  "nbformat_minor": 0
}