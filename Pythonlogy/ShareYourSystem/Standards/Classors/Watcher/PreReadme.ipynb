{
  "nbformat": 3, 
  "worksheets": [
    {
      "cells": [
        {
          "source": "\n<!--\nFrozenIsBool False\n-->\n\n#Watcher\n\n##Doc\n----\n\n\n> \n> The Watcher \n> \n> \n\n----\n\n<small>\nView the Watcher notebook on [NbViewer](http://nbviewer.ipython.org/url/shareyoursystem.ouvaton.org/Watcher.ipynb)\n</small>\n\n", 
          "cell_type": "markdown", 
          "prompt_number": 0, 
          "metadata": {
            "slideshow": {
              "slide_type": "slide"
            }
          }
        }, 
        {
          "source": "\n<!---\nFrozenIsBool True\n-->\n\n##Example\n\nCheck the good way to watch methods that are derived from other base classes", 
          "cell_type": "markdown", 
          "prompt_number": 1, 
          "metadata": {
            "slideshow": {
              "slide_type": "subslide"
            }
          }
        }, 
        {
          "cell_type": "code", 
          "prompt_number": 2, 
          "language": "python", 
          "input": [
            "#ImportModules\n", 
            "import ShareYourSystem as SYS\n", 
            "\n", 
            "#Definition a MakerClass with decorated make by a Watcher\n", 
            "@SYS.WatcherClass(**{\n", 
            "    'WatchingIsBool':True,\n", 
            "    #'ObservingWrapMethodStr':'do_make'\n", 
            "    #'ObservingWrapMethodStr':'superDo_make'\n", 
            "    'ObservingWrapMethodStr':'make'\n", 
            "    })\n", 
            "class MakerClass(object):\n", 
            "\n", 
            "    #Definition\n", 
            "    RepresentingKeyStrsList=[\n", 
            "                                'MakingMyFloat',\n", 
            "                                'MadeMyInt'\n", 
            "                            ]\n", 
            "\n", 
            "    def default_init(self,\n", 
            "                _MakingMyFloat=1.,\n", 
            "                _MadeMyInt=0\n", 
            "                ):\n", 
            "        object.__init__(self)\n", 
            "\n", 
            "    def do_make(self):\n", 
            "\n", 
            "        #print\n", 
            "        print('self.MakingMyFloat is '+str(self.MakingMyFloat))\n", 
            "        print('self.MadeMyInt is '+str(self.MadeMyInt))\n", 
            "        print('')\n", 
            "\n", 
            "        #Cast\n", 
            "        self.MadeMyInt=int(self.MakingMyFloat)\n", 
            "\n", 
            "#Definition a MakerClass with decorated make by a Watcher\n", 
            "@SYS.WatcherClass(**{\n", 
            "    'WatchingIsBool':True,\n", 
            "    #'ObservingWrapMethodStr':'do_make'\n", 
            "    #'ObservingWrapMethodStr':'superDo_make'\n", 
            "    'ObservingWrapMethodStr':'make'\n", 
            "    })\n", 
            "class BuilderClass(MakerClass):\n", 
            "\n", 
            "    #Definition\n", 
            "    RepresentingKeyStrsList=[\n", 
            "                            ]\n", 
            "\n", 
            "    def default_init(self,\n", 
            "                ):\n", 
            "        MakerClass.__init__(self)\n", 
            "\n", 
            "    def do_buid(self):\n", 
            "        pass\n", 
            "\n", 
            "#Definition an instance\n", 
            "MyBuilder=MakerClass()\n", 
            "\n", 
            "#Print\n", 
            "print('Before make, MyBuilder is ')\n", 
            "SYS._print(MyBuilder)\n", 
            "\n", 
            "#make once\n", 
            "MyBuilder.make(3.)\n", 
            "\n", 
            "#Print\n", 
            "print('After the first make, MyBuilder is ')\n", 
            "SYS._print(MyBuilder)\n", 
            "\n", 
            "#Definition the AttestedStr\n", 
            "print('BuilderClass.make is '+str(BuilderClass.make))\n", 
            "print('MyBuilder.__dict__ is ')\n", 
            "print(SYS.indent(MyBuilder.__dict__))\n", 
            "\n", 
            "\n"
          ], 
          "outputs": [
            {
              "output_type": "stream", 
              "stream": "stdout", 
              "text": [
                "Before make, MyBuilder is \n", 
                "<MakerClass object at 0x10711ea50>\n", 
                "self.MakingMyFloat is 3.0\n", 
                "self.MadeMyInt is 0\n", 
                "\n", 
                "After the first make, MyBuilder is \n", 
                "<MakerClass object at 0x10711ea50>\n", 
                "BuilderClass.make is <unbound method BuilderClass.watch_superDo_make>\n", 
                "MyBuilder.__dict__ is \n", 
                "{\n", 
                "  \"MakingMyFloat\": \"3.0\", \n", 
                "  \"_WatchBeforeMakeWithMakerBool\": \"True\", \n", 
                "  \"DefaultInitBool\": \"True\", \n", 
                "  \"_WatchAfterMakeWithMakerBool\": \"True\", \n", 
                "  \"MadeMyInt\": \"3\"\n", 
                "}\n"
              ]
            }
          ], 
          "collapsed": false, 
          "metadata": {
            "slideshow": {
              "slide_type": "-"
            }
          }
        }, 
        {
          "source": "\n<!--\nFrozenIsBool False\n-->\n\n##Code\n\n----\n\n<ClassDocStr>\n\n<small>\nView the Watcher sources on <a href=\"https://github.com/Ledoux/ShareYourSystem/tree/master/Pythonlogy/ShareYourSystem/Standards/Classors/Watcher\" target=\"_blank\">Github</a>\n</small>\n\n----\n\n```python\n# -*- coding: utf-8 -*-\n\"\"\"\n\n\n<DefineSource>\n@Date : Fri Nov 14 13:20:38 2014 \\n\n@Author : Erwan Ledoux \\n\\n\n</DefineSource>\n\n\nThe Watcher \n\n\"\"\"\n\n#<DefineAugmentation>\nimport ShareYourSystem as SYS\nBaseModuleStr=\"ShareYourSystem.Standards.Classors.Binder\"\nDecorationModuleStr=\"ShareYourSystem.Standards.Classors.Tester\"\nSYS.setSubModule(globals())\n#</DefineAugmentation>\n\n#<ImportSpecificModules>\nimport operator\nimport copy\nfrom ShareYourSystem.Standards.Classors import Doer,Propertiser,Observer\nfrom ShareYourSystem.Standards.Interfacers import Printer\nBinder=BaseModule\n#</ImportSpecificModules>\n\n#<DefineLocals>\nWatchingPrefixKeyStr=\"Watch\"\n#</DefineLocals>\n\n#<SetRepresent>\ndef getIsBoolWithItemTupleAndPrefixStr(_ItemTuple,_PrefixStr):\n\n\t#Debug\n\t'''\n\tprint('Watcher l 35')\n\tprint('_ItemTuple is ',_ItemTuple)\n\tprint('_PrefixStr is ',_PrefixStr)\n\tprint('')\n\t'''\n\t\n\t#Return\n\treturn _ItemTuple[0].split('>')[-1].startswith(_PrefixStr)\n#</SetRepresent>\n\n#<DefineFunctions>\ndef watch(_InstanceVariable,*_LiargVariablesList,**_KwargVariablesDict):\n\n\t#Debug\n\t'''\n\tprint('l 67')\n\tprint('In the watch function ')\n\tprint('_KwargVariablesDict is ')\n\tprint(_KwargVariablesDict)\n\tprint('')\n\t'''\n\n\t\"\"\"\n\t#alias\n\tFuncDict=_InstanceVariable.__class__.watch.__dict__\n\n\t#Debug\n\t'''\n\tprint('l 79')\n\tprint('In the watch function ')\n\tprint('FuncDict is ')\n\tprint(FuncDict)\n\tprint('')\n\t'''\n\t\"\"\"\n\t\n\t#Set in the _InstanceVariable\n\t_InstanceVariable.__setattr__(\n\t\t\t_KwargVariablesDict['WatchBeforeDoBoolKeyStr'],\n\t\t\tTrue\n\t\t)\n\n\t#get the wrapped method\n\tWrapUnboundMethod=getattr(\n\t\tgetattr(\n\t\t\tSYS,\n\t\t\t_KwargVariablesDict['BindDoClassStr']\n\t\t),\n\t\t_KwargVariablesDict['BindObserveWrapMethodStr']\n\t)\n\n\t#del\n\tWatchAfterDoBoolKeyStr=_KwargVariablesDict['WatchAfterDoBoolKeyStr']\n\tmap(\n\t\t\tlambda __KeyStr:\n\t\t\t_KwargVariablesDict.__delitem__(__KeyStr),\n\t\t\t[\n\t\t\t\t'BindObserveWrapMethodStr',\n\t\t\t\t'BindDoClassStr',\n\t\t\t\t'WatchBeforeDoBoolKeyStr',\n\t\t\t\t'WatchAfterDoBoolKeyStr'\n\t\t\t]\n\t\t)\n\n\t#Call\n\tOutputVariable=WrapUnboundMethod(\n\t\t_InstanceVariable,\n\t\t*_LiargVariablesList,\n\t\t**_KwargVariablesDict\n\t)\n\n\t#Set in the _InstanceVariable\n\t_InstanceVariable.__setattr__(\n\t\t\tWatchAfterDoBoolKeyStr,\n\t\t\tTrue\n\t\t)\n\n\t#return\n\treturn OutputVariable\n\n#</DefineFunctions>\n\n#<DefineClass>\n@DecorationClass()\nclass WatcherClass(BaseClass):\n\n\tdef default_init(self,\t\t\n\t\t\t\t\t\t_WatchingIsBool=False,\n\t\t\t\t\t\t_WatchedBeforeDoBoolKeyStr=\"\",\n\t\t\t\t\t\t_WatchedAfterDoBoolKeyStr=\"\",\n\t\t\t\t\t\t_WatchedDecorationMethodStr=\"\",\n\t\t\t\t\t\t**_KwargVariablesDict\n\t\t\t\t):\n\t\t\n\t\t#Call the parent init method\n\t\tBaseClass.__init__(self,**_KwargVariablesDict)\n\n\tdef __call__(self,_Class):\n\n\t\t#debug\n\t\t'''\n\t\tprint('Watcher l.139 __call__ method')\n\t\tprint('_Class is ',_Class)\n\t\tprint('')\n\t\t'''\n\t\t\n\t\t#Call the parent method\n\t\tObserver.ObserverClass.__bases__[0].__call__(self,_Class)\n\n\t\t#Watch\n\t\tself.watch()\n\n\t\t#Return\n\t\treturn _Class\n\n\tdef do_watch(self):\n\n\t\t#Check\n\t\tif self.WatchingIsBool:\n\n\t\t\t#Debug\n\t\t\t'''\n\t\t\tprint('l 133 Watcher')\n\t\t\tprint('self.ObservingWrapMethodStr is '+self.ObservingWrapMethodStr)\n\t\t\tprint('')\n\t\t\t'''\n\n\t\t\t#Keep the old value\n\t\t\tself.WatchedWrapMethodStr=self.ObservingWrapMethodStr\n\n\t\t\t#observe first\n\t\t\tself.observe(\n\t\t\t\t\t\t\tTrue\n\t\t\t\t\t\t)\n\n\t\t\t#Debug\n\t\t\t'''\n\t\t\tprint('l 171 Watcher')\n\t\t\tprint('self.ObservedWrapMethodStr is ',self.ObservedWrapMethodStr)\n\t\t\t'''\n\t\t\t\n\t\t\t#Check\n\t\t\tif self.ObservedWrapMethodStr.startswith(\n\t\t\t\twatch.__name__+Binder.BindingDecorationSuffixStr\n\t\t\t)==False:\n\n\t\t\t\t#Debug\n\t\t\t\t'''\n\t\t\t\tprint('l 173 this is a new watch method')\n\t\t\t\tprint('')\n\t\t\t\t'''\n\n\t\t\t\t#Define\n\t\t\t\tWatchedDoMethodStr=self.WatchedWrapMethodStr\n\t\t\t\tWatchedDoStr=WatchedDoMethodStr[0].upper()+WatchedDoMethodStr[1:]\n\t\t\t\tself.WatchedBeforeDoBoolKeyStr=WatchingPrefixKeyStr+'Before'+WatchedDoStr\n\t\t\t\tself.WatchedBeforeDoBoolKeyStr+='With'+self.DoClass.NameStr\n\t\t\t\tself.WatchedBeforeDoBoolKeyStr+='Bool'\n\t\t\t\tself.WatchedAfterDoBoolKeyStr=WatchingPrefixKeyStr+'After'+WatchedDoStr\n\t\t\t\tself.WatchedAfterDoBoolKeyStr+='With'+self.DoClass.NameStr\n\t\t\t\tself.WatchedAfterDoBoolKeyStr+='Bool'\n\n\t\t\t\t#set\n\t\t\t\tWatchedIsInitBool=True\n\n\t\t\t\t#Check\n\t\t\t\tif hasattr(self.DoClass,'ResetDoBoolKeyStr'):\n\t\t\t\t\tif self.WatchedBeforeDoBoolKeyStr!=self.DoClass.ResetDoBoolKeyStr:\n\t\t\t\t\t\tWatchedIsInitBool=False\n\n\t\t\t\t#Check\n\t\t\t\tif WatchedIsInitBool:\n\n\t\t\t\t\t#WARNING this cancels the reset property binding before\n\t\t\t\t\t#Set already in the class but also check if a property was not already setted\n\t\t\t\t\tif hasattr(self.DoClass,self.WatchedBeforeDoBoolKeyStr)==False:\n\n\t\t\t\t\t\t#Debug\n\t\t\t\t\t\t'''\n\t\t\t\t\t\tprint('Watcher')\n\t\t\t\t\t\tprint('self.DoClass is '+str(self.DoClass))\n\t\t\t\t\t\tprint('self.WatchedBeforeDoBoolKeyStr is '+self.WatchedBeforeDoBoolKeyStr)\n\t\t\t\t\t\tprint('Set it to False')\n\t\t\t\t\t\tprint('')\n\t\t\t\t\t\t'''\n\n\t\t\t\t\t\t'''\n\t\t\t\t\t\t#If we want just to init it as a Bool....\n\t\t\t\t\t\t#set\n\t\t\t\t\t\tsetattr(\n\t\t\t\t\t\t\t\tself.DoClass,\n\t\t\t\t\t\t\t\tself.WatchedBeforeDoBoolKeyStr,\n\t\t\t\t\t\t\t\tFalse\n\t\t\t\t\t\t\t)\n\t\t\t\t\t\t'''\n\n\t\t\t\t\t\t#...Better to init it as a property to facilite the reactivity setting after\n\t\t\t\t\t\t[PropertizedKeyStr,PropertizedValueVariable\n\t\t\t\t\t\t]=Propertiser.getPropertizedTupleWithItemTupleAndClass(\n\t\t\t\t\t\t\t(\n\t\t\t\t\t\t\t\tself.WatchedBeforeDoBoolKeyStr,\n\t\t\t\t\t\t\t\t{\n\t\t\t\t\t\t\t\t\t'DefaultValueType':property,\n\t\t\t\t\t\t\t\t\t'PropertyInitVariable':False,\n\t\t\t\t\t\t\t\t\t'PropertyDocStr':'I am watching before'\n\t\t\t\t\t\t\t\t}\n\t\t\t\t\t\t\t),\n\t\t\t\t\t\t\tself.DoClass\n\t\t\t\t\t\t)\n\n\t\t\t\t\t\t#Debug\n\t\t\t\t\t\t'''\n\t\t\t\t\t\tprint('Watcher l 235')\n\t\t\t\t\t\tprint('PropertizedKeyStr is ')\n\t\t\t\t\t\tprint(PropertizedKeyStr)\n\t\t\t\t\t\tprint('PropertizedValueVariable is ')\n\t\t\t\t\t\tprint(PropertizedValueVariable)\n\t\t\t\t\t\tprint('')\n\t\t\t\t\t\t'''\n\t\t\t\t\t\t\n\t\t\t\t\t\t#set\n\t\t\t\t\t\tsetattr(\n\t\t\t\t\t\t\t\tself.DoClass,\n\t\t\t\t\t\t\t\tPropertizedKeyStr,\n\t\t\t\t\t\t\t\tPropertizedValueVariable\n\t\t\t\t\t\t\t)\n\n\t\t\t\t\telse:\n\n\t\t\t\t\t\t#Debug\n\t\t\t\t\t\t'''\n\t\t\t\t\t\tprint('There is already a property here for ')\n\t\t\t\t\t\tprint('self.DoClass is '+str(self.DoClass))\n\t\t\t\t\t\tprint('self.WatchedBeforeDoBoolKeyStr is '+self.WatchedBeforeDoBoolKeyStr)\n\t\t\t\t\t\tprint('')\n\t\t\t\t\t\t'''\n\n\t\t\t\t\t#WARNING this cancels the reset property binding before\n\t\t\t\t\t#Set already in the class but also check if a property was not already setted\n\t\t\t\t\tif hasattr(self.DoClass,self.WatchedAfterDoBoolKeyStr)==False:\n\n\t\t\t\t\t\t#Debug\n\t\t\t\t\t\t'''\n\t\t\t\t\t\tprint('Watcher')\n\t\t\t\t\t\tprint('self.DoClass is '+str(self.DoClass))\n\t\t\t\t\t\tprint('self.WatchedAfterDoBoolKeyStr is '+self.WatchedAfterDoBoolKeyStr)\n\t\t\t\t\t\tprint('Set it to False')\n\t\t\t\t\t\tprint('')\n\t\t\t\t\t\t'''\n\n\t\t\t\t\t\t#set\n\t\t\t\t\t\t#If we want just to init it as a Bool....\n\t\t\t\t\t\t'''\n\t\t\t\t\t\tsetattr(\n\t\t\t\t\t\t\t\tself.DoClass,\n\t\t\t\t\t\t\t\tself.WatchedAfterDoBoolKeyStr,\n\t\t\t\t\t\t\t\tFalse\n\t\t\t\t\t\t\t)\n\t\t\t\t\t\t'''\n\n\t\t\t\t\t\t#...Better to init it as a property to facilite the reactivity setting after\n\t\t\t\t\t\t[\n\t\t\t\t\t\t\tPropertizedKeyStr,PropertizedValueVariable\n\t\t\t\t\t\t]=Propertiser.getPropertizedTupleWithItemTupleAndClass(\n\t\t\t\t\t\t\t(\n\t\t\t\t\t\t\t\tself.WatchedAfterDoBoolKeyStr,\n\t\t\t\t\t\t\t\t{\n\t\t\t\t\t\t\t\t\t'DefaultValueType':property,\n\t\t\t\t\t\t\t\t\t'PropertyInitVariable':False,\n\t\t\t\t\t\t\t\t\t'PropertyDocStr':'I am watching after'\n\t\t\t\t\t\t\t\t}\n\t\t\t\t\t\t\t),\n\t\t\t\t\t\t\tself.DoClass\n\t\t\t\t\t\t)\n\n\t\t\t\t\t\t#Debug\n\t\t\t\t\t\t'''\n\t\t\t\t\t\tprint('Watcher l304')\n\t\t\t\t\t\tprint('PropertizedKeyStr is ')\n\t\t\t\t\t\tprint(PropertizedKeyStr)\n\t\t\t\t\t\tprint('PropertizedValueVariable is ')\n\t\t\t\t\t\tprint(PropertizedValueVariable)\n\t\t\t\t\t\tprint('')\n\t\t\t\t\t\t'''\n\n\t\t\t\t\t\t#set\n\t\t\t\t\t\tsetattr(\n\t\t\t\t\t\t\t\tself.DoClass,\n\t\t\t\t\t\t\t\tPropertizedKeyStr,\n\t\t\t\t\t\t\t\tPropertizedValueVariable\n\t\t\t\t\t\t\t)\n\t\t\t\t\t\t\n\t\t\t\t\telse:\n\n\t\t\t\t\t\t#Debug\n\t\t\t\t\t\t'''\n\t\t\t\t\t\tprint('There is already a property here for ')\n\t\t\t\t\t\tprint('self.DoClass is '+str(self.DoClass))\n\t\t\t\t\t\tprint('self.WatchedAfterDoBoolKeyStr is '+self.WatchedAfterDoBoolKeyStr)\n\t\t\t\t\t\tprint('')\n\t\t\t\t\t\t'''\n\t\t\t\t\t\t\n\t\t\t\t\t#append in the skip repr\n\t\t\t\t\tif hasattr(self.DoClass,'PrintingClassSkipKeyStrsList'):\n\n\t\t\t\t\t\t#extend\n\t\t\t\t\t\tself.DoClass.PrintingClassSkipKeyStrsList.extend(\n\t\t\t\t\t\t\t[\n\t\t\t\t\t\t\t\tself.WatchedBeforeDoBoolKeyStr,\n\t\t\t\t\t\t\t\tself.WatchedAfterDoBoolKeyStr,\n\t\t\t\t\t\t\t\tPropertiser.PropertyGetStr+self.WatchedBeforeDoBoolKeyStr,\n\t\t\t\t\t\t\t\tPropertiser.PropertyGetStr+self.WatchedAfterDoBoolKeyStr\n\t\t\t\t\t\t\t]\n\t\t\t\t\t\t)\n\n\t\t\t\t\t\t#Debug\n\t\t\t\t\t\t'''\n\t\t\t\t\t\tprint('Defaultor l 233')\n\t\t\t\t\t\tprint('self.DoClass is ')\n\t\t\t\t\t\tprint(self.DoClass)\n\t\t\t\t\t\tprint('self.DoClass.PrintingClassSkipKeyStrsList is ')\n\t\t\t\t\t\tprint(self.DoClass.PrintingClassSkipKeyStrsList)\n\t\t\t\t\t\tprint('')\n\t\t\t\t\t\t'''\n\n\n\t\t\t\t#Debug\n\t\t\t\t'''\n\t\t\t\tprint('l 145 Watcher')\n\t\t\t\tprint('WatchedDoMethodStr is ',WatchedDoMethodStr)\n\t\t\t\tprint('WatchedDoStr is ',WatchedDoStr)\n\t\t\t\tprint('self.WatchedBeforeDoBoolKeyStr is ',self.WatchedBeforeDoBoolKeyStr)\n\t\t\t\tprint('')\n\t\t\t\t'''\n\n\t\t\t\t#first bind\n\t\t\t\tself.bind(\n\t\t\t\t\t\t\tTrue,\n\t\t\t\t\t\t\twatch,\n\t\t\t\t\t\t\t\"\",\n\t\t\t\t\t\t\twatch.__name__,\n\t\t\t\t\t\t\t[\n\t\t\t\t\t\t\t\t('WatchBeforeDoBoolKeyStr',self.WatchedBeforeDoBoolKeyStr),\n\t\t\t\t\t\t\t\t('WatchAfterDoBoolKeyStr',self.WatchedAfterDoBoolKeyStr)\n\t\t\t\t\t\t\t],\n\t\t\t\t\t\t\t**{'ObservingWrapMethodStr':self.ObservedWrapMethodStr}\n\t\t\t\t\t\t)\n\n\t\t\t\t#set\n\t\t\t\tself.WatchedDecorationMethodStr=self.BindedDecorationMethodStr\n\n\t\t\t\t#Now make the amalgam\n\t\t\t\tself.setMethod(\n\t\t\t\t\t\tWatchedDoMethodStr,\n\t\t\t\t\t\tself.BindedDecorationUnboundMethod\n\t\t\t\t\t)\n\t\t\t\t\n\t\t\telse:\n\n\t\t\t\t#set\n\t\t\t\tself.WatchedDecorationMethodStr=self.ObservedWrapMethodStr\n\n#</DefineClass>\n\n```\n\n", 
          "cell_type": "markdown", 
          "prompt_number": 3, 
          "metadata": {
            "slideshow": {
              "slide_type": "subslide"
            }
          }
        }
      ]
    }
  ], 
  "metadata": {
    "name": "", 
    "signature": ""
  }, 
  "nbformat_minor": 0
}