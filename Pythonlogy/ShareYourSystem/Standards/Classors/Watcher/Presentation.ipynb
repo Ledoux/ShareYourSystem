{
  "nbformat": 3, 
  "worksheets": [
    {
      "cells": [
        {
          "source": "\n<!--\nFrozenIsBool False\n-->\n\n#Watcher\n\n##Doc\n----\n\n\n> \n> The Watcher \n> \n> \n\n----\n\n<small>\nView the Watcher notebook on [NbViewer](http://nbviewer.ipython.org/url/shareyoursystem.ouvaton.org/Watcher.ipynb)\n</small>\n\n", 
          "cell_type": "markdown", 
          "prompt_number": 0, 
          "metadata": {
            "slideshow": {
              "slide_type": "slide"
            }
          }
        }, 
        {
          "source": "\n<!--\nFrozenIsBool False\n-->\n\n##Code\n\n----\n\n<ClassDocStr>\n\n----\n\n```python\n# -*- coding: utf-8 -*-\n\"\"\"\n\n\n<DefineSource>\n@Date : Fri Nov 14 13:20:38 2014 \\n\n@Author : Erwan Ledoux \\n\\n\n</DefineSource>\n\n\nThe Watcher \n\n\"\"\"\n\n#<DefineAugmentation>\nimport ShareYourSystem as SYS\nBaseModuleStr=\"ShareYourSystem.Standards.Classors.Binder\"\nDecorationModuleStr=\"ShareYourSystem.Standards.Classors.Tester\"\nSYS.setSubModule(globals())\n#</DefineAugmentation>\n\n#<ImportSpecificModules>\nimport operator\nimport copy\nfrom ShareYourSystem.Standards.Classors import Doer,Observer,Representer\nBinder=BaseModule\n#</ImportSpecificModules>\n\n#<DefineLocals>\nWatchingPrefixKeyStr=\"Watch\"\n#</DefineLocals>\n\n#<SetRepresent>\ndef getIsBoolWithItemTupleAndPrefixStr(_ItemTuple,_PrefixStr):\n\n\t#Debug\n\t'''\n\tprint('Watcher l 35')\n\tprint('_ItemTuple is ',_ItemTuple)\n\tprint('_PrefixStr is ',_PrefixStr)\n\tprint('')\n\t'''\n\t\n\t#Return\n\treturn _ItemTuple[0].split('>')[-1].startswith(_PrefixStr)\nOldRepresentFunction=copy.copy(Representer.represent)\ndef represent(_Variable,**_KwargVariablesDict):\n\treturn OldRepresentFunction(\n\t\t_Variable,\n\t\t**dict(\n\t\t\t_KwargVariablesDict,\n\t\t\t**{\n\t\t\t\t'RepresentingNotConcludeTuplesList':\n\t\t\t\t[\n\t\t\t\t\t(getIsBoolWithItemTupleAndPrefixStr,'_Watch'),\n\t\t\t\t\t(getIsBoolWithItemTupleAndPrefixStr,'Watch')\n\t\t\t\t]\n\t\t\t}\n\t\t)\n\t)\nrepresent.__name__=\"Watcher@represent\"\nRepresenter.represent=represent\n#</SetRepresent>\n\n#<DefineFunctions>\ndef watch(_InstanceVariable,*_LiargVariablesList,**_KwargVariablesDict):\n\n\t#Debug\n\t'''\n\tprint('l 67')\n\tprint('In the watch function ')\n\tprint('_KwargVariablesDict is ')\n\tprint(_KwargVariablesDict)\n\tprint('')\n\t'''\n\n\t\"\"\"\n\t#alias\n\tFuncDict=_InstanceVariable.__class__.watch.__dict__\n\n\t#Debug\n\t'''\n\tprint('l 79')\n\tprint('In the watch function ')\n\tprint('FuncDict is ')\n\tprint(FuncDict)\n\tprint('')\n\t'''\n\t\"\"\"\n\t\n\t#Set in the _InstanceVariable\n\t_InstanceVariable.__setattr__(\n\t\t\t_KwargVariablesDict['WatchDoBoolKeyStr'],\n\t\t\tTrue\n\t\t)\n\n\t#get the wrapped method\n\tWrapUnboundMethod=getattr(\n\t\tgetattr(\n\t\t\tSYS,\n\t\t\t_KwargVariablesDict['BindDoClassStr']\n\t\t),\n\t\t_KwargVariablesDict['BindObserveWrapMethodStr']\n\t)\n\n\t#del\n\tmap(\n\t\t\tlambda __KeyStr:\n\t\t\t_KwargVariablesDict.__delitem__(__KeyStr),\n\t\t\t['BindObserveWrapMethodStr','BindDoClassStr','WatchDoBoolKeyStr']\n\t\t)\n\n\t#Call\n\treturn WrapUnboundMethod(\n\t\t_InstanceVariable,\n\t\t*_LiargVariablesList,\n\t\t**_KwargVariablesDict\n\t)\n\n#</DefineFunctions>\n\n#<DefineClass>\n@DecorationClass()\nclass WatcherClass(BaseClass):\n\n\t#Definition \n\tRepresentingKeyStrsList=[\t\n\t\t'WatchingIsBool',\t\n\t\t'WatchedDoBoolKeyStr',\n\t\t'WatchedDecorationMethodStr'\n\t]\n\n\tdef default_init(self,\t\t\n\t\t\t\t\t\t_WatchingIsBool=False,\n\t\t\t\t\t\t_WatchedDoBoolKeyStr=\"\",\n\t\t\t\t\t\t_WatchedDecorationMethodStr=\"\",\n\t\t\t\t\t\t**_KwargVariablesDict\n\t\t\t\t):\n\t\t\n\t\t#Call the parent init method\n\t\tBaseClass.__init__(self,**_KwargVariablesDict)\n\n\tdef __call__(self,_Class):\n\n\t\t#Call the parent method\n\t\tObserver.ObserverClass.__bases__[0].__call__(self,_Class)\n\n\t\t#Watch\n\t\tself.watch()\n\n\t\t#Return\n\t\treturn _Class\n\n\tdef do_watch(self):\n\n\t\t#Check\n\t\tif self.WatchingIsBool:\n\n\t\t\t#Debug\n\t\t\t'''\n\t\t\tprint('l 133 Watcher')\n\t\t\tprint('self.ObservingWrapMethodStr is '+self.ObservingWrapMethodStr)\n\t\t\tprint('')\n\t\t\t'''\n\n\t\t\t#Keep the old value\n\t\t\tself.WatchedWrapMethodStr=self.ObservingWrapMethodStr\n\n\t\t\t#observe first\n\t\t\tself.observe(\n\t\t\t\t\t\t\tTrue\n\t\t\t\t\t\t)\n\n\t\t\t#Debug\n\t\t\t'''\n\t\t\tprint('l 171 Watcher')\n\t\t\tprint('self.ObservedWrapMethodStr is ',self.ObservedWrapMethodStr)\n\t\t\t'''\n\t\t\t\n\t\t\t#Check\n\t\t\tif self.ObservedWrapMethodStr.startswith(\n\t\t\t\twatch.__name__+Binder.BindingDecorationSuffixStr\n\t\t\t)==False:\n\n\t\t\t\t#Debug\n\t\t\t\t'''\n\t\t\t\tprint('l 173 this is a new watch method')\n\t\t\t\tprint('')\n\t\t\t\t'''\n\n\t\t\t\t#Define\n\t\t\t\tWatchedDoMethodStr=self.WatchedWrapMethodStr\n\t\t\t\tWatchedDoStr=WatchedDoMethodStr[0].upper()+WatchedDoMethodStr[1:]\n\t\t\t\tself.WatchedDoBoolKeyStr=WatchingPrefixKeyStr+WatchedDoStr\n\t\t\t\tself.WatchedDoBoolKeyStr+='With'+self.DoClass.NameStr\n\t\t\t\tself.WatchedDoBoolKeyStr+='Bool'\n\n\t\t\t\tWatchedIsInitBool=True\n\t\t\t\tif hasattr(self.DoClass,'ResetDoBoolKeyStr'):\n\t\t\t\t\tif self.WatchedDoBoolKeyStr!=self.DoClass.ResetDoBoolKeyStr:\n\t\t\t\t\t\tWatchedIsInitBool=False\n\t\t\t\tif WatchedIsInitBool:\n\t\t\t\t\t#WARNING this cancels the reset property binding before\n\t\t\t\t\t#Set already in the class\n\t\t\t\t\tsetattr(\n\t\t\t\t\t\t\tself.DoClass,\n\t\t\t\t\t\t\tself.WatchedDoBoolKeyStr,\n\t\t\t\t\t\t\tFalse\n\t\t\t\t\t\t)\n\n\t\t\t\t#Debug\n\t\t\t\t'''\n\t\t\t\tprint('l 145 Watcher')\n\t\t\t\tprint('WatchedDoMethodStr is ',WatchedDoMethodStr)\n\t\t\t\tprint('WatchedDoStr is ',WatchedDoStr)\n\t\t\t\tprint('self.WatchedDoBoolKeyStr is ',self.WatchedDoBoolKeyStr)\n\t\t\t\tprint('')\n\t\t\t\t'''\n\n\t\t\t\t#first bind\n\t\t\t\tself.bind(\n\t\t\t\t\t\t\tTrue,\n\t\t\t\t\t\t\twatch,\n\t\t\t\t\t\t\t\"\",\n\t\t\t\t\t\t\twatch.__name__,\n\t\t\t\t\t\t\t[('WatchDoBoolKeyStr',self.WatchedDoBoolKeyStr)],\n\t\t\t\t\t\t\t**{'ObservingWrapMethodStr':self.ObservedWrapMethodStr}\n\t\t\t\t\t\t)\n\n\t\t\t\t#set\n\t\t\t\tself.WatchedDecorationMethodStr=self.BindedDecorationMethodStr\n\n\t\t\t\t#Now make the amalgam\n\t\t\t\tsetattr(\n\t\t\t\t\t\tself.DoClass,\n\t\t\t\t\t\tWatchedDoMethodStr,\n\t\t\t\t\t\tself.BindedDecorationUnboundMethod\n\t\t\t\t\t)\n\n\t\t\telse:\n\n\t\t\t\t#set\n\t\t\t\tself.WatchedDecorationMethodStr=self.ObservedWrapMethodStr\n\n#</DefineClass>\n\n```\n\n<small>\nView the Watcher sources on <a href=\"https://github.com/Ledoux/ShareYourSystem/tree/master/Pythonlogy/ShareYourSystem/Classors/Watcher\" target=\"_blank\">Github</a>\n</small>\n\n", 
          "cell_type": "markdown", 
          "prompt_number": 1, 
          "metadata": {
            "slideshow": {
              "slide_type": "subslide"
            }
          }
        }, 
        {
          "source": "\n<!---\nFrozenIsBool True\n-->\n\n##Example\n\nLet's create an empty class, which will automatically receive special attributes from the decorating ClassorClass specially the NameStr, that should be the ClassStr without the TypeStr in the end.", 
          "cell_type": "markdown", 
          "prompt_number": 2, 
          "metadata": {
            "slideshow": {
              "slide_type": "subslide"
            }
          }
        }, 
        {
          "cell_type": "code", 
          "prompt_number": 3, 
          "language": "python", 
          "input": [
            "#ImportModules\n", 
            "import ShareYourSystem as SYS\n", 
            "from ShareYourSystem.Standards.Classors import Watcher\n", 
            "from ShareYourSystem.Standards.Objects import Initiator\n", 
            "\n", 
            "#Definition a MakerClass with decorated make by a Watcher\n", 
            "@Watcher.WatcherClass(**{\n", 
            "    'WatchingIsBool':True,\n", 
            "    #'ObservingWrapMethodStr':'do_make'\n", 
            "    #'ObservingWrapMethodStr':'superDo_make'\n", 
            "    'ObservingWrapMethodStr':'make'\n", 
            "    })\n", 
            "class MakerClass(Initiator.InitiatorClass):\n", 
            "\n", 
            "    #Definition\n", 
            "    RepresentingKeyStrsList=[\n", 
            "                                'MakingMyFloat',\n", 
            "                                'MadeMyInt'\n", 
            "                            ]\n", 
            "\n", 
            "    def default_init(self,\n", 
            "                _MakingMyFloat=1.,\n", 
            "                _MadeMyInt=0\n", 
            "                ):\n", 
            "        Initiator.InitiatorClass.__init__(self)\n", 
            "\n", 
            "    def do_make(self):\n", 
            "\n", 
            "        #print\n", 
            "        print('self.MakingMyFloat is '+str(self.MakingMyFloat))\n", 
            "        print('self.MadeMyInt is '+str(self.MadeMyInt))\n", 
            "        print('')\n", 
            "\n", 
            "        #Cast\n", 
            "        self.MadeMyInt=int(self.MakingMyFloat)\n", 
            "\n", 
            "#Definition a MakerClass with decorated make by a Watcher\n", 
            "@Watcher.WatcherClass(**{\n", 
            "    'WatchingIsBool':True,\n", 
            "    #'ObservingWrapMethodStr':'do_make'\n", 
            "    #'ObservingWrapMethodStr':'superDo_make'\n", 
            "    'ObservingWrapMethodStr':'make'\n", 
            "    })\n", 
            "class BuilderClass(MakerClass):\n", 
            "\n", 
            "    #Definition\n", 
            "    RepresentingKeyStrsList=[\n", 
            "                            ]\n", 
            "\n", 
            "    def default_init(self,\n", 
            "                ):\n", 
            "        MakerClass.__init__(self)\n", 
            "\n", 
            "    def do_buid(self):\n", 
            "        pass\n", 
            "\n", 
            "#Definition an instance\n", 
            "MyBuilder=MakerClass()\n", 
            "\n", 
            "#Print\n", 
            "print('Before make, MyBuilder is ')\n", 
            "SYS._print(MyBuilder)\n", 
            "\n", 
            "#make once\n", 
            "MyBuilder.make(3.)\n", 
            "\n", 
            "#Print\n", 
            "print('After the first make, MyBuilder is ')\n", 
            "SYS._print(MyBuilder)\n", 
            "\n", 
            "#Definition the AttestedStr\n", 
            "SYS._attest(\n", 
            "    [\n", 
            "        'BuilderClass.make is '+str(BuilderClass.make),\n", 
            "        'MyBuilder is '+SYS._str(\n", 
            "            MyBuilder,**{'RepresentingAlineaIsBool':False}\n", 
            "        )\n", 
            "    ]\n", 
            ") \n", 
            "\n", 
            "#Print\n", 
            "\n"
          ], 
          "outputs": [
            {
              "output_type": "stream", 
              "stream": "stdout", 
              "text": [
                "Before make, MyBuilder is \n", 
                "< (MakerClass), 4539196240>\n", 
                "   /{ \n", 
                "   /  '<New><Instance>IdInt' : 4539196240\n", 
                "   /  '<Spe><Class>MadeMyInt' : 0\n", 
                "   /  '<Spe><Class>MakingMyFloat' : 1.0\n", 
                "   /}\n", 
                "self.MakingMyFloat is 3.0\n", 
                "self.MadeMyInt is 0\n", 
                "\n", 
                "After the first make, MyBuilder is \n", 
                "< (MakerClass), 4539196240>\n", 
                "   /{ \n", 
                "   /  '<New><Instance>IdInt' : 4539196240\n", 
                "   /  '<Spe><Instance>MadeMyInt' : 3\n", 
                "   /  '<Spe><Instance>MakingMyFloat' : 3.0\n", 
                "   /}\n", 
                "\n", 
                "\n", 
                "*****Start of the Attest *****\n", 
                "\n", 
                "BuilderClass.make is <unbound method BuilderClass.watch_superDo_make>\n", 
                "\n", 
                "------\n", 
                "\n", 
                "MyBuilder is < (MakerClass), 4539196240>\n", 
                "   /{ \n", 
                "   /  '<New><Instance>IdInt' : 4539196240\n", 
                "   /  '<Spe><Instance>MadeMyInt' : 3\n", 
                "   /  '<Spe><Instance>MakingMyFloat' : 3.0\n", 
                "   /}\n", 
                "\n", 
                "*****End of the Attest *****\n", 
                "\n", 
                "\n"
              ]
            }
          ], 
          "collapsed": false, 
          "metadata": {
            "slideshow": {
              "slide_type": "-"
            }
          }
        }
      ]
    }
  ], 
  "metadata": {
    "name": "", 
    "signature": ""
  }, 
  "nbformat_minor": 0
}