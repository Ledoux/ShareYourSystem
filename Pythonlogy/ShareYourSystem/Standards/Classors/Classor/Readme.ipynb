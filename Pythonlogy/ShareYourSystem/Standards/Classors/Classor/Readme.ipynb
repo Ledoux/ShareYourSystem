{
  "nbformat": 3, 
  "worksheets": [
    {
      "cells": [
        {
          "source": "\n<!---\nFrozenIsBool True\n-->\n\n##Example\n\nLet's create an empty class, which will automatically receive special attributes from the decorating ClassorClass specially the NameStr, that should be the ClassStr without the TypeStr in the end.", 
          "cell_type": "markdown", 
          "prompt_number": 0, 
          "metadata": {
            "slideshow": {
              "slide_type": "slide"
            }
          }
        }, 
        {
          "source": "```python\n#ImportModules\nimport ShareYourSystem as SYS\nimport json\n\n#Definition a FooClass decorated by the ClassorClass\n@SYS.ClassorClass()\nclass FooClass(object):\n    pass\n\n#print\nprint('FooClass.__dict__ is ')\nprint(\n    json.dumps(\n        dict(\n            zip(\n                FooClass.__dict__.keys(),\n                map(\n                    str,\n                    FooClass.__dict__.values()\n                )\n            )\n        ),\n        indent=2\n    )\n)\n\n```\n", 
          "cell_type": "markdown", 
          "metadata": {}
        }, 
        {
          "source": "```console\n>>>\nFooClass.__dict__ is \n{\n  \"ConceptModuleStr\": \"\", \n  \"__module__\": \"__builtin__\", \n  \"getClass\": \"<function getClass at 0x109338500>\", \n  \"DeriveClassor\": \"<ShareYourSystem.Standards.Classors.Classor.ClassorClass object at 0x10bf58050>\", \n  \"SelfClass\": \"<class 'FooClass'>\", \n  \"MroClassesDict\": \"{'FooClass': <class 'FooClass'>, 'object': <type 'object'>}\", \n  \"MroClassesList\": \"(<class 'FooClass'>, <type 'object'>)\", \n  \"Module\": \"<module '__builtin__' (built-in)>\", \n  \"__doc__\": \"None\", \n  \"InspectMethodDict\": \"MethodDict([('callAllMro', <unbound method FooClass.callAllMro>), ('getClass', <unbound method FooClass.getClass>)])\", \n  \"KeyStrsList\": \"['ConceptModuleStr', 'DeriveClassor', 'SelfClass', 'MroClassesDict', 'MroClassesList', 'Module', 'InspectMethodDict', 'NameStr', 'InspectInspectDict', 'KeyStrsList']\", \n  \"__dict__\": \"<attribute '__dict__' of 'FooClass' objects>\", \n  \"NameStr\": \"Foo\", \n  \"InspectInspectDict\": \"{'getClass': InspectDict([('DefaultIndexInt', 1), ('InputKeyStrsList', ['_InstanceVariable', '_ClassVariable']), ('LiargVariablesListKeyStr', ''), ('KwargVariablesSetTagStr', ''), ('DefaultOrderedDict', OrderedDict([('_ClassVariable', None)])), ('FunctionNameStr', 'getClass')]), 'callAllMro': InspectDict([('DefaultIndexInt', 2), ('InputKeyStrsList', ['_InstanceVariable', '_MethodStr']), ('LiargVariablesListKeyStr', '_LiargVariablesList'), ('KwargVariablesSetTagStr', '_KwargVariablesDict'), ('DefaultOrderedDict', OrderedDict()), ('FunctionNameStr', 'callAllMro')])}\", \n  \"__weakref__\": \"<attribute '__weakref__' of 'FooClass' objects>\", \n  \"callAllMro\": \"<function callAllMro at 0x109338578>\"\n}\n\n```\n", 
          "cell_type": "markdown", 
          "metadata": {}
        }, 
        {
          "source": "\n<!--\nFrozenIsBool False\n-->\n\nClassor gives information to the base classes that derive classes exists\n", 
          "cell_type": "markdown", 
          "prompt_number": 2, 
          "metadata": {
            "slideshow": {
              "slide_type": null
            }
          }
        }, 
        {
          "source": "```python\n\n#ImportModules\nimport ShareYourSystem as SYS\n\n#Definition of a MakerClass decorated by a DoerClass instance\n@SYS.ClassorClass()\nclass MakerClass(object):\n    pass\n\n#Definition of a derived BuilderClass decorated by a Deriver\n@SYS.ClassorClass()\nclass BuilderClass(MakerClass):\n    pass\n\n#Print\n#print('MakerClass.DerivedClassesList is '+str(MakerClass.DerivedClassesList))\n\n#Definition the AttestedStr\nprint('MakerClass.DeriveClassesList is '+str(MakerClass.DeriveClassesList)) \n\n\n\n```\n", 
          "cell_type": "markdown", 
          "metadata": {}
        }, 
        {
          "source": "```console\n>>>\nMakerClass.DeriveClassesList is [<class 'BuilderClass'>]\n\n```\n", 
          "cell_type": "markdown", 
          "metadata": {}
        }, 
        {
          "source": "\n<!---\nFrozenIsBool True\n-->\n\nWe can inspect a classor decorated class", 
          "cell_type": "markdown", 
          "prompt_number": 4, 
          "metadata": {
            "slideshow": {
              "slide_type": null
            }
          }
        }, 
        {
          "source": "```python\n#ImportModules\nimport ShareYourSystem as SYS\n\n#define\n@SYS.ClassorClass()\nclass MakerClass(object):\n\n    def default_init(self,\n            _MakingMyStr,\n            _MakingMyInt=0,\n            **_KwargVariablesDict\n        ):\n        object.__init__(self,**_KwargVariablesDict)\n\n    def do_make(self):\n\n        #str\n        self.MadeMyStr=str(self.MakingMyStr)\n\n#print\nprint('MakerClass.InspectInspectDict is ')\nprint(SYS.indent(\n        MakerClass.InspectInspectDict\n    )\n)\n \n\n\n\n```\n", 
          "cell_type": "markdown", 
          "metadata": {}
        }, 
        {
          "source": "```console\n>>>\nMakerClass.InspectInspectDict is \n{\n  \"default_init\": \"InspectDict([('DefaultIndexInt', 2), ('InputKeyStrsList', ['self', '_MakingMyStr', '_MakingMyInt']), ('LiargVariablesListKeyStr', ''), ('KwargVariablesSetTagStr', '_KwargVariablesDict'), ('DefaultOrderedDict', OrderedDict([('_MakingMyInt', 0)])), ('FunctionNameStr', 'default_init')])\", \n  \"getClass\": \"InspectDict([('DefaultIndexInt', 1), ('InputKeyStrsList', ['_InstanceVariable', '_ClassVariable']), ('LiargVariablesListKeyStr', ''), ('KwargVariablesSetTagStr', ''), ('DefaultOrderedDict', OrderedDict([('_ClassVariable', None)])), ('FunctionNameStr', 'getClass')])\", \n  \"callAllMro\": \"InspectDict([('DefaultIndexInt', 2), ('InputKeyStrsList', ['_InstanceVariable', '_MethodStr']), ('LiargVariablesListKeyStr', '_LiargVariablesList'), ('KwargVariablesSetTagStr', '_KwargVariablesDict'), ('DefaultOrderedDict', OrderedDict()), ('FunctionNameStr', 'callAllMro')])\", \n  \"do_make\": \"InspectDict([('DefaultIndexInt', 1), ('InputKeyStrsList', ['self']), ('LiargVariablesListKeyStr', ''), ('KwargVariablesSetTagStr', ''), ('DefaultOrderedDict', OrderedDict()), ('FunctionNameStr', 'do_make')])\"\n}\n\n```\n", 
          "cell_type": "markdown", 
          "metadata": {}
        }
      ]
    }
  ], 
  "metadata": {
    "name": "", 
    "signature": ""
  }, 
  "nbformat_minor": 0
}