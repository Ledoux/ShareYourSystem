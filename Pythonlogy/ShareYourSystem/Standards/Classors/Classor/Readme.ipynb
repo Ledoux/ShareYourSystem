{
  "nbformat": 3, 
  "worksheets": [
    {
      "cells": [
        {
          "source": "\n<!--\nFrozenIsBool False\n-->\n\n#Classor\n\n##Doc\n----\n\n\n> \n> The Classor Module defines the ClassorClass \n> class, which is the deepest parent class in the framework for decorating another class. For each decorated class, \n> it just sets up the NameStr in it and also a KeyStrsList for accumulating the new KeyStrs from \n> other attributes that can be provided by other decorating Classes.\n> \n> \n\n----\n\n<small>\nView the Classor notebook on [NbViewer](http://nbviewer.ipython.org/url/shareyoursystem.ouvaton.org/Classor.ipynb)\n</small>\n\n", 
          "cell_type": "markdown", 
          "prompt_number": 0, 
          "metadata": {
            "slideshow": {
              "slide_type": "slide"
            }
          }
        }, 
        {
          "source": "\n<!---\nFrozenIsBool True\n-->\n\n##Example\n\nLet's create an empty class, which will automatically receive special attributes from the decorating ClassorClass specially the NameStr, that should be the ClassStr without the TypeStr in the end.", 
          "cell_type": "markdown", 
          "prompt_number": 1, 
          "metadata": {
            "slideshow": {
              "slide_type": "subslide"
            }
          }
        }, 
        {
          "source": "```python\n#ImportModules\nimport ShareYourSystem as SYS\nimport json\n\n#Definition a FooClass decorated by the ClassorClass\n@SYS.ClassorClass()\nclass FooClass(object):\n    pass\n\n#print\nprint('FooClass.__dict__ is ')\nprint(\n    json.dumps(\n        dict(\n            zip(\n                FooClass.__dict__.keys(),\n                map(\n                    str,\n                    FooClass.__dict__.values()\n                )\n            )\n        ),\n        indent=2\n    )\n)\n\n```\n", 
          "cell_type": "markdown", 
          "metadata": {}
        }, 
        {
          "source": "```console\n>>>\nFooClass.__dict__ is \n{\n  \"ConceptModuleStr\": \"\", \n  \"__module__\": \"__builtin__\", \n  \"getClass\": \"<function getClass at 0x10dc8b5f0>\", \n  \"DeriveClassor\": \"<ShareYourSystem.Standards.Classors.Classor.ClassorClass object at 0x10eda1850>\", \n  \"SelfClass\": \"<class 'FooClass'>\", \n  \"MroClassesDict\": \"{'FooClass': <class 'FooClass'>, 'object': <type 'object'>}\", \n  \"MroClassesList\": \"(<class 'FooClass'>, <type 'object'>)\", \n  \"Module\": \"<module '__builtin__' (built-in)>\", \n  \"__doc__\": \"None\", \n  \"InspectMethodDict\": \"MethodDict([('callAllMro', <unbound method FooClass.callAllMro>), ('getClass', <unbound method FooClass.getClass>)])\", \n  \"KeyStrsList\": \"['ConceptModuleStr', 'DeriveClassor', 'SelfClass', 'MroClassesDict', 'MroClassesList', 'Module', 'InspectMethodDict', 'NameStr', 'InspectInspectDict', 'KeyStrsList']\", \n  \"__dict__\": \"<attribute '__dict__' of 'FooClass' objects>\", \n  \"NameStr\": \"Foo\", \n  \"InspectInspectDict\": \"{'getClass': InspectDict([('DefaultIndexInt', 1), ('InputKeyStrsList', ['_InstanceVariable', '_ClassVariable']), ('LiargVariablesListKeyStr', ''), ('KwargVariablesSetTagStr', ''), ('DefaultOrderedDict', OrderedDict([('_ClassVariable', None)])), ('FunctionNameStr', 'getClass')]), 'callAllMro': InspectDict([('DefaultIndexInt', 2), ('InputKeyStrsList', ['_InstanceVariable', '_MethodStr']), ('LiargVariablesListKeyStr', '_LiargVariablesList'), ('KwargVariablesSetTagStr', '_KwargVariablesDict'), ('DefaultOrderedDict', OrderedDict()), ('FunctionNameStr', 'callAllMro')])}\", \n  \"__weakref__\": \"<attribute '__weakref__' of 'FooClass' objects>\", \n  \"callAllMro\": \"<function callAllMro at 0x10dc8b668>\"\n}\n\n```\n", 
          "cell_type": "markdown", 
          "metadata": {}
        }, 
        {
          "source": "\n<!--\nFrozenIsBool False\n-->\n\nClassor gives information to the base classes that derive classes exists\n", 
          "cell_type": "markdown", 
          "prompt_number": 3, 
          "metadata": {
            "slideshow": {
              "slide_type": "subslide"
            }
          }
        }, 
        {
          "source": "```python\n\n#ImportModules\nimport ShareYourSystem as SYS\n\n#Definition of a MakerClass decorated by a DoerClass instance\n@SYS.ClassorClass()\nclass MakerClass(object):\n    pass\n\n#Definition of a derived BuilderClass decorated by a Deriver\n@SYS.ClassorClass()\nclass BuilderClass(MakerClass):\n    pass\n\n#Print\n#print('MakerClass.DerivedClassesList is '+str(MakerClass.DerivedClassesList))\n\n#Definition the AttestedStr\nprint('MakerClass.DeriveClassesList is '+str(MakerClass.DeriveClassesList)) \n\n\n\n```\n", 
          "cell_type": "markdown", 
          "metadata": {}
        }, 
        {
          "source": "```console\n>>>\nMakerClass.DeriveClassesList is [<class 'BuilderClass'>]\n\n```\n", 
          "cell_type": "markdown", 
          "metadata": {}
        }, 
        {
          "source": "\n<!---\nFrozenIsBool True\n-->\n\nWe can inspect a classor decorated class", 
          "cell_type": "markdown", 
          "prompt_number": 5, 
          "metadata": {
            "slideshow": {
              "slide_type": null
            }
          }
        }, 
        {
          "source": "```python\n#ImportModules\nimport ShareYourSystem as SYS\n\n#define\n@SYS.ClassorClass()\nclass MakerClass(object):\n\n    def default_init(self,\n            _MakingMyStr,\n            _MakingMyInt=0,\n            **_KwargVariablesDict\n        ):\n        object.__init__(self,**_KwargVariablesDict)\n\n    def do_make(self):\n\n        #str\n        self.MadeMyStr=str(self.MakingMyStr)\n\n#print\nprint('MakerClass.InspectInspectDict is ')\nprint(SYS.indent(\n        MakerClass.InspectInspectDict\n    )\n)\n \n\n\n\n```\n", 
          "cell_type": "markdown", 
          "metadata": {}
        }, 
        {
          "source": "```console\n>>>\nMakerClass.InspectInspectDict is \n{\n  \"default_init\": \"InspectDict([('DefaultIndexInt', 2), ('InputKeyStrsList', ['self', '_MakingMyStr', '_MakingMyInt']), ('LiargVariablesListKeyStr', ''), ('KwargVariablesSetTagStr', '_KwargVariablesDict'), ('DefaultOrderedDict', OrderedDict([('_MakingMyInt', 0)])), ('FunctionNameStr', 'default_init')])\", \n  \"getClass\": \"InspectDict([('DefaultIndexInt', 1), ('InputKeyStrsList', ['_InstanceVariable', '_ClassVariable']), ('LiargVariablesListKeyStr', ''), ('KwargVariablesSetTagStr', ''), ('DefaultOrderedDict', OrderedDict([('_ClassVariable', None)])), ('FunctionNameStr', 'getClass')])\", \n  \"callAllMro\": \"InspectDict([('DefaultIndexInt', 2), ('InputKeyStrsList', ['_InstanceVariable', '_MethodStr']), ('LiargVariablesListKeyStr', '_LiargVariablesList'), ('KwargVariablesSetTagStr', '_KwargVariablesDict'), ('DefaultOrderedDict', OrderedDict()), ('FunctionNameStr', 'callAllMro')])\", \n  \"do_make\": \"InspectDict([('DefaultIndexInt', 1), ('InputKeyStrsList', ['self']), ('LiargVariablesListKeyStr', ''), ('KwargVariablesSetTagStr', ''), ('DefaultOrderedDict', OrderedDict()), ('FunctionNameStr', 'do_make')])\"\n}\n\n```\n", 
          "cell_type": "markdown", 
          "metadata": {}
        }, 
        {
          "source": "\n<!--\nFrozenIsBool False\n-->\n\n##Code\n\n----\n\n<ClassDocStr>\n\n<small>\nView the Classor sources on <a href=\"https://github.com/Ledoux/ShareYourSystem/tree/master/Pythonlogy/ShareYourSystem/Standards/Classors/Classor\" target=\"_blank\">Github</a>\n</small>\n\n----\n\n```python\n# -*- coding: utf-8 -*-\n\"\"\"\n\n\n<DefineSource>\n@Date : Fri Nov 14 13:20:38 2014 \\n\n@Author : Erwan Ledoux \\n\\n\n</DefineSource>\n\n\nThe Classor Module defines the ClassorClass \nclass, which is the deepest parent class in the framework for decorating another class. For each decorated class, \nit just sets up the NameStr in it and also a KeyStrsList for accumulating the new KeyStrs from \nother attributes that can be provided by other decorating Classes.\n\n\"\"\"\n\n#<DefineAugmentation>\nimport ShareYourSystem as SYS\n#</DefineAugmentation>\n\n#<ImportSpecificModules>\nimport sys\n#</ImportSpecificModules>\n\n#<DefineLocals>\nClassDecorationStr=\"Cls@\"\nLocalModuleFolderPathStrAndModuleStrTuplesList=[]\n#</DefineLocals>\n\n#<DefineLocals>\ndef getClass(_InstanceVariable,_ClassVariable=None):\n\n\t#Debug\n\t'''\n\tprint('Classor l 35')\n\tprint('_ClassVariable is ')\n\tprint(_ClassVariable)\n\tprint('')\n\t'''\n\t\n\t#Check\n\tif type(_ClassVariable) in SYS.StrTypesList:\n\t\tif _ClassVariable==\"\":\n\t\t\treturn _InstanceVariable.__class__\n\t\telse:\n\t\t\treturn getattr(SYS,SYS.getClassStrWithNameStr(_ClassVariable))\n\telif _ClassVariable==None:\n\t\treturn _InstanceVariable.__class__\n\telse:\n\t\treturn _ClassVariable\n\ndef callAllMro(_InstanceVariable,_MethodStr,*_LiargVariablesList,**_KwargVariablesDict):\n\n\t#map\n\tmap(\n\t\t\tlambda __MroClass:\n\t\t\tgetattr(\n\t\t\t\t_InstanceVariable,\n\t\t\t\t_MethodStr\n\t\t\t)(__MroClass,*_LiargVariablesList,**_KwargVariablesDict)\n\t\t\tif hasattr(__MroClass,_MethodStr)\n\t\t\telse None,\n\t\t\t_InstanceVariable.__class__.__mro__\n\t\t)\n\n\t#Debug\n\t'''\n\tprint('Classor l 50 ')\n\tprint('_InstanceVariable is ',_InstanceVariable)\n\tprint('')\n\t'''\n\t\n\t#return \n\treturn _InstanceVariable\n#</DefineLocals>\n\n#<DefineClass>\nclass ClassorClass(object):\n\n\t#set the Local NameStr\n\tNameStr=\"Classor\"\n\n\tdef default_init(self,**_KwargVariablesDict):\n\n\t\t#set the NameStr\n\t\tself.NameStr=SYS.getNameStrWithClassStr(self.__class__.__name__)\n\n\t\t#Map the update\n\t\tmap(\n\t\t\t\tlambda __ItemTuple:\n\t\t\t\tself.__setattr__(__ItemTuple[0],__ItemTuple[1]) \n\t\t\t\t#If we want to not set the items setted during hooks and that are not specified...\n\t\t\t\tif hasattr(self,__ItemTuple[0]) else None\n\t\t\t\t,_KwargVariablesDict.iteritems()\n\t\t\t)\n\n\t\t#call the base method\n\t\tobject.__init__(self)\n\n\tdef __call__(self,_Class):\n\n\n\t\t#/###################/#\n\t\t# Set the NameStr, Module, SelfClass...\n\t\t#\n\n\t\t#get\n\t\tself.Module=sys.modules[_Class.__module__]\n\n\t\t#debug\n\t\t'''\n\t\tprint('Classor l.53 __call__ method')\n\t\tprint('_Class is ',_Class)\n\t\tprint('')\n\t\t'''\n\n\t\t#set in the class the classed Strs\n\t\t_Class.NameStr=SYS.getNameStrWithClassStr(_Class.__name__)\n\n\t\t#Give a Pointer to the Hooker\n\t\tsetattr(_Class,'DeriveClassor',self)\n\n\t\t#set to the SYS the module\n\t\tif len(SYS.NameStrsList)==0:\n\t\t\tsetattr(SYS,self.NameStr,sys.modules[self.__class__.__module__])\n\t\t\tsetattr(SYS,self.__class__.__name__,self.__class__)\n\t\t\tSYS.NameStrsList.append(self.NameStr)\n\t\tsetattr(SYS,_Class.NameStr,self.Module)\n\t\tsetattr(SYS,_Class.__name__,_Class)\n\t\tSYS.NameStrsList.append(_Class.NameStr)\n\n\t\t#get the module and set it to the class\n\t\t_Class.Module=self.Module\n\t\t_Class.Module.LocalFolderPathStr=SYS.PythonlogyLocalFolderPathStr+self.Module.__name__.replace(\n\t\t\t'.','/')+'/'\n\n\t\t#set a pointer to itself\n\t\t_Class.SelfClass=_Class\n\t\t_Class.MroClassesList=_Class.__mro__\n\t\t_Class.MroClassesDict=dict(\n\t\t\tmap(\n\t\t\t\tlambda __Class:\n\t\t\t\t(__Class.__name__,__Class),\n\t\t\t\t_Class.__mro__\n\t\t\t)\n\t\t)\n\t\t\n\t\t#Check\n\t\tif hasattr(_Class,'callAllMro')==False:\n\t\t\tsetattr(\n\t\t\t\t\t_Class,\n\t\t\t\t\tcallAllMro.__name__,\n\t\t\t\t\tcallAllMro\n\t\t\t\t)\n\t\t\tsetattr(\n\t\t\t\t\t_Class,\n\t\t\t\t\tgetClass.__name__,\n\t\t\t\t\tgetClass\n\t\t\t\t)\n\t\t\t\n\t\t#add in LocalModuleFolderPathStrAndModuleStrTuplesList\n\t\tglobal LocalModuleFolderPathStrAndModuleStrTuplesList\n\t\tLocalModuleFolderPathStrAndModuleStrTuplesList.append(\n\t\t\t(\n\t\t\t\t_Class.Module.LocalFolderPathStr,\n\t\t\t\t_Class.Module.__name__\n\t\t\t)\n\t\t)\n\n\t\t#/###################/#\n\t\t# Give ref to the concept module\n\t\t#\n\n\t\t#append\n\t\tConceptModuleStr='.'.join(_Class.Module.__name__.split('.')[:-1])\n\t\tif hasattr(_Class,\"ConceptModuleStr\")==False or _Class.ConceptModuleStr!=ConceptModuleStr:\n\n\t\t\t#set\n\t\t\t_Class.ConceptModuleStr=ConceptModuleStr\n\n\t\t\t#append\n\t\t\tLocalModuleFolderPathStrAndModuleStrTuplesList.append(\n\t\t\t\t\t(\n\t\t\t\t\t\tSYS.PythonlogyLocalFolderPathStr+ConceptModuleStr.replace('.','/')+'/',\n\t\t\t\t\t\tConceptModuleStr\n\t\t\t\t\t)\n\t\t\t\t)\n\t\t\t\n\t\t#/###################/#\n\t\t# Alert the base method that a derive object exists\n\t\t#\n\n\t\t#set\n\t\tif len(_Class.__bases__)>0:\n\n\t\t\t#set the DerivedBaseClas\n\t\t\tFirstBaseClass=_Class.__bases__[0]\n\n\t\t\t#Debug\n\t\t\t'''\n\t\t\tprint('l. 183 Classor')\n\t\t\tprint('We can set derived bases for the base')\n\t\t\tprint('FirstBaseClass is ',FirstBaseClass)\n\t\t\tprint('')\n\t\t\t'''\n\t\t\t\n\t\t\t#Append to the parent class \n\t\t\tif hasattr(FirstBaseClass,'DeriveClassesList'):\n\t\t\t\tFirstBaseClass.DeriveClassesList.append(_Class)\n\t\t\telif FirstBaseClass!=object:\n\t\t\t\tFirstBaseClass.DeriveClassesList=[_Class]\n\n\t\t#/###################/#\n\t\t# Inspect the methods\n\t\t#\n\n\t\t#Get the Methods\n\t\t_Class.InspectMethodDict=SYS.MethodDict(_Class)\n\n\t\t#dict\n\t\t_Class.InspectInspectDict=dict(\n\t\t\tmap(\t\n\t\t\t\t\tlambda __MethodItemTuple:\n\t\t\t\t\t(\n\t\t\t\t\t\t__MethodItemTuple[0],\n\t\t\t\t\t\tSYS.InspectDict(\n\t\t\t\t\t\t\t__MethodItemTuple[1]\n\t\t\t\t\t\t)\n\t\t\t\t\t),\n\t\t\t\t\t_Class.InspectMethodDict.items()\n\t\t\t\t)\n\t\t\t)\n\n\t\t#/###################/#\n\t\t# set the KeyStrsList\n\t\t#\n\n\t\t#set the KeyStrsList\n\t\t_Class.KeyStrsList=SYS.getKeyStrsListWithClass(_Class)+['KeyStrsList']\n\n\t\t#/###################/#\n\t\t# alias\n\t\t#\n\n\t\tself.WrapClass=_Class\n\n\t\t#Return \n\t\treturn _Class\n\n\tdef setMethod(self,_KeyStr,_ValueMethod):\n\n\t\t#/################/#\n\t\t# Set in the class but also in the inspect dict\n\t\t#\n\n\t\t#set\n\t\tsetattr(\n\t\t\t\tself.WrapClass,\n\t\t\t\t_KeyStr,\n\t\t\t\t_ValueMethod\n\t\t\t)\n\n\t\t#set\n\t\tself.WrapClass.InspectMethodDict[_KeyStr]=_ValueMethod\n\n\t\t#dict\n\t\tself.WrapClass.InspectInspectDict[_KeyStr]=SYS.InspectDict(\n\t\t\t\t\t\t\t_ValueMethod\n\t\t\t\t\t\t)\n\t\t\n#</DefineClass>\n\n#give to SYS\nSYS.LocalModuleFolderPathStrAndModuleStrTuplesList=LocalModuleFolderPathStrAndModuleStrTuplesList\nSYS.ClassorClass=ClassorClass\nSYS.Classor=sys.modules[ClassorClass.__module__]\n\n```\n\n", 
          "cell_type": "markdown", 
          "prompt_number": 7, 
          "metadata": {
            "slideshow": {
              "slide_type": null
            }
          }
        }
      ]
    }
  ], 
  "metadata": {
    "name": "", 
    "signature": ""
  }, 
  "nbformat_minor": 0
}