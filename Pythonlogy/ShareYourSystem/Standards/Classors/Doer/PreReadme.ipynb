{
  "nbformat": 3, 
  "worksheets": [
    {
      "cells": [
        {
          "source": "\n<!--\nFrozenIsBool False\n-->\n\n#Doer\n\n##Doc\n----\n\n\n> \n> The Doer defines instances that are going to decorate a big family of classes in this framework. \n> Staying on the idea, that one module should associate\n> one class, now a decorated class by a Doer should have a NameStr that is \n> a DoStr and express also method a method with the name <DoStr>[0].lower()+<DoStr>[1:]\n> All the attributes that are controlling this method process are <DoingStr><MiddleStr><TypeStr>\n> and all the ones resetted during the method are <DoneStr><MiddleStr><TypeStr>.\n> This helps a lot for defining a fisrt level of objects that are acting like input-output controllers.\n> \n> \n\n----\n\n<small>\nView the Doer notebook on [NbViewer](http://nbviewer.ipython.org/url/shareyoursystem.ouvaton.org/Doer.ipynb)\n</small>\n\n", 
          "cell_type": "markdown", 
          "prompt_number": 0, 
          "metadata": {
            "slideshow": {
              "slide_type": "slide"
            }
          }
        }, 
        {
          "source": "\n<!--\nFrozenIsBool False\n-->\n\n##Code\n\n----\n\n<ClassDocStr>\n\n----\n\n```python\n# -*- coding: utf-8 -*-\n\"\"\"\n\n\n<DefineSource>\n@Date : Fri Nov 14 13:20:38 2014 \\n\n@Author : Erwan Ledoux \\n\\n\n</DefineSource>\n\n\nThe Doer defines instances that are going to decorate a big family of classes in this framework. \nStaying on the idea, that one module should associate\none class, now a decorated class by a Doer should have a NameStr that is \na DoStr and express also method a method with the name <DoStr>[0].lower()+<DoStr>[1:]\nAll the attributes that are controlling this method process are <DoingStr><MiddleStr><TypeStr>\nand all the ones resetted during the method are <DoneStr><MiddleStr><TypeStr>.\nThis helps a lot for defining a fisrt level of objects that are acting like input-output controllers.\n\n\"\"\"\n\n#<DefineAugmentation>\nimport ShareYourSystem as SYS\nBaseModuleStr=\"ShareYourSystem.Standards.Classors.Defaultor\"\nDecorationModuleStr=BaseModuleStr\nSYS.setSubModule(globals())\n#</DefineAugmentation>\n\n#<ImportSpecificModules>\nimport collections\nimport inspect\nimport six\nDefaultor=BaseModule\n#</ImportSpecificModules>\n\n#<DefineLocals>\nDoingAttributePrefixStr='_'\nDoingWrapPrefixStr='do_'\nDoingDecorationPrefixStr=\"\"\nDoingDecorationTagStr=\"superDo\"\nDoingDecorationSuffixStr=\"_\"\n#</DefineLocals>\n\n#<DefineFunctions>\ndef callDo(_InstanceVariable):\n\n\t#Call the .DoMethodStr\n\treturn getattr(\n\t\t_InstanceVariable,\n\t\t_InstanceVariable.__class__.DoMethodStr\n\t)()\n\ndef setDoing(_InstanceVariable,_DoClassVariable=None,**_KwargVariablesDict):\n\n\t#check\n\tif _DoClassVariable in SYS.StrTypesList:\n\t\t_DoClassVariable=getattr(\n\t\t\tSYS,\n\t\t\tSYS.getClassStrWithNameStr(_DoClassVariable)\n\t\t)\n\n\n\n\t#call\n\t_InstanceVariable.setDefault(\n\t\t_DoClassVariable,\n\t\t_DoClassVariable.DoingAttributeVariablesOrderedDict.keys(),\n\t\t**_KwargVariablesDict\n\t)\n\n\t#return\n\treturn _InstanceVariable\n\ndef setDone(_InstanceVariable,_DoClassVariable=None,**_KwargVariablesDict):\n\n\t#check\n\tif _DoClassVariable in SYS.StrTypesList:\n\t\t_DoClassVariable=getattr(\n\t\t\tSYS,\n\t\t\tSYS.getClassStrWithNameStr(_DoClassVariable)\n\t)\n\n\t#Debug\n\t\"\"\"\n\tprint('l 74 Doer')\n\tprint('_DoClassVariable is ',_DoClassVariable)\n\tprint('')\n\t\"\"\"\n\n\t#call\n\t_InstanceVariable.setDefault(\n\t\t_DoClassVariable,\n\t\t_DoClassVariable.DoneAttributeVariablesOrderedDict.keys(),\n\t\t**_KwargVariablesDict\n\t)\n\n\t#return \n\treturn _InstanceVariable\n\ndef setDo(_InstanceVariable,_DoClassVariable=None,**_KwargVariablesDict):\n\n\t#set\n\t_InstanceVariable.setDoing(_DoClassVariable,**_KwargVariablesDict)\n\t_InstanceVariable.setDone(_DoClassVariable,**_KwargVariablesDict)\n\n\t#return\n\treturn _InstanceVariable\n\ndef DefaultDoFunction(\n\t_InstanceVariable,\n\t*_LiargVariablesList,\n\t**_KwargVariablesDict\n):\n\n\t#return\n\treturn _InstanceVariable\n\ndef do(\n\t\t_InstanceVariable,\n\t\t*_LiargVariablesList,\n\t\t**_KwargVariablesDict\n\t):\n\n\t#Define\n\tDoDecorationMethodStr=_KwargVariablesDict['DoDecorationMethodStr']\n\tDoMethodStr=DoDecorationMethodStr.split(\n\t\tDoingDecorationPrefixStr+DoingDecorationTagStr+DoingDecorationSuffixStr\n\t)[-1] if DoingDecorationSuffixStr in DoDecorationMethodStr else DoDecorationMethodStr\n\tDoStr=DoMethodStr[0].upper()+DoMethodStr[1:] if DoMethodStr[0]!=\"_\" else DoMethodStr[0]+DoMethodStr[1].upper()+DoMethodStr[2:]\n\tDoingStr=DoStrToDoingStrOrderedDict[DoStr]\n\tDoClassStr=_KwargVariablesDict['DoClassStr']\n\tDoClass=getattr(SYS,DoClassStr)\n\tDoWrapMethodStr=DoingWrapPrefixStr+DoMethodStr\n\tDoWrapUnboundMethod=getattr(\n\t\t\t\t\t\t\t\tDoClass,\n\t\t\t\t\t\t\t\tDoWrapMethodStr\n\t\t\t\t\t\t\t)\n\tdel _KwargVariablesDict['DoDecorationMethodStr']\n\tdel _KwargVariablesDict['DoClassStr']\n\n\t#debug\n\t'''\n\tprint('Doer l.112 inside of the function DoFunction')\n\tprint('InstanceVariable is ',_InstanceVariable)\n\tprint('_LiargVariablesList is ',_LiargVariablesList)\n\tprint('_KwargVariablesDict is ',_KwargVariablesDict)\n\tprint('')\n\t'''\n\t\n\t#Definition of the DoKwargTuplesList\n\tDoKwargTuplesList=map(\n\t\tlambda __KwargTuple:\n\t\t(\n\t\t\tDoingStr+DoingAttributePrefixStr.join(\n\t\t\t__KwargTuple[0].split(DoingAttributePrefixStr)[1:]),\n\t\t\t__KwargTuple[1]\n\t\t) if __KwargTuple[0].startswith(DoingAttributePrefixStr)\n\t\telse __KwargTuple,\n\t\t_KwargVariablesDict.items()\n\t)\n\n\t#Check\n\tif len(DoKwargTuplesList)>0:\n\n\t\t#group by\n\t\t[\n\t\t\tDoClass.DoTempAttributeItemTuplesList,\n\t\t\tDoClass.DoTempNotAttributeItemTupleItemsList\n\t\t]=SYS.groupby(\n\t\t\tlambda __DoKwargTuple:\n\t\t\thasattr(_InstanceVariable,__DoKwargTuple[0]),\n\t\t\tDoKwargTuplesList\n\t\t)\n\n\t\t#set in the instance the corresponding kwarged arguments\n\t\tmap(\t\n\t\t\t\tlambda __DoTempAttributeItemTuple:\n\t\t\t\t#set direct explicit attributes\n\t\t\t\t_InstanceVariable.__setattr__(*__DoTempAttributeItemTuple),\n\t\t\t\tDoClass.DoTempAttributeItemTuplesList\n\t\t\t)\n\n\t\t#Define\n\t\tDoneKwargDict=dict(DoClass.DoTempNotAttributeItemTupleItemsList)\n\n\telse:\n\n\t\t#Define\n\t\tDoneKwargDict={}\n\n\t#set\n\t_InstanceVariable.setDefaultMutable(DoClass)\n\n\t#debug\n\t'''\n\tprint('Doer l.274 we are going to call the DoWrapMethod')\n\tprint('DoWrapMethod is ',DoWrapMethod)\n\tprint('')\n\t'''\n\n\t#Return the call of the defined do method\n\tif len(DoneKwargDict)>0:\n\t\treturn DoWrapUnboundMethod(\n\t\t\t_InstanceVariable,\n\t\t\t*_LiargVariablesList,\n\t\t\t**DoneKwargDict\n\t\t)\n\telse:\n\t\treturn DoWrapUnboundMethod(\n\t\t\t_InstanceVariable,\n\t\t\t*_LiargVariablesList\n\t\t)\n#</DefineFunctions>\n\n\n#<DefineClass>\n@DecorationClass()\nclass DoerClass(BaseClass):\n\n\tdef default_init(self,\n\t\t\t\t\t\t_DoClass=None,\n\t\t\t\t\t\t_DoingGetBool=False,\n\t\t\t\t\t\t**_KwargVariablesDict\n\t\t\t\t\t):\n\t\n\t\t#Call the parent init method\n\t\tBaseClass.__init__(self,**_KwargVariablesDict)\n\n\tdef __call__(self,_Class):\n\n\t\t#debug\n\t\t'''\n\t\tprint('Doer l.247 __call__ method')\n\t\tprint('_Class is ',_Class)\n\t\tprint('')\n\t\t'''\n\n\t\t#Call the parent init method\n\t\tBaseClass.__call__(self,_Class)\n\n\t\t#Do\n\t\tself.do(_Class)\n\n\t\t#Debug\n\t\t'''\n\t\tprint('do is done')\n\t\tprint('')\n\t\t'''\n\n\t\t#Return \n\t\treturn _Class\n\n\tdef do(self,_Class):\n\n\t\t#set\n\t\tself.DoClass=_Class\n\t\t\n\t\t#debug\n\t\t'''\n\t\tprint(\"Doer l.337 : self.DoClass is \",self.DoClass)\n\t\tprint('')\n\t\t'''\n\n\t\t#alias\n\t\tDoClass=self.DoClass\n\n\t\t#Definition\n\t\tDoerStr=DoClass.NameStr\n\t\tDoStr=DoerStrToDoStrOrderedDict[DoerStr]\n\t\tDoMethodStr=DoStr[0].lower()+DoStr[1:] if DoStr[0]!='_' else '_'+DoStr[1].lower()+DoStr[2:]\n\t\tDoneStr=DoStrToDoneStrOrderedDict[DoStr]\n\t\tDoingStr=DoneStrToDoingStrOrderedDict[DoneStr]\n\t\tLocalVariablesDict=vars()\n\n\t\t#debug\n\t\t'''\n\t\tprint('Doer l.275 : DoerStr is '+DoerStr)\n\t\tprint('DoStr is '+DoStr)\n\t\tprint('DoMethodStr is '+DoMethodStr)\n\t\tprint('DoingStr is '+DoingStr)\n\t\tprint('DoneStr is '+DoneStr)\n\t\tprint('')\n\t\t'''\n\t\t\n\t\t#set \n\t\tmap(\n\t\t\t\tlambda __KeyStr:\n\t\t\t\tsetattr(DoClass,__KeyStr,LocalVariablesDict[__KeyStr]),\n\t\t\t\t['DoerStr','DoStr','DoneStr','DoingStr','DoMethodStr']\n\t\t\t)\n\t\t\n\t\t#set a lists that will contain the tempory setting items during a call of the <do> method in the instance\n\t\tDoClass.DoHistoryOrderedDict=collections.OrderedDict()\n\n\t\t#Check\n\t\tif hasattr(DoClass,'DefaultAttributeVariablesOrderedDict'):\n\t\t\t\n\t\t\t#Debug\n\t\t\t'''\n\t\t\tprint('Doer l.383')\n\t\t\tprint('DoClass.DefaultAttributesVariablesOrderedDict is ',_Class.DefaultAttributesVariablesOrderedDict)\n\t\t\tprint('')\n\t\t\t'''\n\n\t\t\t#Check for doing and done keyStrs\n\t\t\tDoClass.DoneAttributeVariablesOrderedDict=collections.OrderedDict(\n\t\t\t\tSYS._filter(\n\t\t\t\tlambda __DefaultAttributeItemTuple:\n\t\t\t\t__DefaultAttributeItemTuple[0].startswith(DoneStr),\n\t\t\t\tDoClass.DefaultAttributeVariablesOrderedDict.items()\n\t\t\t\t)\n\t\t\t)\n\t\t\tDoClass.DoingAttributeVariablesOrderedDict=collections.OrderedDict(\n\t\t\t\tSYS._filter(\n\t\t\t\tlambda __DefaultAttributeItemTuple:\n\t\t\t\t__DefaultAttributeItemTuple[0].startswith(DoingStr),\n\t\t\t\tDoClass.DefaultAttributeVariablesOrderedDict.items()\n\t\t\t\t)\n\t\t\t)\n\n\t\t\t#Definition\n\t\t\tDoWrapMethodStr=DoingWrapPrefixStr+DoMethodStr\n\n\t\t\t#Debug\n\t\t\t'''\n\t\t\tprint('Doer l.401')\n\t\t\tprint('DoClass.DoneAttributeVariablesOrderedDict is ',DoClass.DoneAttributeVariablesOrderedDict)\n\t\t\tprint('DoClass.DoingAttributeVariablesOrderedDict is ',DoClass.DoingAttributeVariablesOrderedDict)\n\t\t\tprint('DoWrapMethodStr is ',DoWrapMethodStr)\n\t\t\tprint('')\n\t\t\t'''\n\t\t\t\n\t\t\t#Check \n\t\t\tif hasattr(DoClass,DoWrapMethodStr):\n\n\t\t\t\t#Debug\n\t\t\t\t'''\n\t\t\t\tprint('There is a DoWrapMethod here already')\n\t\t\t\tprint('')\n\t\t\t\t'''\n\n\t\t\t\t#Get\n\t\t\t\tDoWrapMethod=getattr(\n\t\t\t\t\t\tDoClass,\n\t\t\t\t\t\tDoWrapMethodStr\n\t\t\t\t\t)\n\t\t\telse:\n\n\t\t\t\t#Debug\n\t\t\t\t'''\n\t\t\t\tprint('There is no DoWrapMethod here')\n\t\t\t\tprint('')\n\t\t\t\t'''\n\n\t\t\t\t#Definition of a default function\n\t\t\t\tDoWrapMethod=DefaultDoFunction\n\n\n\t\t\t#debug\n\t\t\t'''\n\t\t\tprint('DoWrapMethod is '+str(DoWrapMethod))\n\t\t\tprint('')\n\t\t\t'''\n\n\t\t\t#Link\n\t\t\t\"\"\"\n\t\t\tDoingMethodKeyStr='init'+DoClass.NameStr\n\t\t\tsetattr(\n\t\t\t\t\tDoClass,\n\t\t\t\t\tDoingMethodKeyStr,\n\t\t\t\t\tinitDo\n\t\t\t\t)\n\t\t\t\"\"\"\n\n\t\t\t#Definition of the ExecStr that will define the function\n\t\t\tDoDecorationMethodStr=DoingDecorationPrefixStr+DoingDecorationTagStr+DoingDecorationSuffixStr+DoMethodStr\n\t\t\tDoExecStr=\"def \"+DoDecorationMethodStr+\"(_InstanceVariable,\"\n\t\t\tDoExecStr+=\",\".join(\n\t\t\t\tmap(\n\t\t\t\t\tlambda __KeyStr:\n\t\t\t\t\tDoingAttributePrefixStr+__KeyStr+\"=None\",\n\t\t\t\t\tDoClass.DoingAttributeVariablesOrderedDict.keys()\n\t\t\t\t)\n\t\t\t)\n\t\t\tDoExecStr+=\",\" if DoExecStr[-1]!=\",\" else \"\"\n\t\t\tDoExecStr+=\"*_LiargVariablesList,\"\n\t\t\tDoExecStr+=\"**_KwargVariablesDict):\\n\\t\"\n\n\t\t\t#Debug part\n\t\t\t#DoExecStr+='\\n\\tprint(\"In '+DoDecorationMethodStr+' with '+DoWrapMethod.__name__+' \") '\n\t\t\t'''\n\t\t\tDoExecStr+=\"\\n\\t#Debug\"\n\t\t\tDoExecStr+=('\\n\\t'+';\\n\\t'.join(\n\t\t\t\t\t\t\t\t\tmap(\n\t\t\t\t\t\t\t\t\t\tlambda __KeyStr:\n\t\t\t\t\t\t\t\t\t\t'print(\"In DoerFunction, '+DoingAttributePrefixStr+__KeyStr+' is \",'+DoingAttributePrefixStr+__KeyStr+')',\n\t\t\t\t\t\t\t\t\t\t_Class.DoingAttributeVariablesOrderedDict.keys()\n\t\t\t\t\t\t\t\t\t)\n\t\t\t\t\t\t\t\t)+\";\") if len(_Class.DoingAttributeVariablesOrderedDict.keys())>0 else ''\n\t\t\tDoExecStr+='\\n\\tprint(\"_LiargVariablesList is \",_LiargVariablesList);'\n\t\t\tDoExecStr+='\\n\\tprint(\"_KwargVariablesDict is \",_KwargVariablesDict);\\n\\t'\n\t\t\t'''\n\n\t\t\t#Set the doing variables\n\t\t\t\"\"\"\n\t\t\tDoExecStr+=\"\\n\\t#set the doing variables\"\n\t\t\tDoExecStr+=\"\\n\\tDoHistoryOrderedDict=_InstanceVariable.__class__.DoHistoryOrderedDict\"\n\t\t\tDoExecStr+=\"\\n\\tif '\"+DoDecorationMethodStr+\"' not in DoHistoryOrderedDict:DoHistoryOrderedDict['\"+DoDecorationMethodStr+\"']=SYS.collections.OrderedDict()\"\n\t\t\tDoExecStr+=\"\\n\\tDoneSpecificAttributesOrderedDict=DoHistoryOrderedDict['\"+DoDecorationMethodStr+\"']\"\n\t\t\tDoExecStr+=(\"\\n\"+\";\\n\".join(\n\t\t\tmap(\n\t\t\t\tlambda __KeyStr:\n\t\t\t\t\"\\n\".join(\n\t\t\t\t\t[\n\t\t\t\t\t\t\"\\tif \"+DoingAttributePrefixStr+__KeyStr+\"!=None:\",\n\t\t\t\t\t\t\"\\t\\t_InstanceVariable.\"+__KeyStr+\"=\"+DoingAttributePrefixStr+__KeyStr,\n\t\t\t\t\t\t\"\\t\\tDoneSpecificAttributesOrderedDict['\"+__KeyStr+\"']=\"+DoingAttributePrefixStr+__KeyStr,\n\t\t\t\t\t\t\"\\telse:\",\n\t\t\t\t\t\t\"\\t\\tDoneSpecificAttributesOrderedDict['\"+__KeyStr+\"']=None\"\n\t\t\t\t\t]\n\t\t\t\t),\n\t\t\t\tDoClass.DoingAttributeVariablesOrderedDict.keys()\n\t\t\t\t)\n\t\t\t)+\";\\n\") if len(\n\t\t\t\tDoClass.DoingAttributeVariablesOrderedDict.keys()\n\t\t\t)>0 else ''\n\t\t\t\"\"\"\n\n\t\t\tDoExecStr+=(\"\\n\"+\";\\n\".join(\n\t\t\tmap(\n\t\t\t\tlambda __KeyStr:\n\t\t\t\t\"\\n\".join(\n\t\t\t\t\t[\n\t\t\t\t\t\t\"\\tif \"+DoingAttributePrefixStr+__KeyStr+\"!=None:\",\n\t\t\t\t\t\t\"\\t\\t_InstanceVariable.\"+__KeyStr+\"=\"+DoingAttributePrefixStr+__KeyStr,\n\t\t\t\t\t]\n\t\t\t\t),\n\t\t\t\tDoClass.DoingAttributeVariablesOrderedDict.keys()\n\t\t\t\t)\n\t\t\t)+\";\\n\") if len(\n\t\t\t\tDoClass.DoingAttributeVariablesOrderedDict.keys()\n\t\t\t)>0 else ''\n\n\t\t\t#Give to the class this part (it can serve after for imitating methods...)\n\t\t\tDoExecStrKeyStr='Do'+DoClass.NameStr+'ExecStr'\n\t\t\tsetattr(DoClass,DoExecStrKeyStr,DoExecStr)\n\t\t\t\n\t\t\t#Call the initDo method\n\t\t\tDoExecStr+=\"\\n\" if DoExecStr[-1]!=\"\\n\" else \"\"\n\t\t\tDoExecStr+=\"\\n\\t#return\\n\\t\"\n\t\t\t\n\t\t\t#Check\n\t\t\tsetattr(DoClass,'DoingGetBool',self.DoingGetBool)\n\t\t\tif self.DoingGetBool==False:\n\n\t\t\t\t#Return the _InstanceVariable if it is not a getter object\n\t\t\t\tDoExecStr+=\"do(_InstanceVariable,\"\n\t\t\t\tDoExecStr+=\"*_LiargVariablesList,\"\n\t\t\t\tDoExecStr+=\"**dict(_KwargVariablesDict,**{'DoDecorationMethodStr':'\"+DoDecorationMethodStr+\"','DoClassStr':'\"+DoClass.__name__+\"'}))\\n\\t\"\n\t\t\t\tDoExecStr+=\"return _InstanceVariable\\n\"\n\t\t\telse:\n\n\t\t\t\t#Return the output of the do method\n\t\t\t\tDoExecStr+=\"return do(_InstanceVariable,\"\n\t\t\t\tDoExecStr+=\"*_LiargVariablesList,\"\n\t\t\t\tDoExecStr+=\"**dict(_KwargVariablesDict,**{'DoDecorationMethodStr':'\"+DoDecorationMethodStr+\"','DoClassStr':'\"+DoClass.__name__+\"'}))\\n\"\n\n\t\t\t#Debug\n\t\t\t'''\n\t\t\tprint('Doer l 438')\n\t\t\tprint('DoExecStr is ')\n\t\t\tprint(DoExecStr)\n\t\t\tprint('')\n\t\t\t'''\n\n\t\t\t#exec\n\t\t\tsix.exec_(DoExecStr)\n\n\t\t\t#set\n\t\t\t#locals(\n\t\t\t#\t)[DoDecorationMethodStr].DoWrapMethod=DoWrapMethod\n\n\n\t\t\t#Debug\n\t\t\t'''\n\t\t\tprint('l. 907 Doer')\n\t\t\tprint('DoClass is ',DoClass)\n\t\t\tprint('DoDecorationMethodStr is ',DoDecorationMethodStr)\n\t\t\tprint('DoWrapMethod is ',DoWrapMethod)\n\t\t\tprint(\"locals()[DoDecorationMethodStr] is \",locals()[DoDecorationMethodStr])\n\t\t\tprint('')\n\t\t\t'''\n\t\t\t\n\t\t\t#set with the specific name\n\t\t\tsetattr(\n\t\t\t\t\t\tDoClass,\n\t\t\t\t\t\tDoDecorationMethodStr,\n\t\t\t\t\t\tlocals()[DoDecorationMethodStr]\n\t\t\t\t\t)\n\n\t\t\t#set with the DoMethodStr shortcut\n\t\t\tsetattr(\n\t\t\t\t\t\tDoClass,\n\t\t\t\t\t\tDoMethodStr,\n\t\t\t\t\t\tlocals()[DoDecorationMethodStr]\n\t\t\t\t\t)\n\n\n\t\t\t#Set maybe if not already\n\t\t\tif hasattr(DoClass,'setDo')==False:\n\n\t\t\t\t#map\n\t\t\t\tmap(\n\t\t\t\t\tlambda __SetUnboundMethod:\n\t\t\t\t\t#set with the DoMethodStr shortcut\n\t\t\t\t\tsetattr(\n\t\t\t\t\t\t\t\tDoClass,\n\t\t\t\t\t\t\t\t__SetUnboundMethod.__name__,\n\t\t\t\t\t\t\t\t__SetUnboundMethod\n\t\t\t\t\t\t\t),\n\t\t\t\t\t[setDo,setDoing,setDone,callDo]\n\t\t\t\t)\n\n\t\t#Add to the KeyStrsList\n\t\tDoClass.KeyStrsList+=[\n\t\t\t\t\t\t\t\t'DoerStr',\n\t\t\t\t\t\t\t\t'DoStr',\n\t\t\t\t\t\t\t\t'DoneStr',\n\t\t\t\t\t\t\t\t'DoingStr',\n\t\t\t\t\t\t\t\t'DoneAttributeVariablesOrderedDict',\n\t\t\t\t\t\t\t\t'DoingAttributeVariablesOrderedDict',\n\t\t\t\t\t\t\t\tDoExecStrKeyStr,\n\t\t\t\t\t\t\t\t'DoingGetBool',\n\t\t\t\t\t\t\t\t'DoTempAttributeItemTuplesList',\n\t\t\t\t\t\t\t\t'DoTempNotAttributeItemTupleItemsList'\n\t\t\t\t\t\t]\t\t\t\n#</DefineClass>\n\n\n#<DefineLocals>\nDoStrsTuplesList=[\n\t('Doer','Do','Doing','Done'),\n\t('Deriver','Derive','Deriving','Derived'),\n\t('Propertiser','Propertize','Propertizing','Propertized'),\n\t('Inspecter','Inspect','Inspecting','Inspected'),\n\t('Representer','Represent','Representing','Represented'),\n\t('Printer','_Print','Printing','Printed'),\n\t('Debugger','Debug','Debugging','Debugged'),\n\t('Functer','Funct','Functing','Functed'),\n\t('Moduler','Module','Moduling','Moduled'),\n\t('Attester','Attest','Attesting','Attested'),\n\t('Tester','Test','Testing','Tested'),\n\t('Hooker','Hook','Hooking','Hooked'),\n\t('Conditioner','Condition','Conditioning','Conditioned'),\n\t('Concluder','Conclude','Concluding','Concluded'),\n\t('Observer','Observe','Observing','Observed'),\n\t('Binder','Bind','Binding','Binded'),\n\t('Switcher','Switch','Switching','Switched'),\n\t('Resetter','Reset','Resetting','Resetted'),\n\t('Caller','Call','Calling','Called'),\n\t('Cloner','Clone','Cloning','Cloned'),\n\t('Watcher','Watch','Watching','Watched'),\n\t('Classer','_Class','Classing','Classed'),\n\t('Argumenter','Argument','Argumenting','Argumented'),\n\t('Imitater','Imitate','Imitating','Imitated'),\n\t('Alerter','Alert','Alerting','Alerted'),\n\t('Interfacer','Interface','Interfacing','Interfaced'),\n\t('Folderer','Folder','Foldering','Foldered'),\n\t('Filer','File','Filing','Filed'),\n\t('Closer','Close','Closing','Closed'),\n\t('Loader','Load','Loading','Loaded'),\n\t('Writer','Write','Writing','Writed'),\n\t('Capturer','Capture','Capturing','Captured'),\n\t('Processer','Process','Processing','Processed'),\n\t('Statuser','Status','Statusing','Statused'),\n\t('Killer','Kill','Killing','Killed'),\n\t('Directer','Direct','Directing','Directed'),\n\t('Hdformater','Hdformat','Hdformating','Hdformated'),\n\t('Guider','Guide','Guiding','Guided'),\n\t('Scriptbooker','Scriptbook','Scriptbooking','Scriptbooked'),\n\t('Celler','Cell','Celling','Celled'),\n\t('Notebooker','Notebook','Notebooking','Notebooked'),\n\t('Markdowner','Markdown','Markdowning','Markdowned'),\n\t('Readmer','Readme','Readming','Readmed'),\n\t('Installer','Install','Installing','Installed'),\n\t('Documenter','Document','Documenting','Documented'),\n\t('Itemizer','Itemize','Itemizing','Itemized'),\n\t('Getter','Get','Getting','Getted'),\n\t('Setter','Set','Setting','Setted'),\n\t('Deleter','Delete','Deleting','Deleted'),\n\t('Attributer','Attribute','Attributing','Attributed'),\n\t('Restricter','Restrict','Restricting','Restricted'),\n\t('Pather','Path','Pathing','Pathed'),\n\t('Sharer','Share','Sharing','Shared'),\n\t('Executer','Execute','Executing','Executed'),\n\t('Pointer','Point','Pointing','Pointed'),\n\t('Applyier','Apply','Applying','Applied'),\n\t('Mapper','Map','Mapping','Mapped'),\n\t('Picker','Pick','Picking','Pick'),\n\t('Gatherer','Gather','Gathering','Gathered'),\n\t('Updater','Update','Updating','Updated'),\n\t('Linker','Link','Linking','Linked'),\n\t('Weaver','Weave','Weaving','Weaved'),\n\t('Filterer','Filter','Filtering','Filterer'),\n\t('Noder','Node','Noding','Noded'),\n\t('Outputer','Output','Outputing','Outputed'),\n\t('Appender','Append','Appending','Appended'),\n\t('Instancer','Instance','Instancing','Instanced'),\n\t('Adder','Add','Adding','Added'),\n\t('Distinguisher','Distinguish','Distinguishing','Distinguished'),\n\t('Parenter','Parent','Parenting','Parented'),\n\t('Storer','Store','Storing','Stored'),\n\t('Pusher','Push','Pushing','Pushed'),\n\t('Producer','Produce','Producing','Produced'),\n\t('Catcher','Catch','Catching','Catched'),\n\t('Attentioner','Attention','Attentioning','Attentioned'),\n\t('Coupler','Couple','Coupling','Coupled'),\n\t('Settler','Settle','Settling','Settled'),\n\t('Commander','Command','Commanding','Commanded'),\n\t('Walker','Walk','Walking','Walked'),\n\t('Collecter','Collect','Collecting','Collected'),\n\t('Visiter','Visit','Visiting','Visited'),\n\t('Recruiter','Recruit','Recruiting','Recruit'),\n\t('Mobilizer','Mobilize','Mobilizing','Mobilized'),\n\t('Router','Route','Routing','Routed'),\n\t('Grabber','Grab','Grabbing','Grabbed'),\n\t('Poker','Poke','Poking','Poked'),\n\t('Connecter','Connect','Connecting','Connected'),\n\t('Networker','Network','Networking','Networked'),\n\t('Grouper','Group','Grouping','Grouped'),\n\t('Structurer','Structure','Structuring','Structured'),\n\t('Saver','Save','Saving','Saved'),\n\t('Databaser','Database','Databasing','Databased'),\n\t('Modeler','Model','Databasing','Databased'),\n\t('Tabularer','Tabular','Tabularing','Tabulared'),\n\t('Tabler','Table','Tabling','Tabled'),\n\t('Rower','Row','Rowing','Rowed'),\n\t('Inserter','Insert','Inserting','Inserted'),\n\t('Retriever','Retrieve','Retrieving','Retrieved'),\n\t('Findoer','Find','Finding','Found'),\n\t('Recoverer','Recover','Recovering','Recovered'),\n\t('Shaper','Shape','Shaping','Shaped'),\n\t('Merger','Merge','Merging','Merged'),\n\t('Scanner','Scan','Scanning','Scanned'),\n\t('Joiner','Join','Joining','Joined'),\n\t('Hierarchizer','Hierarchize','Hierarchizing','Hierarchized'),\n\t('Analyzer','Analyze','Analyzing','Analyzed'),\n\t('Grider','Grid','Griding','Grided'),\n\t('Controller','Control','Controlling','Controlled'),\n\t('Featurer','Feature','Featuring','Featured'),\n\t('Recuperater','Recuperate','Recuperating','Recuperated'),\n\t('Ploter','Plot','Ploting','Ploted'),\n\t('Axer','Axe','Axing','Axed'),\n\t('Paneler','Panel','Paneling','Paneled'),\n\t('Figurer','Figure','Figuring','Figured'),\n\t('Pyploter','Pyplot','Pyploting','Pyploted'),\n\t('Multiplier','Multiply','Multiplying','Multiplied'),\n\t('Sumer','Sum','Suming','Sumed'),\n\t('Modulizer','Modulize','Modulizing','Modulized'),\n\t('Simulater','Simulate','Simulating','Simulated'),\n\t('Runner','Run','Running','Runned'),\n\t('Moniter','Monit','Monitering','Monitered'),\n\t('Populater','Populate','Populating','Populated'),\n\t('Dynamizer','Dynamize','Dynamizing','Dynamized'),\n\t('Rater','Rate','Rating','Rated'),\n\t('Brianer','Brian','Brianing','Brianed'),\n\t('Muziker','Muzik','Muziking','Muziked'),\n\t('Vexflower','Vexflow','Vexflowing','Vexflowed'),\n\t('Permuter','Permute','Permuting','Permuted'),\n\t('Differenciater','Differenciate','Differenciating','Differenciated'),\n\t('Pooler','Pool','Pooling','Pooled'),\n\t('Harmonizer','Harmonize','Harmozing','Harmonized'),\n\t('Maker','Make','Making','Made'),\n\t('Builder','Build','Building','Built'),\n\t('Incrementer','Increment','Incrementing','Incremented'),\n\t('Mimicker','Mimic','Mimicking','Mimicked'),\n\t('Blocker','Block','Blocking','Blocked'),\n\t('Cumulater','Cumulate','Cumulating','Cumulated'),\n\t('Rebooter','Reboot','Rebooting','Rebooted'),\n\t('Triggerer','Trigger','Triggering','Triggered'),\n\t('Decrementer','Decrement','Decrementing','Decremented'),\n\t('Nbconverter','Nbconvert','Nbconverting','Nbconverted'),\n\t('Documenter','Document','Documenting','Documented'),\n\t('Packager','Package','Packaging','Packaged'),\n\t('Deployer','Deploy','Deploying','Deployed'),\n\t('Transmitter','Transmit','Transmitting','Transmitted'),\n\t('Factorizer','Factorize','Factorizing','Factorized'),\n\t('Organizer','Organize','Organizing','Organized'),\n\t('Lifer','Lif','Lifing','Lifed'),\n\t('Grasper','Grasp','Grasping','Grasped')\n]\n\nDoerStrToDoStrOrderedDict=SYS.dictify(DoStrsTuplesList,0,1)\nDoStrToDoerStrOrderedDict=SYS.dictify(DoStrsTuplesList,1,0)\nDoStrToDoingStrOrderedDict=SYS.dictify(DoStrsTuplesList,1,2)\nDoStrToDoneStrOrderedDict=SYS.dictify(DoStrsTuplesList,1,3)\nDoneStrToDoingStrOrderedDict=SYS.dictify(DoStrsTuplesList,3,2)\n#</DefineLocals>\n\n\n```\n\n<small>\nView the Doer sources on <a href=\"https://github.com/Ledoux/ShareYourSystem/tree/master/Pythonlogy/ShareYourSystem/Classors/Doer\" target=\"_blank\">Github</a>\n</small>\n\n", 
          "cell_type": "markdown", 
          "prompt_number": 1, 
          "metadata": {
            "slideshow": {
              "slide_type": "subslide"
            }
          }
        }, 
        {
          "source": "\n<!---\nFrozenIsBool True\n-->\n\n##Example\n\nIt is possible to re set the Doing or Done attributes", 
          "cell_type": "markdown", 
          "prompt_number": 2, 
          "metadata": {
            "slideshow": {
              "slide_type": "subslide"
            }
          }
        }, 
        {
          "cell_type": "code", 
          "prompt_number": 3, 
          "language": "python", 
          "input": [
            "#ImportModules\n", 
            "import ShareYourSystem as SYS\n", 
            "from ShareYourSystem.Standards.Classors import Doer,Attester \n", 
            "from ShareYourSystem.Standards.Objects import Initiator\n", 
            "\n", 
            "#Definition a MakerClass decorated by the DefaultorClass\n", 
            "@Doer.DoerClass()\n", 
            "class MakerClass(Initiator.InitiatorClass):\n", 
            "\n", 
            "    def default_init(self,\n", 
            "                _MakingMyFloat=1.,\n", 
            "                _MakingMyList=None,\n", 
            "                _MakingFirstInt={'DefaultingSetType':int},\n", 
            "                _MakingSecondInt=0,\n", 
            "                _MadeMyInt=0,\n", 
            "                _MadeMyList=None,\n", 
            "                ):\n", 
            "        pass\n", 
            "\n", 
            "    def do_make(self):\n", 
            "\n", 
            "        #print\n", 
            "        print('Maker : I am going to make')\n", 
            "        print('self.MakingMyFloat is ',self.MakingMyFloat)\n", 
            "        print('')\n", 
            "\n", 
            "        #set\n", 
            "        self.MadeMyInt=int(self.MakingMyFloat)\n", 
            "\n", 
            "        #Return self\n", 
            "        #return self\n", 
            "\n", 
            "#Definition of an instance and make\n", 
            "MyMaker=MakerClass(\n", 
            "    _MakingMyList=['hello'],\n", 
            "    **{'MakingFirstInt':3}\n", 
            "    ).superDo_make(\n", 
            "        3.,['bonjour'],\n", 
            "        _SecondInt=5\n", 
            "    )\n", 
            "\n", 
            "print('MyMaker is ')\n", 
            "SYS._print(MyMaker)\n", 
            "\n", 
            "print('we reset doing')\n", 
            "MyMaker.setDoing(MakerClass)\n", 
            "\n", 
            "print('MyMaker after set doing is ')\n", 
            "SYS._print(MyMaker)\n", 
            "\n", 
            "#Add\n", 
            "AttestingStrsList=[\n", 
            "        'MyMaker.__dict__ is '+SYS._str(MyMaker.__dict__,\n", 
            "            **{'RepresentingAlineaIsBool':False})\n", 
            "    ]\n", 
            "\n", 
            "#Definition\n", 
            "SYS._attest(AttestingStrsList)\n", 
            "\n", 
            "#Print\n", 
            "\n"
          ], 
          "outputs": [
            {
              "output_type": "stream", 
              "stream": "stdout", 
              "text": [
                "Maker : I am going to make\n", 
                "('self.MakingMyFloat is ', 3.0)\n", 
                "\n", 
                "MyMaker is \n", 
                "<MakerClass object at 0x10e751550>\n", 
                "we reset doing\n", 
                "MyMaker after set doing is \n", 
                "<MakerClass object at 0x10e751550>\n", 
                "\n", 
                "\n", 
                "*****Start of the Attest *****\n", 
                "\n", 
                "MyMaker.__dict__ is \n", 
                "   /{ \n", 
                "   /  'IdInt' : 4537521488\n", 
                "   /  'MadeMyInt' : 3\n", 
                "   /  'MadeMyList' : []\n", 
                "   /  'MakingFirstInt' : 0\n", 
                "   /  'MakingMyFloat' : 1.0\n", 
                "   /  'MakingMyList' : []\n", 
                "   /  'MakingSecondInt' : 0\n", 
                "   /}\n", 
                "\n", 
                "*****End of the Attest *****\n", 
                "\n", 
                "\n"
              ]
            }
          ], 
          "collapsed": false, 
          "metadata": {
            "slideshow": {
              "slide_type": "-"
            }
          }
        }
      ]
    }
  ], 
  "metadata": {
    "name": "", 
    "signature": ""
  }, 
  "nbformat_minor": 0
}