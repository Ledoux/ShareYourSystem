{
  "nbformat": 3, 
  "worksheets": [
    {
      "cells": [
        {
          "source": "\n<!--\nFrozenIsBool False\n-->\n\n#Propertiser\n\n##Doc\n----\n\n\n> \n> The Propertiser is an augmented Defaultor because it will set defaults attributes\n> possibly in properties for the new-style decorated classes. This can set objects\n> with high controlling features thanks to the binding \n> \n> \n\n----\n\n<small>\nView the Propertiser notebook on [NbViewer](http://nbviewer.ipython.org/url/shareyoursystem.ouvaton.org/Propertiser.ipynb)\n</small>\n\n", 
          "cell_type": "markdown", 
          "prompt_number": 0, 
          "metadata": {
            "slideshow": {
              "slide_type": "slide"
            }
          }
        }, 
        {
          "source": "\n<!---\nFrozenIsBool True\n-->\n\n##Example\n\nLet's create a class with one property value.\nBy default the class has also a _<PropertyKeyStr> value that is the init value.", 
          "cell_type": "markdown", 
          "prompt_number": 1, 
          "metadata": {
            "slideshow": {
              "slide_type": "subslide"
            }
          }
        }, 
        {
          "cell_type": "code", 
          "prompt_number": 2, 
          "language": "python", 
          "input": [
            "#ImportModules\n", 
            "import ShareYourSystem as SYS\n", 
            "\n", 
            "#Define\n", 
            "@SYS.PropertiserClass()\n", 
            "class MakerClass(SYS.PrinterClass):\n", 
            "\n", 
            "    def default_init(self,\n", 
            "            _MakingMyFloat={\n", 
            "                            'DefaultValueType':property,\n", 
            "                            'PropertyInitVariable':3.,\n", 
            "                            'PropertyDocStr':'I am doing the thing here'\n", 
            "                            }\n", 
            "        ):\n", 
            "        SYS.PrinterClass.__init__(self)\n", 
            "\n", 
            "#Print and show that the class has already propertize_(get,set,del)MakingMyFloat \n", 
            "# a default _MakingMyFloat value and the MakingMyFloat prop\n", 
            "print('SYS.MakerClass.__dict__ is')\n", 
            "print(SYS.indent(SYS.MakerClass.__dict__))\n", 
            "\n", 
            "#Define\n", 
            "MyMaker=SYS.MakerClass()\n", 
            "\n", 
            "#print the __dict__, there is no things related to the \n", 
            "#MakingMyFloat property\n", 
            "print('MyMaker.__dict__ before set is ')\n", 
            "SYS._print(MyMaker.__dict__)\n", 
            "\n", 
            "#set\n", 
            "MyMaker.MakingMyFloat=7.\n", 
            "\n", 
            "#print the __dict__, now there is the hidden attribute\n", 
            "print('MyMaker.__dict__ after set is ')\n", 
            "SYS._print(MyMaker.__dict__)\n", 
            "\n", 
            "#Define\n", 
            "MyMaker=SYS.MakerClass()\n", 
            "\n", 
            "#print the repr : the instance just show the MakingMyFloat key \n", 
            "#that is actually the get of _MakingMyFloat in the class\n", 
            "print('MyMaker before set is ')\n", 
            "SYS._print(MyMaker)\n", 
            "\n", 
            "#set\n", 
            "MyMaker.MakingMyFloat=7.\n", 
            "\n", 
            "#print the repr : now the instance shows the _MakingMyFloat\n", 
            "#value that is particulat for the instance\n", 
            "print('MyMaker after set is ')\n", 
            "SYS._print(MyMaker)\n"
          ], 
          "outputs": [
            {
              "output_type": "stream", 
              "stream": "stdout", 
              "text": [
                "SYS.MakerClass.__dict__ is\n", 
                "{\n", 
                "  \"__module__\": \"__builtin__\", \n", 
                "  \"DoneAttributeVariablesOrderedDict\": \"OrderedDict()\", \n", 
                "  \"MakingMyFloat\": \"<property object at 0x10bf55310>\", \n", 
                "  \"DoneStr\": \"Made\", \n", 
                "  \"DoMakerExecStr\": \"def superDo_make(_InstanceVariable,_MyFloat=None,*_LiargVariablesList,**_KwargVariablesDict):\\n\\t\\n\\tif type(_MyFloat)!=None.__class__:\\n\\t\\t_InstanceVariable.MakingMyFloat=_MyFloat;\\n\", \n", 
                "  \"__init__\": \"<function superDefault_init at 0x10a9ce758>\", \n", 
                "  \"DoerStr\": \"Maker\", \n", 
                "  \"ConceptModuleStr\": \"\", \n", 
                "  \"DeriveClassor\": \"<ShareYourSystem.Standards.Classors.Propertiser.PropertiserClass object at 0x10bfc3790>\", \n", 
                "  \"SelfClass\": \"<class 'MakerClass'>\", \n", 
                "  \"default_init\": \"<function default_init at 0x10bfb6398>\", \n", 
                "  \"make\": \"<function superDo_make at 0x10a458410>\", \n", 
                "  \"DefaultBaseKeyStrsList\": \"['PrintIdInt', 'PrintStr', 'PrintingCopyVariable', 'PrintingInstanceSkipKeyStrsList', 'PrintingInstanceForceKeyStrsList', 'PrintingClassSkipKeyStrsList', 'PrintingClassForceKeyStrsList', 'PrintingBaseBool', 'PrintingNewInstanceBool', 'PrintingNewClassBool', 'PrintingOutBool', 'PrintingSelfBool', 'PrintingInfoStr', 'PrintingInstanceForceBaseKeyStrsList']\", \n", 
                "  \"superDefault_init\": \"<function superDefault_init at 0x10a9ce758>\", \n", 
                "  \"PropertizedDefaultTuplesList\": \"[('MakingMyFloat', <property object at 0x10bf55310>)]\", \n", 
                "  \"DoingAttributeVariablesOrderedDict\": \"OrderedDict([('MakingMyFloat', {'PropertyDocStr': 'I am doing the thing here', 'PropertyInitVariable': 3.0, 'DefaultValueType': <type 'property'>})])\", \n", 
                "  \"KeyStrsList\": \"['ConceptModuleStr', 'DeriveClassor', 'SelfClass', 'MroClassesDict', 'MroClassesList', 'Module', 'InspectMethodDict', 'NameStr', 'InspectInspectDict', 'KeyStrsList', 'DefaultInitBool', 'DefaultAttributeVariablesOrderedDict', 'InitInspectDict', 'DefaultBaseKeyStrsList', 'DefaultSpecificKeyStrsList', 'MakingMyFloat', 'DoerStr', 'DoStr', 'DoneStr', 'DoingStr', 'DoneAttributeVariablesOrderedDict', 'DoingAttributeVariablesOrderedDict', 'DoingDeprefixAttributeStrsList', 'DoMethodStr', 'DoHistoryOrderedDict', 'DoMakerExecStr', 'DoingGetBool', 'DoTempAttributeItemTuplesList', 'DoTempNotAttributeItemTupleItemsList', 'DoMethodStrsList', 'MroDoerClassesList', 'PropertyMethodsDict', 'PropertizedDefaultTuplesList']\", \n", 
                "  \"PropertyMethodsDict\": \"{'propertize_getMakingMyFloat': <function propertize_getMakingMyFloat at 0x10bf9ce60>, 'propertize_delMakingMyFloat': <function propertize_delMakingMyFloat at 0x10bf9cc80>, 'propertize_setMakingMyFloat': <function propertize_setMakingMyFloat at 0x10bf9ced8>}\", \n", 
                "  \"DoStr\": \"Make\", \n", 
                "  \"__doc__\": \"None\", \n", 
                "  \"DoMethodStrsList\": \"['interface', '_print', 'make']\", \n", 
                "  \"propertize_getMakingMyFloat\": \"<function propertize_getMakingMyFloat at 0x10bf9ce60>\", \n", 
                "  \"DoingDeprefixAttributeStrsList\": \"['_MyFloat']\", \n", 
                "  \"DoingStr\": \"Making\", \n", 
                "  \"InitInspectDict\": \"InspectDict([('DefaultIndexInt', 1), ('InputKeyStrsList', ['self', '_MakingMyFloat']), ('LiargVariablesListKeyStr', ''), ('KwargVariablesSetTagStr', ''), ('DefaultOrderedDict', OrderedDict([('_MakingMyFloat', {'PropertyDocStr': 'I am doing the thing here', 'PropertyInitVariable': 3.0, 'DefaultValueType': <type 'property'>})])), ('FunctionNameStr', 'default_init')])\", \n", 
                "  \"InspectInspectDict\": \"{'getClass': InspectDict([('DefaultIndexInt', 1), ('InputKeyStrsList', ['_InstanceVariable', '_ClassVariable']), ('LiargVariablesListKeyStr', ''), ('KwargVariablesSetTagStr', ''), ('DefaultOrderedDict', OrderedDict([('_ClassVariable', None)])), ('FunctionNameStr', 'getClass')]), 'callDo': InspectDict([('DefaultIndexInt', 1), ('InputKeyStrsList', ['_InstanceVariable']), ('LiargVariablesListKeyStr', ''), ('KwargVariablesSetTagStr', ''), ('DefaultOrderedDict', OrderedDict()), ('FunctionNameStr', 'callDo')]), '_print': InspectDict([('DefaultIndexInt', 1), ('InputKeyStrsList', ['_InstanceVariable', '_CopyVariable', '_InstanceSkipKeyStrsList', '_InstanceForceKeyStrsList', '_ClassSkipKeyStrsList', '_ClassForceKeyStrsList', '_BaseBool', '_NewInstanceBool', '_NewClassBool', '_OutBool', '_SelfBool', '_InfoStr', '_InstanceForceBaseKeyStrsList']), ('LiargVariablesListKeyStr', '_LiargVariablesList'), ('KwargVariablesSetTagStr', '_KwargVariablesDict'), ('DefaultOrderedDict', OrderedDict([('_CopyVariable', None), ('_InstanceSkipKeyStrsList', None), ('_InstanceForceKeyStrsList', None), ('_ClassSkipKeyStrsList', None), ('_ClassForceKeyStrsList', None), ('_BaseBool', None), ('_NewInstanceBool', None), ('_NewClassBool', None), ('_OutBool', None), ('_SelfBool', None), ('_InfoStr', None), ('_InstanceForceBaseKeyStrsList', None)])), ('FunctionNameStr', 'superDo__print')]), 'forcePrint': InspectDict([('DefaultIndexInt', 3), ('InputKeyStrsList', ['self', '_KeyStrsList', '_ClassStr']), ('LiargVariablesListKeyStr', ''), ('KwargVariablesSetTagStr', ''), ('DefaultOrderedDict', OrderedDict()), ('FunctionNameStr', 'forcePrint')]), 'callAllMro': InspectDict([('DefaultIndexInt', 2), ('InputKeyStrsList', ['_InstanceVariable', '_MethodStr']), ('LiargVariablesListKeyStr', '_LiargVariablesList'), ('KwargVariablesSetTagStr', '_KwargVariablesDict'), ('DefaultOrderedDict', OrderedDict()), ('FunctionNameStr', 'callAllMro')]), '__init__': InspectDict([('DefaultIndexInt', 1), ('InputKeyStrsList', ['_InstanceVariable']), ('LiargVariablesListKeyStr', '_LiargVariablesList'), ('KwargVariablesSetTagStr', '_KwargVariablesDict'), ('DefaultOrderedDict', OrderedDict()), ('FunctionNameStr', 'superDefault_init')]), 'setDo': InspectDict([('DefaultIndexInt', 1), ('InputKeyStrsList', ['_InstanceVariable', '_DoClassVariable']), ('LiargVariablesListKeyStr', ''), ('KwargVariablesSetTagStr', '_KwargVariablesDict'), ('DefaultOrderedDict', OrderedDict([('_DoClassVariable', None)])), ('FunctionNameStr', 'setDo')]), 'getDoing': InspectDict([('DefaultIndexInt', 1), ('InputKeyStrsList', ['_InstanceVariable', '_DoClassVariable']), ('LiargVariablesListKeyStr', ''), ('KwargVariablesSetTagStr', ''), ('DefaultOrderedDict', OrderedDict([('_DoClassVariable', None)])), ('FunctionNameStr', 'getDoing')]), 'getReprStr': InspectDict([('DefaultIndexInt', 1), ('InputKeyStrsList', ['self']), ('LiargVariablesListKeyStr', ''), ('KwargVariablesSetTagStr', '_KwargVariablesDict'), ('DefaultOrderedDict', OrderedDict()), ('FunctionNameStr', 'getReprStr')]), 'make': InspectDict([('DefaultIndexInt', 1), ('InputKeyStrsList', ['_InstanceVariable', '_MyFloat']), ('LiargVariablesListKeyStr', '_LiargVariablesList'), ('KwargVariablesSetTagStr', '_KwargVariablesDict'), ('DefaultOrderedDict', OrderedDict([('_MyFloat', None)])), ('FunctionNameStr', 'superDo_make')]), 'superDefault_init': InspectDict([('DefaultIndexInt', 1), ('InputKeyStrsList', ['_InstanceVariable']), ('LiargVariablesListKeyStr', '_LiargVariablesList'), ('KwargVariablesSetTagStr', '_KwargVariablesDict'), ('DefaultOrderedDict', OrderedDict()), ('FunctionNameStr', 'superDefault_init')]), 'do__print': InspectDict([('DefaultIndexInt', 1), ('InputKeyStrsList', ['self']), ('LiargVariablesListKeyStr', ''), ('KwargVariablesSetTagStr', '_KwargVariablesDict'), ('DefaultOrderedDict', OrderedDict()), ('FunctionNameStr', 'do__print')]), 'superDo__print': InspectDict([('DefaultIndexInt', 1), ('InputKeyStrsList', ['_InstanceVariable', '_CopyVariable', '_InstanceSkipKeyStrsList', '_InstanceForceKeyStrsList', '_ClassSkipKeyStrsList', '_ClassForceKeyStrsList', '_BaseBool', '_NewInstanceBool', '_NewClassBool', '_OutBool', '_SelfBool', '_InfoStr', '_InstanceForceBaseKeyStrsList']), ('LiargVariablesListKeyStr', '_LiargVariablesList'), ('KwargVariablesSetTagStr', '_KwargVariablesDict'), ('DefaultOrderedDict', OrderedDict([('_CopyVariable', None), ('_InstanceSkipKeyStrsList', None), ('_InstanceForceKeyStrsList', None), ('_ClassSkipKeyStrsList', None), ('_ClassForceKeyStrsList', None), ('_BaseBool', None), ('_NewInstanceBool', None), ('_NewClassBool', None), ('_OutBool', None), ('_SelfBool', None), ('_InfoStr', None), ('_InstanceForceBaseKeyStrsList', None)])), ('FunctionNameStr', 'superDo__print')]), 'superDo_make': InspectDict([('DefaultIndexInt', 1), ('InputKeyStrsList', ['_InstanceVariable', '_MyFloat']), ('LiargVariablesListKeyStr', '_LiargVariablesList'), ('KwargVariablesSetTagStr', '_KwargVariablesDict'), ('DefaultOrderedDict', OrderedDict([('_MyFloat', None)])), ('FunctionNameStr', 'superDo_make')]), 'getDone': InspectDict([('DefaultIndexInt', 1), ('InputKeyStrsList', ['_InstanceVariable', '_DoClassVariable']), ('LiargVariablesListKeyStr', ''), ('KwargVariablesSetTagStr', ''), ('DefaultOrderedDict', OrderedDict([('_DoClassVariable', None)])), ('FunctionNameStr', 'getDone')]), 'setDefault': InspectDict([('DefaultIndexInt', 2), ('InputKeyStrsList', ['_InstanceVariable', '_ClassVariable', '_AttributeKeyVariable']), ('LiargVariablesListKeyStr', ''), ('KwargVariablesSetTagStr', '_KwargVariablesDict'), ('DefaultOrderedDict', OrderedDict([('_AttributeKeyVariable', None)])), ('FunctionNameStr', 'setDefault')]), 'do_interface': InspectDict([('DefaultIndexInt', 1), ('InputKeyStrsList', ['self']), ('LiargVariablesListKeyStr', ''), ('KwargVariablesSetTagStr', '_KwargVariablesDict'), ('DefaultOrderedDict', OrderedDict()), ('FunctionNameStr', 'do_interface')]), 'interface': InspectDict([('DefaultIndexInt', 1), ('InputKeyStrsList', ['_InstanceVariable']), ('LiargVariablesListKeyStr', '_LiargVariablesList'), ('KwargVariablesSetTagStr', '_KwargVariablesDict'), ('DefaultOrderedDict', OrderedDict()), ('FunctionNameStr', 'superDo_interface')]), 'superDo_interface': InspectDict([('DefaultIndexInt', 1), ('InputKeyStrsList', ['_InstanceVariable']), ('LiargVariablesListKeyStr', '_LiargVariablesList'), ('KwargVariablesSetTagStr', '_KwargVariablesDict'), ('DefaultOrderedDict', OrderedDict()), ('FunctionNameStr', 'superDo_interface')]), 'setDoing': InspectDict([('DefaultIndexInt', 1), ('InputKeyStrsList', ['_InstanceVariable', '_DoClassVariable']), ('LiargVariablesListKeyStr', ''), ('KwargVariablesSetTagStr', '_KwargVariablesDict'), ('DefaultOrderedDict', OrderedDict([('_DoClassVariable', None)])), ('FunctionNameStr', 'setDoing')]), 'setDefaultMutable': InspectDict([('DefaultIndexInt', 2), ('InputKeyStrsList', ['_InstanceVariable', '_ClassVariable', '_AttributeKeyVariable']), ('LiargVariablesListKeyStr', ''), ('KwargVariablesSetTagStr', '_KwargVariablesDict'), ('DefaultOrderedDict', OrderedDict([('_AttributeKeyVariable', None)])), ('FunctionNameStr', 'setDefaultMutable')]), 'default_init': InspectDict([('DefaultIndexInt', 1), ('InputKeyStrsList', ['self', '_MakingMyFloat']), ('LiargVariablesListKeyStr', ''), ('KwargVariablesSetTagStr', ''), ('DefaultOrderedDict', OrderedDict([('_MakingMyFloat', {'PropertyDocStr': 'I am doing the thing here', 'PropertyInitVariable': 3.0, 'DefaultValueType': <type 'property'>})])), ('FunctionNameStr', 'default_init')]), 'getDo': InspectDict([('DefaultIndexInt', 1), ('InputKeyStrsList', ['_InstanceVariable', '_DoClassVariable']), ('LiargVariablesListKeyStr', ''), ('KwargVariablesSetTagStr', ''), ('DefaultOrderedDict', OrderedDict([('_DoClassVariable', None)])), ('FunctionNameStr', 'getDo')]), '__repr__': InspectDict([('DefaultIndexInt', 1), ('InputKeyStrsList', ['self']), ('LiargVariablesListKeyStr', ''), ('KwargVariablesSetTagStr', '_KwargVariablesDict'), ('DefaultOrderedDict', OrderedDict()), ('FunctionNameStr', '__repr__')]), 'setDone': InspectDict([('DefaultIndexInt', 1), ('InputKeyStrsList', ['_InstanceVariable', '_DoClassVariable']), ('LiargVariablesListKeyStr', ''), ('KwargVariablesSetTagStr', '_KwargVariablesDict'), ('DefaultOrderedDict', OrderedDict([('_DoClassVariable', None)])), ('FunctionNameStr', 'setDone')])}\", \n", 
                "  \"superDo_make\": \"<function superDo_make at 0x10a458410>\", \n", 
                "  \"DoMethodStr\": \"make\", \n", 
                "  \"propertize_delMakingMyFloat\": \"<function propertize_delMakingMyFloat at 0x10bf9cc80>\", \n", 
                "  \"DefaultSpecificKeyStrsList\": \"['MakingMyFloat']\", \n", 
                "  \"_MakingMyFloat\": \"3.0\", \n", 
                "  \"MroDoerClassesList\": \"[<class 'ShareYourSystem.Standards.Interfacers.Interfacer.InterfacerClass'>, <class 'ShareYourSystem.Standards.Interfacers.Printer.PrinterClass'>, <class 'MakerClass'>]\", \n", 
                "  \"InspectMethodDict\": \"MethodDict([('__init__', <unbound method MakerClass.superDefault_init>), ('__repr__', <unbound method MakerClass.__repr__>), ('_print', <unbound method MakerClass.superDo__print>), ('callAllMro', <unbound method MakerClass.callAllMro>), ('callDo', <unbound method MakerClass.callDo>), ('default_init', <unbound method MakerClass.default_init>), ('do__print', <unbound method MakerClass.do__print>), ('do_interface', <unbound method MakerClass.do_interface>), ('forcePrint', <unbound method MakerClass.forcePrint>), ('getClass', <unbound method MakerClass.getClass>), ('getDo', <unbound method MakerClass.getDo>), ('getDoing', <unbound method MakerClass.getDoing>), ('getDone', <unbound method MakerClass.getDone>), ('getReprStr', <unbound method MakerClass.getReprStr>), ('interface', <unbound method MakerClass.superDo_interface>), ('setDefault', <unbound method MakerClass.setDefault>), ('setDefaultMutable', <unbound method MakerClass.setDefaultMutable>), ('setDo', <unbound method MakerClass.setDo>), ('setDoing', <unbound method MakerClass.setDoing>), ('setDone', <unbound method MakerClass.setDone>), ('superDefault_init', <unbound method MakerClass.superDefault_init>), ('superDo__print', <unbound method MakerClass.superDo__print>), ('superDo_interface', <unbound method MakerClass.superDo_interface>), ('superDo_make', <function superDo_make at 0x10a458410>), ('make', <function superDo_make at 0x10a458410>)])\", \n", 
                "  \"DoingGetBool\": \"False\", \n", 
                "  \"Module\": \"<module '__builtin__' (built-in)>\", \n", 
                "  \"DefaultAttributeVariablesOrderedDict\": \"OrderedDict([('MakingMyFloat', {'PropertyDocStr': 'I am doing the thing here', 'PropertyInitVariable': 3.0, 'DefaultValueType': <type 'property'>})])\", \n", 
                "  \"propertize_setMakingMyFloat\": \"<function propertize_setMakingMyFloat at 0x10bf9ced8>\", \n", 
                "  \"MroClassesList\": \"(<class 'MakerClass'>, <class 'ShareYourSystem.Standards.Interfacers.Printer.PrinterClass'>, <class 'ShareYourSystem.Standards.Interfacers.Interfacer.InterfacerClass'>, <type 'object'>)\", \n", 
                "  \"MroClassesDict\": \"{'PrinterClass': <class 'ShareYourSystem.Standards.Interfacers.Printer.PrinterClass'>, 'InterfacerClass': <class 'ShareYourSystem.Standards.Interfacers.Interfacer.InterfacerClass'>, 'MakerClass': <class 'MakerClass'>, 'object': <type 'object'>}\", \n", 
                "  \"NameStr\": \"Maker\"\n", 
                "}\n", 
                "MyMaker.__dict__ before set is \n", 
                "\n", 
                "   /{ \n", 
                "   /  'DefaultInitBool' : True\n", 
                "   /  'PrintIdInt' : 4495470544\n", 
                "   /  'PrintingInstanceForceKeyStrsList' : []\n", 
                "   /  'PrintingInstanceSkipKeyStrsList' : []\n", 
                "   /}\n", 
                "MyMaker.__dict__ after set is \n", 
                "\n", 
                "   /{ \n", 
                "   /  'DefaultInitBool' : True\n", 
                "   /  'PrintIdInt' : 4495470544\n", 
                "   /  'PrintingInstanceForceKeyStrsList' : []\n", 
                "   /  'PrintingInstanceSkipKeyStrsList' : []\n", 
                "   /  '_MakingMyFloat' : 7.0\n", 
                "   /}\n", 
                "MyMaker before set is \n", 
                "< (MakerClass), 4495821648 >\n", 
                "   /{ \n", 
                "   /  '<Spe><Class>MakingMyFloat' : 3.0\n", 
                "   /}\n", 
                "MyMaker after set is \n", 
                "< (MakerClass), 4495821648 >\n", 
                "   /{ \n", 
                "   /  '<Spe><Class>MakingMyFloat' : 7.0\n", 
                "   /}\n"
              ]
            }
          ], 
          "collapsed": false, 
          "metadata": {
            "slideshow": {
              "slide_type": "-"
            }
          }
        }, 
        {
          "source": "\n<!---\nFrozenIsBool True\n-->\n\n##Example\n\nGoing back to the Doer cell when we invented a very minimalist Maker.\nWe now define its MakingMyFloat as a property that can be then defined as \na \"binding\" attribute thanks to the setMakingMyFloat method definition, \nthat will be linked to the fset attribute of the property object. ", 
          "cell_type": "markdown", 
          "prompt_number": 3, 
          "metadata": {
            "slideshow": {
              "slide_type": "subslide"
            }
          }
        }, 
        {
          "cell_type": "code", 
          "prompt_number": 4, 
          "language": "python", 
          "input": [
            "#ImportModules\n", 
            "import ShareYourSystem as SYS\n", 
            "\n", 
            "#Define\n", 
            "@SYS.PropertiserClass()\n", 
            "class MakerClass(object):\n", 
            "\n", 
            "    def default_init(self,\n", 
            "            _MakingMyFloat={\n", 
            "                            'DefaultValueType':property,\n", 
            "                            'PropertyInitVariable':3.,\n", 
            "                            'PropertyDocStr':'I am doing the thing here'\n", 
            "                            },\n", 
            "            _MakingMyList={\n", 
            "                            'DefaultValueType':property,\n", 
            "                            'PropertyInitVariable':[],\n", 
            "                            'PropertyDocStr':'I am doing the thing here'\n", 
            "                            },\n", 
            "            _MakingMyInt={'DefaultValueType':int},\n", 
            "            _MadeMyInt=0\n", 
            "        ):\n", 
            "        object.__init__(self)\n", 
            "\n", 
            "    #Definition a binding function\n", 
            "    def propertize_setMakingMyFloat(self,_SettingValueVariable):\n", 
            "\n", 
            "        #Print\n", 
            "        #print('I am going to make the job directly !')\n", 
            "\n", 
            "        #set the value of the \"hidden\" property variable\n", 
            "        self._MakingMyFloat=_SettingValueVariable\n", 
            "\n", 
            "        #Bind with MadeInt setting\n", 
            "        self.MadeMyInt=int(self._MakingMyFloat)\n", 
            "\n", 
            "    #Definition a binding function\n", 
            "    def propertize_setMakingMyList(self,_SettingValueVariable):\n", 
            "\n", 
            "        #set the value of the \"hidden\" property variable\n", 
            "        self._MakingMyList=_SettingValueVariable+['Hellllllo']\n", 
            "\n", 
            "\n", 
            "#Definition a default instance \n", 
            "DefaultMaker=MakerClass()\n", 
            "\n", 
            "#Definition a special instance\n", 
            "SpecialMaker=MakerClass(_MakingMyFloat=5,_MakingMyList=[4])\n", 
            "\n", 
            "#Definition the AttestedStr\n", 
            "print('\\n'.join(\n", 
            "    [\n", 
            "        'MakerClass.PropertizedDefaultTuplesList is '+SYS._str(\n", 
            "            MakerClass.PropertizedDefaultTuplesList),\n", 
            "        'What are you saying DefaultMaker ?',\n", 
            "        'DefaultMaker.__dict__ is '+str(DefaultMaker.__dict__),\n", 
            "        'DefaultMaker.MakingMyFloat is '+str(DefaultMaker.MakingMyFloat),\n", 
            "        'DefaultMaker.MakingMyList is '+str(DefaultMaker.MakingMyList),\n", 
            "        'DefaultMaker.MadeMyInt is '+str(DefaultMaker.MadeMyInt),\n", 
            "        'What are you saying SpecialMaker ?',\n", 
            "        'SpecialMaker.__dict__ is '+str(SpecialMaker.__dict__),\n", 
            "        'SpecialMaker.MakingMyFloat is '+str(SpecialMaker.MakingMyFloat),\n", 
            "        'SpecialMaker.MakingMyList is '+str(SpecialMaker.MakingMyList),\n", 
            "        'SpecialMaker.MadeMyInt is '+str(SpecialMaker.MadeMyInt),\n", 
            "    ]\n", 
            "    )\n", 
            ") \n", 
            "\n", 
            "#Print\n", 
            "\n"
          ], 
          "outputs": [
            {
              "output_type": "stream", 
              "stream": "stdout", 
              "text": [
                "MakerClass.PropertizedDefaultTuplesList is \n", 
                "   /[\n", 
                "   /  0 : \n", 
                "   /   /(\n", 
                "   /   /  0 : MakingMyFloat\n", 
                "   /   /  1 : <property object at 0x10c00a520>\n", 
                "   /   /)\n", 
                "   /  1 : \n", 
                "   /   /(\n", 
                "   /   /  0 : MakingMyList\n", 
                "   /   /  1 : <property object at 0x10c00a470>\n", 
                "   /   /)\n", 
                "   /]\n", 
                "What are you saying DefaultMaker ?\n", 
                "DefaultMaker.__dict__ is {'DefaultInitBool': True}\n", 
                "DefaultMaker.MakingMyFloat is 3.0\n", 
                "DefaultMaker.MakingMyList is []\n", 
                "DefaultMaker.MadeMyInt is 0\n", 
                "What are you saying SpecialMaker ?\n", 
                "SpecialMaker.__dict__ is {'DefaultInitBool': True, 'MadeMyInt': 5, '_MakingMyFloat': 5, '_MakingMyList': [4, 'Hellllllo']}\n", 
                "SpecialMaker.MakingMyFloat is 5\n", 
                "SpecialMaker.MakingMyList is [4, 'Hellllllo']\n", 
                "SpecialMaker.MadeMyInt is 5\n"
              ]
            }
          ], 
          "collapsed": false, 
          "metadata": {
            "slideshow": {
              "slide_type": null
            }
          }
        }, 
        {
          "source": "\n<!---\nFrozenIsBool True\n-->\n\n##Example\n\nNote that setting a propertize method in a derived class works also and overwrite the previous one. But we need to redefine the property. This will be automatic in the Classer.", 
          "cell_type": "markdown", 
          "prompt_number": 5, 
          "metadata": {
            "slideshow": {
              "slide_type": null
            }
          }
        }, 
        {
          "cell_type": "code", 
          "prompt_number": 6, 
          "language": "python", 
          "input": [
            "#ImportModules\n", 
            "import ShareYourSystem as SYS\n", 
            "\n", 
            "#Define\n", 
            "@SYS.PropertiserClass()\n", 
            "class MakerClass(object):\n", 
            "\n", 
            "    def default_init(self,\n", 
            "            _MakingMyFloat={\n", 
            "                            'DefaultValueType':property,\n", 
            "                            'PropertyInitVariable':3.,\n", 
            "                            'PropertyDocStr':'I am doing the thing here'\n", 
            "                            },\n", 
            "            _MakingMyList={\n", 
            "                            'DefaultValueType':property,\n", 
            "                            'PropertyInitVariable':[],\n", 
            "                            'PropertyDocStr':'I am doing the thing here'\n", 
            "                            },\n", 
            "            _MakingMyInt={'DefaultValueType':int},\n", 
            "            _MadeMyInt=0\n", 
            "        ):\n", 
            "        object.__init__(self)\n", 
            "\n", 
            "    def propertize_setMakingMyFloat(self,_SettingValueVariable):\n", 
            "\n", 
            "        #Print\n", 
            "        #print('I am going to make the job directly !')\n", 
            "\n", 
            "        #set the value of the \"hidden\" property variable\n", 
            "        self._MakingMyFloat=_SettingValueVariable\n", 
            "\n", 
            "        #Bind with MadeInt setting\n", 
            "        self.MadeMyInt=int(self._MakingMyFloat)\n", 
            "\n", 
            "    def propertize_setMakingMyList(self,_SettingValueVariable):\n", 
            "\n", 
            "        #set the value of the \"hidden\" property variable\n", 
            "        self._MakingMyList=_SettingValueVariable+['Hellllllo']\n", 
            "\n", 
            "\n", 
            "#Define\n", 
            "@SYS.PropertiserClass()\n", 
            "class BuilderClass(MakerClass):\n", 
            "\n", 
            "    def default_init(\n", 
            "                        self\n", 
            "                    ):\n", 
            "        SYS.MakerClass.__init__(self)\n", 
            "\n", 
            "    def propertize_setMakingMyList(self,_SettingValueVariable):\n", 
            "\n", 
            "        #call the base method\n", 
            "        MakerClass.propertize_setMakingMyList(self,_SettingValueVariable)\n", 
            "\n", 
            "        #set the value of the \"hidden\" property variable\n", 
            "        self._MakingMyList+=['Build en plus !']\n", 
            "\n", 
            "    #We need here to redefine\n", 
            "    MakingMyList=property(\n", 
            "            MakerClass.MakingMyList.fget,\n", 
            "            propertize_setMakingMyList,\n", 
            "            MakerClass.MakingMyList.fdel\n", 
            "        )\n", 
            "\n", 
            "#Definition a special instance\n", 
            "SpecialBuilder=BuilderClass(_MakingMyFloat=5,_MakingMyList=[4])\n", 
            "\n", 
            "#Definition the AttestedStr\n", 
            "print('\\n'.join(\n", 
            "    [\n", 
            "        'What are you saying SpecialBuilder ?',\n", 
            "        'SpecialBuilder.__dict__ is '+str(SpecialBuilder.__dict__),\n", 
            "        'SpecialBuilder.MakingMyFloat is '+str(SpecialBuilder.MakingMyFloat),\n", 
            "        'SpecialBuilder.MakingMyList is '+str(SpecialBuilder.MakingMyList),\n", 
            "        'SpecialBuilder.MadeMyInt is '+str(SpecialBuilder.MadeMyInt),\n", 
            "    ]\n", 
            "    )\n", 
            ") \n", 
            "\n", 
            "#Print\n", 
            "\n"
          ], 
          "outputs": [
            {
              "output_type": "stream", 
              "stream": "stdout", 
              "text": [
                "What are you saying SpecialBuilder ?\n", 
                "SpecialBuilder.__dict__ is {'DefaultInitBool': True}\n", 
                "SpecialBuilder.MakingMyFloat is 3.0\n", 
                "SpecialBuilder.MakingMyList is []\n", 
                "SpecialBuilder.MadeMyInt is 0\n"
              ]
            }
          ], 
          "collapsed": false, 
          "metadata": {
            "slideshow": {
              "slide_type": null
            }
          }
        }, 
        {
          "source": "\n<!---\nFrozenIsBool True\n-->\n\n##Example\n\nNote that there is an option in the property to define binding shape attributes for an array.", 
          "cell_type": "markdown", 
          "prompt_number": 7, 
          "metadata": {
            "slideshow": {
              "slide_type": null
            }
          }
        }, 
        {
          "cell_type": "code", 
          "prompt_number": 8, 
          "language": "python", 
          "input": [
            "#ImportModules\n", 
            "import ShareYourSystem as SYS\n", 
            "\n", 
            "#Define\n", 
            "@SYS.PropertiserClass()\n", 
            "class MakerClass(object):\n", 
            "\n", 
            "    def default_init(self,\n", 
            "            _MakingMyList={\n", 
            "                            'DefaultValueType':property,\n", 
            "                            'PropertyInitVariable':None,\n", 
            "                            'PropertyDocStr':'I am doing the thing here',\n", 
            "                            'ShapeKeyStrsList':['MakingMyInt']\n", 
            "                            },\n", 
            "            _MakingMyInt=3,\n", 
            "            _MadeMyInt=0\n", 
            "        ):\n", 
            "        object.__init__(self)\n", 
            "\n", 
            "\n", 
            "#Define\n", 
            "MyMaker=MakerClass()\n", 
            "\n", 
            "#Set and this will bind the value of MakingMyInt \n", 
            "MyMaker.MakingMyList=[3,4]\n", 
            "\n", 
            "#print\n", 
            "print('MyMaker.__dict__ is ')\n", 
            "print(SYS.indent(MyMaker))\n", 
            "print(MyMaker.__class__.DefaultAttributeVariablesOrderedDict['MakingMyList'])\n", 
            "\n", 
            "\n"
          ], 
          "outputs": [
            {
              "output_type": "stream", 
              "stream": "stdout", 
              "text": [
                "MyMaker.__dict__ is \n", 
                "{\n", 
                "  \"DefaultInitBool\": \"True\", \n", 
                "  \"_MakingMyList\": \"[3, 4]\", \n", 
                "  \"MakingMyInt\": \"2\"\n", 
                "}\n", 
                "{'ShapeKeyStrsList': ['MakingMyInt'], 'PropertyDocStr': 'I am doing the thing here', 'PropertyInitVariable': None, 'DefaultValueType': <type 'property'>}\n"
              ]
            }
          ], 
          "collapsed": false, 
          "metadata": {
            "slideshow": {
              "slide_type": null
            }
          }
        }, 
        {
          "source": "\n<!---\nFrozenIsBool True\n-->\n\n##Example\n\nIn the opposite way", 
          "cell_type": "markdown", 
          "prompt_number": 9, 
          "metadata": {
            "slideshow": {
              "slide_type": null
            }
          }
        }, 
        {
          "cell_type": "code", 
          "prompt_number": 10, 
          "language": "python", 
          "input": [
            "#ImportModules\n", 
            "import ShareYourSystem as SYS\n", 
            "\n", 
            "#Define\n", 
            "@SYS.PropertiserClass()\n", 
            "class MakerClass(object):\n", 
            "\n", 
            "    def default_init(self,\n", 
            "            _MakingMyList=None,\n", 
            "            _MakingMyInt={\n", 
            "                            'DefaultValueType':property,\n", 
            "                            'PropertyInitVariable':None,\n", 
            "                            'PropertyDocStr':'I am doing the thing here',\n", 
            "                            'ShapeDict':{\n", 
            "                                'MakingMyList':0\n", 
            "                            }\n", 
            "                        },\n", 
            "            _MadeMyInt=0\n", 
            "        ):\n", 
            "        object.__init__(self)\n", 
            "\n", 
            "\n", 
            "#Define\n", 
            "MyMaker=MakerClass()\n", 
            "\n", 
            "#Set and this will bind the value of MakingMyInt \n", 
            "MyMaker.MakingMyInt=2\n", 
            "\n", 
            "#print\n", 
            "print('MyMaker.__dict__ is ')\n", 
            "print(SYS.indent(MyMaker))\n", 
            "\n", 
            "\n"
          ], 
          "outputs": [
            {
              "output_type": "stream", 
              "stream": "stdout", 
              "text": [
                "MyMaker.__dict__ is \n", 
                "{\n", 
                "  \"DefaultInitBool\": \"True\", \n", 
                "  \"_MakingMyInt\": \"2\"\n", 
                "}\n"
              ]
            }
          ], 
          "collapsed": false, 
          "metadata": {
            "slideshow": {
              "slide_type": null
            }
          }
        }, 
        {
          "source": "\n<!--\nFrozenIsBool False\n-->\n\n##Code\n\n----\n\n<ClassDocStr>\n\n<small>\nView the Propertiser sources on <a href=\"https://github.com/Ledoux/ShareYourSystem/tree/master/Pythonlogy/ShareYourSystem/Standards/Classors/Propertiser\" target=\"_blank\">Github</a>\n</small>\n\n----\n\n```python\n# -*- coding: utf-8 -*-\n\"\"\"\n\n\n<DefineSource>\n@Date : Fri Nov 14 13:20:38 2014 \\n\n@Author : Erwan Ledoux \\n\\n\n</DefineSource>\n\n\nThe Propertiser is an augmented Defaultor because it will set defaults attributes\npossibly in properties for the new-style decorated classes. This can set objects\nwith high controlling features thanks to the binding \n\n\"\"\"\n\n#<DefineAugmentation>\nimport ShareYourSystem as SYS\nBaseModuleStr=\"ShareYourSystem.Standards.Classors.Doer\"\nDecorationModuleStr=BaseModuleStr\nSYS.setSubModule(globals())\n#</DefineAugmentation>\n\n#<ImportSpecificModules>\nimport inspect\nimport collections\n#</ImportSpecificModules>\n\n#<DefineLocals>\nPropertyGetStr=\"_\"\nPropertyRepresentationStr=\"p:\"\nPropertyPrefixStr=\"propertize_\"\n#</DefineLocals>\n\n#<DefineFunctions>\ndef getPropertizedTupleWithItemTupleAndClass(_ItemTuple,_Class):\n\n\t#Debug\n\t'''\n\tprint('Propertiser l 39')\n\tprint('_ItemTuple is ')\n\tprint(_ItemTuple)\n\tprint('')\n\t'''\n\n\t#Get the KeyStr, and the ValueVariable that should be a dict\n\tPropertizedKeyStr=_ItemTuple[0]\n\tPropertizedValueVariable=_ItemTuple[1]\n\tPropertizedHideKeyStr=PropertyGetStr+PropertizedKeyStr\n\n\t#Check that this is a property yet or not\n\tif type(PropertizedValueVariable)!=property:\n\n\t\t#Init\n\t\tPropertizedValueVariable=property()\n\n\t\t#/###################/#\n\t\t# Prepare the get property\n\t\t#\n\n\t\t#Definition the get function\n\t\tPropertizedGetFunctionStr=PropertyPrefixStr+'get'+PropertizedKeyStr\n\n\t\t#Check\n\t\tif hasattr(_Class,PropertizedGetFunctionStr):\n\n\t\t\t#Check for an already defined method\n\t\t\tPropertizedGetFunction=getattr(_Class,PropertizedGetFunctionStr)\n\n\t\telse:\n\n\t\t\t#Definition a default one\n\t\t\tdef PropertizedGetFunction(_InstanceVariable):\n\n\t\t\t\t\"\"\"\n\t\t\t\t#/#################/#\n\t\t\t\t# return the one hidden in the dict\n\t\t\t\t# else return the one in the class\n\n\t\t\t\t#Check\n\t\t\t\tif hasattr(_InstanceVariable,PropertizedHideKeyStr):\n\n\t\t\t\t\t#return\n\t\t\t\t\treturn getattr(_InstanceVariable,PropertizedHideKeyStr)\n\t\t\t\telse:\n\n\t\t\t\t\t#return\n\t\t\t\t\treturn getattr(_InstanceVariable.__class__,PropertizedKeyStr)\n\t\t\t\t\"\"\"\n\n\t\t\t\t#/#################/#\n\t\t\t\t# return the one hidden in the dict\n\t\t\t\t# else return None\n\n\t\t\t\tif hasattr(_InstanceVariable,PropertizedHideKeyStr):\n\t\t\n\t\t\t\t\t#return\n\t\t\t\t\treturn getattr(_InstanceVariable,PropertizedHideKeyStr)\n\n\t\t\t\telse:\n\n\t\t\t\t\treturn None\n\n\t\t\tPropertizedGetFunction.__name__=PropertizedGetFunctionStr\n\n\t\t#/###################/#\n\t\t# Prepare the set property\n\t\t#\n\n\t\t#Definition the set function\n\t\tPropertizedSetFunctionStr=PropertyPrefixStr+'set'+PropertizedKeyStr\n\n\t\t#Check\n\t\tif hasattr(_Class,PropertizedSetFunctionStr):\n\t\t\t\n\t\t\t#/######################/#\n\t\t\t# Case where there is already something\n\t\t\t#\n\n\t\t\t#Check for an already defined method\n\t\t\tPropertizedSetFunction=getattr(_Class,PropertizedSetFunctionStr)\n\n\t\telse: \n\n\t\t\t#/######################/#\n\t\t\t# Default case\n\t\t\t#\n\n\t\t\t#Definition a default one\n\t\t\tdef PropertizedSetFunction(_InstanceVariable,_SettingValueVariable):\n\t\t\t\t_InstanceVariable.__setattr__(PropertizedHideKeyStr,_SettingValueVariable)\n\t\t\tPropertizedSetFunction.__name__=PropertizedSetFunctionStr\n\n\t\t#/######################/#\n\t\t# Case where we bind also the setting of the shaping atttributes\n\t\t#\n\n\t\t#Check\n\t\tif 'ShapeKeyStrsList' in _ItemTuple[1]:\n\n\t\t\t#get\n\t\t\tPropertizedShapeKeyStrsList=_ItemTuple[1]['ShapeKeyStrsList']\n\n\t\t\t#Debug\n\t\t\t'''\n\t\t\tprint('Propertiser l 111')\n\t\t\tprint('There is a ShapeKeyStrsList')\n\t\t\tprint('PropertizedShapeKeyStrsList is ')\n\t\t\tprint(PropertizedShapeKeyStrsList)\n\t\t\tprint('')\n\t\t\t'''\n\n\t\t\t#import\n\t\t\timport numpy as np\n\n\t\t\tdef PropertizedShapeSetFunction(_InstanceVariable,_SettingValueVariable):\n\n\t\t\t\t#call the first\n\t\t\t\tPropertizedSetFunction(_InstanceVariable,_SettingValueVariable)\n\n\t\t\t\t#get the shape\n\t\t\t\tPropertizedShapeIntsList=np.shape(\n\t\t\t\t\tgetattr(\n\t\t\t\t\t\t\t_InstanceVariable,\n\t\t\t\t\t\t\tPropertizedHideKeyStr\n\t\t\t\t\t\t)\n\t\t\t\t)\n\n\t\t\t\t#Debug\n\t\t\t\t'''\n\t\t\t\tprint('Propertiser l 137')\n\t\t\t\tprint('We shape here')\n\t\t\t\tprint('PropertizedHideKeyStr is')\n\t\t\t\tprint(PropertizedHideKeyStr)\n\t\t\t\tprint('PropertizedShapeKeyStrsList is ')\n\t\t\t\tprint(PropertizedShapeKeyStrsList)\n\t\t\t\tprint('PropertizedShapeIntsList is ')\n\t\t\t\tprint(PropertizedShapeIntsList)\n\t\t\t\tprint('')\n\t\t\t\t'''\n\t\t\t\t\n\t\t\t\t#map a set\n\t\t\t\tmap(\n\t\t\t\t\t\tlambda __PropertizedShapeKeyStr,__PropertizedShapeInt:\n\t\t\t\t\t\tsetattr(\n\t\t\t\t\t\t\t_InstanceVariable,\n\t\t\t\t\t\t\t__PropertizedShapeKeyStr,\n\t\t\t\t\t\t\t__PropertizedShapeInt\n\t\t\t\t\t\t),\n\t\t\t\t\t\tPropertizedShapeKeyStrsList,\n\t\t\t\t\t\tPropertizedShapeIntsList\n\t\t\t\t\t)\n\t\t\t\n\t\t#/###################/#\n\t\t# Prepare the del property\n\t\t#\n\n\t\t#Definition the del function\n\t\tPropertizedDelFunctionStr=PropertyPrefixStr+'del'+PropertizedKeyStr\n\n\t\t#Check\n\t\tif hasattr(_Class,PropertizedDelFunctionStr):\n\n\t\t\t#Check for an already defined method\n\t\t\tPropertizedDelFunction=getattr(_Class,PropertizedDelFunctionStr)\n\n\t\telse:\n\n\t\t\t#Definition a default one\n\t\t\tdef PropertizedDelFunction(_InstanceVariable):\n\t\t\t\t_InstanceVariable.__delattr__(PropertizedHideKeyStr)\n\t\t\tPropertizedDelFunction.__name__=PropertizedDelFunctionStr\n\n\t\t#Debug\n\t\t'''\n\t\tprint('Propertizer l 109')\n\t\tprint('PropertizedDetFunction is ')\n\t\tprint(PropertizedDetFunction)\n\t\tprint('')\n\t\t'''\n\t\t\n\t\t#/###################/#\n\t\t# Now set in the class\n\t\t#\n\n\t\tif 'ShapeKeyStrsList' in _ItemTuple[1]:\n\t\t\tPropertizedBindSetFunction=PropertizedShapeSetFunction\n\t\telse:\n\t\t\tPropertizedBindSetFunction=PropertizedSetFunction\n\n\t\t#Define in the class...\n\t\tmap(\n\t\t\tlambda __PropertizedFunction:\n\t\t\tsetattr(\n\t\t\t\t_Class,\n\t\t\t\t__PropertizedFunction.__name__,\n\t\t\t\t__PropertizedFunction\n\t\t\t),\n\t\t\t[\n\t\t\t\tPropertizedGetFunction,\n\t\t\t\tPropertizedBindSetFunction,\n\t\t\t\tPropertizedDelFunction\n\t\t\t]\n\t\t)\n\n\t\t#Define in the special dict...\n\t\tmap(\n\t\t\tlambda __Function:\n\t\t\t_Class.PropertyMethodsDict.__setitem__(\n\t\t\t\t__Function.__name__,\n\t\t\t\t__Function\n\t\t\t),\n\t\t\t[\n\t\t\t\tPropertizedGetFunction,\n\t\t\t\tPropertizedBindSetFunction,\n\t\t\t\tPropertizedDelFunction\n\t\t\t]\n\t\t)\n\n\t\t#Redefine\n\t\tPropertizedValueVariable=property(\n\t\t\t\t\t\t\tPropertizedGetFunction,\n\t\t\t\t\t\t\tPropertizedBindSetFunction,\n\t\t\t\t\t\t\tPropertizedDelFunction,\n\t\t\t\t\t\t\t_ItemTuple[1]['PropertyDocStr'\n\t\t\t\t\t\t\t]if 'PropertyDocStr' in _ItemTuple[1]\n\t\t\t\t\t\t\telse \"This is here a property but with no more details...\"\n\t\t\t\t\t\t)\n\n\t#Definition the property\n\treturn (\n\t\t\t\tPropertizedKeyStr,\n\t\t\t\tPropertizedValueVariable\n\t\t\t)\n\ndef getPropertizedVariableWithItemTuple(_ItemTuple):\n\n\t#Maybe it is already defined\n\tif 'PropertyInitVariable' in _ItemTuple[1]:\n\t\treturn _ItemTuple[1]['PropertyInitVariable']\n\telse:\n\n\t\t#Return the default one associated with the type\n\t\treturn SYS.getTypeClassWithTypeStr(SYS.getWordStrsListWithStr(_ItemTuple[0])[-1])\n\n#</DefineFunctions>\n\n#<Define_Class>\n@DecorationClass()\nclass PropertiserClass(BaseClass):\n\n\tdef default_init(self,\n\t\t\t\t\t\t**_KwargVariablesDict\n\t\t\t\t\t):\n\n\t\t#Call the parent init method\n\t\tBaseClass.__init__(self,**_KwargVariablesDict)\n\n\tdef __call__(self,_Class):\n\n\t\t#debug\n\t\t'''\n\t\tprint('Propetizer l.179 __call__ method')\n\t\tprint('_Class is ',_Class)\n\t\tprint('')\n\t\t'''\n\t\t\n\t\t#Call the parent init method\n\t\tBaseClass.__call__(self,_Class)\n\n\t\t#Debug\n\t\t'''\n\t\tprint('l.146 : We are going to propertize')\n\t\tprint('')\n\t\t'''\n\t\t\n\t\t#propertize\n\t\tself.propertize()\n\n\t\t#Debug\n\t\t'''\n\t\tprint('l.153 : propertize is done')\n\t\tprint('')\n\t\t'''\n\n\t\t#Return \n\t\treturn _Class\n\n\tdef do_propertize(self):\n\n\t\t#Alias\n\t\tPropertizedClass=self.DoClass\n\n\t\t#Debug\n\t\t'''\n\t\tprint('PropertizedClass is ',PropertizedClass)\n\t\tprint('')\n\t\t'''\n\t\t\n\t\t#init\n\t\tPropertizedClass.PropertyMethodsDict={}\n\n\t\t#Add to the KeyStrsList\n\t\tPropertizedClass.KeyStrsList+=[\n\t\t\t\t\t\t\t\t\t\t\"PropertyMethodsDict\"\n\t\t\t\t\t\t\t\t\t]\n\n\t\t#debug\n\t\t'''\n\t\tprint('Propertiser l.47 default method')\n\t\tprint('Class is ',Class)\n\t\tprint('')\n\t\t'''\n\n\t\t#/###################/#\n\t\t# Check for new properties in the default dict\n\t\t#\n\n\t\t#Check\n\t\tif hasattr(PropertizedClass,\"DefaultAttributeVariablesOrderedDict\"):\n\n\t\t\t#debug\n\t\t\t'''\n\t\t\tprint('PropertizedClass.DefaultAttributeVariablesOrderedDict is',PropertizedClass.DefaultAttributeVariablesOrderedDict)\n\t\t\tprint('')\n\t\t\t'''\n\n\t\t\t#set the PropertizedDefaultTuplesList\n\t\t\tPropertizedClass.PropertizedDefaultTuplesList=SYS._filter(\n\t\t\t\tlambda __DefaultSetTuple:\n\t\t\t\ttype(__DefaultSetTuple[1]\n\t\t\t\t\t)==property or (\n\t\t\t\t\thasattr(__DefaultSetTuple[1],'items'\n\t\t\t\t\t\t) and 'DefaultValueType' in __DefaultSetTuple[1\n\t\t\t\t\t] and __DefaultSetTuple[1\n\t\t\t\t\t]['DefaultValueType']==property),\n\t\t\t\tPropertizedClass.DefaultAttributeVariablesOrderedDict.items()\n\t\t\t)\n\n\t\t\t#debug\n\t\t\t'''\n\t\t\tprint('Propertiser l.266')\n\t\t\tprint('Before set PropertizedClass.PropertizedDefaultTuplesList is ',PropertizedClass.PropertizedDefaultTuplesList)\n\t\t\tprint('')\n\t\t\t'''\n\t\t\t\n\t\t\t#set at the level of the class the PropertyGetStr+KeyStr\n\t\t\tmap(\t\n\t\t\t\t\tlambda __PropertizedDefaultTuple:\n\t\t\t\t\tsetattr(\n\t\t\t\t\t\t\t\tPropertizedClass,\n\t\t\t\t\t\t\t\tPropertyGetStr+__PropertizedDefaultTuple[0],\n\t\t\t\t\t\t\t\tgetPropertizedVariableWithItemTuple(__PropertizedDefaultTuple)\n\t\t\t\t\t\t\t),\n\t\t\t\t\tPropertizedClass.PropertizedDefaultTuplesList\n\t\t\t\t)\n\n\t\t\t#set the PropertizedTuple for each at the level of the class\n\t\t\tPropertizedClass.PropertizedDefaultTuplesList=map(\n\t\t\t\t\tlambda __PropertizedDefaultTuple:\n\t\t\t\t\tgetPropertizedTupleWithItemTupleAndClass(\n\t\t\t\t\t\t__PropertizedDefaultTuple,\n\t\t\t\t\t\tPropertizedClass\n\t\t\t\t\t),\n\t\t\t\t\tPropertizedClass.PropertizedDefaultTuplesList\n\t\t\t\t)\n\n\t\t\t#debug\n\t\t\t'''\n\t\t\tprint('Propertiser l 293')\n\t\t\tprint('After set PropertizedClass.PropertizedDefaultTuplesList is ',\n\t\t\t\tPropertizedClass.PropertizedDefaultTuplesList)\n\t\t\tprint('')\n\t\t\t'''\n\t\t\t\n\t\t\t#Reset at the level of the class the properties\n\t\t\tmap(\t\n\t\t\t\t\tlambda __PropertizedDefaultTuple:\n\t\t\t\t\tsetattr(\n\t\t\t\t\t\t\t\tPropertizedClass,\n\t\t\t\t\t\t\t\t*__PropertizedDefaultTuple\n\t\t\t\t\t\t\t),\n\t\t\t\t\tPropertizedClass.PropertizedDefaultTuplesList\n\t\t\t\t)\n\n\t\t\t#Check\n\t\t\tif hasattr(PropertizedClass,'PrintingClassSkipKeyStrsList'):\n\n\t\t\t\t#map append in  the KeyStrsList\n\t\t\t\tmap(\n\t\t\t\t\t\tlambda __PropertizedDefaultTuple:\n\t\t\t\t\t\tPropertizedClass.PrintingClassSkipKeyStrsList.extend(\n\t\t\t\t\t\t\t[\n\t\t\t\t\t\t\t\t#__PropertizedDefaultTuple[0],\n\t\t\t\t\t\t\t\tPropertyGetStr+__PropertizedDefaultTuple[0]\n\t\t\t\t\t\t\t]\n\t\t\t\t\t\t),\n\t\t\t\t\t\tPropertizedClass.PropertizedDefaultTuplesList\n\t\t\t\t\t)\n\t\t\t\n\t\t\t#Add to the KeyStrsList\n\t\t\tPropertizedClass.KeyStrsList+=[\n\t\t\t\t\t\t\t\t\t\t\"PropertizedDefaultTuplesList\"\n\t\t\t\t\t\t\t\t\t]\n\n#</Define_Class>\n\n\n\n\n```\n\n", 
          "cell_type": "markdown", 
          "prompt_number": 11, 
          "metadata": {
            "slideshow": {
              "slide_type": null
            }
          }
        }
      ]
    }
  ], 
  "metadata": {
    "name": "", 
    "signature": ""
  }, 
  "nbformat_minor": 0
}