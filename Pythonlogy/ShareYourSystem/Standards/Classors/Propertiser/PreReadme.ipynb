{
  "nbformat": 3, 
  "worksheets": [
    {
      "cells": [
        {
          "source": "\n<!--\nFrozenIsBool False\n-->\n\n#Propertiser\n\n##Doc\n----\n\n\n> \n> The Propertiser is an augmented Defaultor because it will set defaults attributes\n> possibly in properties for the new-style decorated classes. This can set objects\n> with high controlling features thanks to the binding \n> \n> \n\n----\n\n<small>\nView the Propertiser notebook on [NbViewer](http://nbviewer.ipython.org/url/shareyoursystem.ouvaton.org/Propertiser.ipynb)\n</small>\n\n", 
          "cell_type": "markdown", 
          "prompt_number": 0, 
          "metadata": {
            "slideshow": {
              "slide_type": "slide"
            }
          }
        }, 
        {
          "source": "\n<!--\nFrozenIsBool False\n-->\n\n##Code\n\n----\n\n<ClassDocStr>\n\n----\n\n```python\n# -*- coding: utf-8 -*-\n\"\"\"\n\n\n<DefineSource>\n@Date : Fri Nov 14 13:20:38 2014 \\n\n@Author : Erwan Ledoux \\n\\n\n</DefineSource>\n\n\nThe Propertiser is an augmented Defaultor because it will set defaults attributes\npossibly in properties for the new-style decorated classes. This can set objects\nwith high controlling features thanks to the binding \n\n\"\"\"\n\n#<DefineAugmentation>\nimport ShareYourSystem as SYS\nBaseModuleStr=\"ShareYourSystem.Standards.Classors.Deriver\"\nDecorationModuleStr=BaseModuleStr\nSYS.setSubModule(globals())\n#</DefineAugmentation>\n\n#<ImportSpecificModules>\nimport inspect\nimport collections\n\nfrom ShareYourSystem.Standards.Objects import Initiator\n#</ImportSpecificModules>\n\n#<DefineLocals>\nPropertizingGetStr=\"_\"\nPropertizingRepresentationStr=\"p:\"\n#</DefineLocals>\n\n#<DefineFunctions>\ndef getPropertizedTupleWithItemTupleAndClass(_ItemTuple,_Class):\n\n\t#Get the KeyStr, and the ValueVariable that should be a dict\n\tPropertizedKeyStr=_ItemTuple[0]\n\tPropertizedValueVariable=_ItemTuple[1]\n\tPropertizedHideKeyStr=PropertizingGetStr+PropertizedKeyStr\n\n\t#Check that this is a property yet or not\n\tif type(PropertizedValueVariable)!=property:\n\n\t\t#Init\n\t\tPropertizedValueVariable=property()\n\n\t\t#Definition the get function\n\t\tPropertizedGetFunctionStr='get'+PropertizedKeyStr\n\t\tif hasattr(_Class,PropertizedGetFunctionStr):\n\n\t\t\t#Check for an already defined method\n\t\t\tPropertizedGetFunction=getattr(_Class,PropertizedGetFunctionStr)\n\n\t\telse:\n\n\t\t\t#Definition a default one\n\t\t\tdef PropertizedGetFunction(self):\n\t\t\t\treturn getattr(self,PropertizedHideKeyStr)\n\t\t\tPropertizedGetFunction.__name__=PropertizedGetFunctionStr\n\n\t\t#Definition the set function\n\t\tPropertizedSetFunctionStr='set'+PropertizedKeyStr\n\n\t\t#Check\n\t\tif hasattr(_Class,PropertizedSetFunctionStr):\n\t\t\t\n\t\t\t#Check for an already defined method\n\t\t\tPropertizedSetFunction=getattr(_Class,PropertizedSetFunctionStr)\n\t\telse:\n\n\t\t\t#Definition a default one\n\t\t\tdef PropertizedSetFunction(self,_SettingValueVariable):\n\t\t\t\tself.__setattr__(PropertizedHideKeyStr,_SettingValueVariable)\n\t\t\tPropertizedSetFunction.__name__='set'+PropertizedKeyStr\n\n\n\t\t#Definition the del function\n\t\tPropertizedDelFunctionStr='del'+PropertizedKeyStr\n\t\tif hasattr(_Class,PropertizedDelFunctionStr):\n\n\t\t\t#Check for an already defined method\n\t\t\tPropertizedDelFunction=getattr(_Class,PropertizedDelFunctionStr)\n\n\t\telse:\n\n\t\t\t#Definition a default one\n\t\t\tdef PropertizedDelFunction(self):\n\t\t\t\tself.__delattr__(PropertizedHideKeyStr)\n\t\t\tPropertizedDelFunction.__name__='del'+PropertizedKeyStr\n\n\t\t#Redefine\n\t\tPropertizedValueVariable=property(\n\t\t\t\t\t\t\tPropertizedGetFunction,\n\t\t\t\t\t\t\tPropertizedSetFunction,\n\t\t\t\t\t\t\tPropertizedDelFunction,\n\t\t\t\t\t\t\t_ItemTuple[1]['PropertyDocStr'\n\t\t\t\t\t\t\t]if 'PropertyDocStr' in _ItemTuple[1]\n\t\t\t\t\t\t\telse \"This is here a property but with no more details...\"\n\t\t\t\t\t\t)\n\n\t#Definition the property\n\treturn (\n\t\t\t\tPropertizedKeyStr,\n\t\t\t\tPropertizedValueVariable\n\t\t\t)\n\ndef getPropertizedVariableWithItemTuple(_ItemTuple):\n\n\t#Maybe it is already defined\n\tif 'PropertyInitVariable' in _ItemTuple[1]:\n\t\treturn _ItemTuple[1]['PropertyInitVariable']\n\telse:\n\n\t\t#Return the default one associated with the type\n\t\treturn SYS.getTypeClassWithTypeStr(SYS.getWordStrsListWithStr(_ItemTuple[0])[-1])\n\n#</DefineFunctions>\n\n#<Define_Class>\n@DecorationClass()\nclass PropertiserClass(BaseClass):\n\n\tdef default_init(self,\n\t\t\t\t\t\t**_KwargVariablesDict\n\t\t\t\t\t):\n\n\t\t#Call the parent init method\n\t\tBaseClass.__init__(self,**_KwargVariablesDict)\n\n\tdef __call__(self,_Class):\n\n\t\t#debug\n\t\t'''\n\t\tprint('Defaultor l.31 __call__ method')\n\t\tprint('_Class is ',_Class)\n\t\tprint('')\n\t\t'''\n\n\t\t#Call the parent init method\n\t\tBaseClass.__call__(self,_Class)\n\n\t\t#Debug\n\t\t'''\n\t\tprint('l.146 : We are going to propertize')\n\t\tprint('')\n\t\t'''\n\t\t\n\t\t#propertize\n\t\tself.propertize()\n\n\t\t#Debug\n\t\t'''\n\t\tprint('l.153 : propertize is done')\n\t\tprint('')\n\t\t'''\n\n\t\t#Return \n\t\treturn _Class\n\n\tdef do_propertize(self):\n\n\t\t#Alias\n\t\tPropertizedClass=self.DoClass\n\n\t\t#Debug\n\t\t'''\n\t\tprint('PropertizedClass is ',PropertizedClass)\n\t\tprint('')\n\t\t'''\n\t\t\n\t\t#debug\n\t\t'''\n\t\tprint('Propertiser l.47 default method')\n\t\tprint('Class is ',Class)\n\t\tprint('')\n\t\t'''\n\n\t\t#Check\n\t\tif hasattr(PropertizedClass,\"DefaultAttributeVariablesOrderedDict\"):\n\n\t\t\t#debug\n\t\t\t'''\n\t\t\tprint('PropertizedClass.DefaultAttributeVariablesOrderedDict is',PropertizedClass.DefaultAttributeVariablesOrderedDict)\n\t\t\tprint('')\n\t\t\t'''\n\n\t\t\t#set the PropertizedDefaultTuplesList\n\t\t\tPropertizedClass.PropertizedDefaultTuplesList=SYS._filter(\n\t\t\t\tlambda __DefaultSetTuple:\n\t\t\t\ttype(__DefaultSetTuple[1]\n\t\t\t\t\t)==property or (\n\t\t\t\t\thasattr(__DefaultSetTuple[1],'items'\n\t\t\t\t\t\t) and 'DefaultValueType' in __DefaultSetTuple[1\n\t\t\t\t\t] and __DefaultSetTuple[1\n\t\t\t\t\t]['DefaultValueType']==property),\n\t\t\t\tPropertizedClass.DefaultAttributeVariablesOrderedDict.items()\n\t\t\t)\n\n\t\t\t#debug\n\t\t\t'''\n\t\t\tprint('Before set PropertizedClass.PropertizedDefaultTuplesList is ',PropertizedClass.PropertizedDefaultTuplesList)\n\t\t\tprint('')\n\t\t\t'''\n\n\t\t\t#set at the level of the class the PropertizingGetStr+KeyStr\n\t\t\tmap(\t\n\t\t\t\t\tlambda __PropertizedDefaultTuple:\n\t\t\t\t\tsetattr(\n\t\t\t\t\t\t\t\tPropertizedClass,\n\t\t\t\t\t\t\t\tPropertizingGetStr+__PropertizedDefaultTuple[0],\n\t\t\t\t\t\t\t\tgetPropertizedVariableWithItemTuple(__PropertizedDefaultTuple)\n\t\t\t\t\t\t\t),\n\t\t\t\t\tPropertizedClass.PropertizedDefaultTuplesList\n\t\t\t\t)\n\n\t\t\t#set the PropertizedTuple for each at the level of the class\n\t\t\tPropertizedClass.PropertizedDefaultTuplesList=map(\n\t\t\t\t\tlambda __PropertizedDefaultTuple:\n\t\t\t\t\tgetPropertizedTupleWithItemTupleAndClass(\n\t\t\t\t\t\t__PropertizedDefaultTuple,\n\t\t\t\t\t\tPropertizedClass\n\t\t\t\t\t),\n\t\t\t\t\tPropertizedClass.PropertizedDefaultTuplesList\n\t\t\t\t)\n\n\t\t\t#debug\n\t\t\t'''\n\t\t\tprint('After set PropertizedClass.PropertizedDefaultTuplesList is ',PropertizedClass.PropertizedDefaultTuplesList)\n\t\t\tprint('')\n\t\t\t'''\n\t\t\t\n\t\t\t#Reset at the level of the class the properties\n\t\t\tmap(\t\n\t\t\t\t\tlambda __PropertizedDefaultTuple:\n\t\t\t\t\tsetattr(\n\t\t\t\t\t\t\t\tPropertizedClass,\n\t\t\t\t\t\t\t\t*__PropertizedDefaultTuple\n\t\t\t\t\t\t\t),\n\t\t\t\t\tPropertizedClass.PropertizedDefaultTuplesList\n\t\t\t\t)\n\n\t\t\t\n\n\t\t\t#Add to the KeyStrsList\n\t\t\tPropertizedClass.KeyStrsList+=[\n\t\t\t\t\t\t\t\t\t\t\"PropertizedDefaultTuplesList\"\n\t\t\t\t\t\t\t\t\t]\n\n\t\t\n\n\n#</Define_Class>\n\n\n\n\n```\n\n<small>\nView the Propertiser sources on <a href=\"https://github.com/Ledoux/ShareYourSystem/tree/master/Pythonlogy/ShareYourSystem/Classors/Propertiser\" target=\"_blank\">Github</a>\n</small>\n\n", 
          "cell_type": "markdown", 
          "prompt_number": 1, 
          "metadata": {
            "slideshow": {
              "slide_type": "subslide"
            }
          }
        }, 
        {
          "source": "\n<!---\nFrozenIsBool True\n-->\n\n##Example\n\nGoing back to the Doer cell when we invented a very minimalist Maker.\nWe now define its MakingMyFloat as a property that can be then defined as \na \"binding\" attribute thanks to the setMakingMyFloat method definition, \nthat will be linked to the fset attribute of the property object. ", 
          "cell_type": "markdown", 
          "prompt_number": 2, 
          "metadata": {
            "slideshow": {
              "slide_type": "subslide"
            }
          }
        }, 
        {
          "cell_type": "code", 
          "prompt_number": 3, 
          "language": "python", 
          "input": [
            "#ImportModules\n", 
            "import ShareYourSystem as SYS\n", 
            "from ShareYourSystem.Standards.Classors import Propertiser,Attester\n", 
            "from ShareYourSystem.Standards.Objects import Initiator\n", 
            "\n", 
            "#Definition a MakerClass decorated by the PropertiserClass\n", 
            "@Propertiser.PropertiserClass()\n", 
            "class MakerClass(Initiator.InitiatorClass):\n", 
            "\n", 
            "    def default_init(self,\n", 
            "            _MakingMyFloat={\n", 
            "                            'DefaultValueType':property,\n", 
            "                            'PropertyInitVariable':3.,\n", 
            "                            'PropertyDocStr':'I am doing the thing here'\n", 
            "                            },\n", 
            "            _MakingMyList={\n", 
            "                            'DefaultValueType':property,\n", 
            "                            'PropertyInitVariable':[],\n", 
            "                            'PropertyDocStr':'I am doing the thing here'\n", 
            "                            },\n", 
            "            _MakingMyInt={'DefaultValueType':int},\n", 
            "            _MadeMyInt=0\n", 
            "        ):\n", 
            "        pass\n", 
            "\n", 
            "    #Definition a binding function\n", 
            "    def setMakingMyFloat(self,_SettingValueVariable):\n", 
            "\n", 
            "        #Print\n", 
            "        #print('I am going to make the job directly !')\n", 
            "\n", 
            "        #set the value of the \"hidden\" property variable\n", 
            "        self._MakingMyFloat=_SettingValueVariable\n", 
            "\n", 
            "        #Bind with MadeInt setting\n", 
            "        self.MadeMyInt=int(self._MakingMyFloat)\n", 
            "\n", 
            "    #Definition a binding function\n", 
            "    def setMakingMyList(self,_SettingValueVariable):\n", 
            "\n", 
            "        #set the value of the \"hidden\" property variable\n", 
            "        self._MakingMyList=_SettingValueVariable+['Hellllllo']\n", 
            "\n", 
            "\n", 
            "#Definition a default instance \n", 
            "DefaultMaker=MakerClass()\n", 
            "\n", 
            "#Definition a special instance\n", 
            "SpecialMaker=MakerClass(_MakingMyFloat=5,_MakingMyList=[4])\n", 
            "\n", 
            "#Definition the AttestedStr\n", 
            "SYS._attest(\n", 
            "    [\n", 
            "        'MakerClass.PropertizedDefaultTuplesList is '+SYS._str(\n", 
            "            MakerClass.PropertizedDefaultTuplesList),\n", 
            "        'What are you saying DefaultMaker ?',\n", 
            "        'DefaultMaker.__dict__ is '+str(DefaultMaker.__dict__),\n", 
            "        'DefaultMaker.MakingMyFloat is '+str(DefaultMaker.MakingMyFloat),\n", 
            "        'DefaultMaker.MakingMyList is '+str(DefaultMaker.MakingMyList),\n", 
            "        'DefaultMaker.MadeMyInt is '+str(DefaultMaker.MadeMyInt),\n", 
            "        'What are you saying SpecialMaker ?',\n", 
            "        'SpecialMaker.__dict__ is '+str(SpecialMaker.__dict__),\n", 
            "        'SpecialMaker.MakingMyFloat is '+str(SpecialMaker.MakingMyFloat),\n", 
            "        'SpecialMaker.MakingMyList is '+str(SpecialMaker.MakingMyList),\n", 
            "        'SpecialMaker.MadeMyInt is '+str(SpecialMaker.MadeMyInt),\n", 
            "    ]\n", 
            ") \n", 
            "\n", 
            "#Print\n", 
            "\n"
          ], 
          "outputs": [
            {
              "output_type": "stream", 
              "stream": "stdout", 
              "text": [
                "\n", 
                "\n", 
                "*****Start of the Attest *****\n", 
                "\n", 
                "MakerClass.PropertizedDefaultTuplesList is \n", 
                "   /[\n", 
                "   /  0 : \n", 
                "   /   /(\n", 
                "   /   /  0 : MakingMyFloat\n", 
                "   /   /  1 : <property object at 0x10e7fb628>\n", 
                "   /   /)\n", 
                "   /  1 : \n", 
                "   /   /(\n", 
                "   /   /  0 : MakingMyList\n", 
                "   /   /  1 : <property object at 0x10e7fbd60>\n", 
                "   /   /)\n", 
                "   /]\n", 
                "\n", 
                "------\n", 
                "\n", 
                "What are you saying DefaultMaker ?\n", 
                "\n", 
                "------\n", 
                "\n", 
                "DefaultMaker.__dict__ is {'IdInt': 4537523408}\n", 
                "\n", 
                "------\n", 
                "\n", 
                "DefaultMaker.MakingMyFloat is 3.0\n", 
                "\n", 
                "------\n", 
                "\n", 
                "DefaultMaker.MakingMyList is []\n", 
                "\n", 
                "------\n", 
                "\n", 
                "DefaultMaker.MadeMyInt is 0\n", 
                "\n", 
                "------\n", 
                "\n", 
                "What are you saying SpecialMaker ?\n", 
                "\n", 
                "------\n", 
                "\n", 
                "SpecialMaker.__dict__ is {'IdInt': 4537523600, 'MadeMyInt': 5, '_MakingMyFloat': 5, '_MakingMyList': [4, 'Hellllllo']}\n", 
                "\n", 
                "------\n", 
                "\n", 
                "SpecialMaker.MakingMyFloat is 5\n", 
                "\n", 
                "------\n", 
                "\n", 
                "SpecialMaker.MakingMyList is [4, 'Hellllllo']\n", 
                "\n", 
                "------\n", 
                "\n", 
                "SpecialMaker.MadeMyInt is 5\n", 
                "\n", 
                "*****End of the Attest *****\n", 
                "\n", 
                "\n"
              ]
            }
          ], 
          "collapsed": false, 
          "metadata": {
            "slideshow": {
              "slide_type": "-"
            }
          }
        }
      ]
    }
  ], 
  "metadata": {
    "name": "", 
    "signature": ""
  }, 
  "nbformat_minor": 0
}