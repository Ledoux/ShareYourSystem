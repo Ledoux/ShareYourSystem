{
  "nbformat": 3, 
  "worksheets": [
    {
      "cells": [
        {
          "source": "\n<!--\nFrozenIsBool False\n-->\n\n#Classer\n\n##Doc\n----\n\n\n> \n> The Classer\n> \n> \n\n----\n\n<small>\nView the Classer notebook on [NbViewer](http://nbviewer.ipython.org/url/shareyoursystem.ouvaton.org/Classer.ipynb)\n</small>\n\n", 
          "cell_type": "markdown", 
          "prompt_number": 0, 
          "metadata": {
            "slideshow": {
              "slide_type": "slide"
            }
          }
        }, 
        {
          "source": "\n<!---\nFrozenIsBool True\n-->\n\n##Example\n\nFor this non directly very useful Module we just define a decorated FooClass\nfor which the Functer decoration by default call the decorated method...", 
          "cell_type": "markdown", 
          "prompt_number": 1, 
          "metadata": {
            "slideshow": {
              "slide_type": "subslide"
            }
          }
        }, 
        {
          "source": "```python\n#ImportModules\nimport ShareYourSystem as SYS\nimport operator\n\n#Definition \n@SYS.ClasserClass(**{\n    'ClassingSwitchMethodStrsList':[\n        'make'\n    ]\n})\nclass MakerClass(object):\n\n    def default_init(self,\n                    _MakingMyFloat=0.,\n                    _MadeMyInt=0,\n                    **_KwarVariablesDict\n                ):\n        object.__init__(self,**_KwarVariablesDict)\n\n    def do_make(self):\n    \n        #print\n        print('I am in the do_make of the Maker')\n\n        #cast\n        self.MadeMyInt=int(self.MakingMyFloat)\n\n#Definition\n@SYS.ClasserClass(**{\n    'ClassingSwitchMethodStrsList':[\n        'make',\n        'build'\n    ]\n}\n)\nclass BuilderClass(MakerClass):\n\n    def default_init(self,\n                    **_KwarVariablesDict\n                ):\n        MakerClass.__init__(self,**_KwarVariablesDict)\n\n    def mimic_make(self):\n    \n        #print\n        print('I am in the mimic_make of the Builder')\n\n        #call the parent method\n        MakerClass.make(self)\n\n        #cast\n        self.MadeMyInt+=10\n\n    def do_build(self):\n        pass\n\n#Definition an instance\nMyBuilder=BuilderClass()\n\n#Print\nprint('Before make, MyBuilder.__dict__ is ')\nSYS._print(MyBuilder.__dict__)\n\n#make once\nMyBuilder.make(3.)\n\n#Print\nprint('After the first make, MyBuilder.__dict__ is ')\nSYS._print(MyBuilder.__dict__)\n\n#make again\nMyBuilder.make(5.)\n\n#Print\nprint('After the second make, MyBuilder.__dict__ is ')\nSYS._print(MyBuilder.__dict__)\n\n#make again\nprint('Now we switch all')\nMyBuilder.setSwitch('make',BuilderClass)\n\n#Print\nprint('After the switch MyBuilder.__dict__ is ')\nSYS._print(MyBuilder.__dict__)\n\n#make again\nMyBuilder.make(7.)\n\n#Print\nprint('After the third make, MyBuilder.__dict__ is ')\nSYS._print(MyBuilder.__dict__)\n\n#Definition the AttestedStr\nSYS._attest(\n    [\n        'BuilderClass.WatchBeforeMakeWithMakerBool is '+str(BuilderClass.WatchBeforeMakeWithMakerBool),\n        'BuilderClass.make is '+str(BuilderClass.make),\n        'BuilderClass.build is '+str(BuilderClass.build),\n        'MyBuilder.__dict__ is '+SYS._str(\n            MyBuilder.__dict__\n        )\n    ]\n) \n\n#Print\n\n\n\n\n\n```\n", 
          "cell_type": "markdown", 
          "metadata": {}
        }, 
        {
          "source": "```console\n>>>\nBefore make, MyBuilder.__dict__ is \n\n   /{ \n   /  'DefaultInitBool' : True\n   /}\nI am in the mimic_make of the Builder\nI am in the do_make of the Maker\nAfter the first make, MyBuilder.__dict__ is \n\n   /{ \n   /  'DefaultInitBool' : True\n   /  'MadeMyInt' : 13\n   /  'MakingMyFloat' : 3.0\n   /  '_WatchAfterMakeWithBuilderBool' : True\n   /  '_WatchAfterMakeWithMakerBool' : True\n   /  '_WatchBeforeMakeWithBuilderBool' : True\n   /  '_WatchBeforeMakeWithMakerBool' : True\n   /}\nAfter the second make, MyBuilder.__dict__ is \n\n   /{ \n   /  'DefaultInitBool' : True\n   /  'MadeMyInt' : 13\n   /  'MakingMyFloat' : 3.0\n   /  '_WatchAfterMakeWithBuilderBool' : True\n   /  '_WatchAfterMakeWithMakerBool' : True\n   /  '_WatchBeforeMakeWithBuilderBool' : True\n   /  '_WatchBeforeMakeWithMakerBool' : True\n   /}\nNow we switch all\nAfter the switch MyBuilder.__dict__ is \n\n   /{ \n   /  'DefaultInitBool' : True\n   /  'MadeMyInt' : 13\n   /  'MakingMyFloat' : 3.0\n   /  '_WatchAfterMakeWithBuilderBool' : False\n   /  '_WatchAfterMakeWithMakerBool' : True\n   /  '_WatchBeforeMakeWithBuilderBool' : False\n   /  '_WatchBeforeMakeWithMakerBool' : True\n   /}\nI am in the mimic_make of the Builder\nAfter the third make, MyBuilder.__dict__ is \n\n   /{ \n   /  'DefaultInitBool' : True\n   /  'MadeMyInt' : 23\n   /  'MakingMyFloat' : 7.0\n   /  '_WatchAfterMakeWithBuilderBool' : True\n   /  '_WatchAfterMakeWithMakerBool' : True\n   /  '_WatchBeforeMakeWithBuilderBool' : True\n   /  '_WatchBeforeMakeWithMakerBool' : True\n   /}\n\n\n*****Start of the Attest *****\n\n            BuilderClass.WatchBeforeMakeWithMakerBool is <property object at 0x10c0f20a8>\n\n------\n\n            BuilderClass.make is <unbound method BuilderClass.switch_watch_superMimic_switch_watch_superDo_make>\n\n------\n\n            BuilderClass.build is <unbound method BuilderClass.switch_watch_superDo_build>\n\n------\n\n            MyBuilder.__dict__ is \n               /{ \n               /  'DefaultInitBool' : True\n               /  'MadeMyInt' : 23\n               /  'MakingMyFloat' : 7.0\n               /  '_WatchAfterMakeWithBuilderBool' : True\n               /  '_WatchAfterMakeWithMakerBool' : True\n               /  '_WatchBeforeMakeWithBuilderBool' : True\n               /  '_WatchBeforeMakeWithMakerBool' : True\n               /}\n\n*****End of the Attest *****\n\n\n\n```\n", 
          "cell_type": "markdown", 
          "metadata": {}
        }, 
        {
          "source": "\n<!---\nFrozenIsBool True\n-->\n\nNote that now setting a propertize method in a derived class works also and overwrite the previous one. (without redefine the property)", 
          "cell_type": "markdown", 
          "prompt_number": 3, 
          "metadata": {
            "slideshow": {
              "slide_type": null
            }
          }
        }, 
        {
          "source": "```python\n#ImportModules\nimport ShareYourSystem as SYS\n\n#Define\n@SYS.ClasserClass()\nclass MakerClass(object):\n\n    def default_init(self,\n            _MakingMyFloat={\n                            'DefaultValueType':property,\n                            'PropertyInitVariable':3.,\n                            'PropertyDocStr':'I am doing the thing here'\n                            },\n            _MakingMyList={\n                            'DefaultValueType':property,\n                            'PropertyInitVariable':[],\n                            'PropertyDocStr':'I am doing the thing here'\n                            },\n            _MakingMyInt={'DefaultValueType':int},\n            _MadeMyInt=0\n        ):\n        object.__init__(self)\n\n    def propertize_setMakingMyFloat(self,_SettingValueVariable):\n\n        #Print\n        #print('I am going to make the job directly !')\n\n        #set the value of the \"hidden\" property variable\n        self._MakingMyFloat=_SettingValueVariable\n\n        #Bind with MadeInt setting\n        self.MadeMyInt=int(self._MakingMyFloat)\n\n    def propertize_setMakingMyList(self,_SettingValueVariable):\n\n        #set the value of the \"hidden\" property variable\n        self._MakingMyList=_SettingValueVariable+['Hellllllo']\n\n\n#Define\n@SYS.ClasserClass()\nclass BuilderClass(MakerClass):\n\n    def default_init(\n                        self\n                    ):\n        SYS.MakerClass.__init__(self)\n\n    def propertize_setMakingMyList(self,_SettingValueVariable):\n\n        #call the base method\n        MakerClass.propertize_setMakingMyList(self,_SettingValueVariable)\n\n        #set the value of the \"hidden\" property variable\n        self._MakingMyList+=['Build en plus !']\n\n#Definition a special instance\nSpecialBuilder=BuilderClass(_MakingMyFloat=5,_MakingMyList=[4])\n\n#Definition the AttestedStr\nprint('\\n'.join(\n    [\n        'What are you saying SpecialBuilder ?',\n        'SpecialBuilder.__dict__ is '+str(SpecialBuilder.__dict__),\n        'SpecialBuilder.MakingMyFloat is '+str(SpecialBuilder.MakingMyFloat),\n        'SpecialBuilder.MakingMyList is '+str(SpecialBuilder.MakingMyList),\n        'SpecialBuilder.MadeMyInt is '+str(SpecialBuilder.MadeMyInt),\n    ]\n    )\n) \n\n#Print\n\n\n```\n", 
          "cell_type": "markdown", 
          "metadata": {}
        }, 
        {
          "source": "```console\n>>>\nWhat are you saying SpecialBuilder ?\nSpecialBuilder.__dict__ is {'DefaultInitBool': True}\nSpecialBuilder.MakingMyFloat is 3.0\nSpecialBuilder.MakingMyList is []\nSpecialBuilder.MadeMyInt is 0\n\n```\n", 
          "cell_type": "markdown", 
          "metadata": {}
        }
      ]
    }
  ], 
  "metadata": {
    "name": "", 
    "signature": ""
  }, 
  "nbformat_minor": 0
}