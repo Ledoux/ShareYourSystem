{
  "nbformat": 3, 
  "worksheets": [
    {
      "cells": [
        {
          "source": "\n<!--\nFrozenIsBool False\n-->\n\n#Deriver\n\n##Doc\n----\n\n\n> \n> The Deriver helps for building a base-derive relationships between the classes.\n> Once a <Class> with based classes is defined, a decorating DeriverClass instance\n> append to these corresponding BaseClasses the <Class> as a derived class.\n> \n> \n\n----\n\n<small>\nView the Deriver notebook on [NbViewer](http://nbviewer.ipython.org/url/shareyoursystem.ouvaton.org/Deriver.ipynb)\n</small>\n\n", 
          "cell_type": "markdown", 
          "prompt_number": 0, 
          "metadata": {
            "slideshow": {
              "slide_type": "slide"
            }
          }
        }, 
        {
          "source": "\n<!--\nFrozenIsBool False\n-->\n\n##Code\n\n----\n\n<ClassDocStr>\n\n----\n\n```python\n# -*- coding: utf-8 -*-\n\"\"\"\n\n\n<DefineSource>\n@Date : Fri Nov 14 13:20:38 2014 \\n\n@Author : Erwan Ledoux \\n\\n\n</DefineSource>\n\n\nThe Deriver helps for building a base-derive relationships between the classes.\nOnce a <Class> with based classes is defined, a decorating DeriverClass instance\nappend to these corresponding BaseClasses the <Class> as a derived class.\n\n\"\"\"\n\n#<DefineAugmentation>\nimport ShareYourSystem as SYS\nBaseModuleStr=\"ShareYourSystem.Standards.Classors.Doer\"\nDecorationModuleStr=BaseModuleStr\nSYS.setSubModule(globals())\n#</DefineAugmentation>\n\n#<ImportSpecificModules>\nimport sys\n#</ImportSpecificModules>\n\n#<DefineFunctions>\ndef getIsDerivedBoolWithParentClassAndDeriveClass(_ParentClass,_DeriveClass):\n\n\t#Debug\n\t'''\n\tprint('Deriver l.37')\n\tprint('_ParentClass is ',_ParentClass)\n\tprint('_DeriveClass is ',_DeriveClass)\n\tprint('')\n\t'''\n\t\n\t#Return\n\treturn _DeriveClass in _ParentClass.__mro__\n#</DefineFunctions>\n\n#<DefineClass>\n@DecorationClass()\nclass DeriverClass(BaseClass):\n\n\tdef default_init(self,\n\t\t\t\t\t\t_DerivedModule=None,\n\t\t\t\t\t\t**_KwargVariablesDict\n\t\t\t\t\t):\n\n\n\t\t#Call the parent init method\n\t\tBaseClass.__init__(self,**_KwargVariablesDict)\n\n\tdef __call__(self,_Class):\n\n\t\t#debug\n\t\t'''\n\t\tprint('Deriver l.30 __call__ method')\n\t\tprint('_Class is ',_Class)\n\t\tprint('')\n\t\t'''\n\n\t\t#Call the parent __call__ method\n\t\tBaseClass.__call__(self,_Class)\n\n\t\t#Debug\n\t\t'''\n\t\tprint('Deriver l.54 We are going to derive')\n\t\tprint('self.derive is ',self.derive)\n\t\tprint('')\n\t\t'''\n\n\t\t#Derive\n\t\tself.derive()\n\n\t\t#Debug\n\t\t'''\n\t\tprint('derive is done')\n\t\tprint('')\n\t\t'''\n\n\t\t#Return \n\t\treturn _Class\n\n\tdef do_derive(self):\n\n\t\t#Debug\n\t\t'''\n\t\tprint('self.DoClass is ',self.DoClass)\n\t\tprint('')\n\t\t'''\n\n\t\t#alias\n\t\tDoClass=self.DoClass\n\n\t\t#Link\n\t\tself.DerivedModule=sys.modules[DoClass.__module__]\n\n\t\t#set\n\t\tif len(DoClass.__bases__)>0:\n\n\t\t\t#set the DerivedBaseClas\n\t\t\tDerivedBaseClass=DoClass.__bases__[0]\n\n\t\t\t#Debug\n\t\t\t'''\n\t\t\tprint('l. 83 Deriver')\n\t\t\tprint('We can set derived bases for the parent')\n\t\t\tprint('DerivedBaseClass is ',DerivedBaseClass)\n\t\t\tprint('')\n\t\t\t'''\n\t\t\t\n\t\t\t#Append to the parent class \n\t\t\tif hasattr(DerivedBaseClass,'DerivedClassesList'):\n\t\t\t\tDerivedBaseClass.DerivedClassesList.append(DoClass)\n\t\t\telse:\n\t\t\t\tDerivedBaseClass.DerivedClassesList=[DoClass]\n\n\t\t\t#Add to the KeyStrsList\n\t\t\tDoClass.KeyStrsList+=SYS.getKeyStrsListWithClass(DoClass)\n\n#</DefineClass>\n\n```\n\n<small>\nView the Deriver sources on <a href=\"https://github.com/Ledoux/ShareYourSystem/tree/master/Pythonlogy/ShareYourSystem/Classors/Deriver\" target=\"_blank\">Github</a>\n</small>\n\n", 
          "cell_type": "markdown", 
          "prompt_number": 1, 
          "metadata": {
            "slideshow": {
              "slide_type": "subslide"
            }
          }
        }, 
        {
          "source": "\n<!--\nFrozenIsBool False\n-->\n\n##More Descriptions at the level of the class\n\nSpecial attributes of the ClassorsClass are :\n", 
          "cell_type": "markdown", 
          "prompt_number": 2, 
          "metadata": {
            "slideshow": {
              "slide_type": "subslide"
            }
          }
        }, 
        {
          "cell_type": "code", 
          "prompt_number": 3, 
          "language": "python", 
          "input": [
            "\n", 
            "#ImportModules\n", 
            "import ShareYourSystem as SYS\n", 
            "from ShareYourSystem.Standards.Classors import Doer,Deriver,Attester\n", 
            "from ShareYourSystem.Standards.Objects import Initiator\n", 
            "\n", 
            "#Definition of a MakerClass decorated by a DoerClass instance\n", 
            "@Doer.DoerClass()\n", 
            "class MakerClass(Initiator.InitiatorClass):\n", 
            "    pass\n", 
            "\n", 
            "#Definition of a derived BuilderClass decorated by a Deriver\n", 
            "@Deriver.DeriverClass()\n", 
            "class BuilderClass(MakerClass):\n", 
            "    pass\n", 
            "\n", 
            "#Print\n", 
            "#print('MakerClass.DerivedClassesList is '+str(MakerClass.DerivedClassesList))\n", 
            "\n", 
            "#Definition the AttestedStr\n", 
            "SYS._attest(\n", 
            "    [\n", 
            "        'MakerClass.DerivedClassesList is '+str(MakerClass.DerivedClassesList)\n", 
            "    ]\n", 
            ") \n", 
            "\n", 
            "#Print\n", 
            "\n"
          ], 
          "outputs": [
            {
              "output_type": "stream", 
              "stream": "stdout", 
              "text": [
                "\n", 
                "\n", 
                "*****Start of the Attest *****\n", 
                "\n", 
                "MakerClass.DerivedClassesList is [<class 'ShareYourSystem.Standards.Objects.Printer.PrinterClass'>, <class 'ShareYourSystem.Standards.Objects.Debugger.DebuggerClass'>, <class 'ShareYourSystem.Standards.Objects.Conditioner.ConditionerClass'>, <class 'ShareYourSystem.Standards.Objects.Concluder.ConcluderClass'>, <class 'ShareYourSystem.Standards.Objects.Rebooter.RebooterClass'>, <class 'ShareYourSystem.Standards.Interfacers.Interfacer.InterfacerClass'>, <class 'ShareYourSystem.Standards.Interfacers.Folderer.FoldererClass'>, <class 'ShareYourSystem.Standards.Objects.Packager.PackagerClass'>, <class 'ShareYourSystem.Standards.Interfacers.Filer.FilerClass'>, <class 'ShareYourSystem.Standards.Interfacers.Closer.CloserClass'>, <class 'ShareYourSystem.Standards.Interfacers.Loader.LoaderClass'>, <class 'ShareYourSystem.Standards.Interfacers.Writer.WriterClass'>, <class 'ShareYourSystem.Standards.Interfacers.Hdformater.HdformaterClass'>, <class 'ShareYourSystem.Standards.Interfacers.Capturer.CapturerClass'>, <class 'ShareYourSystem.Standards.Interfacers.Deployer.DeployerClass'>, <class 'ShareYourSystem.Guiders.Guider.GuiderClass'>, <class 'ShareYourSystem.Guiders.Scriptbooker.ScriptbookerClass'>, <class 'ShareYourSystem.Guiders.Celler.CellerClass'>, <class 'ShareYourSystem.Guiders.Notebooker.NotebookerClass'>, <class 'ShareYourSystem.Guiders.Nbconverter.NbconverterClass'>, <class 'ShareYourSystem.Guiders.Installer.InstallerClass'>, <class 'ShareYourSystem.Guiders.Documenter.DocumenterClass'>, <class 'ShareYourSystem.Guiders.Documenter.DocumenterClass'>, <class 'ShareYourSystem.Standards.Objects.Caller.CallerClass'>, <class 'ShareYourSystem.Standards.Objects.Cloner.ClonerClass'>, <class 'MakerClass'>, <class 'BuilderClass'>, <class 'MakerClass'>, <class 'BuilderClass'>, <class 'BuilderClass'>]\n", 
                "\n", 
                "*****End of the Attest *****\n", 
                "\n", 
                "\n"
              ]
            }
          ], 
          "collapsed": false, 
          "metadata": {
            "slideshow": {
              "slide_type": "-"
            }
          }
        }
      ]
    }
  ], 
  "metadata": {
    "name": "", 
    "signature": ""
  }, 
  "nbformat_minor": 0
}