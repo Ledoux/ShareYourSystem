{
  "nbformat": 3, 
  "worksheets": [
    {
      "cells": [
        {
          "source": "\n<!--\nFrozenIsBool False\n-->\n\n#Tester\n\n##Doc\n----\n\n\n> \n> The Tester helps for defining asserts between \n> attested Strs stored in the Attests Folder and\n> new calls of the attest functions. Thanks here \n> to a wrap of the unitest python module :\n> https://docs.python.org/2/library/unittest.html\n> \n> \n\n----\n\n<small>\nView the Tester notebook on [NbViewer](http://nbviewer.ipython.org/url/shareyoursystem.ouvaton.org/Tester.ipynb)\n</small>\n\n", 
          "cell_type": "markdown", 
          "prompt_number": 0, 
          "metadata": {
            "slideshow": {
              "slide_type": "slide"
            }
          }
        }, 
        {
          "source": "\n<!--\nFrozenIsBool False\n-->\n\n##Code\n\n----\n\n<ClassDocStr>\n\n----\n\n```python\n# -*- coding: utf-8 -*-\n\"\"\"\n\n\n<DefineSource>\n@Date : Fri Nov 14 13:20:38 2014 \\n\n@Author : Erwan Ledoux \\n\\n\n</DefineSource>\n\n\nThe Tester helps for defining asserts between \nattested Strs stored in the Attests Folder and\nnew calls of the attest functions. Thanks here \nto a wrap of the unitest python module :\nhttps://docs.python.org/2/library/unittest.html\n\n\"\"\"\n\n#<DefineAugmentation>\nimport ShareYourSystem as SYS\nBaseModuleStr=\"ShareYourSystem.Standards.Classors.Attester\"\nDecorationModuleStr=BaseModuleStr\nSYS.setSubModule(globals())\n#</DefineAugmentation>\n\n#<ImportSpecificModules>\nimport collections\nimport copy\nimport os\nimport sys\nimport unittest\nimport ShareYourSystem as SYS\nfrom ShareYourSystem.Standards.Classors import Representer\nAttester=BaseModule\n#</ImportSpecificModules>\n\n#<DefineLocals>\nAttestingStr='attest'\n#</DefineLocals>\n\n#<DefineFunctions>\ndef setTestFunctionWithFolderPathStrAndAttestUnboundMethod(\n\t_FolderPathStr,_AttestUnboundMethod):\n\n\t#Definition\n\tAttestUnboundMethodStr=_AttestUnboundMethod.__name__\n\tTestUnboundMethodStr='at'.join(AttestUnboundMethodStr.split('at')[1:])\n\tTestModule=sys.modules[_AttestUnboundMethod.__module__]\n\n\t#Debug\n\t'''\n\tprint('l 50 Tester')\n\tprint('_AttestUnboundMethod is ',_AttestUnboundMethod)\n\tprint('_AttestUnboundMethod.__module__ is ',_AttestUnboundMethod.__module__)\n\tprint('')\n\t'''\n\n\t#Define\n\tdef test(_InstanceVariable):\n\n\t\t#Get the AssertedStr\n\t\tFile=open(_FolderPathStr+AttestUnboundMethodStr+'.txt','r')\n\t\tAttestStr=File.read()\n\t\tFile.close()\n\n\t\t#Call the attest function to get the TestVariable\n\t\tTestVariable=_AttestUnboundMethod(\n\t\t\t\t\t\tgetattr(\n\t\t\t\t\t\t\tSYS,\n\t\t\t\t\t\t\tSYS.getClassStrWithNameStr(\n\t\t\t\t\t\t\t\tTestModule.__name__.split('.')[-1]\n\t\t\t\t\t\t\t\tif '.' in TestModule.__name__ else TestModule\n\t\t\t\t\t\t\t)\n\t\t\t\t\t\t)()\n\t\t\t\t\t)\n\n\t\t#Bind with TestStr setting\n\t\tRepresenter.RepresentingIdBool=False\n\t\tTestStr=Representer.getRepresentedStrWithVariable(TestVariable)\n\t\tRepresenter.RepresentingIdBool=True\n\n\t\t#Represent maybe\n\t\tif TestModule.TestingPrintIsBool:\n\n\t\t\t#debug\n\t\t\tprint(\"\\n###########################################\")\n\t\t\tprint(\"\")\n\t\t\tprint('AttestStr is :')\n\t\t\tprint(AttestStr)\n\t\t\tprint(\"\")\n\n\t\t\t#debug\n\t\t\tprint('TestStr is :')\n\t\t\tprint(TestStr)\n\t\t\tprint(\"\")\n\n\t\t#Assert\n\t\t#print(\"a\",AssertingStr)\n\t\t#print(\"b\",_InstanceVariable.TestedPointer.TestStr)\n\n\t\t#assert\n\t\t_InstanceVariable.assertEqual(\n\t\t\t\t#1,1\n\t\t\t\tAttestStr,\n\t\t\t\tTestStr\n\t\t)\n\n\t#Copy a form of the test function and name it differently\n\ttest.__name__=TestUnboundMethodStr\n\n\t#Debug\n\t'''\n\tprint('l 96 Tester')\n\tprint('TestModule is',TestModule)\n\tprint('')\n\t'''\n\t\n\t#Append in the Test OrderedDict\n\tTestModule.TestedOrderedDict[test.__name__]=test\n#</DefineFunctions>\n\n#<DefineClass>\n@DecorationClass()\nclass TesterClass(BaseClass):\n\n\t#Definition\n\tRepresentingKeyStrsList=[\n\t\t\t\t\t\t\t]\n\n\tdef default_init(self,**_KwargVariablesDict):\n\n\t\t#Call the parent init method\n\t\tBaseClass.__init__(self,**_KwargVariablesDict)\n\n\tdef __call__(self,_Class):\n\n\t\t#Call the parent init method\n\t\tBaseClass.__call__(self,_Class)\n\n\t\t#Represent\n\t\tself.test()\n\n\t\t#Return\n\t\treturn _Class\n\n\tdef do_test(self):\n\t\t\n\t\t#Init in the classed Module\n\t\tif hasattr(self.Module,'TestingPrintIsBool')==False:\n\t\t\tself.Module.TestingPrintIsBool=True\n\t\tself.Module.TestedOrderedDict=collections.OrderedDict()\n\n\t\t#set the tests for each asserting function\n\t\tmap(\n\t\t\t\tlambda __AttestedUnboundMethod:\n\t\t\t\tsetTestFunctionWithFolderPathStrAndAttestUnboundMethod(\n\t\t\t\t\tself.AttestingFolderPathStr,\n\t\t\t\t\t__AttestedUnboundMethod\n\t\t\t\t),\n\t\t\t\tself.AttestedUnboundMethodsList\n\t\t\t)\n\t\t\t\n\t\t#Definition the TestClass\n\t\tclass TestClass(unittest.TestCase):\t\t\t\t\n\n\t\t\t#Bind with the Tested object\n\t\t\tTestedPointer=self\n\n\t\t\t#Bound the setUp function\n\t\t\t#locals().__setitem__(setUp.__name__,setUp)\n\t\t\t\n\t\t\t#Bound each testing function\n\t\t\tfor __InstanceVariableedKeyStr,__InstanceVariableedMethod in self.Module.TestedOrderedDict.items():\n\t\t\t\tlocals().__setitem__(__InstanceVariableedKeyStr,__InstanceVariableedMethod)\n\n\t\t\ttry:\n\t\t\t\tdel TestedKeyStr,TestedMethod\n\t\t\texcept:\n\t\t\t\tpass\n\n\t\t#Give a name\n\t\tTestClass.__name__=SYS.getClassStrWithNameStr(self.NameStr+'Test')\n\n\t\t#set to the module of the classing class\n\t\tself.Module.TestedClass=TestClass\n\n\t\t#Definition\n\t\tdef test():\n\n\t\t\t#Call to the unittest runner\n\t\t\tTestLoader=unittest.TestLoader().loadTestsFromTestCase(\n\t\t\t\tself.Module.TestedClass\n\t\t\t)\n\t\t\tunittest.TextTestRunner(verbosity=2).run(TestLoader)\n\n\t\t#Link to the module of the classing class\n\t\tself.Module.test=test\n#</DefineClass>\n\n#Set\nTesterClass.DeriveClassor.AttestingFolderPathStr=Attester.AttesterClass.DeriveClassor.AttestingFolderPathStr\n\n```\n\n<small>\nView the Tester sources on <a href=\"https://github.com/Ledoux/ShareYourSystem/tree/master/Pythonlogy/ShareYourSystem/Classors/Tester\" target=\"_blank\">Github</a>\n</small>\n\n", 
          "cell_type": "markdown", 
          "prompt_number": 1, 
          "metadata": {
            "slideshow": {
              "slide_type": "subslide"
            }
          }
        }, 
        {
          "source": "\n<!---\nFrozenIsBool True\n-->\n\n##Example\n\nThe Incrementer from the previous Attester Module is now tested from its corresponding attesting function\nattest_increment. Here a test_increment method is implicitely defined in a unittest class and when we call\nthe test method, a unittest.run is done.", 
          "cell_type": "markdown", 
          "prompt_number": 2, 
          "metadata": {
            "slideshow": {
              "slide_type": "subslide"
            }
          }
        }, 
        {
          "cell_type": "code", 
          "prompt_number": 3, 
          "language": "python", 
          "input": [
            "#ImportModules\n", 
            "import ShareYourSystem as SYS\n", 
            "from ShareYourSystem.Standards.Classors import Tester\n", 
            "from ShareYourSystem.Tutorials import Decrementer\n", 
            "\n", 
            "#Attest the module\n", 
            "Decrementer.DecrementerClass().setAttest(\n", 
            "    Tester.TesterClass.DeriveClassor.AttestingFolderPathStr\n", 
            ")\n", 
            "Decrementer.test()\n", 
            "\n", 
            "#Print\n", 
            "\n", 
            "\n"
          ], 
          "outputs": [
            {
              "output_type": "stream", 
              "stream": "stdout", 
              "text": [
                "\n"
              ]
            }
          ], 
          "collapsed": false, 
          "metadata": {
            "slideshow": {
              "slide_type": "-"
            }
          }
        }
      ]
    }
  ], 
  "metadata": {
    "name": "", 
    "signature": ""
  }, 
  "nbformat_minor": 0
}