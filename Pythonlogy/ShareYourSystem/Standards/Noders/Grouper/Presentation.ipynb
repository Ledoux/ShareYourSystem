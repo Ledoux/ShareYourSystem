{
  "nbformat": 3, 
  "worksheets": [
    {
      "cells": [
        {
          "source": "\n<!--\nFrozenIsBool False\n-->\n\n#Grouper\n\n##Doc\n----\n\n\n> \n> A Grouper establishes a group of parenting nodes for which \n> each level is setted in equivalent hdf5 structure.\n> \n> \n\n----\n\n<small>\nView the Grouper notebook on [NbViewer](http://nbviewer.ipython.org/url/shareyoursystem.ouvaton.org/Grouper.ipynb)\n</small>\n\n", 
          "cell_type": "markdown", 
          "prompt_number": 0, 
          "metadata": {
            "slideshow": {
              "slide_type": "slide"
            }
          }
        }, 
        {
          "source": "\n<!--\nFrozenIsBool False\n-->\n\n##Code\n\n----\n\n<ClassDocStr>\n\n----\n\n```python\n# -*- coding: utf-8 -*-\n\"\"\"\n\n\n<DefineSource>\n@Date : Fri Nov 14 13:20:38 2014 \\n\n@Author : Erwan Ledoux \\n\\n\n</DefineSource>\n\n\nA Grouper establishes a group of parenting nodes for which \neach level is setted in equivalent hdf5 structure.\n\n\"\"\"\n\n#<DefineAugmentation>\nimport ShareYourSystem as SYS\nBaseModuleStr=\"ShareYourSystem.Standards.Noders.Transmitter\"\nDecorationModuleStr=\"ShareYourSystem.Standards.Classors.Classer\"\nSYS.setSubModule(globals())\n#</DefineAugmentation>\n\n#<ImportSpecificModules>\nimport functools\n\nfrom ShareYourSystem.Standards.Classors import Doer\n#</ImportSpecificModules>\n\n#<DefineFunctions>\ndef getGroupedPathStrWithPathStrsList(_PathStrsList):\n\n\t#Reduce\n\tPathStr=functools.reduce(\n\t\t\tlambda _TotalPathStr,_PathStr:\n\t\t\t_TotalPathStr+_PathStr \n\t\t\tif (len(_TotalPathStr)>0 and _TotalPathStr[-1]=='/') and (len(_PathStr)>0 and _PathStr[0]!='/'\n\t\t\t\t) or (len(_TotalPathStr)>0 and _TotalPathStr[-1]!='/') and (len(_PathStr)>0 and _PathStr[0]=='/')\n\t\t\telse \n\t\t\t_TotalPathStr[:-1]+_PathStr \n\t\t\tif (len(_TotalPathStr)>0 and _TotalPathStr[-1]=='/') and (len(_PathStr)>0 and _PathStr[0]=='/'\n\t\t\t\t)\n\t\t\telse _TotalPathStr+'/'+_PathStr \n\t\t\tif '/' not in [_PathStr,_TotalPathStr]\n\t\t\telse \"\",\n\t\t\t_PathStrsList\n\t\t\t)\n\n\t#Maybe add / at the beginning\n\tif (len(PathStr)>0 and PathStr[0]!='/') or PathStr==\"\":\n\t\tPathStr='/'+PathStr\n\n\t#Return\n\treturn PathStr\n#</DefineFunctions>\n\n#<DefineClass>\n@DecorationClass()\nclass GrouperClass(BaseClass):\n\t\t\n\t#Definition\n\tRepresentingKeyStrsList=[\n\t\t\t\t\t\t\t\t\t'GroupedParentVariable',\n\t\t\t\t\t\t\t\t\t'GroupedInt',\n\t\t\t\t\t\t\t\t\t'GroupedKeyStr',\n\t\t\t\t\t\t\t\t\t'GroupedDeriveParentersList',\n\t\t\t\t\t\t\t\t\t'GroupedPathStrsList',\n\t\t\t\t\t\t\t\t\t'GroupedPathStr'\n\t\t\t\t\t\t\t\t]\n\n\t#@Hooker.HookerClass(**{'HookingAfterVariablesList':[{'CallingVariable':BaseClass.__init__}]})\n\tdef default_init(\n\t\t\t\tself,\n\t\t\t\t_GroupedParentVariable=None,\n\t\t\t\t_GroupedInt=-1,\n\t\t\t\t_GroupedKeyStr=\"\",\n\t\t\t\t_GroupedDeriveParentersList=None,\n\t\t\t\t_GroupedPathStrsList=None,\n\t\t\t\t_GroupedPathStr=\"/\",\n\t\t\t\t**_KwargVariablesDict\n\t\t\t):\n\n\t\t#Call the parent __init__ method\n\t\tBaseClass.__init__(self,**_KwargVariablesDict)\n\n\t\t#set\n\t\tself.HdformatingFileKeyStr=SYS.InflectEngine.plural(\n\t\t\tDoer.DoerStrToDoStrOrderedDict[\n\t\t\t\tself.__class__.NameStr\n\t\t\t\t]\n\t\t\t)+'.hdf5'\n\n\tdef do_group(self):\n\n\t\t#debug\n\t\t'''\n\t\tself.debug(('self.',self,['ParentingNodeStr']))\n\t\t'''\n\t\n\t\t#Parent\n\t\tself.parent()\n\t\t\n\t\t#Check\n\t\tif len(self.ParentedDeriveParentersList)>0:\n\t\t\tUppestParentPointer=self.ParentedDeriveParentersList[-1]\n\t\telse:\n\t\t\tUppestParentPointer=self\n\n\t\t#Then get also from the UppestParentPointer its UppestGroupedParentVariable\n\t\tif hasattr(UppestParentPointer,'GroupedDeriveParentersList'):\n\t\t\tif len(UppestParentPointer.GroupedDeriveParentersList)>0:\n\t\t\t\tUppestGroupedParentVariable=UppestParentPointer.GroupedDeriveParentersList.GroupedDeriveParentersList[-1]\n\t\t\telse:\n\t\t\t\tUppestGroupedParentVariable=UppestParentPointer\n\n\t\t#Link\n\t\tself.HdformatedFileVariable=UppestGroupedParentVariable.HdformatedFileVariable\n\n\t\t#debug\n\t\t#print('self.HdformatedFileVariable is ',self.HdformatedFileVariable)\n\n\t\t#Create a group in the hdf5 file\n\t\tif self.HdformatedFileVariable!=None:\n\n\t\t\t#debug\n\t\t\t'''\n\t\t\tself.debug(\n\t\t\t\t\t\t[\n\t\t\t\t\t\t\t'UppestGroupedParentVariable.GroupedPathStr is '+UppestGroupedParentVariable.GroupedPathStr,\n\t\t\t\t\t\t\t('self.',self,[\n\t\t\t\t\t\t\t\t\t\t'ParentedPathStr',\n\t\t\t\t\t\t\t\t\t\t'NodedKeyStr'\n\t\t\t\t\t\t\t\t\t])\n\t\t\t\t\t\t]\n\t\t\t\t\t)\n\t\t\t'''\n\n\t\t\t#set the GroupedPathStr\n\t\t\tif UppestParentPointer==self:\n\t\t\t\tself.GroupedPathStr=\"/\"\n\t\t\telse:\n\t\t\t\tself.GroupedPathStr=getGroupedPathStrWithPathStrsList(\n\t\t\t\t\t[\n\t\t\t\t\t\tUppestGroupedParentVariable.GroupedPathStr,\n\t\t\t\t\t\tself.ParentedPathStr,\n\t\t\t\t\t\tself.NodeKeyStr\n\t\t\t\t\t]\n\t\t\t\t)\n\n\t\t\t#debug\n\t\t\t'''\n\t\t\tself.debug(('self.',self,['GroupedPathStr']))\n\t\t\t'''\n\t\t\t\n\t\t\t#Check if the Path exists\n\t\t\tif self.GroupedPathStr not in self.HdformatedFileVariable:\n\n\t\t\t\t#set all the intermediate Paths before\n\t\t\t\tPathStrsList=self.GroupedPathStr.split('/')[1:]\n\t\t\t\tParsingChildPathStr=\"/\"\n\n\t\t\t\t#set the PathStr from the top to the down (integrativ loop)\n\t\t\t\tfor ChildPathStr in PathStrsList:\n\n\t\t\t\t\t#Go deeper\n\t\t\t\t\tNewParsingChildPathStr=ParsingChildPathStr+ChildPathStr\n\n\t\t\t\t\t#Create the group if not already\n\t\t\t\t\tif NewParsingChildPathStr not in self.HdformatedFileVariable:\n\t\t\t\t\t\tif self.HdformatingModuleStr==\"tables\":\n\t\t\t\t\t\t\tself.HdformatedFileVariable.create_group(ParsingChildPathStr,ChildPathStr)\n\t\t\t\t\t\telif self.HdformatingModuleStr==\"h5py\":\n\t\t\t\t\t\t\tGroup=self.HdformatedFileVariable[ParsingChildPathStr]\n\t\t\t\t\t\t\tGroup.create_group(ChildPathStr)\n\t\t\t\t\t\n\t\t\t\t\t#Prepare the next group\t\n\t\t\t\t\tParsingChildPathStr=NewParsingChildPathStr+'/'\n\n\t\t#Return self\n\t\t#return self\n\n#</DefineClass>\n\n```\n\n<small>\nView the Grouper sources on <a href=\"https://github.com/Ledoux/ShareYourSystem/tree/master/Pythonlogy/ShareYourSystem/Noders/Grouper\" target=\"_blank\">Github</a>\n</small>\n\n", 
          "cell_type": "markdown", 
          "prompt_number": 1, 
          "metadata": {
            "slideshow": {
              "slide_type": "subslide"
            }
          }
        }, 
        {
          "source": "\n<!---\nFrozenIsBool True\n-->\n\n##Example\n\nLet's create an empty class, which will automatically receive\nspecial attributes from the decorating ClassorClass,\nspecially the NameStr, that should be the ClassStr\nwithout the TypeStr in the end.", 
          "cell_type": "markdown", 
          "prompt_number": 2, 
          "metadata": {
            "slideshow": {
              "slide_type": "subslide"
            }
          }
        }, 
        {
          "cell_type": "code", 
          "prompt_number": 3, 
          "language": "python", 
          "input": [
            "\n", 
            "#ImportModules\n", 
            "import ShareYourSystem as SYS\n", 
            "from ShareYourSystem.Standards.Noders import Grouper\n", 
            "\n", 
            "#Definition a structure of Grouper\n", 
            "MyGrouper=Grouper.GrouperClass().hdformat().update(\n", 
            "    [\n", 
            "        (\n", 
            "            '<Tree>FirstChildGrouper',\n", 
            "            Grouper.GrouperClass().update(\n", 
            "                [\n", 
            "                    ('<Tree>GrandChildGrouper',\n", 
            "                    Grouper.GrouperClass())\n", 
            "                ]\n", 
            "            )\n", 
            "        ),\n", 
            "        (\n", 
            "            '<Tree>SecondChildGrouper',\n", 
            "            Grouper.GrouperClass()\n", 
            "        )\n", 
            "    ]\n", 
            ")\n", 
            "\n", 
            "#Walk to set the same structure in the hdf5\n", 
            "MyGrouper.walk(\n", 
            "        {\n", 
            "                'BeforeUpdateList':\n", 
            "                [\n", 
            "                    ('parent',{'LiargVariablesList':['Tree']}),\n", 
            "                    ('group',{'LiargVariablesList':[]})\n", 
            "                ],\n", 
            "                'GatherVariablesList':['<Tree>']\n", 
            "        }\n", 
            ").hdfclose()\n", 
            "\n", 
            "#Definition the AttestedStr\n", 
            "SYS._attest(\n", 
            "    [\n", 
            "        'MyGrouper is '+SYS._str(\n", 
            "        MyGrouper,\n", 
            "        **{\n", 
            "            'RepresentingBaseKeyStrsListBool':False,\n", 
            "            'RepresentingAlineaIsBool':False\n", 
            "            }\n", 
            "        ),\n", 
            "        'MyGrouper.hdfview().HdformatedStr is '+MyGrouper.hdfview().HdformatedStr\n", 
            "    ]\n", 
            ") \n", 
            "\n", 
            "#Print\n", 
            "\n", 
            "\n"
          ], 
          "outputs": [
            {
              "output_type": "stream", 
              "stream": "stdout", 
              "text": [
                "\n", 
                "\n", 
                "*****Start of the Attest *****\n", 
                "\n", 
                "MyGrouper is < (GrouperClass), 4557736720>\n", 
                "   /{ \n", 
                "   /  '<New><Instance>IdInt' : 4557736720\n", 
                "   /  '<New><Instance>NewtorkAttentionStr' : \n", 
                "   /  '<New><Instance>NewtorkCatchStr' : \n", 
                "   /  '<New><Instance>NewtorkCollectionStr' : \n", 
                "   /  '<New><Instance>NodeCollectionStr' : Globals\n", 
                "   /  '<New><Instance>NodeIndexInt' : -1\n", 
                "   /  '<New><Instance>NodeKeyStr' : TopGrouper\n", 
                "   /  '<New><Instance>NodePointDeriveNoder' : None\n", 
                "   /  '<New><Instance>NodePointOrderedDict' : None\n", 
                "   /  '<New><Instance>TreeCollectionOrderedDict' : \n", 
                "   /   /{ \n", 
                "   /   /  'FirstChildGrouper' : < (GrouperClass), 4557737424>\n", 
                "   /   /   /{ \n", 
                "   /   /   /  '<New><Instance>IdInt' : 4557737424\n", 
                "   /   /   /  '<New><Instance>NewtorkAttentionStr' : \n", 
                "   /   /   /  '<New><Instance>NewtorkCatchStr' : \n", 
                "   /   /   /  '<New><Instance>NewtorkCollectionStr' : \n", 
                "   /   /   /  '<New><Instance>NodeCollectionStr' : Tree\n", 
                "   /   /   /  '<New><Instance>NodeIndexInt' : 0\n", 
                "   /   /   /  '<New><Instance>NodeKeyStr' : FirstChildGrouper\n", 
                "   /   /   /  '<New><Instance>NodePointDeriveNoder' : {...}< (GrouperClass), 4557736720>\n", 
                "   /   /   /  '<New><Instance>NodePointOrderedDict' : {...}< (OrderedDict), 4558901328>\n", 
                "   /   /   /  '<New><Instance>TreeCollectionOrderedDict' : \n", 
                "   /   /   /   /{ \n", 
                "   /   /   /   /  'GrandChildGrouper' : < (GrouperClass), 4557736080>\n", 
                "   /   /   /   /   /{ \n", 
                "   /   /   /   /   /  '<New><Instance>IdInt' : 4557736080\n", 
                "   /   /   /   /   /  '<New><Instance>NewtorkAttentionStr' : \n", 
                "   /   /   /   /   /  '<New><Instance>NewtorkCatchStr' : \n", 
                "   /   /   /   /   /  '<New><Instance>NewtorkCollectionStr' : \n", 
                "   /   /   /   /   /  '<New><Instance>NodeCollectionStr' : Tree\n", 
                "   /   /   /   /   /  '<New><Instance>NodeIndexInt' : 0\n", 
                "   /   /   /   /   /  '<New><Instance>NodeKeyStr' : GrandChildGrouper\n", 
                "   /   /   /   /   /  '<New><Instance>NodePointDeriveNoder' : {...}< (GrouperClass), 4557737424>\n", 
                "   /   /   /   /   /  '<New><Instance>NodePointOrderedDict' : {...}< (OrderedDict), 4557717040>\n", 
                "   /   /   /   /   /  '<New><Instance>TreeCollectionOrderedDict' : \n", 
                "   /   /   /   /   /   /{ \n", 
                "   /   /   /   /   /   /}\n", 
                "   /   /   /   /   /  '<Spe><Class>GroupedInt' : -1\n", 
                "   /   /   /   /   /  '<Spe><Class>GroupedKeyStr' : \n", 
                "   /   /   /   /   /  '<Spe><Class>GroupedParentVariable' : None\n", 
                "   /   /   /   /   /  '<Spe><Instance>GroupedDeriveParentersList' : []\n", 
                "   /   /   /   /   /  '<Spe><Instance>GroupedPathStr' : /TopGrouper/FirstChildGrouper/GrandChildGrouper\n", 
                "   /   /   /   /   /  '<Spe><Instance>GroupedPathStrsList' : []\n", 
                "   /   /   /   /   /}\n", 
                "   /   /   /   /}\n", 
                "   /   /   /  '<Spe><Class>GroupedInt' : -1\n", 
                "   /   /   /  '<Spe><Class>GroupedKeyStr' : \n", 
                "   /   /   /  '<Spe><Class>GroupedParentVariable' : None\n", 
                "   /   /   /  '<Spe><Instance>GroupedDeriveParentersList' : []\n", 
                "   /   /   /  '<Spe><Instance>GroupedPathStr' : /TopGrouper/FirstChildGrouper\n", 
                "   /   /   /  '<Spe><Instance>GroupedPathStrsList' : []\n", 
                "   /   /   /}\n", 
                "   /   /  'SecondChildGrouper' : < (GrouperClass), 4557736208>\n", 
                "   /   /   /{ \n", 
                "   /   /   /  '<New><Instance>IdInt' : 4557736208\n", 
                "   /   /   /  '<New><Instance>NewtorkAttentionStr' : \n", 
                "   /   /   /  '<New><Instance>NewtorkCatchStr' : \n", 
                "   /   /   /  '<New><Instance>NewtorkCollectionStr' : \n", 
                "   /   /   /  '<New><Instance>NodeCollectionStr' : Tree\n", 
                "   /   /   /  '<New><Instance>NodeIndexInt' : 1\n", 
                "   /   /   /  '<New><Instance>NodeKeyStr' : SecondChildGrouper\n", 
                "   /   /   /  '<New><Instance>NodePointDeriveNoder' : {...}< (GrouperClass), 4557736720>\n", 
                "   /   /   /  '<New><Instance>NodePointOrderedDict' : {...}< (OrderedDict), 4558901328>\n", 
                "   /   /   /  '<New><Instance>TreeCollectionOrderedDict' : \n", 
                "   /   /   /   /{ \n", 
                "   /   /   /   /}\n", 
                "   /   /   /  '<Spe><Class>GroupedInt' : -1\n", 
                "   /   /   /  '<Spe><Class>GroupedKeyStr' : \n", 
                "   /   /   /  '<Spe><Class>GroupedParentVariable' : None\n", 
                "   /   /   /  '<Spe><Instance>GroupedDeriveParentersList' : []\n", 
                "   /   /   /  '<Spe><Instance>GroupedPathStr' : /TopGrouper/SecondChildGrouper\n", 
                "   /   /   /  '<Spe><Instance>GroupedPathStrsList' : []\n", 
                "   /   /   /}\n", 
                "   /   /}\n", 
                "   /  '<Spe><Class>GroupedInt' : -1\n", 
                "   /  '<Spe><Class>GroupedKeyStr' : \n", 
                "   /  '<Spe><Class>GroupedParentVariable' : None\n", 
                "   /  '<Spe><Instance>GroupedDeriveParentersList' : []\n", 
                "   /  '<Spe><Instance>GroupedPathStr' : /\n", 
                "   /  '<Spe><Instance>GroupedPathStrsList' : []\n", 
                "   /}\n", 
                "\n", 
                "------\n", 
                "\n", 
                "MyGrouper.hdfview().HdformatedStr is /                        Group\n", 
                "/TopGrouper              Group\n", 
                "/TopGrouper/FirstChildGrouper Group\n", 
                "/TopGrouper/FirstChildGrouper/GrandChildGrouper Group\n", 
                "/TopGrouper/SecondChildGrouper Group\n", 
                "\n", 
                "\n", 
                "*****End of the Attest *****\n", 
                "\n", 
                "\n"
              ]
            }
          ], 
          "collapsed": false, 
          "metadata": {
            "slideshow": {
              "slide_type": "-"
            }
          }
        }
      ]
    }
  ], 
  "metadata": {
    "name": "", 
    "signature": ""
  }, 
  "nbformat_minor": 0
}