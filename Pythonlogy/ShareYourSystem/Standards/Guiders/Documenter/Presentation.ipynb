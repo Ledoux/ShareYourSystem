{
  "nbformat": 3, 
  "worksheets": [
    {
      "cells": [
        {
          "source": "\n<!--\nFrozenIsBool False\n-->\n\n#Documenter\n\n##Doc\n----\n\n\n> \n> The Documenter\n> \n> \n\n----\n\n<small>\nView the Documenter notebook on [NbViewer](http://nbviewer.ipython.org/url/shareyoursystem.ouvaton.org/Documenter.ipynb)\n</small>\n\n", 
          "cell_type": "markdown", 
          "prompt_number": 0, 
          "metadata": {
            "slideshow": {
              "slide_type": "slide"
            }
          }
        }, 
        {
          "source": "\n<!--\nFrozenIsBool False\n-->\n\n##Code\n\n----\n\n<ClassDocStr>\n\n----\n\n```python\n# -*- coding: utf-8 -*-\n\"\"\"\n\n\n<DefineSource>\n@Date : Fri Nov 14 13:20:38 2014 \\n\n@Author : Erwan Ledoux \\n\\n\n</DefineSource>\n\n\nThe Documenter\n\n\"\"\"\n\n#<DefineAugmentation>\nimport ShareYourSystem as SYS\nBaseModuleStr=\"ShareYourSystem.Guiders.Documenter\"\nDecorationModuleStr=\"ShareYourSystem.Standards.Classors.Classer\"\nSYS.setSubModule(globals())\n#</DefineAugmentation>\n\n#<ImportSpecificModules>\nimport collections\nimport os\nimport copy\nimport sys\nfrom ShareYourSystem.Standards.Classors import Doer\nfrom ShareYourSystem.Guiders import Celler\nReadmer=BaseModule\n#</ImportSpecificModules>\n\n#<DefineLocals>\nDocumentingOntologyLocalFolderPathStr=SYS.ShareYourSystemLocalFolderPathStr+'Ouvaton/'\nDocumentingNbviewerLocalFolderPathStr=SYS.ShareYourSystemLocalFolderPathStr+'Ouvaton/'\nDocumentingDocumentLocalFolderPathStr=SYS.ShareYourSystemLocalFolderPathStr+'docs/LibraryReference/'\nDocumentingOntologyOuvatonFolderPathStr='/httpdocs/slides/'\nDocumentingNbviewerOuvatonFolderPathStr='/httpdocs/ipython/'\n#</DefineLocals>\n\n#<DefineFunctions>\ndef getDocumentedReadmeInstanceVariableWithFolderPathStr(\n\t\t_InstanceVariable,_FolderPathStr\n\t):\n\n\t#file first\n\treturn _InstanceVariable.notebook(\n\t\t\t**{\n\t\t\t\t'FolderingPathVariable':_FolderPathStr,\n\t\t\t\t'GuidingBookStr':\"Doc\",\n\t\t\t\t'NotebookingFileKeyStr':\"Presentation.ipynb\"\n\t\t\t}\n\t).nbconvert(\"Readme.md\")\n#</DefineFunctions>\n\n\n#<DefineClass>\n@DecorationClass()\nclass DocumenterClass(BaseClass):\n\t\n\t#Definition\n\tRepresentingKeyStrsList=[\n\t\t\t\t\t\t\t\t'DocumentingConceptFolderPathStr',\n\t\t\t\t\t\t\t\t'DocumentingSubReadmeIsBool',\n\t\t\t\t\t\t\t\t'DocumentingConceptReadmeIsBool',\n\t\t\t\t\t\t\t\t'DocumentingConceptDocumentIsBool',\n\t\t\t\t\t\t\t\t'DocumentingConceptSlideIsBool',\n\t\t\t\t\t\t\t\t'DocumentingSiteDocumentIsBool',\n\t\t\t\t\t\t\t\t'DocumentedConceptModule',\n\t\t\t\t\t\t\t\t'DocumentedConceptModuleStr',\n\t\t\t\t\t\t\t\t'DocumentedConceptModuleFolderPathStr',\n\t\t\t\t\t\t\t\t'DocumentedSubNameStrsList',\n\t\t\t\t\t\t\t\t'DocumentedSubModulesList',\n\t\t\t\t\t\t\t\t'DocumentedSubModuleStrsList',\n\t\t\t\t\t\t\t\t'DocumentedSubModuleLocalFolderPathStrsList',\n\t\t\t\t\t\t\t\t#'DocumentedPresentationsDictsList',\n\t\t\t\t\t\t\t\t#'DocumentedConceptNotebookDict'\n\t\t\t\t\t\t\t]\n\n\tdef default_init(self,\n\t\t\t\t\t\t_DocumentingConceptFolderPathStr=\"\",\n\t\t\t\t\t\t_DocumentingSubReadmeIsBool=True,\n\t\t\t\t\t\t_DocumentingConceptReadmeIsBool=True,\n\t\t\t\t\t\t_DocumentingConceptDocumentIsBool=True,\n\t\t\t\t\t\t_DocumentingConceptSlideIsBool=True,\n\t\t\t\t\t\t_DocumentingSiteDocumentIsBool=True,\n\t\t\t\t\t\t_DocumentedConceptModule=None,\n\t\t\t\t\t\t_DocumentedConceptModuleStr=\"\",\n\t\t\t\t\t\t_DocumentedConceptModuleFolderPathStr=\"\",\n\t\t\t\t\t\t_DocumentedSubNameStrsList=None,\n\t\t\t\t\t\t_DocumentedSubModulesList=None,\n\t\t\t\t\t\t_DocumentedSubModuleStrsList=None,\n\t\t\t\t\t\t_DocumentedSubModuleLocalFolderPathStrsList=None,\n\t\t\t\t\t\t_DocumentedPresentationsDictsList=None,\n\t\t\t\t\t\t_DocumentedConceptNotebookDict=None,\n\t\t\t\t\t\t**_KwargVariablesDict\n\t\t\t\t\t):\n\n\t\t#Call the parent __init__ method\n\t\tBaseClass.__init__(self,**_KwargVariablesDict)\n\n\tdef do_inform(self):\n\t\t\n\t\t#debug\n\t\t'''\n\t\tself.debug(('self.',self,['DocumentingSubReadmeIsBool','DocumentingConceptDocumentIsBool']))\n\t\t'''\n\n\t\t#install first\n\t\tself.install()\n\n\t\t#Check\n\t\tif self.DocumentingConceptFolderPathStr==\"\":\n\t\t\tself.DocumentingConceptFolderPathStr='ShareYourSystem'.join(\n\t\t\t\tos.getcwd().split('ShareYourSystem')[:-1]\n\t\t\t)+'ShareYourSystem/'\n\n\t\t#debug\n\t\t'''\n\t\tself.debug(('self.',self,['DocumentingConceptFolderPathStr']))\n\t\t'''\n\n\t\t#debug\n\t\tself.folder(self.DocumentingConceptFolderPathStr)\n\t\tself.DocumentedConceptModuleStr=self.FolderedModuleStr\n\n\t\t#debug\n\t\t'''\n\t\tself.debug(('self.',self,[\n\t\t\t\t\t\t\t\t\t'FolderedModuleStr',\n\t\t\t\t\t\t\t\t\t'FolderedDirKeyStrsList'\n\t\t\t\t\t\t\t\t]))\n\t\t'''\n\n\t\t#filter\n\t\tself.DocumentedSubNameStrsList=SYS._filter(\n\t\t\tlambda __FolderedDirKeyStr:\n\t\t\tos.path.isdir(\n\t\t\t\tself.FolderingPathVariable+__FolderedDirKeyStr\n\t\t\t) and __FolderedDirKeyStr in Doer.DoerStrToDoStrOrderedDict.keys(),\n\t\t\tself.FolderedDirKeyStrsList\n\t\t)\t\n\n\t\t#debug\n\t\t'''\n\t\tself.debug(('self.',self,['DocumentedSubNameStrsList','InstalledNameStrsList']))\n\t\t'''\n\t\t\n\t\t#sort\n\t\tself.DocumentedSubNameStrsList=SYS._filter(\n\t\t\t\tlambda __InstalledNameStr:\n\t\t\t\t__InstalledNameStr in self.DocumentedSubNameStrsList,\n\t\t\t\tself.InstalledNameStrsList\n\t\t\t)\n\t\t#map\n\t\tself.DocumentedSubModuleStrsList=map(\n\t\t\tlambda __DocumentedSubNameStr:\n\t\t\tself.DocumentedConceptModuleStr+'.'+__DocumentedSubNameStr,\n\t\t\tself.DocumentedSubNameStrsList\n\t\t)\t\n\n\t\t#Check\n\t\tself.DocumentedConceptNameStr=self.FolderingPathVariable.split(\n\t\t\t\t\t'/'\n\t\t\t)[-1] if self.FolderingPathVariable[-1]!='/' else self.FolderingPathVariable.split('/'\n\t\t\t)[-2]\n\n\t\t#debug\n\t\t'''\n\t\tself.debug(('self.',self,[\n\t\t\t\t\t\t\t\t\t'DocumentedSubNameStrsList',\n\t\t\t\t\t\t\t\t\t'DocumentedSubModuleStrsList',\n\t\t\t\t\t\t\t\t\t'DocumentedConceptNameStr'\n\t\t\t\t\t\t\t\t]))\n\t\t'''\n\n\t\t#check\n\t\tif self.DocumentedConceptNameStr in SYS.PluralStrToSingularStrOrderedDict.keys():\n\t\t\t\n\t\t\t#package\n\t\t\tself.DocumentedConceptModule=self.package(\n\t\t\t\tself.FolderedModuleStr\n\t\t\t).PackagedModuleVariable\n\n\t\t#join\n\t\tself.DocumentedConceptModuleFolderPathStr='/'.join(\n\t\t\tself.DocumentedConceptModule.__file__.split(\n\t\t\t'/'\n\t\t\t)[:-1]\n\t\t)+'/'\n\n\t\t#debug\n\t\t'''\n\t\tself.debug(('self.',self,['DocumentedConceptModule']))\n\t\t'''\n\n\t\t#filter\n\t\tself.DocumentedSubModulesList=SYS._filter(\n\t\t\t\tlambda __AttributeValueVariable:\n\t\t\t\ttype(__AttributeValueVariable).__name__=='module',\n\t\t\t\tself.DocumentedConceptModule.__dict__.values()\n\t\t\t)\n\n\t\t#debug\n\t\t'''\n\t\tself.debug((\n\t\t\t\t\t'self.',self,[\n\t\t\t\t\t\t\t'DocumentedSubModulesList'\n\t\t\t\t\t\t]\n\t\t\t\t\t))\n\t\t'''\n\n\t\t#Check\n\t\tif self.DocumentingSubReadmeIsBool:\n\n\t\t\t#debug\n\t\t\t'''\n\t\t\tself.debug(\n\t\t\t\t\t\t[\n\t\t\t\t\t\t\t'we build sub modules readmes here',\n\t\t\t\t\t\t\t('self.',self,['DocumentedSubModuleStrsList'])\n\t\t\t\t\t\t]\n\t\t\t\t\t)\n\t\t\t'''\n\n\t\t\t#map\n\t\t\tmap(\n\t\t\t\t\tlambda __DocumentedSubModuleStr:\n\t\t\t\t\tself.package(\n\t\t\t\t\t\t\t__DocumentedSubModuleStr\n\t\t\t\t\t\t).scriptbook(\n\t\t\t\t\t\t_GuideTuplesList=[\n\t\t\t\t\t\t\t\t('001','Document','Markdown'),\n\t\t\t\t\t\t\t],\n\t\t\t\t\t\t\t**{\n\t\t\t\t\t\t\t\t'GuidingBookStr':\"Doc\",\n\t\t\t\t\t\t\t}\n\t\t\t\t\t\t).notebook(\n\t\t\t\t\t\t\t\"PreReadme.ipynb\"\n\t\t\t\t\t\t).nbconvert(\n\t\t\t\t\t\t\t\"Readme.md\"\n\t\t\t\t\t\t),\n\t\t\t\t\tself.DocumentedSubModuleStrsList\n\t\t\t\t)\n\t\t\t\n\t\t#Check\n\t\tif self.DocumentingConceptSlideIsBool:\n\t\t\t\n\t\t\t#debug\n\t\t\t'''\n\t\t\tself.debug(\n\t\t\t\t\t\t[\n\t\t\t\t\t\t\t'we slide here',\n\t\t\t\t\t\t\t('self.',self,['DocumentedSubModuleStrsList'])\n\t\t\t\t\t\t]\n\t\t\t\t\t\t)\n\t\t\t'''\n\n\t\t\t#map\n\t\t\tmap(\n\t\t\t\t\tlambda __DocumentedSubModuleStr:\n\t\t\t\t\tself.package(\n\t\t\t\t\t\t\t__DocumentedSubModuleStr\n\t\t\t\t\t\t).scriptbook(\n\t\t\t\t\t\t_GuideTuplesList=[\n\t\t\t\t\t\t\t\t('001','Document','Markdown'),\n\t\t\t\t\t\t\t\t('002','Github','Markdown'),\n\t\t\t\t\t\t\t],\n\t\t\t\t\t\t\t**{\n\t\t\t\t\t\t\t\t'GuidingBookStr':\"Doc\",\n\t\t\t\t\t\t\t}\n\t\t\t\t\t\t).notebook(\n\t\t\t\t\t\t\t\"Presentation.ipynb\",\n\t\t\t\t\t\t\t**{'WritingLoadBool':False}\n\t\t\t\t\t\t).nbconvert(\n\t\t\t\t\t\t\t\"Presentation.html\",\n\t\t\t\t\t\t\t'Slide'\n\t\t\t\t\t\t),\n\t\t\t\t\tself.DocumentedSubModuleStrsList\n\t\t\t\t)\n\t\t\t\n\t\t\t#mv for Nbviewer ipython notebooks\n\t\t\tmap(\n\t\t\t\t\tlambda __DocumentedSubModuleStr:\n\t\t\t\t\tos.popen(\n\t\t\t\t\t\t'cp '+sys.modules[\n\t\t\t\t\t\t\t__DocumentedSubModuleStr\n\t\t\t\t\t\t].LocalFolderPathStr+'Presentation.ipynb '+DocumentingNbviewerLocalFolderPathStr+__DocumentedSubModuleStr.split(\n\t\t\t\t\t\t\t\t'.'\n\t\t\t\t\t\t\t)[-1]+'.ipynb'\n\t\t\t\t\t),\n\t\t\t\t\tself.DocumentedSubModuleStrsList\n\t\t\t\t)\n\n\t\t\t#mv for Ouvaton slide in html\n\t\t\tmap(\n\t\t\t\t\tlambda __DocumentedSubModuleStr:\n\t\t\t\t\tos.popen(\n\t\t\t\t\t\t'cp '+sys.modules[\n\t\t\t\t\t\t\t__DocumentedSubModuleStr\n\t\t\t\t\t\t].LocalFolderPathStr+'Presentation.html '+DocumentingOntologyLocalFolderPathStr+__DocumentedSubModuleStr.split(\n\t\t\t\t\t\t\t\t'.'\n\t\t\t\t\t\t\t)[-1]+'.html'\n\t\t\t\t\t),\n\t\t\t\t\tself.DocumentedSubModuleStrsList\n\t\t\t\t)\n\n\t\t\t#mv for Ouvaton slide in php\n\t\t\tmap(\n\t\t\t\t\tlambda __DocumentedSubModuleStr:\n\t\t\t\t\tos.popen(\n\t\t\t\t\t\t'cp '+sys.modules[\n\t\t\t\t\t\t\t__DocumentedSubModuleStr\n\t\t\t\t\t\t].LocalFolderPathStr+'Presentation.html '+DocumentingOntologyLocalFolderPathStr+__DocumentedSubModuleStr.split(\n\t\t\t\t\t\t\t\t'.'\n\t\t\t\t\t\t\t)[-1]+'.php'\n\t\t\t\t\t),\n\t\t\t\t\tself.DocumentedSubModuleStrsList\n\t\t\t\t)\n\n\t\t\t#map\n\t\t\tself.DocumentedSubModuleLocalFolderPathStrsList=map(\n\t\t\t\t\tlambda __DocumentedSubModuleStr:\n\t\t\t\t\tSYS.PythonlogyLocalFolderPathStr+__DocumentedSubModuleStr.replace(\n\t\t\t\t\t\t'.','/'\n\t\t\t\t\t),\n\t\t\t\t\tself.DocumentedSubModuleStrsList\n\t\t\t\t)\n\n\t\t\t#map\n\t\t\tself.DocumentedPresentationsDictsList=map(\n\t\t\t\t\tlambda __DocumentedSubModuleFolderPathStr:\n\t\t\t\t\tself.load(\n\t\t\t\t\t\t**{\n\t\t\t\t\t\t\t'FolderingPathVariable':__DocumentedSubModuleFolderPathStr,\n\t\t\t\t\t\t\t'FilingKeyStr':'Presentation.ipynb',\n\t\t\t\t\t\t\t'LoadingFormatStr':'json'\n\t\t\t\t\t\t}\n\t\t\t\t\t).close(\n\t\t\t\t\t).LoadedReadVariable,\n\t\t\t\t\tself.DocumentedSubModuleLocalFolderPathStrsList\n\t\t\t\t)\t\t\t\t\t\n\n\t\t\t#debug\n\t\t\t'''\n\t\t\tself.debug(\n\t\t\t\t\t\t'self.DocumentedPresentationsDictsList is '+SYS._str(self.DocumentedPresentationsDictsList)\n\t\t\t\t\t)\n\t\t\t'''\n\n\t\t\t#copy\n\t\t\tself.DocumentedConceptNotebookDict=copy.copy(Celler.CellingInitDict)\n\n\t\t\t#flat\n\t\t\tDocumentedFlatPresentationsDictsList=SYS.flat(\n\t\t\t\t\tmap(\n\t\t\t\t\t\t\tlambda __DocumentedPresentationsDict:\n\t\t\t\t\t\t\tcopy.deepcopy(\n\t\t\t\t\t\t\t\t__DocumentedPresentationsDict['worksheets'][0]['cells']\n\t\t\t\t\t\t\t\t),\n\t\t\t\t\t\t\tself.DocumentedPresentationsDictsList\n\t\t\t\t\t\t)\n\t\t\t\t\t)\n\n\t\t\t#Flat all the presentations\n\t\t\tself.DocumentedConceptNotebookDict['worksheets']=[\n\t\t\t\t{\n\t\t\t\t\t'cells':map(\n\t\t\t\t\t\tlambda __DocumentedFlatPresentationsDict,__IndexInt:\n\t\t\t\t\t\tdict(__DocumentedFlatPresentationsDict,**{\n\t\t\t\t\t\t\t'prompt_number':__IndexInt}),\n\t\t\t\t\t\tDocumentedFlatPresentationsDictsList,\n\t\t\t\t\t\txrange(len(DocumentedFlatPresentationsDictsList))\n\t\t\t\t\t)\n\t\t\t\t}\n\t\t\t]\n\n\t\t\t#debug\n\t\t\t'''\n\t\t\tself.debug(('self.',self,['DocumentedConceptNotebookDict']))\n\t\t\t'''\n\n\t\t\t#Write\n\t\t\tself.write(\n\t\t\t\tself.DocumentedConceptNotebookDict,\n\t\t\t\t**{\n\t\t\t\t\t'FolderingPathVariable':self.DocumentingConceptFolderPathStr,\n\t\t\t\t\t'FilingKeyStr':'Concept'+self.GuidingBookStr+'.ipynb',\n\t\t\t\t\t'LoadingFormatStr':'json'\n\t\t\t\t}\n\t\t\t).close()\n\n\n\t\t\t#nbconvert\n\t\t\tself.NotebookedCodeDict=self.DocumentedConceptNotebookDict\n\t\t\tself.nbconvert(\n\t\t\t\t_FormatStr='Slide',\n\t\t\t\t**{\n\t\t\t\t\t'FolderingPathVariable':self.DocumentingConceptFolderPathStr,\n\t\t\t\t\t'NotebookingFileKeyStr':'Concept'+self.GuidingBookStr+'.ipynb'\n\t\t\t\t}\n\t\t\t)\n\n\t\t\t#set\n\t\t\tself.DocumentedSlideLocalFilePathStr=DocumentingOntologyLocalFolderPathStr+self.DocumentedConceptModule.__name__.split('.')[-1]+'.html'\n\n\t\t\t#cp\n\t\t\tos.popen('cp '+self.FiledPathStr+' '+self.DocumentedSlideLocalFilePathStr+self.DocumentedConceptModule.__name__.split('.')[-1]+'.ipynb')\n\n\t\t\t#mv with .html extension\n\t\t\tos.popen(\n\t\t\t\t\t'cp '+self.FiledPathStr.replace(\n\t\t\t\t\t'.ipynb',\n\t\t\t\t\t'.html'\n\t\t\t\t\t)+' '+self.DocumentedSlideLocalFilePathStr\n\t\t\t\t)\n\n\t\t\t#mv with .php extension\n\t\t\tos.popen(\n\t\t\t\t\t'mv '+self.FiledPathStr.replace(\n\t\t\t\t\t'.ipynb',\n\t\t\t\t\t'.html'\n\t\t\t\t\t)+' '+self.DocumentedSlideLocalFilePathStr.replace('.html','.php')\n\t\t\t\t)\n\n\t\t\t#deploy\n\t\t\ttry:\n\t\t\t\tself.deploy(\n\t\t\t\t\t_ClientFilePathStrToServerFilePathStrOrderedDict=collections.OrderedDict(\n\t\t\t\t\t\t[\n\t\t\t\t\t\t\t(\n\t\t\t\t\t\t\t\tself.DocumentedSlideLocalFilePathStr,\n\t\t\t\t\t\t\t\tDocumentingOntologyOuvatonFolderPathStr+self.DocumentedConceptModule.__name__.split('.'\n\t\t\t\t\t\t\t\t\t)[-1]+'.php'\n\t\t\t\t\t\t\t)\n\t\t\t\t\t\t]\n\t\t\t\t\t)\n\t\t\t\t)\n\t\t\texcept:\n\t\t\t\tprint('There is NO Internet !')\n\t\t\t\t\n\t\t#Check\n\t\tif self.DocumentingConceptReadmeIsBool:\n\n\t\t\t#debug\n\t\t\t'''\n\t\t\tself.debug('we build the concept readme here')\n\t\t\t'''\n\n\t\t\t#import submodules\n\t\t\t'''\n\t\t\tmap(\n\t\t\t\t\tlambda __DocumentedSubModuleStr:\n\t\t\t\t\timportlib.import_modules(__DocumentedSubModuleStr),\n\t\t\t\t\tself.DocumentedSubModuleStrsList\n\t\t\t\t)\n\t\t\t'''\n\n\t\t\t#readme\n\t\t\tself.package(\n\t\t\t\t\tself.DocumentedConceptModuleStr\n\t\t\t\t).scriptbook(\n\t\t\t\t\t_GuideTuplesList=[\n\t\t\t\t\t\t('001','Document','Markdown'),\n\t\t\t\t\t\t('002','Ouvaton','Markdown'),\n\t\t\t\t\t\t('1','Github','Markdown'),\n\t\t\t\t\t],\n\t\t\t\t\t**{'GuidingBookStr':\"Doc\"}\n\t\t\t\t)\n\n\t\t\t#notebook\n\t\t\tself.scriptbook(\n\t\t\t\t\t_GuideTuplesList=[]\n\t\t\t\t).notebook(\n\t\t\t\t\t\"PreReadme.ipynb\"\n\t\t\t\t).nbconvert(\n\t\t\t\t\t\"Readme.md\",\n\t\t\t\t\t'Markdown',\n\t\t\t)\n\n\t\t#Check\n\t\tif self.DocumentingConceptDocumentIsBool:\n\n\t\t\t#debug\n\t\t\t'''\n\t\t\tself.debug(\n\t\t\t\t\t\t[\n\t\t\t\t\t\t\t'we document here',\n\t\t\t\t\t\t\t('self.',self,['DocumentedConceptModuleFolderPathStr'])\n\t\t\t\t\t\t]\n\t\t\t\t\t)\n\t\t\t'''\n\n\t\t\t'''\n\t\t\t#document\n\t\t\tself.document(\n\t\t\t\t**{'PackagingModuleVariable':self.DocumentedConceptModuleStr}\n\t\t\t)\t\n\t\t\t'''\n\n\t\t\t#package\n\t\t\tself.package(self.DocumentedConceptModuleStr)\n\n\t\t\t#mv with .php extension\n\t\t\tos.popen(\n\t\t\t\t\t'cp '+self.PackagedLocalFolderPathStr+'Readme.md  '+DocumentingDocumentLocalFolderPathStr+self.DocumentedConceptModuleStr.split('.')[-1]+'.md'\n\t\t\t\t)\n\n\t\t\t#Return self\n\t\t\t#return self\n\n\t\tif self.DocumentingSiteDocumentIsBool:\n\n\t\t\t#open\n\t\t\tos.popen(\n\t\t\t\t\t\t'mkdocs build --clean'\n\t\t\t\t)\n\n\t\t\t#deploy\n\t\t\ttry:\n\t\t\t\tself.deploy(\n\t\t\t\t\t_ClientFilePathStrToServerFilePathStrOrderedDict=collections.OrderedDict(\n\t\t\t\t\t\t[\n\t\t\t\t\t\t\t(\n\t\t\t\t\t\t\t\tself.DocumentedSlideLocalFilePathStr,\n\t\t\t\t\t\t\t\tDocumentingOntologyOuvatonFolderPathStr+self.DocumentedConceptModule.__name__.split('.'\n\t\t\t\t\t\t\t\t\t)[-1]+'.php'\n\t\t\t\t\t\t\t)\n\t\t\t\t\t\t]\n\t\t\t\t\t)\n\t\t\t\t)\n\t\t\texcept:\n\t\t\t\tprint('There is NO Internet !')\n\n#</DefineClass>\n\n```\n\n<small>\nView the Documenter sources on <a href=\"https://github.com/Ledoux/ShareYourSystem/tree/master/Pythonlogy/ShareYourSystem/Guiders/Documenter\" target=\"_blank\">Github</a>\n</small>\n\n", 
          "cell_type": "markdown", 
          "prompt_number": 1, 
          "metadata": {
            "slideshow": {
              "slide_type": "subslide"
            }
          }
        }, 
        {
          "source": "\n<!---\nFrozenIsBool True\n-->\n\n##Example\n\nLet's create an empty class, which will automatically receive\nspecial attributes from the decorating ClassorClass,\nspecially the NameStr, that should be the ClassStr\nwithout the TypeStr in the end.", 
          "cell_type": "markdown", 
          "prompt_number": 2, 
          "metadata": {
            "slideshow": {
              "slide_type": "subslide"
            }
          }
        }, 
        {
          "cell_type": "code", 
          "prompt_number": 3, 
          "language": "python", 
          "input": [
            "#ImportModules\n", 
            "import ShareYourSystem as SYS\n", 
            "from ShareYourSystem.Guiders import Documenter\n", 
            "\n", 
            "#Definition an Documenter instance\n", 
            "MyDocumenter=Documenter.DocumenterClass()\n", 
            "\n", 
            "#Definition the AttestedStr\n", 
            "SYS._attest(\n", 
            "    [\n", 
            "        'MyDocumenter is '+SYS._str(\n", 
            "        MyDocumenter,\n", 
            "        **{\n", 
            "            'RepresentingBaseKeyStrsListBool':False,\n", 
            "            'RepresentingAlineaIsBool':False\n", 
            "        }\n", 
            "        )\n", 
            "    ]\n", 
            ") \n", 
            "\n", 
            "\n"
          ], 
          "outputs": [
            {
              "output_type": "stream", 
              "stream": "stdout", 
              "text": [
                "\n", 
                "\n", 
                "*****Start of the Attest *****\n", 
                "\n", 
                "MyDocumenter is < (DocumenterClass), 4540557008>\n", 
                "   /{ \n", 
                "   /  '<New><Instance>IdInt' : 4540557008\n", 
                "   /  '<Spe><Class>DocumentedConceptModule' : None\n", 
                "   /  '<Spe><Class>DocumentedConceptModuleFolderPathStr' : \n", 
                "   /  '<Spe><Class>DocumentedConceptModuleStr' : \n", 
                "   /  '<Spe><Class>DocumentedSubModuleLocalFolderPathStrsList' : None\n", 
                "   /  '<Spe><Class>DocumentedSubModuleStrsList' : None\n", 
                "   /  '<Spe><Class>DocumentedSubModulesList' : None\n", 
                "   /  '<Spe><Class>DocumentedSubNameStrsList' : None\n", 
                "   /  '<Spe><Class>DocumentingConceptDocumentIsBool' : True\n", 
                "   /  '<Spe><Class>DocumentingConceptFolderPathStr' : \n", 
                "   /  '<Spe><Class>DocumentingConceptReadmeIsBool' : True\n", 
                "   /  '<Spe><Class>DocumentingConceptSlideIsBool' : True\n", 
                "   /  '<Spe><Class>DocumentingSiteDocumentIsBool' : True\n", 
                "   /  '<Spe><Class>DocumentingSubReadmeIsBool' : True\n", 
                "   /}\n", 
                "\n", 
                "*****End of the Attest *****\n", 
                "\n", 
                "\n"
              ]
            }
          ], 
          "collapsed": false, 
          "metadata": {
            "slideshow": {
              "slide_type": "-"
            }
          }
        }
      ]
    }
  ], 
  "metadata": {
    "name": "", 
    "signature": ""
  }, 
  "nbformat_minor": 0
}