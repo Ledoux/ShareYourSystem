{
 "metadata": {
  "name": "",
  "signature": "sha256:c1687ba972889de3b1d03371decd862c13f5fc4a6bd6353826a4450d5647df13"
 },
 "nbformat": 3,
 "nbformat_minor": 0,
 "worksheets": [
  {
   "cells": [
    {
     "cell_type": "markdown",
     "metadata": {},
     "source": [
      "#Installer\n",
      "\n"
     ]
    },
    {
     "cell_type": "markdown",
     "metadata": {},
     "source": [
      "\n",
      "<!--\n",
      "FrozenIsBool False\n",
      "-->\n",
      "\n",
      "##More Descriptions at the level of the class\n",
      "\n",
      "Special attributes of the InstallerClass are :\n"
     ]
    },
    {
     "cell_type": "code",
     "collapsed": false,
     "input": [
      "\n",
      "\n",
      "#ImportModules\n",
      "import ShareYourSystem as SYS\n",
      "from ShareYourSystem.Standards.Objects import Installer\n",
      "\t\t\n",
      "#Definition the AttestedStr\n",
      "SYS._attest(\n",
      "\t\t\t\t\t[\n",
      "\t\t\t\t\t\t'DefaultAttributeItemTuplesList is '+SYS._str(\n",
      "\t\t\t\t\t\t\t\tInstaller.InstallerClass.DefaultAttributeItemTuplesList,\n",
      "\t\t\t\t\t\t\t\t**{'RepresentingAlineaIsBool':False}\n",
      "\t\t\t\t\t\t\t)\n",
      "\t\t\t\t\t]\n",
      "\t\t\t\t) \n",
      "\n",
      "#Print\n",
      "print(AttestedStr)\n",
      "\n"
     ],
     "language": "python",
     "metadata": {},
     "outputs": [
      {
       "output_type": "stream",
       "stream": "stdout",
       "text": [
        "\n",
        "\n",
        "*****Start of the Attest *****\n",
        "\n",
        "DefaultAttributeItemTuplesList is \n",
        "   /[\n",
        "   /  0 : ('InstallingPathStr', '')\n",
        "   /  1 : ('InstalledReadmerPointer', None)\n",
        "   /]\n",
        "\n",
        "*****End of the Attest *****\n",
        "\n",
        "\n",
        "\n"
       ]
      }
     ],
     "prompt_number": 1
    },
    {
     "cell_type": "markdown",
     "metadata": {},
     "source": [
      "\n",
      "<!--\n",
      "FrozenIsBool False\n",
      "-->\n",
      "\n",
      "##More Descriptions at the level of the instances\n",
      "\n",
      "A default call of an instance gives :\n"
     ]
    },
    {
     "cell_type": "code",
     "collapsed": false,
     "input": [
      "\n",
      "\"\"\"\n",
      "FrozenIsBool False\n",
      "\"\"\"\n",
      "\n",
      "#ImportModules\n",
      "from ShareYourSystem.Standards.Classors import Attester\n",
      "from ShareYourSystem.Standards.Objects import Installer\n",
      "\t\t\n",
      "#Definition the AttestedStr\n",
      "SYS._attest(\n",
      "\t\t\t\t\t[\n",
      "\t\t\t\t\t\tInstaller.InstallerClass()\n",
      "\t\t\t\t\t]\n",
      "\t\t\t\t) \n",
      "\n",
      "#Print\n",
      "print(AttestedStr)\n",
      "\n",
      "\n"
     ],
     "language": "python",
     "metadata": {},
     "outputs": [
      {
       "output_type": "stream",
       "stream": "stdout",
       "text": [
        "\n",
        "\n",
        "*****Start of the Attest *****\n",
        "\n",
        "< (InstallerClass), 4526801168>\n",
        "   /{ \n",
        "   /  '<Base><Class>PrintingCopyVariable' : None\n",
        "   /}\n",
        "\n",
        "*****End of the Attest *****\n",
        "\n",
        "\n"
       ]
      }
     ],
     "prompt_number": 3
    },
    {
     "cell_type": "code",
     "collapsed": false,
     "input": [
      "\n",
      "\n",
      "\n",
      "\n",
      "\n"
     ],
     "language": "python",
     "metadata": {},
     "outputs": [
      {
       "ename": "SyntaxError",
       "evalue": "EOF while scanning triple-quoted Str literal (<ipython-input-4-b5c452e9d58b>, line 2)",
       "output_type": "pyerr",
       "traceback": [
        "\u001b[0;36m  File \u001b[0;32m\"<ipython-input-4-b5c452e9d58b>\"\u001b[0;36m, line \u001b[0;32m2\u001b[0m\n\u001b[0;31m    Str=\"\"\"\u001b[0m\n\u001b[0m              ^\u001b[0m\n\u001b[0;31mSyntaxError\u001b[0m\u001b[0;31m:\u001b[0m EOF while scanning triple-quoted Str literal\n"
       ]
      }
     ],
     "prompt_number": 4
    },
    {
     "cell_type": "code",
     "collapsed": false,
     "input": [],
     "language": "python",
     "metadata": {},
     "outputs": []
    }
   ],
   "metadata": {}
  }
 ]
}