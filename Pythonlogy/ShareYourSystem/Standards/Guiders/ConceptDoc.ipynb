{
  "nbformat": 3, 
  "worksheets": [
    {
      "cells": [
        {
          "source": "\n<!--\nFrozenIsBool False\n-->\n\n#Guider\n\n##Doc\n----\n\n\n> \n> The Guider write templated .py or .md files for explaining how\n> work a certain Module\n> \n> \n\n----\n\n<small>\nView the Guider notebook on [NbViewer](http://nbviewer.ipython.org/url/shareyoursystem.ouvaton.org/Guider.ipynb)\n</small>\n\n", 
          "cell_type": "markdown", 
          "prompt_number": 0, 
          "metadata": {
            "slideshow": {
              "slide_type": "slide"
            }
          }
        }, 
        {
          "source": "\n<!--\nFrozenIsBool False\n-->\n\n##Code\n\n----\n\n<ClassDocStr>\n\n----\n\n```python\n# -*- coding: utf-8 -*-\n\"\"\"\n\n\n<DefineSource>\n@Date : Fri Nov 14 13:20:38 2014 \\n\n@Author : Erwan Ledoux \\n\\n\n</DefineSource>\n\n\nThe Guider write templated .py or .md files for explaining how\nwork a certain Module\n\n\"\"\"\n\n#<DefineAugmentation>\nimport ShareYourSystem as SYS\nBaseModuleStr=\"ShareYourSystem.Standards.Interfacers.Deployer\"\nDecorationModuleStr=\"ShareYourSystem.Standards.Classors.Classer\"\nSYS.setSubModule(globals())\n#</DefineAugmentation>\n\n#<ImportSpecificModules>\nimport inspect\nimport os\nimport sys\n#</ImportSpecificModules>\n\n#<DefineFunctions>\nScriptStrAndExtensionStrTuplesList=[\n\t('Latex','.tex'),\n\t('Markdown','.md'),\n\t('Python','.py'),\n]\n#</DefineFunctions>\n\n#<DefineLocals>\n\nGuidingDocumentMarkdownTextStr='''\n<!--\nFrozenIsBool False\n-->\n\n#<NameStr>\n\n##Doc\n----\n\n<ModuleDocStr>\n\n----\n\n<small>\nView the <NameStr> notebook on [NbViewer](http://nbviewer.ipython.org/url/shareyoursystem.ouvaton.org/<NameStr>.ipynb)\n</small>\n\n'''\n\nGuidingGithubMarkdownTextStr='''\n<!--\nFrozenIsBool False\n-->\n\n##Code\n\n----\n\n<ClassDocStr>\n\n----\n\n```python\n<CodeStr>\n```\n\n<small>\nView the <NameStr> sources on <a href=\"'''+SYS.GithubMasterUrlStr+'''/Pythonlogy/<GithubPathStr>\" target=\"_blank\">Github</a>\n</small>\n\n'''\n\nGuidingOuvatonMarkdownTextStr='''\n<!--\nFrozenIsBool False\n-->\n\n##Concept and SubModules family\n\n<script type=\"text/javascript\">\n\n\tvar HrefStr=window.location.href;\n\t//alert(window.location.href)\n\n\tif(HrefStr == \"'''+SYS.OuvatonUrlStr+'''/site/LibraryReference/<NameStr>/\"){\n\n\t    //alert('Ouvaton')\n\t    document.write(\"from \")\n\t    document.write(\"'''+SYS.OuvatonUrlStr+'''/slides/ \")\n\t    document.write(\"<iframe width=\\\\\"725\\\\\" height=\\\\\"300\\\\\" src=\\\\\"\")\n\t    document.write(\"'''+SYS.OuvatonUrlStr+'''\")\n\t    document.write(\"/slides/<NameStr>.php\\\\\"></iframe>\")\n\t}\n\telse if(HrefStr == \"http://127.0.0.1:8000/LibraryReference/<NameStr>/\"){\n\n        //alert('Localhost')\n        document.write(\"from \")\n        document.write(\"localhost mkdocs but direct to ouvaton\")\n        document.write(\"<iframe width=\\\\\"725\\\\\" height=\\\\\"300\\\\\" src=\\\\\"\")\n        document.write(\"'''+SYS.OuvatonUrlStr+'''\")\n        document.write(\"/slides/<NameStr>.php\\\\\"></iframe>\")\n    }\n    else\n    {\n\n        //alert('Local')\n\t    document.write(\"from \")\n\t    document.write(\"'''+SYS.OuvatonLocalFolderPathStr+''' \")\n\t    document.write(\"<iframe width=\\\\\"725\\\\\" height=\\\\\"300\\\\\" src=\\\\\"\")\n\t    document.write(\"'''+SYS.OuvatonLocalFolderPathStr+'''\")\n\t    document.write(\"<NameStr>.html\\\\\"></iframe>\")\n\n    }\n\n</script>\n\n<small>\nView the <NameStr> concept on <a href=\"'''+SYS.OuvatonUrlStr+'''/slides/<NameStr>.php\" target=\"_blank\">Ouvaton</a>\n</small>\n\n'''\n\nGuidingClassMarkdownTextStr='''\n<!--\nFrozenIsBool False\n-->\n\n##More Descriptions at the level of the class\n\nSpecial attributes of the <NameStr>Class are :\n'''\n\nGuidingClassCodeTextStr='''\n#FrozenIsBool False\n\n#ImportModules\nimport ShareYourSystem as SYS\nfrom <ParentModuleStr> import <NameStr>\n\t\t\n#Definition the AttestedStr\nSYS._attest(\n\t[\n\t\t'DefaultAttributeItemTuplesList is '+SYS._str(\n\t\t\t<NameStr>.<NameStr>Class.DefaultAttributeItemTuplesList,\n\t\t\t**{'RepresentingAlineaIsBool':False}\n\t\t)\n\t]\n) \n\n#Print\n\n'''\n\nGuidingInstanceMarkdownTextStr='''\n<!--\nFrozenIsBool False\n-->\n\n##More Descriptions at the level of the instances\n\nA default call of an instance gives :\n'''\n\nGuidingInstanceCodeTextStr='''\n#FrozenIsBool False\n\n#ImportModules\nfrom ShareYourSystem.Standards.Classors import Attester\nfrom <ParentModuleStr> import <NameStr>\n\t\t\n#Definition the AttestedStr\nSYS._attest(\n\t[\n\t\t<NameStr>.<NameStr>Class()\n\t]\n) \n\n#Print\n\n\n'''\nGuidingSortStr='_'\n#</DefineLocals>\n\n\n#<DefineClass>\n@DecorationClass()\nclass GuiderClass(BaseClass):\n\t\n\t#Definition\n\tRepresentingKeyStrsList=[\n\t\t\t\t\t\t\t\t'GuidingIndexStr',\n\t\t\t\t\t\t\t\t'GuidingPageStr',\n\t\t\t\t\t\t\t\t'GuidingBookStr',\n\t\t\t\t\t\t\t\t'GuidingScriptStr',\n\t\t\t\t\t\t\t\t'GuidedIndexStr'\n\t\t\t\t\t\t\t]\n\t\t\t\t\t\t\n\tdef default_init(self,\n\t\t\t\t\t\t_GuidingIndexStr=\"\",\n\t\t\t\t\t\t_GuidingPageStr=\"\",\n\t\t\t\t\t\t_GuidingBookStr=\"\",\n\t\t\t\t\t\t_GuidingScriptStr=\"\",\n\t\t\t\t\t\t_GuidedIndexStr=\"\",\n\t\t\t\t\t\t**_KwargVariablesDict\n\t\t\t\t\t):\n\n\t\t#Call the parent __init__ method\n\t\tBaseClass.__init__(self,**_KwargVariablesDict)\n\n\tdef do_guide(self):\n\t\t\n\t\t#Check\n\t\tif self.PackagingModuleVariable!=None:\n\n\t\t\t#Check\n\t\t\tif self.GuidingPageStr!=\"\":\n\n\t\t\t\tif self.GuidingIndexStr==\"\":\n\n\t\t\t\t\t#Definition\n\t\t\t\t\tIndexesList=map(\n\t\t\t\t\t\t\tint,\n\t\t\t\t\t\t\tmap(\n\t\t\t\t\t\t\t\t\tlambda __KeyStr:\n\t\t\t\t\t\t\t\t\t__KeyStr.split(\n\t\t\t\t\t\t\t\t\tGuidingSortStr\n\t\t\t\t\t\t\t\t\t)[0],\n\t\t\t\t\t\t\t\tself.GuidedDict.values()\n\t\t\t\t\t\t\t\t)\n\t\t\t\t\t\t)\n\n\t\t\t\t\t#Definition the last index of Guide\n\t\t\t\t\tIndexInt=max(IndexesList) if len(IndexesList)>0 else -1\n\n\t\t\t\t\t#Define\n\t\t\t\t\tself.GuidingIndexStr=\"%02d\"%(IndexInt+1)+GuidingSortStr\n\n\t\t\t#debug\n\t\t\t'''\n\t\t\tself.debug(('self.',self,['PackagedLocalFolderPathStr']))\n\t\t\t'''\n\t\t\t\n\t\t\t#Write a new file\n\t\t\tself.file(\n\t\t\t\t\t\tself.GuidingIndexStr+GuidingSortStr+self.GuidingPageStr+self.GuidingBookStr+(\n\t\t\t\t\t\t\t\t\tdict(\n\t\t\t\t\t\tScriptStrAndExtensionStrTuplesList\n\t\t\t\t\t\t)\n\t\t\t\t\t\t\t)[self.GuidingScriptStr],\n\t\t\t\t\t\t'wt'\n\t\t\t\t\t)\n\n\t\t\t#Check\n\t\t\tif self.FiledFileVariable.mode=='wt':\n\n\t\t\t\t#Definition\n\t\t\t\tGuidingTextStrKeyStr='Guiding'+self.GuidingPageStr+self.GuidingScriptStr+'TextStr'\n\n\t\t\t\t#debug\n\t\t\t\t'''\n\t\t\t\tprint('self.FiledFileVariable is ',self.FiledFileVariable)\n\t\t\t\tprint('')\n\t\t\t\t'''\n\n\t\t\t\t#Definition\n\t\t\t\tGuidedTextStr=globals()[GuidingTextStrKeyStr]\n\n\t\t\t\t#debug\n\t\t\t\t'''\n\t\t\t\tprint('GuidedTextStr is ',GuidedTextStr)\n\t\t\t\tprint('')\n\t\t\t\t'''\n\n\t\t\t\t#Replace\n\t\t\t\tGuidedTextStr=GuidedTextStr.replace(\n\t\t\t\t\t\t\t\t\t\t\t'<NameStr>',\n\t\t\t\t\t\t\t\t\t\t\tself.FolderedNameStr\n\t\t\t\t\t\t\t\t\t\t\t)\n\n\t\t\t\t#debug\n\t\t\t\t'''\n\t\t\t\tprint('GuidedTextStr is ',GuidedTextStr)\n\t\t\t\tprint('')\n\t\t\t\t'''\n\t\t\t\t\t\t\n\t\t\t\t#Replace\n\t\t\t\tif self.FolderedNameStr==\"ShareYourSystem\":\n\t\t\t\t\tGuidedTextStr=GuidedTextStr.replace(\n\t\t\t\t\t\t\"from <ParentModuleStr> \",\"\"\n\t\t\t\t\t)\n\t\t\t\telse:\n\t\t\t\t\tGuidedTextStr=GuidedTextStr.replace(\n\t\t\t\t\t\t\t\"<ParentModuleStr>\",\n\t\t\t\t\t\t\tself.FolderedParentModuleStr\n\t\t\t\t\t\t).replace(\n\t\t\t\t\t\t\t\"<GithubPathStr>\",\n\t\t\t\t\t\t\tself.PackagedModuleStr.replace('.','/')\n\t\t\t\t\t\t).replace(\n\t\t\t\t\t\t\t\"<ModuleDocStr>\",\n\t\t\t\t\t\t\tsys.modules[\n\t\t\t\t\t\t\t\tself.PackagedModuleStr\n\t\t\t\t\t\t\t].__doc__.split('</DefineSource>\\n'\n\t\t\t\t\t\t\t\t)[-1].replace(\n\t\t\t\t\t\t\t\t'\\n','\\n> '\n\t\t\t\t\t\t\t)\n\t\t\t\t\t\t).replace(\n\t\t\t\t\t\t\t\"<CodeStr>\",\n\t\t\t\t\t\t\tinspect.getsource(\n\t\t\t\t\t\t\t\tsys.modules[\n\t\t\t\t\t\t\t\t\tself.PackagedModuleStr\n\t\t\t\t\t\t\t\t]\n\t\t\t\t\t\t\t)\n\t\t\t\t\t\t)\n\n\t\t\t\t#debug\n\t\t\t\t'''\n\t\t\t\tprint('Guider l.194')\n\t\t\t\tprint('self.FiledPathStr is',self.FiledPathStr)\n\t\t\t\tprint('')\n\t\t\t\t'''\n\n\t\t\t\t#Write\n\t\t\t\tself.write(GuidedTextStr,**{'LoadingFormatStr':'txt'})\n\n\t\t\t\t#Close\n\t\t\t\tself.FiledFileVariable.close()\n\t\t\n#</DefineClass>\n\n\n```\n\n<small>\nView the Guider sources on <a href=\"https://github.com/Ledoux/ShareYourSystem/tree/master/Pythonlogy/ShareYourSystem/Guiders/Guider\" target=\"_blank\">Github</a>\n</small>\n\n", 
          "cell_type": "markdown", 
          "prompt_number": 1, 
          "metadata": {
            "slideshow": {
              "slide_type": "subslide"
            }
          }
        }, 
        {
          "source": "\n<!---\nFrozenIsBool True\n-->\n\n##Example\n\nLet's create an empty class, which will automatically receive\nspecial attributes from the decorating ClassorClass,\nspecially the NameStr, that should be the ClassStr\nwithout the TypeStr in the end.", 
          "cell_type": "markdown", 
          "prompt_number": 2, 
          "metadata": {
            "slideshow": {
              "slide_type": "subslide"
            }
          }
        }, 
        {
          "cell_type": "code", 
          "prompt_number": 3, 
          "language": "python", 
          "input": [
            "\n", 
            "#ImportModules\n", 
            "import ShareYourSystem as SYS\n", 
            "from ShareYourSystem.Guiders import Guider\n", 
            "from ShareYourSystem.Standards.Objects import Concluder\n", 
            "\n", 
            "#Definition an instance\n", 
            "MyGuider=Guider.GuiderClass(\n", 
            "    ).package(\n", 
            "        Concluder\n", 
            "    ).guide(\n", 
            "        '001','Github','Doc','Markdown',\n", 
            "    )\n", 
            "    \n", 
            "#Definition the AttestedStr\n", 
            "SYS._attest(\n", 
            "    [\n", 
            "        'MyGuider is '+str(\n", 
            "            SYS._str(\n", 
            "                MyGuider,\n", 
            "                **{\n", 
            "                'RepresentingBaseKeyStrsListBool':False\n", 
            "                }\n", 
            "            )\n", 
            "        )\n", 
            "    ]\n", 
            ") \n", 
            "\n"
          ], 
          "outputs": [
            {
              "output_type": "stream", 
              "stream": "stdout", 
              "text": [
                "\n", 
                "\n", 
                "*****Start of the Attest *****\n", 
                "\n", 
                "MyGuider is < (GuiderClass), 4540597072>\n", 
                "   /{ \n", 
                "   /  '<New><Instance>IdInt' : 4540597072\n", 
                "   /  '<Spe><Class>GuidedIndexStr' : \n", 
                "   /  '<Spe><Instance>GuidingBookStr' : Doc\n", 
                "   /  '<Spe><Instance>GuidingIndexStr' : 001\n", 
                "   /  '<Spe><Instance>GuidingPageStr' : Github\n", 
                "   /  '<Spe><Instance>GuidingScriptStr' : Markdown\n", 
                "   /}\n", 
                "\n", 
                "*****End of the Attest *****\n", 
                "\n", 
                "\n"
              ]
            }
          ], 
          "collapsed": false, 
          "metadata": {
            "slideshow": {
              "slide_type": "-"
            }
          }
        }, 
        {
          "source": "\n<!--\nFrozenIsBool False\n-->\n\n#Scriptbooker\n\n##Doc\n----\n\n\n> \n> The Scriptbooker defines template of Mardown and Code Scriptbooks for readming a Module.\n> \n> \n\n----\n\n<small>\nView the Scriptbooker notebook on [NbViewer](http://nbviewer.ipython.org/url/shareyoursystem.ouvaton.org/Scriptbooker.ipynb)\n</small>\n\n", 
          "cell_type": "markdown", 
          "prompt_number": 4, 
          "metadata": {
            "slideshow": {
              "slide_type": "slide"
            }
          }
        }, 
        {
          "source": "\n<!--\nFrozenIsBool False\n-->\n\n##Code\n\n----\n\n<ClassDocStr>\n\n----\n\n```python\n# -*- coding: utf-8 -*-\n\"\"\"\n\n\n<DefineSource>\n@Date : Fri Nov 14 13:20:38 2014 \\n\n@Author : Erwan Ledoux \\n\\n\n</DefineSource>\n\n\nThe Scriptbooker defines template of Mardown and Code Scriptbooks for readming a Module.\n\n\"\"\"\n\n#<DefineAugmentation>\nimport ShareYourSystem as SYS\nBaseModuleStr=\"ShareYourSystem.Guiders.Guider\"\nDecorationModuleStr=\"ShareYourSystem.Standards.Classors.Classer\"\nSYS.setSubModule(globals())\n#</DefineAugmentation>\n\n#<ImportSpecificModules>\nimport os\nGuider=BaseModule\n#</ImportSpecificModules>\n\n#<DefineClass>\n@DecorationClass()\nclass ScriptbookerClass(BaseClass):\n\t\n\t#Definition\n\tRepresentingKeyStrsList=[\n\t\t\t\t\t\t\t\t'ScriptbookingGuideTuplesList',\n\t\t\t\t\t\t\t\t'ScriptbookedFileKeyStrsList',\n\t\t\t\t\t\t\t\t'ScriptbookedNewGuideTuplesList',\n\t\t\t\t\t\t\t\t'ScriptbookedOldGuideTuplesList'\n\t\t\t\t\t\t\t]\n\t\t\t\t\t\t\n\tdef default_init(self,\n\t\t\t\t\t\t_ScriptbookingGuideTuplesList=[\n\t\t\t\t\t\t\t('001','Document','Markdown'),\n\t\t\t\t\t\t\t('002','Github','Markdown'),\n\t\t\t\t\t\t\t#('003','Ouvaton','Markdown')\n\t\t\t\t\t\t],\n\t\t\t\t\t\t_ScriptbookedFileKeyStrsList=None,\n\t\t\t\t\t\t_ScriptbookedNewGuideTuplesList=None,\n\t\t\t\t\t\t_ScriptbookedOldGuideTuplesList=None,\n\t\t\t\t\t\t**_KwargVariablesDict\n\t\t\t\t\t):\n\n\t\t#Call the parent __init__ method\n\t\tBaseClass.__init__(self,**_KwargVariablesDict)\n\n\tdef do_scriptbook(self):\n\n\t\t#debug\n\t\t'''\n\t\tself.debug(('self.',self,['FolderedDirKeyStrsList']))\n\t\t'''\n\t\t\n\t\t#Definition\n\t\tself.ScriptbookedFileKeyStrsList=SYS._filter(\n\t\t\t\tlambda __DirKeyStr:\n\t\t\t\tany(\n\t\t\t\t\tmap(\n\t\t\t\t\t\tlambda __ExtensionStr:\n\t\t\t\t\t\t__DirKeyStr.endswith(\n\t\t\t\t\t\t\tself.GuidingBookStr+__ExtensionStr\n\t\t\t\t\t\t),\n\t\t\t\t\t\t['.py','.md','.tex']\n\t\t\t\t)),\n\t\t\t\tself.FolderedDirKeyStrsList\n\t\t)\n\n\t\t#Definition\n\t\tScriptbookedPageStrsList=map(\n\t\t\t\t\t\t\t\t\tlambda __ScriptbookerScriptbookFileKeyStr:\n\t\t\t\t\t\t\t\t\tGuider.GuidingSortStr.join(\n\t\t\t\t\t\t\t\t\t\t__ScriptbookerScriptbookFileKeyStr.split(\n\t\t\t\t\t\t\t\t\t\t\tGuider.GuidingSortStr)[1:]\n\t\t\t\t\t\t\t\t\t\t),\n\t\t\t\t\t\t\t\t\tself.ScriptbookedFileKeyStrsList\n\t\t\t\t\t\t\t\t)\n\n\t\t#set\n\t\tself.ScriptbookedSortDict=dict(\n\t\t\t\tzip(ScriptbookedPageStrsList,self.ScriptbookedFileKeyStrsList)\n\t\t\t)\n\n\t\t#debug\n\t\t'''\n\t\tself.debug(('self.',self,['ScriptbookedSortDict']))\n\t\t'''\n\t\t\n\t\t#Check\n\t\tif len(self.ScriptbookingGuideTuplesList)>0:\n\n\t\t\t#map\n\t\t\tScriptbookedGuideTuplesList=map(\n\t\t\t\t\tlambda __ScriptbookingGuideTuple:\n\t\t\t\t\tlist(__ScriptbookingGuideTuple)+[\n\t\t\t\t\t\t__ScriptbookingGuideTuple[1]+self.GuidingBookStr+dict(\n\t\t\t\t\t\tGuider.ScriptStrAndExtensionStrTuplesList\n\t\t\t\t\t\t)[\n\t\t\t\t\t\t\t__ScriptbookingGuideTuple[2]\n\t\t\t\t\t\t]\n\t\t\t\t\t],\n\t\t\t\t\tself.ScriptbookingGuideTuplesList\n\t\t\t\t)\n\n\t\t\t#groupby\n\t\t\t[\n\t\t\t\tself.ScriptbookedNewGuideTuplesList,\n\t\t\t\tself.ScriptbookedOldGuideTuplesList\n\t\t\t]=SYS.groupby(\n\t\t\t\tlambda __ScriptbookedGuideTuple:\n\t\t\t\t__ScriptbookedGuideTuple[3] not in self.ScriptbookedSortDict,\n\t\t\t\tScriptbookedGuideTuplesList,\n\t\t\t)\n\n\t\t\t#debug\n\t\t\t'''\n\t\t\tself.debug(('self.',self,[\n\t\t\t\t\t\t\t'ScriptbookedNewGuideTuplesList',\n\t\t\t\t\t\t\t'ScriptbookedOldGuideTuplesList'\n\t\t\t\t\t\t]))\n\t\t\t'''\n\t\t\t\n\t\t\t#map a guide for the news\n\t\t\tmap(\n\t\t\t\tlambda __ScriptbookingNewGuideTuple:\n\t\t\t\tself.guide(__ScriptbookingNewGuideTuple[0],\n\t\t\t\t\t\t\t__ScriptbookingNewGuideTuple[1],\n\t\t\t\t\t\t\tself.GuidingBookStr,\n\t\t\t\t\t\t\t__ScriptbookingNewGuideTuple[2]),\n\t\t\t\tself.ScriptbookedNewGuideTuplesList\n\t\t\t)\n\n\t\t\t#check if we rewrite for the olds\n\t\t\tmap(\n\t\t\t\tlambda __ScriptbookingOldGuideTuple:\n\t\t\t\tself.close() \n\t\t\t\tif \"#FrozenIsBool True\" in self.load(\n\t\t\t\t\t_FormatStr='txt',\n\t\t\t\t\t**{\n\t\t\t\t\t\t'FilingKeyStr':self.ScriptbookedSortDict[\n\t\t\t\t\t\t__ScriptbookingOldGuideTuple[3]\n\t\t\t\t\t\t],\n\t\t\t\t\t\t'FilingModeStr':'r'\n\t\t\t\t\t}).LoadedReadVariable\n\t\t\t\telse self.close().guide(\n\t\t\t\t\t\t\t__ScriptbookingOldGuideTuple[0],\n\t\t\t\t\t\t\t__ScriptbookingOldGuideTuple[1],\n\t\t\t\t\t\t\tself.GuidingBookStr,\n\t\t\t\t\t\t\t__ScriptbookingOldGuideTuple[2],\n\t\t\t\t\t\t),\n\t\t\t\tself.ScriptbookedOldGuideTuplesList\n\t\t\t)\n\n\t\t#Return self\n\t\t#return self\n\t\n#</DefineClass>\n\n\n```\n\n<small>\nView the Scriptbooker sources on [Github](https://github.com/Ledoux/ShareYourSystem/tree/master/Pythonlogy/ShareYourSystem/Guiders/Scriptbooker)\n</small>\n\n", 
          "cell_type": "markdown", 
          "prompt_number": 5, 
          "metadata": {
            "slideshow": {
              "slide_type": "subslide"
            }
          }
        }, 
        {
          "source": "\n<!---\nFrozenIsBool True\n-->\n\n##Example\n\nLet's create an empty class, which will automatically receive\nspecial attributes from the decorating ClassorClass,\nspecially the NameStr, that should be the ClassStr\nwithout the TypeStr in the end.", 
          "cell_type": "markdown", 
          "prompt_number": 6, 
          "metadata": {
            "slideshow": {
              "slide_type": "subslide"
            }
          }
        }, 
        {
          "cell_type": "code", 
          "prompt_number": 7, 
          "language": "python", 
          "input": [
            "\n", 
            "#ImportModules\n", 
            "import ShareYourSystem as SYS\n", 
            "from ShareYourSystem.Guiders import Scriptbooker\n", 
            "\n", 
            "#Definition of a Scriptbooker\n", 
            "MyScriptbooker=Scriptbooker.ScriptbookerClass(\n", 
            "    ).package(\n", 
            "        \"ShareYourSystem.Standards.Objects.Object\"\n", 
            "    ).scriptbook(\n", 
            "        **{\n", 
            "            'GuidingBookStr':'Doc'\n", 
            "        }\n", 
            "    )\n", 
            "\n", 
            "#Definition the AttestedStr\n", 
            "SYS._attest(\n", 
            "    [\n", 
            "        'MyScriptbooker is '+SYS._str(\n", 
            "                MyScriptbooker,\n", 
            "                **{\n", 
            "                'RepresentingBaseKeyStrsListBool':False,\n", 
            "                'RepresentingAlineaIsBool':False\n", 
            "                }\n", 
            "        )\n", 
            "    ]\n", 
            ") \n", 
            "\n", 
            "#Print\n", 
            "\n", 
            "\n"
          ], 
          "outputs": [
            {
              "output_type": "stream", 
              "stream": "stdout", 
              "text": [
                "\n", 
                "\n", 
                "*****Start of the Attest *****\n", 
                "\n", 
                "MyScriptbooker is < (ScriptbookerClass), 4540655568>\n", 
                "   /{ \n", 
                "   /  '<New><Instance>IdInt' : 4540655568\n", 
                "   /  '<New><Instance>ScriptbookedSortDict' : \n", 
                "   /   /{ \n", 
                "   /   /  'DocumentDoc.md' : 001_DocumentDoc.md\n", 
                "   /   /  'ExampleDoc.md' : 00_ExampleDoc.md\n", 
                "   /   /  'ExampleDoc.py' : 01_ExampleDoc.py\n", 
                "   /   /  'GithubDoc.md' : 002_GithubDoc.md\n", 
                "   /   /}\n", 
                "   /  '<Spe><Class>ScriptbookingGuideTuplesList' : \n", 
                "   /   /[\n", 
                "   /   /  0 : ('001', 'Document', 'Markdown')\n", 
                "   /   /  1 : ('002', 'Github', 'Markdown')\n", 
                "   /   /]\n", 
                "   /  '<Spe><Instance>ScriptbookedFileKeyStrsList' : ['001_DocumentDoc.md', '002_GithubDoc.md', '00_ExampleDoc.md', '01_ExampleDoc.py']\n", 
                "   /  '<Spe><Instance>ScriptbookedNewGuideTuplesList' : []\n", 
                "   /  '<Spe><Instance>ScriptbookedOldGuideTuplesList' : \n", 
                "   /   /[\n", 
                "   /   /  0 : ['001', 'Document', 'Markdown', 'DocumentDoc.md']\n", 
                "   /   /  1 : ['002', 'Github', 'Markdown', 'GithubDoc.md']\n", 
                "   /   /]\n", 
                "   /}\n", 
                "\n", 
                "*****End of the Attest *****\n", 
                "\n", 
                "\n"
              ]
            }
          ], 
          "collapsed": false, 
          "metadata": {
            "slideshow": {
              "slide_type": "-"
            }
          }
        }, 
        {
          "source": "\n<!--\nFrozenIsBool False\n-->\n\n#Celler\n\n##Doc\n----\n\n\n> \n> The Celler defines template of Mardown and Code Cells for readming a Module.\n> \n> \n\n----\n\n<small>\nView the Celler notebook on [NbViewer](http://nbviewer.ipython.org/url/shareyoursystem.ouvaton.org/Celler.ipynb)\n</small>\n\n", 
          "cell_type": "markdown", 
          "prompt_number": 8, 
          "metadata": {
            "slideshow": {
              "slide_type": "slide"
            }
          }
        }, 
        {
          "source": "\n<!--\nFrozenIsBool False\n-->\n\n##Code\n\n----\n\n<ClassDocStr>\n\n----\n\n```python\n# -*- coding: utf-8 -*-\n\"\"\"\n\n\n<DefineSource>\n@Date : Fri Nov 14 13:20:38 2014 \\n\n@Author : Erwan Ledoux \\n\\n\n</DefineSource>\n\n\nThe Celler defines template of Mardown and Code Cells for readming a Module.\n\n\"\"\"\n\n#<DefineAugmentation>\nimport ShareYourSystem as SYS\nBaseModuleStr=\"ShareYourSystem.Guiders.Scriptbooker\"\nDecorationModuleStr=\"ShareYourSystem.Standards.Classors.Classer\"\nSYS.setSubModule(globals())\n#</DefineAugmentation>\n\n#<ImportSpecificModules>\nimport os\nimport six\nimport copy\n\n#</ImportSpecificModules>\n\n#<DefineLocals>\nCellingInitDict={\n\t\t\t\t'metadata': {\n\t\t\t\t\t\t\t\t'name': \"\",\n\t\t\t\t\t\t\t\t'signature': \"\"\n\t\t\t\t\t\t\t},\n\t\t\t\t'nbformat': 3,\n\t\t\t\t'nbformat_minor': 0,\n\t\t\t\t'worksheets': []\n\t\t\t}\n\nCellingCodeCellDict={\n\t\t\t\t\t\t'cell_type':'code',\n\t\t\t\t\t\t'collapsed': False,\n\t\t\t\t\t\t'input':[],\n\t\t\t\t\t\t'language': \"python\",\n\t\t\t\t\t\t'metadata': {'slideshow':{'slide_type':\"slide\"}},\n\t\t\t\t\t\t'prompt_number':0\n\t\t\t\t\t}\n\nCellingOutputDict={\n\t\t\t\t\t\t'output_type': \"stream\",\n\t\t\t\t\t\t'stream': \"stdout\",\n\t\t\t\t\t\t'text': [\t\t\t\t\t\t\t\t\t\t\t\t\t\t\n\t\t\t\t\t\t\t\t]\n\t\t\t\t\t}\n\nCellingMarkdownCellDict={\n\t\t\t\t\t\t\t'source': \"\", \n\t\t\t\t\t\t\t'cell_type': 'markdown', \n\t\t\t\t\t\t\t'metadata': {'slideshow':{'slide_type':\"slide\"}}\n\t\t\t\t\t\t} \n#</DefineLocals>\n\n\n#<DefineClass>\n@DecorationClass()\nclass CellerClass(BaseClass):\n\t\n\t#Definition\n\tRepresentingKeyStrsList=[\n\t\t\t\t\t\t\t\t'CellingTextStr',\n\t\t\t\t\t\t\t\t'CellingScriptStr',\n\t\t\t\t\t\t\t\t'CelledOutputStr',\n\t\t\t\t\t\t\t\t'CelledNoteDict'\n\t\t\t\t\t\t\t]\n\t\t\t\t\t\t\n\tdef default_init(self,\n\t\t\t\t\t\t_CellingTextStr=\"\",\n\t\t\t\t\t\t_CellingScriptStr=\"\",\n\t\t\t\t\t\t_CelledOutputStr=\"\",\n\t\t\t\t\t\t_CelledNoteDict=None,\n\t\t\t\t\t\t**_KwargVariablesDict\n\t\t\t\t\t):\n\n\t\t#Call the parent __init__ method\n\t\tBaseClass.__init__(self,**_KwargVariablesDict)\n\n\tdef do_cell(self):\n\n\t\t#Debug\n\t\t'''\n\t\tself.debug(\n\t\t\t\t\t('self.',self,[\n\t\t\t\t\t\t'FolderingPathStr',\n\t\t\t\t\t\t#'CellingTextStr'\n\t\t\t\t\t\t]\n\t\t\t\t\t)\n\t\t\t\t)\n\t\t'''\n\t\t\n\t\t#Check Code case\n\t\tif self.CellingScriptStr=='Python':\n\t\t\t\n\t\t\t#folder first\n\t\t\tself.folder()\n\n\t\t\t#Definition the self.CelledOutputStr\n\t\t\tif self.FolderingPathStr!=os.getcwd()+'/':\t\t\n\t\t\n\t\t\t\t#capture and six method\n\t\t\t\tself.CapturedPrintStrsList=[]\n\t\t\t\tself.capture()\n\t\t\t\tsix.exec_(self.CellingTextStr,vars())\n\t\t\t\tself.CapturingStopBool=True\n\t\t\t\tself.CelledOutputStr='\\n'.join(self.CapturedPrintStrsList)\n\n\t\t\telse:\n\n\t\t\t\t#Avoid the output of the corresponding NameStr because it will do a circular effect...\n\t\t\t\tself.CelledOutputStr=\"\"\n\n\n\t\t\t#Debug\n\t\t\t'''\n\t\t\tself.debug(('self.',self,['CelledOutputStr']))\n\t\t\t'''\n\n\t\t\t#Return \n\t\t\tself.CelledNoteDict=dict(\n\t\t\t\tcopy.deepcopy(CellingCodeCellDict),\n\t\t\t\t**{\n\t\t\t\t\t'input':map(\t\n\t\t\t\t\t\t\t\tlambda __LineStr:\n\t\t\t\t\t\t\t\t__LineStr+'\\n',\n\t\t\t\t\t\t\t\tself.CellingTextStr.replace(\n\t\t\t\t\t\t\t\t\t\"#FrozenIsBool True\",\"\"\n\t\t\t\t\t\t\t).replace(\n\t\t\t\t\t\t\t\t\"#FrozenIsBool False\",\"\"\n\t\t\t\t\t\t\t).replace(\n\t\t\t\t\t\t\t\t'\\t',\n\t\t\t\t\t\t\t\t'    '\n\t\t\t\t\t\t\t).replace('    \\n','\\n').split('\\n')\n\t\t\t\t\t\t),\n\t\t\t\t\t\t\"outputs\":[\n\t\t\t\t\t\tdict(\n\t\t\t\t\t\t\tcopy.copy(CellingOutputDict),\n\t\t\t\t\t\t\t\t**\n\t\t\t\t\t\t\t\t{\n\t\t\t\t\t\t\t\t\t\"text\":map(\t\n\t\t\t\t\t\t\t\t\t\t\tlambda __LineStr:\n\t\t\t\t\t\t\t\t\t\t\t__LineStr+'\\n',\n\t\t\t\t\t\t\t\t\t\t\tself.CelledOutputStr.split('\\n')\n\t\t\t\t\t\t\t\t\t\t)\n\t\t\t\t\t\t\t\t}\n\t\t\t\t\t\t\t)\n\t\t\t\t\t\t]\n\t\t\t\t}\n\t\t\t)\n\n\t\t#Check Markdown case\n\t\telif self.CellingScriptStr=='Markdown':\n\n\t\t\tself.CelledNoteDict=dict(\n\t\t\t\tcopy.deepcopy(CellingMarkdownCellDict),\n\t\t\t\t**{\n\t\t\t\t\t\t'source':self.CellingTextStr\n\t\t\t\t}\n\t\t\t)\n\t\n#</DefineClass>\n\n\n```\n\n<small>\nView the Celler sources on [Github](https://github.com/Ledoux/ShareYourSystem/tree/master/Pythonlogy/ShareYourSystem/Guiders/Celler)\n</small>\n\n", 
          "cell_type": "markdown", 
          "prompt_number": 9, 
          "metadata": {
            "slideshow": {
              "slide_type": "subslide"
            }
          }
        }, 
        {
          "source": "\n<!---\nFrozenIsBool True\n-->\n\n##Example\n\nLet's create an empty class, which will automatically receive\nspecial attributes from the decorating ClassorClass,\nspecially the NameStr, that should be the ClassStr\nwithout the TypeStr in the end.", 
          "cell_type": "markdown", 
          "prompt_number": 10, 
          "metadata": {
            "slideshow": {
              "slide_type": "subslide"
            }
          }
        }, 
        {
          "cell_type": "code", 
          "prompt_number": 11, 
          "language": "python", 
          "input": [
            "\n", 
            "#ImportModules\n", 
            "import ShareYourSystem as SYS\n", 
            "from ShareYourSystem.Guiders import Celler\n", 
            "\n", 
            "#Definition an instance\n", 
            "MyCeller=Celler.CellerClass().load(\n", 
            "    **{\n", 
            "        'FolderingPathStr':\n", 
            "        SYS.ShareYourSystemLocalFolderPathStr+'Pythonlogy/ShareYourSystem/Objects/Rebooter',\n", 
            "        'FilingKeyStr':'01_ExampleDoc.py'\n", 
            "    }\n", 
            ")\n", 
            "MyCeller.cell(MyCeller.LoadedReadVariable,'Python')\n", 
            "    \n", 
            "#Definition the AttestedStr\n", 
            "SYS._attest(\n", 
            "    [\n", 
            "        'MyCeller is '+SYS._str(\n", 
            "                MyCeller,\n", 
            "                **{\n", 
            "                'RepresentingBaseKeyStrsListBool':False,\n", 
            "                'RepresentingAlineaIsBool':False\n", 
            "                }\n", 
            "            )\n", 
            "    ]\n", 
            ") \n", 
            "\n", 
            "\n"
          ], 
          "outputs": [
            {
              "output_type": "stream", 
              "stream": "stdout", 
              "text": [
                "\n", 
                "\n", 
                "*****Start of the Attest *****\n", 
                "\n", 
                "MyCeller is < (CellerClass), 4540655440>\n", 
                "   /{ \n", 
                "   /  '<New><Instance>IdInt' : 4540655440\n", 
                "   /  '<New><Instance>_CapturingStopBool' : True\n", 
                "   /  '<Spe><Instance>CelledNoteDict' : \n", 
                "   /   /{ \n", 
                "   /   /  'cell_type' : code\n", 
                "   /   /  'collapsed' : False\n", 
                "   /   /  'input' : ['#ImportModules\\n', 'import ShareYourSystem as SYS\\n', 'from ShareYourSystem.Standards.Classors import Classer\\n', 'from ShareYourSystem.Standards.Objects import Rebooter\\n', '\\n', '#Definition \\n', '@Classer.ClasserClass(**\\n', '{\\n', \"    'ClassingSwitchMethodStrsList':['make']\\n\", '})\\n', 'class MakerClass(Rebooter.RebooterClass):\\n', '\\n', '    #Definition\\n', '    RepresentingKeyStrsList=[\\n', \"                                'MakingMyFloat',\\n\", \"                                'MadeMyInt'\\n\", '                            ]\\n', '\\n', '    def default_init(self,\\n', '                    _MakingMyFloat=0.,\\n', '                    _MadeMyInt=0,\\n', '                    **_KwarVariablesDict\\n', '                ):\\n', '        Rebooter.RebooterClass.__init__(self,**_KwarVariablesDict)\\n', '\\n', '    def do_make(self):\\n', '    \\n', '        #print\\n', \"        print('I am in the do_make of the Maker')\\n\", '\\n', '        #cast\\n', '        self.MadeMyInt=int(self.MakingMyFloat)\\n', '\\n', '#Definition\\n', '@Classer.ClasserClass(**{\\n', '    \\'ClassingSwitchMethodStrsList\\':[\"make\"]\\n', '})\\n', 'class BuilderClass(MakerClass):\\n', '\\n', '    #Definition\\n', '    RepresentingKeyStrsList=[\\n', '                            ]\\n', '\\n', '    def default_init(self,\\n', '                    **_KwarVariablesDict\\n', '                ):\\n', '        MakerClass.__init__(self,**_KwarVariablesDict)\\n', '\\n', '    def mimic_make(self):\\n', '    \\n', '        #print\\n', \"        print('I am in the mimic_make of the Builder')\\n\", '\\n', '        #call the parent method\\n', '        MakerClass.make(self)\\n', '\\n', '        #cast\\n', '        self.MadeMyInt+=10\\n', '\\n', '    def do_build(self):\\n', '        pass\\n', '\\n', '\\n', '#Definition an instance\\n', 'MyBuilder=BuilderClass()\\n', '\\n', '#Print\\n', \"print('Before make, MyBuilder is ')\\n\", 'SYS._print(MyBuilder,**{\\n', \"    'RepresentingKeyStrsList':[\\n\", \"    'MakingMyFloat',\\n\", \"    'MadeMyInt',\\n\", '    ]\\n', '})\\n', '\\n', '#make once\\n', 'MyBuilder.make(3.)\\n', '\\n', '#Print\\n', \"print('After the first make, MyBuilder is ')\\n\", 'SYS._print(MyBuilder,**{\\n', \"    'RepresentingKeyStrsList':[\\n\", \"    'MakingMyFloat',\\n\", \"    'MadeMyInt',\\n\", '    ]\\n', '})\\n', '\\n', '#make again\\n', 'MyBuilder.make(5.)\\n', '\\n', '#Print\\n', \"print('After the second make, MyBuilder is ')\\n\", 'SYS._print(MyBuilder,**{\\n', \"    'RepresentingKeyStrsList':[\\n\", \"    'MakingMyFloat',\\n\", \"    'MadeMyInt',\\n\", '    ]\\n', '})\\n', '\\n', '#make again\\n', \"print('Now we reboot')\\n\", 'MyBuilder.reboot(\\n', \"                    #_NameStrsList=['Maker','Builder'],\\n\", \"                    #_DoStrsList=['Make'],\\n\", '                    #_AllDoBool=True,\\n', '                    #_AllNameBool=True,\\n', '                )\\n', '\\n', '#Print\\n', \"print('After the reboot, MyBuilder is ')\\n\", 'SYS._print(MyBuilder,**{\\n', \"    'RepresentingKeyStrsList':[\\n\", \"    'MakingMyFloat',\\n\", \"    'MadeMyInt',\\n\", '    ]\\n', '})\\n', '\\n', '#make again\\n', 'MyBuilder.make(8.)\\n', '\\n', '#Definition the AttestedStr\\n', 'SYS._attest(\\n', '    [\\n', \"        'MyBuilder is '+SYS._str(\\n\", '        MyBuilder,\\n', '        **{\\n', \"            'RepresentingAlineaIsBool':False,\\n\", \"            'RepresentingKeyStrsList':[\\n\", \"                'MakingMyFloat',\\n\", \"                'MadeMyInt',\\n\", \"                'RebootedWatchBoolKeyStrsList'\\n\", '            ]\\n', '            }\\n', '        )\\n', '    ]\\n', ') \\n']\n", 
                "   /   /  'language' : python\n", 
                "   /   /  'metadata' : \n", 
                "   /   /   /{ \n", 
                "   /   /   /  'slideshow' : \n", 
                "   /   /   /   /{ \n", 
                "   /   /   /   /  'slide_type' : slide\n", 
                "   /   /   /   /}\n", 
                "   /   /   /}\n", 
                "   /   /  'outputs' : \n", 
                "   /   /   /[\n", 
                "   /   /   /  0 : \n", 
                "   /   /   /   /{ \n", 
                "   /   /   /   /  'output_type' : stream\n", 
                "   /   /   /   /  'stream' : stdout\n", 
                "   /   /   /   /  'text' : ['Before make, MyBuilder is \\n', '< (BuilderClass), 4540622736>\\n', '   /{ \\n', \"   /  '<Base><Class>MadeMyInt' : 0\\n\", \"   /  '<Base><Class>MakingMyFloat' : 0.0\\n\", \"   /  '<New><Instance>IdInt' : 4540622736\\n\", '   /}\\n', 'I am in the mimic_make of the Builder\\n', 'I am in the do_make of the Maker\\n', 'After the first make, MyBuilder is \\n', '< (BuilderClass), 4540622736>\\n', '   /{ \\n', \"   /  '<New><Instance>IdInt' : 4540622736\\n\", \"   /  '<Spe><Instance>MadeMyInt' : 13\\n\", \"   /  '<Spe><Instance>MakingMyFloat' : 3.0\\n\", '   /}\\n', 'After the second make, MyBuilder is \\n', '< (BuilderClass), 4540622736>\\n', '   /{ \\n', \"   /  '<New><Instance>IdInt' : 4540622736\\n\", \"   /  '<Spe><Instance>MadeMyInt' : 13\\n\", \"   /  '<Spe><Instance>MakingMyFloat' : 3.0\\n\", '   /}\\n', 'Now we reboot\\n', 'After the reboot, MyBuilder is \\n', '< (BuilderClass), 4540622736>\\n', '   /{ \\n', \"   /  '<New><Instance>IdInt' : 4540622736\\n\", \"   /  '<Spe><Instance>MadeMyInt' : 0\\n\", \"   /  '<Spe><Instance>MakingMyFloat' : 3.0\\n\", '   /}\\n', 'I am in the mimic_make of the Builder\\n', 'I am in the do_make of the Maker\\n', '\\n', '\\n', '*****Start of the Attest *****\\n', '\\n', 'MyBuilder is < (BuilderClass), 4540622736>\\n', '   /{ \\n', \"   /  '<New><Instance>IdInt' : 4540622736\\n\", \"   /  '<Spe><Instance>MadeMyInt' : 18\\n\", \"   /  '<Spe><Instance>MakingMyFloat' : 8.0\\n\", \"   /  '<Spe><Instance>RebootedWatchBoolKeyStrsList' : []\\n\", '   /}\\n', '\\n', '*****End of the Attest *****\\n', '\\n', '\\n']\n", 
                "   /   /   /   /}\n", 
                "   /   /   /]\n", 
                "   /   /  'prompt_number' : 0\n", 
                "   /   /}\n", 
                "   /  '<Spe><Instance>CelledOutputStr' : Before make, MyBuilder is \n", 
                "< (BuilderClass), 4540622736>\n", 
                "   /{ \n", 
                "   /  '<Base><Class>MadeMyInt' : 0\n", 
                "   /  '<Base><Class>MakingMyFloat' : 0.0\n", 
                "   /  '<New><Instance>IdInt' : 4540622736\n", 
                "   /}\n", 
                "I am in the mimic_make of the Builder\n", 
                "I am in the do_make of the Maker\n", 
                "After the first make, MyBuilder is \n", 
                "< (BuilderClass), 4540622736>\n", 
                "   /{ \n", 
                "   /  '<New><Instance>IdInt' : 4540622736\n", 
                "   /  '<Spe><Instance>MadeMyInt' : 13\n", 
                "   /  '<Spe><Instance>MakingMyFloat' : 3.0\n", 
                "   /}\n", 
                "After the second make, MyBuilder is \n", 
                "< (BuilderClass), 4540622736>\n", 
                "   /{ \n", 
                "   /  '<New><Instance>IdInt' : 4540622736\n", 
                "   /  '<Spe><Instance>MadeMyInt' : 13\n", 
                "   /  '<Spe><Instance>MakingMyFloat' : 3.0\n", 
                "   /}\n", 
                "Now we reboot\n", 
                "After the reboot, MyBuilder is \n", 
                "< (BuilderClass), 4540622736>\n", 
                "   /{ \n", 
                "   /  '<New><Instance>IdInt' : 4540622736\n", 
                "   /  '<Spe><Instance>MadeMyInt' : 0\n", 
                "   /  '<Spe><Instance>MakingMyFloat' : 3.0\n", 
                "   /}\n", 
                "I am in the mimic_make of the Builder\n", 
                "I am in the do_make of the Maker\n", 
                "\n", 
                "\n", 
                "*****Start of the Attest *****\n", 
                "\n", 
                "MyBuilder is < (BuilderClass), 4540622736>\n", 
                "   /{ \n", 
                "   /  '<New><Instance>IdInt' : 4540622736\n", 
                "   /  '<Spe><Instance>MadeMyInt' : 18\n", 
                "   /  '<Spe><Instance>MakingMyFloat' : 8.0\n", 
                "   /  '<Spe><Instance>RebootedWatchBoolKeyStrsList' : []\n", 
                "   /}\n", 
                "\n", 
                "*****End of the Attest *****\n", 
                "\n", 
                "\n", 
                "   /  '<Spe><Instance>CellingScriptStr' : Python\n", 
                "   /  '<Spe><Instance>CellingTextStr' : #ImportModules\n", 
                "import ShareYourSystem as SYS\n", 
                "from ShareYourSystem.Standards.Classors import Classer\n", 
                "from ShareYourSystem.Standards.Objects import Rebooter\n", 
                "\n", 
                "#Definition \n", 
                "@Classer.ClasserClass(**\n", 
                "{\n", 
                "\t'ClassingSwitchMethodStrsList':['make']\n", 
                "})\n", 
                "class MakerClass(Rebooter.RebooterClass):\n", 
                "\n", 
                "\t#Definition\n", 
                "\tRepresentingKeyStrsList=[\n", 
                "\t\t\t\t\t\t\t\t'MakingMyFloat',\n", 
                "\t\t\t\t\t\t\t\t'MadeMyInt'\n", 
                "\t\t\t\t\t\t\t]\n", 
                "\n", 
                "\tdef default_init(self,\n", 
                "\t\t\t\t\t_MakingMyFloat=0.,\n", 
                "\t\t\t\t\t_MadeMyInt=0,\n", 
                "\t\t\t\t\t**_KwarVariablesDict\n", 
                "\t\t\t\t):\n", 
                "\t\tRebooter.RebooterClass.__init__(self,**_KwarVariablesDict)\n", 
                "\n", 
                "\tdef do_make(self):\n", 
                "\t\t\n", 
                "\t\t#print\n", 
                "\t\tprint('I am in the do_make of the Maker')\n", 
                "\n", 
                "\t\t#cast\n", 
                "\t\tself.MadeMyInt=int(self.MakingMyFloat)\n", 
                "\n", 
                "#Definition\n", 
                "@Classer.ClasserClass(**{\n", 
                "\t'ClassingSwitchMethodStrsList':[\"make\"]\n", 
                "})\n", 
                "class BuilderClass(MakerClass):\n", 
                "\n", 
                "\t#Definition\n", 
                "\tRepresentingKeyStrsList=[\n", 
                "\t\t\t\t\t\t\t]\n", 
                "\n", 
                "\tdef default_init(self,\n", 
                "\t\t\t\t\t**_KwarVariablesDict\n", 
                "\t\t\t\t):\n", 
                "\t\tMakerClass.__init__(self,**_KwarVariablesDict)\n", 
                "\n", 
                "\tdef mimic_make(self):\n", 
                "\t\t\n", 
                "\t\t#print\n", 
                "\t\tprint('I am in the mimic_make of the Builder')\n", 
                "\n", 
                "\t\t#call the parent method\n", 
                "\t\tMakerClass.make(self)\n", 
                "\n", 
                "\t\t#cast\n", 
                "\t\tself.MadeMyInt+=10\n", 
                "\n", 
                "\tdef do_build(self):\n", 
                "\t\tpass\n", 
                "\n", 
                "\n", 
                "#Definition an instance\n", 
                "MyBuilder=BuilderClass()\n", 
                "\n", 
                "#Print\n", 
                "print('Before make, MyBuilder is ')\n", 
                "SYS._print(MyBuilder,**{\n", 
                "\t'RepresentingKeyStrsList':[\n", 
                "\t'MakingMyFloat',\n", 
                "\t'MadeMyInt',\n", 
                "\t]\n", 
                "})\n", 
                "\n", 
                "#make once\n", 
                "MyBuilder.make(3.)\n", 
                "\n", 
                "#Print\n", 
                "print('After the first make, MyBuilder is ')\n", 
                "SYS._print(MyBuilder,**{\n", 
                "\t'RepresentingKeyStrsList':[\n", 
                "\t'MakingMyFloat',\n", 
                "\t'MadeMyInt',\n", 
                "\t]\n", 
                "})\n", 
                "\n", 
                "#make again\n", 
                "MyBuilder.make(5.)\n", 
                "\n", 
                "#Print\n", 
                "print('After the second make, MyBuilder is ')\n", 
                "SYS._print(MyBuilder,**{\n", 
                "\t'RepresentingKeyStrsList':[\n", 
                "\t'MakingMyFloat',\n", 
                "\t'MadeMyInt',\n", 
                "\t]\n", 
                "})\n", 
                "\n", 
                "#make again\n", 
                "print('Now we reboot')\n", 
                "MyBuilder.reboot(\n", 
                "\t\t\t\t\t#_NameStrsList=['Maker','Builder'],\n", 
                "\t\t\t\t\t#_DoStrsList=['Make'],\n", 
                "\t\t\t\t\t#_AllDoBool=True,\n", 
                "\t\t\t\t\t#_AllNameBool=True,\n", 
                "\t\t\t\t)\n", 
                "\n", 
                "#Print\n", 
                "print('After the reboot, MyBuilder is ')\n", 
                "SYS._print(MyBuilder,**{\n", 
                "\t'RepresentingKeyStrsList':[\n", 
                "\t'MakingMyFloat',\n", 
                "\t'MadeMyInt',\n", 
                "\t]\n", 
                "})\n", 
                "\n", 
                "#make again\n", 
                "MyBuilder.make(8.)\n", 
                "\n", 
                "#Definition the AttestedStr\n", 
                "SYS._attest(\n", 
                "\t[\n", 
                "\t\t'MyBuilder is '+SYS._str(\n", 
                "\t\tMyBuilder,\n", 
                "\t\t**{\n", 
                "\t\t\t'RepresentingAlineaIsBool':False,\n", 
                "\t\t\t'RepresentingKeyStrsList':[\n", 
                "\t\t\t\t'MakingMyFloat',\n", 
                "\t\t\t\t'MadeMyInt',\n", 
                "\t\t\t\t'RebootedWatchBoolKeyStrsList'\n", 
                "\t\t\t]\n", 
                "\t\t\t}\n", 
                "\t\t)\n", 
                "\t]\n", 
                ") \n", 
                "   /}\n", 
                "\n", 
                "*****End of the Attest *****\n", 
                "\n", 
                "\n"
              ]
            }
          ], 
          "collapsed": false, 
          "metadata": {
            "slideshow": {
              "slide_type": "-"
            }
          }
        }, 
        {
          "source": "\n<!--\nFrozenIsBool False\n-->\n\n#Notebooker\n\n##Doc\n----\n\n\n> \n> The Notebooker takes piece of .md,.py,.tex files for putting them in a IPython Notebook\n> \n> \n\n----\n\n<small>\nView the Notebooker notebook on [NbViewer](http://nbviewer.ipython.org/url/shareyoursystem.ouvaton.org/Notebooker.ipynb)\n</small>\n\n", 
          "cell_type": "markdown", 
          "prompt_number": 12, 
          "metadata": {
            "slideshow": {
              "slide_type": "slide"
            }
          }
        }, 
        {
          "source": "\n<!--\nFrozenIsBool False\n-->\n\n##Code\n\n----\n\n<ClassDocStr>\n\n----\n\n```python\n# -*- coding: utf-8 -*-\n\"\"\"\n\n\n<DefineSource>\n@Date : Fri Nov 14 13:20:38 2014 \\n\n@Author : Erwan Ledoux \\n\\n\n</DefineSource>\n\n\nThe Notebooker takes piece of .md,.py,.tex files for putting them in a IPython Notebook\n\n\"\"\"\n\n#<DefineAugmentation>\nimport ShareYourSystem as SYS\nBaseModuleStr=\"ShareYourSystem.Guiders.Celler\"\nDecorationModuleStr=\"ShareYourSystem.Standards.Classors.Classer\"\nSYS.setSubModule(globals())\n#</DefineAugmentation>\n\n#<ImportSpecificModules>\nimport copy\nimport os\nimport sys\n\nfrom ShareYourSystem.Standards.Interfacers import Filer,Loader\nfrom ShareYourSystem.Guiders import Guider\nimport importlib\nCeller=BaseModule\n#</ImportSpecificModules>\n\n#<DefineClass>\n@DecorationClass()\nclass NotebookerClass(BaseClass):\n\t\n\t#Definition\n\tRepresentingKeyStrsList=[\n\t\t\t\t\t\t\t\t'NotebookingFileKeyStr',\n\t\t\t\t\t\t\t\t'NotebookingWriteBool',\n\t\t\t\t\t\t\t\t'NotebookedTextStrsList',\n\t\t\t\t\t\t\t\t'NotebookedCodeDict',\n\t\t\t\t\t\t\t\t'NotebookedPageStrsList',\n\t\t\t\t\t\t\t\t'NotebookedSubslideStrsList'\n\t\t\t\t\t\t\t]\n\n\tdef default_init(self,\n\t\t\t\t\t\t_NotebookingFileKeyStr=\"\",\n\t\t\t\t\t\t_NotebookingWriteBool=True,\n\t\t\t\t\t\t_NotebookedTextStrsList=None,\n\t\t\t\t\t\t_NotebookedCodeDict=None,\n\t\t\t\t\t\t_NotebookedPageStrsList=None,\n\t\t\t\t\t\t_NotebookedSubslideStrsList=None,\n\t\t\t\t\t\t**_KwargVariablesDict\n\t\t\t\t\t):\n\n\t\t#Call the parent __init__ method\n\t\tBaseClass.__init__(self,**_KwargVariablesDict)\n\n\tdef do_notebook(self):\n\t\t\n\t\t#debug\n\t\t'''\n\t\tself.debug(('self.',self,['NotebookingFileKeyStr']))\n\t\t'''\n\n\t\t#Check\n\t\tif self.NotebookingFileKeyStr!=\"\":\n\t\t\t\n\t\t\t#debug\n\t\t\t'''\n\t\t\tself.debug(('self.',self,['ScriptbookedSortDict']))\n\t\t\t'''\n\n\t\t\t#map\n\t\t\tself.NotebookedTextStrsList=map(\n\t\t\t\t\tlambda __ScriptbookedFileKeyStr:\n\t\t\t\t\tself.load(**{\n\t\t\t\t\t\t\t\t\t'FilingKeyStr':__ScriptbookedFileKeyStr\n\t\t\t\t\t\t\t\t}\n\t\t\t\t\t).LoadedReadVariable,\n\t\t\t\t\tsorted(self.ScriptbookedSortDict.values())\n\t\t\t\t)\n\n\t\t\t#map\n\t\t\tself.NotebookedScriptStrsList=map(\n\t\t\t\t\tlambda __ScriptbookedFileKeyStr:\n\t\t\t\t\tSYS.flip(\n\t\t\t\t\t\tdict(\n\t\t\t\t\t\t\t\t\tGuider.ScriptStrAndExtensionStrTuplesList\n\t\t\t\t\t\t\t)\n\t\t\t\t\t)[\n\t\t\t\t\t\t'.'+__ScriptbookedFileKeyStr.split('.')[-1]\n\t\t\t\t\t],\n\t\t\t\t\tsorted(self.ScriptbookedSortDict.values())\n\t\t\t\t)\n\n\t\t\t#debug\n\t\t\t'''\n\t\t\tself.debug(('self.',self,[\n\t\t\t\t\t'NotebookedTextStrsList',\n\t\t\t\t\t'NotebookedScriptStrsList'\n\t\t\t\t]))\n\t\t\t'''\n\n\t\t\t#Update\n\t\t\tself.LoadingFormatStr='json'\n\n\t\t\t#file first\n\t\t\tself.file(\n\t\t\t\t\t\tself.NotebookingFileKeyStr,\n\t\t\t\t\t\t'w'\n\t\t\t\t\t)\n\n\t\t\t#Copy\n\t\t\tself.NotebookedCodeDict=copy.copy(Celler.CellingInitDict)\n\n\t\t\t#Fill the cells\n\t\t\tself.NotebookedCodeDict['worksheets']=[\n\t\t\t\t{\n\t\t\t\t\t'cells':map(\n\t\t\t\t\t\tlambda __NotebookedTextStr,__NotebookedScriptStr,__IndexInt:\n\t\t\t\t\t\t\tdict(\n\t\t\t\t\t\t\t\tself.cell(\n\t\t\t\t\t\t\t\t\t__NotebookedTextStr,\n\t\t\t\t\t\t\t\t\t__NotebookedScriptStr\n\t\t\t\t\t\t\t\t).CelledNoteDict,\n\t\t\t\t\t\t\t\t**{\n\t\t\t\t\t\t\t\t\t'prompt_number':__IndexInt,\n\t\t\t\t\t\t\t\t}\n\t\t\t\t\t\t\t),\n\t\t\t\t\t\t\tself.NotebookedTextStrsList,\n\t\t\t\t\t\t\tself.NotebookedScriptStrsList,\n\t\t\t\t\t\t\txrange(len(self.NotebookedTextStrsList))\n\t\t\t\t\t\t)\n\t\t\t\t}\n\t\t\t]\n\n\t\t\t#map\n\t\t\tself.NotebookedPageStrsList=map(\n\t\t\t\t\tlambda __FileKeyStr:\n\t\t\t\t\tGuider.GuidingSortStr.join(\n\t\t\t\t\t\t__FileKeyStr.split('.')[0].split(\n\t\t\t\t\t\t\tGuider.GuidingSortStr\n\t\t\t\t\t\t)[1:]\n\t\t\t\t\t),\n\t\t\t\t\tsorted(self.ScriptbookedSortDict.values())\n\t\t\t\t)\n\n\t\t\t#map\n\t\t\tself.NotebookedSubslideStrsList=map(\n\t\t\t\t\tlambda __NotebookedPageStr,__PageIndexInt:\n\t\t\t\t\t'slide'\n\t\t\t\t\tif  __PageIndexInt==0\n\t\t\t\t\telse\n\t\t\t\t\t'subslide' \n\t\t\t\t\tif self.NotebookedPageStrsList[__PageIndexInt-1]!=__NotebookedPageStr\n\t\t\t\t\telse '-',\n\t\t\t\t\tself.NotebookedPageStrsList,\n\t\t\t\t\txrange(len(self.NotebookedPageStrsList))\n\t\t\t\t)\n\n\t\t\t#debug\n\t\t\t'''\n\t\t\tself.debug(\n\t\t\t\t[\n\t\t\t\t\t('self.',self,['NotebookedSubslideStrsList']),\n\t\t\t\t\t\"self.NotebookedCodeDict['worksheets'][0]['cells'] is \"+SYS._str(\n\t\t\t\t\t\tself.NotebookedCodeDict['worksheets'][0]['cells'])\n\t\t\t\t]\n\t\t\t)\n\t\t\t'''\n\n\t\t\t#Specify the page/slide\n\t\t\tmap(\n\t\t\t\tlambda __CellDict,__NotebookedSubslideStr:\n\t\t\t\t__CellDict['metadata']['slideshow'].__setitem__(\n\t\t\t\t\t\t\"slide_type\",\n\t\t\t\t\t\t__NotebookedSubslideStr\n\t\t\t\t\t)\n\t\t\t\t,\n\t\t\t\tself.NotebookedCodeDict['worksheets'][0]['cells'],\n\t\t\t\tself.NotebookedSubslideStrsList\n\t\t\t)\n\n\t\t\t#debug\n\t\t\t'''\n\t\t\tself.debug(\n\t\t\t\t[\n\t\t\t\t\t\"self.NotebookedCodeDict['worksheets'][0]['cells'] is \"+SYS._str(\n\t\t\t\t\t\tself.NotebookedCodeDict['worksheets'][0]['cells'])\n\t\t\t\t]\n\t\t\t)\n\t\t\t'''\n\n\t\t\t#debug\n\t\t\t'''\n\t\t\tself.debug(\n\t\t\t\t\t\t('self.',self,[\n\t\t\t\t\t\t\t\t\t\t\t'NotebookingWriteBool',\n\t\t\t\t\t\t\t\t\t\t\t'NotebookedCodeDict',\n\t\t\t\t\t\t\t\t\t\t])\n\t\t\t\t\t)\n\t\t\t'''\n\n\t\t\t#Check\n\t\t\tif self.NotebookingWriteBool:\n\n\t\t\t\t#debug\n\t\t\t\t'''\n\t\t\t\tself.debug(\n\t\t\t\t\t\t\t('self.',self,[\n\t\t\t\t\t\t\t\t\t\t\t\t'FolderingPathStr',\n\t\t\t\t\t\t\t\t\t\t\t\t'FilingKeyStr',\n\t\t\t\t\t\t\t\t\t\t\t\t'LoadingFormatStr'\n\t\t\t\t\t\t\t\t\t\t\t])\n\t\t\t\t\t\t)\n\t\t\t\t'''\n\n\t\t\t\t#Write\n\t\t\t\tself.write(self.NotebookedCodeDict)\n\n\t\t\t\t#Close\n\t\t\t\tself.FiledFileVariable.close()\n\n\n\t\t#Return self\n\t\t#return self\n\t\n#</DefineClass>\n\n\n```\n\n<small>\nView the Notebooker sources on <a href=\"https://github.com/Ledoux/ShareYourSystem/tree/master/Pythonlogy/ShareYourSystem/Guiders/Notebooker\" target=\"_blank\">Github</a>\n</small>\n\n", 
          "cell_type": "markdown", 
          "prompt_number": 13, 
          "metadata": {
            "slideshow": {
              "slide_type": "subslide"
            }
          }
        }, 
        {
          "source": "\n<!---\nFrozenIsBool True\n-->\n\n##Example\n\nLet's create an empty class, which will automatically receive\nspecial attributes from the decorating ClassorClass,\nspecially the NameStr, that should be the ClassStr\nwithout the TypeStr in the end.", 
          "cell_type": "markdown", 
          "prompt_number": 14, 
          "metadata": {
            "slideshow": {
              "slide_type": "subslide"
            }
          }
        }, 
        {
          "cell_type": "code", 
          "prompt_number": 15, 
          "language": "python", 
          "input": [
            "#ImportModules\n", 
            "import ShareYourSystem as SYS\n", 
            "from ShareYourSystem.Guiders import Notebooker\n", 
            "\n", 
            "#Definition a Notebooker\n", 
            "MyNotebooker=Notebooker.NotebookerClass(\n", 
            "    ).package(\n", 
            "        'ShareYourSystem.Standards.Objects.Concluder'\n", 
            "    ).scriptbook(\n", 
            "        **{\n", 
            "            'GuidingBookStr':'Doc'\n", 
            "        }\n", 
            "    ).notebook(\n", 
            "        'Presentation.ipynb'\n", 
            ")\n", 
            "\n", 
            "#Definition the AttestedStr\n", 
            "SYS._attest(\n", 
            "    [\n", 
            "        'MyNotebooker is '+SYS._str(\n", 
            "        MyNotebooker,\n", 
            "        **{\n", 
            "            'RepresentingBaseKeyStrsListBool':False,\n", 
            "            'RepresentingAlineaIsBool':False\n", 
            "        }\n", 
            "        )\n", 
            "    ]\n", 
            ")  \n", 
            "\n", 
            "#Print\n", 
            "\n", 
            "\n", 
            "\n", 
            "\n", 
            "\n"
          ], 
          "outputs": [
            {
              "output_type": "stream", 
              "stream": "stdout", 
              "text": [
                "\n", 
                "\n", 
                "*****Start of the Attest *****\n", 
                "\n", 
                "MyNotebooker is < (NotebookerClass), 4540657552>\n", 
                "   /{ \n", 
                "   /  '<New><Instance>IdInt' : 4540657552\n", 
                "   /  '<New><Instance>NotebookedScriptStrsList' : ['Markdown', 'Markdown', 'Markdown', 'Python']\n", 
                "   /  '<New><Instance>ScriptbookedSortDict' : \n", 
                "   /   /{ \n", 
                "   /   /  'DocumentDoc.md' : 001_DocumentDoc.md\n", 
                "   /   /  'ExampleDoc.md' : 00_ExampleDoc.md\n", 
                "   /   /  'ExampleDoc.py' : 01_ExampleDoc.py\n", 
                "   /   /  'GithubDoc.md' : 002_GithubDoc.md\n", 
                "   /   /}\n", 
                "   /  '<New><Instance>_CapturingStopBool' : True\n", 
                "   /  '<Spe><Class>NotebookingWriteBool' : True\n", 
                "   /  '<Spe><Instance>NotebookedCodeDict' : \n", 
                "   /   /{ \n", 
                "   /   /  'metadata' : \n", 
                "   /   /   /{ \n", 
                "   /   /   /  'name' : \n", 
                "   /   /   /  'signature' : \n", 
                "   /   /   /}\n", 
                "   /   /  'nbformat' : 3\n", 
                "   /   /  'nbformat_minor' : 0\n", 
                "   /   /  'worksheets' : \n", 
                "   /   /   /[\n", 
                "   /   /   /  0 : \n", 
                "   /   /   /   /{ \n", 
                "   /   /   /   /  'cells' : \n", 
                "   /   /   /   /   /[\n", 
                "   /   /   /   /   /  0 : \n", 
                "   /   /   /   /   /   /{ \n", 
                "   /   /   /   /   /   /  'cell_type' : markdown\n", 
                "   /   /   /   /   /   /  'metadata' : \n", 
                "   /   /   /   /   /   /   /{ \n", 
                "   /   /   /   /   /   /   /  'slideshow' : \n", 
                "   /   /   /   /   /   /   /   /{ \n", 
                "   /   /   /   /   /   /   /   /  'slide_type' : slide\n", 
                "   /   /   /   /   /   /   /   /}\n", 
                "   /   /   /   /   /   /   /}\n", 
                "   /   /   /   /   /   /  'prompt_number' : 0\n", 
                "   /   /   /   /   /   /  'source' : \n", 
                "<!--\n", 
                "FrozenIsBool False\n", 
                "-->\n", 
                "\n", 
                "#Concluder\n", 
                "\n", 
                "##Doc\n", 
                "----\n", 
                "\n", 
                "\n", 
                "> \n", 
                "> A Concluder\n", 
                "> \n", 
                "> \n", 
                "\n", 
                "----\n", 
                "\n", 
                "<small>\n", 
                "View the Concluder notebook on [NbViewer](http://nbviewer.ipython.org/url/shareyoursystem.ouvaton.org/Concluder.ipynb)\n", 
                "</small>\n", 
                "\n", 
                "\n", 
                "   /   /   /   /   /   /}\n", 
                "   /   /   /   /   /  1 : \n", 
                "   /   /   /   /   /   /{ \n", 
                "   /   /   /   /   /   /  'cell_type' : markdown\n", 
                "   /   /   /   /   /   /  'metadata' : \n", 
                "   /   /   /   /   /   /   /{ \n", 
                "   /   /   /   /   /   /   /  'slideshow' : \n", 
                "   /   /   /   /   /   /   /   /{ \n", 
                "   /   /   /   /   /   /   /   /  'slide_type' : subslide\n", 
                "   /   /   /   /   /   /   /   /}\n", 
                "   /   /   /   /   /   /   /}\n", 
                "   /   /   /   /   /   /  'prompt_number' : 1\n", 
                "   /   /   /   /   /   /  'source' : \n", 
                "<!--\n", 
                "FrozenIsBool False\n", 
                "-->\n", 
                "\n", 
                "##Code\n", 
                "\n", 
                "----\n", 
                "\n", 
                "<ClassDocStr>\n", 
                "\n", 
                "----\n", 
                "\n", 
                "```python\n", 
                "# -*- coding: utf-8 -*-\n", 
                "\"\"\"\n", 
                "\n", 
                "\n", 
                "<DefineSource>\n", 
                "@Date : Fri Nov 14 13:20:38 2014 \\n\n", 
                "@Author : Erwan Ledoux \\n\\n\n", 
                "</DefineSource>\n", 
                "\n", 
                "\n", 
                "A Concluder\n", 
                "\n", 
                "\"\"\"\n", 
                "\n", 
                "#<DefineAugmentation>\n", 
                "import ShareYourSystem as SYS\n", 
                "BaseModuleStr=\"ShareYourSystem.Standards.Objects.Conditioner\"\n", 
                "DecorationModuleStr=\"ShareYourSystem.Standards.Classors.Tester\"\n", 
                "SYS.setSubModule(globals())\n", 
                "#</DefineAugmentation>\n", 
                "\n", 
                "#<ImportSpecificModules>\n", 
                "#</ImportSpecificModules>\n", 
                "\n", 
                "#<DefineClass>\n", 
                "@DecorationClass()\n", 
                "class ConcluderClass(BaseClass):\n", 
                "\t\n", 
                "\t#Definition\n", 
                "\tRepresentingKeyStrsList=[\n", 
                "\t\t\t\t\t\t\t\t\t'ConcludingTestVariable',\n", 
                "\t\t\t\t\t\t\t\t\t'ConcludingConditionTuplesList',\n", 
                "\t\t\t\t\t\t\t\t\t'ConcludedConditionIsBoolsList',\n", 
                "\t\t\t\t\t\t\t\t\t'ConcludedIsBool'\n", 
                "\t\t\t\t\t\t\t\t]\n", 
                "\n", 
                "\tdef default_init(self,\n", 
                "\t\t\t\t_ConcludingTestVariable=None,\n", 
                "\t\t\t\t_ConcludingConditionTuplesList=None,\n", 
                "\t\t\t\t_ConcludedConditionIsBoolsList=None,\n", 
                "\t\t\t\t_ConcludedIsBool=True,\n", 
                "\t\t\t\t**_KwargVariablesDict\n", 
                "\t\t\t\t):\n", 
                "\n", 
                "\t\t#Call the parent init method\n", 
                "\t\tBaseClass.__init__(self,**_KwargVariablesDict)\n", 
                "\n", 
                "\tdef do_conclude(self):\n", 
                "\t\t\"\"\" \"\"\"\n", 
                "\n", 
                "\t\t#debug\n", 
                "\t\t'''\n", 
                "\t\tself.debug(('self.',self,['ConcludingConditionTuplesList']))\n", 
                "\t\t'''\n", 
                "\t\t\n", 
                "\t\t#Apply __getitem__\n", 
                "\t\tself.ConcludedConditionIsBoolsList=map(\n", 
                "\t\t\t\tlambda __ConcludingConditionTuple:\n", 
                "\t\t\t\tself.condition(\n", 
                "\t\t\t\t\t\tself.ConcludingTestVariable[\n", 
                "\t\t\t\t\t\t\t__ConcludingConditionTuple[0]\n", 
                "\t\t\t\t\t\t] if type(\n", 
                "\t\t\t\t\t\t\t__ConcludingConditionTuple[0])\n", 
                "\t\t\t\t\t\tin SYS.StrTypesList else __ConcludingConditionTuple[0],\n", 
                "\t\t\t\t\t\t__ConcludingConditionTuple[1],\n", 
                "\t\t\t\t\t\t__ConcludingConditionTuple[2]\n", 
                "\t\t\t\t\t).ConditionedIsBool,\n", 
                "\t\t\t\tself.ConcludingConditionTuplesList\n", 
                "\t\t\t)\n", 
                "\n", 
                "\t\t#all\n", 
                "\t\tself.ConcludedIsBool=all(self.ConcludedConditionIsBoolsList)\n", 
                "\n", 
                "\t\t#Return self\n", 
                "\t\t#return self\n", 
                "#</DefineClass>\n", 
                "\n", 
                "```\n", 
                "\n", 
                "<small>\n", 
                "View the Concluder sources on <a href=\"https://github.com/Ledoux/ShareYourSystem/tree/master/Pythonlogy/ShareYourSystem/Objects/Concluder\" target=\"_blank\">Github</a>\n", 
                "</small>\n", 
                "\n", 
                "\n", 
                "   /   /   /   /   /   /}\n", 
                "   /   /   /   /   /  2 : \n", 
                "   /   /   /   /   /   /{ \n", 
                "   /   /   /   /   /   /  'cell_type' : markdown\n", 
                "   /   /   /   /   /   /  'metadata' : \n", 
                "   /   /   /   /   /   /   /{ \n", 
                "   /   /   /   /   /   /   /  'slideshow' : \n", 
                "   /   /   /   /   /   /   /   /{ \n", 
                "   /   /   /   /   /   /   /   /  'slide_type' : subslide\n", 
                "   /   /   /   /   /   /   /   /}\n", 
                "   /   /   /   /   /   /   /}\n", 
                "   /   /   /   /   /   /  'prompt_number' : 2\n", 
                "   /   /   /   /   /   /  'source' : \n", 
                "<!---\n", 
                "FrozenIsBool True\n", 
                "-->\n", 
                "\n", 
                "##Example\n", 
                "\n", 
                "Let's do a simple conclude call\n", 
                "   /   /   /   /   /   /}\n", 
                "   /   /   /   /   /  3 : \n", 
                "   /   /   /   /   /   /{ \n", 
                "   /   /   /   /   /   /  'cell_type' : code\n", 
                "   /   /   /   /   /   /  'collapsed' : False\n", 
                "   /   /   /   /   /   /  'input' : ['\\n', '#ImportModules\\n', 'import ShareYourSystem as SYS\\n', 'from ShareYourSystem.Standards.Objects import Concluder\\n', 'import operator\\n', '\\n', '#Definition of an instance Concluder and make it print hello\\n', 'MyConcluder=Concluder.ConcluderClass().conclude(\\n', \"    {'MyColorStr':'Black','MySuperInt':6},\\n\", '    [\\n', '        (\\'MyColorStr\\',operator.eq,\"Black\"),\\n', \"        ('MySuperInt',operator.gt,3),\\n\", '        (1,operator.eq,1)\\n', '    ]\\n', ')\\n', '    \\n', '#Definition the AttestedStr\\n', 'SYS._attest(\\n', '    [\\n', \"        'MyConcluder is '+SYS._str(\\n\", '        MyConcluder,\\n', '        **{\\n', \"            'RepresentingBaseKeyStrsListBool':False,\\n\", \"            'RepresentingAlineaIsBool':False\\n\", '            }\\n', '        ),\\n', '    ]\\n', ') \\n', '\\n', '#Print\\n', '\\n', '\\n', '\\n', '\\n', '\\n']\n", 
                "   /   /   /   /   /   /  'language' : python\n", 
                "   /   /   /   /   /   /  'metadata' : \n", 
                "   /   /   /   /   /   /   /{ \n", 
                "   /   /   /   /   /   /   /  'slideshow' : \n", 
                "   /   /   /   /   /   /   /   /{ \n", 
                "   /   /   /   /   /   /   /   /  'slide_type' : -\n", 
                "   /   /   /   /   /   /   /   /}\n", 
                "   /   /   /   /   /   /   /}\n", 
                "   /   /   /   /   /   /  'outputs' : \n", 
                "   /   /   /   /   /   /   /[\n", 
                "   /   /   /   /   /   /   /  0 : \n", 
                "   /   /   /   /   /   /   /   /{ \n", 
                "   /   /   /   /   /   /   /   /  'output_type' : stream\n", 
                "   /   /   /   /   /   /   /   /  'stream' : stdout\n", 
                "   /   /   /   /   /   /   /   /  'text' : ['\\n', '\\n', '*****Start of the Attest *****\\n', '\\n', 'MyConcluder is < (ConcluderClass), 4540757008>\\n', '   /{ \\n', \"   /  '<New><Instance>IdInt' : 4540757008\\n\", \"   /  '<Spe><Instance>ConcludedConditionIsBoolsList' : \\n\", '   /   /[\\n', '   /   /  0 : True\\n', '   /   /  1 : True\\n', '   /   /  2 : True\\n', '   /   /]\\n', \"   /  '<Spe><Instance>ConcludedIsBool' : True\\n\", \"   /  '<Spe><Instance>ConcludingConditionTuplesList' : \\n\", '   /   /[\\n', '   /   /  0 : \\n', '   /   /   /(\\n', '   /   /   /  0 : MyColorStr\\n', '   /   /   /  1 : <built-in function eq>\\n', '   /   /   /  2 : Black\\n', '   /   /   /)\\n', '   /   /  1 : \\n', '   /   /   /(\\n', '   /   /   /  0 : MySuperInt\\n', '   /   /   /  1 : <built-in function gt>\\n', '   /   /   /  2 : 3\\n', '   /   /   /)\\n', '   /   /  2 : \\n', '   /   /   /(\\n', '   /   /   /  0 : 1\\n', '   /   /   /  1 : {...}< (builtin_function_or_method), 4522748384>\\n', '   /   /   /  2 : 1\\n', '   /   /   /)\\n', '   /   /]\\n', \"   /  '<Spe><Instance>ConcludingTestVariable' : \\n\", '   /   /{ \\n', \"   /   /  'MyColorStr' : Black\\n\", \"   /   /  'MySuperInt' : 6\\n\", '   /   /}\\n', '   /}\\n', '\\n', '*****End of the Attest *****\\n', '\\n', '\\n']\n", 
                "   /   /   /   /   /   /   /   /}\n", 
                "   /   /   /   /   /   /   /]\n", 
                "   /   /   /   /   /   /  'prompt_number' : 3\n", 
                "   /   /   /   /   /   /}\n", 
                "   /   /   /   /   /]\n", 
                "   /   /   /   /}\n", 
                "   /   /   /]\n", 
                "   /   /}\n", 
                "   /  '<Spe><Instance>NotebookedPageStrsList' : ['DocumentDoc', 'GithubDoc', 'ExampleDoc', 'ExampleDoc']\n", 
                "   /  '<Spe><Instance>NotebookedSubslideStrsList' : ['slide', 'subslide', 'subslide', '-']\n", 
                "   /  '<Spe><Instance>NotebookedTextStrsList' : ['\\n<!--\\nFrozenIsBool False\\n-->\\n\\n#Concluder\\n\\n##Doc\\n----\\n\\n\\n> \\n> A Concluder\\n> \\n> \\n\\n----\\n\\n<small>\\nView the Concluder notebook on [NbViewer](http://nbviewer.ipython.org/url/shareyoursystem.ouvaton.org/Concluder.ipynb)\\n</small>\\n\\n', '\\n<!--\\nFrozenIsBool False\\n-->\\n\\n##Code\\n\\n----\\n\\n<ClassDocStr>\\n\\n----\\n\\n```python\\n# -*- coding: utf-8 -*-\\n\"\"\"\\n\\n\\n<DefineSource>\\n@Date : Fri Nov 14 13:20:38 2014 \\\\n\\n@Author : Erwan Ledoux \\\\n\\\\n\\n</DefineSource>\\n\\n\\nA Concluder\\n\\n\"\"\"\\n\\n#<DefineAugmentation>\\nimport ShareYourSystem as SYS\\nBaseModuleStr=\"ShareYourSystem.Standards.Objects.Conditioner\"\\nDecorationModuleStr=\"ShareYourSystem.Standards.Classors.Tester\"\\nSYS.setSubModule(globals())\\n#</DefineAugmentation>\\n\\n#<ImportSpecificModules>\\n#</ImportSpecificModules>\\n\\n#<DefineClass>\\n@DecorationClass()\\nclass ConcluderClass(BaseClass):\\n\\t\\n\\t#Definition\\n\\tRepresentingKeyStrsList=[\\n\\t\\t\\t\\t\\t\\t\\t\\t\\t\\'ConcludingTestVariable\\',\\n\\t\\t\\t\\t\\t\\t\\t\\t\\t\\'ConcludingConditionTuplesList\\',\\n\\t\\t\\t\\t\\t\\t\\t\\t\\t\\'ConcludedConditionIsBoolsList\\',\\n\\t\\t\\t\\t\\t\\t\\t\\t\\t\\'ConcludedIsBool\\'\\n\\t\\t\\t\\t\\t\\t\\t\\t]\\n\\n\\tdef default_init(self,\\n\\t\\t\\t\\t_ConcludingTestVariable=None,\\n\\t\\t\\t\\t_ConcludingConditionTuplesList=None,\\n\\t\\t\\t\\t_ConcludedConditionIsBoolsList=None,\\n\\t\\t\\t\\t_ConcludedIsBool=True,\\n\\t\\t\\t\\t**_KwargVariablesDict\\n\\t\\t\\t\\t):\\n\\n\\t\\t#Call the parent init method\\n\\t\\tBaseClass.__init__(self,**_KwargVariablesDict)\\n\\n\\tdef do_conclude(self):\\n\\t\\t\"\"\" \"\"\"\\n\\n\\t\\t#debug\\n\\t\\t\\'\\'\\'\\n\\t\\tself.debug((\\'self.\\',self,[\\'ConcludingConditionTuplesList\\']))\\n\\t\\t\\'\\'\\'\\n\\t\\t\\n\\t\\t#Apply __getitem__\\n\\t\\tself.ConcludedConditionIsBoolsList=map(\\n\\t\\t\\t\\tlambda __ConcludingConditionTuple:\\n\\t\\t\\t\\tself.condition(\\n\\t\\t\\t\\t\\t\\tself.ConcludingTestVariable[\\n\\t\\t\\t\\t\\t\\t\\t__ConcludingConditionTuple[0]\\n\\t\\t\\t\\t\\t\\t] if type(\\n\\t\\t\\t\\t\\t\\t\\t__ConcludingConditionTuple[0])\\n\\t\\t\\t\\t\\t\\tin SYS.StrTypesList else __ConcludingConditionTuple[0],\\n\\t\\t\\t\\t\\t\\t__ConcludingConditionTuple[1],\\n\\t\\t\\t\\t\\t\\t__ConcludingConditionTuple[2]\\n\\t\\t\\t\\t\\t).ConditionedIsBool,\\n\\t\\t\\t\\tself.ConcludingConditionTuplesList\\n\\t\\t\\t)\\n\\n\\t\\t#all\\n\\t\\tself.ConcludedIsBool=all(self.ConcludedConditionIsBoolsList)\\n\\n\\t\\t#Return self\\n\\t\\t#return self\\n#</DefineClass>\\n\\n```\\n\\n<small>\\nView the Concluder sources on <a href=\"https://github.com/Ledoux/ShareYourSystem/tree/master/Pythonlogy/ShareYourSystem/Objects/Concluder\" target=\"_blank\">Github</a>\\n</small>\\n\\n', \"\\n<!---\\nFrozenIsBool True\\n-->\\n\\n##Example\\n\\nLet's do a simple conclude call\", '\\n#ImportModules\\nimport ShareYourSystem as SYS\\nfrom ShareYourSystem.Standards.Objects import Concluder\\nimport operator\\n\\n#Definition of an instance Concluder and make it print hello\\nMyConcluder=Concluder.ConcluderClass().conclude(\\n\\t{\\'MyColorStr\\':\\'Black\\',\\'MySuperInt\\':6},\\n\\t[\\n\\t\\t(\\'MyColorStr\\',operator.eq,\"Black\"),\\n\\t\\t(\\'MySuperInt\\',operator.gt,3),\\n\\t\\t(1,operator.eq,1)\\n\\t]\\n)\\n\\t\\t\\n#Definition the AttestedStr\\nSYS._attest(\\n\\t[\\n\\t\\t\\'MyConcluder is \\'+SYS._str(\\n\\t\\tMyConcluder,\\n\\t\\t**{\\n\\t\\t\\t\\'RepresentingBaseKeyStrsListBool\\':False,\\n\\t\\t\\t\\'RepresentingAlineaIsBool\\':False\\n\\t\\t\\t}\\n\\t\\t),\\n\\t]\\n) \\n\\n#Print\\n\\n\\n\\t\\n\\n']\n", 
                "   /  '<Spe><Instance>NotebookingFileKeyStr' : Presentation.ipynb\n", 
                "   /}\n", 
                "\n", 
                "*****End of the Attest *****\n", 
                "\n", 
                "\n"
              ]
            }
          ], 
          "collapsed": false, 
          "metadata": {
            "slideshow": {
              "slide_type": "-"
            }
          }
        }, 
        {
          "source": "\n<!--\nFrozenIsBool False\n-->\n\n#Nbconverter\n\n##Doc\n----\n\n\n> \n> The Nbconverter\n> \n> \n\n----\n\n<small>\nView the Nbconverter notebook on [NbViewer](http://nbviewer.ipython.org/url/shareyoursystem.ouvaton.org/Nbconverter.ipynb)\n</small>\n\n", 
          "cell_type": "markdown", 
          "prompt_number": 16, 
          "metadata": {
            "slideshow": {
              "slide_type": "slide"
            }
          }
        }, 
        {
          "source": "\n<!--\nFrozenIsBool False\n-->\n\n##Code\n\n----\n\n<ClassDocStr>\n\n----\n\n```python\n# -*- coding: utf-8 -*-\n\"\"\"\n\n\n<DefineSource>\n@Date : Fri Nov 14 13:20:38 2014 \\n\n@Author : Erwan Ledoux \\n\\n\n</DefineSource>\n\n\nThe Nbconverter\n\n\"\"\"\n\n#<DefineAugmentation>\nimport ShareYourSystem as SYS\nBaseModuleStr=\"ShareYourSystem.Guiders.Notebooker\"\nDecorationModuleStr=\"ShareYourSystem.Standards.Classors.Classer\"\nSYS.setSubModule(globals())\n#</DefineAugmentation>\n\n#<ImportSpecificModules>\nimport collections\nimport copy\nimport json\nimport os\nimport sys\nFiler=BaseModule\n#</ImportSpecificModules>\n\n#<DefineFunctions>\ndef getNbconvertedMarkdownCellDictsListWithCodeCellDict(_CellDict):\n\treturn [\n\t\t\t\t{\n\t\t\t\t\t'source': \"```python\\n\"+\"\".join(\n\t\t\t\t\t\tmap(\n\t\t\t\t\t\t\t\tlambda __LineStr:\n\t\t\t\t\t\t\t\t__LineStr.replace('\\t','    '),\n\t\t\t\t\t\t\t\t_CellDict['input']\n\t\t\t\t\t\t\t)\n\t\t\t\t\t)+\"\\n```\\n\", \n\t\t\t\t\t'cell_type': 'markdown', \n\t\t\t\t\t'metadata': {}\n\t\t\t\t}\n\t\t\t]+[\n\t\t\t\t\t{\n\t\t\t\t\t\t'source': \"```console\\n>>>\\n\"+\"\".join(\n\t\t\t\t\t\t\t_CellDict['outputs'][0]['text'])+\"\\n```\\n\", \n\t\t\t\t\t\t'cell_type': 'markdown', \n\t\t\t\t\t\t'metadata': {}\n\t\t\t\t\t} \n\t\t\t] if len(_CellDict['outputs'])>0 else []\n\n#</DefineFunctions>\n\n#<DefineLocals>\nNbconvertingFilePrefixStr=\"\"\n#</DefineLocals>\n\n#<DefineClass>\n@DecorationClass()\nclass NbconverterClass(BaseClass):\n\t\n\t#Definition\n\tRepresentingKeyStrsList=[\n\t\t\t\t\t\t\t\t'NbconvertingFileKeyStr'\n\t\t\t\t\t\t\t]\n\n\tdef default_init(self,\n\t\t\t\t\t\t_NbconvertingFileKeyStr=\"\",\n\t\t\t\t\t\t_NbconvertingFormatStr=\"Markdown\",\n\t\t\t\t\t\t**_KwargVariablesDict\n\t\t\t\t\t):\n\n\t\t#Call the parent __init__ method\n\t\tBaseClass.__init__(self,**_KwargVariablesDict)\n\n\tdef do_nbconvert(self):\n\n\t\t#debug\n\t\t'''\n\t\tself.debug(('self.',self,['FiledFileVariable']))\n\t\t'''\n\n\t\t#Check\n\t\tif self.NbconvertingFormatStr==\"Markdown\":\n\n\t\t\t#debug\n\t\t\t'''\n\t\t\tself.debug(\n\t\t\t\t\t\t'worksheets are before the markdown '+Representer.represent(\n\t\t\t\t\t\t\tself.NbconvertedNotebookDict['worksheets'][0],**{'RepresentingAlineaIsBool':False})\n\t\t\t\t\t)\n\t\t\t'''\n\n\t\t\t#Transform the code cells into Nbconverted cells\n\t\t\tNbconvertedWorksheetsList=SYS.flat(\n\t\t\t\tmap(\n\t\t\t\t\tlambda __CellDict:\n\t\t\t\t\tgetNbconvertedMarkdownCellDictsListWithCodeCellDict(\n\t\t\t\t\t\t__CellDict\n\t\t\t\t\t) \n\t\t\t\t\tif __CellDict['cell_type']=='code'\n\t\t\t\t\telse __CellDict,\n\t\t\t\t\tself.NotebookedCodeDict['worksheets'][0]['cells']\n\t\t\t\t\t)\n\t\t\t)\n\n\t\t\t#debug\n\t\t\t'''\n\t\t\tself.debug(\n\t\t\t\t\t\t'NbconvertedWorksheetsList is '+SYS._str(\n\t\t\t\t\t\t\tNbconvertedWorksheetsList,**{'RepresentingAlineaIsBool':False})\n\t\t\t\t\t\t)\n\t\t\t'''\n\n\t\t\t#set the dict\n\t\t\tself.NotebookedCodeDict['worksheets'][0]['cells']=NbconvertedWorksheetsList\n\n\t\t\t#debug\n\t\t\t'''\n\t\t\tself.debug(('self.',self,['FilingKeyStr']))\n\t\t\t'''\n\n\t\t\t#Write\n\t\t\tself.file(\n\t\t\t\t\t\tself.NbconvertingFileKeyStr.replace('.md','.ipynb'),\n\t\t\t\t\t\t'w'\n\t\t\t).write(\n\t\t\t\tself.NotebookedCodeDict,**{\n\t\t\t\t\t'LoadingFormatStr':'json'\n\t\t\t\t}\n\t\t\t).FiledFileVariable.close()\n\n\t\t\t#debug\n\t\t\t'''\n\t\t\tself.debug(('self.',self,[\n\t\t\t\t\t\t\t\t\t\t'FilingKeyStr',\n\t\t\t\t\t\t\t\t\t\t'FilingModeStr',\n\t\t\t\t\t\t\t\t\t\t'FiledPathStr'\n\t\t\t\t\t\t\t\t\t]))\n\t\t\t'''\n\n\t\t\t#Definition the NbconvertedCommandStr\n\t\t\tNbconvertedCommandStr=SYS.IPythonPathStr+\" nbconvert --to markdown --output \"+self.FiledPathStr.replace('.ipynb','')+\" \"+self.FiledPathStr\n\n\t\telif self.NbconvertingFormatStr=='Slide':\n\n\t\t\t#Definition the NbconvertedCommandStr\n\t\t\tNbconvertedCommandStr=SYS.IPythonPathStr+\" nbconvert --to slides --output \"+self.FiledPathStr.replace('.ipynb','')+\" \"+self.FiledPathStr\n\n\t\t\t#debug\n\t\t\t'''\n\t\t\tself.debug(\n\t\t\t\t\t\t'NbconvertedCommandStr is '+NbconvertedCommandStr,\n\t\t\t\t\t\t('self.',self,['FiledPathStr'])\n\t\t\t\t\t)\n\t\t\t'''\n\n\t\t#debug\n\t\t'''\n\t\tself.debug('NbconvertedCommandStr is '+NbconvertedCommandStr)\n\t\t'''\n\n\t\t#Convert\n\t\tos.popen(NbconvertedCommandStr)\n\n\t\t#set the name\n\t\tif self.NbconvertingFormatStr=='Slide':\n\n\t\t\t#popen\n\t\t\tos.popen(\n\t\t\t\t\t'mv '+self.FiledPathStr.replace(\n\t\t\t\t\t'.ipynb','.slides.html'\n\t\t\t\t\t)+' '+self.FiledPathStr.replace(\n\t\t\t\t\t'.ipynb','.html'\n\t\t\t\t)\n\t\t\t)\n\n\t\t\t#change the reveal.js directory\n\t\t\tself.load(**{\n\t\t\t\t\t'FilingKeyStr':self.FiledPathStr.split('/')[-1].replace(\n\t\t\t\t\t\t'.ipynb',\n\t\t\t\t\t\t'.html'\n\t\t\t\t\t),\n\t\t\t\t\t'LoadingFormatStr':'txt'\n\t\t\t\t})\n\n\t\t\tself.LoadedReadVariable=self.LoadedReadVariable.replace(\n\t\t\t\t'reveal.js/','reveal/'\n\t\t\t).replace(\n\t\t\t\t\"Reveal.initialize({\",\n\t\t\t\t#\"Reveal.initialize({\"\n\t\t\t\t\"Reveal.initialize({width: 1000,height: 400,margin: 0.,minScale: 0.5,maxScale: 1.0,\"\n\t\t\t)\t\n\n\n\t\t\t#chunk\n\t\t\tDocumentedOldChunkStrsList=SYS.chunk(\n\t\t\t\t\t\t['<code class=\"language-python\">','</code>'],\n\t\t\t\t\t\tself.LoadedReadVariable,\n\t\t\t\t\t\t**{'ChunksInt':\"All\"}\n\t\t\t\t\t)\n\t\t\t\n\t\t\t#debug\n\t\t\t'''\n\t\t\tself.debug(\n\t\t\t\t\t\t[\n\t\t\t\t\t\t\t'self.DocumentedOldChunkStrsList is ',\n\t\t\t\t\t\t\tstr(DocumentedOldChunkStrsList)\n\t\t\t\t\t\t]\n\t\t\t\t\t)\n\t\t\t'''\n\t\t\t\n\t\t\t#map\n\t\t\tDocumentedNewChunkStrsList=copy.deepcopy(DocumentedOldChunkStrsList)\n\t\t\tmap(\n\t\t\t\t\tlambda __ChunkStr,__ChunkIndexInt:\n\t\t\t\t\tmap(\n\t\t\t\t\t\t\tlambda __RemoveStr:\n\t\t\t\t\t\t\t DocumentedNewChunkStrsList.__setitem__(\n\t\t\t\t\t\t\t \t__ChunkIndexInt,\n\t\t\t\t\t\t\t \tDocumentedNewChunkStrsList[__ChunkIndexInt].replace(\n\t\t\t\t\t\t\t\t\t__RemoveStr,\n\t\t\t\t\t\t\t\t\t''\n\t\t\t\t\t\t\t\t)\n\t\t\t\t\t\t\t),\n\t\t\t\t\t\t\tmap(\n\t\t\t\t\t\t\t\t\tlambda __KeyStr:\n\t\t\t\t\t\t\t\t\t'<span class=\"'+__KeyStr+'\">',\n\t\t\t\t\t\t\t\t\t[\n\t\t\t\t\t\t\t\t\t\t\"built_in\",\n\t\t\t\t\t\t\t\t\t\t\"comment\",\n\t\t\t\t\t\t\t\t\t\t\"keyword\",\n\t\t\t\t\t\t\t\t\t\t\"params\",\n\t\t\t\t\t\t\t\t\t\t\"string\",\n\t\t\t\t\t\t\t\t\t\t\"number\",\n\t\t\t\t\t\t\t\t\t\t\"title\",\n\t\t\t\t\t\t\t\t\t\t\"function\",\n\t\t\t\t\t\t\t\t\t\t\"decorator\",\n\t\t\t\t\t\t\t\t\t\t\"class\",\n\t\t\t\t\t\t\t\t\t\t#\"highlight\",\n\t\t\t\t\t\t\t\t\t\t#\"kn\",\n\t\t\t\t\t\t\t\t\t\t#\"c\",\n\t\t\t\t\t\t\t\t\t\t#\"n\",\n\t\t\t\t\t\t\t\t\t\t#\"p\",\n\t\t\t\t\t\t\t\t\t\t#\"o\"\n\t\t\t\t\t\t\t\t\t]\n\t\t\t\t\t\t\t)+['</span>']\n\t\t\t\t\t),\n\t\t\t\t\tDocumentedOldChunkStrsList,\n\t\t\t\t\txrange(len(DocumentedOldChunkStrsList))\n\t\t\t\t)\n\n\t\t\t#debug\n\t\t\t'''\n\t\t\tself.debug(\n\t\t\t\t\t\t[\n\t\t\t\t\t\t\t'self.DocumentedNewChunkStrsList is ',\n\t\t\t\t\t\t\tstr(DocumentedNewChunkStrsList)\n\t\t\t\t\t\t]\n\t\t\t\t\t)\n\t\t\t'''\n\n\t\t\t#replace\n\t\t\tmap(\n\t\t\t\t\tlambda __DocumentedOldChunkStr,__DocumentedNewChunkStr:\n\t\t\t\t\tself.__setattr__(\n\t\t\t\t\t\t\t'LoadedReadVariable',\n\t\t\t\t\t\t\tself.LoadedReadVariable.replace(__DocumentedOldChunkStr,__DocumentedNewChunkStr)\n\t\t\t\t\t\t),\n\t\t\t\t\tDocumentedOldChunkStrsList,\n\t\t\t\t\tDocumentedNewChunkStrsList\n\t\t\t\t)\n\n\t\t\t#write\n\t\t\tself.write(self.LoadedReadVariable).close()\n\n\t\t#Return self\n\t\t#return self\t\n\n#</DefineClass>\n\n\n```\n\n<small>\nView the Nbconverter sources on <a href=\"https://github.com/Ledoux/ShareYourSystem/tree/master/Pythonlogy/ShareYourSystem/Guiders/Nbconverter\" target=\"_blank\">Github</a>\n</small>\n\n", 
          "cell_type": "markdown", 
          "prompt_number": 17, 
          "metadata": {
            "slideshow": {
              "slide_type": "subslide"
            }
          }
        }, 
        {
          "source": "\n<!---\nFrozenIsBool True\n-->\n\n##Example\n\nLet's create a Slide Presentation like file", 
          "cell_type": "markdown", 
          "prompt_number": 18, 
          "metadata": {
            "slideshow": {
              "slide_type": "subslide"
            }
          }
        }, 
        {
          "cell_type": "code", 
          "prompt_number": 19, 
          "language": "python", 
          "input": [
            "#ImportModules\n", 
            "import ShareYourSystem as SYS\n", 
            "from ShareYourSystem.Guiders import Nbconverter\n", 
            "\n", 
            "#Definition a Nbconverter\n", 
            "MyNbconverter=Nbconverter.NbconverterClass().package(\n", 
            "        'ShareYourSystem.Standards.Objects.Concluder'\n", 
            "    ).scriptbook(\n", 
            "        **{\n", 
            "            'GuidingBookStr':'Doc'\n", 
            "        }\n", 
            "    ).notebook(\n", 
            "        'Presentation.ipynb'\n", 
            "    ).nbconvert(\n", 
            "        'Readme.md',\n", 
            "        'Slide'\n", 
            ")\n", 
            "    \n", 
            "#Definition the AttestedStr\n", 
            "SYS._attest(\n", 
            "    [\n", 
            "        'MyNbconverter is '+SYS._str(\n", 
            "        MyNbconverter,\n", 
            "        **{\n", 
            "            'RepresentingBaseKeyStrsListBool':False,\n", 
            "            'RepresentingAlineaIsBool':False\n", 
            "            }\n", 
            "        )\n", 
            "    ]\n", 
            ")  \n", 
            "\n", 
            "#Print\n", 
            "\n", 
            "\n", 
            "\n"
          ], 
          "outputs": [
            {
              "output_type": "stream", 
              "stream": "stdout", 
              "text": [
                "\n", 
                "\n", 
                "*****Start of the Attest *****\n", 
                "\n", 
                "MyNbconverter is < (NbconverterClass), 4540813520>\n", 
                "   /{ \n", 
                "   /  '<New><Instance>IdInt' : 4540813520\n", 
                "   /  '<New><Instance>NotebookedScriptStrsList' : ['Markdown', 'Markdown', 'Markdown', 'Python']\n", 
                "   /  '<New><Instance>ScriptbookedSortDict' : \n", 
                "   /   /{ \n", 
                "   /   /  'DocumentDoc.md' : 001_DocumentDoc.md\n", 
                "   /   /  'ExampleDoc.md' : 00_ExampleDoc.md\n", 
                "   /   /  'ExampleDoc.py' : 01_ExampleDoc.py\n", 
                "   /   /  'GithubDoc.md' : 002_GithubDoc.md\n", 
                "   /   /}\n", 
                "   /  '<New><Instance>_CapturingStopBool' : True\n", 
                "   /  '<Spe><Instance>NbconvertingFileKeyStr' : Readme.md\n", 
                "   /}\n", 
                "\n", 
                "*****End of the Attest *****\n", 
                "\n", 
                "\n"
              ]
            }
          ], 
          "collapsed": false, 
          "metadata": {
            "slideshow": {
              "slide_type": "-"
            }
          }
        }, 
        {
          "source": "\n<!--\nFrozenIsBool False\n-->\n\n#Installer\n\n##Doc\n----\n\n\n> \n> The Installer collects ModuleStrs to write \n> \n> \n\n----\n\n<small>\nView the Installer notebook on [NbViewer](http://nbviewer.ipython.org/url/shareyoursystem.ouvaton.org/Installer.ipynb)\n</small>\n\n", 
          "cell_type": "markdown", 
          "prompt_number": 20, 
          "metadata": {
            "slideshow": {
              "slide_type": "slide"
            }
          }
        }, 
        {
          "source": "\n<!--\nFrozenIsBool False\n-->\n\n##Code\n\n----\n\n<ClassDocStr>\n\n----\n\n```python\n# -*- coding: utf-8 -*-\n\"\"\"\n\n\n<DefineSource>\n@Date : Fri Nov 14 13:20:38 2014 \\n\n@Author : Erwan Ledoux \\n\\n\n</DefineSource>\n\n\nThe Installer collects ModuleStrs to write \n\n\"\"\"\n\n#<DefineAugmentation>\nimport ShareYourSystem as SYS\nBaseModuleStr=\"ShareYourSystem.Guiders.Nbconverter\"\nDecorationModuleStr=\"ShareYourSystem.Standards.Classors.Classer\"\nSYS.setSubModule(globals())\n#</DefineAugmentation>\n\n#<ImportSpecificModules>\nimport os\nimport copy\nfrom ShareYourSystem.Standards.Interfacers import Loader,Writer\n#</ImportSpecificModules>\n\n#<DefineLocals>\nInstallingSysFolderPathStr=SYS.PythonlogyLocalFolderPathStr\nInstallingLibraryFolderPathStr=InstallingSysFolderPathStr+'/docs/LibraryReference/'\n#</DefineLocals>\n\n#<DefineClass>\n@DecorationClass(**{\n\t'ClassingSwitchMethodStrsList':['install']\n})\nclass InstallerClass(BaseClass):\n\t\n\t#Definition\n\tRepresentingKeyStrsList=[\n\t\t\t\t\t\t\t\t\t'InstallingModuleStrsList',\n\t\t\t\t\t\t\t\t\t'InstallingAllBool'\n\t\t\t\t\t\t\t\t]\n\n\tdef default_init(self,\n\t\t\t\t\t\t_InstallingModuleStrsList=None,\n\t\t\t\t\t\t_InstallingAllBool=False,\n\t\t\t\t\t\t**_KwargVariablesDict\n\t\t\t\t\t):\n\n\t\t#Call the parent __init__ method\n\t\tBaseClass.__init__(self,**_KwargVariablesDict)\n\n\t\t\n\tdef do_install(self):\n\n\t\t#Definition\n\t\tself.load(\n\t\t\t**{\n\t\t\t\t'FolderingPathStr':InstallingSysFolderPathStr,\n\t\t\t\t'FilingKeyStr':'setup.py'\n\t\t\t}\n\t\t)\n\n\t\t#chunk to set the InstalledModuleStrsList\n\t\tInstalledPackageStr=SYS.chunk(\n\t\t\t['packages=[','],'],self.LoadedReadVariable\n\t\t)[0]\n\t\tInstalledTextStrsList=InstalledPackageStr.split('\\n')\n\t\tInstalledTextStrListsList=SYS._filter(\n\t\t\tlambda __InstalledChunkList:\n\t\t\tlen(__InstalledChunkList)>0,\n\t\t\tmap(\n\t\t\t\t\tlambda __InstalledTextStr:\n\t\t\t\t\tSYS.chunk(\n\t\t\t\t\t\t[\"'ShareYourSystem\",\"',\"],\n\t\t\t\t\t\t__InstalledTextStr\n\t\t\t\t\t),\n\t\t\t\t\tInstalledTextStrsList\n\t\t\t)\n\t\t)\n\n\t\tself.InstallingModuleStrsList=map(\n\t\t\tlambda __InstalledTextStrList:\n\t\t\t('ShareYourSystem'+__InstalledTextStrList[0])\n\t\t\tif __InstalledTextStrList[0]!=\"'\"\n\t\t\telse 'ShareYourSystem',\n\t\t\tInstalledTextStrListsList\n\t\t)\n\n\t\t#debug\n\t\t'''\n\t\tself.debug(('self.',self,['InstallingModuleStrsList']))\n\t\t'''\n\t\t\n\t\t#map\n\t\tself.InstalledModulePathStrsList=map(\n\t\t\tlambda __InstallingModuleStr:\n\t\t\t__InstallingModuleStr.replace('.','/'),\n\t\t\tself.InstallingModuleStrsList\n\t\t)\n\n\t\t#debug\n\t\t'''\n\t\tself.debug(('self.',self,['InstalledModulePathStrsList']))\n\t\t'''\n\t\t\n\t\t#set with all the NameStrs\n\t\tself.InstalledNameStrsList=map(\n\t\t\t\t\tlambda __InstalledModulePathStr:\n\t\t\t\t\t__InstalledModulePathStr.split('/')[-1],\n\t\t\t\t\tself.InstalledModulePathStrsList\n\t\t\t)\n\n\t\t#Return self\n\t\t#return self\n\n#</DefineClass>\n\n```\n\n<small>\nView the Installer sources on <a href=\"https://github.com/Ledoux/ShareYourSystem/tree/master/Pythonlogy/ShareYourSystem/Guiders/Installer\" target=\"_blank\">Github</a>\n</small>\n\n", 
          "cell_type": "markdown", 
          "prompt_number": 21, 
          "metadata": {
            "slideshow": {
              "slide_type": "subslide"
            }
          }
        }, 
        {
          "source": "\n<!---\nFrozenIsBool True\n-->\n\n##Example\n\nLet's create an empty class, which will automatically receive\nspecial attributes from the decorating ClassorClass,\nspecially the NameStr, that should be the ClassStr\nwithout the TypeStr in the end.", 
          "cell_type": "markdown", 
          "prompt_number": 22, 
          "metadata": {
            "slideshow": {
              "slide_type": "subslide"
            }
          }
        }, 
        {
          "cell_type": "code", 
          "prompt_number": 23, 
          "language": "python", 
          "input": [
            "\n", 
            "#ImportModules\n", 
            "import ShareYourSystem as SYS\n", 
            "from ShareYourSystem.Guiders import Installer\n", 
            "\n", 
            "#Definition a Installer instance\n", 
            "MyInstaller=Installer.InstallerClass().install(_AllBool=True)\n", 
            "\n", 
            "#Definition the AttestedStr\n", 
            "SYS._attest(\n", 
            "    [\n", 
            "        'MyInstaller is '+SYS._str(\n", 
            "        MyInstaller,\n", 
            "        **{\n", 
            "            'RepresentingBaseKeyStrsListBool':False\n", 
            "        }\n", 
            "        )\n", 
            "    ]\n", 
            ")  \n", 
            "\n", 
            "#Print\n", 
            "\n", 
            "\n", 
            "\n", 
            "\n", 
            "\n", 
            "\n", 
            "\n"
          ], 
          "outputs": [
            {
              "output_type": "stream", 
              "stream": "stdout", 
              "text": [
                "\n", 
                "\n", 
                "*****Start of the Attest *****\n", 
                "\n", 
                "MyInstaller is < (InstallerClass), 4540557008>\n", 
                "   /{ \n", 
                "   /  '<New><Instance>IdInt' : 4540557008\n", 
                "   /  '<New><Instance>InstalledModulePathStrsList' : ['ShareYourSystem', 'ShareYourSystem/Objects/Object', 'ShareYourSystem/Objects/Initiator', 'ShareYourSystem/Classors/Classor', 'ShareYourSystem/Classors/Defaultor', 'ShareYourSystem/Classors/Doer', 'ShareYourSystem/Classors/Deriver', 'ShareYourSystem/Classors/Propertiser', 'ShareYourSystem/Classors/Inspecter', 'ShareYourSystem/Classors/Representer', 'ShareYourSystem/Objects/Printer', 'ShareYourSystem/Objects/Debugger', 'ShareYourSystem/Functers/Functer', 'ShareYourSystem/Classors/Attester', 'ShareYourSystem/Classors/Tester', 'ShareYourSystem/Functers/Functer', 'ShareYourSystem/Functers/Hooker', 'ShareYourSystem/Functers/Triggerer', 'ShareYourSystem/Objects/Conditioner', 'ShareYourSystem/Objects/Concluder', 'ShareYourSystem/Classors/Observer', 'ShareYourSystem/Classors/Binder', 'ShareYourSystem/Classors/Watcher', 'ShareYourSystem/Classors/Resetter', 'ShareYourSystem/Classors/Switcher', 'ShareYourSystem/Classors/Mimicker', 'ShareYourSystem/Objects/Caller', 'ShareYourSystem/Objects/Cloner', 'ShareYourSystem/Classors/Classer', 'ShareYourSystem/Objects/Rebooter', 'ShareYourSystem/Functers/Argumenter', 'ShareYourSystem/Functers/Imitater', 'ShareYourSystem/Functers/Alerter', 'ShareYourSystem/Interfacers/Interfacer', 'ShareYourSystem/Interfacers/Folderer', 'ShareYourSystem/Objects/Packager', 'ShareYourSystem/Interfacers/Filer', 'ShareYourSystem/Interfacers/Closer', 'ShareYourSystem/Interfacers/Loader', 'ShareYourSystem/Interfacers/Writer', 'ShareYourSystem/Interfacers/Deployer', 'ShareYourSystem/Interfacers/Hdformater', 'ShareYourSystem/Interfacers/Capturer', 'ShareYourSystem/Interfacers/Processer', 'ShareYourSystem/Interfacers/Statuser', 'ShareYourSystem/Interfacers/Killer', 'ShareYourSystem/Interfacers/Directer', 'ShareYourSystem/Guiders/Guider', 'ShareYourSystem/Guiders/Scriptbooker', 'ShareYourSystem/Guiders/Celler', 'ShareYourSystem/Guiders/Notebooker', 'ShareYourSystem/Guiders/Nbconverter', 'ShareYourSystem/Guiders/Installer', 'ShareYourSystem/Guiders/Documenter', 'ShareYourSystem/Guiders/Documenter', 'ShareYourSystem/Itemizers/Itemizer', 'ShareYourSystem/Itemizers/Getter', 'ShareYourSystem/Itemizers/Setter', 'ShareYourSystem/Itemizers/Deleter', 'ShareYourSystem/Itemizers/Attributer', 'ShareYourSystem/Itemizers/Restricter', 'ShareYourSystem/Itemizers/Pather', 'ShareYourSystem/Itemizers/Grasper', 'ShareYourSystem/Itemizers/Sharer', 'ShareYourSystem/Itemizers/Executer', 'ShareYourSystem/Applyiers/Applyier', 'ShareYourSystem/Applyiers/Mapper', 'ShareYourSystem/Applyiers/Picker', 'ShareYourSystem/Applyiers/Gatherer', 'ShareYourSystem/Applyiers/Updater', 'ShareYourSystem/Itemizers/Pointer', 'ShareYourSystem/Applyiers/Linker', 'ShareYourSystem/Applyiers/Weaver', 'ShareYourSystem/Applyiers/Filterer', 'ShareYourSystem/Noders/Noder', 'ShareYourSystem/Functers/Outputer', 'ShareYourSystem/Noders/Appender', 'ShareYourSystem/Noders/Instancer', 'ShareYourSystem/Noders/Adder', 'ShareYourSystem/Noders/Distinguisher', 'ShareYourSystem/Noders/Parenter', 'ShareYourSystem/Noders/Collecter', 'ShareYourSystem/Applyiers/Pusher', 'ShareYourSystem/Applyiers/Producer', 'ShareYourSystem/Noders/Catcher', 'ShareYourSystem/Noders/Attentioner', 'ShareYourSystem/Noders/Coupler', 'ShareYourSystem/Noders/Settler', 'ShareYourSystem/Applyiers/Commander', 'ShareYourSystem/Walkers/Walker', 'ShareYourSystem/Walkers/Cumulater', 'ShareYourSystem/Walkers/Visiter', 'ShareYourSystem/Walkers/Recruiter', 'ShareYourSystem/Walkers/Mobilizer', 'ShareYourSystem/Walkers/Router', 'ShareYourSystem/Walkers/Grabber', 'ShareYourSystem/Applyiers/Poker', 'ShareYourSystem/Noders/Connecter', 'ShareYourSystem/Noders/Networker', 'ShareYourSystem/Noders/Transmitter', 'ShareYourSystem/Noders/Grouper', 'ShareYourSystem/Noders/Structurer', 'ShareYourSystem/Noders/Organizer', 'ShareYourSystem/Storers/Storer', 'ShareYourSystem/Databasers', 'ShareYourSystem/Databasers/Databaser', 'ShareYourSystem/Databasers/Modeler', 'ShareYourSystem/Databasers/Tabularer', 'ShareYourSystem/Databasers/Tabler', 'ShareYourSystem/Databasers/Rower', 'ShareYourSystem/Databasers/Flusher', 'ShareYourSystem/Databasers/Retriever', 'ShareYourSystem/Databasers/Findoer', 'ShareYourSystem/Databasers/Recoverer', 'ShareYourSystem/Databasers/Shaper', 'ShareYourSystem/Databasers/Merger', 'ShareYourSystem/Databasers/Joiner', 'ShareYourSystem/Databasers/Hierarchizer', 'ShareYourSystem/Storers/Grider', 'ShareYourSystem/Storers/Explorer', 'ShareYourSystem/Storers/Controller', 'ShareYourSystem/Databasers/Featurer', 'ShareYourSystem/Databasers/Recuperater', 'ShareYourSystem/Ploters/Ploter', 'ShareYourSystem/Ploters/Axer', 'ShareYourSystem/Ploters/Paneler', 'ShareYourSystem/Ploters/Figurer', 'ShareYourSystem/Ploters/Pyploter', 'ShareYourSystem/Tutorials/Incrementer', 'ShareYourSystem/Tutorials/Decrementer', 'ShareYourSystem/Tutorials/Multiplier', 'ShareYourSystem/Tutorials/Sumer', 'ShareYourSystem/Tutorials/Modulizer', 'ShareYourSystem/Simulaters/Simulater', 'ShareYourSystem/Simulaters/Runner', 'ShareYourSystem/Simulaters/Moniter', 'ShareYourSystem/Simulaters/Populater', 'ShareYourSystem/Simulaters/Dynamizer', 'ShareYourSystem/Simulaters/Lifer', 'ShareYourSystem/Simulaters/Rater', 'ShareYourSystem/Simulaters/Brianer', 'ShareYourSystem/Simulaters/Pydelayer', 'ShareYourSystem/Muzikers/Muziker', 'ShareYourSystem/Muzikers/Vexflower', 'ShareYourSystem/Muzikers/Permuter', 'ShareYourSystem/Muzikers/Differenciater', 'ShareYourSystem/Muzikers/Pooler', 'ShareYourSystem/Muzikers/Harmonizer', 'ShareYourSystem/Objects', 'ShareYourSystem/Classors', 'ShareYourSystem/Functers', 'ShareYourSystem/Interfacers', 'ShareYourSystem/Guiders', 'ShareYourSystem/Itemizers', 'ShareYourSystem/Applyiers', 'ShareYourSystem/Walkers', 'ShareYourSystem/Noders', 'ShareYourSystem/Storers', 'ShareYourSystem/Databasers', 'ShareYourSystem/Ploters', 'ShareYourSystem/Tutorials', 'ShareYourSystem/Simulaters', \"ShareYourSystem/Muzikers'\", \"ShareYourSystem':[\"]\n", 
                "   /  '<New><Instance>InstalledNameStrsList' : ['ShareYourSystem', 'Object', 'Initiator', 'Classor', 'Defaultor', 'Doer', 'Deriver', 'Propertiser', 'Inspecter', 'Representer', 'Printer', 'Debugger', 'Functer', 'Attester', 'Tester', 'Functer', 'Hooker', 'Triggerer', 'Conditioner', 'Concluder', 'Observer', 'Binder', 'Watcher', 'Resetter', 'Switcher', 'Mimicker', 'Caller', 'Cloner', 'Classer', 'Rebooter', 'Argumenter', 'Imitater', 'Alerter', 'Interfacer', 'Folderer', 'Packager', 'Filer', 'Closer', 'Loader', 'Writer', 'Deployer', 'Hdformater', 'Capturer', 'Processer', 'Statuser', 'Killer', 'Directer', 'Guider', 'Scriptbooker', 'Celler', 'Notebooker', 'Nbconverter', 'Installer', 'Documenter', 'Documenter', 'Itemizer', 'Getter', 'Setter', 'Deleter', 'Attributer', 'Restricter', 'Pather', 'Grasper', 'Sharer', 'Executer', 'Applyier', 'Mapper', 'Picker', 'Gatherer', 'Updater', 'Pointer', 'Linker', 'Weaver', 'Filterer', 'Noder', 'Outputer', 'Appender', 'Instancer', 'Adder', 'Distinguisher', 'Parenter', 'Collecter', 'Pusher', 'Producer', 'Catcher', 'Attentioner', 'Coupler', 'Settler', 'Commander', 'Walker', 'Cumulater', 'Visiter', 'Recruiter', 'Mobilizer', 'Router', 'Grabber', 'Poker', 'Connecter', 'Networker', 'Transmitter', 'Grouper', 'Structurer', 'Organizer', 'Storer', 'Databasers', 'Databaser', 'Modeler', 'Tabularer', 'Tabler', 'Rower', 'Flusher', 'Retriever', 'Findoer', 'Recoverer', 'Shaper', 'Merger', 'Joiner', 'Hierarchizer', 'Grider', 'Explorer', 'Controller', 'Featurer', 'Recuperater', 'Ploter', 'Axer', 'Paneler', 'Figurer', 'Pyploter', 'Incrementer', 'Decrementer', 'Multiplier', 'Sumer', 'Modulizer', 'Simulater', 'Runner', 'Moniter', 'Populater', 'Dynamizer', 'Lifer', 'Rater', 'Brianer', 'Pydelayer', 'Muziker', 'Vexflower', 'Permuter', 'Differenciater', 'Pooler', 'Harmonizer', 'Objects', 'Classors', 'Functers', 'Interfacers', 'Guiders', 'Itemizers', 'Applyiers', 'Walkers', 'Noders', 'Storers', 'Databasers', 'Ploters', 'Tutorials', 'Simulaters', \"Muzikers'\", \"ShareYourSystem':[\"]\n", 
                "   /  '<Spe><Instance>InstallingAllBool' : True\n", 
                "   /  '<Spe><Instance>InstallingModuleStrsList' : ['ShareYourSystem', 'ShareYourSystem.Standards.Objects.Object', 'ShareYourSystem.Standards.Objects.Initiator', 'ShareYourSystem.Standards.Classors.Classor', 'ShareYourSystem.Standards.Classors.Defaultor', 'ShareYourSystem.Standards.Classors.Doer', 'ShareYourSystem.Standards.Classors.Deriver', 'ShareYourSystem.Standards.Classors.Propertiser', 'ShareYourSystem.Standards.Classors.Inspecter', 'ShareYourSystem.Standards.Classors.Representer', 'ShareYourSystem.Standards.Objects.Printer', 'ShareYourSystem.Standards.Objects.Debugger', 'ShareYourSystem.Functers.Functer', 'ShareYourSystem.Standards.Classors.Attester', 'ShareYourSystem.Standards.Classors.Tester', 'ShareYourSystem.Functers.Functer', 'ShareYourSystem.Functers.Hooker', 'ShareYourSystem.Functers.Triggerer', 'ShareYourSystem.Standards.Objects.Conditioner', 'ShareYourSystem.Standards.Objects.Concluder', 'ShareYourSystem.Standards.Classors.Observer', 'ShareYourSystem.Standards.Classors.Binder', 'ShareYourSystem.Standards.Classors.Watcher', 'ShareYourSystem.Standards.Classors.Resetter', 'ShareYourSystem.Standards.Classors.Switcher', 'ShareYourSystem.Standards.Classors.Mimicker', 'ShareYourSystem.Standards.Objects.Caller', 'ShareYourSystem.Standards.Objects.Cloner', 'ShareYourSystem.Standards.Classors.Classer', 'ShareYourSystem.Standards.Objects.Rebooter', 'ShareYourSystem.Functers.Argumenter', 'ShareYourSystem.Functers.Imitater', 'ShareYourSystem.Functers.Alerter', 'ShareYourSystem.Standards.Interfacers.Interfacer', 'ShareYourSystem.Standards.Interfacers.Folderer', 'ShareYourSystem.Standards.Objects.Packager', 'ShareYourSystem.Standards.Interfacers.Filer', 'ShareYourSystem.Standards.Interfacers.Closer', 'ShareYourSystem.Standards.Interfacers.Loader', 'ShareYourSystem.Standards.Interfacers.Writer', 'ShareYourSystem.Standards.Interfacers.Deployer', 'ShareYourSystem.Standards.Interfacers.Hdformater', 'ShareYourSystem.Standards.Interfacers.Capturer', 'ShareYourSystem.Standards.Interfacers.Processer', 'ShareYourSystem.Standards.Interfacers.Statuser', 'ShareYourSystem.Standards.Interfacers.Killer', 'ShareYourSystem.Standards.Interfacers.Directer', 'ShareYourSystem.Guiders.Guider', 'ShareYourSystem.Guiders.Scriptbooker', 'ShareYourSystem.Guiders.Celler', 'ShareYourSystem.Guiders.Notebooker', 'ShareYourSystem.Guiders.Nbconverter', 'ShareYourSystem.Guiders.Installer', 'ShareYourSystem.Guiders.Documenter', 'ShareYourSystem.Guiders.Documenter', 'ShareYourSystem.Standards.Itemizers.Itemizer', 'ShareYourSystem.Standards.Itemizers.Getter', 'ShareYourSystem.Standards.Itemizers.Setter', 'ShareYourSystem.Standards.Itemizers.Deleter', 'ShareYourSystem.Standards.Itemizers.Attributer', 'ShareYourSystem.Standards.Itemizers.Restricter', 'ShareYourSystem.Standards.Itemizers.Pather', 'ShareYourSystem.Standards.Itemizers.Grasper', 'ShareYourSystem.Standards.Itemizers.Sharer', 'ShareYourSystem.Standards.Itemizers.Executer', 'ShareYourSystem.Applyiers.Applyier', 'ShareYourSystem.Applyiers.Mapper', 'ShareYourSystem.Applyiers.Picker', 'ShareYourSystem.Applyiers.Gatherer', 'ShareYourSystem.Applyiers.Updater', 'ShareYourSystem.Standards.Itemizers.Pointer', 'ShareYourSystem.Applyiers.Linker', 'ShareYourSystem.Applyiers.Weaver', 'ShareYourSystem.Applyiers.Filterer', 'ShareYourSystem.Standards.Noders.Noder', 'ShareYourSystem.Functers.Outputer', 'ShareYourSystem.Standards.Noders.Appender', 'ShareYourSystem.Standards.Noders.Instancer', 'ShareYourSystem.Standards.Noders.Adder', 'ShareYourSystem.Standards.Noders.Distinguisher', 'ShareYourSystem.Standards.Noders.Parenter', 'ShareYourSystem.Standards.Noders.Collecter', 'ShareYourSystem.Applyiers.Pusher', 'ShareYourSystem.Applyiers.Producer', 'ShareYourSystem.Standards.Noders.Catcher', 'ShareYourSystem.Standards.Noders.Attentioner', 'ShareYourSystem.Standards.Noders.Coupler', 'ShareYourSystem.Standards.Noders.Settler', 'ShareYourSystem.Applyiers.Commander', 'ShareYourSystem.Standards.Walkers.Walker', 'ShareYourSystem.Standards.Walkers.Cumulater', 'ShareYourSystem.Standards.Walkers.Visiter', 'ShareYourSystem.Standards.Walkers.Recruiter', 'ShareYourSystem.Standards.Walkers.Mobilizer', 'ShareYourSystem.Standards.Walkers.Router', 'ShareYourSystem.Standards.Walkers.Grabber', 'ShareYourSystem.Applyiers.Poker', 'ShareYourSystem.Standards.Noders.Connecter', 'ShareYourSystem.Standards.Noders.Networker', 'ShareYourSystem.Standards.Noders.Transmitter', 'ShareYourSystem.Standards.Noders.Grouper', 'ShareYourSystem.Standards.Noders.Structurer', 'ShareYourSystem.Standards.Noders.Organizer', 'ShareYourSystem.Storers.Storer', 'ShareYourSystem.Standards.Modelers', 'ShareYourSystem.Standards.Modelers.Databaser', 'ShareYourSystem.Standards.Modelers.Modeler', 'ShareYourSystem.Standards.Modelers.Tabularer', 'ShareYourSystem.Standards.Modelers.Tabler', 'ShareYourSystem.Standards.Modelers.Rower', 'ShareYourSystem.Standards.Modelers.Flusher', 'ShareYourSystem.Standards.Modelers.Retriever', 'ShareYourSystem.Standards.Modelers.Findoer', 'ShareYourSystem.Standards.Modelers.Recoverer', 'ShareYourSystem.Standards.Modelers.Shaper', 'ShareYourSystem.Standards.Modelers.Merger', 'ShareYourSystem.Standards.Modelers.Joiner', 'ShareYourSystem.Standards.Modelers.Hierarchizer', 'ShareYourSystem.Storers.Grider', 'ShareYourSystem.Storers.Explorer', 'ShareYourSystem.Storers.Controller', 'ShareYourSystem.Standards.Modelers.Featurer', 'ShareYourSystem.Standards.Modelers.Recuperater', 'ShareYourSystem.Ploters.Ploter', 'ShareYourSystem.Ploters.Axer', 'ShareYourSystem.Ploters.Paneler', 'ShareYourSystem.Ploters.Figurer', 'ShareYourSystem.Ploters.Pyploter', 'ShareYourSystem.Tutorials.Incrementer', 'ShareYourSystem.Tutorials.Decrementer', 'ShareYourSystem.Tutorials.Multiplier', 'ShareYourSystem.Tutorials.Sumer', 'ShareYourSystem.Tutorials.Modulizer', 'ShareYourSystem.Specials.Simulaters.Simulater', 'ShareYourSystem.Specials.Simulaters.Runner', 'ShareYourSystem.Specials.Simulaters.Moniter', 'ShareYourSystem.Specials.Simulaters.Populater', 'ShareYourSystem.Specials.Simulaters.Dynamizer', 'ShareYourSystem.Specials.Simulaters.Lifer', 'ShareYourSystem.Specials.Simulaters.Rater', 'ShareYourSystem.Specials.Simulaters.Brianer', 'ShareYourSystem.Specials.Simulaters.Pydelayer', 'ShareYourSystem.Muzikers.Muziker', 'ShareYourSystem.Muzikers.Vexflower', 'ShareYourSystem.Muzikers.Permuter', 'ShareYourSystem.Muzikers.Differenciater', 'ShareYourSystem.Muzikers.Pooler', 'ShareYourSystem.Muzikers.Harmonizer', 'ShareYourSystem.Standards.Objects', 'ShareYourSystem.Standards.Classors', 'ShareYourSystem.Functers', 'ShareYourSystem.Standards.Interfacers', 'ShareYourSystem.Guiders', 'ShareYourSystem.Standards.Itemizers', 'ShareYourSystem.Applyiers', 'ShareYourSystem.Standards.Walkers', 'ShareYourSystem.Standards.Noders', 'ShareYourSystem.Storers', 'ShareYourSystem.Standards.Modelers', 'ShareYourSystem.Ploters', 'ShareYourSystem.Tutorials', 'ShareYourSystem.Specials.Simulaters', \"ShareYourSystem.Muzikers'\", \"ShareYourSystem':[\"]\n", 
                "   /}\n", 
                "\n", 
                "*****End of the Attest *****\n", 
                "\n", 
                "\n"
              ]
            }
          ], 
          "collapsed": false, 
          "metadata": {
            "slideshow": {
              "slide_type": "-"
            }
          }
        }, 
        {
          "source": "\n<!--\nFrozenIsBool False\n-->\n\n#Documenter\n\n##Doc\n----\n\n\n> \n> The Documenter\n> \n> \n\n----\n\n<small>\nView the Documenter notebook on [NbViewer](http://nbviewer.ipython.org/url/shareyoursystem.ouvaton.org/Documenter.ipynb)\n</small>\n\n", 
          "cell_type": "markdown", 
          "prompt_number": 24, 
          "metadata": {
            "slideshow": {
              "slide_type": "slide"
            }
          }
        }, 
        {
          "source": "\n<!--\nFrozenIsBool False\n-->\n\n##Code\n\n----\n\n<ClassDocStr>\n\n----\n\n```python\n# -*- coding: utf-8 -*-\n\"\"\"\n\n\n<DefineSource>\n@Date : Fri Nov 14 13:20:38 2014 \\n\n@Author : Erwan Ledoux \\n\\n\n</DefineSource>\n\n\nThe Documenter\n\n\"\"\"\n\n#<DefineAugmentation>\nimport ShareYourSystem as SYS\nBaseModuleStr=\"ShareYourSystem.Guiders.Documenter\"\nDecorationModuleStr=\"ShareYourSystem.Standards.Classors.Classer\"\nSYS.setSubModule(globals())\n#</DefineAugmentation>\n\n#<ImportSpecificModules>\nimport collections\nimport os\nimport copy\nimport sys\nfrom ShareYourSystem.Standards.Classors import Doer\nfrom ShareYourSystem.Guiders import Celler\nReadmer=BaseModule\n#</ImportSpecificModules>\n\n#<DefineLocals>\nDocumentingOntologyLocalFolderPathStr=SYS.ShareYourSystemLocalFolderPathStr+'Ouvaton/'\nDocumentingNbviewerLocalFolderPathStr=SYS.ShareYourSystemLocalFolderPathStr+'Ouvaton/'\nDocumentingDocumentLocalFolderPathStr=SYS.ShareYourSystemLocalFolderPathStr+'docs/LibraryReference/'\nDocumentingOntologyOuvatonFolderPathStr='/httpdocs/slides/'\nDocumentingNbviewerOuvatonFolderPathStr='/httpdocs/ipython/'\n#</DefineLocals>\n\n#<DefineFunctions>\ndef getDocumentedReadmeInstanceVariableWithFolderPathStr(\n\t\t_InstanceVariable,_FolderPathStr\n\t):\n\n\t#file first\n\treturn _InstanceVariable.notebook(\n\t\t\t**{\n\t\t\t\t'FolderingPathStr':_FolderPathStr,\n\t\t\t\t'GuidingBookStr':\"Doc\",\n\t\t\t\t'NotebookingFileKeyStr':\"Presentation.ipynb\"\n\t\t\t}\n\t).nbconvert(\"Readme.md\")\n#</DefineFunctions>\n\n\n#<DefineClass>\n@DecorationClass()\nclass DocumenterClass(BaseClass):\n\t\n\t#Definition\n\tRepresentingKeyStrsList=[\n\t\t\t\t\t\t\t\t'DocumentingConceptFolderPathStr',\n\t\t\t\t\t\t\t\t'DocumentingSubReadmeIsBool',\n\t\t\t\t\t\t\t\t'DocumentingConceptReadmeIsBool',\n\t\t\t\t\t\t\t\t'DocumentingConceptDocumentIsBool',\n\t\t\t\t\t\t\t\t'DocumentingConceptSlideIsBool',\n\t\t\t\t\t\t\t\t'DocumentingSiteDocumentIsBool',\n\t\t\t\t\t\t\t\t'DocumentedConceptModule',\n\t\t\t\t\t\t\t\t'DocumentedConceptModuleStr',\n\t\t\t\t\t\t\t\t'DocumentedConceptModuleFolderPathStr',\n\t\t\t\t\t\t\t\t'DocumentedSubNameStrsList',\n\t\t\t\t\t\t\t\t'DocumentedSubModulesList',\n\t\t\t\t\t\t\t\t'DocumentedSubModuleStrsList',\n\t\t\t\t\t\t\t\t'DocumentedSubModuleLocalFolderPathStrsList',\n\t\t\t\t\t\t\t\t#'DocumentedPresentationsDictsList',\n\t\t\t\t\t\t\t\t#'DocumentedConceptNotebookDict'\n\t\t\t\t\t\t\t]\n\n\tdef default_init(self,\n\t\t\t\t\t\t_DocumentingConceptFolderPathStr=\"\",\n\t\t\t\t\t\t_DocumentingSubReadmeIsBool=True,\n\t\t\t\t\t\t_DocumentingConceptReadmeIsBool=True,\n\t\t\t\t\t\t_DocumentingConceptDocumentIsBool=True,\n\t\t\t\t\t\t_DocumentingConceptSlideIsBool=True,\n\t\t\t\t\t\t_DocumentingSiteDocumentIsBool=True,\n\t\t\t\t\t\t_DocumentedConceptModule=None,\n\t\t\t\t\t\t_DocumentedConceptModuleStr=\"\",\n\t\t\t\t\t\t_DocumentedConceptModuleFolderPathStr=\"\",\n\t\t\t\t\t\t_DocumentedSubNameStrsList=None,\n\t\t\t\t\t\t_DocumentedSubModulesList=None,\n\t\t\t\t\t\t_DocumentedSubModuleStrsList=None,\n\t\t\t\t\t\t_DocumentedSubModuleLocalFolderPathStrsList=None,\n\t\t\t\t\t\t_DocumentedPresentationsDictsList=None,\n\t\t\t\t\t\t_DocumentedConceptNotebookDict=None,\n\t\t\t\t\t\t**_KwargVariablesDict\n\t\t\t\t\t):\n\n\t\t#Call the parent __init__ method\n\t\tBaseClass.__init__(self,**_KwargVariablesDict)\n\n\tdef do_inform(self):\n\t\t\n\t\t#debug\n\t\t'''\n\t\tself.debug(('self.',self,['DocumentingSubReadmeIsBool','DocumentingConceptDocumentIsBool']))\n\t\t'''\n\n\t\t#install first\n\t\tself.install()\n\n\t\t#Check\n\t\tif self.DocumentingConceptFolderPathStr==\"\":\n\t\t\tself.DocumentingConceptFolderPathStr='ShareYourSystem'.join(\n\t\t\t\tos.getcwd().split('ShareYourSystem')[:-1]\n\t\t\t)+'ShareYourSystem/'\n\n\t\t#debug\n\t\t'''\n\t\tself.debug(('self.',self,['DocumentingConceptFolderPathStr']))\n\t\t'''\n\n\t\t#debug\n\t\tself.folder(self.DocumentingConceptFolderPathStr)\n\t\tself.DocumentedConceptModuleStr=self.FolderedModuleStr\n\n\t\t#debug\n\t\t'''\n\t\tself.debug(('self.',self,[\n\t\t\t\t\t\t\t\t\t'FolderedModuleStr',\n\t\t\t\t\t\t\t\t\t'FolderedDirKeyStrsList'\n\t\t\t\t\t\t\t\t]))\n\t\t'''\n\n\t\t#filter\n\t\tself.DocumentedSubNameStrsList=SYS._filter(\n\t\t\tlambda __FolderedDirKeyStr:\n\t\t\tos.path.isdir(\n\t\t\t\tself.FolderingPathStr+__FolderedDirKeyStr\n\t\t\t) and __FolderedDirKeyStr in Doer.DoerStrToDoStrOrderedDict.keys(),\n\t\t\tself.FolderedDirKeyStrsList\n\t\t)\t\n\n\t\t#debug\n\t\t'''\n\t\tself.debug(('self.',self,['DocumentedSubNameStrsList','InstalledNameStrsList']))\n\t\t'''\n\t\t\n\t\t#sort\n\t\tself.DocumentedSubNameStrsList=SYS._filter(\n\t\t\t\tlambda __InstalledNameStr:\n\t\t\t\t__InstalledNameStr in self.DocumentedSubNameStrsList,\n\t\t\t\tself.InstalledNameStrsList\n\t\t\t)\n\t\t#map\n\t\tself.DocumentedSubModuleStrsList=map(\n\t\t\tlambda __DocumentedSubNameStr:\n\t\t\tself.DocumentedConceptModuleStr+'.'+__DocumentedSubNameStr,\n\t\t\tself.DocumentedSubNameStrsList\n\t\t)\t\n\n\t\t#Check\n\t\tself.DocumentedConceptNameStr=self.FolderingPathStr.split(\n\t\t\t\t\t'/'\n\t\t\t)[-1] if self.FolderingPathStr[-1]!='/' else self.FolderingPathStr.split('/'\n\t\t\t)[-2]\n\n\t\t#debug\n\t\t'''\n\t\tself.debug(('self.',self,[\n\t\t\t\t\t\t\t\t\t'DocumentedSubNameStrsList',\n\t\t\t\t\t\t\t\t\t'DocumentedSubModuleStrsList',\n\t\t\t\t\t\t\t\t\t'DocumentedConceptNameStr'\n\t\t\t\t\t\t\t\t]))\n\t\t'''\n\n\t\t#check\n\t\tif self.DocumentedConceptNameStr in SYS.PluralStrToSingularStrOrderedDict.keys():\n\t\t\t\n\t\t\t#package\n\t\t\tself.DocumentedConceptModule=self.package(\n\t\t\t\tself.FolderedModuleStr\n\t\t\t).PackagedModuleVariable\n\n\t\t#join\n\t\tself.DocumentedConceptModuleFolderPathStr='/'.join(\n\t\t\tself.DocumentedConceptModule.__file__.split(\n\t\t\t'/'\n\t\t\t)[:-1]\n\t\t)+'/'\n\n\t\t#debug\n\t\t'''\n\t\tself.debug(('self.',self,['DocumentedConceptModule']))\n\t\t'''\n\n\t\t#filter\n\t\tself.DocumentedSubModulesList=SYS._filter(\n\t\t\t\tlambda __AttributeValueVariable:\n\t\t\t\ttype(__AttributeValueVariable).__name__=='module',\n\t\t\t\tself.DocumentedConceptModule.__dict__.values()\n\t\t\t)\n\n\t\t#debug\n\t\t'''\n\t\tself.debug((\n\t\t\t\t\t'self.',self,[\n\t\t\t\t\t\t\t'DocumentedSubModulesList'\n\t\t\t\t\t\t]\n\t\t\t\t\t))\n\t\t'''\n\n\t\t#Check\n\t\tif self.DocumentingSubReadmeIsBool:\n\n\t\t\t#debug\n\t\t\t'''\n\t\t\tself.debug(\n\t\t\t\t\t\t[\n\t\t\t\t\t\t\t'we build sub modules readmes here',\n\t\t\t\t\t\t\t('self.',self,['DocumentedSubModuleStrsList'])\n\t\t\t\t\t\t]\n\t\t\t\t\t)\n\t\t\t'''\n\n\t\t\t#map\n\t\t\tmap(\n\t\t\t\t\tlambda __DocumentedSubModuleStr:\n\t\t\t\t\tself.package(\n\t\t\t\t\t\t\t__DocumentedSubModuleStr\n\t\t\t\t\t\t).scriptbook(\n\t\t\t\t\t\t_GuideTuplesList=[\n\t\t\t\t\t\t\t\t('001','Document','Markdown'),\n\t\t\t\t\t\t\t],\n\t\t\t\t\t\t\t**{\n\t\t\t\t\t\t\t\t'GuidingBookStr':\"Doc\",\n\t\t\t\t\t\t\t}\n\t\t\t\t\t\t).notebook(\n\t\t\t\t\t\t\t\"PreReadme.ipynb\"\n\t\t\t\t\t\t).nbconvert(\n\t\t\t\t\t\t\t\"Readme.md\"\n\t\t\t\t\t\t),\n\t\t\t\t\tself.DocumentedSubModuleStrsList\n\t\t\t\t)\n\t\t\t\n\t\t#Check\n\t\tif self.DocumentingConceptSlideIsBool:\n\t\t\t\n\t\t\t#debug\n\t\t\t'''\n\t\t\tself.debug(\n\t\t\t\t\t\t[\n\t\t\t\t\t\t\t'we slide here',\n\t\t\t\t\t\t\t('self.',self,['DocumentedSubModuleStrsList'])\n\t\t\t\t\t\t]\n\t\t\t\t\t\t)\n\t\t\t'''\n\n\t\t\t#map\n\t\t\tmap(\n\t\t\t\t\tlambda __DocumentedSubModuleStr:\n\t\t\t\t\tself.package(\n\t\t\t\t\t\t\t__DocumentedSubModuleStr\n\t\t\t\t\t\t).scriptbook(\n\t\t\t\t\t\t_GuideTuplesList=[\n\t\t\t\t\t\t\t\t('001','Document','Markdown'),\n\t\t\t\t\t\t\t\t('002','Github','Markdown'),\n\t\t\t\t\t\t\t],\n\t\t\t\t\t\t\t**{\n\t\t\t\t\t\t\t\t'GuidingBookStr':\"Doc\",\n\t\t\t\t\t\t\t}\n\t\t\t\t\t\t).notebook(\n\t\t\t\t\t\t\t\"Presentation.ipynb\",\n\t\t\t\t\t\t\t**{'WritingLoadBool':False}\n\t\t\t\t\t\t).nbconvert(\n\t\t\t\t\t\t\t\"Presentation.html\",\n\t\t\t\t\t\t\t'Slide'\n\t\t\t\t\t\t),\n\t\t\t\t\tself.DocumentedSubModuleStrsList\n\t\t\t\t)\n\t\t\t\n\t\t\t#mv for Nbviewer ipython notebooks\n\t\t\tmap(\n\t\t\t\t\tlambda __DocumentedSubModuleStr:\n\t\t\t\t\tos.popen(\n\t\t\t\t\t\t'cp '+sys.modules[\n\t\t\t\t\t\t\t__DocumentedSubModuleStr\n\t\t\t\t\t\t].LocalFolderPathStr+'Presentation.ipynb '+DocumentingNbviewerLocalFolderPathStr+__DocumentedSubModuleStr.split(\n\t\t\t\t\t\t\t\t'.'\n\t\t\t\t\t\t\t)[-1]+'.ipynb'\n\t\t\t\t\t),\n\t\t\t\t\tself.DocumentedSubModuleStrsList\n\t\t\t\t)\n\n\t\t\t#mv for Ouvaton slide in html\n\t\t\tmap(\n\t\t\t\t\tlambda __DocumentedSubModuleStr:\n\t\t\t\t\tos.popen(\n\t\t\t\t\t\t'cp '+sys.modules[\n\t\t\t\t\t\t\t__DocumentedSubModuleStr\n\t\t\t\t\t\t].LocalFolderPathStr+'Presentation.html '+DocumentingOntologyLocalFolderPathStr+__DocumentedSubModuleStr.split(\n\t\t\t\t\t\t\t\t'.'\n\t\t\t\t\t\t\t)[-1]+'.html'\n\t\t\t\t\t),\n\t\t\t\t\tself.DocumentedSubModuleStrsList\n\t\t\t\t)\n\n\t\t\t#mv for Ouvaton slide in php\n\t\t\tmap(\n\t\t\t\t\tlambda __DocumentedSubModuleStr:\n\t\t\t\t\tos.popen(\n\t\t\t\t\t\t'cp '+sys.modules[\n\t\t\t\t\t\t\t__DocumentedSubModuleStr\n\t\t\t\t\t\t].LocalFolderPathStr+'Presentation.html '+DocumentingOntologyLocalFolderPathStr+__DocumentedSubModuleStr.split(\n\t\t\t\t\t\t\t\t'.'\n\t\t\t\t\t\t\t)[-1]+'.php'\n\t\t\t\t\t),\n\t\t\t\t\tself.DocumentedSubModuleStrsList\n\t\t\t\t)\n\n\t\t\t#map\n\t\t\tself.DocumentedSubModuleLocalFolderPathStrsList=map(\n\t\t\t\t\tlambda __DocumentedSubModuleStr:\n\t\t\t\t\tSYS.PythonlogyLocalFolderPathStr+__DocumentedSubModuleStr.replace(\n\t\t\t\t\t\t'.','/'\n\t\t\t\t\t),\n\t\t\t\t\tself.DocumentedSubModuleStrsList\n\t\t\t\t)\n\n\t\t\t#map\n\t\t\tself.DocumentedPresentationsDictsList=map(\n\t\t\t\t\tlambda __DocumentedSubModuleFolderPathStr:\n\t\t\t\t\tself.load(\n\t\t\t\t\t\t**{\n\t\t\t\t\t\t\t'FolderingPathStr':__DocumentedSubModuleFolderPathStr,\n\t\t\t\t\t\t\t'FilingKeyStr':'Presentation.ipynb',\n\t\t\t\t\t\t\t'LoadingFormatStr':'json'\n\t\t\t\t\t\t}\n\t\t\t\t\t).close(\n\t\t\t\t\t).LoadedReadVariable,\n\t\t\t\t\tself.DocumentedSubModuleLocalFolderPathStrsList\n\t\t\t\t)\t\t\t\t\t\n\n\t\t\t#debug\n\t\t\t'''\n\t\t\tself.debug(\n\t\t\t\t\t\t'self.DocumentedPresentationsDictsList is '+SYS._str(self.DocumentedPresentationsDictsList)\n\t\t\t\t\t)\n\t\t\t'''\n\n\t\t\t#copy\n\t\t\tself.DocumentedConceptNotebookDict=copy.copy(Celler.CellingInitDict)\n\n\t\t\t#flat\n\t\t\tDocumentedFlatPresentationsDictsList=SYS.flat(\n\t\t\t\t\tmap(\n\t\t\t\t\t\t\tlambda __DocumentedPresentationsDict:\n\t\t\t\t\t\t\tcopy.deepcopy(\n\t\t\t\t\t\t\t\t__DocumentedPresentationsDict['worksheets'][0]['cells']\n\t\t\t\t\t\t\t\t),\n\t\t\t\t\t\t\tself.DocumentedPresentationsDictsList\n\t\t\t\t\t\t)\n\t\t\t\t\t)\n\n\t\t\t#Flat all the presentations\n\t\t\tself.DocumentedConceptNotebookDict['worksheets']=[\n\t\t\t\t{\n\t\t\t\t\t'cells':map(\n\t\t\t\t\t\tlambda __DocumentedFlatPresentationsDict,__IndexInt:\n\t\t\t\t\t\tdict(__DocumentedFlatPresentationsDict,**{\n\t\t\t\t\t\t\t'prompt_number':__IndexInt}),\n\t\t\t\t\t\tDocumentedFlatPresentationsDictsList,\n\t\t\t\t\t\txrange(len(DocumentedFlatPresentationsDictsList))\n\t\t\t\t\t)\n\t\t\t\t}\n\t\t\t]\n\n\t\t\t#debug\n\t\t\t'''\n\t\t\tself.debug(('self.',self,['DocumentedConceptNotebookDict']))\n\t\t\t'''\n\n\t\t\t#Write\n\t\t\tself.write(\n\t\t\t\tself.DocumentedConceptNotebookDict,\n\t\t\t\t**{\n\t\t\t\t\t'FolderingPathStr':self.DocumentingConceptFolderPathStr,\n\t\t\t\t\t'FilingKeyStr':'Concept'+self.GuidingBookStr+'.ipynb',\n\t\t\t\t\t'LoadingFormatStr':'json'\n\t\t\t\t}\n\t\t\t).close()\n\n\n\t\t\t#nbconvert\n\t\t\tself.NotebookedCodeDict=self.DocumentedConceptNotebookDict\n\t\t\tself.nbconvert(\n\t\t\t\t_FormatStr='Slide',\n\t\t\t\t**{\n\t\t\t\t\t'FolderingPathStr':self.DocumentingConceptFolderPathStr,\n\t\t\t\t\t'NotebookingFileKeyStr':'Concept'+self.GuidingBookStr+'.ipynb'\n\t\t\t\t}\n\t\t\t)\n\n\t\t\t#set\n\t\t\tself.DocumentedSlideLocalFilePathStr=DocumentingOntologyLocalFolderPathStr+self.DocumentedConceptModule.__name__.split('.')[-1]+'.html'\n\n\t\t\t#cp\n\t\t\tos.popen('cp '+self.FiledPathStr+' '+self.DocumentedSlideLocalFilePathStr+self.DocumentedConceptModule.__name__.split('.')[-1]+'.ipynb')\n\n\t\t\t#mv with .html extension\n\t\t\tos.popen(\n\t\t\t\t\t'cp '+self.FiledPathStr.replace(\n\t\t\t\t\t'.ipynb',\n\t\t\t\t\t'.html'\n\t\t\t\t\t)+' '+self.DocumentedSlideLocalFilePathStr\n\t\t\t\t)\n\n\t\t\t#mv with .php extension\n\t\t\tos.popen(\n\t\t\t\t\t'mv '+self.FiledPathStr.replace(\n\t\t\t\t\t'.ipynb',\n\t\t\t\t\t'.html'\n\t\t\t\t\t)+' '+self.DocumentedSlideLocalFilePathStr.replace('.html','.php')\n\t\t\t\t)\n\n\t\t\t#deploy\n\t\t\ttry:\n\t\t\t\tself.deploy(\n\t\t\t\t\t_ClientFilePathStrToServerFilePathStrOrderedDict=collections.OrderedDict(\n\t\t\t\t\t\t[\n\t\t\t\t\t\t\t(\n\t\t\t\t\t\t\t\tself.DocumentedSlideLocalFilePathStr,\n\t\t\t\t\t\t\t\tDocumentingOntologyOuvatonFolderPathStr+self.DocumentedConceptModule.__name__.split('.'\n\t\t\t\t\t\t\t\t\t)[-1]+'.php'\n\t\t\t\t\t\t\t)\n\t\t\t\t\t\t]\n\t\t\t\t\t)\n\t\t\t\t)\n\t\t\texcept:\n\t\t\t\tprint('There is NO Internet !')\n\t\t\t\t\n\t\t#Check\n\t\tif self.DocumentingConceptReadmeIsBool:\n\n\t\t\t#debug\n\t\t\t'''\n\t\t\tself.debug('we build the concept readme here')\n\t\t\t'''\n\n\t\t\t#import submodules\n\t\t\t'''\n\t\t\tmap(\n\t\t\t\t\tlambda __DocumentedSubModuleStr:\n\t\t\t\t\timportlib.import_modules(__DocumentedSubModuleStr),\n\t\t\t\t\tself.DocumentedSubModuleStrsList\n\t\t\t\t)\n\t\t\t'''\n\n\t\t\t#readme\n\t\t\tself.package(\n\t\t\t\t\tself.DocumentedConceptModuleStr\n\t\t\t\t).scriptbook(\n\t\t\t\t\t_GuideTuplesList=[\n\t\t\t\t\t\t('001','Document','Markdown'),\n\t\t\t\t\t\t('002','Ouvaton','Markdown'),\n\t\t\t\t\t\t('1','Github','Markdown'),\n\t\t\t\t\t],\n\t\t\t\t\t**{'GuidingBookStr':\"Doc\"}\n\t\t\t\t)\n\n\t\t\t#notebook\n\t\t\tself.scriptbook(\n\t\t\t\t\t_GuideTuplesList=[]\n\t\t\t\t).notebook(\n\t\t\t\t\t\"PreReadme.ipynb\"\n\t\t\t\t).nbconvert(\n\t\t\t\t\t\"Readme.md\",\n\t\t\t\t\t'Markdown',\n\t\t\t)\n\n\t\t#Check\n\t\tif self.DocumentingConceptDocumentIsBool:\n\n\t\t\t#debug\n\t\t\t'''\n\t\t\tself.debug(\n\t\t\t\t\t\t[\n\t\t\t\t\t\t\t'we document here',\n\t\t\t\t\t\t\t('self.',self,['DocumentedConceptModuleFolderPathStr'])\n\t\t\t\t\t\t]\n\t\t\t\t\t)\n\t\t\t'''\n\n\t\t\t'''\n\t\t\t#document\n\t\t\tself.document(\n\t\t\t\t**{'PackagingModuleVariable':self.DocumentedConceptModuleStr}\n\t\t\t)\t\n\t\t\t'''\n\n\t\t\t#package\n\t\t\tself.package(self.DocumentedConceptModuleStr)\n\n\t\t\t#mv with .php extension\n\t\t\tos.popen(\n\t\t\t\t\t'cp '+self.PackagedLocalFolderPathStr+'Readme.md  '+DocumentingDocumentLocalFolderPathStr+self.DocumentedConceptModuleStr.split('.')[-1]+'.md'\n\t\t\t\t)\n\n\t\t\t#Return self\n\t\t\t#return self\n\n\t\tif self.DocumentingSiteDocumentIsBool:\n\n\t\t\t#open\n\t\t\tos.popen(\n\t\t\t\t\t\t'mkdocs build --clean'\n\t\t\t\t)\n\n\t\t\t#deploy\n\t\t\ttry:\n\t\t\t\tself.deploy(\n\t\t\t\t\t_ClientFilePathStrToServerFilePathStrOrderedDict=collections.OrderedDict(\n\t\t\t\t\t\t[\n\t\t\t\t\t\t\t(\n\t\t\t\t\t\t\t\tself.DocumentedSlideLocalFilePathStr,\n\t\t\t\t\t\t\t\tDocumentingOntologyOuvatonFolderPathStr+self.DocumentedConceptModule.__name__.split('.'\n\t\t\t\t\t\t\t\t\t)[-1]+'.php'\n\t\t\t\t\t\t\t)\n\t\t\t\t\t\t]\n\t\t\t\t\t)\n\t\t\t\t)\n\t\t\texcept:\n\t\t\t\tprint('There is NO Internet !')\n\n#</DefineClass>\n\n```\n\n<small>\nView the Documenter sources on <a href=\"https://github.com/Ledoux/ShareYourSystem/tree/master/Pythonlogy/ShareYourSystem/Guiders/Documenter\" target=\"_blank\">Github</a>\n</small>\n\n", 
          "cell_type": "markdown", 
          "prompt_number": 25, 
          "metadata": {
            "slideshow": {
              "slide_type": "subslide"
            }
          }
        }, 
        {
          "source": "\n<!---\nFrozenIsBool True\n-->\n\n##Example\n\nLet's create an empty class, which will automatically receive\nspecial attributes from the decorating ClassorClass,\nspecially the NameStr, that should be the ClassStr\nwithout the TypeStr in the end.", 
          "cell_type": "markdown", 
          "prompt_number": 26, 
          "metadata": {
            "slideshow": {
              "slide_type": "subslide"
            }
          }
        }, 
        {
          "cell_type": "code", 
          "prompt_number": 27, 
          "language": "python", 
          "input": [
            "#ImportModules\n", 
            "import ShareYourSystem as SYS\n", 
            "from ShareYourSystem.Guiders import Documenter\n", 
            "\n", 
            "#Definition an Documenter instance\n", 
            "MyDocumenter=Documenter.DocumenterClass()\n", 
            "\n", 
            "#Definition the AttestedStr\n", 
            "SYS._attest(\n", 
            "    [\n", 
            "        'MyDocumenter is '+SYS._str(\n", 
            "        MyDocumenter,\n", 
            "        **{\n", 
            "            'RepresentingBaseKeyStrsListBool':False,\n", 
            "            'RepresentingAlineaIsBool':False\n", 
            "        }\n", 
            "        )\n", 
            "    ]\n", 
            ") \n", 
            "\n", 
            "\n"
          ], 
          "outputs": [
            {
              "output_type": "stream", 
              "stream": "stdout", 
              "text": [
                "\n", 
                "\n", 
                "*****Start of the Attest *****\n", 
                "\n", 
                "MyDocumenter is < (DocumenterClass), 4540557008>\n", 
                "   /{ \n", 
                "   /  '<New><Instance>IdInt' : 4540557008\n", 
                "   /  '<Spe><Class>DocumentedConceptModule' : None\n", 
                "   /  '<Spe><Class>DocumentedConceptModuleFolderPathStr' : \n", 
                "   /  '<Spe><Class>DocumentedConceptModuleStr' : \n", 
                "   /  '<Spe><Class>DocumentedSubModuleLocalFolderPathStrsList' : None\n", 
                "   /  '<Spe><Class>DocumentedSubModuleStrsList' : None\n", 
                "   /  '<Spe><Class>DocumentedSubModulesList' : None\n", 
                "   /  '<Spe><Class>DocumentedSubNameStrsList' : None\n", 
                "   /  '<Spe><Class>DocumentingConceptDocumentIsBool' : True\n", 
                "   /  '<Spe><Class>DocumentingConceptFolderPathStr' : \n", 
                "   /  '<Spe><Class>DocumentingConceptReadmeIsBool' : True\n", 
                "   /  '<Spe><Class>DocumentingConceptSlideIsBool' : True\n", 
                "   /  '<Spe><Class>DocumentingSiteDocumentIsBool' : True\n", 
                "   /  '<Spe><Class>DocumentingSubReadmeIsBool' : True\n", 
                "   /}\n", 
                "\n", 
                "*****End of the Attest *****\n", 
                "\n", 
                "\n"
              ]
            }
          ], 
          "collapsed": false, 
          "metadata": {
            "slideshow": {
              "slide_type": "-"
            }
          }
        }, 
        {
          "source": "\n<!--\nFrozenIsBool False\n-->\n\n#Documenter\n\n##Doc\n----\n\n\n> \n> The Documenter export in the mkdoc the readme of a Module \n> \n> \n\n----\n\n<small>\nView the Documenter notebook on [NbViewer](http://nbviewer.ipython.org/url/shareyoursystem.ouvaton.org/Documenter.ipynb)\n</small>\n\n", 
          "cell_type": "markdown", 
          "prompt_number": 28, 
          "metadata": {
            "slideshow": {
              "slide_type": "slide"
            }
          }
        }, 
        {
          "source": "\n<!--\nFrozenIsBool False\n-->\n\n##Code\n\n----\n\n<ClassDocStr>\n\n----\n\n```python\n# -*- coding: utf-8 -*-\n\"\"\"\n\n\n<DefineSource>\n@Date : Fri Nov 14 13:20:38 2014 \\n\n@Author : Erwan Ledoux \\n\\n\n</DefineSource>\n\n\nThe Documenter export in the mkdoc the readme of a Module \n\n\"\"\"\n\n#<DefineAugmentation>\nimport ShareYourSystem as SYS\nBaseModuleStr=\"ShareYourSystem.Guiders.Installer\"\nDecorationModuleStr=\"ShareYourSystem.Standards.Classors.Classer\"\nSYS.setSubModule(globals())\n#</DefineAugmentation>\n\n#<ImportSpecificModules>\nimport os\nimport copy\n\nfrom ShareYourSystem.Standards.Interfacers import Loader,Writer\n#</ImportSpecificModules>\n\n#<DefineLocals>\nDocumentingSysFolderPathStr=SYS.ShareYourSystemLocalFolderPathStr\nDocumentingLibraryFolderPathStr=DocumentingSysFolderPathStr+'/docs/LibraryReference/'\n#</DefineLocals>\n\n#<DefineClass>\n@DecorationClass()\nclass DocumenterClass(BaseClass):\n\t\n\t#Definition\n\tRepresentingKeyStrsList=[\n\t\t\t\t\t\t\t\t'DocumentedModulePathStr',\n\t\t\t\t\t\t\t\t'DocumentedMkdocsList',\n\t\t\t\t\t\t\t\t'DocumentedModulePathStr'\n\t\t\t\t\t\t\t]\n\n\tdef default_init(self,\n\t\t\t\t\t\t_DocumentingNewIsBool=False,\n\t\t\t\t\t\t_DocumentingMkdocWriteIsBool=False,\n\t\t\t\t\t\t_DocumentedMkdocsList=None,\n\t\t\t\t\t\t_DocumentedMkdocsDict=None,\n\t\t\t\t\t\t**_KwargVariablesDict\n\t\t\t\t\t):\n\n\t\t#Call the parent __init__ method\n\t\tBaseClass.__init__(self,**_KwargVariablesDict)\n\n\t\t\n\tdef do_document(self):\n\t\t\t\t\n\t\t#first package\n\t\tself.package()\n\n\t\t#map\n\t\tself.DocumentedModulePathStr=self.PackagedModuleStr.replace('.','/')\n\t\tself.DocumentedNameStr=self.DocumentedModulePathStr.split('/')[-1]\n\n\t\t#debug\n\t\t'''\n\t\tself.debug(('self.',self,[\n\t\t\t\t\t\t\t'DocumentedModulePathStr',\n\t\t\t\t\t\t\t'DocumentedNameStr'\n\t\t\t\t\t\t\t]))\n\t\t'''\n\n\t\t#Load the readmes and write them into the docs Library reference folder\n\t\tself.load(\n\t\t\t**{\n\t\t\t\t'FolderingPathStr':SYS.PythonlogyLocalFolderPathStr+'/'+self.DocumentedModulePathStr,\n\t\t\t\t'FilingKeyStr':'Readme.md',\n\t\t\t\t'LoadingFormatStr':'txt'\n\t\t\t}\n\t\t).write(\n\t\t\t**{\n\t\t\t\t\t'FolderingPathStr':DocumentingLibraryFolderPathStr,\n\t\t\t\t\t'FilingKeyStr':self.DocumentedNameStr+'.md',\n\t\t\t\t\t'WritingLoadBool':True\n\t\t\t\t}\n\t\t) \n\n\t\t#Definition in the future yaml config mkdocs \n\t\tself.DocumentedMkdocsList=[\n\t\t\t\t'docs'.join(\n\t\t\t\t\tDocumentingLibraryFolderPathStr.split('docs/')[1:]\n\t\t\t\t)+self.DocumentedNameStr+'.md',\n\t\t\t\t'Library Reference',\n\t\t\t\tself.DocumentedNameStr\n\t\t\t]\n\n\t\t#debug\n\t\t'''\n\t\tself.debug(('self.',self,[\n\t\t\t\t\t\t\t\t\t'DocumentedMkdocsList'\n\t\t\t\t\t\t\t\t]))\n\t\t'''\n\n\n\t\t#Definition\n\t\tself.load(\n\t\t\t**{\n\t\t\t\t'FolderingPathStr':SYS.PythonlogyLocalFolderPathStr+self.__class__.__module__.replace(\n\t\t\t\t\t'.','/')\n\t\t\t\tif self.DocumentingNewIsBool\n\t\t\t\telse DocumentingSysFolderPathStr,\n\t\t\t\t'FilingKeyStr':'mkdocs.yml',\n\t\t\t\t'LoadingFormatStr':'yaml'\n\t\t\t}\n\t\t)\n\n\t\t#Add to the pages\n\t\tself.LoadedReadVariable['pages'].append(self.DocumentedMkdocsList)\n\n\t\t#Copy\n\t\tself.DocumentedMkdocsDict=copy.copy(\n\t\t\tself.LoadedReadVariable\n\t\t)\n\n\t\t#debug\n\t\t'''\n\t\tself.debug(('self.',self,[\n\t\t\t\t\t\t\t\t\t'DocumentedMkdocsDict'\n\t\t\t\t\t\t\t\t]))\n\t\t'''\n\n\t\tif self.DocumentingMkdocWriteIsBool:\n\n\t\t\t#Close and write now in the top root folder\n\t\t\tself.write(\n\t\t\t\tself.DocumentedMkdocsDict,\n\t\t\t\t**{\n\t\t\t\t\t'FolderingPathStr':DocumentingSysFolderPathStr,\n\t\t\t\t}\n\t\t\t).FiledFileVariable.close()\n\n\t\t#Return self\n\t\t#return self\n\n#</DefineClass>\n\n```\n\n<small>\nView the Documenter sources on <a href=\"https://github.com/Ledoux/ShareYourSystem/tree/master/Pythonlogy/ShareYourSystem/Guiders/Documenter\" target=\"_blank\">Github</a>\n</small>\n\n", 
          "cell_type": "markdown", 
          "prompt_number": 29, 
          "metadata": {
            "slideshow": {
              "slide_type": "subslide"
            }
          }
        }, 
        {
          "source": "\n<!---\nFrozenIsBool True\n-->\n\n##Example\n\nLet's create an empty class, which will automatically receive\nspecial attributes from the decorating ClassorClass,\nspecially the NameStr, that should be the ClassStr\nwithout the TypeStr in the end.", 
          "cell_type": "markdown", 
          "prompt_number": 30, 
          "metadata": {
            "slideshow": {
              "slide_type": "subslide"
            }
          }
        }, 
        {
          "cell_type": "code", 
          "prompt_number": 31, 
          "language": "python", 
          "input": [
            "\n", 
            "#ImportModules\n", 
            "import ShareYourSystem as SYS\n", 
            "from ShareYourSystem.Guiders import Documenter\n", 
            "\n", 
            "#Definition a Documenter instance\n", 
            "MyDocumenter=Documenter.DocumenterClass().document(\n", 
            "    True,\n", 
            "    **{\n", 
            "        'PackagingModuleVariable':'ShareYourSystem.Standards.Objects'\n", 
            "    }\n", 
            ")\n", 
            "    \n", 
            "#Definition the AttestedStr\n", 
            "SYS._attest(\n", 
            "    [\n", 
            "        'MyDocumenter is '+SYS._str(\n", 
            "        MyDocumenter,\n", 
            "        **{\n", 
            "            'RepresentingBaseKeyStrsListBool':False\n", 
            "            }\n", 
            "        )\n", 
            "    ]\n", 
            ")  \n", 
            "\n", 
            "#Print\n", 
            "\n", 
            "\n", 
            "\n", 
            "\n", 
            "\n", 
            "\n", 
            "\n"
          ], 
          "outputs": [
            {
              "output_type": "stream", 
              "stream": "stdout", 
              "text": [
                "\n", 
                "\n", 
                "*****Start of the Attest *****\n", 
                "\n", 
                "MyDocumenter is < (DocumenterClass), 4540815184>\n", 
                "   /{ \n", 
                "   /  '<New><Instance>DocumentedModulePathStr' : ShareYourSystem/Objects\n", 
                "   /  '<New><Instance>DocumentedNameStr' : Objects\n", 
                "   /  '<New><Instance>IdInt' : 4540815184\n", 
                "   /  '<Spe><Instance>DocumentedMkdocsList' : ['LibraryReference/Objects.md', 'Library Reference', 'Objects']\n", 
                "   /  '<Spe><Instance>DocumentedModulePathStr' : ShareYourSystem/Objects\n", 
                "   /}\n", 
                "\n", 
                "*****End of the Attest *****\n", 
                "\n", 
                "\n"
              ]
            }
          ], 
          "collapsed": false, 
          "metadata": {
            "slideshow": {
              "slide_type": "-"
            }
          }
        }
      ]
    }
  ], 
  "metadata": {
    "name": "", 
    "signature": ""
  }, 
  "nbformat_minor": 0
}