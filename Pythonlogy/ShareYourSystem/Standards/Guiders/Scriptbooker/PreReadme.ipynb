{
  "nbformat": 3, 
  "worksheets": [
    {
      "cells": [
        {
          "source": "\n<!--\nFrozenIsBool False\n-->\n\n#Scriptbooker\n\n##Doc\n----\n\n\n> \n> The Scriptbooker defines template of Mardown and Code Scriptbooks for readming a Module.\n> \n> \n\n----\n\n<small>\nView the Scriptbooker notebook on [NbViewer](http://nbviewer.ipython.org/url/shareyoursystem.ouvaton.org/Scriptbooker.ipynb)\n</small>\n\n", 
          "cell_type": "markdown", 
          "prompt_number": 0, 
          "metadata": {
            "slideshow": {
              "slide_type": "slide"
            }
          }
        }, 
        {
          "source": "\n<!--\nFrozenIsBool False\n-->\n\n##Code\n\n----\n\n<ClassDocStr>\n\n----\n\n```python\n# -*- coding: utf-8 -*-\n\"\"\"\n\n\n<DefineSource>\n@Date : Fri Nov 14 13:20:38 2014 \\n\n@Author : Erwan Ledoux \\n\\n\n</DefineSource>\n\n\nThe Scriptbooker defines template of Mardown and Code Scriptbooks for readming a Module.\n\n\"\"\"\n\n#<DefineAugmentation>\nimport ShareYourSystem as SYS\nBaseModuleStr=\"ShareYourSystem.Guiders.Guider\"\nDecorationModuleStr=\"ShareYourSystem.Standards.Classors.Classer\"\nSYS.setSubModule(globals())\n#</DefineAugmentation>\n\n#<ImportSpecificModules>\nimport os\nGuider=BaseModule\n#</ImportSpecificModules>\n\n#<DefineClass>\n@DecorationClass()\nclass ScriptbookerClass(BaseClass):\n\t\n\t#Definition\n\tRepresentingKeyStrsList=[\n\t\t\t\t\t\t\t\t'ScriptbookingGuideTuplesList',\n\t\t\t\t\t\t\t\t'ScriptbookedFileKeyStrsList',\n\t\t\t\t\t\t\t\t'ScriptbookedNewGuideTuplesList',\n\t\t\t\t\t\t\t\t'ScriptbookedOldGuideTuplesList'\n\t\t\t\t\t\t\t]\n\t\t\t\t\t\t\n\tdef default_init(self,\n\t\t\t\t\t\t_ScriptbookingGuideTuplesList=[\n\t\t\t\t\t\t\t('001','Document','Markdown'),\n\t\t\t\t\t\t\t('002','Github','Markdown'),\n\t\t\t\t\t\t\t#('003','Ouvaton','Markdown')\n\t\t\t\t\t\t],\n\t\t\t\t\t\t_ScriptbookedFileKeyStrsList=None,\n\t\t\t\t\t\t_ScriptbookedNewGuideTuplesList=None,\n\t\t\t\t\t\t_ScriptbookedOldGuideTuplesList=None,\n\t\t\t\t\t\t**_KwargVariablesDict\n\t\t\t\t\t):\n\n\t\t#Call the parent __init__ method\n\t\tBaseClass.__init__(self,**_KwargVariablesDict)\n\n\tdef do_scriptbook(self):\n\n\t\t#debug\n\t\t'''\n\t\tself.debug(('self.',self,['FolderedDirKeyStrsList']))\n\t\t'''\n\t\t\n\t\t#Definition\n\t\tself.ScriptbookedFileKeyStrsList=SYS._filter(\n\t\t\t\tlambda __DirKeyStr:\n\t\t\t\tany(\n\t\t\t\t\tmap(\n\t\t\t\t\t\tlambda __ExtensionStr:\n\t\t\t\t\t\t__DirKeyStr.endswith(\n\t\t\t\t\t\t\tself.GuidingBookStr+__ExtensionStr\n\t\t\t\t\t\t),\n\t\t\t\t\t\t['.py','.md','.tex']\n\t\t\t\t)),\n\t\t\t\tself.FolderedDirKeyStrsList\n\t\t)\n\n\t\t#Definition\n\t\tScriptbookedPageStrsList=map(\n\t\t\t\t\t\t\t\t\tlambda __ScriptbookerScriptbookFileKeyStr:\n\t\t\t\t\t\t\t\t\tGuider.GuidingSortStr.join(\n\t\t\t\t\t\t\t\t\t\t__ScriptbookerScriptbookFileKeyStr.split(\n\t\t\t\t\t\t\t\t\t\t\tGuider.GuidingSortStr)[1:]\n\t\t\t\t\t\t\t\t\t\t),\n\t\t\t\t\t\t\t\t\tself.ScriptbookedFileKeyStrsList\n\t\t\t\t\t\t\t\t)\n\n\t\t#set\n\t\tself.ScriptbookedSortDict=dict(\n\t\t\t\tzip(ScriptbookedPageStrsList,self.ScriptbookedFileKeyStrsList)\n\t\t\t)\n\n\t\t#debug\n\t\t'''\n\t\tself.debug(('self.',self,['ScriptbookedSortDict']))\n\t\t'''\n\t\t\n\t\t#Check\n\t\tif len(self.ScriptbookingGuideTuplesList)>0:\n\n\t\t\t#map\n\t\t\tScriptbookedGuideTuplesList=map(\n\t\t\t\t\tlambda __ScriptbookingGuideTuple:\n\t\t\t\t\tlist(__ScriptbookingGuideTuple)+[\n\t\t\t\t\t\t__ScriptbookingGuideTuple[1]+self.GuidingBookStr+dict(\n\t\t\t\t\t\tGuider.ScriptStrAndExtensionStrTuplesList\n\t\t\t\t\t\t)[\n\t\t\t\t\t\t\t__ScriptbookingGuideTuple[2]\n\t\t\t\t\t\t]\n\t\t\t\t\t],\n\t\t\t\t\tself.ScriptbookingGuideTuplesList\n\t\t\t\t)\n\n\t\t\t#groupby\n\t\t\t[\n\t\t\t\tself.ScriptbookedNewGuideTuplesList,\n\t\t\t\tself.ScriptbookedOldGuideTuplesList\n\t\t\t]=SYS.groupby(\n\t\t\t\tlambda __ScriptbookedGuideTuple:\n\t\t\t\t__ScriptbookedGuideTuple[3] not in self.ScriptbookedSortDict,\n\t\t\t\tScriptbookedGuideTuplesList,\n\t\t\t)\n\n\t\t\t#debug\n\t\t\t'''\n\t\t\tself.debug(('self.',self,[\n\t\t\t\t\t\t\t'ScriptbookedNewGuideTuplesList',\n\t\t\t\t\t\t\t'ScriptbookedOldGuideTuplesList'\n\t\t\t\t\t\t]))\n\t\t\t'''\n\t\t\t\n\t\t\t#map a guide for the news\n\t\t\tmap(\n\t\t\t\tlambda __ScriptbookingNewGuideTuple:\n\t\t\t\tself.guide(__ScriptbookingNewGuideTuple[0],\n\t\t\t\t\t\t\t__ScriptbookingNewGuideTuple[1],\n\t\t\t\t\t\t\tself.GuidingBookStr,\n\t\t\t\t\t\t\t__ScriptbookingNewGuideTuple[2]),\n\t\t\t\tself.ScriptbookedNewGuideTuplesList\n\t\t\t)\n\n\t\t\t#check if we rewrite for the olds\n\t\t\tmap(\n\t\t\t\tlambda __ScriptbookingOldGuideTuple:\n\t\t\t\tself.close() \n\t\t\t\tif \"#FrozenIsBool True\" in self.load(\n\t\t\t\t\t_FormatStr='txt',\n\t\t\t\t\t**{\n\t\t\t\t\t\t'FilingKeyStr':self.ScriptbookedSortDict[\n\t\t\t\t\t\t__ScriptbookingOldGuideTuple[3]\n\t\t\t\t\t\t],\n\t\t\t\t\t\t'FilingModeStr':'r'\n\t\t\t\t\t}).LoadedReadVariable\n\t\t\t\telse self.close().guide(\n\t\t\t\t\t\t\t__ScriptbookingOldGuideTuple[0],\n\t\t\t\t\t\t\t__ScriptbookingOldGuideTuple[1],\n\t\t\t\t\t\t\tself.GuidingBookStr,\n\t\t\t\t\t\t\t__ScriptbookingOldGuideTuple[2],\n\t\t\t\t\t\t),\n\t\t\t\tself.ScriptbookedOldGuideTuplesList\n\t\t\t)\n\n\t\t#Return self\n\t\t#return self\n\t\n#</DefineClass>\n\n\n```\n\n<small>\nView the Scriptbooker sources on [Github](https://github.com/Ledoux/ShareYourSystem/tree/master/Pythonlogy/ShareYourSystem/Guiders/Scriptbooker)\n</small>\n\n", 
          "cell_type": "markdown", 
          "prompt_number": 1, 
          "metadata": {
            "slideshow": {
              "slide_type": "subslide"
            }
          }
        }, 
        {
          "source": "\n<!---\nFrozenIsBool True\n-->\n\n##Example\n\nLet's create an empty class, which will automatically receive\nspecial attributes from the decorating ClassorClass,\nspecially the NameStr, that should be the ClassStr\nwithout the TypeStr in the end.", 
          "cell_type": "markdown", 
          "prompt_number": 2, 
          "metadata": {
            "slideshow": {
              "slide_type": "subslide"
            }
          }
        }, 
        {
          "cell_type": "code", 
          "prompt_number": 3, 
          "language": "python", 
          "input": [
            "\n", 
            "#ImportModules\n", 
            "import ShareYourSystem as SYS\n", 
            "from ShareYourSystem.Guiders import Scriptbooker\n", 
            "\n", 
            "#Definition of a Scriptbooker\n", 
            "MyScriptbooker=Scriptbooker.ScriptbookerClass(\n", 
            "    ).package(\n", 
            "        \"ShareYourSystem.Standards.Objects.Object\"\n", 
            "    ).scriptbook(\n", 
            "        **{\n", 
            "            'GuidingBookStr':'Doc'\n", 
            "        }\n", 
            "    )\n", 
            "\n", 
            "#Definition the AttestedStr\n", 
            "SYS._attest(\n", 
            "    [\n", 
            "        'MyScriptbooker is '+SYS._str(\n", 
            "                MyScriptbooker,\n", 
            "                **{\n", 
            "                'RepresentingBaseKeyStrsListBool':False,\n", 
            "                'RepresentingAlineaIsBool':False\n", 
            "                }\n", 
            "        )\n", 
            "    ]\n", 
            ") \n", 
            "\n", 
            "#Print\n", 
            "\n", 
            "\n"
          ], 
          "outputs": [
            {
              "output_type": "stream", 
              "stream": "stdout", 
              "text": [
                "\n", 
                "\n", 
                "*****Start of the Attest *****\n", 
                "\n", 
                "MyScriptbooker is < (ScriptbookerClass), 4537302480>\n", 
                "   /{ \n", 
                "   /  '<New><Instance>IdInt' : 4537302480\n", 
                "   /  '<New><Instance>ScriptbookedSortDict' : \n", 
                "   /   /{ \n", 
                "   /   /  'DocumentDoc.md' : 001_DocumentDoc.md\n", 
                "   /   /  'ExampleDoc.md' : 00_ExampleDoc.md\n", 
                "   /   /  'ExampleDoc.py' : 01_ExampleDoc.py\n", 
                "   /   /  'GithubDoc.md' : 002_GithubDoc.md\n", 
                "   /   /}\n", 
                "   /  '<Spe><Class>ScriptbookingGuideTuplesList' : \n", 
                "   /   /[\n", 
                "   /   /  0 : ('001', 'Document', 'Markdown')\n", 
                "   /   /  1 : ('002', 'Github', 'Markdown')\n", 
                "   /   /]\n", 
                "   /  '<Spe><Instance>ScriptbookedFileKeyStrsList' : ['001_DocumentDoc.md', '002_GithubDoc.md', '00_ExampleDoc.md', '01_ExampleDoc.py']\n", 
                "   /  '<Spe><Instance>ScriptbookedNewGuideTuplesList' : []\n", 
                "   /  '<Spe><Instance>ScriptbookedOldGuideTuplesList' : \n", 
                "   /   /[\n", 
                "   /   /  0 : ['001', 'Document', 'Markdown', 'DocumentDoc.md']\n", 
                "   /   /  1 : ['002', 'Github', 'Markdown', 'GithubDoc.md']\n", 
                "   /   /]\n", 
                "   /}\n", 
                "\n", 
                "*****End of the Attest *****\n", 
                "\n", 
                "\n"
              ]
            }
          ], 
          "collapsed": false, 
          "metadata": {
            "slideshow": {
              "slide_type": "-"
            }
          }
        }
      ]
    }
  ], 
  "metadata": {
    "name": "", 
    "signature": ""
  }, 
  "nbformat_minor": 0
}