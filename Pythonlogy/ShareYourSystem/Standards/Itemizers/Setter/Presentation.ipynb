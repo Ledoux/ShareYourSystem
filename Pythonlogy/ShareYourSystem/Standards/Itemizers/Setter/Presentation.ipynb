{
  "nbformat": 3, 
  "worksheets": [
    {
      "cells": [
        {
          "source": "\n<!--\nFrozenIsBool False\n-->\n\n#Setter\n\n##Doc\n----\n\n\n> \n> A Setter has a __setitem__ method for setting things in the <InstanceVariable>.__dict__\n> \n> \n\n----\n\n<small>\nView the Setter notebook on [NbViewer](http://nbviewer.ipython.org/url/shareyoursystem.ouvaton.org/Setter.ipynb)\n</small>\n\n", 
          "cell_type": "markdown", 
          "prompt_number": 0, 
          "metadata": {
            "slideshow": {
              "slide_type": "slide"
            }
          }
        }, 
        {
          "source": "\n<!--\nFrozenIsBool False\n-->\n\n##Code\n\n----\n\n<ClassDocStr>\n\n----\n\n```python\n# -*- coding: utf-8 -*-\n\"\"\"\n\n\n<DefineSource>\n@Date : Fri Nov 14 13:20:38 2014 \\n\n@Author : Erwan Ledoux \\n\\n\n</DefineSource>\n\n\nA Setter has a __setitem__ method for setting things in the <InstanceVariable>.__dict__\n\n\"\"\"\n\n#<DefineAugmentation>\nimport ShareYourSystem as SYS\nBaseModuleStr=\"ShareYourSystem.Standards.Itemizers.Getter\"\nDecorationModuleStr=\"ShareYourSystem.Standards.Classors.Classer\"\nSYS.setSubModule(globals())\n#</DefineAugmentation>\n\n#<ImportSpecificModules>\n#</ImportSpecificModules>\n\n#<DefineClass>\n@DecorationClass(**{'DoingGetBool':True})\nclass SetterClass(BaseClass):\n\n\t#Definition\n\tRepresentingKeyStrsList=[\n\t\t\t\t\t\t\t\t\t'SettingKeyVariable',\n\t\t\t\t\t\t\t\t\t'SettingValueVariable'\n\t\t\t\t\t\t\t\t]\n\n\tdef default_init(self,\n\t\t\t\t\t\t_SettingKeyVariable=None, \n\t\t\t\t\t\t_SettingValueVariable=None,  \t\t\t\n\t\t\t\t\t\t**_KwargVariablesDict\n\t\t\t\t\t):\n\t\t\"\"\" \"\"\"\t\t\n\n\t\t#Call the parent init method\n\t\tBaseClass.__init__(self,**_KwargVariablesDict)\n\n\t#@Argumenter.ArgumenterClass(**{'ArgumentingDoStr':'Set'})\n\tdef __setitem__(self,_KeyVariable,_ValueVariable):\n\t\t\"\"\" \"\"\"\n\n\t\t#debug\n\t\t'''\n\t\tself.debug(\n\t\t\t\t\t[\n\t\t\t\t\t\t('locals()[\\'',locals(),[\n\t\t\t\t\t\t\t\t\t\t'_KeyVariable',\n\t\t\t\t\t\t\t\t\t\t'_ValueVariable']\n\t\t\t\t\t\t\t\t\t\t,'\\']'),\n\t\t\t\t\t\t('self.',self,[\n\t\t\t\t\t\t\t\t\t'SettingKeyVariable',\n\t\t\t\t\t\t\t\t\t#'SettingValueVariable'\n\t\t\t\t\t\t\t\t\t])\n\t\t\t\t\t])\n\t\t'''\n\t\t\n\t\t#set (and set before argument to facilitate switch triggers (see later...)\n\t\tself.SettingKeyVariable=_KeyVariable\n\t\tself.SettingValueVariable=_ValueVariable\n\t\tself.set()\t\t\n\n\t\t#set\n\t\treturn self\n\n\tdef do_set(self):\n\t\t\"\"\" \"\"\"\n\n\t\t#debug\n\t\t'''\n\t\tself.debug((\"self.\",self,['SettingKeyVariable','SettingValueVariable']))\n\t\t'''\n\t\t\n\t\t#__setitem__ in the __dict__, this is an utility set\n\t\tself.__dict__[self.SettingKeyVariable]=self.SettingValueVariable\n\n\t\t#Return\n\t\treturn {'HookingIsBool':False}\n\n#</DefineClass>\n\n```\n\n<small>\nView the Setter sources on <a href=\"https://github.com/Ledoux/ShareYourSystem/tree/master/Pythonlogy/ShareYourSystem/Itemizers/Setter\" target=\"_blank\">Github</a>\n</small>\n\n", 
          "cell_type": "markdown", 
          "prompt_number": 1, 
          "metadata": {
            "slideshow": {
              "slide_type": "subslide"
            }
          }
        }, 
        {
          "source": "\n<!---\nFrozenIsBool True\n-->\n\n##Example\n\nLet's create an empty class, which will automatically receive\nspecial attributes from the decorating ClassorClass,\nspecially the NameStr, that should be the ClassStr\nwithout the TypeStr in the end.", 
          "cell_type": "markdown", 
          "prompt_number": 2, 
          "metadata": {
            "slideshow": {
              "slide_type": "subslide"
            }
          }
        }, 
        {
          "cell_type": "code", 
          "prompt_number": 3, 
          "language": "python", 
          "input": [
            "\n", 
            "#ImportModules\n", 
            "import ShareYourSystem as SYS\n", 
            "from ShareYourSystem.Standards.Itemizers import Setter\n", 
            "\n", 
            "#Definition a Setter and set with the __setitem__\n", 
            "MySetter=Setter.SetterClass().__setitem__('MyInt',0)\n", 
            "    \n", 
            "#Definition the AttestedStr\n", 
            "SYS._attest(\n", 
            "    [\n", 
            "    'MySetter is '+SYS._str(\n", 
            "            MySetter,\n", 
            "            **{\n", 
            "            'RepresentingBaseKeyStrsListBool':False,\n", 
            "            'RepresentingAlineaIsBool':False\n", 
            "            }\n", 
            "        )\n", 
            "    ]\n", 
            ") \n", 
            "\n", 
            "#Print\n", 
            "\n", 
            "\n"
          ], 
          "outputs": [
            {
              "output_type": "stream", 
              "stream": "stdout", 
              "text": [
                "\n", 
                "\n", 
                "*****Start of the Attest *****\n", 
                "\n", 
                "MySetter is < (SetterClass), 4555207312>\n", 
                "   /{ \n", 
                "   /  '<New><Instance>IdInt' : 4555207312\n", 
                "   /  '<New><Instance>MyInt' : 0\n", 
                "   /  '<Spe><Instance>SettingKeyVariable' : MyInt\n", 
                "   /  '<Spe><Instance>SettingValueVariable' : 0\n", 
                "   /}\n", 
                "\n", 
                "*****End of the Attest *****\n", 
                "\n", 
                "\n"
              ]
            }
          ], 
          "collapsed": false, 
          "metadata": {
            "slideshow": {
              "slide_type": "-"
            }
          }
        }
      ]
    }
  ], 
  "metadata": {
    "name": "", 
    "signature": ""
  }, 
  "nbformat_minor": 0
}