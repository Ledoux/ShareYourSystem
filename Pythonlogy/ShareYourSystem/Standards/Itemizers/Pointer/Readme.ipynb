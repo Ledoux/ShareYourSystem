{
  "nbformat": 3, 
  "worksheets": [
    {
      "cells": [
        {
          "source": "\n<!--\nFrozenIsBool False\n-->\n\n#Pointer\n\n##Doc\n----\n\n\n> \n> A Pointer \n> \n> \n\n----\n\n<small>\nView the Pointer notebook on [NbViewer](http://nbviewer.ipython.org/url/shareyoursystem.ouvaton.org/Pointer.ipynb)\n</small>\n\n", 
          "cell_type": "markdown", 
          "prompt_number": 0, 
          "metadata": {
            "slideshow": {
              "slide_type": "slide"
            }
          }
        }, 
        {
          "source": "\n<!--\nFrozenIsBool False\n-->\n\n##Code\n\n----\n\n<ClassDocStr>\n\n----\n\n```python\n# -*- coding: utf-8 -*-\n\"\"\"\n\n\n<DefineSource>\n@Date : Fri Nov 14 13:20:38 2014 \\n\n@Author : Erwan Ledoux \\n\\n\n</DefineSource>\n\n\nA Pointer \n\n\"\"\"\n\n#<DefineAugmentation>\nimport ShareYourSystem as SYS\nBaseModuleStr=\"ShareYourSystem.Applyiers.Updater\"\nDecorationModuleStr=\"ShareYourSystem.Standards.Classors.Classer\"\nSYS.setSubModule(globals())\n#</DefineAugmentation>\n\n#<ImportSpecificModules>\nfrom ShareYourSystem.Standards.Itemizers import Pather\n#</ImportSpecificModules>\n\n#<DefineLocals>\nPointingPrefixStr=\"\"\nPointingSuffixStr=\"\"\nPointingBackStr=\"Back\"\n#</DefineLocals>\n\n#<DefineClass>\n@DecorationClass()\nclass PointerClass(BaseClass):\n\n\t#Definition\n\tRepresentingKeyStrsList=[\n\t\t\t\t\t\t\t\t'PointingGetVariable',\n\t\t\t\t\t\t\t\t'PointingSetPathStr',\n\t\t\t\t\t\t\t\t'PointingBackSetStr',\n\t\t\t\t\t\t\t\t'PointedGetVariable',\n\t\t\t\t\t\t\t\t'PointedPathBackVariable',\n\t\t\t\t\t\t\t\t'PointedLocalSetStr',\n\t\t\t\t\t\t\t\t'PointedBackSetStr'\n\t\t\t\t\t\t\t]\n\n\tdef default_init(\n\t\t\t\t\tself,\t\t\n\t\t\t\t\t_PointingGetVariable=None,\n\t\t\t\t\t_PointingSetPathStr=\"\",\n\t\t\t\t\t_PointingBackSetStr=\"\",\n\t\t\t\t\t_PointedGetVariable=None,\n\t\t\t\t\t_PointedPathBackVariable=\"\",\n\t\t\t\t\t_PointedPathBackStr=\"\",\n\t\t\t\t\t_PointedLocalSetStr=\"\",\n\t\t\t\t\t_PointedBackSetStr=\"\",\n\t\t\t\t\t**_KwargVariablesDict\n\t\t\t\t):\n\n\t\t#Call the parent init method\n\t\tBaseClass.__init__(self,**_KwargVariablesDict)\n\n\tdef do_point(self):\n\n\t\t#debug\n\t\t'''\n\t\tself.debug(('self.',self,[\n\t\t\t\t\t\t\t\t\t'PointingGetVariable',\n\t\t\t\t\t\t\t\t\t'PointingSetPathStr'\n\t\t\t\t\t\t\t\t]))\n\t\t'''\n\n\t\t#get\n\t\tif type(self.PointingGetVariable) in SYS.StrTypesList:\n\t\t\tself.PointedGetVariable=self[self.PointingGetVariable]\n\t\telse:\n\t\t\tself.PointedGetVariable=self.PointingGetVariable\n\n\t\t#debug\n\t\t'''\n\t\tself.debug(\n\t\t\t\t\t[\n\t\t\t\t\t\t'After getting',\n\t\t\t\t\t\t('self.',self,[\n\t\t\t\t\t\t\t\t\t\t'PointingGetVariable',\n\t\t\t\t\t\t\t\t\t\t'PointedGetVariable'\n\t\t\t\t\t\t\t\t\t\t]\n\t\t\t\t\t\t\t\t\t)\n\t\t\t\t\t]\n\t\t\t\t)\n\t\t'''\n\n\t\t#set\n\t\tself.PointedPathBackStr=Pather.getPathedBackGetStrWithGetStr(self.PointingSetPathStr)\n\t\t\n\t\t#set\n\t\tself.PointedLocalSetStr=self.PointingSetPathStr.split(\n\t\t\tself.PointedPathBackStr+Pather.PathPrefixStr)[-1]\n\n\t\t#debug\n\t\t'''\n\t\tself.debug(('self.',self,[\n\t\t\t\t\t\t\t\t\t'PointingSetPathStr',\n\t\t\t\t\t\t\t\t\t'PointedPathBackStr',\n\t\t\t\t\t\t\t\t\t'PointedLocalSetStr'\n\t\t\t\t\t\t\t\t]))\n\t\t'''\n\t\t\n\t\t#set\n\t\tself.SettingKeyVariable=self.PointedPathBackStr+Pather.PathPrefixStr+PointingPrefixStr+self.PointedLocalSetStr+PointingSuffixStr\n\n\t\t#debug\n\t\t'''\n\t\tself.debug(('self.',self,['SettingKeyVariable']))\n\t\t'''\n\t\t\n\t\t#set the point variable\n\t\tself[\n\t\t\t\tself.SettingKeyVariable\n\t\t\t]=self.PointedGetVariable\n\n\t\t#set a back pointer\n\t\tif self.PointingBackSetStr!=\"\":\n\n\t\t\t#debug\n\t\t\t'''\n\t\t\tself.debug(\n\t\t\t\t\t\t[\n\t\t\t\t\t\t\t'We point back here',\n\t\t\t\t\t\t\t('self.',self,[\n\t\t\t\t\t\t\t\t\t\t\t\t'PointingSetPathStr',\n\t\t\t\t\t\t\t\t\t\t\t\t'PointingBackSetStr'\n\t\t\t\t\t\t\t\t\t\t])\n\t\t\t\t\t\t]\n\t\t\t\t\t)\n\t\t\t'''\n\t\t\t\n\t\t\t#Get\n\t\t\tself.PointedPathBackVariable=Pather.getPathedBackVariableWithVariableAndGetStr(\n\t\t\t\tself,\n\t\t\t\tself.PointingSetPathStr\n\t\t\t)\n\n\t\t\t#debug\n\t\t\t'''\n\t\t\tself.debug(('self.',self,[\n\t\t\t\t\t\t\t\t\t\t'PointedGetVariable',\n\t\t\t\t\t\t\t\t\t\t'PointedPathBackVariable',\n\t\t\t\t\t\t\t\t\t\t'PointingBackSetStr'\n\t\t\t\t\t\t\t\t\t]))\n\t\t\t'''\n\n\t\t\t#link\n\t\t\tself.PointedGetVariable[\n\t\t\t\tself.PointingBackSetStr\n\t\t\t]=self.PointedPathBackVariable\n\n\n#</DefineClass>\n\n\n```\n\n<small>\nView the Pointer sources on <a href=\"https://github.com/Ledoux/ShareYourSystem/tree/master/Pythonlogy/ShareYourSystem/Itemizers/Pointer\" target=\"_blank\">Github</a>\n</small>\n\n", 
          "cell_type": "markdown", 
          "prompt_number": 1, 
          "metadata": {
            "slideshow": {
              "slide_type": "subslide"
            }
          }
        }, 
        {
          "source": "\n<!---\nFrozenIsBool True\n-->\n\n##Example\n\nLet's create an empty class, which will automatically receive\nspecial attributes from the decorating ClassorClass,\nspecially the NameStr, that should be the ClassStr\nwithout the TypeStr in the end.", 
          "cell_type": "markdown", 
          "prompt_number": 2, 
          "metadata": {
            "slideshow": {
              "slide_type": "subslide"
            }
          }
        }, 
        {
          "source": "```python\n\n#ImportModules\nimport ShareYourSystem as SYS\nfrom ShareYourSystem.Standards.Itemizers import Pather,Pointer\n\n#Explicit expression\nMyPointer=Pointer.PointerClass().__setitem__(\n        'ChildPather',\n        Pather.PatherClass().__setitem__(\n            'GrandChildPather',\n            Pather.PatherClass()\n        )\n    ).point(\n            '/',\n            '/ChildPather/GrandChildPather/GrandParentPointer'\n    )\n\n#Return\nSYS._attest(\n    [\n    'MyPointer is '+SYS._str(\n            MyPointer,\n            **{\n                'RepresentingBaseKeyStrsListBool':False,\n                'RepresentingAlineaIsBool':False\n            }\n        )\n    ]\n)\n\n#Print\n\n\n\n```\n", 
          "cell_type": "markdown", 
          "metadata": {}
        }, 
        {
          "source": "```console\n>>>\n\n\n*****Start of the Attest *****\n\nMyPointer is < (PointerClass), 4554814160>\n   /{ \n   /  '<New><Instance>ChildPather' : < (PatherClass), 4554817424>\n   /   /{ \n   /   /  '<New><Instance>GrandChildPather' : < (PatherClass), 4554817488>\n   /   /   /{ \n   /   /   /  '<New><Instance>IdInt' : 4554817488\n   /   /   /  '<Spe><Class>PathedChildKeyStr' : \n   /   /   /  '<Spe><Class>PathedGetKeyStr' : \n   /   /   /  '<Spe><Class>PathedKeyStrsList' : None\n   /   /   /  '<Spe><Class>PathingKeyStr' : \n   /   /   /}\n   /   /  '<New><Instance>GrandChildPather/GrandParentPointer' : {...}< (PointerClass), 4554814160>\n   /   /  '<New><Instance>IdInt' : 4554817424\n   /   /  '<Spe><Class>PathedChildKeyStr' : \n   /   /  '<Spe><Class>PathedGetKeyStr' : \n   /   /  '<Spe><Class>PathedKeyStrsList' : None\n   /   /  '<Spe><Class>PathingKeyStr' : \n   /   /}\n   /  '<New><Instance>IdInt' : 4554814160\n   /  '<Spe><Class>PointedBackSetStr' : \n   /  '<Spe><Class>PointedPathBackVariable' : \n   /  '<Spe><Class>PointingBackSetStr' : \n   /  '<Spe><Instance>PointedGetVariable' : {...}< (PointerClass), 4554814160>\n   /  '<Spe><Instance>PointedLocalSetStr' : GrandParentPointer\n   /  '<Spe><Instance>PointingGetVariable' : /\n   /  '<Spe><Instance>PointingSetPathStr' : /ChildPather/GrandChildPather/GrandParentPointer\n   /}\n\n*****End of the Attest *****\n\n\n\n```\n", 
          "cell_type": "markdown", 
          "metadata": {}
        }
      ]
    }
  ], 
  "metadata": {
    "name": "", 
    "signature": ""
  }, 
  "nbformat_minor": 0
}