{
  "nbformat": 3, 
  "worksheets": [
    {
      "cells": [
        {
          "source": "\n<!--\nFrozenIsBool False\n-->\n\n#Picker\n\n##Doc\n----\n\n\n> \n> A Picker maps a __getitem__\n> \n> \n\n----\n\n<small>\nView the Picker notebook on [NbViewer](http://nbviewer.ipython.org/url/shareyoursystem.ouvaton.org/Picker.ipynb)\n</small>\n\n", 
          "cell_type": "markdown", 
          "prompt_number": 0, 
          "metadata": {
            "slideshow": {
              "slide_type": "slide"
            }
          }
        }, 
        {
          "source": "\n<!--\nFrozenIsBool False\n-->\n\n##Code\n\n----\n\n<ClassDocStr>\n\n----\n\n```python\n# -*- coding: utf-8 -*-\n\"\"\"\n\n\n<DefineSource>\n@Date : Fri Nov 14 13:20:38 2014 \\n\n@Author : Erwan Ledoux \\n\\n\n</DefineSource>\n\n\nA Picker maps a __getitem__\n\n\"\"\"\n\n#<DefineAugmentation>\nimport ShareYourSystem as SYS\nBaseModuleStr=\"ShareYourSystem.Applyiers.Mapper\"\nDecorationModuleStr=\"ShareYourSystem.Standards.Classors.Classer\"\nSYS.setSubModule(globals())\n#</DefineAugmentation>\n\n#<ImportSpecificModules>\n#</ImportSpecificModules>\n\n#<DefineClass>\n@DecorationClass(**{'DoingGetBool':True})\nclass PickerClass(BaseClass):\n\t\n\tdef default_init(self,\n\t\t\t\t_PickingKeyVariablesList=None,\n\t\t\t\t_PickedValueVariablesList=None,\n\t\t\t\t**_KwargVariablesDict\n\t\t\t\t):\n\n\t\t#Call the parent init method\n\t\tBaseClass.__init__(self,**_KwargVariablesDict)\n\n\tdef do_pick(self):\n\t\t\"\"\"Map the __getitem__ to the <_GettingVariablesList>\"\"\"\n\n\t\t#debug\n\t\t'''\n\t\tself.debug(('self.',self,['PickingKeyVariablesList']))\n\t\t'''\n\n\t\t#Apply __getitem__\n\t\tself.map('__getitem__',map(\n\t\t\t\t\t\t\t\t\tlambda __PickingKeyVariable:\n\t\t\t\t\t\t\t\t\t{'LiargVariablesList':[__PickingKeyVariable]},\n\t\t\t\t\t\t\t\t\tself.PickingKeyVariablesList\n\t\t\t\t\t\t\t\t)\n\t\t\t\t\t)\n\n\t\t#link with AppliedMappedVariablesList\n\t\tself.PickedValueVariablesList=self.MappedVariablesList\n\n\t\t#debug\n\t\t'''\n\t\tself.debug(('self.',self,['PickedValueVariablesList']))\n\t\t'''\n\t\t\n\t\t#Return AppliedVariablesList\n\t\treturn self.PickedValueVariablesList\n#</DefineClass>\n\n```\n\n<small>\nView the Picker sources on <a href=\"https://github.com/Ledoux/ShareYourSystem/tree/master/Pythonlogy/ShareYourSystem/Applyiers/Picker\" target=\"_blank\">Github</a>\n</small>\n\n", 
          "cell_type": "markdown", 
          "prompt_number": 1, 
          "metadata": {
            "slideshow": {
              "slide_type": "subslide"
            }
          }
        }, 
        {
          "source": "\n<!---\nFrozenIsBool True\n-->\n\n##Example\n\nLet's create an empty class, which will automatically receive\nspecial attributes from the decorating ClassorClass,\nspecially the NameStr, that should be the ClassStr\nwithout the TypeStr in the end.", 
          "cell_type": "markdown", 
          "prompt_number": 2, 
          "metadata": {
            "slideshow": {
              "slide_type": "subslide"
            }
          }
        }, 
        {
          "source": "```python\n\n#ImportModules\nimport ShareYourSystem as SYS\nfrom ShareYourSystem.Applyiers import Picker\n\n#Definition an Picker\nMyPicker=Picker.PickerClass()\n\n#set some items\nmap(\n        lambda __ItemTuple:\n        MyPicker.__setitem__(__ItemTuple[0],__ItemTuple[1]),\n        [\n            ('MyInt',0),\n            ('MyPicker',Picker.PickerClass().__setitem__('MyStr',\"hello\")),\n        ]\n    )\n\n#Map some gets\nPickedVariablesList=MyPicker.pick(\n    [\n        #Get directly in the __dict__\n        'MyInt',\n        'MyPicker',\n        #Get with a DeepShortStr\n        '/MyPicker/MyStr'\n    ]\n)\n\n#Definition the AttestedStr\nSYS._attest(\n    [\n        'PickedVariablesList is '+SYS._str(\n            PickedVariablesList\n            ,**{\n                'RepresentingBaseKeyStrsListBool':False,\n                'RepresentingAlineaIsBool':False\n            }\n        )\n    ]\n) \n\n#Print\n\n\n\n```\n", 
          "cell_type": "markdown", 
          "metadata": {}
        }, 
        {
          "source": "```console\n>>>\n\n\n*****Start of the Attest *****\n\nPickedVariablesList is \n   /[\n   /  0 : 0\n   /  1 : < (PickerClass), 4555210256>\n   /   /{ \n   /   /  '<New><Instance>IdInt' : 4555210256\n   /   /  '<New><Instance>MyStr' : hello\n   /   /}\n   /  2 : hello\n   /]\n\n*****End of the Attest *****\n\n\n\n```\n", 
          "cell_type": "markdown", 
          "metadata": {}
        }
      ]
    }
  ], 
  "metadata": {
    "name": "", 
    "signature": ""
  }, 
  "nbformat_minor": 0
}