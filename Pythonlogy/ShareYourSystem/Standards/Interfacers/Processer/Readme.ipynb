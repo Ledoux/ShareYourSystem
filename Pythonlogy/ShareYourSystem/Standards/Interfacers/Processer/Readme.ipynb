{
  "nbformat": 3, 
  "worksheets": [
    {
      "cells": [
        {
          "source": "\n<!--\nFrozenIsBool False\n-->\n\n#Processer\n\n##Doc\n----\n\n\n> \n> The Processer\n> \n> \n\n----\n\n<small>\nView the Processer notebook on [NbViewer](http://nbviewer.ipython.org/url/shareyoursystem.ouvaton.org/Processer.ipynb)\n</small>\n\n", 
          "cell_type": "markdown", 
          "prompt_number": 0, 
          "metadata": {
            "slideshow": {
              "slide_type": "slide"
            }
          }
        }, 
        {
          "source": "\n<!--\nFrozenIsBool False\n-->\n\n##Code\n\n----\n\n<ClassDocStr>\n\n----\n\n```python\n# -*- coding: utf-8 -*-\n\"\"\"\n\n\n<DefineSource>\n@Date : Fri Nov 14 13:20:38 2014 \\n\n@Author : Erwan Ledoux \\n\\n\n</DefineSource>\n\n\nThe Processer\n\n\"\"\"\n\n#<DefineAugmentation>\nimport ShareYourSystem as SYS\nBaseModuleStr=\"ShareYourSystem.Standards.Interfacers.Capturer\"\nDecorationModuleStr=\"ShareYourSystem.Standards.Classors.Representer\"\nSYS.setSubModule(globals())\n#</DefineAugmentation>\n\n#<ImportSpecificModules>\nimport os\n#</ImportSpecificModules>\n\n#<DefineLocals>\nProcessingFileStr=\"ProcessTemp\"\n#</DefineLocals>\n\n#<DefineClass>\n@DecorationClass()\nclass ProcesserClass(BaseClass):\n\n\t#Definition\n\tRepresentingKeyStrsList=[\n\t\t\t\t\t\t\t\t'ProcessingBashStr',\n\t\t\t\t\t\t\t\t'ProcessedBashStr'\n\t\t\t\t\t\t\t]\n\t\n\tdef default_init(self,\n\t\t\t\t\t\t_ProcessingBashStr=\"\",\n\t\t\t\t\t\t_ProcessedBashStr=\"\",\n\t\t\t\t\t\t**_KwargVariablesDict\n\t\t\t\t\t):\n\t\t\n\t\t#Call the parent init method\n\t\tBaseClass.__init__(self,**_KwargVariablesDict)\n\t\t\n\t#<DefineDoMethod>\t\n\tdef do_process(self):\n\n\t\t#file\n\t\tself.file(ProcessingFileStr+'.sh','w')\n\n\t\t#Define\n\t\tProcessedBashPathStr=self.FolderingPathStr+ProcessingFileStr+'.txt'\n\n\t\t#set\n\t\tself.ProcessedBashStr='OUTPUT=\"$('+self.ProcessingBashStr+')\"\\n'\n\t\tself.ProcessedBashStr+='echo \"${OUTPUT}\" > '+ProcessedBashPathStr\n\n\t\t#write\n\t\tself.FiledHardVariable.write(\n\t\t\tself.ProcessedBashStr\n\t\t)\n\t\tself.FiledHardVariable.close()\n\n\t\t#debug\n\t\t'''\n\t\tself.debug(('self.',self,[\n\t\t\t\t\t\t\t\t\t'FiledPathStr',\n\t\t\t\t\t\t\t\t]))\n\t\t'''\n\t\t\n\t\t#popen\n\t\tos.popen('sh '+self.FiledPathStr)\n\n\t\t#load\n\t\tself.ProcessedBashStr=self.load(\t\n\t\t\t\t\t**{\n\t\t\t\t\t\t'FilingKeyStr':ProcessingFileStr+'.txt',\n\t\t\t\t\t\t'FilingModeStr':'r'\n\t\t\t\t\t}\n\t\t\t\t).LoadedReadVariable\n\n#</DefineClass>\n\n\n```\n\n<small>\nView the Processer sources on <a href=\"https://github.com/Ledoux/ShareYourSystem/tree/master/Pythonlogy/ShareYourSystem/Interfacers/Processer\" target=\"_blank\">Github</a>\n</small>\n\n", 
          "cell_type": "markdown", 
          "prompt_number": 1, 
          "metadata": {
            "slideshow": {
              "slide_type": "subslide"
            }
          }
        }, 
        {
          "source": "\n<!---\nFrozenIsBool True\n-->\n\n##Example\n\nLet's create an empty class, which will automatically receive\nspecial attributes from the decorating ClassorClass,\nspecially the NameStr, that should be the ClassStr\nwithout the TypeStr in the end.", 
          "cell_type": "markdown", 
          "prompt_number": 2, 
          "metadata": {
            "slideshow": {
              "slide_type": "subslide"
            }
          }
        }, 
        {
          "source": "```python\n#ImportModules\nimport ShareYourSystem as SYS\nfrom ShareYourSystem.Standards.Interfacers import Processer\n\n#Definition of an instance Processer and make it print hello\nMyProcesser=Processer.ProcesserClass().process('which python ',\n    **{\n    'FolderingPathStr':Processer.LocalFolderPathStr\n    }\n)\n    \n#Definition the AttestedStr\nSYS._attest(\n    [\n        'MyProcesser is '+SYS._str(MyProcesser)\n    ]\n) \n\n#Print\n\n\n\n```\n", 
          "cell_type": "markdown", 
          "metadata": {}
        }, 
        {
          "source": "```console\n>>>\n\n\n*****Start of the Attest *****\n\nMyProcesser is < (ProcesserClass), 4551822608>\n   /{ \n   /  '<New><Instance>IdInt' : 4551822608\n   /  '<Spe><Instance>ProcessedBashStr' : /usr/local/bin/python\n\n   /  '<Spe><Instance>ProcessingBashStr' : which python \n   /}\n\n*****End of the Attest *****\n\n\n\n```\n", 
          "cell_type": "markdown", 
          "metadata": {}
        }
      ]
    }
  ], 
  "metadata": {
    "name": "", 
    "signature": ""
  }, 
  "nbformat_minor": 0
}