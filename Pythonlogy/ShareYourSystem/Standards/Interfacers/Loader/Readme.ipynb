{
  "nbformat": 3, 
  "worksheets": [
    {
      "cells": [
        {
          "source": "\n<!--\nFrozenIsBool False\n-->\n\n#Loader\n\n##Doc\n----\n\n\n> \n> The Loader is a quick object to load from a FiledFileVariable a LoadedReadVariable\n> \n> \n\n----\n\n<small>\nView the Loader notebook on [NbViewer](http://nbviewer.ipython.org/url/shareyoursystem.ouvaton.org/Loader.ipynb)\n</small>\n\n", 
          "cell_type": "markdown", 
          "prompt_number": 0, 
          "metadata": {
            "slideshow": {
              "slide_type": "slide"
            }
          }
        }, 
        {
          "source": "\n<!--\nFrozenIsBool False\n-->\n\n##Code\n\n----\n\n<ClassDocStr>\n\n----\n\n```python\n# -*- coding: utf-8 -*-\n\"\"\"\n\n\n<DefineSource>\n@Date : Fri Nov 14 13:20:38 2014 \\n\n@Author : Erwan Ledoux \\n\\n\n</DefineSource>\n\n\nThe Loader is a quick object to load from a FiledFileVariable a LoadedReadVariable\n\n\"\"\"\n\n#<DefineAugmentation>\nimport ShareYourSystem as SYS\nBaseModuleStr=\"ShareYourSystem.Standards.Interfacers.Closer\"\nDecorationModuleStr=\"ShareYourSystem.Standards.Classors.Classer\"\nSYS.setSubModule(globals())\n#</DefineAugmentation>\n\n#<ImportSpecificModules>\nimport json\nimport yaml\n#</ImportSpecificModules>\n\n#<DefineClass>\n@DecorationClass()\nclass LoaderClass(BaseClass):\n\t\n\t#Definition\n\tRepresentingKeyStrsList=[\n\t\t\t\t\t\t\t\t\t'LoadingFormatStr',\n\t\t\t\t\t\t\t\t\t'LoadedReadVariable',\n\t\t\t\t\t\t\t\t\t'FiledFileVariable'\n\t\t\t\t\t\t\t\t]\n\n\tdef default_init(self,\n\t\t\t\t\t\t_LoadingFormatStr='txt',\n\t\t\t\t\t\t_LoadedReadVariable=None,\n\t\t\t\t\t\t_FiledFileVariable=None,\n\t\t\t\t\t\t**_KwargVariablesDict\n\t\t\t\t\t):\n\n\t\t#Call the parent __init__ method\n\t\tBaseClass.__init__(self,**_KwargVariablesDict)\n\n\tdef do_load(self,**_KwargVariablesDict):\n\n\t\t#debug\n\t\t'''\n\t\tself.debug(('self.',self,['LoadingFormatStr']))\n\t\t'''\n\n\t\t#file first\n\t\tself.file(_ModeStr='r')\n\n\t\t#Check\n\t\tif self.LoadingFormatStr=='txt':\n\n\t\t\t#Read the FiledFileVariable\n\t\t\tself.LoadedReadVariable=self.FiledFileVariable.read()\n\n\t\telif self.LoadingFormatStr=='json':\n\n\t\t\t#Use the json decoder\n\t\t\tself.LoadedReadVariable=json.load(self.FiledFileVariable)\n\n\t\telif self.LoadingFormatStr=='yaml':\n\n\t\t\t#Use the json decoder\n\t\t\tself.LoadedReadVariable=yaml.load(self.FiledFileVariable)\n\n\t\t#Return self\n\t\t#return self\n\t\n#</DefineClass>\n\n\n```\n\n<small>\nView the Loader sources on <a href=\"https://github.com/Ledoux/ShareYourSystem/tree/master/Pythonlogy/ShareYourSystem/Interfacers/Loader\" target=\"_blank\">Github</a>\n</small>\n\n", 
          "cell_type": "markdown", 
          "prompt_number": 1, 
          "metadata": {
            "slideshow": {
              "slide_type": "subslide"
            }
          }
        }, 
        {
          "source": "\n<!---\nFrozenIsBool True\n-->\n\n##Example\n\nLet's create an empty class, which will automatically receive\nspecial attributes from the decorating ClassorClass,\nspecially the NameStr, that should be the ClassStr\nwithout the TypeStr in the end.", 
          "cell_type": "markdown", 
          "prompt_number": 2, 
          "metadata": {
            "slideshow": {
              "slide_type": "subslide"
            }
          }
        }, 
        {
          "source": "```python\n#ImportModules\nimport ShareYourSystem as SYS\nfrom ShareYourSystem.Standards.Interfacers import Loader\n\n#Definition of an instance Loader and make it find the current dir\nMyLoader=Loader.LoaderClass().file('MyFile.txt','w')\nMyLoader.FiledFileVariable.write('hello')\nMyLoader.FiledFileVariable.close()\nMyLoader.load()\n\n#Definition the AttestedStr\nSYS._attest(\n    [\n        'MyLoader is '+SYS._str(MyLoader,\n            **{'RepresentingAlineaIsBool':False}\n        )\n    ]\n) \n\n#Print\n\n\n\n```\n", 
          "cell_type": "markdown", 
          "metadata": {}
        }, 
        {
          "source": "```console\n>>>\n\n\n*****Start of the Attest *****\n\nMyLoader is < (LoaderClass), 4540264912>\n   /{ \n   /  '<New><Instance>IdInt' : 4540264912\n   /  '<Spe><Class>LoadingFormatStr' : txt\n   /  '<Spe><Instance>LoadedReadVariable' : hello\n   /}\n\n*****End of the Attest *****\n\n\n\n```\n", 
          "cell_type": "markdown", 
          "metadata": {}
        }
      ]
    }
  ], 
  "metadata": {
    "name": "", 
    "signature": ""
  }, 
  "nbformat_minor": 0
}