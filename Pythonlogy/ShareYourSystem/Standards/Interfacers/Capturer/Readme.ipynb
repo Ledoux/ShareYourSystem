{
  "nbformat": 3, 
  "worksheets": [
    {
      "cells": [
        {
          "source": "\n<!--\nFrozenIsBool False\n-->\n\n#Capturer\n\n##Doc\n----\n\n\n> \n> The Capturer\n> \n> \n\n----\n\n<small>\nView the Capturer notebook on [NbViewer](http://nbviewer.ipython.org/url/shareyoursystem.ouvaton.org/Capturer.ipynb)\n</small>\n\n", 
          "cell_type": "markdown", 
          "prompt_number": 0, 
          "metadata": {
            "slideshow": {
              "slide_type": "slide"
            }
          }
        }, 
        {
          "source": "\n<!--\nFrozenIsBool False\n-->\n\n##Code\n\n----\n\n<ClassDocStr>\n\n----\n\n```python\n# -*- coding: utf-8 -*-\n\"\"\"\n\n\n<DefineSource>\n@Date : Fri Nov 14 13:20:38 2014 \\n\n@Author : Erwan Ledoux \\n\\n\n</DefineSource>\n\n\nThe Capturer\n\n\"\"\"\n\n#<DefineAugmentation>\nimport ShareYourSystem as SYS\nBaseModuleStr=\"ShareYourSystem.Standards.Interfacers.Hdformater\"\nDecorationModuleStr=\"ShareYourSystem.Standards.Classors.Classer\"\nSYS.setSubModule(globals())\n#</DefineAugmentation>\n\n#<ImportSpecificModules>\nfrom cStringIO import StringIO\nimport sys\nimport copy\n#</ImportSpecificModules>\n\n#<DefineClass>\n@DecorationClass()\nclass CapturerClass(BaseClass):\n\t\n\t#Definition\n\tRepresentingKeyStrsList=[\n\t\t\t\t\t\t\t\t'CapturingStopBool',\n\t\t\t\t\t\t\t\t'CapturedStdoutVariable',\n\t\t\t\t\t\t\t\t'CapturedPrintStrsList'\n\t\t\t\t\t\t\t]\n\n\tdef default_init(self,\n\t\t\t\t\t\t_CapturingStopBool={\n\t\t\t\t\t\t\t\t'DefaultingSetType':property,\n\t\t\t\t\t\t\t\t'PropertizingInitVariable':False,\n\t\t\t\t\t\t\t\t'PropertizingDocStr':''\n\t\t\t\t\t\t},\n\t\t\t\t\t\t_CapturedStdoutVariable=sys.stdout,\n\t\t\t\t\t\t_CapturedPrintStrsList=None,\n\t\t\t\t\t\t**_KwargVariablesDict\n\t\t\t\t\t):\n\n\t\t#Call the parent __init__ method\n\t\tBaseClass.__init__(self,**_KwargVariablesDict)\n\t\n\tdef setCapturingStopBool(self,_SettingValueVariable):\n\n\t\t#set\n\t\tself._CapturingStopBool=_SettingValueVariable\n\n\t\t#reset the CapturedStrsList\n\t\tif _SettingValueVariable:\n\n\t\t\t#Check\n\t\t\tif self.CapturedPrintStrsList!=None:\n\n\t\t\t\tif hasattr(sys.stdout,'getvalue'):\n\t\t\t\t\t\n\t\t\t\t\t#extend\n\t\t\t\t\tself.CapturedPrintStrsList.extend(\n\t\t\t\t\t\tsys.stdout.getvalue().splitlines()\n\t\t\t\t\t)\n\n\t\t\t#reset\n       \t\tsys.stdout = self.CapturedStdoutVariable\n\n\tdef do_capture(self):\n\n\t\t#debug\n\t\t'''\n\t\tself.debug('We capture here ')\n\t\t'''\n\n\t\t#set\n\t\tself.CapturedStdoutVariable = sys.stdout\n        \n\t\t#init\n\t\tsys.stdout = StringIO()\n\n\t\t#Return self\n\t\t#return self\n\n#</DefineClass>\n\n```\n\n<small>\nView the Capturer sources on <a href=\"https://github.com/Ledoux/ShareYourSystem/tree/master/Pythonlogy/ShareYourSystem/Interfacers/Capturer\" target=\"_blank\">Github</a>\n</small>\n\n", 
          "cell_type": "markdown", 
          "prompt_number": 1, 
          "metadata": {
            "slideshow": {
              "slide_type": "subslide"
            }
          }
        }, 
        {
          "source": "\n<!---\nFrozenIsBool True\n-->\n\n##Example\n\nLet's create an empty class, which will automatically receive\nspecial attributes from the decorating ClassorClass,\nspecially the NameStr, that should be the ClassStr\nwithout the TypeStr in the end.", 
          "cell_type": "markdown", 
          "prompt_number": 2, 
          "metadata": {
            "slideshow": {
              "slide_type": "subslide"
            }
          }
        }, 
        {
          "source": "```python\n#ImportModules\nimport ShareYourSystem as SYS\nfrom ShareYourSystem.Standards.Interfacers import Capturer\n\n#Definition a Capturer\nMyCapturer=Capturer.CapturerClass().capture()\nprint('Hello !')\nprint('Bonjour !')\nMyCapturer.CapturingStopBool=True\nprint('Y a quelqu un?')\n\n#Definition the AttestedStr\nSYS._attest(\n    [\n        'MyCapturer is '+SYS._str(\n        MyCapturer,\n        **{\n            'RepresentingBaseKeyStrsListBool':False\n        }\n        )\n    ]\n)  \n\n#Print\n\n\n\n\n\n```\n", 
          "cell_type": "markdown", 
          "metadata": {}
        }, 
        {
          "source": "```console\n>>>\nY a quelqu un?\n\n\n*****Start of the Attest *****\n\nMyCapturer is < (CapturerClass), 4551821200>\n   /{ \n   /  '<New><Instance>IdInt' : 4551821200\n   /  '<New><Instance>_CapturingStopBool' : True\n   /  '<Spe><Class>CapturingStopBool' : True\n   /  '<Spe><Instance>CapturedPrintStrsList' : ['Hello !', 'Bonjour !']\n   /  '<Spe><Instance>CapturedStdoutVariable' : <cStringIO.StringO object at 0x10f4f79d0>\n   /}\n\n*****End of the Attest *****\n\n\n\n```\n", 
          "cell_type": "markdown", 
          "metadata": {}
        }
      ]
    }
  ], 
  "metadata": {
    "name": "", 
    "signature": ""
  }, 
  "nbformat_minor": 0
}