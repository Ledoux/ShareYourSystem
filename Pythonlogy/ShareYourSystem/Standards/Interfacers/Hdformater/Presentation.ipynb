{
  "nbformat": 3, 
  "worksheets": [
    {
      "cells": [
        {
          "source": "\n<!--\nFrozenIsBool False\n-->\n\n#Hdformater\n\n##Doc\n----\n\n\n> \n> An Hdformater instance maps an apply and so \"grinds\" a MappingArgDictsList \n> to a method.\n> \n> \n\n----\n\n<small>\nView the Hdformater notebook on [NbViewer](http://nbviewer.ipython.org/url/shareyoursystem.ouvaton.org/Hdformater.ipynb)\n</small>\n\n", 
          "cell_type": "markdown", 
          "prompt_number": 0, 
          "metadata": {
            "slideshow": {
              "slide_type": "slide"
            }
          }
        }, 
        {
          "source": "\n<!--\nFrozenIsBool False\n-->\n\n##Code\n\n----\n\n<ClassDocStr>\n\n----\n\n```python\n# -*- coding: utf-8 -*-\n\"\"\"\n\n\n<DefineSource>\n@Date : Fri Nov 14 13:20:38 2014 \\n\n@Author : Erwan Ledoux \\n\\n\n</DefineSource>\n\n\nAn Hdformater instance maps an apply and so \"grinds\" a MappingArgDictsList \nto a method.\n\n\"\"\"\n\n#<DefineAugmentation>\nimport ShareYourSystem as SYS\nBaseModuleStr=\"ShareYourSystem.Standards.Interfacers.Writer\"\nDecorationModuleStr=\"ShareYourSystem.Standards.Classors.Classer\"\nSYS.setSubModule(globals())\n#</DefineAugmentation>\n\n#<ImportSpecificModules>\nimport collections\nimport importlib\nimport os\nimport sys\n#from ShareYourSystem.Functers import Alerter\n#</ImportSpecificModules>\n\n#<DefineClass>\n@DecorationClass(**{'SwitchingUnboundMethodStr':'hdformat'})\nclass HdformaterClass(BaseClass):\n\t\n\t#Definition\n\tRepresentingKeyStrsList=[\n\t\t\t\t\t\t\t\t\t'HdformatingModuleStr',\n\t\t\t\t\t\t\t\t\t'HdformatingFileKeyStr',\n\t\t\t\t\t\t\t\t\t'HdformatedFileVariable',\n\t\t\t\t\t\t\t\t\t'HdformatedConsoleStr'\n\t\t\t\t\t\t\t\t]\n\n\t#@Hooker.HookerClass(**{'HookingAfterVariablesList':[{'CallingVariable':BaseClass.__init__}]})\n\tdef default_init(self,\n\t\t\t_HdformatingModuleStr=\"tables\",\n\t\t\t_HdformatingFileKeyStr=\"\", \t\t\t\n\t\t\t_HdformatedFileVariable=None, \n\t\t\t_HdformatedFilePathStr=\"\",\t\t\n\t\t\t_HdformatedConsoleStr=\"\", \t\t\t\n\t\t\t**_KwargVariablesDict\n\t\t):\n\n\t\t#Call the parent __init__ method\n\t\tBaseClass.__init__(self,**_KwargVariablesDict)\n\n\t#@Alerter.AlerterClass()\t\t\n\t#@Switcher.SwitcherClass()\n\tdef do_hdformat(self):\n\n\t\t#debug\n\t\t'''\n\t\tself.debug(('self.',self,[\n\t\t\t\t\t\t\t\t\t'HdformatingFileKeyStr'\n\t\t\t\t\t\t\t\t]))\n\t\t'''\n\t\t\n\t\t#Check\n\t\tif self.HdformatedFileVariable==None:\n\n\t\t\t#folder first\n\t\t\tself.folder()\n\n\t\t\t#set\n\t\t\tself.HdformatedFilePathStr=self.FolderingPathStr+self.HdformatingFileKeyStr\n\t\t\t\n\t\t\t#Maybe we have to import\n\t\t\tif self.HdformatingModuleStr not in sys.modules:\n\n\t\t\t\t#debug\n\t\t\t\t'''\n\t\t\t\tself.debug('We import first the hdf module')\n\t\t\t\t'''\n\n\t\t\t\t#Import\n\t\t\t\timportlib.import_module(self.HdformatingModuleStr)\n\n\t\t\t#Check\n\t\t\tif self.HdformatingFileKeyStr!=\"\":\n\n\t\t\t\t#Check for first write\n\t\t\t\tif os.path.isfile(self.HdformatedFilePathStr)==False:\n\n\t\t\t\t\t#debug\n\t\t\t\t\t'''\n\t\t\t\t\tself.debug('We create the file first')\n\t\t\t\t\t'''\n\n\t\t\t\t\t#Create the file \n\t\t\t\t\tself.HdformatedFileVariable=sys.modules[self.HdformatingModuleStr].File(\n\t\t\t\t\t\t\t\t\t\tself.HdformatedFilePathStr,'w')\n\t\t\t\t\t\t\n\t\t\t\t\t#Close it\n\t\t\t\t\tself.HdformatedFileVariable.close()\n\n\t\t\t\tif self.HdformatedFileVariable==None or ( \n\t\t\t\t\t(self.HdformatingModuleStr=='tables' and self.HdformatedFileVariable.isopen==0\n\t\t\t\t\t\t) or (self.HdformatingModuleStr=='h5py' and self.HdformatedFileVariable.mode=='c') ):\n\n\t\t\t\t\t#debug\n\t\t\t\t\t'''\n\t\t\t\t\tself.debug('We open the file')\n\t\t\t\t\t'''\n\n\t\t\t\t\t#Open the HdformatedFileVariable\n\t\t\t\t\tself.HdformatedFileVariable=sys.modules[self.HdformatingModuleStr].File(\n\t\t\t\t\t\tself.HdformatedFilePathStr,'r+')\n\n\t\t#Return self\n\t\t#return self\n\n\tdef hdfview(self):\n\n\t\t#debug\n\t\t'''\n\t\tself.debug(('self.',self,['HdformatingFilePathStr']))\n\t\t'''\n\n\t\tif self.HdformatedFilePathStr!=\"\":\n\t\t\n\t\t\t#set the HdformatedConsoleStr\n\t\t\tself.HdformatedConsoleStr=os.popen(\n\t\t\t\t\t\t\t\t\t\tSYS.h5lsPathStr+' -dlr '+self.HdformatedFilePathStr\n\t\t\t\t\t\t\t\t).read()\n\t\t\n\t\t#Return self\n\t\treturn self\n\n\tdef hdfclose(self):\n\n\t\t#Close the HdformatedFileVariable\n\t\tif self.HdformatedFileVariable!=None:\n\t\t\tself.HdformatedFileVariable.close()\n\n\t\t#Return self\n\t\treturn self\n\n#</DefineClass>\n\n\n```\n\n<small>\nView the Hdformater sources on <a href=\"https://github.com/Ledoux/ShareYourSystem/tree/master/Pythonlogy/ShareYourSystem/Interfacers/Hdformater\" target=\"_blank\">Github</a>\n</small>\n\n", 
          "cell_type": "markdown", 
          "prompt_number": 1, 
          "metadata": {
            "slideshow": {
              "slide_type": "subslide"
            }
          }
        }, 
        {
          "source": "\n<!---\nFrozenIsBool True\n-->\n\n##Example\n\nLet's create an empty class, which will automatically receive\nspecial attributes from the decorating ClassorClass,\nspecially the NameStr, that should be the ClassStr\nwithout the TypeStr in the end.", 
          "cell_type": "markdown", 
          "prompt_number": 2, 
          "metadata": {
            "slideshow": {
              "slide_type": "subslide"
            }
          }
        }, 
        {
          "cell_type": "code", 
          "prompt_number": 3, 
          "language": "python", 
          "input": [
            "\n", 
            "#ImportModules\n", 
            "import ShareYourSystem as SYS\n", 
            "from ShareYourSystem.Standards.Interfacers import Hdformater\n", 
            "\n", 
            "#Definition a Hdformater that writes an empty hdf file\n", 
            "MyHdformater=Hdformater.HdformaterClass().hdformat(\n", 
            "    _FileKeyStr='Hdformats.hdf5',\n", 
            "    **{\n", 
            "    'FolderingPathStr':Hdformater.LocalFolderPathStr\n", 
            "}\n", 
            ").hdfview().hdfclose()\n", 
            "\n", 
            "#Definition the AttestedStr\n", 
            "SYS._attest(\n", 
            "    [\n", 
            "        'MyHdformater.HdformatedConsoleStr is '+str(\n", 
            "            MyHdformater.HdformatedConsoleStr)\n", 
            "    ]\n", 
            ") \n", 
            "\n", 
            "#Print\n", 
            "\n", 
            "\n", 
            "\n", 
            "\n"
          ], 
          "outputs": [
            {
              "output_type": "stream", 
              "stream": "stdout", 
              "text": [
                "\n", 
                "\n", 
                "*****Start of the Attest *****\n", 
                "\n", 
                "MyHdformater.HdformatedConsoleStr is /                        Group\n", 
                "\n", 
                "\n", 
                "*****End of the Attest *****\n", 
                "\n", 
                "\n"
              ]
            }
          ], 
          "collapsed": false, 
          "metadata": {
            "slideshow": {
              "slide_type": "-"
            }
          }
        }
      ]
    }
  ], 
  "metadata": {
    "name": "", 
    "signature": ""
  }, 
  "nbformat_minor": 0
}