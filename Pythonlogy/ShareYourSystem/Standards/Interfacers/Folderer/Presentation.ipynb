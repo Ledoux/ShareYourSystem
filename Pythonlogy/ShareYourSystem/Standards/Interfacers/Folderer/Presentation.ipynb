{
  "nbformat": 3, 
  "worksheets": [
    {
      "cells": [
        {
          "source": "\n<!--\nFrozenIsBool False\n-->\n\n#Folderer\n\n##Doc\n----\n\n\n> \n> The Folderer is a quick object helping for getting the FolderedDirKeyStrsList\n> at a specified directory or in the current one by default\n> \n> \n\n----\n\n<small>\nView the Folderer notebook on [NbViewer](http://nbviewer.ipython.org/url/shareyoursystem.ouvaton.org/Folderer.ipynb)\n</small>\n\n", 
          "cell_type": "markdown", 
          "prompt_number": 0, 
          "metadata": {
            "slideshow": {
              "slide_type": "slide"
            }
          }
        }, 
        {
          "source": "\n<!--\nFrozenIsBool False\n-->\n\n##Code\n\n----\n\n<ClassDocStr>\n\n----\n\n```python\n# -*- coding: utf-8 -*-\n\"\"\"\n\n\n<DefineSource>\n@Date : Fri Nov 14 13:20:38 2014 \\n\n@Author : Erwan Ledoux \\n\\n\n</DefineSource>\n\n\nThe Folderer is a quick object helping for getting the FolderedDirKeyStrsList\nat a specified directory or in the current one by default\n\n\"\"\"\n\n#<DefineAugmentation>\nimport ShareYourSystem as SYS\nBaseModuleStr=\"ShareYourSystem.Standards.Interfacers.Interfacer\"\nDecorationModuleStr=\"ShareYourSystem.Standards.Classors.Classer\"\nSYS.setSubModule(globals())\n#</DefineAugmentation>\n\n#<ImportSpecificModules>\nimport collections\nimport json\nimport os\nimport sys\n#</ImportSpecificModules>\n\n#<DefineClass>\n@DecorationClass()\nclass FoldererClass(BaseClass):\n\t\"\"\"\n\t\tFoldererClass ...\n\n\t\"\"\"\n\n\t#Definition\n\tRepresentingKeyStrsList=[\n\t\t\t\t\t\t\t\t\t'FolderingPathVariable',\n\t\t\t\t\t\t\t\t\t'FolderingMkdirBool',\n\t\t\t\t\t\t\t\t\t'FolderedDirKeyStrsList',\t\n\t\t\t\t\t\t\t\t\t'FolderedModuleStr',\n\t\t\t\t\t\t\t\t\t'FolderedParentModuleStr',\n\t\t\t\t\t\t\t\t\t'FolderedNameStr'\n\t\t\t\t\t\t\t\t]\n\n\tdef default_init(self,\n\t\t\t\t\t\t_FolderingPathVariable=\"\",\n\t\t\t\t\t\t_FolderingMkdirBool=False,\n\t\t\t\t\t\t_FolderedDirKeyStrsList=None,\t\n\t\t\t\t\t\t_FolderedModuleStr=\"\",\n\t\t\t\t\t\t_FolderedParentModuleStr=\"\",\n\t\t\t\t\t\t_FolderedNameStr=\"\",\n\t\t\t\t\t\t**_KwargVariablesDict\n\t\t\t\t\t):\n\n\t\t#Call the parent __init__ method\n\t\tBaseClass.__init__(self,**_KwargVariablesDict)\n\t\n\tdef do_folder(self,**_KwargVariablesDict):\n\n\t\t#Get the current\n\t\tFolderedCurrentPathStr=os.getcwd()\n\n\t\t#set\n\t\tif self.FolderingPathVariable==\"\":\n\t\t\tself.FolderingPathVariable=FolderedCurrentPathStr+'/'\n\n\t\t#debug\n\t\t'''\n\t\tprint('self.FolderingPathVariable is '+self.FolderingPathVariable)\n\t\tprint('FolderedCurrentPathStr is '+FolderedCurrentPathStr)\n\t\tprint('')\n\t\t'''\n\t\t\t\n\t\t#Check\n\t\tif self.FolderingPathVariable!=\"\":\n\n\t\t\t#Add the '/' if not in the end\n\t\t\tif self.FolderingPathVariable[-1]!=\"/\":\n\t\t\t\tself.FolderingPathVariable+=\"/\"\n\n\t\t\t#Build intermediar pathes\n\t\t\tif os.path.isdir(self.FolderingPathVariable)==False:\n\n\t\t\t\t#Check\n\t\t\t\tif self.FolderingMkdirBool:\n\n\t\t\t\t\t#debug\n\t\t\t\t\t'''\n\t\t\t\t\tprint('We are going to build the intermediar folder')\n\t\t\t\t\tprint('self.FolderingPathVariable is ',self.FolderingPathVariable)\n\t\t\t\t\tprint('')\n\t\t\t\t\t'''\n\n\t\t\t\t\t#Definition\n\t\t\t\t\tFolderingPathVariablesList=self.FolderingPathVariable.split('/')\n\t\t\t\t\tFolderedRootPathStr=FolderingPathVariablesList[0]\n\t\t\t\t\tfor _PathStr in FolderingPathVariablesList[1:]:\n\n\t\t\t\t\t\t#debug\n\t\t\t\t\t\t'''\n\t\t\t\t\t\tprint('FolderedRootPathStr is ',FolderedRootPathStr)\n\t\t\t\t\t\tprint('')\n\t\t\t\t\t\t'''\n\n\t\t\t\t\t\t#Mkdir if it doesn't exist\n\t\t\t\t\t\tif FolderedRootPathStr!=\"\" and os.path.isdir(FolderedRootPathStr)==False:\n\t\t\t\t\t\t\tos.popen('mkdir '+FolderedRootPathStr)\n\n\t\t\t\t\t\t#Add the following\n\t\t\t\t\t\tFolderedRootPathStr+='/'+_PathStr\n\n\t\t\t\t\t#Mkdir if it doesn't exist\n\t\t\t\t\tif os.path.isdir(FolderedRootPathStr)==False:\n\t\t\t\t\t\tos.popen('mkdir '+FolderedRootPathStr)\n\n\t\t#Recheck\n\t\tif os.path.isdir(self.FolderingPathVariable):\n\n\t\t\t#set\n\t\t\tself.FolderedDirKeyStrsList=os.listdir(self.FolderingPathVariable)\n\n\t\t\t#Check\n\t\t\tif '__init__.py' in self.FolderedDirKeyStrsList:\n\n\t\t\t\t#set maybe FolderedModuleStr and FolderedParentModuleStr if we are located in the SYS path\n\t\t\t\tif 'ShareYourSystem' in self.FolderingPathVariable:\n\n\t\t\t\t\t#set\n\t\t\t\t\tself.FolderedModuleStr='ShareYourSystem'+self.FolderingPathVariable.split(\n\t\t\t\t\t\t'ShareYourSystem')[-1].replace('/','.')\n\n\t\t\t\t\t#Remove the ossibly last dot\n\t\t\t\t\tif self.FolderedModuleStr[-1]=='.':\n\t\t\t\t\t\tself.FolderedModuleStr=self.FolderedModuleStr[:-1]\n\n\t\t\t\t\t#set\n\t\t\t\t\tif '.' in self.FolderedModuleStr:\n\n\t\t\t\t\t\t#set\n\t\t\t\t\t\tself.FolderedNameStr=self.FolderedModuleStr.split('.')[-1]\n\n\t\t\t\t\t\t#debug\n\t\t\t\t\t\t'''\n\t\t\t\t\t\tself.debug(('self.',self,['FolderingPathVariable','FolderedNameStr']))\n\t\t\t\t\t\t'''\n\t\t\t\t\t\t\n\t\t\t\t\t\t#set the parent\n\t\t\t\t\t\tself.FolderedParentModuleStr=self.FolderedNameStr.join(\n\t\t\t\t\t\t\tself.FolderedModuleStr.split(self.FolderedNameStr)[:-1]\n\t\t\t\t\t\t)\n\t\t\t\t\t\tif len(self.FolderedParentModuleStr\n\t\t\t\t\t\t\t)>0 and self.FolderedParentModuleStr[-1]=='.':\n\t\t\t\t\t\t\tself.FolderedParentModuleStr=self.FolderedParentModuleStr[:-1]\n\t\t\t\t\telse:\n\t\t\t\t\t\tself.FolderedModuleStr=self.FolderedModuleStr\n\n\t\t\telse:\n\n\t\t\t\t#set\n\t\t\t\tself.FolderedModuleStr=\"\"\n\t\t\t\tself.FolderedParentModuleStr=\"\"\n\n\t\t#Return self\n\t\t#return self\n\n#</DefineClass>\n\n```\n\n<small>\nView the Folderer sources on <a href=\"https://github.com/Ledoux/ShareYourSystem/tree/master/Pythonlogy/ShareYourSystem/Interfacers/Folderer\" target=\"_blank\">Github</a>\n</small>\n\n", 
          "cell_type": "markdown", 
          "prompt_number": 1, 
          "metadata": {
            "slideshow": {
              "slide_type": "subslide"
            }
          }
        }, 
        {
          "source": "\n<!---\nFrozenIsBool True\n-->\n\n##Example\n\nLet's create an empty class, which will automatically receive\nspecial attributes from the decorating ClassorClass,\nspecially the NameStr, that should be the ClassStr\nwithout the TypeStr in the end.\n", 
          "cell_type": "markdown", 
          "prompt_number": 2, 
          "metadata": {
            "slideshow": {
              "slide_type": "subslide"
            }
          }
        }, 
        {
          "cell_type": "code", 
          "prompt_number": 3, 
          "language": "python", 
          "input": [
            "#ImportModules\n", 
            "import ShareYourSystem as SYS\n", 
            "from ShareYourSystem.Standards.Interfacers import Folderer\n", 
            "\n", 
            "#Definition of an instance Folderer and make it find the current dir\n", 
            "MyFolderer=Folderer.FoldererClass(\n", 
            "    ).folder(\n", 
            "        Folderer.LocalFolderPathStr\n", 
            "    )\n", 
            "\n", 
            "#If you don't have these folder, MyFolderer is going to create them for you\n", 
            "MyFolderer=Folderer.FoldererClass(\n", 
            "    ).folder(\n", 
            "        MyFolderer.FolderingPathVariable+'TestFolder1/TestFolder2/',\n", 
            "        True\n", 
            "    )\n", 
            "\n", 
            "#Definition the AttestedStr\n", 
            "SYS._attest(\n", 
            "    [\n", 
            "        'MyFolderer is '+SYS._str(MyFolderer,\n", 
            "        **{'RepresentingAlineaIsBool':False})\n", 
            "    ]\n", 
            ") \n", 
            "\n", 
            "#Print\n", 
            "\n"
          ], 
          "outputs": [
            {
              "output_type": "stream", 
              "stream": "stdout", 
              "text": [
                "\n", 
                "\n", 
                "*****Start of the Attest *****\n", 
                "\n", 
                "MyFolderer is < (FoldererClass), 4554249424>\n", 
                "   /{ \n", 
                "   /  '<New><Instance>IdInt' : 4554249424\n", 
                "   /  '<Spe><Class>FolderedNameStr' : \n", 
                "   /  '<Spe><Instance>FolderedDirKeyStrsList' : []\n", 
                "   /  '<Spe><Instance>FolderedModuleStr' : \n", 
                "   /  '<Spe><Instance>FolderedParentModuleStr' : \n", 
                "   /  '<Spe><Instance>FolderingMkdirBool' : True\n", 
                "   /  '<Spe><Instance>FolderingPathVariable' : /Users/ledoux/Documents/ShareYourSystem/Pythonlogy/ShareYourSystem/Interfacers/Folderer/TestFolder1/TestFolder2/\n", 
                "   /}\n", 
                "\n", 
                "*****End of the Attest *****\n", 
                "\n", 
                "\n"
              ]
            }
          ], 
          "collapsed": false, 
          "metadata": {
            "slideshow": {
              "slide_type": "-"
            }
          }
        }
      ]
    }
  ], 
  "metadata": {
    "name": "", 
    "signature": ""
  }, 
  "nbformat_minor": 0
}