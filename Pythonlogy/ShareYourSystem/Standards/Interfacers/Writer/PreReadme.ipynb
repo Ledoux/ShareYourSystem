{
  "nbformat": 3, 
  "worksheets": [
    {
      "cells": [
        {
          "source": "\n<!--\nFrozenIsBool False\n-->\n\n#Writer\n\n##Doc\n----\n\n\n> \n> The Writer is a quick object to write from a LoadedReadVariable.\n> \n> \n\n----\n\n<small>\nView the Writer notebook on [NbViewer](http://nbviewer.ipython.org/url/shareyoursystem.ouvaton.org/Writer.ipynb)\n</small>\n\n", 
          "cell_type": "markdown", 
          "prompt_number": 0, 
          "metadata": {
            "slideshow": {
              "slide_type": "slide"
            }
          }
        }, 
        {
          "source": "\n<!--\nFrozenIsBool False\n-->\n\n##Code\n\n----\n\n<ClassDocStr>\n\n----\n\n```python\n# -*- coding: utf-8 -*-\n\"\"\"\n\n\n<DefineSource>\n@Date : Fri Nov 14 13:20:38 2014 \\n\n@Author : Erwan Ledoux \\n\\n\n</DefineSource>\n\n\nThe Writer is a quick object to write from a LoadedReadVariable.\n\n\"\"\"\n\n#<DefineAugmentation>\nimport ShareYourSystem as SYS\nBaseModuleStr=\"ShareYourSystem.Standards.Interfacers.Loader\"\nDecorationModuleStr=\"ShareYourSystem.Standards.Classors.Classer\"\nSYS.setSubModule(globals())\n#</DefineAugmentation>\n\n#<ImportSpecificModules>\nimport json\nimport yaml\n#</ImportSpecificModules>\n\n#<DefineClass>\n@DecorationClass()\nclass WriterClass(BaseClass):\n\t\n\t#Definition\n\tRepresentingKeyStrsList=[\n\t\t\t\t\t\t\t\t\t'WritingStoreVariable',\n\t\t\t\t\t\t\t\t\t'WritingLoadBool'\n\t\t\t\t\t\t\t\t]\n\n\tdef default_init(self,\n\t\t\t\t\t\t_WritingStoreVariable=None,\n\t\t\t\t\t\t_WritingLoadBool=False,\n\t\t\t\t\t\t**_KwargVariablesDict\n\t\t\t\t\t):\n\n\t\t#Call the parent __init__ method\n\t\tBaseClass.__init__(self,**_KwargVariablesDict)\n\n\tdef do_write(self):\n\n\t\t#debug\n\t\t'''\n\t\tself.debug([\n\t\t\t\t\t\t('Before file'),\n\t\t\t\t\t\t('self.',self,[\n\t\t\t\t\t\t\t\t\t'FolderingPathStr',\n\t\t\t\t\t\t\t\t])\n\t\t\t\t])\n\t\t'''\n\n\t\t#file first\n\t\tself.file(_ModeStr='w')\n\n\t\t#debug\n\t\t'''\n\t\tself.debug([\n\t\t\t\t\t\t('After file'),\n\t\t\t\t\t\t('self.',self,[\n\t\t\t\t\t\t\t\t\t'FolderingPathStr',\n\t\t\t\t\t\t\t\t\t'WritingLoadBool'\n\t\t\t\t\t\t\t\t])\n\t\t\t\t])\n\t\t'''\n\n\t\t#Check\n\t\tif self.WritingLoadBool:\n\t\t\tself.WritingStoreVariable=self.LoadedReadVariable\n\n\t\t#debug\n\t\t'''\n\t\tself.debug(('self.',self,[\n\t\t\t\t\t\t\t\t\t'FiledFileVariable',\n\t\t\t\t\t\t\t\t\t'FolderingPathStr',\n\t\t\t\t\t\t\t\t\t'LoadingFormatStr',\n\t\t\t\t\t\t\t\t\t'WritingStoreVariable'\n\t\t\t\t\t\t\t\t]))\n\t\t'''\n\n\t\t#Check\n\t\tif self.LoadingFormatStr=='txt':\n\n\t\t\t#Read the FiledFileVariable\n\t\t\tself.FiledFileVariable.write(self.WritingStoreVariable)\n\n\t\telif self.LoadingFormatStr=='json':\n\n\t\t\t#debug\n\t\t\t'''\n\t\t\tself.debug(\n\t\t\t\t\t\t[\n\t\t\t\t\t\t\t'we write in json...',\n\t\t\t\t\t\t\t'json.dumps(self.WritingStoreVariable,indent=2) is '+str(json.dumps(self.WritingStoreVariable,indent=2))\n\t\t\t\t\t\t]\n\t\t\t\t)\n\t\t\t'''\n\t\t\t\n\t\t\t#Use the json decoder\n\t\t\tself.FiledFileVariable.write(\n\t\t\t\tjson.dumps(self.WritingStoreVariable,indent=2)\n\t\t\t)\n\n\t\telif self.LoadingFormatStr=='yaml':\n\n\t\t\t#debug\n\t\t\t'''\n\t\t\tprint('We yamelized !')\n\t\t\tprint('self.FiledFileVariable is ',self.FiledFileVariable)\n\t\t\tprint('self.WritingStoreVariable is ',self.WritingStoreVariable)\n\t\t\tprint('')\n\t\t\t'''\n\n\t\t\t#Use the json decoder\n\t\t\tself.FiledFileVariable.write(\n\t\t\t\tyaml.dump(self.WritingStoreVariable,indent=2)\n\t\t\t)\n\n\t\t#Return self\n\t\t#return self\n\t\n#</DefineClass>\n\n\n```\n\n<small>\nView the Writer sources on <a href=\"https://github.com/Ledoux/ShareYourSystem/tree/master/Pythonlogy/ShareYourSystem/Interfacers/Writer\" target=\"_blank\">Github</a>\n</small>\n\n", 
          "cell_type": "markdown", 
          "prompt_number": 1, 
          "metadata": {
            "slideshow": {
              "slide_type": "subslide"
            }
          }
        }, 
        {
          "source": "\n<!---\nFrozenIsBool True\n-->\n\n##Example\n\nLet's create an empty class, which will automatically receive\nspecial attributes from the decorating ClassorClass,\nspecially the NameStr, that should be the ClassStr\nwithout the TypeStr in the end.", 
          "cell_type": "markdown", 
          "prompt_number": 2, 
          "metadata": {
            "slideshow": {
              "slide_type": "subslide"
            }
          }
        }, 
        {
          "cell_type": "code", 
          "prompt_number": 3, 
          "language": "python", 
          "input": [
            "#ImportModules\n", 
            "import ShareYourSystem as SYS\n", 
            "from ShareYourSystem.Standards.Interfacers import Writer\n", 
            "\n", 
            "#Definition of an instance Writer and make it find the current dir\n", 
            "MyWriter=Writer.WriterClass().write(\"hello\",**{\n", 
            "    'FolderingPathStr':Writer.LocalFolderPathStr,\n", 
            "    'FilingKeyStr':'MyFile.txt',\n", 
            "    'FilingModeStr':'w'\n", 
            "    }\n", 
            ")\n", 
            "\n", 
            "#Definition the AttestedStr\n", 
            "SYS._attest(\n", 
            "    [\n", 
            "        'MyWriter is '+SYS._str(MyWriter)\n", 
            "    ]\n", 
            ") \n", 
            "\n", 
            "#Print\n", 
            "\n", 
            "\n"
          ], 
          "outputs": [
            {
              "output_type": "stream", 
              "stream": "stdout", 
              "text": [
                "\n", 
                "\n", 
                "*****Start of the Attest *****\n", 
                "\n", 
                "MyWriter is < (WriterClass), 4540432528>\n", 
                "   /{ \n", 
                "   /  '<New><Instance>IdInt' : 4540432528\n", 
                "   /  '<Spe><Class>WritingLoadBool' : False\n", 
                "   /  '<Spe><Instance>WritingStoreVariable' : hello\n", 
                "   /}\n", 
                "\n", 
                "*****End of the Attest *****\n", 
                "\n", 
                "\n"
              ]
            }
          ], 
          "collapsed": false, 
          "metadata": {
            "slideshow": {
              "slide_type": "-"
            }
          }
        }
      ]
    }
  ], 
  "metadata": {
    "name": "", 
    "signature": ""
  }, 
  "nbformat_minor": 0
}