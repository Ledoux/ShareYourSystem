{
  "nbformat": 3, 
  "worksheets": [
    {
      "cells": [
        {
          "source": "\n<!--\nFrozenIsBool False\n-->\n\n#Interfacer\n\n##Doc\n----\n\n\n> \n> The Interfacer\n> \n> \n\n----\n\n<small>\nView the Interfacer notebook on [NbViewer](http://nbviewer.ipython.org/url/shareyoursystem.ouvaton.org/Interfacer.ipynb)\n</small>\n\n", 
          "cell_type": "markdown", 
          "prompt_number": 0, 
          "metadata": {
            "slideshow": {
              "slide_type": "slide"
            }
          }
        }, 
        {
          "source": "\n<!--\nFrozenIsBool False\n-->\n\n##Code\n\n----\n\n<ClassDocStr>\n\n----\n\n```python\n# -*- coding: utf-8 -*-\n\"\"\"\n\n\n<DefineSource>\n@Date : Fri Nov 14 13:20:38 2014 \\n\n@Author : Erwan Ledoux \\n\\n\n</DefineSource>\n\n\nThe Interfacer\n\n\"\"\"\n\n#<DefineAugmentation>\nimport ShareYourSystem as SYS\nBaseModuleStr=\"ShareYourSystem.Standards.Objects.Rebooter\"\nDecorationModuleStr=\"ShareYourSystem.Standards.Classors.Classer\"\nSYS.setSubModule(globals())\n#</DefineAugmentation>\n\n#<ImportSpecificModules>\nimport os\n#</ImportSpecificModules>\n\n#<DefineLocals>\n#</DefineLocals>\n\n#<DefineClass>\n@DecorationClass()\nclass InterfacerClass(BaseClass):\n\t\n\t#Definition\n\tRepresentingKeyStrsList=[\n\t\t\t\t\t\t\t\t]\n\n\n\tdef default_init(self,\n\t\t\t\t\t\t**_KwargVariablesDict\n\t\t\t\t\t):\n\n\t\t#Call the parent __init__ method\n\t\tBaseClass.__init__(self,**_KwargVariablesDict)\n\n\t#@Argumenter.ArgumenterClass()\n\tdef do_interface(self,**_KwargVariablesDict):\n\n\t\tpass\n\n\t\t#Return self\n\t\t#return self\n\t\n#</DefineClass>\n\n\n```\n\n<small>\nView the Interfacer sources on <a href=\"https://github.com/Ledoux/ShareYourSystem/tree/master/Pythonlogy/ShareYourSystem/Interfacers/Interfacer\" target=\"_blank\">Github</a>\n</small>\n\n", 
          "cell_type": "markdown", 
          "prompt_number": 1, 
          "metadata": {
            "slideshow": {
              "slide_type": "subslide"
            }
          }
        }, 
        {
          "source": "\n<!---\nFrozenIsBool True\n-->\n\n##Example\n\nLet's create an empty class, which will automatically receive\nspecial attributes from the decorating ClassorClass,\nspecially the NameStr, that should be the ClassStr\nwithout the TypeStr in the end.", 
          "cell_type": "markdown", 
          "prompt_number": 2, 
          "metadata": {
            "slideshow": {
              "slide_type": "subslide"
            }
          }
        }, 
        {
          "cell_type": "code", 
          "prompt_number": 3, 
          "language": "python", 
          "input": [
            "#ImportModules\n", 
            "import ShareYourSystem as SYS\n", 
            "from ShareYourSystem.Standards.Interfacers import Interfacer\n", 
            "\n", 
            "#Definition \n", 
            "MyInterfacer=Interfacer.InterfacerClass()\n", 
            "\n", 
            "#Definition the AttestedStr\n", 
            "SYS._attest(\n", 
            "    [\n", 
            "        'MyInterfacer is '+SYS._str(\n", 
            "            MyInterfacer,\n", 
            "            **{\n", 
            "            'RepresentingAlineaIsBool':False\n", 
            "            })\n", 
            "    ]\n", 
            ") \n", 
            "\n", 
            "#Print\n", 
            "\n", 
            "\n"
          ], 
          "outputs": [
            {
              "output_type": "stream", 
              "stream": "stdout", 
              "text": [
                "\n", 
                "\n", 
                "*****Start of the Attest *****\n", 
                "\n", 
                "MyInterfacer is < (InterfacerClass), 4554249040>\n", 
                "   /{ \n", 
                "   /  '<New><Instance>IdInt' : 4554249040\n", 
                "   /}\n", 
                "\n", 
                "*****End of the Attest *****\n", 
                "\n", 
                "\n"
              ]
            }
          ], 
          "collapsed": false, 
          "metadata": {
            "slideshow": {
              "slide_type": "-"
            }
          }
        }, 
        {
          "source": "\n<!--\nFrozenIsBool False\n-->\n\n#Folderer\n\n##Doc\n----\n\n\n> \n> The Folderer is a quick object helping for getting the FolderedDirKeyStrsList\n> at a specified directory or in the current one by default\n> \n> \n\n----\n\n<small>\nView the Folderer notebook on [NbViewer](http://nbviewer.ipython.org/url/shareyoursystem.ouvaton.org/Folderer.ipynb)\n</small>\n\n", 
          "cell_type": "markdown", 
          "prompt_number": 4, 
          "metadata": {
            "slideshow": {
              "slide_type": "slide"
            }
          }
        }, 
        {
          "source": "\n<!--\nFrozenIsBool False\n-->\n\n##Code\n\n----\n\n<ClassDocStr>\n\n----\n\n```python\n# -*- coding: utf-8 -*-\n\"\"\"\n\n\n<DefineSource>\n@Date : Fri Nov 14 13:20:38 2014 \\n\n@Author : Erwan Ledoux \\n\\n\n</DefineSource>\n\n\nThe Folderer is a quick object helping for getting the FolderedDirKeyStrsList\nat a specified directory or in the current one by default\n\n\"\"\"\n\n#<DefineAugmentation>\nimport ShareYourSystem as SYS\nBaseModuleStr=\"ShareYourSystem.Standards.Interfacers.Interfacer\"\nDecorationModuleStr=\"ShareYourSystem.Standards.Classors.Classer\"\nSYS.setSubModule(globals())\n#</DefineAugmentation>\n\n#<ImportSpecificModules>\nimport collections\nimport json\nimport os\nimport sys\n#</ImportSpecificModules>\n\n#<DefineClass>\n@DecorationClass()\nclass FoldererClass(BaseClass):\n\t\"\"\"\n\t\tFoldererClass ...\n\n\t\"\"\"\n\n\t#Definition\n\tRepresentingKeyStrsList=[\n\t\t\t\t\t\t\t\t\t'FolderingPathVariable',\n\t\t\t\t\t\t\t\t\t'FolderingMkdirBool',\n\t\t\t\t\t\t\t\t\t'FolderedDirKeyStrsList',\t\n\t\t\t\t\t\t\t\t\t'FolderedModuleStr',\n\t\t\t\t\t\t\t\t\t'FolderedParentModuleStr',\n\t\t\t\t\t\t\t\t\t'FolderedNameStr'\n\t\t\t\t\t\t\t\t]\n\n\tdef default_init(self,\n\t\t\t\t\t\t_FolderingPathVariable=\"\",\n\t\t\t\t\t\t_FolderingMkdirBool=False,\n\t\t\t\t\t\t_FolderedDirKeyStrsList=None,\t\n\t\t\t\t\t\t_FolderedModuleStr=\"\",\n\t\t\t\t\t\t_FolderedParentModuleStr=\"\",\n\t\t\t\t\t\t_FolderedNameStr=\"\",\n\t\t\t\t\t\t**_KwargVariablesDict\n\t\t\t\t\t):\n\n\t\t#Call the parent __init__ method\n\t\tBaseClass.__init__(self,**_KwargVariablesDict)\n\t\n\tdef do_folder(self,**_KwargVariablesDict):\n\n\t\t#Get the current\n\t\tFolderedCurrentPathStr=os.getcwd()\n\n\t\t#set\n\t\tif self.FolderingPathVariable==\"\":\n\t\t\tself.FolderingPathVariable=FolderedCurrentPathStr+'/'\n\n\t\t#debug\n\t\t'''\n\t\tprint('self.FolderingPathVariable is '+self.FolderingPathVariable)\n\t\tprint('FolderedCurrentPathStr is '+FolderedCurrentPathStr)\n\t\tprint('')\n\t\t'''\n\t\t\t\n\t\t#Check\n\t\tif self.FolderingPathVariable!=\"\":\n\n\t\t\t#Add the '/' if not in the end\n\t\t\tif self.FolderingPathVariable[-1]!=\"/\":\n\t\t\t\tself.FolderingPathVariable+=\"/\"\n\n\t\t\t#Build intermediar pathes\n\t\t\tif os.path.isdir(self.FolderingPathVariable)==False:\n\n\t\t\t\t#Check\n\t\t\t\tif self.FolderingMkdirBool:\n\n\t\t\t\t\t#debug\n\t\t\t\t\t'''\n\t\t\t\t\tprint('We are going to build the intermediar folder')\n\t\t\t\t\tprint('self.FolderingPathVariable is ',self.FolderingPathVariable)\n\t\t\t\t\tprint('')\n\t\t\t\t\t'''\n\n\t\t\t\t\t#Definition\n\t\t\t\t\tFolderingPathVariablesList=self.FolderingPathVariable.split('/')\n\t\t\t\t\tFolderedRootPathStr=FolderingPathVariablesList[0]\n\t\t\t\t\tfor _PathStr in FolderingPathVariablesList[1:]:\n\n\t\t\t\t\t\t#debug\n\t\t\t\t\t\t'''\n\t\t\t\t\t\tprint('FolderedRootPathStr is ',FolderedRootPathStr)\n\t\t\t\t\t\tprint('')\n\t\t\t\t\t\t'''\n\n\t\t\t\t\t\t#Mkdir if it doesn't exist\n\t\t\t\t\t\tif FolderedRootPathStr!=\"\" and os.path.isdir(FolderedRootPathStr)==False:\n\t\t\t\t\t\t\tos.popen('mkdir '+FolderedRootPathStr)\n\n\t\t\t\t\t\t#Add the following\n\t\t\t\t\t\tFolderedRootPathStr+='/'+_PathStr\n\n\t\t\t\t\t#Mkdir if it doesn't exist\n\t\t\t\t\tif os.path.isdir(FolderedRootPathStr)==False:\n\t\t\t\t\t\tos.popen('mkdir '+FolderedRootPathStr)\n\n\t\t#Recheck\n\t\tif os.path.isdir(self.FolderingPathVariable):\n\n\t\t\t#set\n\t\t\tself.FolderedDirKeyStrsList=os.listdir(self.FolderingPathVariable)\n\n\t\t\t#Check\n\t\t\tif '__init__.py' in self.FolderedDirKeyStrsList:\n\n\t\t\t\t#set maybe FolderedModuleStr and FolderedParentModuleStr if we are located in the SYS path\n\t\t\t\tif 'ShareYourSystem' in self.FolderingPathVariable:\n\n\t\t\t\t\t#set\n\t\t\t\t\tself.FolderedModuleStr='ShareYourSystem'+self.FolderingPathVariable.split(\n\t\t\t\t\t\t'ShareYourSystem')[-1].replace('/','.')\n\n\t\t\t\t\t#Remove the ossibly last dot\n\t\t\t\t\tif self.FolderedModuleStr[-1]=='.':\n\t\t\t\t\t\tself.FolderedModuleStr=self.FolderedModuleStr[:-1]\n\n\t\t\t\t\t#set\n\t\t\t\t\tif '.' in self.FolderedModuleStr:\n\n\t\t\t\t\t\t#set\n\t\t\t\t\t\tself.FolderedNameStr=self.FolderedModuleStr.split('.')[-1]\n\n\t\t\t\t\t\t#debug\n\t\t\t\t\t\t'''\n\t\t\t\t\t\tself.debug(('self.',self,['FolderingPathVariable','FolderedNameStr']))\n\t\t\t\t\t\t'''\n\t\t\t\t\t\t\n\t\t\t\t\t\t#set the parent\n\t\t\t\t\t\tself.FolderedParentModuleStr=self.FolderedNameStr.join(\n\t\t\t\t\t\t\tself.FolderedModuleStr.split(self.FolderedNameStr)[:-1]\n\t\t\t\t\t\t)\n\t\t\t\t\t\tif len(self.FolderedParentModuleStr\n\t\t\t\t\t\t\t)>0 and self.FolderedParentModuleStr[-1]=='.':\n\t\t\t\t\t\t\tself.FolderedParentModuleStr=self.FolderedParentModuleStr[:-1]\n\t\t\t\t\telse:\n\t\t\t\t\t\tself.FolderedModuleStr=self.FolderedModuleStr\n\n\t\t\telse:\n\n\t\t\t\t#set\n\t\t\t\tself.FolderedModuleStr=\"\"\n\t\t\t\tself.FolderedParentModuleStr=\"\"\n\n\t\t#Return self\n\t\t#return self\n\n#</DefineClass>\n\n```\n\n<small>\nView the Folderer sources on <a href=\"https://github.com/Ledoux/ShareYourSystem/tree/master/Pythonlogy/ShareYourSystem/Interfacers/Folderer\" target=\"_blank\">Github</a>\n</small>\n\n", 
          "cell_type": "markdown", 
          "prompt_number": 5, 
          "metadata": {
            "slideshow": {
              "slide_type": "subslide"
            }
          }
        }, 
        {
          "source": "\n<!---\nFrozenIsBool True\n-->\n\n##Example\n\nLet's create an empty class, which will automatically receive\nspecial attributes from the decorating ClassorClass,\nspecially the NameStr, that should be the ClassStr\nwithout the TypeStr in the end.\n", 
          "cell_type": "markdown", 
          "prompt_number": 6, 
          "metadata": {
            "slideshow": {
              "slide_type": "subslide"
            }
          }
        }, 
        {
          "cell_type": "code", 
          "prompt_number": 7, 
          "language": "python", 
          "input": [
            "#ImportModules\n", 
            "import ShareYourSystem as SYS\n", 
            "from ShareYourSystem.Standards.Interfacers import Folderer\n", 
            "\n", 
            "#Definition of an instance Folderer and make it find the current dir\n", 
            "MyFolderer=Folderer.FoldererClass(\n", 
            "    ).folder(\n", 
            "        Folderer.LocalFolderPathStr\n", 
            "    )\n", 
            "\n", 
            "#If you don't have these folder, MyFolderer is going to create them for you\n", 
            "MyFolderer=Folderer.FoldererClass(\n", 
            "    ).folder(\n", 
            "        MyFolderer.FolderingPathVariable+'TestFolder1/TestFolder2/',\n", 
            "        True\n", 
            "    )\n", 
            "\n", 
            "#Definition the AttestedStr\n", 
            "SYS._attest(\n", 
            "    [\n", 
            "        'MyFolderer is '+SYS._str(MyFolderer,\n", 
            "        **{'RepresentingAlineaIsBool':False})\n", 
            "    ]\n", 
            ") \n", 
            "\n", 
            "#Print\n", 
            "\n"
          ], 
          "outputs": [
            {
              "output_type": "stream", 
              "stream": "stdout", 
              "text": [
                "\n", 
                "\n", 
                "*****Start of the Attest *****\n", 
                "\n", 
                "MyFolderer is < (FoldererClass), 4554249424>\n", 
                "   /{ \n", 
                "   /  '<New><Instance>IdInt' : 4554249424\n", 
                "   /  '<Spe><Class>FolderedNameStr' : \n", 
                "   /  '<Spe><Instance>FolderedDirKeyStrsList' : []\n", 
                "   /  '<Spe><Instance>FolderedModuleStr' : \n", 
                "   /  '<Spe><Instance>FolderedParentModuleStr' : \n", 
                "   /  '<Spe><Instance>FolderingMkdirBool' : True\n", 
                "   /  '<Spe><Instance>FolderingPathVariable' : /Users/ledoux/Documents/ShareYourSystem/Pythonlogy/ShareYourSystem/Interfacers/Folderer/TestFolder1/TestFolder2/\n", 
                "   /}\n", 
                "\n", 
                "*****End of the Attest *****\n", 
                "\n", 
                "\n"
              ]
            }
          ], 
          "collapsed": false, 
          "metadata": {
            "slideshow": {
              "slide_type": "-"
            }
          }
        }, 
        {
          "source": "\n<!--\nFrozenIsBool False\n-->\n\n#Filer\n\n##Doc\n----\n\n\n> \n> The Filer is a quick object for opening a FiledHardVariable and safely using (read,write) \n> it depending on the FiledModeStr.\n> \n> \n\n----\n\n<small>\nView the Filer notebook on [NbViewer](http://nbviewer.ipython.org/url/shareyoursystem.ouvaton.org/Filer.ipynb)\n</small>\n\n", 
          "cell_type": "markdown", 
          "prompt_number": 8, 
          "metadata": {
            "slideshow": {
              "slide_type": "slide"
            }
          }
        }, 
        {
          "source": "\n<!--\nFrozenIsBool False\n-->\n\n##Code\n\n----\n\n<ClassDocStr>\n\n----\n\n```python\n# -*- coding: utf-8 -*-\n\"\"\"\n\n\n<DefineSource>\n@Date : Fri Nov 14 13:20:38 2014 \\n\n@Author : Erwan Ledoux \\n\\n\n</DefineSource>\n\n\nThe Filer is a quick object for opening a FiledHardVariable and safely using (read,write) \nit depending on the FiledModeStr.\n\n\"\"\"\n\n#<DefineAugmentation>\nimport ShareYourSystem as SYS\nBaseModuleStr=\"ShareYourSystem.Standards.Objects.Packager\"\nDecorationModuleStr=\"ShareYourSystem.Standards.Classors.Classer\"\nSYS.setSubModule(globals())\n#</DefineAugmentation>\n\n#<ImportSpecificModules>\nimport os\n#</ImportSpecificModules>\n\n#<DefineLocals>\nFilingOrderStr='_'\n#</DefineLocals>\n\n#<DefineClass>\n@DecorationClass()\nclass FilerClass(BaseClass):\n\t\n\t#Definition\n\tRepresentingKeyStrsList=[\n\t\t\t\t\t\t\t\t'FilingKeyStr',\n\t\t\t\t\t\t\t\t'FilingModeStr',\n\t\t\t\t\t\t\t\t'FiledPathStr',\n\t\t\t\t\t\t\t\t'FiledHardVariable'\n\t\t\t\t\t\t\t]\n\n\n\tdef default_init(self,\n\t\t\t\t\t\t_FilingKeyStr=\"\",\n\t\t\t\t\t\t_FilingModeStr='r',\n\t\t\t\t\t\t_FiledPathStr=\"\",\n\t\t\t\t\t\t_FiledHardVariable=None,\n\t\t\t\t\t\t**_KwargVariablesDict\n\t\t\t\t\t):\n\n\t\t#Call the parent __init__ method\n\t\tBaseClass.__init__(self,**_KwargVariablesDict)\n\n\t#@Argumenter.ArgumenterClass()\n\tdef do_file(self,**_KwargVariablesDict):\n\n\t\t#Call the folder method before\n\t\tself.folder()\n\n\t\t#debug\n\t\t'''\n\t\tself.debug(('self.',self,['FolderingPathVariable']))\n\t\t'''\n\n\t\t#set the FiledPathStr\n\t\tif self.FolderingPathVariable[-1]!='/':\n\t\t\tself.FolderingPathVariable=self.FolderingPathVariable+'/'\n\t\tself.FiledPathStr=self.FolderingPathVariable+self.FilingKeyStr\n\n\t\t#debug\n\t\t'''\n\t\tself.debug(('self.',self,['FilingKeyStr','FiledPathStr','FilingModeStr']))\n\t\t'''\n\n\t\t#Close before if we chaneg the mode\n\t\tif self.FiledHardVariable!=None:\n\n\t\t\t#Check\n\t\t\tif self.FiledHardVariable==self.FiledPathStr:\n\n\t\t\t\t#Return if it is the same mode already\n\t\t\t\tif self.FiledHardVariable.mode==self.FilingModeStr:\n\t\t\t\t\treturn self\n\n\t\t\t\t#Check\n\t\t\t\tif self.FiledHardVariable.mode!='c':\n\t\t\t\t\tif ('w' in self.FilingModeStr and self.FiledHardVariable.mode=='r'\n\t\t\t\t\t\t) or ('r'==self.FilingModeStr and 'w' in self.FiledHardVariable.mode):\n\t\t\t\t\t\tself.FiledHardVariable.close()\n\n\t\t\telse:\n\n\t\t\t\t#Close\n\t\t\t\tself.FiledHardVariable.close()\n\n\n\n\t\t#Open the self.FilePointer\n\t\tif self.FilingModeStr=='r' and os.path.isfile(self.FiledPathStr):\n\n\t\t\t#debug\n\t\t\t'''\n\t\t\tself.debug('Open the file for reading !')\n\t\t\t'''\n\n\t\t\t#Open\n\t\t\tself.FiledHardVariable=open(self.FiledPathStr,self.FilingModeStr)\n\n\t\telse:\n\n\t\t\t#debug\n\t\t\t'''\n\t\t\tself.debug('Open the file for writing !')\n\t\t\t'''\n\n\t\t\t#Open\n\t\t\tself.FiledHardVariable=open(self.FiledPathStr,self.FilingModeStr)\n\n\t\t#Return self\n\t\t#return self\n\t\n#</DefineClass>\n\n\n```\n\n<small>\nView the Filer sources on <a href=\"https://github.com/Ledoux/ShareYourSystem/tree/master/Pythonlogy/ShareYourSystem/Interfacers/Filer\" target=\"_blank\">Github</a>\n</small>\n\n", 
          "cell_type": "markdown", 
          "prompt_number": 9, 
          "metadata": {
            "slideshow": {
              "slide_type": "subslide"
            }
          }
        }, 
        {
          "source": "\n<!---\nFrozenIsBool True\n-->\n\n##Example\n\nLet's create an empty class, which will automatically receive\nspecial attributes from the decorating ClassorClass,\nspecially the NameStr, that should be the ClassStr\nwithout the TypeStr in the end.", 
          "cell_type": "markdown", 
          "prompt_number": 10, 
          "metadata": {
            "slideshow": {
              "slide_type": "subslide"
            }
          }
        }, 
        {
          "cell_type": "code", 
          "prompt_number": 11, 
          "language": "python", 
          "input": [
            "#ImportModules\n", 
            "import ShareYourSystem as SYS\n", 
            "from ShareYourSystem.Standards.Interfacers import Filer\n", 
            "\n", 
            "#Definition of an instance Filer and make it find the current dir\n", 
            "MyFiler=Filer.FilerClass().file('MyFile.txt','w',\n", 
            "    **{\n", 
            "    'FolderingPathVariable':\n", 
            "    Filer.LocalFolderPathStr\n", 
            "    }\n", 
            ")\n", 
            "\n", 
            "#close\n", 
            "MyFiler.FiledHardVariable.close()\n", 
            "\n", 
            "#Definition the AttestedStr\n", 
            "SYS._attest(\n", 
            "    [\n", 
            "        'MyFiler is '+SYS._str(MyFiler,\n", 
            "        **{'RepresentingAlineaIsBool':False})\n", 
            "    ]\n", 
            ") \n", 
            "\n", 
            "#Print\n", 
            "\n", 
            "\n"
          ], 
          "outputs": [
            {
              "output_type": "stream", 
              "stream": "stdout", 
              "text": [
                "\n", 
                "\n", 
                "*****Start of the Attest *****\n", 
                "\n", 
                "MyFiler is < (FilerClass), 4554249616>\n", 
                "   /{ \n", 
                "   /  '<New><Instance>IdInt' : 4554249616\n", 
                "   /  '<Spe><Instance>FiledHardVariable' : <closed file '/Users/ledoux/Documents/ShareYourSystem/Pythonlogy/ShareYourSystem/Interfacers/Filer/MyFile.txt', mode 'w' at 0x10e66b420>\n", 
                "   /  '<Spe><Instance>FiledPathStr' : /Users/ledoux/Documents/ShareYourSystem/Pythonlogy/ShareYourSystem/Interfacers/Filer/MyFile.txt\n", 
                "   /  '<Spe><Instance>FilingKeyStr' : MyFile.txt\n", 
                "   /  '<Spe><Instance>FilingModeStr' : w\n", 
                "   /}\n", 
                "\n", 
                "*****End of the Attest *****\n", 
                "\n", 
                "\n"
              ]
            }
          ], 
          "collapsed": false, 
          "metadata": {
            "slideshow": {
              "slide_type": "-"
            }
          }
        }, 
        {
          "source": "\n<!--\nFrozenIsBool False\n-->\n\n#Closer\n\n##Doc\n----\n\n\n> \n> The Closer\n> \n\n----\n\n<small>\nView the Closer notebook on [NbViewer](http://nbviewer.ipython.org/url/shareyoursystem.ouvaton.org/Closer.ipynb)\n</small>\n\n", 
          "cell_type": "markdown", 
          "prompt_number": 12, 
          "metadata": {
            "slideshow": {
              "slide_type": "slide"
            }
          }
        }, 
        {
          "source": "\n<!--\nFrozenIsBool False\n-->\n\n##Code\n\n----\n\n<ClassDocStr>\n\n----\n\n```python\n# -*- coding: utf-8 -*-\n\"\"\"\n\n\n<DefineSource>\n@Date : Fri Nov 14 13:20:38 2014 \\n\n@Author : Erwan Ledoux \\n\\n\n</DefineSource>\n\n\nThe Closer\n\"\"\"\n\n#<DefineAugmentation>\nimport ShareYourSystem as SYS\nBaseModuleStr=\"ShareYourSystem.Standards.Interfacers.Filer\"\nDecorationModuleStr=\"ShareYourSystem.Standards.Classors.Classer\"\nSYS.setSubModule(globals())\n#</DefineAugmentation>\n\n#<ImportSpecificModules>\n#</ImportSpecificModules>\n\n#<DefineDoStrsList>\nDoStrsList=[\"Closer\",\"Close\",\"Closing\",\"Closed\"]\n#<DefineDoStrsList>\n\n#<DefineClass>\n@DecorationClass()\nclass CloserClass(BaseClass):\n\t\n\t#Definition\n\tRepresentingKeyStrsList=[\n\t\t\t\t\t\t\t\t]\n\n\tdef default_init(self,\n\t\t\t\t\t\t**_KwargVariablesDict\n\t\t\t\t\t):\n\n\t\t#Call the parent __init__ method\n\t\tBaseClass.__init__(self,**_KwargVariablesDict)\n\n\tdef do_close(self):\n\n\t\t#close\n\t\tself.FiledHardVariable.close()\n\n\t\t#Return self\n\t\t#return self\n\t\n#</DefineClass>\n\n\n```\n\n<small>\nView the Closer sources on <a href=\"https://github.com/Ledoux/ShareYourSystem/tree/master/Pythonlogy/ShareYourSystem/Interfacers/Closer\" target=\"_blank\">Github</a>\n</small>\n\n", 
          "cell_type": "markdown", 
          "prompt_number": 13, 
          "metadata": {
            "slideshow": {
              "slide_type": "subslide"
            }
          }
        }, 
        {
          "source": "\n<!---\nFrozenIsBool True\n-->\n\n##Example\n\nLet's create an empty class, which will automatically receive\nspecial attributes from the decorating ClassorClass,\nspecially the NameStr, that should be the ClassStr\nwithout the TypeStr in the end.", 
          "cell_type": "markdown", 
          "prompt_number": 14, 
          "metadata": {
            "slideshow": {
              "slide_type": "subslide"
            }
          }
        }, 
        {
          "cell_type": "code", 
          "prompt_number": 15, 
          "language": "python", 
          "input": [
            "#ImportModules\n", 
            "import ShareYourSystem as SYS\n", 
            "from ShareYourSystem.Standards.Interfacers import Closer\n", 
            "\n", 
            "#Definition of an instance Closer and make it find the current dir\n", 
            "MyCloser=Closer.CloserClass().file('MyFile.txt','w').close()\n", 
            "\n", 
            "#Definition the AttestedStr\n", 
            "SYS._attest(\n", 
            "    [\n", 
            "        'MyCloser is '+SYS._str(\n", 
            "            MyCloser,\n", 
            "            **{\n", 
            "                'RepresentingAlineaIsBool':False\n", 
            "            }\n", 
            "        )\n", 
            "    ]\n", 
            ") \n", 
            "\n", 
            "#Print\n", 
            "\n", 
            "\n"
          ], 
          "outputs": [
            {
              "output_type": "stream", 
              "stream": "stdout", 
              "text": [
                "\n", 
                "\n", 
                "*****Start of the Attest *****\n", 
                "\n", 
                "MyCloser is < (CloserClass), 4554249360>\n", 
                "   /{ \n", 
                "   /  '<New><Instance>IdInt' : 4554249360\n", 
                "   /}\n", 
                "\n", 
                "*****End of the Attest *****\n", 
                "\n", 
                "\n"
              ]
            }
          ], 
          "collapsed": false, 
          "metadata": {
            "slideshow": {
              "slide_type": "-"
            }
          }
        }, 
        {
          "source": "\n<!--\nFrozenIsBool False\n-->\n\n#Loader\n\n##Doc\n----\n\n\n> \n> The Loader is a quick object to load from a FiledHardVariable a LoadedReadVariable\n> \n> \n\n----\n\n<small>\nView the Loader notebook on [NbViewer](http://nbviewer.ipython.org/url/shareyoursystem.ouvaton.org/Loader.ipynb)\n</small>\n\n", 
          "cell_type": "markdown", 
          "prompt_number": 16, 
          "metadata": {
            "slideshow": {
              "slide_type": "slide"
            }
          }
        }, 
        {
          "source": "\n<!--\nFrozenIsBool False\n-->\n\n##Code\n\n----\n\n<ClassDocStr>\n\n----\n\n```python\n# -*- coding: utf-8 -*-\n\"\"\"\n\n\n<DefineSource>\n@Date : Fri Nov 14 13:20:38 2014 \\n\n@Author : Erwan Ledoux \\n\\n\n</DefineSource>\n\n\nThe Loader is a quick object to load from a FiledHardVariable a LoadedReadVariable\n\n\"\"\"\n\n#<DefineAugmentation>\nimport ShareYourSystem as SYS\nBaseModuleStr=\"ShareYourSystem.Standards.Interfacers.Closer\"\nDecorationModuleStr=\"ShareYourSystem.Standards.Classors.Classer\"\nSYS.setSubModule(globals())\n#</DefineAugmentation>\n\n#<ImportSpecificModules>\nimport json\nimport yaml\n#</ImportSpecificModules>\n\n#<DefineClass>\n@DecorationClass()\nclass LoaderClass(BaseClass):\n\t\n\t#Definition\n\tRepresentingKeyStrsList=[\n\t\t\t\t\t\t\t\t\t'LoadingFormatStr',\n\t\t\t\t\t\t\t\t\t'LoadedReadVariable',\n\t\t\t\t\t\t\t\t\t'FiledHardVariable'\n\t\t\t\t\t\t\t\t]\n\n\tdef default_init(self,\n\t\t\t\t\t\t_LoadingFormatStr='txt',\n\t\t\t\t\t\t_LoadedReadVariable=None,\n\t\t\t\t\t\t_FiledHardVariable=None,\n\t\t\t\t\t\t**_KwargVariablesDict\n\t\t\t\t\t):\n\n\t\t#Call the parent __init__ method\n\t\tBaseClass.__init__(self,**_KwargVariablesDict)\n\n\tdef do_load(self,**_KwargVariablesDict):\n\n\t\t#debug\n\t\t'''\n\t\tself.debug(('self.',self,['LoadingFormatStr']))\n\t\t'''\n\n\t\t#file first\n\t\tself.file(_ModeStr='r')\n\n\t\t#Check\n\t\tif self.LoadingFormatStr=='txt':\n\n\t\t\t#Read the FiledHardVariable\n\t\t\tself.LoadedReadVariable=self.FiledHardVariable.read()\n\n\t\telif self.LoadingFormatStr=='json':\n\n\t\t\t#Use the json decoder\n\t\t\tself.LoadedReadVariable=json.load(self.FiledHardVariable)\n\n\t\telif self.LoadingFormatStr=='yaml':\n\n\t\t\t#Use the json decoder\n\t\t\tself.LoadedReadVariable=yaml.load(self.FiledHardVariable)\n\n\t\t#Return self\n\t\t#return self\n\t\n#</DefineClass>\n\n\n```\n\n<small>\nView the Loader sources on <a href=\"https://github.com/Ledoux/ShareYourSystem/tree/master/Pythonlogy/ShareYourSystem/Interfacers/Loader\" target=\"_blank\">Github</a>\n</small>\n\n", 
          "cell_type": "markdown", 
          "prompt_number": 17, 
          "metadata": {
            "slideshow": {
              "slide_type": "subslide"
            }
          }
        }, 
        {
          "source": "\n<!---\nFrozenIsBool True\n-->\n\n##Example\n\nLet's create an empty class, which will automatically receive\nspecial attributes from the decorating ClassorClass,\nspecially the NameStr, that should be the ClassStr\nwithout the TypeStr in the end.", 
          "cell_type": "markdown", 
          "prompt_number": 18, 
          "metadata": {
            "slideshow": {
              "slide_type": "subslide"
            }
          }
        }, 
        {
          "cell_type": "code", 
          "prompt_number": 19, 
          "language": "python", 
          "input": [
            "#ImportModules\n", 
            "import ShareYourSystem as SYS\n", 
            "from ShareYourSystem.Standards.Interfacers import Loader\n", 
            "\n", 
            "#Definition of an instance Loader and make it find the current dir\n", 
            "MyLoader=Loader.LoaderClass().file('MyFile.txt','w')\n", 
            "MyLoader.FiledHardVariable.write('hello')\n", 
            "MyLoader.FiledHardVariable.close()\n", 
            "MyLoader.load()\n", 
            "\n", 
            "#Definition the AttestedStr\n", 
            "SYS._attest(\n", 
            "    [\n", 
            "        'MyLoader is '+SYS._str(MyLoader,\n", 
            "            **{'RepresentingAlineaIsBool':False}\n", 
            "        )\n", 
            "    ]\n", 
            ") \n", 
            "\n", 
            "#Print\n", 
            "\n", 
            "\n"
          ], 
          "outputs": [
            {
              "output_type": "stream", 
              "stream": "stdout", 
              "text": [
                "\n", 
                "\n", 
                "*****Start of the Attest *****\n", 
                "\n", 
                "MyLoader is < (LoaderClass), 4554249552>\n", 
                "   /{ \n", 
                "   /  '<New><Instance>IdInt' : 4554249552\n", 
                "   /  '<Spe><Class>LoadingFormatStr' : txt\n", 
                "   /  '<Spe><Instance>LoadedReadVariable' : hello\n", 
                "   /}\n", 
                "\n", 
                "*****End of the Attest *****\n", 
                "\n", 
                "\n"
              ]
            }
          ], 
          "collapsed": false, 
          "metadata": {
            "slideshow": {
              "slide_type": "-"
            }
          }
        }, 
        {
          "source": "\n<!--\nFrozenIsBool False\n-->\n\n#Writer\n\n##Doc\n----\n\n\n> \n> The Writer is a quick object to write from a LoadedReadVariable.\n> \n> \n\n----\n\n<small>\nView the Writer notebook on [NbViewer](http://nbviewer.ipython.org/url/shareyoursystem.ouvaton.org/Writer.ipynb)\n</small>\n\n", 
          "cell_type": "markdown", 
          "prompt_number": 20, 
          "metadata": {
            "slideshow": {
              "slide_type": "slide"
            }
          }
        }, 
        {
          "source": "\n<!--\nFrozenIsBool False\n-->\n\n##Code\n\n----\n\n<ClassDocStr>\n\n----\n\n```python\n# -*- coding: utf-8 -*-\n\"\"\"\n\n\n<DefineSource>\n@Date : Fri Nov 14 13:20:38 2014 \\n\n@Author : Erwan Ledoux \\n\\n\n</DefineSource>\n\n\nThe Writer is a quick object to write from a LoadedReadVariable.\n\n\"\"\"\n\n#<DefineAugmentation>\nimport ShareYourSystem as SYS\nBaseModuleStr=\"ShareYourSystem.Standards.Interfacers.Loader\"\nDecorationModuleStr=\"ShareYourSystem.Standards.Classors.Classer\"\nSYS.setSubModule(globals())\n#</DefineAugmentation>\n\n#<ImportSpecificModules>\nimport json\nimport yaml\n#</ImportSpecificModules>\n\n#<DefineClass>\n@DecorationClass()\nclass WriterClass(BaseClass):\n\t\n\t#Definition\n\tRepresentingKeyStrsList=[\n\t\t\t\t\t\t\t\t\t'WritingStoreVariable',\n\t\t\t\t\t\t\t\t\t'WritingLoadBool'\n\t\t\t\t\t\t\t\t]\n\n\tdef default_init(self,\n\t\t\t\t\t\t_WritingStoreVariable=None,\n\t\t\t\t\t\t_WritingLoadBool=False,\n\t\t\t\t\t\t**_KwargVariablesDict\n\t\t\t\t\t):\n\n\t\t#Call the parent __init__ method\n\t\tBaseClass.__init__(self,**_KwargVariablesDict)\n\n\tdef do_write(self):\n\n\t\t#debug\n\t\t'''\n\t\tself.debug([\n\t\t\t\t\t\t('Before file'),\n\t\t\t\t\t\t('self.',self,[\n\t\t\t\t\t\t\t\t\t'FolderingPathVariable',\n\t\t\t\t\t\t\t\t])\n\t\t\t\t])\n\t\t'''\n\n\t\t#file first\n\t\tself.file(_ModeStr='w')\n\n\t\t#debug\n\t\t'''\n\t\tself.debug([\n\t\t\t\t\t\t('After file'),\n\t\t\t\t\t\t('self.',self,[\n\t\t\t\t\t\t\t\t\t'FolderingPathVariable',\n\t\t\t\t\t\t\t\t\t'WritingLoadBool'\n\t\t\t\t\t\t\t\t])\n\t\t\t\t])\n\t\t'''\n\n\t\t#Check\n\t\tif self.WritingLoadBool:\n\t\t\tself.WritingStoreVariable=self.LoadedReadVariable\n\n\t\t#debug\n\t\t'''\n\t\tself.debug(('self.',self,[\n\t\t\t\t\t\t\t\t\t'FiledHardVariable',\n\t\t\t\t\t\t\t\t\t'FolderingPathVariable',\n\t\t\t\t\t\t\t\t\t'LoadingFormatStr',\n\t\t\t\t\t\t\t\t\t'WritingStoreVariable'\n\t\t\t\t\t\t\t\t]))\n\t\t'''\n\n\t\t#Check\n\t\tif self.LoadingFormatStr=='txt':\n\n\t\t\t#Read the FiledHardVariable\n\t\t\tself.FiledHardVariable.write(self.WritingStoreVariable)\n\n\t\telif self.LoadingFormatStr=='json':\n\n\t\t\t#debug\n\t\t\t'''\n\t\t\tself.debug(\n\t\t\t\t\t\t[\n\t\t\t\t\t\t\t'we write in json...',\n\t\t\t\t\t\t\t'json.dumps(self.WritingStoreVariable,indent=2) is '+str(json.dumps(self.WritingStoreVariable,indent=2))\n\t\t\t\t\t\t]\n\t\t\t\t)\n\t\t\t'''\n\t\t\t\n\t\t\t#Use the json decoder\n\t\t\tself.FiledHardVariable.write(\n\t\t\t\tjson.dumps(self.WritingStoreVariable,indent=2)\n\t\t\t)\n\n\t\telif self.LoadingFormatStr=='yaml':\n\n\t\t\t#debug\n\t\t\t'''\n\t\t\tprint('We yamelized !')\n\t\t\tprint('self.FiledHardVariable is ',self.FiledHardVariable)\n\t\t\tprint('self.WritingStoreVariable is ',self.WritingStoreVariable)\n\t\t\tprint('')\n\t\t\t'''\n\n\t\t\t#Use the json decoder\n\t\t\tself.FiledHardVariable.write(\n\t\t\t\tyaml.dump(self.WritingStoreVariable,indent=2)\n\t\t\t)\n\n\t\t#Return self\n\t\t#return self\n\t\n#</DefineClass>\n\n\n```\n\n<small>\nView the Writer sources on <a href=\"https://github.com/Ledoux/ShareYourSystem/tree/master/Pythonlogy/ShareYourSystem/Interfacers/Writer\" target=\"_blank\">Github</a>\n</small>\n\n", 
          "cell_type": "markdown", 
          "prompt_number": 21, 
          "metadata": {
            "slideshow": {
              "slide_type": "subslide"
            }
          }
        }, 
        {
          "source": "\n<!---\nFrozenIsBool True\n-->\n\n##Example\n\nLet's create an empty class, which will automatically receive\nspecial attributes from the decorating ClassorClass,\nspecially the NameStr, that should be the ClassStr\nwithout the TypeStr in the end.", 
          "cell_type": "markdown", 
          "prompt_number": 22, 
          "metadata": {
            "slideshow": {
              "slide_type": "subslide"
            }
          }
        }, 
        {
          "cell_type": "code", 
          "prompt_number": 23, 
          "language": "python", 
          "input": [
            "#ImportModules\n", 
            "import ShareYourSystem as SYS\n", 
            "from ShareYourSystem.Standards.Interfacers import Writer\n", 
            "\n", 
            "#Definition of an instance Writer and make it find the current dir\n", 
            "MyWriter=Writer.WriterClass().write(\"hello\",**{\n", 
            "    'FolderingPathVariable':Writer.LocalFolderPathStr,\n", 
            "    'FilingKeyStr':'MyFile.txt',\n", 
            "    'FilingModeStr':'w'\n", 
            "    }\n", 
            ")\n", 
            "\n", 
            "#Definition the AttestedStr\n", 
            "SYS._attest(\n", 
            "    [\n", 
            "        'MyWriter is '+SYS._str(MyWriter)\n", 
            "    ]\n", 
            ") \n", 
            "\n", 
            "#Print\n", 
            "\n", 
            "\n"
          ], 
          "outputs": [
            {
              "output_type": "stream", 
              "stream": "stdout", 
              "text": [
                "\n", 
                "\n", 
                "*****Start of the Attest *****\n", 
                "\n", 
                "MyWriter is < (WriterClass), 4554250064>\n", 
                "   /{ \n", 
                "   /  '<New><Instance>IdInt' : 4554250064\n", 
                "   /  '<Spe><Class>WritingLoadBool' : False\n", 
                "   /  '<Spe><Instance>WritingStoreVariable' : hello\n", 
                "   /}\n", 
                "\n", 
                "*****End of the Attest *****\n", 
                "\n", 
                "\n"
              ]
            }
          ], 
          "collapsed": false, 
          "metadata": {
            "slideshow": {
              "slide_type": "-"
            }
          }
        }, 
        {
          "source": "\n<!--\nFrozenIsBool False\n-->\n\n#Deployer\n\n##Doc\n----\n\n\n> \n> The Deployer\n> \n> \n\n----\n\n<small>\nView the Deployer notebook on [NbViewer](http://nbviewer.ipython.org/url/shareyoursystem.ouvaton.org/Deployer.ipynb)\n</small>\n\n", 
          "cell_type": "markdown", 
          "prompt_number": 24, 
          "metadata": {
            "slideshow": {
              "slide_type": "slide"
            }
          }
        }, 
        {
          "source": "\n<!--\nFrozenIsBool False\n-->\n\n##Code\n\n----\n\n<ClassDocStr>\n\n----\n\n```python\n# -*- coding: utf-8 -*-\n\"\"\"\n\n\n<DefineSource>\n@Date : Fri Nov 14 13:20:38 2014 \\n\n@Author : Erwan Ledoux \\n\\n\n</DefineSource>\n\n\nThe Deployer\n\n\"\"\"\n\n#<DefineAugmentation>\nimport ShareYourSystem as SYS\nBaseModuleStr=\"ShareYourSystem.Standards.Interfacers.Capturer\"\nDecorationModuleStr=\"ShareYourSystem.Standards.Classors.Classer\"\nSYS.setSubModule(globals())\n#</DefineAugmentation>\n\n#<ImportSpecificModules>\nimport os\nimport ftplib\n#</ImportSpecificModules>\n\n#<DefineClass>\n@DecorationClass()\nclass DeployerClass(BaseClass):\n\t\n\t#Definition\n\tRepresentingKeyStrsList=[\n\t\t\t\t\t\t'DeployingUrlStr',\n\t\t\t\t\t\t'DeployingLoginStr',\n\t\t\t\t\t\t'DeployingPwdStr',\n\t\t\t\t\t\t'DeployingClientFilePathStrToServerFilePathStrOrderedDict',\n\t\t\t\t\t\t'DeployedFtplibVariable',\n\t\t\t\t\t\t'DeployedDirKeyStrsList'\n\t\t\t\t\t]\n\n\tdef default_init(self,\n\t\t\t\t\t\t_DeployingUrlStr=\"ftp.ouvaton.coop\",\n\t\t\t\t\t\t_DeployingLoginStr=\"shareyoursystemhz\",\n\t\t\t\t\t\t_DeployingPwdStr=\"share\",\n\t\t\t\t\t\t_DeployingClientFilePathStrToServerFilePathStrOrderedDict=None,\n\t\t\t\t\t\t_DeployedFtplibVariable=None,\n\t\t\t\t\t\t_DeployedDirKeyStrsList=None,\n\t\t\t\t\t\t**_KwargVariablesDict\n\t\t\t\t\t):\n\n\t\t#Call the parent __init__ method\n\t\tBaseClass.__init__(self,**_KwargVariablesDict)\n\t\n\tdef do_deploy(self):\n\t\t    \n\t\t#open and login\n\t\tself.DeployedFtplibVariable = ftplib.FTP(self.DeployingUrlStr);\n\t\tself.DeployedFtplibVariable.login(\n\t\t\tuser=self.DeployingLoginStr,\n\t\t\tpasswd=self.DeployingPwdStr\n\t\t);\n\n\t\t\"\"\"\n\t\t#delete all the files in the root folder\n\t\tself.DeployedFtplibVariable.cwd(self.DeployingServerFolderPathStr);\n\t\tfor __ListedVariable in self.DeployedFtplibVariable.nlst():\n\t\t    try:\n\t\t        self.DeployedFtplibVariable.delete(__ListedVariable);\n\t\t    except Exception:\n\t\t        self.DeployedFtplibVariable.rmd(__ListedVariable);\n\n\t\t#delete the dir and create a new one\n\t\ttry:\n\t\t    self.DeployedFtplibVariable.rmd(self.DeployingServerFolderPathStr);\n\t\texcept Exception:\n\t\t    pass;\n\t\tself.DeployedFtplibVariable.mkd(self.DeployingServerFolderPathStr);\n\t\t\"\"\"\n\n\t\t#debug\n\t\tself.debug(('self.',self,[\n\t\t\t\t\t\t\t\t\t'DeployingClientFilePathStrToServerFilePathStrOrderedDict'\n\t\t\t\t\t\t\t\t]))\n\n\t\t#store\n\t\tmap(\n\t\t\t\tlambda __DeployingClientFilePathStrToServerFilePathStrItemTuple:\n\t\t\t\tself.DeployedFtplibVariable.storbinary(\n\t\t\t\t\t'STOR '+__DeployingClientFilePathStrToServerFilePathStrItemTuple[1],\n\t\t\t\t\topen(\n\t\t\t    \t\t__DeployingClientFilePathStrToServerFilePathStrItemTuple[0], \n\t\t\t    \t\t'rb'\n\t\t\t    \t\t)\n\t\t\t\t),\n\t\t\t\tself.DeployingClientFilePathStrToServerFilePathStrOrderedDict.items()\n\t\t\t)\n\n\t\t#ls\n\t\tself.DeployedDirKeyStrsList=map(\n\t\t\tlambda __DeployingClientFilePathStrToServerFilePathStrItemTuple:\n\t\t\tself.DeployedFtplibVariable.nlst(\n\t\t\t\t__DeployingClientFilePathStrToServerFilePathStrItemTuple[1]\n\t\t\t),\n\t\t\tself.DeployingClientFilePathStrToServerFilePathStrOrderedDict.items()\n\t\t)\n\n\t\t#quit\n\t\tself.DeployedFtplibVariable.quit();\n\n#</DefineClass>\n\n```\n\n<small>\nView the Deployer sources on <a href=\"https://github.com/Ledoux/ShareYourSystem/tree/master/Pythonlogy/ShareYourSystem/Interfacers/Deployer\" target=\"_blank\">Github</a>\n</small>\n\n", 
          "cell_type": "markdown", 
          "prompt_number": 25, 
          "metadata": {
            "slideshow": {
              "slide_type": "subslide"
            }
          }
        }, 
        {
          "cell_type": "code", 
          "prompt_number": 26, 
          "language": "python", 
          "input": [
            "#ImportModules\n", 
            "import ShareYourSystem as SYS\n", 
            "\n", 
            "from ShareYourSystem.Standards.Interfacers import Folderer,Deployer\n", 
            "\n", 
            "#Definition a Deployer\n", 
            "try:\n", 
            "    MyDeployer=Deployer.DeployerClass().deploy()\n", 
            "except:\n", 
            "    MyDeployer=Deployer.DeployerClass()\n", 
            "\n", 
            "#Definition the AttestedStr\n", 
            "SYS._attest(\n", 
            "    [\n", 
            "        'MyDeployer is '+SYS._str(\n", 
            "        MyDeployer,\n", 
            "        **{\n", 
            "            'RepresentingBaseKeyStrsListBool':False,\n", 
            "            'RepresentingAlineaIsBool':False\n", 
            "        }\n", 
            "        )\n", 
            "    ]\n", 
            ")  \n", 
            "\n", 
            "#Print\n", 
            "\n", 
            "\n", 
            "\n", 
            "\n"
          ], 
          "outputs": [
            {
              "output_type": "stream", 
              "stream": "stdout", 
              "text": [
                "                    \n", 
                "                    xxxxxxxxxxxxxxxxxxxxxxxxxxxxxxxxxxxxxxxxxxxxxxxxxxxxxxxxxxxxxxxxxxxxxxxxxxxxxxxxxxxxxxxxxxxx\n", 
                "                    ////////////////////////////////\n", 
                "                    Deployer/__init__.py do_deploy\n", 
                "                    From Deployer/__init__.py do_deploy | site-packages/six.py exec_ | Celler/__init__.py do_cell | Notebooker/__init__.py do_notebook | Documenter/__init__.py do_inform | inform.py <module>\n", 
                "                    ////////////////////////////////\n", 
                "                    \n", 
                "                    l.82 : \n", 
                "                    *****\n", 
                "                    I am with []\n", 
                "                    *****\n", 
                "                    self.DeployingClientFilePathStrToServerFilePathStrOrderedDict is \n", 
                "                       /{ \n", 
                "                       /}\n", 
                "                    \n", 
                "                    xxxxxxxxxxxxxxxxxxxxxxxxxxxxxxxxxxxxxxxxxxxxxxxxxxxxxxxxxxxxxxxxxxxxxxxxxxxxxxxxxxxxxxxxxxxx\n", 
                "                                        \n", 
                "\n", 
                "\n", 
                "*****Start of the Attest *****\n", 
                "\n", 
                "MyDeployer is < (DeployerClass), 4554249168>\n", 
                "   /{ \n", 
                "   /  '<New><Instance>IdInt' : 4554249168\n", 
                "   /  '<Spe><Class>DeployingLoginStr' : shareyoursystemhz\n", 
                "   /  '<Spe><Class>DeployingPwdStr' : share\n", 
                "   /  '<Spe><Class>DeployingUrlStr' : ftp.ouvaton.coop\n", 
                "   /  '<Spe><Instance>DeployedDirKeyStrsList' : []\n", 
                "   /  '<Spe><Instance>DeployedFtplibVariable' : <ftplib.FTP instance at 0x10f748710>\n", 
                "   /  '<Spe><Instance>DeployingClientFilePathStrToServerFilePathStrOrderedDict' : \n", 
                "   /   /{ \n", 
                "   /   /}\n", 
                "   /}\n", 
                "\n", 
                "*****End of the Attest *****\n", 
                "\n", 
                "\n"
              ]
            }
          ], 
          "collapsed": false, 
          "metadata": {
            "slideshow": {
              "slide_type": "subslide"
            }
          }
        }, 
        {
          "source": "\n<!--\nFrozenIsBool False\n-->\n\n#Hdformater\n\n##Doc\n----\n\n\n> \n> An Hdformater instance maps an apply and so \"grinds\" a MappingArgDictsList \n> to a method.\n> \n> \n\n----\n\n<small>\nView the Hdformater notebook on [NbViewer](http://nbviewer.ipython.org/url/shareyoursystem.ouvaton.org/Hdformater.ipynb)\n</small>\n\n", 
          "cell_type": "markdown", 
          "prompt_number": 27, 
          "metadata": {
            "slideshow": {
              "slide_type": "slide"
            }
          }
        }, 
        {
          "source": "\n<!--\nFrozenIsBool False\n-->\n\n##Code\n\n----\n\n<ClassDocStr>\n\n----\n\n```python\n# -*- coding: utf-8 -*-\n\"\"\"\n\n\n<DefineSource>\n@Date : Fri Nov 14 13:20:38 2014 \\n\n@Author : Erwan Ledoux \\n\\n\n</DefineSource>\n\n\nAn Hdformater instance maps an apply and so \"grinds\" a MappingArgDictsList \nto a method.\n\n\"\"\"\n\n#<DefineAugmentation>\nimport ShareYourSystem as SYS\nBaseModuleStr=\"ShareYourSystem.Standards.Interfacers.Writer\"\nDecorationModuleStr=\"ShareYourSystem.Standards.Classors.Classer\"\nSYS.setSubModule(globals())\n#</DefineAugmentation>\n\n#<ImportSpecificModules>\nimport collections\nimport importlib\nimport os\nimport sys\n#from ShareYourSystem.Functers import Alerter\n#</ImportSpecificModules>\n\n#<DefineClass>\n@DecorationClass(**{'SwitchingUnboundMethodStr':'hdformat'})\nclass HdformaterClass(BaseClass):\n\t\n\t#Definition\n\tRepresentingKeyStrsList=[\n\t\t\t\t\t\t\t\t\t'HdformatingModuleStr',\n\t\t\t\t\t\t\t\t\t'HdformatingFileKeyStr',\n\t\t\t\t\t\t\t\t\t'HdformatedFileVariable',\n\t\t\t\t\t\t\t\t\t'HdformatedConsoleStr'\n\t\t\t\t\t\t\t\t]\n\n\t#@Hooker.HookerClass(**{'HookingAfterVariablesList':[{'CallingVariable':BaseClass.__init__}]})\n\tdef default_init(self,\n\t\t\t_HdformatingModuleStr=\"tables\",\n\t\t\t_HdformatingFileKeyStr=\"\", \t\t\t\n\t\t\t_HdformatedFileVariable=None, \n\t\t\t_HdformatedFilePathStr=\"\",\t\t\n\t\t\t_HdformatedConsoleStr=\"\", \t\t\t\n\t\t\t**_KwargVariablesDict\n\t\t):\n\n\t\t#Call the parent __init__ method\n\t\tBaseClass.__init__(self,**_KwargVariablesDict)\n\n\t#@Alerter.AlerterClass()\t\t\n\t#@Switcher.SwitcherClass()\n\tdef do_hdformat(self):\n\n\t\t#debug\n\t\t'''\n\t\tself.debug(('self.',self,[\n\t\t\t\t\t\t\t\t\t'HdformatingFileKeyStr'\n\t\t\t\t\t\t\t\t]))\n\t\t'''\n\t\t\n\t\t#Check\n\t\tif self.HdformatedFileVariable==None:\n\n\t\t\t#folder first\n\t\t\tself.folder()\n\n\t\t\t#set\n\t\t\tself.HdformatedFilePathStr=self.FolderingPathVariable+self.HdformatingFileKeyStr\n\t\t\t\n\t\t\t#Maybe we have to import\n\t\t\tif self.HdformatingModuleStr not in sys.modules:\n\n\t\t\t\t#debug\n\t\t\t\t'''\n\t\t\t\tself.debug('We import first the hdf module')\n\t\t\t\t'''\n\n\t\t\t\t#Import\n\t\t\t\timportlib.import_module(self.HdformatingModuleStr)\n\n\t\t\t#Check\n\t\t\tif self.HdformatingFileKeyStr!=\"\":\n\n\t\t\t\t#Check for first write\n\t\t\t\tif os.path.isfile(self.HdformatedFilePathStr)==False:\n\n\t\t\t\t\t#debug\n\t\t\t\t\t'''\n\t\t\t\t\tself.debug('We create the file first')\n\t\t\t\t\t'''\n\n\t\t\t\t\t#Create the file \n\t\t\t\t\tself.HdformatedFileVariable=sys.modules[self.HdformatingModuleStr].File(\n\t\t\t\t\t\t\t\t\t\tself.HdformatedFilePathStr,'w')\n\t\t\t\t\t\t\n\t\t\t\t\t#Close it\n\t\t\t\t\tself.HdformatedFileVariable.close()\n\n\t\t\t\tif self.HdformatedFileVariable==None or ( \n\t\t\t\t\t(self.HdformatingModuleStr=='tables' and self.HdformatedFileVariable.isopen==0\n\t\t\t\t\t\t) or (self.HdformatingModuleStr=='h5py' and self.HdformatedFileVariable.mode=='c') ):\n\n\t\t\t\t\t#debug\n\t\t\t\t\t'''\n\t\t\t\t\tself.debug('We open the file')\n\t\t\t\t\t'''\n\n\t\t\t\t\t#Open the HdformatedFileVariable\n\t\t\t\t\tself.HdformatedFileVariable=sys.modules[self.HdformatingModuleStr].File(\n\t\t\t\t\t\tself.HdformatedFilePathStr,'r+')\n\n\t\t#Return self\n\t\t#return self\n\n\tdef hdfview(self):\n\n\t\t#debug\n\t\t'''\n\t\tself.debug(('self.',self,['HdformatingFilePathStr']))\n\t\t'''\n\n\t\tif self.HdformatedFilePathStr!=\"\":\n\t\t\n\t\t\t#set the HdformatedConsoleStr\n\t\t\tself.HdformatedConsoleStr=os.popen(\n\t\t\t\t\t\t\t\t\t\tSYS.h5lsPathStr+' -dlr '+self.HdformatedFilePathStr\n\t\t\t\t\t\t\t\t).read()\n\t\t\n\t\t#Return self\n\t\treturn self\n\n\tdef hdfclose(self):\n\n\t\t#Close the HdformatedFileVariable\n\t\tif self.HdformatedFileVariable!=None:\n\t\t\tself.HdformatedFileVariable.close()\n\n\t\t#Return self\n\t\treturn self\n\n#</DefineClass>\n\n\n```\n\n<small>\nView the Hdformater sources on <a href=\"https://github.com/Ledoux/ShareYourSystem/tree/master/Pythonlogy/ShareYourSystem/Interfacers/Hdformater\" target=\"_blank\">Github</a>\n</small>\n\n", 
          "cell_type": "markdown", 
          "prompt_number": 28, 
          "metadata": {
            "slideshow": {
              "slide_type": "subslide"
            }
          }
        }, 
        {
          "source": "\n<!---\nFrozenIsBool True\n-->\n\n##Example\n\nLet's create an empty class, which will automatically receive\nspecial attributes from the decorating ClassorClass,\nspecially the NameStr, that should be the ClassStr\nwithout the TypeStr in the end.", 
          "cell_type": "markdown", 
          "prompt_number": 29, 
          "metadata": {
            "slideshow": {
              "slide_type": "subslide"
            }
          }
        }, 
        {
          "cell_type": "code", 
          "prompt_number": 30, 
          "language": "python", 
          "input": [
            "\n", 
            "#ImportModules\n", 
            "import ShareYourSystem as SYS\n", 
            "from ShareYourSystem.Standards.Interfacers import Hdformater\n", 
            "\n", 
            "#Definition a Hdformater that writes an empty hdf file\n", 
            "MyHdformater=Hdformater.HdformaterClass().hdformat(\n", 
            "    _FileKeyStr='Hdformats.hdf5',\n", 
            "    **{\n", 
            "    'FolderingPathVariable':Hdformater.LocalFolderPathStr\n", 
            "}\n", 
            ").hdfview().hdfclose()\n", 
            "\n", 
            "#Definition the AttestedStr\n", 
            "SYS._attest(\n", 
            "    [\n", 
            "        'MyHdformater.HdformatedConsoleStr is '+str(\n", 
            "            MyHdformater.HdformatedConsoleStr)\n", 
            "    ]\n", 
            ") \n", 
            "\n", 
            "#Print\n", 
            "\n", 
            "\n", 
            "\n", 
            "\n"
          ], 
          "outputs": [
            {
              "output_type": "stream", 
              "stream": "stdout", 
              "text": [
                "\n", 
                "\n", 
                "*****Start of the Attest *****\n", 
                "\n", 
                "MyHdformater.HdformatedConsoleStr is /                        Group\n", 
                "\n", 
                "\n", 
                "*****End of the Attest *****\n", 
                "\n", 
                "\n"
              ]
            }
          ], 
          "collapsed": false, 
          "metadata": {
            "slideshow": {
              "slide_type": "-"
            }
          }
        }, 
        {
          "source": "\n<!--\nFrozenIsBool False\n-->\n\n#Capturer\n\n##Doc\n----\n\n\n> \n> The Capturer\n> \n> \n\n----\n\n<small>\nView the Capturer notebook on [NbViewer](http://nbviewer.ipython.org/url/shareyoursystem.ouvaton.org/Capturer.ipynb)\n</small>\n\n", 
          "cell_type": "markdown", 
          "prompt_number": 31, 
          "metadata": {
            "slideshow": {
              "slide_type": "slide"
            }
          }
        }, 
        {
          "source": "\n<!--\nFrozenIsBool False\n-->\n\n##Code\n\n----\n\n<ClassDocStr>\n\n----\n\n```python\n# -*- coding: utf-8 -*-\n\"\"\"\n\n\n<DefineSource>\n@Date : Fri Nov 14 13:20:38 2014 \\n\n@Author : Erwan Ledoux \\n\\n\n</DefineSource>\n\n\nThe Capturer\n\n\"\"\"\n\n#<DefineAugmentation>\nimport ShareYourSystem as SYS\nBaseModuleStr=\"ShareYourSystem.Standards.Interfacers.Hdformater\"\nDecorationModuleStr=\"ShareYourSystem.Standards.Classors.Classer\"\nSYS.setSubModule(globals())\n#</DefineAugmentation>\n\n#<ImportSpecificModules>\nfrom cStringIO import StringIO\nimport sys\nimport copy\n#</ImportSpecificModules>\n\n#<DefineClass>\n@DecorationClass()\nclass CapturerClass(BaseClass):\n\t\n\t#Definition\n\tRepresentingKeyStrsList=[\n\t\t\t\t\t\t\t\t'CapturingStopBool',\n\t\t\t\t\t\t\t\t'CapturedStdoutVariable',\n\t\t\t\t\t\t\t\t'CapturedPrintStrsList'\n\t\t\t\t\t\t\t]\n\n\tdef default_init(self,\n\t\t\t\t\t\t_CapturingStopBool={\n\t\t\t\t\t\t\t\t'DefaultValueType':property,\n\t\t\t\t\t\t\t\t'PropertyInitVariable':False,\n\t\t\t\t\t\t\t\t'PropertyDocStr':''\n\t\t\t\t\t\t},\n\t\t\t\t\t\t_CapturedStdoutVariable=sys.stdout,\n\t\t\t\t\t\t_CapturedPrintStrsList=None,\n\t\t\t\t\t\t**_KwargVariablesDict\n\t\t\t\t\t):\n\n\t\t#Call the parent __init__ method\n\t\tBaseClass.__init__(self,**_KwargVariablesDict)\n\t\n\tdef setCapturingStopBool(self,_SettingValueVariable):\n\n\t\t#set\n\t\tself._CapturingStopBool=_SettingValueVariable\n\n\t\t#reset the CapturedStrsList\n\t\tif _SettingValueVariable:\n\n\t\t\t#Check\n\t\t\tif self.CapturedPrintStrsList!=None:\n\n\t\t\t\tif hasattr(sys.stdout,'getvalue'):\n\t\t\t\t\t\n\t\t\t\t\t#extend\n\t\t\t\t\tself.CapturedPrintStrsList.extend(\n\t\t\t\t\t\tsys.stdout.getvalue().splitlines()\n\t\t\t\t\t)\n\n\t\t\t#reset\n       \t\tsys.stdout = self.CapturedStdoutVariable\n\n\tdef do_capture(self):\n\n\t\t#debug\n\t\t'''\n\t\tself.debug('We capture here ')\n\t\t'''\n\n\t\t#set\n\t\tself.CapturedStdoutVariable = sys.stdout\n        \n\t\t#init\n\t\tsys.stdout = StringIO()\n\n\t\t#Return self\n\t\t#return self\n\n#</DefineClass>\n\n```\n\n<small>\nView the Capturer sources on <a href=\"https://github.com/Ledoux/ShareYourSystem/tree/master/Pythonlogy/ShareYourSystem/Interfacers/Capturer\" target=\"_blank\">Github</a>\n</small>\n\n", 
          "cell_type": "markdown", 
          "prompt_number": 32, 
          "metadata": {
            "slideshow": {
              "slide_type": "subslide"
            }
          }
        }, 
        {
          "source": "\n<!---\nFrozenIsBool True\n-->\n\n##Example\n\nLet's create an empty class, which will automatically receive\nspecial attributes from the decorating ClassorClass,\nspecially the NameStr, that should be the ClassStr\nwithout the TypeStr in the end.", 
          "cell_type": "markdown", 
          "prompt_number": 33, 
          "metadata": {
            "slideshow": {
              "slide_type": "subslide"
            }
          }
        }, 
        {
          "cell_type": "code", 
          "prompt_number": 34, 
          "language": "python", 
          "input": [
            "#ImportModules\n", 
            "import ShareYourSystem as SYS\n", 
            "from ShareYourSystem.Standards.Interfacers import Capturer\n", 
            "\n", 
            "#Definition a Capturer\n", 
            "MyCapturer=Capturer.CapturerClass().capture()\n", 
            "print('Hello !')\n", 
            "print('Bonjour !')\n", 
            "MyCapturer.CapturingStopBool=True\n", 
            "print('Y a quelqu un?')\n", 
            "\n", 
            "#Definition the AttestedStr\n", 
            "SYS._attest(\n", 
            "    [\n", 
            "        'MyCapturer is '+SYS._str(\n", 
            "        MyCapturer,\n", 
            "        **{\n", 
            "            'RepresentingBaseKeyStrsListBool':False\n", 
            "        }\n", 
            "        )\n", 
            "    ]\n", 
            ")  \n", 
            "\n", 
            "#Print\n", 
            "\n", 
            "\n", 
            "\n", 
            "\n"
          ], 
          "outputs": [
            {
              "output_type": "stream", 
              "stream": "stdout", 
              "text": [
                "Y a quelqu un?\n", 
                "\n", 
                "\n", 
                "*****Start of the Attest *****\n", 
                "\n", 
                "MyCapturer is < (CapturerClass), 4554249360>\n", 
                "   /{ \n", 
                "   /  '<New><Instance>IdInt' : 4554249360\n", 
                "   /  '<New><Instance>_CapturingStopBool' : True\n", 
                "   /  '<Spe><Class>CapturingStopBool' : True\n", 
                "   /  '<Spe><Instance>CapturedPrintStrsList' : ['Hello !', 'Bonjour !']\n", 
                "   /  '<Spe><Instance>CapturedStdoutVariable' : <cStringIO.StringO object at 0x10f74d308>\n", 
                "   /}\n", 
                "\n", 
                "*****End of the Attest *****\n", 
                "\n", 
                "\n"
              ]
            }
          ], 
          "collapsed": false, 
          "metadata": {
            "slideshow": {
              "slide_type": "-"
            }
          }
        }, 
        {
          "source": "\n<!--\nFrozenIsBool False\n-->\n\n#Processer\n\n##Doc\n----\n\n\n> \n> The Processer\n> \n> \n\n----\n\n<small>\nView the Processer notebook on [NbViewer](http://nbviewer.ipython.org/url/shareyoursystem.ouvaton.org/Processer.ipynb)\n</small>\n\n", 
          "cell_type": "markdown", 
          "prompt_number": 35, 
          "metadata": {
            "slideshow": {
              "slide_type": "slide"
            }
          }
        }, 
        {
          "source": "\n<!--\nFrozenIsBool False\n-->\n\n##Code\n\n----\n\n<ClassDocStr>\n\n----\n\n```python\n# -*- coding: utf-8 -*-\n\"\"\"\n\n\n<DefineSource>\n@Date : Fri Nov 14 13:20:38 2014 \\n\n@Author : Erwan Ledoux \\n\\n\n</DefineSource>\n\n\nThe Processer\n\n\"\"\"\n\n#<DefineAugmentation>\nimport ShareYourSystem as SYS\nBaseModuleStr=\"ShareYourSystem.Standards.Interfacers.Capturer\"\nDecorationModuleStr=\"ShareYourSystem.Standards.Classors.Representer\"\nSYS.setSubModule(globals())\n#</DefineAugmentation>\n\n#<ImportSpecificModules>\nimport os\n#</ImportSpecificModules>\n\n#<DefineLocals>\nProcessingFileStr=\"ProcessTemp\"\n#</DefineLocals>\n\n#<DefineClass>\n@DecorationClass()\nclass ProcesserClass(BaseClass):\n\n\t#Definition\n\tRepresentingKeyStrsList=[\n\t\t\t\t\t\t\t\t'ProcessingBashStr',\n\t\t\t\t\t\t\t\t'ProcessedBashStr'\n\t\t\t\t\t\t\t]\n\t\n\tdef default_init(self,\n\t\t\t\t\t\t_ProcessingBashStr=\"\",\n\t\t\t\t\t\t_ProcessedBashStr=\"\",\n\t\t\t\t\t\t**_KwargVariablesDict\n\t\t\t\t\t):\n\t\t\n\t\t#Call the parent init method\n\t\tBaseClass.__init__(self,**_KwargVariablesDict)\n\t\t\n\t#<DefineDoMethod>\t\n\tdef do_process(self):\n\n\t\t#file\n\t\tself.file(ProcessingFileStr+'.sh','w')\n\n\t\t#Define\n\t\tProcessedBashPathStr=self.FolderingPathVariable+ProcessingFileStr+'.txt'\n\n\t\t#set\n\t\tself.ProcessedBashStr='OUTPUT=\"$('+self.ProcessingBashStr+')\"\\n'\n\t\tself.ProcessedBashStr+='echo \"${OUTPUT}\" > '+ProcessedBashPathStr\n\n\t\t#write\n\t\tself.FiledHardVariable.write(\n\t\t\tself.ProcessedBashStr\n\t\t)\n\t\tself.FiledHardVariable.close()\n\n\t\t#debug\n\t\t'''\n\t\tself.debug(('self.',self,[\n\t\t\t\t\t\t\t\t\t'FiledPathStr',\n\t\t\t\t\t\t\t\t]))\n\t\t'''\n\t\t\n\t\t#popen\n\t\tos.popen('sh '+self.FiledPathStr)\n\n\t\t#load\n\t\tself.ProcessedBashStr=self.load(\t\n\t\t\t\t\t**{\n\t\t\t\t\t\t'FilingKeyStr':ProcessingFileStr+'.txt',\n\t\t\t\t\t\t'FilingModeStr':'r'\n\t\t\t\t\t}\n\t\t\t\t).LoadedReadVariable\n\n#</DefineClass>\n\n\n```\n\n<small>\nView the Processer sources on <a href=\"https://github.com/Ledoux/ShareYourSystem/tree/master/Pythonlogy/ShareYourSystem/Interfacers/Processer\" target=\"_blank\">Github</a>\n</small>\n\n", 
          "cell_type": "markdown", 
          "prompt_number": 36, 
          "metadata": {
            "slideshow": {
              "slide_type": "subslide"
            }
          }
        }, 
        {
          "source": "\n<!---\nFrozenIsBool True\n-->\n\n##Example\n\nLet's create an empty class, which will automatically receive\nspecial attributes from the decorating ClassorClass,\nspecially the NameStr, that should be the ClassStr\nwithout the TypeStr in the end.", 
          "cell_type": "markdown", 
          "prompt_number": 37, 
          "metadata": {
            "slideshow": {
              "slide_type": "subslide"
            }
          }
        }, 
        {
          "cell_type": "code", 
          "prompt_number": 38, 
          "language": "python", 
          "input": [
            "#ImportModules\n", 
            "import ShareYourSystem as SYS\n", 
            "from ShareYourSystem.Standards.Interfacers import Processer\n", 
            "\n", 
            "#Definition of an instance Processer and make it print hello\n", 
            "MyProcesser=Processer.ProcesserClass().process('which python ',\n", 
            "    **{\n", 
            "    'FolderingPathVariable':Processer.LocalFolderPathStr\n", 
            "    }\n", 
            ")\n", 
            "    \n", 
            "#Definition the AttestedStr\n", 
            "SYS._attest(\n", 
            "    [\n", 
            "        'MyProcesser is '+SYS._str(MyProcesser)\n", 
            "    ]\n", 
            ") \n", 
            "\n", 
            "#Print\n", 
            "\n", 
            "\n"
          ], 
          "outputs": [
            {
              "output_type": "stream", 
              "stream": "stdout", 
              "text": [
                "\n", 
                "\n", 
                "*****Start of the Attest *****\n", 
                "\n", 
                "MyProcesser is < (ProcesserClass), 4554250704>\n", 
                "   /{ \n", 
                "   /  '<New><Instance>IdInt' : 4554250704\n", 
                "   /  '<Spe><Instance>ProcessedBashStr' : /usr/local/bin/python\n", 
                "\n", 
                "   /  '<Spe><Instance>ProcessingBashStr' : which python \n", 
                "   /}\n", 
                "\n", 
                "*****End of the Attest *****\n", 
                "\n", 
                "\n"
              ]
            }
          ], 
          "collapsed": false, 
          "metadata": {
            "slideshow": {
              "slide_type": "-"
            }
          }
        }, 
        {
          "source": "\n<!--\nFrozenIsBool False\n-->\n\n#Statuser\n\n##Doc\n----\n\n\n> \n> The Statuser\n> \n> \n\n----\n\n<small>\nView the Statuser notebook on [NbViewer](http://nbviewer.ipython.org/url/shareyoursystem.ouvaton.org/Statuser.ipynb)\n</small>\n\n", 
          "cell_type": "markdown", 
          "prompt_number": 39, 
          "metadata": {
            "slideshow": {
              "slide_type": "slide"
            }
          }
        }, 
        {
          "source": "\n<!--\nFrozenIsBool False\n-->\n\n##Code\n\n----\n\n<ClassDocStr>\n\n----\n\n```python\n# -*- coding: utf-8 -*-\n\"\"\"\n\n\n<DefineSource>\n@Date : Fri Nov 14 13:20:38 2014 \\n\n@Author : Erwan Ledoux \\n\\n\n</DefineSource>\n\n\nThe Statuser\n\n\"\"\"\n\n#<DefineAugmentation>\nimport ShareYourSystem as SYS\nBaseModuleStr=\"ShareYourSystem.Standards.Interfacers.Processer\"\nDecorationModuleStr=\"ShareYourSystem.Standards.Classors.Classer\"\nSYS.setSubModule(globals())\n#</DefineAugmentation>\n\n#<ImportSpecificModules>\nimport os\n#</ImportSpecificModules>\n\n#<DefineClass>\n@DecorationClass()\nclass StatuserClass(BaseClass):\n\t\n\t#Definition\n\tRepresentingKeyStrsList=[\n\t\t\t\t\t\t\t\t\t'StatusingProcessStr',\n\t\t\t\t\t\t\t\t\t'StatusedSnapshotStr',\n\t\t\t\t\t\t\t\t\t'StatusedLineStrsList',\n\t\t\t\t\t\t\t\t\t'StatusedIdStrsList'\n\t\t\t\t\t\t\t\t]\n\n\tdef default_init(self,\n\t\t\t\t\t\t_StatusingProcessStr=\"\",\n\t\t\t\t\t\t_StatusedSnapshotStr=\"\",\n\t\t\t\t\t\t_StatusedLineStrsList=None,\n\t\t\t\t\t\t_StatusedIdStrsList=None,\n\t\t\t\t\t\t**_KwargVariablesDict\n\t\t\t\t\t):\n\n\t\t#Call the parent __init__ method\n\t\tBaseClass.__init__(self,**_KwargVariablesDict)\n\t\n\tdef do_status(self):\n\n\t\t#Check\n\t\tif self.StatusingProcessStr!=\"\":\n\n\t\t\t#call\n\t\t\tself.StatusedSnapshotStr=self.process(\n\t\t\t\t\"ps -ef | grep \"+self.StatusingProcessStr\n\t\t\t).ProcessedBashStr\n\n\t\t\t#debug\n\t\t\t'''\n\t\t\tself.debug(('self.',self,['StatusedSnapshotStr']))\n\t\t\t'''\n\n\t\t\t#map\n\t\t\tself.StatusedLineStrsList=SYS._filter(\n\t\t\t\t\tlambda __LineStr:\n\t\t\t\t\tSYS.PythonPathStr in __LineStr,\n\t\t\t\t\tself.StatusedSnapshotStr.split('\\n')\n\t\t\t\t)\n\n\t\t\t#debug\n\t\t\t'''\n\t\t\tself.debug(('self.',self,['StatusedLineStrsList']))\n\t\t\t'''\n\n\t\t\t#call\n\t\t\tself.StatusedIdStrsList=map(\n\t\t\t\tlambda __LineStr:\n\t\t\t\t__LineStr.split()[1],\n\t\t\t\tself.StatusedLineStrsList\t\n\t\t\t)\n\n\t\t\t#debug\n\t\t\t'''\n\t\t\tself.debug(('self.',self,['StatusedIdStrsList']))\n\t\t\t'''\n\n\t\t#Return self\n\t\t#return self\n\n#</DefineClass>\n\n```\n\n<small>\nView the Statuser sources on <a href=\"https://github.com/Ledoux/ShareYourSystem/tree/master/Pythonlogy/ShareYourSystem/Interfacers/Statuser\" target=\"_blank\">Github</a>\n</small>\n\n", 
          "cell_type": "markdown", 
          "prompt_number": 40, 
          "metadata": {
            "slideshow": {
              "slide_type": "subslide"
            }
          }
        }, 
        {
          "cell_type": "code", 
          "prompt_number": 41, 
          "language": "python", 
          "input": [
            "#ImportModules\n", 
            "import ShareYourSystem as SYS\n", 
            "from ShareYourSystem.Standards.Interfacers import Statuser\n", 
            "import os\n", 
            "\n", 
            "#Definition a Statuser\n", 
            "MyStatuser=Statuser.StatuserClass().status('Python')\n", 
            "\n", 
            "#Definition the AttestedStr\n", 
            "SYS._attest(\n", 
            "    [\n", 
            "        'MyStatuser is '+SYS._str(\n", 
            "        MyStatuser,\n", 
            "        **{\n", 
            "            'RepresentingBaseKeyStrsListBool':False\n", 
            "        }\n", 
            "        )\n", 
            "    ]\n", 
            ")  \n", 
            "\n", 
            "#Print\n", 
            "\n", 
            "\n", 
            "\n"
          ], 
          "outputs": [
            {
              "output_type": "stream", 
              "stream": "stdout", 
              "text": [
                "\n", 
                "\n", 
                "*****Start of the Attest *****\n", 
                "\n", 
                "MyStatuser is < (StatuserClass), 4554248976>\n", 
                "   /{ \n", 
                "   /  '<New><Instance>IdInt' : 4554248976\n", 
                "   /  '<Spe><Instance>StatusedIdStrsList' : ['15410']\n", 
                "   /  '<Spe><Instance>StatusedLineStrsList' : ['  501 15410 12535   0  5:55PM ttys000    0:01.18 /usr/local/Cellar/python/2.7.9/Frameworks/Python.framework/Versions/2.7/Resources/Python.app/Contents/MacOS/Python inform.py']\n", 
                "   /  '<Spe><Instance>StatusedSnapshotStr' :   501 15410 12535   0  5:55PM ttys000    0:01.18 /usr/local/Cellar/python/2.7.9/Frameworks/Python.framework/Versions/2.7/Resources/Python.app/Contents/MacOS/Python inform.py\n", 
                "  501 16092 16090   0  5:56PM ttys000    0:00.00 grep Python\n", 
                "\n", 
                "   /  '<Spe><Instance>StatusingProcessStr' : Python\n", 
                "   /}\n", 
                "\n", 
                "*****End of the Attest *****\n", 
                "\n", 
                "\n"
              ]
            }
          ], 
          "collapsed": false, 
          "metadata": {
            "slideshow": {
              "slide_type": "subslide"
            }
          }
        }, 
        {
          "source": "\n<!--\nFrozenIsBool False\n-->\n\n#Killer\n\n##Doc\n----\n\n\n> \n> The Killer\n> \n> \n\n----\n\n<small>\nView the Killer notebook on [NbViewer](http://nbviewer.ipython.org/url/shareyoursystem.ouvaton.org/Killer.ipynb)\n</small>\n\n", 
          "cell_type": "markdown", 
          "prompt_number": 42, 
          "metadata": {
            "slideshow": {
              "slide_type": "slide"
            }
          }
        }, 
        {
          "source": "\n<!--\nFrozenIsBool False\n-->\n\n##Code\n\n----\n\n<ClassDocStr>\n\n----\n\n```python\n# -*- coding: utf-8 -*-\n\"\"\"\n\n\n<DefineSource>\n@Date : Fri Nov 14 13:20:38 2014 \\n\n@Author : Erwan Ledoux \\n\\n\n</DefineSource>\n\n\nThe Killer\n\n\"\"\"\n\n#<DefineAugmentation>\nimport ShareYourSystem as SYS\nBaseModuleStr=\"ShareYourSystem.Standards.Interfacers.Statuser\"\nDecorationModuleStr=\"ShareYourSystem.Standards.Classors.Classer\"\nSYS.setSubModule(globals())\n#</DefineAugmentation>\n\n#<ImportSpecificModules>\nimport os\n#</ImportSpecificModules>\n\n#<DefineDoStrsList>\nDoStrsList=[\"Killer\",\"Kill\",\"Killing\",\"Killed\"]\n#<DefineDoStrsList>\n\n#<DefineClass>\n@DecorationClass()\nclass KillerClass(BaseClass):\n\t\n\t#Definition\n\tRepresentingKeyStrsList=[\n\t\t\t\t\t\t\t]\n\n\tdef default_init(self,\n\t\t\t\t\t\t**_KwargVariablesDict\n\t\t\t\t\t):\n\n\t\t#Call the parent __init__ method\n\t\tBaseClass.__init__(self,**_KwargVariablesDict)\n\t\n\tdef do_kill(self):\n\n\t\t#first status\n\t\tself.status()\n\n\t\t#debug\n\t\t'''\n\t\tself.debug(('self.',self,['StatusedIdStrsList']))\n\t\t'''\n\t\t\n\t\t#map kill the other previous process\n\t\tif self.StatusingProcessStr=='Python' and len(self.StatusedIdStrsList)>1:\n\t\t\tmap(\n\t\t\t\tlambda __IdStr:\n\t\t\t\tos.popen(\"kill \"+__IdStr),\n\t\t\t\tsorted(self.StatusedIdStrsList)[:-1]\n\t\t\t)\n\n\t\t#Return self\n\t\t#return self\n\n#</DefineClass>\n\n```\n\n<small>\nView the Killer sources on <a href=\"https://github.com/Ledoux/ShareYourSystem/tree/master/Pythonlogy/ShareYourSystem/Interfacers/Killer\" target=\"_blank\">Github</a>\n</small>\n\n", 
          "cell_type": "markdown", 
          "prompt_number": 43, 
          "metadata": {
            "slideshow": {
              "slide_type": "subslide"
            }
          }
        }, 
        {
          "cell_type": "code", 
          "prompt_number": 44, 
          "language": "python", 
          "input": [
            "#ImportModules\n", 
            "import ShareYourSystem as SYS\n", 
            "from ShareYourSystem.Standards.Interfacers import Killer\n", 
            "\n", 
            "#Definition a Killer\n", 
            "MyKiller=Killer.KillerClass().kill(**{'StatusingProcessStr':\"Python\"})\n", 
            "\n", 
            "#Definition the AttestedStr\n", 
            "SYS._attest(\n", 
            "    [\n", 
            "        'MyKiller is '+SYS._str(\n", 
            "        MyKiller,\n", 
            "        **{\n", 
            "            'RepresentingBaseKeyStrsListBool':False,\n", 
            "            'RepresentingAlineaIsBool':False\n", 
            "        }\n", 
            "        )\n", 
            "    ]\n", 
            ")  \n", 
            "\n", 
            "#Print\n", 
            "\n", 
            "\n", 
            "\n", 
            "\n"
          ], 
          "outputs": [
            {
              "output_type": "stream", 
              "stream": "stdout", 
              "text": [
                "\n", 
                "\n", 
                "*****Start of the Attest *****\n", 
                "\n", 
                "MyKiller is < (KillerClass), 4554250064>\n", 
                "   /{ \n", 
                "   /  '<New><Instance>IdInt' : 4554250064\n", 
                "   /}\n", 
                "\n", 
                "*****End of the Attest *****\n", 
                "\n", 
                "\n"
              ]
            }
          ], 
          "collapsed": false, 
          "metadata": {
            "slideshow": {
              "slide_type": "subslide"
            }
          }
        }, 
        {
          "source": "\n<!--\nFrozenIsBool False\n-->\n\n#Directer\n\n##Doc\n----\n\n\n> \n> The Directer is a walker through the folders of the harddrive, \n> assuring a call of _DirectingCallbackFunction at each level.\n> \n> \n\n----\n\n<small>\nView the Directer notebook on [NbViewer](http://nbviewer.ipython.org/url/shareyoursystem.ouvaton.org/Directer.ipynb)\n</small>\n\n", 
          "cell_type": "markdown", 
          "prompt_number": 45, 
          "metadata": {
            "slideshow": {
              "slide_type": "slide"
            }
          }
        }, 
        {
          "source": "\n<!--\nFrozenIsBool False\n-->\n\n##Code\n\n----\n\n<ClassDocStr>\n\n----\n\n```python\n# -*- coding: utf-8 -*-\n\"\"\"\n\n\n<DefineSource>\n@Date : Fri Nov 14 13:20:38 2014 \\n\n@Author : Erwan Ledoux \\n\\n\n</DefineSource>\n\n\nThe Directer is a walker through the folders of the harddrive, \nassuring a call of _DirectingCallbackFunction at each level.\n\n\"\"\"\n\n#<DefineAugmentation>\nimport ShareYourSystem as SYS\nBaseModuleStr=\"ShareYourSystem.Standards.Interfacers.Killer\"\nDecorationModuleStr=\"ShareYourSystem.Standards.Classors.Classer\"\nSYS.setSubModule(globals())\n#</DefineAugmentation>\n\n#<ImportSpecificModules>\nimport os\nfrom ShareYourSystem.Functers import Argumenter\n#</ImportSpecificModules>\n\n#<DefineClass>\n@DecorationClass()\nclass DirecterClass(BaseClass):\n\t\n\t#Definition\n\tRepresentingKeyStrsList=[\n\t\t\t\t\t\t\t\t\t'DirectingCallbackFunction',\n\t\t\t\t\t\t\t\t\t'DirectingLiargVariablesList',\n\t\t\t\t\t\t\t\t\t'DirectingFilterFunctionPointer'\n\t\t\t\t\t\t\t\t]\n\n\tdef default_init(self,\n\t\t\t\t\t\t_DirectingCallbackFunction=None,\n\t\t\t\t\t\t_DirectingLiargVariablesList=None,\n\t\t\t\t\t\t_DirectingFilterFunctionPointer=None,\n\t\t\t\t\t\t**_KwargVariablesDict\n\t\t\t\t\t):\n\n\t\t#Call the parent __init__ method\n\t\tBaseClass.__init__(self,**_KwargVariablesDict)\n\n\t#@Argumenter.ArgumenterClass()\n\tdef do_direct(self):\n\n\t\t#Call the folder method before\n\t\tself.folder()\n\n\t\t#debug\n\t\t'''\n\t\tprint('Directer l.62')\n\t\tprint('self.FolderingPathVariable is ',self.FolderingPathVariable)\n\t\tprint('')\n\t\t'''\n\t\t\n\t\t#Definition the call back function if not already\n\t\tif self.DirectingCallbackFunction==None:\n\n\t\t\t#Definition a test function\n\t\t\tdef test(_LiargVariablesList,_FolderPathStr,_DirKeyStrsList):\n\t\t\t\tpass\n\t\t\t\tprint(_LiargVariablesList,_FolderPathStr,_DirKeyStrsList)\n\n\t\t\t#set\n\t\t\tself.DirectingCallbackFunction=test\n\n\t\t'''\n\t\t#Call the function\n\t\ttry:\n\t\t\tself.DirectingCallbackFunction(\n\t\t\t\t\t\t\t\tself.DirectingLiargVariablesList,\n\t\t\t\t\t\t\t\tself.FolderingPathVariable,\n\t\t\t\t\t\t\t\tself.FolderedDirKeyStrsList,\n\t\t\t\t\t\t\t\t**_KwargVariablesDict\n\t\t\t\t\t\t\t\t)\n\t\texcept:\n\t\t\tself.DirectingCallbackFunction(\n\t\t\t\t\t\t\t\tself.DirectingLiargVariablesList,\n\t\t\t\t\t\t\t\tself.FolderingPathVariable,\n\t\t\t\t\t\t\t\tself.FolderedDirKeyStrsList\n\t\t\t\t\t\t\t\t)\n\t\t'''\n\n\t\t#Walk with os\n\t\tos.path.walk(\n\t\t\t\t\t\tself.FolderingPathVariable,\n\t\t\t\t\t\tself.DirectingCallbackFunction,\n\t\t\t\t\t\tself.DirectingLiargVariablesList\n\t\t\t\t\t)\n\n\t\t\"\"\"\n\t\t#Do it Manually\n\n\t\t#Call the function\n\t\ttry:\n\t\t\tself.DirectingCallbackFunction(\n\t\t\t\t\t\t\t\tself.DirectingLiargVariablesList,\n\t\t\t\t\t\t\t\tself.FolderingPathVariable,\n\t\t\t\t\t\t\t\tself.FolderedDirKeyStrsList,\n\t\t\t\t\t\t\t\t**_KwargVariablesDict\n\t\t\t\t\t\t\t\t)\n\t\texcept:\n\t\t\tself.DirectingCallbackFunction(\n\t\t\t\t\t\t\t\tself.DirectingLiargVariablesList,\n\t\t\t\t\t\t\t\tself.FolderingPathVariable,\n\t\t\t\t\t\t\t\tself.FolderedDirKeyStrsList\n\t\t\t\t\t\t\t\t)\n\n\t\t#Filter the folders to walk\n\t\tDirectedFolderKeyStrsList=SYS._filter(\n\t\t\t\t\t\tlambda __FolderedDirKeyStr:\n\t\t\t\t\t\tos.path.isdir(self.FolderingPathVariable+__FolderedDirKeyStr),\n\t\t\t\t\t\tself.FolderedDirKeyStrsList\n\t\t\t)\n\n\t\t#debug\n\t\t'''\n\t\tprint('After first filter DirectedFolderKeyStrsList is ',DirectedFolderKeyStrsList)\n\t\tprint('')\n\t\t'''\n\n\t\t#Filter again maybe\n\t\tif self.DirectingFilterFunctionPointer!=None:\n\t\t\tDirectedFolderKeyStrsList=SYS._filter(\n\t\t\t\t\t\tlambda __DirectedFolderKeyStr:\n\t\t\t\t\t\tself.DirectingFilterFunctionPointer(\n\t\t\t\t\t\t\tself,__DirectedFolderKeyStr),\n\t\t\t\t\t\tDirectedFolderKeyStrsList\n\t\t\t)\n\n\t\t#debug\n\t\t'''\n\t\tprint('After second DirectedFolderKeyStrsList is ',DirectedFolderKeyStrsList)\n\t\tprint('')\n\t\t'''\n\n\t\t#Map a recursive direct\n\t\t'''\n\t\tmap(\t\n\t\t\t\tlambda __DirectedFolderKeyStr:\n\t\t\t\tself.__class__().direct(\n\t\t\t\t\t\t\t\tself.DirectingCallbackFunction,\n\t\t\t\t\t\t\t\tself.DirectingLiargVariablesList,\n\t\t\t\t\t\t\t\t**{\n\t\t\t\t\t\t\t\t'FolderingPathVariable':\n\t\t\t\t\t\t\t\t\tself.FolderingPathVariable+__DirectedFolderKeyStr+'/'\n\t\t\t\t\t\t\t\t}\n\t\t\t\t\t\t\t),\n\t\t\t\tDirectedFolderKeyStrsList\n\t\t\t)\n\t\t'''\n\n\t\t\"\"\"\n\n\t\t#Return self\n\t\t#return self\t\n\n#</DefineClass>\n\n\n```\n\n<small>\nView the Directer sources on <a href=\"https://github.com/Ledoux/ShareYourSystem/tree/master/Pythonlogy/ShareYourSystem/Interfacers/Directer\" target=\"_blank\">Github</a>\n</small>\n\n", 
          "cell_type": "markdown", 
          "prompt_number": 46, 
          "metadata": {
            "slideshow": {
              "slide_type": "subslide"
            }
          }
        }, 
        {
          "source": "\n<!---\nFrozenIsBool True\n-->\n\n##Example\n\nLet's create an empty class, which will automatically receive\nspecial attributes from the decorating ClassorClass,\nspecially the NameStr, that should be the ClassStr\nwithout the TypeStr in the end.", 
          "cell_type": "markdown", 
          "prompt_number": 47, 
          "metadata": {
            "slideshow": {
              "slide_type": "subslide"
            }
          }
        }, 
        {
          "cell_type": "code", 
          "prompt_number": 48, 
          "language": "python", 
          "input": [
            "\n", 
            "#ImportModules\n", 
            "import ShareYourSystem as SYS\n", 
            "from ShareYourSystem.Standards.Interfacers import Directer\n", 
            "import os\n", 
            "\n", 
            "#Definition an instance \n", 
            "MyDirecter=Directer.DirecterClass()\n", 
            "\n", 
            "#Direct for displaying folders\n", 
            "'''\n", 
            "MyDirecter.direct(\n", 
            "            lambda _LiargVariablesList,_FolderPathStr,_FileKeyStrsList:\n", 
            "            Representer._print(_LiargVariablesList[0]+_FolderPathStr),\n", 
            "            [\"_FolderPathStr is \"],\n", 
            "            **{'FolderingPathVariable':'/'.join(SYS.__file__.split('/')[:-1])}\n", 
            "        )\n", 
            "'''\n", 
            "\n", 
            "#Delete things\n", 
            "def delete(_LiargVariablesList,_FolderPathStr,_FileKeyStrsList):\n", 
            "    #os.popen('rm -r '+_FolderPathStr+'/Attests/')\n", 
            "    os.popen('rm '+_FolderPathStr+'/02_ClassCell.md')\n", 
            "    os.popen('rm '+_FolderPathStr+'/03_ClassCell.py')\n", 
            "    os.popen('rm '+_FolderPathStr+'/04_InstanceCell.md')\n", 
            "    os.popen('rm '+_FolderPathStr+'/05_InstanceCell.py')\n", 
            "def move(_LiargVariablesList,_FolderPathStr,_FileKeyStrsList):\n", 
            "    os.popen('mv '+_FolderPathStr+'/00_ExampleCell.md '+_FolderPathStr+'/00_ExampleDoc.md')\n", 
            "    os.popen('mv '+_FolderPathStr+'/01_ExampleCell.py '+_FolderPathStr+'/01_ExampleDoc.py')\n", 
            "\n", 
            "MyDirecter=Directer.DirecterClass().direct(\n", 
            "            delete,\n", 
            "            [],\n", 
            "            **{\n", 
            "                'FolderingPathVariable':\n", 
            "                SYS.ShareYourSystemLocalFolderPathStr+'/ShareYourSystem/Guiders/'\n", 
            "            }\n", 
            "        )\n", 
            "\n", 
            "#Definition the AttestedStr\n", 
            "SYS._attest(\n", 
            "    [\n", 
            "        'MyDirecter is '+SYS._str(\n", 
            "                MyDirecter,\n", 
            "                **{\n", 
            "                'RepresentingBaseKeyStrsListBool':False\n", 
            "                }\n", 
            "            )\n", 
            "    ]\n", 
            ") \n", 
            "\n", 
            "#Print\n", 
            "\n", 
            "\n"
          ], 
          "outputs": [
            {
              "output_type": "stream", 
              "stream": "stdout", 
              "text": [
                "\n", 
                "\n", 
                "*****Start of the Attest *****\n", 
                "\n", 
                "MyDirecter is < (DirecterClass), 4554096272>\n", 
                "   /{ \n", 
                "   /  '<New><Instance>IdInt' : 4554096272\n", 
                "   /  '<Spe><Class>DirectingFilterFunctionPointer' : None\n", 
                "   /  '<Spe><Instance>DirectingCallbackFunction' : <function delete at 0x10f74eed8>\n", 
                "   /  '<Spe><Instance>DirectingLiargVariablesList' : []\n", 
                "   /}\n", 
                "\n", 
                "*****End of the Attest *****\n", 
                "\n", 
                "\n"
              ]
            }
          ], 
          "collapsed": false, 
          "metadata": {
            "slideshow": {
              "slide_type": "-"
            }
          }
        }
      ]
    }
  ], 
  "metadata": {
    "name": "", 
    "signature": ""
  }, 
  "nbformat_minor": 0
}