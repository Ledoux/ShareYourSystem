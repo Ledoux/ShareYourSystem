{
  "nbformat": 3, 
  "worksheets": [
    {
      "cells": [
        {
          "source": "\n<!--\nFrozenIsBool False\n-->\n\n#Filer\n\n##Doc\n----\n\n\n> \n> The Filer is a quick object for opening a FiledHardVariable and safely using (read,write) \n> it depending on the FiledModeStr.\n> \n> \n\n----\n\n<small>\nView the Filer notebook on [NbViewer](http://nbviewer.ipython.org/url/shareyoursystem.ouvaton.org/Filer.ipynb)\n</small>\n\n", 
          "cell_type": "markdown", 
          "prompt_number": 0, 
          "metadata": {
            "slideshow": {
              "slide_type": "slide"
            }
          }
        }, 
        {
          "source": "\n<!---\nFrozenIsBool True\n-->\n\n##Example\n\nWe can load a file.", 
          "cell_type": "markdown", 
          "prompt_number": 1, 
          "metadata": {
            "slideshow": {
              "slide_type": "subslide"
            }
          }
        }, 
        {
          "source": "```python\n#ImportModules\nimport ShareYourSystem as SYS\n\n#Definition of an instance Filer and make it find the current dir\nMyFiler=SYS.FilerClass(\n    ).file(\n        'MyReadedFile.txt',\n        'w',\n        _WriteVariable='saluuut'\n    ).file(\n        _ModeStr='r'\n    ).file(\n        _ModeStr='c'\n    )\n\n#Definition the AttestedStr\nprint('MyFiler.FiledReadVariable is ')\nSYS._print(MyFiler.FiledReadVariable)\n\n\n\n\n```\n", 
          "cell_type": "markdown", 
          "metadata": {}
        }, 
        {
          "source": "```console\n>>>\nMyFiler.FiledReadVariable is \nsaluuut\n\n```\n", 
          "cell_type": "markdown", 
          "metadata": {}
        }, 
        {
          "source": "\n<!--\nFrozenIsBool False\n-->\n\n##Code\n\n----\n\n<ClassDocStr>\n\n<small>\nView the Filer sources on <a href=\"https://github.com/Ledoux/ShareYourSystem/tree/master/Pythonlogy/ShareYourSystem/Standards/Interfacers/Filer\" target=\"_blank\">Github</a>\n</small>\n\n----\n\n```python\n# -*- coding: utf-8 -*-\n\"\"\"\n\n\n<DefineSource>\n@Date : Fri Nov 14 13:20:38 2014 \\n\n@Author : Erwan Ledoux \\n\\n\n</DefineSource>\n\n\nThe Filer is a quick object for opening a FiledHardVariable and safely using (read,write) \nit depending on the FiledModeStr.\n\n\"\"\"\n\n#<DefineAugmentation>\nimport ShareYourSystem as SYS\nBaseModuleStr=\"ShareYourSystem.Standards.Interfacers.Folderer\"\nDecorationModuleStr=\"ShareYourSystem.Standards.Classors.Classer\"\nSYS.setSubModule(globals())\n#</DefineAugmentation>\n\n#<ImportSpecificModules>\nimport os\n#</ImportSpecificModules>\n\n#<DefineLocals>\nFilingOrderStr='_'\n#</DefineLocals>\n\n#<DefineClass>\n@DecorationClass()\nclass FilerClass(BaseClass):\n\n\tdef default_init(self,\n\t\t\t\t\t\t_FilingKeyStr=\"\",\n\t\t\t\t\t\t_FilingModeStr='r',\n\t\t\t\t\t\t_FilingFormatStr='txt',\n\t\t\t\t\t\t_FilingWriteVariable=None,\n\t\t\t\t\t\t_FiledPathStr=\"\",\n\t\t\t\t\t\t_FiledHardVariable=None,\n\t\t\t\t\t\t_FiledReadVariable=None,\n\t\t\t\t\t\t**_KwargVariablesDict\n\t\t\t\t\t):\n\n\t\t#Call the parent __init__ method\n\t\tBaseClass.__init__(self,**_KwargVariablesDict)\n\n\tdef do_file(self,**_KwargVariablesDict):\n\n\t\t#Check\n\t\tif self.FilingModeStr!='c':\n\n\t\t\t#/###################/#\n\t\t\t# First open the file\n\t\t\t#\n\n\t\t\t#Call the folder method before\n\t\t\tself.folder()\n\n\t\t\t#debug\n\t\t\t'''\n\t\t\tself.debug(('self.',self,['FolderedPathStr']))\n\t\t\t'''\n\n\t\t\t#set the FiledPathStr\n\t\t\tif self.FolderedPathStr[-1]!='/':\n\t\t\t\tself.FolderedPathStr=self.FolderedPathStr+'/'\n\t\t\tself.FiledPathStr=self.FolderedPathStr+self.FilingKeyStr\n\n\t\t\t#Check\n\t\t\tif '.' in self.FilingKeyStr:\n\t\t\t\tself.FilingFormatStr=self.FilingKeyStr.split('.')[-1]\n\n\t\t\t#debug\n\t\t\t'''\n\t\t\tself.debug(\n\t\t\t\t('self.',self,[\n\t\t\t\t\t\t'FilingKeyStr',\n\t\t\t\t\t\t'FiledPathStr',\n\t\t\t\t\t\t'FilingModeStr',\n\t\t\t\t\t\t'FilingFormatStr',\n\t\t\t\t\t\t'FiledHardVariable'\n\t\t\t\t\t])\n\t\t\t)\n\t\t\t'''\n\n\t\t\t#Close before if we chaneg the mode\n\t\t\tif self.FiledHardVariable!=None:\n\n\t\t\t\t#Check\n\t\t\t\tif self.FiledHardVariable==self.FiledPathStr:\n\n\t\t\t\t\t#Return if it is the same mode already\n\t\t\t\t\tif self.FiledHardVariable.mode==self.FilingModeStr:\n\t\t\t\t\t\treturn self\n\n\t\t\t\t\t#Check\n\t\t\t\t\tif self.FiledHardVariable.mode!='c':\n\t\t\t\t\t\tif ('w' in self.FilingModeStr and self.FiledHardVariable.mode=='r'\n\t\t\t\t\t\t\t) or ('r'==self.FilingModeStr and 'w' in self.FiledHardVariable.mode):\n\t\t\t\t\t\t\tself.FiledHardVariable.close()\n\n\t\t\t\telse:\n\n\t\t\t\t\t#Close\n\t\t\t\t\tself.FiledHardVariable.close()\n\n\n\t\t\t#Open the self.FilePointer\n\t\t\tif self.FilingModeStr=='r' and os.path.isfile(self.FiledPathStr):\n\n\t\t\t\t#debug\n\t\t\t\t'''\n\t\t\t\tself.debug('Open the file for reading !')\n\t\t\t\t'''\n\n\t\t\t\t#Open\n\t\t\t\tself.FiledHardVariable=open(self.FiledPathStr,self.FilingModeStr)\n\n\t\t\telse:\n\n\t\t\t\t#debug\n\t\t\t\t'''\n\t\t\t\tself.debug('Open the file for writing !')\n\t\t\t\t'''\n\n\t\t\t\t#Open\n\t\t\t\tself.FiledHardVariable=open(\n\t\t\t\t\tself.FiledPathStr,\n\t\t\t\t\tself.FilingModeStr\n\t\t\t\t)\n\n\t\t#Check\n\t\telse:\n\n\t\t\t#/###################/#\n\t\t\t# Case where we have to close\n\t\t\t#\n\n\t\t\t#close\n\t\t\tif self.FiledHardVariable!=None:\n\t\t\t\tself.FiledHardVariable.close()\n\n\t\t#/###################/#\n\t\t# Case where we have to write\n\t\t#\n\n\t\tif self.FilingModeStr=='w':\t\n\t\t\t\n\t\t\t#debug\n\t\t\t'''\n\t\t\tself.debug(\n\t\t\t\t\t[\n\t\t\t\t\t\t'We write here',\n\t\t\t\t\t\t('self.',self,[\n\t\t\t\t\t\t\t'FilingFormatStr',\n\t\t\t\t\t\t\t'FilingWriteVariable'\n\t\t\t\t\t\t])\n\t\t\t\t\t]\n\t\t\t\t)\n\t\t\t'''\n\n\t\t\t#Check\n\t\t\tif self.FilingFormatStr in [\n\t\t\t\t\t\t'md',\n\t\t\t\t\t\t'txt',\n\t\t\t\t\t\t'sh',\n\t\t\t\t\t]:\n\n\t\t\t\t#Check\n\t\t\t\tif self.FilingWriteVariable==None:\n\t\t\t\t\tself.FilingWriteVariable=\"\"\n\n\t\t\t\t#Read the FiledHardVariable\n\t\t\t\tself.FiledHardVariable.write(\n\t\t\t\t\tself.FilingWriteVariable\n\t\t\t\t)\n\n\t\t\telif self.FilingFormatStr in ['json','ipynb']:\n\n\t\t\t\t#import\n\t\t\t\timport json\n\t\t\t\t\n\t\t\t\t#debug\n\t\t\t\t'''\n\t\t\t\tself.debug(\n\t\t\t\t\t\t\t[\n\t\t\t\t\t\t\t\t'we write in json...',\n\t\t\t\t\t\t\t\t'json.dumps(self.FilingWriteVariable,indent=2) is '+str(json.dumps(self.FilingWriteVariable,indent=2))\n\t\t\t\t\t\t\t]\n\t\t\t\t\t)\n\t\t\t\t'''\n\t\t\t\t\n\t\t\t\t#Use the json decoder\n\t\t\t\tself.FiledHardVariable.write(\n\t\t\t\t\tjson.dumps(self.FilingWriteVariable,indent=2)\n\t\t\t\t)\n\n\t\t\telif self.FilingFormatStr=='yaml':\n\n\t\t\t\t#import\n\t\t\t\timport yaml\n\n\t\t\t\t#debug\n\t\t\t\t'''\n\t\t\t\tprint('We yamelized !')\n\t\t\t\tprint('self.FiledHardVariable is ',self.FiledHardVariable)\n\t\t\t\tprint('self.FilingWriteVariable is ',self.FilingWriteVariable)\n\t\t\t\tprint('')\n\t\t\t\t'''\n\n\t\t\t\t#Use the json decoder\n\t\t\t\tself.FiledHardVariable.write(\n\t\t\t\t\tyaml.dump(self.FilingWriteVariable,indent=2)\n\t\t\t\t)\n\n\t\t#/###################/#\n\t\t# Case where we have to read\n\t\t#\n\n\t\telif self.FilingModeStr=='r':\n\t\t\t\n\t\t\t#debug\n\t\t\t'''\n\t\t\tself.debug(\n\t\t\t\t[\n\t\t\t\t\t'We are going to read',\n\t\t\t\t\t('self.',self,[\n\t\t\t\t\t\t'FilingFormatStr'\n\t\t\t\t\t\t])\n\t\t\t\t]\n\t\t\t)\n\t\t\t'''\n\t\t\t\n\t\t\t#Check\n\t\t\tif self.FilingFormatStr in [\n\t\t\t\t\t\t\t\t\t'txt',\n\t\t\t\t\t\t\t\t\t'md',\n\t\t\t\t\t\t\t\t\t'py'\n\t\t\t\t\t\t\t\t]:\n\n\t\t\t\t#Read the FiledHardVariable\n\t\t\t\tself.FiledReadVariable=self.FiledHardVariable.read()\n\n\t\t\telif self.FilingFormatStr=='json':\n\n\t\t\t\t#Use the json decoder\n\t\t\t\tself.FiledReadVariable=json.load(self.FiledHardVariable)\n\n\t\t\telif self.FilingFormatStr=='yaml':\n\n\t\t\t\t#Use the json decoders\n\t\t\t\tself.FiledReadVariable=yaml.load(self.FiledHardVariable)\n\n\n\n\n#</DefineClass>\n\n#</DefinePrint>\nFilerClass.PrintingClassSkipKeyStrsList.extend(\n\t[\n\t\t'FilingKeyStr',\n\t\t'FilingModeStr',\n\t\t'FilingActionStr',\n\t\t'FilingFormatStr',\n\t\t'FilingWriteVariable',\n\t\t'FiledPathStr',\n\t\t'FiledHardVariable',\n\t\t'FiledReadVariable'\n\t]\n)\n#<DefinePrint>\n\n\n```\n\n", 
          "cell_type": "markdown", 
          "prompt_number": 3, 
          "metadata": {
            "slideshow": {
              "slide_type": "subslide"
            }
          }
        }
      ]
    }
  ], 
  "metadata": {
    "name": "", 
    "signature": ""
  }, 
  "nbformat_minor": 0
}