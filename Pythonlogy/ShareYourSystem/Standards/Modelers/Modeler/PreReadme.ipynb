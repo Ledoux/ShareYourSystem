{
  "nbformat": 3, 
  "worksheets": [
    {
      "cells": [
        {
          "source": "\n<!--\nFrozenIsBool False\n-->\n\n#Databaser\n\n##Doc\n----\n\n\n> \n> A Databaser rises to the DatabaserClass. This latter is the deepest class for instancing\n> Variables able to store values in hierarchic tables. Here, as a first step,\n> the database method helps to set the <DatabasingKeyStr> in the __dict__\n> \n> \n\n----\n\n<small>\nView the Databaser notebook on [NbViewer](http://nbviewer.ipython.org/url/shareyoursystem.ouvaton.org/Databaser.ipynb)\n</small>\n\n", 
          "cell_type": "markdown", 
          "prompt_number": 0, 
          "metadata": {
            "slideshow": {
              "slide_type": "slide"
            }
          }
        }, 
        {
          "source": "\n<!--\nFrozenIsBool False\n-->\n\n##Code\n\n----\n\n<ClassDocStr>\n\n----\n\n```python\n# -*- coding: utf-8 -*-\n\"\"\"\n\n\n<DefineSource>\n@Date : Fri Nov 14 13:20:38 2014 \\n\n@Author : Erwan Ledoux \\n\\n\n</DefineSource>\n\n\nA Databaser rises to the DatabaserClass. This latter is the deepest class for instancing\nVariables able to store values in hierarchic tables. Here, as a first step,\nthe database method helps to set the <DatabasingKeyStr> in the __dict__\n\n\"\"\"\n\n#<DefineAugmentation>\nimport ShareYourSystem as SYS\nBaseModuleStr=\"ShareYourSystem.Standards.Noders.Structurer\"\nDecorationModuleStr=\"ShareYourSystem.Standards.Classors.Classer\"\nSYS.setSubModule(globals())\n#</DefineAugmentation>\n\n#<ImportSpecificModules>\n#</ImportSpecificModules>\n\n#<DefineClass>\n@DecorationClass(**{'ClassingSwitchMethodStrsList':['database']})\nclass DatabaserClass(\n\t\t\t\t\t\tBaseClass\n\t\t\t\t):\n\n\t#Definition\n\tRepresentingKeyStrsList=[\n\t\t\t\t\t\t\t\t'ModeledSuffixStr',\n\t\t\t\t\t\t\t\t'DatabasedCollectionStr',\n\t\t\t\t\t\t\t\t'ModeledSuffixStr',\n\t\t\t\t\t\t\t\t'ModeledPointDeriveStorerVariable'\n\t\t\t\t\t\t\t]\n\n\tdef default_init(self,\n\t\t\t\t\t_DatabasingKeyStr=\"\",\n\t\t\t\t\t_DatabasedCollectionStr=\"\",\n\t\t\t\t\t_ModeledSuffixStr=\"\",\n\t\t\t\t\t_ModeledPointDeriveStorerVariable=None,\n\t\t\t\t\t**_KwargVariablesDict\n\t\t\t\t):\n\n\t\t#Call the parent __init__ method\n\t\tBaseClass.__init__(self,**_KwargVariablesDict)\n\t\t\n\tdef do_database(self):\n\n\t\t#set\n\t\tif hasattr(self,'NodeKeyStr'):\n\t\t\tself.DatabasingKeyStr=self.NodeKeyStr\n\t\t\tself.DatabasedCollectionStr=self.NodeCollectionStr\n\n\t\t#set\n\t\tself.ModeledSuffixStr=self.DatabasingKeyStr+'Model'\n\n\t\t#\n\t\tif hasattr(self,'NodePointDeriveNoder'):\n\t\t\tself.point(\n\t\t\t\tself.NodePointDeriveNoder,\n\t\t\t\t'ModeledPointDeriveStorerVariable'\n\t\t\t)\n\n#</DefineClass>\n\n```\n\n<small>\nView the Databaser sources on <a href=\"https://github.com/Ledoux/ShareYourSystem/tree/master/Pythonlogy/ShareYourSystem/Databasers/Databaser\" target=\"_blank\">Github</a>\n</small>\n\n", 
          "cell_type": "markdown", 
          "prompt_number": 1, 
          "metadata": {
            "slideshow": {
              "slide_type": "subslide"
            }
          }
        }, 
        {
          "source": "\n<!---\nFrozenIsBool True\n-->\n\n##Example\n\nLet's create an empty class, which will automatically receive\nspecial attributes from the decorating ClassorClass,\nspecially the NameStr, that should be the ClassStr\nwithout the TypeStr in the end.", 
          "cell_type": "markdown", 
          "prompt_number": 2, 
          "metadata": {
            "slideshow": {
              "slide_type": "subslide"
            }
          }
        }, 
        {
          "cell_type": "code", 
          "prompt_number": 3, 
          "language": "python", 
          "input": [
            "\n", 
            "#ImportModules\n", 
            "import ShareYourSystem as SYS\n", 
            "from ShareYourSystem.Standards.Controllers import Storer\n", 
            "from ShareYourSystem.Standards.Modelers import Databaser\n", 
            "\n", 
            "#Definition of a Storer instance with a noded databaser\n", 
            "MyStorer=Storer.StorerClass().collect(\n", 
            "    \"Datome\",\n", 
            "    \"Things\",\n", 
            "    Databaser.DatabaserClass()\n", 
            ")\n", 
            "\n", 
            "#database\n", 
            "MyStorer['<Datome>ThingsDatabaser'].database()\n", 
            "    \n", 
            "#Definition the AttestedStr\n", 
            "SYS._attest(\n", 
            "    [\n", 
            "        'MyStorer is '+SYS._str(\n", 
            "        MyStorer,\n", 
            "        **{\n", 
            "            'RepresentingBaseKeyStrsListBool':False,\n", 
            "            'RepresentingAlineaIsBool':False\n", 
            "        }\n", 
            "        )\n", 
            "    ]\n", 
            ")\n", 
            "\n", 
            "#Print\n", 
            "\n", 
            "\n"
          ], 
          "outputs": [
            {
              "output_type": "stream", 
              "stream": "stdout", 
              "text": [
                "\n", 
                "\n", 
                "*****Start of the Attest *****\n", 
                "\n", 
                "MyStorer is < (StorerClass), 4559345232>\n", 
                "   /{ \n", 
                "   /  '<New><Instance>DatomeCollectionOrderedDict' : \n", 
                "   /   /{ \n", 
                "   /   /  'ThingsDatabaser' : < (DatabaserClass), 4561982864>\n", 
                "   /   /   /{ \n", 
                "   /   /   /  '<New><Instance>IdInt' : 4561982864\n", 
                "   /   /   /  '<New><Instance>NewtorkAttentionStr' : \n", 
                "   /   /   /  '<New><Instance>NewtorkCatchStr' : \n", 
                "   /   /   /  '<New><Instance>NewtorkCollectionStr' : \n", 
                "   /   /   /  '<New><Instance>NodeCollectionStr' : Datome\n", 
                "   /   /   /  '<New><Instance>NodeIndexInt' : 0\n", 
                "   /   /   /  '<New><Instance>NodeKeyStr' : ThingsDatabaser\n", 
                "   /   /   /  '<New><Instance>NodePointDeriveNoder' : {...}< (StorerClass), 4559345232>\n", 
                "   /   /   /  '<New><Instance>NodePointOrderedDict' : {...}< (OrderedDict), 4563600328>\n", 
                "   /   /   /  '<Spe><Instance>DatabasedCollectionStr' : Datome\n", 
                "   /   /   /  '<Spe><Instance>ModeledPointDeriveStorerVariable' : {...}< (StorerClass), 4559345232>\n", 
                "   /   /   /  '<Spe><Instance>ModeledSuffixStr' : ThingsDatabaserModel\n", 
                "   /   /   /}\n", 
                "   /   /}\n", 
                "   /  '<New><Instance>IdInt' : 4559345232\n", 
                "   /  '<New><Instance>NewtorkAttentionStr' : \n", 
                "   /  '<New><Instance>NewtorkCatchStr' : \n", 
                "   /  '<New><Instance>NewtorkCollectionStr' : \n", 
                "   /  '<New><Instance>NodeCollectionStr' : Globals\n", 
                "   /  '<New><Instance>NodeIndexInt' : -1\n", 
                "   /  '<New><Instance>NodeKeyStr' : TopStorer\n", 
                "   /  '<New><Instance>NodePointDeriveNoder' : None\n", 
                "   /  '<New><Instance>NodePointOrderedDict' : None\n", 
                "   /  '<Spe><Class>StoringOrganizeIsBool' : False\n", 
                "   /}\n", 
                "\n", 
                "*****End of the Attest *****\n", 
                "\n", 
                "\n"
              ]
            }
          ], 
          "collapsed": false, 
          "metadata": {
            "slideshow": {
              "slide_type": "-"
            }
          }
        }
      ]
    }
  ], 
  "metadata": {
    "name": "", 
    "signature": ""
  }, 
  "nbformat_minor": 0
}