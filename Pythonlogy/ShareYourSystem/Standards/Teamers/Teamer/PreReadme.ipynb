{
  "nbformat": 3, 
  "worksheets": [
    {
      "cells": [
        {
          "source": "\n<!--\nFrozenIsBool False\n-->\n\n#Noder\n\n##Doc\n----\n\n\n> \n> A Noder defines Child ordered dicts with <DoStr> as KeyStr. \n> The items inside are automatically setted with Noded<DoStr><TypeStr> and have \n> a Pointer to the parent InstanceVariable. This is the beginning for buiding high\n> arborescent and (possibly circular) structures of objects.\n> \n> \n\n----\n\n<small>\nView the Noder notebook on [NbViewer](http://nbviewer.ipython.org/url/shareyoursystem.ouvaton.org/Noder.ipynb)\n</small>\n\n", 
          "cell_type": "markdown", 
          "prompt_number": 0, 
          "metadata": {
            "slideshow": {
              "slide_type": "slide"
            }
          }
        }, 
        {
          "source": "\n<!--\nFrozenIsBool False\n-->\n\n##Code\n\n----\n\n<ClassDocStr>\n\n----\n\n```python\n# -*- coding: utf-8 -*-\n\"\"\"\n\n\n<DefineSource>\n@Date : Fri Nov 14 13:20:38 2014 \\n\n@Author : Erwan Ledoux \\n\\n\n</DefineSource>\n\n\nA Noder defines Child ordered dicts with <DoStr> as KeyStr. \nThe items inside are automatically setted with Noded<DoStr><TypeStr> and have \na Pointer to the parent InstanceVariable. This is the beginning for buiding high\narborescent and (possibly circular) structures of objects.\n\n\"\"\"\n\n#<DefineAugmentation>\nimport ShareYourSystem as SYS\nBaseModuleStr=\"ShareYourSystem.Applyiers.Filterer\"\nDecorationModuleStr=\"ShareYourSystem.Standards.Classors.Classer\"\nSYS.setSubModule(globals())\n#</DefineAugmentation>\n\n#<ImportSpecificModules>\nimport collections\nfrom ShareYourSystem.Standards.Itemizers import Pather\n#</ImportSpecificModules>\n\n#<DefineLocals>\nNodingPrefixGetStr='<'\nNodingSuffixGetStr='>'\nNodingCollectionPrefixStr=\"Node\"\n#</DefineLocals>\n\n#<DefineClass>\n@DecorationClass()\nclass NoderClass(BaseClass):\n\n\t#Definition\n\tRepresentingKeyStrsList=[\n\t\t\t\t\t\t\t\t\t'NodingCollectionStr',\n\t\t\t\t\t\t\t\t\t'NodedCollectionOrderedDict',\n\t\t\t\t\t\t\t\t\t'NodedCollectionStr',\n\t\t\t\t\t\t\t\t\t'NodedKeyStr',\n\t\t\t\t\t\t\t\t\t'NodedCollectionIndexInt'\n\t\t\t\t\t\t\t\t]\n\n\tdef default_init(self,\n\t\t\t\t_NodingCollectionStr=\"\",\t\t\t\t\t\t\t\n\t\t\t\t_NodedCollectionOrderedDict=None, \t\t\t\t\t\t\t\t\t\t\t\t\n\t\t\t\t_NodedCollectionStr=\"\", \t\t\n\t\t\t\t_NodedKeyStr=\"\", \t\t \t\n\t\t\t\t_NodedCollectionIndexInt=-1,\t\t\t\t\t\t\t\t\n\t\t\t\t**_KwargVariablesDict\n\t\t\t\t):\n\n\t\t#Call the parent init method\n\t\tBaseClass.__init__(self,**_KwargVariablesDict)\n\n\t\t#global\n\t\tglobal NodingCollectionPrefixStr\n\n\t\tNodedMethodStr='__setattr__'\n\t\tNodedMethod=getattr(self,NodedMethodStr)\n\n\t\t#Int and Set Child attributes\n\t\tNodedMethod(\n\t\t\tNodingCollectionPrefixStr+'CollectionStr',\n\t\t\t\"Globals\"\n\t\t)\n\t\tNodedMethod(\n\t\t\tNodingCollectionPrefixStr+'IndexInt',\n\t\t\t-1\n\t\t)\n\t\t\"\"\"\n\t\tNodedMethod(\n\t\t\tNodingCollectionPrefixStr+'KeyStr',\n\t\t\tSYS._filter(\n\t\t\t\tlambda __ListedVariable:\n\t\t\t\tid(__ListedVariable)==self.IdStr,\n\t\t\t\tsys.modules['__main__'].globals().values()\n\t\t\t)\n\t\t)\n\t\t\"\"\"\n\t\tNodedMethod(\n\t\t\tNodingCollectionPrefixStr+'KeyStr',\n\t\t\t'Top'+self.__class__.NameStr\n\t\t)\n\t\tself.point(\n\t\t\t\tNone,\n\t\t\t\tNodingCollectionPrefixStr+'PointOrderedDict'\n\t\t\t)\n\t\tself.point(\n\t\t\t\tNone,\n\t\t\t\tNodingCollectionPrefixStr+'PointDeriveNoder'\n\t\t\t)\n\n\tdef do_node(self):\n\n\t\t#debug\n\t\t'''\n\t\tself.debug((\"self.\",self,['NodingCollectionStr']))\n\t\t'''\n\n\t\t#Get the NodedStr\n\t\tif self.NodingCollectionStr!=\"\":\n\t\t\n\t\t\t#set the Noded OrderedDict and KeyStr\n\t\t\tNodedCollectionOrderedSetKeyStr=self.NodingCollectionStr+'CollectionOrderedDict'\n\t\t\t#self.NodeKeyStrKeyStr=self.NodedPrefixStr+'KeyStr'\n\n\t\t\ttry:\n\t\t\t\tself.NodedCollectionOrderedDict=getattr(self,NodedCollectionOrderedSetKeyStr)\n\t\t\texcept AttributeError:\n\t\t\t\tself.__setattr__(\n\t\t\t\t\t\t\t\t\tNodedCollectionOrderedSetKeyStr,\n\t\t\t\t\t\t\t\t\tcollections.OrderedDict()\n\t\t\t\t\t\t\t\t)\n\t\t\t\tself.NodedCollectionOrderedDict=getattr(self,NodedCollectionOrderedSetKeyStr)\n\n\tdef mimic_get(self):\n\n\t\t#debug\n\t\t'''\n\t\tself.debug((\"self.\",self,['GettingKeyVariable']))\n\t\t'''\n\t\t\n\t\t#Definition\n\t\tOutputDict={'HookingIsBool':True}\n\n\t\t#Appending set\n\t\tif self.GettingKeyVariable.startswith(NodingPrefixGetStr):\n\n\t\t\t#Definition the SplittedStrsList\n\t\t\tSplittedStrsList=self.GettingKeyVariable.split(NodingSuffixGetStr)\n\n\t\t\t#Definition the NodingCollectionStr\n\t\t\tNodingCollectionStr=NodingPrefixGetStr.join(\n\t\t\t\tSplittedStrsList[0].split(NodingPrefixGetStr)[1:])\n\t\t\t\n\t\t\t#debug\n\t\t\t'''\n\t\t\tself.debug(\n\t\t\t\t\t\t[\n\t\t\t\t\t\t\t'NodingCollectionStr is '+NodingCollectionStr,\n\t\t\t\t\t\t\t'We are going to node'\n\t\t\t\t\t\t]\n\t\t\t\t\t)\n\t\t\t'''\n\n\t\t\t#Nodify\n\t\t\tself.node(\n\t\t\t\t\t\tNodingCollectionStr,\n\t\t\t\t\t\t#**{'IsNoderBool':False}\n\t\t\t\t\t)\n\n\t\t\t#Definition of the KeyStr\n\t\t\tGetKeyStr=NodingSuffixGetStr.join(SplittedStrsList[1:])\n\n\t\t\t#debug\n\t\t\t'''\n\t\t\tself.debug(\n\t\t\t\t\t\t\t[\n\t\t\t\t\t\t\t\t'node is done',\n\t\t\t\t\t\t\t\t'GetKeyStr is '+GetKeyStr,\n\t\t\t\t\t\t\t\t'self.NodedCollectionOrderedDict is '+str(self.NodedCollectionOrderedDict)\n\t\t\t\t\t\t\t]\n\t\t\t\t)\n\t\t\t'''\n\n\t\t\t#Get with a digited KeyStr case\n\t\t\tif GetKeyStr.isdigit():\n\n\t\t\t\t#Definition the GetInt\n\t\t\t\tGetInt=(int)(GetKeyStr)\n\n\t\t\t\t#Check if the size is ok\n\t\t\t\tif GetInt<len(self.NodedCollectionOrderedDict):\n\n\t\t\t\t\t#Get the GettedVariable \n\t\t\t\t\tself.GettedValueVariable=SYS.get(\n\t\t\t\t\t\tself.NodedCollectionOrderedDict,\n\t\t\t\t\t\t'values',\n\t\t\t\t\t\tGetInt\n\t\t\t\t\t)\n\n\t\t\t\t\t#Return\n\t\t\t\t\tOutputDict['HookingIsBool']=False\n\t\t\t\t\t#<Hook>return OutputDict\n\n\t\t\t#Get in the ValueVariablesList\n\t\t\telif GetKeyStr==\"\":\n\n\t\t\t\t#Get the GettedVariable\n\t\t\t\tself.GettedValueVariable=self.NodedCollectionOrderedDict.values()\n\n\t\t\t\t#Return \n\t\t\t\tOutputDict['HookingIsBool']=False\n\t\t\t\t#<Hook>return OutputDict\n\n\t\t\telif GetKeyStr in self.NodedCollectionOrderedDict:\n\t\t\t\t\n\t\t\t\t#Get the GettedVariable\n\t\t\t\tself.GettedValueVariable=self.NodedCollectionOrderedDict[GetKeyStr]\n\n\t\t\t\t#Return \n\t\t\t\tOutputDict['HookingIsBool']=False\n\t\t\t\t#<Hook>return OutputDict\n\n\n\n\t\t#Call the parent get method\n\t\tif OutputDict['HookingIsBool']:\n\n\t\t\t#debug\n\t\t\t'''\n\t\t\tself.debug(\n\t\t\t\t\t\t[\n\t\t\t\t\t\t\t('self.',self,['GettingKeyVariable']),\n\t\t\t\t\t\t\t'BaseClass.get is '+str(BaseClass.get)\n\t\t\t\t\t\t]\n\t\t\t\t\t)\n\t\t\t'''\n\t\t\t\n\t\t\t#Call\n\t\t\treturn BaseClass.get(self)\n\n\t\telse:\n\n\t\t\t#return\n\t\t\treturn OutputDict\n\n\t#<Hook>@Hooker.HookerClass(**{'HookingAfterVariablesList':[BaseClass.set]})\n\t#@Imitater.ImitaterClass()\n\tdef mimic_set(self):\n\t\t\"\"\" \"\"\"\n\n\t\t#debug\n\t\t'''\n\t\tself.debug(('self.',self,[\n\t\t\t\t\t\t'SettingKeyVariable',\n\t\t\t\t\t\t#'SettingValueVariable'\n\t\t\t\t\t\t]))\n\t\t'''\n\t\t\n\t\t#Definition\n\t\tOutputDict={'HookingIsBool':True}\n\n\t\t#Appending set\n\t\tif self.SettingKeyVariable.startswith(NodingPrefixGetStr):\n\n\t\t\t#Definition the SplittedStrsList\n\t\t\tSplittedStrsList=self.SettingKeyVariable.split(NodingSuffixGetStr)\n\n\t\t\t#Definition the NodingCollectionStr\n\t\t\tNodingCollectionStr=NodingPrefixGetStr.join(\n\t\t\t\tSplittedStrsList[0].split(NodingPrefixGetStr)[1:])\n\n\t\t\t#Check if it is an append of Nodes\n\t\t\tIsNoderBool='NoderClass' in map(\n\t\t\t\t\t\t\t\t\t\t\tlambda __Class:\n\t\t\t\t\t\t\t\t\t\t\t__Class.__name__,\n\t\t\t\t\t\t\t\t\t\t\ttype(self.SettingValueVariable).__mro__\n\t\t\t\t\t\t\t\t\t\t\t)\n\n\t\t\t#debug\n\t\t\t'''\n\t\t\tself.debug(('vars ',vars(),['NodingCollectionStr','IsNoderBool']))\n\t\t\t'''\n\n\t\t\t#Nodify\n\t\t\tself.node(\n\t\t\t\t\t\tNodingCollectionStr,\n\t\t\t\t\t\t#**{'IsNoderBool':IsNoderBool}\n\t\t\t\t\t)\n\n\t\t\t#Definition the KeyStr\n\t\t\tSetKeyStr=NodingSuffixGetStr.join(SplittedStrsList[1:])\n\n\t\t\t#debug\n\t\t\t'''\n\t\t\tself.debug('SetKeyStr is '+SetKeyStr)\n\t\t\t'''\n\n\t\t\t#Append (or set if it is already in)\n\t\t\tPather.setWithPathVariableAndKeyVariable(\n\t\t\t\tself.NodedCollectionOrderedDict,\n\t\t\t\tPather.PathPrefixStr+SetKeyStr,\n\t\t\t\tself.SettingValueVariable\n\t\t\t)\n\n\t\t\tif Pather.PathPrefixStr not in SetKeyStr:\n\n\t\t\t\t#debug\n\t\t\t\t'''\n\t\t\t\tself.debug(('self.',self,['SettingValueVariable']))\n\t\t\t\t'''\n\n\t\t\t\t#If it is an object\n\t\t\t\tif IsNoderBool:\n\n\t\t\t\t\t#global\n\t\t\t\t\tglobal NodingCollectionPrefixStr\n\n\t\t\t\t\tNodedMethodStr='__setattr__'\n\t\t\t\t\tNodedMethod=getattr(self.SettingValueVariable,NodedMethodStr)\n\n\t\t\t\t\t#Int and Set Child attributes\n\t\t\t\t\tNodedMethod(\n\t\t\t\t\t\tNodingCollectionPrefixStr+'CollectionStr',\n\t\t\t\t\t\tself.NodingCollectionStr\n\t\t\t\t\t)\n\t\t\t\t\tNodedMethod(\n\t\t\t\t\t\tNodingCollectionPrefixStr+'IndexInt',\n\t\t\t\t\t\tlen(self.NodedCollectionOrderedDict)-1\n\t\t\t\t\t)\n\t\t\t\t\tNodedMethod(\n\t\t\t\t\t\tNodingCollectionPrefixStr+'KeyStr',\n\t\t\t\t\t\tSetKeyStr\n\t\t\t\t\t)\n\t\t\t\t\tself.SettingValueVariable.point(\n\t\t\t\t\t\t\tself.NodedCollectionOrderedDict,\n\t\t\t\t\t\t\tNodingCollectionPrefixStr+'PointOrderedDict'\n\t\t\t\t\t\t)\n\t\t\t\t\tself.SettingValueVariable.point(\n\t\t\t\t\t\t\tself,\n\t\t\t\t\t\t\tNodingCollectionPrefixStr+'PointDeriveNoder'\n\t\t\t\t\t\t)\n\n\t\t\t#set\n\t\t\tOutputDict['HookingIsBool']=False\n\n\t\t\t#return\n\t\t\treturn OutputDict\n\n\t\t#Call the parent get method\n\t\tif OutputDict['HookingIsBool']:\n\t\t\treturn BaseClass.set(self)\n\n#</DefineClass>\n\n\n```\n\n<small>\nView the Noder sources on <a href=\"https://github.com/Ledoux/ShareYourSystem/tree/master/Pythonlogy/ShareYourSystem/Noders/Noder\" target=\"_blank\">Github</a>\n</small>\n\n", 
          "cell_type": "markdown", 
          "prompt_number": 1, 
          "metadata": {
            "slideshow": {
              "slide_type": "subslide"
            }
          }
        }, 
        {
          "source": "\n<!---\nFrozenIsBool True\n-->\n\n##Example\n\nLet's create an empty class, which will automatically receive\nspecial attributes from the decorating ClassorClass,\nspecially the NameStr, that should be the ClassStr\nwithout the TypeStr in the end.", 
          "cell_type": "markdown", 
          "prompt_number": 2, 
          "metadata": {
            "slideshow": {
              "slide_type": "subslide"
            }
          }
        }, 
        {
          "cell_type": "code", 
          "prompt_number": 3, 
          "language": "python", 
          "input": [
            "\n", 
            "#ImportModules\n", 
            "import ShareYourSystem as SYS\n", 
            "from ShareYourSystem.Standards.Noders import Noder\n", 
            "    \n", 
            "#Definition of a Noder instance\n", 
            "MyNoder=Noder.NoderClass()\n", 
            "\n", 
            "#Short expression for setting in the appended manner a structured object\n", 
            "MyNoder['<Nodome>FirstChildNoder']=Noder.NoderClass()\n", 
            "\n", 
            "#Short expression for setting in the appended manner a structured object\n", 
            "MyNoder['<Nodome>SecondChildNoder']=Noder.NoderClass()\n", 
            "\n", 
            "#Definition the AttestedStr\n", 
            "SYS._attest(\n", 
            "    [\n", 
            "        'MyNoder is '+SYS._str(\n", 
            "                MyNoder,\n", 
            "                **{\n", 
            "                'RepresentingBaseKeyStrsListBool':False,\n", 
            "                'RepresentingAlineaIsBool':False\n", 
            "                }\n", 
            "            )\n", 
            "    ]\n", 
            ") \n", 
            "\n", 
            "#Print\n", 
            "\n", 
            "\n"
          ], 
          "outputs": [
            {
              "output_type": "stream", 
              "stream": "stdout", 
              "text": [
                "\n", 
                "\n", 
                "*****Start of the Attest *****\n", 
                "\n", 
                "MyNoder is < (NoderClass), 4555208528>\n", 
                "   /{ \n", 
                "   /  '<New><Instance>IdInt' : 4555208528\n", 
                "   /  '<New><Instance>NodeCollectionStr' : Globals\n", 
                "   /  '<New><Instance>NodeIndexInt' : -1\n", 
                "   /  '<New><Instance>NodeKeyStr' : TopNoder\n", 
                "   /  '<New><Instance>NodePointDeriveNoder' : None\n", 
                "   /  '<New><Instance>NodePointOrderedDict' : None\n", 
                "   /  '<New><Instance>NodomeCollectionOrderedDict' : \n", 
                "   /   /{ \n", 
                "   /   /  'FirstChildNoder' : < (NoderClass), 4555208592>\n", 
                "   /   /   /{ \n", 
                "   /   /   /  '<New><Instance>IdInt' : 4555208592\n", 
                "   /   /   /  '<New><Instance>NodeCollectionStr' : Nodome\n", 
                "   /   /   /  '<New><Instance>NodeIndexInt' : 0\n", 
                "   /   /   /  '<New><Instance>NodeKeyStr' : FirstChildNoder\n", 
                "   /   /   /  '<New><Instance>NodePointDeriveNoder' : {...}< (NoderClass), 4555208528>\n", 
                "   /   /   /  '<New><Instance>NodePointOrderedDict' : {...}< (OrderedDict), 4556316208>\n", 
                "   /   /   /  '<Spe><Class>NodedCollectionIndexInt' : -1\n", 
                "   /   /   /  '<Spe><Class>NodedCollectionOrderedDict' : None\n", 
                "   /   /   /  '<Spe><Class>NodedCollectionStr' : \n", 
                "   /   /   /  '<Spe><Class>NodedKeyStr' : \n", 
                "   /   /   /  '<Spe><Class>NodingCollectionStr' : \n", 
                "   /   /   /}\n", 
                "   /   /  'SecondChildNoder' : < (NoderClass), 4555209424>\n", 
                "   /   /   /{ \n", 
                "   /   /   /  '<New><Instance>IdInt' : 4555209424\n", 
                "   /   /   /  '<New><Instance>NodeCollectionStr' : Nodome\n", 
                "   /   /   /  '<New><Instance>NodeIndexInt' : 1\n", 
                "   /   /   /  '<New><Instance>NodeKeyStr' : SecondChildNoder\n", 
                "   /   /   /  '<New><Instance>NodePointDeriveNoder' : {...}< (NoderClass), 4555208528>\n", 
                "   /   /   /  '<New><Instance>NodePointOrderedDict' : {...}< (OrderedDict), 4556316208>\n", 
                "   /   /   /  '<Spe><Class>NodedCollectionIndexInt' : -1\n", 
                "   /   /   /  '<Spe><Class>NodedCollectionOrderedDict' : None\n", 
                "   /   /   /  '<Spe><Class>NodedCollectionStr' : \n", 
                "   /   /   /  '<Spe><Class>NodedKeyStr' : \n", 
                "   /   /   /  '<Spe><Class>NodingCollectionStr' : \n", 
                "   /   /   /}\n", 
                "   /   /}\n", 
                "   /  '<Spe><Class>NodedCollectionIndexInt' : -1\n", 
                "   /  '<Spe><Class>NodedCollectionStr' : \n", 
                "   /  '<Spe><Class>NodedKeyStr' : \n", 
                "   /  '<Spe><Instance>NodedCollectionOrderedDict' : {...}< (OrderedDict), 4556316208>\n", 
                "   /  '<Spe><Instance>NodingCollectionStr' : Nodome\n", 
                "   /}\n", 
                "\n", 
                "*****End of the Attest *****\n", 
                "\n", 
                "\n"
              ]
            }
          ], 
          "collapsed": false, 
          "metadata": {
            "slideshow": {
              "slide_type": "-"
            }
          }
        }
      ]
    }
  ], 
  "metadata": {
    "name": "", 
    "signature": ""
  }, 
  "nbformat_minor": 0
}