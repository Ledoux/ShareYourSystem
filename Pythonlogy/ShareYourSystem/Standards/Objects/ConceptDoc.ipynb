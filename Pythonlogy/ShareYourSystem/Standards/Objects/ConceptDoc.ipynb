{
  "nbformat": 3, 
  "worksheets": [
    {
      "cells": [
        {
          "source": "\n<!--\nFrozenIsBool False\n-->\n\n#Printer\n\n##Doc\n----\n\n\n> \n> The Printer is an object that can directly print \n> Strs in the Representer context.\n> \n> \n\n----\n\n<small>\nView the Printer notebook on [NbViewer](http://nbviewer.ipython.org/url/shareyoursystem.ouvaton.org/Printer.ipynb)\n</small>\n\n", 
          "cell_type": "markdown", 
          "prompt_number": 0, 
          "metadata": {
            "slideshow": {
              "slide_type": "slide"
            }
          }
        }, 
        {
          "source": "\n<!--\nFrozenIsBool False\n-->\n\n##Code\n\n----\n\n<ClassDocStr>\n\n----\n\n```python\n# -*- coding: utf-8 -*-\n\"\"\"\n\n\n<DefineSource>\n@Date : Fri Nov 14 13:20:38 2014 \\n\n@Author : Erwan Ledoux \\n\\n\n</DefineSource>\n\n\nThe Printer is an object that can directly print \nStrs in the Representer context.\n\n\"\"\"\n\n\n#<DefineAugmentation>\nimport ShareYourSystem as SYS\nBaseModuleStr=\"ShareYourSystem.Standards.Objects.Initiator\"\nDecorationModuleStr=\"ShareYourSystem.Standards.Classors.Representer\"\nSYS.setSubModule(globals())\n#</DefineAugmentation>\n\n#<ImportSpecificModules>\nRepresenter=DecorationModule\n#</ImportSpecificModules>\n\n\n#<DefineClass>\n@DecorationClass()\nclass PrinterClass(BaseClass):\n\n\t#Definition\n\tRepresentingKeyStrsList=[\n\t\t\t\t\t\t\t\t\t'PrintingVariable'\n\t\t\t\t\t\t\t\t]\n\t\n\tdef default_init(self,\n\t\t\t\t\t\t_PrintingVariable=None,\n\t\t\t\t\t\t**_KwargVariablesDict\n\t\t\t\t\t):\n\t\t\n\t\t#Call the parent init method\n\t\tBaseClass.__init__(self,**_KwargVariablesDict)\n\t\n\t#<DefineDoMethod>\t\n\tdef do__print(self,**_KwargVariablesDict):\n\n\t\t#debug\n\t\t'''\n\t\tprint('self.PrintingVariable is ',self.PrintingVariable)\n\t\tprint('')\n\t\t'''\n\n\t\t#print\n\t\tprint(\n\t\t\tRepresenter.getRepresentedStrWithVariable(\n\t\t\t\tself.PrintingVariable,\n\t\t\t\t**_KwargVariablesDict\n\t\t\t\t)\n\t\t)\n\n#</DefineClass>\n\n\n```\n\n<small>\nView the Printer sources on <a href=\"https://github.com/Ledoux/ShareYourSystem/tree/master/Pythonlogy/ShareYourSystem/Objects/Printer\" target=\"_blank\">Github</a>\n</small>\n\n", 
          "cell_type": "markdown", 
          "prompt_number": 1, 
          "metadata": {
            "slideshow": {
              "slide_type": "subslide"
            }
          }
        }, 
        {
          "source": "\n<!---\nFrozenIsBool True\n-->\n\n##Example\n\nLet's create an empty class, which will automatically receive\nspecial attributes from the decorating ClassorClass,\nspecially the NameStr, that should be the ClassStr\nwithout the TypeStr in the end.", 
          "cell_type": "markdown", 
          "prompt_number": 2, 
          "metadata": {
            "slideshow": {
              "slide_type": "subslide"
            }
          }
        }, 
        {
          "cell_type": "code", 
          "prompt_number": 3, 
          "language": "python", 
          "input": [
            "#ImportModules\n", 
            "import ShareYourSystem as SYS\n", 
            "from ShareYourSystem.Standards.Classors import Attester\n", 
            "from ShareYourSystem.Standards.Objects import Printer\n", 
            "\n", 
            "#Definition of an instance Printer and make it print hello\n", 
            "MyPrinter=Printer.PrinterClass()._print('hello')\n", 
            "    \n", 
            "#Definition the AttestedStr\n", 
            "SYS._attest(\n", 
            "    [\n", 
            "        'MyPrinter is '+SYS._str(MyPrinter)\n", 
            "    ]\n", 
            ") \n", 
            "\n", 
            "#Print\n", 
            "\n", 
            "\n"
          ], 
          "outputs": [
            {
              "output_type": "stream", 
              "stream": "stdout", 
              "text": [
                "hello\n", 
                "\n", 
                "\n", 
                "*****Start of the Attest *****\n", 
                "\n", 
                "MyPrinter is < (PrinterClass), 4537218384>\n", 
                "   /{ \n", 
                "   /  '<New><Instance>IdInt' : 4537218384\n", 
                "   /  '<Spe><Instance>PrintingVariable' : hello\n", 
                "   /}\n", 
                "\n", 
                "*****End of the Attest *****\n", 
                "\n", 
                "\n"
              ]
            }
          ], 
          "collapsed": false, 
          "metadata": {
            "slideshow": {
              "slide_type": "-"
            }
          }
        }, 
        {
          "source": "\n<!--\nFrozenIsBool False\n-->\n\n#Debugger\n\n##Doc\n----\n\n\n> \n> The Debugger from a DebuggerClass instance has a debug function\n> that prints in the console a state (to be defined) \n> of the environnement. This print can be indented with \n> the number of function frames from  which the process\n> has passed through, for a nicer visualisation of the \n> kind of hooked functions. More options in the display\n> can be possible like the number of the line in the corresponding\n> code or the pick of KeyStrs helping for precising the \n> debugging instance identity.\n> \n> \n\n----\n\n<small>\nView the Debugger notebook on [NbViewer](http://nbviewer.ipython.org/url/shareyoursystem.ouvaton.org/Debugger.ipynb)\n</small>\n\n", 
          "cell_type": "markdown", 
          "prompt_number": 4, 
          "metadata": {
            "slideshow": {
              "slide_type": "slide"
            }
          }
        }, 
        {
          "source": "\n<!--\nFrozenIsBool False\n-->\n\n##Code\n\n----\n\n<ClassDocStr>\n\n----\n\n```python\n# -*- coding: utf-8 -*-\n\"\"\"\n\n\n<DefineSource>\n@Date : Fri Nov 14 13:20:38 2014 \\n\n@Author : Erwan Ledoux \\n\\n\n</DefineSource>\n\n\nThe Debugger from a DebuggerClass instance has a debug function\nthat prints in the console a state (to be defined) \nof the environnement. This print can be indented with \nthe number of function frames from  which the process\nhas passed through, for a nicer visualisation of the \nkind of hooked functions. More options in the display\ncan be possible like the number of the line in the corresponding\ncode or the pick of KeyStrs helping for precising the \ndebugging instance identity.\n\n\"\"\"\n\n#<DefineAugmentation>\nimport ShareYourSystem as SYS\nBaseModuleStr=\"ShareYourSystem.Standards.Objects.Printer\"\nDecorationModuleStr=\"ShareYourSystem.Standards.Classors.Representer\"\nSYS.setSubModule(globals())\n#</DefineAugmentation>\n\n#<ImportSpecificModules>\nimport collections\nimport inspect\n\nRepresenter=DecorationModule\n#</ImportSpecificModules>\n\n#<DefineLocals>\nDebuggingStartStr='\\nxxxxxxxxxxxxxxxxxxxxxxxxxxxxxxxxxxxxxxxxxxxxxxxxxxxxxxxxxxxxxxxxxxxxxxxxxxxxxxxxxxxxxxxxxxxx\\n'\nDebuggingEndStr='\\nxxxxxxxxxxxxxxxxxxxxxxxxxxxxxxxxxxxxxxxxxxxxxxxxxxxxxxxxxxxxxxxxxxxxxxxxxxxxxxxxxxxxxxxxxxxx\\n'\nDebuggingElementStr='    '\nDebuggingIsStr=' is '\nDebuggingHeadPrefixStr='////////////////////////////////\\n'\nDebuggingHeadSuffixStr='\\n////////////////////////////////\\n\\n'\nDebuggingWhoStr='\\n*****\\n'\n#</DefineLocals>\n\n#<DefineFunctions>\ndef getDebuggedListWithFrame(_Frame):\n\n\t#Definition the FilePathStr\n\tFilePathStr='/'.join(_Frame.f_code.co_filename.split('/')[-2:])\n\n\t#Return \n\treturn [FilePathStr,_Frame.f_code.co_name]\n\ndef getDebuggedStrWithPrintVariable(_PrintVariable):\n\n\t#Type\n\tType=type(_PrintVariable)\n\n\t#Debug\n\t'''\n\tprint('l 62 Debugger')\n\tprint('Type is ',Type)\n\tprint('SYS.StrTypesList is ',SYS.StrTypesList)\n\tprint('')\n\t'''\n\t\n\t#set the DebuggedStr with the _PrintVariable\n\tif type(_PrintVariable) in SYS.StrTypesList:\n\t\treturn _PrintVariable\n\telif type(_PrintVariable)==tuple:\n\n\t\t#Check for an end\n\t\tif len(_PrintVariable)>3:\n\t\t\tDebuggedEndStr=_PrintVariable[3]\n\t\telse:\n\t\t\tDebuggedEndStr=\"\"\n\n\t\t#join\n\t\tDebuggedStr='\\n'.join(\n\t\tmap(\n\t\t\t\tlambda __KeyStr:\n\t\t\t\t_PrintVariable[0]+__KeyStr+DebuggedEndStr+' is '+SYS._str(\n\t\t\t\t\t_PrintVariable[1][__KeyStr] if type(\n\t\t\t\t\t\t_PrintVariable[1]\n\t\t\t\t\t) in [collections.OrderedDict,dict]\n\t\t\t\t\telse getattr(\n\t\t\t\t\t\t\t_PrintVariable[1],\n\t\t\t\t\t\t\t__KeyStr\n\t\t\t\t\t\t) \n\t\t\t\t\tif hasattr(_PrintVariable[1],__KeyStr) \n\t\t\t\t\telse \"WARNING : No attribute like this\"\n\t\t\t\t,**{\n\t\t\t\t\t\t'RepresentingAlineaIsBool':False\n\t\t\t\t\t}),\n\t\t\t\t_PrintVariable[2]\n\t\t\t)\n\t\t)+'\\n'\n\n\t\t#return\n\t\treturn DebuggedStr\n\n\telif type(_PrintVariable)==list:\n\t\treturn '\\n'.join(map(getDebuggedStrWithPrintVariable,_PrintVariable))\n\n\telse:\n\n\t\t#return\n\t\treturn str(_PrintVariable)\n#</DefineFunctions>\n\n#<DefineClass>\n@DecorationClass()\nclass DebuggerClass(BaseClass):\n\t\n\tRepresentingKeyStrsList=[\n\t\t\t\t\t\t\t\t'DebuggingPrintStr',\n\t\t\t\t\t\t\t\t'DebuggingIdentityBool',\n\t\t\t\t\t\t\t\t'DebuggingFrameBool',\n\t\t\t\t\t\t\t\t'DebuggingBacksInt'\t\t\t\t\t\t\t\t\n\t\t\t\t\t\t\t\t'DebuggingNotFrameFunctionStrsList',\n\t\t\t\t\t\t\t\t'DebuggingNotFrameModuleStrsList',\n\t\t\t\t\t\t\t\t'DebuggingIsBool', \t\t\t\t\t\t\t\t\t\t\t\t\t\n\t\t\t\t\t\t\t\t'DebuggedFramesList'\n\t\t\t\t\t\t\t]\n\n\tdef default_init(self,\n\t\t\t\t\t\t_DebuggingPrintStr=\"\",\n\t\t\t\t\t\t_DebuggingIdentityBool=True,\n\t\t\t\t\t\t_DebuggingFrameBool=True,\n\t\t\t\t\t\t_DebuggingBacksInt=1,\t\t\t\t\t\t\t\t\t\t\t\t\n\t\t\t\t\t\t_DebuggingNotFrameFunctionStrsList=[\n\t\t\t\t\t\t\t\"AlertedFunction\",\n\t\t\t\t\t\t\t\"ArgumentedFunction\",\n\t\t\t\t\t\t\t\"TriggeredFunction\",\n\t\t\t\t\t\t\t\"HookedFunction\",\n\t\t\t\t\t\t\t\"SwitchedFunction\",\n\t\t\t\t\t\t\t\"<lambda>\",\n\t\t\t\t\t\t\t\"DoerFunction\",\n\t\t\t\t\t\t\t\"initDo\",\n\t\t\t\t\t\t\t\"ImitaterFunction\",\n\t\t\t\t\t\t\t\"imitateDo\",\n\t\t\t\t\t\t\t\"superDo_debug\",\n\t\t\t\t\t\t\t\"do\",\n\t\t\t\t\t\t\t\"watch\",\n\t\t\t\t\t\t\t\"switch\"\n\n\t\t\t\t\t\t],\n\t\t\t\t\t\t_DebuggingNotFrameCodeStrsList=[\n\t\t\t\t\t\t\t\"<string>\"\n\t\t\t\t\t\t],\n\t\t\t\t\t\t_DebuggingIsBool=True, \t\t\t\t\t\t\t\t\t\t\t\t\t\n\t\t\t\t\t\t_DebuggedFramesList=None, \n\t\t\t\t\t\t**_KwargVariablesDict\n\t\t\t\t\t):\n\n\t\t#Call the parent init method\n\t\tBaseClass.__init__(self,**_KwargVariablesDict)\n\n\tdef do_debug(self):\n\n\t\t'''\n\t\t#Special keywords args\n\t\tif self.DebuggingPrintVariable=='<DoingVariables>':\n\t\t\tself.debug(('self.',self,self.__class__.DoingAttributeVariablesOrderedDict.keys()))\n\t\t'''\n\n\t\t#Check\n\t\tif self.DebuggingIsBool:\n\n\t\t\t#debug\n\t\t\t'''\n\t\t\tprint('Debugger debug method')\n\t\t\tprint('DebuggedCurrentFrame is ',DebuggedCurrentFrame)\n\t\t\tprint('self.DebuggedFramesList is ',self.DebuggedFramesList)\n\t\t\tprint('')\n\t\t\t'''\n\n\t\t\t#Definition the DebuggedCurrentFrame\n\t\t\tDebuggedCurrentFrame=inspect.currentframe()\n\t\t\tfor __BackInt in xrange(self.DebuggingBacksInt):\n\t\t\t\tDebuggedCurrentFrame=DebuggedCurrentFrame.f_back\n\n\t\t\t#Init the DebuggedStr\n\t\t\tDebuggedStr=DebuggingStartStr\n\n\t\t\t#Append maybe for the first time\n\t\t\tDebuggedDecorationBool=False\n\t\t\tif len(self.DebuggedFramesList\n\t\t\t\t)==0 or DebuggedCurrentFrame!=self.DebuggedFramesList[0]:\n\n\t\t\t\t#debug\n\t\t\t\t'''\n\t\t\t\tprint('This is the first frame ')\n\t\t\t\tprint('')\n\t\t\t\t'''\n\n\t\t\t\t#Build the DebuggedBackFramesList\n\t\t\t\tDebuggedBackFramesList=[]\n\t\t\t\tDebuggedBackFrame=DebuggedCurrentFrame\n\t\t\t\twhile DebuggedBackFrame.f_back!=None:\n\t\t\t\t\t#if hasattr(self,DebuggedBackFrame.f_back.f_code.co_name):\n\n\t\t\t\t\t#debug\n\t\t\t\t\t'''\n\t\t\t\t\tprint(\"DebuggedCurrentFrame.f_code.co_name is \",DebuggedCurrentFrame.f_code.co_name)\n\t\t\t\t\tprint(\"DebuggedBackFrame.f_back.f_code.co_name is \",DebuggedBackFrame.f_back.f_code.co_name)\n\t\t\t\t\tprint('')\n\t\t\t\t\t'''\n\n\t\t\t\t\t#Append\n\t\t\t\t\tif DebuggedBackFrame.f_back.f_code.co_name in self.DebuggingNotFrameFunctionStrsList or DebuggedBackFrame.f_back.f_code.co_filename.split('/')[-1] in self.DebuggingNotFrameCodeStrsList:\n\t\t\t\t\t\tDebuggedDecorationBool=True\n\t\t\t\t\telse:\n\t\t\t\t\t\tDebuggedBackFramesList.append(DebuggedBackFrame.f_back)\n\t\t\t\t\tDebuggedBackFrame=DebuggedBackFrame.f_back\n\n\t\t\t\t#Reduce the DebuggedBackFramesList with the DebuggedCurrentFrame\n\t\t\t\tself.DebuggedFramesList=[DebuggedCurrentFrame]+DebuggedBackFramesList\n\n\t\t\t\t#Debug\n\t\t\t\t'''\n\t\t\t\tprint('DebuggedCurrentFrame.f_code.co_name is ',DebuggedCurrentFrame.f_code.co_name)\n\t\t\t\tprint('')\n\t\t\t\t'''\n\n\t\t\t\t#set\n\t\t\t\tCodeStr= DebuggedCurrentFrame.f_code.co_filename.split('/')[-1]\n\n\t\t\t\t#Shift maybe\n\t\t\t\tif DebuggedCurrentFrame.f_code.co_name in self.DebuggingNotFrameFunctionStrsList or CodeStr in self.DebuggingNotFrameCodeStrsList:\n\t\t\t\t\tself.DebuggedFramesList=self.DebuggedFramesList[1:]\n\t\t\t\t\tDebuggedCurrentFrame=self.DebuggedFramesList[0] \n\n\t\t\t\t#set the DebuggedBackFrameStr\n\t\t\t\tDebuggedBackFrameStr='\\nFrom '+' | '.join(\n\t\t\t\t\t\tmap(\n\t\t\t\t\t\t\tlambda __InspectedList:\n\t\t\t\t\t\t\t' '.join(__InspectedList),\n\t\t\t\t\t\t\tmap(getDebuggedListWithFrame,DebuggedBackFramesList)\n\t\t\t\t\t\t)\n\t\t\t\t\t)\n\n\t\t\t\t#Check\n\t\t\t\tif self.DebuggingFrameBool:\n\n\t\t\t\t\t#Add the name of the function or method\n\t\t\t\t\tDebuggedStr+=DebuggingHeadPrefixStr+\" \".join(\n\t\t\t\t\t\t\t\t[\n\t\t\t\t\t\t\t\t\t'/'.join(DebuggedCurrentFrame.f_code.co_filename.split('/')[-2:]),\n\t\t\t\t\t\t\t\t\tDebuggedCurrentFrame.f_code.co_name\n\t\t\t\t\t\t\t\t]\n\t\t\t\t\t\t\t\t)+DebuggedBackFrameStr+DebuggingHeadSuffixStr\n\n\t\t\t#Update the RepresentingDict\n\t\t\tRepresenter.RepresentedAlineaStr=''.join(\n\t\t\t\t[DebuggingElementStr]*(len(self.DebuggedFramesList)-1))\n\n\t\t\t#debug\n\t\t\t'''\n\t\t\tprint('self.DebuggedAlineaStr is ',self.DebuggedAlineaStr)\n\t\t\tprint('self.DebuggingRepresentingDict is ',self.DebuggingRepresentingDict)\n\t\t\tprint('')\n\t\t\t'''\n\n\t\t\t#Add the lineno\n\t\t\tDebuggedStr+='l.'+str(DebuggedCurrentFrame.f_lineno)+' : '\n\n\t\t\t#Add some features to identify the instance\n\t\t\tif self.DebuggingIdentityBool:\n\t\t\t\tDebuggedStr+=DebuggingWhoStr+'I am with '+str(\n\t\t\t\t\tSYS._filter(\n\t\t\t\t\t\t\t\tlambda __ItemTuple:\n\t\t\t\t\t\t\t\t__ItemTuple[0].endswith('KeyStr')\n\t\t\t\t\t\t\t\tand __ItemTuple[0] not in self.__class__.RepresentedBaseKeyStrsList\n\t\t\t\t\t\t\t\t\t\t\t+self.__class__.RepresentingKeyStrsList,\n\t\t\t\t\t\t\t\tself.__dict__.items()\n\t\t\t\t\t\t\t)\n\t\t\t\t\t)+DebuggingWhoStr\n\n\t\t\t#Add the DebuggedStr from the debugging variable\n\t\t\tDebuggedStr+=getDebuggedStrWithPrintVariable(\n\t\t\t\tself.DebuggingPrintStr)\n\n\t\t\t#add the end\n\t\t\tDebuggedStr+=DebuggingEndStr\n\n\t\t\t#Print\n\t\t\tself._print(\n\t\t\t\t\t\t\tDebuggedStr+Representer.RepresentedAlineaStr,\n\t\t\t\t\t\t\t**{\n\t\t\t\t\t\t\t\t#'RepresentedDeepInt':1\n\t\t\t\t\t\t\t}\n\t\t\t\t\t\t)\n\n\t\t\t#Reinit\n\t\t\t#Representer.RepresentedAlineaStr=\"\"\n\t\t\t\n\t\t\t#Return \n\t\t\t#return self\n\n#</DefineClass>\n\n\n```\n\n<small>\nView the Debugger sources on <a href=\"https://github.com/Ledoux/ShareYourSystem/tree/master/Pythonlogy/ShareYourSystem/Objects/Debugger\" target=\"_blank\">Github</a>\n</small>\n\n", 
          "cell_type": "markdown", 
          "prompt_number": 5, 
          "metadata": {
            "slideshow": {
              "slide_type": "subslide"
            }
          }
        }, 
        {
          "source": "\n<!---\nFrozenIsBool True\n-->\n\n##Example\n\nLet's create an empty class, which will automatically receive\nspecial attributes from the decorating ClassorClass,\nspecially the NameStr, that should be the ClassStr\nwithout the TypeStr in the end.", 
          "cell_type": "markdown", 
          "prompt_number": 6, 
          "metadata": {
            "slideshow": {
              "slide_type": "subslide"
            }
          }
        }, 
        {
          "cell_type": "code", 
          "prompt_number": 7, 
          "language": "python", 
          "input": [
            "# ImportModules\n", 
            "from ShareYourSystem.Standards.Classors import Doer\n", 
            "from ShareYourSystem.Standards.Classors.Representer import _print\n", 
            "from ShareYourSystem.Standards.Objects import Debugger\n", 
            "\n", 
            "#Definition a debugging make class\n", 
            "@Doer.DoerClass()\n", 
            "class MakerClass(Debugger.DebuggerClass):\n", 
            "\n", 
            "    def make1(self):\n", 
            "\n", 
            "        #debug\n", 
            "        self.debug('I am in the make1 method')\n", 
            "\n", 
            "        #Call the make2 method\n", 
            "        self.make2()\n", 
            "\n", 
            "        #debug\n", 
            "        self.debug('I am back in the make1 method')\n", 
            "\n", 
            "    def make2(self):\n", 
            "\n", 
            "        #debug\n", 
            "        self.debug('I am in the make2 method')\n", 
            "\n", 
            "        #Call the make3 method\n", 
            "        self.make3()\n", 
            "\n", 
            "        #debug\n", 
            "        self.debug('I am back in the make2 method')\n", 
            "\n", 
            "    def make3(self):\n", 
            "\n", 
            "        #debug\n", 
            "        self.debug('I am in the make3 method')\n", 
            "\n", 
            "        #Call the make4 method\n", 
            "        self.make4()\n", 
            "\n", 
            "    def make4(self):\n", 
            "\n", 
            "        #debug\n", 
            "        self.debug('I am in the make4 method')\n", 
            "\n", 
            "        #debug\n", 
            "        self.debug('I am still in the make4 method')\n", 
            "\n", 
            "#Call the make1\n", 
            "MyMaker=MakerClass()\n", 
            "MyMaker.make1()\n", 
            "\n", 
            "#Call the make1 but with also showing the frame of the argumentinf function\n", 
            "MyMaker.DebuggingNotFrameFunctionStrsList=[]\n", 
            "MyMaker.make1()\n", 
            "\n"
          ], 
          "outputs": [
            {
              "output_type": "stream", 
              "stream": "stdout", 
              "text": [
                "                \n", 
                "                xxxxxxxxxxxxxxxxxxxxxxxxxxxxxxxxxxxxxxxxxxxxxxxxxxxxxxxxxxxxxxxxxxxxxxxxxxxxxxxxxxxxxxxxxxxx\n", 
                "                ////////////////////////////////\n", 
                "                site-packages/six.py exec_\n", 
                "                From site-packages/six.py exec_ | Celler/__init__.py do_cell | Notebooker/__init__.py do_notebook | Documenter/__init__.py do_inform | inform.py <module>\n", 
                "                ////////////////////////////////\n", 
                "                \n", 
                "                l.638 : \n", 
                "                *****\n", 
                "                I am with []\n", 
                "                *****\n", 
                "                I am in the make1 method\n", 
                "                xxxxxxxxxxxxxxxxxxxxxxxxxxxxxxxxxxxxxxxxxxxxxxxxxxxxxxxxxxxxxxxxxxxxxxxxxxxxxxxxxxxxxxxxxxxx\n", 
                "                                \n", 
                "                \n", 
                "                xxxxxxxxxxxxxxxxxxxxxxxxxxxxxxxxxxxxxxxxxxxxxxxxxxxxxxxxxxxxxxxxxxxxxxxxxxxxxxxxxxxxxxxxxxxx\n", 
                "                ////////////////////////////////\n", 
                "                site-packages/six.py exec_\n", 
                "                From site-packages/six.py exec_ | Celler/__init__.py do_cell | Notebooker/__init__.py do_notebook | Documenter/__init__.py do_inform | inform.py <module>\n", 
                "                ////////////////////////////////\n", 
                "                \n", 
                "                l.638 : \n", 
                "                *****\n", 
                "                I am with []\n", 
                "                *****\n", 
                "                I am in the make2 method\n", 
                "                xxxxxxxxxxxxxxxxxxxxxxxxxxxxxxxxxxxxxxxxxxxxxxxxxxxxxxxxxxxxxxxxxxxxxxxxxxxxxxxxxxxxxxxxxxxx\n", 
                "                                \n", 
                "                \n", 
                "                xxxxxxxxxxxxxxxxxxxxxxxxxxxxxxxxxxxxxxxxxxxxxxxxxxxxxxxxxxxxxxxxxxxxxxxxxxxxxxxxxxxxxxxxxxxx\n", 
                "                ////////////////////////////////\n", 
                "                site-packages/six.py exec_\n", 
                "                From site-packages/six.py exec_ | Celler/__init__.py do_cell | Notebooker/__init__.py do_notebook | Documenter/__init__.py do_inform | inform.py <module>\n", 
                "                ////////////////////////////////\n", 
                "                \n", 
                "                l.638 : \n", 
                "                *****\n", 
                "                I am with []\n", 
                "                *****\n", 
                "                I am in the make3 method\n", 
                "                xxxxxxxxxxxxxxxxxxxxxxxxxxxxxxxxxxxxxxxxxxxxxxxxxxxxxxxxxxxxxxxxxxxxxxxxxxxxxxxxxxxxxxxxxxxx\n", 
                "                                \n", 
                "                \n", 
                "                xxxxxxxxxxxxxxxxxxxxxxxxxxxxxxxxxxxxxxxxxxxxxxxxxxxxxxxxxxxxxxxxxxxxxxxxxxxxxxxxxxxxxxxxxxxx\n", 
                "                ////////////////////////////////\n", 
                "                site-packages/six.py exec_\n", 
                "                From site-packages/six.py exec_ | Celler/__init__.py do_cell | Notebooker/__init__.py do_notebook | Documenter/__init__.py do_inform | inform.py <module>\n", 
                "                ////////////////////////////////\n", 
                "                \n", 
                "                l.638 : \n", 
                "                *****\n", 
                "                I am with []\n", 
                "                *****\n", 
                "                I am in the make4 method\n", 
                "                xxxxxxxxxxxxxxxxxxxxxxxxxxxxxxxxxxxxxxxxxxxxxxxxxxxxxxxxxxxxxxxxxxxxxxxxxxxxxxxxxxxxxxxxxxxx\n", 
                "                                \n", 
                "                \n", 
                "                xxxxxxxxxxxxxxxxxxxxxxxxxxxxxxxxxxxxxxxxxxxxxxxxxxxxxxxxxxxxxxxxxxxxxxxxxxxxxxxxxxxxxxxxxxxx\n", 
                "                ////////////////////////////////\n", 
                "                site-packages/six.py exec_\n", 
                "                From site-packages/six.py exec_ | Celler/__init__.py do_cell | Notebooker/__init__.py do_notebook | Documenter/__init__.py do_inform | inform.py <module>\n", 
                "                ////////////////////////////////\n", 
                "                \n", 
                "                l.638 : \n", 
                "                *****\n", 
                "                I am with []\n", 
                "                *****\n", 
                "                I am still in the make4 method\n", 
                "                xxxxxxxxxxxxxxxxxxxxxxxxxxxxxxxxxxxxxxxxxxxxxxxxxxxxxxxxxxxxxxxxxxxxxxxxxxxxxxxxxxxxxxxxxxxx\n", 
                "                                \n", 
                "                \n", 
                "                xxxxxxxxxxxxxxxxxxxxxxxxxxxxxxxxxxxxxxxxxxxxxxxxxxxxxxxxxxxxxxxxxxxxxxxxxxxxxxxxxxxxxxxxxxxx\n", 
                "                ////////////////////////////////\n", 
                "                site-packages/six.py exec_\n", 
                "                From site-packages/six.py exec_ | Celler/__init__.py do_cell | Notebooker/__init__.py do_notebook | Documenter/__init__.py do_inform | inform.py <module>\n", 
                "                ////////////////////////////////\n", 
                "                \n", 
                "                l.638 : \n", 
                "                *****\n", 
                "                I am with []\n", 
                "                *****\n", 
                "                I am back in the make2 method\n", 
                "                xxxxxxxxxxxxxxxxxxxxxxxxxxxxxxxxxxxxxxxxxxxxxxxxxxxxxxxxxxxxxxxxxxxxxxxxxxxxxxxxxxxxxxxxxxxx\n", 
                "                                \n", 
                "                \n", 
                "                xxxxxxxxxxxxxxxxxxxxxxxxxxxxxxxxxxxxxxxxxxxxxxxxxxxxxxxxxxxxxxxxxxxxxxxxxxxxxxxxxxxxxxxxxxxx\n", 
                "                ////////////////////////////////\n", 
                "                site-packages/six.py exec_\n", 
                "                From site-packages/six.py exec_ | Celler/__init__.py do_cell | Notebooker/__init__.py do_notebook | Documenter/__init__.py do_inform | inform.py <module>\n", 
                "                ////////////////////////////////\n", 
                "                \n", 
                "                l.638 : \n", 
                "                *****\n", 
                "                I am with []\n", 
                "                *****\n", 
                "                I am back in the make1 method\n", 
                "                xxxxxxxxxxxxxxxxxxxxxxxxxxxxxxxxxxxxxxxxxxxxxxxxxxxxxxxxxxxxxxxxxxxxxxxxxxxxxxxxxxxxxxxxxxxx\n", 
                "                                \n", 
                "                                        \n", 
                "                                        xxxxxxxxxxxxxxxxxxxxxxxxxxxxxxxxxxxxxxxxxxxxxxxxxxxxxxxxxxxxxxxxxxxxxxxxxxxxxxxxxxxxxxxxxxxx\n", 
                "                                        ////////////////////////////////\n", 
                "                                        Doer/__init__.py do\n", 
                "                                        From site-packages/six.py exec_ | Celler/__init__.py do_cell | Doer/__init__.py do | Notebooker/__init__.py <lambda> | Notebooker/__init__.py do_notebook | Doer/__init__.py do | Documenter/__init__.py <lambda> | Documenter/__init__.py do_inform | Doer/__init__.py do | inform.py <module>\n", 
                "                                        ////////////////////////////////\n", 
                "                                        \n", 
                "                                        l.210 : \n", 
                "                                        *****\n", 
                "                                        I am with []\n", 
                "                                        *****\n", 
                "                                        I am in the make1 method\n", 
                "                                        xxxxxxxxxxxxxxxxxxxxxxxxxxxxxxxxxxxxxxxxxxxxxxxxxxxxxxxxxxxxxxxxxxxxxxxxxxxxxxxxxxxxxxxxxxxx\n", 
                "                                                                                \n", 
                "                                        \n", 
                "                                        xxxxxxxxxxxxxxxxxxxxxxxxxxxxxxxxxxxxxxxxxxxxxxxxxxxxxxxxxxxxxxxxxxxxxxxxxxxxxxxxxxxxxxxxxxxx\n", 
                "                                        ////////////////////////////////\n", 
                "                                        Doer/__init__.py do\n", 
                "                                        From site-packages/six.py exec_ | Celler/__init__.py do_cell | Doer/__init__.py do | Notebooker/__init__.py <lambda> | Notebooker/__init__.py do_notebook | Doer/__init__.py do | Documenter/__init__.py <lambda> | Documenter/__init__.py do_inform | Doer/__init__.py do | inform.py <module>\n", 
                "                                        ////////////////////////////////\n", 
                "                                        \n", 
                "                                        l.210 : \n", 
                "                                        *****\n", 
                "                                        I am with []\n", 
                "                                        *****\n", 
                "                                        I am in the make2 method\n", 
                "                                        xxxxxxxxxxxxxxxxxxxxxxxxxxxxxxxxxxxxxxxxxxxxxxxxxxxxxxxxxxxxxxxxxxxxxxxxxxxxxxxxxxxxxxxxxxxx\n", 
                "                                                                                \n", 
                "                                        \n", 
                "                                        xxxxxxxxxxxxxxxxxxxxxxxxxxxxxxxxxxxxxxxxxxxxxxxxxxxxxxxxxxxxxxxxxxxxxxxxxxxxxxxxxxxxxxxxxxxx\n", 
                "                                        ////////////////////////////////\n", 
                "                                        Doer/__init__.py do\n", 
                "                                        From site-packages/six.py exec_ | Celler/__init__.py do_cell | Doer/__init__.py do | Notebooker/__init__.py <lambda> | Notebooker/__init__.py do_notebook | Doer/__init__.py do | Documenter/__init__.py <lambda> | Documenter/__init__.py do_inform | Doer/__init__.py do | inform.py <module>\n", 
                "                                        ////////////////////////////////\n", 
                "                                        \n", 
                "                                        l.210 : \n", 
                "                                        *****\n", 
                "                                        I am with []\n", 
                "                                        *****\n", 
                "                                        I am in the make3 method\n", 
                "                                        xxxxxxxxxxxxxxxxxxxxxxxxxxxxxxxxxxxxxxxxxxxxxxxxxxxxxxxxxxxxxxxxxxxxxxxxxxxxxxxxxxxxxxxxxxxx\n", 
                "                                                                                \n", 
                "                                        \n", 
                "                                        xxxxxxxxxxxxxxxxxxxxxxxxxxxxxxxxxxxxxxxxxxxxxxxxxxxxxxxxxxxxxxxxxxxxxxxxxxxxxxxxxxxxxxxxxxxx\n", 
                "                                        ////////////////////////////////\n", 
                "                                        Doer/__init__.py do\n", 
                "                                        From site-packages/six.py exec_ | Celler/__init__.py do_cell | Doer/__init__.py do | Notebooker/__init__.py <lambda> | Notebooker/__init__.py do_notebook | Doer/__init__.py do | Documenter/__init__.py <lambda> | Documenter/__init__.py do_inform | Doer/__init__.py do | inform.py <module>\n", 
                "                                        ////////////////////////////////\n", 
                "                                        \n", 
                "                                        l.210 : \n", 
                "                                        *****\n", 
                "                                        I am with []\n", 
                "                                        *****\n", 
                "                                        I am in the make4 method\n", 
                "                                        xxxxxxxxxxxxxxxxxxxxxxxxxxxxxxxxxxxxxxxxxxxxxxxxxxxxxxxxxxxxxxxxxxxxxxxxxxxxxxxxxxxxxxxxxxxx\n", 
                "                                                                                \n", 
                "                                        \n", 
                "                                        xxxxxxxxxxxxxxxxxxxxxxxxxxxxxxxxxxxxxxxxxxxxxxxxxxxxxxxxxxxxxxxxxxxxxxxxxxxxxxxxxxxxxxxxxxxx\n", 
                "                                        ////////////////////////////////\n", 
                "                                        Doer/__init__.py do\n", 
                "                                        From site-packages/six.py exec_ | Celler/__init__.py do_cell | Doer/__init__.py do | Notebooker/__init__.py <lambda> | Notebooker/__init__.py do_notebook | Doer/__init__.py do | Documenter/__init__.py <lambda> | Documenter/__init__.py do_inform | Doer/__init__.py do | inform.py <module>\n", 
                "                                        ////////////////////////////////\n", 
                "                                        \n", 
                "                                        l.210 : \n", 
                "                                        *****\n", 
                "                                        I am with []\n", 
                "                                        *****\n", 
                "                                        I am still in the make4 method\n", 
                "                                        xxxxxxxxxxxxxxxxxxxxxxxxxxxxxxxxxxxxxxxxxxxxxxxxxxxxxxxxxxxxxxxxxxxxxxxxxxxxxxxxxxxxxxxxxxxx\n", 
                "                                                                                \n", 
                "                                        \n", 
                "                                        xxxxxxxxxxxxxxxxxxxxxxxxxxxxxxxxxxxxxxxxxxxxxxxxxxxxxxxxxxxxxxxxxxxxxxxxxxxxxxxxxxxxxxxxxxxx\n", 
                "                                        ////////////////////////////////\n", 
                "                                        Doer/__init__.py do\n", 
                "                                        From site-packages/six.py exec_ | Celler/__init__.py do_cell | Doer/__init__.py do | Notebooker/__init__.py <lambda> | Notebooker/__init__.py do_notebook | Doer/__init__.py do | Documenter/__init__.py <lambda> | Documenter/__init__.py do_inform | Doer/__init__.py do | inform.py <module>\n", 
                "                                        ////////////////////////////////\n", 
                "                                        \n", 
                "                                        l.210 : \n", 
                "                                        *****\n", 
                "                                        I am with []\n", 
                "                                        *****\n", 
                "                                        I am back in the make2 method\n", 
                "                                        xxxxxxxxxxxxxxxxxxxxxxxxxxxxxxxxxxxxxxxxxxxxxxxxxxxxxxxxxxxxxxxxxxxxxxxxxxxxxxxxxxxxxxxxxxxx\n", 
                "                                                                                \n", 
                "                                        \n", 
                "                                        xxxxxxxxxxxxxxxxxxxxxxxxxxxxxxxxxxxxxxxxxxxxxxxxxxxxxxxxxxxxxxxxxxxxxxxxxxxxxxxxxxxxxxxxxxxx\n", 
                "                                        ////////////////////////////////\n", 
                "                                        Doer/__init__.py do\n", 
                "                                        From site-packages/six.py exec_ | Celler/__init__.py do_cell | Doer/__init__.py do | Notebooker/__init__.py <lambda> | Notebooker/__init__.py do_notebook | Doer/__init__.py do | Documenter/__init__.py <lambda> | Documenter/__init__.py do_inform | Doer/__init__.py do | inform.py <module>\n", 
                "                                        ////////////////////////////////\n", 
                "                                        \n", 
                "                                        l.210 : \n", 
                "                                        *****\n", 
                "                                        I am with []\n", 
                "                                        *****\n", 
                "                                        I am back in the make1 method\n", 
                "                                        xxxxxxxxxxxxxxxxxxxxxxxxxxxxxxxxxxxxxxxxxxxxxxxxxxxxxxxxxxxxxxxxxxxxxxxxxxxxxxxxxxxxxxxxxxxx\n", 
                "                                                                                \n"
              ]
            }
          ], 
          "collapsed": false, 
          "metadata": {
            "slideshow": {
              "slide_type": "-"
            }
          }
        }, 
        {
          "source": "\n<!--\nFrozenIsBool False\n-->\n\n#Conditioner\n\n##Doc\n----\n\n\n> \n> The Conditioner\n> \n> \n\n----\n\n<small>\nView the Conditioner notebook on [NbViewer](http://nbviewer.ipython.org/url/shareyoursystem.ouvaton.org/Conditioner.ipynb)\n</small>\n\n", 
          "cell_type": "markdown", 
          "prompt_number": 8, 
          "metadata": {
            "slideshow": {
              "slide_type": "slide"
            }
          }
        }, 
        {
          "source": "\n<!--\nFrozenIsBool False\n-->\n\n##Code\n\n----\n\n<ClassDocStr>\n\n----\n\n```python\n# -*- coding: utf-8 -*-\n\"\"\"\n\n\n<DefineSource>\n@Date : Fri Nov 14 13:20:38 2014 \\n\n@Author : Erwan Ledoux \\n\\n\n</DefineSource>\n\n\nThe Conditioner\n\n\"\"\"\n\n\n#<DefineAugmentation>\nimport ShareYourSystem as SYS\nBaseModuleStr=\"ShareYourSystem.Standards.Objects.Debugger\"\nDecorationModuleStr=\"ShareYourSystem.Standards.Classors.Representer\"\nSYS.setSubModule(globals())\n#</DefineAugmentation>\n\n#<ImportSpecificModules>\nRepresenter=DecorationModule\n#</ImportSpecificModules>\n\n#<DefineClass>\n@DecorationClass()\nclass ConditionerClass(BaseClass):\n\n\t#Definition\n\tRepresentingKeyStrsList=[\n\t\t\t\t\t\t\t\t\t'ConditioningTestGetVariable',\n\t\t\t\t\t\t\t\t\t'ConditioningGetBoolFunction',\n\t\t\t\t\t\t\t\t\t'ConditionedIsBool'\n\t\t\t\t\t\t\t\t]\n\t\n\tdef default_init(self,\n\t\t\t\t\t\t_ConditioningTestGetVariable=None,\n\t\t\t\t\t\t_ConditioningGetBoolFunction=None,\n\t\t\t\t\t\t_ConditioningAttestGetVariable=None,\n\t\t\t\t\t\t_ConditionedIsBool=True,\n\t\t\t\t\t\t**_KwargVariablesDict\n\t\t\t\t\t):\n\t\t\n\t\t#Call the parent init method\n\t\tBaseClass.__init__(self,**_KwargVariablesDict)\n\t\n\t#<DefineDoMethod>\t\n\tdef do_condition(self):\n\n\t\t#debug\n\t\t'''\n\t\tself.debug(('self.',self,[\n\t\t\t\t\t\t\t\t\t'ConditioningTestGetVariable',\n\t\t\t\t\t\t\t\t\t'ConditioningAttestGetVariable'\n\t\t\t\t\t\t\t\t]))\n\t\t'''\n\t\t\n\t\t#call\n\t\tself.ConditionedIsBool=self.ConditioningGetBoolFunction(\n\t\t\tself.ConditioningTestGetVariable,\n\t\t\tself.ConditioningAttestGetVariable\n\t\t)\n\n\t\t#debug\n\t\t'''\n\t\tself.debug(('self.',self,['ConditionedIsBool']))\n\t\t'''\n\t\t\n#</DefineClass>\n\n\n```\n\n<small>\nView the Conditioner sources on <a href=\"https://github.com/Ledoux/ShareYourSystem/tree/master/Pythonlogy/ShareYourSystem/Objects/Conditioner\" target=\"_blank\">Github</a>\n</small>\n\n", 
          "cell_type": "markdown", 
          "prompt_number": 9, 
          "metadata": {
            "slideshow": {
              "slide_type": "subslide"
            }
          }
        }, 
        {
          "source": "\n<!---\nFrozenIsBool True\n-->\n\n##Example\n\nLet's create an empty class, which will automatically receive\nspecial attributes from the decorating ClassorClass,\nspecially the NameStr, that should be the ClassStr\nwithout the TypeStr in the end.", 
          "cell_type": "markdown", 
          "prompt_number": 10, 
          "metadata": {
            "slideshow": {
              "slide_type": "subslide"
            }
          }
        }, 
        {
          "cell_type": "code", 
          "prompt_number": 11, 
          "language": "python", 
          "input": [
            "#ImportModules\n", 
            "import ShareYourSystem as SYS\n", 
            "from ShareYourSystem.Standards.Classors import Attester\n", 
            "from ShareYourSystem.Standards.Objects import Conditioner\n", 
            "\n", 
            "#Definition of an instance Conditioner and make it print hello\n", 
            "MyConditioner=Conditioner.ConditionerClass(**{\n", 
            "        'ConditioningGetBoolFunction':lambda _TestVariable,_AttestVariable:_TestVariable==_AttestVariable,\n", 
            "        'ConditioningAttestGetVariable':2\n", 
            "    })\n", 
            "MyConditioner.condition(3).ConditionedIsBool\n", 
            "    \n", 
            "#Definition the AttestedStr\n", 
            "SYS._attest(\n", 
            "                    [\n", 
            "                        'MyConditioner.condition(3).ConditionedIsBool is '+str(\n", 
            "                            MyConditioner.condition(3).ConditionedIsBool),\n", 
            "                        'MyConditioner.condition(2).ConditionedIsBool is '+str(\n", 
            "                            MyConditioner.condition(2).ConditionedIsBool)\n", 
            "                    ]\n", 
            "                ) \n", 
            "\n", 
            "#Print\n", 
            "\n", 
            "\n"
          ], 
          "outputs": [
            {
              "output_type": "stream", 
              "stream": "stdout", 
              "text": [
                "\n", 
                "\n", 
                "*****Start of the Attest *****\n", 
                "\n", 
                "MyConditioner.condition(3).ConditionedIsBool is False\n", 
                "\n", 
                "------\n", 
                "\n", 
                "MyConditioner.condition(2).ConditionedIsBool is True\n", 
                "\n", 
                "*****End of the Attest *****\n", 
                "\n", 
                "\n"
              ]
            }
          ], 
          "collapsed": false, 
          "metadata": {
            "slideshow": {
              "slide_type": "-"
            }
          }
        }, 
        {
          "source": "\n<!--\nFrozenIsBool False\n-->\n\n#Concluder\n\n##Doc\n----\n\n\n> \n> A Concluder\n> \n> \n\n----\n\n<small>\nView the Concluder notebook on [NbViewer](http://nbviewer.ipython.org/url/shareyoursystem.ouvaton.org/Concluder.ipynb)\n</small>\n\n", 
          "cell_type": "markdown", 
          "prompt_number": 12, 
          "metadata": {
            "slideshow": {
              "slide_type": "slide"
            }
          }
        }, 
        {
          "source": "\n<!--\nFrozenIsBool False\n-->\n\n##Code\n\n----\n\n<ClassDocStr>\n\n----\n\n```python\n# -*- coding: utf-8 -*-\n\"\"\"\n\n\n<DefineSource>\n@Date : Fri Nov 14 13:20:38 2014 \\n\n@Author : Erwan Ledoux \\n\\n\n</DefineSource>\n\n\nA Concluder\n\n\"\"\"\n\n#<DefineAugmentation>\nimport ShareYourSystem as SYS\nBaseModuleStr=\"ShareYourSystem.Standards.Objects.Conditioner\"\nDecorationModuleStr=\"ShareYourSystem.Standards.Classors.Tester\"\nSYS.setSubModule(globals())\n#</DefineAugmentation>\n\n#<ImportSpecificModules>\n#</ImportSpecificModules>\n\n#<DefineClass>\n@DecorationClass()\nclass ConcluderClass(BaseClass):\n\t\n\t#Definition\n\tRepresentingKeyStrsList=[\n\t\t\t\t\t\t\t\t\t'ConcludingTestVariable',\n\t\t\t\t\t\t\t\t\t'ConcludingConditionVariable',\n\t\t\t\t\t\t\t\t\t'ConcludedConditionIsBoolsList',\n\t\t\t\t\t\t\t\t\t'ConcludedIsBool'\n\t\t\t\t\t\t\t\t]\n\n\tdef default_init(self,\n\t\t\t\t_ConcludingTestVariable=None,\n\t\t\t\t_ConcludingConditionVariable=None,\n\t\t\t\t_ConcludedConditionIsBoolsList=None,\n\t\t\t\t_ConcludedIsBool=True,\n\t\t\t\t**_KwargVariablesDict\n\t\t\t\t):\n\n\t\t#Call the parent init method\n\t\tBaseClass.__init__(self,**_KwargVariablesDict)\n\n\tdef do_conclude(self):\n\t\t\"\"\" \"\"\"\n\n\t\t#debug\n\t\t'''\n\t\tself.debug(('self.',self,['ConcludingConditionVariable']))\n\t\t'''\n\t\t\n\t\t#Apply __getitem__\n\t\tself.ConcludedConditionIsBoolsList=map(\n\t\t\t\tlambda __ConcludingConditionTuple:\n\t\t\t\tself.condition(\n\t\t\t\t\t\tself.ConcludingTestVariable[\n\t\t\t\t\t\t\t__ConcludingConditionTuple[0]\n\t\t\t\t\t\t] if type(\n\t\t\t\t\t\t\t__ConcludingConditionTuple[0])\n\t\t\t\t\t\tin SYS.StrTypesList else __ConcludingConditionTuple[0],\n\t\t\t\t\t\t__ConcludingConditionTuple[1],\n\t\t\t\t\t\t__ConcludingConditionTuple[2]\n\t\t\t\t\t).ConditionedIsBool,\n\t\t\t\tself.ConcludingConditionVariable\n\t\t\t)\n\n\t\t#all\n\t\tself.ConcludedIsBool=all(self.ConcludedConditionIsBoolsList)\n\n\t\t#Return self\n\t\t#return self\n#</DefineClass>\n\n```\n\n<small>\nView the Concluder sources on <a href=\"https://github.com/Ledoux/ShareYourSystem/tree/master/Pythonlogy/ShareYourSystem/Objects/Concluder\" target=\"_blank\">Github</a>\n</small>\n\n", 
          "cell_type": "markdown", 
          "prompt_number": 13, 
          "metadata": {
            "slideshow": {
              "slide_type": "subslide"
            }
          }
        }, 
        {
          "source": "\n<!---\nFrozenIsBool True\n-->\n\n##Example\n\nLet's do a simple conclude call", 
          "cell_type": "markdown", 
          "prompt_number": 14, 
          "metadata": {
            "slideshow": {
              "slide_type": "subslide"
            }
          }
        }, 
        {
          "cell_type": "code", 
          "prompt_number": 15, 
          "language": "python", 
          "input": [
            "\n", 
            "#ImportModules\n", 
            "import ShareYourSystem as SYS\n", 
            "from ShareYourSystem.Standards.Objects import Concluder\n", 
            "import operator\n", 
            "\n", 
            "#Definition of an instance Concluder and make it print hello\n", 
            "MyConcluder=Concluder.ConcluderClass().conclude(\n", 
            "    {'MyColorStr':'Black','MySuperInt':6},\n", 
            "    [\n", 
            "        ('MyColorStr',operator.eq,\"Black\"),\n", 
            "        ('MySuperInt',operator.gt,3),\n", 
            "        (1,operator.eq,1)\n", 
            "    ]\n", 
            ")\n", 
            "    \n", 
            "#Definition the AttestedStr\n", 
            "SYS._attest(\n", 
            "    [\n", 
            "        'MyConcluder is '+SYS._str(\n", 
            "        MyConcluder,\n", 
            "        **{\n", 
            "            'RepresentingBaseKeyStrsListBool':False,\n", 
            "            'RepresentingAlineaIsBool':False\n", 
            "            }\n", 
            "        ),\n", 
            "    ]\n", 
            ") \n", 
            "\n", 
            "#Print\n", 
            "\n", 
            "\n", 
            "\n", 
            "\n", 
            "\n"
          ], 
          "outputs": [
            {
              "output_type": "stream", 
              "stream": "stdout", 
              "text": [
                "\n", 
                "\n", 
                "*****Start of the Attest *****\n", 
                "\n", 
                "MyConcluder is < (ConcluderClass), 4537219024>\n", 
                "   /{ \n", 
                "   /  '<New><Instance>IdInt' : 4537219024\n", 
                "   /  '<Spe><Instance>ConcludedConditionIsBoolsList' : \n", 
                "   /   /[\n", 
                "   /   /  0 : True\n", 
                "   /   /  1 : True\n", 
                "   /   /  2 : True\n", 
                "   /   /]\n", 
                "   /  '<Spe><Instance>ConcludedIsBool' : True\n", 
                "   /  '<Spe><Instance>ConcludingConditionVariable' : \n", 
                "   /   /[\n", 
                "   /   /  0 : \n", 
                "   /   /   /(\n", 
                "   /   /   /  0 : MyColorStr\n", 
                "   /   /   /  1 : <built-in function eq>\n", 
                "   /   /   /  2 : Black\n", 
                "   /   /   /)\n", 
                "   /   /  1 : \n", 
                "   /   /   /(\n", 
                "   /   /   /  0 : MySuperInt\n", 
                "   /   /   /  1 : <built-in function gt>\n", 
                "   /   /   /  2 : 3\n", 
                "   /   /   /)\n", 
                "   /   /  2 : \n", 
                "   /   /   /(\n", 
                "   /   /   /  0 : 1\n", 
                "   /   /   /  1 : {...}< (builtin_function_or_method), 4522748384>\n", 
                "   /   /   /  2 : 1\n", 
                "   /   /   /)\n", 
                "   /   /]\n", 
                "   /  '<Spe><Instance>ConcludingTestVariable' : \n", 
                "   /   /{ \n", 
                "   /   /  'MyColorStr' : Black\n", 
                "   /   /  'MySuperInt' : 6\n", 
                "   /   /}\n", 
                "   /}\n", 
                "\n", 
                "*****End of the Attest *****\n", 
                "\n", 
                "\n"
              ]
            }
          ], 
          "collapsed": false, 
          "metadata": {
            "slideshow": {
              "slide_type": "-"
            }
          }
        }, 
        {
          "source": "\n<!--\nFrozenIsBool False\n-->\n\n#Caller\n\n##Doc\n----\n\n\n> \n> The Caller is an Object that helps to get an make call a function/method.\n> \n> \n\n----\n\n<small>\nView the Caller notebook on [NbViewer](http://nbviewer.ipython.org/url/shareyoursystem.ouvaton.org/Caller.ipynb)\n</small>\n\n", 
          "cell_type": "markdown", 
          "prompt_number": 16, 
          "metadata": {
            "slideshow": {
              "slide_type": "slide"
            }
          }
        }, 
        {
          "source": "\n<!--\nFrozenIsBool False\n-->\n\n##Code\n\n----\n\n<ClassDocStr>\n\n----\n\n```python\n# -*- coding: utf-8 -*-\n\"\"\"\n\n\n<DefineSource>\n@Date : Fri Nov 14 13:20:38 2014 \\n\n@Author : Erwan Ledoux \\n\\n\n</DefineSource>\n\n\nThe Caller is an Object that helps to get an make call a function/method.\n\n\"\"\"\n\n#<DefineAugmentation>\nimport ShareYourSystem as SYS\nBaseModuleStr=\"ShareYourSystem.Standards.Objects.Packager\"\nDecorationModuleStr=\"ShareYourSystem.Standards.Classors.Tester\"\nSYS.setSubModule(globals())\n#</DefineAugmentation>\n\n#<ImportSpecificModules>\nimport sys\n#</ImportSpecificModules>\n\n#<DefineClass>\n@DecorationClass()\nclass CallerClass(BaseClass):\n\t\n\t#Definition\n\tRepresentingKeyStrsList=[\n\t\t\t\t\t\t\t\t'CallingVariable',\n\t\t\t\t\t\t\t\t'CallingFunctionStr',\n\t\t\t\t\t\t\t\t'CallingMethod',\n\t\t\t\t\t\t\t\t'CallingMethodStr',\n\t\t\t\t\t\t\t\t'CallingInstanceVariable',\n\t\t\t\t\t\t\t\t'CallingClass',\n\t\t\t\t\t\t\t\t'CallingClassStr',\n\t\t\t\t\t\t\t]\n\n\tdef default_init(self,\n\t\t\t\t\t\t_CallingVariable=None,\n\t\t\t\t\t\t_CallingFunctionStr=\"\",\n\t\t\t\t\t\t_CallingMethod=None,\n\t\t\t\t\t\t_CallingMethodStr=\"\",\n\t\t\t\t\t\t_CallingInstanceVariable=None,\n\t\t\t\t\t\t_CallingClass=None,\n\t\t\t\t\t\t_CallingClassStr=\"\",\n\t\t\t\t\t\t**_KwargVariablesDict\n\t\t\t\t\t):\n\t\t\n\t\t#Call the parent init method\n\t\tBaseClass.__init__(self,**_KwargVariablesDict)\n\t\n\t#<DefineDoMethod>\t\n\tdef do_call(self):\n\n\t\t#Module first to know where we are\n\t\tself.package()\n\n\t\t#debug\n\t\t'''\n\t\tprint(\"self.CallingVariable is \",self.CallingVariable)\n\t\tprint('')\n\t\t'''\n\n\t\t#If it was not yet setted or changed\n\t\tif self.CallingVariable==None or self.CallingVariable.__name__!=self.CallingFunctionStr:\n\n\t\t\t#debug\n\t\t\t'''\n\t\t\tprint('Get in the module')\n\t\t\tprint('self.PackagingModuleVariable is '+str(self.PackagingModuleVariable))\n\t\t\tprint('')\n\t\t\t'''\n\n\t\t\t#Get maybe the one in the module\n\t\t\tif self.CallingFunctionStr!=\"\":\n\n\t\t\t\t#debug\n\t\t\t\t'''\n\t\t\t\tprint('Get in the module with the function Str')\n\t\t\t\tprint('self.CallingFunctionStr is ',self.CallingFunctionStr)\n\t\t\t\tprint('')\n\t\t\t\t'''\n\n\t\t\t\t#Get and return\n\t\t\t\tself.CallingVariable=getattr(self.PackagedModuleVariable,self.CallingFunctionStr)\n\t\t\t\treturn self\n\n\t\t#Get the function \n\t\tif self.CallingVariable==None or self.CallingVariable.__name__!=self.CallingMethodStr:\n\n\t\t\t#debug\n\t\t\t'''\n\t\t\tprint('Get in a class')\n\t\t\tprint('self.PackagingModuleVariable is '+str(self.PackagingModuleVariable))\n\t\t\tprint('self.CallingVariable is ',self.CallingVariable)\n\t\t\tprint('self.CallingMethodStr is ',self.CallingMethodStr)\n\t\t\tprint('self.CallingClass is ',self.CallingClass)\n\t\t\tprint('self.CallingClassStr is ',self.CallingClassStr)\n\t\t\tprint('self.CallingInstanceVariable is ',self.CallingInstanceVariable)\n\t\t\tprint('')\n\t\t\t'''\n\t\t\t\n\t\t\t#Get with the CallingInstanceVariable class maybe\n\t\t\tif self.CallingClass==None and self.CallingInstanceVariable!=None:\n\t\t\t\tself.CallingClass=self.CallingInstanceVariable.__class__\n\n\t\t\t#Import the module if not already\n\t\t\tif self.CallingClass==None:\n\t\t\t\tif self.CallingClassStr!=\"\":\n\t\t\t\t\tself.CallingClass=getattr(self.PackagedModuleVariable,self.CallingClassStr)\n\t\t\t\telse:\n\t\t\t\t\tself.CallingClass=getattr(\n\t\t\t\t\t\t\t\t\tself.PackagedModuleVariable,\n\t\t\t\t\t\t\t\t\tSYS.getClassStrWithNameStr(\n\t\t\t\t\t\t\t\t\t\tSYS.getNameStrWithModuleStr(self.PackagedModuleVariable.__name__)\n\t\t\t\t\t\t\t\t\t\t)\n\t\t\t\t\t\t\t\t\t)\n\t\t\t\n\n\t\t\t#debug\n\t\t\t'''\n\t\t\tprint('Now get the unbounded method function')\n\t\t\tprint('self.CallingClass is '+str(self.CallingClass))\n\t\t\tprint('')\n\t\t\t'''\n\n\t\t\t#Check\n\t\t\tif self.CallingMethodStr!=\"\":\n\t\n\t\t\t\t#debug\n\t\t\t\t'''\n\t\t\t\tprint('self.CallingMethodStr is ',self.CallingMethodStr)\n\t\t\t\tprint('')\n\t\t\t\t'''\n\n\t\t\t\t#Return \n\t\t\t\tself.CallingVariable=getattr(self.CallingClass,self.CallingMethodStr)\n\n\t\t#Return\n\t\t#return self\n\n#</DefineClass>\n\n\n```\n\n<small>\nView the Caller sources on <a href=\"https://github.com/Ledoux/ShareYourSystem/tree/master/Pythonlogy/ShareYourSystem/Objects/Caller\" target=\"_blank\">Github</a>\n</small>\n\n", 
          "cell_type": "markdown", 
          "prompt_number": 17, 
          "metadata": {
            "slideshow": {
              "slide_type": "subslide"
            }
          }
        }, 
        {
          "source": "\n<!---\nFrozenIsBool True\n-->\n\n##Example\n\nLet's create an empty class, which will automatically receive\nspecial attributes from the decorating ClassorClass,\nspecially the NameStr, that should be the ClassStr\nwithout the TypeStr in the end.", 
          "cell_type": "markdown", 
          "prompt_number": 18, 
          "metadata": {
            "slideshow": {
              "slide_type": "subslide"
            }
          }
        }, 
        {
          "cell_type": "code", 
          "prompt_number": 19, 
          "language": "python", 
          "input": [
            "#ImportModules\n", 
            "import ShareYourSystem as SYS\n", 
            "from ShareYourSystem.Standards.Objects import Caller\n", 
            "\n", 
            "#Definition of a Caller instance\n", 
            "MyCaller=Caller.CallerClass()\n", 
            "\n", 
            "#Call the _print from the Rep\n", 
            "MyCaller.call(\n", 
            "    _FunctionStr='represent',\n", 
            "    **{\n", 
            "        'PackagingModuleVariable':'ShareYourSystem.Standards.Classors.Representer',\n", 
            "    }\n", 
            ")\n", 
            "\n", 
            "#Definition the AttestedStr\n", 
            "SYS._attest(\n", 
            "    [\n", 
            "        'MyCaller is '+SYS._str(\n", 
            "        MyCaller,\n", 
            "        **{\n", 
            "            'RepresentingBaseKeyStrsListBool':False\n", 
            "        }\n", 
            "        )\n", 
            "    ]\n", 
            ") \n", 
            "\n", 
            "#Print\n", 
            "\n", 
            "\n"
          ], 
          "outputs": [
            {
              "output_type": "stream", 
              "stream": "stdout", 
              "text": [
                "\n", 
                "\n", 
                "*****Start of the Attest *****\n", 
                "\n", 
                "MyCaller is < (CallerClass), 4537218448>\n", 
                "   /{ \n", 
                "   /  '<New><Instance>IdInt' : 4537218448\n", 
                "   /  '<Spe><Class>CallingClass' : None\n", 
                "   /  '<Spe><Class>CallingClassStr' : \n", 
                "   /  '<Spe><Class>CallingInstanceVariable' : None\n", 
                "   /  '<Spe><Class>CallingMethod' : None\n", 
                "   /  '<Spe><Class>CallingMethodStr' : \n", 
                "   /  '<Spe><Instance>CallingFunctionStr' : represent\n", 
                "   /  '<Spe><Instance>CallingVariable' : <function Watcher@represent at 0x10e4cf1b8>\n", 
                "   /}\n", 
                "\n", 
                "*****End of the Attest *****\n", 
                "\n", 
                "\n"
              ]
            }
          ], 
          "collapsed": false, 
          "metadata": {
            "slideshow": {
              "slide_type": "-"
            }
          }
        }, 
        {
          "source": "\n<!--\nFrozenIsBool False\n-->\n\n#Cloner\n\n##Doc\n----\n\n\n> \n> The Cloner\n> \n> \n\n----\n\n<small>\nView the Cloner notebook on [NbViewer](http://nbviewer.ipython.org/url/shareyoursystem.ouvaton.org/Cloner.ipynb)\n</small>\n\n", 
          "cell_type": "markdown", 
          "prompt_number": 20, 
          "metadata": {
            "slideshow": {
              "slide_type": "slide"
            }
          }
        }, 
        {
          "source": "\n<!--\nFrozenIsBool False\n-->\n\n##Code\n\n----\n\n<ClassDocStr>\n\n----\n\n```python\n# -*- coding: utf-8 -*-\n\"\"\"\n\n\n<DefineSource>\n@Date : Fri Nov 14 13:20:38 2014 \\n\n@Author : Erwan Ledoux \\n\\n\n</DefineSource>\n\n\nThe Cloner\n\n\"\"\"\n\n#<DefineAugmentation>\nimport ShareYourSystem as SYS\nBaseModuleStr=\"ShareYourSystem.Standards.Objects.Caller\"\nDecorationModuleStr=\"ShareYourSystem.Standards.Classors.Classer\"\nSYS.setSubModule(globals())\n#</DefineAugmentation>\n\n#<ImportSpecificModules>\nimport collections\nimport copy\n\n#</ImportSpecificModules>\n\n#<DefineDoStrsList>\nDoStrsList=[\"Cloner\",\"Clone\",\"Cloning\",\"Cloned\"]\n#<DefineDoStrsList>\n\n#<DefineLocals>\nCloningIdStringsList=[]\n#</DefineLocals>\n\ndef getCopiedMutableVariableWithMutableVariable(_MutableVariable,**_KwargVariablesDict):\n\n\tif 'CloningIdsDict' not in _KwargVariablesDict:\n\t\t_KwargVariablesDict['CloningIdsDict']={}\n\tif 'CloningNotCopyKeyStringsList' not in _KwargVariablesDict:\n\t\t_KwargVariablesDict['CloningNotCopyKeyStringsList']=[]\n\n\t#get the type\n\tType=type(_MutableVariable)\n\n\t#Debug\n\tprint('_MutableVariable is ',_MutableVariable)\n\tprint('')\n\n\t#itemized variable case\n\tif Type in [dict,collections.OrderedDict]:\n\t\treturn Type(\n\t\t\t\t\tmap(\n\t\t\t\t\t\tlambda __ItemTuple:\n\t\t\t\t\t\t(\n\t\t\t\t\t\t\t__ItemTuple[0],\n\t\t\t\t\t\t\t__ItemTuple[1].clone(\n\t\t\t\t\t\t\t\t_KwargVariablesDict['CloningIdsDict'],\n\t\t\t\t\t\t\t\t_KwargVariablesDict['CloningNotCopyKeyStringsList']\n\t\t\t\t\t\t\t)\n\t\t\t\t\t\t\tif hasattr(__ItemTuple[1],'clone')\n\t\t\t\t\t\t\telse getCopiedMutableVariableWithMutableVariable(\n\t\t\t\t\t\t\t\t__ItemTuple[1],\n\t\t\t\t\t\t\t\t**_KwargVariablesDict\n\t\t\t\t\t\t\t)\n\t\t\t\t\t\t\tif type(__ItemTuple[1]) in [list,tuple,set,dict,collections.OrderedDict]\n\t\t\t\t\t\t\telse __ItemTuple[1]\n\t\t\t\t\t\t),\n\t\t\t\t\t\t_MutableVariable.items()\n\t\t\t\t\t)\n\t\t\t\t)\n\n\t#listed variable case\n\telif Type in [list,tuple,set]:\n\n\t\treturn Type(\n\t\t\tmap(\n\t\t\t\tlambda __ListedVariable:\n\t\t\t\t__ListedVariable.clone(\n\t\t\t\t\t\t\t\t_KwargVariablesDict['CloningIdsDict'],\n\t\t\t\t\t\t\t\t_KwargVariablesDict['CloningNotCopyKeyStringsList']\n\t\t\t\t\t\t\t)\n\t\t\t\tif hasattr(__ListedVariable,'clone')\n\t\t\t\telse getCopiedMutableVariableWithMutableVariable(\n\t\t\t\t\t__ListedVariable,\n\t\t\t\t\t**_KwargVariablesDict\n\t\t\t\t)\n\t\t\t\tif type(__ListedVariable) in [list,tuple,set,dict,collections.OrderedDict]\n\t\t\t\telse __ListedVariable,\n\t\t\t\t_MutableVariable\n\t\t\t)\n\t\t)\n\n\t#other\n\telse:\n\n\t\treturn _MutableVariable\n\t\t\n#<DefineClass>\n@DecorationClass(**{'DoingGetBool':True})\nclass ClonerClass(BaseClass):\n\t\n\t#Definition\n\tRepresentingKeyStrsList=[\n\t\t\t\t\t\t\t\t'CloningIdsDict',\n\t\t\t\t\t\t\t\t'CloningNotCopyKeyStringsList',\n\t\t\t\t\t\t\t\t'CloningResetBool',\n\t\t\t\t\t\t\t\t'ClonedItemTuplesList',\n\t\t\t\t\t\t\t\t'ClonedCopyVariable'\n\t\t\t\t\t\t\t]\n\n\n\tdef default_init(self,\n\t\t\t\t\t\t_CloningIdsDict=None,\n\t\t\t\t\t\t_CloningNotCopyKeyStringsList=None,\n\t\t\t\t\t\t_CloningResetBool=False,\n\t\t\t\t\t\t_ClonedItemTuplesList=None,\n\t\t\t\t\t\t_ClonedCopyVariable=None,\n\t\t\t\t\t\t**_KwargVariablesDict\n\t\t\t\t\t):\n\n\t\t#Call the parent __init__ method\n\t\tBaseClass.__init__(self,**_KwargVariablesDict)\n\n\t#@Argumenter.ArgumenterClass()\n\tdef do_clone(self):\n\n\t\t#filter\n\t\tself.ClonedItemTuplesList=SYS._filter(\n\t\t\t\tlambda __ItemTuple:\n\t\t\t\t__ItemTuple[0] not in self.CloningNotCopyKeyStringsList,\n\t\t\t\tself.__dict__.items()\n\t\t\t)\n\n\t\t\"\"\"\n\t\t#global\n\t\tglobal CloningIdStringsList\n\n\t\t#check\n\t\tif self.CloningResetBool:\n\t\t\tCloningIdStringsList=[]\n\t\t\tself.CloningIdsDict={}\n\n\t\t#if self.IdString in CloningIdStringsList:\n\n\t\t#return \n\n\t\t#append\n\t\t#CloningIdStringsList.append(id(self))\n\n\t\t\n\t\t\n\t\t#debug\n\t\t'''\n\t\tself.debug(\n\t\t\t('self.',self,['ClonedItemTuplesList'])\n\t\t)\n\t\t'''\n\n\t\t#debug\n\t\tself.ClonedValueTuplesList=[]\n\t\tfor __ClonedItemTuple in self.ClonedItemTuplesList:\n\n\t\t\tprint('__ClonedItemTuple[0] is ',__ClonedItemTuple[0])\n\t\t\tprint('__ClonedItemTuple[1] is ',__ClonedItemTuple[1])\n\t\t\tprint('')\n\n\t\t\tClonedIdString=id(__ClonedItemTuple[1])\n\t\t\tif hasattr(\n\t\t\t\t\t\t__ClonedItemTuple[1],\n\t\t\t\t\t\t'clone'\n\t\t\t\t\t):\n\n\t\t\t\tprint('IdString in CloningIdStringsList is ',ClonedIdString in CloningIdStringsList)\n\t\t\t\tprint('')\n\n\t\t\t\t#Check\n\t\t\t\tif ClonedIdString in CloningIdStringsList:\n\t\n\t\t\t\t\t#\n\t\t\t\t\tself.ClonedValueTuplesList.append(self.CloningIdsDict[ClonedIdString])\n\n\t\t\t\telse:\n\n\t\t\t\t\t#append\n\t\t\t\t\tCloningIdStringsList.append(ClonedIdString)\n\n\t\t\t\t\t#set\n\t\t\t\t\tself.CloningIdsDict[ClonedIdString]=__ClonedItemTuple[1]\n\n\t\t\t\t\t#append\n\t\t\t\t\tself.ClonedValueTuplesList.append(\n\t\t\t\t\t\t__ClonedItemTuple[1].clone(\n\t\t\t\t\t\t\tself.CloningIdsDict,\n\t\t\t\t\t\t\tself.CloningNotCopyKeyStringsList\n\t\t\t\t\t\t)\n\t\t\t\t\t)\n\n\t\t\telse:\n\n\t\t\t\tself.ClonedValueTuplesList.append(\n\t\t\t\t\tgetCopiedMutableVariableWithMutableVariable(__ClonedItemTuple[1],\n\t\t\t\t\t\t**{\n\t\t\t\t\t\t\t'CloningIdsDict':self.CloningIdsDict,\n\t\t\t\t\t\t\t'CloningNotCopyKeyStringsList':self.CloningNotCopyKeyStringsList\n\t\t\t\t\t\t})\n\t\t\t\t)\n\n\t\t'''\n\t\t#copy or clone\n\t\tself.ClonedValueTuplesList=map(\n\t\t\tlambda __ClonedValueTuple:\n\t\t\t__ClonedValueTuple.clone() if hasattr(\n\t\t\t\t\t__ClonedValueTuple,\n\t\t\t\t\t'clone'\n\t\t\t\t)\n\t\t\telse getCopiedMutableVariableWithMutableVariable(__ClonedValueTuple),\n\t\t\tSYS.unzip(self.ClonedItemTuplesList,[1])\n\t\t)\n\t\t'''\n\t\t\t\n\t\t#update\n\t\tself.CloningIdsDict[self.IdString]=self.ClonedCopyVariable\n\t\t\n\n\t\t#instance\n\t\tself.ClonedCopyVariable=self.__class__(\n\t\t\t\t**dict(\t\n\t\t\t\tcopy.deepcopy(\n\t\t\t\t\t\tself.ClonedItemTuplesList\n\t\t\t\t\t\t#zip(\n\t\t\t\t\t\t#\tSYS.unzip(self.ClonedItemTuplesList,[0]),\n\t\t\t\t\t\t#\tself.ClonedValueTuplesList\n\t\t\t\t\t\t#\t)\n\t\t\t\t)\n\t\t\t)\n\t\t)\n\t\t\"\"\"\t\n\t\t\n\t\tfor __ClonedItemTuple in self.ClonedItemTuplesList:\n\t\t\tprint(__ClonedItemTuple)\n\t\t\tcopy.deepcopy(__ClonedItemTuple)\n\n\t\t#copy\n\t\tself.ClonedCopyVariable=copy.deepcopy(self)\n\n\n\t\t#return\n\t\treturn self.ClonedCopyVariable\n\n\t\t#Return self\n\t\t#return self\n\t\n#</DefineClass>\n\n\n```\n\n<small>\nView the Cloner sources on <a href=\"https://github.com/Ledoux/ShareYourSystem/tree/master/Pythonlogy/ShareYourSystem/Objects/Cloner\" target=\"_blank\">Github</a>\n</small>\n\n", 
          "cell_type": "markdown", 
          "prompt_number": 21, 
          "metadata": {
            "slideshow": {
              "slide_type": "subslide"
            }
          }
        }, 
        {
          "source": "\n<!---\nFrozenIsBool True\n-->\n\n##Example\n\nLet's create an empty class, which will automatically receive\nspecial attributes from the decorating ClassorClass,\nspecially the NameStr, that should be the ClassStr\nwithout the TypeStr in the end.", 
          "cell_type": "markdown", 
          "prompt_number": 22, 
          "metadata": {
            "slideshow": {
              "slide_type": "subslide"
            }
          }
        }, 
        {
          "cell_type": "code", 
          "prompt_number": 23, 
          "language": "python", 
          "input": [
            "#ImportModules\n", 
            "import ShareYourSystem as SYS\n", 
            "from ShareYourSystem.Standards.Objects import Cloner\n", 
            "\n", 
            "#Definition of an instance Cloner \n", 
            "MyCloner=Cloner.ClonerClass()\n", 
            "MyCloner.MyInt=1\n", 
            "\n", 
            "#clone\n", 
            "MyFirstCloner=MyCloner.clone()\n", 
            "MyFirstCloner.MyInt=2\n", 
            "\n", 
            "#Definition the AttestedStr\n", 
            "SYS._attest(\n", 
            "                    [\n", 
            "                        'MyCloner is '+SYS._str(MyCloner),\n", 
            "                        'MyFirstCloner is '+SYS._str(MyFirstCloner)\n", 
            "                    ]\n", 
            "                ) \n", 
            "\n", 
            "#Print\n", 
            "\n", 
            "\n"
          ], 
          "outputs": [
            {
              "output_type": "stream", 
              "stream": "stdout", 
              "text": [
                "('CloningNotCopyKeyStringsList', [])\n", 
                "('MyInt', 1)\n", 
                "('ClonedItemTuplesList', [])\n", 
                "('CloningIdsDict', {})\n", 
                "('IdInt', 4537218832)\n", 
                "\n", 
                "\n", 
                "*****Start of the Attest *****\n", 
                "\n", 
                "MyCloner is < (ClonerClass), 4537218832>\n", 
                "   /{ \n", 
                "   /  '<New><Instance>IdInt' : 4537218832\n", 
                "   /  '<New><Instance>MyInt' : 1\n", 
                "   /  '<Spe><Class>CloningResetBool' : False\n", 
                "   /  '<Spe><Instance>ClonedCopyVariable' : < (ClonerClass), 4537217936>\n", 
                "   /   /{ \n", 
                "   /   /  '<New><Instance>IdInt' : 4537218832\n", 
                "   /   /  '<New><Instance>MyInt' : 2\n", 
                "   /   /  '<Spe><Class>ClonedCopyVariable' : None\n", 
                "   /   /  '<Spe><Class>CloningResetBool' : False\n", 
                "   /   /  '<Spe><Instance>ClonedItemTuplesList' : \n", 
                "   /   /   /[\n", 
                "   /   /   /  0 : \n", 
                "   /   /   /   /(\n", 
                "   /   /   /   /  0 : CloningNotCopyKeyStringsList\n", 
                "   /   /   /   /  1 : []\n", 
                "   /   /   /   /)\n", 
                "   /   /   /  1 : ('MyInt', 1)\n", 
                "   /   /   /  2 : \n", 
                "   /   /   /   /(\n", 
                "   /   /   /   /  0 : ClonedItemTuplesList\n", 
                "   /   /   /   /  1 : []\n", 
                "   /   /   /   /)\n", 
                "   /   /   /  3 : \n", 
                "   /   /   /   /(\n", 
                "   /   /   /   /  0 : CloningIdsDict\n", 
                "   /   /   /   /  1 : \n", 
                "   /   /   /   /   /{ \n", 
                "   /   /   /   /   /}\n", 
                "   /   /   /   /)\n", 
                "   /   /   /  4 : ('IdInt', 4537218832)\n", 
                "   /   /   /]\n", 
                "   /   /  '<Spe><Instance>CloningIdsDict' : {...}< (dict), 4537304800>\n", 
                "   /   /  '<Spe><Instance>CloningNotCopyKeyStringsList' : {...}< (list), 4537070656>\n", 
                "   /   /}\n", 
                "   /  '<Spe><Instance>ClonedItemTuplesList' : \n", 
                "   /   /[\n", 
                "   /   /  0 : \n", 
                "   /   /   /(\n", 
                "   /   /   /  0 : CloningNotCopyKeyStringsList\n", 
                "   /   /   /  1 : []\n", 
                "   /   /   /)\n", 
                "   /   /  1 : {...}< (tuple), 4536798816>\n", 
                "   /   /  2 : \n", 
                "   /   /   /(\n", 
                "   /   /   /  0 : ClonedItemTuplesList\n", 
                "   /   /   /  1 : []\n", 
                "   /   /   /)\n", 
                "   /   /  3 : \n", 
                "   /   /   /(\n", 
                "   /   /   /  0 : CloningIdsDict\n", 
                "   /   /   /  1 : \n", 
                "   /   /   /   /{ \n", 
                "   /   /   /   /}\n", 
                "   /   /   /)\n", 
                "   /   /  4 : {...}< (tuple), 4537214232>\n", 
                "   /   /]\n", 
                "   /  '<Spe><Instance>CloningIdsDict' : {...}< (dict), 4537065552>\n", 
                "   /  '<Spe><Instance>CloningNotCopyKeyStringsList' : {...}< (list), 4537073464>\n", 
                "   /}\n", 
                "\n", 
                "------\n", 
                "\n", 
                "MyFirstCloner is < (ClonerClass), 4537217936>\n", 
                "   /{ \n", 
                "   /  '<New><Instance>IdInt' : 4537218832\n", 
                "   /  '<New><Instance>MyInt' : 2\n", 
                "   /  '<Spe><Class>ClonedCopyVariable' : None\n", 
                "   /  '<Spe><Class>CloningResetBool' : False\n", 
                "   /  '<Spe><Instance>ClonedItemTuplesList' : \n", 
                "   /   /[\n", 
                "   /   /  0 : \n", 
                "   /   /   /(\n", 
                "   /   /   /  0 : CloningNotCopyKeyStringsList\n", 
                "   /   /   /  1 : []\n", 
                "   /   /   /)\n", 
                "   /   /  1 : ('MyInt', 1)\n", 
                "   /   /  2 : \n", 
                "   /   /   /(\n", 
                "   /   /   /  0 : ClonedItemTuplesList\n", 
                "   /   /   /  1 : []\n", 
                "   /   /   /)\n", 
                "   /   /  3 : \n", 
                "   /   /   /(\n", 
                "   /   /   /  0 : CloningIdsDict\n", 
                "   /   /   /  1 : \n", 
                "   /   /   /   /{ \n", 
                "   /   /   /   /}\n", 
                "   /   /   /)\n", 
                "   /   /  4 : ('IdInt', 4537218832)\n", 
                "   /   /]\n", 
                "   /  '<Spe><Instance>CloningIdsDict' : {...}< (dict), 4537304800>\n", 
                "   /  '<Spe><Instance>CloningNotCopyKeyStringsList' : {...}< (list), 4537070656>\n", 
                "   /}\n", 
                "\n", 
                "*****End of the Attest *****\n", 
                "\n", 
                "\n"
              ]
            }
          ], 
          "collapsed": false, 
          "metadata": {
            "slideshow": {
              "slide_type": "-"
            }
          }
        }, 
        {
          "source": "\n<!--\nFrozenIsBool False\n-->\n\n#Rebooter\n\n##Doc\n----\n\n\n> \n> The Rebooter\n> \n> \n\n----\n\n<small>\nView the Rebooter notebook on [NbViewer](http://nbviewer.ipython.org/url/shareyoursystem.ouvaton.org/Rebooter.ipynb)\n</small>\n\n", 
          "cell_type": "markdown", 
          "prompt_number": 24, 
          "metadata": {
            "slideshow": {
              "slide_type": "slide"
            }
          }
        }, 
        {
          "source": "\n<!--\nFrozenIsBool False\n-->\n\n##Code\n\n----\n\n<ClassDocStr>\n\n----\n\n```python\n# -*- coding: utf-8 -*-\n\"\"\"\n\n\n<DefineSource>\n@Date : Fri Nov 14 13:20:38 2014 \\n\n@Author : Erwan Ledoux \\n\\n\n</DefineSource>\n\n\nThe Rebooter\n\n\"\"\"\n\n#<DefineAugmentation>\nimport ShareYourSystem as SYS\nBaseModuleStr=\"ShareYourSystem.Standards.Objects.Concluder\"\nDecorationModuleStr=\"ShareYourSystem.Standards.Classors.Classer\"\nSYS.setSubModule(globals())\n#</DefineAugmentation>\n\n#<ImportSpecificModules>\nimport collections\nimport copy\n#</ImportSpecificModules>\n\n#<DefineClass>\n@DecorationClass()\nclass RebooterClass(BaseClass):\n\t\n\t#Definition\n\tRepresentingKeyStrsList=[\n\t\t'RebootingDoStrsList',\n\t\t'RebootingNameStrsList',\n\t\t'RebootingAllDoBool',\n\t\t'RebootingAllNameBool',\n\t\t'RebootingDoingIsBool',\n\t\t'RebootedWatchBoolKeyStrsList',\n\t\t'RebootingSetDoIsBool'\n\t]\n\n\tdef default_init(self,\n\t\t\t\t\t\t_RebootingNameStrsList=None,\n\t\t\t\t\t\t_RebootingDoStrsList=None,\n\t\t\t\t\t\t_RebootingAllNameBool=True,\n\t\t\t\t\t\t_RebootingAllDoBool=True,\n\t\t\t\t\t\t_RebootingSetDoIsBool=True,\n\t\t\t\t\t\t_RebootedWatchBoolKeyStrsList=None,\n\t\t\t\t\t\t**_KwargVariablesDict\n\t\t\t\t\t):\n\n\t\t#Call the parent __init__ method\n\t\tBaseClass.__init__(self,**_KwargVariablesDict)\n\n\tdef do_reboot(self):\n\n\t\t#set\n\t\tif self.RebootingAllNameBool:\n\n\t\t\t#filter\n\t\t\tself.RebootingNameStrsList=SYS.filterNone(\n\t\t\t\tmap(\n\t\t\t\t\tlambda __MroClass:\n\t\t\t\t\t__MroClass.NameStr \n\t\t\t\t\tif hasattr(__MroClass,'DoStr')\n\t\t\t\t\telse None,\n\t\t\t\t\tself.__class__.__mro__\n\t\t\t\t)\n\t\t\t)\n\n\t\t#set\n\t\tif self.RebootingAllDoBool:\n\n\t\t\t#filter\n\t\t\tself.RebootingDoStrsList=SYS.filterNone(\n\t\t\t\tmap(\n\t\t\t\t\tlambda __MroClass:\n\t\t\t\t\t__MroClass.DoStr \n\t\t\t\t\tif hasattr(__MroClass,'DoStr')\n\t\t\t\t\telse None,\n\t\t\t\t\tself.__class__.__mro__\n\t\t\t\t)\n\t\t\t)\n\t\t\n\t\t#debug\n\t\t'''\n\t\tself.debug(\n\t\t\t\t\t('self.',self,[\n\t\t\t\t\t\t'RebootingDoStrsList',\n\t\t\t\t\t\t'RebootingNameStrsList'\n\t\t\t\t\t\t])\n\t\t\t\t)\n\t\t'''\n\t\t\n\t\t#map\n\t\tmap(\n\t\t\t\tlambda __RebootingNameStr:\n\t\t\t\tself.setSwitch(\n\t\t\t\t\t__RebootingNameStr,\n\t\t\t\t\tself.RebootingDoStrsList\n\t\t\t\t),\n\t\t\t\tself.RebootingNameStrsList\n\t\t\t)\n\n\n\t\t#Check\n\t\tif self.RebootingSetDoIsBool:\n\n\t\t\t#debug\n\t\t\t'''\n\t\t\tself.debug(('self.',self,['RebootingNameStrsList']))\n\t\t\t'''\n\n\t\t\t#map\n\t\t\tmap(\n\t\t\t\t\tlambda __RebootingClass:\n\t\t\t\t\tself.setDone(\n\t\t\t\t\t\t__RebootingClass\n\t\t\t\t\t) \n\t\t\t\t\t#if hasattr(__RebootingClass,'DoneAttributeVariablesOrderedDict')\n\t\t\t\t\t#else None,\n\t\t\t\t\t,map(\n\t\t\t\t\t\t\tlambda __RebootingClassStr:\n\t\t\t\t\t\t\tgetattr(\n\t\t\t\t\t\t\t\tSYS,\n\t\t\t\t\t\t\t\t__RebootingClassStr\n\t\t\t\t\t\t\t) \n\t\t\t\t\t\t\t#if hasattr(SYS,__RebootingClassStr)\n\t\t\t\t\t\t\t#else None\n\t\t\t\t\t\t\t,map(SYS.getClassStrWithNameStr,self.RebootingNameStrsList)\n\t\t\t\t\t\t)\n\t\t\t\t)\n\n\n#</DefineClass>\n\n\n```\n\n<small>\nView the Rebooter sources on <a href=\"https://github.com/Ledoux/ShareYourSystem/tree/master/Pythonlogy/ShareYourSystem/Objects/Rebooter\" target=\"_blank\">Github</a>\n</small>\n\n", 
          "cell_type": "markdown", 
          "prompt_number": 25, 
          "metadata": {
            "slideshow": {
              "slide_type": "subslide"
            }
          }
        }, 
        {
          "source": "\n<!---\nFrozenIsBool True\n-->\n\n##Example\n\nLet's create an empty class, which will automatically receive\nspecial attributes from the decorating ClassorClass,\nspecially the NameStr, that should be the ClassStr\nwithout the TypeStr in the end.", 
          "cell_type": "markdown", 
          "prompt_number": 26, 
          "metadata": {
            "slideshow": {
              "slide_type": "subslide"
            }
          }
        }, 
        {
          "cell_type": "code", 
          "prompt_number": 27, 
          "language": "python", 
          "input": [
            "#ImportModules\n", 
            "import ShareYourSystem as SYS\n", 
            "from ShareYourSystem.Standards.Classors import Classer\n", 
            "from ShareYourSystem.Standards.Objects import Rebooter\n", 
            "\n", 
            "#Definition \n", 
            "@Classer.ClasserClass(**\n", 
            "{\n", 
            "    'ClassingSwitchMethodStrsList':['make']\n", 
            "})\n", 
            "class MakerClass(Rebooter.RebooterClass):\n", 
            "\n", 
            "    #Definition\n", 
            "    RepresentingKeyStrsList=[\n", 
            "                                'MakingMyFloat',\n", 
            "                                'MadeMyInt'\n", 
            "                            ]\n", 
            "\n", 
            "    def default_init(self,\n", 
            "                    _MakingMyFloat=0.,\n", 
            "                    _MadeMyInt=0,\n", 
            "                    **_KwarVariablesDict\n", 
            "                ):\n", 
            "        Rebooter.RebooterClass.__init__(self,**_KwarVariablesDict)\n", 
            "\n", 
            "    def do_make(self):\n", 
            "    \n", 
            "        #print\n", 
            "        print('I am in the do_make of the Maker')\n", 
            "\n", 
            "        #cast\n", 
            "        self.MadeMyInt=int(self.MakingMyFloat)\n", 
            "\n", 
            "#Definition\n", 
            "@Classer.ClasserClass(**{\n", 
            "    'ClassingSwitchMethodStrsList':[\"make\"]\n", 
            "})\n", 
            "class BuilderClass(MakerClass):\n", 
            "\n", 
            "    #Definition\n", 
            "    RepresentingKeyStrsList=[\n", 
            "                            ]\n", 
            "\n", 
            "    def default_init(self,\n", 
            "                    **_KwarVariablesDict\n", 
            "                ):\n", 
            "        MakerClass.__init__(self,**_KwarVariablesDict)\n", 
            "\n", 
            "    def mimic_make(self):\n", 
            "    \n", 
            "        #print\n", 
            "        print('I am in the mimic_make of the Builder')\n", 
            "\n", 
            "        #call the parent method\n", 
            "        MakerClass.make(self)\n", 
            "\n", 
            "        #cast\n", 
            "        self.MadeMyInt+=10\n", 
            "\n", 
            "    def do_build(self):\n", 
            "        pass\n", 
            "\n", 
            "\n", 
            "#Definition an instance\n", 
            "MyBuilder=BuilderClass()\n", 
            "\n", 
            "#Print\n", 
            "print('Before make, MyBuilder is ')\n", 
            "SYS._print(MyBuilder,**{\n", 
            "    'RepresentingKeyStrsList':[\n", 
            "    'MakingMyFloat',\n", 
            "    'MadeMyInt',\n", 
            "    ]\n", 
            "})\n", 
            "\n", 
            "#make once\n", 
            "MyBuilder.make(3.)\n", 
            "\n", 
            "#Print\n", 
            "print('After the first make, MyBuilder is ')\n", 
            "SYS._print(MyBuilder,**{\n", 
            "    'RepresentingKeyStrsList':[\n", 
            "    'MakingMyFloat',\n", 
            "    'MadeMyInt',\n", 
            "    ]\n", 
            "})\n", 
            "\n", 
            "#make again\n", 
            "MyBuilder.make(5.)\n", 
            "\n", 
            "#Print\n", 
            "print('After the second make, MyBuilder is ')\n", 
            "SYS._print(MyBuilder,**{\n", 
            "    'RepresentingKeyStrsList':[\n", 
            "    'MakingMyFloat',\n", 
            "    'MadeMyInt',\n", 
            "    ]\n", 
            "})\n", 
            "\n", 
            "#make again\n", 
            "print('Now we reboot')\n", 
            "MyBuilder.reboot(\n", 
            "                    #_NameStrsList=['Maker','Builder'],\n", 
            "                    #_DoStrsList=['Make'],\n", 
            "                    #_AllDoBool=True,\n", 
            "                    #_AllNameBool=True,\n", 
            "                )\n", 
            "\n", 
            "#Print\n", 
            "print('After the reboot, MyBuilder is ')\n", 
            "SYS._print(MyBuilder,**{\n", 
            "    'RepresentingKeyStrsList':[\n", 
            "    'MakingMyFloat',\n", 
            "    'MadeMyInt',\n", 
            "    ]\n", 
            "})\n", 
            "\n", 
            "#make again\n", 
            "MyBuilder.make(8.)\n", 
            "\n", 
            "#Definition the AttestedStr\n", 
            "SYS._attest(\n", 
            "    [\n", 
            "        'MyBuilder is '+SYS._str(\n", 
            "        MyBuilder,\n", 
            "        **{\n", 
            "            'RepresentingAlineaIsBool':False,\n", 
            "            'RepresentingKeyStrsList':[\n", 
            "                'MakingMyFloat',\n", 
            "                'MadeMyInt',\n", 
            "                'RebootedWatchBoolKeyStrsList'\n", 
            "            ]\n", 
            "            }\n", 
            "        )\n", 
            "    ]\n", 
            ") \n"
          ], 
          "outputs": [
            {
              "output_type": "stream", 
              "stream": "stdout", 
              "text": [
                "Before make, MyBuilder is \n", 
                "< (BuilderClass), 4537218832>\n", 
                "   /{ \n", 
                "   /  '<Base><Class>MadeMyInt' : 0\n", 
                "   /  '<Base><Class>MakingMyFloat' : 0.0\n", 
                "   /  '<New><Instance>IdInt' : 4537218832\n", 
                "   /}\n", 
                "I am in the mimic_make of the Builder\n", 
                "I am in the do_make of the Maker\n", 
                "After the first make, MyBuilder is \n", 
                "< (BuilderClass), 4537218832>\n", 
                "   /{ \n", 
                "   /  '<New><Instance>IdInt' : 4537218832\n", 
                "   /  '<Spe><Instance>MadeMyInt' : 13\n", 
                "   /  '<Spe><Instance>MakingMyFloat' : 3.0\n", 
                "   /}\n", 
                "After the second make, MyBuilder is \n", 
                "< (BuilderClass), 4537218832>\n", 
                "   /{ \n", 
                "   /  '<New><Instance>IdInt' : 4537218832\n", 
                "   /  '<Spe><Instance>MadeMyInt' : 13\n", 
                "   /  '<Spe><Instance>MakingMyFloat' : 3.0\n", 
                "   /}\n", 
                "Now we reboot\n", 
                "After the reboot, MyBuilder is \n", 
                "< (BuilderClass), 4537218832>\n", 
                "   /{ \n", 
                "   /  '<New><Instance>IdInt' : 4537218832\n", 
                "   /  '<Spe><Instance>MadeMyInt' : 0\n", 
                "   /  '<Spe><Instance>MakingMyFloat' : 3.0\n", 
                "   /}\n", 
                "I am in the mimic_make of the Builder\n", 
                "I am in the do_make of the Maker\n", 
                "\n", 
                "\n", 
                "*****Start of the Attest *****\n", 
                "\n", 
                "MyBuilder is < (BuilderClass), 4537218832>\n", 
                "   /{ \n", 
                "   /  '<New><Instance>IdInt' : 4537218832\n", 
                "   /  '<Spe><Instance>MadeMyInt' : 18\n", 
                "   /  '<Spe><Instance>MakingMyFloat' : 8.0\n", 
                "   /  '<Spe><Instance>RebootedWatchBoolKeyStrsList' : []\n", 
                "   /}\n", 
                "\n", 
                "*****End of the Attest *****\n", 
                "\n", 
                "\n"
              ]
            }
          ], 
          "collapsed": false, 
          "metadata": {
            "slideshow": {
              "slide_type": "-"
            }
          }
        }, 
        {
          "source": "\n<!--\nFrozenIsBool False\n-->\n\n#Packager\n\n##Doc\n----\n\n\n> \n> The Packager is an Object that helps to get a module in the SYS framework\n> \n> \n\n----\n\n<small>\nView the Packager notebook on [NbViewer](http://nbviewer.ipython.org/url/shareyoursystem.ouvaton.org/Packager.ipynb)\n</small>\n\n", 
          "cell_type": "markdown", 
          "prompt_number": 28, 
          "metadata": {
            "slideshow": {
              "slide_type": "slide"
            }
          }
        }, 
        {
          "source": "\n<!--\nFrozenIsBool False\n-->\n\n##Code\n\n----\n\n<ClassDocStr>\n\n----\n\n```python\n# -*- coding: utf-8 -*-\n\"\"\"\n\n\n<DefineSource>\n@Date : Fri Nov 14 13:20:38 2014 \\n\n@Author : Erwan Ledoux \\n\\n\n</DefineSource>\n\n\nThe Packager is an Object that helps to get a module in the SYS framework\n\n\"\"\"\n\n#<DefineAugmentation>\nimport ShareYourSystem as SYS\nBaseModuleStr=\"ShareYourSystem.Standards.Interfacers.Folderer\"\nDecorationModuleStr=\"ShareYourSystem.Standards.Classors.Tester\"\nSYS.setSubModule(globals())\n#</DefineAugmentation>\n\n#<ImportSpecificModules>\nimport sys\nimport importlib\n#</ImportSpecificModules>\n\n#<DefineClass>\n@DecorationClass()\nclass PackagerClass(BaseClass):\n\t\n\t#Definition\n\tRepresentingKeyStrsList=[\n\t\t\t\t\t\t\t\t'PackagingModuleVariable',\n\t\t\t\t\t\t\t\t'PackagedModuleStr',\n\t\t\t\t\t\t\t\t'PackagedModuleVariable',\n\t\t\t\t\t\t\t\t'PackagedInstallFolderPathStr',\n\t\t\t\t\t\t\t\t'PackagedLocalFolderPathStr'\n\t\t\t\t\t\t\t]\n\n\tdef default_init(self,\n\t\t\t\t\t\t_PackagingModuleVariable=None,\n\t\t\t\t\t\t_PackagedModuleStr=\"\",\n\t\t\t\t\t\t_PackagedModuleVariable=None,\n\t\t\t\t\t\t_PackagedInstallFolderPathStr=\"\",\n\t\t\t\t\t\t_PackagedLocalFolderPathStr=\"\",\n\t\t\t\t\t\t**_KwargVariablesDict\n\t\t\t\t\t):\n\n\t\t#Call the parent init method\n\t\tBaseClass.__init__(self,**_KwargVariablesDict)\n\t\t\n\tdef do_package(self):\n\n\t\t#debug\n\t\t'''\n\t\tself.debug(('self.',self,\n\t\t\t\t\t\t[\n\t\t\t\t\t\t\t'PackagingModuleVariable'\n\t\t\t\t\t\t]))\n\t\t'''\n\t\t\n\t\t#Check\n\t\tif type(self.PackagingModuleVariable) in SYS.StrTypesList:\n\t\t\tself.PackagedModuleStr=self.PackagingModuleVariable\n\t\telse:\n\t\t\tself.PackagedModuleVariable=self.PackagingModuleVariable\n\t\t\tself.PackagedModuleStr=self.PackagingModuleVariable.__name__\n\n\t\t#Check for a module\n\t\tif self.PackagedModuleVariable==None or self.PackagedModuleStr!=self.PackagedModuleVariable.__name__:\n\n\t\t\t#Check\n\t\t\tif self.PackagedModuleStr!=\"\":\n\n\t\t\t\t#Import the module if not already\n\t\t\t\tif self.PackagedModuleStr not in sys.modules:\n\t\t\t\t\timportlib.import_module(self.PackagedModuleStr)\n\n\t\t\t\t#set with sys\n\t\t\t\tself.PackagedModuleVariable=sys.modules[self.PackagedModuleStr]\n\n\t\t#set\n\t\tif self.PackagedModuleVariable!=None:\n\n\t\t\t#set\n\t\t\tself.PackagedInstallFolderPathStr='/'.join(\n\t\t\t\tself.PackagedModuleVariable.__file__.split('/')[:-1]\n\t\t\t)+'/'\n\n\t\t\t#set\n\t\t\tself.PackagedLocalFolderPathStr=SYS.PythonlogyLocalFolderPathStr+self.PackagedModuleVariable.__name__.replace(\n\t\t\t\t'.','/')+'/'\n\n\t\t\t#debug\n\t\t\t'''\n\t\t\tself.debug(('self.',self,[\n\t\t\t\t'PackagedInstallFolderPathStr',\n\t\t\t\t'PackagedLocalFolderPathStr'\n\t\t\t\t]))\n\t\t\t'''\n\t\t\t\n\t\t\t#Hook\n\t\t\tself.folder(self.PackagedLocalFolderPathStr)\n\n\t\t#Return\n\t\t#return self\n\n#</DefineClass>\n\n\n```\n\n<small>\nView the Packager sources on <a href=\"https://github.com/Ledoux/ShareYourSystem/tree/master/Pythonlogy/ShareYourSystem/Objects/Packager\" target=\"_blank\">Github</a>\n</small>\n\n", 
          "cell_type": "markdown", 
          "prompt_number": 29, 
          "metadata": {
            "slideshow": {
              "slide_type": "subslide"
            }
          }
        }, 
        {
          "source": "\n<!---\nFrozenIsBool True\n-->\n\n##Example\n\nLet's create an empty class, which will automatically receive\nspecial attributes from the decorating ClassorClass,\nspecially the NameStr, that should be the ClassStr\nwithout the TypeStr in the end.", 
          "cell_type": "markdown", 
          "prompt_number": 30, 
          "metadata": {
            "slideshow": {
              "slide_type": "subslide"
            }
          }
        }, 
        {
          "cell_type": "code", 
          "prompt_number": 31, 
          "language": "python", 
          "input": [
            "#ImportModules\n", 
            "import ShareYourSystem as SYS\n", 
            "from ShareYourSystem.Standards.Objects import Packager\n", 
            "\n", 
            "#Definition of a Packager instance and module\n", 
            "MyPackager=Packager.PackagerClass().package(\n", 
            "    'ShareYourSystem.Standards.Objects.Printer'\n", 
            ")\n", 
            "\n", 
            "#Definition the AttestedStr\n", 
            "SYS._attest(\n", 
            "    [\n", 
            "        'MyPackager'+SYS._str(MyPackager)\n", 
            "    ]\n", 
            ") \n", 
            "\n", 
            "#Print\n", 
            "\n", 
            "\n"
          ], 
          "outputs": [
            {
              "output_type": "stream", 
              "stream": "stdout", 
              "text": [
                "\n", 
                "\n", 
                "*****Start of the Attest *****\n", 
                "\n", 
                "MyPackager< (PackagerClass), 4537217872>\n", 
                "   /{ \n", 
                "   /  '<New><Instance>IdInt' : 4537217872\n", 
                "   /  '<Spe><Instance>PackagedInstallFolderPathStr' : /usr/local/lib/python2.7/site-packages/ShareYourSystem/Objects/Printer/\n", 
                "   /  '<Spe><Instance>PackagedLocalFolderPathStr' : /Users/ledoux/Documents/ShareYourSystem/Pythonlogy/ShareYourSystem/Objects/Printer/\n", 
                "   /  '<Spe><Instance>PackagedModuleStr' : ShareYourSystem.Standards.Objects.Printer\n", 
                "   /  '<Spe><Instance>PackagedModuleVariable' : <module 'ShareYourSystem.Standards.Objects.Printer' from '/usr/local/lib/python2.7/site-packages/ShareYourSystem/Objects/Printer/__init__.pyc'>\n", 
                "   /  '<Spe><Instance>PackagingModuleVariable' : ShareYourSystem.Standards.Objects.Printer\n", 
                "   /}\n", 
                "\n", 
                "*****End of the Attest *****\n", 
                "\n", 
                "\n"
              ]
            }
          ], 
          "collapsed": false, 
          "metadata": {
            "slideshow": {
              "slide_type": "-"
            }
          }
        }
      ]
    }
  ], 
  "metadata": {
    "name": "", 
    "signature": ""
  }, 
  "nbformat_minor": 0
}