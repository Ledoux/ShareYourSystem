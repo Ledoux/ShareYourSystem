{
 "metadata": {
  "celltoolbar": "Slideshow",
  "name": "",
  "signature": "sha256:bb1d0966d57ca389d5b55798dd776fcd821c04331c1fd05b8f662252247b5c87"
 },
 "nbformat": 3,
 "nbformat_minor": 0,
 "worksheets": [
  {
   "cells": [
    {
     "cell_type": "markdown",
     "metadata": {
      "slideshow": {
       "slide_type": "subslide"
      }
     },
     "source": [
      "\n",
      "<!--\n",
      "FrozenIsBool False\n",
      "-->\n",
      "\n",
      "#Concluder\n",
      "\n",
      "----------------------- ------------------------------------\n",
      "\n",
      "\n",
      "\n",
      "@Date : Fri Nov 14 13:20:38 2014 \n",
      "\n",
      "@Author : Erwan Ledoux \n",
      "\n",
      "\n",
      "\n",
      "The Notebooker takes piece of .md,.py,.tex files for putting them in a IPython Notebook\n",
      "\n",
      "\n",
      "\n",
      "----------------------------------------------------------------\n",
      "\n",
      "\n",
      "View the Concluder sources on [Github](https://github.com/Ledoux/ShareYourSystem/tree/master/ShareYourSystem/Objects/Notebooker)\n",
      "\n"
     ]
    },
    {
     "cell_type": "markdown",
     "metadata": {
      "slideshow": {
       "slide_type": "fragment"
      }
     },
     "source": [
      "\n",
      "<!---\n",
      "FrozenIsBool True\n",
      "-->\n",
      "\n",
      "##Example\n",
      "\n",
      "Let's do a simple conclude call"
     ]
    },
    {
     "cell_type": "code",
     "collapsed": false,
     "input": [
      "\n",
      "#ImportModules\n",
      "import ShareYourSystem as SYS\n",
      "from ShareYourSystem.Standards.Objects import Concluder\n",
      "import operator\n",
      "\n",
      "#Definition of an instance Concluder and make it print hello\n",
      "MyConcluder=Concluder.ConcluderClass().conclude(\n",
      "\t{'MyColorStr':'Black','MySuperInt':6},\n",
      "\t[\n",
      "\t\t('MyColorStr',operator.eq,\"Black\"),\n",
      "\t\t('MySuperInt',operator.gt,3),\n",
      "\t\t(1,operator.eq,1)\n",
      "\t]\n",
      ")\n",
      "\t\t\n",
      "#Definition the AttestedStr\n",
      "SYS._attest(\n",
      "\t[\n",
      "\t\t'MyConcluder is '+SYS._str(\n",
      "\t\tMyConcluder,\n",
      "\t\t**{\n",
      "\t\t\t'RepresentingBaseKeyStrsListBool':False,\n",
      "\t\t\t'RepresentingAlineaIsBool':False\n",
      "\t\t\t}\n",
      "\t\t),\n",
      "\t]\n",
      ") \n",
      "\n",
      "#Print\n",
      "\n",
      "\n",
      "\t\n",
      "\n",
      "\n"
     ],
     "language": "python",
     "metadata": {
      "slideshow": {
       "slide_type": "-"
      }
     },
     "outputs": [
      {
       "output_type": "stream",
       "stream": "stdout",
       "text": [
        "\n",
        "\n",
        "*****Start of the Attest *****\n",
        "\n",
        "MyConcluder is < (ConcluderClass), 4336493456>\n",
        "   /{ \n",
        "   /  '<New><Instance>IdStr' : 4336493456\n",
        "   /  '<Spe><Instance>ConcludedConditionIsBoolsList' : \n",
        "   /   /[\n",
        "   /   /  0 : True\n",
        "   /   /  1 : True\n",
        "   /   /  2 : True\n",
        "   /   /]\n",
        "   /  '<Spe><Instance>ConcludedIsBool' : True\n",
        "   /  '<Spe><Instance>ConcludingConditionTuplesList' : \n",
        "   /   /[\n",
        "   /   /  0 : \n",
        "   /   /   /(\n",
        "   /   /   /  0 : MyColorStr\n",
        "   /   /   /  1 : <built-in function eq>\n",
        "   /   /   /  2 : Black\n",
        "   /   /   /)\n",
        "   /   /  1 : \n",
        "   /   /   /(\n",
        "   /   /   /  0 : MySuperInt\n",
        "   /   /   /  1 : <built-in function gt>\n",
        "   /   /   /  2 : 3\n",
        "   /   /   /)\n",
        "   /   /  2 : \n",
        "   /   /   /(\n",
        "   /   /   /  0 : 1\n",
        "   /   /   /  1 : {...}< (builtin_function_or_method), 4322850792>\n",
        "   /   /   /  2 : 1\n",
        "   /   /   /)\n",
        "   /   /]\n",
        "   /  '<Spe><Instance>ConcludingTestVariable' : \n",
        "   /   /{ \n",
        "   /   /  'MyColorStr' : Black\n",
        "   /   /  'MySuperInt' : 6\n",
        "   /   /}\n",
        "   /}\n",
        "\n",
        "*****End of the Attest *****\n",
        "\n",
        "\n"
       ]
      }
     ],
     "prompt_number": 2
    }
   ],
   "metadata": {}
  }
 ]
}