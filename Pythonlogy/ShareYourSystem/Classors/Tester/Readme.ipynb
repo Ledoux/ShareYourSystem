{
  "nbformat": 3, 
  "worksheets": [
    {
      "cells": [
        {
          "source": [
            "#Tester\n", 
            "\n\n@Date : Fri Nov 14 13:20:38 2014 \n\n@Author : Erwan Ledoux \n\n\n\nThe Tester helps for defining asserts between attested Strs stored in the Attests Folder and new calls of the attest functions. Thanks here to a wrap of the unitest python module : https://docs.python.org/2/library/unittest.html\n\n\n"
          ], 
          "cell_type": "markdown", 
          "metadata": {}
        }, 
        {
          "source": "\n<!---\nFrozenIsBool True\n-->\n\n##Example\n\nThe Incrementer from the previous Attester Module is now tested from its corresponding attesting function\nattest_increment. Here a test_increment method is implicitely defined in a unittest class and when we call\nthe test method, a unittest.run is done.", 
          "cell_type": "markdown", 
          "prompt_number": 0, 
          "metadata": {}
        }, 
        {
          "source": "```python\n#ImportModules\nimport os\nfrom ShareYourSystem.Classors import Attester\nfrom ShareYourSystem.Objects import Initiator\nfrom ShareYourSystem.Classors import Tester\n\n#Definition a module like a class and an attest function\nAttestingFunctionStrsList=['attest_increment']\ndef attest_increment():\n    Incrementer=IncrementerClass()\n    Incrementer.increment()\n    return Incrementer.IncrementingInt\n\n#Definition a decorated Incrementer\n@Tester.TesterClass()\nclass IncrementerClass(Initiator.InitiatorClass):\n    def default_init(self):\n        self.IncrementingInt=0\n    def increment(self):\n        self.IncrementingInt+=1\n\n#Attest and test\nattest();test()\n\n```\n", 
          "cell_type": "markdown", 
          "metadata": {}
        }, 
        {
          "source": "```console\n>>>\n\n###########################################\n\nAttestedStr is :\n1\n\nTestedStr is :\n1\n\n\n\n```\n", 
          "cell_type": "markdown", 
          "metadata": {}
        }, 
        {
          "source": "\n<!--\nFrozenIsBool False\n-->\n\n##More Descriptions at the level of the class\n\nSpecial attributes of the TesterClass are :\n", 
          "cell_type": "markdown", 
          "prompt_number": 2, 
          "metadata": {}
        }, 
        {
          "source": "```python\n\n\n\n#ImportModules\nimport ShareYourSystem as SYS\nfrom ShareYourSystem.Classors import Tester\n        \n#Definition the AttestedStr\nSYS._attest(\n    [\n        'DefaultAttributeItemTuplesList is '+SYS._str(\n            Tester.TesterClass.DefaultAttributeItemTuplesList,\n            **{'RepresentingAlineaIsBool':False}\n        )\n    ]\n) \n\n#Print\nprint(AttestedStr)\n\n\n```\n", 
          "cell_type": "markdown", 
          "metadata": {}
        }, 
        {
          "source": "```console\n>>>\n\n\n*****Start of the Attest *****\n\nDefaultAttributeItemTuplesList is []\n\n*****End of the Attest *****\n\n\n\n\n```\n", 
          "cell_type": "markdown", 
          "metadata": {}
        }, 
        {
          "source": "\n<!--\nFrozenIsBool False\n-->\n\n##More Descriptions at the level of the instances\n\nA default call of an instance gives :\n", 
          "cell_type": "markdown", 
          "prompt_number": 4, 
          "metadata": {}
        }, 
        {
          "source": "```python\n\n\n\n#ImportModules\nfrom ShareYourSystem.Classors import Attester\nfrom ShareYourSystem.Classors import Tester\n        \n#Definition the AttestedStr\nSYS._attest(\n    [\n        Tester.TesterClass()\n    ]\n) \n\n#Print\nprint(AttestedStr)\n\n\n\n```\n", 
          "cell_type": "markdown", 
          "metadata": {}
        }, 
        {
          "source": "```console\n>>>\n\n\n*****Start of the Attest *****\n\n< (TesterClass), 4441734416>\n   /{ \n   /  '<New><Instance>NameStr' : Tester\n   /}\n\n*****End of the Attest *****\n\n\n\n\n```\n", 
          "cell_type": "markdown", 
          "metadata": {}
        }
      ]
    }
  ], 
  "metadata": {
    "name": "", 
    "signature": ""
  }, 
  "nbformat_minor": 0
}