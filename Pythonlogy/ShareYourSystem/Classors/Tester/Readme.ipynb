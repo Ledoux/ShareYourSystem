{
  "nbformat": 3, 
  "worksheets": [
    {
      "cells": [
        {
          "source": "\n<!--\nFrozenIsBool False\n-->\n\n#Tester\n\n##Doc\n----\n\n\n> \n> The Tester helps for defining asserts between \n> attested Strs stored in the Attests Folder and\n> new calls of the attest functions. Thanks here \n> to a wrap of the unitest python module :\n> https://docs.python.org/2/library/unittest.html\n> \n> \n\n----\n\n<small>\nView the Tester notebook on [NbViewer](http://nbviewer.ipython.org/url/shareyoursystem.ouvaton.org/Tester.ipynb)\n</small>\n\n", 
          "cell_type": "markdown", 
          "prompt_number": 0, 
          "metadata": {
            "slideshow": {
              "slide_type": "slide"
            }
          }
        }, 
        {
          "source": "\n<!---\nFrozenIsBool True\n-->\n\n##Example\n\nThe Incrementer from the previous Attester Module is now tested from its corresponding attesting function\nattest_increment. Here a test_increment method is implicitely defined in a unittest class and when we call\nthe test method, a unittest.run is done.", 
          "cell_type": "markdown", 
          "prompt_number": 1, 
          "metadata": {
            "slideshow": {
              "slide_type": "subslide"
            }
          }
        }, 
        {
          "source": "```python\n#ImportModules\nimport ShareYourSystem as SYS\nfrom ShareYourSystem.Classors import Tester\nfrom ShareYourSystem.Tutorials import Decrementer\n\n#Attest the module\nDecrementer.DecrementerClass().setAttest(\n    Tester.TesterClass.DeriveClassor.AttestingFolderPathStr\n)\nDecrementer.test()\n\n#Print\n\n\n\n```\n", 
          "cell_type": "markdown", 
          "metadata": {}
        }, 
        {
          "source": "```console\n>>>\n\n\n```\n", 
          "cell_type": "markdown", 
          "metadata": {}
        }
      ]
    }
  ], 
  "metadata": {
    "name": "", 
    "signature": ""
  }, 
  "nbformat_minor": 0
}