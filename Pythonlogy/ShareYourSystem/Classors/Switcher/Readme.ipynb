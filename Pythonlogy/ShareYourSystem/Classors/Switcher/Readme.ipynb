{
  "nbformat": 3, 
  "worksheets": [
    {
      "cells": [
        {
          "source": "\n<!--\nFrozenIsBool False\n-->\n\n#Switcher\n\n##Doc\n----\n\n\n> \n> The Switcher\n> \n> \n\n----\n\n<small>\nView the Switcher notebook on [NbViewer](http://nbviewer.ipython.org/url/shareyoursystem.ouvaton.org/Switcher.ipynb)\n</small>\n\n", 
          "cell_type": "markdown", 
          "prompt_number": 0, 
          "metadata": {
            "slideshow": {
              "slide_type": "slide"
            }
          }
        }, 
        {
          "source": "\n<!--\nFrozenIsBool False\n-->\n\n##Code\n\n----\n\n<ClassDocStr>\n\n----\n\n```python\n# -*- coding: utf-8 -*-\n\"\"\"\n\n\n<DefineSource>\n@Date : Fri Nov 14 13:20:38 2014 \\n\n@Author : Erwan Ledoux \\n\\n\n</DefineSource>\n\n\nThe Switcher\n\n\"\"\"\n\n#<DefineAugmentation>\nimport ShareYourSystem as SYS\nBaseModuleStr=\"ShareYourSystem.Classors.Watcher\"\nDecorationModuleStr=\"ShareYourSystem.Classors.Tester\"\nSYS.setSubModule(globals())\n#</DefineAugmentation>\n\n#<ImportSpecificModules>\nimport operator\nfrom ShareYourSystem.Classors import Doer,Observer\n#</ImportSpecificModules>\n\n#<DefineFunctions>\ndef setSwitch(_InstanceVariable,_ClassVariable=None,_DoStrsList=None):\n\n\t#Debug\n\t'''\n\tprint('l 31 setSwitch')\n\tprint('_DoStrsList is ',_DoStrsList)\n\tprint('_InstanceVariable.__class__.NameStr is ',_InstanceVariable.__class__.NameStr)\n\tprint('')\n\t'''\n\n\t#get\n\tSwitchClass=_InstanceVariable.getClass(_ClassVariable)\n\n\t#check\n\tif _DoStrsList==None:\n\t\t_DoStrsList=[SwitchClass.DoStr]\n\t\n\t#map\n\tmap(\n\t\t\tlambda __MethodStr:\n\t\t\t_InstanceVariable.__setattr__(\n\t\t\t\t'Watch'+__MethodStr+'With'+SwitchClass.NameStr+'Bool',\n\t\t\t\tFalse\n\t\t\t),\n\t\t\t_DoStrsList,\n\t\t)\n\n\t#return \n\treturn _InstanceVariable\n\t\ndef switch(_InstanceVariable,*_LiargVariablesList,**_KwargVariablesDict):\n\n\t#Debug\n\t'''\n\tprint('l 51')\n\tprint('In the switch function ')\n\tprint('_KwargVariablesDict is ')\n\tprint(_KwargVariablesDict)\n\tprint('')\n\t'''\n\t\n\t\"\"\"\n\t#alias\n\tFuncDict=switch.__dict__\n\n\t#Debug\n\t'''\n\tprint('l 52')\n\tprint('In the switch function ')\n\tprint('FuncDict is ')\n\tprint(FuncDict)\n\tprint('')\n\t'''\n\t\"\"\"\n\n\t#Check\n\tif hasattr(_InstanceVariable,_KwargVariablesDict['WatchDoBoolKeyStr']):\n\n\t\t#get\n\t\tWatchDoBool=getattr(\n\t\t\t\t_InstanceVariable,\n\t\t\t\t_KwargVariablesDict['WatchDoBoolKeyStr']\n\t\t\t\t)\n\n\t\t#Switch\n\t\tif WatchDoBool:\n\t\t\treturn _InstanceVariable\n\t\n\t#get the wrapped method\n\tWrapUnboundMethod=getattr(\n\t\tgetattr(\n\t\t\tSYS,\n\t\t\t_KwargVariablesDict['BindDoClassStr']\n\t\t),\n\t\t_KwargVariablesDict['BindObserveWrapMethodStr']\n\t)\n\n\t#del\n\tmap(\n\t\t\tlambda __KeyStr:\n\t\t\t_KwargVariablesDict.__delitem__(__KeyStr),\n\t\t\t['BindObserveWrapMethodStr','BindDoClassStr','WatchDoBoolKeyStr']\n\t\t)\n\n\t#Call\n\treturn WrapUnboundMethod(\n\t\t_InstanceVariable,\n\t\t*_LiargVariablesList,\n\t\t**_KwargVariablesDict\n\t)\n#</DefineFunctions>\n\n#<DefineClass>\n@DecorationClass()\nclass SwitcherClass(BaseClass):\n\n\t#Definition \n\tRepresentingKeyStrsList=[ \n\t\t'SwitchingIsBool',\n\t\t'SwitchingWrapMethodStr'\t\t\t\t\n\t]\n\n\tdef default_init(self,\n\t\t\t\t\t\t_SwitchingIsBool=False,\n\t\t\t\t\t\t_SwitchingWrapMethodStr=\"\",\t\t\t\t\t\n\t\t\t\t\t\t**_KwargVariablesDict\n\t\t\t\t):\n\t\t\n\t\t#Call the parent init method\n\t\tBaseClass.__init__(self,**_KwargVariablesDict)\n\n\tdef __call__(self,_Class):\n\n\t\t#Call the parent method\n\t\tObserver.ObserverClass.__bases__[0].__call__(self,_Class)\n\n\t\t#reset\n\t\tself.switch()\n\n\t\t#Return\n\t\treturn _Class\n\n\tdef do_switch(self):\n\n\t\t#Check\n\t\tif self.SwitchingIsBool:\n\n\t\t\t#Debug\n\t\t\t'''\n\t\t\tprint('l 195 Switcher')\n\t\t\tprint('self.SwitchingWrapMethodStr is '+self.SwitchingWrapMethodStr)\n\t\t\tprint('')\n\t\t\t'''\n\n\t\t\t#watch first\n\t\t\tself.watch(\n\t\t\t\t\t\tTrue,\n\t\t\t\t\t\t**{'ObservingWrapMethodStr':self.SwitchingWrapMethodStr}\n\t\t\t\t\t)\n\n\t\t\t#Debug\n\t\t\t'''\n\t\t\tprint('l 204 Switcher')\n\t\t\tprint('self.WatchedDecorationMethodStr is ',self.WatchedDecorationMethodStr)\n\t\t\tprint('')\n\t\t\t'''\n\t\t\t\n\t\t\t#first bind\n\t\t\tself.bind(\n\t\t\t\t\t\tTrue,\n\t\t\t\t\t\tswitch,\n\t\t\t\t\t\t\"\",\n\t\t\t\t\t\tswitch.__name__,\n\t\t\t\t\t\t[('WatchDoBoolKeyStr',self.WatchedDoBoolKeyStr)],\n\t\t\t\t\t\t**{'ObservingWrapMethodStr':self.WatchedDecorationMethodStr}\n\t\t\t\t\t)\n\n\t\t\t#Now make the amalgam\n\t\t\tsetattr(\n\t\t\t\t\tself.DoClass,\n\t\t\t\t\tself.SwitchingWrapMethodStr,\n\t\t\t\t\tgetattr(\n\t\t\t\t\t\tself.DoClass,\n\t\t\t\t\t\tself.BindedDecorationMethodStr\n\t\t\t\t\t)\n\t\t\t\t)\n\n\t\t\t#Check\n\t\t\tif hasattr(self.DoClass,'setSwitch')==False:\n\t\t\t\tsetattr(\n\t\t\t\t\t\tself.DoClass,\n\t\t\t\t\t\tsetSwitch.__name__,\n\t\t\t\t\t\tsetSwitch\n\t\t\t\t\t)\n#</DefineClass>\n\n\n```\n\n<small>\nView the Switcher sources on <a href=\"https://github.com/Ledoux/ShareYourSystem/tree/master/Pythonlogy/ShareYourSystem/Classors/Switcher\" target=\"_blank\">Github</a>\n</small>\n\n", 
          "cell_type": "markdown", 
          "prompt_number": 1, 
          "metadata": {
            "slideshow": {
              "slide_type": "subslide"
            }
          }
        }, 
        {
          "source": "\n<!---\nFrozenIsBool True\n-->\n\n##Example\n\nFor this non directly very useful Module we just define a decorated FooClass\nfor which the Functer decoration by default call the decorated method...", 
          "cell_type": "markdown", 
          "prompt_number": 2, 
          "metadata": {
            "slideshow": {
              "slide_type": "subslide"
            }
          }
        }, 
        {
          "source": "```python\n#ImportModules\nimport ShareYourSystem as SYS\nfrom ShareYourSystem.Classors import Switcher,Attester\nfrom ShareYourSystem.Objects import Initiator\n\n#Definition a MakerClass with decorated make by a Switcher\n@Switcher.SwitcherClass(**{\n    'SwitchingIsBool':True,\n    #'ObservingWrapMethodStr':'do_make'\n    #'ObservingWrapMethodStr':'superDo_make'\n    'SwitchingWrapMethodStr':'make'\n})\nclass MakerClass(Initiator.InitiatorClass):\n\n    #Definition\n    RepresentingKeyStrsList=[\n                                'MakingMyFloat',\n                                'MadeMyInt'\n                            ]\n\n    def default_init(self,\n                _MakingMyFloat=1.,\n                _MadeMyInt=0\n                ):\n        Initiator.InitiatorClass.__init__(self)\n\n    def do_make(self):\n\n        #print\n        print('self.MakingMyFloat is '+str(self.MakingMyFloat))\n        print('self.MadeMyInt is '+str(self.MadeMyInt))\n        print('')\n\n        #Cast\n        self.MadeMyInt=int(self.MakingMyFloat)\n\n#Definition an instance\nMyMaker=MakerClass()\n\n#Print\nprint('Before make, MyMaker is ')\nSYS._print(MyMaker)\n\n#make once\nMyMaker.make(3.)\n\n#Print\nprint('After the first make, MyMaker is ')\nSYS._print(MyMaker)\n\n#make again\nMyMaker.make(5.)\n\n#Print\nprint('After the second make, MyMaker is ')\nSYS._print(MyMaker)\n\n#make again\nprint('Now we switch')\nMyMaker.setSwitch()\n\n#Print\nprint('After the switch MyMaker is ')\nSYS._print(MyMaker)\n\n#make again\nMyMaker.make(7.)\n\n#Print\nprint('After the third make, MyMaker is ')\nSYS._print(MyMaker)\n\n#Definition the AttestedStr\nSYS._attest(\n    [\n        'MakerClass.make is '+str(MakerClass.make),\n        'MyMaker is '+SYS._str(\n            MyMaker,**{'RepresentingAlineaIsBool':False}\n        ),\n    ]\n) \n\n#Print\n\n\n\n```\n", 
          "cell_type": "markdown", 
          "metadata": {}
        }, 
        {
          "source": "```console\n>>>\nBefore make, MyMaker is \n< (MakerClass), 4538485392>\n   /{ \n   /  '<New><Instance>IdInt' : 4538485392\n   /  '<Spe><Class>MadeMyInt' : 0\n   /  '<Spe><Class>MakingMyFloat' : 1.0\n   /}\nself.MakingMyFloat is 3.0\nself.MadeMyInt is 0\n\nAfter the first make, MyMaker is \n< (MakerClass), 4538485392>\n   /{ \n   /  '<New><Instance>IdInt' : 4538485392\n   /  '<Spe><Instance>MadeMyInt' : 3\n   /  '<Spe><Instance>MakingMyFloat' : 3.0\n   /}\nAfter the second make, MyMaker is \n< (MakerClass), 4538485392>\n   /{ \n   /  '<New><Instance>IdInt' : 4538485392\n   /  '<Spe><Instance>MadeMyInt' : 3\n   /  '<Spe><Instance>MakingMyFloat' : 3.0\n   /}\nNow we switch\nAfter the switch MyMaker is \n< (MakerClass), 4538485392>\n   /{ \n   /  '<New><Instance>IdInt' : 4538485392\n   /  '<Spe><Instance>MadeMyInt' : 3\n   /  '<Spe><Instance>MakingMyFloat' : 3.0\n   /}\nself.MakingMyFloat is 7.0\nself.MadeMyInt is 3\n\nAfter the third make, MyMaker is \n< (MakerClass), 4538485392>\n   /{ \n   /  '<New><Instance>IdInt' : 4538485392\n   /  '<Spe><Instance>MadeMyInt' : 7\n   /  '<Spe><Instance>MakingMyFloat' : 7.0\n   /}\n\n\n*****Start of the Attest *****\n\nMakerClass.make is <unbound method MakerClass.switch_watch_superDo_make>\n\n------\n\nMyMaker is < (MakerClass), 4538485392>\n   /{ \n   /  '<New><Instance>IdInt' : 4538485392\n   /  '<Spe><Instance>MadeMyInt' : 7\n   /  '<Spe><Instance>MakingMyFloat' : 7.0\n   /}\n\n*****End of the Attest *****\n\n\n\n```\n", 
          "cell_type": "markdown", 
          "metadata": {}
        }
      ]
    }
  ], 
  "metadata": {
    "name": "", 
    "signature": ""
  }, 
  "nbformat_minor": 0
}