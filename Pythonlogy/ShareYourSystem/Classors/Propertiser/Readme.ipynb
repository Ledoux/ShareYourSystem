{
  "nbformat": 3, 
  "worksheets": [
    {
      "cells": [
        {
          "source": [
            "#Propertiser\n", 
            "\n\n@Date : Fri Nov 14 13:20:38 2014 \n\n@Author : Erwan Ledoux \n\n\n\nThe Propertiser is an augmented Defaultor because it will set defaults attributes possibly in properties for the new-style decorated classes. This can set objects with high controlling features thanks to the binding \n\n\n"
          ], 
          "cell_type": "markdown", 
          "metadata": {}
        }, 
        {
          "source": "\n<!---\nFrozenIsBool True\n-->\n\n##Example\n\nGoing back to the Doer cell when we invented a very minimalist Maker.\nWe now define its MakingMyFloat as a property that can be then defined as \na \"binding\" attribute thanks to the setMakingMyFloat method definition, \nthat will be linked to the fset attribute of the property object. ", 
          "cell_type": "markdown", 
          "prompt_number": 0, 
          "metadata": {}
        }, 
        {
          "source": "```python\n#ImportModules\nimport ShareYourSystem as SYS\nfrom ShareYourSystem.Classors import Propertiser\nfrom ShareYourSystem.Objects import Initiator\n\n#Definition a MakerClass decorated by the PropertiserClass\n@Propertiser.PropertiserClass()\nclass MakerClass(Initiator.InitiatorClass):\n\n    def default_init(self,\n            _MakingMyFloat={\n                            'DefaultingSetType':property,\n                            'PropertizingInitVariable':3.,\n                            'PropertizingDocStr':'I am doing the thing here'\n                            },\n            _MakingMyList=[],\n            _MakingMyInt={'DefaultingSetType':int},\n            _MadeMyInt=0    \n        ):\n        pass\n\n    #Definition a binding function\n    def setMakingMyFloat(self,_SettingValueVariable):\n\n        #Print\n        #print('I am going to make the job directly !')\n\n        #set the value of the \"hidden\" property variable\n        self._MakingMyFloat=_SettingValueVariable\n\n        #Bind with MadeInt setting\n        self.MadeMyInt=int(self._MakingMyFloat)\n\n#Definition a default instance \nDefaultMaker=MakerClass()\n\n#Definition a special instance\nSpecialMaker=MakerClass(_MakingMyFloat=5)\n\n#Definition the AttestedStr\nSYS._attest(\n    [\n        'MakerClass.PropertizedDefaultTuplesList is '+SYS._str(MakerClass.PropertizedDefaultTuplesList),\n        'What are you saying DefaultMaker ?',\n        'DefaultMaker.__dict__ is '+str(DefaultMaker.__dict__),\n        'DefaultMaker.MakingMyFloat is '+str(DefaultMaker.MakingMyFloat),\n        'DefaultMaker.MadeMyInt is '+str(DefaultMaker.MadeMyInt),\n        'What are you saying SpecialMaker ?',\n        'SpecialMaker.__dict__ is '+str(SpecialMaker.__dict__),\n        'SpecialMaker.MakingMyFloat is '+str(SpecialMaker.MakingMyFloat),\n        'SpecialMaker.MadeMyInt is '+str(SpecialMaker.MadeMyInt),\n    ]\n) \n\n#Print\nprint(AttestedStr)\n\n```\n", 
          "cell_type": "markdown", 
          "metadata": {}
        }, 
        {
          "source": "```console\n>>>\n\n\n*****Start of the Attest *****\n\nMakerClass.PropertizedDefaultTuplesList is \n   /[\n   /  0 : \n   /   /(\n   /   /  0 : MakingMyFloat\n   /   /  1 : <property object at 0x105fa8c58>\n   /   /)\n   /]\n\n------\n\nWhat are you saying DefaultMaker ?\n\n------\n\nDefaultMaker.__dict__ is {}\n\n------\n\nDefaultMaker.MakingMyFloat is 3.0\n\n------\n\nDefaultMaker.MadeMyInt is 0\n\n------\n\nWhat are you saying SpecialMaker ?\n\n------\n\nSpecialMaker.__dict__ is {'MadeMyInt': 5, '_MakingMyFloat': 5}\n\n------\n\nSpecialMaker.MakingMyFloat is 5\n\n------\n\nSpecialMaker.MadeMyInt is 5\n\n*****End of the Attest *****\n\n\n\n\n```\n", 
          "cell_type": "markdown", 
          "metadata": {}
        }, 
        {
          "source": "\n<!--\nFrozenIsBool False\n-->\n\n##More Descriptions at the level of the class\n\nSpecial attributes of the PropertiserClass are :\n", 
          "cell_type": "markdown", 
          "prompt_number": 2, 
          "metadata": {}
        }, 
        {
          "source": "```python\n\n\n\n#ImportModules\nimport ShareYourSystem as SYS\nfrom ShareYourSystem.Classors import Propertiser\n        \n#Definition the AttestedStr\nSYS._attest(\n    [\n        'DefaultAttributeItemTuplesList is '+SYS._str(\n            Propertiser.PropertiserClass.DefaultAttributeItemTuplesList,\n            **{'RepresentingAlineaIsBool':False}\n        )\n    ]\n) \n\n#Print\nprint(AttestedStr)\n\n\n```\n", 
          "cell_type": "markdown", 
          "metadata": {}
        }, 
        {
          "source": "```console\n>>>\n\n\n*****Start of the Attest *****\n\nDefaultAttributeItemTuplesList is []\n\n*****End of the Attest *****\n\n\n\n\n```\n", 
          "cell_type": "markdown", 
          "metadata": {}
        }, 
        {
          "source": "\n<!--\nFrozenIsBool False\n-->\n\n##More Descriptions at the level of the instances\n\nA default call of an instance gives :\n", 
          "cell_type": "markdown", 
          "prompt_number": 4, 
          "metadata": {}
        }, 
        {
          "source": "```python\n\n\n\n#ImportModules\nfrom ShareYourSystem.Classors import Attester\nfrom ShareYourSystem.Classors import Propertiser\n        \n#Definition the AttestedStr\nSYS._attest(\n    [\n        Propertiser.PropertiserClass()\n    ]\n) \n\n#Print\nprint(AttestedStr)\n\n\n\n```\n", 
          "cell_type": "markdown", 
          "metadata": {}
        }, 
        {
          "source": "```console\n>>>\n\n\n*****Start of the Attest *****\n\n<ShareYourSystem.Classors.Propertiser.PropertiserClass object at 0x106417750>\n\n*****End of the Attest *****\n\n\n\n\n```\n", 
          "cell_type": "markdown", 
          "metadata": {}
        }
      ]
    }
  ], 
  "metadata": {
    "name": "", 
    "signature": ""
  }, 
  "nbformat_minor": 0
}