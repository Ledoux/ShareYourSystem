{
  "nbformat": 3, 
  "worksheets": [
    {
      "cells": [
        {
          "source": "\n<!--\nFrozenIsBool False\n-->\n\n#Classors\n\n##Doc\n----\n\n\n> The Classors help for decorating a Class. \n> Here are defined the important derived Objects that\n> facilitates the manners to set a new defined Class in the \n> SYS scope and set automatically into it new 'boilerplates'\n> methods like the 'default_init' (cf. Defaultor),'do_<DoMethodStr>'\n>  (cf. Doer), 'mimic_<DoMethodStr>' (cf. Mimicker), also\n>  decorates methods for making it switch or resetting.\n> \n> \n\n----\n\n<small>\nView the Classors notebook on [NbViewer](http://nbviewer.ipython.org/url/shareyoursystem.ouvaton.org/Classors.ipynb)\n</small>\n\n", 
          "cell_type": "markdown", 
          "prompt_number": 0, 
          "metadata": {
            "slideshow": {
              "slide_type": "slide"
            }
          }
        }, 
        {
          "source": "\n<!--\nFrozenIsBool False\n-->\n\n##Concept and SubModules family\n\n<script type=\"text/javascript\">\n\n\tvar HrefStr=window.location.href;\n\t//alert(window.location.href)\n\n\tif(HrefStr == \"http://shareyoursystem.ouvaton.org/site/LibraryReference/Classors/\"){\n\n\t    //alert('Ouvaton')\n\t    document.write(\"from \")\n\t    document.write(\"http://shareyoursystem.ouvaton.org/slides/ \")\n\t    document.write(\"<iframe width=\\\"725\\\" height=\\\"300\\\" src=\\\"\")\n\t    document.write(\"http://shareyoursystem.ouvaton.org\")\n\t    document.write(\"/slides/Classors.php\\\"></iframe>\")\n\t}\n\telse if(HrefStr == \"http://127.0.0.1:8000/LibraryReference/Classors/\"){\n\n        //alert('Localhost')\n        document.write(\"from \")\n        document.write(\"localhost mkdocs but direct to ouvaton\")\n        document.write(\"<iframe width=\\\"725\\\" height=\\\"300\\\" src=\\\"\")\n        document.write(\"http://shareyoursystem.ouvaton.org\")\n        document.write(\"/slides/Classors.php\\\"></iframe>\")\n    }\n    else\n    {\n\n        //alert('Local')\n\t    document.write(\"from \")\n\t    document.write(\"/Users/ledoux/Documents/ShareYourSystem/Ouvaton/ \")\n\t    document.write(\"<iframe width=\\\"725\\\" height=\\\"300\\\" src=\\\"\")\n\t    document.write(\"/Users/ledoux/Documents/ShareYourSystem/Ouvaton/\")\n\t    document.write(\"Classors.html\\\"></iframe>\")\n\n    }\n\n</script>\n\n<small>\nView the Classors concept on <a href=\"http://shareyoursystem.ouvaton.org/slides/Classors.php\" target=\"_blank\">Ouvaton</a>\n</small>\n\n", 
          "cell_type": "markdown", 
          "prompt_number": 1, 
          "metadata": {
            "slideshow": {
              "slide_type": "subslide"
            }
          }
        }, 
        {
          "source": "\n<!--\nFrozenIsBool False\n-->\n\n##Code\n\n----\n\n<ClassDocStr>\n\n----\n\n```python\n# -*- coding: utf-8 -*-\n\"\"\"\n\n\n<DefineSource>\n@Date : Fri Nov 14 13:20:38 2014 \\n\n@Author : Erwan Ledoux \\n\\n\n</DefineSource>\n\nThe Classors help for decorating a Class. \nHere are defined the important derived Objects that\nfacilitates the manners to set a new defined Class in the \nSYS scope and set automatically into it new 'boilerplates'\nmethods like the 'default_init' (cf. Defaultor),'do_<DoMethodStr>'\n (cf. Doer), 'mimic_<DoMethodStr>' (cf. Mimicker), also\n decorates methods for making it switch or resetting.\n\n\"\"\"\n\n#<DefineConcept>\nimport ShareYourSystem as SYS\nSYS.setConceptModule(globals())\n#</DefineConcept>\n\n```\n\n<small>\nView the Classors sources on <a href=\"https://github.com/Ledoux/ShareYourSystem/tree/master/Pythonlogy/ShareYourSystem/Classors\" target=\"_blank\">Github</a>\n</small>\n\n", 
          "cell_type": "markdown", 
          "prompt_number": 2, 
          "metadata": {
            "slideshow": {
              "slide_type": "subslide"
            }
          }
        }
      ]
    }
  ], 
  "metadata": {
    "name": "", 
    "signature": ""
  }, 
  "nbformat_minor": 0
}