{
  "nbformat": 3, 
  "worksheets": [
    {
      "cells": [
        {
          "source": "\n<!--\nFrozenIsBool False\n-->\n\n#Representer\n\n##Doc\n----\n\n\n> \n> The Representer is an important module for beginning to visualize \n> the structures of the instanced variables in the environnment.\n> The idea is to use the indenting representation like in the json.dump\n> function but with a more suitable (but maybe dirty) access to the \n> AlineaStr of each lines of the output, depending on the state \n> of the variables. Instances that are created from the decorated class have\n> a __repr__ method, helping for mentionning for the represented attributes where\n> do they come from : <Spe> (resp. <Base>) is they were defined at the level of the \\_\\_class\\_\\_ \n> and <Instance> (resp. <Class>) if they are getted from the <InstanceVariable>.__dict__ \n> (resp. <InstanceVariable>.__class__.__dict__)\n> \n> \n\n----\n\n<small>\nView the Representer notebook on [NbViewer](http://nbviewer.ipython.org/url/shareyoursystem.ouvaton.org/Representer.ipynb)\n</small>\n\n", 
          "cell_type": "markdown", 
          "prompt_number": 0, 
          "metadata": {
            "slideshow": {
              "slide_type": "slide"
            }
          }
        }, 
        {
          "source": "\n<!---\nFrozenIsBool True\n-->\n\n##Example\n\nThen classes that are decorated by the representer have now a special __repr__ method.", 
          "cell_type": "markdown", 
          "prompt_number": 1, 
          "metadata": {
            "slideshow": {
              "slide_type": "subslide"
            }
          }
        }, 
        {
          "cell_type": "code", 
          "prompt_number": 2, 
          "language": "python", 
          "input": [
            "#ImportModules\n", 
            "import ShareYourSystem as SYS\n", 
            "from ShareYourSystem.Classors import Representer,Attester\n", 
            "from ShareYourSystem.Objects import Initiator\n", 
            "\n", 
            "#Represent a simple object\n", 
            "@Representer.RepresenterClass()\n", 
            "class MakerClass(Initiator.InitiatorClass):\n", 
            "\n", 
            "    RepresentingKeyStrsList=['MadeMyInt']\n", 
            "\n", 
            "    def default_init(self,\n", 
            "                        _MakingMyFloat=0.,  \n", 
            "                        _MadeMyInt=0\n", 
            "                    ):\n", 
            "        pass\n", 
            "\n", 
            "#Definition a simple instance\n", 
            "SimpleMaker=MakerClass(_MakingMyFloat=2.)\n", 
            "\n", 
            "#Represent a structured instance\n", 
            "ParentMaker=MakerClass()\n", 
            "ParentMaker.FirstChildMaker=MakerClass()\n", 
            "ParentMaker.CircularChildMaker=MakerClass()\n", 
            "ParentMaker.CircularChildMaker.ParentMaker=ParentMaker\n", 
            "ParentMaker.CircularChildMaker.SelfMaker=ParentMaker.CircularChildMaker\n", 
            "\n", 
            "#Definition a derived class from the MakerClass\n", 
            "@Representer.RepresenterClass()\n", 
            "class BuilderClass(MakerClass):\n", 
            "\n", 
            "    RepresentingKeyStrsList=['BuiltMyStr']\n", 
            "\n", 
            "    def default_init(self,\n", 
            "                        _BuildingMyStr='hello',  \n", 
            "                        _BuiltMyStr='None'\n", 
            "                    ):\n", 
            "        pass\n", 
            "\n", 
            "#Definition a simple instance\n", 
            "SimpleBuilder=BuilderClass(_MakingMyFloat=2.)\n", 
            "\n", 
            "#Definition the AttestedStr\n", 
            "SYS._attest(\n", 
            "    [\n", 
            "        'SimpleMaker is '+SYS._str(SimpleMaker),\n", 
            "        'ParentMaker is '+SYS._str(ParentMaker),\n", 
            "        'SimpleBuilder is '+SYS._str(SimpleBuilder)\n", 
            "    ]\n", 
            ") \n", 
            "\n", 
            "#Print\n", 
            "\n", 
            "\n"
          ], 
          "outputs": [
            {
              "output_type": "stream", 
              "stream": "stdout", 
              "text": [
                "\n", 
                "\n", 
                "*****Start of the Attest *****\n", 
                "\n", 
                "SimpleMaker is < (MakerClass), 4347994448>\n", 
                "   /{ \n", 
                "   /  '<New><Instance>IdInt' : 4347994448\n", 
                "   /  '<Spe><Class>MadeMyInt' : 0\n", 
                "   /}\n", 
                "\n", 
                "------\n", 
                "\n", 
                "ParentMaker is < (MakerClass), 4347994640>\n", 
                "   /{ \n", 
                "   /  '<New><Instance>CircularChildMaker' : < (MakerClass), 4347995472>\n", 
                "   /   /{ \n", 
                "   /   /  '<New><Instance>IdInt' : 4347995472\n", 
                "   /   /  '<New><Instance>ParentMaker' : {...}< (MakerClass), 4347994640>\n", 
                "   /   /  '<New><Instance>SelfMaker' : {...}< (MakerClass), 4347995472>\n", 
                "   /   /  '<Spe><Class>MadeMyInt' : 0\n", 
                "   /   /}\n", 
                "   /  '<New><Instance>FirstChildMaker' : < (MakerClass), 4347996624>\n", 
                "   /   /{ \n", 
                "   /   /  '<New><Instance>IdInt' : 4347996624\n", 
                "   /   /  '<Spe><Class>MadeMyInt' : 0\n", 
                "   /   /}\n", 
                "   /  '<New><Instance>IdInt' : 4347994640\n", 
                "   /  '<Spe><Class>MadeMyInt' : 0\n", 
                "   /}\n", 
                "\n", 
                "------\n", 
                "\n", 
                "SimpleBuilder is < (BuilderClass), 4347996688>\n", 
                "   /{ \n", 
                "   /  '<New><Instance>IdInt' : 4347996688\n", 
                "   /  '<Spe><Class>BuiltMyStr' : None\n", 
                "   /}\n", 
                "\n", 
                "*****End of the Attest *****\n", 
                "\n", 
                "\n"
              ]
            }
          ], 
          "collapsed": false, 
          "metadata": {
            "slideshow": {
              "slide_type": "-"
            }
          }
        }
      ]
    }
  ], 
  "metadata": {
    "name": "", 
    "signature": ""
  }, 
  "nbformat_minor": 0
}