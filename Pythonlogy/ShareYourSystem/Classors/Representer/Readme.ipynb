{
  "nbformat": 3, 
  "worksheets": [
    {
      "cells": [
        {
          "source": "\n<!--\nFrozenIsBool False\n-->\n\n#Representer\n\n##Doc\n----\n\n\n> \n> The Representer is an important module for beginning to visualize \n> the structures of the instanced variables in the environnment.\n> The idea is to use the indenting representation like in the json.dump\n> function but with a more suitable (but maybe dirty) access to the \n> AlineaStr of each lines of the output, depending on the state \n> of the variables. Instances that are created from the decorated class have\n> a __repr__ method, helping for mentionning for the represented attributes where\n> do they come from : <Spe> (resp. <Base>) is they were defined at the level of the \\_\\_class\\_\\_ \n> and <Instance> (resp. <Class>) if they are getted from the <InstanceVariable>.__dict__ \n> (resp. <InstanceVariable>.__class__.__dict__)\n> \n> \n\n----\n\n<small>\nView the Representer notebook on [NbViewer](http://nbviewer.ipython.org/url/shareyoursystem.ouvaton.org/Representer.ipynb)\n</small>\n\n", 
          "cell_type": "markdown", 
          "prompt_number": 0, 
          "metadata": {
            "slideshow": {
              "slide_type": "slide"
            }
          }
        }, 
        {
          "source": "\n<!---\nFrozenIsBool True\n-->\n\n##Example\n\nThen classes that are decorated by the representer have now a special __repr__ method.", 
          "cell_type": "markdown", 
          "prompt_number": 1, 
          "metadata": {
            "slideshow": {
              "slide_type": "subslide"
            }
          }
        }, 
        {
          "source": "```python\n#ImportModules\nimport ShareYourSystem as SYS\nfrom ShareYourSystem.Classors import Representer,Attester\nfrom ShareYourSystem.Objects import Initiator\n\n#Represent a simple object\n@Representer.RepresenterClass()\nclass MakerClass(Initiator.InitiatorClass):\n\n    RepresentingKeyStrsList=['MadeMyInt']\n\n    def default_init(self,\n                        _MakingMyFloat=0.,  \n                        _MadeMyInt=0\n                    ):\n        pass\n\n#Definition a simple instance\nSimpleMaker=MakerClass(_MakingMyFloat=2.)\n\n#Represent a structured instance\nParentMaker=MakerClass()\nParentMaker.FirstChildMaker=MakerClass()\nParentMaker.CircularChildMaker=MakerClass()\nParentMaker.CircularChildMaker.ParentMaker=ParentMaker\nParentMaker.CircularChildMaker.SelfMaker=ParentMaker.CircularChildMaker\n\n#Definition a derived class from the MakerClass\n@Representer.RepresenterClass()\nclass BuilderClass(MakerClass):\n\n    RepresentingKeyStrsList=['BuiltMyStr']\n\n    def default_init(self,\n                        _BuildingMyStr='hello',  \n                        _BuiltMyStr='None'\n                    ):\n        pass\n\n#Definition a simple instance\nSimpleBuilder=BuilderClass(_MakingMyFloat=2.)\n\n#Definition the AttestedStr\nSYS._attest(\n    [\n        'SimpleMaker is '+SYS._str(SimpleMaker),\n        'ParentMaker is '+SYS._str(ParentMaker),\n        'SimpleBuilder is '+SYS._str(SimpleBuilder)\n    ]\n) \n\n#Print\n\n\n\n```\n", 
          "cell_type": "markdown", 
          "metadata": {}
        }, 
        {
          "source": "```console\n>>>\n\n\n*****Start of the Attest *****\n\nSimpleMaker is < (MakerClass), 4347994448>\n   /{ \n   /  '<New><Instance>IdInt' : 4347994448\n   /  '<Spe><Class>MadeMyInt' : 0\n   /}\n\n------\n\nParentMaker is < (MakerClass), 4347994640>\n   /{ \n   /  '<New><Instance>CircularChildMaker' : < (MakerClass), 4347995472>\n   /   /{ \n   /   /  '<New><Instance>IdInt' : 4347995472\n   /   /  '<New><Instance>ParentMaker' : {...}< (MakerClass), 4347994640>\n   /   /  '<New><Instance>SelfMaker' : {...}< (MakerClass), 4347995472>\n   /   /  '<Spe><Class>MadeMyInt' : 0\n   /   /}\n   /  '<New><Instance>FirstChildMaker' : < (MakerClass), 4347996624>\n   /   /{ \n   /   /  '<New><Instance>IdInt' : 4347996624\n   /   /  '<Spe><Class>MadeMyInt' : 0\n   /   /}\n   /  '<New><Instance>IdInt' : 4347994640\n   /  '<Spe><Class>MadeMyInt' : 0\n   /}\n\n------\n\nSimpleBuilder is < (BuilderClass), 4347996688>\n   /{ \n   /  '<New><Instance>IdInt' : 4347996688\n   /  '<Spe><Class>BuiltMyStr' : None\n   /}\n\n*****End of the Attest *****\n\n\n\n```\n", 
          "cell_type": "markdown", 
          "metadata": {}
        }
      ]
    }
  ], 
  "metadata": {
    "name": "", 
    "signature": ""
  }, 
  "nbformat_minor": 0
}