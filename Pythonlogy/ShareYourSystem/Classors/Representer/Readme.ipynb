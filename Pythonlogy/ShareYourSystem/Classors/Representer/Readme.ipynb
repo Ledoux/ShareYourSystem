{
  "nbformat": 3, 
  "worksheets": [
    {
      "cells": [
        {
          "source": [
            "#Representer\n", 
            "\n\n@Date : Fri Nov 14 13:20:38 2014 \n\n@Author : Erwan Ledoux \n\n\n\nThe Representer is an important module for beginning to visualize the structures of the instanced variables in the environnment. The idea is to use the indenting representation like in the json.dump function but with a more suitable (but maybe dirty) access to the AlineaStr of each lines of the output, depending on the state of the variables. Instances that are created from the decorated class have a __repr__ method, helping for mentionning for the represented attributes where do they come from : <Spe> (resp. <Base>) is they were defined at the level of the \\_\\_class\\_\\_ and <Instance> (resp. <Class>) if they are getted from the <InstanceVariable>.__dict__ (resp. <InstanceVariable>.__class__.__dict__)\n\n\n"
          ], 
          "cell_type": "markdown", 
          "metadata": {}
        }, 
        {
          "source": "\n<!---\nFrozenIsBool True\n-->\n\n##Example\n\nFirst is presented the global functions _print or represent that helps for printing\nin the console any kind of variables.", 
          "cell_type": "markdown", 
          "prompt_number": 0, 
          "metadata": {}
        }, 
        {
          "source": "```python\n#ImportModules\nfrom ShareYourSystem.Classors import Attester\nfrom ShareYourSystem.Classors import Representer\n\n#Represent a dict\nDict={\n    'ParentDict':\n        {\n        'ChildDict':\n            {\n                'MyInt':0\n            },\n        'MyStr':'hello'\n        }\n    }\n\n#Represent a TuplesList\nTuplesList=[\n                (\n                    'ParentTuplesList',\n                    [\n                        (\n                            'ChildDict',\n                            {\n                                'MyInt':0\n                            }\n                        )\n                    ]\n                ),\n                ('MyStr','hello')\n            ]\n\n#Definition the AttestedStr\nSYS._attest(\n    [\n        'Dict is'+Representer.represent(Dict),\n        'TuplesList is'+Representer.represent(TuplesList)\n    ]\n) \n\n#Print\nprint(AttestedStr)\n\n```\n", 
          "cell_type": "markdown", 
          "metadata": {}
        }, 
        {
          "source": "```console\n>>>\n\n\n*****Start of the Attest *****\n\nDict is\n   /{ \n   /  'ParentDict' : \n   /   /{ \n   /   /  'ChildDict' : \n   /   /   /{ \n   /   /   /  'MyInt' : 0\n   /   /   /}\n   /   /  'MyStr' : hello\n   /   /}\n   /}\n\n------\n\nTuplesList is\n   /[\n   /  0 : \n   /   /(\n   /   /  0 : ParentTuplesList\n   /   /  1 : \n   /   /   /[\n   /   /   /  0 : \n   /   /   /   /(\n   /   /   /   /  0 : ChildDict\n   /   /   /   /  1 : \n   /   /   /   /   /{ \n   /   /   /   /   /  'MyInt' : 0\n   /   /   /   /   /}\n   /   /   /   /)\n   /   /   /]\n   /   /)\n   /  1 : ('MyStr', 'hello')\n   /]\n\n*****End of the Attest *****\n\n\n\n\n```\n", 
          "cell_type": "markdown", 
          "metadata": {}
        }, 
        {
          "source": "\n<!---\nFrozenIsBool True\n-->\n\n##Example\n\nThen classes that are decorated by the representer have now a special __repr__ method.", 
          "cell_type": "markdown", 
          "prompt_number": 2, 
          "metadata": {}
        }, 
        {
          "source": "```python\n#ImportModules\nfrom ShareYourSystem.Classors import Attester\nfrom ShareYourSystem.Classors import Representer\nfrom ShareYourSystem.Objects import Initiator\n\n#Represent a simple object\n@Representer.RepresenterClass()\nclass MakerClass(Initiator.InitiatorClass):\n\n    RepresentingKeyStrsList=['MadeMyInt']\n\n    def default_init(self,\n                        _MakingMyFloat=0.,  \n                        _MadeMyInt=0\n                    ):\n        pass\n        \n#Definition a simple instance\nSimpleMaker=MakerClass(_MakingMyFloat=2.)\n\n#Represent a structured instance\nParentMaker=MakerClass()\nParentMaker.ChildMaker=MakerClass()\n\n#Definition a derived class from the MakerClass\n@Representer.RepresenterClass()\nclass BuilderClass(MakerClass):\n\n    RepresentingKeyStrsList=['BuiltMyStr']\n\n    def default_init(self,\n                        _BuildingMyStr='hello',  \n                        _BuiltMyStr='None'\n                    ):\n        pass\n\n#Definition a simple instance\nSimpleBuilder=BuilderClass(_MakingMyFloat=2.)\n\n#Definition the AttestedStr\nSYS._attest(\n    [\n        'SimpleMaker is '+SimpleMaker.__repr__(),\n        'ParentMaker is '+ParentMaker.__repr__(),\n        'ParentBuilder is '+SimpleBuilder.__repr__()\n    ]\n) \n\n#Print\nprint(AttestedStr)\n\n```\n", 
          "cell_type": "markdown", 
          "metadata": {}
        }, 
        {
          "source": "```console\n>>>\n\n\n*****Start of the Attest *****\n\nSimpleMaker is < (MakerClass), 4478454096>\n   /{ \n   /  '<Class>MadeMyInt' : 0\n   /  '<Spe><Instance>MakingMyFloat' : 2.0\n   /}\n\n------\n\nParentMaker is < (MakerClass), 4478454160>\n   /{ \n   /  '<Class>MadeMyInt' : 0\n   /  '<New><Instance>ChildMaker' : < (MakerClass), 4478454224>\n   /   /{ \n   /   /  '<Class>MadeMyInt' : 0\n   /   /}\n   /}\n\n------\n\nParentBuilder is < (BuilderClass), 4478454544>\n   /{ \n   /  '<Base><Class>MadeMyInt' : 0\n   /  '<Class>BuiltMyStr' : None\n   /  '<Spe><Instance>MakingMyFloat' : 2.0\n   /}\n\n*****End of the Attest *****\n\n\n\n\n```\n", 
          "cell_type": "markdown", 
          "metadata": {}
        }, 
        {
          "source": "\n<!--\nFrozenIsBool False\n-->\n\n##More Descriptions at the level of the class\n\nSpecial attributes of the RepresenterClass are :\n", 
          "cell_type": "markdown", 
          "prompt_number": 4, 
          "metadata": {}
        }, 
        {
          "source": "```python\n\n\n\n\n```\n", 
          "cell_type": "markdown", 
          "metadata": {}
        }, 
        {
          "source": "```console\n>>>\n\n\n```\n", 
          "cell_type": "markdown", 
          "metadata": {}
        }, 
        {
          "source": "\n<!--\nFrozenIsBool False\n-->\n\n##More Descriptions at the level of the instances\n\nA default call of an instance gives :\n", 
          "cell_type": "markdown", 
          "prompt_number": 6, 
          "metadata": {}
        }, 
        {
          "source": "```python\n\n\n\n\n\n```\n", 
          "cell_type": "markdown", 
          "metadata": {}
        }, 
        {
          "source": "```console\n>>>\n\n\n```\n", 
          "cell_type": "markdown", 
          "metadata": {}
        }
      ]
    }
  ], 
  "metadata": {
    "name": "", 
    "signature": ""
  }, 
  "nbformat_minor": 0
}