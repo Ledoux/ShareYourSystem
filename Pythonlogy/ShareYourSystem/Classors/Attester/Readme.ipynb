{
  "nbformat": 3, 
  "worksheets": [
    {
      "cells": [
        {
          "source": "\n<!--\nFrozenIsBool False\n-->\n\n#Attester\n\n##Doc\n----\n\n\n> \n> The Attester helps for outputing and writing\n> AttestingPrefixStrs that are a succession of well-shaped\n> prints in the console from an defined attesting function.\n> This environment helps for displaying nicer exampling \n> python codes in Readme and also contributing to unittests\n> of the modules.\n> \n> \n\n----\n\n<small>\nView the Attester notebook on [NbViewer](http://nbviewer.ipython.org/url/shareyoursystem.ouvaton.org/Attester.ipynb)\n</small>\n\n", 
          "cell_type": "markdown", 
          "prompt_number": 0, 
          "metadata": {
            "slideshow": {
              "slide_type": "slide"
            }
          }
        }, 
        {
          "source": "\n<!---\nFrozenIsBool True\n-->\n\n##Example\n\nHere we just decorate an IncrementerClass with an Attester and define an attest_increment\nfunction in the module that for which an AttestingStr will be written in a local Folder \nAttests/", 
          "cell_type": "markdown", 
          "prompt_number": 1, 
          "metadata": {
            "slideshow": {
              "slide_type": "subslide"
            }
          }
        }, 
        {
          "source": "```python\n#ImportModules\nimport ShareYourSystem as SYS\nfrom ShareYourSystem.Classors import Attester\nfrom ShareYourSystem.Tutorials import Incrementer\n\n#Attest the module\nIncrementer.IncrementerClass().setAttest(\n    Attester.AttesterClass.DeriveClassor.AttestingFolderPathStr\n)\n\n#Definition the AttestedStr\nSYS._attest(\n    [\n'Attests file is written and is '+open(\n    Attester.AttesterClass.DeriveClassor.AttestingFolderPathStr+'attest_increment.txt'\n).read()\n    ]\n) \n\n#Print\n\n\n```\n", 
          "cell_type": "markdown", 
          "metadata": {}
        }, 
        {
          "source": "```console\n>>>\n\n\n*****Start of the Attest *****\n\nAttests file is written and is 1\n\n*****End of the Attest *****\n\n\n\n```\n", 
          "cell_type": "markdown", 
          "metadata": {}
        }
      ]
    }
  ], 
  "metadata": {
    "name": "", 
    "signature": ""
  }, 
  "nbformat_minor": 0
}