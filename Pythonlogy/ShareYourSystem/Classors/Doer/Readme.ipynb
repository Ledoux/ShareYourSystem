{
  "nbformat": 3, 
  "worksheets": [
    {
      "cells": [
        {
          "source": "\n<!--\nFrozenIsBool False\n-->\n\n#Doer\n\n##Doc\n----\n\n\n> \n> The Doer defines instances that are going to decorate a big family of classes in this framework. \n> Staying on the idea, that one module should associate\n> one class, now a decorated class by a Doer should have a NameStr that is \n> a DoStr and express also method a method with the name <DoStr>[0].lower()+<DoStr>[1:]\n> All the attributes that are controlling this method process are <DoingStr><MiddleStr><TypeStr>\n> and all the ones resetted during the method are <DoneStr><MiddleStr><TypeStr>.\n> This helps a lot for defining a fisrt level of objects that are acting like input-output controllers.\n> \n> \n\n----\n\n<small>\nView the Doer notebook on [NbViewer](http://nbviewer.ipython.org/url/shareyoursystem.ouvaton.org/Doer.ipynb)\n</small>\n\n", 
          "cell_type": "markdown", 
          "prompt_number": 0, 
          "metadata": {
            "slideshow": {
              "slide_type": "slide"
            }
          }
        }, 
        {
          "source": "\n<!---\nFrozenIsBool True\n-->\n\n##Example\n\nIt is possible to re set the Doing or Done attributes", 
          "cell_type": "markdown", 
          "prompt_number": 1, 
          "metadata": {
            "slideshow": {
              "slide_type": "subslide"
            }
          }
        }, 
        {
          "source": "```python\n#ImportModules\nimport ShareYourSystem as SYS\nfrom ShareYourSystem.Classors import Doer,Attester \nfrom ShareYourSystem.Objects import Initiator\n\n#Definition a MakerClass decorated by the DefaultorClass\n@Doer.DoerClass()\nclass MakerClass(Initiator.InitiatorClass):\n\n    def default_init(self,\n                _MakingMyFloat=1.,\n                _MakingMyList=None,\n                _MakingFirstInt={'DefaultingSetType':int},\n                _MakingSecondInt=0,\n                _MadeMyInt=0,\n                _MadeMyList=None,\n                ):\n        pass\n\n    def do_make(self):\n\n        #print\n        print('Maker : I am going to make')\n        print('self.MakingMyFloat is ',self.MakingMyFloat)\n        print('')\n\n        #set\n        self.MadeMyInt=int(self.MakingMyFloat)\n\n        #Return self\n        #return self\n\n#Definition of an instance and make\nMyMaker=MakerClass(\n    _MakingMyList=['hello'],\n    **{'MakingFirstInt':3}\n    ).superDo_make(\n        3.,['bonjour'],\n        _SecondInt=5\n    )\n\nprint('MyMaker is ')\nSYS._print(MyMaker)\n\nprint('we reset doing')\nMyMaker.setDoing(MakerClass)\n\nprint('MyMaker after set doing is ')\nSYS._print(MyMaker)\n\n#Add\nAttestingStrsList=[\n        'MyMaker.__dict__ is '+SYS._str(MyMaker.__dict__,\n            **{'RepresentingAlineaIsBool':False})\n    ]\n\n#Definition\nSYS._attest(AttestingStrsList)\n\n#Print\n\n\n```\n", 
          "cell_type": "markdown", 
          "metadata": {}
        }, 
        {
          "source": "```console\n>>>\nMaker : I am going to make\n('self.MakingMyFloat is ', 3.0)\n\nMyMaker is \n<MakerClass object at 0x103288990>\nwe reset doing\nMyMaker after set doing is \n<MakerClass object at 0x103288990>\n\n\n*****Start of the Attest *****\n\nMyMaker.__dict__ is \n   /{ \n   /  'IdInt' : 4347955600\n   /  'MadeMyInt' : 3\n   /  'MadeMyList' : []\n   /  'MakingFirstInt' : 0\n   /  'MakingMyFloat' : 1.0\n   /  'MakingMyList' : []\n   /  'MakingSecondInt' : 0\n   /}\n\n*****End of the Attest *****\n\n\n\n```\n", 
          "cell_type": "markdown", 
          "metadata": {}
        }
      ]
    }
  ], 
  "metadata": {
    "name": "", 
    "signature": ""
  }, 
  "nbformat_minor": 0
}