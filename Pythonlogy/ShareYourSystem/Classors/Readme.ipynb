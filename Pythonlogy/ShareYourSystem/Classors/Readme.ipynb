{
  "nbformat": 3, 
  "worksheets": [
    {
      "cells": [
        {
          "source": "\n<!--\nFrozenIsBool False\n-->\n\n#Classors\n\n##Doc\n----\n\n\n> \n> The Objects helps ...\n> \n> \n\n----\n\n<small>\nView the Classors notebook on [NbViewer](http://nbviewer.ipython.org/url/shareyoursystem.ouvaton.org/Classors.ipynb)\n</small>\n\n", 
          "cell_type": "markdown", 
          "prompt_number": 0, 
          "metadata": {
            "slideshow": {
              "slide_type": "slide"
            }
          }
        }, 
        {
          "source": "\n<!--\nFrozenIsBool False\n-->\n\n##Concept\n\n<iframe width=\"650\" height=\"300\" src=\"https://shareyoursystem.ouvaton.org/Classors.php\">\n  Fallback text here for unsupporting browsers, of which there are scant few.\n</iframe>\n\n<small>\nView the Classors concept on [Ouvaton](https://shareyoursystem.ouvaton.org/Classors.php)\n</small>\n\n", 
          "cell_type": "markdown", 
          "prompt_number": 1, 
          "metadata": {
            "slideshow": {
              "slide_type": "subslide"
            }
          }
        }, 
        {
          "source": "\n<!--\nFrozenIsBool False\n-->\n\n##Code\n\n----\n\n<ClassDocStr>\n\n----\n\n```python\n# -*- coding: utf-8 -*-\n\"\"\"\n\n\n<DefineSource>\n@Date : Fri Nov 14 13:20:38 2014 \\n\n@Author : Erwan Ledoux \\n\\n\n</DefineSource>\n\n\nThe Objects helps ...\n\n\"\"\"\n\n#<DefineConcept>\nimport ShareYourSystem as SYS\nSYS.setConceptModule(globals())\n#</DefineConcept>\n\n```\n\n<small>\nView the Classors sources on [Github](https://github.com/Ledoux/ShareYourSystem/tree/master/ShareYourSystem/Classors)\n</small>\n\n", 
          "cell_type": "markdown", 
          "prompt_number": 2, 
          "metadata": {
            "slideshow": {
              "slide_type": "subslide"
            }
          }
        }
      ]
    }
  ], 
  "metadata": {
    "name": "", 
    "signature": ""
  }, 
  "nbformat_minor": 0
}