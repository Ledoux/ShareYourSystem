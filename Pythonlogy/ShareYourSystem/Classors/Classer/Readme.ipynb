{
  "nbformat": 3, 
  "worksheets": [
    {
      "cells": [
        {
          "source": "\n<!--\nFrozenIsBool False\n-->\n\n#Classer\n\n##Doc\n----\n\n\n> \n> The Classer\n> \n> \n\n----\n\n<small>\nView the Classer notebook on [NbViewer](http://nbviewer.ipython.org/url/shareyoursystem.ouvaton.org/Classer.ipynb)\n</small>\n\n", 
          "cell_type": "markdown", 
          "prompt_number": 0, 
          "metadata": {
            "slideshow": {
              "slide_type": "slide"
            }
          }
        }, 
        {
          "source": "\n<!--\nFrozenIsBool False\n-->\n\n##Code\n\n----\n\n<ClassDocStr>\n\n----\n\n```python\n# -*- coding: utf-8 -*-\n\"\"\"\n\n\n<DefineSource>\n@Date : Fri Nov 14 13:20:38 2014 \\n\n@Author : Erwan Ledoux \\n\\n\n</DefineSource>\n\n\nThe Classer\n\n\"\"\"\n\n#<DefineAugmentation>\nimport ShareYourSystem as SYS\nBaseModuleStr=\"ShareYourSystem.Classors.Mimicker\"\nDecorationModuleStr=\"ShareYourSystem.Classors.Tester\"\nSYS.setSubModule(globals())\n#</DefineAugmentation>\n\n#<ImportSpecificModules>\nMimicker=BaseModule\n#</ImportSpecificModules>\n\n#<Define_Class>\n@DecorationClass()\nclass ClasserClass(BaseClass):\n\n\t#Definition \n\tRepresentingKeyStrsList=[\n\t\t\t\t\t\t'ClassingSwitchMethodStrsList'\n\t\t\t\t\t]\n\n\tdef default_init(self,\t\n\t\t\t\t\t\t_ClassingSwitchMethodStrsList=None,\t\n\t\t\t\t\t\t**_KwargVariablesDict\n\t\t\t\t):\n\t\t\n\t\t#Call the parent init method\n\t\tBaseClass.__init__(self,**_KwargVariablesDict)\n\n\tdef __call__(self,_Class):\n\n\t\t#Call the parent method\n\t\tMimicker.MimickerClass.__bases__[0].__call__(self,_Class)\n\n\t\t#class\n\t\tself._class()\n\n\t\t#Return\n\t\treturn _Class\n\n\tdef do__class(self):\n\n\t\t#Definition the MethodsList\n\t\tClassedFunctionsList=SYS._filter(\n\t\t\tlambda __ListedVariable:\n\t\t\t\ttype(__ListedVariable).__name__==\"function\"\n\t\t\t\tif hasattr(__ListedVariable,'__name__')\n\t\t\t\telse False,\n\t\t\t\tself.DoClass.__dict__.values()\n\t\t)\n\n\t\t#debug\n\t\t'''\n\t\tprint('l 66 Classer')\n\t\tprint(\"ClassedFunctionsList is \",WatchedFunctionsList)\n\t\tprint('Set all the mimick methods')\n\t\tprint('')\n\t\t'''\n\n\t\t#Get all the hooking methods\n\t\tClassedMimickFunctionsList=SYS._filter(\n\t\t\tlambda __ListedVariable:\n\t\t\t__ListedVariable.__name__.startswith(\n\t\t\t\t\tMimicker.MimickingWrapPrefixStr\n\t\t\t)\n\t\t\tif hasattr(__ListedVariable,'__name__')\n\t\t\telse False,\n\t\t\tClassedFunctionsList\n\t\t)\n\n\t\t#debug\n\t\t'''\n\t\tprint('l 82 Classer')\n\t\tprint(\"ClassedMimickFunctionsList is \",ClassedMimickFunctionsList)\n\t\tprint('')\n\t\t'''\n\n\t\t#map\n\t\tmap(\t\n\t\t\t\tlambda __ClassedMimickFunction:\n\t\t\t\tself.mimic(\n\t\t\t\t\tMimicker.MimickingWrapPrefixStr.join(\n\t\t\t\t\t\t__ClassedMimickFunction.__name__.split(\n\t\t\t\t\t\t\tMimicker.MimickingWrapPrefixStr)[1:]\n\t\t\t\t\t\t)\n\t\t\t\t),\n\t\t\t\tClassedMimickFunctionsList\n\t\t\t)\n\n\t\t#debug\n\t\t'''\n\t\tprint('l 104 Classer')\n\t\tprint('set the switch functions')\n\t\tprint('self.ClassingSwitchMethodStrsList is ',self.ClassingSwitchMethodStrsList)\n\t\tprint('self.DoClass.DoMethodStr is ',self.DoClass.DoMethodStr)\n\t\tprint('')\n\t\t'''\n\t\t\n\t\t#map\n\t\tmap(\t\n\t\t\t\tlambda __ClassingSwitchUnboundMethodStr:\n\t\t\t\tself.switch(\n\t\t\t\t\tTrue,\n\t\t\t\t\t__ClassingSwitchUnboundMethodStr\n\t\t\t\t),\n\t\t\t\tself.ClassingSwitchMethodStrsList\n\t\t\t)\n#</DefineClass>\n\n\n```\n\n<small>\nView the Classer sources on <a href=\"https://github.com/Ledoux/ShareYourSystem/tree/master/Pythonlogy/ShareYourSystem/Classors/Classer\" target=\"_blank\">Github</a>\n</small>\n\n", 
          "cell_type": "markdown", 
          "prompt_number": 1, 
          "metadata": {
            "slideshow": {
              "slide_type": "subslide"
            }
          }
        }, 
        {
          "source": "\n<!---\nFrozenIsBool True\n-->\n\n##Example\n\nFor this non directly very useful Module we just define a decorated FooClass\nfor which the Functer decoration by default call the decorated method...", 
          "cell_type": "markdown", 
          "prompt_number": 2, 
          "metadata": {
            "slideshow": {
              "slide_type": "subslide"
            }
          }
        }, 
        {
          "source": "```python\n#ImportModules\nimport ShareYourSystem as SYS\nfrom ShareYourSystem.Classors import Doer,Classer\nfrom ShareYourSystem.Objects import Initiator\nimport operator\n\n#Definition \n@Classer.ClasserClass(**{\n    'ClassingSwitchMethodStrsList':[\n        'make'\n    ]\n})\nclass MakerClass(Initiator.InitiatorClass):\n\n    #Definition\n    RepresentingKeyStrsList=[\n                                'MakingMyFloat',\n                                'MadeMyInt'\n                            ]\n\n    def default_init(self,\n                    _MakingMyFloat=0.,\n                    _MadeMyInt=0,\n                    **_KwarVariablesDict\n                ):\n        Initiator.InitiatorClass.__init__(self,**_KwarVariablesDict)\n\n    def do_make(self):\n    \n        #print\n        print('I am in the do_make of the Maker')\n\n        #cast\n        self.MadeMyInt=int(self.MakingMyFloat)\n\n#Definition\n@Classer.ClasserClass(**{\n    'ClassingSwitchMethodStrsList':[\n        'make'\n    ]\n}\n)\nclass BuilderClass(MakerClass):\n\n    #Definition\n    RepresentingKeyStrsList=[\n                            ]\n\n    def default_init(self,\n                    **_KwarVariablesDict\n                ):\n        MakerClass.__init__(self,**_KwarVariablesDict)\n\n    def mimic_make(self):\n    \n        #print\n        print('I am in the mimic_make of the Builder')\n\n        #call the parent method\n        MakerClass.make(self)\n\n        #cast\n        self.MadeMyInt+=10\n\n    def do_build(self):\n        pass\n\n#Definition an instance\nMyBuilder=BuilderClass()\n\n#Print\nprint('Before make, MyBuilder is ')\nSYS._print(MyBuilder,**{\n    'RepresentingKeyStrsList':[\n    'MakingMyFloat',\n    'MadeMyInt'\n    ]\n})\n\n#make once\nMyBuilder.make(3.)\n\n#Print\nprint('After the first make, MyBuilder is ')\nSYS._print(MyBuilder,**{\n    'RepresentingKeyStrsList':[\n    'MakingMyFloat',\n    'MadeMyInt'\n    ]\n})\n\n\n#make again\nMyBuilder.make(5.)\n\n#Print\nprint('After the second make, MyBuilder is ')\nSYS._print(MyBuilder,**{\n    'RepresentingKeyStrsList':[\n    'MakingMyFloat',\n    'MadeMyInt',\n    ]\n})\n\n#make again\nprint('Now we switch')\nMyBuilder.setSwitch('Builder',['Make'])\nMyBuilder.callAllMro('setSwitch',['Make'])\n\n#Print\nprint('After the switch MyBuilder is ')\nSYS._print(MyBuilder,**{\n    'RepresentingKeyStrsList':[\n    'MakingMyFloat',\n    'MadeMyInt'\n    ]\n})\n\n#make again\nMyBuilder.make(7.)\n\n#Print\nprint('After the third make, MyBuilder is ')\nSYS._print(MyBuilder,**{\n    'RepresentingKeyStrsList':[\n    'MakingMyFloat',\n    'MadeMyInt'\n    ]\n})\n\n#Definition the AttestedStr\nSYS._attest(\n    [\n        'BuilderClass.WatchMakeWithMakerBool is '+str(BuilderClass.WatchMakeWithMakerBool),\n        'BuilderClass.make is '+str(BuilderClass.make),\n        'BuilderClass.build is '+str(BuilderClass.build),\n        'MyBuilder is '+SYS._str(\n        MyBuilder,\n        **{\n            'RepresentingBaseKeyStrsListBool':False,\n            'RepresentingAlineaIsBool':False,\n            'RepresentingKeyStrsList':[\n                'MakingMyFloat',\n                'MadeMyInt',\n            ]\n        }\n        )\n    ]\n) \n\n#Print\n\n\n\n\n\n```\n", 
          "cell_type": "markdown", 
          "metadata": {}
        }, 
        {
          "source": "```console\n>>>\nBefore make, MyBuilder is \n< (BuilderClass), 4538551440>\n   /{ \n   /  '<Base><Class>MadeMyInt' : 0\n   /  '<Base><Class>MakingMyFloat' : 0.0\n   /  '<New><Instance>IdInt' : 4538551440\n   /}\nI am in the mimic_make of the Builder\nI am in the do_make of the Maker\nAfter the first make, MyBuilder is \n< (BuilderClass), 4538551440>\n   /{ \n   /  '<New><Instance>IdInt' : 4538551440\n   /  '<Spe><Instance>MadeMyInt' : 13\n   /  '<Spe><Instance>MakingMyFloat' : 3.0\n   /}\nAfter the second make, MyBuilder is \n< (BuilderClass), 4538551440>\n   /{ \n   /  '<New><Instance>IdInt' : 4538551440\n   /  '<Spe><Instance>MadeMyInt' : 13\n   /  '<Spe><Instance>MakingMyFloat' : 3.0\n   /}\nNow we switch\nAfter the switch MyBuilder is \n< (BuilderClass), 4538551440>\n   /{ \n   /  '<New><Instance>IdInt' : 4538551440\n   /  '<Spe><Instance>MadeMyInt' : 13\n   /  '<Spe><Instance>MakingMyFloat' : 3.0\n   /}\nI am in the mimic_make of the Builder\nI am in the do_make of the Maker\nAfter the third make, MyBuilder is \n< (BuilderClass), 4538551440>\n   /{ \n   /  '<New><Instance>IdInt' : 4538551440\n   /  '<Spe><Instance>MadeMyInt' : 17\n   /  '<Spe><Instance>MakingMyFloat' : 7.0\n   /}\n\n\n*****Start of the Attest *****\n\nBuilderClass.WatchMakeWithMakerBool is False\n\n------\n\nBuilderClass.make is <unbound method BuilderClass.switch_watch_superMimic_switch_watch_superDo_make>\n\n------\n\nBuilderClass.build is <unbound method BuilderClass.superDo_build>\n\n------\n\nMyBuilder is < (BuilderClass), 4538551440>\n   /{ \n   /  '<New><Instance>IdInt' : 4538551440\n   /  '<Spe><Instance>MadeMyInt' : 17\n   /  '<Spe><Instance>MakingMyFloat' : 7.0\n   /}\n\n*****End of the Attest *****\n\n\n\n```\n", 
          "cell_type": "markdown", 
          "metadata": {}
        }
      ]
    }
  ], 
  "metadata": {
    "name": "", 
    "signature": ""
  }, 
  "nbformat_minor": 0
}