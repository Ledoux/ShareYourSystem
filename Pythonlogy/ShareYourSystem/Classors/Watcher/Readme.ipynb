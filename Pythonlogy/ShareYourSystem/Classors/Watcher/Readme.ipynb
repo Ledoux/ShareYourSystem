{
  "nbformat": 3, 
  "worksheets": [
    {
      "cells": [
        {
          "source": "\n<!--\nFrozenIsBool False\n-->\n\n#Watcher\n\n##Doc\n----\n\n\n> \n> The Watcher \n> \n> \n\n----\n\n<small>\nView the Watcher notebook on [NbViewer](http://nbviewer.ipython.org/url/shareyoursystem.ouvaton.org/Watcher.ipynb)\n</small>\n\n", 
          "cell_type": "markdown", 
          "prompt_number": 0, 
          "metadata": {
            "slideshow": {
              "slide_type": "slide"
            }
          }
        }, 
        {
          "source": "\n<!---\nFrozenIsBool True\n-->\n\n##Example\n\nLet's create an empty class, which will automatically receive special attributes from the decorating ClassorClass specially the NameStr, that should be the ClassStr without the TypeStr in the end.", 
          "cell_type": "markdown", 
          "prompt_number": 1, 
          "metadata": {
            "slideshow": {
              "slide_type": "subslide"
            }
          }
        }, 
        {
          "source": "```python\n#ImportModules\nimport ShareYourSystem as SYS\nfrom ShareYourSystem.Classors import Watcher\nfrom ShareYourSystem.Objects import Initiator\n\n#Definition a MakerClass with decorated make by a Watcher\n@Watcher.WatcherClass(**{\n    'WatchingIsBool':True,\n    #'ObservingWrapMethodStr':'do_make'\n    #'ObservingWrapMethodStr':'superDo_make'\n    'ObservingWrapMethodStr':'make'\n    })\nclass MakerClass(Initiator.InitiatorClass):\n\n    #Definition\n    RepresentingKeyStrsList=[\n                                'MakingMyFloat',\n                                'MadeMyInt'\n                            ]\n\n    def default_init(self,\n                _MakingMyFloat=1.,\n                _MadeMyInt=0\n                ):\n        Initiator.InitiatorClass.__init__(self)\n\n    def do_make(self):\n\n        #print\n        print('self.MakingMyFloat is '+str(self.MakingMyFloat))\n        print('self.MadeMyInt is '+str(self.MadeMyInt))\n        print('')\n\n        #Cast\n        self.MadeMyInt=int(self.MakingMyFloat)\n\n#Definition a MakerClass with decorated make by a Watcher\n@Watcher.WatcherClass(**{\n    'WatchingIsBool':True,\n    #'ObservingWrapMethodStr':'do_make'\n    #'ObservingWrapMethodStr':'superDo_make'\n    'ObservingWrapMethodStr':'make'\n    })\nclass BuilderClass(MakerClass):\n\n    #Definition\n    RepresentingKeyStrsList=[\n                            ]\n\n    def default_init(self,\n                ):\n        MakerClass.__init__(self)\n\n    def do_buid(self):\n        pass\n\n#Definition an instance\nMyBuilder=MakerClass()\n\n#Print\nprint('Before make, MyBuilder is ')\nSYS._print(MyBuilder)\n\n#make once\nMyBuilder.make(3.)\n\n#Print\nprint('After the first make, MyBuilder is ')\nSYS._print(MyBuilder)\n\n#Definition the AttestedStr\nSYS._attest(\n    [\n        'BuilderClass.make is '+str(BuilderClass.make),\n        'MyBuilder is '+SYS._str(\n            MyBuilder,**{'RepresentingAlineaIsBool':False}\n        )\n    ]\n) \n\n#Print\n\n\n```\n", 
          "cell_type": "markdown", 
          "metadata": {}
        }, 
        {
          "source": "```console\n>>>\nBefore make, MyBuilder is \n< (MakerClass), 4348129040>\n   /{ \n   /  '<New><Instance>IdInt' : 4348129040\n   /  '<Spe><Class>MadeMyInt' : 0\n   /  '<Spe><Class>MakingMyFloat' : 1.0\n   /}\nself.MakingMyFloat is 3.0\nself.MadeMyInt is 0\n\nAfter the first make, MyBuilder is \n< (MakerClass), 4348129040>\n   /{ \n   /  '<New><Instance>IdInt' : 4348129040\n   /  '<Spe><Instance>MadeMyInt' : 3\n   /  '<Spe><Instance>MakingMyFloat' : 3.0\n   /}\n\n\n*****Start of the Attest *****\n\nBuilderClass.make is <unbound method BuilderClass.watch_superDo_make>\n\n------\n\nMyBuilder is < (MakerClass), 4348129040>\n   /{ \n   /  '<New><Instance>IdInt' : 4348129040\n   /  '<Spe><Instance>MadeMyInt' : 3\n   /  '<Spe><Instance>MakingMyFloat' : 3.0\n   /}\n\n*****End of the Attest *****\n\n\n\n```\n", 
          "cell_type": "markdown", 
          "metadata": {}
        }
      ]
    }
  ], 
  "metadata": {
    "name": "", 
    "signature": ""
  }, 
  "nbformat_minor": 0
}