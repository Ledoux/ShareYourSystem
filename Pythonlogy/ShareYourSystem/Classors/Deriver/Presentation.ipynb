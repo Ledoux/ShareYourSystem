{
  "nbformat": 3, 
  "worksheets": [
    {
      "cells": [
        {
          "source": "\n<!--\nFrozenIsBool False\n-->\n\n#Deriver\n\n##Doc\n----\n\n\n> \n> The Deriver helps for building a base-derive relationships between the classes.\n> Once a <Class> with based classes is defined, a decorating DeriverClass instance\n> append to these corresponding BaseClasses the <Class> as a derived class.\n> \n> \n\n----\n\n<small>\nView the Deriver notebook on [NbViewer](http://nbviewer.ipython.org/url/shareyoursystem.ouvaton.org/Deriver.ipynb)\n</small>\n\n", 
          "cell_type": "markdown", 
          "prompt_number": 0, 
          "metadata": {
            "slideshow": {
              "slide_type": "slide"
            }
          }
        }, 
        {
          "source": "\n<!--\nFrozenIsBool False\n-->\n\n##More Descriptions at the level of the class\n\nSpecial attributes of the ClassorsClass are :\n", 
          "cell_type": "markdown", 
          "prompt_number": 1, 
          "metadata": {
            "slideshow": {
              "slide_type": "subslide"
            }
          }
        }, 
        {
          "cell_type": "code", 
          "prompt_number": 2, 
          "language": "python", 
          "input": [
            "\n", 
            "#ImportModules\n", 
            "import ShareYourSystem as SYS\n", 
            "from ShareYourSystem.Classors import Doer,Deriver,Attester\n", 
            "from ShareYourSystem.Objects import Initiator\n", 
            "\n", 
            "#Definition of a MakerClass decorated by a DoerClass instance\n", 
            "@Doer.DoerClass()\n", 
            "class MakerClass(Initiator.InitiatorClass):\n", 
            "    pass\n", 
            "\n", 
            "#Definition of a derived BuilderClass decorated by a Deriver\n", 
            "@Deriver.DeriverClass()\n", 
            "class BuilderClass(MakerClass):\n", 
            "    pass\n", 
            "\n", 
            "#Print\n", 
            "#print('MakerClass.DerivedClassesList is '+str(MakerClass.DerivedClassesList))\n", 
            "\n", 
            "#Definition the AttestedStr\n", 
            "SYS._attest(\n", 
            "    [\n", 
            "        'MakerClass.DerivedClassesList is '+str(MakerClass.DerivedClassesList)\n", 
            "    ]\n", 
            ") \n", 
            "\n", 
            "#Print\n", 
            "\n"
          ], 
          "outputs": [
            {
              "output_type": "stream", 
              "stream": "stdout", 
              "text": [
                "\n", 
                "\n", 
                "*****Start of the Attest *****\n", 
                "\n", 
                "MakerClass.DerivedClassesList is [<class 'ShareYourSystem.Objects.Printer.PrinterClass'>, <class 'ShareYourSystem.Objects.Debugger.DebuggerClass'>, <class 'ShareYourSystem.Objects.Conditioner.ConditionerClass'>, <class 'ShareYourSystem.Objects.Concluder.ConcluderClass'>, <class 'ShareYourSystem.Objects.Rebooter.RebooterClass'>, <class 'ShareYourSystem.Interfacers.Interfacer.InterfacerClass'>, <class 'ShareYourSystem.Interfacers.Folderer.FoldererClass'>, <class 'ShareYourSystem.Objects.Packager.PackagerClass'>, <class 'ShareYourSystem.Interfacers.Filer.FilerClass'>, <class 'ShareYourSystem.Interfacers.Closer.CloserClass'>, <class 'ShareYourSystem.Interfacers.Loader.LoaderClass'>, <class 'ShareYourSystem.Interfacers.Writer.WriterClass'>, <class 'ShareYourSystem.Interfacers.Hdformater.HdformaterClass'>, <class 'ShareYourSystem.Interfacers.Capturer.CapturerClass'>, <class 'ShareYourSystem.Interfacers.Deployer.DeployerClass'>, <class 'ShareYourSystem.Guiders.Guider.GuiderClass'>, <class 'ShareYourSystem.Guiders.Scriptbooker.ScriptbookerClass'>, <class 'ShareYourSystem.Guiders.Celler.CellerClass'>, <class 'ShareYourSystem.Guiders.Notebooker.NotebookerClass'>, <class 'ShareYourSystem.Guiders.Nbconverter.NbconverterClass'>, <class 'ShareYourSystem.Guiders.Installer.InstallerClass'>, <class 'ShareYourSystem.Guiders.Documenter.DocumenterClass'>, <class 'ShareYourSystem.Guiders.Informer.InformerClass'>, <class 'BuilderClass'>, <class 'MakerClass'>, <class 'MakerClass'>, <class 'MakerClass'>, <class 'BuilderClass'>, <class 'ShareYourSystem.Tutorials.Incrementer.IncrementerClass'>, <class 'ShareYourSystem.Tutorials.Decrementer.DecrementerClass'>, <class 'MakerClass'>, <class 'MakerClass'>, <class 'MakerClass'>, <class 'BuilderClass'>, <class 'MakerClass'>, <class 'BuilderClass'>, <class 'MakerClass'>, <class 'MakerClass'>, <class 'BuilderClass'>, <class 'MakerClass'>, <class 'BuilderClass'>, <class 'BuilderClass'>]\n", 
                "\n", 
                "*****End of the Attest *****\n", 
                "\n", 
                "\n"
              ]
            }
          ], 
          "collapsed": false, 
          "metadata": {
            "slideshow": {
              "slide_type": "-"
            }
          }
        }
      ]
    }
  ], 
  "metadata": {
    "name": "", 
    "signature": ""
  }, 
  "nbformat_minor": 0
}