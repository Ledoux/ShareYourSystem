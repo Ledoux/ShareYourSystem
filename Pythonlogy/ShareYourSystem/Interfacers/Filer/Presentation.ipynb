{
  "nbformat": 3, 
  "worksheets": [
    {
      "cells": [
        {
          "source": "\n<!--\nFrozenIsBool False\n-->\n\n#Filer\n\n##Doc\n----\n\n\n> \n> The Filer is a quick object for opening a FiledFileVariable and safely using (read,write) \n> it depending on the FiledModeStr.\n> \n> \n\n----\n\n<small>\nView the Filer notebook on [NbViewer](http://nbviewer.ipython.org/url/shareyoursystem.ouvaton.org/Filer.ipynb)\n</small>\n\n", 
          "cell_type": "markdown", 
          "prompt_number": 0, 
          "metadata": {
            "slideshow": {
              "slide_type": "slide"
            }
          }
        }, 
        {
          "source": "\n<!--\nFrozenIsBool False\n-->\n\n##Code\n\n----\n\n<ClassDocStr>\n\n----\n\n```python\n# -*- coding: utf-8 -*-\n\"\"\"\n\n\n<DefineSource>\n@Date : Fri Nov 14 13:20:38 2014 \\n\n@Author : Erwan Ledoux \\n\\n\n</DefineSource>\n\n\nThe Filer is a quick object for opening a FiledFileVariable and safely using (read,write) \nit depending on the FiledModeStr.\n\n\"\"\"\n\n#<DefineAugmentation>\nimport ShareYourSystem as SYS\nBaseModuleStr=\"ShareYourSystem.Objects.Packager\"\nDecorationModuleStr=\"ShareYourSystem.Classors.Classer\"\nSYS.setSubModule(globals())\n#</DefineAugmentation>\n\n#<ImportSpecificModules>\nimport os\n#</ImportSpecificModules>\n\n#<DefineLocals>\nFilingOrderStr='_'\n#</DefineLocals>\n\n#<DefineClass>\n@DecorationClass()\nclass FilerClass(BaseClass):\n\t\n\t#Definition\n\tRepresentingKeyStrsList=[\n\t\t\t\t\t\t\t\t'FilingKeyStr',\n\t\t\t\t\t\t\t\t'FilingModeStr',\n\t\t\t\t\t\t\t\t'FiledPathStr',\n\t\t\t\t\t\t\t\t'FiledFileVariable'\n\t\t\t\t\t\t\t]\n\n\n\tdef default_init(self,\n\t\t\t\t\t\t_FilingKeyStr=\"\",\n\t\t\t\t\t\t_FilingModeStr='r',\n\t\t\t\t\t\t_FiledPathStr=\"\",\n\t\t\t\t\t\t_FiledFileVariable=None,\n\t\t\t\t\t\t**_KwargVariablesDict\n\t\t\t\t\t):\n\n\t\t#Call the parent __init__ method\n\t\tBaseClass.__init__(self,**_KwargVariablesDict)\n\n\t#@Argumenter.ArgumenterClass()\n\tdef do_file(self,**_KwargVariablesDict):\n\n\t\t#Call the folder method before\n\t\tself.folder()\n\n\t\t#debug\n\t\t'''\n\t\tself.debug(('self.',self,['FolderingPathStr']))\n\t\t'''\n\n\t\t#set the FiledPathStr\n\t\tif self.FolderingPathStr[-1]!='/':\n\t\t\tself.FolderingPathStr=self.FolderingPathStr+'/'\n\t\tself.FiledPathStr=self.FolderingPathStr+self.FilingKeyStr\n\n\t\t#debug\n\t\t'''\n\t\tself.debug(('self.',self,['FilingKeyStr','FiledPathStr','FilingModeStr']))\n\t\t'''\n\n\t\t#Close before if we chaneg the mode\n\t\tif self.FiledFileVariable!=None:\n\n\t\t\t#Check\n\t\t\tif self.FiledFileVariable==self.FiledPathStr:\n\n\t\t\t\t#Return if it is the same mode already\n\t\t\t\tif self.FiledFileVariable.mode==self.FilingModeStr:\n\t\t\t\t\treturn self\n\n\t\t\t\t#Check\n\t\t\t\tif self.FiledFileVariable.mode!='c':\n\t\t\t\t\tif ('w' in self.FilingModeStr and self.FiledFileVariable.mode=='r'\n\t\t\t\t\t\t) or ('r'==self.FilingModeStr and 'w' in self.FiledFileVariable.mode):\n\t\t\t\t\t\tself.FiledFileVariable.close()\n\n\t\t\telse:\n\n\t\t\t\t#Close\n\t\t\t\tself.FiledFileVariable.close()\n\n\n\n\t\t#Open the self.FilePointer\n\t\tif self.FilingModeStr=='r' and os.path.isfile(self.FiledPathStr):\n\n\t\t\t#debug\n\t\t\t'''\n\t\t\tself.debug('Open the file for reading !')\n\t\t\t'''\n\n\t\t\t#Open\n\t\t\tself.FiledFileVariable=open(self.FiledPathStr,self.FilingModeStr)\n\n\t\telse:\n\n\t\t\t#debug\n\t\t\t'''\n\t\t\tself.debug('Open the file for writing !')\n\t\t\t'''\n\n\t\t\t#Open\n\t\t\tself.FiledFileVariable=open(self.FiledPathStr,self.FilingModeStr)\n\n\t\t#Return self\n\t\t#return self\n\t\n#</DefineClass>\n\n\n```\n\n<small>\nView the Filer sources on [Github](https://github.com/Ledoux/ShareYourSystem/tree/master/ShareYourSystem/Interfacers/Filer)\n</small>\n\n", 
          "cell_type": "markdown", 
          "prompt_number": 1, 
          "metadata": {
            "slideshow": {
              "slide_type": "subslide"
            }
          }
        }, 
        {
          "source": "\n<!---\nFrozenIsBool True\n-->\n\n##Example\n\nLet's create an empty class, which will automatically receive\nspecial attributes from the decorating ClassorClass,\nspecially the NameStr, that should be the ClassStr\nwithout the TypeStr in the end.", 
          "cell_type": "markdown", 
          "prompt_number": 2, 
          "metadata": {
            "slideshow": {
              "slide_type": "subslide"
            }
          }
        }, 
        {
          "cell_type": "code", 
          "prompt_number": 3, 
          "language": "python", 
          "input": [
            "#ImportModules\n", 
            "import ShareYourSystem as SYS\n", 
            "from ShareYourSystem.Interfacers import Filer\n", 
            "\n", 
            "#Definition of an instance Filer and make it find the current dir\n", 
            "MyFiler=Filer.FilerClass().file('MyFile.txt','w',\n", 
            "    **{\n", 
            "    'FolderingPathStr':\n", 
            "    Filer.LocalFolderPathStr\n", 
            "    }\n", 
            ")\n", 
            "\n", 
            "#close\n", 
            "MyFiler.FiledFileVariable.close()\n", 
            "\n", 
            "#Definition the AttestedStr\n", 
            "SYS._attest(\n", 
            "    [\n", 
            "        'MyFiler is '+SYS._str(MyFiler,\n", 
            "        **{'RepresentingAlineaIsBool':False})\n", 
            "    ]\n", 
            ") \n", 
            "\n", 
            "#Print\n", 
            "\n", 
            "\n"
          ], 
          "outputs": [
            {
              "output_type": "stream", 
              "stream": "stdout", 
              "text": [
                "\n", 
                "\n", 
                "*****Start of the Attest *****\n", 
                "\n", 
                "MyFiler is < (FilerClass), 4404028304>\n", 
                "   /{ \n", 
                "   /  '<New><Instance>IdInt' : 4404028304\n", 
                "   /  '<Spe><Instance>FiledFileVariable' : <closed file '/Users/ledoux/Documents/ShareYourSystem/Pythonlogy/ShareYourSystem/Interfacers/Filer/MyFile.txt', mode 'w' at 0x105b7b0c0>\n", 
                "   /  '<Spe><Instance>FiledPathStr' : /Users/ledoux/Documents/ShareYourSystem/Pythonlogy/ShareYourSystem/Interfacers/Filer/MyFile.txt\n", 
                "   /  '<Spe><Instance>FilingKeyStr' : MyFile.txt\n", 
                "   /  '<Spe><Instance>FilingModeStr' : w\n", 
                "   /}\n", 
                "\n", 
                "*****End of the Attest *****\n", 
                "\n", 
                "\n"
              ]
            }
          ], 
          "collapsed": false, 
          "metadata": {
            "slideshow": {
              "slide_type": "-"
            }
          }
        }
      ]
    }
  ], 
  "metadata": {
    "name": "", 
    "signature": ""
  }, 
  "nbformat_minor": 0
}