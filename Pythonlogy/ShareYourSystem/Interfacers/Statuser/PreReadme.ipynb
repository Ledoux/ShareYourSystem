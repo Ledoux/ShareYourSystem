{
  "nbformat": 3, 
  "worksheets": [
    {
      "cells": [
        {
          "source": "\n<!--\nFrozenIsBool False\n-->\n\n#Statuser\n\n##Doc\n----\n\n\n> \n> The Statuser\n> \n> \n\n----\n\n<small>\nView the Statuser notebook on [NbViewer](http://nbviewer.ipython.org/url/shareyoursystem.ouvaton.org/Statuser.ipynb)\n</small>\n\n", 
          "cell_type": "markdown", 
          "prompt_number": 0, 
          "metadata": {
            "slideshow": {
              "slide_type": "slide"
            }
          }
        }, 
        {
          "source": "\n<!--\nFrozenIsBool False\n-->\n\n##Code\n\n----\n\n<ClassDocStr>\n\n----\n\n```python\n# -*- coding: utf-8 -*-\n\"\"\"\n\n\n<DefineSource>\n@Date : Fri Nov 14 13:20:38 2014 \\n\n@Author : Erwan Ledoux \\n\\n\n</DefineSource>\n\n\nThe Statuser\n\n\"\"\"\n\n#<DefineAugmentation>\nimport ShareYourSystem as SYS\nBaseModuleStr=\"ShareYourSystem.Interfacers.Processer\"\nDecorationModuleStr=\"ShareYourSystem.Classors.Classer\"\nSYS.setSubModule(globals())\n#</DefineAugmentation>\n\n#<ImportSpecificModules>\nimport os\n#</ImportSpecificModules>\n\n#<DefineClass>\n@DecorationClass()\nclass StatuserClass(BaseClass):\n\t\n\t#Definition\n\tRepresentingKeyStrsList=[\n\t\t\t\t\t\t\t\t\t'StatusingProcessStr',\n\t\t\t\t\t\t\t\t\t'StatusedSnapshotStr',\n\t\t\t\t\t\t\t\t\t'StatusedLineStrsList',\n\t\t\t\t\t\t\t\t\t'StatusedIdStrsList'\n\t\t\t\t\t\t\t\t]\n\n\tdef default_init(self,\n\t\t\t\t\t\t_StatusingProcessStr=\"\",\n\t\t\t\t\t\t_StatusedSnapshotStr=\"\",\n\t\t\t\t\t\t_StatusedLineStrsList=None,\n\t\t\t\t\t\t_StatusedIdStrsList=None,\n\t\t\t\t\t\t**_KwargVariablesDict\n\t\t\t\t\t):\n\n\t\t#Call the parent __init__ method\n\t\tBaseClass.__init__(self,**_KwargVariablesDict)\n\t\n\tdef do_status(self):\n\n\t\t#Check\n\t\tif self.StatusingProcessStr!=\"\":\n\n\t\t\t#call\n\t\t\tself.StatusedSnapshotStr=self.process(\n\t\t\t\t\"ps -ef | grep \"+self.StatusingProcessStr\n\t\t\t).ProcessedBashStr\n\n\t\t\t#debug\n\t\t\t'''\n\t\t\tself.debug(('self.',self,['StatusedSnapshotStr']))\n\t\t\t'''\n\n\t\t\t#map\n\t\t\tself.StatusedLineStrsList=SYS._filter(\n\t\t\t\t\tlambda __LineStr:\n\t\t\t\t\tSYS.PythonPathStr in __LineStr,\n\t\t\t\t\tself.StatusedSnapshotStr.split('\\n')\n\t\t\t\t)\n\n\t\t\t#debug\n\t\t\t'''\n\t\t\tself.debug(('self.',self,['StatusedLineStrsList']))\n\t\t\t'''\n\n\t\t\t#call\n\t\t\tself.StatusedIdStrsList=map(\n\t\t\t\tlambda __LineStr:\n\t\t\t\t__LineStr.split()[1],\n\t\t\t\tself.StatusedLineStrsList\t\n\t\t\t)\n\n\t\t\t#debug\n\t\t\t'''\n\t\t\tself.debug(('self.',self,['StatusedIdStrsList']))\n\t\t\t'''\n\n\t\t#Return self\n\t\t#return self\n\n#</DefineClass>\n\n```\n\n<small>\nView the Statuser sources on [Github](https://github.com/Ledoux/ShareYourSystem/tree/master/Pythonlogy/ShareYourSystem/Interfacers/Statuser)\n</small>\n\n", 
          "cell_type": "markdown", 
          "prompt_number": 1, 
          "metadata": {
            "slideshow": {
              "slide_type": "subslide"
            }
          }
        }, 
        {
          "cell_type": "code", 
          "prompt_number": 2, 
          "language": "python", 
          "input": [
            "#ImportModules\n", 
            "import ShareYourSystem as SYS\n", 
            "from ShareYourSystem.Interfacers import Statuser\n", 
            "import os\n", 
            "\n", 
            "#Definition a Statuser\n", 
            "MyStatuser=Statuser.StatuserClass().status('Python')\n", 
            "\n", 
            "#Definition the AttestedStr\n", 
            "SYS._attest(\n", 
            "    [\n", 
            "        'MyStatuser is '+SYS._str(\n", 
            "        MyStatuser,\n", 
            "        **{\n", 
            "            'RepresentingBaseKeyStrsListBool':False\n", 
            "        }\n", 
            "        )\n", 
            "    ]\n", 
            ")  \n", 
            "\n", 
            "#Print\n", 
            "\n", 
            "\n", 
            "\n"
          ], 
          "outputs": [
            {
              "output_type": "stream", 
              "stream": "stdout", 
              "text": [
                "\n", 
                "\n", 
                "*****Start of the Attest *****\n", 
                "\n", 
                "MyStatuser is < (StatuserClass), 4554778192>\n", 
                "   /{ \n", 
                "   /  '<New><Instance>IdInt' : 4554778192\n", 
                "   /  '<Spe><Instance>StatusedIdStrsList' : ['4489']\n", 
                "   /  '<Spe><Instance>StatusedLineStrsList' : ['  501  4489   344   0  3:02PM ttys000    0:00.32 /usr/local/Cellar/python/2.7.9/Frameworks/Python.framework/Versions/2.7/Resources/Python.app/Contents/MacOS/Python inform.py']\n", 
                "   /  '<Spe><Instance>StatusedSnapshotStr' :   501  4489   344   0  3:02PM ttys000    0:00.32 /usr/local/Cellar/python/2.7.9/Frameworks/Python.framework/Versions/2.7/Resources/Python.app/Contents/MacOS/Python inform.py\n", 
                "  501  4518  4516   0  3:02PM ttys000    0:00.00 grep Python\n", 
                "\n", 
                "   /  '<Spe><Instance>StatusingProcessStr' : Python\n", 
                "   /}\n", 
                "\n", 
                "*****End of the Attest *****\n", 
                "\n", 
                "\n"
              ]
            }
          ], 
          "collapsed": false, 
          "metadata": {
            "slideshow": {
              "slide_type": "subslide"
            }
          }
        }
      ]
    }
  ], 
  "metadata": {
    "name": "", 
    "signature": ""
  }, 
  "nbformat_minor": 0
}