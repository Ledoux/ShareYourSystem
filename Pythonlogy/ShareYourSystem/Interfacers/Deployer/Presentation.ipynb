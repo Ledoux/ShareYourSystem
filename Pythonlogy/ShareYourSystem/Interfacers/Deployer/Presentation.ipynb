{
  "nbformat": 3, 
  "worksheets": [
    {
      "cells": [
        {
          "source": "\n<!--\nFrozenIsBool False\n-->\n\n#Deployer\n\n##Doc\n----\n\n\n> \n> The Deployer\n> \n> \n\n----\n\n<small>\nView the Deployer notebook on [NbViewer](http://nbviewer.ipython.org/url/shareyoursystem.ouvaton.org/Deployer.ipynb)\n</small>\n\n", 
          "cell_type": "markdown", 
          "prompt_number": 0, 
          "metadata": {
            "slideshow": {
              "slide_type": "slide"
            }
          }
        }, 
        {
          "source": "\n<!--\nFrozenIsBool False\n-->\n\n##Code\n\n----\n\n<ClassDocStr>\n\n----\n\n```python\n# -*- coding: utf-8 -*-\n\"\"\"\n\n\n<DefineSource>\n@Date : Fri Nov 14 13:20:38 2014 \\n\n@Author : Erwan Ledoux \\n\\n\n</DefineSource>\n\n\nThe Deployer\n\n\"\"\"\n\n#<DefineAugmentation>\nimport ShareYourSystem as SYS\nBaseModuleStr=\"ShareYourSystem.Interfacers.Capturer\"\nDecorationModuleStr=\"ShareYourSystem.Classors.Classer\"\nSYS.setSubModule(globals())\n#</DefineAugmentation>\n\n#<ImportSpecificModules>\nimport os\nimport ftplib\n#</ImportSpecificModules>\n\n#<DefineClass>\n@DecorationClass()\nclass DeployerClass(BaseClass):\n\t\n\t#Definition\n\tRepresentingKeyStrsList=[\n\t\t\t\t\t\t'DeployingUrlStr',\n\t\t\t\t\t\t'DeployingLoginStr',\n\t\t\t\t\t\t'DeployingPwdStr',\n\t\t\t\t\t\t'DeployingClientFilePathStrToServerFilePathStrOrderedDict',\n\t\t\t\t\t\t'DeployedFtplibVariable',\n\t\t\t\t\t\t'DeployedDirKeyStrsList'\n\t\t\t\t\t]\n\n\tdef default_init(self,\n\t\t\t\t\t\t_DeployingUrlStr=\"ftp.ouvaton.coop\",\n\t\t\t\t\t\t_DeployingLoginStr=\"shareyoursystemhz\",\n\t\t\t\t\t\t_DeployingPwdStr=\"share\",\n\t\t\t\t\t\t_DeployingClientFilePathStrToServerFilePathStrOrderedDict=None,\n\t\t\t\t\t\t_DeployedFtplibVariable=None,\n\t\t\t\t\t\t_DeployedDirKeyStrsList=None,\n\t\t\t\t\t\t**_KwargVariablesDict\n\t\t\t\t\t):\n\n\t\t#Call the parent __init__ method\n\t\tBaseClass.__init__(self,**_KwargVariablesDict)\n\t\n\tdef do_deploy(self):\n\t\t    \n\t\t#open and login\n\t\tself.DeployedFtplibVariable = ftplib.FTP(self.DeployingUrlStr);\n\t\tself.DeployedFtplibVariable.login(\n\t\t\tuser=self.DeployingLoginStr,\n\t\t\tpasswd=self.DeployingPwdStr\n\t\t);\n\n\t\t\"\"\"\n\t\t#delete all the files in the root folder\n\t\tself.DeployedFtplibVariable.cwd(self.DeployingServerFolderPathStr);\n\t\tfor __ListedVariable in self.DeployedFtplibVariable.nlst():\n\t\t    try:\n\t\t        self.DeployedFtplibVariable.delete(__ListedVariable);\n\t\t    except Exception:\n\t\t        self.DeployedFtplibVariable.rmd(__ListedVariable);\n\n\t\t#delete the dir and create a new one\n\t\ttry:\n\t\t    self.DeployedFtplibVariable.rmd(self.DeployingServerFolderPathStr);\n\t\texcept Exception:\n\t\t    pass;\n\t\tself.DeployedFtplibVariable.mkd(self.DeployingServerFolderPathStr);\n\t\t\"\"\"\n\n\t\t#debug\n\t\tself.debug(('self.',self,[\n\t\t\t\t\t\t\t\t\t'DeployingClientFilePathStrToServerFilePathStrOrderedDict'\n\t\t\t\t\t\t\t\t]))\n\n\t\t#store\n\t\tmap(\n\t\t\t\tlambda __DeployingClientFilePathStrToServerFilePathStrItemTuple:\n\t\t\t\tself.DeployedFtplibVariable.storbinary(\n\t\t\t\t\t'STOR '+__DeployingClientFilePathStrToServerFilePathStrItemTuple[1],\n\t\t\t\t\topen(\n\t\t\t    \t\t__DeployingClientFilePathStrToServerFilePathStrItemTuple[0], \n\t\t\t    \t\t'rb'\n\t\t\t    \t\t)\n\t\t\t\t),\n\t\t\t\tself.DeployingClientFilePathStrToServerFilePathStrOrderedDict.items()\n\t\t\t)\n\n\t\t#ls\n\t\tself.DeployedDirKeyStrsList=map(\n\t\t\tlambda __DeployingClientFilePathStrToServerFilePathStrItemTuple:\n\t\t\tself.DeployedFtplibVariable.nlst(\n\t\t\t\t__DeployingClientFilePathStrToServerFilePathStrItemTuple[1]\n\t\t\t),\n\t\t\tself.DeployingClientFilePathStrToServerFilePathStrOrderedDict.items()\n\t\t)\n\n\t\t#quit\n\t\tself.DeployedFtplibVariable.quit();\n\n#</DefineClass>\n\n```\n\n<small>\nView the Deployer sources on [Github](https://github.com/Ledoux/ShareYourSystem/tree/master/ShareYourSystem/Interfacers/Deployer)\n</small>\n\n", 
          "cell_type": "markdown", 
          "prompt_number": 1, 
          "metadata": {
            "slideshow": {
              "slide_type": "subslide"
            }
          }
        }, 
        {
          "cell_type": "code", 
          "prompt_number": 2, 
          "language": "python", 
          "input": [
            "#ImportModules\n", 
            "import ShareYourSystem as SYS\n", 
            "\n", 
            "from ShareYourSystem.Interfacers import Folderer,Deployer\n", 
            "\n", 
            "#Definition a Deployer\n", 
            "MyDeployer=Deployer.DeployerClass().deploy()\n", 
            "\n", 
            "#Definition the AttestedStr\n", 
            "SYS._attest(\n", 
            "    [\n", 
            "        'MyDeployer is '+SYS._str(\n", 
            "        MyDeployer,\n", 
            "        **{\n", 
            "            'RepresentingBaseKeyStrsListBool':False,\n", 
            "            'RepresentingAlineaIsBool':False\n", 
            "        }\n", 
            "        )\n", 
            "    ]\n", 
            ")  \n", 
            "\n", 
            "#Print\n", 
            "\n", 
            "\n", 
            "\n", 
            "\n"
          ], 
          "outputs": [
            {
              "output_type": "stream", 
              "stream": "stdout", 
              "text": [
                "                    \n", 
                "                    xxxxxxxxxxxxxxxxxxxxxxxxxxxxxxxxxxxxxxxxxxxxxxxxxxxxxxxxxxxxxxxxxxxxxxxxxxxxxxxxxxxxxxxxxxxx\n", 
                "                    ////////////////////////////////\n", 
                "                    Deployer/__init__.py do_deploy\n", 
                "                    From Deployer/__init__.py do_deploy | site-packages/six.py exec_ | Celler/__init__.py do_cell | Notebooker/__init__.py do_notebook | Informer/__init__.py do_inform | inform.py <module>\n", 
                "                    ////////////////////////////////\n", 
                "                    \n", 
                "                    l.82 : \n", 
                "                    *****\n", 
                "                    I am with []\n", 
                "                    *****\n", 
                "                    self.DeployingClientFilePathStrToServerFilePathStrOrderedDict is \n", 
                "                       /{ \n", 
                "                       /}\n", 
                "                    \n", 
                "                    xxxxxxxxxxxxxxxxxxxxxxxxxxxxxxxxxxxxxxxxxxxxxxxxxxxxxxxxxxxxxxxxxxxxxxxxxxxxxxxxxxxxxxxxxxxx\n", 
                "                                        \n", 
                "\n", 
                "\n", 
                "*****Start of the Attest *****\n", 
                "\n", 
                "MyDeployer is < (DeployerClass), 4404027856>\n", 
                "   /{ \n", 
                "   /  '<New><Instance>IdInt' : 4404027856\n", 
                "   /  '<Spe><Class>DeployingLoginStr' : shareyoursystemhz\n", 
                "   /  '<Spe><Class>DeployingPwdStr' : share\n", 
                "   /  '<Spe><Class>DeployingUrlStr' : ftp.ouvaton.coop\n", 
                "   /  '<Spe><Instance>DeployedDirKeyStrsList' : []\n", 
                "   /  '<Spe><Instance>DeployedFtplibVariable' : <ftplib.FTP instance at 0x1067ff638>\n", 
                "   /  '<Spe><Instance>DeployingClientFilePathStrToServerFilePathStrOrderedDict' : \n", 
                "   /   /{ \n", 
                "   /   /}\n", 
                "   /}\n", 
                "\n", 
                "*****End of the Attest *****\n", 
                "\n", 
                "\n"
              ]
            }
          ], 
          "collapsed": false, 
          "metadata": {
            "slideshow": {
              "slide_type": "subslide"
            }
          }
        }
      ]
    }
  ], 
  "metadata": {
    "name": "", 
    "signature": ""
  }, 
  "nbformat_minor": 0
}