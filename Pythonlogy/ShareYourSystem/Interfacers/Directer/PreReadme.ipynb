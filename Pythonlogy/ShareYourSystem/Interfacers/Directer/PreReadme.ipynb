{
  "nbformat": 3, 
  "worksheets": [
    {
      "cells": [
        {
          "source": "\n<!--\nFrozenIsBool False\n-->\n\n#Directer\n\n##Doc\n----\n\n\n> \n> The Directer is a walker through the folders of the harddrive, \n> assuring a call of _DirectingCallbackFunction at each level.\n> \n> \n\n----\n\n<small>\nView the Directer notebook on [NbViewer](http://nbviewer.ipython.org/url/shareyoursystem.ouvaton.org/Directer.ipynb)\n</small>\n\n", 
          "cell_type": "markdown", 
          "prompt_number": 0, 
          "metadata": {
            "slideshow": {
              "slide_type": "slide"
            }
          }
        }, 
        {
          "source": "\n<!--\nFrozenIsBool False\n-->\n\n##Code\n\n----\n\n<ClassDocStr>\n\n----\n\n```python\n# -*- coding: utf-8 -*-\n\"\"\"\n\n\n<DefineSource>\n@Date : Fri Nov 14 13:20:38 2014 \\n\n@Author : Erwan Ledoux \\n\\n\n</DefineSource>\n\n\nThe Directer is a walker through the folders of the harddrive, \nassuring a call of _DirectingCallbackFunction at each level.\n\n\"\"\"\n\n#<DefineAugmentation>\nimport ShareYourSystem as SYS\nBaseModuleStr=\"ShareYourSystem.Interfacers.Killer\"\nDecorationModuleStr=\"ShareYourSystem.Classors.Classer\"\nSYS.setSubModule(globals())\n#</DefineAugmentation>\n\n#<ImportSpecificModules>\nimport os\nfrom ShareYourSystem.Functers import Argumenter\n#</ImportSpecificModules>\n\n#<DefineClass>\n@DecorationClass()\nclass DirecterClass(BaseClass):\n\t\n\t#Definition\n\tRepresentingKeyStrsList=[\n\t\t\t\t\t\t\t\t\t'DirectingCallbackFunction',\n\t\t\t\t\t\t\t\t\t'DirectingLiargVariablesList',\n\t\t\t\t\t\t\t\t\t'DirectingFilterFunctionPointer'\n\t\t\t\t\t\t\t\t]\n\n\tdef default_init(self,\n\t\t\t\t\t\t_DirectingCallbackFunction=None,\n\t\t\t\t\t\t_DirectingLiargVariablesList=None,\n\t\t\t\t\t\t_DirectingFilterFunctionPointer=None,\n\t\t\t\t\t\t**_KwargVariablesDict\n\t\t\t\t\t):\n\n\t\t#Call the parent __init__ method\n\t\tBaseClass.__init__(self,**_KwargVariablesDict)\n\n\t#@Argumenter.ArgumenterClass()\n\tdef do_direct(self):\n\n\t\t#Call the folder method before\n\t\tself.folder()\n\n\t\t#debug\n\t\t'''\n\t\tprint('Directer l.62')\n\t\tprint('self.FolderingPathStr is ',self.FolderingPathStr)\n\t\tprint('')\n\t\t'''\n\t\t\n\t\t#Definition the call back function if not already\n\t\tif self.DirectingCallbackFunction==None:\n\n\t\t\t#Definition a test function\n\t\t\tdef test(_LiargVariablesList,_FolderPathStr,_DirKeyStrsList):\n\t\t\t\tpass\n\t\t\t\tprint(_LiargVariablesList,_FolderPathStr,_DirKeyStrsList)\n\n\t\t\t#set\n\t\t\tself.DirectingCallbackFunction=test\n\n\t\t'''\n\t\t#Call the function\n\t\ttry:\n\t\t\tself.DirectingCallbackFunction(\n\t\t\t\t\t\t\t\tself.DirectingLiargVariablesList,\n\t\t\t\t\t\t\t\tself.FolderingPathStr,\n\t\t\t\t\t\t\t\tself.FolderedDirKeyStrsList,\n\t\t\t\t\t\t\t\t**_KwargVariablesDict\n\t\t\t\t\t\t\t\t)\n\t\texcept:\n\t\t\tself.DirectingCallbackFunction(\n\t\t\t\t\t\t\t\tself.DirectingLiargVariablesList,\n\t\t\t\t\t\t\t\tself.FolderingPathStr,\n\t\t\t\t\t\t\t\tself.FolderedDirKeyStrsList\n\t\t\t\t\t\t\t\t)\n\t\t'''\n\n\t\t#Walk with os\n\t\tos.path.walk(\n\t\t\t\t\t\tself.FolderingPathStr,\n\t\t\t\t\t\tself.DirectingCallbackFunction,\n\t\t\t\t\t\tself.DirectingLiargVariablesList\n\t\t\t\t\t)\n\n\t\t\"\"\"\n\t\t#Do it Manually\n\n\t\t#Call the function\n\t\ttry:\n\t\t\tself.DirectingCallbackFunction(\n\t\t\t\t\t\t\t\tself.DirectingLiargVariablesList,\n\t\t\t\t\t\t\t\tself.FolderingPathStr,\n\t\t\t\t\t\t\t\tself.FolderedDirKeyStrsList,\n\t\t\t\t\t\t\t\t**_KwargVariablesDict\n\t\t\t\t\t\t\t\t)\n\t\texcept:\n\t\t\tself.DirectingCallbackFunction(\n\t\t\t\t\t\t\t\tself.DirectingLiargVariablesList,\n\t\t\t\t\t\t\t\tself.FolderingPathStr,\n\t\t\t\t\t\t\t\tself.FolderedDirKeyStrsList\n\t\t\t\t\t\t\t\t)\n\n\t\t#Filter the folders to walk\n\t\tDirectedFolderKeyStrsList=SYS._filter(\n\t\t\t\t\t\tlambda __FolderedDirKeyStr:\n\t\t\t\t\t\tos.path.isdir(self.FolderingPathStr+__FolderedDirKeyStr),\n\t\t\t\t\t\tself.FolderedDirKeyStrsList\n\t\t\t)\n\n\t\t#debug\n\t\t'''\n\t\tprint('After first filter DirectedFolderKeyStrsList is ',DirectedFolderKeyStrsList)\n\t\tprint('')\n\t\t'''\n\n\t\t#Filter again maybe\n\t\tif self.DirectingFilterFunctionPointer!=None:\n\t\t\tDirectedFolderKeyStrsList=SYS._filter(\n\t\t\t\t\t\tlambda __DirectedFolderKeyStr:\n\t\t\t\t\t\tself.DirectingFilterFunctionPointer(\n\t\t\t\t\t\t\tself,__DirectedFolderKeyStr),\n\t\t\t\t\t\tDirectedFolderKeyStrsList\n\t\t\t)\n\n\t\t#debug\n\t\t'''\n\t\tprint('After second DirectedFolderKeyStrsList is ',DirectedFolderKeyStrsList)\n\t\tprint('')\n\t\t'''\n\n\t\t#Map a recursive direct\n\t\t'''\n\t\tmap(\t\n\t\t\t\tlambda __DirectedFolderKeyStr:\n\t\t\t\tself.__class__().direct(\n\t\t\t\t\t\t\t\tself.DirectingCallbackFunction,\n\t\t\t\t\t\t\t\tself.DirectingLiargVariablesList,\n\t\t\t\t\t\t\t\t**{\n\t\t\t\t\t\t\t\t'FolderingPathStr':\n\t\t\t\t\t\t\t\t\tself.FolderingPathStr+__DirectedFolderKeyStr+'/'\n\t\t\t\t\t\t\t\t}\n\t\t\t\t\t\t\t),\n\t\t\t\tDirectedFolderKeyStrsList\n\t\t\t)\n\t\t'''\n\n\t\t\"\"\"\n\n\t\t#Return self\n\t\t#return self\t\n\n#</DefineClass>\n\n\n```\n\n<small>\nView the Directer sources on <a href=\"https://github.com/Ledoux/ShareYourSystem/tree/master/Pythonlogy/ShareYourSystem/Interfacers/Directer\" target=\"_blank\">Github</a>\n</small>\n\n", 
          "cell_type": "markdown", 
          "prompt_number": 1, 
          "metadata": {
            "slideshow": {
              "slide_type": "subslide"
            }
          }
        }, 
        {
          "source": "\n<!---\nFrozenIsBool True\n-->\n\n##Example\n\nLet's create an empty class, which will automatically receive\nspecial attributes from the decorating ClassorClass,\nspecially the NameStr, that should be the ClassStr\nwithout the TypeStr in the end.", 
          "cell_type": "markdown", 
          "prompt_number": 2, 
          "metadata": {
            "slideshow": {
              "slide_type": "subslide"
            }
          }
        }, 
        {
          "cell_type": "code", 
          "prompt_number": 3, 
          "language": "python", 
          "input": [
            "\n", 
            "#ImportModules\n", 
            "import ShareYourSystem as SYS\n", 
            "from ShareYourSystem.Interfacers import Directer\n", 
            "import os\n", 
            "\n", 
            "#Definition an instance \n", 
            "MyDirecter=Directer.DirecterClass()\n", 
            "\n", 
            "#Direct for displaying folders\n", 
            "'''\n", 
            "MyDirecter.direct(\n", 
            "            lambda _LiargVariablesList,_FolderPathStr,_FileKeyStrsList:\n", 
            "            Representer._print(_LiargVariablesList[0]+_FolderPathStr),\n", 
            "            [\"_FolderPathStr is \"],\n", 
            "            **{'FolderingPathStr':'/'.join(SYS.__file__.split('/')[:-1])}\n", 
            "        )\n", 
            "'''\n", 
            "\n", 
            "#Delete things\n", 
            "def delete(_LiargVariablesList,_FolderPathStr,_FileKeyStrsList):\n", 
            "    #os.popen('rm -r '+_FolderPathStr+'/Attests/')\n", 
            "    os.popen('rm '+_FolderPathStr+'/02_ClassCell.md')\n", 
            "    os.popen('rm '+_FolderPathStr+'/03_ClassCell.py')\n", 
            "    os.popen('rm '+_FolderPathStr+'/04_InstanceCell.md')\n", 
            "    os.popen('rm '+_FolderPathStr+'/05_InstanceCell.py')\n", 
            "def move(_LiargVariablesList,_FolderPathStr,_FileKeyStrsList):\n", 
            "    os.popen('mv '+_FolderPathStr+'/00_ExampleCell.md '+_FolderPathStr+'/00_ExampleDoc.md')\n", 
            "    os.popen('mv '+_FolderPathStr+'/01_ExampleCell.py '+_FolderPathStr+'/01_ExampleDoc.py')\n", 
            "\n", 
            "MyDirecter=Directer.DirecterClass().direct(\n", 
            "            delete,\n", 
            "            [],\n", 
            "            **{\n", 
            "                'FolderingPathStr':\n", 
            "                SYS.ShareYourSystemLocalFolderPathStr+'/ShareYourSystem/Guiders/'\n", 
            "            }\n", 
            "        )\n", 
            "\n", 
            "#Definition the AttestedStr\n", 
            "SYS._attest(\n", 
            "    [\n", 
            "        'MyDirecter is '+SYS._str(\n", 
            "                MyDirecter,\n", 
            "                **{\n", 
            "                'RepresentingBaseKeyStrsListBool':False\n", 
            "                }\n", 
            "            )\n", 
            "    ]\n", 
            ") \n", 
            "\n", 
            "#Print\n", 
            "\n", 
            "\n"
          ], 
          "outputs": [
            {
              "output_type": "stream", 
              "stream": "stdout", 
              "text": [
                "\n", 
                "\n", 
                "*****Start of the Attest *****\n", 
                "\n", 
                "MyDirecter is < (DirecterClass), 4554248848>\n", 
                "   /{ \n", 
                "   /  '<New><Instance>IdInt' : 4554248848\n", 
                "   /  '<Spe><Class>DirectingFilterFunctionPointer' : None\n", 
                "   /  '<Spe><Instance>DirectingCallbackFunction' : <function delete at 0x10f733c08>\n", 
                "   /  '<Spe><Instance>DirectingLiargVariablesList' : []\n", 
                "   /}\n", 
                "\n", 
                "*****End of the Attest *****\n", 
                "\n", 
                "\n"
              ]
            }
          ], 
          "collapsed": false, 
          "metadata": {
            "slideshow": {
              "slide_type": "-"
            }
          }
        }
      ]
    }
  ], 
  "metadata": {
    "name": "", 
    "signature": ""
  }, 
  "nbformat_minor": 0
}