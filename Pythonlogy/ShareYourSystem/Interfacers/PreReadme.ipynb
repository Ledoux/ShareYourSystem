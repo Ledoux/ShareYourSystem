{
  "nbformat": 3, 
  "worksheets": [
    {
      "cells": [
        {
          "source": "\n<!--\nFrozenIsBool False\n-->\n\n#Interfacers\n\n##Doc\n----\n\n\n> \n> The Interfacers helps ...\n> \n> \n\n----\n\n<small>\nView the Interfacers notebook on [NbViewer](http://nbviewer.ipython.org/url/shareyoursystem.ouvaton.org/Interfacers.ipynb)\n</small>\n\n", 
          "cell_type": "markdown", 
          "prompt_number": 0, 
          "metadata": {
            "slideshow": {
              "slide_type": "slide"
            }
          }
        }, 
        {
          "source": "\n<!--\nFrozenIsBool False\n-->\n\n##Concept\n\n<script type=\"text/javascript\">\n\n\tvar HrefStr=window.location.href;\n\t//alert(window.location.href)\n\n\tif(HrefStr == \"https://shareyoursystem.ouvaton.org/Interfacers/\"){\n\n\t    //alert('Ouvaton')\n\t    document.write(\"from \")\n\t    document.write(\"https://shareyoursystem.ouvaton.org \")\n\t    document.write(\"<iframe width=\\\"725\\\" height=\\\"300\\\" src=\\\"\")\n\t    document.write(\"https://shareyoursystem.ouvaton.org\")\n\t    document.write(\"/Interfacers.php\\\"></iframe>\")\n\t}\n\telse{\n\n\t    //alert('Local')\n\t    document.write(\"from \")\n\t    document.write(\"/Users/ledoux/Documents/ShareYourSystem/Ouvaton/ \")\n\t    document.write(\"<iframe width=\\\"725\\\" height=\\\"300\\\" src=\\\"\")\n\t    document.write(\"/Users/ledoux/Documents/ShareYourSystem/Ouvaton/\")\n\t    document.write(\"Interfacers.html\\\"></iframe>\")\n\t}\n\n</script>\n\n<small>\nView the Interfacers concept on [ Ouvaton ](https://shareyoursystem.ouvaton.org/Interfacers.php)\n</small>\n\n", 
          "cell_type": "markdown", 
          "prompt_number": 1, 
          "metadata": {
            "slideshow": {
              "slide_type": "subslide"
            }
          }
        }, 
        {
          "source": "\n<!--\nFrozenIsBool False\n-->\n\n##Example", 
          "cell_type": "markdown", 
          "prompt_number": 2, 
          "metadata": {
            "slideshow": {
              "slide_type": "subslide"
            }
          }
        }, 
        {
          "cell_type": "code", 
          "prompt_number": 3, 
          "language": "python", 
          "input": [
            "#ImportModules\n", 
            "import ShareYourSystem as SYS\n", 
            "from ShareYourSystem import Interfacers\n"
          ], 
          "outputs": [
            {
              "output_type": "stream", 
              "stream": "stdout", 
              "text": [
                "\n"
              ]
            }
          ], 
          "collapsed": false, 
          "metadata": {
            "slideshow": {
              "slide_type": "-"
            }
          }
        }, 
        {
          "source": "\n<!--\nFrozenIsBool False\n-->\n\n##Code\n\n----\n\n<ClassDocStr>\n\n----\n\n```python\n# -*- coding: utf-8 -*-\n\"\"\"\n\n\n<DefineSource>\n@Date : Fri Nov 14 13:20:38 2014 \\n\n@Author : Erwan Ledoux \\n\\n\n</DefineSource>\n\n\nThe Interfacers helps ...\n\n\"\"\"\n\n#<DefineConcept>\nimport ShareYourSystem as SYS\nSYS.setConceptModule(globals())\n#</DefineConcept>\n\n```\n\n<small>\nView the Interfacers sources on [Github](https://github.com/Ledoux/ShareYourSystem/tree/master/Pythonlogy/ShareYourSystem/Interfacers)\n</small>\n\n", 
          "cell_type": "markdown", 
          "prompt_number": 4, 
          "metadata": {
            "slideshow": {
              "slide_type": "subslide"
            }
          }
        }
      ]
    }
  ], 
  "metadata": {
    "name": "", 
    "signature": ""
  }, 
  "nbformat_minor": 0
}