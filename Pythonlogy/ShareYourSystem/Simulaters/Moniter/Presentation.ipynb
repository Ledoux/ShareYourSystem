{
  "nbformat": 3, 
  "worksheets": [
    {
      "cells": [
        {
          "source": "\n<!--\nFrozenIsBool False\n-->\n\n#Moniter\n\n##Doc\n----\n\n\n> \n> A Moniter\n> \n> \n\n----\n\n<small>\nView the Moniter notebook on [NbViewer](http://nbviewer.ipython.org/url/shareyoursystem.ouvaton.org/Moniter.ipynb)\n</small>\n\n", 
          "cell_type": "markdown", 
          "prompt_number": 0, 
          "metadata": {
            "slideshow": {
              "slide_type": "slide"
            }
          }
        }, 
        {
          "source": "\n<!--\nFrozenIsBool False\n-->\n\n##Code\n\n----\n\n<ClassDocStr>\n\n----\n\n```python\n# -*- coding: utf-8 -*-\n\"\"\"\n\n\n<DefineSource>\n@Date : Fri Nov 14 13:20:38 2014 \\n\n@Author : Erwan Ledoux \\n\\n\n</DefineSource>\n\n\nA Moniter\n\n\"\"\"\n\n\n#<DefineAugmentation>\nimport ShareYourSystem as SYS\nBaseModuleStr=\"ShareYourSystem.Simulaters.Runner\"\nDecorationModuleStr=\"ShareYourSystem.Classors.Representer\"\nSYS.setSubModule(globals())\n#</DefineAugmentation>\n\n#<ImportSpecificModules>\n#</ImportSpecificModules>\n\n#<DefineDoStrsList>\nDoStrsList=[\"Moniter\",\"Monit\",\"Monitering\",\"Monitered\"]\n#<DefineDoStrsList>\n\n#<DefineClass>\n@DecorationClass()\nclass MoniterClass(BaseClass):\n\n\t#Definition\n\tRepresentingKeyStrsList=[\n\t\t\t\t\t\t\t\t\t'MonitoringTrackTuplesList'\n\t\t\t\t\t\t\t\t]\n\t\n\tdef default_init(self,\n\t\t\t\t\t\t_MoniteringTrackTuplesList=None,\n\t\t\t\t\t\t**_KwargVariablesDict\n\t\t\t\t\t):\n\t\t\n\t\t#Call the parent init method\n\t\tBaseClass.__init__(self,**_KwargVariablesDict)\n\t\n\t#<DefineDoMethod>\t\n\tdef do_monit(self):\n\n\t\tpass\n\n#</DefineClass>\n\n\n```\n\n<small>\nView the Moniter sources on <a href=\"https://github.com/Ledoux/ShareYourSystem/tree/master/Pythonlogy/ShareYourSystem/Simulaters/Moniter\" target=\"_blank\">Github</a>\n</small>\n\n", 
          "cell_type": "markdown", 
          "prompt_number": 1, 
          "metadata": {
            "slideshow": {
              "slide_type": "subslide"
            }
          }
        }
      ]
    }
  ], 
  "metadata": {
    "name": "", 
    "signature": ""
  }, 
  "nbformat_minor": 0
}