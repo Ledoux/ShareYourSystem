{
  "nbformat": 3, 
  "worksheets": [
    {
      "cells": [
        {
          "source": "\n<!--\nFrozenIsBool False\n-->\n\n#Rater\n\n##Doc\n----\n\n\n> \n> A Rater\n> \n> \n\n----\n\n<small>\nView the Rater notebook on [NbViewer](http://nbviewer.ipython.org/url/shareyoursystem.ouvaton.org/Rater.ipynb)\n</small>\n\n", 
          "cell_type": "markdown", 
          "prompt_number": 0, 
          "metadata": {
            "slideshow": {
              "slide_type": "slide"
            }
          }
        }, 
        {
          "source": "\n<!--\nFrozenIsBool False\n-->\n\n##Code\n\n----\n\n<ClassDocStr>\n\n----\n\n```python\n# -*- coding: utf-8 -*-\n\"\"\"\n\n\n<DefineSource>\n@Date : Fri Nov 14 13:20:38 2014 \\n\n@Author : Erwan Ledoux \\n\\n\n</DefineSource>\n\n\nA Rater\n\n\"\"\"\n\n#<DefineAugmentation>\nimport ShareYourSystem as SYS\nBaseModuleStr=\"ShareYourSystem.Simulaters.Dynamizer\"\nDecorationModuleStr=\"ShareYourSystem.Classors.Classer\"\nSYS.setSubModule(globals())\n#</DefineAugmentation>\n\n#<DefineClass>\n@DecorationClass()\nclass RaterClass(BaseClass):\n\t\n\t#Definition\n\tRepresentingKeyStrsList=[\n\t\t\t\t\t\t\t\t\t'RatingMatrixStr',\n\t\t\t\t\t\t\t\t\t'RatedPreStr'\n\t\t\t\t\t\t\t\t]\n\n\tdef default_init(self,\n\t\t\t\t\t\t_RatingMatrixStr='J',\n\t\t\t\t\t\t_RatingConstantTimeFloat='tau',\n\t\t\t\t\t\t_RatedPreStr=\"\",\n\t\t\t\t\t\t**_KwargVariablesDict\n\t\t\t\t\t):\n\n\t\t#Call the parent __init__ method\n\t\tBaseClass.__init__(self,**_KwargVariablesDict)\n\n\tdef do_rate(\n\t\t\t\tself,\n\t\t\t):\t\n\n\t\n\t\t#debug\n\t\t'''\n\t\tself.debug(('self.',self,[\n\n\t\t\t\t\t]))\n\t\t'''\n\n\t\t#add the connection variable\t\t\n\t\tself.RatedPreStr+=self.RatingMatrixStr+self.DynamizingTraceStr\n\n\t\t#add the constant time\n\t\t#self.RatedPreStr+=')/('+self.RatingConstantTimeStr+'*'+self.DynamizingTimeDimensionStr+')'\n\t\tself.RatedPreStr+=')/('+self.RatingConstantTimeStr+')'\n\t\t\n\tdef mimic_dynamize(self):\n\n\t\t#parent method\n\t\tBaseClass.dynamize(self)\n\n\t\t#rate first\n\t\tself.rate()\n\n\t\t#add in the DynamizedPreStr \n\t\tif self.DynamizedPreStr!='(':\n\t\t\tself.DynamizedPreStr+=' + '\n\t\tself.DynamizedPreStr+=self.RatedPreStr \n\n\t\t#Check\n\t\tif self.RatingMatrixStr!=\"\":\n\t\t\tself.DynamizedParamStr+=self.RatingMatrixStr+self.DynamizingTraceStr+' : '+self.DynamizingTraceDimensionStr+'\\n'\n\n\t\t#Check\n\t\tif self.RatingConstantTimeStr!=\"\":\n\t\t\tself.DynamizedParamStr+=self.RatingConstantTimeStr+' : '+self.DynamizingTimeDimensionStr+'\\n'\n\n\t\t#set\n\t\tself.DynamizingRateThresholdFunction=lambda _VariableFloat :(_VariableFloat<=0.)\n\t\t\n#</DefineClass>\n\n```\n\n<small>\nView the Rater sources on <a href=\"https://github.com/Ledoux/ShareYourSystem/tree/master/Pythonlogy/ShareYourSystem/Simulaters/Rater\" target=\"_blank\">Github</a>\n</small>\n\n", 
          "cell_type": "markdown", 
          "prompt_number": 1, 
          "metadata": {
            "slideshow": {
              "slide_type": "subslide"
            }
          }
        }
      ]
    }
  ], 
  "metadata": {
    "name": "", 
    "signature": ""
  }, 
  "nbformat_minor": 0
}