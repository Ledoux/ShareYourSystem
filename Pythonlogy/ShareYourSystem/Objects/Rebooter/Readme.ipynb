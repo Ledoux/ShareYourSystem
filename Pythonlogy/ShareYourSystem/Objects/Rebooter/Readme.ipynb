{
  "nbformat": 3, 
  "worksheets": [
    {
      "cells": [
        {
          "source": [
            "#Rebooter\n", 
            "\n\n@Date : Fri Nov 14 13:20:38 2014 \n\n@Author : Erwan Ledoux \n\n\n\nThe Rebooter\n\n\n"
          ], 
          "cell_type": "markdown", 
          "metadata": {}
        }, 
        {
          "source": "\n<!--\nFrozenIsBool False\n-->\n\nView the Rebooter sources on [Github](https://github.com/Ledoux/ShareYourSystem/tree/master/ShareYourSystem/Objects/Installer)\n\n", 
          "cell_type": "markdown", 
          "prompt_number": 0, 
          "metadata": {}
        }, 
        {
          "source": "\n<!---\nFrozenIsBool True\n-->\n\n##Example\n\nLet's create an empty class, which will automatically receive\nspecial attributes from the decorating ClassorClass,\nspecially the NameStr, that should be the ClassStr\nwithout the TypeStr in the end.", 
          "cell_type": "markdown", 
          "prompt_number": 1, 
          "metadata": {}
        }, 
        {
          "source": "```python\n#ImportModules\nimport ShareYourSystem as SYS\nfrom ShareYourSystem.Classors import Classer\nfrom ShareYourSystem.Objects import Rebooter\n\n#Definition \n@Classer.ClasserClass(**\n{\n    'ClassingSwitchMethodStrsList':['make']\n})\nclass MakerClass(Rebooter.RebooterClass):\n\n    #Definition\n    RepresentingKeyStrsList=[\n                                'MakingMyFloat',\n                                'MadeMyInt'\n                            ]\n\n    def default_init(self,\n                    _MakingMyFloat=0.,\n                    _MadeMyInt=0,\n                    **_KwarVariablesDict\n                ):\n        Rebooter.RebooterClass.__init__(self,**_KwarVariablesDict)\n\n    #<DefineDoMethod>\n    def do_make(self):\n        \n        #print\n        print('I am in the do_make of the Maker')\n\n        #cast\n        self.MadeMyInt=int(self.MakingMyFloat)\n\n#Definition\n@Classer.ClasserClass(**{\n    'ClassingSwitchMethodStrsList':[\"make\"]\n})\nclass BuilderClass(MakerClass):\n\n    #Definition\n    RepresentingKeyStrsList=[\n                            ]\n\n    def default_init(self,\n                    **_KwarVariablesDict\n                ):\n        MakerClass.__init__(self,**_KwarVariablesDict)\n\n    def mimic_make(self):\n        \n        #print\n        print('I am in the mimic_make of the Builder')\n\n        #call the parent method\n        MakerClass.make(self)\n\n        #cast\n        self.MadeMyInt+=10\n\n    #<DefineDoMethod>\n    def do_build(self):\n        pass\n\n\n#Definition an instance\nMyBuilder=BuilderClass()\n\n#Print\nprint('Before make, MyBuilder is ')\nSYS._print(MyBuilder,**{\n    'RepresentingKeyStrsList':[\n    'MakingMyFloat',\n    'MadeMyInt',\n    ]\n})\n\n#make once\nMyBuilder.make(3.)\n\n#Print\nprint('After the first make, MyBuilder is ')\nSYS._print(MyBuilder,**{\n    'RepresentingKeyStrsList':[\n    'MakingMyFloat',\n    'MadeMyInt',\n    '_WatchMakeWithMakerBool'\n    ]\n})\n\n#make again\nMyBuilder.make(5.)\n\n#Print\nprint('After the second make, MyBuilder is ')\nSYS._print(MyBuilder,**{\n    'RepresentingKeyStrsList':[\n    'MakingMyFloat',\n    'MadeMyInt',\n    '_WatchMakeWithMakerBool'\n    ]\n})\n\n\n#make again\nprint('Now we reboot')\nMyBuilder.reboot(['Make'])\n\n#Print\nprint('After the reboot, MyBuilder is ')\nSYS._print(MyBuilder,**{\n    'RepresentingKeyStrsList':[\n    'MakingMyFloat',\n    'MadeMyInt',\n    '_WatchMakeWithMakerBool'\n    ]\n})\n\n#make again\nMyBuilder.make(8.)\n\n#Definition the AttestedStr\nSYS._attest(\n    [\n        'MyBuilder is '+SYS._str(\n        MyBuilder,\n        **{\n            'RepresentingAlineaIsBool':False,\n            'RepresentingKeyStrsList':[\n                'MakingMyFloat',\n                'MadeMyInt',\n                '_WatchMakeWithMakerBool',\n                'RebootedWatchBoolKeyStrsList'\n            ]\n            }\n        )\n    ]\n) \n\n```\n", 
          "cell_type": "markdown", 
          "metadata": {}
        }, 
        {
          "source": "```console\n>>>\nDoer l.132 : DoerStr is Maker\nDoStr is Make\nDoMethodStr is make\nDoingStr is Making\nDoneStr is Made\n\nDoer l.132 : DoerStr is Builder\nDoStr is Build\nDoMethodStr is build\nDoingStr is Building\nDoneStr is Built\n\nBefore make, MyBuilder is \n< (BuilderClass), 4556059088>\n   /{ \n   /  '<Base><Class>MadeMyInt' : 0\n   /  '<Base><Class>MakingMyFloat' : 0.0\n   /  '<New><Instance>IdString' : 4556059088\n   /}\nl 35\nIn the switch function \n_KwargVariablesDict is \n{'BindObserveWrapMethodStr': 'watch_superMimic_switch_watch_superDo_make', 'WatchDoBoolKeyStr': 'WatchMakeWithBuilderBool', 'BindDoClassStr': 'BuilderClass'}\n\nI am in the mimic_make of the Builder\nl 35\nIn the switch function \n_KwargVariablesDict is \n{'BindObserveWrapMethodStr': 'watch_superDo_make', 'WatchDoBoolKeyStr': 'WatchMakeWithMakerBool', 'BindDoClassStr': 'MakerClass'}\n\nI am in the do_make of the Maker\nAfter the first make, MyBuilder is \n< (BuilderClass), 4556059088>\n   /{ \n   /  '<New><Instance>IdString' : 4556059088\n   /  '<New><Instance>WatchMakeWithBuilderBool' : True\n   /  '<Spe><Instance>MadeMyInt' : 13\n   /  '<Spe><Instance>MakingMyFloat' : 3.0\n   /  '<Spe><Instance>_WatchMakeWithMakerBool' : True\n   /}\nl 35\nIn the switch function \n_KwargVariablesDict is \n{'BindObserveWrapMethodStr': 'watch_superMimic_switch_watch_superDo_make', 'WatchDoBoolKeyStr': 'WatchMakeWithBuilderBool', 'BindDoClassStr': 'BuilderClass'}\n\nAfter the second make, MyBuilder is \n< (BuilderClass), 4556059088>\n   /{ \n   /  '<New><Instance>IdString' : 4556059088\n   /  '<New><Instance>WatchMakeWithBuilderBool' : True\n   /  '<Spe><Instance>MadeMyInt' : 13\n   /  '<Spe><Instance>MakingMyFloat' : 3.0\n   /  '<Spe><Instance>_WatchMakeWithMakerBool' : True\n   /}\nNow we reboot\nAfter the reboot, MyBuilder is \n< (BuilderClass), 4556059088>\n   /{ \n   /  '<New><Instance>IdString' : 4556059088\n   /  '<New><Instance>WatchMakeWithBuilderBool' : False\n   /  '<Spe><Instance>MadeMyInt' : 0\n   /  '<Spe><Instance>MakingMyFloat' : 3.0\n   /  '<Spe><Instance>_WatchMakeWithMakerBool' : False\n   /}\nl 35\nIn the switch function \n_KwargVariablesDict is \n{'BindObserveWrapMethodStr': 'watch_superMimic_switch_watch_superDo_make', 'WatchDoBoolKeyStr': 'WatchMakeWithBuilderBool', 'BindDoClassStr': 'BuilderClass'}\n\nI am in the mimic_make of the Builder\nl 35\nIn the switch function \n_KwargVariablesDict is \n{'BindObserveWrapMethodStr': 'watch_superDo_make', 'WatchDoBoolKeyStr': 'WatchMakeWithMakerBool', 'BindDoClassStr': 'MakerClass'}\n\nI am in the do_make of the Maker\n\n\n*****Start of the Attest *****\n\nMyBuilder is < (BuilderClass), 4556059088>\n   /{ \n   /  '<New><Instance>IdString' : 4556059088\n   /  '<New><Instance>WatchMakeWithBuilderBool' : True\n   /  '<Spe><Instance>MadeMyInt' : 18\n   /  '<Spe><Instance>MakingMyFloat' : 8.0\n   /  '<Spe><Instance>RebootedWatchBoolKeyStrsList' : ['WatchMakeWithBuilderBool', '_WatchMakeWithMakerBool']\n   /  '<Spe><Instance>_WatchMakeWithMakerBool' : True\n   /}\n\n*****End of the Attest *****\n\n\n\n```\n", 
          "cell_type": "markdown", 
          "metadata": {}
        }
      ]
    }
  ], 
  "metadata": {
    "name": "", 
    "signature": ""
  }, 
  "nbformat_minor": 0
}