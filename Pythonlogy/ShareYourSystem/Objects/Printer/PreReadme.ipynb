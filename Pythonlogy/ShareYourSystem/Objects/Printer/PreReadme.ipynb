{
  "nbformat": 3, 
  "worksheets": [
    {
      "cells": [
        {
          "source": "\n<!--\nFrozenIsBool False\n-->\n\n#Printer\n\n##Doc\n----\n\n\n> \n> The Printer is an object that can directly print \n> Strs in the Representer context.\n> \n> \n\n----\n\n<small>\nView the Printer notebook on [NbViewer](http://nbviewer.ipython.org/url/shareyoursystem.ouvaton.org/Printer.ipynb)\n</small>\n\n", 
          "cell_type": "markdown", 
          "prompt_number": 0, 
          "metadata": {
            "slideshow": {
              "slide_type": "slide"
            }
          }
        }, 
        {
          "source": "\n<!--\nFrozenIsBool False\n-->\n\n##Code\n\n----\n\n<ClassDocStr>\n\n----\n\n```python\n# -*- coding: utf-8 -*-\n\"\"\"\n\n\n<DefineSource>\n@Date : Fri Nov 14 13:20:38 2014 \\n\n@Author : Erwan Ledoux \\n\\n\n</DefineSource>\n\n\nThe Printer is an object that can directly print \nStrs in the Representer context.\n\n\"\"\"\n\n\n#<DefineAugmentation>\nimport ShareYourSystem as SYS\nBaseModuleStr=\"ShareYourSystem.Objects.Initiator\"\nDecorationModuleStr=\"ShareYourSystem.Classors.Representer\"\nSYS.setSubModule(globals())\n#</DefineAugmentation>\n\n#<ImportSpecificModules>\nRepresenter=DecorationModule\n#</ImportSpecificModules>\n\n\n#<DefineClass>\n@DecorationClass()\nclass PrinterClass(BaseClass):\n\n\t#Definition\n\tRepresentingKeyStrsList=[\n\t\t\t\t\t\t\t\t\t'PrintingVariable'\n\t\t\t\t\t\t\t\t]\n\t\n\tdef default_init(self,\n\t\t\t\t\t\t_PrintingVariable=None,\n\t\t\t\t\t\t**_KwargVariablesDict\n\t\t\t\t\t):\n\t\t\n\t\t#Call the parent init method\n\t\tBaseClass.__init__(self,**_KwargVariablesDict)\n\t\n\t#<DefineDoMethod>\t\n\tdef do__print(self,**_KwargVariablesDict):\n\n\t\t#debug\n\t\t'''\n\t\tprint('self.PrintingVariable is ',self.PrintingVariable)\n\t\tprint('')\n\t\t'''\n\n\t\t#print\n\t\tprint(\n\t\t\tRepresenter.getRepresentedStrWithVariable(\n\t\t\t\tself.PrintingVariable,\n\t\t\t\t**_KwargVariablesDict\n\t\t\t\t)\n\t\t)\n\n#</DefineClass>\n\n\n```\n\n<small>\nView the Printer sources on <a href=\"https://github.com/Ledoux/ShareYourSystem/tree/master/Pythonlogy/ShareYourSystem/Objects/Printer\" target=\"_blank\">Github</a>\n</small>\n\n", 
          "cell_type": "markdown", 
          "prompt_number": 1, 
          "metadata": {
            "slideshow": {
              "slide_type": "subslide"
            }
          }
        }, 
        {
          "source": "\n<!---\nFrozenIsBool True\n-->\n\n##Example\n\nLet's create an empty class, which will automatically receive\nspecial attributes from the decorating ClassorClass,\nspecially the NameStr, that should be the ClassStr\nwithout the TypeStr in the end.", 
          "cell_type": "markdown", 
          "prompt_number": 2, 
          "metadata": {
            "slideshow": {
              "slide_type": "subslide"
            }
          }
        }, 
        {
          "cell_type": "code", 
          "prompt_number": 3, 
          "language": "python", 
          "input": [
            "#ImportModules\n", 
            "import ShareYourSystem as SYS\n", 
            "from ShareYourSystem.Classors import Attester\n", 
            "from ShareYourSystem.Objects import Printer\n", 
            "\n", 
            "#Definition of an instance Printer and make it print hello\n", 
            "MyPrinter=Printer.PrinterClass()._print('hello')\n", 
            "    \n", 
            "#Definition the AttestedStr\n", 
            "SYS._attest(\n", 
            "    [\n", 
            "        'MyPrinter is '+SYS._str(MyPrinter)\n", 
            "    ]\n", 
            ") \n", 
            "\n", 
            "#Print\n", 
            "\n", 
            "\n"
          ], 
          "outputs": [
            {
              "output_type": "stream", 
              "stream": "stdout", 
              "text": [
                "hello\n", 
                "\n", 
                "\n", 
                "*****Start of the Attest *****\n", 
                "\n", 
                "MyPrinter is < (PrinterClass), 4536927888>\n", 
                "   /{ \n", 
                "   /  '<New><Instance>IdInt' : 4536927888\n", 
                "   /  '<Spe><Instance>PrintingVariable' : hello\n", 
                "   /}\n", 
                "\n", 
                "*****End of the Attest *****\n", 
                "\n", 
                "\n"
              ]
            }
          ], 
          "collapsed": false, 
          "metadata": {
            "slideshow": {
              "slide_type": "-"
            }
          }
        }
      ]
    }
  ], 
  "metadata": {
    "name": "", 
    "signature": ""
  }, 
  "nbformat_minor": 0
}