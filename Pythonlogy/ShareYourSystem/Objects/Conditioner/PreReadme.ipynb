{
  "nbformat": 3, 
  "worksheets": [
    {
      "cells": [
        {
          "source": "\n<!--\nFrozenIsBool False\n-->\n\n#Conditioner\n\n##Doc\n----\n\n\n> \n> The Conditioner\n> \n> \n\n----\n\n<small>\nView the Conditioner notebook on [NbViewer](http://nbviewer.ipython.org/url/shareyoursystem.ouvaton.org/Conditioner.ipynb)\n</small>\n\n", 
          "cell_type": "markdown", 
          "prompt_number": 0, 
          "metadata": {
            "slideshow": {
              "slide_type": "slide"
            }
          }
        }, 
        {
          "source": "\n<!--\nFrozenIsBool False\n-->\n\n##Code\n\n----\n\n<ClassDocStr>\n\n----\n\n```python\n# -*- coding: utf-8 -*-\n\"\"\"\n\n\n<DefineSource>\n@Date : Fri Nov 14 13:20:38 2014 \\n\n@Author : Erwan Ledoux \\n\\n\n</DefineSource>\n\n\nThe Conditioner\n\n\"\"\"\n\n\n#<DefineAugmentation>\nimport ShareYourSystem as SYS\nBaseModuleStr=\"ShareYourSystem.Objects.Debugger\"\nDecorationModuleStr=\"ShareYourSystem.Classors.Representer\"\nSYS.setSubModule(globals())\n#</DefineAugmentation>\n\n#<ImportSpecificModules>\nRepresenter=DecorationModule\n#</ImportSpecificModules>\n\n#<DefineClass>\n@DecorationClass()\nclass ConditionerClass(BaseClass):\n\n\t#Definition\n\tRepresentingKeyStrsList=[\n\t\t\t\t\t\t\t\t\t'ConditioningTestVariable',\n\t\t\t\t\t\t\t\t\t'ConditioningGetBoolFunction',\n\t\t\t\t\t\t\t\t\t'ConditionedIsBool'\n\t\t\t\t\t\t\t\t]\n\t\n\tdef default_init(self,\n\t\t\t\t\t\t_ConditioningTestVariable=None,\n\t\t\t\t\t\t_ConditioningGetBoolFunction=None,\n\t\t\t\t\t\t_ConditioningAttestVariable=None,\n\t\t\t\t\t\t_ConditionedIsBool=True,\n\t\t\t\t\t\t**_KwargVariablesDict\n\t\t\t\t\t):\n\t\t\n\t\t#Call the parent init method\n\t\tBaseClass.__init__(self,**_KwargVariablesDict)\n\t\n\t#<DefineDoMethod>\t\n\tdef do_condition(self):\n\n\t\t#debug\n\t\t'''\n\t\tself.debug(('self.',self,[\n\t\t\t\t\t\t\t\t\t'ConditioningTestVariable',\n\t\t\t\t\t\t\t\t\t'ConditioningAttestVariable'\n\t\t\t\t\t\t\t\t]))\n\t\t'''\n\t\t\n\t\t#call\n\t\tself.ConditionedIsBool=self.ConditioningGetBoolFunction(\n\t\t\tself.ConditioningTestVariable,\n\t\t\tself.ConditioningAttestVariable\n\t\t)\n\n\t\t#debug\n\t\t'''\n\t\tself.debug(('self.',self,['ConditionedIsBool']))\n\t\t'''\n\t\t\n#</DefineClass>\n\n\n```\n\n<small>\nView the Conditioner sources on [Github](https://github.com/Ledoux/ShareYourSystem/tree/master/ShareYourSystem/Objects/Conditioner)\n</small>\n\n", 
          "cell_type": "markdown", 
          "prompt_number": 1, 
          "metadata": {
            "slideshow": {
              "slide_type": "subslide"
            }
          }
        }, 
        {
          "source": "\n<!---\nFrozenIsBool True\n-->\n\n##Example\n\nLet's create an empty class, which will automatically receive\nspecial attributes from the decorating ClassorClass,\nspecially the NameStr, that should be the ClassStr\nwithout the TypeStr in the end.", 
          "cell_type": "markdown", 
          "prompt_number": 2, 
          "metadata": {
            "slideshow": {
              "slide_type": "subslide"
            }
          }
        }, 
        {
          "cell_type": "code", 
          "prompt_number": 3, 
          "language": "python", 
          "input": [
            "#ImportModules\n", 
            "import ShareYourSystem as SYS\n", 
            "from ShareYourSystem.Classors import Attester\n", 
            "from ShareYourSystem.Objects import Conditioner\n", 
            "\n", 
            "#Definition of an instance Conditioner and make it print hello\n", 
            "MyConditioner=Conditioner.ConditionerClass(**{\n", 
            "        'ConditioningGetBoolFunction':lambda _TestVariable,_AttestVariable:_TestVariable==_AttestVariable,\n", 
            "        'ConditioningAttestVariable':2\n", 
            "    })\n", 
            "MyConditioner.condition(3).ConditionedIsBool\n", 
            "    \n", 
            "#Definition the AttestedStr\n", 
            "SYS._attest(\n", 
            "                    [\n", 
            "                        'MyConditioner.condition(3).ConditionedIsBool is '+str(\n", 
            "                            MyConditioner.condition(3).ConditionedIsBool),\n", 
            "                        'MyConditioner.condition(2).ConditionedIsBool is '+str(\n", 
            "                            MyConditioner.condition(2).ConditionedIsBool)\n", 
            "                    ]\n", 
            "                ) \n", 
            "\n", 
            "#Print\n", 
            "\n", 
            "\n"
          ], 
          "outputs": [
            {
              "output_type": "stream", 
              "stream": "stdout", 
              "text": [
                "\n", 
                "\n", 
                "*****Start of the Attest *****\n", 
                "\n", 
                "MyConditioner.condition(3).ConditionedIsBool is False\n", 
                "\n", 
                "------\n", 
                "\n", 
                "MyConditioner.condition(2).ConditionedIsBool is True\n", 
                "\n", 
                "*****End of the Attest *****\n", 
                "\n", 
                "\n"
              ]
            }
          ], 
          "collapsed": false, 
          "metadata": {
            "slideshow": {
              "slide_type": "-"
            }
          }
        }
      ]
    }
  ], 
  "metadata": {
    "name": "", 
    "signature": ""
  }, 
  "nbformat_minor": 0
}