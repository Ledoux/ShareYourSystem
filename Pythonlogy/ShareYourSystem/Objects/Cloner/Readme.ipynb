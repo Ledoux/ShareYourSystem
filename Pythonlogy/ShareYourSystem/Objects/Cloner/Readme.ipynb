{
  "nbformat": 3, 
  "worksheets": [
    {
      "cells": [
        {
          "source": [
            "#Cloner\n", 
            "\n\n@Date : Fri Nov 14 13:20:38 2014 \n\n@Author : Erwan Ledoux \n\n\n\nThe Cloner\n\n\n"
          ], 
          "cell_type": "markdown", 
          "metadata": {}
        }, 
        {
          "source": "\n<!--\nFrozenIsBool False\n-->\n\nView the Cloner sources on [Github](https://github.com/Ledoux/ShareYourSystem/tree/master/ShareYourSystem/Objects/Installer)\n\n", 
          "cell_type": "markdown", 
          "prompt_number": 0, 
          "metadata": {}
        }, 
        {
          "source": "\n<!---\nFrozenIsBool True\n-->\n\n##Example\n\nLet's create an empty class, which will automatically receive\nspecial attributes from the decorating ClassorClass,\nspecially the NameStr, that should be the ClassStr\nwithout the TypeStr in the end.", 
          "cell_type": "markdown", 
          "prompt_number": 1, 
          "metadata": {}
        }, 
        {
          "source": "```python\n#ImportModules\nimport ShareYourSystem as SYS\nfrom ShareYourSystem.Objects import Cloner\n\n#Definition of an instance Cloner \nMyCloner=Cloner.ClonerClass()\nMyCloner.MyInt=1\n\n#clone\nMyFirstCloner=MyCloner.clone()\nMyFirstCloner.MyInt=2\n    \n#Definition the AttestedStr\nSYS._attest(\n                    [\n                        'MyCloner is '+SYS._str(MyCloner),\n                        'MyFirstCloner is '+SYS._str(MyFirstCloner)\n                    ]\n                ) \n\n#Print\n\n\n\n```\n", 
          "cell_type": "markdown", 
          "metadata": {}
        }, 
        {
          "source": "```console\n>>>\nDoer l.132 : DoerStr is Cloner\nDoStr is Clone\nDoMethodStr is clone\nDoingStr is Cloning\nDoneStr is Cloned\n\n('CloningNotCopyKeyStringsList', [])\n('MyInt', 1)\n('ClonedItemTuplesList', [])\n('CloningIdsDict', {})\n('IdString', 4556060240)\n('_WatchCloneWithClonerBool', True)\n\n\n*****Start of the Attest *****\n\nMyCloner is < (ClonerClass), 4556060240>\n   /{ \n   /  '<New><Instance>IdString' : 4556060240\n   /  '<New><Instance>MyInt' : 1\n   /  '<Spe><Class>CloningResetBool' : False\n   /  '<Spe><Instance>ClonedCopyVariable' : < (ClonerClass), 4556062608>\n   /   /{ \n   /   /  '<New><Instance>IdString' : 4556060240\n   /   /  '<New><Instance>MyInt' : 2\n   /   /  '<Spe><Class>ClonedCopyVariable' : None\n   /   /  '<Spe><Class>CloningResetBool' : False\n   /   /  '<Spe><Instance>ClonedItemTuplesList' : \n   /   /   /[\n   /   /   /  0 : \n   /   /   /   /(\n   /   /   /   /  0 : CloningNotCopyKeyStringsList\n   /   /   /   /  1 : []\n   /   /   /   /)\n   /   /   /  1 : ('MyInt', 1)\n   /   /   /  2 : \n   /   /   /   /(\n   /   /   /   /  0 : ClonedItemTuplesList\n   /   /   /   /  1 : []\n   /   /   /   /)\n   /   /   /  3 : \n   /   /   /   /(\n   /   /   /   /  0 : CloningIdsDict\n   /   /   /   /  1 : \n   /   /   /   /   /{ \n   /   /   /   /   /}\n   /   /   /   /)\n   /   /   /  4 : ('IdString', 4556060240)\n   /   /   /  5 : \n   /   /   /   /(\n   /   /   /   /  0 : _WatchCloneWithClonerBool\n   /   /   /   /  1 : True\n   /   /   /   /)\n   /   /   /]\n   /   /  '<Spe><Instance>CloningIdsDict' : {...}< (dict), 4556155432>\n   /   /  '<Spe><Instance>CloningNotCopyKeyStringsList' : {...}< (list), 4555996912>\n   /   /}\n   /  '<Spe><Instance>ClonedItemTuplesList' : \n   /   /[\n   /   /  0 : \n   /   /   /(\n   /   /   /  0 : CloningNotCopyKeyStringsList\n   /   /   /  1 : []\n   /   /   /)\n   /   /  1 : {...}< (tuple), 4555685472>\n   /   /  2 : \n   /   /   /(\n   /   /   /  0 : ClonedItemTuplesList\n   /   /   /  1 : []\n   /   /   /)\n   /   /  3 : \n   /   /   /(\n   /   /   /  0 : CloningIdsDict\n   /   /   /  1 : \n   /   /   /   /{ \n   /   /   /   /}\n   /   /   /)\n   /   /  4 : {...}< (tuple), 4555709616>\n   /   /  5 : {...}< (tuple), 4555708248>\n   /   /]\n   /  '<Spe><Instance>CloningIdsDict' : {...}< (dict), 4556156552>\n   /  '<Spe><Instance>CloningNotCopyKeyStringsList' : {...}< (list), 4555993240>\n   /}\n\n------\n\nMyFirstCloner is < (ClonerClass), 4556062608>\n   /{ \n   /  '<New><Instance>IdString' : 4556060240\n   /  '<New><Instance>MyInt' : 2\n   /  '<Spe><Class>ClonedCopyVariable' : None\n   /  '<Spe><Class>CloningResetBool' : False\n   /  '<Spe><Instance>ClonedItemTuplesList' : \n   /   /[\n   /   /  0 : \n   /   /   /(\n   /   /   /  0 : CloningNotCopyKeyStringsList\n   /   /   /  1 : []\n   /   /   /)\n   /   /  1 : ('MyInt', 1)\n   /   /  2 : \n   /   /   /(\n   /   /   /  0 : ClonedItemTuplesList\n   /   /   /  1 : []\n   /   /   /)\n   /   /  3 : \n   /   /   /(\n   /   /   /  0 : CloningIdsDict\n   /   /   /  1 : \n   /   /   /   /{ \n   /   /   /   /}\n   /   /   /)\n   /   /  4 : ('IdString', 4556060240)\n   /   /  5 : \n   /   /   /(\n   /   /   /  0 : _WatchCloneWithClonerBool\n   /   /   /  1 : True\n   /   /   /)\n   /   /]\n   /  '<Spe><Instance>CloningIdsDict' : {...}< (dict), 4556155432>\n   /  '<Spe><Instance>CloningNotCopyKeyStringsList' : {...}< (list), 4555996912>\n   /}\n\n*****End of the Attest *****\n\n\n\n```\n", 
          "cell_type": "markdown", 
          "metadata": {}
        }
      ]
    }
  ], 
  "metadata": {
    "name": "", 
    "signature": ""
  }, 
  "nbformat_minor": 0
}