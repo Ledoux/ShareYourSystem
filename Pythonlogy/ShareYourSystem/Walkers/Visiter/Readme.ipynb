{
  "nbformat": 3, 
  "worksheets": [
    {
      "cells": [
        {
          "source": [
            "#Visiter\n", 
            " @Date : Fri Nov 14 13:20:38 2014 \n\n@Author : Erwan Ledoux \n\n\n\nA Visiter\n\n\n"
          ], 
          "cell_type": "markdown", 
          "metadata": {}
        }, 
        {
          "source": "```python\n\n#ImportModules\nimport ShareYourSystem as SYS\nfrom ShareYourSystem.Walkers import Cumulater,Visiter\n\n#Definition a Visiter instance that is grouped\nMyVisiter=Visiter.VisiterClass().update(\n    [\n        (\n            '<Visitome>FirstChildVisiter',\n            Visiter.VisiterClass().update(\n                [\n                    (\n                        '<Collectome>GrandChildCumulater',\n                        Cumulater.CumulaterClass()\n                    )\n                ]\n            )\n        ),\n        (\n            '<Visitome>SecondChildVisiter',\n            Visiter.VisiterClass()\n        )\n    ]    \n)\n\n#Walk inside the group in order to parent\nMyVisiter.visit(['Visitome','Collectome'],[('TagStr','Je suis passe par la')])\n        \n#Definition the AttestedStr\nSYS._attest(\n    [\n        'MyVisiter is '+SYS._str(\n        MyVisiter,\n        **{\n            'RepresentingBaseKeyStrsListBool':False,\n            'RepresentingAlineaIsBool':False\n        }\n        )\n    ]\n) \n\n#Print\n\n \n\n```\n", 
          "cell_type": "markdown", 
          "metadata": {}
        }, 
        {
          "source": "```console\n>>>\n\n\n*****Start of the Attest *****\n\nMyVisiter is < (VisiterClass), 4559074768>\n   /{ \n   /  '<New><Instance>ApplyingIsBool' : True\n   /  '<New><Instance>CollectomeCollectionOrderedDict' : \n   /   /{ \n   /   /}\n   /  '<New><Instance>IdString' : 4559074768\n   /  '<New><Instance>NodeCollectionStr' : Global\n   /  '<New><Instance>NodeIndexInt' : -1\n   /  '<New><Instance>NodeKeyStr' : \n   /  '<New><Instance>NodePointDeriveNoder' : None\n   /  '<New><Instance>NodePointOrderedDict' : None\n   /  '<New><Instance>TagStr' : Je suis passe par la\n   /  '<New><Instance>VisitomeCollectionOrderedDict' : \n   /   /{ \n   /   /  'FirstChildVisiter' : < (VisiterClass), 4558963408>\n   /   /   /{ \n   /   /   /  '<New><Instance>ApplyingIsBool' : True\n   /   /   /  '<New><Instance>CollectomeCollectionOrderedDict' : \n   /   /   /   /{ \n   /   /   /   /  'GrandChildCumulater' : < (CumulaterClass), 4558962768>\n   /   /   /   /   /{ \n   /   /   /   /   /  '<New><Instance>ApplyingIsBool' : True\n   /   /   /   /   /  '<New><Instance>CollectomeCollectionOrderedDict' : \n   /   /   /   /   /   /{ \n   /   /   /   /   /   /}\n   /   /   /   /   /  '<New><Instance>IdString' : 4558962768\n   /   /   /   /   /  '<New><Instance>NodeCollectionStr' : Collectome\n   /   /   /   /   /  '<New><Instance>NodeIndexInt' : 0\n   /   /   /   /   /  '<New><Instance>NodeKeyStr' : GrandChildCumulater\n   /   /   /   /   /  '<New><Instance>NodePointDeriveNoder' : {...}< (VisiterClass), 4558963408>\n   /   /   /   /   /  '<New><Instance>NodePointOrderedDict' : {...}< (OrderedDict), 4559296912>\n   /   /   /   /   /  '<New><Instance>TagStr' : Je suis passe par la\n   /   /   /   /   /  '<New><Instance>VisitomeCollectionOrderedDict' : \n   /   /   /   /   /   /{ \n   /   /   /   /   /   /}\n   /   /   /   /   /  '<Spe><Class>CumulatedVariablesList' : None\n   /   /   /   /   /}\n   /   /   /   /}\n   /   /   /  '<New><Instance>IdString' : 4558963408\n   /   /   /  '<New><Instance>NodeCollectionStr' : Visitome\n   /   /   /  '<New><Instance>NodeIndexInt' : 0\n   /   /   /  '<New><Instance>NodeKeyStr' : FirstChildVisiter\n   /   /   /  '<New><Instance>NodePointDeriveNoder' : {...}< (VisiterClass), 4559074768>\n   /   /   /  '<New><Instance>NodePointOrderedDict' : {...}< (OrderedDict), 4559297504>\n   /   /   /  '<New><Instance>TagStr' : Je suis passe par la\n   /   /   /  '<New><Instance>VisitomeCollectionOrderedDict' : \n   /   /   /   /{ \n   /   /   /   /}\n   /   /   /  '<Spe><Class>VisitingAfterUpdateList' : None\n   /   /   /  '<Spe><Class>VisitingBeforeUpdateList' : None\n   /   /   /  '<Spe><Class>VisitingCollectionStrsList' : None\n   /   /   /}\n   /   /  'SecondChildVisiter' : < (VisiterClass), 4558890128>\n   /   /   /{ \n   /   /   /  '<New><Instance>ApplyingIsBool' : True\n   /   /   /  '<New><Instance>CollectomeCollectionOrderedDict' : \n   /   /   /   /{ \n   /   /   /   /}\n   /   /   /  '<New><Instance>IdString' : 4558890128\n   /   /   /  '<New><Instance>NodeCollectionStr' : Visitome\n   /   /   /  '<New><Instance>NodeIndexInt' : 1\n   /   /   /  '<New><Instance>NodeKeyStr' : SecondChildVisiter\n   /   /   /  '<New><Instance>NodePointDeriveNoder' : {...}< (VisiterClass), 4559074768>\n   /   /   /  '<New><Instance>NodePointOrderedDict' : {...}< (OrderedDict), 4559297504>\n   /   /   /  '<New><Instance>TagStr' : Je suis passe par la\n   /   /   /  '<New><Instance>VisitomeCollectionOrderedDict' : \n   /   /   /   /{ \n   /   /   /   /}\n   /   /   /  '<Spe><Class>VisitingAfterUpdateList' : None\n   /   /   /  '<Spe><Class>VisitingBeforeUpdateList' : None\n   /   /   /  '<Spe><Class>VisitingCollectionStrsList' : None\n   /   /   /}\n   /   /}\n   /  '<Spe><Instance>VisitingAfterUpdateList' : []\n   /  '<Spe><Instance>VisitingBeforeUpdateList' : \n   /   /[\n   /   /  0 : ('TagStr', 'Je suis passe par la')\n   /   /]\n   /  '<Spe><Instance>VisitingCollectionStrsList' : ['Visitome', 'Collectome']\n   /}\n\n*****End of the Attest *****\n\n\n\n```\n", 
          "cell_type": "markdown", 
          "metadata": {}
        }
      ]
    }
  ], 
  "metadata": {
    "name": "", 
    "signature": ""
  }, 
  "nbformat_minor": 0
}