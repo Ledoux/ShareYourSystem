{
  "nbformat": 3, 
  "worksheets": [
    {
      "cells": [
        {
          "source": "\n<!--\nFrozenIsBool False\n-->\n\n#Adder\n\n##Doc\n----\n\n\n> \n> An Adder maps an append\n> \n\n----\n\n<small>\nView the Adder notebook on [NbViewer](http://nbviewer.ipython.org/url/shareyoursystem.ouvaton.org/Adder.ipynb)\n</small>\n\n", 
          "cell_type": "markdown", 
          "prompt_number": 0, 
          "metadata": {
            "slideshow": {
              "slide_type": "slide"
            }
          }
        }, 
        {
          "source": "\n<!--\nFrozenIsBool False\n-->\n\n##Code\n\n----\n\n<ClassDocStr>\n\n----\n\n```python\n# -*- coding: utf-8 -*-\n\"\"\"\n\n\n<DefineSource>\n@Date : Fri Nov 14 13:20:38 2014 \\n\n@Author : Erwan Ledoux \\n\\n\n</DefineSource>\n\n\nAn Adder maps an append\n\"\"\"\n\n#<DefineAugmentation>\nimport ShareYourSystem as SYS\nBaseModuleStr=\"ShareYourSystem.Noders.Instancer\"\nDecorationModuleStr=\"ShareYourSystem.Classors.Classer\"\nSYS.setSubModule(globals())\n#</DefineAugmentation>\n\n#<ImportSpecificModules>\n#</ImportSpecificModules>\n\n#<DefineClass>\n@DecorationClass()\nclass AdderClass(BaseClass):\n\t\n\t#Definition \n\tRepresentingKeyStrsList=[\n\t\t\t\t\t\t\t\t\t#'AddingVariablesList'\n\t\t\t\t\t\t\t\t]\n\n\tdef default_init(self,\n\t\t\t\t\t\t_AddingVariablesList=None, \n\t\t\t\t\t\t**_KwargVariablesDict\n\t\t\t\t):\n\n\t\t#Call the parent __init__ method\n\t\tBaseClass.__init__(self,**_KwargVariablesDict)\n\n\t#@Argumenter.ArgumenterClass(**{'ArgumentingDoStr':'Add'})\n\tdef __add__(self,_VariablesList):\n\t\t\"\"\"Apply the append to the <_AddingVariablesList>\"\"\"\n\n\t\t#Call the add method\n\t\tself.add(_VariablesList)\n\n\t\t#Return \n\t\treturn self\n\n\tdef do_add(self):\n\t\t\"\"\"Apply the append to the <_AddingVariablesList>\"\"\"\n\n\t\t#debug\n\t\t'''\n\t\tself.debug(('self.',self,['AddingVariablesList']))\n\t\t'''\n\n\t\t#Apply\t\n\t\tself.map('append',map(\n\t\t\t\t\t\t\t\t\tlambda __AddingVariable:\n\t\t\t\t\t\t\t\t\t{'LiargVariablesList':[__AddingVariable]},\n\t\t\t\t\t\t\t\t\tself.AddingVariablesList\n\t\t\t\t\t\t\t\t)\n\t\t\t\t)\n\n#</DefineClass>\n\n```\n\n<small>\nView the Adder sources on <a href=\"https://github.com/Ledoux/ShareYourSystem/tree/master/Pythonlogy/ShareYourSystem/Noders/Adder\" target=\"_blank\">Github</a>\n</small>\n\n", 
          "cell_type": "markdown", 
          "prompt_number": 1, 
          "metadata": {
            "slideshow": {
              "slide_type": "subslide"
            }
          }
        }, 
        {
          "source": "\n<!---\nFrozenIsBool True\n-->\n\n##Example\n\nLet's create an empty class, which will automatically receive\nspecial attributes from the decorating ClassorClass,\nspecially the NameStr, that should be the ClassStr\nwithout the TypeStr in the end.", 
          "cell_type": "markdown", 
          "prompt_number": 2, 
          "metadata": {
            "slideshow": {
              "slide_type": "subslide"
            }
          }
        }, 
        {
          "cell_type": "code", 
          "prompt_number": 3, 
          "language": "python", 
          "input": [
            "\n", 
            "#ImportModules\n", 
            "import ShareYourSystem as SYS\n", 
            "from ShareYourSystem.Noders import Adder\n", 
            "\n", 
            "#Definition an Tree instance\n", 
            "MyAdder=Adder.AdderClass()+[\n", 
            "    [\n", 
            "        ('NodeCollectionStr','Tree'),\n", 
            "        ('NodeKeyStr','MyTuplesList'),\n", 
            "        ('MyStr','Hello')\n", 
            "    ],\n", 
            "    {\n", 
            "        'NodeCollectionStr':'Tree',\n", 
            "        'NodeKeyStr':'MyDict',\n", 
            "        'MyOtherStr':'Bonjour'\n", 
            "    },\n", 
            "    Adder.AdderClass().update(\n", 
            "            [\n", 
            "                ('NodeCollectionStr','Tree'),\n", 
            "                ('NodeKeyStr','MyChildAppender')\n", 
            "            ]\n", 
            "        )\n", 
            "]\n", 
            "    \n", 
            "#Definition the AttestedStr\n", 
            "SYS._attest(\n", 
            "    [\n", 
            "        'MyAdder is '+SYS._str(\n", 
            "        MyAdder,\n", 
            "        **{\n", 
            "            'RepresentingBaseKeyStrsListBool':False,\n", 
            "            'RepresentingAlineaIsBool':False\n", 
            "        }\n", 
            "        )\n", 
            "    ]\n", 
            ")  \n", 
            "\n", 
            "#Print\n", 
            "\n", 
            "\n"
          ], 
          "outputs": [
            {
              "output_type": "stream", 
              "stream": "stdout", 
              "text": [
                "                                            \n", 
                "                                            xxxxxxxxxxxxxxxxxxxxxxxxxxxxxxxxxxxxxxxxxxxxxxxxxxxxxxxxxxxxxxxxxxxxxxxxxxxxxxxxxxxxxxxxxxxx\n", 
                "                                            ////////////////////////////////\n", 
                "                                            Appender/__init__.py do_append\n", 
                "                                            From Appender/__init__.py do_append | Instancer/__init__.py mimic_append | Mimicker/__init__.py mimic | Applyier/__init__.py do_apply | Mapper/__init__.py do_map | Adder/__init__.py do_add | Adder/__init__.py __add__ | site-packages/six.py exec_ | Celler/__init__.py do_cell | Notebooker/__init__.py do_notebook | Informer/__init__.py do_inform | inform.py <module>\n", 
                "                                            ////////////////////////////////\n", 
                "                                            \n", 
                "                                            l.138 : \n", 
                "                                            *****\n", 
                "                                            I am with [('NodeKeyStr', 'TopAdder')]\n", 
                "                                            *****\n", 
                "                                            self.AppendedNodeCollectionStr is Tree\n", 
                "                                            self.AppendedNodeKeyStr is MyTuplesList\n", 
                "                                            \n", 
                "                                            xxxxxxxxxxxxxxxxxxxxxxxxxxxxxxxxxxxxxxxxxxxxxxxxxxxxxxxxxxxxxxxxxxxxxxxxxxxxxxxxxxxxxxxxxxxx\n", 
                "                                                                                        \n", 
                "                                            \n", 
                "                                            xxxxxxxxxxxxxxxxxxxxxxxxxxxxxxxxxxxxxxxxxxxxxxxxxxxxxxxxxxxxxxxxxxxxxxxxxxxxxxxxxxxxxxxxxxxx\n", 
                "                                            ////////////////////////////////\n", 
                "                                            Appender/__init__.py do_append\n", 
                "                                            From Appender/__init__.py do_append | Instancer/__init__.py mimic_append | Mimicker/__init__.py mimic | Applyier/__init__.py do_apply | Mapper/__init__.py do_map | Adder/__init__.py do_add | Adder/__init__.py __add__ | site-packages/six.py exec_ | Celler/__init__.py do_cell | Notebooker/__init__.py do_notebook | Informer/__init__.py do_inform | inform.py <module>\n", 
                "                                            ////////////////////////////////\n", 
                "                                            \n", 
                "                                            l.138 : \n", 
                "                                            *****\n", 
                "                                            I am with [('NodeKeyStr', 'TopAdder')]\n", 
                "                                            *****\n", 
                "                                            self.AppendedNodeCollectionStr is Tree\n", 
                "                                            self.AppendedNodeKeyStr is MyDict\n", 
                "                                            \n", 
                "                                            xxxxxxxxxxxxxxxxxxxxxxxxxxxxxxxxxxxxxxxxxxxxxxxxxxxxxxxxxxxxxxxxxxxxxxxxxxxxxxxxxxxxxxxxxxxx\n", 
                "                                                                                        \n", 
                "                                            \n", 
                "                                            xxxxxxxxxxxxxxxxxxxxxxxxxxxxxxxxxxxxxxxxxxxxxxxxxxxxxxxxxxxxxxxxxxxxxxxxxxxxxxxxxxxxxxxxxxxx\n", 
                "                                            ////////////////////////////////\n", 
                "                                            Appender/__init__.py do_append\n", 
                "                                            From Appender/__init__.py do_append | Instancer/__init__.py mimic_append | Mimicker/__init__.py mimic | Applyier/__init__.py do_apply | Mapper/__init__.py do_map | Adder/__init__.py do_add | Adder/__init__.py __add__ | site-packages/six.py exec_ | Celler/__init__.py do_cell | Notebooker/__init__.py do_notebook | Informer/__init__.py do_inform | inform.py <module>\n", 
                "                                            ////////////////////////////////\n", 
                "                                            \n", 
                "                                            l.138 : \n", 
                "                                            *****\n", 
                "                                            I am with [('NodeKeyStr', 'TopAdder')]\n", 
                "                                            *****\n", 
                "                                            self.AppendedNodeCollectionStr is Tree\n", 
                "                                            self.AppendedNodeKeyStr is MyChildAppender\n", 
                "                                            \n", 
                "                                            xxxxxxxxxxxxxxxxxxxxxxxxxxxxxxxxxxxxxxxxxxxxxxxxxxxxxxxxxxxxxxxxxxxxxxxxxxxxxxxxxxxxxxxxxxxx\n", 
                "                                                                                        \n", 
                "\n", 
                "\n", 
                "*****Start of the Attest *****\n", 
                "\n", 
                "MyAdder is < (AdderClass), 4556365584>\n", 
                "   /{ \n", 
                "   /  '<New><Instance>IdInt' : 4556365584\n", 
                "   /  '<New><Instance>NodeCollectionStr' : Globals\n", 
                "   /  '<New><Instance>NodeIndexInt' : -1\n", 
                "   /  '<New><Instance>NodeKeyStr' : TopAdder\n", 
                "   /  '<New><Instance>NodePointDeriveNoder' : None\n", 
                "   /  '<New><Instance>NodePointOrderedDict' : None\n", 
                "   /  '<New><Instance>TreeCollectionOrderedDict' : \n", 
                "   /   /{ \n", 
                "   /   /  'MyTuplesList' : \n", 
                "   /   /   /[\n", 
                "   /   /   /  0 : ('NodeCollectionStr', 'Tree')\n", 
                "   /   /   /  1 : ('NodeKeyStr', 'MyTuplesList')\n", 
                "   /   /   /  2 : ('MyStr', 'Hello')\n", 
                "   /   /   /]\n", 
                "   /   /  'MyDict' : \n", 
                "   /   /   /{ \n", 
                "   /   /   /  'MyOtherStr' : Bonjour\n", 
                "   /   /   /  'NodeCollectionStr' : Tree\n", 
                "   /   /   /  'NodeKeyStr' : MyDict\n", 
                "   /   /   /}\n", 
                "   /   /  'MyChildAppender' : < (AdderClass), 4556365264>\n", 
                "   /   /   /{ \n", 
                "   /   /   /  '<New><Instance>IdInt' : 4556365264\n", 
                "   /   /   /  '<New><Instance>NodeCollectionStr' : Tree\n", 
                "   /   /   /  '<New><Instance>NodeIndexInt' : 2\n", 
                "   /   /   /  '<New><Instance>NodeKeyStr' : MyChildAppender\n", 
                "   /   /   /  '<New><Instance>NodePointDeriveNoder' : {...}< (AdderClass), 4556365584>\n", 
                "   /   /   /  '<New><Instance>NodePointOrderedDict' : {...}< (OrderedDict), 4557648248>\n", 
                "   /   /   /}\n", 
                "   /   /}\n", 
                "   /}\n", 
                "\n", 
                "*****End of the Attest *****\n", 
                "\n", 
                "\n"
              ]
            }
          ], 
          "collapsed": false, 
          "metadata": {
            "slideshow": {
              "slide_type": "-"
            }
          }
        }
      ]
    }
  ], 
  "metadata": {
    "name": "", 
    "signature": ""
  }, 
  "nbformat_minor": 0
}