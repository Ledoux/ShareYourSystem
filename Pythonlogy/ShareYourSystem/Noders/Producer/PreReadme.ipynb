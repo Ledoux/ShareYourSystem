{
  "nbformat": 3, 
  "worksheets": [
    {
      "cells": [
        {
          "source": "\n<!--\nFrozenIsBool False\n-->\n\n#Producer\n\n##Doc\n----\n\n\n> \n> Producer instances\n> \n> \n\n----\n\n<small>\nView the Producer notebook on [NbViewer](http://nbviewer.ipython.org/url/shareyoursystem.ouvaton.org/Producer.ipynb)\n</small>\n\n", 
          "cell_type": "markdown", 
          "prompt_number": 0, 
          "metadata": {
            "slideshow": {
              "slide_type": "slide"
            }
          }
        }, 
        {
          "source": "\n<!--\nFrozenIsBool False\n-->\n\n##Code\n\n----\n\n<ClassDocStr>\n\n----\n\n```python\n# -*- coding: utf-8 -*-\n\"\"\"\n\n<DefineSource>\n@Date : Fri Nov 14 13:20:38 2014 \\n\n@Author : Erwan Ledoux \\n\\n\n</DefineSource>\n\n\nProducer instances\n\n\"\"\"\n\n#<DefineAugmentation>\nimport ShareYourSystem as SYS\nBaseModuleStr=\"ShareYourSystem.Applyiers.Pusher\"\nDecorationModuleStr=\"ShareYourSystem.Classors.Classer\"\nSYS.setSubModule(globals())\n#</DefineAugmentation>\n\n#<ImportSpecificModules>\nfrom ShareYourSystem.Noders import Noder\n#</ImportSpecificModules>\n\n#<DefineClass>\n@DecorationClass()\nclass ProducerClass(BaseClass):\n\t\n\t#Definition\n\tRepresentingKeyStrsList=[\t\n\t\t\t\t\t\t\t\t\t'ProducingCollectionKeyStrsList',\n\t\t\t\t\t\t\t\t\t'ProducingPushClass',\n\t\t\t\t\t\t\t\t\t'ProducingUpdateVariable',\n\t\t\t\t\t\t\t\t\t'ProducedPushList'\n\t\t\t\t\t\t\t\t]\n\n\tdef default_init(self,\n\t\t\t\t\t\t_ProducingCollectionKeyStrsList=None,\n\t\t\t\t\t\t_ProducingPushClass=Noder.NoderClass,\n\t\t\t\t\t\t_ProducingUpdateVariable=None,\n\t\t\t\t\t\t_ProducedPushList=None,\n\t\t\t\t\t\t**_KwargVariablesDict\n\t\t\t\t\t):\n\n\t\t#Call the parent init method\n\t\tBaseClass.__init__(self,**_KwargVariablesDict)\n\n\tdef do_produce(self):\n\t\t\n\t\t#set\n\t\tself.ProducedPushList=map(\n\t\t\t\t\t\t\t\t\tlambda __ProducingCollectionKeyStr:\n\t\t\t\t\t\t\t\t\t[\n\t\t\t\t\t\t\t\t\t\t__ProducingCollectionKeyStr,\n\t\t\t\t\t\t\t\t\t\tself.ProducingPushClass().update(\n\t\t\t\t\t\t\t\t\t\t\tself.ProducingUpdateVariable\n\t\t\t\t\t\t\t\t\t\t)\n\t\t\t\t\t\t\t\t\t],\n\t\t\t\t\t\t\t\t\tself.ProducingCollectionKeyStrsList\n\t\t\t\t\t\t\t\t)\n\n\t\t#debug\n\t\t'''\n\t\tself.debug(('self.',self,['ProducedPushList']))\n\t\t'''\n\t\t\n\t\t#push\n\t\tself.push(\n\t\t\t\t\t_StoreListsList=self.ProducedPushList\n\t\t\t\t)\n\n\t\t#Return self\n\t\t#return self\n\n#</DefineClass>\n\n\n```\n\n<small>\nView the Producer sources on <a href=\"https://github.com/Ledoux/ShareYourSystem/tree/master/Pythonlogy/ShareYourSystem/Applyiers/Producer\" target=\"_blank\">Github</a>\n</small>\n\n", 
          "cell_type": "markdown", 
          "prompt_number": 1, 
          "metadata": {
            "slideshow": {
              "slide_type": "subslide"
            }
          }
        }, 
        {
          "cell_type": "code", 
          "prompt_number": 2, 
          "language": "python", 
          "input": [
            "\n", 
            "#ImportModules\n", 
            "import ShareYourSystem as SYS\n", 
            "from ShareYourSystem.Noders import Noder\n", 
            "from ShareYourSystem.Applyiers import Producer\n", 
            "\n", 
            "#produce\n", 
            "MyProducer=Producer.ProducerClass().produce(\n", 
            "        ['First','Second'],\n", 
            "        Noder.NoderClass,\n", 
            "        {'MyInt':0},\n", 
            "        **{'CollectingCollectionStr':'Nodome'}\n", 
            "    )\n", 
            "\n", 
            "#Definition the AttestedStr\n", 
            "SYS._attest(\n", 
            "    [\n", 
            "        'MyProducer is '+SYS._str(\n", 
            "        MyProducer,\n", 
            "        **{\n", 
            "            'RepresentingBaseKeyStrsListBool':False,\n", 
            "            'RepresentingAlineaIsBool':False\n", 
            "        }\n", 
            "        )\n", 
            "    ]\n", 
            ") \n", 
            "\n", 
            "#Print\n", 
            "\n", 
            "\n"
          ], 
          "outputs": [
            {
              "output_type": "stream", 
              "stream": "stdout", 
              "text": [
                "\n", 
                "\n", 
                "*****Start of the Attest *****\n", 
                "\n", 
                "MyProducer is < (ProducerClass), 4555020560>\n", 
                "   /{ \n", 
                "   /  '<New><Instance>IdInt' : 4555020560\n", 
                "   /  '<New><Instance>NodeCollectionStr' : Globals\n", 
                "   /  '<New><Instance>NodeIndexInt' : -1\n", 
                "   /  '<New><Instance>NodeKeyStr' : TopProducer\n", 
                "   /  '<New><Instance>NodePointDeriveNoder' : None\n", 
                "   /  '<New><Instance>NodePointOrderedDict' : None\n", 
                "   /  '<New><Instance>NodomeCollectionOrderedDict' : \n", 
                "   /   /{ \n", 
                "   /   /  'FirstNoder' : < (NoderClass), 4555021392>\n", 
                "   /   /   /{ \n", 
                "   /   /   /  '<New><Instance>IdInt' : 4555021392\n", 
                "   /   /   /  '<New><Instance>MyInt' : 0\n", 
                "   /   /   /  '<New><Instance>NodeCollectionStr' : Nodome\n", 
                "   /   /   /  '<New><Instance>NodeIndexInt' : 0\n", 
                "   /   /   /  '<New><Instance>NodeKeyStr' : FirstNoder\n", 
                "   /   /   /  '<New><Instance>NodePointDeriveNoder' : {...}< (ProducerClass), 4555020560>\n", 
                "   /   /   /  '<New><Instance>NodePointOrderedDict' : {...}< (OrderedDict), 4555324088>\n", 
                "   /   /   /  '<Spe><Class>NodedCollectionIndexInt' : -1\n", 
                "   /   /   /  '<Spe><Class>NodedCollectionOrderedDict' : None\n", 
                "   /   /   /  '<Spe><Class>NodedCollectionStr' : \n", 
                "   /   /   /  '<Spe><Class>NodedKeyStr' : \n", 
                "   /   /   /  '<Spe><Class>NodingCollectionStr' : \n", 
                "   /   /   /}\n", 
                "   /   /  'SecondNoder' : < (NoderClass), 4555021584>\n", 
                "   /   /   /{ \n", 
                "   /   /   /  '<New><Instance>IdInt' : 4555021584\n", 
                "   /   /   /  '<New><Instance>MyInt' : 0\n", 
                "   /   /   /  '<New><Instance>NodeCollectionStr' : Nodome\n", 
                "   /   /   /  '<New><Instance>NodeIndexInt' : 1\n", 
                "   /   /   /  '<New><Instance>NodeKeyStr' : SecondNoder\n", 
                "   /   /   /  '<New><Instance>NodePointDeriveNoder' : {...}< (ProducerClass), 4555020560>\n", 
                "   /   /   /  '<New><Instance>NodePointOrderedDict' : {...}< (OrderedDict), 4555324088>\n", 
                "   /   /   /  '<Spe><Class>NodedCollectionIndexInt' : -1\n", 
                "   /   /   /  '<Spe><Class>NodedCollectionOrderedDict' : None\n", 
                "   /   /   /  '<Spe><Class>NodedCollectionStr' : \n", 
                "   /   /   /  '<Spe><Class>NodedKeyStr' : \n", 
                "   /   /   /  '<Spe><Class>NodingCollectionStr' : \n", 
                "   /   /   /}\n", 
                "   /   /}\n", 
                "   /  '<Spe><Instance>ProducedPushList' : \n", 
                "   /   /[\n", 
                "   /   /  0 : \n", 
                "   /   /   /[\n", 
                "   /   /   /  0 : First\n", 
                "   /   /   /  1 : {...}< (NoderClass), 4555021392>\n", 
                "   /   /   /]\n", 
                "   /   /  1 : \n", 
                "   /   /   /[\n", 
                "   /   /   /  0 : Second\n", 
                "   /   /   /  1 : {...}< (NoderClass), 4555021584>\n", 
                "   /   /   /]\n", 
                "   /   /]\n", 
                "   /  '<Spe><Instance>ProducingCollectionKeyStrsList' : ['First', 'Second']\n", 
                "   /  '<Spe><Instance>ProducingPushClass' : <class 'ShareYourSystem.Noders.Noder.NoderClass'>\n", 
                "   /  '<Spe><Instance>ProducingUpdateVariable' : \n", 
                "   /   /{ \n", 
                "   /   /  'MyInt' : 0\n", 
                "   /   /}\n", 
                "   /}\n", 
                "\n", 
                "*****End of the Attest *****\n", 
                "\n", 
                "\n"
              ]
            }
          ], 
          "collapsed": false, 
          "metadata": {
            "slideshow": {
              "slide_type": "subslide"
            }
          }
        }
      ]
    }
  ], 
  "metadata": {
    "name": "", 
    "signature": ""
  }, 
  "nbformat_minor": 0
}