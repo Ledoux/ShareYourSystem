{
  "nbformat": 3, 
  "worksheets": [
    {
      "cells": [
        {
          "source": [
            "#Instancer\n", 
            " @Date : Fri Nov 14 13:20:38 2014 \n\n@Author : Erwan Ledoux \n\n\n\nAn Appender append by doing a set in a NodedOrderedDict thanks to the <AppendedNodeStr><AppendedNodeKeyStr>\n\n\n"
          ], 
          "cell_type": "markdown", 
          "metadata": {}
        }, 
        {
          "source": "\n<!--\nFrozenIsBool False\n-->\n\nView the Instancer sources on [Github](https://github.com/Ledoux/ShareYourSystem/tree/master/ShareYourSystem/Noders/Installer)\n\n", 
          "cell_type": "markdown", 
          "prompt_number": 0, 
          "metadata": {}
        }, 
        {
          "source": "```python\n#ImportModules\nimport ShareYourSystem as SYS\nfrom ShareYourSystem.Noders import Appender,Instancer\n\n#Append with a TuplesList\nMyInstancer=Instancer.InstancerClass(**{'InstancingIsBool':True}).instance([\n                                    ('AppendingNodeCollectionStr','Structure'),\n                                    ('NodeKeyStr','MyInstancedAppender'),\n                                    ('MyStr','Hello'),\n                                    ('InstancingClass',Appender.AppenderClass)\n                                ]\n                            )\n\n#Definition the AttestedStr\nSYS._attest(\n    [\n        'MyInstancer is '+SYS._str(\n        MyInstancer,\n        **{\n            'RepresentingBaseKeyStrsListBool':False\n        }\n        )\n    ]\n)  \n\n#Print\n\n\n\n```\n", 
          "cell_type": "markdown", 
          "metadata": {}
        }, 
        {
          "source": "```console\n>>>\n\n\n*****Start of the Attest *****\n\nMyInstancer is < (InstancerClass), 4557295760>\n   /{ \n   /  '<New><Instance>IdStr' : 4557295760\n   /  '<New><Instance>NodeCollectionStr' : Global\n   /  '<New><Instance>NodeIndexInt' : -1\n   /  '<New><Instance>NodeKeyStr' : \n   /  '<New><Instance>NodePointDeriveNoder' : None\n   /  '<New><Instance>NodePointOrderedDict' : None\n   /  '<Spe><Class>InstancingClass' : None\n   /  '<Spe><Instance>InstancedVariable' : < (AppenderClass), 4567774480>\n   /   /{ \n   /   /  '<New><Instance>AppendingNodeCollectionStr' : Structure\n   /   /  '<New><Instance>IdStr' : 4567774480\n   /   /  '<New><Instance>InstancingClass' : <class 'ShareYourSystem.Noders.Appender.AppenderClass'>\n   /   /  '<New><Instance>MyStr' : Hello\n   /   /  '<New><Instance>NodeCollectionStr' : Global\n   /   /  '<New><Instance>NodeIndexInt' : -1\n   /   /  '<New><Instance>NodeKeyStr' : MyInstancedAppender\n   /   /  '<New><Instance>NodePointDeriveNoder' : None\n   /   /  '<New><Instance>NodePointOrderedDict' : None\n   /   /  '<Spe><Class>AppendedNodeCollectionStr' : \n   /   /  '<Spe><Class>AppendedNodeKeyStr' : \n   /   /  '<Spe><Class>AppendingCollectionVariable' : None\n   /   /}\n   /  '<Spe><Instance>InstancingIsBool' : True\n   /  '<Spe><Instance>InstancingVariable' : \n   /   /[\n   /   /  0 : ('AppendingNodeCollectionStr', 'Structure')\n   /   /  1 : ('NodeKeyStr', 'MyInstancedAppender')\n   /   /  2 : ('MyStr', 'Hello')\n   /   /  3 : \n   /   /   /(\n   /   /   /  0 : InstancingClass\n   /   /   /  1 : {...}< (type), 140533544318528>\n   /   /   /)\n   /   /]\n   /}\n\n*****End of the Attest *****\n\n\n\n```\n", 
          "cell_type": "markdown", 
          "metadata": {}
        }
      ]
    }
  ], 
  "metadata": {
    "name": "", 
    "signature": ""
  }, 
  "nbformat_minor": 0
}