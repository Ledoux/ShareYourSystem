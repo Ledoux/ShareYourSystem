{
  "nbformat": 3, 
  "worksheets": [
    {
      "cells": [
        {
          "source": "\n<!--\nFrozenIsBool False\n-->\n\n#Settler\n\n##Doc\n----\n\n\n> \n> A Settler \n> \n> \n\n----\n\n<small>\nView the Settler notebook on [NbViewer](http://nbviewer.ipython.org/url/shareyoursystem.ouvaton.org/Settler.ipynb)\n</small>\n\n", 
          "cell_type": "markdown", 
          "prompt_number": 0, 
          "metadata": {
            "slideshow": {
              "slide_type": "slide"
            }
          }
        }, 
        {
          "source": "\n<!--\nFrozenIsBool False\n-->\n\n##Code\n\n----\n\n<ClassDocStr>\n\n----\n\n```python\n# -*- coding: utf-8 -*-\n\"\"\"\n\n\n<DefineSource>\n@Date : Fri Nov 14 13:20:38 2014 \\n\n@Author : Erwan Ledoux \\n\\n\n</DefineSource>\n\n\nA Settler \n\n\"\"\"\n\n#<DefineAugmentation>\nimport ShareYourSystem as SYS\nBaseModuleStr=\"ShareYourSystem.Noders.Coupler\"\nDecorationModuleStr=\"ShareYourSystem.Classors.Classer\"\nSYS.setSubModule(globals())\n#</DefineAugmentation>\n\n#<ImportSpecificModules>\nimport copy\nfrom ShareYourSystem.Itemizers import Pather\nfrom ShareYourSystem.Applyiers import Linker\n#</ImportSpecificModules>\n\n#<DefineClass>\n@DecorationClass(**{'ClassingSwitchMethodStrsList':['settle']})\nclass SettlerClass(\n\t\t\t\t\tBaseClass,\n\t\t\t\t\tLinker.LinkerClass\n\t\t\t\t\t):\n\n\t#Definition\n\tRepresentingKeyStrsList=[\n\t\t\t\t\t\t\t\t'SettlingParentBool',\n\t\t\t\t\t\t\t\t'SettlingLinkBool'\n\t\t\t\t\t\t\t]\n\n\tdef default_init(self,\n\t\t\t\t_SettlingParentBool=False,\n\t\t\t\t_SettlingLinkBool=False,\n\t\t\t\t**_KwargVariablesDict):\n\n\t\t#Call the parent init method\n\t\tBaseClass.__init__(self,**_KwargVariablesDict)\n\n\t#@Switcher.SwitcherClass()\n\tdef do_settle(self):\n\n\t\t#debug\n\t\t'''\n\t\tself.debug('We settle here')\n\t\t'''\n\t\t\n\t\t#Parent first\n\t\tif self.SettlingParentBool:\n\n\t\t\t#debug\n\t\t\t'''\n\t\t\tself.debug('We parent here')\n\t\t\t'''\n\n\t\t\t#parent\n\t\t\tself.parent()\n\n\t\t#link\n\t\tif self.SettlingLinkBool:\n\n\t\t\t#debug\n\t\t\t'''\n\t\t\tself.debug('We link here')\n\t\t\t'''\n\n\t\t\t#link\n\t\t\tself.link()\n\n\t\t#Return self\n\t\t#return self\n\n\t#@Imitater.ImitaterClass()\n\tdef mimic_set(self):\n\n\t\t#debug\n\n\n\t\t#Call the parent method\n\t\tOutputDict=BaseClass.set(self)\n\n\t\t#debug\n\t\t'''\n\t\tself.debug(('self.',self,[\n\t\t\t\t\t\t\t\t\t'SettingKeyVariable',\n\t\t\t\t\t\t\t\t\t'SettingValueVariable'\n\t\t\t\t\t\t\t\t]))\n\t\t'''\n\n\t\t#Check\n\t\tif self.SettingKeyVariable=='NodePointDeriveNoder' and self.SettingValueVariable!=None:\n\n\t\t\t#debug\n\t\t\t'''\n\t\t\tself.debug(('self.',self,['NodePointDeriveNoder']))\n\t\t\t'''\n\t\t\t\n\t\t\t#settle\n\t\t\tself.settle()\n\n\t\t#return \n\t\t#return OutputDict\n\t\t\t\n#</DefineClass>\n\n\n```\n\n<small>\nView the Settler sources on <a href=\"https://github.com/Ledoux/ShareYourSystem/tree/master/Pythonlogy/ShareYourSystem/Noders/Settler\" target=\"_blank\">Github</a>\n</small>\n\n", 
          "cell_type": "markdown", 
          "prompt_number": 1, 
          "metadata": {
            "slideshow": {
              "slide_type": "subslide"
            }
          }
        }, 
        {
          "source": "\n<!---\nFrozenIsBool True\n-->\n\n##Example\n\nLet's create an empty class, which will automatically receive\nspecial attributes from the decorating ClassorClass,\nspecially the NameStr, that should be the ClassStr\nwithout the TypeStr in the end.", 
          "cell_type": "markdown", 
          "prompt_number": 2, 
          "metadata": {
            "slideshow": {
              "slide_type": "subslide"
            }
          }
        }, 
        {
          "source": "```python\n#ImportModules\nimport ShareYourSystem as SYS\nfrom ShareYourSystem.Noders import Settler\n\n#Short expression and set in the appended manner\nMySettler=Settler.SettlerClass().__setitem__(\n    '<Settlome>ChildSettler',\n    Settler.SettlerClass()\n).update(\n    [\n        (\n            '<Settlome>GrandFirstChildSettler',\n            Settler.SettlerClass()\n        ),\n        (\n            '<Settlome>GrandSecondChildSettler',\n            Settler.SettlerClass(**{\n                'SettlingParentBool':True,\n                'SettlingLinkBool':True\n                }\n                ).__setitem__(\n                'LinkingPointListsList',\n                [\n        ('/NodePointDeriveNoder/<Settlome>GrandFirstChildSettler','GrandFirstChildSettler')\n                ]\n            )\n        )\n    ]\n)\n\n\n\n#Definition the AttestedStr\nSYS._attest(\n    [\n        'MySettler is '+SYS._str(\n        MySettler,\n        **{\n            'RepresentingBaseKeyStrsListBool':False,\n            'RepresentingAlineaIsBool':False\n        }\n        )\n    ]\n) \n#Print\n\n\n\n```\n", 
          "cell_type": "markdown", 
          "metadata": {}
        }, 
        {
          "source": "```console\n>>>\n\n\n*****Start of the Attest *****\n\nMySettler is < (SettlerClass), 4555534992>\n   /{ \n   /  '<New><Instance>IdInt' : 4555534992\n   /  '<New><Instance>NodeCollectionStr' : Globals\n   /  '<New><Instance>NodeIndexInt' : -1\n   /  '<New><Instance>NodeKeyStr' : TopSettler\n   /  '<New><Instance>NodePointDeriveNoder' : None\n   /  '<New><Instance>NodePointOrderedDict' : None\n   /  '<New><Instance>SettlomeCollectionOrderedDict' : \n   /   /{ \n   /   /  'ChildSettler' : < (SettlerClass), 4555578640>\n   /   /   /{ \n   /   /   /  '<New><Instance>IdInt' : 4555578640\n   /   /   /  '<New><Instance>NodeCollectionStr' : Settlome\n   /   /   /  '<New><Instance>NodeIndexInt' : 0\n   /   /   /  '<New><Instance>NodeKeyStr' : ChildSettler\n   /   /   /  '<New><Instance>NodePointDeriveNoder' : {...}< (SettlerClass), 4555534992>\n   /   /   /  '<New><Instance>NodePointOrderedDict' : {...}< (OrderedDict), 4555699440>\n   /   /   /  '<Spe><Class>SettlingLinkBool' : False\n   /   /   /  '<Spe><Class>SettlingParentBool' : False\n   /   /   /}\n   /   /  'GrandFirstChildSettler' : < (SettlerClass), 4555497808>\n   /   /   /{ \n   /   /   /  '<New><Instance>IdInt' : 4555497808\n   /   /   /  '<New><Instance>NodeCollectionStr' : Settlome\n   /   /   /  '<New><Instance>NodeIndexInt' : 1\n   /   /   /  '<New><Instance>NodeKeyStr' : GrandFirstChildSettler\n   /   /   /  '<New><Instance>NodePointDeriveNoder' : {...}< (SettlerClass), 4555534992>\n   /   /   /  '<New><Instance>NodePointOrderedDict' : {...}< (OrderedDict), 4555699440>\n   /   /   /  '<Spe><Class>SettlingLinkBool' : False\n   /   /   /  '<Spe><Class>SettlingParentBool' : False\n   /   /   /}\n   /   /  'GrandSecondChildSettler' : < (SettlerClass), 4555497936>\n   /   /   /{ \n   /   /   /  '<New><Instance>GrandFirstChildSettler' : {...}< (SettlerClass), 4555497808>\n   /   /   /  '<New><Instance>IdInt' : 4555497936\n   /   /   /  '<New><Instance>NodeCollectionStr' : Settlome\n   /   /   /  '<New><Instance>NodeIndexInt' : 2\n   /   /   /  '<New><Instance>NodeKeyStr' : GrandSecondChildSettler\n   /   /   /  '<New><Instance>NodePointDeriveNoder' : {...}< (SettlerClass), 4555534992>\n   /   /   /  '<New><Instance>NodePointOrderedDict' : {...}< (OrderedDict), 4555699440>\n   /   /   /  '<Spe><Instance>SettlingLinkBool' : True\n   /   /   /  '<Spe><Instance>SettlingParentBool' : True\n   /   /   /}\n   /   /}\n   /  '<Spe><Class>SettlingLinkBool' : False\n   /  '<Spe><Class>SettlingParentBool' : False\n   /}\n\n*****End of the Attest *****\n\n\n\n```\n", 
          "cell_type": "markdown", 
          "metadata": {}
        }
      ]
    }
  ], 
  "metadata": {
    "name": "", 
    "signature": ""
  }, 
  "nbformat_minor": 0
}