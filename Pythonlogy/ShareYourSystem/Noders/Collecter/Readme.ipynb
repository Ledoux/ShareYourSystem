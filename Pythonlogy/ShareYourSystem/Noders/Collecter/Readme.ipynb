{
  "nbformat": 3, 
  "worksheets": [
    {
      "cells": [
        {
          "source": "\n<!--\nFrozenIsBool False\n-->\n\n#Collecter\n\n##Doc\n----\n\n\n> \n> Collecter instances\n> \n> \n\n----\n\n<small>\nView the Collecter notebook on [NbViewer](http://nbviewer.ipython.org/url/shareyoursystem.ouvaton.org/Collecter.ipynb)\n</small>\n\n", 
          "cell_type": "markdown", 
          "prompt_number": 0, 
          "metadata": {
            "slideshow": {
              "slide_type": "slide"
            }
          }
        }, 
        {
          "source": "\n<!--\nFrozenIsBool False\n-->\n\n##Code\n\n----\n\n<ClassDocStr>\n\n----\n\n```python\n# -*- coding: utf-8 -*-\n\"\"\"\n\n\n<DefineSource>\n@Date : Fri Nov 14 13:20:38 2014 \\n\n@Author : Erwan Ledoux \\n\\n\n</DefineSource>\n\n\nCollecter instances\n\n\"\"\"\n\n#<DefineAugmentation>\nimport ShareYourSystem as SYS\nBaseModuleStr=\"ShareYourSystem.Noders.Parenter\"\nDecorationModuleStr=\"ShareYourSystem.Classors.Classer\"\nSYS.setSubModule(globals())\n#</DefineAugmentation>\n\n#<ImportSpecificModules>\nfrom ShareYourSystem.Classors import Doer\nfrom ShareYourSystem.Noders import Noder\n#</ImportSpecificModules>\n\n#<DefineClass>\n@DecorationClass()\nclass CollecterClass(BaseClass):\n\t\n\t#Definition\n\tRepresentingKeyStrsList=[\t\n\t\t\t\t\t\t\t\t\t'CollectingCollectionStr',\n\t\t\t\t\t\t\t\t\t'CollectingNodeKeyStr',\n\t\t\t\t\t\t\t\t\t'CollectingNodeVariable',\n\t\t\t\t\t\t\t\t\t'CollectedGetStr',\n\t\t\t\t\t\t\t\t\t'CollectedSuffixStr',\n\t\t\t\t\t\t\t\t\t'CollectedSetKeyStr'\n\t\t\t\t\t\t\t\t]\n\n\t#@Hooker.HookerClass(**{'HookingAfterVariablesList':[{'CallingVariable':BaseClass.__init__}]})\n\tdef default_init(self,\n\t\t\t\t\t\t_CollectingCollectionStr=\"\",\n\t\t\t\t\t\t_CollectingNodeKeyStr=\"\",\n\t\t\t\t\t\t_CollectingNodeVariable=None,\n\t\t\t\t\t\t_CollectedGetStr=\"\",\n\t\t\t\t\t\t_CollectedSuffixStr=\"\",\n\t\t\t\t\t\t_CollectedSetKeyStr=\"\",\n\t\t\t\t\t\t**_KwargVariablesDict\n\t\t\t\t\t):\n\n\t\t#Call the parent init method\n\t\tBaseClass.__init__(self,**_KwargVariablesDict)\n\n\tdef do_collect(self):\n\t\t\n\t\t#debug\n\t\t'''\n\t\tself.debug(('self.',self,[\n\t\t\t\t\t\t'CollectingCollectionStr',\n\t\t\t\t\t\t'CollectingNodeKeyStr',\n\t\t\t\t\t\t'CollectingNodeVariable'\n\t\t\t\t\t]))\n\t\t'''\n\t\t\n\t\t#Set\n\t\tself.CollectedGetStr=Noder.NodingPrefixGetStr+self.CollectingCollectionStr+Noder.NodingSuffixGetStr\n\n\t\t#Add a typing suffix Str\n\t\tif hasattr(self.CollectingNodeVariable.__class__,'NameStr'):\n\t\t\tself.CollectedSuffixStr=self.CollectingNodeVariable.__class__.NameStr  \n\t\telse:\n\t\t\tCollectedTypeStr=type(self.CollectingNodeVariable).__name__\n\t\t\tself.CollectedSuffixStr=CollectedTypeStr[0].upper()+CollectedTypeStr[1:]\n\n\t\t#set\n\t\tself.CollectedSetKeyStr=self.CollectedGetStr+self.CollectingNodeKeyStr+self.CollectedSuffixStr\n\n\t\t#debug\n\t\t'''\n\t\tself.debug(('self.',self,['CollectedSetKeyStr']))\n\t\t'''\n\t\t\n\t\t#node\n\t\tself[self.CollectedSetKeyStr]=self.CollectingNodeVariable\n\n#</DefineClass>\n\n\n```\n\n<small>\nView the Collecter sources on <a href=\"https://github.com/Ledoux/ShareYourSystem/tree/master/Pythonlogy/ShareYourSystem/Noders/Collecter\" target=\"_blank\">Github</a>\n</small>\n\n", 
          "cell_type": "markdown", 
          "prompt_number": 1, 
          "metadata": {
            "slideshow": {
              "slide_type": "subslide"
            }
          }
        }, 
        {
          "source": "```python\n\n#ImportModules\nimport ShareYourSystem as SYS\nfrom ShareYourSystem.Noders import Noder,Collecter\n\n#Definition of an instance\nMyCollecter=Collecter.CollecterClass().collect(\n    'Nodome',\n    'First',\n    Noder.NoderClass()\n).collect(\n    'Nodome',\n    'Second',\n    Noder.NoderClass()\n)\n\n#Definition the AttestedStr\nSYS._attest(\n    [\n        'MyCollecter is '+SYS._str(\n        MyCollecter,\n        **{\n            'RepresentingBaseKeyStrsListBool':False,\n            'RepresentingAlineaIsBool':False\n        }\n        )\n    ]\n) \n\n#Print\n\n\n\n```\n", 
          "cell_type": "markdown", 
          "metadata": {}
        }, 
        {
          "source": "```console\n>>>\n\n\n*****Start of the Attest *****\n\nMyCollecter is < (CollecterClass), 4555207312>\n   /{ \n   /  '<New><Instance>IdInt' : 4555207312\n   /  '<New><Instance>NodeCollectionStr' : Globals\n   /  '<New><Instance>NodeIndexInt' : -1\n   /  '<New><Instance>NodeKeyStr' : TopCollecter\n   /  '<New><Instance>NodePointDeriveNoder' : None\n   /  '<New><Instance>NodePointOrderedDict' : None\n   /  '<New><Instance>NodomeCollectionOrderedDict' : \n   /   /{ \n   /   /  'FirstNoder' : < (NoderClass), 4540175184>\n   /   /   /{ \n   /   /   /  '<New><Instance>IdInt' : 4540175184\n   /   /   /  '<New><Instance>NodeCollectionStr' : Nodome\n   /   /   /  '<New><Instance>NodeIndexInt' : 0\n   /   /   /  '<New><Instance>NodeKeyStr' : FirstNoder\n   /   /   /  '<New><Instance>NodePointDeriveNoder' : {...}< (CollecterClass), 4555207312>\n   /   /   /  '<New><Instance>NodePointOrderedDict' : {...}< (OrderedDict), 4556378488>\n   /   /   /  '<Spe><Class>NodedCollectionIndexInt' : -1\n   /   /   /  '<Spe><Class>NodedCollectionOrderedDict' : None\n   /   /   /  '<Spe><Class>NodedCollectionStr' : \n   /   /   /  '<Spe><Class>NodedKeyStr' : \n   /   /   /  '<Spe><Class>NodingCollectionStr' : \n   /   /   /}\n   /   /  'SecondNoder' : < (NoderClass), 4555576272>\n   /   /   /{ \n   /   /   /  '<New><Instance>IdInt' : 4555576272\n   /   /   /  '<New><Instance>NodeCollectionStr' : Nodome\n   /   /   /  '<New><Instance>NodeIndexInt' : 1\n   /   /   /  '<New><Instance>NodeKeyStr' : SecondNoder\n   /   /   /  '<New><Instance>NodePointDeriveNoder' : {...}< (CollecterClass), 4555207312>\n   /   /   /  '<New><Instance>NodePointOrderedDict' : {...}< (OrderedDict), 4556378488>\n   /   /   /  '<Spe><Class>NodedCollectionIndexInt' : -1\n   /   /   /  '<Spe><Class>NodedCollectionOrderedDict' : None\n   /   /   /  '<Spe><Class>NodedCollectionStr' : \n   /   /   /  '<Spe><Class>NodedKeyStr' : \n   /   /   /  '<Spe><Class>NodingCollectionStr' : \n   /   /   /}\n   /   /}\n   /  '<Spe><Instance>CollectedGetStr' : <Nodome>\n   /  '<Spe><Instance>CollectedSetKeyStr' : <Nodome>SecondNoder\n   /  '<Spe><Instance>CollectedSuffixStr' : Noder\n   /  '<Spe><Instance>CollectingCollectionStr' : Nodome\n   /  '<Spe><Instance>CollectingNodeKeyStr' : Second\n   /  '<Spe><Instance>CollectingNodeVariable' : {...}< (NoderClass), 4555576272>\n   /}\n\n*****End of the Attest *****\n\n\n\n```\n", 
          "cell_type": "markdown", 
          "metadata": {}
        }
      ]
    }
  ], 
  "metadata": {
    "name": "", 
    "signature": ""
  }, 
  "nbformat_minor": 0
}