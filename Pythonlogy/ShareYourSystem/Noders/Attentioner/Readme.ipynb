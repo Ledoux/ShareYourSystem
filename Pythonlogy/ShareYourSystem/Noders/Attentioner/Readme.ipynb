{
  "nbformat": 3, 
  "worksheets": [
    {
      "cells": [
        {
          "source": "\n<!--\nFrozenIsBool False\n-->\n\n#Attentioner\n\n##Doc\n----\n\n\n> \n> Attentioner instances grasp a Variable and make inside a catch to the original\n> instance\n> \n> \n\n----\n\n<small>\nView the Attentioner notebook on [NbViewer](http://nbviewer.ipython.org/url/shareyoursystem.ouvaton.org/Attentioner.ipynb)\n</small>\n\n", 
          "cell_type": "markdown", 
          "prompt_number": 0, 
          "metadata": {
            "slideshow": {
              "slide_type": "slide"
            }
          }
        }, 
        {
          "source": "\n<!--\nFrozenIsBool False\n-->\n\n##Code\n\n----\n\n<ClassDocStr>\n\n----\n\n```python\n# -*- coding: utf-8 -*-\n\"\"\"\n\n\n<DefineSource>\n@Date : Fri Nov 14 13:20:38 2014 \\n\n@Author : Erwan Ledoux \\n\\n\n</DefineSource>\n\n\nAttentioner instances grasp a Variable and make inside a catch to the original\ninstance\n\n\"\"\"\n\n#<DefineAugmentation>\nimport ShareYourSystem as SYS\nBaseModuleStr=\"ShareYourSystem.Noders.Catcher\"\nDecorationModuleStr=\"ShareYourSystem.Classors.Classer\"\nSYS.setSubModule(globals())\n#</DefineAugmentation>\n\n#<ImportSpecificModules>\nfrom ShareYourSystem.Classors import Doer\nfrom ShareYourSystem.Noders import Noder\n#</ImportSpecificModules>\n\n#<DefineClass>\n@DecorationClass()\nclass AttentionerClass(BaseClass):\n\t\n\t#Definition\n\tRepresentingKeyStrsList=[\n\t\t\t\t\t\t\t\t'AttentioningCollectionStr'\n\t\t\t\t\t\t\t]\n\n\tdef default_init(self,\n\t\t\t\t\t\t_AttentioningCollectionStr=\"\",\n\t\t\t\t\t\t**_KwargVariablesDict\n\t\t\t\t\t):\n\n\t\t#Call the parent init method\n\t\tBaseClass.__init__(self,**_KwargVariablesDict)\n\n\tdef do_attention(self):\n\t\t\n\t\t#debug\n\t\t'''\n\t\tself.debug(('self.',self,['CatchingCollectionStr']))\n\t\t'''\n\t\t\n\t\t#set\n\t\tif self.AttentioningCollectionStr==\"\":\n\t\t\tself.AttentioningCollectionStr=self.CollectingCollectionStr\n\n\t\t#debug\n\t\tself.debug(\n\t\t\t\t\t('self.',self,[\n\t\t\t\t\t\t\t'AttentioningCollectionStr',\n\t\t\t\t\t\t\t'GraspingClueVariable'\n\t\t\t\t\t\t\t])\n\t\t\t\t)\n\t\t\n\t\t#poitn in the other way\n\t\tself.GraspedAnswerVariable.grasp(\n\t\t\t\tself\n\t\t\t).catch(\n\t\t\t\tself.AttentioningCollectionStr\n\t\t\t)\n\n\t\t\n\n#</DefineClass>\n\n\n```\n\n<small>\nView the Attentioner sources on <a href=\"https://github.com/Ledoux/ShareYourSystem/tree/master/Pythonlogy/ShareYourSystem/Noders/Attentioner\" target=\"_blank\">Github</a>\n</small>\n\n", 
          "cell_type": "markdown", 
          "prompt_number": 1, 
          "metadata": {
            "slideshow": {
              "slide_type": "subslide"
            }
          }
        }, 
        {
          "source": "```python\n\n#ImportModules\nimport ShareYourSystem as SYS\nfrom ShareYourSystem.Applyiers import Producer\nfrom ShareYourSystem.Noders import Attentioner\n\n#Definition of an instance\nMyProducer=Producer.ProducerClass().produce(\n            ['First','Second'],\n            Attentioner.AttentionerClass,\n            **{'CollectingCollectionStr':\"Pointome\"}\n        )\n\n#attention\nMyProducer['<Pointome>FirstAttentioner'].grasp(\n        '/NodePointDeriveNoder/<Pointome>SecondAttentioner'\n    ).attention(\n        'BackRelatome'\n    )\n\n#Definition the AttestedStr\nSYS._attest(\n    [\n        'MyProducer is '+SYS._str(\n        MyProducer,\n        **{\n            'RepresentingBaseKeyStrsListBool':False,\n            'RepresentingAlineaIsBool':False\n        }\n        )\n    ]\n) \n\n#Print\n\n\n\n```\n", 
          "cell_type": "markdown", 
          "metadata": {}
        }, 
        {
          "source": "```console\n>>>\n                    \n                    xxxxxxxxxxxxxxxxxxxxxxxxxxxxxxxxxxxxxxxxxxxxxxxxxxxxxxxxxxxxxxxxxxxxxxxxxxxxxxxxxxxxxxxxxxxx\n                    ////////////////////////////////\n                    Attentioner/__init__.py do_attention\n                    From Attentioner/__init__.py do_attention | site-packages/six.py exec_ | Celler/__init__.py do_cell | Notebooker/__init__.py do_notebook | Documenter/__init__.py do_inform | inform.py <module>\n                    ////////////////////////////////\n                    \n                    l.60 : \n                    *****\n                    I am with [('NodeKeyStr', 'FirstAttentioner')]\n                    *****\n                    self.AttentioningCollectionStr is BackRelatome\n                    self.GraspingClueVariable is /NodePointDeriveNoder/<Pointome>SecondAttentioner\n                    \n                    xxxxxxxxxxxxxxxxxxxxxxxxxxxxxxxxxxxxxxxxxxxxxxxxxxxxxxxxxxxxxxxxxxxxxxxxxxxxxxxxxxxxxxxxxxxx\n                                        \n\n\n*****Start of the Attest *****\n\nMyProducer is < (ProducerClass), 4555536272>\n   /{ \n   /  '<New><Instance>IdInt' : 4555536272\n   /  '<New><Instance>NodeCollectionStr' : Globals\n   /  '<New><Instance>NodeIndexInt' : -1\n   /  '<New><Instance>NodeKeyStr' : TopProducer\n   /  '<New><Instance>NodePointDeriveNoder' : None\n   /  '<New><Instance>NodePointOrderedDict' : None\n   /  '<New><Instance>PointomeCollectionOrderedDict' : \n   /   /{ \n   /   /  'FirstAttentioner' : < (AttentionerClass), 4555633872>\n   /   /   /{ \n   /   /   /  '<New><Instance>IdInt' : 4555633872\n   /   /   /  '<New><Instance>NodeCollectionStr' : Pointome\n   /   /   /  '<New><Instance>NodeIndexInt' : 0\n   /   /   /  '<New><Instance>NodeKeyStr' : FirstAttentioner\n   /   /   /  '<New><Instance>NodePointDeriveNoder' : {...}< (ProducerClass), 4555536272>\n   /   /   /  '<New><Instance>NodePointOrderedDict' : {...}< (OrderedDict), 4556380560>\n   /   /   /  '<Spe><Instance>AttentioningCollectionStr' : BackRelatome\n   /   /   /}\n   /   /  'SecondAttentioner' : < (AttentionerClass), 4555634960>\n   /   /   /{ \n   /   /   /  '<New><Instance>BackRelatomeCollectionOrderedDict' : \n   /   /   /   /{ \n   /   /   /   /  'SecondAttentioner>TopProducer<FirstAttentionerPointer' : < (PointerClass), 4555635216>\n   /   /   /   /   /{ \n   /   /   /   /   /  '<New><Instance>IdInt' : 4555635216\n   /   /   /   /   /  '<New><Instance>CatchToPointVariable' : {...}< (AttentionerClass), 4555633872>\n   /   /   /   /   /  '<Spe><Class>PointedBackSetStr' : \n   /   /   /   /   /  '<Spe><Class>PointedPathBackVariable' : \n   /   /   /   /   /  '<Spe><Instance>PointedGetVariable' : {...}< (AttentionerClass), 4555633872>\n   /   /   /   /   /  '<Spe><Instance>PointedLocalSetStr' : CatchToPointVariable\n   /   /   /   /   /  '<Spe><Instance>PointingBackSetStr' : \n   /   /   /   /   /  '<Spe><Instance>PointingGetVariable' : {...}< (AttentionerClass), 4555633872>\n   /   /   /   /   /  '<Spe><Instance>PointingSetPathStr' : CatchToPointVariable\n   /   /   /   /   /}\n   /   /   /   /}\n   /   /   /  '<New><Instance>IdInt' : 4555634960\n   /   /   /  '<New><Instance>NodeCollectionStr' : Pointome\n   /   /   /  '<New><Instance>NodeIndexInt' : 1\n   /   /   /  '<New><Instance>NodeKeyStr' : SecondAttentioner\n   /   /   /  '<New><Instance>NodePointDeriveNoder' : {...}< (ProducerClass), 4555536272>\n   /   /   /  '<New><Instance>NodePointOrderedDict' : {...}< (OrderedDict), 4556380560>\n   /   /   /  '<Spe><Class>AttentioningCollectionStr' : \n   /   /   /}\n   /   /}\n   /  '<Spe><Class>ProducingUpdateVariable' : None\n   /  '<Spe><Instance>ProducedPushList' : \n   /   /[\n   /   /  0 : \n   /   /   /[\n   /   /   /  0 : First\n   /   /   /  1 : {...}< (AttentionerClass), 4555633872>\n   /   /   /]\n   /   /  1 : \n   /   /   /[\n   /   /   /  0 : Second\n   /   /   /  1 : {...}< (AttentionerClass), 4555634960>\n   /   /   /]\n   /   /]\n   /  '<Spe><Instance>ProducingCollectionKeyStrsList' : ['First', 'Second']\n   /  '<Spe><Instance>ProducingPushClass' : <class 'ShareYourSystem.Noders.Attentioner.AttentionerClass'>\n   /}\n\n*****End of the Attest *****\n\n\n\n```\n", 
          "cell_type": "markdown", 
          "metadata": {}
        }
      ]
    }
  ], 
  "metadata": {
    "name": "", 
    "signature": ""
  }, 
  "nbformat_minor": 0
}