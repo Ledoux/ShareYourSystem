{
  "nbformat": 3, 
  "worksheets": [
    {
      "cells": [
        {
          "source": "\n<!--\nFrozenIsBool False\n-->\n\n#Catcher\n\n##Doc\n----\n\n\n> Catcher instances grasps a Variable, sets a Pointer on it that will be then collected \n> \n> \n\n----\n\n<small>\nView the Catcher notebook on [NbViewer](http://nbviewer.ipython.org/url/shareyoursystem.ouvaton.org/Catcher.ipynb)\n</small>\n\n", 
          "cell_type": "markdown", 
          "prompt_number": 0, 
          "metadata": {
            "slideshow": {
              "slide_type": "slide"
            }
          }
        }, 
        {
          "source": "\n<!--\nFrozenIsBool False\n-->\n\n##Code\n\n----\n\n<ClassDocStr>\n\n----\n\n```python\n# -*- coding: utf-8 -*-\n\"\"\"\n\n\n<DefineSource>\n@Date : Fri Nov 14 13:20:38 2014 \\n\n@Author : Erwan Ledoux \\n\\n\n</DefineSource>\n\nCatcher instances grasps a Variable, sets a Pointer on it that will be then collected \n\n\"\"\"\n\n#<DefineAugmentation>\nimport ShareYourSystem as SYS\nBaseModuleStr=\"ShareYourSystem.Applyiers.Producer\"\nDecorationModuleStr=\"ShareYourSystem.Classors.Classer\"\nSYS.setSubModule(globals())\n#</DefineAugmentation>\n\n#<ImportSpecificModules>\nfrom ShareYourSystem.Itemizers import Pointer\nfrom ShareYourSystem.Noders import Noder\nimport collections\n#</ImportSpecificModules>\n\n#<DefineClass>\n@DecorationClass()\nclass CatcherClass(BaseClass):\n\t\n\t#Definition\n\tRepresentingKeyStrsList=[\n\t\t\t\t\t\t\t\t'CatchingCollectionStr',\n\t\t\t\t\t\t\t\t'CatchingUpdateVariable',\n\t\t\t\t\t\t\t\t'CatchingNodeKeyStr',\n\t\t\t\t\t\t\t\t'CatchingDefaultNodeKeyStrBool',\n\t\t\t\t\t\t\t\t'CatchingDerivePointerClass',\n\t\t\t\t\t\t\t\t'CatchingPointBackSetStr',\n\t\t\t\t\t\t\t\t'CatchedGraspVariable',\n\t\t\t\t\t\t\t\t'CatchedNodeKeyStr',\n\t\t\t\t\t\t\t\t'CatchedDerivePointerVariable'\n\t\t\t\t\t\t\t]\n\n\tdef default_init(self,\n\t\t\t\t\t\t_CatchingCollectionStr=\"\",\n\t\t\t\t\t\t_CatchingUpdateVariable=None,\n\t\t\t\t\t\t_CatchingNodeKeyStr=\"\",\n\t\t\t\t\t\t_CatchingDefaultNodeKeyStrBool=True,\n\t\t\t\t\t\t_CatchingDerivePointerClass=Pointer.PointerClass,\n\t\t\t\t\t\t_CatchingPointBackSetStr=\"\",\n\t\t\t\t\t\t_CatchedGraspVariable=None,\n\t\t\t\t\t\t_CatchedNodeKeyStr=\"\",\n\t\t\t\t\t\t_CatchedDerivePointerVariable=None,\n\t\t\t\t\t\t**_KwargVariablesDict\n\t\t\t\t\t):\n\n\t\t#Call the parent init method\n\t\tBaseClass.__init__(self,**_KwargVariablesDict)\n\n\tdef do_catch(self):\n\t\t\n\t\t#debug\n\t\t'''\n\t\tself.debug(\n\t\t\t\t\t('self.',self,[\n\t\t\t\t\t\t\t\t\t'CollectingCollectionStr',\n\t\t\t\t\t\t\t\t\t'GraspingClueVariable'\n\t\t\t\t\t\t\t\t])\n\t\t\t\t)\n\t\t'''\n\t\t\n\t\t#grasp\n\t\t'''\n\t\tself.grasp(\n\t\t\tself.GraspingClueVariable\n\t\t)\n\t\t'''\n\n\t\t#link\n\t\tif type(self.GraspingClueVariable)==SYS.GraspDictClass:\n\t\t\tself.CatchingUpdateVariable=self.GraspingClueVariable\n\n\t\t#Defaut set for the collection keyStr\n\t\tif self.CatchingDefaultNodeKeyStrBool:\n\n\t\t\t#Check\n\t\t\tCatchedGetStr=\">UnknowPath<\"\n\t\t\tif type(self.GraspingClueVariable) in SYS.StrTypesList:\n\t\t\t\t\n\t\t\t\t#set\n\t\t\t\tCatchedGetStr=self.GraspingClueVariable\n\n\t\t\telif type(self.GraspingClueVariable)==SYS.GraspDictClass and type(\n\t\t\t\tself.GraspingClueVariable['HintVariable']) in SYS.StrTypesList:\n\n\t\t\t\t#set\n\t\t\t\tCatchedGetStr=self.GraspingClueVariable['HintVariable']\n\n\t\t\telif hasattr(self.GraspedAnswerVariable,'parent'):\n\n\t\t\t\t#Get the up\n\t\t\t\tCatchedUpNodeKeyStrsList=(self.parent(\n\t\t\t\t\t).ParentedPathStr+'/'+self.NodeKeyStr).split('/')\n\t\t\t\tCatchedUpNodeKeyStrsList.reverse()\n\t\t\t\tCatchedUpPathStr='/'.join(CatchedUpNodeKeyStrsList[:-1])\n\n\t\t\t\t#Get the down\n\t\t\t\tCatchedDownNodeKeyStrsList=(self.GraspedAnswerVariable.parent(\n\t\t\t\t\t).ParentedPathStr+'/'+self.GraspedAnswerVariable.NodeKeyStr).split('/')\n\t\t\t\tCatchedDownPathStr='/'.join(CatchedDownNodeKeyStrsList[1:])\n\n\t\t\t\t#Get the top\n\t\t\t\tCatchedTopStr=CatchedUpNodeKeyStrsList[-1]\n\n\t\t\t\tif CatchedUpNodeKeyStrsList[-1]==CatchedDownNodeKeyStrsList[0]:\n\n\t\t\t\t\t#set\n\t\t\t\t\tCatchedGetStr=CatchedUpPathStr+'>'+CatchedTopStr+'<'+CatchedDownPathStr\t\t\t\t\t\n\n\t\t\t#set\n\t\t\tself.CatchedNodeKeyStr=CatchedGetStr\n\n\t\telse:\n\n\t\t\t#Look for one\n\t\t\tself.CatchedNodeKeyStr=self.CatchingNodeKeyStr\n\t\t\t\n\t\t#adapt the \n\t\tself.CatchedNodeKeyStr=self.CatchedNodeKeyStr.replace('/','_')\n\n\t\t#debug\n\t\t'''\n\t\tself.debug(\n\t\t\t\t\t('self.',self,[\n\t\t\t\t\t\t\t\t\t'CatchingCollectionStr',\n\t\t\t\t\t\t\t\t\t'CatchedNodeKeyStr'\n\t\t\t\t\t\t\t\t])\n\t\t\t\t\t)\n\t\t'''\n\n\t\t#Check\n\t\tif self.CatchingCollectionStr==\"\":\n\t\t\tself.CatchingCollectionStr=self.CollectingCollectionStr\n\n\t\t#init\n\t\tself.CatchedDerivePointerVariable=self.CatchingDerivePointerClass(\n\t\t\t**{\n\t\t\t\t'PointingBackSetStr':self.CatchingPointBackSetStr\n\t\t\t}\n\t\t).point(\n\t\t\tself.GraspedAnswerVariable,\n\t\t\t'CatchToPointVariable'\n\t\t)\n\n\t\t#debug\n\t\t'''\n\t\tself.debug(\n\t\t\t\t\t('self.',self,[\n\t\t\t\t\t\t\t\t\t'CatchedDerivePointerVariable'\n\t\t\t\t\t\t\t\t])\n\t\t\t\t\t)\n\t\t'''\n\t\t\n\t\t#collect and update\n\t\tself.collect(\n\t\t\tself.CatchingCollectionStr,\n\t\t\tself.CatchedNodeKeyStr,\n\t\t\tself.CatchedDerivePointerVariable\n\t\t)\n\n\t\t#set\n\t\tself.CatchedDerivePointerVariable.update(\n\t\t\tself.CatchingUpdateVariable\n\t\t)\n\n#</DefineClass>\n\n\n```\n\n<small>\nView the Catcher sources on <a href=\"https://github.com/Ledoux/ShareYourSystem/tree/master/Pythonlogy/ShareYourSystem/Noders/Catcher\" target=\"_blank\">Github</a>\n</small>\n\n", 
          "cell_type": "markdown", 
          "prompt_number": 1, 
          "metadata": {
            "slideshow": {
              "slide_type": "subslide"
            }
          }
        }, 
        {
          "source": "##Example\n\nWith a point back", 
          "cell_type": "markdown", 
          "prompt_number": 2, 
          "metadata": {
            "slideshow": {
              "slide_type": "subslide"
            }
          }
        }, 
        {
          "cell_type": "code", 
          "prompt_number": 3, 
          "language": "python", 
          "input": [
            "\n", 
            "#ImportModules\n", 
            "import ShareYourSystem as SYS\n", 
            "from ShareYourSystem.Applyiers import Producer\n", 
            "from ShareYourSystem.Noders import Catcher\n", 
            "\n", 
            "#Definition of an instance\n", 
            "MyProducer=Producer.ProducerClass().produce(\n", 
            "            ['First','Second'],\n", 
            "            Catcher.CatcherClass,\n", 
            "            **{'CollectingCollectionStr':\"Pointome\"}\n", 
            "        )\n", 
            "\n", 
            "#point\n", 
            "MyProducer['<Pointome>FirstCatcher'].grasp(\n", 
            "            '/NodePointDeriveNoder/<Pointome>SecondCatcher'\n", 
            "        ).catch(\n", 
            "            _PointBackSetStr='MyBackVariable',\n", 
            "            **{\n", 
            "                'CollectingCollectionStr':'Relatome',\n", 
            "            }\n", 
            "    )\n", 
            "\n", 
            "#Definition the AttestedStr\n", 
            "SYS._attest(\n", 
            "    [\n", 
            "        'MyProducer is '+SYS._str(\n", 
            "        MyProducer,\n", 
            "        **{\n", 
            "            'RepresentingBaseKeyStrsListBool':False,\n", 
            "            'RepresentingAlineaIsBool':False\n", 
            "        }\n", 
            "        )\n", 
            "    ]\n", 
            ") \n", 
            "\n", 
            "#Print\n", 
            "\n", 
            "\n"
          ], 
          "outputs": [
            {
              "output_type": "stream", 
              "stream": "stdout", 
              "text": [
                "\n", 
                "\n", 
                "*****Start of the Attest *****\n", 
                "\n", 
                "MyProducer is < (ProducerClass), 4557706512>\n", 
                "   /{ \n", 
                "   /  '<New><Instance>IdInt' : 4557706512\n", 
                "   /  '<New><Instance>NodeCollectionStr' : Globals\n", 
                "   /  '<New><Instance>NodeIndexInt' : -1\n", 
                "   /  '<New><Instance>NodeKeyStr' : TopProducer\n", 
                "   /  '<New><Instance>NodePointDeriveNoder' : None\n", 
                "   /  '<New><Instance>NodePointOrderedDict' : None\n", 
                "   /  '<New><Instance>PointomeCollectionOrderedDict' : \n", 
                "   /   /{ \n", 
                "   /   /  'FirstCatcher' : < (CatcherClass), 4556355856>\n", 
                "   /   /   /{ \n", 
                "   /   /   /  '<New><Instance>IdInt' : 4556355856\n", 
                "   /   /   /  '<New><Instance>NodeCollectionStr' : Pointome\n", 
                "   /   /   /  '<New><Instance>NodeIndexInt' : 0\n", 
                "   /   /   /  '<New><Instance>NodeKeyStr' : FirstCatcher\n", 
                "   /   /   /  '<New><Instance>NodePointDeriveNoder' : {...}< (ProducerClass), 4557706512>\n", 
                "   /   /   /  '<New><Instance>NodePointOrderedDict' : {...}< (OrderedDict), 4557648544>\n", 
                "   /   /   /  '<New><Instance>RelatomeCollectionOrderedDict' : \n", 
                "   /   /   /   /{ \n", 
                "   /   /   /   /  '_NodePointDeriveNoder_<Pointome>SecondCatcherPointer' : < (PointerClass), 4555536528>\n", 
                "   /   /   /   /   /{ \n", 
                "   /   /   /   /   /  '<New><Instance>IdInt' : 4555536528\n", 
                "   /   /   /   /   /  '<New><Instance>CatchToPointVariable' : < (CatcherClass), 4556357264>\n", 
                "   /   /   /   /   /   /{ \n", 
                "   /   /   /   /   /   /  '<New><Instance>IdInt' : 4556357264\n", 
                "   /   /   /   /   /   /  '<New><Instance>MyBackVariable' : {...}< (PointerClass), 4555536528>\n", 
                "   /   /   /   /   /   /  '<New><Instance>NodeCollectionStr' : Pointome\n", 
                "   /   /   /   /   /   /  '<New><Instance>NodeIndexInt' : 1\n", 
                "   /   /   /   /   /   /  '<New><Instance>NodeKeyStr' : SecondCatcher\n", 
                "   /   /   /   /   /   /  '<New><Instance>NodePointDeriveNoder' : {...}< (ProducerClass), 4557706512>\n", 
                "   /   /   /   /   /   /  '<New><Instance>NodePointOrderedDict' : {...}< (OrderedDict), 4557648544>\n", 
                "   /   /   /   /   /   /  '<Spe><Class>CatchedDerivePointerVariable' : None\n", 
                "   /   /   /   /   /   /  '<Spe><Class>CatchedGraspVariable' : None\n", 
                "   /   /   /   /   /   /  '<Spe><Class>CatchedNodeKeyStr' : \n", 
                "   /   /   /   /   /   /  '<Spe><Class>CatchingCollectionStr' : \n", 
                "   /   /   /   /   /   /  '<Spe><Class>CatchingDefaultNodeKeyStrBool' : True\n", 
                "   /   /   /   /   /   /  '<Spe><Class>CatchingDerivePointerClass' : <class 'ShareYourSystem.Itemizers.Pointer.PointerClass'>\n", 
                "   /   /   /   /   /   /  '<Spe><Class>CatchingNodeKeyStr' : \n", 
                "   /   /   /   /   /   /  '<Spe><Class>CatchingPointBackSetStr' : \n", 
                "   /   /   /   /   /   /  '<Spe><Class>CatchingUpdateVariable' : None\n", 
                "   /   /   /   /   /   /}\n", 
                "   /   /   /   /   /  '<Spe><Class>PointedBackSetStr' : \n", 
                "   /   /   /   /   /  '<Spe><Instance>PointedGetVariable' : {...}< (CatcherClass), 4556357264>\n", 
                "   /   /   /   /   /  '<Spe><Instance>PointedLocalSetStr' : CatchToPointVariable\n", 
                "   /   /   /   /   /  '<Spe><Instance>PointedPathBackVariable' : {...}< (PointerClass), 4555536528>\n", 
                "   /   /   /   /   /  '<Spe><Instance>PointingBackSetStr' : MyBackVariable\n", 
                "   /   /   /   /   /  '<Spe><Instance>PointingGetVariable' : {...}< (CatcherClass), 4556357264>\n", 
                "   /   /   /   /   /  '<Spe><Instance>PointingSetPathStr' : CatchToPointVariable\n", 
                "   /   /   /   /   /}\n", 
                "   /   /   /   /}\n", 
                "   /   /   /  '<Spe><Class>CatchedGraspVariable' : None\n", 
                "   /   /   /  '<Spe><Class>CatchingDefaultNodeKeyStrBool' : True\n", 
                "   /   /   /  '<Spe><Class>CatchingDerivePointerClass' : {...}< (type), 140476488083952>\n", 
                "   /   /   /  '<Spe><Class>CatchingNodeKeyStr' : \n", 
                "   /   /   /  '<Spe><Class>CatchingUpdateVariable' : None\n", 
                "   /   /   /  '<Spe><Instance>CatchedDerivePointerVariable' : {...}< (PointerClass), 4555536528>\n", 
                "   /   /   /  '<Spe><Instance>CatchedNodeKeyStr' : _NodePointDeriveNoder_<Pointome>SecondCatcher\n", 
                "   /   /   /  '<Spe><Instance>CatchingCollectionStr' : Relatome\n", 
                "   /   /   /  '<Spe><Instance>CatchingPointBackSetStr' : MyBackVariable\n", 
                "   /   /   /}\n", 
                "   /   /  'SecondCatcher' : {...}< (CatcherClass), 4556357264>\n", 
                "   /   /}\n", 
                "   /  '<Spe><Class>ProducingUpdateVariable' : None\n", 
                "   /  '<Spe><Instance>ProducedPushList' : \n", 
                "   /   /[\n", 
                "   /   /  0 : \n", 
                "   /   /   /[\n", 
                "   /   /   /  0 : First\n", 
                "   /   /   /  1 : {...}< (CatcherClass), 4556355856>\n", 
                "   /   /   /]\n", 
                "   /   /  1 : \n", 
                "   /   /   /[\n", 
                "   /   /   /  0 : Second\n", 
                "   /   /   /  1 : {...}< (CatcherClass), 4556357264>\n", 
                "   /   /   /]\n", 
                "   /   /]\n", 
                "   /  '<Spe><Instance>ProducingCollectionKeyStrsList' : ['First', 'Second']\n", 
                "   /  '<Spe><Instance>ProducingPushClass' : <class 'ShareYourSystem.Noders.Catcher.CatcherClass'>\n", 
                "   /}\n", 
                "\n", 
                "*****End of the Attest *****\n", 
                "\n", 
                "\n"
              ]
            }
          ], 
          "collapsed": false, 
          "metadata": {
            "slideshow": {
              "slide_type": "-"
            }
          }
        }
      ]
    }
  ], 
  "metadata": {
    "name": "", 
    "signature": ""
  }, 
  "nbformat_minor": 0
}