{
  "nbformat": 3, 
  "worksheets": [
    {
      "cells": [
        {
          "source": [
            "#Modeler\n", 
            " @Date : Fri Nov 14 13:20:38 2014 \n\n@Author : Erwan Ledoux \n\n\n\nThe Modeler defines the model to be stored in a database like Django or PyTable. Here are defined the relations between attributes of an instance and their corresponding types in the databased structures.\n\n\n"
          ], 
          "cell_type": "markdown", 
          "metadata": {}
        }, 
        {
          "source": "\n<!---\nFrozenIsBool True\n-->\n\n##Example\n\nLet's create an empty class, which will automatically receive\nspecial attributes from the decorating ClassorClass,\nspecially the NameStr, that should be the ClassStr\nwithout the TypeStr in the end.", 
          "cell_type": "markdown", 
          "prompt_number": 0, 
          "metadata": {}
        }, 
        {
          "source": "```python\n\n#ImportModules\nimport tables\nimport ShareYourSystem as SYS\nfrom ShareYourSystem.Objects import Modeler\n\n#Definition a Modeler instance\nMyModeler=Modeler.ModelerClass().model([\n                                        ('MyInt',tables.Int64Col()),\n                                        ('MyStr',tables.StrCol(10)),\n                                        ('MyIntsList',tables.Int64Col(shape=3))\n                                ],**{'DatabasingKeyStr':'Things'})\n        \n#Definition the AttestedStr\nSYS._attest(\n    [\n        'MyModeler is '+SYS._str(\n        MyModeler,\n        **{\n            'RepresentingBaseKeyStrsListBool':False\n        }\n        ),\n        'Modeler.ModeledClass.__dict__ is '+str(\n        MyModeler.ModeledClass.__dict__ if MyModeler.ModeledClass!=None else MyModeler.ModeledClass)\n    ]\n) \n\n#Print\nprint(AttestedStr)\n\n\n```\n", 
          "cell_type": "markdown", 
          "metadata": {}
        }, 
        {
          "source": "```console\n>>>\n    \n    xxxxxxxxxxxxxxxxxxxxxxxxxxxxxxxxxxxxxxxxxxxxxxxxxxxxxxxxxxxxxxxxxxxxxxxxxxxxxxxxxxxxxxxxxxxx\n    l.79 : \n    *****\n    I am with []\n    *****\n    \n    ---- Start of the method : SwitcherFunc@Argumenter.ArgumenterFunc@Modeler.model in Switcher/__init__.pyc ----\n    \n    xxxxxxxxxxxxxxxxxxxxxxxxxxxxxxxxxxxxxxxxxxxxxxxxxxxxxxxxxxxxxxxxxxxxxxxxxxxxxxxxxxxxxxxxxxxx\n        \n    \n    xxxxxxxxxxxxxxxxxxxxxxxxxxxxxxxxxxxxxxxxxxxxxxxxxxxxxxxxxxxxxxxxxxxxxxxxxxxxxxxxxxxxxxxxxxxx\n    ////////////////////////////////\n    Modeler/__init__.py model\n    From <Str> <module>\n    ////////////////////////////////\n    \n    l.90 : \n    *****\n    I am with []\n    *****\n    self.ModelingSealTuplesList is \n       /[\n       /  0 : \n       /   /(\n       /   /  0 : MyInt\n       /   /  1 : Int64Col(shape=(), dflt=0, pos=None)\n       /   /)\n       /  1 : \n       /   /(\n       /   /  0 : MyStr\n       /   /  1 : StrCol(itemsize=10, shape=(), dflt='', pos=None)\n       /   /)\n       /  2 : \n       /   /(\n       /   /  0 : MyIntsList\n       /   /  1 : Int64Col(shape=(3,), dflt=0, pos=None)\n       /   /)\n       /]\n    \n    xxxxxxxxxxxxxxxxxxxxxxxxxxxxxxxxxxxxxxxxxxxxxxxxxxxxxxxxxxxxxxxxxxxxxxxxxxxxxxxxxxxxxxxxxxxx\n        \n    \n    xxxxxxxxxxxxxxxxxxxxxxxxxxxxxxxxxxxxxxxxxxxxxxxxxxxxxxxxxxxxxxxxxxxxxxxxxxxxxxxxxxxxxxxxxxxx\n    l.101 : \n    *****\n    I am with []\n    *****\n    self.DatabasingKeyStr is Things\n    self.DatabasedSuffixStr is ThingsModel\n    \n    xxxxxxxxxxxxxxxxxxxxxxxxxxxxxxxxxxxxxxxxxxxxxxxxxxxxxxxxxxxxxxxxxxxxxxxxxxxxxxxxxxxxxxxxxxxx\n        \n    \n    xxxxxxxxxxxxxxxxxxxxxxxxxxxxxxxxxxxxxxxxxxxxxxxxxxxxxxxxxxxxxxxxxxxxxxxxxxxxxxxxxxxxxxxxxxxx\n    l.95 : \n    *****\n    I am with []\n    *****\n    \n    ---- End of the method : SwitcherFunc@Argumenter.ArgumenterFunc@Modeler.model in Switcher/__init__.pyc ----\n    \n    xxxxxxxxxxxxxxxxxxxxxxxxxxxxxxxxxxxxxxxxxxxxxxxxxxxxxxxxxxxxxxxxxxxxxxxxxxxxxxxxxxxxxxxxxxxx\n        \n\n\n*****Start of the Attest *****\n\nMyModeler is     < (ModelerClass), 4487894480>\n       /{ \n       /  '<New><Class>SwitchedClassDatabaseBool' : True\n       /  '<New><Class>SwitchedClassModelBool' : True\n       /  '<New><Class>SwitchingDatabaseBool' : False\n       /  '<New><Class>SwitchingModelBool' : False\n       /  '<New><Instance>SwitchingDatabaseBool' : True\n       /  '<New><Instance>SwitchingModelBool' : True\n       /  '<Spe><Class>ModeledClassesOrderedDict' : \n       /   /{ \n       /   /  'ThingsModel' : <class 'tables.description.ThingsModelClass'>\n       /   /}\n       /  '<Spe><Instance>ModeledClass' : <class 'tables.description.ThingsModelClass'>\n       /  '<Spe><Instance>ModeledKeyStr' : ThingsModel\n       /  '<Spe><Instance>ModelingSealTuplesList' : \n       /   /[\n       /   /  0 : \n   /   /   /(\n   /   /   /  0 : MyInt\n   /   /   /  1 : Int64Col(shape=(), dflt=0, pos=None)\n   /   /   /)\n       /   /  1 : \n   /   /   /(\n   /   /   /  0 : MyStr\n   /   /   /  1 : StrCol(itemsize=10, shape=(), dflt='', pos=None)\n   /   /   /)\n       /   /  2 : \n   /   /   /(\n   /   /   /  0 : MyIntsList\n   /   /   /  1 : Int64Col(shape=(3,), dflt=0, pos=None)\n   /   /   /)\n       /   /]\n       /}\n\n------\n\nModeler.ModeledClass.__dict__ is {'__module__': 'tables.description', '__doc__': None, 'columns': {'MyStr': StrCol(itemsize=10, shape=(), dflt='', pos=None), 'MyIntsList': Int64Col(shape=(3,), dflt=0, pos=None), 'MyInt': Int64Col(shape=(), dflt=0, pos=None), 'ModeledInt': Int64Col(shape=(), dflt=0, pos=None)}}\n\n*****End of the Attest *****\n\n\n\n\n```\n", 
          "cell_type": "markdown", 
          "metadata": {}
        }, 
        {
          "source": "\n<!--\nFrozenIsBool False\n-->\n\n##More Descriptions at the level of the class\n\nSpecial attributes of the ModelerClass are :\n", 
          "cell_type": "markdown", 
          "prompt_number": 2, 
          "metadata": {}
        }, 
        {
          "source": "```python\n\n\n\n#ImportModules\nimport ShareYourSystem as SYS\nfrom ShareYourSystem.Objects import Modeler\n        \n#Definition the AttestedStr\nSYS._attest(\n    [\n        'DefaultAttributeItemTuplesList is '+SYS._str(\n            Modeler.ModelerClass.DefaultAttributeItemTuplesList,\n            **{'RepresentingAlineaIsBool':False}\n        )\n    ]\n) \n\n#Print\nprint(AttestedStr)\n\n\n```\n", 
          "cell_type": "markdown", 
          "metadata": {}
        }, 
        {
          "source": "```console\n>>>\n\n\n*****Start of the Attest *****\n\nDefaultAttributeItemTuplesList is \n   /[\n   /  0 : \n   /   /(\n   /   /  0 : ModelingSealTuplesList\n   /   /  1 : []\n   /   /)\n   /  1 : \n   /   /(\n   /   /  0 : ModeledClassesOrderedDict\n   /   /  1 : \n   /   /   /{ \n   /   /   /}\n   /   /)\n   /  2 : ('ModeledClass', None)\n   /  3 : ('ModeledKeyStr', '')\n   /]\n\n*****End of the Attest *****\n\n\n\n\n```\n", 
          "cell_type": "markdown", 
          "metadata": {}
        }, 
        {
          "source": "\n<!--\nFrozenIsBool False\n-->\n\n##More Descriptions at the level of the instances\n\nA default call of an instance gives :\n", 
          "cell_type": "markdown", 
          "prompt_number": 4, 
          "metadata": {}
        }, 
        {
          "source": "```python\n\n\n\n#ImportModules\nfrom ShareYourSystem.Classors import Attester\nfrom ShareYourSystem.Objects import Modeler\n        \n#Definition the AttestedStr\nSYS._attest(\n    [\n        Modeler.ModelerClass()\n    ]\n) \n\n#Print\nprint(AttestedStr)\n\n\n\n```\n", 
          "cell_type": "markdown", 
          "metadata": {}
        }, 
        {
          "source": "```console\n>>>\n\n\n*****Start of the Attest *****\n\n< (ModelerClass), 4500475088>\n   /{ \n   /  '<Spe><Class>ModeledClass' : None\n   /  '<Spe><Class>ModeledClassesOrderedDict' : \n   /   /{ \n   /   /}\n   /  '<Spe><Class>ModeledKeyStr' : \n   /  '<Spe><Class>ModelingSealTuplesList' : []\n   /}\n\n*****End of the Attest *****\n\n\n\n\n```\n", 
          "cell_type": "markdown", 
          "metadata": {}
        }
      ]
    }
  ], 
  "metadata": {
    "name": "", 
    "signature": ""
  }, 
  "nbformat_minor": 0
}