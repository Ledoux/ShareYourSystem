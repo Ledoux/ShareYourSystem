{
  "nbformat": 3, 
  "worksheets": [
    {
      "cells": [
        {
          "source": "\n<!--\nFrozenIsBool False\n-->\n\n#Grasper\n\n##Doc\n----\n\n\n> \n> A Grasper can get a GraspedGetVariable depending if the GraspingGetVariable\n> is a PathStr, a GraspDict or directly the Variable itself.\n> \n> \n\n----\n\n<small>\nView the Grasper notebook on [NbViewer](http://nbviewer.ipython.org/url/shareyoursystem.ouvaton.org/Grasper.ipynb)\n</small>\n\n", 
          "cell_type": "markdown", 
          "prompt_number": 0, 
          "metadata": {
            "slideshow": {
              "slide_type": "slide"
            }
          }
        }, 
        {
          "source": "\n<!--\nFrozenIsBool False\n-->\n\n##Code\n\n----\n\n<ClassDocStr>\n\n----\n\n```python\n# -*- coding: utf-8 -*-\n\"\"\"\n\n\n<DefineSource>\n@Date : Fri Nov 14 13:20:38 2014 \\n\n@Author : Erwan Ledoux \\n\\n\n</DefineSource>\n\n\nA Grasper can get a GraspedGetVariable depending if the GraspingGetVariable\nis a PathStr, a GraspDict or directly the Variable itself.\n\n\"\"\"\n\n#<DefineAugmentation>\nimport ShareYourSystem as SYS\nBaseModuleStr=\"ShareYourSystem.Standards.Itemizers.Pather\"\nDecorationModuleStr=\"ShareYourSystem.Standards.Classors.Classer\"\nSYS.setSubModule(globals())\n#</DefineAugmentation>\n\n#<ImportSpecificModules>\nimport collections\n#</ImportSpecificModules>\n\n#<DefineLocals>\nclass GraspDictClass(collections.OrderedDict):pass\nSYS.GraspDictClass=GraspDictClass\n#</DefineLocals>\n\n#<DefineClass>\n@DecorationClass()\nclass GrasperClass(BaseClass):\n\n\t#Definition\n\tRepresentingKeyStrsList=[\n\t\t\t\t\t\t\t\t'GraspingClueVariable',\n\t\t\t\t\t\t\t\t'GraspedAnswerVariable',\t\n\t\t\t\t\t\t\t\t'GraspedClueVariableType'\n\t\t\t\t\t\t\t]\n\n\tdef default_init(self,\t\n\t\t\t\t_GraspingClueVariable=None,\n\t\t\t\t_GraspedAnswerVariable=None,\t\n\t\t\t\t_GraspedClueVariableType=None,\t\n\t\t\t\t**_KwargVariablesDict\n\t\t\t\t):\n\n\t\t#Call the parent init method\n\t\tBaseClass.__init__(self,**_KwargVariablesDict)\n\n\tdef do_grasp(self):\n\n\t\t#type\n\t\tself.GraspedClueVariableType=type(self.GraspingClueVariable)\n\n\t\t#debug\n\t\t'''\n\t\tself.debug(\n\t\t\t\t\t[\n\t\t\t\t\t\t('self.',self,[\n\t\t\t\t\t\t\t\t\t\t'GraspedClueVariableType',\n\t\t\t\t\t\t\t\t\t\t'GraspingClueVariable'\n\t\t\t\t\t\t\t\t\t])\n\t\t\t\t\t]\n\t\t\t\t)\n\t\t'''\n\t\t\n\t\t#Check\n\t\tif self.GraspedClueVariableType in SYS.StrTypesList:\n\n\t\t\t#debug\n\t\t\t'''\n\t\t\tself.debug('We get with a pathstr')\n\t\t\t'''\n\n\t\t\t#It is a get through a PathStr\n\t\t\tself.GraspedAnswerVariable=self[self.GraspingClueVariable]\n\n\t\telif self.GraspedClueVariableType==GraspDictClass:\n\n\t\t\t#debug\n\t\t\t'''\n\t\t\tself.debug('We get with a GraspDict')\n\t\t\t'''\n\n\t\t\t#Check\n\t\t\tif type(self.GraspingClueVariable['HintVariable']) in SYS.StrTypesList:\n\n\t\t\t\t#debug\n\t\t\t\t'''\n\t\t\t\tself.debug(\n\t\t\t\t\t\t\t[\n\t\t\t\t\t\t\t\t'We get with a pathstr in the GraspDict',\n\t\t\t\t\t\t\t\t\"self.GraspingClueVariable['HintVariable'] is \"+self.GraspingClueVariable['HintVariable']\n\t\t\t\t\t\t\t]\n\t\t\t\t\t\t)\n\t\t\t\t'''\n\t\t\t\t\n\t\t\t\t#The GraspDict has maybe a path str to get the thing\n\t\t\t\tself.GraspedAnswerVariable=self[self.GraspingClueVariable['HintVariable']]\n\n\t\t\telse:\n\n\t\t\t\t#debug\n\t\t\t\t'''\n\t\t\t\tself.debug('We get direct in the GraspDict')\n\t\t\t\t'''\n\n\t\t\t\t#The GraspDict has maybe a path str to get the thing\n\t\t\t\tself.GraspedAnswerVariable=self.GraspingClueVariable['HintVariable']\n\n\t\telse:\n\n\t\t\t#It is already getted\n\t\t\tself.GraspedAnswerVariable=self.GraspingClueVariable\n\n\n#</DefineClass>\n\n\n```\n\n<small>\nView the Grasper sources on <a href=\"https://github.com/Ledoux/ShareYourSystem/tree/master/Pythonlogy/ShareYourSystem/Itemizers/Grasper\" target=\"_blank\">Github</a>\n</small>\n\n", 
          "cell_type": "markdown", 
          "prompt_number": 1, 
          "metadata": {
            "slideshow": {
              "slide_type": "subslide"
            }
          }
        }, 
        {
          "source": "\n<!---\nFrozenIsBool True\n-->\n\n##Example\n\nLet's create an empty class, which will automatically receive\nspecial attributes from the decorating ClassorClass,\nspecially the NameStr, that should be the ClassStr\nwithout the TypeStr in the end.", 
          "cell_type": "markdown", 
          "prompt_number": 2, 
          "metadata": {
            "slideshow": {
              "slide_type": "subslide"
            }
          }
        }, 
        {
          "cell_type": "code", 
          "prompt_number": 3, 
          "language": "python", 
          "input": [
            "\n", 
            "#ImportModules\n", 
            "import ShareYourSystem as SYS\n", 
            "from ShareYourSystem.Standards.Itemizers import Grasper\n", 
            "\n", 
            "#Explicit expression\n", 
            "MyGrasper=Grasper.GrasperClass().__setitem__(\n", 
            "    'ChildGrasper',\n", 
            "    Grasper.GrasperClass().__setitem__('MyStr',\"hello\")\n", 
            ")\n", 
            "\n", 
            "#Return\n", 
            "SYS._attest(\n", 
            "    [\n", 
            "        \"MyGrasper.grasp('/ChildGrasper/MyStr').GraspedAnswerVariable is \"+\n", 
            "        str(\n", 
            "            MyGrasper.grasp('/ChildGrasper/MyStr').GraspedAnswerVariable\n", 
            "            ),\n", 
            "        \"MyGrasper.grasp(MyGrasper.ChildGrasper).GraspedAnswerVariable is \"+\n", 
            "        str(\n", 
            "            MyGrasper.grasp(MyGrasper.ChildGrasper).GraspedAnswerVariable\n", 
            "            ),\n", 
            "        \"MyGrasper.grasp(SYS.GraspDictClass(**{'HintVariable':'/ChildGrasper/MyStr'})).GraspedAnswerVariable is \"+\n", 
            "        str(\n", 
            "            MyGrasper.grasp(SYS.GraspDictClass(**{'HintVariable':'/ChildGrasper/MyStr'})\n", 
            "            ).GraspedAnswerVariable),\n", 
            "    ]\n", 
            ")\n", 
            "\n", 
            "#Print\n", 
            "\n", 
            "\n"
          ], 
          "outputs": [
            {
              "output_type": "stream", 
              "stream": "stdout", 
              "text": [
                "\n", 
                "\n", 
                "*****Start of the Attest *****\n", 
                "\n", 
                "MyGrasper.grasp('/ChildGrasper/MyStr').GraspedAnswerVariable is hello\n", 
                "\n", 
                "------\n", 
                "\n", 
                "MyGrasper.grasp(MyGrasper.ChildGrasper).GraspedAnswerVariable is < (GrasperClass), 4555208400>\n", 
                "   /{ \n", 
                "   /  '<New><Instance>IdInt' : 4555208400\n", 
                "   /  '<New><Instance>MyStr' : hello\n", 
                "   /  '<Spe><Class>GraspedAnswerVariable' : None\n", 
                "   /  '<Spe><Class>GraspedClueVariableType' : None\n", 
                "   /  '<Spe><Class>GraspingClueVariable' : None\n", 
                "   /}\n", 
                "\n", 
                "------\n", 
                "\n", 
                "MyGrasper.grasp(SYS.GraspDictClass(**{'HintVariable':'/ChildGrasper/MyStr'})).GraspedAnswerVariable is hello\n", 
                "\n", 
                "*****End of the Attest *****\n", 
                "\n", 
                "\n"
              ]
            }
          ], 
          "collapsed": false, 
          "metadata": {
            "slideshow": {
              "slide_type": "-"
            }
          }
        }
      ]
    }
  ], 
  "metadata": {
    "name": "", 
    "signature": ""
  }, 
  "nbformat_minor": 0
}