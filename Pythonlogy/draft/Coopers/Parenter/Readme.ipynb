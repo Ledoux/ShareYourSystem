{
  "nbformat": 3, 
  "worksheets": [
    {
      "cells": [
        {
          "source": "\n<!--\nFrozenIsBool False\n-->\n\n#Parenter\n\n##Doc\n----\n\n\n> \n> A Parenter completes the list of grand-parent nodes that \n> a child node could have. It acts only at one level.\n> \n> \n\n----\n\n<small>\nView the Parenter notebook on [NbViewer](http://nbviewer.ipython.org/url/shareyoursystem.ouvaton.org/Parenter.ipynb)\n</small>\n\n", 
          "cell_type": "markdown", 
          "prompt_number": 0, 
          "metadata": {
            "slideshow": {
              "slide_type": "slide"
            }
          }
        }, 
        {
          "source": "\n<!--\nFrozenIsBool False\n-->\n\n##Code\n\n----\n\n<ClassDocStr>\n\n----\n\n```python\n# -*- coding: utf-8 -*-\n\"\"\"\n\n\n<DefineSource>\n@Date : Fri Nov 14 13:20:38 2014 \\n\n@Author : Erwan Ledoux \\n\\n\n</DefineSource>\n\n\nA Parenter completes the list of grand-parent nodes that \na child node could have. It acts only at one level.\n\n\"\"\"\n\n#<DefineAugmentation>\nimport ShareYourSystem as SYS\nBaseModuleStr=\"ShareYourSystem.Standards.Noders.Distinguisher\"\nDecorationModuleStr=\"ShareYourSystem.Standards.Classors.Classer\"\nSYS.setSubModule(globals())\n#</DefineAugmentation>\n\n#<ImportSpecificModules>\nimport copy\nfrom ShareYourSystem.Standards.Itemizers import Pather\n#</ImportSpecificModules>\n\n#<DefineClass>\n@DecorationClass(\n\t**{'ClassingSwitchMethodStrsList':['parent']}\n)\nclass ParenterClass(BaseClass):\n\n\t#Definition\n\tRepresentingKeyStrsList=[\n\t\t\t\t\t\t\t\t'ParentingWalkBool',\n\t\t\t\t\t\t\t\t'ParentedDeriveParentersList',\n\t\t\t\t\t\t\t\t'ParentedNodeCollectionStrsList',\n\t\t\t\t\t\t\t\t'ParentedNodePathStr'\n\t\t\t\t\t\t\t]\n\n\tdef default_init(self,\n\t\t\t\t_ParentingWalkBool=True,\n\t\t\t\t_ParentedDeriveParentersList=None,\n\t\t\t\t_ParentedNodeCollectionStrsList=None,\n\t\t\t\t_ParentedNodePathStr=\"\",\n\t\t\t\t**_KwargVariablesDict):\t\n\n\t\t#Call the parent init method\n\t\tBaseClass.__init__(self,**_KwargVariablesDict)\n\n\tdef do_parent(self):\n\n\t\t#debug\n\t\t'''\n\t\tself.debug(('self.',self,['ParentingNodeStr','NodePointDeriveNoder']))\n\t\t'''\n\n\t\t#Check of a parent pointer\n\t\tif self.NodePointDeriveNoder!=None:\n\n\t\t\t#debug\n\t\t\t'''\n\t\t\tself.debug('We are going to node the parent pointer')\n\t\t\t'''\n\n\t\t\t#Parent the parent maybe\n\t\t\tif self.ParentingWalkBool:\n\n\t\t\t\t#parent the parent\n\t\t\t\tself.NodePointDeriveNoder.parent()\n\n\t\t\t#set\n\t\t\tself.ParentedDeriveParentersList=[self.NodePointDeriveNoder\n\t\t\t]+self.NodePointDeriveNoder.ParentedDeriveParentersList\n\n\t\t\tself.ParentedNodeCollectionStrsList=[self.NodedCollectionStr\n\t\t\t]+self.NodePointDeriveNoder.ParentedNodeCollectionStrsList\n\t\t\tself.ParentedNodeCollectionStrsList.reverse()\n\n\t\t\t#definition\n\t\t\tParentedNodePathStrsList=map(\n\t\t\t\t\tlambda __ParentedDeriveParenter:\n\t\t\t\t\t__ParentedDeriveParenter.NodeKeyStr,\n\t\t\t\t\tself.ParentedDeriveParentersList\n\t\t\t\t)\n\t\t\tParentedNodePathStrsList.reverse()\n\t\t\t\n\t\t\t#Debug\n\t\t\t'''\n\t\t\tself.debug('ParentedNodePathStrsList is '+str(ParentedNodePathStrsList))\n\t\t\t'''\n\t\t\t\n\t\t\t#set\n\t\t\tself.ParentedNodePathStr=Pather.PathingPrefixStr.join(ParentedNodePathStrsList)\n\n\t\t#Return self\n\t\t#return self\n\n#</DefineClass>\n\n\n```\n\n<small>\nView the Parenter sources on <a href=\"https://github.com/Ledoux/ShareYourSystem/tree/master/Pythonlogy/ShareYourSystem/Noders/Parenter\" target=\"_blank\">Github</a>\n</small>\n\n", 
          "cell_type": "markdown", 
          "prompt_number": 1, 
          "metadata": {
            "slideshow": {
              "slide_type": "subslide"
            }
          }
        }, 
        {
          "source": "\n<!---\nFrozenIsBool True\n-->\n\n##Example\n\nLet's create an empty class, which will automatically receive\nspecial attributes from the decorating ClassorClass,\nspecially the NameStr, that should be the ClassStr\nwithout the TypeStr in the end.", 
          "cell_type": "markdown", 
          "prompt_number": 2, 
          "metadata": {
            "slideshow": {
              "slide_type": "subslide"
            }
          }
        }, 
        {
          "source": "```python\n#ImportModules\nimport ShareYourSystem as SYS\nfrom ShareYourSystem.Standards.Noders import Parenter\n\n#Short expression and set in the appended manner\nMyParenter=Parenter.ParenterClass().__setitem__(\n    '<Tree>ChildParenter',\n    Parenter.ParenterClass().__setitem__(\n        '<Tree>GrandChildParenter',\n        Parenter.ParenterClass()\n    )\n)\n\n#Parent for the children\n#MyParenter['<Tree>ChildParenter'].parent('Tree')\nMyParenter['<Tree>ChildParenter']['<Tree>GrandChildParenter'].parent()\n\n#Definition the AttestedStr\nSYS._attest(\n    [\n        'MyParenter is '+SYS._str(\n        MyParenter,\n        **{\n            'RepresentingBaseKeyStrsListBool':False,\n            'RepresentingAlineaIsBool':False\n        }\n        )\n    ]\n) \n\n#Print\n\n\n\n```\n", 
          "cell_type": "markdown", 
          "metadata": {}
        }, 
        {
          "source": "```console\n>>>\n\n\n*****Start of the Attest *****\n\nMyParenter is < (ParenterClass), 4555207440>\n   /{ \n   /  '<New><Instance>IdInt' : 4555207440\n   /  '<New><Instance>NodeCollectionStr' : Globals\n   /  '<New><Instance>NodeIndexInt' : -1\n   /  '<New><Instance>NodeKeyStr' : TopParenter\n   /  '<New><Instance>NodePointDeriveNoder' : None\n   /  '<New><Instance>NodePointOrderedDict' : None\n   /  '<New><Instance>TreeCollectionOrderedDict' : \n   /   /{ \n   /   /  'ChildParenter' : < (ParenterClass), 4555206736>\n   /   /   /{ \n   /   /   /  '<New><Instance>IdInt' : 4555206736\n   /   /   /  '<New><Instance>NodeCollectionStr' : Tree\n   /   /   /  '<New><Instance>NodeIndexInt' : 0\n   /   /   /  '<New><Instance>NodeKeyStr' : ChildParenter\n   /   /   /  '<New><Instance>NodePointDeriveNoder' : {...}< (ParenterClass), 4555207440>\n   /   /   /  '<New><Instance>NodePointOrderedDict' : {...}< (OrderedDict), 4556379080>\n   /   /   /  '<New><Instance>TreeCollectionOrderedDict' : \n   /   /   /   /{ \n   /   /   /   /  'GrandChildParenter' : < (ParenterClass), 4555209552>\n   /   /   /   /   /{ \n   /   /   /   /   /  '<New><Instance>IdInt' : 4555209552\n   /   /   /   /   /  '<New><Instance>NodeCollectionStr' : Tree\n   /   /   /   /   /  '<New><Instance>NodeIndexInt' : 0\n   /   /   /   /   /  '<New><Instance>NodeKeyStr' : GrandChildParenter\n   /   /   /   /   /  '<New><Instance>NodePointDeriveNoder' : {...}< (ParenterClass), 4555206736>\n   /   /   /   /   /  '<New><Instance>NodePointOrderedDict' : {...}< (OrderedDict), 4556378784>\n   /   /   /   /   /  '<Spe><Class>ParentingWalkBool' : True\n   /   /   /   /   /  '<Spe><Instance>ParentedDeriveParentersList' : \n   /   /   /   /   /   /[\n   /   /   /   /   /   /  0 : {...}< (ParenterClass), 4555206736>\n   /   /   /   /   /   /  1 : {...}< (ParenterClass), 4555207440>\n   /   /   /   /   /   /]\n   /   /   /   /   /  '<Spe><Instance>ParentedNodeCollectionStrsList' : ['', '']\n   /   /   /   /   /  '<Spe><Instance>ParentedNodePathStr' : TopParenter/ChildParenter\n   /   /   /   /   /}\n   /   /   /   /}\n   /   /   /  '<Spe><Class>ParentingWalkBool' : True\n   /   /   /  '<Spe><Instance>ParentedDeriveParentersList' : \n   /   /   /   /[\n   /   /   /   /  0 : {...}< (ParenterClass), 4555207440>\n   /   /   /   /]\n   /   /   /  '<Spe><Instance>ParentedNodeCollectionStrsList' : ['']\n   /   /   /  '<Spe><Instance>ParentedNodePathStr' : TopParenter\n   /   /   /}\n   /   /}\n   /  '<Spe><Class>ParentedNodePathStr' : \n   /  '<Spe><Class>ParentingWalkBool' : True\n   /  '<Spe><Instance>ParentedDeriveParentersList' : []\n   /  '<Spe><Instance>ParentedNodeCollectionStrsList' : []\n   /}\n\n*****End of the Attest *****\n\n\n\n```\n", 
          "cell_type": "markdown", 
          "metadata": {}
        }
      ]
    }
  ], 
  "metadata": {
    "name": "", 
    "signature": ""
  }, 
  "nbformat_minor": 0
}