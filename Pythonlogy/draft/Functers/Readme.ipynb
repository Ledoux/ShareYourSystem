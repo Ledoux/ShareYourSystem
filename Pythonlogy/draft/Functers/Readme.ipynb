{
  "nbformat": 3, 
  "worksheets": [
    {
      "cells": [
        {
          "source": [
            "#ShareYourSystem\n", 
            "\n"
          ], 
          "cell_type": "markdown", 
          "metadata": {}
        }, 
        {
          "source": "\n<!--\nFrozenIsBool False\n-->\n\n##More Descriptions at the level of the class\n\nSpecial attributes of the <NameStr>Class are :\n", 
          "cell_type": "markdown", 
          "prompt_number": 0, 
          "metadata": {}
        }, 
        {
          "source": "```python\n\n#FrozenIsBool False\n\n#ImportModules\nimport ShareYourSystem as SYS\nfrom <ParentModuleStr> import <NameStr>\n\t\t\n#Definition the AttestedStr\nSYS._attest(\n\t[\n\t\t'DefaultAttributeItemTuplesList is '+SYS._str(\n\t\t\t<NameStr>.<NameStr>Class.DefaultAttributeItemTuplesList,\n\t\t\t**{'RepresentingAlineaIsBool':False}\n\t\t)\n\t]\n) \n\n#Print\nprint(AttestedStr)\n\n\n```\n", 
          "cell_type": "markdown", 
          "metadata": {}
        }, 
        {
          "source": "```console\n>>>\n\n\n```\n", 
          "cell_type": "markdown", 
          "metadata": {}
        }, 
        {
          "source": "\n<!--\nFrozenIsBool False\n-->\n\n##More Descriptions at the level of the instances\n\nA default call of an instance gives :\n", 
          "cell_type": "markdown", 
          "prompt_number": 2, 
          "metadata": {}
        }, 
        {
          "source": "```python\n\n#FrozenIsBool False\n\n#ImportModules\nfrom ShareYourSystem.Standards.Classors import Attester\nfrom <ParentModuleStr> import <NameStr>\n\t\t\n#Definition the AttestedStr\nSYS._attest(\n\t[\n\t\t<NameStr>.<NameStr>Class()\n\t]\n) \n\n#Print\nprint(AttestedStr)\n\n\n\n```\n", 
          "cell_type": "markdown", 
          "metadata": {}
        }, 
        {
          "source": "```console\n>>>\n\n\n```\n", 
          "cell_type": "markdown", 
          "metadata": {}
        }
      ]
    }
  ], 
  "metadata": {
    "name": "", 
    "signature": ""
  }, 
  "nbformat_minor": 0
}