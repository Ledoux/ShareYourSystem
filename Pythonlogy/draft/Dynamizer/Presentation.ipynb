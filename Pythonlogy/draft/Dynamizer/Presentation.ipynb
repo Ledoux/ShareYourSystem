{
  "nbformat": 3, 
  "worksheets": [
    {
      "cells": [
        {
          "source": "\n<!--\nFrozenIsBool False\n-->\n\n#Dynamizer\n\n##Doc\n----\n\n\n> \n> A Dynamizer\n> \n> \n\n----\n\n<small>\nView the Dynamizer notebook on [NbViewer](http://nbviewer.ipython.org/url/shareyoursystem.ouvaton.org/Dynamizer.ipynb)\n</small>\n\n", 
          "cell_type": "markdown", 
          "prompt_number": 0, 
          "metadata": {
            "slideshow": {
              "slide_type": "slide"
            }
          }
        }, 
        {
          "source": "\n<!--\nFrozenIsBool False\n-->\n\n##Code\n\n----\n\n<ClassDocStr>\n\n----\n\n```python\n# -*- coding: utf-8 -*-\n\"\"\"\n\n\n<DefineSource>\n@Date : Fri Nov 14 13:20:38 2014 \\n\n@Author : Erwan Ledoux \\n\\n\n</DefineSource>\n\n\nA Dynamizer\n\n\"\"\"\n\n#<DefineAugmentation>\nimport ShareYourSystem as SYS\nBaseModuleStr=\"ShareYourSystem.Specials.Simulaters.Populater\"\nDecorationModuleStr=\"ShareYourSystem.Standards.Classors.Classer\"\nSYS.setSubModule(globals())\n#</DefineAugmentation>\n\n#<ImportSpecificModules>\n#</ImportSpecificModules>\n\n#<DefineClass>\n@DecorationClass()\nclass DynamizerClass(BaseClass):\n\t\n\t#Definition\n\tRepresentingKeyStrsList=[\n\t\t\t\t\t\t\t\t'DynamizingTraceStr',\n\t\t\t\t\t\t\t\t'DynamizingExternalCurrentStr',\n\t\t\t\t\t\t\t\t'DynamizingTraceDimensionStr',\n\t\t\t\t\t\t\t\t'DynamizedParamStr',\n\t\t\t\t\t\t\t\t'DynamizedParamStr',\n\t\t\t\t\t\t\t\t'DynamizedPreStr',\n\t\t\t\t\t\t\t\t'DynamizedPostStr'\n\t\t\t\t\t\t\t]\n\n\tdef default_init(self,\n\t\t\t\t\t\t_DynamizingTraceStr=\"v\",\n\t\t\t\t\t\t_DynamizingExternalCurrentStr='mu',\n\t\t\t\t\t\t_DynamizingTraceDimensionStr='mV',\n\t\t\t\t\t\t_DynamizingTimeDimensionStr='ms',\n\t\t\t\t\t\t_DynamizingThresholdFunction=None,\n\t\t\t\t\t\t_DynamizedParamStr=\"\",\n\t\t\t\t\t\t_DynamizedPreStr=\"\",\n\t\t\t\t\t\t_DynamizedPostStr=\"\",\n\t\t\t\t\t\t**_KwargVariablesDict\n\t\t\t\t\t):\n\n\t\t#Call the parent __init__ method\n\t\tBaseClass.__init__(self,**_KwargVariablesDict)\n\n\tdef do_dynamize(\n\t\t\t\tself,\n\t\t\t):\t\n\n\t\t#debug\n\t\t'''\n\t\tself.debug(('self.',self,[\n\n\t\t\t\t\t]))\n\t\t'''\n\n\t\t#set\n\t\tself.DynamizedPostStr='d'+self.DynamizingTraceStr+'/dt='\n\n\t\t#init\n\t\tself.DynamizedPreStr='('\n\n\t\t#Check\n\t\tif self.DynamizingExternalCurrentStr!=\"\":\n\n\t\t\t#Add in params declaration\n\t\t\tself.DynamizedParamStr+=self.DynamizingExternalCurrentStr+' : '+self.DynamizingTraceDimensionStr+'\\n'\n\n\t\t\t#Add in DynamizedPostStr\n\t\t\tself.DynamizedPreStr+=self.DynamizingExternalCurrentStr\n\n\tdef mimic_populate(self):\n\n\t\t#dynamize first\n\t\tself.dynamize()\n\n\t\t#set\n\t\tself.PopulatingEquationStr='\\n'.join(\n\t\t\t[\n\t\t\t\tself.DynamizedParamStr,\n\t\t\t\tself.DynamizedPostStr+self.DynamizedPreStr+' : '+self.DynamizingTraceDimensionStr\n\t\t\t]\n\t\t)\n\n\t\t#parent\n\t\tBaseClass.populate(self)\n\n#</DefineClass>\n\n```\n\n<small>\nView the Dynamizer sources on <a href=\"https://github.com/Ledoux/ShareYourSystem/tree/master/Pythonlogy/ShareYourSystem/Simulaters/Dynamizer\" target=\"_blank\">Github</a>\n</small>\n\n", 
          "cell_type": "markdown", 
          "prompt_number": 1, 
          "metadata": {
            "slideshow": {
              "slide_type": "subslide"
            }
          }
        }
      ]
    }
  ], 
  "metadata": {
    "name": "", 
    "signature": ""
  }, 
  "nbformat_minor": 0
}