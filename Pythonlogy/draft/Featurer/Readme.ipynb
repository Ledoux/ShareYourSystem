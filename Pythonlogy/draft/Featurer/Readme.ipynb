{
  "nbformat": 3, 
  "worksheets": [
    {
      "cells": [
        {
          "source": "\n<!--\nFrozenIsBool False\n-->\n\n#Featurer\n\n##Doc\n----\n\n\n> \n> Featurer instances helps for defining Databaser where all \n> the rowed variables are identifying items. \n> \n> \n\n----\n\n<small>\nView the Featurer notebook on [NbViewer](http://nbviewer.ipython.org/url/shareyoursystem.ouvaton.org/Featurer.ipynb)\n</small>\n\n", 
          "cell_type": "markdown", 
          "prompt_number": 0, 
          "metadata": {
            "slideshow": {
              "slide_type": "slide"
            }
          }
        }, 
        {
          "source": "\n<!--\nFrozenIsBool False\n-->\n\n##Code\n\n----\n\n<ClassDocStr>\n\n----\n\n```python\n# -*- coding: utf-8 -*-\n\"\"\"\n\n\n<DefineSource>\n@Date : Fri Nov 14 13:20:38 2014 \\n\n@Author : Erwan Ledoux \\n\\n\n</DefineSource>\n\n\nFeaturer instances helps for defining Databaser where all \nthe rowed variables are identifying items. \n\n\"\"\"\n\n#<DefineAugmentation>\nimport ShareYourSystem as SYS\nBaseModuleStr=\"ShareYourSystem.Modelers.Hierarchizer\"\nDecorationModuleStr=\"ShareYourSystem.Classors.Classer\"\nSYS.setSubModule(globals())\n#</DefineAugmentation>\n\n#<ImportSpecificModules>\nfrom ShareYourSystem.Modelers import Rower\n#</ImportSpecificModules>\n\n\n#<DefineClass>\n@DecorationClass()\nclass FeaturerClass(\n\t\t\t\t\tBaseClass\n\t\t\t\t):\n\t\n\t#Definition\n\tRepresentingKeyStrsList=[\n\t\t\t\t\t\t\t\t\t'FeaturingAllBool',\n\t\t\t\t\t\t\t\t\t'FeaturedJoinDatabasersList'\n\t\t\t\t\t\t\t\t]\n\n\tdef default_init(self,\n\t\t\t\t\t\t_FeaturingAllBool=False,\n\t\t\t\t\t\t_FeaturingJoinFlushBool=True,\t\n\t\t\t\t\t\t_FeaturedJoinDatabasersList=None,\n\t\t\t\t\t\t**_KwargVariablesDict\n\t\t\t\t\t):\n\n\t\t#Call the parent init method\n\t\tBaseClass.__init__(self,**_KwargVariablesDict)\n\n\tdef mimic_model(self):\n\n\t\t#<NotHook>\n\t\t#feature first\n\t\tself.feature()\n\t\t#</NotHook>\n\n\t\t#<NotHook>\n\t\t#model then\n\t\tBaseClass.model(self)\n\t\t#</NotHook>\n\n\t\t#<NotHook>\n\t\t#Return self\n\t\t#return self\n\t\t#</NotHook>\n\n\n\tdef mimic_row(self):\n\n\t\t#debug\n\t\t'''\n\t\tself.debug(('self.',self,self.__class__.DoingAttributeVariablesOrderedDict.keys()))\n\t\t'''\n\n\t\t#Put all the GettingStrsList in the identifying container\n\t\tif self.FeaturingAllBool:\n\n\t\t\t#debug\n\t\t\t'''\n\t\t\tself.debug('Set the RowingGetStrsList with all the DatabasingGetStrs')\n\t\t\t'''\n\t\t\t\n\t\t\t#set \n\t\t\tself['Attr_RowingGetStrsList']=SYS.unzip(\n\t\t\t\t\t\t\t\t\t\t\t\t\tself.DatabasingSealTuplesList,\n\t\t\t\t\t\t\t\t\t\t\t\t\t[0]\n\t\t\t\t\t\t\t\t\t\t\t\t)\n\n\t\t\t#debug\n\t\t\t'''\n\t\t\tself.debug(('self.',self,['RowingGetStrsList','DatabasingSealTuplesList']))\n\t\t\t'''\n\t\t\t\n\t\t#<NotHook>\n\t\t#row then\n\t\tBaseClass.row(self)\n\t\t#</NotHook>\n\n\t\t#<NotHook>\n\t\t#Return self\n\t\t#return self\n\t\t#</NotHook>\n\n\tdef mimic_flush(self):\n\n\t\t#<NotHook>\n\t\t#feature first\n\t\tself.feature()\n\t\t#</NotHook>\n\n\t\t#debug\n\t\t'''\n\t\tself.debug(('self.',self,['FeaturingJoinFlushBool']))\n\t\t'''\n\n\t\t#Check\n\t\tif len(self.FeaturedJoinDatabasersList)>0 and self.FeaturingJoinFlushBool:\n\n\t\t\t#debug\n\t\t\t'''\n\t\t\tself.debug('flush in the joined featured databasers')\n\t\t\t'''\n\n\t\t\t#set\n\t\t\tself.FeaturingJoinFlushBool=False\n\n\t\t\t#map\n\t\t\tmap(\n\t\t\t\t\tlambda __FeaturedDatabaser:\n\t\t\t\t\t__FeaturedDatabaser.flush(),\n\t\t\t\t\tself.FeaturedJoinDatabasersList\n\t\t\t\t)\n\n\t\t\t#set\n\t\t\tself.FeaturingJoinFlushBool=True\n\n\t\t\t#Return\n\t\t\treturn\n\n\t\telse:\n\n\t\t\t#debug\n\t\t\tself.debug('flush now here')\n\n\t\t\t#flush directly\n\t\t\tBaseClass.flush(self)\n\n\tdef do_feature(self):\n\n\t\t#Check\n\t\tif self.NodePointDeriveNoder!=None:\n\n\t\t\t#map\n\t\t\tself.FeaturedJoinDatabasersList=SYS.filterNone(\n\t\t\t\tmap(\n\t\t\t\t\tlambda __NodedDatabaser:\n\t\t\t\t\t__NodedDatabaser if hasattr(\n\t\t\t\t\t\t__NodedDatabaser,'JoiningDownGetKeyStrsList')\n\t\t\t\t\tand __NodedDatabaser.JoiningDownGetKeyStrsList !=None and \n\t\t\t\t\tself.NodedDatabaseKeyStr in __NodedDatabaser.JoiningDownGetKeyStrsList\n\t\t\t\t\telse None,\n\t\t\t\t\tself.DatabasedDeriveDatabasersOrderedDict.values()\n\t\t\t\t)\n\t\t\t)\n\t\t\n\t\t#debug\n\t\t'''\n\t\tself.debug(('self.',self,['FeaturedJoinDatabasersList']))\n\t\t'''\n\n#</DefineClass>\n\n```\n\n<small>\nView the Featurer sources on <a href=\"https://github.com/Ledoux/ShareYourSystem/tree/master/Pythonlogy/ShareYourSystem/Databasers/Featurer\" target=\"_blank\">Github</a>\n</small>\n\n", 
          "cell_type": "markdown", 
          "prompt_number": 1, 
          "metadata": {
            "slideshow": {
              "slide_type": "subslide"
            }
          }
        }, 
        {
          "source": "\n<!---\nFrozenIsBool True\n-->\n\n##Example\n\nLet's create an empty class, which will automatically receive\nspecial attributes from the decorating ClassorClass,\nspecially the NameStr, that should be the ClassStr\nwithout the TypeStr in the end.", 
          "cell_type": "markdown", 
          "prompt_number": 2, 
          "metadata": {
            "slideshow": {
              "slide_type": "subslide"
            }
          }
        }, 
        {
          "source": "```python\n\n#ImportModules\nimport ShareYourSystem as SYS\nfrom ShareYourSystem.Classors import Classer\nfrom ShareYourSystem.Functers import Triggerer\nfrom ShareYourSystem.Noders import Structurer\nfrom ShareYourSystem.Modelers import Featurer,Joiner\nimport tables\nimport operator\n\nMyFeaturer=Featurer.FeaturerClass()\n\n#Definition the AttestedStr\nSYS._attest(\n    [\n        'MyFeaturer is '+SYS._str(\n        MyFeaturer,\n        **{\n            'RepresentingBaseKeyStrsListBool':False,\n            'RepresentingAlineaIsBool':False\n        }\n        ),\n        'hdf5 file is : '+MyFeaturer.hdfview().hdfclose().HdformatedStr\n    ]\n) \n\n#Print\n\n\n\n```\n", 
          "cell_type": "markdown", 
          "metadata": {}
        }, 
        {
          "source": "```console\n>>>\n\n\n*****Start of the Attest *****\n\nMyFeaturer is < (FeaturerClass), 4564994576>\n   /{ \n   /  '<New><Instance>IdInt' : 4564994576\n   /  '<New><Instance>NewtorkAttentionStr' : \n   /  '<New><Instance>NewtorkCatchStr' : \n   /  '<New><Instance>NewtorkCollectionStr' : \n   /  '<New><Instance>NodeCollectionStr' : Globals\n   /  '<New><Instance>NodeIndexInt' : -1\n   /  '<New><Instance>NodeKeyStr' : TopFeaturer\n   /  '<New><Instance>NodePointDeriveNoder' : None\n   /  '<New><Instance>NodePointOrderedDict' : None\n   /  '<Spe><Class>FeaturedJoinDatabasersList' : None\n   /  '<Spe><Class>FeaturingAllBool' : False\n   /}\n\n------\n\nhdf5 file is : \n\n*****End of the Attest *****\n\n\n\n```\n", 
          "cell_type": "markdown", 
          "metadata": {}
        }
      ]
    }
  ], 
  "metadata": {
    "name": "", 
    "signature": ""
  }, 
  "nbformat_minor": 0
}