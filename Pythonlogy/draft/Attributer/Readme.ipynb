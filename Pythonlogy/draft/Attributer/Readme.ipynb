{
  "nbformat": 3, 
  "worksheets": [
    {
      "cells": [
        {
          "source": "\n<!--\nFrozenIsBool False\n-->\n\n#Attributer\n\n##Doc\n----\n\n\n> An Attributer instance has a __setitem__ method for setting things in the <InstanceVariable>.__dict__\n> This is helpful for setting Propertized mutable variables in the instance different \n> from the propertized value setted at the level of the class\n> \n> \n\n----\n\n<small>\nView the Attributer notebook on [NbViewer](http://nbviewer.ipython.org/url/shareyoursystem.ouvaton.org/Attributer.ipynb)\n</small>\n\n", 
          "cell_type": "markdown", 
          "prompt_number": 0, 
          "metadata": {
            "slideshow": {
              "slide_type": "slide"
            }
          }
        }, 
        {
          "source": "\n<!--\nFrozenIsBool False\n-->\n\n##Code\n\n----\n\n<ClassDocStr>\n\n----\n\n```python\n# -*- coding: utf-8 -*-\n\"\"\"\n\n\n<DefineSource>\n@Date : Fri Nov 14 13:20:38 2014 \\n\n@Author : Erwan Ledoux \\n\\n\n</DefineSource>\n\nAn Attributer instance has a __setitem__ method for setting things in the <InstanceVariable>.__dict__\nThis is helpful for setting Propertized mutable variables in the instance different \nfrom the propertized value setted at the level of the class\n\n\"\"\"\n\n#<DefineAugmentation>\nimport ShareYourSystem as SYS\nBaseModuleStr=\"ShareYourSystem.Standards.Itemizers.Deleter\"\nDecorationModuleStr=\"ShareYourSystem.Standards.Classors.Classer\"\nSYS.setSubModule(globals())\n#</DefineAugmentation>\n\n#<ImportSpecificModules>\n#</ImportSpecificModules>\n\n#<DefineLocals>\nAttributingStartStr='Attr_'\n#</DefineLocals>\n\n#<DefineClass>\n@DecorationClass()\nclass AttributerClass(BaseClass):\n\n\t#Definition\n\tRepresentingKeyStrsList=[\n\t\t\t\t\t\t\t\t\t'AttributingKeyStr',\n\t\t\t\t\t\t\t\t\t'AttributingValueVariable',\n\t\t\t\t\t\t\t\t\t'AttributedSetTagStr'\n\t\t\t\t\t\t\t\t]\n\n\tdef default_init(self,  \n\t\t\t\t\t\t_AttributingKeyStr=\"\",\n\t\t\t\t\t\t_AttributingValueVariable=None,\t\n\t\t\t\t\t\t_AttributedSetTagStr=\"\",\t\t\n\t\t\t\t\t\t**_KwargVariablesDict\n\t\t\t\t\t):\n\t\t\"\"\" \"\"\"\t\t\n\n\t\t#Call the parent init method\n\t\tBaseClass.__init__(self,**_KwargVariablesDict)\n\n\n\tdef do_attribute(self):\n\n\t\t#set\n\t\tself.AttributedSetTagStr=AttributingStartStr.join(\n\t\t\tself.AttributingKeyStr.split(AttributingStartStr)[1:])\n\n\t\t#Call the __setattr__ method\n\t\tself.__setattr__(self.AttributedSetTagStr,self.AttributingValueVariable)\n\n\t#@Imitater.ImitaterClass()\n\tdef mimic_set(self):\n\t\t\"\"\" \"\"\"\n\n\t\t#debug\n\t\t'''\n\t\tself.debug(('self.',self,['SettingKeyVariable','SettingValueVariable']))\n\t\t'''\n\n\t\t#Definition\n\t\tOutputDict={'HookingIsBool':True}\n\n\t\t#Deep set\n\t\tif self.SettingKeyVariable.startswith(AttributingStartStr):\n\n\t\t\t#debug\n\t\t\t'''\n\t\t\tself.debug('We are going to share')\n\t\t\t'''\n\n\t\t\t#Path\n\t\t\tself.attribute(self.SettingKeyVariable,self.SettingValueVariable)\n\n\t\t\t#debug\n\t\t\t'''\n\t\t\tself.debug(('self.',self,[\n\t\t\t\t\t\t\t\t\t\t\"SharedKeyStr\",\n\t\t\t\t\t\t\t\t\t\t\"SharedChildKeyStr\",\n\t\t\t\t\t\t\t\t\t\t\"SharedValueVariable\"\n\t\t\t\t\t\t\t\t\t]\n\t\t\t\t\t\t\t\t))\n\t\t\t'''\n\n\t\t\t#Stop the setting\n\t\t\tOutputDict[\"HookingIsBool\"]=False\n\t\t\t#<Hook>return OutputDict\n\n\t\t#Call the parent get method\n\t\tif OutputDict['HookingIsBool']:\n\n\t\t\t#debug\n\t\t\t'''\n\t\t\tself.debug(\n\t\t\t\t\t\t[\n\t\t\t\t\t\t\t'BaseClass is '+str(BaseClass),\n\t\t\t\t\t\t\t'BaseClass.set is '+str(BaseClass.set)\n\t\t\t\t\t\t]\n\t\t\t\t)\n\t\t\t'''\n\t\t\t\n\t\t\t#Set and return \n\t\t\treturn BaseClass.set(self)\n\t\t\t\n\t\telse:\n\n\t\t\t#return\n\t\t\treturn OutputDict\n\n#</DefineClass>\n\n```\n\n<small>\nView the Attributer sources on <a href=\"https://github.com/Ledoux/ShareYourSystem/tree/master/Pythonlogy/ShareYourSystem/Itemizers/Attributer\" target=\"_blank\">Github</a>\n</small>\n\n", 
          "cell_type": "markdown", 
          "prompt_number": 1, 
          "metadata": {
            "slideshow": {
              "slide_type": "subslide"
            }
          }
        }, 
        {
          "source": "```python\n\n#ImportModules\nimport ShareYourSystem as SYS\nfrom ShareYourSystem.Standards.Itemizers import Attributer\n\n#Definition a Attributer and set with the __setitem__\nMyAttributer=Attributer.AttributerClass().__setitem__('Attr_MyInt',0)\n    \n#Definition the AttestedStr\nSYS._attest(\n    [\n    'MyAttributer is '+SYS._str(\n            MyAttributer,\n            **{\n            'RepresentingBaseKeyStrsListBool':False,\n            'RepresentingAlineaIsBool':False\n            }\n        )\n    \n    ]\n) \n\n#Print\n\n\n\n```\n", 
          "cell_type": "markdown", 
          "metadata": {}
        }, 
        {
          "source": "```console\n>>>\n\n\n*****Start of the Attest *****\n\nMyAttributer is < (AttributerClass), 4554376528>\n   /{ \n   /  '<New><Instance>IdInt' : 4554376528\n   /  '<New><Instance>MyInt' : 0\n   /  '<Spe><Instance>AttributedSetTagStr' : MyInt\n   /  '<Spe><Instance>AttributingKeyStr' : Attr_MyInt\n   /  '<Spe><Instance>AttributingValueVariable' : 0\n   /}\n\n*****End of the Attest *****\n\n\n\n```\n", 
          "cell_type": "markdown", 
          "metadata": {}
        }
      ]
    }
  ], 
  "metadata": {
    "name": "", 
    "signature": ""
  }, 
  "nbformat_minor": 0
}