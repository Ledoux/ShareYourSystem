{
  "nbformat": 3, 
  "worksheets": [
    {
      "cells": [
        {
          "source": "\n<!--\nFrozenIsBool False\n-->\n\n#Restricter\n\n##Doc\n----\n\n\n> \n> A Restricter object sets only in the __dict__ only if hasattr(self,self.SettingKeyVariable)\n> returns True before.\n> \n> \n\n----\n\n<small>\nView the Restricter notebook on [NbViewer](http://nbviewer.ipython.org/url/shareyoursystem.ouvaton.org/Restricter.ipynb)\n</small>\n\n", 
          "cell_type": "markdown", 
          "prompt_number": 0, 
          "metadata": {
            "slideshow": {
              "slide_type": "slide"
            }
          }
        }, 
        {
          "source": "\n<!--\nFrozenIsBool False\n-->\n\n##Code\n\n----\n\n<ClassDocStr>\n\n----\n\n```python\n# -*- coding: utf-8 -*-\n\"\"\"\n\n\n<DefineSource>\n@Date : Fri Nov 14 13:20:38 2014 \\n\n@Author : Erwan Ledoux \\n\\n\n</DefineSource>\n\n\nA Restricter object sets only in the __dict__ only if hasattr(self,self.SettingKeyVariable)\nreturns True before.\n\n\"\"\"\n\n#<DefineAugmentation>\nimport ShareYourSystem as SYS\nBaseModuleStr=\"ShareYourSystem.Itemizers.Attributer\"\nDecorationModuleStr=\"ShareYourSystem.Classors.Classer\"\nSYS.setSubModule(globals())\n#</DefineAugmentation>\n\n#<ImportSpecificModules>\n#</ImportSpecificModules>\n\n#<DefineClass>\n@DecorationClass()\nclass RestricterClass(BaseClass):\n\n\t#Definition\n\tRepresentingKeyStrsList=[\n\t\t\t\t\t\t\t\t'RestrictingIsBool',\n\t\t\t\t\t\t\t\t'RestrictingKeyStr',\n\t\t\t\t\t\t\t\t'RestrictedSetIsBool'\n\t\t\t\t\t\t\t]\n\n\tdef default_init(self,\n\t\t\t\t_RestrictingIsBool=False, \n\t\t\t\t_RestrictingKeyStr=None,\t\t\t\t\t\n\t\t\t\t_RestrictedSetIsBool=True,\t\t\t\n\t\t\t\t**_KwargVariablesDict\n\t\t\t\t):\n\n\t\t#Call the parent init method\n\t\tBaseClass.__init__(self,**_KwargVariablesDict)\n\n\tdef do_restrict(self):\n\n\t\t#Init\n\t\tself.RestrictedSetIsBool=True\n\n\t\t#debug\n\t\t'''\n\t\tself.debug(('self.',self,['RestrictingIsBool','RestrictingKeyStr']))\n\t\t'''\n\n\t\t#Check\n\t\tif self.RestrictingIsBool:\n\n\t\t\t#Check\n\t\t\tif hasattr(self,self.RestrictingKeyStr):\n\t\t\t\tself.RestrictedSetIsBool=False\n\n\t\telse:\n\n\t\t\t#set to False\n\t\t\tself.RestrictedSetIsBool=False\n\n\t#<Hook>@Hooker.HookerClass(**{'HookingAfterVariablesList':[BaseClass.set]})\n\t#@Imitater.ImitaterClass()\n\tdef mimic_set(self):\n\t\t\"\"\" \"\"\"\n\n\t\t#debug\n\t\t'''\n\t\tself.debug(('self.',self,['SettingKeyVariable','SettingValueVariable']))\n\t\t'''\n\n\t\t#Definition\n\t\tOutputDict={'HookingIsBool':True}\n\n\t\t#debug\n\t\t'''\n\t\tself.debug('We are going to restrict')\n\t\t'''\n\n\t\t#restrict\n\t\tself.restrict(_KeyStr=self.SettingKeyVariable)\n\n\t\t#<Hook>\n\t\t#Stop the setting\n\t\tif self.RestrictedSetIsBool:\n\t\t\tOutputDict[\"HookingIsBool\"]=False\n\t\t\treturn OutputDict\n\t\t#</Hook>\n\n\t\t#Debug\n\t\t'''\n\t\tself.debug(\n\t\t\t\t\t[\n\t\t\t\t\t\t'BaseClass is '+str(BaseClass),\n\t\t\t\t\t\t'BaseClass.set is '+str(BaseClass.set),\n\t\t\t\t\t]\n\t\t\t\t)\n\t\t'''\n\t\t\n\t\t#Call the parent set method\n\t\treturn BaseClass.set(self)\n\n#</DefineClass>\n\n\n```\n\n<small>\nView the Restricter sources on <a href=\"https://github.com/Ledoux/ShareYourSystem/tree/master/Pythonlogy/ShareYourSystem/Itemizers/Restricter\" target=\"_blank\">Github</a>\n</small>\n\n", 
          "cell_type": "markdown", 
          "prompt_number": 1, 
          "metadata": {
            "slideshow": {
              "slide_type": "subslide"
            }
          }
        }, 
        {
          "source": "\n<!---\nFrozenIsBool True\n-->\n\n##Example\n\nLet's create an empty class, which will automatically receive\nspecial attributes from the decorating ClassorClass,\nspecially the NameStr, that should be the ClassStr\nwithout the TypeStr in the end.", 
          "cell_type": "markdown", 
          "prompt_number": 2, 
          "metadata": {
            "slideshow": {
              "slide_type": "subslide"
            }
          }
        }, 
        {
          "source": "```python\n\n#ImportModules\nimport ShareYourSystem as SYS\nfrom ShareYourSystem.Itemizers import Restricter\n\n#Explicit expression\nMyRestricter=Restricter.RestricterClass(**{'RestrictingIsBool':True})\nMyRestricter.ResettedStr=\"Hello\"\nMyRestricter.__setitem__('ResettedStr',\"Bonjour\")\nMyRestricter.__setitem__('NotsettedFloat',1.)\n\n#Return\nSYS._attest(\n    [\n    'MyRestricter is '+SYS._str(\n            MyRestricter,\n            **{\n            'RepresentingBaseKeyStrsListBool':False,\n            'RepresentingAlineaIsBool':False\n            }\n        )\n    ]\n)\n\n#Print\n\n\n\n```\n", 
          "cell_type": "markdown", 
          "metadata": {}
        }, 
        {
          "source": "```console\n>>>\n\n\n*****Start of the Attest *****\n\nMyRestricter is < (RestricterClass), 4554378320>\n   /{ \n   /  '<New><Instance>IdInt' : 4554378320\n   /  '<New><Instance>ResettedStr' : Bonjour\n   /  '<Spe><Instance>RestrictedSetIsBool' : True\n   /  '<Spe><Instance>RestrictingIsBool' : True\n   /  '<Spe><Instance>RestrictingKeyStr' : NotsettedFloat\n   /}\n\n*****End of the Attest *****\n\n\n\n```\n", 
          "cell_type": "markdown", 
          "metadata": {}
        }
      ]
    }
  ], 
  "metadata": {
    "name": "", 
    "signature": ""
  }, 
  "nbformat_minor": 0
}