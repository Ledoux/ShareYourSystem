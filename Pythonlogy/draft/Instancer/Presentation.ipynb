{
  "nbformat": 3, 
  "worksheets": [
    {
      "cells": [
        {
          "source": "\n<!--\nFrozenIsBool False\n-->\n\n#Instancer\n\n##Doc\n----\n\n\n> \n> An Appender append by doing a set in a NodedOrderedDict thanks to the <AppendedNodeStr><AppendedNodeKeyStr>\n> \n> \n\n----\n\n<small>\nView the Instancer notebook on [NbViewer](http://nbviewer.ipython.org/url/shareyoursystem.ouvaton.org/Instancer.ipynb)\n</small>\n\n", 
          "cell_type": "markdown", 
          "prompt_number": 0, 
          "metadata": {
            "slideshow": {
              "slide_type": "slide"
            }
          }
        }, 
        {
          "source": "\n<!--\nFrozenIsBool False\n-->\n\n##Code\n\n----\n\n<ClassDocStr>\n\n----\n\n```python\n# -*- coding: utf-8 -*-\n\"\"\"\n\n\n<DefineSource>\n@Date : Fri Nov 14 13:20:38 2014 \\n\n@Author : Erwan Ledoux \\n\\n\n</DefineSource>\n\n\nAn Appender append by doing a set in a NodedOrderedDict thanks to the <AppendedNodeStr><AppendedNodeKeyStr>\n\n\"\"\"\n\n\n#<DefineAugmentation>\nimport ShareYourSystem as SYS\nBaseModuleStr=\"ShareYourSystem.Noders.Appender\"\nDecorationModuleStr=\"ShareYourSystem.Classors.Classer\"\nSYS.setSubModule(globals())\n#</DefineAugmentation>\n\n#<ImportSpecificModules>\n\nAppender=BaseModule\n#</ImportSpecificModules>\n\n#<DefineClass>\n@DecorationClass()\nclass InstancerClass(BaseClass):\n\t\n\t#Definition\n\tRepresentingKeyStrsList=[\n\t\t\t\t\t\t\t\t\t'InstancingVariable',\n\t\t\t\t\t\t\t\t\t'InstancingClass',\n\t\t\t\t\t\t\t\t\t'InstancingIsBool',\n\t\t\t\t\t\t\t\t\t'InstancedVariable'\n\t\t\t\t\t\t\t\t]\n\n\tdef default_init(self,\n\t\t\t\t\t\t_InstancingVariable=None,\n\t\t\t\t\t\t_InstancingClass=None,\t\n\t\t\t\t\t\t_InstancingIsBool=False,\n\t\t\t\t\t\t_InstancedVariable=None,\n\t\t\t\t\t\t**_KwargVariablesDict\n\t\t\t\t\t):\n\t\n\t\t#Call the parent __init__ method\n\t\tBaseClass.__init__(self,**_KwargVariablesDict)\n\n\t#@Imitater.ImitaterClass()\n\tdef mimic_append(self):\n\t\n\t\t#Instance first\n\t\tself.instance()\n\n\t\t#Append then\n\t\tAppender.AppenderClass.append(self,self.InstancedVariable)\n\n\t\t#Return self\n\t\treturn self\n\n\tdef do_instance(self):\n\t\t\"\"\" \"\"\"\n\t\t\n\t\t#Check\n\t\tif self.InstancingIsBool:\n\n\t\t\t#Init\n\t\t\tInstancingClass=None\n\n\t\t\t#TuplesList Case\n\t\t\tif SYS.getIsTuplesListBool(self.InstancingVariable):\n\n\t\t\t\t#debug\n\t\t\t\t'''\n\t\t\t\tself.debug('This is a tuples list')\n\t\t\t\t'''\n\n\t\t\t\tif self.InstancingClass==None:\n\n\t\t\t\t\t#debug\n\t\t\t\t\t'''\n\t\t\t\t\tself.debug('Find the instancing class')\n\t\t\t\t\t'''\n\n\t\t\t\t\t#Definition the KeyStrsList\n\t\t\t\t\tKeyStrsList=SYS.unzip(self.InstancingVariable,[0])\n\n\t\t\t\t\ttry:\n\t\t\t\t\t\tInstancingClass=self.InstancingVariable[KeyStrsList.index('InstancingClass')][1]\n\t\t\t\t\texcept:\n\t\t\t\t\t\tpass\n\n\t\t\t\telse:\n\t\t\t\t\tInstancingClass=self.InstancingClass\n\n\t\t\t\t#Check\n\t\t\t\tif InstancingClass!=None:\n\n\t\t\t\t\t#Init\n\t\t\t\t\tself.InstancedVariable=InstancingClass()\n\n\t\t\t\t\t#Map\n\t\t\t\t\tmap(\n\t\t\t\t\t\t\tlambda __ItemTuple:\n\t\t\t\t\t\t\tself.InstancedVariable.__setattr__(*__ItemTuple),\n\t\t\t\t\t\t\tself.InstancingVariable\n\t\t\t\t\t\t)\n\n\t\t\t\t\t#debug\n\t\t\t\t\t'''\n\t\t\t\t\tself.debug(('vars ',vars(),['InstancedVariable']))\n\t\t\t\t\t'''\n\n\t\t\telif hasattr(self.InstancingVariable,'items'):\n\n\t\t\t\t#debug\n\t\t\t\t'''\n\t\t\t\tself.debug('This is an itemizing thing')\n\t\t\t\t'''\n\n\t\t\t\tif self.InstancingClass==None:\n\n\t\t\t\t\t#debug\n\t\t\t\t\t'''\n\t\t\t\t\tself.debug('Find the instancing class')\n\t\t\t\t\t'''\n\n\t\t\t\t\ttry:\n\t\t\t\t\t\tInstancingClass=self.InstancingVariable['InstancingClass']\n\t\t\t\t\texcept:\n\t\t\t\t\t\tpass\n\t\t\t\telse:\n\n\t\t\t\t\t#Definition\n\t\t\t\t\tInstancingClass=self.InstancingClass\n\n\t\t\t\tif InstancingClass!=None:\n\n\t\t\t\t\t#Init\n\t\t\t\t\tself.InstancedVariable=InstancingClass()\n\n\t\t\t\t\t#Map\n\t\t\t\t\tmap(\n\t\t\t\t\t\t\tlambda __ItemTuple:\n\t\t\t\t\t\t\tself.InstancedVariable.__setattr__(*__ItemTuple),\n\t\t\t\t\t\t\tself.InstancingVariable.items()\n\t\t\t\t\t\t)\n\t\t\n\t\t\telif hasattr(self.InstancingVariable,'__dict__'):\n\n\t\t\t\t#Check\n\t\t\t\tif self.InstancingClass!=None:\n\n\t\t\t\t\t#Init\n\t\t\t\t\tself.InstancedVariable=self.InstancingClass()\n\n\t\t#Return self\n\t\t#return self\n\n#</DefineClass>\n\n```\n\n<small>\nView the Instancer sources on <a href=\"https://github.com/Ledoux/ShareYourSystem/tree/master/Pythonlogy/ShareYourSystem/Noders/Instancer\" target=\"_blank\">Github</a>\n</small>\n\n", 
          "cell_type": "markdown", 
          "prompt_number": 1, 
          "metadata": {
            "slideshow": {
              "slide_type": "subslide"
            }
          }
        }, 
        {
          "cell_type": "code", 
          "prompt_number": 2, 
          "language": "python", 
          "input": [
            "#ImportModules\n", 
            "import ShareYourSystem as SYS\n", 
            "from ShareYourSystem.Noders import Appender,Instancer\n", 
            "\n", 
            "#Append with a TuplesList\n", 
            "MyInstancer=Instancer.InstancerClass(**{'InstancingIsBool':True}).instance([\n", 
            "                                    ('AppendingNodeCollectionStr','Structure'),\n", 
            "                                    ('NodeKeyStr','MyInstancedAppender'),\n", 
            "                                    ('MyStr','Hello'),\n", 
            "                                    ('InstancingClass',Appender.AppenderClass)\n", 
            "                                ]\n", 
            "                            )\n", 
            "\n", 
            "#Definition the AttestedStr\n", 
            "SYS._attest(\n", 
            "    [\n", 
            "        'MyInstancer is '+SYS._str(\n", 
            "        MyInstancer,\n", 
            "        **{\n", 
            "            'RepresentingBaseKeyStrsListBool':False\n", 
            "        }\n", 
            "        )\n", 
            "    ]\n", 
            ")  \n", 
            "\n", 
            "#Print\n", 
            "\n", 
            "\n"
          ], 
          "outputs": [
            {
              "output_type": "stream", 
              "stream": "stdout", 
              "text": [
                "\n", 
                "\n", 
                "*****Start of the Attest *****\n", 
                "\n", 
                "MyInstancer is < (InstancerClass), 4556365584>\n", 
                "   /{ \n", 
                "   /  '<New><Instance>IdInt' : 4556365584\n", 
                "   /  '<New><Instance>NodeCollectionStr' : Globals\n", 
                "   /  '<New><Instance>NodeIndexInt' : -1\n", 
                "   /  '<New><Instance>NodeKeyStr' : TopInstancer\n", 
                "   /  '<New><Instance>NodePointDeriveNoder' : None\n", 
                "   /  '<New><Instance>NodePointOrderedDict' : None\n", 
                "   /  '<Spe><Class>InstancingClass' : None\n", 
                "   /  '<Spe><Instance>InstancedVariable' : < (AppenderClass), 4556365392>\n", 
                "   /   /{ \n", 
                "   /   /  '<New><Instance>AppendingNodeCollectionStr' : Structure\n", 
                "   /   /  '<New><Instance>IdInt' : 4556365392\n", 
                "   /   /  '<New><Instance>InstancingClass' : <class 'ShareYourSystem.Noders.Appender.AppenderClass'>\n", 
                "   /   /  '<New><Instance>MyStr' : Hello\n", 
                "   /   /  '<New><Instance>NodeCollectionStr' : Globals\n", 
                "   /   /  '<New><Instance>NodeIndexInt' : -1\n", 
                "   /   /  '<New><Instance>NodeKeyStr' : MyInstancedAppender\n", 
                "   /   /  '<New><Instance>NodePointDeriveNoder' : None\n", 
                "   /   /  '<New><Instance>NodePointOrderedDict' : None\n", 
                "   /   /  '<Spe><Class>AppendedNodeCollectionStr' : \n", 
                "   /   /  '<Spe><Class>AppendedNodeKeyStr' : \n", 
                "   /   /  '<Spe><Class>AppendingCollectionVariable' : None\n", 
                "   /   /}\n", 
                "   /  '<Spe><Instance>InstancingIsBool' : True\n", 
                "   /  '<Spe><Instance>InstancingVariable' : \n", 
                "   /   /[\n", 
                "   /   /  0 : ('AppendingNodeCollectionStr', 'Structure')\n", 
                "   /   /  1 : ('NodeKeyStr', 'MyInstancedAppender')\n", 
                "   /   /  2 : ('MyStr', 'Hello')\n", 
                "   /   /  3 : \n", 
                "   /   /   /(\n", 
                "   /   /   /  0 : InstancingClass\n", 
                "   /   /   /  1 : {...}< (type), 140476488391344>\n", 
                "   /   /   /)\n", 
                "   /   /]\n", 
                "   /}\n", 
                "\n", 
                "*****End of the Attest *****\n", 
                "\n", 
                "\n"
              ]
            }
          ], 
          "collapsed": false, 
          "metadata": {
            "slideshow": {
              "slide_type": "subslide"
            }
          }
        }
      ]
    }
  ], 
  "metadata": {
    "name": "", 
    "signature": ""
  }, 
  "nbformat_minor": 0
}