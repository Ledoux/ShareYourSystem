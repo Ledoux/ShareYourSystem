{
  "nbformat": 3, 
  "worksheets": [
    {
      "cells": [
        {
          "source": "\n<!--\nFrozenIsBool False\n-->\n\n#Recuperater\n\n##Doc\n----\n\n\n> \n> Recuperater instances\n> \n> \n\n----\n\n<small>\nView the Recuperater notebook on [NbViewer](http://nbviewer.ipython.org/url/shareyoursystem.ouvaton.org/Recuperater.ipynb)\n</small>\n\n", 
          "cell_type": "markdown", 
          "prompt_number": 0, 
          "metadata": {
            "slideshow": {
              "slide_type": "slide"
            }
          }
        }, 
        {
          "source": "\n<!--\nFrozenIsBool False\n-->\n\n##Code\n\n----\n\n<ClassDocStr>\n\n----\n\n```python\n# -*- coding: utf-8 -*-\n\"\"\"\n\n\n<DefineSource>\n@Date : Fri Nov 14 13:20:38 2014 \\n\n@Author : Erwan Ledoux \\n\\n\n</DefineSource>\n\n\nRecuperater instances\n\n\"\"\"\n\n#<DefineAugmentation>\nimport ShareYourSystem as SYS\nBaseModuleStr=\"ShareYourSystem.Databasers.Joiner\"\nDecorationModuleStr=\"ShareYourSystem.Classors.Classer\"\nSYS.setSubModule(globals())\n#</DefineAugmentation>\n\n#<ImportSpecificModules>\n#</ImportSpecificModules>\n\n\n#<DefineClass>\n@DecorationClass()\nclass RecuperaterClass(BaseClass):\n\t\n\t#Definition\n\tRepresentingKeyStrsList=[\n\t\t\t\t\t\t\t\t\t'RecuperatingRetrieveList'\n\t\t\t\t\t\t\t\t]\n\n\t#@Hooker.HookerClass(**{'HookingAfterVariablesList':[{'CallingVariable':BaseClass.__init__}]})\n\tdef default_init(self,\n\t\t\t\t\t\t_RecuperatingRetrieveList=None,\n\t\t\t\t\t\t**_KwargVariablesDict\n\t\t\t\t\t):\n\n\t\t#Call the parent init method\n\t\tBaseClass.__init__(self,**_KwargVariablesDict)\n\n\tdef do_recuperate(self):\n\n\t\t#retrieve\n\t\tself.retrieve(self.RecuperatingRetrieveList)\n\n\t\t#debug\n\t\tself.debug(('self',self,['RetrievedPickOrderedDict']))\n\t\t\n\n#</DefineClass>\n\n\n```\n\n<small>\nView the Recuperater sources on <a href=\"https://github.com/Ledoux/ShareYourSystem/tree/master/Pythonlogy/ShareYourSystem/Databasers/Recuperater\" target=\"_blank\">Github</a>\n</small>\n\n", 
          "cell_type": "markdown", 
          "prompt_number": 1, 
          "metadata": {
            "slideshow": {
              "slide_type": "subslide"
            }
          }
        }, 
        {
          "source": "\n<!---\nFrozenIsBool True\n-->\n\n##Example\n\nLet's create an empty class, which will automatically receive\nspecial attributes from the decorating ClassorClass,\nspecially the NameStr, that should be the ClassStr\nwithout the TypeStr in the end.", 
          "cell_type": "markdown", 
          "prompt_number": 2, 
          "metadata": {
            "slideshow": {
              "slide_type": "subslide"
            }
          }
        }, 
        {
          "source": "```python\n\n#ImportModules\nimport ShareYourSystem as SYS\nfrom ShareYourSystem.Classors import Classer\nfrom ShareYourSystem.Functers import Triggerer\nfrom ShareYourSystem.Noders import Structurer\nfrom ShareYourSystem.Databasers import Featurer,Recuperater\nimport tables\nimport operator\n\nMyRecuperater=Recuperater.RecuperaterClass()\n\n#Definition the AttestedStr\nSYS._attest(\n    [\n        'MyRecuperater is '+SYS._str(\n        MyRecuperater,\n        **{\n            'RepresentingBaseKeyStrsListBool':False,\n            'RepresentingAlineaIsBool':False\n        }\n        ),\n        'hdf5 file is : '+MyRecuperater.hdfview().hdfclose().HdformatedStr\n    ]\n) \n\n#Print\n\n\n\n```\n", 
          "cell_type": "markdown", 
          "metadata": {}
        }, 
        {
          "source": "```console\n>>>\n\n\n*****Start of the Attest *****\n\nMyRecuperater is < (RecuperaterClass), 4565656784>\n   /{ \n   /  '<New><Instance>IdInt' : 4565656784\n   /  '<New><Instance>NewtorkAttentionStr' : \n   /  '<New><Instance>NewtorkCatchStr' : \n   /  '<New><Instance>NewtorkCollectionStr' : \n   /  '<New><Instance>NodeCollectionStr' : Globals\n   /  '<New><Instance>NodeIndexInt' : -1\n   /  '<New><Instance>NodeKeyStr' : TopRecuperater\n   /  '<New><Instance>NodePointDeriveNoder' : None\n   /  '<New><Instance>NodePointOrderedDict' : None\n   /  '<Spe><Class>RecuperatingRetrieveList' : None\n   /}\n\n------\n\nhdf5 file is : \n\n*****End of the Attest *****\n\n\n\n```\n", 
          "cell_type": "markdown", 
          "metadata": {}
        }
      ]
    }
  ], 
  "metadata": {
    "name": "", 
    "signature": ""
  }, 
  "nbformat_minor": 0
}