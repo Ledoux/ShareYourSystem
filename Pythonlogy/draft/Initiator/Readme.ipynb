{
  "nbformat": 3, 
  "worksheets": [
    {
      "cells": [
        {
          "source": [
            "#Initiator\n", 
            "\n\n@Date : Fri Nov 14 13:20:38 2014 \n\n@Author : Erwan Ledoux \n\n\n\nThe Initiator is a trivial module... It just helps for defining directly in the __dict__ of an instance of the InitiatorClass some attributes given by the items setted in the _KwargVariablesDict from the __init__ method.\n\n\n"
          ], 
          "cell_type": "markdown", 
          "metadata": {}
        }, 
        {
          "source": "\n<!--\nFrozenIsBool False\n-->\n\nView the Initiator sources on [Github](https://github.com/Ledoux/ShareYourSystem/tree/master/ShareYourSystem/Objects/Installer)\n\n", 
          "cell_type": "markdown", 
          "prompt_number": 0, 
          "metadata": {}
        }, 
        {
          "source": "\n<!---\nFrozenIsBool True\n-->\n\n##Example\n\n", 
          "cell_type": "markdown", 
          "prompt_number": 1, 
          "metadata": {}
        }, 
        {
          "source": "```python\n\n\"\"\"\nFrozenIsBool True\n\"\"\"\n\n#ImportModules\nimport ShareYourSystem as SYS\nfrom ShareYourSystem.Standards.Objects import Initiator\n\n#Definition of an Initiator instance\nMyInitiator=Initiator.InitiatorClass()\nMyInitiator.GettingInt=1\n        \n#Definition the AttestedStr\nSYS._attest(\n    [\n        'MyInitiator is '+SYS._str(MyInitiator)\n    ]\n) \n\n#Print\n\n\n\n```\n", 
          "cell_type": "markdown", 
          "metadata": {}
        }, 
        {
          "source": "```console\n>>>\n\n\n*****Start of the Attest *****\n\nMyInitiator is <ShareYourSystem.Standards.Objects.Initiator.InitiatorClass object at 0x10f8ff090>\n\n*****End of the Attest *****\n\n\n\n```\n", 
          "cell_type": "markdown", 
          "metadata": {}
        }
      ]
    }
  ], 
  "metadata": {
    "name": "", 
    "signature": ""
  }, 
  "nbformat_minor": 0
}