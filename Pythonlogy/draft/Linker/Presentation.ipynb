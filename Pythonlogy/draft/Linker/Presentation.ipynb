{
  "nbformat": 3, 
  "worksheets": [
    {
      "cells": [
        {
          "source": "\n<!--\nFrozenIsBool False\n-->\n\n#Linker\n\n##Doc\n----\n\n\n> \n> An Linker maps a point\n> \n> \n\n----\n\n<small>\nView the Linker notebook on [NbViewer](http://nbviewer.ipython.org/url/shareyoursystem.ouvaton.org/Linker.ipynb)\n</small>\n\n", 
          "cell_type": "markdown", 
          "prompt_number": 0, 
          "metadata": {
            "slideshow": {
              "slide_type": "slide"
            }
          }
        }, 
        {
          "source": "\n<!--\nFrozenIsBool False\n-->\n\n##Code\n\n----\n\n<ClassDocStr>\n\n----\n\n```python\n# -*- coding: utf-8 -*-\n\"\"\"\n\n\n<DefineSource>\n@Date : Fri Nov 14 13:20:38 2014 \\n\n@Author : Erwan Ledoux \\n\\n\n</DefineSource>\n\n\nAn Linker maps a point\n\n\"\"\"\n\n#<DefineAugmentation>\nimport ShareYourSystem as SYS\nBaseModuleStr=\"ShareYourSystem.Applyiers.Updater\"\nDecorationModuleStr=\"ShareYourSystem.Classors.Classer\"\nSYS.setSubModule(globals())\n#</DefineAugmentation>\n\n#<ImportSpecificModules>\n#</ImportSpecificModules>\n\n#<DefineClass>\n@DecorationClass()\nclass LinkerClass(BaseClass):\n\t\n\t#Definition\n\tRepresentingKeyStrsList=[\n\t\t\t\t\t\t\t\t'LinkingPointListsList'\n\t\t\t\t\t\t\t]\n\n\tdef default_init(self,\n\t\t\t\t_LinkingPointListsList=None,\n\t\t\t\t**_KwargVariablesDict):\n\n\t\t#Call the parent __init__ method\n\t\tBaseClass.__init__(self,**_KwargVariablesDict)\n\n\tdef do_link(self):\n\t\t\"\"\" \"\"\"\n\n\t\t#debug\n\t\t'''\n\t\tself.debug(('self.',self,['LinkingPointListsList']))\n\t\t'''\n\n\t\t#Apply\n\t\tself.map('point',map(\n\t\t\t\t\t\t\t\tlambda __LinkingPointList:\n\t\t\t\t\t\t\t\t{'LiargVariablesList':__LinkingPointList},\n\t\t\t\t\t\t\t\tself.LinkingPointListsList\n\t\t\t\t\t\t\t)\n\t\t)\n\n\t\t#Return\n\t\t#return self\n\n#</DefineClass>\n\n\n\n```\n\n<small>\nView the Linker sources on <a href=\"https://github.com/Ledoux/ShareYourSystem/tree/master/Pythonlogy/ShareYourSystem/Applyiers/Linker\" target=\"_blank\">Github</a>\n</small>\n\n", 
          "cell_type": "markdown", 
          "prompt_number": 1, 
          "metadata": {
            "slideshow": {
              "slide_type": "subslide"
            }
          }
        }, 
        {
          "source": "\n<!---\nFrozenIsBool True\n-->\n\n##Example\n\nLet's create an empty class, which will automatically receive\nspecial attributes from the decorating ClassorClass,\nspecially the NameStr, that should be the ClassStr\nwithout the TypeStr in the end.", 
          "cell_type": "markdown", 
          "prompt_number": 2, 
          "metadata": {
            "slideshow": {
              "slide_type": "subslide"
            }
          }
        }, 
        {
          "cell_type": "code", 
          "prompt_number": 3, 
          "language": "python", 
          "input": [
            "#ImportModules\n", 
            "import ShareYourSystem as SYS\n", 
            "from ShareYourSystem.Itemizers import Pather\n", 
            "from ShareYourSystem.Applyiers import Linker\n", 
            "\n", 
            "#Update several things\n", 
            "MyLinker=Linker.LinkerClass().update(\n", 
            "    map(\n", 
            "            lambda __Int:\n", 
            "            (str(__Int)+'Pather',Pather.PatherClass()),\n", 
            "            xrange(3)\n", 
            "        )\n", 
            ")\n", 
            "\n", 
            "#link\n", 
            "MyLinker.link(\n", 
            "        map(\n", 
            "                lambda __Int:\n", 
            "                (str(__Int)+'Pather','/'+str(__Int-1)+'Pather/'+str(__Int)+'Pather') \n", 
            "                if __Int>0\n", 
            "                else\n", 
            "                (str(0)+'Pather','/2Pather/0Pather'),\n", 
            "                xrange(3)\n", 
            "            )\n", 
            "        )\n", 
            "\n", 
            "#Definition the AttestedStr\n", 
            "SYS._attest(\n", 
            "    [\n", 
            "        'MyLinker is '+SYS._str(\n", 
            "        MyLinker,\n", 
            "        **{\n", 
            "            'RepresentingBaseKeyStrsListBool':False,\n", 
            "            'RepresentingAlineaIsBool':False\n", 
            "        }\n", 
            "        )\n", 
            "    ]\n", 
            ")  \n", 
            "\n", 
            "#Print\n", 
            "\n", 
            "\n"
          ], 
          "outputs": [
            {
              "output_type": "stream", 
              "stream": "stdout", 
              "text": [
                "\n", 
                "\n", 
                "*****Start of the Attest *****\n", 
                "\n", 
                "MyLinker is < (LinkerClass), 4556354896>\n", 
                "   /{ \n", 
                "   /  '<New><Instance>0Pather' : < (PatherClass), 4556355216>\n", 
                "   /   /{ \n", 
                "   /   /  '<New><Instance>IdInt' : 4556355216\n", 
                "   /   /  '<Spe><Class>PathedChildKeyStr' : \n", 
                "   /   /  '<Spe><Class>PathedGetKeyStr' : \n", 
                "   /   /  '<Spe><Class>PathedKeyStrsList' : None\n", 
                "   /   /  '<Spe><Class>PathingKeyStr' : \n", 
                "   /   /}\n", 
                "   /  '<New><Instance>1Pather' : < (PatherClass), 4556355408>\n", 
                "   /   /{ \n", 
                "   /   /  '<New><Instance>IdInt' : 4556355408\n", 
                "   /   /  '<Spe><Class>PathedChildKeyStr' : \n", 
                "   /   /  '<Spe><Class>PathedGetKeyStr' : \n", 
                "   /   /  '<Spe><Class>PathedKeyStrsList' : None\n", 
                "   /   /  '<Spe><Class>PathingKeyStr' : \n", 
                "   /   /}\n", 
                "   /  '<New><Instance>2Pather' : < (PatherClass), 4556356048>\n", 
                "   /   /{ \n", 
                "   /   /  '<New><Instance>IdInt' : 4556356048\n", 
                "   /   /  '<Spe><Class>PathedChildKeyStr' : \n", 
                "   /   /  '<Spe><Class>PathedGetKeyStr' : \n", 
                "   /   /  '<Spe><Class>PathedKeyStrsList' : None\n", 
                "   /   /  '<Spe><Class>PathingKeyStr' : \n", 
                "   /   /}\n", 
                "   /  '<New><Instance>IdInt' : 4556354896\n", 
                "   /  '<Spe><Instance>LinkingPointListsList' : \n", 
                "   /   /[\n", 
                "   /   /  0 : ('0Pather', '/2Pather/0Pather')\n", 
                "   /   /  1 : ('1Pather', '/0Pather/1Pather')\n", 
                "   /   /  2 : ('2Pather', '/1Pather/2Pather')\n", 
                "   /   /]\n", 
                "   /}\n", 
                "\n", 
                "*****End of the Attest *****\n", 
                "\n", 
                "\n"
              ]
            }
          ], 
          "collapsed": false, 
          "metadata": {
            "slideshow": {
              "slide_type": "-"
            }
          }
        }
      ]
    }
  ], 
  "metadata": {
    "name": "", 
    "signature": ""
  }, 
  "nbformat_minor": 0
}