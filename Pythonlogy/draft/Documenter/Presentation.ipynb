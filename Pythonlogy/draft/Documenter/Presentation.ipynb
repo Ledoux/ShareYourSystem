{
  "nbformat": 3, 
  "worksheets": [
    {
      "cells": [
        {
          "source": "\n<!--\nFrozenIsBool False\n-->\n\n#Documenter\n\n##Doc\n----\n\n\n> \n> The Documenter export in the mkdoc the readme of a Module \n> \n> \n\n----\n\n<small>\nView the Documenter notebook on [NbViewer](http://nbviewer.ipython.org/url/shareyoursystem.ouvaton.org/Documenter.ipynb)\n</small>\n\n", 
          "cell_type": "markdown", 
          "prompt_number": 0, 
          "metadata": {
            "slideshow": {
              "slide_type": "slide"
            }
          }
        }, 
        {
          "source": "\n<!--\nFrozenIsBool False\n-->\n\n##Code\n\n----\n\n<ClassDocStr>\n\n----\n\n```python\n# -*- coding: utf-8 -*-\n\"\"\"\n\n\n<DefineSource>\n@Date : Fri Nov 14 13:20:38 2014 \\n\n@Author : Erwan Ledoux \\n\\n\n</DefineSource>\n\n\nThe Documenter export in the mkdoc the readme of a Module \n\n\"\"\"\n\n#<DefineAugmentation>\nimport ShareYourSystem as SYS\nBaseModuleStr=\"ShareYourSystem.Guiders.Installer\"\nDecorationModuleStr=\"ShareYourSystem.Classors.Classer\"\nSYS.setSubModule(globals())\n#</DefineAugmentation>\n\n#<ImportSpecificModules>\nimport os\nimport copy\n\nfrom ShareYourSystem.Interfacers import Loader,Writer\n#</ImportSpecificModules>\n\n#<DefineLocals>\nDocumentingSysFolderPathStr=SYS.ShareYourSystemLocalFolderPathStr\nDocumentingLibraryFolderPathStr=DocumentingSysFolderPathStr+'/docs/LibraryReference/'\n#</DefineLocals>\n\n#<DefineClass>\n@DecorationClass()\nclass DocumenterClass(BaseClass):\n\t\n\t#Definition\n\tRepresentingKeyStrsList=[\n\t\t\t\t\t\t\t\t'DocumentedModulePathStr',\n\t\t\t\t\t\t\t\t'DocumentedMkdocsList',\n\t\t\t\t\t\t\t\t'DocumentedModulePathStr'\n\t\t\t\t\t\t\t]\n\n\tdef default_init(self,\n\t\t\t\t\t\t_DocumentingNewIsBool=False,\n\t\t\t\t\t\t_DocumentingMkdocWriteIsBool=False,\n\t\t\t\t\t\t_DocumentedMkdocsList=None,\n\t\t\t\t\t\t_DocumentedMkdocsDict=None,\n\t\t\t\t\t\t**_KwargVariablesDict\n\t\t\t\t\t):\n\n\t\t#Call the parent __init__ method\n\t\tBaseClass.__init__(self,**_KwargVariablesDict)\n\n\t\t\n\tdef do_document(self):\n\t\t\t\t\n\t\t#first package\n\t\tself.package()\n\n\t\t#map\n\t\tself.DocumentedModulePathStr=self.PackagedModuleStr.replace('.','/')\n\t\tself.DocumentedNameStr=self.DocumentedModulePathStr.split('/')[-1]\n\n\t\t#debug\n\t\t'''\n\t\tself.debug(('self.',self,[\n\t\t\t\t\t\t\t'DocumentedModulePathStr',\n\t\t\t\t\t\t\t'DocumentedNameStr'\n\t\t\t\t\t\t\t]))\n\t\t'''\n\n\t\t#Load the readmes and write them into the docs Library reference folder\n\t\tself.load(\n\t\t\t**{\n\t\t\t\t'FolderingPathStr':SYS.PythonlogyLocalFolderPathStr+'/'+self.DocumentedModulePathStr,\n\t\t\t\t'FilingKeyStr':'Readme.md',\n\t\t\t\t'LoadingFormatStr':'txt'\n\t\t\t}\n\t\t).write(\n\t\t\t**{\n\t\t\t\t\t'FolderingPathStr':DocumentingLibraryFolderPathStr,\n\t\t\t\t\t'FilingKeyStr':self.DocumentedNameStr+'.md',\n\t\t\t\t\t'WritingLoadBool':True\n\t\t\t\t}\n\t\t) \n\n\t\t#Definition in the future yaml config mkdocs \n\t\tself.DocumentedMkdocsList=[\n\t\t\t\t'docs'.join(\n\t\t\t\t\tDocumentingLibraryFolderPathStr.split('docs/')[1:]\n\t\t\t\t)+self.DocumentedNameStr+'.md',\n\t\t\t\t'Library Reference',\n\t\t\t\tself.DocumentedNameStr\n\t\t\t]\n\n\t\t#debug\n\t\t'''\n\t\tself.debug(('self.',self,[\n\t\t\t\t\t\t\t\t\t'DocumentedMkdocsList'\n\t\t\t\t\t\t\t\t]))\n\t\t'''\n\n\n\t\t#Definition\n\t\tself.load(\n\t\t\t**{\n\t\t\t\t'FolderingPathStr':SYS.PythonlogyLocalFolderPathStr+self.__class__.__module__.replace(\n\t\t\t\t\t'.','/')\n\t\t\t\tif self.DocumentingNewIsBool\n\t\t\t\telse DocumentingSysFolderPathStr,\n\t\t\t\t'FilingKeyStr':'mkdocs.yml',\n\t\t\t\t'LoadingFormatStr':'yaml'\n\t\t\t}\n\t\t)\n\n\t\t#Add to the pages\n\t\tself.LoadedReadVariable['pages'].append(self.DocumentedMkdocsList)\n\n\t\t#Copy\n\t\tself.DocumentedMkdocsDict=copy.copy(\n\t\t\tself.LoadedReadVariable\n\t\t)\n\n\t\t#debug\n\t\t'''\n\t\tself.debug(('self.',self,[\n\t\t\t\t\t\t\t\t\t'DocumentedMkdocsDict'\n\t\t\t\t\t\t\t\t]))\n\t\t'''\n\n\t\tif self.DocumentingMkdocWriteIsBool:\n\n\t\t\t#Close and write now in the top root folder\n\t\t\tself.write(\n\t\t\t\tself.DocumentedMkdocsDict,\n\t\t\t\t**{\n\t\t\t\t\t'FolderingPathStr':DocumentingSysFolderPathStr,\n\t\t\t\t}\n\t\t\t).FiledFileVariable.close()\n\n\t\t#Return self\n\t\t#return self\n\n#</DefineClass>\n\n```\n\n<small>\nView the Documenter sources on <a href=\"https://github.com/Ledoux/ShareYourSystem/tree/master/Pythonlogy/ShareYourSystem/Guiders/Documenter\" target=\"_blank\">Github</a>\n</small>\n\n", 
          "cell_type": "markdown", 
          "prompt_number": 1, 
          "metadata": {
            "slideshow": {
              "slide_type": "subslide"
            }
          }
        }, 
        {
          "source": "\n<!---\nFrozenIsBool True\n-->\n\n##Example\n\nLet's create an empty class, which will automatically receive\nspecial attributes from the decorating ClassorClass,\nspecially the NameStr, that should be the ClassStr\nwithout the TypeStr in the end.", 
          "cell_type": "markdown", 
          "prompt_number": 2, 
          "metadata": {
            "slideshow": {
              "slide_type": "subslide"
            }
          }
        }, 
        {
          "cell_type": "code", 
          "prompt_number": 3, 
          "language": "python", 
          "input": [
            "\n", 
            "#ImportModules\n", 
            "import ShareYourSystem as SYS\n", 
            "from ShareYourSystem.Guiders import Documenter\n", 
            "\n", 
            "#Definition a Documenter instance\n", 
            "MyDocumenter=Documenter.DocumenterClass().document(\n", 
            "    True,\n", 
            "    **{\n", 
            "        'PackagingModuleVariable':'ShareYourSystem.Objects'\n", 
            "    }\n", 
            ")\n", 
            "    \n", 
            "#Definition the AttestedStr\n", 
            "SYS._attest(\n", 
            "    [\n", 
            "        'MyDocumenter is '+SYS._str(\n", 
            "        MyDocumenter,\n", 
            "        **{\n", 
            "            'RepresentingBaseKeyStrsListBool':False\n", 
            "            }\n", 
            "        )\n", 
            "    ]\n", 
            ")  \n", 
            "\n", 
            "#Print\n", 
            "\n", 
            "\n", 
            "\n", 
            "\n", 
            "\n", 
            "\n", 
            "\n"
          ], 
          "outputs": [
            {
              "output_type": "stream", 
              "stream": "stdout", 
              "text": [
                "\n", 
                "\n", 
                "*****Start of the Attest *****\n", 
                "\n", 
                "MyDocumenter is < (DocumenterClass), 4540815184>\n", 
                "   /{ \n", 
                "   /  '<New><Instance>DocumentedModulePathStr' : ShareYourSystem/Objects\n", 
                "   /  '<New><Instance>DocumentedNameStr' : Objects\n", 
                "   /  '<New><Instance>IdInt' : 4540815184\n", 
                "   /  '<Spe><Instance>DocumentedMkdocsList' : ['LibraryReference/Objects.md', 'Library Reference', 'Objects']\n", 
                "   /  '<Spe><Instance>DocumentedModulePathStr' : ShareYourSystem/Objects\n", 
                "   /}\n", 
                "\n", 
                "*****End of the Attest *****\n", 
                "\n", 
                "\n"
              ]
            }
          ], 
          "collapsed": false, 
          "metadata": {
            "slideshow": {
              "slide_type": "-"
            }
          }
        }
      ]
    }
  ], 
  "metadata": {
    "name": "", 
    "signature": ""
  }, 
  "nbformat_minor": 0
}