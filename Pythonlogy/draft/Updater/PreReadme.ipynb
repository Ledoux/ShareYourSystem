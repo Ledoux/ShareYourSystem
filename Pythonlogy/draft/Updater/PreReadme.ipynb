{
  "nbformat": 3, 
  "worksheets": [
    {
      "cells": [
        {
          "source": "\n<!--\nFrozenIsBool False\n-->\n\n#Updater\n\n##Doc\n----\n\n\n> \n> An Updater maps a __setitem__\n> \n> \n\n----\n\n<small>\nView the Updater notebook on [NbViewer](http://nbviewer.ipython.org/url/shareyoursystem.ouvaton.org/Updater.ipynb)\n</small>\n\n", 
          "cell_type": "markdown", 
          "prompt_number": 0, 
          "metadata": {
            "slideshow": {
              "slide_type": "slide"
            }
          }
        }, 
        {
          "source": "\n<!--\nFrozenIsBool False\n-->\n\n##Code\n\n----\n\n<ClassDocStr>\n\n----\n\n```python\n# -*- coding: utf-8 -*-\n\"\"\"\n\n<DefineSource>\n@Date : Fri Nov 14 13:20:38 2014 \\n\n@Author : Erwan Ledoux \\n\\n\n</DefineSource>\n\n\nAn Updater maps a __setitem__\n\n\"\"\"\n\n#<DefineAugmentation>\nimport ShareYourSystem as SYS\nBaseModuleStr=\"ShareYourSystem.Applyiers.Gatherer\"\nDecorationModuleStr=\"ShareYourSystem.Standards.Classors.Classer\"\nSYS.setSubModule(globals())\n#</DefineAugmentation>\n\n#<ImportSpecificModules>\n#</ImportSpecificModules>\n\n#<DefineClass>\n@DecorationClass()\nclass UpdaterClass(BaseClass):\n\t\n\t#Definition\n\tRepresentingKeyStrsList=[\n\t\t\t\t\t\t\t\t'UpdatingItemVariable'\n\t\t\t\t\t\t\t]\n\n\tdef default_init(self,\n\t\t\t\t_UpdatingItemVariable=None,\n\t\t\t\t**_KwargVariablesDict):\n\n\t\t#Call the parent __init__ method\n\t\tBaseClass.__init__(self,**_KwargVariablesDict)\n\t\t\n\tdef do_update(self):\n\t\t\"\"\" \"\"\"\n\n\t\t#debug\n\t\t'''\n\t\tself.debug(\"self.UpdatingItemVariable is \"+Representer.represent(\n\t\t\tself.UpdatingItemVariable,**{'RepresentingAlineaIsBool':False}))\n\t\t'''\n\t\t\n\t\t#Apply\n\t\tself.map('__setitem__',map(\n\t\t\t\t\t\t\t\t\tlambda __UpdatingItemTuple:\n\t\t\t\t\t\t\t\t\t{'LiargVariablesList':__UpdatingItemTuple},\n\t\t\t\t\t\t\t\t\tself.UpdatingItemVariable.items()\n\t\t\t\t\t\t\t\t\tif hasattr(self.UpdatingItemVariable,'items')\n\t\t\t\t\t\t\t\t\telse (self.UpdatingItemVariable \n\t\t\t\t\t\t\t\t\t\tif self.UpdatingItemVariable !=None\n\t\t\t\t\t\t\t\t\t\telse []\n\t\t\t\t\t\t\t\t\t)\n\t\t\t\t\t\t\t\t)\n\t\t)\n\n\t\t#Return\n\t\t#return self\n#</DefineClass>\n\n```\n\n<small>\nView the Updater sources on <a href=\"https://github.com/Ledoux/ShareYourSystem/tree/master/Pythonlogy/ShareYourSystem/Applyiers/Updater\" target=\"_blank\">Github</a>\n</small>\n\n", 
          "cell_type": "markdown", 
          "prompt_number": 1, 
          "metadata": {
            "slideshow": {
              "slide_type": "subslide"
            }
          }
        }, 
        {
          "source": "\n<!---\nFrozenIsBool True\n-->\n\n##Example\n\nUpdate is possible with a TuplesList or a Dict (and OrderedDict)", 
          "cell_type": "markdown", 
          "prompt_number": 2, 
          "metadata": {
            "slideshow": {
              "slide_type": "subslide"
            }
          }
        }, 
        {
          "cell_type": "code", 
          "prompt_number": 3, 
          "language": "python", 
          "input": [
            "#ImportModules\n", 
            "import ShareYourSystem as SYS\n", 
            "from ShareYourSystem.Applyiers import Updater\n", 
            "\n", 
            "#Update several things\n", 
            "MyUpdater=Updater.UpdaterClass(\n", 
            "    ).update(\n", 
            "        [\n", 
            "            ('MyInt',0),\n", 
            "            ('MyFloat',0.2)\n", 
            "        ]\n", 
            "    ).update(\n", 
            "        {\n", 
            "            'MyStr':\"hello\"\n", 
            "        }\n", 
            "    )\n", 
            "    \n", 
            "#Definition the AttestedStr\n", 
            "SYS._attest(\n", 
            "    [\n", 
            "        'MyUpdater is '+SYS._str(\n", 
            "        MyUpdater,\n", 
            "        **{\n", 
            "            'RepresentingBaseKeyStrsListBool':False,\n", 
            "            'RepresentingAlineaIsBool':False\n", 
            "        }\n", 
            "        )\n", 
            "    ]\n", 
            ")  \n", 
            "\n", 
            "#Print\n", 
            "\n", 
            "\n"
          ], 
          "outputs": [
            {
              "output_type": "stream", 
              "stream": "stdout", 
              "text": [
                "\n", 
                "\n", 
                "*****Start of the Attest *****\n", 
                "\n", 
                "MyUpdater is < (UpdaterClass), 4555210640>\n", 
                "   /{ \n", 
                "   /  '<New><Instance>IdInt' : 4555210640\n", 
                "   /  '<New><Instance>MyFloat' : 0.2\n", 
                "   /  '<New><Instance>MyInt' : 0\n", 
                "   /  '<New><Instance>MyStr' : hello\n", 
                "   /  '<Spe><Instance>UpdatingItemVariable' : \n", 
                "   /   /{ \n", 
                "   /   /  'MyStr' : hello\n", 
                "   /   /}\n", 
                "   /}\n", 
                "\n", 
                "*****End of the Attest *****\n", 
                "\n", 
                "\n"
              ]
            }
          ], 
          "collapsed": false, 
          "metadata": {
            "slideshow": {
              "slide_type": "-"
            }
          }
        }
      ]
    }
  ], 
  "metadata": {
    "name": "", 
    "signature": ""
  }, 
  "nbformat_minor": 0
}