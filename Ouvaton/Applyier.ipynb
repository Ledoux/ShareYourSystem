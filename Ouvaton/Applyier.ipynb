{
  "nbformat": 3, 
  "worksheets": [
    {
      "cells": [
        {
          "source": "\n<!--\nFrozenIsBool False\n-->\n\n#Applyier\n\n##Doc\n----\n\n\n> \n> An Applyier apply a function thanks to a ApplyingMethodStr and an ApplyingArgDict.\n> This property is going to be useful to begin to establish mappping methods and \n> commanding calls in deep structures.\n> \n> \n\n----\n\n<small>\nView the Applyier notebook on [NbViewer](http://nbviewer.ipython.org/url/shareyoursystem.ouvaton.org/Applyier.ipynb)\n</small>\n\n", 
          "cell_type": "markdown", 
          "prompt_number": 0, 
          "metadata": {
            "slideshow": {
              "slide_type": "slide"
            }
          }
        }, 
        {
          "source": "\n<!--\nFrozenIsBool False\n-->\n\nView the Applyier sources on [Github](https://github.com/Ledoux/ShareYourSystem/tree/master/ShareYourSystem/Applyiers/Installer)\n\n", 
          "cell_type": "markdown", 
          "prompt_number": 1, 
          "metadata": {
            "slideshow": {
              "slide_type": "subslide"
            }
          }
        }, 
        {
          "source": "\n<!---\nFrozenIsBool True\n-->\n\n##Example\n\nLet's create an empty class, which will automatically receive\nspecial attributes from the decorating ClassorClass,\nspecially the NameStr, that should be the ClassStr\nwithout the TypeStr in the end.", 
          "cell_type": "markdown", 
          "prompt_number": 2, 
          "metadata": {
            "slideshow": {
              "slide_type": "subslide"
            }
          }
        }, 
        {
          "cell_type": "code", 
          "prompt_number": 3, 
          "language": "python", 
          "input": [
            "\n", 
            "#ImportModules\n", 
            "import ShareYourSystem as SYS\n", 
            "from ShareYourSystem.Applyiers import Applyier\n", 
            "\n", 
            "#Definition an applyier instance\n", 
            "MyApplyier=Applyier.ApplyierClass()\n", 
            "\n", 
            "#Apply just a set... (even if we can do shorter !)\n", 
            "MyApplyier.apply(\n", 
            "    '__setitem__',\n", 
            "    {'LiargVariablesList':['MyStr','Hello']}\n", 
            ")\n", 
            "\n", 
            "#Apply an apply is possible\n", 
            "MyApplyier.apply(\n", 
            "    '__setitem__',\n", 
            "    {'LiargVariablesList':[\n", 
            "            '__setitem__',\n", 
            "            {\n", 
            "                'LiargVariablesList':\n", 
            "                ['MyNotLostStr','ben he']\n", 
            "            }\n", 
            "        ]\n", 
            "    }\n", 
            ")\n", 
            "    \n", 
            "#Definition the AttestedStr\n", 
            "SYS._attest(\n", 
            "    [\n", 
            "    'MyApplyier is '+SYS._str(\n", 
            "            MyApplyier,\n", 
            "            **{\n", 
            "            'RepresentingBaseKeyStrsListBool':False,\n", 
            "            'RepresentingAlineaIsBool':False\n", 
            "            }\n", 
            "        )\n", 
            "    ]\n", 
            ") \n", 
            "\n", 
            "#Print\n", 
            "\n", 
            "\n"
          ], 
          "outputs": [
            {
              "output_type": "stream", 
              "stream": "stdout", 
              "text": [
                "\n", 
                "\n", 
                "*****Start of the Attest *****\n", 
                "\n", 
                "MyApplyier is < (ApplyierClass), 4550543888>\n", 
                "   /{ \n", 
                "   /  '<New><Instance>IdInt' : 4550543888\n", 
                "   /  '<New><Instance>MyNotLostStr' : ben he\n", 
                "   /  '<New><Instance>MyStr' : Hello\n", 
                "   /}\n", 
                "\n", 
                "*****End of the Attest *****\n", 
                "\n", 
                "\n"
              ]
            }
          ], 
          "collapsed": false, 
          "metadata": {
            "slideshow": {
              "slide_type": "-"
            }
          }
        }
      ]
    }
  ], 
  "metadata": {
    "name": "", 
    "signature": ""
  }, 
  "nbformat_minor": 0
}