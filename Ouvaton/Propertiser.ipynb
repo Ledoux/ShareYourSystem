{
  "nbformat": 3, 
  "worksheets": [
    {
      "cells": [
        {
          "source": "\n<!--\nFrozenIsBool False\n-->\n\n#Propertiser\n\n##Doc\n----\n\n\n> \n> The Propertiser is an augmented Defaultor because it will set defaults attributes\n> possibly in properties for the new-style decorated classes. This can set objects\n> with high controlling features thanks to the binding \n> \n> \n\n----\n\n<small>\nView the Propertiser notebook on [NbViewer](http://nbviewer.ipython.org/url/shareyoursystem.ouvaton.org/Propertiser.ipynb)\n</small>\n\n", 
          "cell_type": "markdown", 
          "prompt_number": 0, 
          "metadata": {
            "slideshow": {
              "slide_type": "slide"
            }
          }
        }, 
        {
          "source": "\n<!---\nFrozenIsBool True\n-->\n\n##Example\n\nGoing back to the Doer cell when we invented a very minimalist Maker.\nWe now define its MakingMyFloat as a property that can be then defined as \na \"binding\" attribute thanks to the setMakingMyFloat method definition, \nthat will be linked to the fset attribute of the property object. ", 
          "cell_type": "markdown", 
          "prompt_number": 1, 
          "metadata": {
            "slideshow": {
              "slide_type": "subslide"
            }
          }
        }, 
        {
          "cell_type": "code", 
          "prompt_number": 2, 
          "language": "python", 
          "input": [
            "#ImportModules\n", 
            "import ShareYourSystem as SYS\n", 
            "from ShareYourSystem.Classors import Propertiser,Attester\n", 
            "from ShareYourSystem.Objects import Initiator\n", 
            "\n", 
            "#Definition a MakerClass decorated by the PropertiserClass\n", 
            "@Propertiser.PropertiserClass()\n", 
            "class MakerClass(Initiator.InitiatorClass):\n", 
            "\n", 
            "    def default_init(self,\n", 
            "            _MakingMyFloat={\n", 
            "                            'DefaultingSetType':property,\n", 
            "                            'PropertizingInitVariable':3.,\n", 
            "                            'PropertizingDocStr':'I am doing the thing here'\n", 
            "                            },\n", 
            "            _MakingMyList={\n", 
            "                            'DefaultingSetType':property,\n", 
            "                            'PropertizingInitVariable':[],\n", 
            "                            'PropertizingDocStr':'I am doing the thing here'\n", 
            "                            },\n", 
            "            _MakingMyInt={'DefaultingSetType':int},\n", 
            "            _MadeMyInt=0\n", 
            "        ):\n", 
            "        pass\n", 
            "\n", 
            "    #Definition a binding function\n", 
            "    def setMakingMyFloat(self,_SettingValueVariable):\n", 
            "\n", 
            "        #Print\n", 
            "        #print('I am going to make the job directly !')\n", 
            "\n", 
            "        #set the value of the \"hidden\" property variable\n", 
            "        self._MakingMyFloat=_SettingValueVariable\n", 
            "\n", 
            "        #Bind with MadeInt setting\n", 
            "        self.MadeMyInt=int(self._MakingMyFloat)\n", 
            "\n", 
            "    #Definition a binding function\n", 
            "    def setMakingMyList(self,_SettingValueVariable):\n", 
            "\n", 
            "        #set the value of the \"hidden\" property variable\n", 
            "        self._MakingMyList=_SettingValueVariable+['Hellllllo']\n", 
            "\n", 
            "\n", 
            "#Definition a default instance \n", 
            "DefaultMaker=MakerClass()\n", 
            "\n", 
            "#Definition a special instance\n", 
            "SpecialMaker=MakerClass(_MakingMyFloat=5,_MakingMyList=[4])\n", 
            "\n", 
            "#Definition the AttestedStr\n", 
            "SYS._attest(\n", 
            "    [\n", 
            "        'MakerClass.PropertizedDefaultTuplesList is '+SYS._str(\n", 
            "            MakerClass.PropertizedDefaultTuplesList),\n", 
            "        'What are you saying DefaultMaker ?',\n", 
            "        'DefaultMaker.__dict__ is '+str(DefaultMaker.__dict__),\n", 
            "        'DefaultMaker.MakingMyFloat is '+str(DefaultMaker.MakingMyFloat),\n", 
            "        'DefaultMaker.MakingMyList is '+str(DefaultMaker.MakingMyList),\n", 
            "        'DefaultMaker.MadeMyInt is '+str(DefaultMaker.MadeMyInt),\n", 
            "        'What are you saying SpecialMaker ?',\n", 
            "        'SpecialMaker.__dict__ is '+str(SpecialMaker.__dict__),\n", 
            "        'SpecialMaker.MakingMyFloat is '+str(SpecialMaker.MakingMyFloat),\n", 
            "        'SpecialMaker.MakingMyList is '+str(SpecialMaker.MakingMyList),\n", 
            "        'SpecialMaker.MadeMyInt is '+str(SpecialMaker.MadeMyInt),\n", 
            "    ]\n", 
            ") \n", 
            "\n", 
            "#Print\n", 
            "\n"
          ], 
          "outputs": [
            {
              "output_type": "stream", 
              "stream": "stdout", 
              "text": [
                "\n", 
                "\n", 
                "*****Start of the Attest *****\n", 
                "\n", 
                "MakerClass.PropertizedDefaultTuplesList is \n", 
                "   /[\n", 
                "   /  0 : \n", 
                "   /   /(\n", 
                "   /   /  0 : MakingMyFloat\n", 
                "   /   /  1 : <property object at 0x103314f70>\n", 
                "   /   /)\n", 
                "   /  1 : \n", 
                "   /   /(\n", 
                "   /   /  0 : MakingMyList\n", 
                "   /   /  1 : <property object at 0x103314e68>\n", 
                "   /   /)\n", 
                "   /]\n", 
                "\n", 
                "------\n", 
                "\n", 
                "What are you saying DefaultMaker ?\n", 
                "\n", 
                "------\n", 
                "\n", 
                "DefaultMaker.__dict__ is {'IdInt': 4348604944}\n", 
                "\n", 
                "------\n", 
                "\n", 
                "DefaultMaker.MakingMyFloat is 3.0\n", 
                "\n", 
                "------\n", 
                "\n", 
                "DefaultMaker.MakingMyList is []\n", 
                "\n", 
                "------\n", 
                "\n", 
                "DefaultMaker.MadeMyInt is 0\n", 
                "\n", 
                "------\n", 
                "\n", 
                "What are you saying SpecialMaker ?\n", 
                "\n", 
                "------\n", 
                "\n", 
                "SpecialMaker.__dict__ is {'IdInt': 4348606416, 'MadeMyInt': 5, '_MakingMyFloat': 5, '_MakingMyList': [4, 'Hellllllo']}\n", 
                "\n", 
                "------\n", 
                "\n", 
                "SpecialMaker.MakingMyFloat is 5\n", 
                "\n", 
                "------\n", 
                "\n", 
                "SpecialMaker.MakingMyList is [4, 'Hellllllo']\n", 
                "\n", 
                "------\n", 
                "\n", 
                "SpecialMaker.MadeMyInt is 5\n", 
                "\n", 
                "*****End of the Attest *****\n", 
                "\n", 
                "\n"
              ]
            }
          ], 
          "collapsed": false, 
          "metadata": {
            "slideshow": {
              "slide_type": "-"
            }
          }
        }
      ]
    }
  ], 
  "metadata": {
    "name": "", 
    "signature": ""
  }, 
  "nbformat_minor": 0
}