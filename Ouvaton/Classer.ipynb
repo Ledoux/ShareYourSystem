{
  "nbformat": 3, 
  "worksheets": [
    {
      "cells": [
        {
          "source": "\n<!--\nFrozenIsBool False\n-->\n\n#Classer\n\n##Doc\n----\n\n\n> \n> The Classer\n> \n> \n\n----\n\n<small>\nView the Classer notebook on [NbViewer](http://nbviewer.ipython.org/url/shareyoursystem.ouvaton.org/Classer.ipynb)\n</small>\n\n", 
          "cell_type": "markdown", 
          "prompt_number": 0, 
          "metadata": {
            "slideshow": {
              "slide_type": "slide"
            }
          }
        }, 
        {
          "source": "\n<!---\nFrozenIsBool True\n-->\n\n##Example\n\nNote that now setting a propertize method in a derived class works also and overwrite the previous one. (without redefine the property)", 
          "cell_type": "markdown", 
          "prompt_number": 1, 
          "metadata": {
            "slideshow": {
              "slide_type": "subslide"
            }
          }
        }, 
        {
          "cell_type": "code", 
          "prompt_number": 2, 
          "language": "python", 
          "input": [
            "#ImportModules\n", 
            "import ShareYourSystem as SYS\n", 
            "\n", 
            "#Define\n", 
            "@SYS.ClasserClass()\n", 
            "class MakerClass(object):\n", 
            "\n", 
            "    def default_init(self,\n", 
            "            _MakingMyFloat={\n", 
            "                            'DefaultValueType':property,\n", 
            "                            'PropertyInitVariable':3.,\n", 
            "                            'PropertyDocStr':'I am doing the thing here'\n", 
            "                            },\n", 
            "            _MakingMyList={\n", 
            "                            'DefaultValueType':property,\n", 
            "                            'PropertyInitVariable':[],\n", 
            "                            'PropertyDocStr':'I am doing the thing here'\n", 
            "                            },\n", 
            "            _MakingMyInt={'DefaultValueType':int},\n", 
            "            _MadeMyInt=0\n", 
            "        ):\n", 
            "        object.__init__(self)\n", 
            "\n", 
            "    def propertize_setMakingMyFloat(self,_SettingValueVariable):\n", 
            "\n", 
            "        #Print\n", 
            "        #print('I am going to make the job directly !')\n", 
            "\n", 
            "        #set the value of the \"hidden\" property variable\n", 
            "        self._MakingMyFloat=_SettingValueVariable\n", 
            "\n", 
            "        #Bind with MadeInt setting\n", 
            "        self.MadeMyInt=int(self._MakingMyFloat)\n", 
            "\n", 
            "    def propertize_setMakingMyList(self,_SettingValueVariable):\n", 
            "\n", 
            "        #set the value of the \"hidden\" property variable\n", 
            "        self._MakingMyList=_SettingValueVariable+['Hellllllo']\n", 
            "\n", 
            "\n", 
            "#Define\n", 
            "@SYS.ClasserClass()\n", 
            "class BuilderClass(MakerClass):\n", 
            "\n", 
            "    def default_init(\n", 
            "                        self\n", 
            "                    ):\n", 
            "        SYS.MakerClass.__init__(self)\n", 
            "\n", 
            "    def propertize_setMakingMyList(self,_SettingValueVariable):\n", 
            "\n", 
            "        #call the base method\n", 
            "        MakerClass.propertize_setMakingMyList(self,_SettingValueVariable)\n", 
            "\n", 
            "        #set the value of the \"hidden\" property variable\n", 
            "        self._MakingMyList+=['Build en plus !']\n", 
            "\n", 
            "#Definition a special instance\n", 
            "SpecialBuilder=BuilderClass(_MakingMyFloat=5,_MakingMyList=[4])\n", 
            "\n", 
            "#Definition the AttestedStr\n", 
            "print('\\n'.join(\n", 
            "    [\n", 
            "        'What are you saying SpecialBuilder ?',\n", 
            "        'SpecialBuilder.__dict__ is '+str(SpecialBuilder.__dict__),\n", 
            "        'SpecialBuilder.MakingMyFloat is '+str(SpecialBuilder.MakingMyFloat),\n", 
            "        'SpecialBuilder.MakingMyList is '+str(SpecialBuilder.MakingMyList),\n", 
            "        'SpecialBuilder.MadeMyInt is '+str(SpecialBuilder.MadeMyInt),\n", 
            "    ]\n", 
            "    )\n", 
            ") \n", 
            "\n", 
            "#Print\n", 
            "\n"
          ], 
          "outputs": [
            {
              "output_type": "stream", 
              "stream": "stdout", 
              "text": [
                "What are you saying SpecialBuilder ?\n", 
                "SpecialBuilder.__dict__ is {'DefaultInitBool': True}\n", 
                "SpecialBuilder.MakingMyFloat is 3.0\n", 
                "SpecialBuilder.MakingMyList is []\n", 
                "SpecialBuilder.MadeMyInt is 0\n"
              ]
            }
          ], 
          "collapsed": false, 
          "metadata": {
            "slideshow": {
              "slide_type": "-"
            }
          }
        }, 
        {
          "source": "\n<!--\nFrozenIsBool False\n-->\n\n##Code\n\n----\n\n<ClassDocStr>\n\n<small>\nView the Classer sources on <a href=\"https://github.com/Ledoux/ShareYourSystem/tree/master/Pythonlogy/ShareYourSystem/Standards/Classors/Classer\" target=\"_blank\">Github</a>\n</small>\n\n----\n\n```python\n# -*- coding: utf-8 -*-\n\"\"\"\n\n\n<DefineSource>\n@Date : Fri Nov 14 13:20:38 2014 \\n\n@Author : Erwan Ledoux \\n\\n\n</DefineSource>\n\n\nThe Classer\n\n\"\"\"\n\n#<DefineAugmentation>\nimport ShareYourSystem as SYS\nBaseModuleStr=\"ShareYourSystem.Standards.Classors.Mimicker\"\nDecorationModuleStr=\"ShareYourSystem.Standards.Classors.Tester\"\nSYS.setSubModule(globals())\n#</DefineAugmentation>\n\n#<ImportSpecificModules>\nMimicker=BaseModule\nfrom ShareYourSystem.Standards.Classors import Propertiser\n#</ImportSpecificModules>\n\n#<Define_Class>\n@DecorationClass()\nclass ClasserClass(BaseClass):\n\n\tdef default_init(self,\t\n\t\t\t\t\t\t_ClassingSwitchMethodStrsList=None,\t\n\t\t\t\t\t\t_ClassingWatchMethodStrsList=None,\n\t\t\t\t\t\t_ClassingStructureVariable=None,\n\t\t\t\t\t\t**_KwargVariablesDict\n\t\t\t\t):\n\t\t\n\t\t#Call the parent init method\n\t\tBaseClass.__init__(self,**_KwargVariablesDict)\n\n\tdef __call__(self,_Class):\n\n\t\t#Call the parent method\n\t\tMimicker.MimickerClass.__bases__[0].__call__(self,_Class)\n\n\t\t#class\n\t\tself._class()\n\n\t\t#Return\n\t\treturn _Class\n\n\tdef do__class(self):\n\n\t\t#Definition the MethodsList\n\t\tClassedFunctionsList=SYS._filter(\n\t\t\tlambda __ListedVariable:\n\t\t\t\ttype(__ListedVariable).__name__==\"function\"\n\t\t\t\tif hasattr(__ListedVariable,'__name__')\n\t\t\t\telse False,\n\t\t\t\tself.DoClass.__dict__.values()\n\t\t)\n\n\t\t#debug\n\t\t'''\n\t\tprint('l 66 Classer')\n\t\tprint(\"ClassedFunctionsList is \",WatchedFunctionsList)\n\t\tprint('Set all the mimick methods')\n\t\tprint('')\n\t\t'''\n\n\t\t#/###################/#\n\t\t# Mimic all that you can find \n\t\t#\n\n\t\t#Get all the hooking methods\n\t\tClassedMimickFunctionsList=SYS._filter(\n\t\t\tlambda __ListedVariable:\n\t\t\t__ListedVariable.__name__.startswith(\n\t\t\t\t\tMimicker.MimickingWrapPrefixStr\n\t\t\t)\n\t\t\tif hasattr(__ListedVariable,'__name__')\n\t\t\telse False,\n\t\t\tClassedFunctionsList\n\t\t)\n\n\t\t#debug\n\t\t'''\n\t\tprint('l 82 Classer')\n\t\tprint(\"ClassedMimickFunctionsList is \",ClassedMimickFunctionsList)\n\t\tprint('')\n\t\t'''\n\n\t\t#map\n\t\tmap(\t\n\t\t\t\tlambda __ClassedMimickFunction:\n\t\t\t\tself.mimic(\n\t\t\t\t\tMimicker.MimickingWrapPrefixStr.join(\n\t\t\t\t\t\t__ClassedMimickFunction.__name__.split(\n\t\t\t\t\t\t\tMimicker.MimickingWrapPrefixStr)[1:]\n\t\t\t\t\t\t)\n\t\t\t\t),\n\t\t\t\tClassedMimickFunctionsList\n\t\t\t)\n\n\t\t#/###################/#\n\t\t# Set the watch methods \n\t\t#\n\n\t\t#debug\n\t\t'''\n\t\tprint('l 104 Classer')\n\t\tprint('set the watch functions')\n\t\tprint('self.ClassingWatchMethodStrsList is ',self.ClassingWatchMethodStrsList)\n\t\tprint('self.DoClass.DoMethodStr is ',self.DoClass.DoMethodStr)\n\t\tprint('')\n\t\t'''\n\t\t\n\t\t#map\n\t\tmap(\t\n\t\t\t\tlambda __ClassingWatchUnboundMethodStr:\n\t\t\t\tself.watch(\n\t\t\t\t\tTrue,\n\t\t\t\t\t**{'ObservingWrapMethodStr':__ClassingWatchUnboundMethodStr}\n\t\t\t\t),\n\t\t\t\tself.ClassingWatchMethodStrsList\n\t\t\t)\n\n\t\t#/###################/#\n\t\t# Set the switch methods \n\t\t#\n\n\t\t#debug\n\t\t'''\n\t\tprint('l 104 Classer')\n\t\tprint('set the switch functions')\n\t\tprint('self.ClassingSwitchMethodStrsList is ',self.ClassingSwitchMethodStrsList)\n\t\tprint('self.DoClass.DoMethodStr is ',self.DoClass.DoMethodStr)\n\t\tprint('')\n\t\t'''\n\t\t\n\t\t#map\n\t\tmap(\t\n\t\t\t\tlambda __ClassingSwitchUnboundMethodStr:\n\t\t\t\tself.switch(\n\t\t\t\t\tTrue,\n\t\t\t\t\t__ClassingSwitchUnboundMethodStr\n\t\t\t\t),\n\t\t\t\tself.ClassingSwitchMethodStrsList\n\t\t\t)\n\n\t\t#/###################/#\n\t\t# Check for overriden propertize_ methods \n\t\t#\n\n\t\t#Debug\n\t\t'''\n\t\tprint('Classer l 125')\n\t\tprint('Check for overriden propertize_ methods ')\n\t\tprint('self.DoClass.InspectMethodDict')\n\t\tprint(self.DoClass.InspectMethodDict)\n\t\tprint('')\n\t\t'''\n\n\t\t#filter\n\t\tClassedPropertyNewMethodDict=dict(\n\t\t\tSYS._filter(\n\t\t\t\tlambda __MethodItemTuple:\n\t\t\t\t__MethodItemTuple[0].startswith(\n\t\t\t\t\t\tPropertiser.PropertyPrefixStr\n\t\t\t\t\t) and (\n\t\t\t\t\tSYS.getNewMethodBool(self.DoClass,__MethodItemTuple[0])\n\t\t\t\t\t#getattr(\n\t\t\t\t\t#\tself.DoClass.__bases__[0],\n\t\t\t\t\t#\t__MethodItemTuple[0]\n\t\t\t\t\t#)!=__MethodItemTuple[1]\n\t\t\t\t\t#if hasattr(self.DoClass.__bases__[0],\n\t\t\t\t\t#\t__MethodItemTuple[0]\n\t\t\t\t\t#) else True\n\t\t\t\t),\n\t\t\t\tself.DoClass.InspectMethodDict.items()\n\t\t\t)\n\t\t)\n\n\t\t#Debug\n\t\t'''\n\t\tprint('Classer l 147')\n\t\tprint('self.DoClass is ')\n\t\tprint(self.DoClass)\n\t\tprint('ClassedPropertyNewMethodDict is')\n\t\tprint(SYS.indent(ClassedPropertyNewMethodDict))\n\t\tprint('')\n\t\t'''\n\t\t\n\t\t#map\n\t\tClassedPropertyKeyStrsList=map(\n\t\t\t\tlambda __PropertizedKeyStr:\n\t\t\t\tSYS.deprefix(\n\t\t\t\t\t__PropertizedKeyStr,\n\t\t\t\t\tPropertiser.PropertyPrefixStr\n\t\t\t\t)[3:],\n\t\t\t\tClassedPropertyNewMethodDict.keys()\n\t\t\t)\n\n\t\t#map reset the properties\n\t\tmap(\n\t\t\t\tlambda __PropertyKeyStr:\n\t\t\t\tsetattr(\n\t\t\t\t\t\tself.DoClass,\n\t\t\t\t\t\t__PropertyKeyStr,\n\t\t\t\t\t\tproperty(\n\t\t\t\t\t\t\t\tgetattr(\n\t\t\t\t\t\t\t\t\tself.DoClass,\n\t\t\t\t\t\t\t\t\tPropertiser.PropertyPrefixStr+'get'+__PropertyKeyStr\n\t\t\t\t\t\t\t\t),\n\t\t\t\t\t\t\t\tgetattr(\n\t\t\t\t\t\t\t\t\tself.DoClass,\n\t\t\t\t\t\t\t\t\tPropertiser.PropertyPrefixStr+'set'+__PropertyKeyStr\n\t\t\t\t\t\t\t\t),\n\t\t\t\t\t\t\t\tgetattr(\n\t\t\t\t\t\t\t\t\tself.DoClass,\n\t\t\t\t\t\t\t\t\tPropertiser.PropertyPrefixStr+'del'+__PropertyKeyStr\n\t\t\t\t\t\t\t\t)\n\t\t\t\t\t\t\t)\n\t\t\t\t\t),\n\t\t\t\tClassedPropertyKeyStrsList\n\t\t\t)\n\n\t\t#/###################/#\n\t\t# Set maybe a structure \n\t\t#\n\n\t\t#Check\n\t\tif self.ClassingStructureVariable!=None:\n\n\t\t\t#Check\n\t\t\tif hasattr(\n\t\t\t\t\tself.ClassingStructureVariable,'items'\n\t\t\t\t):\n\t\t\t\tClassedStructureVariable=self.ClassingStructureVariable.items()\n\t\t\telse:\n\t\t\t\tClassedStructureVariable=self.ClassingStructureVariable\n\n\n\t\t\t#debug\n\t\t\t'''\n\t\t\tprint('Classer l 241')\n\t\t\tprint('We structure here')\n\t\t\tprint('self.ClassingStructureVariable is ')\n\t\t\tprint(self.ClassingStructureVariable)\n\t\t\tprint('')\n\t\t\t'''\n\n\t\t\t#map add the sing plurals\n\t\t\tmap(\n\t\t\t\tlambda __ItemTuple:\n\t\t\t\tSYS.addSingPlural(\n\t\t\t\t\t*__ItemTuple\n\t\t\t\t),\n\t\t\t\tClassedStructureVariable\n\t\t\t)\n\n\t\t\t#Define a class\n\t\t\tclass StructureClass(SYS.StructurerClass):pass\n\t\t\tStructureClass.__name__=SYS.getClassStrWithNameStr(self.DoClass.NameStr+'sStructurer')\n\t\t\tStructureClass.ManagingValueClass=self.DoClass\n\n\t\t\t#set\n\t\t\tsetattr(\n\t\t\t\tself.Module,\n\t\t\t\tStructureClass.__name__,\n\t\t\t\tStructureClass\n\t\t\t)\n\n\t\t\t#dict\n\t\t\tClassesDict=dict(\n\t\t\t\t\tmap(\n\t\t\t\t\t\tlambda __ItemTuple:\n\t\t\t\t\t\t(__ItemTuple[1],StructureClass),\n\t\t\t\t\t\tClassedStructureVariable\n\t\t\t\t\t)\n\t\t\t\t)\n\n\t\t\t#map\n\t\t\tif self.DoClass.TeamingClassesDict==None:\n\t\t\t\tself.DoClass.TeamingClassesDict=ClassesDict\n\t\t\telse:\n\t\t\t\tself.DoClass.TeamingClassesDict.update(\n\t\t\t\t\tClassesDict\n\t\t\t\t)\n\n\n#</DefineClass>\n\n\n```\n\n", 
          "cell_type": "markdown", 
          "prompt_number": 3, 
          "metadata": {
            "slideshow": {
              "slide_type": "subslide"
            }
          }
        }
      ]
    }
  ], 
  "metadata": {
    "name": "", 
    "signature": ""
  }, 
  "nbformat_minor": 0
}