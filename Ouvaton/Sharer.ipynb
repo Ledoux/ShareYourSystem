{
  "nbformat": 3, 
  "worksheets": [
    {
      "cells": [
        {
          "source": "\n<!--\nFrozenIsBool False\n-->\n\n#Sharer\n\n##Doc\n----\n\n\n> \n> A Sharer can set attributes at the level of the class\n> \n> \n\n----\n\n<small>\nView the Sharer notebook on [NbViewer](http://nbviewer.ipython.org/url/shareyoursystem.ouvaton.org/Sharer.ipynb)\n</small>\n\n", 
          "cell_type": "markdown", 
          "prompt_number": 0, 
          "metadata": {
            "slideshow": {
              "slide_type": "slide"
            }
          }
        }, 
        {
          "source": "\n<!--\nFrozenIsBool False\n-->\n\n##Code\n\n----\n\n<ClassDocStr>\n\n----\n\n```python\n# -*- coding: utf-8 -*-\n\"\"\"\n\n\n<DefineSource>\n@Date : Fri Nov 14 13:20:38 2014 \\n\n@Author : Erwan Ledoux \\n\\n\n</DefineSource>\n\n\nA Sharer can set attributes at the level of the class\n\n\"\"\"\n\n#<DefineAugmentation>\nimport ShareYourSystem as SYS\nBaseModuleStr=\"ShareYourSystem.Itemizers.Grasper\"\nDecorationModuleStr=\"ShareYourSystem.Classors.Classer\"\nSYS.setSubModule(globals())\n#</DefineAugmentation>\n\n#<ImportSpecificModules>\nfrom ShareYourSystem.Itemizers import Pather\n#</ImportSpecificModules>\n\n#<DefineLocals>\nSharingStartStr=\"__class__.\"\n#</DefineLocals>\n\n#<DefineClass>\n@DecorationClass()\nclass SharerClass(BaseClass):\n\n\t#Definition\n\tRepresentingKeyStrsList=[\n\t\t\t\t\t\t\t\t\t'SharingKeyStr',\n\t\t\t\t\t\t\t\t\t'SharingValueVariable',\n\t\t\t\t\t\t\t\t\t'SharedSetKeyStr',\n\t\t\t\t\t\t\t\t\t'SharedClassDict'\n\t\t\t\t\t\t\t\t]\n\n\tdef default_init(self,\n\t\t\t\t_SharingKeyStr=\"\", \t\t\t\t\t\n\t\t\t\t_SharingValueVariable=None, \t\t\t\t\n\t\t\t\t_SharedSetKeyStr=\"\" ,\n\t\t\t\t_SharedClassDict=None,\t\t\t\t\n\t\t\t\t**_KwargVariablesDict\n\t\t\t\t):\n\n\t\t#Call the parent init method\n\t\tBaseClass.__init__(self,**_KwargVariablesDict)\n\n\tdef do_share(self):\n\n\t\t#set\n\t\tself.SharedSetKeyStr=SharingStartStr.join(self.SharingKeyStr.split(SharingStartStr)[1:])\n\n\t\t#set at the level of the class\n\t\tsetattr(self.__class__,self.SharedSetKeyStr,self.SharingValueVariable)\n\n\t\t#debug\n\t\t'''\n\t\tself.debug(\n\t\t\t\t\t('self.',self,[\n\t\t\t\t\t\t\t\t\t'SharedSetKeyStr',\n\t\t\t\t\t\t\t\t])\n\t\t\t\t)\n\t\t'''\n\n\t#<Hook>@Hooker.HookerClass(**{'HookingAfterVariablesList':[BaseClass.get]})\n\t#@Imitater.ImitaterClass()\n\tdef mimic_get(self):\n\n\t\t#debug\n\t\t'''\n\t\tself.debug(('self.',self,['GettingKeyVariable']))\n\t\t'''\n\n\t\t#Deep get\n\t\tif self.GettingKeyVariable=='__class__':\n\n\t\t\t#set\n\t\t\tself.GettedValueVariable=self.__class__\n\n\t\t\t#Return\n\t\t\treturn {'HookingIsBool':False}\n\n\t\telif self.GettingKeyVariable.startswith(SharingStartStr):\n\n\t\t\t#Define\n\t\t\tSharedGetString=SharingStartStr.join(\n\t\t\t\t\tself.GettingKeyVariable.split(SharingStartStr)[1:]\n\t\t\t\t)\n\n\t\t\t#debug\n\t\t\t'''\n\t\t\tself.debug('SharedGetString is '+SharedGetString)\n\t\t\t'''\n\t\t\t\n\t\t\t#Define\n\t\t\tself.SharedClassDict=dict(\n\t\t\t\t\tmap(\n\t\t\t\t\t\tlambda __KeyString:\n\t\t\t\t\t\t(\n\t\t\t\t\t\t\t__KeyString,\n\t\t\t\t\t\t\tgetattr(\n\t\t\t\t\t\t\t\tself.__class__,\n\t\t\t\t\t\t\t\t__KeyString\n\t\t\t\t\t\t\t)\n\t\t\t\t\t\t),\n\t\t\t\t\t\tdir(self.__class__)\n\t\t\t\t\t)+[('__mro__',self.__class__.__mro__)]\n\t\t\t\t)\n\n\t\t\t#debug\n\t\t\t'''\n\t\t\tself.debug(('self.',self,['SharedClassDict']))\n\t\t\t'''\n\n\t\t\t#get in the __class__\n\t\t\tself.GettedValueVariable=Pather.getVariableWithDictatedVariableAndKeyVariable(\n\t\t\t\tself.SharedClassDict,\n\t\t\t\tSharedGetString\n\t\t\t)\n\n\t\t\t#Return\n\t\t\treturn {'HookingIsBool':False}\n\t\t\n\n\t\telse:\n\t\t\t\n\t\t\t#debug\n\t\t\t'''\n\t\t\tself.debug('BaseClass.get is '+str(BaseClass.get))\n\t\t\t'''\n\n\t\t\t#Get before with the parent method\n\t\t\tOutputDict=BaseClass.get(self)\n\n\t\t\t#Check that we have still to hook\n\t\t\tif OutputDict==None or OutputDict[\"HookingIsBool\"]:\n\n\t\t\t\t#Check\n\t\t\t\tif self.GettingKeyVariable in self.__class__.__dict__:\n\n\t\t\t\t\t#Get from the class\n\t\t\t\t\tself.GettedValueVariable=self.__class__.__dict__[self.GettingKeyVariable]\n\n\t\t\t\t\t#Return\n\t\t\t\t\treturn {'HookingIsBool':False}\n\n\t\t\t#Return\n\t\t\treturn {'HookingIsBool':True}\n\n\t#<Hook>@Hooker.HookerClass(**{'HookingAfterVariablesList':[BaseClass.set]})\n\t#@Imitater.ImitaterClass()\n\tdef mimic_set(self):\n\t\t\"\"\" \"\"\"\n\n\t\t#debug\n\t\t'''\n\t\tself.debug(('self.',self,['SettingKeyVariable','SettingValueVariable']))\n\t\t'''\n\n\t\t#Definition\n\t\tOutputDict={'HookingIsBool':True}\n\n\t\t#Deep set\n\t\tif self.SettingKeyVariable.startswith(SharingStartStr):\n\n\t\t\t#debug\n\t\t\t'''\n\t\t\tself.debug('We are going to share')\n\t\t\t'''\n\n\t\t\t#Path\n\t\t\tself.share(self.SettingKeyVariable,self.SettingValueVariable)\n\n\t\t\t#debug\n\t\t\t'''\n\t\t\tself.debug(('self.',self,[\n\t\t\t\t\t\t\t\t\t\t\"SharedKeyStr\",\n\t\t\t\t\t\t\t\t\t\t\"SharedChildKeyStr\",\n\t\t\t\t\t\t\t\t\t\t\"SharedValueVariable\"\n\t\t\t\t\t\t\t\t\t]\n\t\t\t\t\t\t\t\t))\n\t\t\t'''\n\n\t\t\t#Stop the setting\n\t\t\tOutputDict[\"HookingIsBool\"]=False\n\t\t\t#<Hook>return OutputDict\n\n\t\t#Call the parent get method\n\t\tif OutputDict['HookingIsBool']:\n\t\t\tBaseClass.set(self)\n\n\n#</DefineClass>\n\n\n```\n\n<small>\nView the Sharer sources on <a href=\"https://github.com/Ledoux/ShareYourSystem/tree/master/Pythonlogy/ShareYourSystem/Itemizers/Sharer\" target=\"_blank\">Github</a>\n</small>\n\n", 
          "cell_type": "markdown", 
          "prompt_number": 1, 
          "metadata": {
            "slideshow": {
              "slide_type": "subslide"
            }
          }
        }, 
        {
          "source": "\n<!---\nFrozenIsBool True\n-->\n\n##Example\n\nLet's create an empty class, which will automatically receive\nspecial attributes from the decorating ClassorClass,\nspecially the NameStr, that should be the ClassStr\nwithout the TypeStr in the end.", 
          "cell_type": "markdown", 
          "prompt_number": 2, 
          "metadata": {
            "slideshow": {
              "slide_type": "subslide"
            }
          }
        }, 
        {
          "cell_type": "code", 
          "prompt_number": 3, 
          "language": "python", 
          "input": [
            "\n", 
            "#ImportModules\n", 
            "import ShareYourSystem as SYS\n", 
            "from ShareYourSystem.Itemizers import Sharer\n", 
            "\n", 
            "#Explicit expression\n", 
            "MySharer=Sharer.SharerClass().__setitem__(\n", 
            "    '__class__.MyStr',\n", 
            "    'I am setted at the level of the class'\n", 
            ")\n", 
            "\n", 
            "#Return\n", 
            "SYS._attest(\n", 
            "    [\n", 
            "\n", 
            "        'MySharer is '+SYS._str(\n", 
            "                MySharer,\n", 
            "                **{\n", 
            "                'RepresentingBaseKeyStrsListBool':False\n", 
            "                }\n", 
            "            ),\n", 
            "        'MySharer.__class__.MyStr is '+MySharer.__class__.MyStr,\n", 
            "        'MySharer[\"__class__.MyStr\"] is '+MySharer['__class__.MyStr'],\n", 
            "    ]\n", 
            ")\n", 
            "\n", 
            "#Print\n", 
            "\n", 
            "\n"
          ], 
          "outputs": [
            {
              "output_type": "stream", 
              "stream": "stdout", 
              "text": [
                "\n", 
                "\n", 
                "*****Start of the Attest *****\n", 
                "\n", 
                "MySharer is < (SharerClass), 4555208912>\n", 
                "   /{ \n", 
                "   /  '<New><Class>MyStr' : I am setted at the level of the class\n", 
                "   /  '<New><Instance>IdInt' : 4555208912\n", 
                "   /  '<Spe><Instance>SharedClassDict' : \n", 
                "   /   /{ \n", 
                "   /   /}\n", 
                "   /  '<Spe><Instance>SharedSetKeyStr' : MyStr\n", 
                "   /  '<Spe><Instance>SharingKeyStr' : __class__.MyStr\n", 
                "   /  '<Spe><Instance>SharingValueVariable' : I am setted at the level of the class\n", 
                "   /}\n", 
                "\n", 
                "------\n", 
                "\n", 
                "MySharer.__class__.MyStr is I am setted at the level of the class\n", 
                "\n", 
                "------\n", 
                "\n", 
                "MySharer[\"__class__.MyStr\"] is I am setted at the level of the class\n", 
                "\n", 
                "*****End of the Attest *****\n", 
                "\n", 
                "\n"
              ]
            }
          ], 
          "collapsed": false, 
          "metadata": {
            "slideshow": {
              "slide_type": "-"
            }
          }
        }
      ]
    }
  ], 
  "metadata": {
    "name": "", 
    "signature": ""
  }, 
  "nbformat_minor": 0
}