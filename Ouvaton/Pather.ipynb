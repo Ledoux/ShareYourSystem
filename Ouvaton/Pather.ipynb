{
  "nbformat": 3, 
  "worksheets": [
    {
      "cells": [
        {
          "source": "\n<!--\nFrozenIsBool False\n-->\n\n#Pather\n\n##Doc\n----\n\n\n> \n> A Pather use its __setitem__ method for setting attributes in deeper levels thanks to \n> the PathingPrefixStr \n> \n> \n\n----\n\n<small>\nView the Pather notebook on [NbViewer](http://nbviewer.ipython.org/url/shareyoursystem.ouvaton.org/Pather.ipynb)\n</small>\n\n", 
          "cell_type": "markdown", 
          "prompt_number": 0, 
          "metadata": {
            "slideshow": {
              "slide_type": "slide"
            }
          }
        }, 
        {
          "source": "\n<!--\nFrozenIsBool False\n-->\n\n##Code\n\n----\n\n<ClassDocStr>\n\n----\n\n```python\n# -*- coding: utf-8 -*-\n\"\"\"\n\n\n<DefineSource>\n@Date : Fri Nov 14 13:20:38 2014 \\n\n@Author : Erwan Ledoux \\n\\n\n</DefineSource>\n\n\nA Pather use its __setitem__ method for setting attributes in deeper levels thanks to \nthe PathingPrefixStr \n\n\"\"\"\n\n#<DefineAugmentation>\nimport ShareYourSystem as SYS\nBaseModuleStr=\"ShareYourSystem.Itemizers.Restricter\"\nDecorationModuleStr=\"ShareYourSystem.Classors.Classer\"\nSYS.setSubModule(globals())\n#</DefineAugmentation>\n\n#<ImportSpecificModules>\nimport collections\n#</ImportSpecificModules>\n\n#<DefineLocals>\nPathingPrefixStr=\"/\"\n#</DefineLocals>\n\n#<DefineFunctions>\ndef getVariableWithPathVariableAndKeyList(_DictatedVariable,_KeyList):\n\t''''''\n\tif type(_KeyList)==list:\n\n\t\t#Empty list case : return the Objects\n\t\tif len(_KeyList)==0:\n\t\t\treturn _DictatedVariable;\n\t\telif len(_KeyList)==1:\n\n\t\t\t#One Variable List case : return the associated Value at the Int\n\t\t\tif type(_DictatedVariable) in [list,tuple]:\n\t\t\t\tif type(_KeyList[0])==int:\n\t\t\t\t\tif _KeyList[0]<len(_DictatedVariable):\n\t\t\t\t\t\treturn _DictatedVariable[_KeyList[0]]\n\n\t\t\telif _KeyList[0] in _DictatedVariable:\n\n\t\t\t\t#One Variable Dict case : return the associated Value at the KeyStr\n\t\t\t\treturn _DictatedVariable[_KeyList[0]]\n\t\telse:\n\t\t\t\n\t\t\t#Multi Variables case : recursive call with the reduced list\n\t\t\tif _KeyList[0] in _DictatedVariable:\n\t\t\t\treturn getVariableWithPathVariableAndKeyList(_DictatedVariable[_KeyList[0]],_KeyList[1:])\n\n\t#Return by default \"NotFound\"\n\treturn \"NotFound\"\n\ndef getVariableWithDictatedVariableAndKeyVariable(_DictatedVariable,_KeyVariable):\n\tif type(_KeyVariable)==list:\n\t\treturn getVariableWithPathVariableAndKeyList(_DictatedVariable,_KeyVariable)\n\telif type(_KeyVariable) in SYS.StrTypesList:\n\t\treturn _DictatedVariable[_KeyVariable] if _KeyVariable in _DictatedVariable else None\n\ndef getPathedBackGetStrWithGetStr(_GetStr):\n\n\t#Check\n\tif PathingPrefixStr in _GetStr:\n\n\t\t#Get the path just before\n\t\treturn PathingPrefixStr.join(\n\t\t\t_GetStr.split(PathingPrefixStr)[:-1]\n\t\t\t)\n\n\telse:\n\n\t\treturn \"\"\n\ndef getPathedBackVariableWithVariableAndGetStr(_Variable,_GetStr):\n\n\t#get\n\tPathedBackGetStr=getPathedBackGetStrWithGetStr(_GetStr)\n\n\t#Check\n\tif PathedBackGetStr!=\"\":\n\n\t\t#Get the path just before\n\t\tPointedBackVariable=_Variable[PathedBackGetStr]\n\n\telse:\n\n\t\t#Return the variable directly\n\t\tPointedBackVariable=_Variable\n\n\t#Return \n\treturn PointedBackVariable\n\n#</DefineFunctions>\n\n#<DefineClass>\n@DecorationClass()\nclass PatherClass(BaseClass):\n\n\t#Definition\n\tRepresentingKeyStrsList=[\n\t\t\t\t\t\t\t\t\t'PathingKeyStr',\n\t\t\t\t\t\t\t\t\t'PathedKeyStrsList',\n\t\t\t\t\t\t\t\t\t'PathedGetKeyStr',\n\t\t\t\t\t\t\t\t\t'PathedChildKeyStr',\n\t\t\t\t\t\t\t\t\t#'PathedGetValueVariable'\n\t\t\t\t\t\t\t\t]\n\n\tdef default_init(self,\n\t\t\t\t_PathingKeyStr=\"\", \t\t\t\t\n\t\t\t\t_PathedKeyStrsList=None, \t\t\n\t\t\t\t_PathedGetKeyStr=\"\", \t\t\t\t\t\t\n\t\t\t\t_PathedGetValueVariable=None,  \n\t\t\t\t_PathedChildKeyStr=\"\",\t\t\t\n\t\t\t\t**_KwargVariablesDict\n\t\t\t\t):\n\n\t\t#Call the parent init method\n\t\tBaseClass.__init__(self,**_KwargVariablesDict)\n\n\tdef do_path(self):\n\n\t\t#debug\n\t\t'''\n\t\tself.debug(('self.',self,['PathingKeyStr']))\n\t\t'''\n\t\t\n\t\t#Split\n\t\tself.PathedKeyStrsList=self.PathingKeyStr.split(PathingPrefixStr)\n\n\t\t#set\n\t\t#self.PathedGetKeyStr=PathingPrefixStr.join(self.PathedKeyStrsList[1:])\n\t\tself.PathedGetKeyStr=self.PathedKeyStrsList[1]\n\n\t\t#debug\n\t\t'''\n\t\tself.debug(\n\t\t\t\t\t('self.',self,[\n\t\t\t\t\t\t\t\t\t'PathingKeyStr',\n\t\t\t\t\t\t\t\t\t'PathedKeyStrsList',\n\t\t\t\t\t\t\t\t\t'PathedGetKeyStr',\n\t\t\t\t\t\t\t\t])\n\t\t\t\t)\n\t\t'''\n\n\t\t#set the PathedGetValueVariable\n\t\tif self.PathedGetKeyStr==\"\":\n\n\t\t\t#debug\n\t\t\t'''\n\t\t\tself.debug('self.PathedGetKeyStr is \"\"')\n\t\t\t'''\n\n\t\t\t#set\n\t\t\tself.PathedGetValueVariable=self\n\n\t\telse:\n\n\t\t\t#debug\n\t\t\t'''\n\t\t\tself.debug('This is recursive path set so get the pathedvalue')\n\t\t\t'''\n\n\t\t\t#Set\n\t\t\tif len(self.PathedKeyStrsList)>2:\n\t\t\t\tself.PathedChildKeyStr=PathingPrefixStr+PathingPrefixStr.join(\n\t\t\t\t\tself.PathedKeyStrsList[2:])\n\n\t\t\t#getitem\n\t\t\tself.PathedGetValueVariable=self[self.PathedGetKeyStr]\n\n\t\t#debug\n\t\t'''\n\t\tself.debug(\n\t\t\t\t\t('self.',self,[\n\t\t\t\t\t\t\t\t\t'PathedGetValueVariable'\n\t\t\t\t\t\t\t\t])\n\t\t\t\t)\n\t\t'''\n\n\t#<Hook>@Hooker.HookerClass(**{'HookingAfterVariablesList':[BaseClass.get]})\n\t#@Imitater.ImitaterClass()\n\tdef mimic_get(self):\n\n\t\t#debug\n\t\t'''\n\t\tself.debug((\"self.\",self,['GettingKeyVariable']))\n\t\t'''\n\n\t\t#Definition\n\t\tOutputDict={'HookingIsBool':True}\n\n\t\t#Check\n\t\tif self.GettingKeyVariable.startswith(PathingPrefixStr):\n\n\t\t\t#debug\n\t\t\t'''\n\t\t\tself.debug('We path here')\n\t\t\t'''\n\n\t\t\t#Path\n\t\t\tself.path(self.GettingKeyVariable)\n\n\t\t\t#debug\n\t\t\t'''\n\t\t\tself.debug(('self.',self,[\n\t\t\t\t\t\t\t\t\t\t\"PathedKeyStrsList\",\n\t\t\t\t\t\t\t\t\t\t\"PathedGetKeyStr\",\n\t\t\t\t\t\t\t\t\t\t\"PathedGetValueVariable\"\n\t\t\t\t\t\t\t\t\t]\n\t\t\t\t\t\t\t\t))\n\t\t\t'''\n\n\t\t\t#Check\n\t\t\tif self.PathedGetKeyStr==\"\":\n\n\t\t\t\t#debug\n\t\t\t\t'''\n\t\t\t\tself.debug('This is a local already self get ')\n\t\t\t\t'''\n\n\t\t\t\t#Direct get\n\t\t\t\tself.GettedValueVariable=self.PathedGetValueVariable\n\n\t\t\telif self.PathedGetKeyStr!=\"\" and len(self.PathedKeyStrsList)==2:\n\n\t\t\t\t#debug\n\t\t\t\t'''\n\t\t\t\tself.debug('This is a local already get ')\n\t\t\t\t'''\n\n\t\t\t\t#Return the first level\n\t\t\t\tself.GettedValueVariable=self.PathedGetValueVariable\n\n\t\t\telse:\n\n\t\t\t\t#debug\n\t\t\t\t'''\n\t\t\t\tself.debug(\n\t\t\t\t\t\t\t[\n\t\t\t\t\t\t\t\t'This is recursive get with ',\n\t\t\t\t\t\t\t\t('self.',self,[\n\t\t\t\t\t\t\t\t\t\t\t\t'PathedGetValueVariable',\n\t\t\t\t\t\t\t\t\t\t\t\t'PathedChildKeyStr'\n\t\t\t\t\t\t\t\t\t\t\t]\n\t\t\t\t\t\t\t\t)\n\t\t\t\t\t\t\t]\n\t\t\t\t\t\t)\n\t\t\t\t'''\n\n\t\t\t\t#Get with the PathedChildKeyStr\n\t\t\t\tself.GettedValueVariable=self.PathedGetValueVariable[self.PathedChildKeyStr]\n\n\t\t\t#Stop the getting\n\t\t\tOutputDict['HookingIsBool']=False\n\t\t\t#<Hook>return OutputDict\n\n\t\t\t#Return\n\t\t\treturn OutputDict\n\n\t\t#Call the parent get method\n\t\tif OutputDict['HookingIsBool']:\n\n\t\t\t#debug\n\t\t\t'''\n\t\t\tself.debug(\n\t\t\t\t\t\t[\n\t\t\t\t\t\t\t'BaseClass.get is '+str(BaseClass.get),\n\t\t\t\t\t\t\t('self.',self,['GettingKeyVariable'])\n\t\t\t\t\t\t]\n\t\t\t\t\t)\n\t\t\t'''\n\t\t\t\n\t\t\t#Call\n\t\t\treturn BaseClass.get(self)\n\n\t\telse:\n\n\t\t\t#return \n\t\t\treturn OutputDict\n\n\t#<Hook>@Hooker.HookerClass(**{'HookingAfterVariablesList':[BaseClass.set]})\n\t#@Imitater.ImitaterClass()\n\tdef mimic_set(self):\n\t\t\"\"\" \"\"\"\n\n\t\t#debug\n\t\t'''\n\t\tself.debug(('self.',self,['SettingKeyVariable','SettingValueVariable']))\n\t\t'''\n\n\t\t#Definition\n\t\tOutputDict={'HookingIsBool':True}\n\n\t\t#Deep set\n\t\tif self.SettingKeyVariable.startswith(PathingPrefixStr):\n\n\t\t\t#debug\n\t\t\t'''\n\t\t\tself.debug('We are going to path')\n\t\t\t'''\n\n\t\t\t#Path\n\t\t\tself.path(self.SettingKeyVariable)\n\n\t\t\t#debug\n\t\t\t'''\n\t\t\tself.debug(('self.',self,[\n\t\t\t\t\t\t\t\t\t\t\"PathedGetKeyStr\",\n\t\t\t\t\t\t\t\t\t\t\"PathedChildKeyStr\",\n\t\t\t\t\t\t\t\t\t\t\"PathedGetValueVariable\"\n\t\t\t\t\t\t\t\t\t]\n\t\t\t\t\t\t\t\t))\n\t\t\t'''\n\t\t\t\n\t\t\t#set\n\t\t\t#Direct update in the Child or go deeper with the ChildPathStr\n\t\t\tif self.SettingKeyVariable[-1]==PathingPrefixStr: \n\t\t\t\t\n\t\t\t\t#debug\n\t\t\t\t'''\n\t\t\t\tself.debug('this is a special set inside the pathed variable')\n\t\t\t\t'''\n\n\t\t\t\t#Check\n\t\t\t\tif self.PathedGetValueVariable!=None:\n\n\t\t\t\t\t#Case where it is an object to set inside\n\t\t\t\t\tif 'PatherClass' in map(\n\t\t\t\t\t\t\t\t\t\tlambda __Class:\n\t\t\t\t\t\t\t\t\t\t__Class.__name__,\n\t\t\t\t\t\t\t\t\t\ttype(self.PathedGetValueVariable).__mro__\n\t\t\t\t\t\t\t\t\t\t):\n\n\t\t\t\t\t\t#debug\n\t\t\t\t\t\t'''\n\t\t\t\t\t\tself.debug(('self.',self,[\n\t\t\t\t\t\t\t\t\t\t\t\t\t'PathedGetKeyStr',\n\t\t\t\t\t\t\t\t\t\t\t\t\t'SettingKeyVariable',\n\t\t\t\t\t\t\t\t\t\t\t\t\t'SettingValueVariable',\n\t\t\t\t\t\t\t\t\t\t\t\t\t'PathedGetValueVariable'\n\t\t\t\t\t\t\t\t\t\t\t\t]))\n\t\t\t\t\t\t'''\n\n\t\t\t\t\t\t#Modify directly the PathedGetValueVariable with self.SettingValueVariable\n\t\t\t\t\t\tself.PathedGetValueVariable.__setitem__(\n\t\t\t\t\t\t\t\t\t\t\t\t\t\t\t\tself.SettingValueVariable[0],\n\t\t\t\t\t\t\t\t\t\t\t\t\t\t\t\tself.SettingValueVariable[1]\n\t\t\t\t\t\t\t\t\t\t\t\t\t\t\t)\n\n\n\t\t\t\t\t#Case where it is a set at the level of self of an already setted thing\n\t\t\t\t\telse:\n\n\t\t\t\t\t\t#set to the corresponding point\n\t\t\t\t\t\tself[self.PathedGetKeyStr]=self.SettingValueVariable\n\n\t\t\t\telse:\n\n\t\t\t\t\t#debug\n\t\t\t\t\t'''\n\t\t\t\t\tself.debug(\n\t\t\t\t\t\t\t[\n\t\t\t\t\t\t\t\t'set with setWithPathVariableAndKeyVariable',\n\t\t\t\t\t\t\t\t(\"self.\",self,[\n\t\t\t\t\t\t\t\t\t\t\t\t'SettingValueVariable',\n\t\t\t\t\t\t\t\t\t\t\t\t'PathedChildKeyStr'])\n\t\t\t\t\t\t\t]\n\t\t\t\t\t)\n\t\t\t\t\t'''\n\n\t\t\t\t\t#Call the setWithPathVariableAndKeyVariable\n\t\t\t\t\tsetWithPathVariableAndKeyVariable(\n\t\t\t\t\t\tself.PathedGetValueVariable,\n\t\t\t\t\t\tself.PathedChildKeyStr,\n\t\t\t\t\t\tself.SettingValueVariable\n\t\t\t\t\t)\n\n\t\t\t#Case where it is a set at the level of self of new setted thing\n\t\t\telse:\n\n\t\t\t\t#debug\n\t\t\t\t'''\n\t\t\t\tself.debug('we setitem here')\n\t\t\t\t'''\n\n\t\t\t\t#Check\n\t\t\t\tif self.PathedGetKeyStr!=\"\" and len(self.PathedKeyStrsList)==2:\n\n\t\t\t\t\t#debug\n\t\t\t\t\t'''\n\t\t\t\t\tself.debug('we setitem at this level')\n\t\t\t\t\t'''\n\n\t\t\t\t\t#set\n\t\t\t\t\tself[self.PathedGetKeyStr]=self.SettingValueVariable\n\t\t\t\telse:\n\n\t\t\t\t\t#debug\n\t\t\t\t\t'''\n\t\t\t\t\tself.debug('we setitem further')\n\t\t\t\t\t'''\n\t\t\t\t\t\n\t\t\t\t\t#set\n\t\t\t\t\tself.PathedGetValueVariable[\n\t\t\t\t\t\tPathingPrefixStr.join(self.PathedKeyStrsList[2:])\n\t\t\t\t\t]=self.SettingValueVariable\n\n\t\t\t#Stop the setting\n\t\t\tOutputDict[\"HookingIsBool\"]=False\n\t\t\t#<Hook>return OutputDict\n\n\t\t#Call the parent get method\n\t\tif OutputDict['HookingIsBool']:\n\t\t\treturn BaseClass.set(self)\n\t\telse:\n\t\t\treturn OutputDict\n\n#</DefineClass>\n\n#<DefineFunctions>\ndef setWithPathVariableAndKeyVariable(_DictatedVariable,_KeyVariable,_ValueVariable,**_KwargsDict):\n\t'''\t'''\n\n\t#Get the type\n\tType=type(_DictatedVariable)\n\n\t#debug\n\t'''\n\tprint('Pather l.286 ')\n\tprint('Type is ',Type)\n\tprint('_KeyVariable is ',_KeyVariable)\n\tprint('')\n\t'''\n\n\t#Special dict case for also handling SluggerNamesList Key\n\tif Type in [dict,collections.OrderedDict] or PatherClass in Type.__mro__:\n\n\t\t#debug\n\t\t'''\n\t\tprint('_DictatedVariable has items')\n\t\tprint('')\n\t\t'''\n\n\t\t#set with a list\n\t\tif type(_KeyVariable)==list:\n\t\t\tif len(_KeyVariable)>0:\n\t\t\t\tif _KeyVariable[0]==PathingPrefixStr:\n\t\t\t\t\tif len(_KeyVariable)==1:\n\n\t\t\t\t\t\t#debug\n\t\t\t\t\t\t'''\n\t\t\t\t\t\tprint('_KeyVariable==[PathingPrefixStr]')\n\t\t\t\t\t\tprint('So just update')\n\t\t\t\t\t\tprint('')\n\t\t\t\t\t\t'''\n\n\t\t\t\t\t\t#Update\n\t\t\t\t\t\t_DictatedVariable.update(_ValueVariable)\n\t\t\t\t\t\treturn\n\n\t\t\t\t\telse:\n\t\t\t\t\t\t_KeyVariable=_KeyVariable[1:]\n\n\t\t\t\t#debug\n\t\t\t\t'''\n\t\t\t\tprint('_KeyVariable is a list')\n\t\t\t\tprint('_KeyVariable is '+str(_KeyVariable))\n\t\t\t\tprint('')\n\t\t\t\t'''\n\n\t\t\t\t#Get the next \"path\"\n\t\t\t\tGettedVariable=getVariableWithDictatedVariableAndKeyVariable(_DictatedVariable,_KeyVariable[:-1])\n\n\t\t\t\t#debug\n\t\t\t\t'''\n\t\t\t\tprint('GettedVariable is '+str(GettedVariable))\n\t\t\t\tprint('')\n\t\t\t\t'''\n\n\t\t\t\t#set\n\t\t\t\tsetWithPathVariableAndKeyVariable(GettedVariable,_KeyVariable[-1],_ValueVariable)\n\n\t\t\t\t#Return \n\t\t\t\treturn\n\t\telse:\n\n\t\t\t#debug\n\t\t\t'''\n\t\t\tprint('_KeyVariable is not a list')\n\t\t\tprint('_KeyVariable is '+str(_KeyVariable))\n\t\t\tprint('')\n\t\t\t'''\n\n\t\t\t#Escape\n\t\t\tif len(_KeyVariable)==0:\n\t\t\t\t\n\t\t\t\t#debug\n\t\t\t\t'''\n\t\t\t\tprint('Pather l.330')\n\t\t\t\tprint('This is an empty _KeyVariable here')\n\t\t\t\tprint('_ValueVariable is '+str(_ValueVariable))\n\t\t\t\tprint('')\n\t\t\t\t'''\n\n\t\t\t\tpass\n\n\t\t\t#Call a method of the dict\n\t\t\telif  (_KeyVariable[0].isalpha() or _KeyVariable[0:2]==\"__\") and  _KeyVariable[0].lower()==_KeyVariable[0]:\n\t\t\t\t\n\t\t\t\t#debug\n\t\t\t\t'''\n\t\t\t\tprint('Pather l.342')\n\t\t\t\tprint('_DictatedVariable is ',_DictatedVariable)\n\t\t\t\tprint('_KeyVariable is ',_KeyVariable)\n\t\t\t\tprint('_ValueVariable is ',_ValueVariable)\n\t\t\t\tprint('')\n\t\t\t\t'''\n\n\t\t\t\t#Get\n\t\t\t\tFunction=getattr(_DictatedVariable,_KeyVariable)\n\n\t\t\t\t#Call\n\t\t\t\ttry:\n\t\t\t\t\tFunction(\n\t\t\t\t\t\t\t\t*_ValueVariable['LiargVariablesList'],\n\t\t\t\t\t\t\t\t**_ValueVariable['KwargVariablesDict']\n\t\t\t\t\t\t\t)\n\t\t\t\texcept:\n\t\t\t\t\tFunction(*_ValueVariable['LiargVariablesList'])\n\t\t\t\t\n\t\t\t\t#Return \n\t\t\t\treturn\n\n\t\t\t#set deeply in the dict\n\t\t\telif _KeyVariable.startswith(PathingPrefixStr):\n\n\t\t\t\t#Case of the dict or OrderedDict we have to convert in list to make the key been understood\n\t\t\t\tif Type in [dict,collections.OrderedDict]:\n\n\t\t\t\t\t#Split\n\t\t\t\t\t_KeyVariable=_KeyVariable.split(PathingPrefixStr)[1:]\n\n\t\t\t\t\t#debug\n\t\t\t\t\t'''\n\t\t\t\t\tprint('_KeyVariable has PathingPrefixStrs so convert the _KeyVariable into a list')\n\t\t\t\t\tprint(_KeyVariable)\n\t\t\t\t\tprint('')\n\t\t\t\t\t'''\n\n\t\t\t\t\t#set in the dict\n\t\t\t\t\tsetWithPathVariableAndKeyVariable(\n\t\t\t\t\t\t\t_DictatedVariable,\n\t\t\t\t\t\t\t_KeyVariable,\n\t\t\t\t\t\t\t_ValueVariable\n\t\t\t\t\t\t)\n\n\t\t\t\t\t#Return \n\t\t\t\t\treturn\n\n\t\t\t\telse:\n\n\t\t\t\t\t#debug\n\t\t\t\t\t'''\n\t\t\t\t\tprint('_KeyVariable has PathingPrefixStrs bu the _DictatedVariable knows how to deal with that')\n\t\t\t\t\t'''\n\n\t\t\t\t\t#This is an object that understandsa already how to do\n\t\t\t\t\t_DictatedVariable[_KeyVariable]=_ValueVariable\n\n\t\t\t\t\t#Return \n\t\t\t\t\treturn\n\n\t\t\telse:\n\n\t\t\t\t#debug\n\t\t\t\t'''\n\t\t\t\tprint('_KeyVariable has no PathingPrefixStr so set direclty')\n\t\t\t\tprint(_KeyVariable)\n\t\t\t\tprint('')\n\t\t\t\t'''\n\n\t\t\t\t#set \n\t\t\t\t_DictatedVariable[_KeyVariable]=_ValueVariable\n\n\t\t\t\t#Return \n\t\t\t\treturn\n\n\t#List Case\n\tif type(_DictatedVariable)==list:\n\t\tif type(_KeyVariable)==list():\n\t\t\tNextSlugger=getVariableWithDictatedVariableAndKeyVariable(_DictatedVariable,_KeyVariable[0])\n\t\t\tsetWithPathVariableAndKeyVariable(NextSlugger,_KeyVariable[1:],_ValueVariable)\n\t\t\treturn\n\t\telse:\n\t\t\t_DictatedVariable[_KeyVariable]=_ValueVariable\n\t\t\treturn\t\n#</DefineFunctions>\n\n```\n\n<small>\nView the Pather sources on <a href=\"https://github.com/Ledoux/ShareYourSystem/tree/master/Pythonlogy/ShareYourSystem/Itemizers/Pather\" target=\"_blank\">Github</a>\n</small>\n\n", 
          "cell_type": "markdown", 
          "prompt_number": 1, 
          "metadata": {
            "slideshow": {
              "slide_type": "subslide"
            }
          }
        }, 
        {
          "source": "\n<!---\nFrozenIsBool True\n-->\n\n##Example\n\nLet's create an empty class, which will automatically receive\nspecial attributes from the decorating ClassorClass,\nspecially the NameStr, that should be the ClassStr\nwithout the TypeStr in the end.", 
          "cell_type": "markdown", 
          "prompt_number": 2, 
          "metadata": {
            "slideshow": {
              "slide_type": "subslide"
            }
          }
        }, 
        {
          "cell_type": "code", 
          "prompt_number": 3, 
          "language": "python", 
          "input": [
            "\n", 
            "#ImportModules\n", 
            "import ShareYourSystem as SYS\n", 
            "from ShareYourSystem.Itemizers import Pather\n", 
            "\n", 
            "#Explicit expression\n", 
            "MyPather=Pather.PatherClass().__setitem__('MyStr','I am the parent')\n", 
            "MyPather.__setitem__('ChildPather',Pather.PatherClass())\n", 
            "\n", 
            "#set with a deep short Str\n", 
            "MyPather.__setitem__(\n", 
            "    '/ChildPather/MyStr',\n", 
            "    'I am the child'\n", 
            ")\n", 
            "\n", 
            "#set with a deep deep short Str\n", 
            "MyPather.__setitem__(\n", 
            "    '/ChildPather/GrandChildPather',\n", 
            "    Pather.PatherClass()\n", 
            ")\n", 
            "\n", 
            "#set with a deep short Str\n", 
            "MyPather.__setitem__(\n", 
            "    '/OtherChildPather',\n", 
            "    Pather.PatherClass().__setitem__('MyInt',3)\n", 
            ")\n", 
            "\n", 
            "#set with a deep short Str\n", 
            "MyPather.__setitem__(\n", 
            "    '/OtherChildPather',\n", 
            "    Pather.PatherClass().__setitem__('MyInt',4)\n", 
            ")\n", 
            "\n", 
            "#'/' gets the self\n", 
            "MyPather.__setitem__(\n", 
            "    '/SelfPather',\n", 
            "    MyPather['/']\n", 
            ")\n", 
            "\n", 
            "\n", 
            "#Definition the AttestedStr\n", 
            "SYS._attest(\n", 
            "[\n", 
            "    'MyPather is '+SYS._str(\n", 
            "            MyPather,\n", 
            "            **{\n", 
            "            'RepresentingBaseKeyStrsListBool':False,\n", 
            "            'RepresentingAlineaIsBool':False\n", 
            "            }\n", 
            "        ),\n", 
            "    'MyPather[\\'/ChildPather\\'] is '+SYS._str(\n", 
            "            MyPather['/ChildPather'],\n", 
            "            **{\n", 
            "            'RepresentingBaseKeyStrsListBool':False,\n", 
            "            'RepresentingAlineaIsBool':False\n", 
            "            }\n", 
            "        ),\n", 
            "    'MyPather[\\'/ChildPather/GrandChildPather\\'] is '+SYS._str(\n", 
            "            MyPather['/ChildPather/GrandChildPather'],\n", 
            "            **{\n", 
            "            'RepresentingBaseKeyStrsListBool':False,\n", 
            "            'RepresentingAlineaIsBool':False\n", 
            "            }\n", 
            "        )\n", 
            "    ]\n", 
            ") \n", 
            "\n", 
            "#Print\n", 
            "\n", 
            "\n"
          ], 
          "outputs": [
            {
              "output_type": "stream", 
              "stream": "stdout", 
              "text": [
                "\n", 
                "\n", 
                "*****Start of the Attest *****\n", 
                "\n", 
                "MyPather is < (PatherClass), 4555208080>\n", 
                "   /{ \n", 
                "   /  '<New><Instance>ChildPather' : < (PatherClass), 4555207376>\n", 
                "   /   /{ \n", 
                "   /   /  '<New><Instance>GrandChildPather' : < (PatherClass), 4555208208>\n", 
                "   /   /   /{ \n", 
                "   /   /   /  '<New><Instance>IdInt' : 4555208208\n", 
                "   /   /   /  '<Spe><Class>PathedChildKeyStr' : \n", 
                "   /   /   /  '<Spe><Class>PathedGetKeyStr' : \n", 
                "   /   /   /  '<Spe><Class>PathedKeyStrsList' : None\n", 
                "   /   /   /  '<Spe><Class>PathingKeyStr' : \n", 
                "   /   /   /}\n", 
                "   /   /  '<New><Instance>IdInt' : 4555207376\n", 
                "   /   /  '<New><Instance>MyStr' : I am the child\n", 
                "   /   /  '<Spe><Class>PathedChildKeyStr' : \n", 
                "   /   /  '<Spe><Class>PathedGetKeyStr' : \n", 
                "   /   /  '<Spe><Class>PathedKeyStrsList' : None\n", 
                "   /   /  '<Spe><Class>PathingKeyStr' : \n", 
                "   /   /}\n", 
                "   /  '<New><Instance>IdInt' : 4555208080\n", 
                "   /  '<New><Instance>MyStr' : I am the parent\n", 
                "   /  '<New><Instance>OtherChildPather' : < (PatherClass), 4555206800>\n", 
                "   /   /{ \n", 
                "   /   /  '<New><Instance>IdInt' : 4555206800\n", 
                "   /   /  '<New><Instance>MyInt' : 4\n", 
                "   /   /  '<Spe><Class>PathedChildKeyStr' : \n", 
                "   /   /  '<Spe><Class>PathedGetKeyStr' : \n", 
                "   /   /  '<Spe><Class>PathedKeyStrsList' : None\n", 
                "   /   /  '<Spe><Class>PathingKeyStr' : \n", 
                "   /   /}\n", 
                "   /  '<New><Instance>SelfPather' : {...}< (PatherClass), 4555208080>\n", 
                "   /  '<Spe><Instance>PathedChildKeyStr' : /GrandChildPather\n", 
                "   /  '<Spe><Instance>PathedGetKeyStr' : SelfPather\n", 
                "   /  '<Spe><Instance>PathedKeyStrsList' : ['', 'SelfPather']\n", 
                "   /  '<Spe><Instance>PathingKeyStr' : /SelfPather\n", 
                "   /}\n", 
                "\n", 
                "------\n", 
                "\n", 
                "MyPather['/ChildPather'] is < (PatherClass), 4555207376>\n", 
                "   /{ \n", 
                "   /  '<New><Instance>GrandChildPather' : < (PatherClass), 4555208208>\n", 
                "   /   /{ \n", 
                "   /   /  '<New><Instance>IdInt' : 4555208208\n", 
                "   /   /  '<Spe><Class>PathedChildKeyStr' : \n", 
                "   /   /  '<Spe><Class>PathedGetKeyStr' : \n", 
                "   /   /  '<Spe><Class>PathedKeyStrsList' : None\n", 
                "   /   /  '<Spe><Class>PathingKeyStr' : \n", 
                "   /   /}\n", 
                "   /  '<New><Instance>IdInt' : 4555207376\n", 
                "   /  '<New><Instance>MyStr' : I am the child\n", 
                "   /  '<Spe><Class>PathedChildKeyStr' : \n", 
                "   /  '<Spe><Class>PathedGetKeyStr' : \n", 
                "   /  '<Spe><Class>PathedKeyStrsList' : None\n", 
                "   /  '<Spe><Class>PathingKeyStr' : \n", 
                "   /}\n", 
                "\n", 
                "------\n", 
                "\n", 
                "MyPather['/ChildPather/GrandChildPather'] is < (PatherClass), 4555208208>\n", 
                "   /{ \n", 
                "   /  '<New><Instance>IdInt' : 4555208208\n", 
                "   /  '<Spe><Class>PathedChildKeyStr' : \n", 
                "   /  '<Spe><Class>PathedGetKeyStr' : \n", 
                "   /  '<Spe><Class>PathedKeyStrsList' : None\n", 
                "   /  '<Spe><Class>PathingKeyStr' : \n", 
                "   /}\n", 
                "\n", 
                "*****End of the Attest *****\n", 
                "\n", 
                "\n"
              ]
            }
          ], 
          "collapsed": false, 
          "metadata": {
            "slideshow": {
              "slide_type": "-"
            }
          }
        }
      ]
    }
  ], 
  "metadata": {
    "name": "", 
    "signature": ""
  }, 
  "nbformat_minor": 0
}