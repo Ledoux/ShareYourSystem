{
  "nbformat": 3, 
  "worksheets": [
    {
      "cells": [
        {
          "source": "\n<!--\nFrozenIsBool False\n-->\n\n#Updater\n\n##Doc\n----\n\n\n> \n> An Updater maps a __setitem__\n> \n> \n\n----\n\n<small>\nView the Updater notebook on [NbViewer](http://nbviewer.ipython.org/url/shareyoursystem.ouvaton.org/Updater.ipynb)\n</small>\n\n", 
          "cell_type": "markdown", 
          "prompt_number": 0, 
          "metadata": {
            "slideshow": {
              "slide_type": "slide"
            }
          }
        }, 
        {
          "source": "\n<!--\nFrozenIsBool False\n-->\n\nView the Updater sources on [Github](https://github.com/Ledoux/ShareYourSystem/tree/master/ShareYourSystem/Applyiers/Installer)\n\n", 
          "cell_type": "markdown", 
          "prompt_number": 1, 
          "metadata": {
            "slideshow": {
              "slide_type": "subslide"
            }
          }
        }, 
        {
          "source": "\n<!---\nFrozenIsBool True\n-->\n\n##Example\n\nUpdate is possible with a TuplesList or a Dict (and OrderedDict)", 
          "cell_type": "markdown", 
          "prompt_number": 2, 
          "metadata": {
            "slideshow": {
              "slide_type": "subslide"
            }
          }
        }, 
        {
          "cell_type": "code", 
          "prompt_number": 3, 
          "language": "python", 
          "input": [
            "#ImportModules\n", 
            "import ShareYourSystem as SYS\n", 
            "from ShareYourSystem.Applyiers import Updater\n", 
            "\n", 
            "#Update several things\n", 
            "MyUpdater=Updater.UpdaterClass(\n", 
            "    ).update(\n", 
            "        [\n", 
            "            ('MyInt',0),\n", 
            "            ('MyFloat',0.2)\n", 
            "        ]\n", 
            "    ).update(\n", 
            "        {\n", 
            "            'MyStr':\"hello\"\n", 
            "        }\n", 
            "    )\n", 
            "    \n", 
            "#Definition the AttestedStr\n", 
            "SYS._attest(\n", 
            "    [\n", 
            "        'MyUpdater is '+SYS._str(\n", 
            "        MyUpdater,\n", 
            "        **{\n", 
            "            'RepresentingBaseKeyStrsListBool':False,\n", 
            "            'RepresentingAlineaIsBool':False\n", 
            "        }\n", 
            "        )\n", 
            "    ]\n", 
            ")  \n", 
            "\n", 
            "#Print\n", 
            "\n", 
            "\n"
          ], 
          "outputs": [
            {
              "output_type": "stream", 
              "stream": "stdout", 
              "text": [
                "\n", 
                "\n", 
                "*****Start of the Attest *****\n", 
                "\n", 
                "MyUpdater is < (UpdaterClass), 4550544592>\n", 
                "   /{ \n", 
                "   /  '<New><Instance>IdInt' : 4550544592\n", 
                "   /  '<New><Instance>MyFloat' : 0.2\n", 
                "   /  '<New><Instance>MyInt' : 0\n", 
                "   /  '<New><Instance>MyStr' : hello\n", 
                "   /  '<Spe><Instance>UpdatingItemVariable' : \n", 
                "   /   /{ \n", 
                "   /   /  'MyStr' : hello\n", 
                "   /   /}\n", 
                "   /}\n", 
                "\n", 
                "*****End of the Attest *****\n", 
                "\n", 
                "\n"
              ]
            }
          ], 
          "collapsed": false, 
          "metadata": {
            "slideshow": {
              "slide_type": "-"
            }
          }
        }
      ]
    }
  ], 
  "metadata": {
    "name": "", 
    "signature": ""
  }, 
  "nbformat_minor": 0
}