{
  "nbformat": 3, 
  "worksheets": [
    {
      "cells": [
        {
          "source": "\n<!--\nFrozenIsBool False\n-->\n\n#Mapper\n\n##Doc\n----\n\n\n> A Mapper instance maps an apply and so \"grinds\" a MappingArgDictsList \n> to a method.\n> \n> \n\n----\n\n<small>\nView the Mapper notebook on [NbViewer](http://nbviewer.ipython.org/url/shareyoursystem.ouvaton.org/Mapper.ipynb)\n</small>\n\n", 
          "cell_type": "markdown", 
          "prompt_number": 0, 
          "metadata": {
            "slideshow": {
              "slide_type": "slide"
            }
          }
        }, 
        {
          "source": "\n<!--\nFrozenIsBool False\n-->\n\nView the Mapper sources on [Github](https://github.com/Ledoux/ShareYourSystem/tree/master/ShareYourSystem/Applyiers/Installer)\n\n", 
          "cell_type": "markdown", 
          "prompt_number": 1, 
          "metadata": {
            "slideshow": {
              "slide_type": "subslide"
            }
          }
        }, 
        {
          "source": "\n<!---\nFrozenIsBool True\n-->\n\n##Example\n\nLet's create an empty class, which will automatically receive\nspecial attributes from the decorating ClassorClass,\nspecially the NameStr, that should be the ClassStr\nwithout the TypeStr in the end.", 
          "cell_type": "markdown", 
          "prompt_number": 2, 
          "metadata": {
            "slideshow": {
              "slide_type": "subslide"
            }
          }
        }, 
        {
          "cell_type": "code", 
          "prompt_number": 3, 
          "language": "python", 
          "input": [
            "\n", 
            "#ImportModules\n", 
            "import ShareYourSystem as SYS\n", 
            "from ShareYourSystem.Applyiers import Mapper\n", 
            "\n", 
            "#Definition a Getter\n", 
            "MyMapper=Mapper.MapperClass().map(\n", 
            "    '__setitem__',\n", 
            "    [\n", 
            "        {'LiargVariablesList':['MyStr',\"Hello\"]},\n", 
            "        {'LiargVariablesList':['MyThirdStr',\"GutenTag\"]},\n", 
            "        {'LiargVariablesList':['map',\n", 
            "                                        {\n", 
            "                                            'LiargVariablesList':\n", 
            "                                            [\n", 
            "                                                '__setitem__',\n", 
            "                                                [\n", 
            "                                                    {\n", 
            "                                                        'LiargVariablesList':\n", 
            "                                                        ['MyInt',0]\n", 
            "                                                    },\n", 
            "                                                    {\n", 
            "                                                        'LiargVariablesList':\n", 
            "                                                        ['MyFloat',0.1]\n", 
            "                                                    }\n", 
            "                                                ]\n", 
            "                                            ]\n", 
            "                                        }\n", 
            "                                \n", 
            "                            ]},\n", 
            "        {'LiargVariablesList':['MyNotLostStr',\"ben he\"]},\n", 
            "    ]\n", 
            ")\n", 
            "    \n", 
            "#Definition the AttestedStr\n", 
            "SYS._attest(\n", 
            "    [\n", 
            "        'MyMapper is '+SYS._str(\n", 
            "        MyMapper,\n", 
            "        **{\n", 
            "            'RepresentingBaseKeyStrsListBool':False\n", 
            "        }\n", 
            "        )\n", 
            "    ]\n", 
            ")  \n", 
            "\n", 
            "#Print\n", 
            "\n", 
            "\n"
          ], 
          "outputs": [
            {
              "output_type": "stream", 
              "stream": "stdout", 
              "text": [
                "\n", 
                "\n", 
                "*****Start of the Attest *****\n", 
                "\n", 
                "MyMapper is < (MapperClass), 4550544272>\n", 
                "   /{ \n", 
                "   /  '<New><Instance>IdInt' : 4550544272\n", 
                "   /  '<New><Instance>MyFloat' : 0.1\n", 
                "   /  '<New><Instance>MyInt' : 0\n", 
                "   /  '<New><Instance>MyNotLostStr' : ben he\n", 
                "   /  '<New><Instance>MyStr' : Hello\n", 
                "   /  '<New><Instance>MyThirdStr' : GutenTag\n", 
                "   /  '<Spe><Instance>MappedVariablesList' : \n", 
                "   /   /[\n", 
                "   /   /  0 : {...}< (MapperClass), 4550544272>\n", 
                "   /   /  1 : {...}< (MapperClass), 4550544272>\n", 
                "   /   /  2 : {...}< (MapperClass), 4550544272>\n", 
                "   /   /  3 : {...}< (MapperClass), 4550544272>\n", 
                "   /   /]\n", 
                "   /  '<Spe><Instance>MappingApplyMethodStr' : __setitem__\n", 
                "   /  '<Spe><Instance>MappingArgDictsList' : \n", 
                "   /   /[\n", 
                "   /   /  0 : \n", 
                "   /   /   /{ \n", 
                "   /   /   /  'LiargVariablesList' : ['MyInt', 0]\n", 
                "   /   /   /}\n", 
                "   /   /  1 : \n", 
                "   /   /   /{ \n", 
                "   /   /   /  'LiargVariablesList' : ['MyFloat', 0.1]\n", 
                "   /   /   /}\n", 
                "   /   /]\n", 
                "   /}\n", 
                "\n", 
                "*****End of the Attest *****\n", 
                "\n", 
                "\n"
              ]
            }
          ], 
          "collapsed": false, 
          "metadata": {
            "slideshow": {
              "slide_type": "-"
            }
          }
        }
      ]
    }
  ], 
  "metadata": {
    "name": "", 
    "signature": ""
  }, 
  "nbformat_minor": 0
}