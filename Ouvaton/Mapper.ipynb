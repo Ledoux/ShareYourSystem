{
  "nbformat": 3, 
  "worksheets": [
    {
      "cells": [
        {
          "source": "\n<!--\nFrozenIsBool False\n-->\n\n#Mapper\n\n##Doc\n----\n\n\n> A Mapper instance maps an apply and so \"grinds\" a MappingArgDictsList \n> to a method.\n> \n> \n\n----\n\n<small>\nView the Mapper notebook on [NbViewer](http://nbviewer.ipython.org/url/shareyoursystem.ouvaton.org/Mapper.ipynb)\n</small>\n\n", 
          "cell_type": "markdown", 
          "prompt_number": 0, 
          "metadata": {
            "slideshow": {
              "slide_type": "slide"
            }
          }
        }, 
        {
          "source": "\n<!--\nFrozenIsBool False\n-->\n\n##Code\n\n----\n\n<ClassDocStr>\n\n----\n\n```python\n# -*- coding: utf-8 -*-\n\"\"\"\n\n\n<DefineSource>\n@Date : Fri Nov 14 13:20:38 2014 \\n\n@Author : Erwan Ledoux \\n\\n\n</DefineSource>\n\nA Mapper instance maps an apply and so \"grinds\" a MappingArgDictsList \nto a method.\n\n\"\"\"\n\n#<DefineAugmentation>\nimport ShareYourSystem as SYS\nBaseModuleStr=\"ShareYourSystem.Applyiers.Applyier\"\nDecorationModuleStr=\"ShareYourSystem.Classors.Classer\"\nSYS.setSubModule(globals())\n#</DefineAugmentation>\n\n#<ImportSpecificModules>\nimport copy\nfrom ShareYourSystem.Functers import Argumenter\n#</ImportSpecificModules>\n\n#<DefineClass>\n@DecorationClass()\nclass MapperClass(BaseClass):\n\t\t\n\t#Definition\n\tRepresentingKeyStrsList=[\n\t\t\t\t\t\t\t\t\t'MappingApplyMethodStr',\n\t\t\t\t\t\t\t\t\t'MappingArgDictsList',\n\t\t\t\t\t\t\t\t\t'MappedVariablesList'\n\t\t\t\t\t\t\t\t]\n\n\tdef default_init(self,\n\t\t\t\t_MappingApplyMethodStr=\"\", \t\t\n\t\t\t\t_MappingArgDictsList=None, \t\t\n\t\t\t\t_MappedVariablesList=None, \t\t\n\t\t\t\t**_KwargVariablesDict\n\t\t\t\t):\n\n\t\t#Call the parent __init__ method\n\t\tBaseClass.__init__(self,**_KwargVariablesDict)\n\n\t#<DefineDoMethods>\n\tdef do_map(self):\n\t\t\"\"\" \"\"\"\n\n\t\t#debug\n\t\t'''\n\t\tself.debug(\n\t\t\t\t\t('self.',self,[\n\t\t\t\t\t\t\t\t\t'MappingMethodStr',\n\t\t\t\t\t\t\t\t\t'MappingArgDictsList'\n\t\t\t\t\t\t\t\t])\n\t\t\t)\n\t\t'''\n\n\t\t#Link to the apply features\n\t\tif hasattr(self,self.MappingApplyMethodStr):\n\n\t\t\t#set the AppliedMethod\n\t\t\tself.AppliedMethod=getattr(self,self.MappingApplyMethodStr)\n\n\t\t\t#set that it is ok\n\t\t\tself.ApplyingIsBool=True\n\n\t\t\t#debug\n\t\t\t'''\n\t\t\tself.debug(\n\t\t\t\t\t\t('self.',self,[\n\t\t\t\t\t\t\t\t\t\t'AppliedMethod'\n\t\t\t\t\t\t\t\t\t])\n\t\t\t\t)\n\t\t\t'''\n\n\t\t\t#Map the apply\n\t\t\tself.MappedVariablesList=map(\n\t\t\t\t\tlambda __MappingArgDict:\n\t\t\t\t\tself.apply(\n\t\t\t\t\t\t\t\tself.MappingApplyMethodStr,\n\t\t\t\t\t\t\t\t__MappingArgDict\n\t\t\t\t\t\t\t).AppliedOutputVariable,\n\t\t\t\t\tself.MappingArgDictsList\n\t\t\t\t)\n\n\t\t#Return self\n\t\t#return self\n\n#</DefineClass>\n\n```\n\n<small>\nView the Mapper sources on <a href=\"https://github.com/Ledoux/ShareYourSystem/tree/master/Pythonlogy/ShareYourSystem/Applyiers/Mapper\" target=\"_blank\">Github</a>\n</small>\n\n", 
          "cell_type": "markdown", 
          "prompt_number": 1, 
          "metadata": {
            "slideshow": {
              "slide_type": "subslide"
            }
          }
        }, 
        {
          "source": "\n<!---\nFrozenIsBool True\n-->\n\n##Example\n\nLet's create an empty class, which will automatically receive\nspecial attributes from the decorating ClassorClass,\nspecially the NameStr, that should be the ClassStr\nwithout the TypeStr in the end.", 
          "cell_type": "markdown", 
          "prompt_number": 2, 
          "metadata": {
            "slideshow": {
              "slide_type": "subslide"
            }
          }
        }, 
        {
          "cell_type": "code", 
          "prompt_number": 3, 
          "language": "python", 
          "input": [
            "\n", 
            "#ImportModules\n", 
            "import ShareYourSystem as SYS\n", 
            "from ShareYourSystem.Applyiers import Mapper\n", 
            "\n", 
            "#Definition a Getter\n", 
            "MyMapper=Mapper.MapperClass().map(\n", 
            "    '__setitem__',\n", 
            "    [\n", 
            "        {'LiargVariablesList':['MyStr',\"Hello\"]},\n", 
            "        {'LiargVariablesList':['MyThirdStr',\"GutenTag\"]},\n", 
            "        {'LiargVariablesList':['map',\n", 
            "                                        {\n", 
            "                                            'LiargVariablesList':\n", 
            "                                            [\n", 
            "                                                '__setitem__',\n", 
            "                                                [\n", 
            "                                                    {\n", 
            "                                                        'LiargVariablesList':\n", 
            "                                                        ['MyInt',0]\n", 
            "                                                    },\n", 
            "                                                    {\n", 
            "                                                        'LiargVariablesList':\n", 
            "                                                        ['MyFloat',0.1]\n", 
            "                                                    }\n", 
            "                                                ]\n", 
            "                                            ]\n", 
            "                                        }\n", 
            "                                \n", 
            "                            ]},\n", 
            "        {'LiargVariablesList':['MyNotLostStr',\"ben he\"]},\n", 
            "    ]\n", 
            ")\n", 
            "    \n", 
            "#Definition the AttestedStr\n", 
            "SYS._attest(\n", 
            "    [\n", 
            "        'MyMapper is '+SYS._str(\n", 
            "        MyMapper,\n", 
            "        **{\n", 
            "            'RepresentingBaseKeyStrsListBool':False\n", 
            "        }\n", 
            "        )\n", 
            "    ]\n", 
            ")  \n", 
            "\n", 
            "#Print\n", 
            "\n", 
            "\n"
          ], 
          "outputs": [
            {
              "output_type": "stream", 
              "stream": "stdout", 
              "text": [
                "\n", 
                "\n", 
                "*****Start of the Attest *****\n", 
                "\n", 
                "MyMapper is < (MapperClass), 4556355152>\n", 
                "   /{ \n", 
                "   /  '<New><Instance>IdInt' : 4556355152\n", 
                "   /  '<New><Instance>MyFloat' : 0.1\n", 
                "   /  '<New><Instance>MyInt' : 0\n", 
                "   /  '<New><Instance>MyNotLostStr' : ben he\n", 
                "   /  '<New><Instance>MyStr' : Hello\n", 
                "   /  '<New><Instance>MyThirdStr' : GutenTag\n", 
                "   /  '<Spe><Instance>MappedVariablesList' : \n", 
                "   /   /[\n", 
                "   /   /  0 : {...}< (MapperClass), 4556355152>\n", 
                "   /   /  1 : {...}< (MapperClass), 4556355152>\n", 
                "   /   /  2 : {...}< (MapperClass), 4556355152>\n", 
                "   /   /  3 : {...}< (MapperClass), 4556355152>\n", 
                "   /   /]\n", 
                "   /  '<Spe><Instance>MappingApplyMethodStr' : __setitem__\n", 
                "   /  '<Spe><Instance>MappingArgDictsList' : \n", 
                "   /   /[\n", 
                "   /   /  0 : \n", 
                "   /   /   /{ \n", 
                "   /   /   /  'LiargVariablesList' : ['MyInt', 0]\n", 
                "   /   /   /}\n", 
                "   /   /  1 : \n", 
                "   /   /   /{ \n", 
                "   /   /   /  'LiargVariablesList' : ['MyFloat', 0.1]\n", 
                "   /   /   /}\n", 
                "   /   /]\n", 
                "   /}\n", 
                "\n", 
                "*****End of the Attest *****\n", 
                "\n", 
                "\n"
              ]
            }
          ], 
          "collapsed": false, 
          "metadata": {
            "slideshow": {
              "slide_type": "-"
            }
          }
        }
      ]
    }
  ], 
  "metadata": {
    "name": "", 
    "signature": ""
  }, 
  "nbformat_minor": 0
}