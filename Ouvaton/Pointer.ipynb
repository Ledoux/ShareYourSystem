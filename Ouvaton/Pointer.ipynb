{
  "nbformat": 3, 
  "worksheets": [
    {
      "cells": [
        {
          "source": "\n<!--\nFrozenIsBool False\n-->\n\n#Pointer\n\n##Doc\n----\n\n\n> \n> A Pointer \n> \n> \n\n----\n\n<small>\nView the Pointer notebook on [NbViewer](http://nbviewer.ipython.org/url/shareyoursystem.ouvaton.org/Pointer.ipynb)\n</small>\n\n", 
          "cell_type": "markdown", 
          "prompt_number": 0, 
          "metadata": {
            "slideshow": {
              "slide_type": "slide"
            }
          }
        }, 
        {
          "source": "\n<!--\nFrozenIsBool False\n-->\n\nView the Pointer sources on [Github](https://github.com/Ledoux/ShareYourSystem/tree/master/ShareYourSystem/Itemizers/Installer)\n\n", 
          "cell_type": "markdown", 
          "prompt_number": 1, 
          "metadata": {
            "slideshow": {
              "slide_type": "subslide"
            }
          }
        }, 
        {
          "source": "\n<!---\nFrozenIsBool True\n-->\n\n##Example\n\nLet's create an empty class, which will automatically receive\nspecial attributes from the decorating ClassorClass,\nspecially the NameStr, that should be the ClassStr\nwithout the TypeStr in the end.", 
          "cell_type": "markdown", 
          "prompt_number": 2, 
          "metadata": {
            "slideshow": {
              "slide_type": "subslide"
            }
          }
        }, 
        {
          "cell_type": "code", 
          "prompt_number": 3, 
          "language": "python", 
          "input": [
            "\n", 
            "#ImportModules\n", 
            "import ShareYourSystem as SYS\n", 
            "from ShareYourSystem.Itemizers import Pather,Pointer\n", 
            "\n", 
            "#Explicit expression\n", 
            "MyPointer=Pointer.PointerClass().__setitem__(\n", 
            "        'ChildPather',\n", 
            "        Pather.PatherClass().__setitem__(\n", 
            "            'GrandChildPather',\n", 
            "            Pather.PatherClass()\n", 
            "        )\n", 
            "    ).point(\n", 
            "            '/',\n", 
            "            '/ChildPather/GrandChildPather/GrandParentPointer'\n", 
            "    )\n", 
            "\n", 
            "#Return\n", 
            "SYS._attest(\n", 
            "    [\n", 
            "    'MyPointer is '+SYS._str(\n", 
            "            MyPointer,\n", 
            "            **{\n", 
            "                'RepresentingBaseKeyStrsListBool':False,\n", 
            "                'RepresentingAlineaIsBool':False\n", 
            "            }\n", 
            "        )\n", 
            "    ]\n", 
            ")\n", 
            "\n", 
            "#Print\n", 
            "\n", 
            "\n"
          ], 
          "outputs": [
            {
              "output_type": "stream", 
              "stream": "stdout", 
              "text": [
                "\n", 
                "\n", 
                "*****Start of the Attest *****\n", 
                "\n", 
                "MyPointer is < (PointerClass), 4348484496>\n", 
                "   /{ \n", 
                "   /  '<New><Instance>ChildPather' : < (PatherClass), 4348233936>\n", 
                "   /   /{ \n", 
                "   /   /  '<New><Instance>GrandChildPather' : < (PatherClass), 4348306064>\n", 
                "   /   /   /{ \n", 
                "   /   /   /  '<New><Instance>IdInt' : 4348306064\n", 
                "   /   /   /  '<Spe><Class>PathedChildKeyStr' : \n", 
                "   /   /   /  '<Spe><Class>PathedGetKeyStr' : \n", 
                "   /   /   /  '<Spe><Class>PathedKeyStrsList' : None\n", 
                "   /   /   /  '<Spe><Class>PathingKeyStr' : \n", 
                "   /   /   /}\n", 
                "   /   /  '<New><Instance>GrandChildPather/GrandParentPointer' : {...}< (PointerClass), 4348484496>\n", 
                "   /   /  '<New><Instance>IdInt' : 4348233936\n", 
                "   /   /  '<Spe><Class>PathedChildKeyStr' : \n", 
                "   /   /  '<Spe><Class>PathedGetKeyStr' : \n", 
                "   /   /  '<Spe><Class>PathedKeyStrsList' : None\n", 
                "   /   /  '<Spe><Class>PathingKeyStr' : \n", 
                "   /   /}\n", 
                "   /  '<New><Instance>IdInt' : 4348484496\n", 
                "   /  '<Spe><Class>PointedBackSetStr' : \n", 
                "   /  '<Spe><Class>PointedPathBackVariable' : \n", 
                "   /  '<Spe><Class>PointingBackSetStr' : \n", 
                "   /  '<Spe><Instance>PointedGetVariable' : {...}< (PointerClass), 4348484496>\n", 
                "   /  '<Spe><Instance>PointedLocalSetStr' : GrandParentPointer\n", 
                "   /  '<Spe><Instance>PointingGetVariable' : /\n", 
                "   /  '<Spe><Instance>PointingSetPathStr' : /ChildPather/GrandChildPather/GrandParentPointer\n", 
                "   /}\n", 
                "\n", 
                "*****End of the Attest *****\n", 
                "\n", 
                "\n"
              ]
            }
          ], 
          "collapsed": false, 
          "metadata": {
            "slideshow": {
              "slide_type": "-"
            }
          }
        }
      ]
    }
  ], 
  "metadata": {
    "name": "", 
    "signature": ""
  }, 
  "nbformat_minor": 0
}