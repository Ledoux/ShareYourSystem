{
 "metadata": {
  "name": ""
 },
 "nbformat": 3,
 "nbformat_minor": 0,
 "worksheets": [
  {
   "cells": [
    {
     "cell_type": "code",
     "collapsed": false,
     "input": [
      "#/*##################################/\n",
      "# SysModule, this is the first Module\n",
      "# to be installed for using the Sys\n",
      "# framework. This little piece of code\n",
      "# just helps here to relocalize every\n",
      "# customized written Modules in the\n",
      "# <%Thing%>Sys (placed anywhere\n",
      "# by the user) to be getted easily by the\n",
      "# deep-installed SysModule in\n",
      "# the Python lib site-packages\n",
      "#/##################################*/"
     ],
     "language": "python",
     "metadata": {},
     "outputs": []
    },
    {
     "cell_type": "markdown",
     "metadata": {},
     "source": [
      "#Install the SysModule"
     ]
    },
    {
     "cell_type": "markdown",
     "metadata": {},
     "source": [
      "On a Terminal :\n",
      "\n",
      "$pip install SysModule"
     ]
    },
    {
     "cell_type": "markdown",
     "metadata": {},
     "source": [
      "#Uninstall the SysModule"
     ]
    },
    {
     "cell_type": "markdown",
     "metadata": {},
     "source": [
      "On a Terminal :\n",
      "\n",
      "$pip uninstall SysModule"
     ]
    }
   ],
   "metadata": {}
  }
 ]
}