{
 "metadata": {
  "name": "",
  "signature": "sha256:08a99bcb853cfeac0d2a5018293716c5d79d38bfb899010ae8776156d1ed7f52"
 },
 "nbformat": 3,
 "nbformat_minor": 0,
 "worksheets": [
  {
   "cells": [
    {
     "cell_type": "code",
     "collapsed": false,
     "input": [
      "from IPython.display import HTML\n",
      "HTML('<iframe src=http://127.0.0.1:4200 width=1000 height=100></iframe>')"
     ],
     "language": "python",
     "metadata": {},
     "outputs": [
      {
       "html": [
        "<iframe src=http://127.0.0.1:4200 width=1000 height=100></iframe>"
       ],
       "metadata": {},
       "output_type": "pyout",
       "prompt_number": 1,
       "text": [
        "<IPython.core.display.HTML at 0x1061d5850>"
       ]
      }
     ],
     "prompt_number": 1
    },
    {
     "cell_type": "code",
     "collapsed": true,
     "input": [
      "from IPython.display import HTML\n",
      "HTML('<iframe src=http://127.0.0.1:3000 width=1000 height=500></iframe>')"
     ],
     "language": "python",
     "metadata": {},
     "outputs": [
      {
       "html": [
        "<iframe src=http://127.0.0.1:3000 width=1000 height=500></iframe>"
       ],
       "metadata": {},
       "output_type": "pyout",
       "prompt_number": 1,
       "text": [
        "<IPython.core.display.HTML at 0x1031fa850>"
       ]
      }
     ],
     "prompt_number": 1
    },
    {
     "cell_type": "code",
     "collapsed": false,
     "input": [
      "import ShareYourSystem as SYS\n",
      "MySystemer=SYS.SystemerClass().meteor(1050,500)\n",
      "MySystemer.system('mongo','coops','remove',{});\n",
      "MySystemer.system('mongo','boxes','remove',{});\n",
      "MySystemer.patch()\n",
      "\n",
      "#MySystemer.system('mongo','messages','insert',{'name':\"Erwan\",'message':\"Bonjour\"});\n",
      "#MySystemer.system('mongo','patches','remove',{});\n",
      "\n",
      "#MySystemer.system('mongo','patches','insert',{'PatchStr':\"Default\"});\n",
      "'''\n",
      "MySystemer.system('mongo','boxes','insert',\n",
      "                  {\n",
      "                    'BoxStr':\"FirstBox\",\n",
      "                    'IsNoderBool':True,\n",
      "                    'CollectionStr':'Systemers',\n",
      "                    'NodeKeyStr':'MySystemer',\n",
      "                    'PatchStr':'Default'\n",
      "                    }\n",
      "                  );\n",
      "'''\n",
      "#Definition an Tree instance\n",
      "'''\n",
      "MyPatcher=SYS.PatcherClass().produce(\n",
      "        'Components',\n",
      "        ['A','B'],\n",
      "        SYS.PatcherClass\n",
      "    )\n",
      "#.__setitem__(\n",
      "#        '<Components>APatcher/<Components>aPatcher',\n",
      "#        SYS.PatcherClass()\n",
      "#    ).patch()\n",
      "'''\n",
      "#MySystemer.patch('Default')\n",
      "#MySystemer.system('mongo','patches','insert',{'PatchStr':\"Default2\"});\n",
      "#MySystemer.system('mongo','patches','remove',{});\n",
      "#MySystemer.system('mongo','boxes','insert',{'name':\"SecondBox\",'IsNoderBool':True,'NodeKeyStr':'MySystemer','PatchStr':'Default2'});"
     ],
     "language": "python",
     "metadata": {},
     "outputs": [],
     "prompt_number": 2
    },
    {
     "cell_type": "code",
     "collapsed": false,
     "input": [],
     "language": "python",
     "metadata": {},
     "outputs": []
    },
    {
     "cell_type": "code",
     "collapsed": false,
     "input": [
      "from IPython.display import HTML\n",
      "HTML('<iframe src=http://127.0.0.1:3000/admin width=1050 height=400></iframe>')"
     ],
     "language": "python",
     "metadata": {},
     "outputs": [
      {
       "html": [
        "<iframe src=http://127.0.0.1:3000/admin width=1050 height=400></iframe>"
       ],
       "metadata": {},
       "output_type": "pyout",
       "prompt_number": 4,
       "text": [
        "<IPython.core.display.HTML at 0x10d002890>"
       ]
      }
     ],
     "prompt_number": 4
    },
    {
     "cell_type": "code",
     "collapsed": false,
     "input": [],
     "language": "python",
     "metadata": {},
     "outputs": []
    }
   ],
   "metadata": {}
  }
 ]
}