{
 "metadata": {
  "name": "",
  "signature": "sha256:9a533a17328fb1cd446b5c15bb65d763a029adb44bd18442c4649785d15e4d23"
 },
 "nbformat": 3,
 "nbformat_minor": 0,
 "worksheets": [
  {
   "cells": [
    {
     "cell_type": "code",
     "collapsed": false,
     "input": [
      "import ShareYourSystem as SYS\n",
      "ServerConsoler=SYS.ConsolerClass().console(1050,100)"
     ],
     "language": "python",
     "metadata": {},
     "outputs": [
      {
       "html": [
        "<h1>Server-side</h1><iframe id=\"Server\" width=\"1050\" height=\"100\" src=\"http://127.0.0.1:4200\" frameborder=\"1\"></iframe>"
       ],
       "metadata": {},
       "output_type": "display_data",
       "text": [
        "<IPython.core.display.HTML at 0x10c2dacd0>"
       ]
      }
     ],
     "prompt_number": 1
    },
    {
     "cell_type": "code",
     "collapsed": true,
     "input": [
      "import ShareYourSystem as SYS\n",
      "MySystemer=SYS.SystemerClass().meteor(1050,500)"
     ],
     "language": "python",
     "metadata": {},
     "outputs": [
      {
       "ename": "NameError",
       "evalue": "global name 'Boxer' is not defined",
       "output_type": "pyerr",
       "traceback": [
        "\u001b[0;31m---------------------------------------------------------------------------\u001b[0m\n\u001b[0;31mNameError\u001b[0m                                 Traceback (most recent call last)",
        "\u001b[0;32m<ipython-input-2-6f23a40577ac>\u001b[0m in \u001b[0;36m<module>\u001b[0;34m()\u001b[0m\n\u001b[1;32m      1\u001b[0m \u001b[0;32mimport\u001b[0m \u001b[0mShareYourSystem\u001b[0m \u001b[0;32mas\u001b[0m \u001b[0mSYS\u001b[0m\u001b[0;34m\u001b[0m\u001b[0m\n\u001b[0;32m----> 2\u001b[0;31m \u001b[0mMySystemer\u001b[0m\u001b[0;34m=\u001b[0m\u001b[0mSYS\u001b[0m\u001b[0;34m.\u001b[0m\u001b[0mSystemerClass\u001b[0m\u001b[0;34m(\u001b[0m\u001b[0;34m)\u001b[0m\u001b[0;34m.\u001b[0m\u001b[0mmeteor\u001b[0m\u001b[0;34m(\u001b[0m\u001b[0;36m1050\u001b[0m\u001b[0;34m,\u001b[0m\u001b[0;36m500\u001b[0m\u001b[0;34m)\u001b[0m\u001b[0;34m\u001b[0m\u001b[0m\n\u001b[0m",
        "\u001b[0;32m/usr/local/lib/python2.7/site-packages/ShareYourSystem/Classors/Defaultor/__init__.pyc\u001b[0m in \u001b[0;36msuperDefault_init\u001b[0;34m(_InstanceVariable, *_LiargVariablesList, **_KwargVariablesDict)\u001b[0m\n",
        "\u001b[0;32m/usr/local/lib/python2.7/site-packages/ShareYourSystem/Classors/Defaultor/__init__.pyc\u001b[0m in \u001b[0;36minitDefault\u001b[0;34m(_InstanceVariable, *_LiargVariablesList, **_KwargVariablesDict)\u001b[0m\n\u001b[1;32m    229\u001b[0m                 \u001b[0mDefaultWrapUnboundMethod\u001b[0m\u001b[0;34m(\u001b[0m\u001b[0m_InstanceVariable\u001b[0m\u001b[0;34m,\u001b[0m\u001b[0;34m*\u001b[0m\u001b[0m_LiargVariablesList\u001b[0m\u001b[0;34m,\u001b[0m\u001b[0;34m**\u001b[0m\u001b[0m_KwargVariablesDict\u001b[0m\u001b[0;34m)\u001b[0m\u001b[0;34m\u001b[0m\u001b[0m\n\u001b[1;32m    230\u001b[0m         \u001b[0;32mexcept\u001b[0m\u001b[0;34m:\u001b[0m\u001b[0;34m\u001b[0m\u001b[0m\n\u001b[0;32m--> 231\u001b[0;31m                 \u001b[0mDefaultWrapUnboundMethod\u001b[0m\u001b[0;34m(\u001b[0m\u001b[0m_InstanceVariable\u001b[0m\u001b[0;34m,\u001b[0m\u001b[0;34m*\u001b[0m\u001b[0m_LiargVariablesList\u001b[0m\u001b[0;34m)\u001b[0m\u001b[0;34m\u001b[0m\u001b[0m\n\u001b[0m\u001b[1;32m    232\u001b[0m \u001b[0;34m\u001b[0m\u001b[0m\n\u001b[1;32m    233\u001b[0m \u001b[0;31m#<DefineFunctions>\u001b[0m\u001b[0;34m\u001b[0m\u001b[0;34m\u001b[0m\u001b[0m\n",
        "\u001b[0;32m/usr/local/lib/python2.7/site-packages/ShareYourSystem/Controllers/Systemer/__init__.pyc\u001b[0m in \u001b[0;36mdefault_init\u001b[0;34m(self, _SystemingServerMethodStr, _SystemingServerCollectionStr, _SystemingHelperMethodStr, _SystemingCollectionDict, **_KwargVariablesDict)\u001b[0m\n\u001b[1;32m     47\u001b[0m \u001b[0;34m\u001b[0m\u001b[0m\n\u001b[1;32m     48\u001b[0m                 \u001b[0;31m#Call the parent init method\u001b[0m\u001b[0;34m\u001b[0m\u001b[0;34m\u001b[0m\u001b[0m\n\u001b[0;32m---> 49\u001b[0;31m                 \u001b[0mBaseClass\u001b[0m\u001b[0;34m.\u001b[0m\u001b[0m__init__\u001b[0m\u001b[0;34m(\u001b[0m\u001b[0mself\u001b[0m\u001b[0;34m,\u001b[0m\u001b[0;34m**\u001b[0m\u001b[0m_KwargVariablesDict\u001b[0m\u001b[0;34m)\u001b[0m\u001b[0;34m\u001b[0m\u001b[0m\n\u001b[0m\u001b[1;32m     50\u001b[0m \u001b[0;34m\u001b[0m\u001b[0m\n\u001b[1;32m     51\u001b[0m         \u001b[0;32mdef\u001b[0m \u001b[0mdo_system\u001b[0m\u001b[0;34m(\u001b[0m\u001b[0mself\u001b[0m\u001b[0;34m)\u001b[0m\u001b[0;34m:\u001b[0m\u001b[0;34m\u001b[0m\u001b[0m\n",
        "\u001b[0;32m/usr/local/lib/python2.7/site-packages/ShareYourSystem/Classors/Defaultor/__init__.pyc\u001b[0m in \u001b[0;36msuperDefault_init\u001b[0;34m(_InstanceVariable, *_LiargVariablesList, **_KwargVariablesDict)\u001b[0m\n",
        "\u001b[0;32m/usr/local/lib/python2.7/site-packages/ShareYourSystem/Classors/Defaultor/__init__.pyc\u001b[0m in \u001b[0;36minitDefault\u001b[0;34m(_InstanceVariable, *_LiargVariablesList, **_KwargVariablesDict)\u001b[0m\n\u001b[1;32m    229\u001b[0m                 \u001b[0mDefaultWrapUnboundMethod\u001b[0m\u001b[0;34m(\u001b[0m\u001b[0m_InstanceVariable\u001b[0m\u001b[0;34m,\u001b[0m\u001b[0;34m*\u001b[0m\u001b[0m_LiargVariablesList\u001b[0m\u001b[0;34m,\u001b[0m\u001b[0;34m**\u001b[0m\u001b[0m_KwargVariablesDict\u001b[0m\u001b[0;34m)\u001b[0m\u001b[0;34m\u001b[0m\u001b[0m\n\u001b[1;32m    230\u001b[0m         \u001b[0;32mexcept\u001b[0m\u001b[0;34m:\u001b[0m\u001b[0;34m\u001b[0m\u001b[0m\n\u001b[0;32m--> 231\u001b[0;31m                 \u001b[0mDefaultWrapUnboundMethod\u001b[0m\u001b[0;34m(\u001b[0m\u001b[0m_InstanceVariable\u001b[0m\u001b[0;34m,\u001b[0m\u001b[0;34m*\u001b[0m\u001b[0m_LiargVariablesList\u001b[0m\u001b[0;34m)\u001b[0m\u001b[0;34m\u001b[0m\u001b[0m\n\u001b[0m\u001b[1;32m    232\u001b[0m \u001b[0;34m\u001b[0m\u001b[0m\n\u001b[1;32m    233\u001b[0m \u001b[0;31m#<DefineFunctions>\u001b[0m\u001b[0;34m\u001b[0m\u001b[0;34m\u001b[0m\u001b[0m\n",
        "\u001b[0;32m/usr/local/lib/python2.7/site-packages/ShareYourSystem/Controllers/Patcher/__init__.pyc\u001b[0m in \u001b[0;36mdefault_init\u001b[0;34m(self, _PatchingKeyStr, _PatchedDerivePatchersList, **_KwargVariablesDict)\u001b[0m\n\u001b[1;32m     45\u001b[0m                                                 \u001b[0;34m'Views'\u001b[0m\u001b[0;34m,\u001b[0m\u001b[0;34m\u001b[0m\u001b[0m\n\u001b[1;32m     46\u001b[0m                                                 \u001b[0;34m'Instance'\u001b[0m\u001b[0;34m,\u001b[0m\u001b[0;34m\u001b[0m\u001b[0m\n\u001b[0;32m---> 47\u001b[0;31m                                                 \u001b[0mBoxer\u001b[0m\u001b[0;34m.\u001b[0m\u001b[0mBoxerClass\u001b[0m\u001b[0;34m(\u001b[0m\u001b[0;34m)\u001b[0m\u001b[0;34m\u001b[0m\u001b[0m\n\u001b[0m\u001b[1;32m     48\u001b[0m \t\t\t\t\t);\n\u001b[1;32m     49\u001b[0m \u001b[0;34m\u001b[0m\u001b[0m\n",
        "\u001b[0;31mNameError\u001b[0m: global name 'Boxer' is not defined"
       ]
      }
     ],
     "prompt_number": 2
    },
    {
     "cell_type": "code",
     "collapsed": false,
     "input": [
      "#MySystemer.system('mongo','messages','insert',{'name':\"Erwan\",'message':\"Bonjour\"});\n",
      "#MySystemer.system('mongo','patches','remove',{});\n",
      "MySystemer.system('mongo','boxes','remove',{});\n",
      "#MySystemer.system('mongo','patches','insert',{'PatchStr':\"Default\"});\n",
      "MySystemer.system('mongo','boxes','insert',\n",
      "                  {\n",
      "                    'BoxStr':\"FirstBox\",\n",
      "                    'IsNoderBool':True,\n",
      "                    'CollectionStr':'Systemers',\n",
      "                    'NodeKeyStr':'MySystemer',\n",
      "                    'PatchStr':'Default'\n",
      "                    }\n",
      "                  );\n",
      "MySystemer.collect('Components','First',SYS.SystemerClass()).patch('Default')\n",
      "#MySystemer.system('mongo','patches','insert',{'PatchStr':\"Default2\"});\n",
      "#MySystemer.system('mongo','patches','remove',{});\n",
      "#MySystemer.system('mongo','boxes','insert',{'name':\"SecondBox\",'IsNoderBool':True,'NodeKeyStr':'MySystemer','PatchStr':'Default2'});"
     ],
     "language": "python",
     "metadata": {},
     "outputs": [
      {
       "ename": "NameError",
       "evalue": "name 'MySystemer' is not defined",
       "output_type": "pyerr",
       "traceback": [
        "\u001b[0;31m---------------------------------------------------------------------------\u001b[0m\n\u001b[0;31mNameError\u001b[0m                                 Traceback (most recent call last)",
        "\u001b[0;32m<ipython-input-1-01091aef1a49>\u001b[0m in \u001b[0;36m<module>\u001b[0;34m()\u001b[0m\n\u001b[1;32m      1\u001b[0m \u001b[0;31m#MySystemer.system('mongo','messages','insert',{'name':\"Erwan\",'message':\"Bonjour\"});\u001b[0m\u001b[0;34m\u001b[0m\u001b[0;34m\u001b[0m\u001b[0m\n\u001b[1;32m      2\u001b[0m \u001b[0;31m#MySystemer.system('mongo','patches','remove',{});\u001b[0m\u001b[0;34m\u001b[0m\u001b[0;34m\u001b[0m\u001b[0m\n\u001b[0;32m----> 3\u001b[0;31m \u001b[0mMySystemer\u001b[0m\u001b[0;34m.\u001b[0m\u001b[0msystem\u001b[0m\u001b[0;34m(\u001b[0m\u001b[0;34m'mongo'\u001b[0m\u001b[0;34m,\u001b[0m\u001b[0;34m'boxes'\u001b[0m\u001b[0;34m,\u001b[0m\u001b[0;34m'remove'\u001b[0m\u001b[0;34m,\u001b[0m\u001b[0;34m{\u001b[0m\u001b[0;34m}\u001b[0m\u001b[0;34m)\u001b[0m\u001b[0;34m;\u001b[0m\u001b[0;34m\u001b[0m\u001b[0m\n\u001b[0m\u001b[1;32m      4\u001b[0m \u001b[0;31m#MySystemer.system('mongo','patches','insert',{'PatchStr':\"Default\"});\u001b[0m\u001b[0;34m\u001b[0m\u001b[0;34m\u001b[0m\u001b[0m\n\u001b[1;32m      5\u001b[0m MySystemer.system('mongo','boxes','insert',\n",
        "\u001b[0;31mNameError\u001b[0m: name 'MySystemer' is not defined"
       ]
      }
     ],
     "prompt_number": 1
    },
    {
     "cell_type": "code",
     "collapsed": false,
     "input": [],
     "language": "python",
     "metadata": {},
     "outputs": []
    },
    {
     "cell_type": "code",
     "collapsed": false,
     "input": [
      "from IPython.display import HTML\n",
      "HTML('<iframe src=http://127.0.0.1:3000/admin width=1050 height=400></iframe>')"
     ],
     "language": "python",
     "metadata": {},
     "outputs": [
      {
       "html": [
        "<iframe src=http://127.0.0.1:3000/admin width=1050 height=400></iframe>"
       ],
       "metadata": {},
       "output_type": "pyout",
       "prompt_number": 4,
       "text": [
        "<IPython.core.display.HTML at 0x10d002890>"
       ]
      }
     ],
     "prompt_number": 4
    },
    {
     "cell_type": "code",
     "collapsed": false,
     "input": [],
     "language": "python",
     "metadata": {},
     "outputs": []
    }
   ],
   "metadata": {}
  }
 ]
}