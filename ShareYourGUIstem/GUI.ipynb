{
 "metadata": {
  "name": "",
  "signature": "sha256:a1c786ea13e59637e716bd934ec3eeadd5c3de28251448753048c81d1428dade"
 },
 "nbformat": 3,
 "nbformat_minor": 0,
 "worksheets": [
  {
   "cells": [
    {
     "cell_type": "code",
     "collapsed": false,
     "input": [
      "import ShareYourSystem as SYS\n",
      "SYS.setMVC()\n",
      "ServerConsoler=SYS.ConsolerClass().console(1050,100)"
     ],
     "language": "python",
     "metadata": {},
     "outputs": [
      {
       "html": [
        "<h1>Server-side</h1><iframe id=\"Server\" width=\"1050\" height=\"100\" src=\"http://127.0.0.1:4200\" frameborder=\"1\"></iframe>"
       ],
       "metadata": {},
       "output_type": "display_data",
       "text": [
        "<IPython.core.display.HTML at 0x10a2f06d0>"
       ]
      }
     ],
     "prompt_number": 1
    },
    {
     "cell_type": "code",
     "collapsed": false,
     "input": [
      "import ShareYourSystem as SYS\n",
      "SYS.setGUI(1050,400)"
     ],
     "language": "python",
     "metadata": {},
     "outputs": [
      {
       "html": [
        "<h1>Client-side</h1><iframe id=\"Client\" width=\"1050\" height=\"400\" src=\"http://127.0.0.1:3000\" frameborder=\"1\"></iframe>"
       ],
       "metadata": {},
       "output_type": "display_data",
       "text": [
        "<IPython.core.display.HTML at 0x104f88cd0>"
       ]
      }
     ],
     "prompt_number": 3
    },
    {
     "cell_type": "code",
     "collapsed": false,
     "input": [
      "SYS.GUIViewer.MeteoredConcurrentDDPClientVariable.call('control','messages','insert',{'name':\"Erwan\",'message':\"Salut\"})"
     ],
     "language": "python",
     "metadata": {},
     "outputs": [
      {
       "metadata": {},
       "output_type": "pyout",
       "prompt_number": 6,
       "text": [
        "<ddp.pubsub.future.Future at 0x104f82290>"
       ]
      }
     ],
     "prompt_number": 6
    },
    {
     "cell_type": "code",
     "collapsed": false,
     "input": [
      "import ShareYourSystem as SYS\n",
      "SYS.setMVC()\n",
      "TopController=SYS.ControllerClass().produce(['First','Second'],**{'CollectingCollectionStr':'Children'}).\n",
      "print(TopController)"
     ],
     "language": "python",
     "metadata": {},
     "outputs": [
      {
       "output_type": "stream",
       "stream": "stdout",
       "text": [
        "< (ControllerClass), 4405333008>\n",
        "   /{ \n",
        "   /  '<New><Instance>ChildrenCollectionOrderedDict' : \n",
        "   /   /{ \n",
        "   /   /  'FirstNoder' : < (NoderClass), 4405333200>\n",
        "   /   /   /{ \n",
        "   /   /   /  '<New><Instance>IdInt' : 4405333200\n",
        "   /   /   /  '<New><Instance>NodeCollectionStr' : Children\n",
        "   /   /   /  '<New><Instance>NodeIndexInt' : 0\n",
        "   /   /   /  '<New><Instance>NodeKeyStr' : FirstNoder\n",
        "   /   /   /  '<New><Instance>NodePointDeriveNoder' : < (ControllerClass), 4405333008>\n",
        "   /   /   /   /{ \n",
        "   /   /   /   /  '<New><Instance>ChildrenCollectionOrderedDict' : {...}< (OrderedDict), 4405244576>\n",
        "   /   /   /   /  '<New><Instance>IdInt' : 4405333008\n",
        "   /   /   /   /  '<New><Instance>NewtorkAttentionStr' : \n",
        "   /   /   /   /  '<New><Instance>NewtorkCatchStr' : \n",
        "   /   /   /   /  '<New><Instance>NewtorkCollectionStr' : \n",
        "   /   /   /   /  '<New><Instance>NodeCollectionStr' : Globals\n",
        "   /   /   /   /  '<New><Instance>NodeIndexInt' : -1\n",
        "   /   /   /   /  '<New><Instance>NodeKeyStr' : TopController\n",
        "   /   /   /   /  '<New><Instance>NodePointDeriveNoder' : None\n",
        "   /   /   /   /  '<New><Instance>NodePointOrderedDict' : None\n",
        "   /   /   /   /}\n",
        "   /   /   /  '<New><Instance>NodePointOrderedDict' : {...}< (OrderedDict), 4405244576>\n",
        "   /   /   /  '<Spe><Class>NodedCollectionIndexInt' : -1\n",
        "   /   /   /  '<Spe><Class>NodedCollectionOrderedDict' : None\n",
        "   /   /   /  '<Spe><Class>NodedCollectionStr' : \n",
        "   /   /   /  '<Spe><Class>NodedKeyStr' : \n",
        "   /   /   /  '<Spe><Class>NodingCollectionStr' : \n",
        "   /   /   /}\n",
        "   /   /  'SecondNoder' : < (NoderClass), 4405333136>\n",
        "   /   /   /{ \n",
        "   /   /   /  '<New><Instance>IdInt' : 4405333136\n",
        "   /   /   /  '<New><Instance>NodeCollectionStr' : Children\n",
        "   /   /   /  '<New><Instance>NodeIndexInt' : 1\n",
        "   /   /   /  '<New><Instance>NodeKeyStr' : SecondNoder\n",
        "   /   /   /  '<New><Instance>NodePointDeriveNoder' : {...}< (ControllerClass), 4405333008>\n",
        "   /   /   /  '<New><Instance>NodePointOrderedDict' : {...}< (OrderedDict), 4405244576>\n",
        "   /   /   /  '<Spe><Class>NodedCollectionIndexInt' : -1\n",
        "   /   /   /  '<Spe><Class>NodedCollectionOrderedDict' : None\n",
        "   /   /   /  '<Spe><Class>NodedCollectionStr' : \n",
        "   /   /   /  '<Spe><Class>NodedKeyStr' : \n",
        "   /   /   /  '<Spe><Class>NodingCollectionStr' : \n",
        "   /   /   /}\n",
        "   /   /}\n",
        "   /  '<New><Instance>IdInt' : 4405333008\n",
        "   /  '<New><Instance>NewtorkAttentionStr' : \n",
        "   /  '<New><Instance>NewtorkCatchStr' : \n",
        "   /  '<New><Instance>NewtorkCollectionStr' : \n",
        "   /  '<New><Instance>NodeCollectionStr' : Globals\n",
        "   /  '<New><Instance>NodeIndexInt' : -1\n",
        "   /  '<New><Instance>NodeKeyStr' : TopController\n",
        "   /  '<New><Instance>NodePointDeriveNoder' : None\n",
        "   /  '<New><Instance>NodePointOrderedDict' : None\n",
        "   /}\n"
       ]
      }
     ],
     "prompt_number": 10
    },
    {
     "cell_type": "code",
     "collapsed": false,
     "input": [],
     "language": "python",
     "metadata": {},
     "outputs": []
    }
   ],
   "metadata": {}
  }
 ]
}