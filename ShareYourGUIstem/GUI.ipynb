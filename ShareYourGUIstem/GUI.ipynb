{
 "metadata": {
  "name": "",
  "signature": "sha256:bfac7e97eb21f9396dd909e5af1ccf34e69879e5bf58607f6b7f6910afb4cf17"
 },
 "nbformat": 3,
 "nbformat_minor": 0,
 "worksheets": [
  {
   "cells": [
    {
     "cell_type": "code",
     "collapsed": false,
     "input": [
      "import ShareYourSystem as SYS\n",
      "SYS.setGUI()\n",
      "ServerConsoler=SYS.ConsolerClass().console(1050,100)"
     ],
     "language": "python",
     "metadata": {},
     "outputs": [
      {
       "html": [
        "<h1>Server-side</h1><iframe id=\"Server\" width=\"1050\" height=\"100\" src=\"http://127.0.0.1:4200\" frameborder=\"1\"></iframe>"
       ],
       "metadata": {},
       "output_type": "display_data",
       "text": [
        "<IPython.core.display.HTML at 0x10e1f7490>"
       ]
      }
     ],
     "prompt_number": 1
    },
    {
     "cell_type": "code",
     "collapsed": true,
     "input": [
      "import ShareYourSystem as SYS\n",
      "SYS.setGUI()\n",
      "MySystemer=SYS.SystemerClass().meteor(\"MySystemer\",1050,400)"
     ],
     "language": "python",
     "metadata": {},
     "outputs": [
      {
       "html": [
        "<h1>Client-side</h1><iframe id=\"Client\" width=\"1050\" height=\"400\" src=\"http://127.0.0.1:3000\" frameborder=\"1\"></iframe>"
       ],
       "metadata": {},
       "output_type": "display_data",
       "text": [
        "<IPython.core.display.HTML at 0x10e250d10>"
       ]
      }
     ],
     "prompt_number": 2
    },
    {
     "cell_type": "code",
     "collapsed": false,
     "input": [
      "MySystemer.system('control','boxes','remove',{});\n",
      "MySystemer.system('control','boxes','insert',{'name':\"MyBox\",'IsNoderBool':True,'NodeKeyStr':'MySystemer'});"
     ],
     "language": "python",
     "metadata": {},
     "outputs": [],
     "prompt_number": 17
    },
    {
     "cell_type": "code",
     "collapsed": false,
     "input": [],
     "language": "python",
     "metadata": {},
     "outputs": []
    }
   ],
   "metadata": {}
  }
 ]
}