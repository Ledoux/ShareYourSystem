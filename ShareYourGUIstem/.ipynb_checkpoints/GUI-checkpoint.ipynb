{
 "metadata": {
  "name": "",
  "signature": "sha256:c06b046ef028e2517f66bb6928da7421133684d27f35da8df0738df859e88dd8"
 },
 "nbformat": 3,
 "nbformat_minor": 0,
 "worksheets": [
  {
   "cells": [
    {
     "cell_type": "code",
     "collapsed": false,
     "input": [
      "import ShareYourSystem as SYS\n",
      "ServerConsoler=SYS.ConsolerClass().console(1050,100)"
     ],
     "language": "python",
     "metadata": {},
     "outputs": [
      {
       "html": [
        "<h1>Server-side</h1><iframe id=\"Server\" width=\"1050\" height=\"100\" src=\"http://127.0.0.1:4200\" frameborder=\"1\"></iframe>"
       ],
       "metadata": {},
       "output_type": "display_data",
       "text": [
        "<IPython.core.display.HTML at 0x10c2dacd0>"
       ]
      }
     ],
     "prompt_number": 1
    },
    {
     "cell_type": "code",
     "collapsed": true,
     "input": [
      "import ShareYourSystem as SYS\n",
      "MySystemer=SYS.SystemerClass().meteor(1050,500)"
     ],
     "language": "python",
     "metadata": {},
     "outputs": [
      {
       "html": [
        "<h1>Client-side</h1><iframe id=\"Client\" width=\"1050\" height=\"500\" src=\"http://127.0.0.1:3000\" frameborder=\"1\"></iframe>"
       ],
       "metadata": {},
       "output_type": "display_data",
       "text": [
        "<IPython.core.display.HTML at 0x10e848750>"
       ]
      }
     ],
     "prompt_number": 8
    },
    {
     "cell_type": "code",
     "collapsed": false,
     "input": [
      "#MySystemer.system('mongo','messages','insert',{'name':\"Erwan\",'message':\"Bonjour\"});\n",
      "#MySystemer.system('mongo','patches','remove',{});\n",
      "MySystemer.system('mongo','boxes','remove',{});\n",
      "#MySystemer.system('mongo','patches','insert',{'PatchStr':\"Default\"});\n",
      "MySystemer.system('mongo','boxes','insert',\n",
      "                  {\n",
      "                    'BoxStr':\"FirstBox\",\n",
      "                    'IsNoderBool':True,\n",
      "                    'CollectionStr':'Systemers',\n",
      "                    'NodeKeyStr':'MySystemer',\n",
      "                    'PatchStr':'Default'\n",
      "                    }\n",
      "                  );\n",
      "MySystemer.collect('Components','First',SYS.SystemerClass()).patch('Default')\n",
      "#MySystemer.system('mongo','patches','insert',{'PatchStr':\"Default2\"});\n",
      "#MySystemer.system('mongo','patches','remove',{});\n",
      "#MySystemer.system('mongo','boxes','insert',{'name':\"SecondBox\",'IsNoderBool':True,'NodeKeyStr':'MySystemer','PatchStr':'Default2'});"
     ],
     "language": "python",
     "metadata": {},
     "outputs": [
      {
       "ename": "TypeError",
       "evalue": "do_patch() takes exactly 1 argument (2 given)",
       "output_type": "pyerr",
       "traceback": [
        "\u001b[0;31m---------------------------------------------------------------------------\u001b[0m\n\u001b[0;31mTypeError\u001b[0m                                 Traceback (most recent call last)",
        "\u001b[0;32m<ipython-input-13-5e5a90ff6bcc>\u001b[0m in \u001b[0;36m<module>\u001b[0;34m()\u001b[0m\n\u001b[1;32m     12\u001b[0m                     }\n\u001b[1;32m     13\u001b[0m                   );\n\u001b[0;32m---> 14\u001b[0;31m \u001b[0mMySystemer\u001b[0m\u001b[0;34m.\u001b[0m\u001b[0mpatch\u001b[0m\u001b[0;34m(\u001b[0m\u001b[0;34m'Default'\u001b[0m\u001b[0;34m)\u001b[0m\u001b[0;34m\u001b[0m\u001b[0m\n\u001b[0m\u001b[1;32m     15\u001b[0m \u001b[0;31m#MySystemer.system('mongo','patches','insert',{'PatchStr':\"Default2\"});\u001b[0m\u001b[0;34m\u001b[0m\u001b[0;34m\u001b[0m\u001b[0m\n\u001b[1;32m     16\u001b[0m \u001b[0;31m#MySystemer.system('mongo','patches','remove',{});\u001b[0m\u001b[0;34m\u001b[0m\u001b[0;34m\u001b[0m\u001b[0m\n",
        "\u001b[0;32m/usr/local/lib/python2.7/site-packages/ShareYourSystem/Classors/Doer/__init__.pyc\u001b[0m in \u001b[0;36msuperDo_patch\u001b[0;34m(_InstanceVariable, *_LiargVariablesList, **_KwargVariablesDict)\u001b[0m\n",
        "\u001b[0;32m/usr/local/lib/python2.7/site-packages/ShareYourSystem/Classors/Doer/__init__.pyc\u001b[0m in \u001b[0;36mdo\u001b[0;34m(_InstanceVariable, *_LiargVariablesList, **_KwargVariablesDict)\u001b[0m\n\u001b[1;32m    208\u001b[0m \t\treturn DoWrapUnboundMethod(\n\u001b[1;32m    209\u001b[0m                         \u001b[0m_InstanceVariable\u001b[0m\u001b[0;34m,\u001b[0m\u001b[0;34m\u001b[0m\u001b[0m\n\u001b[0;32m--> 210\u001b[0;31m                         \u001b[0;34m*\u001b[0m\u001b[0m_LiargVariablesList\u001b[0m\u001b[0;34m\u001b[0m\u001b[0m\n\u001b[0m\u001b[1;32m    211\u001b[0m \t\t)\n\u001b[1;32m    212\u001b[0m \u001b[0;31m#</DefineFunctions>\u001b[0m\u001b[0;34m\u001b[0m\u001b[0;34m\u001b[0m\u001b[0m\n",
        "\u001b[0;31mTypeError\u001b[0m: do_patch() takes exactly 1 argument (2 given)"
       ]
      }
     ],
     "prompt_number": 13
    },
    {
     "cell_type": "code",
     "collapsed": false,
     "input": [],
     "language": "python",
     "metadata": {},
     "outputs": []
    },
    {
     "cell_type": "code",
     "collapsed": false,
     "input": [
      "from IPython.display import HTML\n",
      "HTML('<iframe src=http://127.0.0.1:3000/admin width=1050 height=400></iframe>')"
     ],
     "language": "python",
     "metadata": {},
     "outputs": [
      {
       "html": [
        "<iframe src=http://127.0.0.1:3000/admin width=1050 height=400></iframe>"
       ],
       "metadata": {},
       "output_type": "pyout",
       "prompt_number": 4,
       "text": [
        "<IPython.core.display.HTML at 0x10d002890>"
       ]
      }
     ],
     "prompt_number": 4
    },
    {
     "cell_type": "code",
     "collapsed": false,
     "input": [],
     "language": "python",
     "metadata": {},
     "outputs": []
    }
   ],
   "metadata": {}
  }
 ]
}