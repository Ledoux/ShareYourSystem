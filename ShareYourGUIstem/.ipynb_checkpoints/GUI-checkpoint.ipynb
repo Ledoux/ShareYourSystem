{
 "metadata": {
  "name": "",
  "signature": "sha256:8927972db7ff6de9998335df7e56defb6095b1c898aeef8b995784855931762a"
 },
 "nbformat": 3,
 "nbformat_minor": 0,
 "worksheets": [
  {
   "cells": [
    {
     "cell_type": "code",
     "collapsed": false,
     "input": [
      "import ShareYourSystem as SYS\n",
      "SYS.setMVC()\n",
      "ServerConsoler=SYS.ConsolerClass().console(1050,100)"
     ],
     "language": "python",
     "metadata": {},
     "outputs": [
      {
       "html": [
        "<h1>Server-side</h1><iframe id=\"Server\" width=\"1050\" height=\"100\" src=\"http://127.0.0.1:4200\" frameborder=\"1\"></iframe>"
       ],
       "metadata": {},
       "output_type": "display_data",
       "text": [
        "<IPython.core.display.HTML at 0x10a2f06d0>"
       ]
      }
     ],
     "prompt_number": 1
    },
    {
     "cell_type": "code",
     "collapsed": false,
     "input": [
      "import ShareYourSystem as SYS\n",
      "SYS.setGUI(1050,400)"
     ],
     "language": "python",
     "metadata": {},
     "outputs": [
      {
       "html": [
        "<h1>Client-side</h1><iframe id=\"Client\" width=\"1050\" height=\"400\" src=\"http://127.0.0.1:3000\" frameborder=\"1\"></iframe>"
       ],
       "metadata": {},
       "output_type": "display_data",
       "text": [
        "<IPython.core.display.HTML at 0x104f88cd0>"
       ]
      }
     ],
     "prompt_number": 3
    },
    {
     "cell_type": "code",
     "collapsed": false,
     "input": [
      "SYS.GUIViewer.MeteoredConcurrentDDPClientVariable.call('control','messages','insert',{'name':\"Erwan\",'message':\"Salut\"})"
     ],
     "language": "python",
     "metadata": {},
     "outputs": [
      {
       "metadata": {},
       "output_type": "pyout",
       "prompt_number": 6,
       "text": [
        "<ddp.pubsub.future.Future at 0x104f82290>"
       ]
      }
     ],
     "prompt_number": 6
    },
    {
     "cell_type": "code",
     "collapsed": false,
     "input": [
      "SYS.ControllerClass()"
     ],
     "language": "python",
     "metadata": {},
     "outputs": [
      {
       "metadata": {},
       "output_type": "pyout",
       "prompt_number": 4,
       "text": [
        "< (ControllerClass), 4367297296>\n",
        "   /{ \n",
        "   /  '<New><Instance>IdInt' : 4367297296\n",
        "   /  '<New><Instance>NewtorkAttentionStr' : \n",
        "   /  '<New><Instance>NewtorkCatchStr' : \n",
        "   /  '<New><Instance>NewtorkCollectionStr' : \n",
        "   /  '<New><Instance>NodeCollectionStr' : Globals\n",
        "   /  '<New><Instance>NodeIndexInt' : -1\n",
        "   /  '<New><Instance>NodeKeyStr' : TopController\n",
        "   /  '<New><Instance>NodePointDeriveNoder' : None\n",
        "   /  '<New><Instance>NodePointOrderedDict' : None\n",
        "   /}"
       ]
      }
     ],
     "prompt_number": 4
    },
    {
     "cell_type": "code",
     "collapsed": false,
     "input": [],
     "language": "python",
     "metadata": {},
     "outputs": []
    }
   ],
   "metadata": {}
  }
 ]
}