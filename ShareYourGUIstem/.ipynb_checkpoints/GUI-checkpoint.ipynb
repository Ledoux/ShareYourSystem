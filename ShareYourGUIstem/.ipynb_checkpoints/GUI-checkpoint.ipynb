{
 "metadata": {
  "name": "",
  "signature": "sha256:af4a92d3e39ca6db88aa76700240063119f2c25c3c89b466b68fe5b0edbe222f"
 },
 "nbformat": 3,
 "nbformat_minor": 0,
 "worksheets": [
  {
   "cells": [
    {
     "cell_type": "code",
     "collapsed": false,
     "input": [
      "import ShareYourSystem as SYS\n",
      "SYS.setGUI()\n",
      "ServerConsoler=SYS.ConsolerClass().console(1050,100)"
     ],
     "language": "python",
     "metadata": {},
     "outputs": [
      {
       "html": [
        "<h1>Server-side</h1><iframe id=\"Server\" width=\"1050\" height=\"100\" src=\"http://127.0.0.1:4200\" frameborder=\"1\"></iframe>"
       ],
       "metadata": {},
       "output_type": "display_data",
       "text": [
        "<IPython.core.display.HTML at 0x110c6d450>"
       ]
      }
     ],
     "prompt_number": 1
    },
    {
     "cell_type": "code",
     "collapsed": false,
     "input": [
      "import ShareYourSystem as SYS\n",
      "SYS.setGUI()\n",
      "MySystemer=SYS.SystemerClass().meteor(1050,400)"
     ],
     "language": "python",
     "metadata": {},
     "outputs": [
      {
       "html": [
        "<h1>Client-side</h1><iframe id=\"Client\" width=\"1050\" height=\"400\" src=\"http://127.0.0.1:3000\" frameborder=\"1\"></iframe>"
       ],
       "metadata": {},
       "output_type": "display_data",
       "text": [
        "<IPython.core.display.HTML at 0x1125cb190>"
       ]
      }
     ],
     "prompt_number": 6
    },
    {
     "cell_type": "code",
     "collapsed": false,
     "input": [
      "MySystemer.system('control','boxes','remove',{});\n",
      "MySystemer.system('control','boxes','insert',{'name':\"MyBox\",'isInstance':True});"
     ],
     "language": "python",
     "metadata": {},
     "outputs": [],
     "prompt_number": 12
    },
    {
     "cell_type": "code",
     "collapsed": false,
     "input": [],
     "language": "python",
     "metadata": {},
     "outputs": []
    }
   ],
   "metadata": {}
  }
 ]
}