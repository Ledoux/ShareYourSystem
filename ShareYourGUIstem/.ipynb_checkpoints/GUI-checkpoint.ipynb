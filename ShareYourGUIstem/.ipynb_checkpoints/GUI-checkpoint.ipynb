{
 "metadata": {
  "name": "",
  "signature": "sha256:cc91bd257d4fd087cea9ad725c5d5d165d5097795511694040c4964ab2ca10dc"
 },
 "nbformat": 3,
 "nbformat_minor": 0,
 "worksheets": [
  {
   "cells": [
    {
     "cell_type": "code",
     "collapsed": false,
     "input": [
      "import ShareYourSystem as SYS\n",
      "from ShareYourSystem.Meteorers import Viewer\n",
      "#GUIViewer=Viewer.ViewerClass().view()\n",
      "SYS.GUI(**{'ViewingWidthInt':1500,'ViewingHeightInt':400})"
     ],
     "language": "python",
     "metadata": {},
     "outputs": [
      {
       "html": [
        "<iframe width=\"1500\" height=\"400\" src=\"http://127.0.0.1:3000\" frameborder=\"0\" allowfullscreen></iframe>"
       ],
       "metadata": {},
       "output_type": "display_data",
       "text": [
        "<IPython.core.display.HTML at 0x112e8f090>"
       ]
      }
     ],
     "prompt_number": 9
    },
    {
     "cell_type": "code",
     "collapsed": false,
     "input": [
      "#GUIViewer.MeteoredConcurrentDDPClientVariable.call\n",
      "#SYS.GUI('control','messages','insert',{'name':\"Alain\",'message':\"Salut\"})\n",
      "#SYS.GUI('control','messages','remove',{})\n",
      "SYS.GUI('control','boxes','insert',{'x':200,'y':150})\n",
      "SYS.GUI('control','boxes','remove',{})"
     ],
     "language": "python",
     "metadata": {},
     "outputs": [],
     "prompt_number": 10
    },
    {
     "cell_type": "code",
     "collapsed": false,
     "input": [],
     "language": "python",
     "metadata": {},
     "outputs": []
    }
   ],
   "metadata": {}
  }
 ]
}